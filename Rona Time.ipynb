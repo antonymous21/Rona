{
 "cells": [
  {
   "cell_type": "markdown",
   "metadata": {},
   "source": [
    "# Flattening the Curve: Mathematical Modeling of COVID-19 Data\n",
    "\n",
    "<br><br>\n",
    "**Anton Zverev**\n",
    "\n",
    "Last edited: 05/10/20\n",
    "\n",
    "\n",
    "---"
   ]
  },
  {
   "cell_type": "markdown",
   "metadata": {},
   "source": [
    "## How to use this notebook\n",
    "\n",
    "In this notebook I've tried to create a user-friendly introduction to mathematical modeling of coronavirus data. The goal is *not* to draw conclusions about how fast coronavirus spreads, but instead to figure out what kind of model best describes case data. The process is broken down into several parts:\n",
    "   1. [Importing the data](#sec1),\n",
    "   2. [Seeing what the data looks like](#sec2),\n",
    "   3. [Establishing terminology](#sec3),\n",
    "   4. [Exploring what types of models might be useful](#sec4),\n",
    "   5. [Fitting data to the models](#sec5),\n",
    "   6. [Comparing them](#sec6), and finally\n",
    "   7. [Visualizing the results](#sec7).\n",
    "\n",
    "If you're viewing this notebook in `nbviewer`, all of the code cells are hidden by default to make reading easier. **You can toggle this feature by clicking the </> button (show/hide code) in the top right corner of your browser.**\n",
    "\n",
    "You can also download this notebook (either directly from nbviewer or from [github](https://github.com/antonymous21/Rona)) and run it locally, which will allow you to fit the most current data. Running the notebook yourself will also enable an interactive widget in Part 7, which lets you visualize the data and the models for any country, US state, model type, and length of time.\n",
    "\n",
    "All of the graphs in this notebook are created using [plotly](https://plotly.com/python/), which means that you can zoom, pan, trace, and hover on any plot right in your web browser. And, although nbviewer works on mobile, I recommend viewing on your desktop for the graphs to render properly.\n",
    "\n",
    "---"
   ]
  },
  {
   "cell_type": "markdown",
   "metadata": {},
   "source": [
    "<a id='sec1'></a>"
   ]
  },
  {
   "cell_type": "markdown",
   "metadata": {},
   "source": [
    "## 1. Data Importation & Cleaning\n",
    "<a id='sec1'></a>"
   ]
  },
  {
   "cell_type": "code",
   "execution_count": 1,
   "metadata": {},
   "outputs": [
    {
     "data": {
      "text/html": [
       "        <script type=\"text/javascript\">\n",
       "        window.PlotlyConfig = {MathJaxConfig: 'local'};\n",
       "        if (window.MathJax) {MathJax.Hub.Config({SVG: {font: \"STIX-Web\"}});}\n",
       "        if (typeof require !== 'undefined') {\n",
       "        require.undef(\"plotly\");\n",
       "        requirejs.config({\n",
       "            paths: {\n",
       "                'plotly': ['https://cdn.plot.ly/plotly-latest.min']\n",
       "            }\n",
       "        });\n",
       "        require(['plotly'], function(Plotly) {\n",
       "            window._Plotly = Plotly;\n",
       "        });\n",
       "        }\n",
       "        </script>\n",
       "        "
      ]
     },
     "metadata": {},
     "output_type": "display_data"
    },
    {
     "data": {
      "text/html": [
       "        <script type=\"text/javascript\">\n",
       "        window.PlotlyConfig = {MathJaxConfig: 'local'};\n",
       "        if (window.MathJax) {MathJax.Hub.Config({SVG: {font: \"STIX-Web\"}});}\n",
       "        if (typeof require !== 'undefined') {\n",
       "        require.undef(\"plotly\");\n",
       "        requirejs.config({\n",
       "            paths: {\n",
       "                'plotly': ['https://cdn.plot.ly/plotly-latest.min']\n",
       "            }\n",
       "        });\n",
       "        require(['plotly'], function(Plotly) {\n",
       "            window._Plotly = Plotly;\n",
       "        });\n",
       "        }\n",
       "        </script>\n",
       "        "
      ]
     },
     "metadata": {},
     "output_type": "display_data"
    }
   ],
   "source": [
    "import pandas as pd\n",
    "import numpy as np\n",
    "import inspect\n",
    "from scipy import stats\n",
    "from scipy import special\n",
    "from scipy.optimize import least_squares\n",
    "from math import sqrt\n",
    "import time\n",
    "import datetime\n",
    "\n",
    "import matplotlib.pyplot as plt\n",
    "import seaborn as sns\n",
    "import plotly.offline as py\n",
    "import plotly.express as px\n",
    "import plotly.colors as pc\n",
    "import plotly.graph_objects as go\n",
    "from plotly.subplots import make_subplots\n",
    "import cufflinks as cf\n",
    "cf.set_config_file(offline=True, sharing=False, theme='ggplot');\n",
    "\n",
    "import ipywidgets as widgets\n",
    "from ipywidgets import interact"
   ]
  },
  {
   "cell_type": "markdown",
   "metadata": {},
   "source": [
    "First, we import raw coronavirus case data from github. Here we use two different sources, one for state-by-state data in the US, and one for country-level data for the whole world. In this analysis we will only focus on the number of confirmed cases, not the number of deaths."
   ]
  },
  {
   "cell_type": "code",
   "execution_count": 2,
   "metadata": {},
   "outputs": [
    {
     "name": "stdout",
     "output_type": "stream",
     "text": [
      "Pulled 2 files with total size 2.08 MB\n"
     ]
    }
   ],
   "source": [
    "data_url_states = 'https://raw.githubusercontent.com/COVID19Tracking/covid-tracking-data/master/data/states_daily_4pm_et.csv'\n",
    "data_url_global = 'https://raw.githubusercontent.com/CSSEGISandData/COVID-19/master/csse_covid_19_data/csse_covid_19_time_series/time_series_covid19_confirmed_global.csv'\n",
    "\n",
    "raw_df_states = pd.read_csv(data_url_states) # state-by-state data\n",
    "raw_df_global = pd.read_csv(data_url_global) # country-by-country data\n",
    "\n",
    "total_size = raw_df_states.memory_usage(index=True,deep=True).sum() + raw_df_global.memory_usage(index=True,deep=True).sum()\n",
    "print('Pulled 2 files with total size %.2f MB' % (total_size/1024/1024))"
   ]
  },
  {
   "cell_type": "markdown",
   "metadata": {},
   "source": [
    "Next, we reformat the global data into a new dataframe `global_cumulative` so that it's easier to use and intepret. We'll also only focus on the top 50 most affected countries. Here's what the first few rows of the resulting dataframe look like:"
   ]
  },
  {
   "cell_type": "code",
   "execution_count": 3,
   "metadata": {},
   "outputs": [
    {
     "data": {
      "text/html": [
       "<div>\n",
       "<style scoped>\n",
       "    .dataframe tbody tr th:only-of-type {\n",
       "        vertical-align: middle;\n",
       "    }\n",
       "\n",
       "    .dataframe tbody tr th {\n",
       "        vertical-align: top;\n",
       "    }\n",
       "\n",
       "    .dataframe thead th {\n",
       "        text-align: right;\n",
       "    }\n",
       "</style>\n",
       "<table border=\"1\" class=\"dataframe\">\n",
       "  <thead>\n",
       "    <tr style=\"text-align: right;\">\n",
       "      <th></th>\n",
       "      <th>United States</th>\n",
       "      <th>Spain</th>\n",
       "      <th>Italy</th>\n",
       "      <th>United Kingdom</th>\n",
       "      <th>Russia</th>\n",
       "      <th>France</th>\n",
       "      <th>Germany</th>\n",
       "      <th>Brazil</th>\n",
       "      <th>Turkey</th>\n",
       "      <th>Iran</th>\n",
       "      <th>...</th>\n",
       "      <th>Colombia</th>\n",
       "      <th>Serbia</th>\n",
       "      <th>Dominican Republic</th>\n",
       "      <th>South Africa</th>\n",
       "      <th>Egypt</th>\n",
       "      <th>Panama</th>\n",
       "      <th>Norway</th>\n",
       "      <th>Czechia</th>\n",
       "      <th>Kuwait</th>\n",
       "      <th>Australia</th>\n",
       "    </tr>\n",
       "    <tr>\n",
       "      <th>date</th>\n",
       "      <th></th>\n",
       "      <th></th>\n",
       "      <th></th>\n",
       "      <th></th>\n",
       "      <th></th>\n",
       "      <th></th>\n",
       "      <th></th>\n",
       "      <th></th>\n",
       "      <th></th>\n",
       "      <th></th>\n",
       "      <th></th>\n",
       "      <th></th>\n",
       "      <th></th>\n",
       "      <th></th>\n",
       "      <th></th>\n",
       "      <th></th>\n",
       "      <th></th>\n",
       "      <th></th>\n",
       "      <th></th>\n",
       "      <th></th>\n",
       "      <th></th>\n",
       "    </tr>\n",
       "  </thead>\n",
       "  <tbody>\n",
       "    <tr>\n",
       "      <th>2020-05-09</th>\n",
       "      <td>1309550</td>\n",
       "      <td>223578</td>\n",
       "      <td>218268</td>\n",
       "      <td>216525</td>\n",
       "      <td>198676</td>\n",
       "      <td>176782</td>\n",
       "      <td>171324</td>\n",
       "      <td>156061</td>\n",
       "      <td>137115</td>\n",
       "      <td>106220</td>\n",
       "      <td>...</td>\n",
       "      <td>10495</td>\n",
       "      <td>10032</td>\n",
       "      <td>9882</td>\n",
       "      <td>9420</td>\n",
       "      <td>8964</td>\n",
       "      <td>8282</td>\n",
       "      <td>8099</td>\n",
       "      <td>8095</td>\n",
       "      <td>7623</td>\n",
       "      <td>6939</td>\n",
       "    </tr>\n",
       "    <tr>\n",
       "      <th>2020-05-08</th>\n",
       "      <td>1283929</td>\n",
       "      <td>222857</td>\n",
       "      <td>217185</td>\n",
       "      <td>212629</td>\n",
       "      <td>187859</td>\n",
       "      <td>176202</td>\n",
       "      <td>170588</td>\n",
       "      <td>146894</td>\n",
       "      <td>135569</td>\n",
       "      <td>104691</td>\n",
       "      <td>...</td>\n",
       "      <td>10051</td>\n",
       "      <td>9943</td>\n",
       "      <td>9376</td>\n",
       "      <td>8895</td>\n",
       "      <td>8476</td>\n",
       "      <td>8070</td>\n",
       "      <td>8070</td>\n",
       "      <td>8077</td>\n",
       "      <td>7208</td>\n",
       "      <td>6918</td>\n",
       "    </tr>\n",
       "    <tr>\n",
       "      <th>2020-05-07</th>\n",
       "      <td>1257023</td>\n",
       "      <td>221447</td>\n",
       "      <td>215858</td>\n",
       "      <td>207977</td>\n",
       "      <td>177160</td>\n",
       "      <td>174918</td>\n",
       "      <td>169430</td>\n",
       "      <td>135773</td>\n",
       "      <td>133721</td>\n",
       "      <td>103135</td>\n",
       "      <td>...</td>\n",
       "      <td>9456</td>\n",
       "      <td>9848</td>\n",
       "      <td>9095</td>\n",
       "      <td>8232</td>\n",
       "      <td>7981</td>\n",
       "      <td>7868</td>\n",
       "      <td>8034</td>\n",
       "      <td>8031</td>\n",
       "      <td>6567</td>\n",
       "      <td>6913</td>\n",
       "    </tr>\n",
       "  </tbody>\n",
       "</table>\n",
       "<p>3 rows × 50 columns</p>\n",
       "</div>"
      ],
      "text/plain": [
       "            United States   Spain   Italy  United Kingdom  Russia  France  \\\n",
       "date                                                                        \n",
       "2020-05-09        1309550  223578  218268          216525  198676  176782   \n",
       "2020-05-08        1283929  222857  217185          212629  187859  176202   \n",
       "2020-05-07        1257023  221447  215858          207977  177160  174918   \n",
       "\n",
       "            Germany  Brazil  Turkey    Iran  ...  Colombia  Serbia  \\\n",
       "date                                         ...                     \n",
       "2020-05-09   171324  156061  137115  106220  ...     10495   10032   \n",
       "2020-05-08   170588  146894  135569  104691  ...     10051    9943   \n",
       "2020-05-07   169430  135773  133721  103135  ...      9456    9848   \n",
       "\n",
       "            Dominican Republic  South Africa  Egypt  Panama  Norway  Czechia  \\\n",
       "date                                                                           \n",
       "2020-05-09                9882          9420   8964    8282    8099     8095   \n",
       "2020-05-08                9376          8895   8476    8070    8070     8077   \n",
       "2020-05-07                9095          8232   7981    7868    8034     8031   \n",
       "\n",
       "            Kuwait  Australia  \n",
       "date                           \n",
       "2020-05-09    7623       6939  \n",
       "2020-05-08    7208       6918  \n",
       "2020-05-07    6567       6913  \n",
       "\n",
       "[3 rows x 50 columns]"
      ]
     },
     "execution_count": 3,
     "metadata": {},
     "output_type": "execute_result"
    }
   ],
   "source": [
    "raw_df_global.drop(columns=['Province/State','Lat','Long'],inplace=True)\n",
    "raw_df_global.replace('US', 'United States',inplace=True)\n",
    "raw_df_global = raw_df_global.groupby(by='Country/Region',as_index=True).agg(sum)\n",
    "top_countries = raw_df_global.iloc[:,-1].sort_values(ascending=False).index[:50] # find top 50 countries\n",
    "\n",
    "global_cumulative = raw_df_global.loc[top_countries,:].T # only take top countries, and transpose\n",
    "global_cumulative.index.rename('date',inplace=True)\n",
    "global_cumulative.columns.name = None\n",
    "global_cumulative.index = pd.to_datetime(global_cumulative.index, format='%m/%d/%y') # fix timestamp\n",
    "global_cumulative.sort_values(by='date',ascending=False,inplace=True)\n",
    "\n",
    "global_cumulative.head(3)"
   ]
  },
  {
   "cell_type": "markdown",
   "metadata": {},
   "source": [
    "We likewise reformat the raw data from US states into a dataframe `states_cumulative`, with a separate column for each state/territory. Here's what the first few rows of the resulting dataframe look like:"
   ]
  },
  {
   "cell_type": "code",
   "execution_count": 4,
   "metadata": {
    "jupyter": {
     "source_hidden": true
    }
   },
   "outputs": [
    {
     "data": {
      "text/html": [
       "<div>\n",
       "<style scoped>\n",
       "    .dataframe tbody tr th:only-of-type {\n",
       "        vertical-align: middle;\n",
       "    }\n",
       "\n",
       "    .dataframe tbody tr th {\n",
       "        vertical-align: top;\n",
       "    }\n",
       "\n",
       "    .dataframe thead th {\n",
       "        text-align: right;\n",
       "    }\n",
       "</style>\n",
       "<table border=\"1\" class=\"dataframe\">\n",
       "  <thead>\n",
       "    <tr style=\"text-align: right;\">\n",
       "      <th></th>\n",
       "      <th>AK</th>\n",
       "      <th>AL</th>\n",
       "      <th>AR</th>\n",
       "      <th>AZ</th>\n",
       "      <th>CA</th>\n",
       "      <th>CO</th>\n",
       "      <th>CT</th>\n",
       "      <th>DC</th>\n",
       "      <th>DE</th>\n",
       "      <th>FL</th>\n",
       "      <th>...</th>\n",
       "      <th>SD</th>\n",
       "      <th>TN</th>\n",
       "      <th>TX</th>\n",
       "      <th>UT</th>\n",
       "      <th>VA</th>\n",
       "      <th>VT</th>\n",
       "      <th>WA</th>\n",
       "      <th>WI</th>\n",
       "      <th>WV</th>\n",
       "      <th>WY</th>\n",
       "    </tr>\n",
       "    <tr>\n",
       "      <th>date</th>\n",
       "      <th></th>\n",
       "      <th></th>\n",
       "      <th></th>\n",
       "      <th></th>\n",
       "      <th></th>\n",
       "      <th></th>\n",
       "      <th></th>\n",
       "      <th></th>\n",
       "      <th></th>\n",
       "      <th></th>\n",
       "      <th></th>\n",
       "      <th></th>\n",
       "      <th></th>\n",
       "      <th></th>\n",
       "      <th></th>\n",
       "      <th></th>\n",
       "      <th></th>\n",
       "      <th></th>\n",
       "      <th></th>\n",
       "      <th></th>\n",
       "      <th></th>\n",
       "    </tr>\n",
       "  </thead>\n",
       "  <tbody>\n",
       "    <tr>\n",
       "      <th>2020-05-10</th>\n",
       "      <td>379.0</td>\n",
       "      <td>9777.0</td>\n",
       "      <td>3747.0</td>\n",
       "      <td>11119.0</td>\n",
       "      <td>66680.0</td>\n",
       "      <td>19375.0</td>\n",
       "      <td>33554.0</td>\n",
       "      <td>6272.0</td>\n",
       "      <td>6447.0</td>\n",
       "      <td>40596.0</td>\n",
       "      <td>...</td>\n",
       "      <td>3517.0</td>\n",
       "      <td>14985.0</td>\n",
       "      <td>38869.0</td>\n",
       "      <td>6251.0</td>\n",
       "      <td>24081.0</td>\n",
       "      <td>927.0</td>\n",
       "      <td>16674.0</td>\n",
       "      <td>10219.0</td>\n",
       "      <td>1360.0</td>\n",
       "      <td>661.0</td>\n",
       "    </tr>\n",
       "    <tr>\n",
       "      <th>2020-05-09</th>\n",
       "      <td>378.0</td>\n",
       "      <td>9567.0</td>\n",
       "      <td>3747.0</td>\n",
       "      <td>10960.0</td>\n",
       "      <td>64561.0</td>\n",
       "      <td>18827.0</td>\n",
       "      <td>32984.0</td>\n",
       "      <td>6102.0</td>\n",
       "      <td>6277.0</td>\n",
       "      <td>40001.0</td>\n",
       "      <td>...</td>\n",
       "      <td>3393.0</td>\n",
       "      <td>14768.0</td>\n",
       "      <td>37860.0</td>\n",
       "      <td>6103.0</td>\n",
       "      <td>23196.0</td>\n",
       "      <td>921.0</td>\n",
       "      <td>16388.0</td>\n",
       "      <td>9939.0</td>\n",
       "      <td>1335.0</td>\n",
       "      <td>644.0</td>\n",
       "    </tr>\n",
       "    <tr>\n",
       "      <th>2020-05-08</th>\n",
       "      <td>377.0</td>\n",
       "      <td>9221.0</td>\n",
       "      <td>3694.0</td>\n",
       "      <td>10526.0</td>\n",
       "      <td>62512.0</td>\n",
       "      <td>18801.0</td>\n",
       "      <td>32411.0</td>\n",
       "      <td>5899.0</td>\n",
       "      <td>6111.0</td>\n",
       "      <td>39199.0</td>\n",
       "      <td>...</td>\n",
       "      <td>3144.0</td>\n",
       "      <td>14441.0</td>\n",
       "      <td>36609.0</td>\n",
       "      <td>5919.0</td>\n",
       "      <td>22342.0</td>\n",
       "      <td>919.0</td>\n",
       "      <td>16231.0</td>\n",
       "      <td>9590.0</td>\n",
       "      <td>1310.0</td>\n",
       "      <td>635.0</td>\n",
       "    </tr>\n",
       "  </tbody>\n",
       "</table>\n",
       "<p>3 rows × 53 columns</p>\n",
       "</div>"
      ],
      "text/plain": [
       "               AK      AL      AR       AZ       CA       CO       CT      DC  \\\n",
       "date                                                                            \n",
       "2020-05-10  379.0  9777.0  3747.0  11119.0  66680.0  19375.0  33554.0  6272.0   \n",
       "2020-05-09  378.0  9567.0  3747.0  10960.0  64561.0  18827.0  32984.0  6102.0   \n",
       "2020-05-08  377.0  9221.0  3694.0  10526.0  62512.0  18801.0  32411.0  5899.0   \n",
       "\n",
       "                DE       FL  ...      SD       TN       TX      UT       VA  \\\n",
       "date                         ...                                              \n",
       "2020-05-10  6447.0  40596.0  ...  3517.0  14985.0  38869.0  6251.0  24081.0   \n",
       "2020-05-09  6277.0  40001.0  ...  3393.0  14768.0  37860.0  6103.0  23196.0   \n",
       "2020-05-08  6111.0  39199.0  ...  3144.0  14441.0  36609.0  5919.0  22342.0   \n",
       "\n",
       "               VT       WA       WI      WV     WY  \n",
       "date                                                \n",
       "2020-05-10  927.0  16674.0  10219.0  1360.0  661.0  \n",
       "2020-05-09  921.0  16388.0   9939.0  1335.0  644.0  \n",
       "2020-05-08  919.0  16231.0   9590.0  1310.0  635.0  \n",
       "\n",
       "[3 rows x 53 columns]"
      ]
     },
     "execution_count": 4,
     "metadata": {},
     "output_type": "execute_result"
    }
   ],
   "source": [
    "states_list = raw_df_states['state'].unique() # list of state abbreviations (50 states + 5 territories + DC)\n",
    "\n",
    "raw_df_states['date'] = pd.to_datetime(raw_df_states['date'], format='%Y%m%d') # fix timestamp\n",
    "raw_df_states = raw_df_states[['date','state','positive']] #extract the columns I care about\n",
    "\n",
    "states_cumulative = raw_df_states[raw_df_states['state']=='AK'][['date','positive']]\n",
    "states_cumulative.reset_index(drop=True,inplace=True)\n",
    "\n",
    "for s in states_list:\n",
    "    state_data = raw_df_states[raw_df_states['state']==s]['positive']\n",
    "    states_cumulative[s] = state_data.reset_index(drop=True)\n",
    "\n",
    "states_cumulative.set_index('date',inplace=True) # index by date\n",
    "states_cumulative.drop(columns='positive',inplace=True)\n",
    "states_cumulative.fillna(value=0,inplace=True) # nan values will mess up the regression later\n",
    "states_cumulative = states_cumulative.loc[:,(states_cumulative.iloc[0,:]>100).values] # remove states with <100 cases\n",
    "states_list = states_cumulative.columns\n",
    "\n",
    "states_cumulative.head(3)"
   ]
  },
  {
   "cell_type": "markdown",
   "metadata": {},
   "source": [
    "We now have two data sets, one for US states and one for countries. Conveniently, the data sources are updated daily, so re-running this notebook automatically pulls the most current data!"
   ]
  },
  {
   "cell_type": "markdown",
   "metadata": {},
   "source": [
    "<a id='sec2'></a>"
   ]
  },
  {
   "cell_type": "markdown",
   "metadata": {},
   "source": [
    "## 2. Data Visualization"
   ]
  },
  {
   "cell_type": "markdown",
   "metadata": {},
   "source": [
    "Let's now see what the data looks like. Besides the number of cumulative confirmed cases, it will also be helpful to look at the case increase per day, defined as the difference between the cumulative case counts on consecutive days. We will store this data in `states_inc` and `global_inc`, and a smoothed (rolling 3-day average) version of the same data in `states_inc_rolling3` and `global_inc_rolling3`."
   ]
  },
  {
   "cell_type": "code",
   "execution_count": 5,
   "metadata": {},
   "outputs": [],
   "source": [
    "states_inc = states_cumulative.diff(periods=-1)\n",
    "states_inc_rolling3 = (states_inc.shift(-1)+states_inc.shift(1)+states_inc)/3\n",
    "states_inc_rolling3.dropna(inplace=True)\n",
    "\n",
    "global_inc = global_cumulative.diff(periods=-1)\n",
    "global_inc_rolling3 = (global_inc.shift(-1)+global_inc.shift(1)+global_inc)/3\n",
    "global_inc_rolling3.dropna(inplace=True)"
   ]
  },
  {
   "cell_type": "markdown",
   "metadata": {},
   "source": [
    "For regression analysis, we will need the dependent variable (time) to be numeric, so we create `x_data`, which is the number of days that have passed since the beinning of the year. `x_data_global` is the same thing for the global dataframe. Note that the two data sets have different starting dates."
   ]
  },
  {
   "cell_type": "code",
   "execution_count": 6,
   "metadata": {},
   "outputs": [],
   "source": [
    "x_data = states_cumulative.index.to_series().dt.dayofyear\n",
    "x_data_global = global_cumulative.index.to_series().dt.dayofyear"
   ]
  },
  {
   "cell_type": "markdown",
   "metadata": {},
   "source": [
    "Let's now visualize some of our data. States first:"
   ]
  },
  {
   "cell_type": "code",
   "execution_count": 7,
   "metadata": {
    "jupyter": {
     "source_hidden": true
    },
    "scrolled": true
   },
   "outputs": [
    {
     "data": {
      "application/vnd.plotly.v1+json": {
       "config": {
        "plotlyServerURL": "https://plot.ly"
       },
       "data": [
        {
         "line": {
          "color": "rgb(31, 119, 180)"
         },
         "mode": "lines",
         "name": "CA",
         "showlegend": true,
         "type": "scatter",
         "x": [
          131,
          130,
          129,
          128,
          127,
          126,
          125,
          124,
          123,
          122,
          121,
          120,
          119,
          118,
          117,
          116,
          115,
          114,
          113,
          112,
          111,
          110,
          109,
          108,
          107,
          106,
          105,
          104,
          103,
          102,
          101,
          100,
          99,
          98,
          97,
          96,
          95,
          94,
          93,
          92,
          91,
          90,
          89,
          88,
          87,
          86,
          85,
          84,
          83,
          82,
          81,
          80,
          79,
          78,
          77,
          76,
          75,
          74,
          73,
          72,
          71,
          70,
          69,
          68,
          67,
          66
         ],
         "xaxis": "x",
         "y": [
          66680,
          64561,
          62512,
          60614,
          58815,
          56212,
          54937,
          53616,
          52197,
          50442,
          48917,
          46500,
          45031,
          43464,
          42164,
          41137,
          39254,
          37369,
          35396,
          33261,
          30978,
          30333,
          28963,
          27528,
          26182,
          24424,
          23338,
          22348,
          21794,
          19472,
          19472,
          18309,
          16957,
          15865,
          14336,
          13438,
          12026,
          10701,
          9191,
          8155,
          7482,
          6447,
          5708,
          4643,
          3879,
          3006,
          2355,
          2102,
          1733,
          1536,
          1279,
          1063,
          924,
          611,
          483,
          335,
          293,
          252,
          202,
          202,
          157,
          133,
          114,
          88,
          69,
          60
         ],
         "yaxis": "y"
        },
        {
         "line": {
          "color": "rgb(31, 119, 180)"
         },
         "mode": "lines",
         "name": "CA",
         "showlegend": false,
         "type": "scatter",
         "x": [
          131,
          130,
          129,
          128,
          127,
          126,
          125,
          124,
          123,
          122,
          121,
          120,
          119,
          118,
          117,
          116,
          115,
          114,
          113,
          112,
          111,
          110,
          109,
          108,
          107,
          106,
          105,
          104,
          103,
          102,
          101,
          100,
          99,
          98,
          97,
          96,
          95,
          94,
          93,
          92,
          91,
          90,
          89,
          88,
          87,
          86,
          85,
          84,
          83,
          82,
          81,
          80,
          79,
          78,
          77,
          76,
          75,
          74,
          73,
          72,
          71,
          70,
          69,
          68,
          67,
          66
         ],
         "xaxis": "x2",
         "y": [
          2022,
          1915.3333333333333,
          2100,
          1892.3333333333333,
          1733,
          1338.3333333333333,
          1498.3333333333333,
          1566.3333333333333,
          1899,
          1803.6666666666667,
          1817.6666666666667,
          1445.3333333333333,
          1298,
          1403.3333333333333,
          1598.3333333333333,
          1913.6666666666667,
          1997.6666666666667,
          2130.3333333333335,
          1687.6666666666667,
          1432.6666666666667,
          1150,
          1383.6666666666667,
          1513,
          1396.6666666666667,
          1278,
          876.6666666666666,
          1288.6666666666667,
          958.6666666666666,
          1161.6666666666667,
          838.3333333333334,
          1202.3333333333333,
          1324.3333333333333,
          1173,
          1279.6666666666667,
          1211.6666666666667,
          1415.6666666666667,
          1290.3333333333333,
          1073,
          914.6666666666666,
          815.6666666666666,
          946.3333333333334,
          856,
          900.6666666666666,
          762.6666666666666,
          592.3333333333334,
          424.3333333333333,
          273,
          274.3333333333333,
          223.33333333333334,
          204,
          222.66666666666666,
          193.33333333333334,
          196.33333333333334,
          106,
          77,
          44.333333333333336,
          30.333333333333332,
          31.666666666666668,
          23,
          29.333333333333332,
          23,
          21.333333333333332,
          18
         ],
         "yaxis": "y2"
        },
        {
         "line": {
          "color": "rgb(255, 127, 14)"
         },
         "mode": "lines",
         "name": "NY",
         "showlegend": true,
         "type": "scatter",
         "x": [
          131,
          130,
          129,
          128,
          127,
          126,
          125,
          124,
          123,
          122,
          121,
          120,
          119,
          118,
          117,
          116,
          115,
          114,
          113,
          112,
          111,
          110,
          109,
          108,
          107,
          106,
          105,
          104,
          103,
          102,
          101,
          100,
          99,
          98,
          97,
          96,
          95,
          94,
          93,
          92,
          91,
          90,
          89,
          88,
          87,
          86,
          85,
          84,
          83,
          82,
          81,
          80,
          79,
          78,
          77,
          76,
          75,
          74,
          73,
          72,
          71,
          70,
          69,
          68,
          67,
          66
         ],
         "xaxis": "x",
         "y": [
          335395,
          333122,
          330407,
          327649,
          323978,
          321192,
          318953,
          316415,
          312977,
          308314,
          304372,
          299691,
          295106,
          291996,
          288045,
          282143,
          271590,
          263460,
          257216,
          251690,
          247512,
          242786,
          236732,
          229642,
          222284,
          213779,
          202208,
          195031,
          188694,
          180458,
          170512,
          159937,
          149316,
          138863,
          130689,
          122031,
          113704,
          102863,
          92381,
          83712,
          75795,
          66497,
          59513,
          52318,
          44635,
          37258,
          30811,
          25665,
          20875,
          15168,
          10356,
          7102,
          4152,
          2382,
          1700,
          950,
          729,
          524,
          421,
          216,
          216,
          173,
          142,
          105,
          76,
          33
         ],
         "yaxis": "y"
        },
        {
         "line": {
          "color": "rgb(255, 127, 14)"
         },
         "mode": "lines",
         "name": "NY",
         "showlegend": false,
         "type": "scatter",
         "x": [
          131,
          130,
          129,
          128,
          127,
          126,
          125,
          124,
          123,
          122,
          121,
          120,
          119,
          118,
          117,
          116,
          115,
          114,
          113,
          112,
          111,
          110,
          109,
          108,
          107,
          106,
          105,
          104,
          103,
          102,
          101,
          100,
          99,
          98,
          97,
          96,
          95,
          94,
          93,
          92,
          91,
          90,
          89,
          88,
          87,
          86,
          85,
          84,
          83,
          82,
          81,
          80,
          79,
          78,
          77,
          76,
          75,
          74,
          73,
          72,
          71,
          70,
          69,
          68,
          67,
          66
         ],
         "xaxis": "x2",
         "y": [
          2582,
          3048,
          3071.6666666666665,
          2898.6666666666665,
          2521,
          2738.3333333333335,
          3546.3333333333335,
          4014.3333333333335,
          4428.666666666667,
          4402.666666666667,
          4125.333333333333,
          3882,
          4321,
          6802,
          8195,
          8309,
          6633.333333333333,
          5316,
          4810,
          4986,
          5956.666666666667,
          6834,
          7651,
          9144.666666666666,
          9084.333333333334,
          8361.666666666666,
          7250,
          8173,
          9585.666666666666,
          10380.666666666666,
          10549.666666666666,
          9749.333333333334,
          9095,
          8386.333333333334,
          9275.333333333334,
          9883.333333333334,
          9997.333333333334,
          9022.666666666666,
          8628,
          8066.333333333333,
          7825.666666666667,
          7287.333333333333,
          7418.333333333333,
          7169,
          6323.333333333333,
          5461,
          5214.333333333333,
          5103,
          4591,
          3672,
          2658,
          1800.6666666666667,
          1067.3333333333333,
          551,
          392,
          176.33333333333334,
          171,
          102.66666666666667,
          82.66666666666667,
          24.666666666666668,
          37,
          32.333333333333336,
          36.333333333333336
         ],
         "yaxis": "y2"
        },
        {
         "line": {
          "color": "rgb(44, 160, 44)"
         },
         "mode": "lines",
         "name": "NJ",
         "showlegend": true,
         "type": "scatter",
         "x": [
          131,
          130,
          129,
          128,
          127,
          126,
          125,
          124,
          123,
          122,
          121,
          120,
          119,
          118,
          117,
          116,
          115,
          114,
          113,
          112,
          111,
          110,
          109,
          108,
          107,
          106,
          105,
          104,
          103,
          102,
          101,
          100,
          99,
          98,
          97,
          96,
          95,
          94,
          93,
          92,
          91,
          90,
          89,
          88,
          87,
          86,
          85,
          84,
          83,
          82,
          81,
          80,
          79,
          78,
          77,
          76,
          75,
          74,
          73,
          72,
          71,
          70,
          69,
          68,
          67,
          66
         ],
         "xaxis": "x",
         "y": [
          138532,
          137085,
          135454,
          133635,
          131890,
          130593,
          128269,
          126744,
          123717,
          121190,
          118652,
          116264,
          113856,
          111188,
          109038,
          105523,
          102196,
          99989,
          95865,
          92387,
          88806,
          85301,
          81420,
          78467,
          75317,
          71030,
          68824,
          64584,
          61850,
          58151,
          54588,
          51027,
          47437,
          44416,
          41090,
          37505,
          34124,
          29895,
          25590,
          22255,
          18696,
          16636,
          13386,
          11124,
          8825,
          6876,
          4402,
          3675,
          2844,
          1914,
          1327,
          890,
          742,
          427,
          267,
          178,
          98,
          50,
          50,
          30,
          24,
          15,
          11,
          6,
          4,
          1
         ],
         "yaxis": "y"
        },
        {
         "line": {
          "color": "rgb(44, 160, 44)"
         },
         "mode": "lines",
         "name": "NJ",
         "showlegend": false,
         "type": "scatter",
         "x": [
          131,
          130,
          129,
          128,
          127,
          126,
          125,
          124,
          123,
          122,
          121,
          120,
          119,
          118,
          117,
          116,
          115,
          114,
          113,
          112,
          111,
          110,
          109,
          108,
          107,
          106,
          105,
          104,
          103,
          102,
          101,
          100,
          99,
          98,
          97,
          96,
          95,
          94,
          93,
          92,
          91,
          90,
          89,
          88,
          87,
          86,
          85,
          84,
          83,
          82,
          81,
          80,
          79,
          78,
          77,
          76,
          75,
          74,
          73,
          72,
          71,
          70,
          69,
          68,
          67,
          66
         ],
         "xaxis": "x2",
         "y": [
          1632.3333333333333,
          1731.6666666666667,
          1620.3333333333333,
          1788.6666666666667,
          1715.3333333333333,
          2292,
          2359.6666666666665,
          2697.3333333333335,
          2484.3333333333335,
          2444.6666666666665,
          2488,
          2408.6666666666665,
          2777.6666666666665,
          2997.3333333333335,
          3016.3333333333335,
          3219.3333333333335,
          3269.6666666666665,
          3727.6666666666665,
          3521.3333333333335,
          3655.6666666666665,
          3446.3333333333335,
          3328,
          3463.3333333333335,
          3214.3333333333335,
          3577.6666666666665,
          3060,
          3557.6666666666665,
          3332,
          3607.6666666666665,
          3571.3333333333335,
          3390.6666666666665,
          3312.3333333333335,
          3310.6666666666665,
          3430.6666666666665,
          3731.6666666666665,
          3971.6666666666665,
          3956.3333333333335,
          3733,
          2984.6666666666665,
          2956.3333333333335,
          2524,
          2603.6666666666665,
          2170,
          2240.6666666666665,
          1716.6666666666667,
          1344,
          829.3333333333334,
          782.6666666666666,
          651.3333333333334,
          390.6666666666667,
          300,
          207.66666666666666,
          188,
          109.66666666666667,
          72.33333333333333,
          42.666666666666664,
          22.666666666666668,
          8.666666666666666,
          11.666666666666666,
          6.333333333333333,
          6,
          3.6666666666666665,
          3.3333333333333335
         ],
         "yaxis": "y2"
        }
       ],
       "layout": {
        "height": 350,
        "margin": {
         "b": 20,
         "l": 20,
         "r": 20,
         "t": 50
        },
        "template": {
         "data": {
          "bar": [
           {
            "error_x": {
             "color": "#2a3f5f"
            },
            "error_y": {
             "color": "#2a3f5f"
            },
            "marker": {
             "line": {
              "color": "#E5ECF6",
              "width": 0.5
             }
            },
            "type": "bar"
           }
          ],
          "barpolar": [
           {
            "marker": {
             "line": {
              "color": "#E5ECF6",
              "width": 0.5
             }
            },
            "type": "barpolar"
           }
          ],
          "carpet": [
           {
            "aaxis": {
             "endlinecolor": "#2a3f5f",
             "gridcolor": "white",
             "linecolor": "white",
             "minorgridcolor": "white",
             "startlinecolor": "#2a3f5f"
            },
            "baxis": {
             "endlinecolor": "#2a3f5f",
             "gridcolor": "white",
             "linecolor": "white",
             "minorgridcolor": "white",
             "startlinecolor": "#2a3f5f"
            },
            "type": "carpet"
           }
          ],
          "choropleth": [
           {
            "colorbar": {
             "outlinewidth": 0,
             "ticks": ""
            },
            "type": "choropleth"
           }
          ],
          "contour": [
           {
            "colorbar": {
             "outlinewidth": 0,
             "ticks": ""
            },
            "colorscale": [
             [
              0,
              "#0d0887"
             ],
             [
              0.1111111111111111,
              "#46039f"
             ],
             [
              0.2222222222222222,
              "#7201a8"
             ],
             [
              0.3333333333333333,
              "#9c179e"
             ],
             [
              0.4444444444444444,
              "#bd3786"
             ],
             [
              0.5555555555555556,
              "#d8576b"
             ],
             [
              0.6666666666666666,
              "#ed7953"
             ],
             [
              0.7777777777777778,
              "#fb9f3a"
             ],
             [
              0.8888888888888888,
              "#fdca26"
             ],
             [
              1,
              "#f0f921"
             ]
            ],
            "type": "contour"
           }
          ],
          "contourcarpet": [
           {
            "colorbar": {
             "outlinewidth": 0,
             "ticks": ""
            },
            "type": "contourcarpet"
           }
          ],
          "heatmap": [
           {
            "colorbar": {
             "outlinewidth": 0,
             "ticks": ""
            },
            "colorscale": [
             [
              0,
              "#0d0887"
             ],
             [
              0.1111111111111111,
              "#46039f"
             ],
             [
              0.2222222222222222,
              "#7201a8"
             ],
             [
              0.3333333333333333,
              "#9c179e"
             ],
             [
              0.4444444444444444,
              "#bd3786"
             ],
             [
              0.5555555555555556,
              "#d8576b"
             ],
             [
              0.6666666666666666,
              "#ed7953"
             ],
             [
              0.7777777777777778,
              "#fb9f3a"
             ],
             [
              0.8888888888888888,
              "#fdca26"
             ],
             [
              1,
              "#f0f921"
             ]
            ],
            "type": "heatmap"
           }
          ],
          "heatmapgl": [
           {
            "colorbar": {
             "outlinewidth": 0,
             "ticks": ""
            },
            "colorscale": [
             [
              0,
              "#0d0887"
             ],
             [
              0.1111111111111111,
              "#46039f"
             ],
             [
              0.2222222222222222,
              "#7201a8"
             ],
             [
              0.3333333333333333,
              "#9c179e"
             ],
             [
              0.4444444444444444,
              "#bd3786"
             ],
             [
              0.5555555555555556,
              "#d8576b"
             ],
             [
              0.6666666666666666,
              "#ed7953"
             ],
             [
              0.7777777777777778,
              "#fb9f3a"
             ],
             [
              0.8888888888888888,
              "#fdca26"
             ],
             [
              1,
              "#f0f921"
             ]
            ],
            "type": "heatmapgl"
           }
          ],
          "histogram": [
           {
            "marker": {
             "colorbar": {
              "outlinewidth": 0,
              "ticks": ""
             }
            },
            "type": "histogram"
           }
          ],
          "histogram2d": [
           {
            "colorbar": {
             "outlinewidth": 0,
             "ticks": ""
            },
            "colorscale": [
             [
              0,
              "#0d0887"
             ],
             [
              0.1111111111111111,
              "#46039f"
             ],
             [
              0.2222222222222222,
              "#7201a8"
             ],
             [
              0.3333333333333333,
              "#9c179e"
             ],
             [
              0.4444444444444444,
              "#bd3786"
             ],
             [
              0.5555555555555556,
              "#d8576b"
             ],
             [
              0.6666666666666666,
              "#ed7953"
             ],
             [
              0.7777777777777778,
              "#fb9f3a"
             ],
             [
              0.8888888888888888,
              "#fdca26"
             ],
             [
              1,
              "#f0f921"
             ]
            ],
            "type": "histogram2d"
           }
          ],
          "histogram2dcontour": [
           {
            "colorbar": {
             "outlinewidth": 0,
             "ticks": ""
            },
            "colorscale": [
             [
              0,
              "#0d0887"
             ],
             [
              0.1111111111111111,
              "#46039f"
             ],
             [
              0.2222222222222222,
              "#7201a8"
             ],
             [
              0.3333333333333333,
              "#9c179e"
             ],
             [
              0.4444444444444444,
              "#bd3786"
             ],
             [
              0.5555555555555556,
              "#d8576b"
             ],
             [
              0.6666666666666666,
              "#ed7953"
             ],
             [
              0.7777777777777778,
              "#fb9f3a"
             ],
             [
              0.8888888888888888,
              "#fdca26"
             ],
             [
              1,
              "#f0f921"
             ]
            ],
            "type": "histogram2dcontour"
           }
          ],
          "mesh3d": [
           {
            "colorbar": {
             "outlinewidth": 0,
             "ticks": ""
            },
            "type": "mesh3d"
           }
          ],
          "parcoords": [
           {
            "line": {
             "colorbar": {
              "outlinewidth": 0,
              "ticks": ""
             }
            },
            "type": "parcoords"
           }
          ],
          "pie": [
           {
            "automargin": true,
            "type": "pie"
           }
          ],
          "scatter": [
           {
            "marker": {
             "colorbar": {
              "outlinewidth": 0,
              "ticks": ""
             }
            },
            "type": "scatter"
           }
          ],
          "scatter3d": [
           {
            "line": {
             "colorbar": {
              "outlinewidth": 0,
              "ticks": ""
             }
            },
            "marker": {
             "colorbar": {
              "outlinewidth": 0,
              "ticks": ""
             }
            },
            "type": "scatter3d"
           }
          ],
          "scattercarpet": [
           {
            "marker": {
             "colorbar": {
              "outlinewidth": 0,
              "ticks": ""
             }
            },
            "type": "scattercarpet"
           }
          ],
          "scattergeo": [
           {
            "marker": {
             "colorbar": {
              "outlinewidth": 0,
              "ticks": ""
             }
            },
            "type": "scattergeo"
           }
          ],
          "scattergl": [
           {
            "marker": {
             "colorbar": {
              "outlinewidth": 0,
              "ticks": ""
             }
            },
            "type": "scattergl"
           }
          ],
          "scattermapbox": [
           {
            "marker": {
             "colorbar": {
              "outlinewidth": 0,
              "ticks": ""
             }
            },
            "type": "scattermapbox"
           }
          ],
          "scatterpolar": [
           {
            "marker": {
             "colorbar": {
              "outlinewidth": 0,
              "ticks": ""
             }
            },
            "type": "scatterpolar"
           }
          ],
          "scatterpolargl": [
           {
            "marker": {
             "colorbar": {
              "outlinewidth": 0,
              "ticks": ""
             }
            },
            "type": "scatterpolargl"
           }
          ],
          "scatterternary": [
           {
            "marker": {
             "colorbar": {
              "outlinewidth": 0,
              "ticks": ""
             }
            },
            "type": "scatterternary"
           }
          ],
          "surface": [
           {
            "colorbar": {
             "outlinewidth": 0,
             "ticks": ""
            },
            "colorscale": [
             [
              0,
              "#0d0887"
             ],
             [
              0.1111111111111111,
              "#46039f"
             ],
             [
              0.2222222222222222,
              "#7201a8"
             ],
             [
              0.3333333333333333,
              "#9c179e"
             ],
             [
              0.4444444444444444,
              "#bd3786"
             ],
             [
              0.5555555555555556,
              "#d8576b"
             ],
             [
              0.6666666666666666,
              "#ed7953"
             ],
             [
              0.7777777777777778,
              "#fb9f3a"
             ],
             [
              0.8888888888888888,
              "#fdca26"
             ],
             [
              1,
              "#f0f921"
             ]
            ],
            "type": "surface"
           }
          ],
          "table": [
           {
            "cells": {
             "fill": {
              "color": "#EBF0F8"
             },
             "line": {
              "color": "white"
             }
            },
            "header": {
             "fill": {
              "color": "#C8D4E3"
             },
             "line": {
              "color": "white"
             }
            },
            "type": "table"
           }
          ]
         },
         "layout": {
          "annotationdefaults": {
           "arrowcolor": "#2a3f5f",
           "arrowhead": 0,
           "arrowwidth": 1
          },
          "coloraxis": {
           "colorbar": {
            "outlinewidth": 0,
            "ticks": ""
           }
          },
          "colorscale": {
           "diverging": [
            [
             0,
             "#8e0152"
            ],
            [
             0.1,
             "#c51b7d"
            ],
            [
             0.2,
             "#de77ae"
            ],
            [
             0.3,
             "#f1b6da"
            ],
            [
             0.4,
             "#fde0ef"
            ],
            [
             0.5,
             "#f7f7f7"
            ],
            [
             0.6,
             "#e6f5d0"
            ],
            [
             0.7,
             "#b8e186"
            ],
            [
             0.8,
             "#7fbc41"
            ],
            [
             0.9,
             "#4d9221"
            ],
            [
             1,
             "#276419"
            ]
           ],
           "sequential": [
            [
             0,
             "#0d0887"
            ],
            [
             0.1111111111111111,
             "#46039f"
            ],
            [
             0.2222222222222222,
             "#7201a8"
            ],
            [
             0.3333333333333333,
             "#9c179e"
            ],
            [
             0.4444444444444444,
             "#bd3786"
            ],
            [
             0.5555555555555556,
             "#d8576b"
            ],
            [
             0.6666666666666666,
             "#ed7953"
            ],
            [
             0.7777777777777778,
             "#fb9f3a"
            ],
            [
             0.8888888888888888,
             "#fdca26"
            ],
            [
             1,
             "#f0f921"
            ]
           ],
           "sequentialminus": [
            [
             0,
             "#0d0887"
            ],
            [
             0.1111111111111111,
             "#46039f"
            ],
            [
             0.2222222222222222,
             "#7201a8"
            ],
            [
             0.3333333333333333,
             "#9c179e"
            ],
            [
             0.4444444444444444,
             "#bd3786"
            ],
            [
             0.5555555555555556,
             "#d8576b"
            ],
            [
             0.6666666666666666,
             "#ed7953"
            ],
            [
             0.7777777777777778,
             "#fb9f3a"
            ],
            [
             0.8888888888888888,
             "#fdca26"
            ],
            [
             1,
             "#f0f921"
            ]
           ]
          },
          "colorway": [
           "#636efa",
           "#EF553B",
           "#00cc96",
           "#ab63fa",
           "#FFA15A",
           "#19d3f3",
           "#FF6692",
           "#B6E880",
           "#FF97FF",
           "#FECB52"
          ],
          "font": {
           "color": "#2a3f5f"
          },
          "geo": {
           "bgcolor": "white",
           "lakecolor": "white",
           "landcolor": "#E5ECF6",
           "showlakes": true,
           "showland": true,
           "subunitcolor": "white"
          },
          "hoverlabel": {
           "align": "left"
          },
          "hovermode": "closest",
          "mapbox": {
           "style": "light"
          },
          "paper_bgcolor": "white",
          "plot_bgcolor": "#E5ECF6",
          "polar": {
           "angularaxis": {
            "gridcolor": "white",
            "linecolor": "white",
            "ticks": ""
           },
           "bgcolor": "#E5ECF6",
           "radialaxis": {
            "gridcolor": "white",
            "linecolor": "white",
            "ticks": ""
           }
          },
          "scene": {
           "xaxis": {
            "backgroundcolor": "#E5ECF6",
            "gridcolor": "white",
            "gridwidth": 2,
            "linecolor": "white",
            "showbackground": true,
            "ticks": "",
            "zerolinecolor": "white"
           },
           "yaxis": {
            "backgroundcolor": "#E5ECF6",
            "gridcolor": "white",
            "gridwidth": 2,
            "linecolor": "white",
            "showbackground": true,
            "ticks": "",
            "zerolinecolor": "white"
           },
           "zaxis": {
            "backgroundcolor": "#E5ECF6",
            "gridcolor": "white",
            "gridwidth": 2,
            "linecolor": "white",
            "showbackground": true,
            "ticks": "",
            "zerolinecolor": "white"
           }
          },
          "shapedefaults": {
           "line": {
            "color": "#2a3f5f"
           }
          },
          "ternary": {
           "aaxis": {
            "gridcolor": "white",
            "linecolor": "white",
            "ticks": ""
           },
           "baxis": {
            "gridcolor": "white",
            "linecolor": "white",
            "ticks": ""
           },
           "bgcolor": "#E5ECF6",
           "caxis": {
            "gridcolor": "white",
            "linecolor": "white",
            "ticks": ""
           }
          },
          "title": {
           "x": 0.05
          },
          "xaxis": {
           "automargin": true,
           "gridcolor": "white",
           "linecolor": "white",
           "ticks": "",
           "title": {
            "standoff": 15
           },
           "zerolinecolor": "white",
           "zerolinewidth": 2
          },
          "yaxis": {
           "automargin": true,
           "gridcolor": "white",
           "linecolor": "white",
           "ticks": "",
           "title": {
            "standoff": 15
           },
           "zerolinecolor": "white",
           "zerolinewidth": 2
          }
         }
        },
        "xaxis": {
         "anchor": "y",
         "domain": [
          0,
          0.45
         ],
         "linecolor": "black",
         "linewidth": 1.5,
         "mirror": true,
         "showline": true,
         "title": {
          "text": "Day of Year"
         }
        },
        "xaxis2": {
         "anchor": "y2",
         "domain": [
          0.55,
          1
         ],
         "linecolor": "black",
         "linewidth": 1.5,
         "mirror": true,
         "showline": true,
         "title": {
          "text": "Day of Year"
         }
        },
        "yaxis": {
         "anchor": "x",
         "domain": [
          0,
          1
         ],
         "linecolor": "black",
         "linewidth": 1.5,
         "mirror": true,
         "showline": true,
         "title": {
          "text": "Cumulative Case Count Over Time"
         }
        },
        "yaxis2": {
         "anchor": "x2",
         "domain": [
          0,
          1
         ],
         "linecolor": "black",
         "linewidth": 1.5,
         "mirror": true,
         "showline": true,
         "title": {
          "text": "Daily Incidence Over Time"
         }
        }
       }
      },
      "text/html": [
       "<div>\n",
       "        \n",
       "        \n",
       "            <div id=\"2fc5da16-69a8-4241-8e15-d0731d1e6013\" class=\"plotly-graph-div\" style=\"height:350px; width:100%;\"></div>\n",
       "            <script type=\"text/javascript\">\n",
       "                require([\"plotly\"], function(Plotly) {\n",
       "                    window.PLOTLYENV=window.PLOTLYENV || {};\n",
       "                    \n",
       "                if (document.getElementById(\"2fc5da16-69a8-4241-8e15-d0731d1e6013\")) {\n",
       "                    Plotly.newPlot(\n",
       "                        '2fc5da16-69a8-4241-8e15-d0731d1e6013',\n",
       "                        [{\"line\": {\"color\": \"rgb(31, 119, 180)\"}, \"mode\": \"lines\", \"name\": \"CA\", \"showlegend\": true, \"type\": \"scatter\", \"x\": [131, 130, 129, 128, 127, 126, 125, 124, 123, 122, 121, 120, 119, 118, 117, 116, 115, 114, 113, 112, 111, 110, 109, 108, 107, 106, 105, 104, 103, 102, 101, 100, 99, 98, 97, 96, 95, 94, 93, 92, 91, 90, 89, 88, 87, 86, 85, 84, 83, 82, 81, 80, 79, 78, 77, 76, 75, 74, 73, 72, 71, 70, 69, 68, 67, 66], \"xaxis\": \"x\", \"y\": [66680.0, 64561.0, 62512.0, 60614.0, 58815.0, 56212.0, 54937.0, 53616.0, 52197.0, 50442.0, 48917.0, 46500.0, 45031.0, 43464.0, 42164.0, 41137.0, 39254.0, 37369.0, 35396.0, 33261.0, 30978.0, 30333.0, 28963.0, 27528.0, 26182.0, 24424.0, 23338.0, 22348.0, 21794.0, 19472.0, 19472.0, 18309.0, 16957.0, 15865.0, 14336.0, 13438.0, 12026.0, 10701.0, 9191.0, 8155.0, 7482.0, 6447.0, 5708.0, 4643.0, 3879.0, 3006.0, 2355.0, 2102.0, 1733.0, 1536.0, 1279.0, 1063.0, 924.0, 611.0, 483.0, 335.0, 293.0, 252.0, 202.0, 202.0, 157.0, 133.0, 114.0, 88.0, 69.0, 60.0], \"yaxis\": \"y\"}, {\"line\": {\"color\": \"rgb(31, 119, 180)\"}, \"mode\": \"lines\", \"name\": \"CA\", \"showlegend\": false, \"type\": \"scatter\", \"x\": [131, 130, 129, 128, 127, 126, 125, 124, 123, 122, 121, 120, 119, 118, 117, 116, 115, 114, 113, 112, 111, 110, 109, 108, 107, 106, 105, 104, 103, 102, 101, 100, 99, 98, 97, 96, 95, 94, 93, 92, 91, 90, 89, 88, 87, 86, 85, 84, 83, 82, 81, 80, 79, 78, 77, 76, 75, 74, 73, 72, 71, 70, 69, 68, 67, 66], \"xaxis\": \"x2\", \"y\": [2022.0, 1915.3333333333333, 2100.0, 1892.3333333333333, 1733.0, 1338.3333333333333, 1498.3333333333333, 1566.3333333333333, 1899.0, 1803.6666666666667, 1817.6666666666667, 1445.3333333333333, 1298.0, 1403.3333333333333, 1598.3333333333333, 1913.6666666666667, 1997.6666666666667, 2130.3333333333335, 1687.6666666666667, 1432.6666666666667, 1150.0, 1383.6666666666667, 1513.0, 1396.6666666666667, 1278.0, 876.6666666666666, 1288.6666666666667, 958.6666666666666, 1161.6666666666667, 838.3333333333334, 1202.3333333333333, 1324.3333333333333, 1173.0, 1279.6666666666667, 1211.6666666666667, 1415.6666666666667, 1290.3333333333333, 1073.0, 914.6666666666666, 815.6666666666666, 946.3333333333334, 856.0, 900.6666666666666, 762.6666666666666, 592.3333333333334, 424.3333333333333, 273.0, 274.3333333333333, 223.33333333333334, 204.0, 222.66666666666666, 193.33333333333334, 196.33333333333334, 106.0, 77.0, 44.333333333333336, 30.333333333333332, 31.666666666666668, 23.0, 29.333333333333332, 23.0, 21.333333333333332, 18.0], \"yaxis\": \"y2\"}, {\"line\": {\"color\": \"rgb(255, 127, 14)\"}, \"mode\": \"lines\", \"name\": \"NY\", \"showlegend\": true, \"type\": \"scatter\", \"x\": [131, 130, 129, 128, 127, 126, 125, 124, 123, 122, 121, 120, 119, 118, 117, 116, 115, 114, 113, 112, 111, 110, 109, 108, 107, 106, 105, 104, 103, 102, 101, 100, 99, 98, 97, 96, 95, 94, 93, 92, 91, 90, 89, 88, 87, 86, 85, 84, 83, 82, 81, 80, 79, 78, 77, 76, 75, 74, 73, 72, 71, 70, 69, 68, 67, 66], \"xaxis\": \"x\", \"y\": [335395.0, 333122.0, 330407.0, 327649.0, 323978.0, 321192.0, 318953.0, 316415.0, 312977.0, 308314.0, 304372.0, 299691.0, 295106.0, 291996.0, 288045.0, 282143.0, 271590.0, 263460.0, 257216.0, 251690.0, 247512.0, 242786.0, 236732.0, 229642.0, 222284.0, 213779.0, 202208.0, 195031.0, 188694.0, 180458.0, 170512.0, 159937.0, 149316.0, 138863.0, 130689.0, 122031.0, 113704.0, 102863.0, 92381.0, 83712.0, 75795.0, 66497.0, 59513.0, 52318.0, 44635.0, 37258.0, 30811.0, 25665.0, 20875.0, 15168.0, 10356.0, 7102.0, 4152.0, 2382.0, 1700.0, 950.0, 729.0, 524.0, 421.0, 216.0, 216.0, 173.0, 142.0, 105.0, 76.0, 33.0], \"yaxis\": \"y\"}, {\"line\": {\"color\": \"rgb(255, 127, 14)\"}, \"mode\": \"lines\", \"name\": \"NY\", \"showlegend\": false, \"type\": \"scatter\", \"x\": [131, 130, 129, 128, 127, 126, 125, 124, 123, 122, 121, 120, 119, 118, 117, 116, 115, 114, 113, 112, 111, 110, 109, 108, 107, 106, 105, 104, 103, 102, 101, 100, 99, 98, 97, 96, 95, 94, 93, 92, 91, 90, 89, 88, 87, 86, 85, 84, 83, 82, 81, 80, 79, 78, 77, 76, 75, 74, 73, 72, 71, 70, 69, 68, 67, 66], \"xaxis\": \"x2\", \"y\": [2582.0, 3048.0, 3071.6666666666665, 2898.6666666666665, 2521.0, 2738.3333333333335, 3546.3333333333335, 4014.3333333333335, 4428.666666666667, 4402.666666666667, 4125.333333333333, 3882.0, 4321.0, 6802.0, 8195.0, 8309.0, 6633.333333333333, 5316.0, 4810.0, 4986.0, 5956.666666666667, 6834.0, 7651.0, 9144.666666666666, 9084.333333333334, 8361.666666666666, 7250.0, 8173.0, 9585.666666666666, 10380.666666666666, 10549.666666666666, 9749.333333333334, 9095.0, 8386.333333333334, 9275.333333333334, 9883.333333333334, 9997.333333333334, 9022.666666666666, 8628.0, 8066.333333333333, 7825.666666666667, 7287.333333333333, 7418.333333333333, 7169.0, 6323.333333333333, 5461.0, 5214.333333333333, 5103.0, 4591.0, 3672.0, 2658.0, 1800.6666666666667, 1067.3333333333333, 551.0, 392.0, 176.33333333333334, 171.0, 102.66666666666667, 82.66666666666667, 24.666666666666668, 37.0, 32.333333333333336, 36.333333333333336], \"yaxis\": \"y2\"}, {\"line\": {\"color\": \"rgb(44, 160, 44)\"}, \"mode\": \"lines\", \"name\": \"NJ\", \"showlegend\": true, \"type\": \"scatter\", \"x\": [131, 130, 129, 128, 127, 126, 125, 124, 123, 122, 121, 120, 119, 118, 117, 116, 115, 114, 113, 112, 111, 110, 109, 108, 107, 106, 105, 104, 103, 102, 101, 100, 99, 98, 97, 96, 95, 94, 93, 92, 91, 90, 89, 88, 87, 86, 85, 84, 83, 82, 81, 80, 79, 78, 77, 76, 75, 74, 73, 72, 71, 70, 69, 68, 67, 66], \"xaxis\": \"x\", \"y\": [138532.0, 137085.0, 135454.0, 133635.0, 131890.0, 130593.0, 128269.0, 126744.0, 123717.0, 121190.0, 118652.0, 116264.0, 113856.0, 111188.0, 109038.0, 105523.0, 102196.0, 99989.0, 95865.0, 92387.0, 88806.0, 85301.0, 81420.0, 78467.0, 75317.0, 71030.0, 68824.0, 64584.0, 61850.0, 58151.0, 54588.0, 51027.0, 47437.0, 44416.0, 41090.0, 37505.0, 34124.0, 29895.0, 25590.0, 22255.0, 18696.0, 16636.0, 13386.0, 11124.0, 8825.0, 6876.0, 4402.0, 3675.0, 2844.0, 1914.0, 1327.0, 890.0, 742.0, 427.0, 267.0, 178.0, 98.0, 50.0, 50.0, 30.0, 24.0, 15.0, 11.0, 6.0, 4.0, 1.0], \"yaxis\": \"y\"}, {\"line\": {\"color\": \"rgb(44, 160, 44)\"}, \"mode\": \"lines\", \"name\": \"NJ\", \"showlegend\": false, \"type\": \"scatter\", \"x\": [131, 130, 129, 128, 127, 126, 125, 124, 123, 122, 121, 120, 119, 118, 117, 116, 115, 114, 113, 112, 111, 110, 109, 108, 107, 106, 105, 104, 103, 102, 101, 100, 99, 98, 97, 96, 95, 94, 93, 92, 91, 90, 89, 88, 87, 86, 85, 84, 83, 82, 81, 80, 79, 78, 77, 76, 75, 74, 73, 72, 71, 70, 69, 68, 67, 66], \"xaxis\": \"x2\", \"y\": [1632.3333333333333, 1731.6666666666667, 1620.3333333333333, 1788.6666666666667, 1715.3333333333333, 2292.0, 2359.6666666666665, 2697.3333333333335, 2484.3333333333335, 2444.6666666666665, 2488.0, 2408.6666666666665, 2777.6666666666665, 2997.3333333333335, 3016.3333333333335, 3219.3333333333335, 3269.6666666666665, 3727.6666666666665, 3521.3333333333335, 3655.6666666666665, 3446.3333333333335, 3328.0, 3463.3333333333335, 3214.3333333333335, 3577.6666666666665, 3060.0, 3557.6666666666665, 3332.0, 3607.6666666666665, 3571.3333333333335, 3390.6666666666665, 3312.3333333333335, 3310.6666666666665, 3430.6666666666665, 3731.6666666666665, 3971.6666666666665, 3956.3333333333335, 3733.0, 2984.6666666666665, 2956.3333333333335, 2524.0, 2603.6666666666665, 2170.0, 2240.6666666666665, 1716.6666666666667, 1344.0, 829.3333333333334, 782.6666666666666, 651.3333333333334, 390.6666666666667, 300.0, 207.66666666666666, 188.0, 109.66666666666667, 72.33333333333333, 42.666666666666664, 22.666666666666668, 8.666666666666666, 11.666666666666666, 6.333333333333333, 6.0, 3.6666666666666665, 3.3333333333333335], \"yaxis\": \"y2\"}],\n",
       "                        {\"height\": 350, \"margin\": {\"b\": 20, \"l\": 20, \"r\": 20, \"t\": 50}, \"template\": {\"data\": {\"bar\": [{\"error_x\": {\"color\": \"#2a3f5f\"}, \"error_y\": {\"color\": \"#2a3f5f\"}, \"marker\": {\"line\": {\"color\": \"#E5ECF6\", \"width\": 0.5}}, \"type\": \"bar\"}], \"barpolar\": [{\"marker\": {\"line\": {\"color\": \"#E5ECF6\", \"width\": 0.5}}, \"type\": \"barpolar\"}], \"carpet\": [{\"aaxis\": {\"endlinecolor\": \"#2a3f5f\", \"gridcolor\": \"white\", \"linecolor\": \"white\", \"minorgridcolor\": \"white\", \"startlinecolor\": \"#2a3f5f\"}, \"baxis\": {\"endlinecolor\": \"#2a3f5f\", \"gridcolor\": \"white\", \"linecolor\": \"white\", \"minorgridcolor\": \"white\", \"startlinecolor\": \"#2a3f5f\"}, \"type\": \"carpet\"}], \"choropleth\": [{\"colorbar\": {\"outlinewidth\": 0, \"ticks\": \"\"}, \"type\": \"choropleth\"}], \"contour\": [{\"colorbar\": {\"outlinewidth\": 0, \"ticks\": \"\"}, \"colorscale\": [[0.0, \"#0d0887\"], [0.1111111111111111, \"#46039f\"], [0.2222222222222222, \"#7201a8\"], [0.3333333333333333, \"#9c179e\"], [0.4444444444444444, \"#bd3786\"], [0.5555555555555556, \"#d8576b\"], [0.6666666666666666, \"#ed7953\"], [0.7777777777777778, \"#fb9f3a\"], [0.8888888888888888, \"#fdca26\"], [1.0, \"#f0f921\"]], \"type\": \"contour\"}], \"contourcarpet\": [{\"colorbar\": {\"outlinewidth\": 0, \"ticks\": \"\"}, \"type\": \"contourcarpet\"}], \"heatmap\": [{\"colorbar\": {\"outlinewidth\": 0, \"ticks\": \"\"}, \"colorscale\": [[0.0, \"#0d0887\"], [0.1111111111111111, \"#46039f\"], [0.2222222222222222, \"#7201a8\"], [0.3333333333333333, \"#9c179e\"], [0.4444444444444444, \"#bd3786\"], [0.5555555555555556, \"#d8576b\"], [0.6666666666666666, \"#ed7953\"], [0.7777777777777778, \"#fb9f3a\"], [0.8888888888888888, \"#fdca26\"], [1.0, \"#f0f921\"]], \"type\": \"heatmap\"}], \"heatmapgl\": [{\"colorbar\": {\"outlinewidth\": 0, \"ticks\": \"\"}, \"colorscale\": [[0.0, \"#0d0887\"], [0.1111111111111111, \"#46039f\"], [0.2222222222222222, \"#7201a8\"], [0.3333333333333333, \"#9c179e\"], [0.4444444444444444, \"#bd3786\"], [0.5555555555555556, \"#d8576b\"], [0.6666666666666666, \"#ed7953\"], [0.7777777777777778, \"#fb9f3a\"], [0.8888888888888888, \"#fdca26\"], [1.0, \"#f0f921\"]], \"type\": \"heatmapgl\"}], \"histogram\": [{\"marker\": {\"colorbar\": {\"outlinewidth\": 0, \"ticks\": \"\"}}, \"type\": \"histogram\"}], \"histogram2d\": [{\"colorbar\": {\"outlinewidth\": 0, \"ticks\": \"\"}, \"colorscale\": [[0.0, \"#0d0887\"], [0.1111111111111111, \"#46039f\"], [0.2222222222222222, \"#7201a8\"], [0.3333333333333333, \"#9c179e\"], [0.4444444444444444, \"#bd3786\"], [0.5555555555555556, \"#d8576b\"], [0.6666666666666666, \"#ed7953\"], [0.7777777777777778, \"#fb9f3a\"], [0.8888888888888888, \"#fdca26\"], [1.0, \"#f0f921\"]], \"type\": \"histogram2d\"}], \"histogram2dcontour\": [{\"colorbar\": {\"outlinewidth\": 0, \"ticks\": \"\"}, \"colorscale\": [[0.0, \"#0d0887\"], [0.1111111111111111, \"#46039f\"], [0.2222222222222222, \"#7201a8\"], [0.3333333333333333, \"#9c179e\"], [0.4444444444444444, \"#bd3786\"], [0.5555555555555556, \"#d8576b\"], [0.6666666666666666, \"#ed7953\"], [0.7777777777777778, \"#fb9f3a\"], [0.8888888888888888, \"#fdca26\"], [1.0, \"#f0f921\"]], \"type\": \"histogram2dcontour\"}], \"mesh3d\": [{\"colorbar\": {\"outlinewidth\": 0, \"ticks\": \"\"}, \"type\": \"mesh3d\"}], \"parcoords\": [{\"line\": {\"colorbar\": {\"outlinewidth\": 0, \"ticks\": \"\"}}, \"type\": \"parcoords\"}], \"pie\": [{\"automargin\": true, \"type\": \"pie\"}], \"scatter\": [{\"marker\": {\"colorbar\": {\"outlinewidth\": 0, \"ticks\": \"\"}}, \"type\": \"scatter\"}], \"scatter3d\": [{\"line\": {\"colorbar\": {\"outlinewidth\": 0, \"ticks\": \"\"}}, \"marker\": {\"colorbar\": {\"outlinewidth\": 0, \"ticks\": \"\"}}, \"type\": \"scatter3d\"}], \"scattercarpet\": [{\"marker\": {\"colorbar\": {\"outlinewidth\": 0, \"ticks\": \"\"}}, \"type\": \"scattercarpet\"}], \"scattergeo\": [{\"marker\": {\"colorbar\": {\"outlinewidth\": 0, \"ticks\": \"\"}}, \"type\": \"scattergeo\"}], \"scattergl\": [{\"marker\": {\"colorbar\": {\"outlinewidth\": 0, \"ticks\": \"\"}}, \"type\": \"scattergl\"}], \"scattermapbox\": [{\"marker\": {\"colorbar\": {\"outlinewidth\": 0, \"ticks\": \"\"}}, \"type\": \"scattermapbox\"}], \"scatterpolar\": [{\"marker\": {\"colorbar\": {\"outlinewidth\": 0, \"ticks\": \"\"}}, \"type\": \"scatterpolar\"}], \"scatterpolargl\": [{\"marker\": {\"colorbar\": {\"outlinewidth\": 0, \"ticks\": \"\"}}, \"type\": \"scatterpolargl\"}], \"scatterternary\": [{\"marker\": {\"colorbar\": {\"outlinewidth\": 0, \"ticks\": \"\"}}, \"type\": \"scatterternary\"}], \"surface\": [{\"colorbar\": {\"outlinewidth\": 0, \"ticks\": \"\"}, \"colorscale\": [[0.0, \"#0d0887\"], [0.1111111111111111, \"#46039f\"], [0.2222222222222222, \"#7201a8\"], [0.3333333333333333, \"#9c179e\"], [0.4444444444444444, \"#bd3786\"], [0.5555555555555556, \"#d8576b\"], [0.6666666666666666, \"#ed7953\"], [0.7777777777777778, \"#fb9f3a\"], [0.8888888888888888, \"#fdca26\"], [1.0, \"#f0f921\"]], \"type\": \"surface\"}], \"table\": [{\"cells\": {\"fill\": {\"color\": \"#EBF0F8\"}, \"line\": {\"color\": \"white\"}}, \"header\": {\"fill\": {\"color\": \"#C8D4E3\"}, \"line\": {\"color\": \"white\"}}, \"type\": \"table\"}]}, \"layout\": {\"annotationdefaults\": {\"arrowcolor\": \"#2a3f5f\", \"arrowhead\": 0, \"arrowwidth\": 1}, \"coloraxis\": {\"colorbar\": {\"outlinewidth\": 0, \"ticks\": \"\"}}, \"colorscale\": {\"diverging\": [[0, \"#8e0152\"], [0.1, \"#c51b7d\"], [0.2, \"#de77ae\"], [0.3, \"#f1b6da\"], [0.4, \"#fde0ef\"], [0.5, \"#f7f7f7\"], [0.6, \"#e6f5d0\"], [0.7, \"#b8e186\"], [0.8, \"#7fbc41\"], [0.9, \"#4d9221\"], [1, \"#276419\"]], \"sequential\": [[0.0, \"#0d0887\"], [0.1111111111111111, \"#46039f\"], [0.2222222222222222, \"#7201a8\"], [0.3333333333333333, \"#9c179e\"], [0.4444444444444444, \"#bd3786\"], [0.5555555555555556, \"#d8576b\"], [0.6666666666666666, \"#ed7953\"], [0.7777777777777778, \"#fb9f3a\"], [0.8888888888888888, \"#fdca26\"], [1.0, \"#f0f921\"]], \"sequentialminus\": [[0.0, \"#0d0887\"], [0.1111111111111111, \"#46039f\"], [0.2222222222222222, \"#7201a8\"], [0.3333333333333333, \"#9c179e\"], [0.4444444444444444, \"#bd3786\"], [0.5555555555555556, \"#d8576b\"], [0.6666666666666666, \"#ed7953\"], [0.7777777777777778, \"#fb9f3a\"], [0.8888888888888888, \"#fdca26\"], [1.0, \"#f0f921\"]]}, \"colorway\": [\"#636efa\", \"#EF553B\", \"#00cc96\", \"#ab63fa\", \"#FFA15A\", \"#19d3f3\", \"#FF6692\", \"#B6E880\", \"#FF97FF\", \"#FECB52\"], \"font\": {\"color\": \"#2a3f5f\"}, \"geo\": {\"bgcolor\": \"white\", \"lakecolor\": \"white\", \"landcolor\": \"#E5ECF6\", \"showlakes\": true, \"showland\": true, \"subunitcolor\": \"white\"}, \"hoverlabel\": {\"align\": \"left\"}, \"hovermode\": \"closest\", \"mapbox\": {\"style\": \"light\"}, \"paper_bgcolor\": \"white\", \"plot_bgcolor\": \"#E5ECF6\", \"polar\": {\"angularaxis\": {\"gridcolor\": \"white\", \"linecolor\": \"white\", \"ticks\": \"\"}, \"bgcolor\": \"#E5ECF6\", \"radialaxis\": {\"gridcolor\": \"white\", \"linecolor\": \"white\", \"ticks\": \"\"}}, \"scene\": {\"xaxis\": {\"backgroundcolor\": \"#E5ECF6\", \"gridcolor\": \"white\", \"gridwidth\": 2, \"linecolor\": \"white\", \"showbackground\": true, \"ticks\": \"\", \"zerolinecolor\": \"white\"}, \"yaxis\": {\"backgroundcolor\": \"#E5ECF6\", \"gridcolor\": \"white\", \"gridwidth\": 2, \"linecolor\": \"white\", \"showbackground\": true, \"ticks\": \"\", \"zerolinecolor\": \"white\"}, \"zaxis\": {\"backgroundcolor\": \"#E5ECF6\", \"gridcolor\": \"white\", \"gridwidth\": 2, \"linecolor\": \"white\", \"showbackground\": true, \"ticks\": \"\", \"zerolinecolor\": \"white\"}}, \"shapedefaults\": {\"line\": {\"color\": \"#2a3f5f\"}}, \"ternary\": {\"aaxis\": {\"gridcolor\": \"white\", \"linecolor\": \"white\", \"ticks\": \"\"}, \"baxis\": {\"gridcolor\": \"white\", \"linecolor\": \"white\", \"ticks\": \"\"}, \"bgcolor\": \"#E5ECF6\", \"caxis\": {\"gridcolor\": \"white\", \"linecolor\": \"white\", \"ticks\": \"\"}}, \"title\": {\"x\": 0.05}, \"xaxis\": {\"automargin\": true, \"gridcolor\": \"white\", \"linecolor\": \"white\", \"ticks\": \"\", \"title\": {\"standoff\": 15}, \"zerolinecolor\": \"white\", \"zerolinewidth\": 2}, \"yaxis\": {\"automargin\": true, \"gridcolor\": \"white\", \"linecolor\": \"white\", \"ticks\": \"\", \"title\": {\"standoff\": 15}, \"zerolinecolor\": \"white\", \"zerolinewidth\": 2}}}, \"xaxis\": {\"anchor\": \"y\", \"domain\": [0.0, 0.45], \"linecolor\": \"black\", \"linewidth\": 1.5, \"mirror\": true, \"showline\": true, \"title\": {\"text\": \"Day of Year\"}}, \"xaxis2\": {\"anchor\": \"y2\", \"domain\": [0.55, 1.0], \"linecolor\": \"black\", \"linewidth\": 1.5, \"mirror\": true, \"showline\": true, \"title\": {\"text\": \"Day of Year\"}}, \"yaxis\": {\"anchor\": \"x\", \"domain\": [0.0, 1.0], \"linecolor\": \"black\", \"linewidth\": 1.5, \"mirror\": true, \"showline\": true, \"title\": {\"text\": \"Cumulative Case Count Over Time\"}}, \"yaxis2\": {\"anchor\": \"x2\", \"domain\": [0.0, 1.0], \"linecolor\": \"black\", \"linewidth\": 1.5, \"mirror\": true, \"showline\": true, \"title\": {\"text\": \"Daily Incidence Over Time\"}}},\n",
       "                        {\"responsive\": true}\n",
       "                    ).then(function(){\n",
       "                            \n",
       "var gd = document.getElementById('2fc5da16-69a8-4241-8e15-d0731d1e6013');\n",
       "var x = new MutationObserver(function (mutations, observer) {{\n",
       "        var display = window.getComputedStyle(gd).display;\n",
       "        if (!display || display === 'none') {{\n",
       "            console.log([gd, 'removed!']);\n",
       "            Plotly.purge(gd);\n",
       "            observer.disconnect();\n",
       "        }}\n",
       "}});\n",
       "\n",
       "// Listen for the removal of the full notebook cells\n",
       "var notebookContainer = gd.closest('#notebook-container');\n",
       "if (notebookContainer) {{\n",
       "    x.observe(notebookContainer, {childList: true});\n",
       "}}\n",
       "\n",
       "// Listen for the clearing of the current output cell\n",
       "var outputEl = gd.closest('.output');\n",
       "if (outputEl) {{\n",
       "    x.observe(outputEl, {childList: true});\n",
       "}}\n",
       "\n",
       "                        })\n",
       "                };\n",
       "                });\n",
       "            </script>\n",
       "        </div>"
      ]
     },
     "metadata": {},
     "output_type": "display_data"
    }
   ],
   "source": [
    "subset = ['CA','NY','NJ']\n",
    "colors = pc.DEFAULT_PLOTLY_COLORS\n",
    "\n",
    "fig = make_subplots(rows=1, cols=2)\n",
    "for i,s in enumerate(subset):\n",
    "    fig.add_trace(go.Scatter(name=s,x=x_data,y=states_cumulative[s],mode='lines',line_color=colors[i],showlegend=True),row=1,col=1)\n",
    "    fig.add_trace(go.Scatter(name=s,x=x_data,y=states_inc_rolling3[s],mode='lines',line_color=colors[i],showlegend=False),row=1,col=2)\n",
    "\n",
    "fig.update_layout(height=350,margin=dict(l=20, r=20, t=50, b=20))\n",
    "fig.update_xaxes(title='Day of Year',showline=True, linewidth=1.5, linecolor='black', mirror=True)\n",
    "fig.update_yaxes(showline=True, linewidth=1.5, linecolor='black', mirror=True)\n",
    "fig.update_yaxes(title='Cumulative Case Count Over Time',row=1,col=1)\n",
    "fig.update_yaxes(title='Daily Incidence Over Time',row=1,col=2)\n",
    "fig.show()"
   ]
  },
  {
   "cell_type": "markdown",
   "metadata": {},
   "source": [
    "And we can do the same for countries:"
   ]
  },
  {
   "cell_type": "code",
   "execution_count": 8,
   "metadata": {
    "jupyter": {
     "source_hidden": true
    }
   },
   "outputs": [
    {
     "data": {
      "application/vnd.plotly.v1+json": {
       "config": {
        "plotlyServerURL": "https://plot.ly"
       },
       "data": [
        {
         "line": {
          "color": "rgb(31, 119, 180)"
         },
         "mode": "lines",
         "name": "United States",
         "showlegend": true,
         "type": "scatter",
         "x": [
          131,
          130,
          129,
          128,
          127,
          126,
          125,
          124,
          123,
          122,
          121,
          120,
          119,
          118,
          117,
          116,
          115,
          114,
          113,
          112,
          111,
          110,
          109,
          108,
          107,
          106,
          105,
          104,
          103,
          102,
          101,
          100,
          99,
          98,
          97,
          96,
          95,
          94,
          93,
          92,
          91,
          90,
          89,
          88,
          87,
          86,
          85,
          84,
          83,
          82,
          81,
          80,
          79,
          78,
          77,
          76,
          75,
          74,
          73,
          72,
          71,
          70,
          69,
          68,
          67,
          66
         ],
         "xaxis": "x",
         "y": [
          1309550,
          1283929,
          1257023,
          1229331,
          1204351,
          1180375,
          1158040,
          1132539,
          1103461,
          1069424,
          1039909,
          1012582,
          988197,
          965785,
          938154,
          905358,
          869170,
          840351,
          811865,
          784326,
          758809,
          732197,
          699706,
          667592,
          636350,
          607670,
          580619,
          555313,
          526396,
          496535,
          462780,
          428654,
          397121,
          366317,
          336802,
          308650,
          275367,
          243622,
          213242,
          188172,
          161831,
          140909,
          121465,
          101657,
          83836,
          65778,
          53736,
          43843,
          33276,
          25600,
          19273,
          13747,
          7783,
          6421,
          4632,
          3499,
          2727,
          2179,
          1663,
          1281,
          959,
          583,
          518,
          402,
          262,
          217,
          149,
          118,
          98,
          74,
          68,
          60,
          58,
          57,
          51,
          51,
          15,
          15,
          15,
          13,
          13,
          13,
          13,
          13,
          13,
          13,
          13,
          12,
          12,
          11,
          11,
          11,
          11,
          11,
          11,
          11,
          11,
          8,
          8,
          7,
          5,
          5,
          5,
          5,
          5,
          2,
          2,
          1,
          1
         ],
         "yaxis": "y"
        },
        {
         "line": {
          "color": "rgb(31, 119, 180)"
         },
         "mode": "lines",
         "name": "United States",
         "showlegend": false,
         "type": "scatter",
         "x": [
          131,
          130,
          129,
          128,
          127,
          126,
          125,
          124,
          123,
          122,
          121,
          120,
          119,
          118,
          117,
          116,
          115,
          114,
          113,
          112,
          111,
          110,
          109,
          108,
          107,
          106,
          105,
          104,
          103,
          102,
          101,
          100,
          99,
          98,
          97,
          96,
          95,
          94,
          93,
          92,
          91,
          90,
          89,
          88,
          87,
          86,
          85,
          84,
          83,
          82,
          81,
          80,
          79,
          78,
          77,
          76,
          75,
          74,
          73,
          72,
          71,
          70,
          69,
          68,
          67,
          66
         ],
         "xaxis": "x2",
         "y": [
          26739.666666666668,
          26526,
          25549.333333333332,
          23763.666666666668,
          23937.333333333332,
          25638,
          29538.666666666668,
          30876.666666666668,
          30293,
          27075.666666666668,
          24708,
          24809.333333333332,
          27613,
          32205,
          32601,
          31164.333333333332,
          28281.333333333332,
          27180.666666666668,
          26556,
          28206.666666666668,
          30405.666666666668,
          31949,
          30678.666666666668,
          28991,
          27012.333333333332,
          27091.333333333332,
          28028,
          30844.333333333332,
          32580.666666666668,
          33138,
          32154.333333333332,
          30617.333333333332,
          29490.333333333332,
          30316.666666666668,
          31060,
          31802.666666666668,
          29065,
          27263.666666666668,
          24111,
          22235.666666666668,
          20058,
          19024.333333333332,
          18562.333333333332,
          15973.666666666666,
          13331,
          10834,
          9378.666666666666,
          8190,
          6509.666666666667,
          5939,
          4284,
          3038.3333333333335,
          1428,
          1231.3333333333333,
          817.6666666666666,
          612,
          482,
          406.6666666666667,
          360,
          254.33333333333334,
          185.66666666666666,
          107,
          100.33333333333333,
          84.33333333333333,
          48,
          39.666666666666664,
          25,
          16.666666666666668,
          12.666666666666666,
          5.333333333333333,
          3.6666666666666665,
          3,
          2.3333333333333335,
          14,
          12,
          12,
          0.6666666666666666,
          0.6666666666666666,
          0.6666666666666666,
          0,
          0,
          0,
          0,
          0,
          0.3333333333333333,
          0.3333333333333333,
          0.6666666666666666,
          0.3333333333333333,
          0.3333333333333333,
          0,
          0,
          0,
          0,
          0,
          1,
          1,
          1.3333333333333333,
          1,
          1,
          0.6666666666666666,
          0,
          0,
          1,
          1,
          1.3333333333333333,
          0.3333333333333333
         ],
         "yaxis": "y2"
        },
        {
         "line": {
          "color": "rgb(255, 127, 14)"
         },
         "mode": "lines",
         "name": "Spain",
         "showlegend": true,
         "type": "scatter",
         "x": [
          131,
          130,
          129,
          128,
          127,
          126,
          125,
          124,
          123,
          122,
          121,
          120,
          119,
          118,
          117,
          116,
          115,
          114,
          113,
          112,
          111,
          110,
          109,
          108,
          107,
          106,
          105,
          104,
          103,
          102,
          101,
          100,
          99,
          98,
          97,
          96,
          95,
          94,
          93,
          92,
          91,
          90,
          89,
          88,
          87,
          86,
          85,
          84,
          83,
          82,
          81,
          80,
          79,
          78,
          77,
          76,
          75,
          74,
          73,
          72,
          71,
          70,
          69,
          68,
          67,
          66
         ],
         "xaxis": "x",
         "y": [
          223578,
          222857,
          221447,
          220325,
          219329,
          218011,
          217466,
          216582,
          213435,
          213435,
          212917,
          210773,
          209465,
          207634,
          205905,
          202990,
          213024,
          208389,
          204178,
          200210,
          198674,
          191726,
          190839,
          184948,
          177644,
          172541,
          170099,
          166831,
          163027,
          158273,
          153222,
          148220,
          141942,
          136675,
          131646,
          126168,
          119199,
          112065,
          104118,
          95923,
          87956,
          80110,
          73235,
          65719,
          57786,
          49515,
          39885,
          35136,
          28768,
          25374,
          20410,
          17963,
          13910,
          11748,
          9942,
          7798,
          6391,
          5232,
          2277,
          2277,
          1695,
          1073,
          673,
          500,
          400,
          259,
          222,
          165,
          120,
          84,
          45,
          32,
          15,
          13,
          6,
          2,
          2,
          2,
          2,
          2,
          2,
          2,
          2,
          2,
          2,
          2,
          2,
          2,
          2,
          2,
          2,
          1,
          1,
          1,
          1,
          1,
          1,
          1,
          1,
          0,
          0,
          0,
          0,
          0,
          0,
          0,
          0,
          0,
          0
         ],
         "yaxis": "y"
        },
        {
         "line": {
          "color": "rgb(255, 127, 14)"
         },
         "mode": "lines",
         "name": "Spain",
         "showlegend": false,
         "type": "scatter",
         "x": [
          131,
          130,
          129,
          128,
          127,
          126,
          125,
          124,
          123,
          122,
          121,
          120,
          119,
          118,
          117,
          116,
          115,
          114,
          113,
          112,
          111,
          110,
          109,
          108,
          107,
          106,
          105,
          104,
          103,
          102,
          101,
          100,
          99,
          98,
          97,
          96,
          95,
          94,
          93,
          92,
          91,
          90,
          89,
          88,
          87,
          86,
          85,
          84,
          83,
          82,
          81,
          80,
          79,
          78,
          77,
          76,
          75,
          74,
          73,
          72,
          71,
          70,
          69,
          68,
          67,
          66
         ],
         "xaxis": "x2",
         "y": [
          1084.3333333333333,
          1176,
          1145.3333333333333,
          953,
          915.6666666666666,
          1525.3333333333333,
          1343.6666666666667,
          1221.6666666666667,
          887.3333333333334,
          1323.3333333333333,
          1761,
          1622.6666666666667,
          2158.3333333333335,
          -1796.6666666666667,
          -828,
          -396,
          4271.333333333333,
          3238.3333333333335,
          4150.666666666667,
          3123.6666666666665,
          4575.333333333333,
          4694,
          6099.333333333333,
          4949.666666666667,
          3604.3333333333335,
          3171.3333333333335,
          3942,
          4536.333333333333,
          4935.666666666667,
          5443.666666666667,
          5515.666666666667,
          5524.666666666667,
          5258,
          5825.333333333333,
          6527,
          7350,
          7758.666666666667,
          8036.333333333333,
          8002.666666666667,
          7562.666666666667,
          7412.333333333333,
          7441.333333333333,
          7906.666666666667,
          8611.333333333334,
          7550,
          6915.666666666667,
          4837,
          4908.666666666667,
          3601.6666666666665,
          3821.3333333333335,
          2887.3333333333335,
          2673.6666666666665,
          2037.3333333333333,
          1785.6666666666667,
          1570,
          1840.3333333333333,
          1371.3333333333333,
          1179,
          401.3333333333333,
          534.6666666666666,
          398.3333333333333,
          224.33333333333334,
          138,
          92.66666666666667,
          78.33333333333333,
          46.333333333333336,
          46,
          40,
          29.333333333333332,
          23,
          10.666666666666666,
          8.666666666666666,
          4.333333333333333,
          3.6666666666666665,
          1.3333333333333333,
          0,
          0,
          0,
          0,
          0,
          0,
          0,
          0,
          0,
          0,
          0,
          0,
          0,
          0.3333333333333333,
          0.3333333333333333,
          0.3333333333333333,
          0,
          0,
          0,
          0,
          0,
          0.3333333333333333,
          0.3333333333333333,
          0.3333333333333333,
          0,
          0,
          0,
          0,
          0,
          0,
          0
         ],
         "yaxis": "y2"
        },
        {
         "line": {
          "color": "rgb(44, 160, 44)"
         },
         "mode": "lines",
         "name": "Italy",
         "showlegend": true,
         "type": "scatter",
         "x": [
          131,
          130,
          129,
          128,
          127,
          126,
          125,
          124,
          123,
          122,
          121,
          120,
          119,
          118,
          117,
          116,
          115,
          114,
          113,
          112,
          111,
          110,
          109,
          108,
          107,
          106,
          105,
          104,
          103,
          102,
          101,
          100,
          99,
          98,
          97,
          96,
          95,
          94,
          93,
          92,
          91,
          90,
          89,
          88,
          87,
          86,
          85,
          84,
          83,
          82,
          81,
          80,
          79,
          78,
          77,
          76,
          75,
          74,
          73,
          72,
          71,
          70,
          69,
          68,
          67,
          66
         ],
         "xaxis": "x",
         "y": [
          218268,
          217185,
          215858,
          214457,
          213013,
          211938,
          210717,
          209328,
          207428,
          205463,
          203591,
          201505,
          199414,
          197675,
          195351,
          192994,
          189973,
          187327,
          183957,
          181228,
          178972,
          175925,
          172434,
          168941,
          165155,
          162488,
          159516,
          156363,
          152271,
          147577,
          143626,
          139422,
          135586,
          132547,
          128948,
          124632,
          119827,
          115242,
          110574,
          105792,
          101739,
          97689,
          92472,
          86498,
          80589,
          74386,
          69176,
          63927,
          59138,
          53578,
          47021,
          41035,
          35713,
          31506,
          27980,
          24747,
          21157,
          17660,
          12462,
          12462,
          10149,
          9172,
          7375,
          5883,
          4636,
          3858,
          3089,
          2502,
          2036,
          1694,
          1128,
          888,
          655,
          453,
          322,
          229,
          155,
          62,
          20,
          3,
          3,
          3,
          3,
          3,
          3,
          3,
          3,
          3,
          3,
          3,
          3,
          3,
          3,
          2,
          2,
          2,
          2,
          2,
          2,
          2,
          0,
          0,
          0,
          0,
          0,
          0,
          0,
          0,
          0
         ],
         "yaxis": "y"
        },
        {
         "line": {
          "color": "rgb(44, 160, 44)"
         },
         "mode": "lines",
         "name": "Italy",
         "showlegend": false,
         "type": "scatter",
         "x": [
          131,
          130,
          129,
          128,
          127,
          126,
          125,
          124,
          123,
          122,
          121,
          120,
          119,
          118,
          117,
          116,
          115,
          114,
          113,
          112,
          111,
          110,
          109,
          108,
          107,
          106,
          105,
          104,
          103,
          102,
          101,
          100,
          99,
          98,
          97,
          96,
          95,
          94,
          93,
          92,
          91,
          90,
          89,
          88,
          87,
          86,
          85,
          84,
          83,
          82,
          81,
          80,
          79,
          78,
          77,
          76,
          75,
          74,
          73,
          72,
          71,
          70,
          69,
          68,
          67,
          66
         ],
         "xaxis": "x2",
         "y": [
          1270.3333333333333,
          1390.6666666666667,
          1306.6666666666667,
          1246.6666666666667,
          1228.3333333333333,
          1503.3333333333333,
          1751.3333333333333,
          1912.3333333333333,
          1974.3333333333333,
          2016.3333333333333,
          1972,
          2051.3333333333335,
          2140,
          2567.3333333333335,
          2674.6666666666665,
          3012.3333333333335,
          2915,
          2785,
          2677.3333333333335,
          2931.3333333333335,
          3343.6666666666665,
          3590,
          3315.3333333333335,
          3141.6666666666665,
          2930.6666666666665,
          3405.6666666666665,
          3979.6666666666665,
          4245.666666666667,
          4283,
          3997,
          3693,
          3491.3333333333335,
          3651.3333333333335,
          4240,
          4568.666666666667,
          4686,
          4678.333333333333,
          4501,
          4295,
          4440,
          5080.333333333333,
          5700,
          6028.666666666667,
          5774,
          5554,
          5082.666666666667,
          5199.333333333333,
          5635.333333333333,
          6034.333333333333,
          5955,
          5171.666666666667,
          4351.666666666667,
          3655.3333333333335,
          3449.6666666666665,
          3440,
          4095,
          2898.3333333333335,
          2503.6666666666665,
          1096.6666666666667,
          1695.6666666666667,
          1422,
          1512,
          1172.3333333333333,
          931.3333333333334,
          711.3333333333334,
          607.3333333333334,
          465,
          458,
          382.6666666666667,
          346.3333333333333,
          225,
          188.66666666666666,
          142,
          99.33333333333333,
          86.66666666666667,
          69.66666666666667,
          50.666666666666664,
          19.666666666666668,
          5.666666666666667,
          0,
          0,
          0,
          0,
          0,
          0,
          0,
          0,
          0,
          0,
          0,
          0.3333333333333333,
          0.3333333333333333,
          0.3333333333333333,
          0,
          0,
          0,
          0,
          0.6666666666666666,
          0.6666666666666666,
          0.6666666666666666,
          0,
          0,
          0,
          0,
          0,
          0
         ],
         "yaxis": "y2"
        }
       ],
       "layout": {
        "height": 350,
        "margin": {
         "b": 20,
         "l": 20,
         "r": 20,
         "t": 50
        },
        "template": {
         "data": {
          "bar": [
           {
            "error_x": {
             "color": "#2a3f5f"
            },
            "error_y": {
             "color": "#2a3f5f"
            },
            "marker": {
             "line": {
              "color": "#E5ECF6",
              "width": 0.5
             }
            },
            "type": "bar"
           }
          ],
          "barpolar": [
           {
            "marker": {
             "line": {
              "color": "#E5ECF6",
              "width": 0.5
             }
            },
            "type": "barpolar"
           }
          ],
          "carpet": [
           {
            "aaxis": {
             "endlinecolor": "#2a3f5f",
             "gridcolor": "white",
             "linecolor": "white",
             "minorgridcolor": "white",
             "startlinecolor": "#2a3f5f"
            },
            "baxis": {
             "endlinecolor": "#2a3f5f",
             "gridcolor": "white",
             "linecolor": "white",
             "minorgridcolor": "white",
             "startlinecolor": "#2a3f5f"
            },
            "type": "carpet"
           }
          ],
          "choropleth": [
           {
            "colorbar": {
             "outlinewidth": 0,
             "ticks": ""
            },
            "type": "choropleth"
           }
          ],
          "contour": [
           {
            "colorbar": {
             "outlinewidth": 0,
             "ticks": ""
            },
            "colorscale": [
             [
              0,
              "#0d0887"
             ],
             [
              0.1111111111111111,
              "#46039f"
             ],
             [
              0.2222222222222222,
              "#7201a8"
             ],
             [
              0.3333333333333333,
              "#9c179e"
             ],
             [
              0.4444444444444444,
              "#bd3786"
             ],
             [
              0.5555555555555556,
              "#d8576b"
             ],
             [
              0.6666666666666666,
              "#ed7953"
             ],
             [
              0.7777777777777778,
              "#fb9f3a"
             ],
             [
              0.8888888888888888,
              "#fdca26"
             ],
             [
              1,
              "#f0f921"
             ]
            ],
            "type": "contour"
           }
          ],
          "contourcarpet": [
           {
            "colorbar": {
             "outlinewidth": 0,
             "ticks": ""
            },
            "type": "contourcarpet"
           }
          ],
          "heatmap": [
           {
            "colorbar": {
             "outlinewidth": 0,
             "ticks": ""
            },
            "colorscale": [
             [
              0,
              "#0d0887"
             ],
             [
              0.1111111111111111,
              "#46039f"
             ],
             [
              0.2222222222222222,
              "#7201a8"
             ],
             [
              0.3333333333333333,
              "#9c179e"
             ],
             [
              0.4444444444444444,
              "#bd3786"
             ],
             [
              0.5555555555555556,
              "#d8576b"
             ],
             [
              0.6666666666666666,
              "#ed7953"
             ],
             [
              0.7777777777777778,
              "#fb9f3a"
             ],
             [
              0.8888888888888888,
              "#fdca26"
             ],
             [
              1,
              "#f0f921"
             ]
            ],
            "type": "heatmap"
           }
          ],
          "heatmapgl": [
           {
            "colorbar": {
             "outlinewidth": 0,
             "ticks": ""
            },
            "colorscale": [
             [
              0,
              "#0d0887"
             ],
             [
              0.1111111111111111,
              "#46039f"
             ],
             [
              0.2222222222222222,
              "#7201a8"
             ],
             [
              0.3333333333333333,
              "#9c179e"
             ],
             [
              0.4444444444444444,
              "#bd3786"
             ],
             [
              0.5555555555555556,
              "#d8576b"
             ],
             [
              0.6666666666666666,
              "#ed7953"
             ],
             [
              0.7777777777777778,
              "#fb9f3a"
             ],
             [
              0.8888888888888888,
              "#fdca26"
             ],
             [
              1,
              "#f0f921"
             ]
            ],
            "type": "heatmapgl"
           }
          ],
          "histogram": [
           {
            "marker": {
             "colorbar": {
              "outlinewidth": 0,
              "ticks": ""
             }
            },
            "type": "histogram"
           }
          ],
          "histogram2d": [
           {
            "colorbar": {
             "outlinewidth": 0,
             "ticks": ""
            },
            "colorscale": [
             [
              0,
              "#0d0887"
             ],
             [
              0.1111111111111111,
              "#46039f"
             ],
             [
              0.2222222222222222,
              "#7201a8"
             ],
             [
              0.3333333333333333,
              "#9c179e"
             ],
             [
              0.4444444444444444,
              "#bd3786"
             ],
             [
              0.5555555555555556,
              "#d8576b"
             ],
             [
              0.6666666666666666,
              "#ed7953"
             ],
             [
              0.7777777777777778,
              "#fb9f3a"
             ],
             [
              0.8888888888888888,
              "#fdca26"
             ],
             [
              1,
              "#f0f921"
             ]
            ],
            "type": "histogram2d"
           }
          ],
          "histogram2dcontour": [
           {
            "colorbar": {
             "outlinewidth": 0,
             "ticks": ""
            },
            "colorscale": [
             [
              0,
              "#0d0887"
             ],
             [
              0.1111111111111111,
              "#46039f"
             ],
             [
              0.2222222222222222,
              "#7201a8"
             ],
             [
              0.3333333333333333,
              "#9c179e"
             ],
             [
              0.4444444444444444,
              "#bd3786"
             ],
             [
              0.5555555555555556,
              "#d8576b"
             ],
             [
              0.6666666666666666,
              "#ed7953"
             ],
             [
              0.7777777777777778,
              "#fb9f3a"
             ],
             [
              0.8888888888888888,
              "#fdca26"
             ],
             [
              1,
              "#f0f921"
             ]
            ],
            "type": "histogram2dcontour"
           }
          ],
          "mesh3d": [
           {
            "colorbar": {
             "outlinewidth": 0,
             "ticks": ""
            },
            "type": "mesh3d"
           }
          ],
          "parcoords": [
           {
            "line": {
             "colorbar": {
              "outlinewidth": 0,
              "ticks": ""
             }
            },
            "type": "parcoords"
           }
          ],
          "pie": [
           {
            "automargin": true,
            "type": "pie"
           }
          ],
          "scatter": [
           {
            "marker": {
             "colorbar": {
              "outlinewidth": 0,
              "ticks": ""
             }
            },
            "type": "scatter"
           }
          ],
          "scatter3d": [
           {
            "line": {
             "colorbar": {
              "outlinewidth": 0,
              "ticks": ""
             }
            },
            "marker": {
             "colorbar": {
              "outlinewidth": 0,
              "ticks": ""
             }
            },
            "type": "scatter3d"
           }
          ],
          "scattercarpet": [
           {
            "marker": {
             "colorbar": {
              "outlinewidth": 0,
              "ticks": ""
             }
            },
            "type": "scattercarpet"
           }
          ],
          "scattergeo": [
           {
            "marker": {
             "colorbar": {
              "outlinewidth": 0,
              "ticks": ""
             }
            },
            "type": "scattergeo"
           }
          ],
          "scattergl": [
           {
            "marker": {
             "colorbar": {
              "outlinewidth": 0,
              "ticks": ""
             }
            },
            "type": "scattergl"
           }
          ],
          "scattermapbox": [
           {
            "marker": {
             "colorbar": {
              "outlinewidth": 0,
              "ticks": ""
             }
            },
            "type": "scattermapbox"
           }
          ],
          "scatterpolar": [
           {
            "marker": {
             "colorbar": {
              "outlinewidth": 0,
              "ticks": ""
             }
            },
            "type": "scatterpolar"
           }
          ],
          "scatterpolargl": [
           {
            "marker": {
             "colorbar": {
              "outlinewidth": 0,
              "ticks": ""
             }
            },
            "type": "scatterpolargl"
           }
          ],
          "scatterternary": [
           {
            "marker": {
             "colorbar": {
              "outlinewidth": 0,
              "ticks": ""
             }
            },
            "type": "scatterternary"
           }
          ],
          "surface": [
           {
            "colorbar": {
             "outlinewidth": 0,
             "ticks": ""
            },
            "colorscale": [
             [
              0,
              "#0d0887"
             ],
             [
              0.1111111111111111,
              "#46039f"
             ],
             [
              0.2222222222222222,
              "#7201a8"
             ],
             [
              0.3333333333333333,
              "#9c179e"
             ],
             [
              0.4444444444444444,
              "#bd3786"
             ],
             [
              0.5555555555555556,
              "#d8576b"
             ],
             [
              0.6666666666666666,
              "#ed7953"
             ],
             [
              0.7777777777777778,
              "#fb9f3a"
             ],
             [
              0.8888888888888888,
              "#fdca26"
             ],
             [
              1,
              "#f0f921"
             ]
            ],
            "type": "surface"
           }
          ],
          "table": [
           {
            "cells": {
             "fill": {
              "color": "#EBF0F8"
             },
             "line": {
              "color": "white"
             }
            },
            "header": {
             "fill": {
              "color": "#C8D4E3"
             },
             "line": {
              "color": "white"
             }
            },
            "type": "table"
           }
          ]
         },
         "layout": {
          "annotationdefaults": {
           "arrowcolor": "#2a3f5f",
           "arrowhead": 0,
           "arrowwidth": 1
          },
          "coloraxis": {
           "colorbar": {
            "outlinewidth": 0,
            "ticks": ""
           }
          },
          "colorscale": {
           "diverging": [
            [
             0,
             "#8e0152"
            ],
            [
             0.1,
             "#c51b7d"
            ],
            [
             0.2,
             "#de77ae"
            ],
            [
             0.3,
             "#f1b6da"
            ],
            [
             0.4,
             "#fde0ef"
            ],
            [
             0.5,
             "#f7f7f7"
            ],
            [
             0.6,
             "#e6f5d0"
            ],
            [
             0.7,
             "#b8e186"
            ],
            [
             0.8,
             "#7fbc41"
            ],
            [
             0.9,
             "#4d9221"
            ],
            [
             1,
             "#276419"
            ]
           ],
           "sequential": [
            [
             0,
             "#0d0887"
            ],
            [
             0.1111111111111111,
             "#46039f"
            ],
            [
             0.2222222222222222,
             "#7201a8"
            ],
            [
             0.3333333333333333,
             "#9c179e"
            ],
            [
             0.4444444444444444,
             "#bd3786"
            ],
            [
             0.5555555555555556,
             "#d8576b"
            ],
            [
             0.6666666666666666,
             "#ed7953"
            ],
            [
             0.7777777777777778,
             "#fb9f3a"
            ],
            [
             0.8888888888888888,
             "#fdca26"
            ],
            [
             1,
             "#f0f921"
            ]
           ],
           "sequentialminus": [
            [
             0,
             "#0d0887"
            ],
            [
             0.1111111111111111,
             "#46039f"
            ],
            [
             0.2222222222222222,
             "#7201a8"
            ],
            [
             0.3333333333333333,
             "#9c179e"
            ],
            [
             0.4444444444444444,
             "#bd3786"
            ],
            [
             0.5555555555555556,
             "#d8576b"
            ],
            [
             0.6666666666666666,
             "#ed7953"
            ],
            [
             0.7777777777777778,
             "#fb9f3a"
            ],
            [
             0.8888888888888888,
             "#fdca26"
            ],
            [
             1,
             "#f0f921"
            ]
           ]
          },
          "colorway": [
           "#636efa",
           "#EF553B",
           "#00cc96",
           "#ab63fa",
           "#FFA15A",
           "#19d3f3",
           "#FF6692",
           "#B6E880",
           "#FF97FF",
           "#FECB52"
          ],
          "font": {
           "color": "#2a3f5f"
          },
          "geo": {
           "bgcolor": "white",
           "lakecolor": "white",
           "landcolor": "#E5ECF6",
           "showlakes": true,
           "showland": true,
           "subunitcolor": "white"
          },
          "hoverlabel": {
           "align": "left"
          },
          "hovermode": "closest",
          "mapbox": {
           "style": "light"
          },
          "paper_bgcolor": "white",
          "plot_bgcolor": "#E5ECF6",
          "polar": {
           "angularaxis": {
            "gridcolor": "white",
            "linecolor": "white",
            "ticks": ""
           },
           "bgcolor": "#E5ECF6",
           "radialaxis": {
            "gridcolor": "white",
            "linecolor": "white",
            "ticks": ""
           }
          },
          "scene": {
           "xaxis": {
            "backgroundcolor": "#E5ECF6",
            "gridcolor": "white",
            "gridwidth": 2,
            "linecolor": "white",
            "showbackground": true,
            "ticks": "",
            "zerolinecolor": "white"
           },
           "yaxis": {
            "backgroundcolor": "#E5ECF6",
            "gridcolor": "white",
            "gridwidth": 2,
            "linecolor": "white",
            "showbackground": true,
            "ticks": "",
            "zerolinecolor": "white"
           },
           "zaxis": {
            "backgroundcolor": "#E5ECF6",
            "gridcolor": "white",
            "gridwidth": 2,
            "linecolor": "white",
            "showbackground": true,
            "ticks": "",
            "zerolinecolor": "white"
           }
          },
          "shapedefaults": {
           "line": {
            "color": "#2a3f5f"
           }
          },
          "ternary": {
           "aaxis": {
            "gridcolor": "white",
            "linecolor": "white",
            "ticks": ""
           },
           "baxis": {
            "gridcolor": "white",
            "linecolor": "white",
            "ticks": ""
           },
           "bgcolor": "#E5ECF6",
           "caxis": {
            "gridcolor": "white",
            "linecolor": "white",
            "ticks": ""
           }
          },
          "title": {
           "x": 0.05
          },
          "xaxis": {
           "automargin": true,
           "gridcolor": "white",
           "linecolor": "white",
           "ticks": "",
           "title": {
            "standoff": 15
           },
           "zerolinecolor": "white",
           "zerolinewidth": 2
          },
          "yaxis": {
           "automargin": true,
           "gridcolor": "white",
           "linecolor": "white",
           "ticks": "",
           "title": {
            "standoff": 15
           },
           "zerolinecolor": "white",
           "zerolinewidth": 2
          }
         }
        },
        "xaxis": {
         "anchor": "y",
         "domain": [
          0,
          0.45
         ],
         "linecolor": "black",
         "linewidth": 1.5,
         "mirror": true,
         "showline": true,
         "title": {
          "text": "Day of Year"
         }
        },
        "xaxis2": {
         "anchor": "y2",
         "domain": [
          0.55,
          1
         ],
         "linecolor": "black",
         "linewidth": 1.5,
         "mirror": true,
         "showline": true,
         "title": {
          "text": "Day of Year"
         }
        },
        "yaxis": {
         "anchor": "x",
         "domain": [
          0,
          1
         ],
         "linecolor": "black",
         "linewidth": 1.5,
         "mirror": true,
         "showline": true,
         "title": {
          "text": "Cumulative Case Count Over Time"
         }
        },
        "yaxis2": {
         "anchor": "x2",
         "domain": [
          0,
          1
         ],
         "linecolor": "black",
         "linewidth": 1.5,
         "mirror": true,
         "showline": true,
         "title": {
          "text": "Daily Incidence Over Time"
         }
        }
       }
      },
      "text/html": [
       "<div>\n",
       "        \n",
       "        \n",
       "            <div id=\"ee5956c8-08d3-4093-a96d-78e6ae73fb32\" class=\"plotly-graph-div\" style=\"height:350px; width:100%;\"></div>\n",
       "            <script type=\"text/javascript\">\n",
       "                require([\"plotly\"], function(Plotly) {\n",
       "                    window.PLOTLYENV=window.PLOTLYENV || {};\n",
       "                    \n",
       "                if (document.getElementById(\"ee5956c8-08d3-4093-a96d-78e6ae73fb32\")) {\n",
       "                    Plotly.newPlot(\n",
       "                        'ee5956c8-08d3-4093-a96d-78e6ae73fb32',\n",
       "                        [{\"line\": {\"color\": \"rgb(31, 119, 180)\"}, \"mode\": \"lines\", \"name\": \"United States\", \"showlegend\": true, \"type\": \"scatter\", \"x\": [131, 130, 129, 128, 127, 126, 125, 124, 123, 122, 121, 120, 119, 118, 117, 116, 115, 114, 113, 112, 111, 110, 109, 108, 107, 106, 105, 104, 103, 102, 101, 100, 99, 98, 97, 96, 95, 94, 93, 92, 91, 90, 89, 88, 87, 86, 85, 84, 83, 82, 81, 80, 79, 78, 77, 76, 75, 74, 73, 72, 71, 70, 69, 68, 67, 66], \"xaxis\": \"x\", \"y\": [1309550, 1283929, 1257023, 1229331, 1204351, 1180375, 1158040, 1132539, 1103461, 1069424, 1039909, 1012582, 988197, 965785, 938154, 905358, 869170, 840351, 811865, 784326, 758809, 732197, 699706, 667592, 636350, 607670, 580619, 555313, 526396, 496535, 462780, 428654, 397121, 366317, 336802, 308650, 275367, 243622, 213242, 188172, 161831, 140909, 121465, 101657, 83836, 65778, 53736, 43843, 33276, 25600, 19273, 13747, 7783, 6421, 4632, 3499, 2727, 2179, 1663, 1281, 959, 583, 518, 402, 262, 217, 149, 118, 98, 74, 68, 60, 58, 57, 51, 51, 15, 15, 15, 13, 13, 13, 13, 13, 13, 13, 13, 12, 12, 11, 11, 11, 11, 11, 11, 11, 11, 8, 8, 7, 5, 5, 5, 5, 5, 2, 2, 1, 1], \"yaxis\": \"y\"}, {\"line\": {\"color\": \"rgb(31, 119, 180)\"}, \"mode\": \"lines\", \"name\": \"United States\", \"showlegend\": false, \"type\": \"scatter\", \"x\": [131, 130, 129, 128, 127, 126, 125, 124, 123, 122, 121, 120, 119, 118, 117, 116, 115, 114, 113, 112, 111, 110, 109, 108, 107, 106, 105, 104, 103, 102, 101, 100, 99, 98, 97, 96, 95, 94, 93, 92, 91, 90, 89, 88, 87, 86, 85, 84, 83, 82, 81, 80, 79, 78, 77, 76, 75, 74, 73, 72, 71, 70, 69, 68, 67, 66], \"xaxis\": \"x2\", \"y\": [26739.666666666668, 26526.0, 25549.333333333332, 23763.666666666668, 23937.333333333332, 25638.0, 29538.666666666668, 30876.666666666668, 30293.0, 27075.666666666668, 24708.0, 24809.333333333332, 27613.0, 32205.0, 32601.0, 31164.333333333332, 28281.333333333332, 27180.666666666668, 26556.0, 28206.666666666668, 30405.666666666668, 31949.0, 30678.666666666668, 28991.0, 27012.333333333332, 27091.333333333332, 28028.0, 30844.333333333332, 32580.666666666668, 33138.0, 32154.333333333332, 30617.333333333332, 29490.333333333332, 30316.666666666668, 31060.0, 31802.666666666668, 29065.0, 27263.666666666668, 24111.0, 22235.666666666668, 20058.0, 19024.333333333332, 18562.333333333332, 15973.666666666666, 13331.0, 10834.0, 9378.666666666666, 8190.0, 6509.666666666667, 5939.0, 4284.0, 3038.3333333333335, 1428.0, 1231.3333333333333, 817.6666666666666, 612.0, 482.0, 406.6666666666667, 360.0, 254.33333333333334, 185.66666666666666, 107.0, 100.33333333333333, 84.33333333333333, 48.0, 39.666666666666664, 25.0, 16.666666666666668, 12.666666666666666, 5.333333333333333, 3.6666666666666665, 3.0, 2.3333333333333335, 14.0, 12.0, 12.0, 0.6666666666666666, 0.6666666666666666, 0.6666666666666666, 0.0, 0.0, 0.0, 0.0, 0.0, 0.3333333333333333, 0.3333333333333333, 0.6666666666666666, 0.3333333333333333, 0.3333333333333333, 0.0, 0.0, 0.0, 0.0, 0.0, 1.0, 1.0, 1.3333333333333333, 1.0, 1.0, 0.6666666666666666, 0.0, 0.0, 1.0, 1.0, 1.3333333333333333, 0.3333333333333333], \"yaxis\": \"y2\"}, {\"line\": {\"color\": \"rgb(255, 127, 14)\"}, \"mode\": \"lines\", \"name\": \"Spain\", \"showlegend\": true, \"type\": \"scatter\", \"x\": [131, 130, 129, 128, 127, 126, 125, 124, 123, 122, 121, 120, 119, 118, 117, 116, 115, 114, 113, 112, 111, 110, 109, 108, 107, 106, 105, 104, 103, 102, 101, 100, 99, 98, 97, 96, 95, 94, 93, 92, 91, 90, 89, 88, 87, 86, 85, 84, 83, 82, 81, 80, 79, 78, 77, 76, 75, 74, 73, 72, 71, 70, 69, 68, 67, 66], \"xaxis\": \"x\", \"y\": [223578, 222857, 221447, 220325, 219329, 218011, 217466, 216582, 213435, 213435, 212917, 210773, 209465, 207634, 205905, 202990, 213024, 208389, 204178, 200210, 198674, 191726, 190839, 184948, 177644, 172541, 170099, 166831, 163027, 158273, 153222, 148220, 141942, 136675, 131646, 126168, 119199, 112065, 104118, 95923, 87956, 80110, 73235, 65719, 57786, 49515, 39885, 35136, 28768, 25374, 20410, 17963, 13910, 11748, 9942, 7798, 6391, 5232, 2277, 2277, 1695, 1073, 673, 500, 400, 259, 222, 165, 120, 84, 45, 32, 15, 13, 6, 2, 2, 2, 2, 2, 2, 2, 2, 2, 2, 2, 2, 2, 2, 2, 2, 1, 1, 1, 1, 1, 1, 1, 1, 0, 0, 0, 0, 0, 0, 0, 0, 0, 0], \"yaxis\": \"y\"}, {\"line\": {\"color\": \"rgb(255, 127, 14)\"}, \"mode\": \"lines\", \"name\": \"Spain\", \"showlegend\": false, \"type\": \"scatter\", \"x\": [131, 130, 129, 128, 127, 126, 125, 124, 123, 122, 121, 120, 119, 118, 117, 116, 115, 114, 113, 112, 111, 110, 109, 108, 107, 106, 105, 104, 103, 102, 101, 100, 99, 98, 97, 96, 95, 94, 93, 92, 91, 90, 89, 88, 87, 86, 85, 84, 83, 82, 81, 80, 79, 78, 77, 76, 75, 74, 73, 72, 71, 70, 69, 68, 67, 66], \"xaxis\": \"x2\", \"y\": [1084.3333333333333, 1176.0, 1145.3333333333333, 953.0, 915.6666666666666, 1525.3333333333333, 1343.6666666666667, 1221.6666666666667, 887.3333333333334, 1323.3333333333333, 1761.0, 1622.6666666666667, 2158.3333333333335, -1796.6666666666667, -828.0, -396.0, 4271.333333333333, 3238.3333333333335, 4150.666666666667, 3123.6666666666665, 4575.333333333333, 4694.0, 6099.333333333333, 4949.666666666667, 3604.3333333333335, 3171.3333333333335, 3942.0, 4536.333333333333, 4935.666666666667, 5443.666666666667, 5515.666666666667, 5524.666666666667, 5258.0, 5825.333333333333, 6527.0, 7350.0, 7758.666666666667, 8036.333333333333, 8002.666666666667, 7562.666666666667, 7412.333333333333, 7441.333333333333, 7906.666666666667, 8611.333333333334, 7550.0, 6915.666666666667, 4837.0, 4908.666666666667, 3601.6666666666665, 3821.3333333333335, 2887.3333333333335, 2673.6666666666665, 2037.3333333333333, 1785.6666666666667, 1570.0, 1840.3333333333333, 1371.3333333333333, 1179.0, 401.3333333333333, 534.6666666666666, 398.3333333333333, 224.33333333333334, 138.0, 92.66666666666667, 78.33333333333333, 46.333333333333336, 46.0, 40.0, 29.333333333333332, 23.0, 10.666666666666666, 8.666666666666666, 4.333333333333333, 3.6666666666666665, 1.3333333333333333, 0.0, 0.0, 0.0, 0.0, 0.0, 0.0, 0.0, 0.0, 0.0, 0.0, 0.0, 0.0, 0.0, 0.3333333333333333, 0.3333333333333333, 0.3333333333333333, 0.0, 0.0, 0.0, 0.0, 0.0, 0.3333333333333333, 0.3333333333333333, 0.3333333333333333, 0.0, 0.0, 0.0, 0.0, 0.0, 0.0, 0.0], \"yaxis\": \"y2\"}, {\"line\": {\"color\": \"rgb(44, 160, 44)\"}, \"mode\": \"lines\", \"name\": \"Italy\", \"showlegend\": true, \"type\": \"scatter\", \"x\": [131, 130, 129, 128, 127, 126, 125, 124, 123, 122, 121, 120, 119, 118, 117, 116, 115, 114, 113, 112, 111, 110, 109, 108, 107, 106, 105, 104, 103, 102, 101, 100, 99, 98, 97, 96, 95, 94, 93, 92, 91, 90, 89, 88, 87, 86, 85, 84, 83, 82, 81, 80, 79, 78, 77, 76, 75, 74, 73, 72, 71, 70, 69, 68, 67, 66], \"xaxis\": \"x\", \"y\": [218268, 217185, 215858, 214457, 213013, 211938, 210717, 209328, 207428, 205463, 203591, 201505, 199414, 197675, 195351, 192994, 189973, 187327, 183957, 181228, 178972, 175925, 172434, 168941, 165155, 162488, 159516, 156363, 152271, 147577, 143626, 139422, 135586, 132547, 128948, 124632, 119827, 115242, 110574, 105792, 101739, 97689, 92472, 86498, 80589, 74386, 69176, 63927, 59138, 53578, 47021, 41035, 35713, 31506, 27980, 24747, 21157, 17660, 12462, 12462, 10149, 9172, 7375, 5883, 4636, 3858, 3089, 2502, 2036, 1694, 1128, 888, 655, 453, 322, 229, 155, 62, 20, 3, 3, 3, 3, 3, 3, 3, 3, 3, 3, 3, 3, 3, 3, 2, 2, 2, 2, 2, 2, 2, 0, 0, 0, 0, 0, 0, 0, 0, 0], \"yaxis\": \"y\"}, {\"line\": {\"color\": \"rgb(44, 160, 44)\"}, \"mode\": \"lines\", \"name\": \"Italy\", \"showlegend\": false, \"type\": \"scatter\", \"x\": [131, 130, 129, 128, 127, 126, 125, 124, 123, 122, 121, 120, 119, 118, 117, 116, 115, 114, 113, 112, 111, 110, 109, 108, 107, 106, 105, 104, 103, 102, 101, 100, 99, 98, 97, 96, 95, 94, 93, 92, 91, 90, 89, 88, 87, 86, 85, 84, 83, 82, 81, 80, 79, 78, 77, 76, 75, 74, 73, 72, 71, 70, 69, 68, 67, 66], \"xaxis\": \"x2\", \"y\": [1270.3333333333333, 1390.6666666666667, 1306.6666666666667, 1246.6666666666667, 1228.3333333333333, 1503.3333333333333, 1751.3333333333333, 1912.3333333333333, 1974.3333333333333, 2016.3333333333333, 1972.0, 2051.3333333333335, 2140.0, 2567.3333333333335, 2674.6666666666665, 3012.3333333333335, 2915.0, 2785.0, 2677.3333333333335, 2931.3333333333335, 3343.6666666666665, 3590.0, 3315.3333333333335, 3141.6666666666665, 2930.6666666666665, 3405.6666666666665, 3979.6666666666665, 4245.666666666667, 4283.0, 3997.0, 3693.0, 3491.3333333333335, 3651.3333333333335, 4240.0, 4568.666666666667, 4686.0, 4678.333333333333, 4501.0, 4295.0, 4440.0, 5080.333333333333, 5700.0, 6028.666666666667, 5774.0, 5554.0, 5082.666666666667, 5199.333333333333, 5635.333333333333, 6034.333333333333, 5955.0, 5171.666666666667, 4351.666666666667, 3655.3333333333335, 3449.6666666666665, 3440.0, 4095.0, 2898.3333333333335, 2503.6666666666665, 1096.6666666666667, 1695.6666666666667, 1422.0, 1512.0, 1172.3333333333333, 931.3333333333334, 711.3333333333334, 607.3333333333334, 465.0, 458.0, 382.6666666666667, 346.3333333333333, 225.0, 188.66666666666666, 142.0, 99.33333333333333, 86.66666666666667, 69.66666666666667, 50.666666666666664, 19.666666666666668, 5.666666666666667, 0.0, 0.0, 0.0, 0.0, 0.0, 0.0, 0.0, 0.0, 0.0, 0.0, 0.0, 0.3333333333333333, 0.3333333333333333, 0.3333333333333333, 0.0, 0.0, 0.0, 0.0, 0.6666666666666666, 0.6666666666666666, 0.6666666666666666, 0.0, 0.0, 0.0, 0.0, 0.0, 0.0], \"yaxis\": \"y2\"}],\n",
       "                        {\"height\": 350, \"margin\": {\"b\": 20, \"l\": 20, \"r\": 20, \"t\": 50}, \"template\": {\"data\": {\"bar\": [{\"error_x\": {\"color\": \"#2a3f5f\"}, \"error_y\": {\"color\": \"#2a3f5f\"}, \"marker\": {\"line\": {\"color\": \"#E5ECF6\", \"width\": 0.5}}, \"type\": \"bar\"}], \"barpolar\": [{\"marker\": {\"line\": {\"color\": \"#E5ECF6\", \"width\": 0.5}}, \"type\": \"barpolar\"}], \"carpet\": [{\"aaxis\": {\"endlinecolor\": \"#2a3f5f\", \"gridcolor\": \"white\", \"linecolor\": \"white\", \"minorgridcolor\": \"white\", \"startlinecolor\": \"#2a3f5f\"}, \"baxis\": {\"endlinecolor\": \"#2a3f5f\", \"gridcolor\": \"white\", \"linecolor\": \"white\", \"minorgridcolor\": \"white\", \"startlinecolor\": \"#2a3f5f\"}, \"type\": \"carpet\"}], \"choropleth\": [{\"colorbar\": {\"outlinewidth\": 0, \"ticks\": \"\"}, \"type\": \"choropleth\"}], \"contour\": [{\"colorbar\": {\"outlinewidth\": 0, \"ticks\": \"\"}, \"colorscale\": [[0.0, \"#0d0887\"], [0.1111111111111111, \"#46039f\"], [0.2222222222222222, \"#7201a8\"], [0.3333333333333333, \"#9c179e\"], [0.4444444444444444, \"#bd3786\"], [0.5555555555555556, \"#d8576b\"], [0.6666666666666666, \"#ed7953\"], [0.7777777777777778, \"#fb9f3a\"], [0.8888888888888888, \"#fdca26\"], [1.0, \"#f0f921\"]], \"type\": \"contour\"}], \"contourcarpet\": [{\"colorbar\": {\"outlinewidth\": 0, \"ticks\": \"\"}, \"type\": \"contourcarpet\"}], \"heatmap\": [{\"colorbar\": {\"outlinewidth\": 0, \"ticks\": \"\"}, \"colorscale\": [[0.0, \"#0d0887\"], [0.1111111111111111, \"#46039f\"], [0.2222222222222222, \"#7201a8\"], [0.3333333333333333, \"#9c179e\"], [0.4444444444444444, \"#bd3786\"], [0.5555555555555556, \"#d8576b\"], [0.6666666666666666, \"#ed7953\"], [0.7777777777777778, \"#fb9f3a\"], [0.8888888888888888, \"#fdca26\"], [1.0, \"#f0f921\"]], \"type\": \"heatmap\"}], \"heatmapgl\": [{\"colorbar\": {\"outlinewidth\": 0, \"ticks\": \"\"}, \"colorscale\": [[0.0, \"#0d0887\"], [0.1111111111111111, \"#46039f\"], [0.2222222222222222, \"#7201a8\"], [0.3333333333333333, \"#9c179e\"], [0.4444444444444444, \"#bd3786\"], [0.5555555555555556, \"#d8576b\"], [0.6666666666666666, \"#ed7953\"], [0.7777777777777778, \"#fb9f3a\"], [0.8888888888888888, \"#fdca26\"], [1.0, \"#f0f921\"]], \"type\": \"heatmapgl\"}], \"histogram\": [{\"marker\": {\"colorbar\": {\"outlinewidth\": 0, \"ticks\": \"\"}}, \"type\": \"histogram\"}], \"histogram2d\": [{\"colorbar\": {\"outlinewidth\": 0, \"ticks\": \"\"}, \"colorscale\": [[0.0, \"#0d0887\"], [0.1111111111111111, \"#46039f\"], [0.2222222222222222, \"#7201a8\"], [0.3333333333333333, \"#9c179e\"], [0.4444444444444444, \"#bd3786\"], [0.5555555555555556, \"#d8576b\"], [0.6666666666666666, \"#ed7953\"], [0.7777777777777778, \"#fb9f3a\"], [0.8888888888888888, \"#fdca26\"], [1.0, \"#f0f921\"]], \"type\": \"histogram2d\"}], \"histogram2dcontour\": [{\"colorbar\": {\"outlinewidth\": 0, \"ticks\": \"\"}, \"colorscale\": [[0.0, \"#0d0887\"], [0.1111111111111111, \"#46039f\"], [0.2222222222222222, \"#7201a8\"], [0.3333333333333333, \"#9c179e\"], [0.4444444444444444, \"#bd3786\"], [0.5555555555555556, \"#d8576b\"], [0.6666666666666666, \"#ed7953\"], [0.7777777777777778, \"#fb9f3a\"], [0.8888888888888888, \"#fdca26\"], [1.0, \"#f0f921\"]], \"type\": \"histogram2dcontour\"}], \"mesh3d\": [{\"colorbar\": {\"outlinewidth\": 0, \"ticks\": \"\"}, \"type\": \"mesh3d\"}], \"parcoords\": [{\"line\": {\"colorbar\": {\"outlinewidth\": 0, \"ticks\": \"\"}}, \"type\": \"parcoords\"}], \"pie\": [{\"automargin\": true, \"type\": \"pie\"}], \"scatter\": [{\"marker\": {\"colorbar\": {\"outlinewidth\": 0, \"ticks\": \"\"}}, \"type\": \"scatter\"}], \"scatter3d\": [{\"line\": {\"colorbar\": {\"outlinewidth\": 0, \"ticks\": \"\"}}, \"marker\": {\"colorbar\": {\"outlinewidth\": 0, \"ticks\": \"\"}}, \"type\": \"scatter3d\"}], \"scattercarpet\": [{\"marker\": {\"colorbar\": {\"outlinewidth\": 0, \"ticks\": \"\"}}, \"type\": \"scattercarpet\"}], \"scattergeo\": [{\"marker\": {\"colorbar\": {\"outlinewidth\": 0, \"ticks\": \"\"}}, \"type\": \"scattergeo\"}], \"scattergl\": [{\"marker\": {\"colorbar\": {\"outlinewidth\": 0, \"ticks\": \"\"}}, \"type\": \"scattergl\"}], \"scattermapbox\": [{\"marker\": {\"colorbar\": {\"outlinewidth\": 0, \"ticks\": \"\"}}, \"type\": \"scattermapbox\"}], \"scatterpolar\": [{\"marker\": {\"colorbar\": {\"outlinewidth\": 0, \"ticks\": \"\"}}, \"type\": \"scatterpolar\"}], \"scatterpolargl\": [{\"marker\": {\"colorbar\": {\"outlinewidth\": 0, \"ticks\": \"\"}}, \"type\": \"scatterpolargl\"}], \"scatterternary\": [{\"marker\": {\"colorbar\": {\"outlinewidth\": 0, \"ticks\": \"\"}}, \"type\": \"scatterternary\"}], \"surface\": [{\"colorbar\": {\"outlinewidth\": 0, \"ticks\": \"\"}, \"colorscale\": [[0.0, \"#0d0887\"], [0.1111111111111111, \"#46039f\"], [0.2222222222222222, \"#7201a8\"], [0.3333333333333333, \"#9c179e\"], [0.4444444444444444, \"#bd3786\"], [0.5555555555555556, \"#d8576b\"], [0.6666666666666666, \"#ed7953\"], [0.7777777777777778, \"#fb9f3a\"], [0.8888888888888888, \"#fdca26\"], [1.0, \"#f0f921\"]], \"type\": \"surface\"}], \"table\": [{\"cells\": {\"fill\": {\"color\": \"#EBF0F8\"}, \"line\": {\"color\": \"white\"}}, \"header\": {\"fill\": {\"color\": \"#C8D4E3\"}, \"line\": {\"color\": \"white\"}}, \"type\": \"table\"}]}, \"layout\": {\"annotationdefaults\": {\"arrowcolor\": \"#2a3f5f\", \"arrowhead\": 0, \"arrowwidth\": 1}, \"coloraxis\": {\"colorbar\": {\"outlinewidth\": 0, \"ticks\": \"\"}}, \"colorscale\": {\"diverging\": [[0, \"#8e0152\"], [0.1, \"#c51b7d\"], [0.2, \"#de77ae\"], [0.3, \"#f1b6da\"], [0.4, \"#fde0ef\"], [0.5, \"#f7f7f7\"], [0.6, \"#e6f5d0\"], [0.7, \"#b8e186\"], [0.8, \"#7fbc41\"], [0.9, \"#4d9221\"], [1, \"#276419\"]], \"sequential\": [[0.0, \"#0d0887\"], [0.1111111111111111, \"#46039f\"], [0.2222222222222222, \"#7201a8\"], [0.3333333333333333, \"#9c179e\"], [0.4444444444444444, \"#bd3786\"], [0.5555555555555556, \"#d8576b\"], [0.6666666666666666, \"#ed7953\"], [0.7777777777777778, \"#fb9f3a\"], [0.8888888888888888, \"#fdca26\"], [1.0, \"#f0f921\"]], \"sequentialminus\": [[0.0, \"#0d0887\"], [0.1111111111111111, \"#46039f\"], [0.2222222222222222, \"#7201a8\"], [0.3333333333333333, \"#9c179e\"], [0.4444444444444444, \"#bd3786\"], [0.5555555555555556, \"#d8576b\"], [0.6666666666666666, \"#ed7953\"], [0.7777777777777778, \"#fb9f3a\"], [0.8888888888888888, \"#fdca26\"], [1.0, \"#f0f921\"]]}, \"colorway\": [\"#636efa\", \"#EF553B\", \"#00cc96\", \"#ab63fa\", \"#FFA15A\", \"#19d3f3\", \"#FF6692\", \"#B6E880\", \"#FF97FF\", \"#FECB52\"], \"font\": {\"color\": \"#2a3f5f\"}, \"geo\": {\"bgcolor\": \"white\", \"lakecolor\": \"white\", \"landcolor\": \"#E5ECF6\", \"showlakes\": true, \"showland\": true, \"subunitcolor\": \"white\"}, \"hoverlabel\": {\"align\": \"left\"}, \"hovermode\": \"closest\", \"mapbox\": {\"style\": \"light\"}, \"paper_bgcolor\": \"white\", \"plot_bgcolor\": \"#E5ECF6\", \"polar\": {\"angularaxis\": {\"gridcolor\": \"white\", \"linecolor\": \"white\", \"ticks\": \"\"}, \"bgcolor\": \"#E5ECF6\", \"radialaxis\": {\"gridcolor\": \"white\", \"linecolor\": \"white\", \"ticks\": \"\"}}, \"scene\": {\"xaxis\": {\"backgroundcolor\": \"#E5ECF6\", \"gridcolor\": \"white\", \"gridwidth\": 2, \"linecolor\": \"white\", \"showbackground\": true, \"ticks\": \"\", \"zerolinecolor\": \"white\"}, \"yaxis\": {\"backgroundcolor\": \"#E5ECF6\", \"gridcolor\": \"white\", \"gridwidth\": 2, \"linecolor\": \"white\", \"showbackground\": true, \"ticks\": \"\", \"zerolinecolor\": \"white\"}, \"zaxis\": {\"backgroundcolor\": \"#E5ECF6\", \"gridcolor\": \"white\", \"gridwidth\": 2, \"linecolor\": \"white\", \"showbackground\": true, \"ticks\": \"\", \"zerolinecolor\": \"white\"}}, \"shapedefaults\": {\"line\": {\"color\": \"#2a3f5f\"}}, \"ternary\": {\"aaxis\": {\"gridcolor\": \"white\", \"linecolor\": \"white\", \"ticks\": \"\"}, \"baxis\": {\"gridcolor\": \"white\", \"linecolor\": \"white\", \"ticks\": \"\"}, \"bgcolor\": \"#E5ECF6\", \"caxis\": {\"gridcolor\": \"white\", \"linecolor\": \"white\", \"ticks\": \"\"}}, \"title\": {\"x\": 0.05}, \"xaxis\": {\"automargin\": true, \"gridcolor\": \"white\", \"linecolor\": \"white\", \"ticks\": \"\", \"title\": {\"standoff\": 15}, \"zerolinecolor\": \"white\", \"zerolinewidth\": 2}, \"yaxis\": {\"automargin\": true, \"gridcolor\": \"white\", \"linecolor\": \"white\", \"ticks\": \"\", \"title\": {\"standoff\": 15}, \"zerolinecolor\": \"white\", \"zerolinewidth\": 2}}}, \"xaxis\": {\"anchor\": \"y\", \"domain\": [0.0, 0.45], \"linecolor\": \"black\", \"linewidth\": 1.5, \"mirror\": true, \"showline\": true, \"title\": {\"text\": \"Day of Year\"}}, \"xaxis2\": {\"anchor\": \"y2\", \"domain\": [0.55, 1.0], \"linecolor\": \"black\", \"linewidth\": 1.5, \"mirror\": true, \"showline\": true, \"title\": {\"text\": \"Day of Year\"}}, \"yaxis\": {\"anchor\": \"x\", \"domain\": [0.0, 1.0], \"linecolor\": \"black\", \"linewidth\": 1.5, \"mirror\": true, \"showline\": true, \"title\": {\"text\": \"Cumulative Case Count Over Time\"}}, \"yaxis2\": {\"anchor\": \"x2\", \"domain\": [0.0, 1.0], \"linecolor\": \"black\", \"linewidth\": 1.5, \"mirror\": true, \"showline\": true, \"title\": {\"text\": \"Daily Incidence Over Time\"}}},\n",
       "                        {\"responsive\": true}\n",
       "                    ).then(function(){\n",
       "                            \n",
       "var gd = document.getElementById('ee5956c8-08d3-4093-a96d-78e6ae73fb32');\n",
       "var x = new MutationObserver(function (mutations, observer) {{\n",
       "        var display = window.getComputedStyle(gd).display;\n",
       "        if (!display || display === 'none') {{\n",
       "            console.log([gd, 'removed!']);\n",
       "            Plotly.purge(gd);\n",
       "            observer.disconnect();\n",
       "        }}\n",
       "}});\n",
       "\n",
       "// Listen for the removal of the full notebook cells\n",
       "var notebookContainer = gd.closest('#notebook-container');\n",
       "if (notebookContainer) {{\n",
       "    x.observe(notebookContainer, {childList: true});\n",
       "}}\n",
       "\n",
       "// Listen for the clearing of the current output cell\n",
       "var outputEl = gd.closest('.output');\n",
       "if (outputEl) {{\n",
       "    x.observe(outputEl, {childList: true});\n",
       "}}\n",
       "\n",
       "                        })\n",
       "                };\n",
       "                });\n",
       "            </script>\n",
       "        </div>"
      ]
     },
     "metadata": {},
     "output_type": "display_data"
    }
   ],
   "source": [
    "subset = global_cumulative.columns[:3]\n",
    "\n",
    "fig = make_subplots(rows=1, cols=2)\n",
    "for i,s in enumerate(subset):\n",
    "    fig.add_trace(go.Scatter(name=s,x=x_data,y=global_cumulative[s],mode='lines',line_color=colors[i],showlegend=True),row=1,col=1)\n",
    "    fig.add_trace(go.Scatter(name=s,x=x_data,y=global_inc_rolling3[s],mode='lines',line_color=colors[i],showlegend=False),row=1,col=2)\n",
    "\n",
    "fig.update_layout(height=350,margin=dict(l=20, r=20, t=50, b=20))\n",
    "fig.update_xaxes(title='Day of Year',showline=True, linewidth=1.5, linecolor='black', mirror=True)\n",
    "fig.update_yaxes(showline=True, linewidth=1.5, linecolor='black', mirror=True)\n",
    "fig.update_yaxes(title='Cumulative Case Count Over Time',row=1,col=1)\n",
    "fig.update_yaxes(title='Daily Incidence Over Time',row=1,col=2)\n",
    "fig.show()"
   ]
  },
  {
   "cell_type": "markdown",
   "metadata": {},
   "source": [
    "Now that we know what the case curves look like, we can attempt to do some modeling."
   ]
  },
  {
   "cell_type": "markdown",
   "metadata": {},
   "source": [
    "<a id='sec3'></a>"
   ]
  },
  {
   "cell_type": "markdown",
   "metadata": {},
   "source": [
    "## 3. Disease Modeling Basics"
   ]
  },
  {
   "cell_type": "markdown",
   "metadata": {},
   "source": [
    "Before we go further let's clarify some terminology.\n",
    "\n",
    ">**Daily incidence**: the number of new cases that are diagnosed every day. This represents how many new people are becoming infected every day, assuming testing and reporting is accurate. It's described in more detail [here](https://en.wikipedia.org/wiki/Incidence_(epidemiology)).\n",
    "\n",
    ">**Cumulative case count**: the number of cumulative cases every day. This represents how many total people have been infected up until a certain day, again assuming that testing is accurate.\n",
    "\n",
    "The graphs we just plotted above were the *cumulative case count* over time (left) and the *daily incidence* over time (right). They are two different representations of the same data; the former is just the sum of the latter. In mathematical terms, the cumulative case count at a certain day is the integral of the daily incidence up to that day. We'll revisit that thought in a bit."
   ]
  },
  {
   "cell_type": "markdown",
   "metadata": {},
   "source": [
    "You may notice that the cumulative case counts look like they are increasing exponentially. In the early days of the outbreak, experts warned the public about such [exponential growth](https://en.wikipedia.org/wiki/Exponential_growth).\n",
    "\n",
    "But an important property of an exponential is that its derivative and integral are also exponentials. If the cumulative case count were really increasing faster and faster each day, then the daily incidence would be, too. But you can clearly see in the graphs above that the daily incidence first rises, and then plateaus and falls. It looks like a jagged hump. In fact, the daily incidence somewhat resembles a *bell curve*.\n",
    "\n",
    "You may have seen coronavirus graphs in the news that look something like this:"
   ]
  },
  {
   "cell_type": "code",
   "execution_count": 9,
   "metadata": {
    "jupyter": {
     "source_hidden": true
    }
   },
   "outputs": [
    {
     "data": {
      "application/vnd.plotly.v1+json": {
       "config": {
        "plotlyServerURL": "https://plot.ly"
       },
       "data": [
        {
         "mode": "lines",
         "name": "Fast spread",
         "type": "scatter",
         "x": [
          0,
          0.1,
          0.2,
          0.30000000000000004,
          0.4,
          0.5,
          0.6000000000000001,
          0.7000000000000001,
          0.8,
          0.9,
          1,
          1.1,
          1.2000000000000002,
          1.3,
          1.4000000000000001,
          1.5,
          1.6,
          1.7000000000000002,
          1.8,
          1.9000000000000001,
          2,
          2.1,
          2.2,
          2.3000000000000003,
          2.4000000000000004,
          2.5,
          2.6,
          2.7,
          2.8000000000000003,
          2.9000000000000004,
          3,
          3.1,
          3.2,
          3.3000000000000003,
          3.4000000000000004,
          3.5,
          3.6,
          3.7,
          3.8000000000000003,
          3.9000000000000004,
          4,
          4.1000000000000005,
          4.2,
          4.3,
          4.4,
          4.5,
          4.6000000000000005,
          4.7,
          4.800000000000001,
          4.9,
          5,
          5.1000000000000005,
          5.2,
          5.300000000000001,
          5.4,
          5.5,
          5.6000000000000005,
          5.7,
          5.800000000000001,
          5.9,
          6,
          6.1000000000000005,
          6.2,
          6.300000000000001,
          6.4,
          6.5,
          6.6000000000000005,
          6.7,
          6.800000000000001,
          6.9,
          7,
          7.1000000000000005,
          7.2,
          7.300000000000001,
          7.4,
          7.5,
          7.6000000000000005,
          7.7,
          7.800000000000001,
          7.9,
          8,
          8.1,
          8.200000000000001,
          8.3,
          8.4,
          8.5,
          8.6,
          8.700000000000001,
          8.8,
          8.9,
          9,
          9.1,
          9.200000000000001,
          9.3,
          9.4,
          9.5,
          9.600000000000001,
          9.700000000000001,
          9.8,
          9.9,
          10,
          10.100000000000001,
          10.200000000000001,
          10.3,
          10.4,
          10.5,
          10.600000000000001,
          10.700000000000001,
          10.8,
          10.9,
          11,
          11.100000000000001,
          11.200000000000001,
          11.3,
          11.4,
          11.5,
          11.600000000000001,
          11.700000000000001,
          11.8,
          11.9,
          12,
          12.100000000000001,
          12.200000000000001,
          12.3,
          12.4,
          12.5,
          12.600000000000001,
          12.700000000000001,
          12.8,
          12.9,
          13,
          13.100000000000001,
          13.200000000000001,
          13.3,
          13.4,
          13.5,
          13.600000000000001,
          13.700000000000001,
          13.8,
          13.9,
          14,
          14.100000000000001,
          14.200000000000001,
          14.3,
          14.4,
          14.5,
          14.600000000000001,
          14.700000000000001,
          14.8,
          14.9,
          15,
          15.100000000000001,
          15.200000000000001,
          15.3,
          15.4,
          15.5,
          15.600000000000001,
          15.700000000000001,
          15.8,
          15.9,
          16,
          16.1,
          16.2,
          16.3,
          16.400000000000002,
          16.5,
          16.6,
          16.7,
          16.8,
          16.900000000000002,
          17,
          17.1,
          17.2,
          17.3,
          17.400000000000002,
          17.5,
          17.6,
          17.7,
          17.8,
          17.900000000000002,
          18,
          18.1,
          18.2,
          18.3,
          18.400000000000002,
          18.5,
          18.6,
          18.7,
          18.8,
          18.900000000000002,
          19,
          19.1,
          19.200000000000003,
          19.3,
          19.400000000000002,
          19.5,
          19.6,
          19.700000000000003,
          19.8,
          19.900000000000002
         ],
         "y": [
          1.4867195147342979e-06,
          2.438960745893352e-06,
          3.961299091032075e-06,
          6.36982517886709e-06,
          1.014085206548676e-05,
          1.5983741106905478e-05,
          2.4942471290053535e-05,
          3.853519674208713e-05,
          5.8943067756539855e-05,
          8.926165717713293e-05,
          0.00013383022576488537,
          0.00019865547139277272,
          0.00029194692579146027,
          0.00042478027055075143,
          0.0006119019301137731,
          0.0008726826950457602,
          0.00123221916847302,
          0.0017225689390536812,
          0.0023840882014648404,
          0.0032668190561999247,
          0.0044318484119380075,
          0.005952532419775854,
          0.007915451582979969,
          0.010420934814422605,
          0.013582969233685634,
          0.01752830049356854,
          0.0223945302948429,
          0.02832703774160119,
          0.03547459284623146,
          0.04398359598042723,
          0.05399096651318806,
          0.0656158147746766,
          0.07895015830089419,
          0.09404907737688697,
          0.11092083467945564,
          0.12951759566589174,
          0.14972746563574488,
          0.1713685920478074,
          0.19418605498321304,
          0.21785217703255064,
          0.24197072451914337,
          0.266085249898755,
          0.28969155276148284,
          0.3122539333667612,
          0.3332246028917997,
          0.3520653267642995,
          0.36827014030332345,
          0.38138781546052414,
          0.391042693975456,
          0.3969525474770118,
          0.3989422804014327,
          0.39695254747701175,
          0.3910426939754559,
          0.3813878154605241,
          0.3682701403033233,
          0.3520653267642995,
          0.33322460289179956,
          0.3122539333667612,
          0.2896915527614826,
          0.26608524989875476,
          0.24197072451914337,
          0.21785217703255041,
          0.19418605498321292,
          0.1713685920478072,
          0.1497274656357448,
          0.12951759566589174,
          0.11092083467945546,
          0.0940490773768869,
          0.07895015830089407,
          0.06561581477467655,
          0.05399096651318806,
          0.043983595980427156,
          0.035474592846231424,
          0.02832703774160112,
          0.022394530294842882,
          0.01752830049356854,
          0.013582969233685602,
          0.010420934814422592,
          0.007915451582979946,
          0.005952532419775849,
          0.0044318484119380075,
          0.0032668190561999247,
          0.0023840882014648343,
          0.0017225689390536767,
          0.0012322191684730178,
          0.0008726826950457602,
          0.0006119019301137731,
          0.00042478027055074997,
          0.0002919469257914595,
          0.00019865547139277237,
          0.00013383022576488537,
          8.926165717713293e-05,
          5.894306775653965e-05,
          3.8535196742086994e-05,
          2.4942471290053535e-05,
          1.5983741106905478e-05,
          1.014085206548667e-05,
          6.369825178867069e-06,
          3.961299091032062e-06,
          2.438960745893352e-06,
          1.4867195147342979e-06,
          8.972435162383258e-07,
          5.361035344697595e-07,
          3.1713492167159643e-07,
          1.8573618445552897e-07,
          1.0769760042543276e-07,
          6.182620500165791e-08,
          3.5139550948204215e-08,
          1.9773196406244602e-08,
          1.1015763624682308e-08,
          6.075882849823286e-09,
          3.3178842435472697e-09,
          1.7937839079640732e-09,
          9.601433370312266e-10,
          5.088140281645039e-10,
          2.669556614762852e-10,
          1.3866799941653025e-10,
          7.131328123996026e-11,
          3.630961501791775e-11,
          1.8303322170155714e-11,
          9.134720408364595e-12,
          4.51354367720547e-12,
          2.2079899631371235e-12,
          1.0693837871541565e-12,
          5.127753636796663e-13,
          2.43432053302901e-13,
          1.1441564901801248e-13,
          5.324148372252925e-14,
          2.4528552856964153e-14,
          1.1187956214351817e-14,
          5.052271083536893e-15,
          2.2588094031542712e-15,
          9.998378748497037e-16,
          4.3816394355093266e-16,
          1.9010815379079637e-16,
          8.166235631669551e-17,
          3.472962748566158e-17,
          1.4622963575006376e-17,
          6.095758129562418e-18,
          2.5158057769514047e-18,
          1.0279773571668917e-18,
          4.158598979115072e-19,
          1.6655880323799054e-19,
          6.60457986073931e-20,
          2.592864701100371e-20,
          1.0077935394300011e-20,
          3.8781119317469065e-21,
          1.4774954927042438e-21,
          5.573000022720691e-22,
          2.0811768202028245e-22,
          7.69459862670642e-23,
          2.8165665442761825e-23,
          1.0207305594305957e-23,
          3.6623451685553784e-24,
          1.300961619923913e-24,
          4.575375590520806e-25,
          1.593111132700944e-25,
          5.49189783181774e-26,
          1.8743724023417964e-26,
          6.3335378218306055e-27,
          2.1188192535093538e-27,
          7.01775994266116e-28,
          2.3012307088481552e-28,
          7.471002275883472e-29,
          2.4013454000085015e-29,
          7.641655411587205e-30,
          2.4075611318392666e-30,
          7.509728772496528e-31,
          2.3191467772561174e-31,
          7.09070266842796e-32,
          2.1463837356630605e-32,
          6.432540334635658e-33,
          1.9085991346368163e-33,
          5.6066569263038325e-34,
          1.630610734839622e-34,
          4.6951953579751464e-35,
          1.3384867992542497e-35,
          3.77773572114912e-36,
          1.0556163502452738e-36,
          2.920368793868055e-37,
          7.998827757006813e-38,
          2.169062400260601e-38,
          5.8233755997365695e-39,
          1.547870466296206e-39,
          4.0733476775277295e-40,
          1.0612688139152163e-40,
          2.7375141923552304e-41,
          6.991082249706589e-42,
          1.7676224102535012e-42,
          4.424779583316042e-43,
          1.0966065593889713e-43,
          2.690711235642389e-44,
          6.536426775318379e-45,
          1.5720659586057322e-45,
          3.743330579884903e-46,
          8.824754974594825e-47,
          2.0597010224088725e-47,
          4.759515753020374e-48,
          1.0888759553277215e-48,
          2.466329525880481e-49
         ]
        },
        {
         "mode": "lines",
         "name": "Slow spread",
         "type": "scatter",
         "x": [
          0,
          0.1,
          0.2,
          0.30000000000000004,
          0.4,
          0.5,
          0.6000000000000001,
          0.7000000000000001,
          0.8,
          0.9,
          1,
          1.1,
          1.2000000000000002,
          1.3,
          1.4000000000000001,
          1.5,
          1.6,
          1.7000000000000002,
          1.8,
          1.9000000000000001,
          2,
          2.1,
          2.2,
          2.3000000000000003,
          2.4000000000000004,
          2.5,
          2.6,
          2.7,
          2.8000000000000003,
          2.9000000000000004,
          3,
          3.1,
          3.2,
          3.3000000000000003,
          3.4000000000000004,
          3.5,
          3.6,
          3.7,
          3.8000000000000003,
          3.9000000000000004,
          4,
          4.1000000000000005,
          4.2,
          4.3,
          4.4,
          4.5,
          4.6000000000000005,
          4.7,
          4.800000000000001,
          4.9,
          5,
          5.1000000000000005,
          5.2,
          5.300000000000001,
          5.4,
          5.5,
          5.6000000000000005,
          5.7,
          5.800000000000001,
          5.9,
          6,
          6.1000000000000005,
          6.2,
          6.300000000000001,
          6.4,
          6.5,
          6.6000000000000005,
          6.7,
          6.800000000000001,
          6.9,
          7,
          7.1000000000000005,
          7.2,
          7.300000000000001,
          7.4,
          7.5,
          7.6000000000000005,
          7.7,
          7.800000000000001,
          7.9,
          8,
          8.1,
          8.200000000000001,
          8.3,
          8.4,
          8.5,
          8.6,
          8.700000000000001,
          8.8,
          8.9,
          9,
          9.1,
          9.200000000000001,
          9.3,
          9.4,
          9.5,
          9.600000000000001,
          9.700000000000001,
          9.8,
          9.9,
          10,
          10.100000000000001,
          10.200000000000001,
          10.3,
          10.4,
          10.5,
          10.600000000000001,
          10.700000000000001,
          10.8,
          10.9,
          11,
          11.100000000000001,
          11.200000000000001,
          11.3,
          11.4,
          11.5,
          11.600000000000001,
          11.700000000000001,
          11.8,
          11.9,
          12,
          12.100000000000001,
          12.200000000000001,
          12.3,
          12.4,
          12.5,
          12.600000000000001,
          12.700000000000001,
          12.8,
          12.9,
          13,
          13.100000000000001,
          13.200000000000001,
          13.3,
          13.4,
          13.5,
          13.600000000000001,
          13.700000000000001,
          13.8,
          13.9,
          14,
          14.100000000000001,
          14.200000000000001,
          14.3,
          14.4,
          14.5,
          14.600000000000001,
          14.700000000000001,
          14.8,
          14.9,
          15,
          15.100000000000001,
          15.200000000000001,
          15.3,
          15.4,
          15.5,
          15.600000000000001,
          15.700000000000001,
          15.8,
          15.9,
          16,
          16.1,
          16.2,
          16.3,
          16.400000000000002,
          16.5,
          16.6,
          16.7,
          16.8,
          16.900000000000002,
          17,
          17.1,
          17.2,
          17.3,
          17.400000000000002,
          17.5,
          17.6,
          17.7,
          17.8,
          17.900000000000002,
          18,
          18.1,
          18.2,
          18.3,
          18.400000000000002,
          18.5,
          18.6,
          18.7,
          18.8,
          18.900000000000002,
          19,
          19.1,
          19.200000000000003,
          19.3,
          19.400000000000002,
          19.5,
          19.6,
          19.700000000000003,
          19.8,
          19.900000000000002
         ],
         "y": [
          0.0005140929987637018,
          0.0005741896463512261,
          0.0006405993231173357,
          0.0007138961573442565,
          0.0007946960671549483,
          0.0008836586514767019,
          0.0009814890401277866,
          0.0010889396853999728,
          0.00120681207600643,
          0.001335958352772115,
          0.001477282803979336,
          0.0016317432168629776,
          0.0018003520603981236,
          0.001984177473258618,
          0.0021843440296711743,
          0.0024020332548697412,
          0.0026384838609933192,
          0.0028949916735929652,
          0.003172909218445733,
          0.0034736449381408685,
          0.003798662007932481,
          0.004149476720668069,
          0.004527656411228538,
          0.004934816891875435,
          0.005372619371216331,
          0.005842766831189513,
          0.006346999838550089,
          0.006887091769826073,
          0.0074648434316142995,
          0.00808207706140912,
          0.00874062969790316,
          0.009442345913867055,
          0.010189069909295164,
          0.010982636967484772,
          0.011824864282077152,
          0.012717541168805994,
          0.01366241868174073,
          0.0146611986601424,
          0.01571552223862387,
          0.0168269578600759,
          0.017996988837729353,
          0.01922700051971094,
          0.02051826711644909,
          0.02187193825822553,
          0.023289025356971735,
          0.0247703878529977,
          0.026316719433631397,
          0.027928534316654915,
          0.029606153696863965,
          0.03134969245896232,
          0.03315904626424956,
          0.0350338791220834,
          0.036973611559818535,
          0.038977409506766855,
          0.04104417400861653,
          0.04317253188863058,
          0.04536082747075937,
          0.04760711547750344,
          0.04990915521191499,
          0.05226440612850288,
          0.05467002489199788,
          0.057122864015935804,
          0.05961947216484686,
          0.06215609619452194,
          0.06472868499440433,
          0.06733289518468628,
          0.06996409870824144,
          0.07261739234418353,
          0.07528760915570819,
          0.07796933187005435,
          0.08065690817304778,
          0.08334446788488616,
          0.08602594196774592,
          0.08869508329958496,
          0.09134548913234282,
          0.09397062513676752,
          0.09656385092049428,
          0.0991184468909342,
          0.1016276423201724,
          0.10408464445558711,
          0.10648266850745075,
          0.10881496833350866,
          0.11107486763059991,
          0.11325579143491937,
          0.115351297725641,
          0.11735510892143318,
          0.11926114305598966,
          0.12106354441713936,
          0.12275671343444113,
          0.12433533560244286,
          0.12579440923099774,
          0.1271292718201747,
          0.12833562486533798,
          0.12940955690784897,
          0.13034756465848532,
          0.13114657203397997,
          0.13180394696193923,
          0.1323175158256706,
          0.1326855754379841,
          0.132906902451659,
          0.1329807601338109,
          0.132906902451659,
          0.13268557543798407,
          0.1323175158256706,
          0.13180394696193923,
          0.13114657203397997,
          0.1303475646584853,
          0.12940955690784894,
          0.12833562486533798,
          0.1271292718201747,
          0.12579440923099774,
          0.12433533560244282,
          0.1227567134344411,
          0.12106354441713933,
          0.11926114305598966,
          0.11735510892143318,
          0.11535129772564094,
          0.11325579143491933,
          0.11107486763059987,
          0.10881496833350866,
          0.10648266850745075,
          0.10408464445558707,
          0.10162764232017236,
          0.09911844689093417,
          0.09656385092049424,
          0.09397062513676752,
          0.09134548913234279,
          0.08869508329958492,
          0.08602594196774588,
          0.08334446788488616,
          0.08065690817304778,
          0.0779693318700543,
          0.07528760915570813,
          0.0726173923441835,
          0.0699640987082414,
          0.06733289518468628,
          0.06472868499440429,
          0.0621560961945219,
          0.05961947216484684,
          0.05712286401593578,
          0.05467002489199788,
          0.052264406128502826,
          0.049909155211914934,
          0.047607115477503424,
          0.04536082747075935,
          0.04317253188863058,
          0.04104417400861649,
          0.03897740950676681,
          0.03697361155981851,
          0.03503387912208338,
          0.03315904626424956,
          0.03134969245896229,
          0.02960615369686394,
          0.0279285343166549,
          0.026316719433631383,
          0.0247703878529977,
          0.02328902535697171,
          0.021871938258225518,
          0.020518267116449083,
          0.01922700051971093,
          0.017996988837729353,
          0.016826957860075886,
          0.01571552223862387,
          0.0146611986601424,
          0.013662418681740708,
          0.012717541168805994,
          0.01182486428207713,
          0.010982636967484772,
          0.010189069909295148,
          0.00944234591386704,
          0.00874062969790316,
          0.00808207706140911,
          0.0074648434316142995,
          0.006887091769826068,
          0.0063469998385500825,
          0.005842766831189513,
          0.005372619371216326,
          0.004934816891875435,
          0.004527656411228538,
          0.004149476720668058,
          0.003798662007932481,
          0.0034736449381408594,
          0.003172909218445733,
          0.0028949916735929652,
          0.0026384838609933153,
          0.0024020332548697412,
          0.002184344029671172,
          0.001984177473258618,
          0.0018003520603981236,
          0.0016317432168629759,
          0.001477282803979336,
          0.0013359583527721138,
          0.0012068120760064258,
          0.0010889396853999728,
          0.0009814890401277838,
          0.0008836586514767019,
          0.0007946960671549461,
          0.0007138961573442542,
          0.0006405993231173357,
          0.0005741896463512256
         ]
        }
       ],
       "layout": {
        "height": 350,
        "margin": {
         "b": 20,
         "l": 20,
         "r": 20,
         "t": 50
        },
        "template": {
         "data": {
          "bar": [
           {
            "error_x": {
             "color": "#2a3f5f"
            },
            "error_y": {
             "color": "#2a3f5f"
            },
            "marker": {
             "line": {
              "color": "#E5ECF6",
              "width": 0.5
             }
            },
            "type": "bar"
           }
          ],
          "barpolar": [
           {
            "marker": {
             "line": {
              "color": "#E5ECF6",
              "width": 0.5
             }
            },
            "type": "barpolar"
           }
          ],
          "carpet": [
           {
            "aaxis": {
             "endlinecolor": "#2a3f5f",
             "gridcolor": "white",
             "linecolor": "white",
             "minorgridcolor": "white",
             "startlinecolor": "#2a3f5f"
            },
            "baxis": {
             "endlinecolor": "#2a3f5f",
             "gridcolor": "white",
             "linecolor": "white",
             "minorgridcolor": "white",
             "startlinecolor": "#2a3f5f"
            },
            "type": "carpet"
           }
          ],
          "choropleth": [
           {
            "colorbar": {
             "outlinewidth": 0,
             "ticks": ""
            },
            "type": "choropleth"
           }
          ],
          "contour": [
           {
            "colorbar": {
             "outlinewidth": 0,
             "ticks": ""
            },
            "colorscale": [
             [
              0,
              "#0d0887"
             ],
             [
              0.1111111111111111,
              "#46039f"
             ],
             [
              0.2222222222222222,
              "#7201a8"
             ],
             [
              0.3333333333333333,
              "#9c179e"
             ],
             [
              0.4444444444444444,
              "#bd3786"
             ],
             [
              0.5555555555555556,
              "#d8576b"
             ],
             [
              0.6666666666666666,
              "#ed7953"
             ],
             [
              0.7777777777777778,
              "#fb9f3a"
             ],
             [
              0.8888888888888888,
              "#fdca26"
             ],
             [
              1,
              "#f0f921"
             ]
            ],
            "type": "contour"
           }
          ],
          "contourcarpet": [
           {
            "colorbar": {
             "outlinewidth": 0,
             "ticks": ""
            },
            "type": "contourcarpet"
           }
          ],
          "heatmap": [
           {
            "colorbar": {
             "outlinewidth": 0,
             "ticks": ""
            },
            "colorscale": [
             [
              0,
              "#0d0887"
             ],
             [
              0.1111111111111111,
              "#46039f"
             ],
             [
              0.2222222222222222,
              "#7201a8"
             ],
             [
              0.3333333333333333,
              "#9c179e"
             ],
             [
              0.4444444444444444,
              "#bd3786"
             ],
             [
              0.5555555555555556,
              "#d8576b"
             ],
             [
              0.6666666666666666,
              "#ed7953"
             ],
             [
              0.7777777777777778,
              "#fb9f3a"
             ],
             [
              0.8888888888888888,
              "#fdca26"
             ],
             [
              1,
              "#f0f921"
             ]
            ],
            "type": "heatmap"
           }
          ],
          "heatmapgl": [
           {
            "colorbar": {
             "outlinewidth": 0,
             "ticks": ""
            },
            "colorscale": [
             [
              0,
              "#0d0887"
             ],
             [
              0.1111111111111111,
              "#46039f"
             ],
             [
              0.2222222222222222,
              "#7201a8"
             ],
             [
              0.3333333333333333,
              "#9c179e"
             ],
             [
              0.4444444444444444,
              "#bd3786"
             ],
             [
              0.5555555555555556,
              "#d8576b"
             ],
             [
              0.6666666666666666,
              "#ed7953"
             ],
             [
              0.7777777777777778,
              "#fb9f3a"
             ],
             [
              0.8888888888888888,
              "#fdca26"
             ],
             [
              1,
              "#f0f921"
             ]
            ],
            "type": "heatmapgl"
           }
          ],
          "histogram": [
           {
            "marker": {
             "colorbar": {
              "outlinewidth": 0,
              "ticks": ""
             }
            },
            "type": "histogram"
           }
          ],
          "histogram2d": [
           {
            "colorbar": {
             "outlinewidth": 0,
             "ticks": ""
            },
            "colorscale": [
             [
              0,
              "#0d0887"
             ],
             [
              0.1111111111111111,
              "#46039f"
             ],
             [
              0.2222222222222222,
              "#7201a8"
             ],
             [
              0.3333333333333333,
              "#9c179e"
             ],
             [
              0.4444444444444444,
              "#bd3786"
             ],
             [
              0.5555555555555556,
              "#d8576b"
             ],
             [
              0.6666666666666666,
              "#ed7953"
             ],
             [
              0.7777777777777778,
              "#fb9f3a"
             ],
             [
              0.8888888888888888,
              "#fdca26"
             ],
             [
              1,
              "#f0f921"
             ]
            ],
            "type": "histogram2d"
           }
          ],
          "histogram2dcontour": [
           {
            "colorbar": {
             "outlinewidth": 0,
             "ticks": ""
            },
            "colorscale": [
             [
              0,
              "#0d0887"
             ],
             [
              0.1111111111111111,
              "#46039f"
             ],
             [
              0.2222222222222222,
              "#7201a8"
             ],
             [
              0.3333333333333333,
              "#9c179e"
             ],
             [
              0.4444444444444444,
              "#bd3786"
             ],
             [
              0.5555555555555556,
              "#d8576b"
             ],
             [
              0.6666666666666666,
              "#ed7953"
             ],
             [
              0.7777777777777778,
              "#fb9f3a"
             ],
             [
              0.8888888888888888,
              "#fdca26"
             ],
             [
              1,
              "#f0f921"
             ]
            ],
            "type": "histogram2dcontour"
           }
          ],
          "mesh3d": [
           {
            "colorbar": {
             "outlinewidth": 0,
             "ticks": ""
            },
            "type": "mesh3d"
           }
          ],
          "parcoords": [
           {
            "line": {
             "colorbar": {
              "outlinewidth": 0,
              "ticks": ""
             }
            },
            "type": "parcoords"
           }
          ],
          "pie": [
           {
            "automargin": true,
            "type": "pie"
           }
          ],
          "scatter": [
           {
            "marker": {
             "colorbar": {
              "outlinewidth": 0,
              "ticks": ""
             }
            },
            "type": "scatter"
           }
          ],
          "scatter3d": [
           {
            "line": {
             "colorbar": {
              "outlinewidth": 0,
              "ticks": ""
             }
            },
            "marker": {
             "colorbar": {
              "outlinewidth": 0,
              "ticks": ""
             }
            },
            "type": "scatter3d"
           }
          ],
          "scattercarpet": [
           {
            "marker": {
             "colorbar": {
              "outlinewidth": 0,
              "ticks": ""
             }
            },
            "type": "scattercarpet"
           }
          ],
          "scattergeo": [
           {
            "marker": {
             "colorbar": {
              "outlinewidth": 0,
              "ticks": ""
             }
            },
            "type": "scattergeo"
           }
          ],
          "scattergl": [
           {
            "marker": {
             "colorbar": {
              "outlinewidth": 0,
              "ticks": ""
             }
            },
            "type": "scattergl"
           }
          ],
          "scattermapbox": [
           {
            "marker": {
             "colorbar": {
              "outlinewidth": 0,
              "ticks": ""
             }
            },
            "type": "scattermapbox"
           }
          ],
          "scatterpolar": [
           {
            "marker": {
             "colorbar": {
              "outlinewidth": 0,
              "ticks": ""
             }
            },
            "type": "scatterpolar"
           }
          ],
          "scatterpolargl": [
           {
            "marker": {
             "colorbar": {
              "outlinewidth": 0,
              "ticks": ""
             }
            },
            "type": "scatterpolargl"
           }
          ],
          "scatterternary": [
           {
            "marker": {
             "colorbar": {
              "outlinewidth": 0,
              "ticks": ""
             }
            },
            "type": "scatterternary"
           }
          ],
          "surface": [
           {
            "colorbar": {
             "outlinewidth": 0,
             "ticks": ""
            },
            "colorscale": [
             [
              0,
              "#0d0887"
             ],
             [
              0.1111111111111111,
              "#46039f"
             ],
             [
              0.2222222222222222,
              "#7201a8"
             ],
             [
              0.3333333333333333,
              "#9c179e"
             ],
             [
              0.4444444444444444,
              "#bd3786"
             ],
             [
              0.5555555555555556,
              "#d8576b"
             ],
             [
              0.6666666666666666,
              "#ed7953"
             ],
             [
              0.7777777777777778,
              "#fb9f3a"
             ],
             [
              0.8888888888888888,
              "#fdca26"
             ],
             [
              1,
              "#f0f921"
             ]
            ],
            "type": "surface"
           }
          ],
          "table": [
           {
            "cells": {
             "fill": {
              "color": "#EBF0F8"
             },
             "line": {
              "color": "white"
             }
            },
            "header": {
             "fill": {
              "color": "#C8D4E3"
             },
             "line": {
              "color": "white"
             }
            },
            "type": "table"
           }
          ]
         },
         "layout": {
          "annotationdefaults": {
           "arrowcolor": "#2a3f5f",
           "arrowhead": 0,
           "arrowwidth": 1
          },
          "coloraxis": {
           "colorbar": {
            "outlinewidth": 0,
            "ticks": ""
           }
          },
          "colorscale": {
           "diverging": [
            [
             0,
             "#8e0152"
            ],
            [
             0.1,
             "#c51b7d"
            ],
            [
             0.2,
             "#de77ae"
            ],
            [
             0.3,
             "#f1b6da"
            ],
            [
             0.4,
             "#fde0ef"
            ],
            [
             0.5,
             "#f7f7f7"
            ],
            [
             0.6,
             "#e6f5d0"
            ],
            [
             0.7,
             "#b8e186"
            ],
            [
             0.8,
             "#7fbc41"
            ],
            [
             0.9,
             "#4d9221"
            ],
            [
             1,
             "#276419"
            ]
           ],
           "sequential": [
            [
             0,
             "#0d0887"
            ],
            [
             0.1111111111111111,
             "#46039f"
            ],
            [
             0.2222222222222222,
             "#7201a8"
            ],
            [
             0.3333333333333333,
             "#9c179e"
            ],
            [
             0.4444444444444444,
             "#bd3786"
            ],
            [
             0.5555555555555556,
             "#d8576b"
            ],
            [
             0.6666666666666666,
             "#ed7953"
            ],
            [
             0.7777777777777778,
             "#fb9f3a"
            ],
            [
             0.8888888888888888,
             "#fdca26"
            ],
            [
             1,
             "#f0f921"
            ]
           ],
           "sequentialminus": [
            [
             0,
             "#0d0887"
            ],
            [
             0.1111111111111111,
             "#46039f"
            ],
            [
             0.2222222222222222,
             "#7201a8"
            ],
            [
             0.3333333333333333,
             "#9c179e"
            ],
            [
             0.4444444444444444,
             "#bd3786"
            ],
            [
             0.5555555555555556,
             "#d8576b"
            ],
            [
             0.6666666666666666,
             "#ed7953"
            ],
            [
             0.7777777777777778,
             "#fb9f3a"
            ],
            [
             0.8888888888888888,
             "#fdca26"
            ],
            [
             1,
             "#f0f921"
            ]
           ]
          },
          "colorway": [
           "#636efa",
           "#EF553B",
           "#00cc96",
           "#ab63fa",
           "#FFA15A",
           "#19d3f3",
           "#FF6692",
           "#B6E880",
           "#FF97FF",
           "#FECB52"
          ],
          "font": {
           "color": "#2a3f5f"
          },
          "geo": {
           "bgcolor": "white",
           "lakecolor": "white",
           "landcolor": "#E5ECF6",
           "showlakes": true,
           "showland": true,
           "subunitcolor": "white"
          },
          "hoverlabel": {
           "align": "left"
          },
          "hovermode": "closest",
          "mapbox": {
           "style": "light"
          },
          "paper_bgcolor": "white",
          "plot_bgcolor": "#E5ECF6",
          "polar": {
           "angularaxis": {
            "gridcolor": "white",
            "linecolor": "white",
            "ticks": ""
           },
           "bgcolor": "#E5ECF6",
           "radialaxis": {
            "gridcolor": "white",
            "linecolor": "white",
            "ticks": ""
           }
          },
          "scene": {
           "xaxis": {
            "backgroundcolor": "#E5ECF6",
            "gridcolor": "white",
            "gridwidth": 2,
            "linecolor": "white",
            "showbackground": true,
            "ticks": "",
            "zerolinecolor": "white"
           },
           "yaxis": {
            "backgroundcolor": "#E5ECF6",
            "gridcolor": "white",
            "gridwidth": 2,
            "linecolor": "white",
            "showbackground": true,
            "ticks": "",
            "zerolinecolor": "white"
           },
           "zaxis": {
            "backgroundcolor": "#E5ECF6",
            "gridcolor": "white",
            "gridwidth": 2,
            "linecolor": "white",
            "showbackground": true,
            "ticks": "",
            "zerolinecolor": "white"
           }
          },
          "shapedefaults": {
           "line": {
            "color": "#2a3f5f"
           }
          },
          "ternary": {
           "aaxis": {
            "gridcolor": "white",
            "linecolor": "white",
            "ticks": ""
           },
           "baxis": {
            "gridcolor": "white",
            "linecolor": "white",
            "ticks": ""
           },
           "bgcolor": "#E5ECF6",
           "caxis": {
            "gridcolor": "white",
            "linecolor": "white",
            "ticks": ""
           }
          },
          "title": {
           "x": 0.05
          },
          "xaxis": {
           "automargin": true,
           "gridcolor": "white",
           "linecolor": "white",
           "ticks": "",
           "title": {
            "standoff": 15
           },
           "zerolinecolor": "white",
           "zerolinewidth": 2
          },
          "yaxis": {
           "automargin": true,
           "gridcolor": "white",
           "linecolor": "white",
           "ticks": "",
           "title": {
            "standoff": 15
           },
           "zerolinecolor": "white",
           "zerolinewidth": 2
          }
         }
        },
        "width": 600,
        "xaxis": {
         "linecolor": "black",
         "linewidth": 1.5,
         "mirror": true,
         "showline": true,
         "showticklabels": false,
         "title": {
          "text": "Days"
         }
        },
        "yaxis": {
         "linecolor": "black",
         "linewidth": 1.5,
         "mirror": true,
         "showline": true,
         "showticklabels": false,
         "title": {
          "text": "Number of new cases"
         }
        }
       }
      },
      "text/html": [
       "<div>\n",
       "        \n",
       "        \n",
       "            <div id=\"11d32858-7410-47f6-9e4b-f8c14163efb9\" class=\"plotly-graph-div\" style=\"height:350px; width:600px;\"></div>\n",
       "            <script type=\"text/javascript\">\n",
       "                require([\"plotly\"], function(Plotly) {\n",
       "                    window.PLOTLYENV=window.PLOTLYENV || {};\n",
       "                    \n",
       "                if (document.getElementById(\"11d32858-7410-47f6-9e4b-f8c14163efb9\")) {\n",
       "                    Plotly.newPlot(\n",
       "                        '11d32858-7410-47f6-9e4b-f8c14163efb9',\n",
       "                        [{\"mode\": \"lines\", \"name\": \"Fast spread\", \"type\": \"scatter\", \"x\": [0.0, 0.1, 0.2, 0.30000000000000004, 0.4, 0.5, 0.6000000000000001, 0.7000000000000001, 0.8, 0.9, 1.0, 1.1, 1.2000000000000002, 1.3, 1.4000000000000001, 1.5, 1.6, 1.7000000000000002, 1.8, 1.9000000000000001, 2.0, 2.1, 2.2, 2.3000000000000003, 2.4000000000000004, 2.5, 2.6, 2.7, 2.8000000000000003, 2.9000000000000004, 3.0, 3.1, 3.2, 3.3000000000000003, 3.4000000000000004, 3.5, 3.6, 3.7, 3.8000000000000003, 3.9000000000000004, 4.0, 4.1000000000000005, 4.2, 4.3, 4.4, 4.5, 4.6000000000000005, 4.7, 4.800000000000001, 4.9, 5.0, 5.1000000000000005, 5.2, 5.300000000000001, 5.4, 5.5, 5.6000000000000005, 5.7, 5.800000000000001, 5.9, 6.0, 6.1000000000000005, 6.2, 6.300000000000001, 6.4, 6.5, 6.6000000000000005, 6.7, 6.800000000000001, 6.9, 7.0, 7.1000000000000005, 7.2, 7.300000000000001, 7.4, 7.5, 7.6000000000000005, 7.7, 7.800000000000001, 7.9, 8.0, 8.1, 8.200000000000001, 8.3, 8.4, 8.5, 8.6, 8.700000000000001, 8.8, 8.9, 9.0, 9.1, 9.200000000000001, 9.3, 9.4, 9.5, 9.600000000000001, 9.700000000000001, 9.8, 9.9, 10.0, 10.100000000000001, 10.200000000000001, 10.3, 10.4, 10.5, 10.600000000000001, 10.700000000000001, 10.8, 10.9, 11.0, 11.100000000000001, 11.200000000000001, 11.3, 11.4, 11.5, 11.600000000000001, 11.700000000000001, 11.8, 11.9, 12.0, 12.100000000000001, 12.200000000000001, 12.3, 12.4, 12.5, 12.600000000000001, 12.700000000000001, 12.8, 12.9, 13.0, 13.100000000000001, 13.200000000000001, 13.3, 13.4, 13.5, 13.600000000000001, 13.700000000000001, 13.8, 13.9, 14.0, 14.100000000000001, 14.200000000000001, 14.3, 14.4, 14.5, 14.600000000000001, 14.700000000000001, 14.8, 14.9, 15.0, 15.100000000000001, 15.200000000000001, 15.3, 15.4, 15.5, 15.600000000000001, 15.700000000000001, 15.8, 15.9, 16.0, 16.1, 16.2, 16.3, 16.400000000000002, 16.5, 16.6, 16.7, 16.8, 16.900000000000002, 17.0, 17.1, 17.2, 17.3, 17.400000000000002, 17.5, 17.6, 17.7, 17.8, 17.900000000000002, 18.0, 18.1, 18.2, 18.3, 18.400000000000002, 18.5, 18.6, 18.7, 18.8, 18.900000000000002, 19.0, 19.1, 19.200000000000003, 19.3, 19.400000000000002, 19.5, 19.6, 19.700000000000003, 19.8, 19.900000000000002], \"y\": [1.4867195147342979e-06, 2.438960745893352e-06, 3.961299091032075e-06, 6.36982517886709e-06, 1.014085206548676e-05, 1.5983741106905478e-05, 2.4942471290053535e-05, 3.853519674208713e-05, 5.8943067756539855e-05, 8.926165717713293e-05, 0.00013383022576488537, 0.00019865547139277272, 0.00029194692579146027, 0.00042478027055075143, 0.0006119019301137731, 0.0008726826950457602, 0.00123221916847302, 0.0017225689390536812, 0.0023840882014648404, 0.0032668190561999247, 0.0044318484119380075, 0.005952532419775854, 0.007915451582979969, 0.010420934814422605, 0.013582969233685634, 0.01752830049356854, 0.0223945302948429, 0.02832703774160119, 0.03547459284623146, 0.04398359598042723, 0.05399096651318806, 0.0656158147746766, 0.07895015830089419, 0.09404907737688697, 0.11092083467945564, 0.12951759566589174, 0.14972746563574488, 0.1713685920478074, 0.19418605498321304, 0.21785217703255064, 0.24197072451914337, 0.266085249898755, 0.28969155276148284, 0.3122539333667612, 0.3332246028917997, 0.3520653267642995, 0.36827014030332345, 0.38138781546052414, 0.391042693975456, 0.3969525474770118, 0.3989422804014327, 0.39695254747701175, 0.3910426939754559, 0.3813878154605241, 0.3682701403033233, 0.3520653267642995, 0.33322460289179956, 0.3122539333667612, 0.2896915527614826, 0.26608524989875476, 0.24197072451914337, 0.21785217703255041, 0.19418605498321292, 0.1713685920478072, 0.1497274656357448, 0.12951759566589174, 0.11092083467945546, 0.0940490773768869, 0.07895015830089407, 0.06561581477467655, 0.05399096651318806, 0.043983595980427156, 0.035474592846231424, 0.02832703774160112, 0.022394530294842882, 0.01752830049356854, 0.013582969233685602, 0.010420934814422592, 0.007915451582979946, 0.005952532419775849, 0.0044318484119380075, 0.0032668190561999247, 0.0023840882014648343, 0.0017225689390536767, 0.0012322191684730178, 0.0008726826950457602, 0.0006119019301137731, 0.00042478027055074997, 0.0002919469257914595, 0.00019865547139277237, 0.00013383022576488537, 8.926165717713293e-05, 5.894306775653965e-05, 3.8535196742086994e-05, 2.4942471290053535e-05, 1.5983741106905478e-05, 1.014085206548667e-05, 6.369825178867069e-06, 3.961299091032062e-06, 2.438960745893352e-06, 1.4867195147342979e-06, 8.972435162383258e-07, 5.361035344697595e-07, 3.1713492167159643e-07, 1.8573618445552897e-07, 1.0769760042543276e-07, 6.182620500165791e-08, 3.5139550948204215e-08, 1.9773196406244602e-08, 1.1015763624682308e-08, 6.075882849823286e-09, 3.3178842435472697e-09, 1.7937839079640732e-09, 9.601433370312266e-10, 5.088140281645039e-10, 2.669556614762852e-10, 1.3866799941653025e-10, 7.131328123996026e-11, 3.630961501791775e-11, 1.8303322170155714e-11, 9.134720408364595e-12, 4.51354367720547e-12, 2.2079899631371235e-12, 1.0693837871541565e-12, 5.127753636796663e-13, 2.43432053302901e-13, 1.1441564901801248e-13, 5.324148372252925e-14, 2.4528552856964153e-14, 1.1187956214351817e-14, 5.052271083536893e-15, 2.2588094031542712e-15, 9.998378748497037e-16, 4.3816394355093266e-16, 1.9010815379079637e-16, 8.166235631669551e-17, 3.472962748566158e-17, 1.4622963575006376e-17, 6.095758129562418e-18, 2.5158057769514047e-18, 1.0279773571668917e-18, 4.158598979115072e-19, 1.6655880323799054e-19, 6.60457986073931e-20, 2.592864701100371e-20, 1.0077935394300011e-20, 3.8781119317469065e-21, 1.4774954927042438e-21, 5.573000022720691e-22, 2.0811768202028245e-22, 7.69459862670642e-23, 2.8165665442761825e-23, 1.0207305594305957e-23, 3.6623451685553784e-24, 1.300961619923913e-24, 4.575375590520806e-25, 1.593111132700944e-25, 5.49189783181774e-26, 1.8743724023417964e-26, 6.3335378218306055e-27, 2.1188192535093538e-27, 7.01775994266116e-28, 2.3012307088481552e-28, 7.471002275883472e-29, 2.4013454000085015e-29, 7.641655411587205e-30, 2.4075611318392666e-30, 7.509728772496528e-31, 2.3191467772561174e-31, 7.09070266842796e-32, 2.1463837356630605e-32, 6.432540334635658e-33, 1.9085991346368163e-33, 5.6066569263038325e-34, 1.630610734839622e-34, 4.6951953579751464e-35, 1.3384867992542497e-35, 3.77773572114912e-36, 1.0556163502452738e-36, 2.920368793868055e-37, 7.998827757006813e-38, 2.169062400260601e-38, 5.8233755997365695e-39, 1.547870466296206e-39, 4.0733476775277295e-40, 1.0612688139152163e-40, 2.7375141923552304e-41, 6.991082249706589e-42, 1.7676224102535012e-42, 4.424779583316042e-43, 1.0966065593889713e-43, 2.690711235642389e-44, 6.536426775318379e-45, 1.5720659586057322e-45, 3.743330579884903e-46, 8.824754974594825e-47, 2.0597010224088725e-47, 4.759515753020374e-48, 1.0888759553277215e-48, 2.466329525880481e-49]}, {\"mode\": \"lines\", \"name\": \"Slow spread\", \"type\": \"scatter\", \"x\": [0.0, 0.1, 0.2, 0.30000000000000004, 0.4, 0.5, 0.6000000000000001, 0.7000000000000001, 0.8, 0.9, 1.0, 1.1, 1.2000000000000002, 1.3, 1.4000000000000001, 1.5, 1.6, 1.7000000000000002, 1.8, 1.9000000000000001, 2.0, 2.1, 2.2, 2.3000000000000003, 2.4000000000000004, 2.5, 2.6, 2.7, 2.8000000000000003, 2.9000000000000004, 3.0, 3.1, 3.2, 3.3000000000000003, 3.4000000000000004, 3.5, 3.6, 3.7, 3.8000000000000003, 3.9000000000000004, 4.0, 4.1000000000000005, 4.2, 4.3, 4.4, 4.5, 4.6000000000000005, 4.7, 4.800000000000001, 4.9, 5.0, 5.1000000000000005, 5.2, 5.300000000000001, 5.4, 5.5, 5.6000000000000005, 5.7, 5.800000000000001, 5.9, 6.0, 6.1000000000000005, 6.2, 6.300000000000001, 6.4, 6.5, 6.6000000000000005, 6.7, 6.800000000000001, 6.9, 7.0, 7.1000000000000005, 7.2, 7.300000000000001, 7.4, 7.5, 7.6000000000000005, 7.7, 7.800000000000001, 7.9, 8.0, 8.1, 8.200000000000001, 8.3, 8.4, 8.5, 8.6, 8.700000000000001, 8.8, 8.9, 9.0, 9.1, 9.200000000000001, 9.3, 9.4, 9.5, 9.600000000000001, 9.700000000000001, 9.8, 9.9, 10.0, 10.100000000000001, 10.200000000000001, 10.3, 10.4, 10.5, 10.600000000000001, 10.700000000000001, 10.8, 10.9, 11.0, 11.100000000000001, 11.200000000000001, 11.3, 11.4, 11.5, 11.600000000000001, 11.700000000000001, 11.8, 11.9, 12.0, 12.100000000000001, 12.200000000000001, 12.3, 12.4, 12.5, 12.600000000000001, 12.700000000000001, 12.8, 12.9, 13.0, 13.100000000000001, 13.200000000000001, 13.3, 13.4, 13.5, 13.600000000000001, 13.700000000000001, 13.8, 13.9, 14.0, 14.100000000000001, 14.200000000000001, 14.3, 14.4, 14.5, 14.600000000000001, 14.700000000000001, 14.8, 14.9, 15.0, 15.100000000000001, 15.200000000000001, 15.3, 15.4, 15.5, 15.600000000000001, 15.700000000000001, 15.8, 15.9, 16.0, 16.1, 16.2, 16.3, 16.400000000000002, 16.5, 16.6, 16.7, 16.8, 16.900000000000002, 17.0, 17.1, 17.2, 17.3, 17.400000000000002, 17.5, 17.6, 17.7, 17.8, 17.900000000000002, 18.0, 18.1, 18.2, 18.3, 18.400000000000002, 18.5, 18.6, 18.7, 18.8, 18.900000000000002, 19.0, 19.1, 19.200000000000003, 19.3, 19.400000000000002, 19.5, 19.6, 19.700000000000003, 19.8, 19.900000000000002], \"y\": [0.0005140929987637018, 0.0005741896463512261, 0.0006405993231173357, 0.0007138961573442565, 0.0007946960671549483, 0.0008836586514767019, 0.0009814890401277866, 0.0010889396853999728, 0.00120681207600643, 0.001335958352772115, 0.001477282803979336, 0.0016317432168629776, 0.0018003520603981236, 0.001984177473258618, 0.0021843440296711743, 0.0024020332548697412, 0.0026384838609933192, 0.0028949916735929652, 0.003172909218445733, 0.0034736449381408685, 0.003798662007932481, 0.004149476720668069, 0.004527656411228538, 0.004934816891875435, 0.005372619371216331, 0.005842766831189513, 0.006346999838550089, 0.006887091769826073, 0.0074648434316142995, 0.00808207706140912, 0.00874062969790316, 0.009442345913867055, 0.010189069909295164, 0.010982636967484772, 0.011824864282077152, 0.012717541168805994, 0.01366241868174073, 0.0146611986601424, 0.01571552223862387, 0.0168269578600759, 0.017996988837729353, 0.01922700051971094, 0.02051826711644909, 0.02187193825822553, 0.023289025356971735, 0.0247703878529977, 0.026316719433631397, 0.027928534316654915, 0.029606153696863965, 0.03134969245896232, 0.03315904626424956, 0.0350338791220834, 0.036973611559818535, 0.038977409506766855, 0.04104417400861653, 0.04317253188863058, 0.04536082747075937, 0.04760711547750344, 0.04990915521191499, 0.05226440612850288, 0.05467002489199788, 0.057122864015935804, 0.05961947216484686, 0.06215609619452194, 0.06472868499440433, 0.06733289518468628, 0.06996409870824144, 0.07261739234418353, 0.07528760915570819, 0.07796933187005435, 0.08065690817304778, 0.08334446788488616, 0.08602594196774592, 0.08869508329958496, 0.09134548913234282, 0.09397062513676752, 0.09656385092049428, 0.0991184468909342, 0.1016276423201724, 0.10408464445558711, 0.10648266850745075, 0.10881496833350866, 0.11107486763059991, 0.11325579143491937, 0.115351297725641, 0.11735510892143318, 0.11926114305598966, 0.12106354441713936, 0.12275671343444113, 0.12433533560244286, 0.12579440923099774, 0.1271292718201747, 0.12833562486533798, 0.12940955690784897, 0.13034756465848532, 0.13114657203397997, 0.13180394696193923, 0.1323175158256706, 0.1326855754379841, 0.132906902451659, 0.1329807601338109, 0.132906902451659, 0.13268557543798407, 0.1323175158256706, 0.13180394696193923, 0.13114657203397997, 0.1303475646584853, 0.12940955690784894, 0.12833562486533798, 0.1271292718201747, 0.12579440923099774, 0.12433533560244282, 0.1227567134344411, 0.12106354441713933, 0.11926114305598966, 0.11735510892143318, 0.11535129772564094, 0.11325579143491933, 0.11107486763059987, 0.10881496833350866, 0.10648266850745075, 0.10408464445558707, 0.10162764232017236, 0.09911844689093417, 0.09656385092049424, 0.09397062513676752, 0.09134548913234279, 0.08869508329958492, 0.08602594196774588, 0.08334446788488616, 0.08065690817304778, 0.0779693318700543, 0.07528760915570813, 0.0726173923441835, 0.0699640987082414, 0.06733289518468628, 0.06472868499440429, 0.0621560961945219, 0.05961947216484684, 0.05712286401593578, 0.05467002489199788, 0.052264406128502826, 0.049909155211914934, 0.047607115477503424, 0.04536082747075935, 0.04317253188863058, 0.04104417400861649, 0.03897740950676681, 0.03697361155981851, 0.03503387912208338, 0.03315904626424956, 0.03134969245896229, 0.02960615369686394, 0.0279285343166549, 0.026316719433631383, 0.0247703878529977, 0.02328902535697171, 0.021871938258225518, 0.020518267116449083, 0.01922700051971093, 0.017996988837729353, 0.016826957860075886, 0.01571552223862387, 0.0146611986601424, 0.013662418681740708, 0.012717541168805994, 0.01182486428207713, 0.010982636967484772, 0.010189069909295148, 0.00944234591386704, 0.00874062969790316, 0.00808207706140911, 0.0074648434316142995, 0.006887091769826068, 0.0063469998385500825, 0.005842766831189513, 0.005372619371216326, 0.004934816891875435, 0.004527656411228538, 0.004149476720668058, 0.003798662007932481, 0.0034736449381408594, 0.003172909218445733, 0.0028949916735929652, 0.0026384838609933153, 0.0024020332548697412, 0.002184344029671172, 0.001984177473258618, 0.0018003520603981236, 0.0016317432168629759, 0.001477282803979336, 0.0013359583527721138, 0.0012068120760064258, 0.0010889396853999728, 0.0009814890401277838, 0.0008836586514767019, 0.0007946960671549461, 0.0007138961573442542, 0.0006405993231173357, 0.0005741896463512256]}],\n",
       "                        {\"height\": 350, \"margin\": {\"b\": 20, \"l\": 20, \"r\": 20, \"t\": 50}, \"template\": {\"data\": {\"bar\": [{\"error_x\": {\"color\": \"#2a3f5f\"}, \"error_y\": {\"color\": \"#2a3f5f\"}, \"marker\": {\"line\": {\"color\": \"#E5ECF6\", \"width\": 0.5}}, \"type\": \"bar\"}], \"barpolar\": [{\"marker\": {\"line\": {\"color\": \"#E5ECF6\", \"width\": 0.5}}, \"type\": \"barpolar\"}], \"carpet\": [{\"aaxis\": {\"endlinecolor\": \"#2a3f5f\", \"gridcolor\": \"white\", \"linecolor\": \"white\", \"minorgridcolor\": \"white\", \"startlinecolor\": \"#2a3f5f\"}, \"baxis\": {\"endlinecolor\": \"#2a3f5f\", \"gridcolor\": \"white\", \"linecolor\": \"white\", \"minorgridcolor\": \"white\", \"startlinecolor\": \"#2a3f5f\"}, \"type\": \"carpet\"}], \"choropleth\": [{\"colorbar\": {\"outlinewidth\": 0, \"ticks\": \"\"}, \"type\": \"choropleth\"}], \"contour\": [{\"colorbar\": {\"outlinewidth\": 0, \"ticks\": \"\"}, \"colorscale\": [[0.0, \"#0d0887\"], [0.1111111111111111, \"#46039f\"], [0.2222222222222222, \"#7201a8\"], [0.3333333333333333, \"#9c179e\"], [0.4444444444444444, \"#bd3786\"], [0.5555555555555556, \"#d8576b\"], [0.6666666666666666, \"#ed7953\"], [0.7777777777777778, \"#fb9f3a\"], [0.8888888888888888, \"#fdca26\"], [1.0, \"#f0f921\"]], \"type\": \"contour\"}], \"contourcarpet\": [{\"colorbar\": {\"outlinewidth\": 0, \"ticks\": \"\"}, \"type\": \"contourcarpet\"}], \"heatmap\": [{\"colorbar\": {\"outlinewidth\": 0, \"ticks\": \"\"}, \"colorscale\": [[0.0, \"#0d0887\"], [0.1111111111111111, \"#46039f\"], [0.2222222222222222, \"#7201a8\"], [0.3333333333333333, \"#9c179e\"], [0.4444444444444444, \"#bd3786\"], [0.5555555555555556, \"#d8576b\"], [0.6666666666666666, \"#ed7953\"], [0.7777777777777778, \"#fb9f3a\"], [0.8888888888888888, \"#fdca26\"], [1.0, \"#f0f921\"]], \"type\": \"heatmap\"}], \"heatmapgl\": [{\"colorbar\": {\"outlinewidth\": 0, \"ticks\": \"\"}, \"colorscale\": [[0.0, \"#0d0887\"], [0.1111111111111111, \"#46039f\"], [0.2222222222222222, \"#7201a8\"], [0.3333333333333333, \"#9c179e\"], [0.4444444444444444, \"#bd3786\"], [0.5555555555555556, \"#d8576b\"], [0.6666666666666666, \"#ed7953\"], [0.7777777777777778, \"#fb9f3a\"], [0.8888888888888888, \"#fdca26\"], [1.0, \"#f0f921\"]], \"type\": \"heatmapgl\"}], \"histogram\": [{\"marker\": {\"colorbar\": {\"outlinewidth\": 0, \"ticks\": \"\"}}, \"type\": \"histogram\"}], \"histogram2d\": [{\"colorbar\": {\"outlinewidth\": 0, \"ticks\": \"\"}, \"colorscale\": [[0.0, \"#0d0887\"], [0.1111111111111111, \"#46039f\"], [0.2222222222222222, \"#7201a8\"], [0.3333333333333333, \"#9c179e\"], [0.4444444444444444, \"#bd3786\"], [0.5555555555555556, \"#d8576b\"], [0.6666666666666666, \"#ed7953\"], [0.7777777777777778, \"#fb9f3a\"], [0.8888888888888888, \"#fdca26\"], [1.0, \"#f0f921\"]], \"type\": \"histogram2d\"}], \"histogram2dcontour\": [{\"colorbar\": {\"outlinewidth\": 0, \"ticks\": \"\"}, \"colorscale\": [[0.0, \"#0d0887\"], [0.1111111111111111, \"#46039f\"], [0.2222222222222222, \"#7201a8\"], [0.3333333333333333, \"#9c179e\"], [0.4444444444444444, \"#bd3786\"], [0.5555555555555556, \"#d8576b\"], [0.6666666666666666, \"#ed7953\"], [0.7777777777777778, \"#fb9f3a\"], [0.8888888888888888, \"#fdca26\"], [1.0, \"#f0f921\"]], \"type\": \"histogram2dcontour\"}], \"mesh3d\": [{\"colorbar\": {\"outlinewidth\": 0, \"ticks\": \"\"}, \"type\": \"mesh3d\"}], \"parcoords\": [{\"line\": {\"colorbar\": {\"outlinewidth\": 0, \"ticks\": \"\"}}, \"type\": \"parcoords\"}], \"pie\": [{\"automargin\": true, \"type\": \"pie\"}], \"scatter\": [{\"marker\": {\"colorbar\": {\"outlinewidth\": 0, \"ticks\": \"\"}}, \"type\": \"scatter\"}], \"scatter3d\": [{\"line\": {\"colorbar\": {\"outlinewidth\": 0, \"ticks\": \"\"}}, \"marker\": {\"colorbar\": {\"outlinewidth\": 0, \"ticks\": \"\"}}, \"type\": \"scatter3d\"}], \"scattercarpet\": [{\"marker\": {\"colorbar\": {\"outlinewidth\": 0, \"ticks\": \"\"}}, \"type\": \"scattercarpet\"}], \"scattergeo\": [{\"marker\": {\"colorbar\": {\"outlinewidth\": 0, \"ticks\": \"\"}}, \"type\": \"scattergeo\"}], \"scattergl\": [{\"marker\": {\"colorbar\": {\"outlinewidth\": 0, \"ticks\": \"\"}}, \"type\": \"scattergl\"}], \"scattermapbox\": [{\"marker\": {\"colorbar\": {\"outlinewidth\": 0, \"ticks\": \"\"}}, \"type\": \"scattermapbox\"}], \"scatterpolar\": [{\"marker\": {\"colorbar\": {\"outlinewidth\": 0, \"ticks\": \"\"}}, \"type\": \"scatterpolar\"}], \"scatterpolargl\": [{\"marker\": {\"colorbar\": {\"outlinewidth\": 0, \"ticks\": \"\"}}, \"type\": \"scatterpolargl\"}], \"scatterternary\": [{\"marker\": {\"colorbar\": {\"outlinewidth\": 0, \"ticks\": \"\"}}, \"type\": \"scatterternary\"}], \"surface\": [{\"colorbar\": {\"outlinewidth\": 0, \"ticks\": \"\"}, \"colorscale\": [[0.0, \"#0d0887\"], [0.1111111111111111, \"#46039f\"], [0.2222222222222222, \"#7201a8\"], [0.3333333333333333, \"#9c179e\"], [0.4444444444444444, \"#bd3786\"], [0.5555555555555556, \"#d8576b\"], [0.6666666666666666, \"#ed7953\"], [0.7777777777777778, \"#fb9f3a\"], [0.8888888888888888, \"#fdca26\"], [1.0, \"#f0f921\"]], \"type\": \"surface\"}], \"table\": [{\"cells\": {\"fill\": {\"color\": \"#EBF0F8\"}, \"line\": {\"color\": \"white\"}}, \"header\": {\"fill\": {\"color\": \"#C8D4E3\"}, \"line\": {\"color\": \"white\"}}, \"type\": \"table\"}]}, \"layout\": {\"annotationdefaults\": {\"arrowcolor\": \"#2a3f5f\", \"arrowhead\": 0, \"arrowwidth\": 1}, \"coloraxis\": {\"colorbar\": {\"outlinewidth\": 0, \"ticks\": \"\"}}, \"colorscale\": {\"diverging\": [[0, \"#8e0152\"], [0.1, \"#c51b7d\"], [0.2, \"#de77ae\"], [0.3, \"#f1b6da\"], [0.4, \"#fde0ef\"], [0.5, \"#f7f7f7\"], [0.6, \"#e6f5d0\"], [0.7, \"#b8e186\"], [0.8, \"#7fbc41\"], [0.9, \"#4d9221\"], [1, \"#276419\"]], \"sequential\": [[0.0, \"#0d0887\"], [0.1111111111111111, \"#46039f\"], [0.2222222222222222, \"#7201a8\"], [0.3333333333333333, \"#9c179e\"], [0.4444444444444444, \"#bd3786\"], [0.5555555555555556, \"#d8576b\"], [0.6666666666666666, \"#ed7953\"], [0.7777777777777778, \"#fb9f3a\"], [0.8888888888888888, \"#fdca26\"], [1.0, \"#f0f921\"]], \"sequentialminus\": [[0.0, \"#0d0887\"], [0.1111111111111111, \"#46039f\"], [0.2222222222222222, \"#7201a8\"], [0.3333333333333333, \"#9c179e\"], [0.4444444444444444, \"#bd3786\"], [0.5555555555555556, \"#d8576b\"], [0.6666666666666666, \"#ed7953\"], [0.7777777777777778, \"#fb9f3a\"], [0.8888888888888888, \"#fdca26\"], [1.0, \"#f0f921\"]]}, \"colorway\": [\"#636efa\", \"#EF553B\", \"#00cc96\", \"#ab63fa\", \"#FFA15A\", \"#19d3f3\", \"#FF6692\", \"#B6E880\", \"#FF97FF\", \"#FECB52\"], \"font\": {\"color\": \"#2a3f5f\"}, \"geo\": {\"bgcolor\": \"white\", \"lakecolor\": \"white\", \"landcolor\": \"#E5ECF6\", \"showlakes\": true, \"showland\": true, \"subunitcolor\": \"white\"}, \"hoverlabel\": {\"align\": \"left\"}, \"hovermode\": \"closest\", \"mapbox\": {\"style\": \"light\"}, \"paper_bgcolor\": \"white\", \"plot_bgcolor\": \"#E5ECF6\", \"polar\": {\"angularaxis\": {\"gridcolor\": \"white\", \"linecolor\": \"white\", \"ticks\": \"\"}, \"bgcolor\": \"#E5ECF6\", \"radialaxis\": {\"gridcolor\": \"white\", \"linecolor\": \"white\", \"ticks\": \"\"}}, \"scene\": {\"xaxis\": {\"backgroundcolor\": \"#E5ECF6\", \"gridcolor\": \"white\", \"gridwidth\": 2, \"linecolor\": \"white\", \"showbackground\": true, \"ticks\": \"\", \"zerolinecolor\": \"white\"}, \"yaxis\": {\"backgroundcolor\": \"#E5ECF6\", \"gridcolor\": \"white\", \"gridwidth\": 2, \"linecolor\": \"white\", \"showbackground\": true, \"ticks\": \"\", \"zerolinecolor\": \"white\"}, \"zaxis\": {\"backgroundcolor\": \"#E5ECF6\", \"gridcolor\": \"white\", \"gridwidth\": 2, \"linecolor\": \"white\", \"showbackground\": true, \"ticks\": \"\", \"zerolinecolor\": \"white\"}}, \"shapedefaults\": {\"line\": {\"color\": \"#2a3f5f\"}}, \"ternary\": {\"aaxis\": {\"gridcolor\": \"white\", \"linecolor\": \"white\", \"ticks\": \"\"}, \"baxis\": {\"gridcolor\": \"white\", \"linecolor\": \"white\", \"ticks\": \"\"}, \"bgcolor\": \"#E5ECF6\", \"caxis\": {\"gridcolor\": \"white\", \"linecolor\": \"white\", \"ticks\": \"\"}}, \"title\": {\"x\": 0.05}, \"xaxis\": {\"automargin\": true, \"gridcolor\": \"white\", \"linecolor\": \"white\", \"ticks\": \"\", \"title\": {\"standoff\": 15}, \"zerolinecolor\": \"white\", \"zerolinewidth\": 2}, \"yaxis\": {\"automargin\": true, \"gridcolor\": \"white\", \"linecolor\": \"white\", \"ticks\": \"\", \"title\": {\"standoff\": 15}, \"zerolinecolor\": \"white\", \"zerolinewidth\": 2}}}, \"width\": 600, \"xaxis\": {\"linecolor\": \"black\", \"linewidth\": 1.5, \"mirror\": true, \"showline\": true, \"showticklabels\": false, \"title\": {\"text\": \"Days\"}}, \"yaxis\": {\"linecolor\": \"black\", \"linewidth\": 1.5, \"mirror\": true, \"showline\": true, \"showticklabels\": false, \"title\": {\"text\": \"Number of new cases\"}}},\n",
       "                        {\"responsive\": true}\n",
       "                    ).then(function(){\n",
       "                            \n",
       "var gd = document.getElementById('11d32858-7410-47f6-9e4b-f8c14163efb9');\n",
       "var x = new MutationObserver(function (mutations, observer) {{\n",
       "        var display = window.getComputedStyle(gd).display;\n",
       "        if (!display || display === 'none') {{\n",
       "            console.log([gd, 'removed!']);\n",
       "            Plotly.purge(gd);\n",
       "            observer.disconnect();\n",
       "        }}\n",
       "}});\n",
       "\n",
       "// Listen for the removal of the full notebook cells\n",
       "var notebookContainer = gd.closest('#notebook-container');\n",
       "if (notebookContainer) {{\n",
       "    x.observe(notebookContainer, {childList: true});\n",
       "}}\n",
       "\n",
       "// Listen for the clearing of the current output cell\n",
       "var outputEl = gd.closest('.output');\n",
       "if (outputEl) {{\n",
       "    x.observe(outputEl, {childList: true});\n",
       "}}\n",
       "\n",
       "                        })\n",
       "                };\n",
       "                });\n",
       "            </script>\n",
       "        </div>"
      ]
     },
     "metadata": {},
     "output_type": "display_data"
    }
   ],
   "source": [
    "normal_1 = stats.norm(loc = 5, scale = 1) # gaussian with mean = 5, std = 1\n",
    "normal_2 = stats.norm(loc = 10, scale = 3) # gaussian with mean = 10, std = 3\n",
    "x = np.arange(0,20,0.1)\n",
    "\n",
    "fig = go.Figure()\n",
    "fig.add_trace(go.Scatter(name='Fast spread',x=x,y=normal_1.pdf(x),mode='lines'))\n",
    "fig.add_trace(go.Scatter(name='Slow spread',x=x,y=normal_2.pdf(x),mode='lines'))\n",
    "fig.update_layout(width=600,height=350,margin=dict(l=20, r=20, t=50, b=20))\n",
    "fig.update_xaxes(title='Days',showline=True, linewidth=1.5, linecolor='black', mirror=True, showticklabels=False)\n",
    "fig.update_yaxes(title='Number of new cases',showline=True, linewidth=1.5, linecolor='black', mirror=True, showticklabels=False)\n",
    "fig.show()"
   ]
  },
  {
   "cell_type": "markdown",
   "metadata": {},
   "source": [
    "Look's familiar right? Well, it turns out that when disease outbreaks happen, the daily incidence generally looks hump-shaped like that. The basic explanation is that in the beginning, very few people have the disease, but each person can infect several other people. The incidence increases exponentially as each new infected person infects many more people. Eventually, the incidence reaches a maximum, or peak. Let's define it:\n",
    ">**Turning point, $t_i$**: the point at which the daily incidence reaches its peak, or \"flattens out\".\n",
    "\n",
    "The turning point can be thought of as a saturation point, where so many people have the disease that the amount of new people available to be infected starts getting smaller. This process continues, and the daily incidence continues to decrease until it reaches zero – the outbreak is over.\n",
    "\n",
    "So, we have a rough idea of what daily incidence numbers should look like over time. What should the cumulative case count look like? Well, it's the integral of a bell curve:"
   ]
  },
  {
   "cell_type": "code",
   "execution_count": 10,
   "metadata": {
    "jupyter": {
     "source_hidden": true
    }
   },
   "outputs": [
    {
     "data": {
      "application/vnd.plotly.v1+json": {
       "config": {
        "plotlyServerURL": "https://plot.ly"
       },
       "data": [
        {
         "mode": "lines",
         "name": "Fast spread",
         "type": "scatter",
         "x": [
          0,
          0.1,
          0.2,
          0.30000000000000004,
          0.4,
          0.5,
          0.6000000000000001,
          0.7000000000000001,
          0.8,
          0.9,
          1,
          1.1,
          1.2000000000000002,
          1.3,
          1.4000000000000001,
          1.5,
          1.6,
          1.7000000000000002,
          1.8,
          1.9000000000000001,
          2,
          2.1,
          2.2,
          2.3000000000000003,
          2.4000000000000004,
          2.5,
          2.6,
          2.7,
          2.8000000000000003,
          2.9000000000000004,
          3,
          3.1,
          3.2,
          3.3000000000000003,
          3.4000000000000004,
          3.5,
          3.6,
          3.7,
          3.8000000000000003,
          3.9000000000000004,
          4,
          4.1000000000000005,
          4.2,
          4.3,
          4.4,
          4.5,
          4.6000000000000005,
          4.7,
          4.800000000000001,
          4.9,
          5,
          5.1000000000000005,
          5.2,
          5.300000000000001,
          5.4,
          5.5,
          5.6000000000000005,
          5.7,
          5.800000000000001,
          5.9,
          6,
          6.1000000000000005,
          6.2,
          6.300000000000001,
          6.4,
          6.5,
          6.6000000000000005,
          6.7,
          6.800000000000001,
          6.9,
          7,
          7.1000000000000005,
          7.2,
          7.300000000000001,
          7.4,
          7.5,
          7.6000000000000005,
          7.7,
          7.800000000000001,
          7.9,
          8,
          8.1,
          8.200000000000001,
          8.3,
          8.4,
          8.5,
          8.6,
          8.700000000000001,
          8.8,
          8.9,
          9,
          9.1,
          9.200000000000001,
          9.3,
          9.4,
          9.5,
          9.600000000000001,
          9.700000000000001,
          9.8,
          9.9,
          10,
          10.100000000000001,
          10.200000000000001,
          10.3,
          10.4,
          10.5,
          10.600000000000001,
          10.700000000000001,
          10.8,
          10.9,
          11,
          11.100000000000001,
          11.200000000000001,
          11.3,
          11.4,
          11.5,
          11.600000000000001,
          11.700000000000001,
          11.8,
          11.9,
          12,
          12.100000000000001,
          12.200000000000001,
          12.3,
          12.4,
          12.5,
          12.600000000000001,
          12.700000000000001,
          12.8,
          12.9,
          13,
          13.100000000000001,
          13.200000000000001,
          13.3,
          13.4,
          13.5,
          13.600000000000001,
          13.700000000000001,
          13.8,
          13.9,
          14,
          14.100000000000001,
          14.200000000000001,
          14.3,
          14.4,
          14.5,
          14.600000000000001,
          14.700000000000001,
          14.8,
          14.9,
          15,
          15.100000000000001,
          15.200000000000001,
          15.3,
          15.4,
          15.5,
          15.600000000000001,
          15.700000000000001,
          15.8,
          15.9,
          16,
          16.1,
          16.2,
          16.3,
          16.400000000000002,
          16.5,
          16.6,
          16.7,
          16.8,
          16.900000000000002,
          17,
          17.1,
          17.2,
          17.3,
          17.400000000000002,
          17.5,
          17.6,
          17.7,
          17.8,
          17.900000000000002,
          18,
          18.1,
          18.2,
          18.3,
          18.400000000000002,
          18.5,
          18.6,
          18.7,
          18.8,
          18.900000000000002,
          19,
          19.1,
          19.200000000000003,
          19.3,
          19.400000000000002,
          19.5,
          19.6,
          19.700000000000003,
          19.8,
          19.900000000000002
         ],
         "y": [
          2.866515718791933e-07,
          4.791832765903185e-07,
          7.93328151975595e-07,
          1.3008074539172771e-06,
          2.1124547025028537e-06,
          3.3976731247300535e-06,
          5.412543907703841e-06,
          8.539905470991794e-06,
          1.334574901590631e-05,
          2.0657506912546717e-05,
          3.167124183311986e-05,
          4.8096344017602614e-05,
          7.234804392511998e-05,
          0.00010779973347738823,
          0.00015910859015753396,
          0.00023262907903552502,
          0.00033692926567688086,
          0.00048342414238377744,
          0.0006871379379158471,
          0.0009676032132183563,
          0.0013498980316300933,
          0.0018658133003840375,
          0.002555130330427932,
          0.0034669738030406686,
          0.004661188023718752,
          0.006209665325776132,
          0.008197535924596131,
          0.010724110021675809,
          0.013903447513498616,
          0.017864420562816556,
          0.022750131948179195,
          0.028716559816001803,
          0.03593031911292581,
          0.04456546275854306,
          0.05479929169955804,
          0.06680720126885807,
          0.08075665923377107,
          0.09680048458561041,
          0.11506967022170828,
          0.13566606094638273,
          0.15865525393145707,
          0.18406012534675964,
          0.21185539858339675,
          0.24196365222307298,
          0.27425311775007366,
          0.3085375387259869,
          0.34457825838967604,
          0.38208857781104744,
          0.42074029056089723,
          0.4601721627229712,
          0.5,
          0.5398278372770292,
          0.5792597094391031,
          0.6179114221889529,
          0.6554217416103243,
          0.6914624612740131,
          0.7257468822499266,
          0.758036347776927,
          0.7881446014166036,
          0.8159398746532407,
          0.8413447460685429,
          0.8643339390536176,
          0.8849303297782918,
          0.9031995154143897,
          0.919243340766229,
          0.9331927987311419,
          0.9452007083004421,
          0.955434537241457,
          0.9640696808870742,
          0.9712834401839983,
          0.9772498680518208,
          0.9821355794371834,
          0.9860965524865014,
          0.9892758899783243,
          0.9918024640754038,
          0.9937903346742238,
          0.9953388119762813,
          0.9965330261969594,
          0.997444869669572,
          0.998134186699616,
          0.9986501019683699,
          0.9990323967867817,
          0.9993128620620841,
          0.9995165758576162,
          0.9996630707343231,
          0.9997673709209645,
          0.9998408914098424,
          0.9998922002665226,
          0.9999276519560749,
          0.9999519036559824,
          0.9999683287581669,
          0.9999793424930875,
          0.9999866542509841,
          0.999991460094529,
          0.9999945874560923,
          0.9999966023268753,
          0.9999978875452975,
          0.9999986991925461,
          0.999999206671848,
          0.9999995208167234,
          0.9999997133484281,
          0.9999998301732593,
          0.9999999003557368,
          0.9999999420986596,
          0.9999999666795515,
          0.9999999810104375,
          0.9999999892824097,
          0.9999999940096286,
          0.999999996684254,
          0.9999999981824922,
          0.9999999990134123,
          0.9999999994696577,
          0.9999999997176842,
          0.9999999998511772,
          0.9999999999223115,
          0.99999999995984,
          0.9999999999794421,
          0.999999999989579,
          0.9999999999947691,
          0.9999999999973999,
          0.9999999999987201,
          0.9999999999993762,
          0.9999999999996989,
          0.9999999999998561,
          0.9999999999999319,
          0.9999999999999681,
          0.9999999999999852,
          0.9999999999999932,
          0.9999999999999969,
          0.9999999999999986,
          0.9999999999999993,
          0.9999999999999998,
          0.9999999999999999,
          1,
          1,
          1,
          1,
          1,
          1,
          1,
          1,
          1,
          1,
          1,
          1,
          1,
          1,
          1,
          1,
          1,
          1,
          1,
          1,
          1,
          1,
          1,
          1,
          1,
          1,
          1,
          1,
          1,
          1,
          1,
          1,
          1,
          1,
          1,
          1,
          1,
          1,
          1,
          1,
          1,
          1,
          1,
          1,
          1,
          1,
          1,
          1,
          1,
          1,
          1,
          1,
          1,
          1,
          1,
          1,
          1,
          1,
          1,
          1,
          1,
          1,
          1,
          1,
          1,
          1,
          1
         ]
        },
        {
         "mode": "lines",
         "name": "Slow spread",
         "type": "scatter",
         "x": [
          0,
          0.1,
          0.2,
          0.30000000000000004,
          0.4,
          0.5,
          0.6000000000000001,
          0.7000000000000001,
          0.8,
          0.9,
          1,
          1.1,
          1.2000000000000002,
          1.3,
          1.4000000000000001,
          1.5,
          1.6,
          1.7000000000000002,
          1.8,
          1.9000000000000001,
          2,
          2.1,
          2.2,
          2.3000000000000003,
          2.4000000000000004,
          2.5,
          2.6,
          2.7,
          2.8000000000000003,
          2.9000000000000004,
          3,
          3.1,
          3.2,
          3.3000000000000003,
          3.4000000000000004,
          3.5,
          3.6,
          3.7,
          3.8000000000000003,
          3.9000000000000004,
          4,
          4.1000000000000005,
          4.2,
          4.3,
          4.4,
          4.5,
          4.6000000000000005,
          4.7,
          4.800000000000001,
          4.9,
          5,
          5.1000000000000005,
          5.2,
          5.300000000000001,
          5.4,
          5.5,
          5.6000000000000005,
          5.7,
          5.800000000000001,
          5.9,
          6,
          6.1000000000000005,
          6.2,
          6.300000000000001,
          6.4,
          6.5,
          6.6000000000000005,
          6.7,
          6.800000000000001,
          6.9,
          7,
          7.1000000000000005,
          7.2,
          7.300000000000001,
          7.4,
          7.5,
          7.6000000000000005,
          7.7,
          7.800000000000001,
          7.9,
          8,
          8.1,
          8.200000000000001,
          8.3,
          8.4,
          8.5,
          8.6,
          8.700000000000001,
          8.8,
          8.9,
          9,
          9.1,
          9.200000000000001,
          9.3,
          9.4,
          9.5,
          9.600000000000001,
          9.700000000000001,
          9.8,
          9.9,
          10,
          10.100000000000001,
          10.200000000000001,
          10.3,
          10.4,
          10.5,
          10.600000000000001,
          10.700000000000001,
          10.8,
          10.9,
          11,
          11.100000000000001,
          11.200000000000001,
          11.3,
          11.4,
          11.5,
          11.600000000000001,
          11.700000000000001,
          11.8,
          11.9,
          12,
          12.100000000000001,
          12.200000000000001,
          12.3,
          12.4,
          12.5,
          12.600000000000001,
          12.700000000000001,
          12.8,
          12.9,
          13,
          13.100000000000001,
          13.200000000000001,
          13.3,
          13.4,
          13.5,
          13.600000000000001,
          13.700000000000001,
          13.8,
          13.9,
          14,
          14.100000000000001,
          14.200000000000001,
          14.3,
          14.4,
          14.5,
          14.600000000000001,
          14.700000000000001,
          14.8,
          14.9,
          15,
          15.100000000000001,
          15.200000000000001,
          15.3,
          15.4,
          15.5,
          15.600000000000001,
          15.700000000000001,
          15.8,
          15.9,
          16,
          16.1,
          16.2,
          16.3,
          16.400000000000002,
          16.5,
          16.6,
          16.7,
          16.8,
          16.900000000000002,
          17,
          17.1,
          17.2,
          17.3,
          17.400000000000002,
          17.5,
          17.6,
          17.7,
          17.8,
          17.900000000000002,
          18,
          18.1,
          18.2,
          18.3,
          18.400000000000002,
          18.5,
          18.6,
          18.7,
          18.8,
          18.900000000000002,
          19,
          19.1,
          19.200000000000003,
          19.3,
          19.400000000000002,
          19.5,
          19.6,
          19.700000000000003,
          19.8,
          19.900000000000002
         ],
         "y": [
          0.0004290603331968372,
          0.00048342414238377663,
          0.0005441086524671406,
          0.0006117735324862054,
          0.0006871379379158483,
          0.0007709847844699757,
          0.0008641652090980683,
          0.0009676032132183563,
          0.0010823004813931916,
          0.00120934136666433,
          0.0013498980316300933,
          0.001505235732066175,
          0.0016767182274731592,
          0.0018658133003840375,
          0.00207409836359409,
          0.0023032661316958825,
          0.002555130330427929,
          0.0028316314143945224,
          0.003134842260705495,
          0.0034669738030406686,
          0.0038303805675897365,
          0.004227566069280537,
          0.004661188023718747,
          0.005134063327350345,
          0.0056491727555606375,
          0.006209665325776132,
          0.006818862270176098,
          0.007480260560390131,
          0.008197535924596131,
          0.00897454529578302,
          0.009815328628645334,
          0.010724110021675795,
          0.011705298080558346,
          0.012763485458978336,
          0.013903447513498616,
          0.015130140010235814,
          0.01644869582274533,
          0.017864420562816542,
          0.019382787088818604,
          0.02100942883984279,
          0.022750131948179195,
          0.0246108260876501,
          0.026597574021009627,
          0.028716559816001783,
          0.0309740757067406,
          0.03337650758481726,
          0.03593031911292581,
          0.03864203446279496,
          0.04151821968877912,
          0.04456546275854304,
          0.0477903522728147,
          0.05119945491710787,
          0.054799291699558,
          0.0585963130404857,
          0.06259687279090685,
          0.06680720126885807,
          0.07123337741398612,
          0.0758813001722581,
          0.08075665923377112,
          0.0858649052573559,
          0.09121121972586788,
          0.09680048458561041,
          0.10263725183213579,
          0.10872571321259117,
          0.11506967022170822,
          0.12167250457438122,
          0.12853714934241506,
          0.13566606094638267,
          0.1430611921955091,
          0.1507239665690247,
          0.15865525393145707,
          0.16685534787178308,
          0.17532394485222952,
          0.18406012534675953,
          0.19306233714190696,
          0.20232838096364308,
          0.21185539858339675,
          0.22163986354425458,
          0.23167757463479832,
          0.24196365222307303,
          0.2524925375469229,
          0.2632579950394782,
          0.27425311775007366,
          0.2854703359014441,
          0.29690142860385127,
          0.3085375387259869,
          0.32036919090127036,
          0.3323863126266752,
          0.34457825838967593,
          0.3569338367374987,
          0.36944134018176367,
          0.3820885778110473,
          0.3948629104640253,
          0.4077512882968954,
          0.420740290560897,
          0.43381616738909634,
          0.4469648833763862,
          0.4601721627229712,
          0.47342353569963497,
          0.48670438618290796,
          0.5,
          0.5132956138170923,
          0.5265764643003652,
          0.5398278372770291,
          0.553035116623614,
          0.5661838326109037,
          0.5792597094391032,
          0.5922487117031049,
          0.6051370895359749,
          0.6179114221889527,
          0.6305586598182363,
          0.6430661632625017,
          0.6554217416103243,
          0.667613687373325,
          0.6796308090987296,
          0.6914624612740131,
          0.703098571396149,
          0.7145296640985561,
          0.7257468822499265,
          0.7367420049605218,
          0.7475074624530771,
          0.7580363477769272,
          0.7683224253652019,
          0.7783601364557455,
          0.7881446014166034,
          0.7976716190363569,
          0.8069376628580933,
          0.8159398746532407,
          0.8246760551477705,
          0.833144652128217,
          0.8413447460685429,
          0.8492760334309755,
          0.856938807804491,
          0.8643339390536173,
          0.871462850657585,
          0.8783274954256188,
          0.8849303297782918,
          0.8912742867874089,
          0.8973627481678642,
          0.9031995154143897,
          0.9087887802741321,
          0.9141350947426441,
          0.919243340766229,
          0.924118699827742,
          0.9287666225860138,
          0.9331927987311419,
          0.9374031272090932,
          0.9414036869595144,
          0.945200708300442,
          0.9488005450828922,
          0.9522096477271853,
          0.955434537241457,
          0.9584817803112209,
          0.9613579655372051,
          0.9640696808870742,
          0.9666234924151828,
          0.9690259242932594,
          0.9712834401839983,
          0.9734024259789904,
          0.9753891739123499,
          0.9772498680518208,
          0.9789905711601572,
          0.9806172129111814,
          0.9821355794371834,
          0.9835513041772547,
          0.9848698599897642,
          0.9860965524865014,
          0.9872365145410217,
          0.9882947019194417,
          0.9892758899783243,
          0.9901846713713547,
          0.991025454704217,
          0.9918024640754038,
          0.9925197394396099,
          0.9931811377298239,
          0.9937903346742238,
          0.9943508272444394,
          0.9948659366726497,
          0.9953388119762813,
          0.9957724339307195,
          0.9961696194324102,
          0.9965330261969594,
          0.9968651577392945,
          0.9971683685856054,
          0.997444869669572,
          0.9976967338683042,
          0.9979259016364059,
          0.998134186699616,
          0.9983232817725268,
          0.9984947642679338,
          0.9986501019683699,
          0.9987906586333357,
          0.9989176995186068,
          0.9990323967867817,
          0.999135834790902,
          0.99922901521553,
          0.9993128620620841,
          0.9993882264675138,
          0.9994558913475329,
          0.9995165758576162
         ]
        }
       ],
       "layout": {
        "height": 350,
        "margin": {
         "b": 20,
         "l": 20,
         "r": 20,
         "t": 50
        },
        "template": {
         "data": {
          "bar": [
           {
            "error_x": {
             "color": "#2a3f5f"
            },
            "error_y": {
             "color": "#2a3f5f"
            },
            "marker": {
             "line": {
              "color": "#E5ECF6",
              "width": 0.5
             }
            },
            "type": "bar"
           }
          ],
          "barpolar": [
           {
            "marker": {
             "line": {
              "color": "#E5ECF6",
              "width": 0.5
             }
            },
            "type": "barpolar"
           }
          ],
          "carpet": [
           {
            "aaxis": {
             "endlinecolor": "#2a3f5f",
             "gridcolor": "white",
             "linecolor": "white",
             "minorgridcolor": "white",
             "startlinecolor": "#2a3f5f"
            },
            "baxis": {
             "endlinecolor": "#2a3f5f",
             "gridcolor": "white",
             "linecolor": "white",
             "minorgridcolor": "white",
             "startlinecolor": "#2a3f5f"
            },
            "type": "carpet"
           }
          ],
          "choropleth": [
           {
            "colorbar": {
             "outlinewidth": 0,
             "ticks": ""
            },
            "type": "choropleth"
           }
          ],
          "contour": [
           {
            "colorbar": {
             "outlinewidth": 0,
             "ticks": ""
            },
            "colorscale": [
             [
              0,
              "#0d0887"
             ],
             [
              0.1111111111111111,
              "#46039f"
             ],
             [
              0.2222222222222222,
              "#7201a8"
             ],
             [
              0.3333333333333333,
              "#9c179e"
             ],
             [
              0.4444444444444444,
              "#bd3786"
             ],
             [
              0.5555555555555556,
              "#d8576b"
             ],
             [
              0.6666666666666666,
              "#ed7953"
             ],
             [
              0.7777777777777778,
              "#fb9f3a"
             ],
             [
              0.8888888888888888,
              "#fdca26"
             ],
             [
              1,
              "#f0f921"
             ]
            ],
            "type": "contour"
           }
          ],
          "contourcarpet": [
           {
            "colorbar": {
             "outlinewidth": 0,
             "ticks": ""
            },
            "type": "contourcarpet"
           }
          ],
          "heatmap": [
           {
            "colorbar": {
             "outlinewidth": 0,
             "ticks": ""
            },
            "colorscale": [
             [
              0,
              "#0d0887"
             ],
             [
              0.1111111111111111,
              "#46039f"
             ],
             [
              0.2222222222222222,
              "#7201a8"
             ],
             [
              0.3333333333333333,
              "#9c179e"
             ],
             [
              0.4444444444444444,
              "#bd3786"
             ],
             [
              0.5555555555555556,
              "#d8576b"
             ],
             [
              0.6666666666666666,
              "#ed7953"
             ],
             [
              0.7777777777777778,
              "#fb9f3a"
             ],
             [
              0.8888888888888888,
              "#fdca26"
             ],
             [
              1,
              "#f0f921"
             ]
            ],
            "type": "heatmap"
           }
          ],
          "heatmapgl": [
           {
            "colorbar": {
             "outlinewidth": 0,
             "ticks": ""
            },
            "colorscale": [
             [
              0,
              "#0d0887"
             ],
             [
              0.1111111111111111,
              "#46039f"
             ],
             [
              0.2222222222222222,
              "#7201a8"
             ],
             [
              0.3333333333333333,
              "#9c179e"
             ],
             [
              0.4444444444444444,
              "#bd3786"
             ],
             [
              0.5555555555555556,
              "#d8576b"
             ],
             [
              0.6666666666666666,
              "#ed7953"
             ],
             [
              0.7777777777777778,
              "#fb9f3a"
             ],
             [
              0.8888888888888888,
              "#fdca26"
             ],
             [
              1,
              "#f0f921"
             ]
            ],
            "type": "heatmapgl"
           }
          ],
          "histogram": [
           {
            "marker": {
             "colorbar": {
              "outlinewidth": 0,
              "ticks": ""
             }
            },
            "type": "histogram"
           }
          ],
          "histogram2d": [
           {
            "colorbar": {
             "outlinewidth": 0,
             "ticks": ""
            },
            "colorscale": [
             [
              0,
              "#0d0887"
             ],
             [
              0.1111111111111111,
              "#46039f"
             ],
             [
              0.2222222222222222,
              "#7201a8"
             ],
             [
              0.3333333333333333,
              "#9c179e"
             ],
             [
              0.4444444444444444,
              "#bd3786"
             ],
             [
              0.5555555555555556,
              "#d8576b"
             ],
             [
              0.6666666666666666,
              "#ed7953"
             ],
             [
              0.7777777777777778,
              "#fb9f3a"
             ],
             [
              0.8888888888888888,
              "#fdca26"
             ],
             [
              1,
              "#f0f921"
             ]
            ],
            "type": "histogram2d"
           }
          ],
          "histogram2dcontour": [
           {
            "colorbar": {
             "outlinewidth": 0,
             "ticks": ""
            },
            "colorscale": [
             [
              0,
              "#0d0887"
             ],
             [
              0.1111111111111111,
              "#46039f"
             ],
             [
              0.2222222222222222,
              "#7201a8"
             ],
             [
              0.3333333333333333,
              "#9c179e"
             ],
             [
              0.4444444444444444,
              "#bd3786"
             ],
             [
              0.5555555555555556,
              "#d8576b"
             ],
             [
              0.6666666666666666,
              "#ed7953"
             ],
             [
              0.7777777777777778,
              "#fb9f3a"
             ],
             [
              0.8888888888888888,
              "#fdca26"
             ],
             [
              1,
              "#f0f921"
             ]
            ],
            "type": "histogram2dcontour"
           }
          ],
          "mesh3d": [
           {
            "colorbar": {
             "outlinewidth": 0,
             "ticks": ""
            },
            "type": "mesh3d"
           }
          ],
          "parcoords": [
           {
            "line": {
             "colorbar": {
              "outlinewidth": 0,
              "ticks": ""
             }
            },
            "type": "parcoords"
           }
          ],
          "pie": [
           {
            "automargin": true,
            "type": "pie"
           }
          ],
          "scatter": [
           {
            "marker": {
             "colorbar": {
              "outlinewidth": 0,
              "ticks": ""
             }
            },
            "type": "scatter"
           }
          ],
          "scatter3d": [
           {
            "line": {
             "colorbar": {
              "outlinewidth": 0,
              "ticks": ""
             }
            },
            "marker": {
             "colorbar": {
              "outlinewidth": 0,
              "ticks": ""
             }
            },
            "type": "scatter3d"
           }
          ],
          "scattercarpet": [
           {
            "marker": {
             "colorbar": {
              "outlinewidth": 0,
              "ticks": ""
             }
            },
            "type": "scattercarpet"
           }
          ],
          "scattergeo": [
           {
            "marker": {
             "colorbar": {
              "outlinewidth": 0,
              "ticks": ""
             }
            },
            "type": "scattergeo"
           }
          ],
          "scattergl": [
           {
            "marker": {
             "colorbar": {
              "outlinewidth": 0,
              "ticks": ""
             }
            },
            "type": "scattergl"
           }
          ],
          "scattermapbox": [
           {
            "marker": {
             "colorbar": {
              "outlinewidth": 0,
              "ticks": ""
             }
            },
            "type": "scattermapbox"
           }
          ],
          "scatterpolar": [
           {
            "marker": {
             "colorbar": {
              "outlinewidth": 0,
              "ticks": ""
             }
            },
            "type": "scatterpolar"
           }
          ],
          "scatterpolargl": [
           {
            "marker": {
             "colorbar": {
              "outlinewidth": 0,
              "ticks": ""
             }
            },
            "type": "scatterpolargl"
           }
          ],
          "scatterternary": [
           {
            "marker": {
             "colorbar": {
              "outlinewidth": 0,
              "ticks": ""
             }
            },
            "type": "scatterternary"
           }
          ],
          "surface": [
           {
            "colorbar": {
             "outlinewidth": 0,
             "ticks": ""
            },
            "colorscale": [
             [
              0,
              "#0d0887"
             ],
             [
              0.1111111111111111,
              "#46039f"
             ],
             [
              0.2222222222222222,
              "#7201a8"
             ],
             [
              0.3333333333333333,
              "#9c179e"
             ],
             [
              0.4444444444444444,
              "#bd3786"
             ],
             [
              0.5555555555555556,
              "#d8576b"
             ],
             [
              0.6666666666666666,
              "#ed7953"
             ],
             [
              0.7777777777777778,
              "#fb9f3a"
             ],
             [
              0.8888888888888888,
              "#fdca26"
             ],
             [
              1,
              "#f0f921"
             ]
            ],
            "type": "surface"
           }
          ],
          "table": [
           {
            "cells": {
             "fill": {
              "color": "#EBF0F8"
             },
             "line": {
              "color": "white"
             }
            },
            "header": {
             "fill": {
              "color": "#C8D4E3"
             },
             "line": {
              "color": "white"
             }
            },
            "type": "table"
           }
          ]
         },
         "layout": {
          "annotationdefaults": {
           "arrowcolor": "#2a3f5f",
           "arrowhead": 0,
           "arrowwidth": 1
          },
          "coloraxis": {
           "colorbar": {
            "outlinewidth": 0,
            "ticks": ""
           }
          },
          "colorscale": {
           "diverging": [
            [
             0,
             "#8e0152"
            ],
            [
             0.1,
             "#c51b7d"
            ],
            [
             0.2,
             "#de77ae"
            ],
            [
             0.3,
             "#f1b6da"
            ],
            [
             0.4,
             "#fde0ef"
            ],
            [
             0.5,
             "#f7f7f7"
            ],
            [
             0.6,
             "#e6f5d0"
            ],
            [
             0.7,
             "#b8e186"
            ],
            [
             0.8,
             "#7fbc41"
            ],
            [
             0.9,
             "#4d9221"
            ],
            [
             1,
             "#276419"
            ]
           ],
           "sequential": [
            [
             0,
             "#0d0887"
            ],
            [
             0.1111111111111111,
             "#46039f"
            ],
            [
             0.2222222222222222,
             "#7201a8"
            ],
            [
             0.3333333333333333,
             "#9c179e"
            ],
            [
             0.4444444444444444,
             "#bd3786"
            ],
            [
             0.5555555555555556,
             "#d8576b"
            ],
            [
             0.6666666666666666,
             "#ed7953"
            ],
            [
             0.7777777777777778,
             "#fb9f3a"
            ],
            [
             0.8888888888888888,
             "#fdca26"
            ],
            [
             1,
             "#f0f921"
            ]
           ],
           "sequentialminus": [
            [
             0,
             "#0d0887"
            ],
            [
             0.1111111111111111,
             "#46039f"
            ],
            [
             0.2222222222222222,
             "#7201a8"
            ],
            [
             0.3333333333333333,
             "#9c179e"
            ],
            [
             0.4444444444444444,
             "#bd3786"
            ],
            [
             0.5555555555555556,
             "#d8576b"
            ],
            [
             0.6666666666666666,
             "#ed7953"
            ],
            [
             0.7777777777777778,
             "#fb9f3a"
            ],
            [
             0.8888888888888888,
             "#fdca26"
            ],
            [
             1,
             "#f0f921"
            ]
           ]
          },
          "colorway": [
           "#636efa",
           "#EF553B",
           "#00cc96",
           "#ab63fa",
           "#FFA15A",
           "#19d3f3",
           "#FF6692",
           "#B6E880",
           "#FF97FF",
           "#FECB52"
          ],
          "font": {
           "color": "#2a3f5f"
          },
          "geo": {
           "bgcolor": "white",
           "lakecolor": "white",
           "landcolor": "#E5ECF6",
           "showlakes": true,
           "showland": true,
           "subunitcolor": "white"
          },
          "hoverlabel": {
           "align": "left"
          },
          "hovermode": "closest",
          "mapbox": {
           "style": "light"
          },
          "paper_bgcolor": "white",
          "plot_bgcolor": "#E5ECF6",
          "polar": {
           "angularaxis": {
            "gridcolor": "white",
            "linecolor": "white",
            "ticks": ""
           },
           "bgcolor": "#E5ECF6",
           "radialaxis": {
            "gridcolor": "white",
            "linecolor": "white",
            "ticks": ""
           }
          },
          "scene": {
           "xaxis": {
            "backgroundcolor": "#E5ECF6",
            "gridcolor": "white",
            "gridwidth": 2,
            "linecolor": "white",
            "showbackground": true,
            "ticks": "",
            "zerolinecolor": "white"
           },
           "yaxis": {
            "backgroundcolor": "#E5ECF6",
            "gridcolor": "white",
            "gridwidth": 2,
            "linecolor": "white",
            "showbackground": true,
            "ticks": "",
            "zerolinecolor": "white"
           },
           "zaxis": {
            "backgroundcolor": "#E5ECF6",
            "gridcolor": "white",
            "gridwidth": 2,
            "linecolor": "white",
            "showbackground": true,
            "ticks": "",
            "zerolinecolor": "white"
           }
          },
          "shapedefaults": {
           "line": {
            "color": "#2a3f5f"
           }
          },
          "ternary": {
           "aaxis": {
            "gridcolor": "white",
            "linecolor": "white",
            "ticks": ""
           },
           "baxis": {
            "gridcolor": "white",
            "linecolor": "white",
            "ticks": ""
           },
           "bgcolor": "#E5ECF6",
           "caxis": {
            "gridcolor": "white",
            "linecolor": "white",
            "ticks": ""
           }
          },
          "title": {
           "x": 0.05
          },
          "xaxis": {
           "automargin": true,
           "gridcolor": "white",
           "linecolor": "white",
           "ticks": "",
           "title": {
            "standoff": 15
           },
           "zerolinecolor": "white",
           "zerolinewidth": 2
          },
          "yaxis": {
           "automargin": true,
           "gridcolor": "white",
           "linecolor": "white",
           "ticks": "",
           "title": {
            "standoff": 15
           },
           "zerolinecolor": "white",
           "zerolinewidth": 2
          }
         }
        },
        "width": 600,
        "xaxis": {
         "linecolor": "black",
         "linewidth": 1.5,
         "mirror": true,
         "showline": true,
         "showticklabels": false,
         "title": {
          "text": "Days"
         }
        },
        "yaxis": {
         "linecolor": "black",
         "linewidth": 1.5,
         "mirror": true,
         "showline": true,
         "showticklabels": false,
         "title": {
          "text": "Number of cumulative cases"
         }
        }
       }
      },
      "text/html": [
       "<div>\n",
       "        \n",
       "        \n",
       "            <div id=\"c2820175-41b0-4b62-b25f-e4f09d5edd0b\" class=\"plotly-graph-div\" style=\"height:350px; width:600px;\"></div>\n",
       "            <script type=\"text/javascript\">\n",
       "                require([\"plotly\"], function(Plotly) {\n",
       "                    window.PLOTLYENV=window.PLOTLYENV || {};\n",
       "                    \n",
       "                if (document.getElementById(\"c2820175-41b0-4b62-b25f-e4f09d5edd0b\")) {\n",
       "                    Plotly.newPlot(\n",
       "                        'c2820175-41b0-4b62-b25f-e4f09d5edd0b',\n",
       "                        [{\"mode\": \"lines\", \"name\": \"Fast spread\", \"type\": \"scatter\", \"x\": [0.0, 0.1, 0.2, 0.30000000000000004, 0.4, 0.5, 0.6000000000000001, 0.7000000000000001, 0.8, 0.9, 1.0, 1.1, 1.2000000000000002, 1.3, 1.4000000000000001, 1.5, 1.6, 1.7000000000000002, 1.8, 1.9000000000000001, 2.0, 2.1, 2.2, 2.3000000000000003, 2.4000000000000004, 2.5, 2.6, 2.7, 2.8000000000000003, 2.9000000000000004, 3.0, 3.1, 3.2, 3.3000000000000003, 3.4000000000000004, 3.5, 3.6, 3.7, 3.8000000000000003, 3.9000000000000004, 4.0, 4.1000000000000005, 4.2, 4.3, 4.4, 4.5, 4.6000000000000005, 4.7, 4.800000000000001, 4.9, 5.0, 5.1000000000000005, 5.2, 5.300000000000001, 5.4, 5.5, 5.6000000000000005, 5.7, 5.800000000000001, 5.9, 6.0, 6.1000000000000005, 6.2, 6.300000000000001, 6.4, 6.5, 6.6000000000000005, 6.7, 6.800000000000001, 6.9, 7.0, 7.1000000000000005, 7.2, 7.300000000000001, 7.4, 7.5, 7.6000000000000005, 7.7, 7.800000000000001, 7.9, 8.0, 8.1, 8.200000000000001, 8.3, 8.4, 8.5, 8.6, 8.700000000000001, 8.8, 8.9, 9.0, 9.1, 9.200000000000001, 9.3, 9.4, 9.5, 9.600000000000001, 9.700000000000001, 9.8, 9.9, 10.0, 10.100000000000001, 10.200000000000001, 10.3, 10.4, 10.5, 10.600000000000001, 10.700000000000001, 10.8, 10.9, 11.0, 11.100000000000001, 11.200000000000001, 11.3, 11.4, 11.5, 11.600000000000001, 11.700000000000001, 11.8, 11.9, 12.0, 12.100000000000001, 12.200000000000001, 12.3, 12.4, 12.5, 12.600000000000001, 12.700000000000001, 12.8, 12.9, 13.0, 13.100000000000001, 13.200000000000001, 13.3, 13.4, 13.5, 13.600000000000001, 13.700000000000001, 13.8, 13.9, 14.0, 14.100000000000001, 14.200000000000001, 14.3, 14.4, 14.5, 14.600000000000001, 14.700000000000001, 14.8, 14.9, 15.0, 15.100000000000001, 15.200000000000001, 15.3, 15.4, 15.5, 15.600000000000001, 15.700000000000001, 15.8, 15.9, 16.0, 16.1, 16.2, 16.3, 16.400000000000002, 16.5, 16.6, 16.7, 16.8, 16.900000000000002, 17.0, 17.1, 17.2, 17.3, 17.400000000000002, 17.5, 17.6, 17.7, 17.8, 17.900000000000002, 18.0, 18.1, 18.2, 18.3, 18.400000000000002, 18.5, 18.6, 18.7, 18.8, 18.900000000000002, 19.0, 19.1, 19.200000000000003, 19.3, 19.400000000000002, 19.5, 19.6, 19.700000000000003, 19.8, 19.900000000000002], \"y\": [2.866515718791933e-07, 4.791832765903185e-07, 7.93328151975595e-07, 1.3008074539172771e-06, 2.1124547025028537e-06, 3.3976731247300535e-06, 5.412543907703841e-06, 8.539905470991794e-06, 1.334574901590631e-05, 2.0657506912546717e-05, 3.167124183311986e-05, 4.8096344017602614e-05, 7.234804392511998e-05, 0.00010779973347738823, 0.00015910859015753396, 0.00023262907903552502, 0.00033692926567688086, 0.00048342414238377744, 0.0006871379379158471, 0.0009676032132183563, 0.0013498980316300933, 0.0018658133003840375, 0.002555130330427932, 0.0034669738030406686, 0.004661188023718752, 0.006209665325776132, 0.008197535924596131, 0.010724110021675809, 0.013903447513498616, 0.017864420562816556, 0.022750131948179195, 0.028716559816001803, 0.03593031911292581, 0.04456546275854306, 0.05479929169955804, 0.06680720126885807, 0.08075665923377107, 0.09680048458561041, 0.11506967022170828, 0.13566606094638273, 0.15865525393145707, 0.18406012534675964, 0.21185539858339675, 0.24196365222307298, 0.27425311775007366, 0.3085375387259869, 0.34457825838967604, 0.38208857781104744, 0.42074029056089723, 0.4601721627229712, 0.5, 0.5398278372770292, 0.5792597094391031, 0.6179114221889529, 0.6554217416103243, 0.6914624612740131, 0.7257468822499266, 0.758036347776927, 0.7881446014166036, 0.8159398746532407, 0.8413447460685429, 0.8643339390536176, 0.8849303297782918, 0.9031995154143897, 0.919243340766229, 0.9331927987311419, 0.9452007083004421, 0.955434537241457, 0.9640696808870742, 0.9712834401839983, 0.9772498680518208, 0.9821355794371834, 0.9860965524865014, 0.9892758899783243, 0.9918024640754038, 0.9937903346742238, 0.9953388119762813, 0.9965330261969594, 0.997444869669572, 0.998134186699616, 0.9986501019683699, 0.9990323967867817, 0.9993128620620841, 0.9995165758576162, 0.9996630707343231, 0.9997673709209645, 0.9998408914098424, 0.9998922002665226, 0.9999276519560749, 0.9999519036559824, 0.9999683287581669, 0.9999793424930875, 0.9999866542509841, 0.999991460094529, 0.9999945874560923, 0.9999966023268753, 0.9999978875452975, 0.9999986991925461, 0.999999206671848, 0.9999995208167234, 0.9999997133484281, 0.9999998301732593, 0.9999999003557368, 0.9999999420986596, 0.9999999666795515, 0.9999999810104375, 0.9999999892824097, 0.9999999940096286, 0.999999996684254, 0.9999999981824922, 0.9999999990134123, 0.9999999994696577, 0.9999999997176842, 0.9999999998511772, 0.9999999999223115, 0.99999999995984, 0.9999999999794421, 0.999999999989579, 0.9999999999947691, 0.9999999999973999, 0.9999999999987201, 0.9999999999993762, 0.9999999999996989, 0.9999999999998561, 0.9999999999999319, 0.9999999999999681, 0.9999999999999852, 0.9999999999999932, 0.9999999999999969, 0.9999999999999986, 0.9999999999999993, 0.9999999999999998, 0.9999999999999999, 1.0, 1.0, 1.0, 1.0, 1.0, 1.0, 1.0, 1.0, 1.0, 1.0, 1.0, 1.0, 1.0, 1.0, 1.0, 1.0, 1.0, 1.0, 1.0, 1.0, 1.0, 1.0, 1.0, 1.0, 1.0, 1.0, 1.0, 1.0, 1.0, 1.0, 1.0, 1.0, 1.0, 1.0, 1.0, 1.0, 1.0, 1.0, 1.0, 1.0, 1.0, 1.0, 1.0, 1.0, 1.0, 1.0, 1.0, 1.0, 1.0, 1.0, 1.0, 1.0, 1.0, 1.0, 1.0, 1.0, 1.0, 1.0, 1.0, 1.0, 1.0, 1.0, 1.0, 1.0, 1.0, 1.0, 1.0]}, {\"mode\": \"lines\", \"name\": \"Slow spread\", \"type\": \"scatter\", \"x\": [0.0, 0.1, 0.2, 0.30000000000000004, 0.4, 0.5, 0.6000000000000001, 0.7000000000000001, 0.8, 0.9, 1.0, 1.1, 1.2000000000000002, 1.3, 1.4000000000000001, 1.5, 1.6, 1.7000000000000002, 1.8, 1.9000000000000001, 2.0, 2.1, 2.2, 2.3000000000000003, 2.4000000000000004, 2.5, 2.6, 2.7, 2.8000000000000003, 2.9000000000000004, 3.0, 3.1, 3.2, 3.3000000000000003, 3.4000000000000004, 3.5, 3.6, 3.7, 3.8000000000000003, 3.9000000000000004, 4.0, 4.1000000000000005, 4.2, 4.3, 4.4, 4.5, 4.6000000000000005, 4.7, 4.800000000000001, 4.9, 5.0, 5.1000000000000005, 5.2, 5.300000000000001, 5.4, 5.5, 5.6000000000000005, 5.7, 5.800000000000001, 5.9, 6.0, 6.1000000000000005, 6.2, 6.300000000000001, 6.4, 6.5, 6.6000000000000005, 6.7, 6.800000000000001, 6.9, 7.0, 7.1000000000000005, 7.2, 7.300000000000001, 7.4, 7.5, 7.6000000000000005, 7.7, 7.800000000000001, 7.9, 8.0, 8.1, 8.200000000000001, 8.3, 8.4, 8.5, 8.6, 8.700000000000001, 8.8, 8.9, 9.0, 9.1, 9.200000000000001, 9.3, 9.4, 9.5, 9.600000000000001, 9.700000000000001, 9.8, 9.9, 10.0, 10.100000000000001, 10.200000000000001, 10.3, 10.4, 10.5, 10.600000000000001, 10.700000000000001, 10.8, 10.9, 11.0, 11.100000000000001, 11.200000000000001, 11.3, 11.4, 11.5, 11.600000000000001, 11.700000000000001, 11.8, 11.9, 12.0, 12.100000000000001, 12.200000000000001, 12.3, 12.4, 12.5, 12.600000000000001, 12.700000000000001, 12.8, 12.9, 13.0, 13.100000000000001, 13.200000000000001, 13.3, 13.4, 13.5, 13.600000000000001, 13.700000000000001, 13.8, 13.9, 14.0, 14.100000000000001, 14.200000000000001, 14.3, 14.4, 14.5, 14.600000000000001, 14.700000000000001, 14.8, 14.9, 15.0, 15.100000000000001, 15.200000000000001, 15.3, 15.4, 15.5, 15.600000000000001, 15.700000000000001, 15.8, 15.9, 16.0, 16.1, 16.2, 16.3, 16.400000000000002, 16.5, 16.6, 16.7, 16.8, 16.900000000000002, 17.0, 17.1, 17.2, 17.3, 17.400000000000002, 17.5, 17.6, 17.7, 17.8, 17.900000000000002, 18.0, 18.1, 18.2, 18.3, 18.400000000000002, 18.5, 18.6, 18.7, 18.8, 18.900000000000002, 19.0, 19.1, 19.200000000000003, 19.3, 19.400000000000002, 19.5, 19.6, 19.700000000000003, 19.8, 19.900000000000002], \"y\": [0.0004290603331968372, 0.00048342414238377663, 0.0005441086524671406, 0.0006117735324862054, 0.0006871379379158483, 0.0007709847844699757, 0.0008641652090980683, 0.0009676032132183563, 0.0010823004813931916, 0.00120934136666433, 0.0013498980316300933, 0.001505235732066175, 0.0016767182274731592, 0.0018658133003840375, 0.00207409836359409, 0.0023032661316958825, 0.002555130330427929, 0.0028316314143945224, 0.003134842260705495, 0.0034669738030406686, 0.0038303805675897365, 0.004227566069280537, 0.004661188023718747, 0.005134063327350345, 0.0056491727555606375, 0.006209665325776132, 0.006818862270176098, 0.007480260560390131, 0.008197535924596131, 0.00897454529578302, 0.009815328628645334, 0.010724110021675795, 0.011705298080558346, 0.012763485458978336, 0.013903447513498616, 0.015130140010235814, 0.01644869582274533, 0.017864420562816542, 0.019382787088818604, 0.02100942883984279, 0.022750131948179195, 0.0246108260876501, 0.026597574021009627, 0.028716559816001783, 0.0309740757067406, 0.03337650758481726, 0.03593031911292581, 0.03864203446279496, 0.04151821968877912, 0.04456546275854304, 0.0477903522728147, 0.05119945491710787, 0.054799291699558, 0.0585963130404857, 0.06259687279090685, 0.06680720126885807, 0.07123337741398612, 0.0758813001722581, 0.08075665923377112, 0.0858649052573559, 0.09121121972586788, 0.09680048458561041, 0.10263725183213579, 0.10872571321259117, 0.11506967022170822, 0.12167250457438122, 0.12853714934241506, 0.13566606094638267, 0.1430611921955091, 0.1507239665690247, 0.15865525393145707, 0.16685534787178308, 0.17532394485222952, 0.18406012534675953, 0.19306233714190696, 0.20232838096364308, 0.21185539858339675, 0.22163986354425458, 0.23167757463479832, 0.24196365222307303, 0.2524925375469229, 0.2632579950394782, 0.27425311775007366, 0.2854703359014441, 0.29690142860385127, 0.3085375387259869, 0.32036919090127036, 0.3323863126266752, 0.34457825838967593, 0.3569338367374987, 0.36944134018176367, 0.3820885778110473, 0.3948629104640253, 0.4077512882968954, 0.420740290560897, 0.43381616738909634, 0.4469648833763862, 0.4601721627229712, 0.47342353569963497, 0.48670438618290796, 0.5, 0.5132956138170923, 0.5265764643003652, 0.5398278372770291, 0.553035116623614, 0.5661838326109037, 0.5792597094391032, 0.5922487117031049, 0.6051370895359749, 0.6179114221889527, 0.6305586598182363, 0.6430661632625017, 0.6554217416103243, 0.667613687373325, 0.6796308090987296, 0.6914624612740131, 0.703098571396149, 0.7145296640985561, 0.7257468822499265, 0.7367420049605218, 0.7475074624530771, 0.7580363477769272, 0.7683224253652019, 0.7783601364557455, 0.7881446014166034, 0.7976716190363569, 0.8069376628580933, 0.8159398746532407, 0.8246760551477705, 0.833144652128217, 0.8413447460685429, 0.8492760334309755, 0.856938807804491, 0.8643339390536173, 0.871462850657585, 0.8783274954256188, 0.8849303297782918, 0.8912742867874089, 0.8973627481678642, 0.9031995154143897, 0.9087887802741321, 0.9141350947426441, 0.919243340766229, 0.924118699827742, 0.9287666225860138, 0.9331927987311419, 0.9374031272090932, 0.9414036869595144, 0.945200708300442, 0.9488005450828922, 0.9522096477271853, 0.955434537241457, 0.9584817803112209, 0.9613579655372051, 0.9640696808870742, 0.9666234924151828, 0.9690259242932594, 0.9712834401839983, 0.9734024259789904, 0.9753891739123499, 0.9772498680518208, 0.9789905711601572, 0.9806172129111814, 0.9821355794371834, 0.9835513041772547, 0.9848698599897642, 0.9860965524865014, 0.9872365145410217, 0.9882947019194417, 0.9892758899783243, 0.9901846713713547, 0.991025454704217, 0.9918024640754038, 0.9925197394396099, 0.9931811377298239, 0.9937903346742238, 0.9943508272444394, 0.9948659366726497, 0.9953388119762813, 0.9957724339307195, 0.9961696194324102, 0.9965330261969594, 0.9968651577392945, 0.9971683685856054, 0.997444869669572, 0.9976967338683042, 0.9979259016364059, 0.998134186699616, 0.9983232817725268, 0.9984947642679338, 0.9986501019683699, 0.9987906586333357, 0.9989176995186068, 0.9990323967867817, 0.999135834790902, 0.99922901521553, 0.9993128620620841, 0.9993882264675138, 0.9994558913475329, 0.9995165758576162]}],\n",
       "                        {\"height\": 350, \"margin\": {\"b\": 20, \"l\": 20, \"r\": 20, \"t\": 50}, \"template\": {\"data\": {\"bar\": [{\"error_x\": {\"color\": \"#2a3f5f\"}, \"error_y\": {\"color\": \"#2a3f5f\"}, \"marker\": {\"line\": {\"color\": \"#E5ECF6\", \"width\": 0.5}}, \"type\": \"bar\"}], \"barpolar\": [{\"marker\": {\"line\": {\"color\": \"#E5ECF6\", \"width\": 0.5}}, \"type\": \"barpolar\"}], \"carpet\": [{\"aaxis\": {\"endlinecolor\": \"#2a3f5f\", \"gridcolor\": \"white\", \"linecolor\": \"white\", \"minorgridcolor\": \"white\", \"startlinecolor\": \"#2a3f5f\"}, \"baxis\": {\"endlinecolor\": \"#2a3f5f\", \"gridcolor\": \"white\", \"linecolor\": \"white\", \"minorgridcolor\": \"white\", \"startlinecolor\": \"#2a3f5f\"}, \"type\": \"carpet\"}], \"choropleth\": [{\"colorbar\": {\"outlinewidth\": 0, \"ticks\": \"\"}, \"type\": \"choropleth\"}], \"contour\": [{\"colorbar\": {\"outlinewidth\": 0, \"ticks\": \"\"}, \"colorscale\": [[0.0, \"#0d0887\"], [0.1111111111111111, \"#46039f\"], [0.2222222222222222, \"#7201a8\"], [0.3333333333333333, \"#9c179e\"], [0.4444444444444444, \"#bd3786\"], [0.5555555555555556, \"#d8576b\"], [0.6666666666666666, \"#ed7953\"], [0.7777777777777778, \"#fb9f3a\"], [0.8888888888888888, \"#fdca26\"], [1.0, \"#f0f921\"]], \"type\": \"contour\"}], \"contourcarpet\": [{\"colorbar\": {\"outlinewidth\": 0, \"ticks\": \"\"}, \"type\": \"contourcarpet\"}], \"heatmap\": [{\"colorbar\": {\"outlinewidth\": 0, \"ticks\": \"\"}, \"colorscale\": [[0.0, \"#0d0887\"], [0.1111111111111111, \"#46039f\"], [0.2222222222222222, \"#7201a8\"], [0.3333333333333333, \"#9c179e\"], [0.4444444444444444, \"#bd3786\"], [0.5555555555555556, \"#d8576b\"], [0.6666666666666666, \"#ed7953\"], [0.7777777777777778, \"#fb9f3a\"], [0.8888888888888888, \"#fdca26\"], [1.0, \"#f0f921\"]], \"type\": \"heatmap\"}], \"heatmapgl\": [{\"colorbar\": {\"outlinewidth\": 0, \"ticks\": \"\"}, \"colorscale\": [[0.0, \"#0d0887\"], [0.1111111111111111, \"#46039f\"], [0.2222222222222222, \"#7201a8\"], [0.3333333333333333, \"#9c179e\"], [0.4444444444444444, \"#bd3786\"], [0.5555555555555556, \"#d8576b\"], [0.6666666666666666, \"#ed7953\"], [0.7777777777777778, \"#fb9f3a\"], [0.8888888888888888, \"#fdca26\"], [1.0, \"#f0f921\"]], \"type\": \"heatmapgl\"}], \"histogram\": [{\"marker\": {\"colorbar\": {\"outlinewidth\": 0, \"ticks\": \"\"}}, \"type\": \"histogram\"}], \"histogram2d\": [{\"colorbar\": {\"outlinewidth\": 0, \"ticks\": \"\"}, \"colorscale\": [[0.0, \"#0d0887\"], [0.1111111111111111, \"#46039f\"], [0.2222222222222222, \"#7201a8\"], [0.3333333333333333, \"#9c179e\"], [0.4444444444444444, \"#bd3786\"], [0.5555555555555556, \"#d8576b\"], [0.6666666666666666, \"#ed7953\"], [0.7777777777777778, \"#fb9f3a\"], [0.8888888888888888, \"#fdca26\"], [1.0, \"#f0f921\"]], \"type\": \"histogram2d\"}], \"histogram2dcontour\": [{\"colorbar\": {\"outlinewidth\": 0, \"ticks\": \"\"}, \"colorscale\": [[0.0, \"#0d0887\"], [0.1111111111111111, \"#46039f\"], [0.2222222222222222, \"#7201a8\"], [0.3333333333333333, \"#9c179e\"], [0.4444444444444444, \"#bd3786\"], [0.5555555555555556, \"#d8576b\"], [0.6666666666666666, \"#ed7953\"], [0.7777777777777778, \"#fb9f3a\"], [0.8888888888888888, \"#fdca26\"], [1.0, \"#f0f921\"]], \"type\": \"histogram2dcontour\"}], \"mesh3d\": [{\"colorbar\": {\"outlinewidth\": 0, \"ticks\": \"\"}, \"type\": \"mesh3d\"}], \"parcoords\": [{\"line\": {\"colorbar\": {\"outlinewidth\": 0, \"ticks\": \"\"}}, \"type\": \"parcoords\"}], \"pie\": [{\"automargin\": true, \"type\": \"pie\"}], \"scatter\": [{\"marker\": {\"colorbar\": {\"outlinewidth\": 0, \"ticks\": \"\"}}, \"type\": \"scatter\"}], \"scatter3d\": [{\"line\": {\"colorbar\": {\"outlinewidth\": 0, \"ticks\": \"\"}}, \"marker\": {\"colorbar\": {\"outlinewidth\": 0, \"ticks\": \"\"}}, \"type\": \"scatter3d\"}], \"scattercarpet\": [{\"marker\": {\"colorbar\": {\"outlinewidth\": 0, \"ticks\": \"\"}}, \"type\": \"scattercarpet\"}], \"scattergeo\": [{\"marker\": {\"colorbar\": {\"outlinewidth\": 0, \"ticks\": \"\"}}, \"type\": \"scattergeo\"}], \"scattergl\": [{\"marker\": {\"colorbar\": {\"outlinewidth\": 0, \"ticks\": \"\"}}, \"type\": \"scattergl\"}], \"scattermapbox\": [{\"marker\": {\"colorbar\": {\"outlinewidth\": 0, \"ticks\": \"\"}}, \"type\": \"scattermapbox\"}], \"scatterpolar\": [{\"marker\": {\"colorbar\": {\"outlinewidth\": 0, \"ticks\": \"\"}}, \"type\": \"scatterpolar\"}], \"scatterpolargl\": [{\"marker\": {\"colorbar\": {\"outlinewidth\": 0, \"ticks\": \"\"}}, \"type\": \"scatterpolargl\"}], \"scatterternary\": [{\"marker\": {\"colorbar\": {\"outlinewidth\": 0, \"ticks\": \"\"}}, \"type\": \"scatterternary\"}], \"surface\": [{\"colorbar\": {\"outlinewidth\": 0, \"ticks\": \"\"}, \"colorscale\": [[0.0, \"#0d0887\"], [0.1111111111111111, \"#46039f\"], [0.2222222222222222, \"#7201a8\"], [0.3333333333333333, \"#9c179e\"], [0.4444444444444444, \"#bd3786\"], [0.5555555555555556, \"#d8576b\"], [0.6666666666666666, \"#ed7953\"], [0.7777777777777778, \"#fb9f3a\"], [0.8888888888888888, \"#fdca26\"], [1.0, \"#f0f921\"]], \"type\": \"surface\"}], \"table\": [{\"cells\": {\"fill\": {\"color\": \"#EBF0F8\"}, \"line\": {\"color\": \"white\"}}, \"header\": {\"fill\": {\"color\": \"#C8D4E3\"}, \"line\": {\"color\": \"white\"}}, \"type\": \"table\"}]}, \"layout\": {\"annotationdefaults\": {\"arrowcolor\": \"#2a3f5f\", \"arrowhead\": 0, \"arrowwidth\": 1}, \"coloraxis\": {\"colorbar\": {\"outlinewidth\": 0, \"ticks\": \"\"}}, \"colorscale\": {\"diverging\": [[0, \"#8e0152\"], [0.1, \"#c51b7d\"], [0.2, \"#de77ae\"], [0.3, \"#f1b6da\"], [0.4, \"#fde0ef\"], [0.5, \"#f7f7f7\"], [0.6, \"#e6f5d0\"], [0.7, \"#b8e186\"], [0.8, \"#7fbc41\"], [0.9, \"#4d9221\"], [1, \"#276419\"]], \"sequential\": [[0.0, \"#0d0887\"], [0.1111111111111111, \"#46039f\"], [0.2222222222222222, \"#7201a8\"], [0.3333333333333333, \"#9c179e\"], [0.4444444444444444, \"#bd3786\"], [0.5555555555555556, \"#d8576b\"], [0.6666666666666666, \"#ed7953\"], [0.7777777777777778, \"#fb9f3a\"], [0.8888888888888888, \"#fdca26\"], [1.0, \"#f0f921\"]], \"sequentialminus\": [[0.0, \"#0d0887\"], [0.1111111111111111, \"#46039f\"], [0.2222222222222222, \"#7201a8\"], [0.3333333333333333, \"#9c179e\"], [0.4444444444444444, \"#bd3786\"], [0.5555555555555556, \"#d8576b\"], [0.6666666666666666, \"#ed7953\"], [0.7777777777777778, \"#fb9f3a\"], [0.8888888888888888, \"#fdca26\"], [1.0, \"#f0f921\"]]}, \"colorway\": [\"#636efa\", \"#EF553B\", \"#00cc96\", \"#ab63fa\", \"#FFA15A\", \"#19d3f3\", \"#FF6692\", \"#B6E880\", \"#FF97FF\", \"#FECB52\"], \"font\": {\"color\": \"#2a3f5f\"}, \"geo\": {\"bgcolor\": \"white\", \"lakecolor\": \"white\", \"landcolor\": \"#E5ECF6\", \"showlakes\": true, \"showland\": true, \"subunitcolor\": \"white\"}, \"hoverlabel\": {\"align\": \"left\"}, \"hovermode\": \"closest\", \"mapbox\": {\"style\": \"light\"}, \"paper_bgcolor\": \"white\", \"plot_bgcolor\": \"#E5ECF6\", \"polar\": {\"angularaxis\": {\"gridcolor\": \"white\", \"linecolor\": \"white\", \"ticks\": \"\"}, \"bgcolor\": \"#E5ECF6\", \"radialaxis\": {\"gridcolor\": \"white\", \"linecolor\": \"white\", \"ticks\": \"\"}}, \"scene\": {\"xaxis\": {\"backgroundcolor\": \"#E5ECF6\", \"gridcolor\": \"white\", \"gridwidth\": 2, \"linecolor\": \"white\", \"showbackground\": true, \"ticks\": \"\", \"zerolinecolor\": \"white\"}, \"yaxis\": {\"backgroundcolor\": \"#E5ECF6\", \"gridcolor\": \"white\", \"gridwidth\": 2, \"linecolor\": \"white\", \"showbackground\": true, \"ticks\": \"\", \"zerolinecolor\": \"white\"}, \"zaxis\": {\"backgroundcolor\": \"#E5ECF6\", \"gridcolor\": \"white\", \"gridwidth\": 2, \"linecolor\": \"white\", \"showbackground\": true, \"ticks\": \"\", \"zerolinecolor\": \"white\"}}, \"shapedefaults\": {\"line\": {\"color\": \"#2a3f5f\"}}, \"ternary\": {\"aaxis\": {\"gridcolor\": \"white\", \"linecolor\": \"white\", \"ticks\": \"\"}, \"baxis\": {\"gridcolor\": \"white\", \"linecolor\": \"white\", \"ticks\": \"\"}, \"bgcolor\": \"#E5ECF6\", \"caxis\": {\"gridcolor\": \"white\", \"linecolor\": \"white\", \"ticks\": \"\"}}, \"title\": {\"x\": 0.05}, \"xaxis\": {\"automargin\": true, \"gridcolor\": \"white\", \"linecolor\": \"white\", \"ticks\": \"\", \"title\": {\"standoff\": 15}, \"zerolinecolor\": \"white\", \"zerolinewidth\": 2}, \"yaxis\": {\"automargin\": true, \"gridcolor\": \"white\", \"linecolor\": \"white\", \"ticks\": \"\", \"title\": {\"standoff\": 15}, \"zerolinecolor\": \"white\", \"zerolinewidth\": 2}}}, \"width\": 600, \"xaxis\": {\"linecolor\": \"black\", \"linewidth\": 1.5, \"mirror\": true, \"showline\": true, \"showticklabels\": false, \"title\": {\"text\": \"Days\"}}, \"yaxis\": {\"linecolor\": \"black\", \"linewidth\": 1.5, \"mirror\": true, \"showline\": true, \"showticklabels\": false, \"title\": {\"text\": \"Number of cumulative cases\"}}},\n",
       "                        {\"responsive\": true}\n",
       "                    ).then(function(){\n",
       "                            \n",
       "var gd = document.getElementById('c2820175-41b0-4b62-b25f-e4f09d5edd0b');\n",
       "var x = new MutationObserver(function (mutations, observer) {{\n",
       "        var display = window.getComputedStyle(gd).display;\n",
       "        if (!display || display === 'none') {{\n",
       "            console.log([gd, 'removed!']);\n",
       "            Plotly.purge(gd);\n",
       "            observer.disconnect();\n",
       "        }}\n",
       "}});\n",
       "\n",
       "// Listen for the removal of the full notebook cells\n",
       "var notebookContainer = gd.closest('#notebook-container');\n",
       "if (notebookContainer) {{\n",
       "    x.observe(notebookContainer, {childList: true});\n",
       "}}\n",
       "\n",
       "// Listen for the clearing of the current output cell\n",
       "var outputEl = gd.closest('.output');\n",
       "if (outputEl) {{\n",
       "    x.observe(outputEl, {childList: true});\n",
       "}}\n",
       "\n",
       "                        })\n",
       "                };\n",
       "                });\n",
       "            </script>\n",
       "        </div>"
      ]
     },
     "metadata": {},
     "output_type": "display_data"
    }
   ],
   "source": [
    "fig = go.Figure()\n",
    "fig.add_trace(go.Scatter(name='Fast spread',x=x,y=normal_1.cdf(x),mode='lines'))\n",
    "fig.add_trace(go.Scatter(name='Slow spread',x=x,y=normal_2.cdf(x),mode='lines'))\n",
    "fig.update_layout(width=600,height=350,margin=dict(l=20, r=20, t=50, b=20))\n",
    "fig.update_xaxes(title='Days',showline=True, linewidth=1.5, linecolor='black', mirror=True, showticklabels=False)\n",
    "fig.update_yaxes(title='Number of cumulative cases',showline=True, linewidth=1.5, linecolor='black', mirror=True, showticklabels=False)\n",
    "fig.show()"
   ]
  },
  {
   "cell_type": "markdown",
   "metadata": {},
   "source": [
    "We see that the cumulative case curve is S-shaped and monotonically increasing – first rapid growth, then slow growth that approaches a plateau. Depending on how fast the spread of the disease is, the curve can be steeper or shallower. Also notice that the turning point, which was the maximum on the daily incidence graph, is the inflection point on the cumulative case count graph.\n",
    "\n",
    "Now, let's get more precise with our math. The curves illustrated above are actually examples of continuous variable distributions, with the following analogies:\n",
    ">Daily incidence over time can be thought of as a **probability density function [(PDF)](https://en.wikipedia.org/wiki/Probability_density_function)**, which we will call $\\phi(t)$.\n",
    "\n",
    ">Cumulative case count over time can be thought of as a **cumulative distribution function [(CDF)](https://en.wikipedia.org/wiki/Cumulative_distribution_function)**, which we will call $\\Phi(t)$.\n",
    "\n",
    "Generally speaking, for any \"hump-shaped\" PDF we will observe a [sigmoidal](https://en.wikipedia.org/wiki/Sigmoid_function) CDF, because $\\Phi(t)=\\int_0^t\\phi(\\tau)d\\tau$, as mentioned earlier. In disease modeling, $\\Phi(t)$ is often called a **growth curve**."
   ]
  },
  {
   "cell_type": "markdown",
   "metadata": {},
   "source": [
    "<a id='sec4'></a>"
   ]
  },
  {
   "cell_type": "markdown",
   "metadata": {},
   "source": [
    "## 4. Types of Models"
   ]
  },
  {
   "cell_type": "markdown",
   "metadata": {},
   "source": [
    "Going forward, we will try to fit case data to mathematical growth curves. There exist a number of strategies for [infectious disease modeling](https://en.wikipedia.org/wiki/Mathematical_modelling_of_infectious_disease), and more advanced types of models, including [compartmental models like SIR](https://www.sciencedirect.com/science/article/pii/S0378437103012287), can be used. However, here we will simply describe growth curves with mathematical functions, which has the advantage of being easier to implement and interpret.\n",
    "\n",
    "The question then is the following: what mathematical function best describes our coronavirus data? We saw above that a bell curve seems like a reasonable guess for $\\phi(t)$, but there might be other functions that look similar.\n",
    "\n",
    "To my knowledge, no comprehensive work has been published to date that answers this question, although I did find [one recent pre-print](https://arxiv.org/abs/2003.00507) on the same topic. The authors focused only on a handful of countries and a handful of models, on data through the end of March.\n",
    "\n",
    "So, we need to find a few reasonable functions and define their PDFs and growth curves. There are at least two mathematical functions that are suitable:"
   ]
  },
  {
   "cell_type": "markdown",
   "metadata": {},
   "source": [
    ">**Normal** distribution [(link)](https://en.wikipedia.org/wiki/Normal_distribution), also called a Gaussian distribution or bell curve, defined by:\n",
    "\n",
    "$$ \\phi(t) = \\frac{N}{s \\sqrt{2 \\pi}} e^{-\\frac{1}{2}  (t-t_0)^2/s^2 } $$ \n",
    "$$ \\Phi(t) = \\frac{N}{2} + \\frac{N}{2} \\operatorname{erf}\\left(\\frac{t-t_0}{s \\sqrt{2}}\\right) $$\n",
    "\n",
    ">**Logistic** distribution [(link)](https://en.wikipedia.org/wiki/Logistic_distribution), commonly used to model population growth in biology, defined by:\n",
    "\n",
    "$$ \\phi(t) = \\frac{N}{4s} \\operatorname{sech}^2 \\left( \\frac{t-t_0}{2s} \\right) $$ \n",
    "$$ \\Phi(t) = \\frac{N}{1 + e^{-(t-t_0)/s}} $$\n",
    "\n",
    "\n",
    "where $N$ is the number of total cases that will be reached by the end of the outbreak, $t_0$ is a location parameter (equal to the turning point, $t_i$, for these distributions), and $s$ is a scale parameter related to the steepness of the growth curve. The [error function](https://en.wikipedia.org/wiki/Error_function), $\\operatorname{erf}(x)$, is a special function that appears commonly in statistics but has no closed form.\n",
    "\n",
    "Let's visualize these distributions for $N=1$ and $t_i=10$. Note that the values of $s$ are different for each distribution because the maning of $s$ isn't directly comparable between them."
   ]
  },
  {
   "cell_type": "code",
   "execution_count": 11,
   "metadata": {
    "jupyter": {
     "source_hidden": true
    }
   },
   "outputs": [
    {
     "data": {
      "application/vnd.plotly.v1+json": {
       "config": {
        "plotlyServerURL": "https://plot.ly"
       },
       "data": [
        {
         "line": {
          "color": "rgb(31, 119, 180)"
         },
         "mode": "lines",
         "name": "Normal",
         "showlegend": true,
         "type": "scatter",
         "x": [
          0,
          0.1,
          0.2,
          0.30000000000000004,
          0.4,
          0.5,
          0.6000000000000001,
          0.7000000000000001,
          0.8,
          0.9,
          1,
          1.1,
          1.2000000000000002,
          1.3,
          1.4000000000000001,
          1.5,
          1.6,
          1.7000000000000002,
          1.8,
          1.9000000000000001,
          2,
          2.1,
          2.2,
          2.3000000000000003,
          2.4000000000000004,
          2.5,
          2.6,
          2.7,
          2.8000000000000003,
          2.9000000000000004,
          3,
          3.1,
          3.2,
          3.3000000000000003,
          3.4000000000000004,
          3.5,
          3.6,
          3.7,
          3.8000000000000003,
          3.9000000000000004,
          4,
          4.1000000000000005,
          4.2,
          4.3,
          4.4,
          4.5,
          4.6000000000000005,
          4.7,
          4.800000000000001,
          4.9,
          5,
          5.1000000000000005,
          5.2,
          5.300000000000001,
          5.4,
          5.5,
          5.6000000000000005,
          5.7,
          5.800000000000001,
          5.9,
          6,
          6.1000000000000005,
          6.2,
          6.300000000000001,
          6.4,
          6.5,
          6.6000000000000005,
          6.7,
          6.800000000000001,
          6.9,
          7,
          7.1000000000000005,
          7.2,
          7.300000000000001,
          7.4,
          7.5,
          7.6000000000000005,
          7.7,
          7.800000000000001,
          7.9,
          8,
          8.1,
          8.200000000000001,
          8.3,
          8.4,
          8.5,
          8.6,
          8.700000000000001,
          8.8,
          8.9,
          9,
          9.1,
          9.200000000000001,
          9.3,
          9.4,
          9.5,
          9.600000000000001,
          9.700000000000001,
          9.8,
          9.9,
          10,
          10.100000000000001,
          10.200000000000001,
          10.3,
          10.4,
          10.5,
          10.600000000000001,
          10.700000000000001,
          10.8,
          10.9,
          11,
          11.100000000000001,
          11.200000000000001,
          11.3,
          11.4,
          11.5,
          11.600000000000001,
          11.700000000000001,
          11.8,
          11.9,
          12,
          12.100000000000001,
          12.200000000000001,
          12.3,
          12.4,
          12.5,
          12.600000000000001,
          12.700000000000001,
          12.8,
          12.9,
          13,
          13.100000000000001,
          13.200000000000001,
          13.3,
          13.4,
          13.5,
          13.600000000000001,
          13.700000000000001,
          13.8,
          13.9,
          14,
          14.100000000000001,
          14.200000000000001,
          14.3,
          14.4,
          14.5,
          14.600000000000001,
          14.700000000000001,
          14.8,
          14.9,
          15,
          15.100000000000001,
          15.200000000000001,
          15.3,
          15.4,
          15.5,
          15.600000000000001,
          15.700000000000001,
          15.8,
          15.9,
          16,
          16.1,
          16.2,
          16.3,
          16.400000000000002,
          16.5,
          16.6,
          16.7,
          16.8,
          16.900000000000002,
          17,
          17.1,
          17.2,
          17.3,
          17.400000000000002,
          17.5,
          17.6,
          17.7,
          17.8,
          17.900000000000002,
          18,
          18.1,
          18.2,
          18.3,
          18.400000000000002,
          18.5,
          18.6,
          18.7,
          18.8,
          18.900000000000002,
          19,
          19.1,
          19.200000000000003,
          19.3,
          19.400000000000002,
          19.5,
          19.6,
          19.700000000000003,
          19.8,
          19.900000000000002
         ],
         "xaxis": "x",
         "y": [
          0.0005140929987637018,
          0.0005741896463512261,
          0.0006405993231173357,
          0.0007138961573442565,
          0.0007946960671549483,
          0.0008836586514767019,
          0.0009814890401277866,
          0.0010889396853999728,
          0.00120681207600643,
          0.001335958352772115,
          0.001477282803979336,
          0.0016317432168629776,
          0.0018003520603981236,
          0.001984177473258618,
          0.0021843440296711743,
          0.0024020332548697412,
          0.0026384838609933192,
          0.0028949916735929652,
          0.003172909218445733,
          0.0034736449381408685,
          0.003798662007932481,
          0.004149476720668069,
          0.004527656411228538,
          0.004934816891875435,
          0.005372619371216331,
          0.005842766831189513,
          0.006346999838550089,
          0.006887091769826073,
          0.0074648434316142995,
          0.00808207706140912,
          0.00874062969790316,
          0.009442345913867055,
          0.010189069909295164,
          0.010982636967484772,
          0.011824864282077152,
          0.012717541168805994,
          0.01366241868174073,
          0.0146611986601424,
          0.01571552223862387,
          0.0168269578600759,
          0.017996988837729353,
          0.01922700051971094,
          0.02051826711644909,
          0.02187193825822553,
          0.023289025356971735,
          0.0247703878529977,
          0.026316719433631397,
          0.027928534316654915,
          0.029606153696863965,
          0.03134969245896232,
          0.03315904626424956,
          0.0350338791220834,
          0.036973611559818535,
          0.038977409506766855,
          0.04104417400861653,
          0.04317253188863058,
          0.04536082747075937,
          0.04760711547750344,
          0.04990915521191499,
          0.05226440612850288,
          0.05467002489199788,
          0.057122864015935804,
          0.05961947216484686,
          0.06215609619452194,
          0.06472868499440433,
          0.06733289518468628,
          0.06996409870824144,
          0.07261739234418353,
          0.07528760915570819,
          0.07796933187005435,
          0.08065690817304778,
          0.08334446788488616,
          0.08602594196774592,
          0.08869508329958496,
          0.09134548913234282,
          0.09397062513676752,
          0.09656385092049428,
          0.0991184468909342,
          0.1016276423201724,
          0.10408464445558711,
          0.10648266850745075,
          0.10881496833350866,
          0.11107486763059991,
          0.11325579143491937,
          0.115351297725641,
          0.11735510892143318,
          0.11926114305598966,
          0.12106354441713936,
          0.12275671343444113,
          0.12433533560244286,
          0.12579440923099774,
          0.1271292718201747,
          0.12833562486533798,
          0.12940955690784897,
          0.13034756465848532,
          0.13114657203397997,
          0.13180394696193923,
          0.1323175158256706,
          0.1326855754379841,
          0.132906902451659,
          0.1329807601338109,
          0.132906902451659,
          0.13268557543798407,
          0.1323175158256706,
          0.13180394696193923,
          0.13114657203397997,
          0.1303475646584853,
          0.12940955690784894,
          0.12833562486533798,
          0.1271292718201747,
          0.12579440923099774,
          0.12433533560244282,
          0.1227567134344411,
          0.12106354441713933,
          0.11926114305598966,
          0.11735510892143318,
          0.11535129772564094,
          0.11325579143491933,
          0.11107486763059987,
          0.10881496833350866,
          0.10648266850745075,
          0.10408464445558707,
          0.10162764232017236,
          0.09911844689093417,
          0.09656385092049424,
          0.09397062513676752,
          0.09134548913234279,
          0.08869508329958492,
          0.08602594196774588,
          0.08334446788488616,
          0.08065690817304778,
          0.0779693318700543,
          0.07528760915570813,
          0.0726173923441835,
          0.0699640987082414,
          0.06733289518468628,
          0.06472868499440429,
          0.0621560961945219,
          0.05961947216484684,
          0.05712286401593578,
          0.05467002489199788,
          0.052264406128502826,
          0.049909155211914934,
          0.047607115477503424,
          0.04536082747075935,
          0.04317253188863058,
          0.04104417400861649,
          0.03897740950676681,
          0.03697361155981851,
          0.03503387912208338,
          0.03315904626424956,
          0.03134969245896229,
          0.02960615369686394,
          0.0279285343166549,
          0.026316719433631383,
          0.0247703878529977,
          0.02328902535697171,
          0.021871938258225518,
          0.020518267116449083,
          0.01922700051971093,
          0.017996988837729353,
          0.016826957860075886,
          0.01571552223862387,
          0.0146611986601424,
          0.013662418681740708,
          0.012717541168805994,
          0.01182486428207713,
          0.010982636967484772,
          0.010189069909295148,
          0.00944234591386704,
          0.00874062969790316,
          0.00808207706140911,
          0.0074648434316142995,
          0.006887091769826068,
          0.0063469998385500825,
          0.005842766831189513,
          0.005372619371216326,
          0.004934816891875435,
          0.004527656411228538,
          0.004149476720668058,
          0.003798662007932481,
          0.0034736449381408594,
          0.003172909218445733,
          0.0028949916735929652,
          0.0026384838609933153,
          0.0024020332548697412,
          0.002184344029671172,
          0.001984177473258618,
          0.0018003520603981236,
          0.0016317432168629759,
          0.001477282803979336,
          0.0013359583527721138,
          0.0012068120760064258,
          0.0010889396853999728,
          0.0009814890401277838,
          0.0008836586514767019,
          0.0007946960671549461,
          0.0007138961573442542,
          0.0006405993231173357,
          0.0005741896463512256
         ],
         "yaxis": "y"
        },
        {
         "line": {
          "color": "rgb(255, 127, 14)",
          "dash": "dash"
         },
         "mode": "lines",
         "name": "Logistic",
         "showlegend": true,
         "type": "scatter",
         "x": [
          0,
          0.1,
          0.2,
          0.30000000000000004,
          0.4,
          0.5,
          0.6000000000000001,
          0.7000000000000001,
          0.8,
          0.9,
          1,
          1.1,
          1.2000000000000002,
          1.3,
          1.4000000000000001,
          1.5,
          1.6,
          1.7000000000000002,
          1.8,
          1.9000000000000001,
          2,
          2.1,
          2.2,
          2.3000000000000003,
          2.4000000000000004,
          2.5,
          2.6,
          2.7,
          2.8000000000000003,
          2.9000000000000004,
          3,
          3.1,
          3.2,
          3.3000000000000003,
          3.4000000000000004,
          3.5,
          3.6,
          3.7,
          3.8000000000000003,
          3.9000000000000004,
          4,
          4.1000000000000005,
          4.2,
          4.3,
          4.4,
          4.5,
          4.6000000000000005,
          4.7,
          4.800000000000001,
          4.9,
          5,
          5.1000000000000005,
          5.2,
          5.300000000000001,
          5.4,
          5.5,
          5.6000000000000005,
          5.7,
          5.800000000000001,
          5.9,
          6,
          6.1000000000000005,
          6.2,
          6.300000000000001,
          6.4,
          6.5,
          6.6000000000000005,
          6.7,
          6.800000000000001,
          6.9,
          7,
          7.1000000000000005,
          7.2,
          7.300000000000001,
          7.4,
          7.5,
          7.6000000000000005,
          7.7,
          7.800000000000001,
          7.9,
          8,
          8.1,
          8.200000000000001,
          8.3,
          8.4,
          8.5,
          8.6,
          8.700000000000001,
          8.8,
          8.9,
          9,
          9.1,
          9.200000000000001,
          9.3,
          9.4,
          9.5,
          9.600000000000001,
          9.700000000000001,
          9.8,
          9.9,
          10,
          10.100000000000001,
          10.200000000000001,
          10.3,
          10.4,
          10.5,
          10.600000000000001,
          10.700000000000001,
          10.8,
          10.9,
          11,
          11.100000000000001,
          11.200000000000001,
          11.3,
          11.4,
          11.5,
          11.600000000000001,
          11.700000000000001,
          11.8,
          11.9,
          12,
          12.100000000000001,
          12.200000000000001,
          12.3,
          12.4,
          12.5,
          12.600000000000001,
          12.700000000000001,
          12.8,
          12.9,
          13,
          13.100000000000001,
          13.200000000000001,
          13.3,
          13.4,
          13.5,
          13.600000000000001,
          13.700000000000001,
          13.8,
          13.9,
          14,
          14.100000000000001,
          14.200000000000001,
          14.3,
          14.4,
          14.5,
          14.600000000000001,
          14.700000000000001,
          14.8,
          14.9,
          15,
          15.100000000000001,
          15.200000000000001,
          15.3,
          15.4,
          15.5,
          15.600000000000001,
          15.700000000000001,
          15.8,
          15.9,
          16,
          16.1,
          16.2,
          16.3,
          16.400000000000002,
          16.5,
          16.6,
          16.7,
          16.8,
          16.900000000000002,
          17,
          17.1,
          17.2,
          17.3,
          17.400000000000002,
          17.5,
          17.6,
          17.7,
          17.8,
          17.900000000000002,
          18,
          18.1,
          18.2,
          18.3,
          18.400000000000002,
          18.5,
          18.6,
          18.7,
          18.8,
          18.900000000000002,
          19,
          19.1,
          19.200000000000003,
          19.3,
          19.400000000000002,
          19.5,
          19.6,
          19.700000000000003,
          19.8,
          19.900000000000002
         ],
         "xaxis": "x",
         "y": [
          0.0021312232809576857,
          0.0022519842749276504,
          0.002379528363795724,
          0.0025142295879818834,
          0.002656481798251586,
          0.0028066996087394197,
          0.002965319384196185,
          0.0031328002611765633,
          0.003309625202629778,
          0.0034963020850622326,
          0.00369336481710564,
          0.003901374487940635,
          0.004120920543590776,
          0.004352621988608721,
          0.004597128610119491,
          0.004855122220559722,
          0.005127317914748747,
          0.005414465336141265,
          0.005717349946234288,
          0.006036794290125128,
          0.006373659250135105,
          0.0067288452782154505,
          0.0071032935965313175,
          0.00749798735416601,
          0.007913952726293768,
          0.008352259940426337,
          0.00881402421243895,
          0.00930040657301803,
          0.009812614562939515,
          0.01035190277317884,
          0.010919573203268449,
          0.01151697540855541,
          0.012145506404072859,
          0.012806610289630238,
          0.013501777557459266,
          0.014232544040340467,
          0.015000489454600401,
          0.01580723548874198,
          0.016654443384786423,
          0.017543810955712707,
          0.01847706897873756,
          0.019455976900656795,
          0.020482317788152665,
          0.021557892452963197,
          0.022684512679225343,
          0.023863993478283198,
          0.025098144294951195,
          0.026388759088818083,
          0.027737605214873527,
          0.029146411029752076,
          0.030616852153469293,
          0.0321505363219291,
          0.03374898677299729,
          0.035413624118855146,
          0.037145746669977414,
          0.03894650919172675,
          0.04081690009352158,
          0.04275771707310442,
          0.04476954126485906,
          0.0468527099716084,
          0.04900728809400823,
          0.051233038410589765,
          0.053529390904638395,
          0.055895411381239275,
          0.058329769668614764,
          0.0608307077517912,
          0.0633960082428998,
          0.06602296365005374,
          0.06870834696450212,
          0.07144838414212037,
          0.0742387291084733,
          0.07707444196462315,
          0.07994997111125711,
          0.08285914003907384,
          0.08579513955105027,
          0.08875052618449036,
          0.09171722758494652,
          0.09468655554766303,
          0.09764922738286473,
          0.10059539617718272,
          0.10351469041356559,
          0.10639626327570832,
          0.10922885180082328,
          0.11200084585799683,
          0.1147003667211307,
          0.1173153547794672,
          0.11983366569011848,
          0.12224317403219641,
          0.12453188327846036,
          0.12668804066609785,
          0.1287002553321096,
          0.13055761788977474,
          0.13224981946960074,
          0.1337672681391509,
          0.13510120055820596,
          0.1362437867243411,
          0.13718822572271352,
          0.13792883051395652,
          0.13846109997438294,
          0.13878177663949587,
          0.1388888888888889,
          0.1387817766394958,
          0.138461099974383,
          0.13792883051395652,
          0.13718822572271347,
          0.1362437867243411,
          0.13510120055820593,
          0.13376726813915085,
          0.13224981946960077,
          0.1305576178897747,
          0.12870025533210958,
          0.1266880406660978,
          0.12453188327846029,
          0.12224317403219634,
          0.11983366569011845,
          0.1173153547794672,
          0.11470036672113068,
          0.11200084585799674,
          0.10922885180082323,
          0.10639626327570832,
          0.10351469041356554,
          0.10059539617718266,
          0.0976492273828647,
          0.09468655554766302,
          0.09171722758494649,
          0.08875052618449036,
          0.0857951395510502,
          0.08285914003907378,
          0.07994997111125708,
          0.07707444196462312,
          0.0742387291084733,
          0.07144838414212033,
          0.06870834696450205,
          0.06602296365005371,
          0.0633960082428998,
          0.0608307077517912,
          0.05832976966861469,
          0.05589541138123922,
          0.053529390904638374,
          0.05123303841058972,
          0.04900728809400821,
          0.04685270997160836,
          0.04476954126485903,
          0.04275771707310438,
          0.04081690009352155,
          0.03894650919172675,
          0.0371457466699774,
          0.0354136241188551,
          0.03374898677299727,
          0.03215053632192909,
          0.030616852153469275,
          0.02914641102975205,
          0.027737605214873503,
          0.026388759088818083,
          0.025098144294951184,
          0.023863993478283208,
          0.022684512679225326,
          0.02155789245296319,
          0.020482317788152658,
          0.01945597690065679,
          0.01847706897873756,
          0.01754381095571268,
          0.016654443384786423,
          0.015807235488741973,
          0.015000489454600387,
          0.014232544040340467,
          0.013501777557459252,
          0.012806610289630238,
          0.012145506404072859,
          0.0115169754085554,
          0.010919573203268449,
          0.010351902773178831,
          0.009812614562939515,
          0.009300406573018012,
          0.008814024212438933,
          0.008352259940426337,
          0.007913952726293763,
          0.007497987354166003,
          0.0071032935965313045,
          0.006728845278215438,
          0.006373659250135105,
          0.006036794290125123,
          0.005717349946234288,
          0.0054144653361412705,
          0.005127317914748747,
          0.0048551222205597275,
          0.004597128610119491,
          0.004352621988608725,
          0.004120920543590776,
          0.003901374487940628,
          0.00369336481710564,
          0.003496302085062229,
          0.003309625202629769,
          0.0031328002611765663,
          0.0029653193841961824,
          0.0028066996087394197,
          0.002656481798251581,
          0.002514229587981879,
          0.0023795283637957263,
          0.0022519842749276465
         ],
         "yaxis": "y"
        },
        {
         "line": {
          "color": "rgb(31, 119, 180)"
         },
         "mode": "lines",
         "name": "Normal",
         "showlegend": false,
         "type": "scatter",
         "x": [
          0,
          0.1,
          0.2,
          0.30000000000000004,
          0.4,
          0.5,
          0.6000000000000001,
          0.7000000000000001,
          0.8,
          0.9,
          1,
          1.1,
          1.2000000000000002,
          1.3,
          1.4000000000000001,
          1.5,
          1.6,
          1.7000000000000002,
          1.8,
          1.9000000000000001,
          2,
          2.1,
          2.2,
          2.3000000000000003,
          2.4000000000000004,
          2.5,
          2.6,
          2.7,
          2.8000000000000003,
          2.9000000000000004,
          3,
          3.1,
          3.2,
          3.3000000000000003,
          3.4000000000000004,
          3.5,
          3.6,
          3.7,
          3.8000000000000003,
          3.9000000000000004,
          4,
          4.1000000000000005,
          4.2,
          4.3,
          4.4,
          4.5,
          4.6000000000000005,
          4.7,
          4.800000000000001,
          4.9,
          5,
          5.1000000000000005,
          5.2,
          5.300000000000001,
          5.4,
          5.5,
          5.6000000000000005,
          5.7,
          5.800000000000001,
          5.9,
          6,
          6.1000000000000005,
          6.2,
          6.300000000000001,
          6.4,
          6.5,
          6.6000000000000005,
          6.7,
          6.800000000000001,
          6.9,
          7,
          7.1000000000000005,
          7.2,
          7.300000000000001,
          7.4,
          7.5,
          7.6000000000000005,
          7.7,
          7.800000000000001,
          7.9,
          8,
          8.1,
          8.200000000000001,
          8.3,
          8.4,
          8.5,
          8.6,
          8.700000000000001,
          8.8,
          8.9,
          9,
          9.1,
          9.200000000000001,
          9.3,
          9.4,
          9.5,
          9.600000000000001,
          9.700000000000001,
          9.8,
          9.9,
          10,
          10.100000000000001,
          10.200000000000001,
          10.3,
          10.4,
          10.5,
          10.600000000000001,
          10.700000000000001,
          10.8,
          10.9,
          11,
          11.100000000000001,
          11.200000000000001,
          11.3,
          11.4,
          11.5,
          11.600000000000001,
          11.700000000000001,
          11.8,
          11.9,
          12,
          12.100000000000001,
          12.200000000000001,
          12.3,
          12.4,
          12.5,
          12.600000000000001,
          12.700000000000001,
          12.8,
          12.9,
          13,
          13.100000000000001,
          13.200000000000001,
          13.3,
          13.4,
          13.5,
          13.600000000000001,
          13.700000000000001,
          13.8,
          13.9,
          14,
          14.100000000000001,
          14.200000000000001,
          14.3,
          14.4,
          14.5,
          14.600000000000001,
          14.700000000000001,
          14.8,
          14.9,
          15,
          15.100000000000001,
          15.200000000000001,
          15.3,
          15.4,
          15.5,
          15.600000000000001,
          15.700000000000001,
          15.8,
          15.9,
          16,
          16.1,
          16.2,
          16.3,
          16.400000000000002,
          16.5,
          16.6,
          16.7,
          16.8,
          16.900000000000002,
          17,
          17.1,
          17.2,
          17.3,
          17.400000000000002,
          17.5,
          17.6,
          17.7,
          17.8,
          17.900000000000002,
          18,
          18.1,
          18.2,
          18.3,
          18.400000000000002,
          18.5,
          18.6,
          18.7,
          18.8,
          18.900000000000002,
          19,
          19.1,
          19.200000000000003,
          19.3,
          19.400000000000002,
          19.5,
          19.6,
          19.700000000000003,
          19.8,
          19.900000000000002
         ],
         "xaxis": "x2",
         "y": [
          0.0004290603331968372,
          0.00048342414238377663,
          0.0005441086524671406,
          0.0006117735324862054,
          0.0006871379379158483,
          0.0007709847844699757,
          0.0008641652090980683,
          0.0009676032132183563,
          0.0010823004813931916,
          0.00120934136666433,
          0.0013498980316300933,
          0.001505235732066175,
          0.0016767182274731592,
          0.0018658133003840375,
          0.00207409836359409,
          0.0023032661316958825,
          0.002555130330427929,
          0.0028316314143945224,
          0.003134842260705495,
          0.0034669738030406686,
          0.0038303805675897365,
          0.004227566069280537,
          0.004661188023718747,
          0.005134063327350345,
          0.0056491727555606375,
          0.006209665325776132,
          0.006818862270176098,
          0.007480260560390131,
          0.008197535924596131,
          0.00897454529578302,
          0.009815328628645334,
          0.010724110021675795,
          0.011705298080558346,
          0.012763485458978336,
          0.013903447513498616,
          0.015130140010235814,
          0.01644869582274533,
          0.017864420562816542,
          0.019382787088818604,
          0.02100942883984279,
          0.022750131948179195,
          0.0246108260876501,
          0.026597574021009627,
          0.028716559816001783,
          0.0309740757067406,
          0.03337650758481726,
          0.03593031911292581,
          0.03864203446279496,
          0.04151821968877912,
          0.04456546275854304,
          0.0477903522728147,
          0.05119945491710787,
          0.054799291699558,
          0.0585963130404857,
          0.06259687279090685,
          0.06680720126885807,
          0.07123337741398612,
          0.0758813001722581,
          0.08075665923377112,
          0.0858649052573559,
          0.09121121972586788,
          0.09680048458561041,
          0.10263725183213579,
          0.10872571321259117,
          0.11506967022170822,
          0.12167250457438122,
          0.12853714934241506,
          0.13566606094638267,
          0.1430611921955091,
          0.1507239665690247,
          0.15865525393145707,
          0.16685534787178308,
          0.17532394485222952,
          0.18406012534675953,
          0.19306233714190696,
          0.20232838096364308,
          0.21185539858339675,
          0.22163986354425458,
          0.23167757463479832,
          0.24196365222307303,
          0.2524925375469229,
          0.2632579950394782,
          0.27425311775007366,
          0.2854703359014441,
          0.29690142860385127,
          0.3085375387259869,
          0.32036919090127036,
          0.3323863126266752,
          0.34457825838967593,
          0.3569338367374987,
          0.36944134018176367,
          0.3820885778110473,
          0.3948629104640253,
          0.4077512882968954,
          0.420740290560897,
          0.43381616738909634,
          0.4469648833763862,
          0.4601721627229712,
          0.47342353569963497,
          0.48670438618290796,
          0.5,
          0.5132956138170923,
          0.5265764643003652,
          0.5398278372770291,
          0.553035116623614,
          0.5661838326109037,
          0.5792597094391032,
          0.5922487117031049,
          0.6051370895359749,
          0.6179114221889527,
          0.6305586598182363,
          0.6430661632625017,
          0.6554217416103243,
          0.667613687373325,
          0.6796308090987296,
          0.6914624612740131,
          0.703098571396149,
          0.7145296640985561,
          0.7257468822499265,
          0.7367420049605218,
          0.7475074624530771,
          0.7580363477769272,
          0.7683224253652019,
          0.7783601364557455,
          0.7881446014166034,
          0.7976716190363569,
          0.8069376628580933,
          0.8159398746532407,
          0.8246760551477705,
          0.833144652128217,
          0.8413447460685429,
          0.8492760334309755,
          0.856938807804491,
          0.8643339390536173,
          0.871462850657585,
          0.8783274954256188,
          0.8849303297782918,
          0.8912742867874089,
          0.8973627481678642,
          0.9031995154143897,
          0.9087887802741321,
          0.9141350947426441,
          0.919243340766229,
          0.924118699827742,
          0.9287666225860138,
          0.9331927987311419,
          0.9374031272090932,
          0.9414036869595144,
          0.945200708300442,
          0.9488005450828922,
          0.9522096477271853,
          0.955434537241457,
          0.9584817803112209,
          0.9613579655372051,
          0.9640696808870742,
          0.9666234924151828,
          0.9690259242932594,
          0.9712834401839983,
          0.9734024259789904,
          0.9753891739123499,
          0.9772498680518208,
          0.9789905711601572,
          0.9806172129111814,
          0.9821355794371834,
          0.9835513041772547,
          0.9848698599897642,
          0.9860965524865014,
          0.9872365145410217,
          0.9882947019194417,
          0.9892758899783243,
          0.9901846713713547,
          0.991025454704217,
          0.9918024640754038,
          0.9925197394396099,
          0.9931811377298239,
          0.9937903346742238,
          0.9943508272444394,
          0.9948659366726497,
          0.9953388119762813,
          0.9957724339307195,
          0.9961696194324102,
          0.9965330261969594,
          0.9968651577392945,
          0.9971683685856054,
          0.997444869669572,
          0.9976967338683042,
          0.9979259016364059,
          0.998134186699616,
          0.9983232817725268,
          0.9984947642679338,
          0.9986501019683699,
          0.9987906586333357,
          0.9989176995186068,
          0.9990323967867817,
          0.999135834790902,
          0.99922901521553,
          0.9993128620620841,
          0.9993882264675138,
          0.9994558913475329,
          0.9995165758576162
         ],
         "yaxis": "y2"
        },
        {
         "line": {
          "color": "rgb(255, 127, 14)",
          "dash": "dash"
         },
         "mode": "lines",
         "name": "Logistic",
         "showlegend": false,
         "type": "scatter",
         "x": [
          0,
          0.1,
          0.2,
          0.30000000000000004,
          0.4,
          0.5,
          0.6000000000000001,
          0.7000000000000001,
          0.8,
          0.9,
          1,
          1.1,
          1.2000000000000002,
          1.3,
          1.4000000000000001,
          1.5,
          1.6,
          1.7000000000000002,
          1.8,
          1.9000000000000001,
          2,
          2.1,
          2.2,
          2.3000000000000003,
          2.4000000000000004,
          2.5,
          2.6,
          2.7,
          2.8000000000000003,
          2.9000000000000004,
          3,
          3.1,
          3.2,
          3.3000000000000003,
          3.4000000000000004,
          3.5,
          3.6,
          3.7,
          3.8000000000000003,
          3.9000000000000004,
          4,
          4.1000000000000005,
          4.2,
          4.3,
          4.4,
          4.5,
          4.6000000000000005,
          4.7,
          4.800000000000001,
          4.9,
          5,
          5.1000000000000005,
          5.2,
          5.300000000000001,
          5.4,
          5.5,
          5.6000000000000005,
          5.7,
          5.800000000000001,
          5.9,
          6,
          6.1000000000000005,
          6.2,
          6.300000000000001,
          6.4,
          6.5,
          6.6000000000000005,
          6.7,
          6.800000000000001,
          6.9,
          7,
          7.1000000000000005,
          7.2,
          7.300000000000001,
          7.4,
          7.5,
          7.6000000000000005,
          7.7,
          7.800000000000001,
          7.9,
          8,
          8.1,
          8.200000000000001,
          8.3,
          8.4,
          8.5,
          8.6,
          8.700000000000001,
          8.8,
          8.9,
          9,
          9.1,
          9.200000000000001,
          9.3,
          9.4,
          9.5,
          9.600000000000001,
          9.700000000000001,
          9.8,
          9.9,
          10,
          10.100000000000001,
          10.200000000000001,
          10.3,
          10.4,
          10.5,
          10.600000000000001,
          10.700000000000001,
          10.8,
          10.9,
          11,
          11.100000000000001,
          11.200000000000001,
          11.3,
          11.4,
          11.5,
          11.600000000000001,
          11.700000000000001,
          11.8,
          11.9,
          12,
          12.100000000000001,
          12.200000000000001,
          12.3,
          12.4,
          12.5,
          12.600000000000001,
          12.700000000000001,
          12.8,
          12.9,
          13,
          13.100000000000001,
          13.200000000000001,
          13.3,
          13.4,
          13.5,
          13.600000000000001,
          13.700000000000001,
          13.8,
          13.9,
          14,
          14.100000000000001,
          14.200000000000001,
          14.3,
          14.4,
          14.5,
          14.600000000000001,
          14.700000000000001,
          14.8,
          14.9,
          15,
          15.100000000000001,
          15.200000000000001,
          15.3,
          15.4,
          15.5,
          15.600000000000001,
          15.700000000000001,
          15.8,
          15.9,
          16,
          16.1,
          16.2,
          16.3,
          16.400000000000002,
          16.5,
          16.6,
          16.7,
          16.8,
          16.900000000000002,
          17,
          17.1,
          17.2,
          17.3,
          17.400000000000002,
          17.5,
          17.6,
          17.7,
          17.8,
          17.900000000000002,
          18,
          18.1,
          18.2,
          18.3,
          18.400000000000002,
          18.5,
          18.6,
          18.7,
          18.8,
          18.900000000000002,
          19,
          19.1,
          19.200000000000003,
          19.3,
          19.400000000000002,
          19.5,
          19.6,
          19.700000000000003,
          19.8,
          19.900000000000002
         ],
         "xaxis": "x2",
         "y": [
          0.003851032355930255,
          0.004070137715896128,
          0.0043016552930929,
          0.004546281937825588,
          0.004804752887159518,
          0.005077843793320317,
          0.0053663728491087845,
          0.005671203013740883,
          0.005993244342482293,
          0.006333456423378857,
          0.0066928509242848554,
          0.007072494253255469,
          0.007473510335193645,
          0.007897083507418851,
          0.008344461536550052,
          0.008816958758761201,
          0.009315959345066686,
          0.00984292069281942,
          0.010399376944046072,
          0.01098694263059318,
          0.011607316445304631,
          0.0122622851375832,
          0.012953727530695871,
          0.013683618657050386,
          0.014454034006386568,
          0.015267153880374444,
          0.016125267845478516,
          0.017030779274116104,
          0.017986209962091566,
          0.018994204808010565,
          0.02005753653785041,
          0.021179110455067696,
          0.022361969193544173,
          0.023609297447288992,
          0.02492442664711404,
          0.026310839550463053,
          0.027772174706191966,
          0.02931223075135632,
          0.0309349704919536,
          0.03264452471409182,
          0.03444519566621118,
          0.036341460146782405,
          0.03833797212535965,
          0.04043956481800324,
          0.04265125213094287,
          0.04497822937897771,
          0.0474258731775668,
          0.04999974039993328,
          0.05270556608289025,
          0.05554926015761178,
          0.0585369028743679,
          0.06167473878348327,
          0.06496916912866407,
          0.06842674250359214,
          0.07205414361856402,
          0.07585818002124355,
          0.07984576661461427,
          0.08402390781631201,
          0.08839967720705845,
          0.09298019452229982,
          0.09777259985079931,
          0.10278402491725178,
          0.10802156134341918,
          0.11349222580422876,
          0.11920292202211757,
          0.12516039957499714,
          0.1313712095308068,
          0.13784165696493572,
          0.1445777504658773,
          0.15158514878928694,
          0.15886910488091516,
          0.1664344075542588,
          0.17428532117858547,
          0.1824255238063564,
          0.1908580442448655,
          0.19958519865373253,
          0.20860852732604498,
          0.21792873238451507,
          0.22754561719281619,
          0.23745802834390256,
          0.24766380113907163,
          0.2581597095111631,
          0.26894142136999527,
          0.28000346035538254,
          0.2913391749705645,
          0.30294071603459277,
          0.31479902333468435,
          0.32690382227776804,
          0.33924363123418294,
          0.35180578013625535,
          0.3645764407416393,
          0.3775406687981454,
          0.3906824581564394,
          0.4039848066734833,
          0.4174297935376854,
          0.4309986674318094,
          0.4446719447376312,
          0.45842951678320026,
          0.47225076494548685,
          0.48611468225399523,
          0.5,
          0.513885317746005,
          0.5277492350545133,
          0.5415704832168,
          0.5553280552623691,
          0.5690013325681905,
          0.5825702064623148,
          0.5960151933265169,
          0.6093175418435608,
          0.6224593312018547,
          0.6354235592583607,
          0.6481942198637449,
          0.6607563687658172,
          0.6730961777222322,
          0.6852009766653157,
          0.6970592839654073,
          0.7086608250294357,
          0.7199965396446177,
          0.731058578630005,
          0.7418402904888369,
          0.7523361988609284,
          0.7625419716560976,
          0.7724543828071839,
          0.7820712676154851,
          0.791391472673955,
          0.8004148013462675,
          0.8091419557551347,
          0.8175744761936438,
          0.8257146788214146,
          0.8335655924457414,
          0.8411308951190849,
          0.8484148512107133,
          0.8554222495341228,
          0.8621583430350643,
          0.8686287904691933,
          0.8748396004250029,
          0.8807970779778825,
          0.8865077741957713,
          0.8919784386565809,
          0.8972159750827483,
          0.9022274001492008,
          0.9070198054777002,
          0.9116003227929417,
          0.915976092183688,
          0.9201542333853858,
          0.9241418199787566,
          0.927945856381436,
          0.931573257496408,
          0.935030830871336,
          0.9383252612165167,
          0.941463097125632,
          0.9444507398423884,
          0.9472944339171098,
          0.9500002596000667,
          0.9525741268224334,
          0.9550217706210222,
          0.9573487478690571,
          0.9595604351819967,
          0.9616620278746403,
          0.9636585398532177,
          0.9655548043337887,
          0.9673554752859082,
          0.9690650295080464,
          0.9706877692486436,
          0.9722278252938079,
          0.9736891604495369,
          0.975075573352886,
          0.976390702552711,
          0.9776380308064557,
          0.9788208895449324,
          0.9799424634621495,
          0.9810057951919894,
          0.9820137900379085,
          0.982969220725884,
          0.9838747321545214,
          0.9847328461196255,
          0.9855459659936133,
          0.9863163813429496,
          0.9870462724693041,
          0.9877377148624168,
          0.9883926835546953,
          0.9890130573694068,
          0.989600623055954,
          0.9901570793071806,
          0.9906840406549333,
          0.9911830412412388,
          0.99165553846345,
          0.9921029164925812,
          0.9925264896648063,
          0.9929275057467446,
          0.9933071490757153,
          0.9936665435766211,
          0.9940067556575176,
          0.994328796986259,
          0.9946336271508911,
          0.9949221562066797,
          0.9951952471128405,
          0.9954537180621744,
          0.9956983447069072,
          0.995929862284104
         ],
         "yaxis": "y2"
        }
       ],
       "layout": {
        "annotations": [
         {
          "font": {
           "size": 16
          },
          "showarrow": false,
          "text": "PDF comparison",
          "x": 0.225,
          "xanchor": "center",
          "xref": "paper",
          "y": 1,
          "yanchor": "bottom",
          "yref": "paper"
         },
         {
          "font": {
           "size": 16
          },
          "showarrow": false,
          "text": "CDF comparison",
          "x": 0.775,
          "xanchor": "center",
          "xref": "paper",
          "y": 1,
          "yanchor": "bottom",
          "yref": "paper"
         }
        ],
        "height": 350,
        "margin": {
         "b": 20,
         "l": 20,
         "r": 20,
         "t": 50
        },
        "template": {
         "data": {
          "bar": [
           {
            "error_x": {
             "color": "#2a3f5f"
            },
            "error_y": {
             "color": "#2a3f5f"
            },
            "marker": {
             "line": {
              "color": "#E5ECF6",
              "width": 0.5
             }
            },
            "type": "bar"
           }
          ],
          "barpolar": [
           {
            "marker": {
             "line": {
              "color": "#E5ECF6",
              "width": 0.5
             }
            },
            "type": "barpolar"
           }
          ],
          "carpet": [
           {
            "aaxis": {
             "endlinecolor": "#2a3f5f",
             "gridcolor": "white",
             "linecolor": "white",
             "minorgridcolor": "white",
             "startlinecolor": "#2a3f5f"
            },
            "baxis": {
             "endlinecolor": "#2a3f5f",
             "gridcolor": "white",
             "linecolor": "white",
             "minorgridcolor": "white",
             "startlinecolor": "#2a3f5f"
            },
            "type": "carpet"
           }
          ],
          "choropleth": [
           {
            "colorbar": {
             "outlinewidth": 0,
             "ticks": ""
            },
            "type": "choropleth"
           }
          ],
          "contour": [
           {
            "colorbar": {
             "outlinewidth": 0,
             "ticks": ""
            },
            "colorscale": [
             [
              0,
              "#0d0887"
             ],
             [
              0.1111111111111111,
              "#46039f"
             ],
             [
              0.2222222222222222,
              "#7201a8"
             ],
             [
              0.3333333333333333,
              "#9c179e"
             ],
             [
              0.4444444444444444,
              "#bd3786"
             ],
             [
              0.5555555555555556,
              "#d8576b"
             ],
             [
              0.6666666666666666,
              "#ed7953"
             ],
             [
              0.7777777777777778,
              "#fb9f3a"
             ],
             [
              0.8888888888888888,
              "#fdca26"
             ],
             [
              1,
              "#f0f921"
             ]
            ],
            "type": "contour"
           }
          ],
          "contourcarpet": [
           {
            "colorbar": {
             "outlinewidth": 0,
             "ticks": ""
            },
            "type": "contourcarpet"
           }
          ],
          "heatmap": [
           {
            "colorbar": {
             "outlinewidth": 0,
             "ticks": ""
            },
            "colorscale": [
             [
              0,
              "#0d0887"
             ],
             [
              0.1111111111111111,
              "#46039f"
             ],
             [
              0.2222222222222222,
              "#7201a8"
             ],
             [
              0.3333333333333333,
              "#9c179e"
             ],
             [
              0.4444444444444444,
              "#bd3786"
             ],
             [
              0.5555555555555556,
              "#d8576b"
             ],
             [
              0.6666666666666666,
              "#ed7953"
             ],
             [
              0.7777777777777778,
              "#fb9f3a"
             ],
             [
              0.8888888888888888,
              "#fdca26"
             ],
             [
              1,
              "#f0f921"
             ]
            ],
            "type": "heatmap"
           }
          ],
          "heatmapgl": [
           {
            "colorbar": {
             "outlinewidth": 0,
             "ticks": ""
            },
            "colorscale": [
             [
              0,
              "#0d0887"
             ],
             [
              0.1111111111111111,
              "#46039f"
             ],
             [
              0.2222222222222222,
              "#7201a8"
             ],
             [
              0.3333333333333333,
              "#9c179e"
             ],
             [
              0.4444444444444444,
              "#bd3786"
             ],
             [
              0.5555555555555556,
              "#d8576b"
             ],
             [
              0.6666666666666666,
              "#ed7953"
             ],
             [
              0.7777777777777778,
              "#fb9f3a"
             ],
             [
              0.8888888888888888,
              "#fdca26"
             ],
             [
              1,
              "#f0f921"
             ]
            ],
            "type": "heatmapgl"
           }
          ],
          "histogram": [
           {
            "marker": {
             "colorbar": {
              "outlinewidth": 0,
              "ticks": ""
             }
            },
            "type": "histogram"
           }
          ],
          "histogram2d": [
           {
            "colorbar": {
             "outlinewidth": 0,
             "ticks": ""
            },
            "colorscale": [
             [
              0,
              "#0d0887"
             ],
             [
              0.1111111111111111,
              "#46039f"
             ],
             [
              0.2222222222222222,
              "#7201a8"
             ],
             [
              0.3333333333333333,
              "#9c179e"
             ],
             [
              0.4444444444444444,
              "#bd3786"
             ],
             [
              0.5555555555555556,
              "#d8576b"
             ],
             [
              0.6666666666666666,
              "#ed7953"
             ],
             [
              0.7777777777777778,
              "#fb9f3a"
             ],
             [
              0.8888888888888888,
              "#fdca26"
             ],
             [
              1,
              "#f0f921"
             ]
            ],
            "type": "histogram2d"
           }
          ],
          "histogram2dcontour": [
           {
            "colorbar": {
             "outlinewidth": 0,
             "ticks": ""
            },
            "colorscale": [
             [
              0,
              "#0d0887"
             ],
             [
              0.1111111111111111,
              "#46039f"
             ],
             [
              0.2222222222222222,
              "#7201a8"
             ],
             [
              0.3333333333333333,
              "#9c179e"
             ],
             [
              0.4444444444444444,
              "#bd3786"
             ],
             [
              0.5555555555555556,
              "#d8576b"
             ],
             [
              0.6666666666666666,
              "#ed7953"
             ],
             [
              0.7777777777777778,
              "#fb9f3a"
             ],
             [
              0.8888888888888888,
              "#fdca26"
             ],
             [
              1,
              "#f0f921"
             ]
            ],
            "type": "histogram2dcontour"
           }
          ],
          "mesh3d": [
           {
            "colorbar": {
             "outlinewidth": 0,
             "ticks": ""
            },
            "type": "mesh3d"
           }
          ],
          "parcoords": [
           {
            "line": {
             "colorbar": {
              "outlinewidth": 0,
              "ticks": ""
             }
            },
            "type": "parcoords"
           }
          ],
          "pie": [
           {
            "automargin": true,
            "type": "pie"
           }
          ],
          "scatter": [
           {
            "marker": {
             "colorbar": {
              "outlinewidth": 0,
              "ticks": ""
             }
            },
            "type": "scatter"
           }
          ],
          "scatter3d": [
           {
            "line": {
             "colorbar": {
              "outlinewidth": 0,
              "ticks": ""
             }
            },
            "marker": {
             "colorbar": {
              "outlinewidth": 0,
              "ticks": ""
             }
            },
            "type": "scatter3d"
           }
          ],
          "scattercarpet": [
           {
            "marker": {
             "colorbar": {
              "outlinewidth": 0,
              "ticks": ""
             }
            },
            "type": "scattercarpet"
           }
          ],
          "scattergeo": [
           {
            "marker": {
             "colorbar": {
              "outlinewidth": 0,
              "ticks": ""
             }
            },
            "type": "scattergeo"
           }
          ],
          "scattergl": [
           {
            "marker": {
             "colorbar": {
              "outlinewidth": 0,
              "ticks": ""
             }
            },
            "type": "scattergl"
           }
          ],
          "scattermapbox": [
           {
            "marker": {
             "colorbar": {
              "outlinewidth": 0,
              "ticks": ""
             }
            },
            "type": "scattermapbox"
           }
          ],
          "scatterpolar": [
           {
            "marker": {
             "colorbar": {
              "outlinewidth": 0,
              "ticks": ""
             }
            },
            "type": "scatterpolar"
           }
          ],
          "scatterpolargl": [
           {
            "marker": {
             "colorbar": {
              "outlinewidth": 0,
              "ticks": ""
             }
            },
            "type": "scatterpolargl"
           }
          ],
          "scatterternary": [
           {
            "marker": {
             "colorbar": {
              "outlinewidth": 0,
              "ticks": ""
             }
            },
            "type": "scatterternary"
           }
          ],
          "surface": [
           {
            "colorbar": {
             "outlinewidth": 0,
             "ticks": ""
            },
            "colorscale": [
             [
              0,
              "#0d0887"
             ],
             [
              0.1111111111111111,
              "#46039f"
             ],
             [
              0.2222222222222222,
              "#7201a8"
             ],
             [
              0.3333333333333333,
              "#9c179e"
             ],
             [
              0.4444444444444444,
              "#bd3786"
             ],
             [
              0.5555555555555556,
              "#d8576b"
             ],
             [
              0.6666666666666666,
              "#ed7953"
             ],
             [
              0.7777777777777778,
              "#fb9f3a"
             ],
             [
              0.8888888888888888,
              "#fdca26"
             ],
             [
              1,
              "#f0f921"
             ]
            ],
            "type": "surface"
           }
          ],
          "table": [
           {
            "cells": {
             "fill": {
              "color": "#EBF0F8"
             },
             "line": {
              "color": "white"
             }
            },
            "header": {
             "fill": {
              "color": "#C8D4E3"
             },
             "line": {
              "color": "white"
             }
            },
            "type": "table"
           }
          ]
         },
         "layout": {
          "annotationdefaults": {
           "arrowcolor": "#2a3f5f",
           "arrowhead": 0,
           "arrowwidth": 1
          },
          "coloraxis": {
           "colorbar": {
            "outlinewidth": 0,
            "ticks": ""
           }
          },
          "colorscale": {
           "diverging": [
            [
             0,
             "#8e0152"
            ],
            [
             0.1,
             "#c51b7d"
            ],
            [
             0.2,
             "#de77ae"
            ],
            [
             0.3,
             "#f1b6da"
            ],
            [
             0.4,
             "#fde0ef"
            ],
            [
             0.5,
             "#f7f7f7"
            ],
            [
             0.6,
             "#e6f5d0"
            ],
            [
             0.7,
             "#b8e186"
            ],
            [
             0.8,
             "#7fbc41"
            ],
            [
             0.9,
             "#4d9221"
            ],
            [
             1,
             "#276419"
            ]
           ],
           "sequential": [
            [
             0,
             "#0d0887"
            ],
            [
             0.1111111111111111,
             "#46039f"
            ],
            [
             0.2222222222222222,
             "#7201a8"
            ],
            [
             0.3333333333333333,
             "#9c179e"
            ],
            [
             0.4444444444444444,
             "#bd3786"
            ],
            [
             0.5555555555555556,
             "#d8576b"
            ],
            [
             0.6666666666666666,
             "#ed7953"
            ],
            [
             0.7777777777777778,
             "#fb9f3a"
            ],
            [
             0.8888888888888888,
             "#fdca26"
            ],
            [
             1,
             "#f0f921"
            ]
           ],
           "sequentialminus": [
            [
             0,
             "#0d0887"
            ],
            [
             0.1111111111111111,
             "#46039f"
            ],
            [
             0.2222222222222222,
             "#7201a8"
            ],
            [
             0.3333333333333333,
             "#9c179e"
            ],
            [
             0.4444444444444444,
             "#bd3786"
            ],
            [
             0.5555555555555556,
             "#d8576b"
            ],
            [
             0.6666666666666666,
             "#ed7953"
            ],
            [
             0.7777777777777778,
             "#fb9f3a"
            ],
            [
             0.8888888888888888,
             "#fdca26"
            ],
            [
             1,
             "#f0f921"
            ]
           ]
          },
          "colorway": [
           "#636efa",
           "#EF553B",
           "#00cc96",
           "#ab63fa",
           "#FFA15A",
           "#19d3f3",
           "#FF6692",
           "#B6E880",
           "#FF97FF",
           "#FECB52"
          ],
          "font": {
           "color": "#2a3f5f"
          },
          "geo": {
           "bgcolor": "white",
           "lakecolor": "white",
           "landcolor": "#E5ECF6",
           "showlakes": true,
           "showland": true,
           "subunitcolor": "white"
          },
          "hoverlabel": {
           "align": "left"
          },
          "hovermode": "closest",
          "mapbox": {
           "style": "light"
          },
          "paper_bgcolor": "white",
          "plot_bgcolor": "#E5ECF6",
          "polar": {
           "angularaxis": {
            "gridcolor": "white",
            "linecolor": "white",
            "ticks": ""
           },
           "bgcolor": "#E5ECF6",
           "radialaxis": {
            "gridcolor": "white",
            "linecolor": "white",
            "ticks": ""
           }
          },
          "scene": {
           "xaxis": {
            "backgroundcolor": "#E5ECF6",
            "gridcolor": "white",
            "gridwidth": 2,
            "linecolor": "white",
            "showbackground": true,
            "ticks": "",
            "zerolinecolor": "white"
           },
           "yaxis": {
            "backgroundcolor": "#E5ECF6",
            "gridcolor": "white",
            "gridwidth": 2,
            "linecolor": "white",
            "showbackground": true,
            "ticks": "",
            "zerolinecolor": "white"
           },
           "zaxis": {
            "backgroundcolor": "#E5ECF6",
            "gridcolor": "white",
            "gridwidth": 2,
            "linecolor": "white",
            "showbackground": true,
            "ticks": "",
            "zerolinecolor": "white"
           }
          },
          "shapedefaults": {
           "line": {
            "color": "#2a3f5f"
           }
          },
          "ternary": {
           "aaxis": {
            "gridcolor": "white",
            "linecolor": "white",
            "ticks": ""
           },
           "baxis": {
            "gridcolor": "white",
            "linecolor": "white",
            "ticks": ""
           },
           "bgcolor": "#E5ECF6",
           "caxis": {
            "gridcolor": "white",
            "linecolor": "white",
            "ticks": ""
           }
          },
          "title": {
           "x": 0.05
          },
          "xaxis": {
           "automargin": true,
           "gridcolor": "white",
           "linecolor": "white",
           "ticks": "",
           "title": {
            "standoff": 15
           },
           "zerolinecolor": "white",
           "zerolinewidth": 2
          },
          "yaxis": {
           "automargin": true,
           "gridcolor": "white",
           "linecolor": "white",
           "ticks": "",
           "title": {
            "standoff": 15
           },
           "zerolinecolor": "white",
           "zerolinewidth": 2
          }
         }
        },
        "xaxis": {
         "anchor": "y",
         "domain": [
          0,
          0.45
         ],
         "linecolor": "black",
         "linewidth": 1.5,
         "mirror": true,
         "showline": true,
         "title": {
          "text": "Days"
         }
        },
        "xaxis2": {
         "anchor": "y2",
         "domain": [
          0.55,
          1
         ],
         "linecolor": "black",
         "linewidth": 1.5,
         "mirror": true,
         "showline": true,
         "title": {
          "text": "Days"
         }
        },
        "yaxis": {
         "anchor": "x",
         "domain": [
          0,
          1
         ],
         "linecolor": "black",
         "linewidth": 1.5,
         "mirror": true,
         "showline": true,
         "title": {
          "text": "Probability density"
         }
        },
        "yaxis2": {
         "anchor": "x2",
         "domain": [
          0,
          1
         ],
         "linecolor": "black",
         "linewidth": 1.5,
         "mirror": true,
         "showline": true,
         "title": {
          "text": "Probability"
         }
        }
       }
      },
      "text/html": [
       "<div>\n",
       "        \n",
       "        \n",
       "            <div id=\"64a34d56-1f04-4e9f-b8e9-1b6c0185f778\" class=\"plotly-graph-div\" style=\"height:350px; width:100%;\"></div>\n",
       "            <script type=\"text/javascript\">\n",
       "                require([\"plotly\"], function(Plotly) {\n",
       "                    window.PLOTLYENV=window.PLOTLYENV || {};\n",
       "                    \n",
       "                if (document.getElementById(\"64a34d56-1f04-4e9f-b8e9-1b6c0185f778\")) {\n",
       "                    Plotly.newPlot(\n",
       "                        '64a34d56-1f04-4e9f-b8e9-1b6c0185f778',\n",
       "                        [{\"line\": {\"color\": \"rgb(31, 119, 180)\"}, \"mode\": \"lines\", \"name\": \"Normal\", \"showlegend\": true, \"type\": \"scatter\", \"x\": [0.0, 0.1, 0.2, 0.30000000000000004, 0.4, 0.5, 0.6000000000000001, 0.7000000000000001, 0.8, 0.9, 1.0, 1.1, 1.2000000000000002, 1.3, 1.4000000000000001, 1.5, 1.6, 1.7000000000000002, 1.8, 1.9000000000000001, 2.0, 2.1, 2.2, 2.3000000000000003, 2.4000000000000004, 2.5, 2.6, 2.7, 2.8000000000000003, 2.9000000000000004, 3.0, 3.1, 3.2, 3.3000000000000003, 3.4000000000000004, 3.5, 3.6, 3.7, 3.8000000000000003, 3.9000000000000004, 4.0, 4.1000000000000005, 4.2, 4.3, 4.4, 4.5, 4.6000000000000005, 4.7, 4.800000000000001, 4.9, 5.0, 5.1000000000000005, 5.2, 5.300000000000001, 5.4, 5.5, 5.6000000000000005, 5.7, 5.800000000000001, 5.9, 6.0, 6.1000000000000005, 6.2, 6.300000000000001, 6.4, 6.5, 6.6000000000000005, 6.7, 6.800000000000001, 6.9, 7.0, 7.1000000000000005, 7.2, 7.300000000000001, 7.4, 7.5, 7.6000000000000005, 7.7, 7.800000000000001, 7.9, 8.0, 8.1, 8.200000000000001, 8.3, 8.4, 8.5, 8.6, 8.700000000000001, 8.8, 8.9, 9.0, 9.1, 9.200000000000001, 9.3, 9.4, 9.5, 9.600000000000001, 9.700000000000001, 9.8, 9.9, 10.0, 10.100000000000001, 10.200000000000001, 10.3, 10.4, 10.5, 10.600000000000001, 10.700000000000001, 10.8, 10.9, 11.0, 11.100000000000001, 11.200000000000001, 11.3, 11.4, 11.5, 11.600000000000001, 11.700000000000001, 11.8, 11.9, 12.0, 12.100000000000001, 12.200000000000001, 12.3, 12.4, 12.5, 12.600000000000001, 12.700000000000001, 12.8, 12.9, 13.0, 13.100000000000001, 13.200000000000001, 13.3, 13.4, 13.5, 13.600000000000001, 13.700000000000001, 13.8, 13.9, 14.0, 14.100000000000001, 14.200000000000001, 14.3, 14.4, 14.5, 14.600000000000001, 14.700000000000001, 14.8, 14.9, 15.0, 15.100000000000001, 15.200000000000001, 15.3, 15.4, 15.5, 15.600000000000001, 15.700000000000001, 15.8, 15.9, 16.0, 16.1, 16.2, 16.3, 16.400000000000002, 16.5, 16.6, 16.7, 16.8, 16.900000000000002, 17.0, 17.1, 17.2, 17.3, 17.400000000000002, 17.5, 17.6, 17.7, 17.8, 17.900000000000002, 18.0, 18.1, 18.2, 18.3, 18.400000000000002, 18.5, 18.6, 18.7, 18.8, 18.900000000000002, 19.0, 19.1, 19.200000000000003, 19.3, 19.400000000000002, 19.5, 19.6, 19.700000000000003, 19.8, 19.900000000000002], \"xaxis\": \"x\", \"y\": [0.0005140929987637018, 0.0005741896463512261, 0.0006405993231173357, 0.0007138961573442565, 0.0007946960671549483, 0.0008836586514767019, 0.0009814890401277866, 0.0010889396853999728, 0.00120681207600643, 0.001335958352772115, 0.001477282803979336, 0.0016317432168629776, 0.0018003520603981236, 0.001984177473258618, 0.0021843440296711743, 0.0024020332548697412, 0.0026384838609933192, 0.0028949916735929652, 0.003172909218445733, 0.0034736449381408685, 0.003798662007932481, 0.004149476720668069, 0.004527656411228538, 0.004934816891875435, 0.005372619371216331, 0.005842766831189513, 0.006346999838550089, 0.006887091769826073, 0.0074648434316142995, 0.00808207706140912, 0.00874062969790316, 0.009442345913867055, 0.010189069909295164, 0.010982636967484772, 0.011824864282077152, 0.012717541168805994, 0.01366241868174073, 0.0146611986601424, 0.01571552223862387, 0.0168269578600759, 0.017996988837729353, 0.01922700051971094, 0.02051826711644909, 0.02187193825822553, 0.023289025356971735, 0.0247703878529977, 0.026316719433631397, 0.027928534316654915, 0.029606153696863965, 0.03134969245896232, 0.03315904626424956, 0.0350338791220834, 0.036973611559818535, 0.038977409506766855, 0.04104417400861653, 0.04317253188863058, 0.04536082747075937, 0.04760711547750344, 0.04990915521191499, 0.05226440612850288, 0.05467002489199788, 0.057122864015935804, 0.05961947216484686, 0.06215609619452194, 0.06472868499440433, 0.06733289518468628, 0.06996409870824144, 0.07261739234418353, 0.07528760915570819, 0.07796933187005435, 0.08065690817304778, 0.08334446788488616, 0.08602594196774592, 0.08869508329958496, 0.09134548913234282, 0.09397062513676752, 0.09656385092049428, 0.0991184468909342, 0.1016276423201724, 0.10408464445558711, 0.10648266850745075, 0.10881496833350866, 0.11107486763059991, 0.11325579143491937, 0.115351297725641, 0.11735510892143318, 0.11926114305598966, 0.12106354441713936, 0.12275671343444113, 0.12433533560244286, 0.12579440923099774, 0.1271292718201747, 0.12833562486533798, 0.12940955690784897, 0.13034756465848532, 0.13114657203397997, 0.13180394696193923, 0.1323175158256706, 0.1326855754379841, 0.132906902451659, 0.1329807601338109, 0.132906902451659, 0.13268557543798407, 0.1323175158256706, 0.13180394696193923, 0.13114657203397997, 0.1303475646584853, 0.12940955690784894, 0.12833562486533798, 0.1271292718201747, 0.12579440923099774, 0.12433533560244282, 0.1227567134344411, 0.12106354441713933, 0.11926114305598966, 0.11735510892143318, 0.11535129772564094, 0.11325579143491933, 0.11107486763059987, 0.10881496833350866, 0.10648266850745075, 0.10408464445558707, 0.10162764232017236, 0.09911844689093417, 0.09656385092049424, 0.09397062513676752, 0.09134548913234279, 0.08869508329958492, 0.08602594196774588, 0.08334446788488616, 0.08065690817304778, 0.0779693318700543, 0.07528760915570813, 0.0726173923441835, 0.0699640987082414, 0.06733289518468628, 0.06472868499440429, 0.0621560961945219, 0.05961947216484684, 0.05712286401593578, 0.05467002489199788, 0.052264406128502826, 0.049909155211914934, 0.047607115477503424, 0.04536082747075935, 0.04317253188863058, 0.04104417400861649, 0.03897740950676681, 0.03697361155981851, 0.03503387912208338, 0.03315904626424956, 0.03134969245896229, 0.02960615369686394, 0.0279285343166549, 0.026316719433631383, 0.0247703878529977, 0.02328902535697171, 0.021871938258225518, 0.020518267116449083, 0.01922700051971093, 0.017996988837729353, 0.016826957860075886, 0.01571552223862387, 0.0146611986601424, 0.013662418681740708, 0.012717541168805994, 0.01182486428207713, 0.010982636967484772, 0.010189069909295148, 0.00944234591386704, 0.00874062969790316, 0.00808207706140911, 0.0074648434316142995, 0.006887091769826068, 0.0063469998385500825, 0.005842766831189513, 0.005372619371216326, 0.004934816891875435, 0.004527656411228538, 0.004149476720668058, 0.003798662007932481, 0.0034736449381408594, 0.003172909218445733, 0.0028949916735929652, 0.0026384838609933153, 0.0024020332548697412, 0.002184344029671172, 0.001984177473258618, 0.0018003520603981236, 0.0016317432168629759, 0.001477282803979336, 0.0013359583527721138, 0.0012068120760064258, 0.0010889396853999728, 0.0009814890401277838, 0.0008836586514767019, 0.0007946960671549461, 0.0007138961573442542, 0.0006405993231173357, 0.0005741896463512256], \"yaxis\": \"y\"}, {\"line\": {\"color\": \"rgb(255, 127, 14)\", \"dash\": \"dash\"}, \"mode\": \"lines\", \"name\": \"Logistic\", \"showlegend\": true, \"type\": \"scatter\", \"x\": [0.0, 0.1, 0.2, 0.30000000000000004, 0.4, 0.5, 0.6000000000000001, 0.7000000000000001, 0.8, 0.9, 1.0, 1.1, 1.2000000000000002, 1.3, 1.4000000000000001, 1.5, 1.6, 1.7000000000000002, 1.8, 1.9000000000000001, 2.0, 2.1, 2.2, 2.3000000000000003, 2.4000000000000004, 2.5, 2.6, 2.7, 2.8000000000000003, 2.9000000000000004, 3.0, 3.1, 3.2, 3.3000000000000003, 3.4000000000000004, 3.5, 3.6, 3.7, 3.8000000000000003, 3.9000000000000004, 4.0, 4.1000000000000005, 4.2, 4.3, 4.4, 4.5, 4.6000000000000005, 4.7, 4.800000000000001, 4.9, 5.0, 5.1000000000000005, 5.2, 5.300000000000001, 5.4, 5.5, 5.6000000000000005, 5.7, 5.800000000000001, 5.9, 6.0, 6.1000000000000005, 6.2, 6.300000000000001, 6.4, 6.5, 6.6000000000000005, 6.7, 6.800000000000001, 6.9, 7.0, 7.1000000000000005, 7.2, 7.300000000000001, 7.4, 7.5, 7.6000000000000005, 7.7, 7.800000000000001, 7.9, 8.0, 8.1, 8.200000000000001, 8.3, 8.4, 8.5, 8.6, 8.700000000000001, 8.8, 8.9, 9.0, 9.1, 9.200000000000001, 9.3, 9.4, 9.5, 9.600000000000001, 9.700000000000001, 9.8, 9.9, 10.0, 10.100000000000001, 10.200000000000001, 10.3, 10.4, 10.5, 10.600000000000001, 10.700000000000001, 10.8, 10.9, 11.0, 11.100000000000001, 11.200000000000001, 11.3, 11.4, 11.5, 11.600000000000001, 11.700000000000001, 11.8, 11.9, 12.0, 12.100000000000001, 12.200000000000001, 12.3, 12.4, 12.5, 12.600000000000001, 12.700000000000001, 12.8, 12.9, 13.0, 13.100000000000001, 13.200000000000001, 13.3, 13.4, 13.5, 13.600000000000001, 13.700000000000001, 13.8, 13.9, 14.0, 14.100000000000001, 14.200000000000001, 14.3, 14.4, 14.5, 14.600000000000001, 14.700000000000001, 14.8, 14.9, 15.0, 15.100000000000001, 15.200000000000001, 15.3, 15.4, 15.5, 15.600000000000001, 15.700000000000001, 15.8, 15.9, 16.0, 16.1, 16.2, 16.3, 16.400000000000002, 16.5, 16.6, 16.7, 16.8, 16.900000000000002, 17.0, 17.1, 17.2, 17.3, 17.400000000000002, 17.5, 17.6, 17.7, 17.8, 17.900000000000002, 18.0, 18.1, 18.2, 18.3, 18.400000000000002, 18.5, 18.6, 18.7, 18.8, 18.900000000000002, 19.0, 19.1, 19.200000000000003, 19.3, 19.400000000000002, 19.5, 19.6, 19.700000000000003, 19.8, 19.900000000000002], \"xaxis\": \"x\", \"y\": [0.0021312232809576857, 0.0022519842749276504, 0.002379528363795724, 0.0025142295879818834, 0.002656481798251586, 0.0028066996087394197, 0.002965319384196185, 0.0031328002611765633, 0.003309625202629778, 0.0034963020850622326, 0.00369336481710564, 0.003901374487940635, 0.004120920543590776, 0.004352621988608721, 0.004597128610119491, 0.004855122220559722, 0.005127317914748747, 0.005414465336141265, 0.005717349946234288, 0.006036794290125128, 0.006373659250135105, 0.0067288452782154505, 0.0071032935965313175, 0.00749798735416601, 0.007913952726293768, 0.008352259940426337, 0.00881402421243895, 0.00930040657301803, 0.009812614562939515, 0.01035190277317884, 0.010919573203268449, 0.01151697540855541, 0.012145506404072859, 0.012806610289630238, 0.013501777557459266, 0.014232544040340467, 0.015000489454600401, 0.01580723548874198, 0.016654443384786423, 0.017543810955712707, 0.01847706897873756, 0.019455976900656795, 0.020482317788152665, 0.021557892452963197, 0.022684512679225343, 0.023863993478283198, 0.025098144294951195, 0.026388759088818083, 0.027737605214873527, 0.029146411029752076, 0.030616852153469293, 0.0321505363219291, 0.03374898677299729, 0.035413624118855146, 0.037145746669977414, 0.03894650919172675, 0.04081690009352158, 0.04275771707310442, 0.04476954126485906, 0.0468527099716084, 0.04900728809400823, 0.051233038410589765, 0.053529390904638395, 0.055895411381239275, 0.058329769668614764, 0.0608307077517912, 0.0633960082428998, 0.06602296365005374, 0.06870834696450212, 0.07144838414212037, 0.0742387291084733, 0.07707444196462315, 0.07994997111125711, 0.08285914003907384, 0.08579513955105027, 0.08875052618449036, 0.09171722758494652, 0.09468655554766303, 0.09764922738286473, 0.10059539617718272, 0.10351469041356559, 0.10639626327570832, 0.10922885180082328, 0.11200084585799683, 0.1147003667211307, 0.1173153547794672, 0.11983366569011848, 0.12224317403219641, 0.12453188327846036, 0.12668804066609785, 0.1287002553321096, 0.13055761788977474, 0.13224981946960074, 0.1337672681391509, 0.13510120055820596, 0.1362437867243411, 0.13718822572271352, 0.13792883051395652, 0.13846109997438294, 0.13878177663949587, 0.1388888888888889, 0.1387817766394958, 0.138461099974383, 0.13792883051395652, 0.13718822572271347, 0.1362437867243411, 0.13510120055820593, 0.13376726813915085, 0.13224981946960077, 0.1305576178897747, 0.12870025533210958, 0.1266880406660978, 0.12453188327846029, 0.12224317403219634, 0.11983366569011845, 0.1173153547794672, 0.11470036672113068, 0.11200084585799674, 0.10922885180082323, 0.10639626327570832, 0.10351469041356554, 0.10059539617718266, 0.0976492273828647, 0.09468655554766302, 0.09171722758494649, 0.08875052618449036, 0.0857951395510502, 0.08285914003907378, 0.07994997111125708, 0.07707444196462312, 0.0742387291084733, 0.07144838414212033, 0.06870834696450205, 0.06602296365005371, 0.0633960082428998, 0.0608307077517912, 0.05832976966861469, 0.05589541138123922, 0.053529390904638374, 0.05123303841058972, 0.04900728809400821, 0.04685270997160836, 0.04476954126485903, 0.04275771707310438, 0.04081690009352155, 0.03894650919172675, 0.0371457466699774, 0.0354136241188551, 0.03374898677299727, 0.03215053632192909, 0.030616852153469275, 0.02914641102975205, 0.027737605214873503, 0.026388759088818083, 0.025098144294951184, 0.023863993478283208, 0.022684512679225326, 0.02155789245296319, 0.020482317788152658, 0.01945597690065679, 0.01847706897873756, 0.01754381095571268, 0.016654443384786423, 0.015807235488741973, 0.015000489454600387, 0.014232544040340467, 0.013501777557459252, 0.012806610289630238, 0.012145506404072859, 0.0115169754085554, 0.010919573203268449, 0.010351902773178831, 0.009812614562939515, 0.009300406573018012, 0.008814024212438933, 0.008352259940426337, 0.007913952726293763, 0.007497987354166003, 0.0071032935965313045, 0.006728845278215438, 0.006373659250135105, 0.006036794290125123, 0.005717349946234288, 0.0054144653361412705, 0.005127317914748747, 0.0048551222205597275, 0.004597128610119491, 0.004352621988608725, 0.004120920543590776, 0.003901374487940628, 0.00369336481710564, 0.003496302085062229, 0.003309625202629769, 0.0031328002611765663, 0.0029653193841961824, 0.0028066996087394197, 0.002656481798251581, 0.002514229587981879, 0.0023795283637957263, 0.0022519842749276465], \"yaxis\": \"y\"}, {\"line\": {\"color\": \"rgb(31, 119, 180)\"}, \"mode\": \"lines\", \"name\": \"Normal\", \"showlegend\": false, \"type\": \"scatter\", \"x\": [0.0, 0.1, 0.2, 0.30000000000000004, 0.4, 0.5, 0.6000000000000001, 0.7000000000000001, 0.8, 0.9, 1.0, 1.1, 1.2000000000000002, 1.3, 1.4000000000000001, 1.5, 1.6, 1.7000000000000002, 1.8, 1.9000000000000001, 2.0, 2.1, 2.2, 2.3000000000000003, 2.4000000000000004, 2.5, 2.6, 2.7, 2.8000000000000003, 2.9000000000000004, 3.0, 3.1, 3.2, 3.3000000000000003, 3.4000000000000004, 3.5, 3.6, 3.7, 3.8000000000000003, 3.9000000000000004, 4.0, 4.1000000000000005, 4.2, 4.3, 4.4, 4.5, 4.6000000000000005, 4.7, 4.800000000000001, 4.9, 5.0, 5.1000000000000005, 5.2, 5.300000000000001, 5.4, 5.5, 5.6000000000000005, 5.7, 5.800000000000001, 5.9, 6.0, 6.1000000000000005, 6.2, 6.300000000000001, 6.4, 6.5, 6.6000000000000005, 6.7, 6.800000000000001, 6.9, 7.0, 7.1000000000000005, 7.2, 7.300000000000001, 7.4, 7.5, 7.6000000000000005, 7.7, 7.800000000000001, 7.9, 8.0, 8.1, 8.200000000000001, 8.3, 8.4, 8.5, 8.6, 8.700000000000001, 8.8, 8.9, 9.0, 9.1, 9.200000000000001, 9.3, 9.4, 9.5, 9.600000000000001, 9.700000000000001, 9.8, 9.9, 10.0, 10.100000000000001, 10.200000000000001, 10.3, 10.4, 10.5, 10.600000000000001, 10.700000000000001, 10.8, 10.9, 11.0, 11.100000000000001, 11.200000000000001, 11.3, 11.4, 11.5, 11.600000000000001, 11.700000000000001, 11.8, 11.9, 12.0, 12.100000000000001, 12.200000000000001, 12.3, 12.4, 12.5, 12.600000000000001, 12.700000000000001, 12.8, 12.9, 13.0, 13.100000000000001, 13.200000000000001, 13.3, 13.4, 13.5, 13.600000000000001, 13.700000000000001, 13.8, 13.9, 14.0, 14.100000000000001, 14.200000000000001, 14.3, 14.4, 14.5, 14.600000000000001, 14.700000000000001, 14.8, 14.9, 15.0, 15.100000000000001, 15.200000000000001, 15.3, 15.4, 15.5, 15.600000000000001, 15.700000000000001, 15.8, 15.9, 16.0, 16.1, 16.2, 16.3, 16.400000000000002, 16.5, 16.6, 16.7, 16.8, 16.900000000000002, 17.0, 17.1, 17.2, 17.3, 17.400000000000002, 17.5, 17.6, 17.7, 17.8, 17.900000000000002, 18.0, 18.1, 18.2, 18.3, 18.400000000000002, 18.5, 18.6, 18.7, 18.8, 18.900000000000002, 19.0, 19.1, 19.200000000000003, 19.3, 19.400000000000002, 19.5, 19.6, 19.700000000000003, 19.8, 19.900000000000002], \"xaxis\": \"x2\", \"y\": [0.0004290603331968372, 0.00048342414238377663, 0.0005441086524671406, 0.0006117735324862054, 0.0006871379379158483, 0.0007709847844699757, 0.0008641652090980683, 0.0009676032132183563, 0.0010823004813931916, 0.00120934136666433, 0.0013498980316300933, 0.001505235732066175, 0.0016767182274731592, 0.0018658133003840375, 0.00207409836359409, 0.0023032661316958825, 0.002555130330427929, 0.0028316314143945224, 0.003134842260705495, 0.0034669738030406686, 0.0038303805675897365, 0.004227566069280537, 0.004661188023718747, 0.005134063327350345, 0.0056491727555606375, 0.006209665325776132, 0.006818862270176098, 0.007480260560390131, 0.008197535924596131, 0.00897454529578302, 0.009815328628645334, 0.010724110021675795, 0.011705298080558346, 0.012763485458978336, 0.013903447513498616, 0.015130140010235814, 0.01644869582274533, 0.017864420562816542, 0.019382787088818604, 0.02100942883984279, 0.022750131948179195, 0.0246108260876501, 0.026597574021009627, 0.028716559816001783, 0.0309740757067406, 0.03337650758481726, 0.03593031911292581, 0.03864203446279496, 0.04151821968877912, 0.04456546275854304, 0.0477903522728147, 0.05119945491710787, 0.054799291699558, 0.0585963130404857, 0.06259687279090685, 0.06680720126885807, 0.07123337741398612, 0.0758813001722581, 0.08075665923377112, 0.0858649052573559, 0.09121121972586788, 0.09680048458561041, 0.10263725183213579, 0.10872571321259117, 0.11506967022170822, 0.12167250457438122, 0.12853714934241506, 0.13566606094638267, 0.1430611921955091, 0.1507239665690247, 0.15865525393145707, 0.16685534787178308, 0.17532394485222952, 0.18406012534675953, 0.19306233714190696, 0.20232838096364308, 0.21185539858339675, 0.22163986354425458, 0.23167757463479832, 0.24196365222307303, 0.2524925375469229, 0.2632579950394782, 0.27425311775007366, 0.2854703359014441, 0.29690142860385127, 0.3085375387259869, 0.32036919090127036, 0.3323863126266752, 0.34457825838967593, 0.3569338367374987, 0.36944134018176367, 0.3820885778110473, 0.3948629104640253, 0.4077512882968954, 0.420740290560897, 0.43381616738909634, 0.4469648833763862, 0.4601721627229712, 0.47342353569963497, 0.48670438618290796, 0.5, 0.5132956138170923, 0.5265764643003652, 0.5398278372770291, 0.553035116623614, 0.5661838326109037, 0.5792597094391032, 0.5922487117031049, 0.6051370895359749, 0.6179114221889527, 0.6305586598182363, 0.6430661632625017, 0.6554217416103243, 0.667613687373325, 0.6796308090987296, 0.6914624612740131, 0.703098571396149, 0.7145296640985561, 0.7257468822499265, 0.7367420049605218, 0.7475074624530771, 0.7580363477769272, 0.7683224253652019, 0.7783601364557455, 0.7881446014166034, 0.7976716190363569, 0.8069376628580933, 0.8159398746532407, 0.8246760551477705, 0.833144652128217, 0.8413447460685429, 0.8492760334309755, 0.856938807804491, 0.8643339390536173, 0.871462850657585, 0.8783274954256188, 0.8849303297782918, 0.8912742867874089, 0.8973627481678642, 0.9031995154143897, 0.9087887802741321, 0.9141350947426441, 0.919243340766229, 0.924118699827742, 0.9287666225860138, 0.9331927987311419, 0.9374031272090932, 0.9414036869595144, 0.945200708300442, 0.9488005450828922, 0.9522096477271853, 0.955434537241457, 0.9584817803112209, 0.9613579655372051, 0.9640696808870742, 0.9666234924151828, 0.9690259242932594, 0.9712834401839983, 0.9734024259789904, 0.9753891739123499, 0.9772498680518208, 0.9789905711601572, 0.9806172129111814, 0.9821355794371834, 0.9835513041772547, 0.9848698599897642, 0.9860965524865014, 0.9872365145410217, 0.9882947019194417, 0.9892758899783243, 0.9901846713713547, 0.991025454704217, 0.9918024640754038, 0.9925197394396099, 0.9931811377298239, 0.9937903346742238, 0.9943508272444394, 0.9948659366726497, 0.9953388119762813, 0.9957724339307195, 0.9961696194324102, 0.9965330261969594, 0.9968651577392945, 0.9971683685856054, 0.997444869669572, 0.9976967338683042, 0.9979259016364059, 0.998134186699616, 0.9983232817725268, 0.9984947642679338, 0.9986501019683699, 0.9987906586333357, 0.9989176995186068, 0.9990323967867817, 0.999135834790902, 0.99922901521553, 0.9993128620620841, 0.9993882264675138, 0.9994558913475329, 0.9995165758576162], \"yaxis\": \"y2\"}, {\"line\": {\"color\": \"rgb(255, 127, 14)\", \"dash\": \"dash\"}, \"mode\": \"lines\", \"name\": \"Logistic\", \"showlegend\": false, \"type\": \"scatter\", \"x\": [0.0, 0.1, 0.2, 0.30000000000000004, 0.4, 0.5, 0.6000000000000001, 0.7000000000000001, 0.8, 0.9, 1.0, 1.1, 1.2000000000000002, 1.3, 1.4000000000000001, 1.5, 1.6, 1.7000000000000002, 1.8, 1.9000000000000001, 2.0, 2.1, 2.2, 2.3000000000000003, 2.4000000000000004, 2.5, 2.6, 2.7, 2.8000000000000003, 2.9000000000000004, 3.0, 3.1, 3.2, 3.3000000000000003, 3.4000000000000004, 3.5, 3.6, 3.7, 3.8000000000000003, 3.9000000000000004, 4.0, 4.1000000000000005, 4.2, 4.3, 4.4, 4.5, 4.6000000000000005, 4.7, 4.800000000000001, 4.9, 5.0, 5.1000000000000005, 5.2, 5.300000000000001, 5.4, 5.5, 5.6000000000000005, 5.7, 5.800000000000001, 5.9, 6.0, 6.1000000000000005, 6.2, 6.300000000000001, 6.4, 6.5, 6.6000000000000005, 6.7, 6.800000000000001, 6.9, 7.0, 7.1000000000000005, 7.2, 7.300000000000001, 7.4, 7.5, 7.6000000000000005, 7.7, 7.800000000000001, 7.9, 8.0, 8.1, 8.200000000000001, 8.3, 8.4, 8.5, 8.6, 8.700000000000001, 8.8, 8.9, 9.0, 9.1, 9.200000000000001, 9.3, 9.4, 9.5, 9.600000000000001, 9.700000000000001, 9.8, 9.9, 10.0, 10.100000000000001, 10.200000000000001, 10.3, 10.4, 10.5, 10.600000000000001, 10.700000000000001, 10.8, 10.9, 11.0, 11.100000000000001, 11.200000000000001, 11.3, 11.4, 11.5, 11.600000000000001, 11.700000000000001, 11.8, 11.9, 12.0, 12.100000000000001, 12.200000000000001, 12.3, 12.4, 12.5, 12.600000000000001, 12.700000000000001, 12.8, 12.9, 13.0, 13.100000000000001, 13.200000000000001, 13.3, 13.4, 13.5, 13.600000000000001, 13.700000000000001, 13.8, 13.9, 14.0, 14.100000000000001, 14.200000000000001, 14.3, 14.4, 14.5, 14.600000000000001, 14.700000000000001, 14.8, 14.9, 15.0, 15.100000000000001, 15.200000000000001, 15.3, 15.4, 15.5, 15.600000000000001, 15.700000000000001, 15.8, 15.9, 16.0, 16.1, 16.2, 16.3, 16.400000000000002, 16.5, 16.6, 16.7, 16.8, 16.900000000000002, 17.0, 17.1, 17.2, 17.3, 17.400000000000002, 17.5, 17.6, 17.7, 17.8, 17.900000000000002, 18.0, 18.1, 18.2, 18.3, 18.400000000000002, 18.5, 18.6, 18.7, 18.8, 18.900000000000002, 19.0, 19.1, 19.200000000000003, 19.3, 19.400000000000002, 19.5, 19.6, 19.700000000000003, 19.8, 19.900000000000002], \"xaxis\": \"x2\", \"y\": [0.003851032355930255, 0.004070137715896128, 0.0043016552930929, 0.004546281937825588, 0.004804752887159518, 0.005077843793320317, 0.0053663728491087845, 0.005671203013740883, 0.005993244342482293, 0.006333456423378857, 0.0066928509242848554, 0.007072494253255469, 0.007473510335193645, 0.007897083507418851, 0.008344461536550052, 0.008816958758761201, 0.009315959345066686, 0.00984292069281942, 0.010399376944046072, 0.01098694263059318, 0.011607316445304631, 0.0122622851375832, 0.012953727530695871, 0.013683618657050386, 0.014454034006386568, 0.015267153880374444, 0.016125267845478516, 0.017030779274116104, 0.017986209962091566, 0.018994204808010565, 0.02005753653785041, 0.021179110455067696, 0.022361969193544173, 0.023609297447288992, 0.02492442664711404, 0.026310839550463053, 0.027772174706191966, 0.02931223075135632, 0.0309349704919536, 0.03264452471409182, 0.03444519566621118, 0.036341460146782405, 0.03833797212535965, 0.04043956481800324, 0.04265125213094287, 0.04497822937897771, 0.0474258731775668, 0.04999974039993328, 0.05270556608289025, 0.05554926015761178, 0.0585369028743679, 0.06167473878348327, 0.06496916912866407, 0.06842674250359214, 0.07205414361856402, 0.07585818002124355, 0.07984576661461427, 0.08402390781631201, 0.08839967720705845, 0.09298019452229982, 0.09777259985079931, 0.10278402491725178, 0.10802156134341918, 0.11349222580422876, 0.11920292202211757, 0.12516039957499714, 0.1313712095308068, 0.13784165696493572, 0.1445777504658773, 0.15158514878928694, 0.15886910488091516, 0.1664344075542588, 0.17428532117858547, 0.1824255238063564, 0.1908580442448655, 0.19958519865373253, 0.20860852732604498, 0.21792873238451507, 0.22754561719281619, 0.23745802834390256, 0.24766380113907163, 0.2581597095111631, 0.26894142136999527, 0.28000346035538254, 0.2913391749705645, 0.30294071603459277, 0.31479902333468435, 0.32690382227776804, 0.33924363123418294, 0.35180578013625535, 0.3645764407416393, 0.3775406687981454, 0.3906824581564394, 0.4039848066734833, 0.4174297935376854, 0.4309986674318094, 0.4446719447376312, 0.45842951678320026, 0.47225076494548685, 0.48611468225399523, 0.5, 0.513885317746005, 0.5277492350545133, 0.5415704832168, 0.5553280552623691, 0.5690013325681905, 0.5825702064623148, 0.5960151933265169, 0.6093175418435608, 0.6224593312018547, 0.6354235592583607, 0.6481942198637449, 0.6607563687658172, 0.6730961777222322, 0.6852009766653157, 0.6970592839654073, 0.7086608250294357, 0.7199965396446177, 0.731058578630005, 0.7418402904888369, 0.7523361988609284, 0.7625419716560976, 0.7724543828071839, 0.7820712676154851, 0.791391472673955, 0.8004148013462675, 0.8091419557551347, 0.8175744761936438, 0.8257146788214146, 0.8335655924457414, 0.8411308951190849, 0.8484148512107133, 0.8554222495341228, 0.8621583430350643, 0.8686287904691933, 0.8748396004250029, 0.8807970779778825, 0.8865077741957713, 0.8919784386565809, 0.8972159750827483, 0.9022274001492008, 0.9070198054777002, 0.9116003227929417, 0.915976092183688, 0.9201542333853858, 0.9241418199787566, 0.927945856381436, 0.931573257496408, 0.935030830871336, 0.9383252612165167, 0.941463097125632, 0.9444507398423884, 0.9472944339171098, 0.9500002596000667, 0.9525741268224334, 0.9550217706210222, 0.9573487478690571, 0.9595604351819967, 0.9616620278746403, 0.9636585398532177, 0.9655548043337887, 0.9673554752859082, 0.9690650295080464, 0.9706877692486436, 0.9722278252938079, 0.9736891604495369, 0.975075573352886, 0.976390702552711, 0.9776380308064557, 0.9788208895449324, 0.9799424634621495, 0.9810057951919894, 0.9820137900379085, 0.982969220725884, 0.9838747321545214, 0.9847328461196255, 0.9855459659936133, 0.9863163813429496, 0.9870462724693041, 0.9877377148624168, 0.9883926835546953, 0.9890130573694068, 0.989600623055954, 0.9901570793071806, 0.9906840406549333, 0.9911830412412388, 0.99165553846345, 0.9921029164925812, 0.9925264896648063, 0.9929275057467446, 0.9933071490757153, 0.9936665435766211, 0.9940067556575176, 0.994328796986259, 0.9946336271508911, 0.9949221562066797, 0.9951952471128405, 0.9954537180621744, 0.9956983447069072, 0.995929862284104], \"yaxis\": \"y2\"}],\n",
       "                        {\"annotations\": [{\"font\": {\"size\": 16}, \"showarrow\": false, \"text\": \"PDF comparison\", \"x\": 0.225, \"xanchor\": \"center\", \"xref\": \"paper\", \"y\": 1.0, \"yanchor\": \"bottom\", \"yref\": \"paper\"}, {\"font\": {\"size\": 16}, \"showarrow\": false, \"text\": \"CDF comparison\", \"x\": 0.775, \"xanchor\": \"center\", \"xref\": \"paper\", \"y\": 1.0, \"yanchor\": \"bottom\", \"yref\": \"paper\"}], \"height\": 350, \"margin\": {\"b\": 20, \"l\": 20, \"r\": 20, \"t\": 50}, \"template\": {\"data\": {\"bar\": [{\"error_x\": {\"color\": \"#2a3f5f\"}, \"error_y\": {\"color\": \"#2a3f5f\"}, \"marker\": {\"line\": {\"color\": \"#E5ECF6\", \"width\": 0.5}}, \"type\": \"bar\"}], \"barpolar\": [{\"marker\": {\"line\": {\"color\": \"#E5ECF6\", \"width\": 0.5}}, \"type\": \"barpolar\"}], \"carpet\": [{\"aaxis\": {\"endlinecolor\": \"#2a3f5f\", \"gridcolor\": \"white\", \"linecolor\": \"white\", \"minorgridcolor\": \"white\", \"startlinecolor\": \"#2a3f5f\"}, \"baxis\": {\"endlinecolor\": \"#2a3f5f\", \"gridcolor\": \"white\", \"linecolor\": \"white\", \"minorgridcolor\": \"white\", \"startlinecolor\": \"#2a3f5f\"}, \"type\": \"carpet\"}], \"choropleth\": [{\"colorbar\": {\"outlinewidth\": 0, \"ticks\": \"\"}, \"type\": \"choropleth\"}], \"contour\": [{\"colorbar\": {\"outlinewidth\": 0, \"ticks\": \"\"}, \"colorscale\": [[0.0, \"#0d0887\"], [0.1111111111111111, \"#46039f\"], [0.2222222222222222, \"#7201a8\"], [0.3333333333333333, \"#9c179e\"], [0.4444444444444444, \"#bd3786\"], [0.5555555555555556, \"#d8576b\"], [0.6666666666666666, \"#ed7953\"], [0.7777777777777778, \"#fb9f3a\"], [0.8888888888888888, \"#fdca26\"], [1.0, \"#f0f921\"]], \"type\": \"contour\"}], \"contourcarpet\": [{\"colorbar\": {\"outlinewidth\": 0, \"ticks\": \"\"}, \"type\": \"contourcarpet\"}], \"heatmap\": [{\"colorbar\": {\"outlinewidth\": 0, \"ticks\": \"\"}, \"colorscale\": [[0.0, \"#0d0887\"], [0.1111111111111111, \"#46039f\"], [0.2222222222222222, \"#7201a8\"], [0.3333333333333333, \"#9c179e\"], [0.4444444444444444, \"#bd3786\"], [0.5555555555555556, \"#d8576b\"], [0.6666666666666666, \"#ed7953\"], [0.7777777777777778, \"#fb9f3a\"], [0.8888888888888888, \"#fdca26\"], [1.0, \"#f0f921\"]], \"type\": \"heatmap\"}], \"heatmapgl\": [{\"colorbar\": {\"outlinewidth\": 0, \"ticks\": \"\"}, \"colorscale\": [[0.0, \"#0d0887\"], [0.1111111111111111, \"#46039f\"], [0.2222222222222222, \"#7201a8\"], [0.3333333333333333, \"#9c179e\"], [0.4444444444444444, \"#bd3786\"], [0.5555555555555556, \"#d8576b\"], [0.6666666666666666, \"#ed7953\"], [0.7777777777777778, \"#fb9f3a\"], [0.8888888888888888, \"#fdca26\"], [1.0, \"#f0f921\"]], \"type\": \"heatmapgl\"}], \"histogram\": [{\"marker\": {\"colorbar\": {\"outlinewidth\": 0, \"ticks\": \"\"}}, \"type\": \"histogram\"}], \"histogram2d\": [{\"colorbar\": {\"outlinewidth\": 0, \"ticks\": \"\"}, \"colorscale\": [[0.0, \"#0d0887\"], [0.1111111111111111, \"#46039f\"], [0.2222222222222222, \"#7201a8\"], [0.3333333333333333, \"#9c179e\"], [0.4444444444444444, \"#bd3786\"], [0.5555555555555556, \"#d8576b\"], [0.6666666666666666, \"#ed7953\"], [0.7777777777777778, \"#fb9f3a\"], [0.8888888888888888, \"#fdca26\"], [1.0, \"#f0f921\"]], \"type\": \"histogram2d\"}], \"histogram2dcontour\": [{\"colorbar\": {\"outlinewidth\": 0, \"ticks\": \"\"}, \"colorscale\": [[0.0, \"#0d0887\"], [0.1111111111111111, \"#46039f\"], [0.2222222222222222, \"#7201a8\"], [0.3333333333333333, \"#9c179e\"], [0.4444444444444444, \"#bd3786\"], [0.5555555555555556, \"#d8576b\"], [0.6666666666666666, \"#ed7953\"], [0.7777777777777778, \"#fb9f3a\"], [0.8888888888888888, \"#fdca26\"], [1.0, \"#f0f921\"]], \"type\": \"histogram2dcontour\"}], \"mesh3d\": [{\"colorbar\": {\"outlinewidth\": 0, \"ticks\": \"\"}, \"type\": \"mesh3d\"}], \"parcoords\": [{\"line\": {\"colorbar\": {\"outlinewidth\": 0, \"ticks\": \"\"}}, \"type\": \"parcoords\"}], \"pie\": [{\"automargin\": true, \"type\": \"pie\"}], \"scatter\": [{\"marker\": {\"colorbar\": {\"outlinewidth\": 0, \"ticks\": \"\"}}, \"type\": \"scatter\"}], \"scatter3d\": [{\"line\": {\"colorbar\": {\"outlinewidth\": 0, \"ticks\": \"\"}}, \"marker\": {\"colorbar\": {\"outlinewidth\": 0, \"ticks\": \"\"}}, \"type\": \"scatter3d\"}], \"scattercarpet\": [{\"marker\": {\"colorbar\": {\"outlinewidth\": 0, \"ticks\": \"\"}}, \"type\": \"scattercarpet\"}], \"scattergeo\": [{\"marker\": {\"colorbar\": {\"outlinewidth\": 0, \"ticks\": \"\"}}, \"type\": \"scattergeo\"}], \"scattergl\": [{\"marker\": {\"colorbar\": {\"outlinewidth\": 0, \"ticks\": \"\"}}, \"type\": \"scattergl\"}], \"scattermapbox\": [{\"marker\": {\"colorbar\": {\"outlinewidth\": 0, \"ticks\": \"\"}}, \"type\": \"scattermapbox\"}], \"scatterpolar\": [{\"marker\": {\"colorbar\": {\"outlinewidth\": 0, \"ticks\": \"\"}}, \"type\": \"scatterpolar\"}], \"scatterpolargl\": [{\"marker\": {\"colorbar\": {\"outlinewidth\": 0, \"ticks\": \"\"}}, \"type\": \"scatterpolargl\"}], \"scatterternary\": [{\"marker\": {\"colorbar\": {\"outlinewidth\": 0, \"ticks\": \"\"}}, \"type\": \"scatterternary\"}], \"surface\": [{\"colorbar\": {\"outlinewidth\": 0, \"ticks\": \"\"}, \"colorscale\": [[0.0, \"#0d0887\"], [0.1111111111111111, \"#46039f\"], [0.2222222222222222, \"#7201a8\"], [0.3333333333333333, \"#9c179e\"], [0.4444444444444444, \"#bd3786\"], [0.5555555555555556, \"#d8576b\"], [0.6666666666666666, \"#ed7953\"], [0.7777777777777778, \"#fb9f3a\"], [0.8888888888888888, \"#fdca26\"], [1.0, \"#f0f921\"]], \"type\": \"surface\"}], \"table\": [{\"cells\": {\"fill\": {\"color\": \"#EBF0F8\"}, \"line\": {\"color\": \"white\"}}, \"header\": {\"fill\": {\"color\": \"#C8D4E3\"}, \"line\": {\"color\": \"white\"}}, \"type\": \"table\"}]}, \"layout\": {\"annotationdefaults\": {\"arrowcolor\": \"#2a3f5f\", \"arrowhead\": 0, \"arrowwidth\": 1}, \"coloraxis\": {\"colorbar\": {\"outlinewidth\": 0, \"ticks\": \"\"}}, \"colorscale\": {\"diverging\": [[0, \"#8e0152\"], [0.1, \"#c51b7d\"], [0.2, \"#de77ae\"], [0.3, \"#f1b6da\"], [0.4, \"#fde0ef\"], [0.5, \"#f7f7f7\"], [0.6, \"#e6f5d0\"], [0.7, \"#b8e186\"], [0.8, \"#7fbc41\"], [0.9, \"#4d9221\"], [1, \"#276419\"]], \"sequential\": [[0.0, \"#0d0887\"], [0.1111111111111111, \"#46039f\"], [0.2222222222222222, \"#7201a8\"], [0.3333333333333333, \"#9c179e\"], [0.4444444444444444, \"#bd3786\"], [0.5555555555555556, \"#d8576b\"], [0.6666666666666666, \"#ed7953\"], [0.7777777777777778, \"#fb9f3a\"], [0.8888888888888888, \"#fdca26\"], [1.0, \"#f0f921\"]], \"sequentialminus\": [[0.0, \"#0d0887\"], [0.1111111111111111, \"#46039f\"], [0.2222222222222222, \"#7201a8\"], [0.3333333333333333, \"#9c179e\"], [0.4444444444444444, \"#bd3786\"], [0.5555555555555556, \"#d8576b\"], [0.6666666666666666, \"#ed7953\"], [0.7777777777777778, \"#fb9f3a\"], [0.8888888888888888, \"#fdca26\"], [1.0, \"#f0f921\"]]}, \"colorway\": [\"#636efa\", \"#EF553B\", \"#00cc96\", \"#ab63fa\", \"#FFA15A\", \"#19d3f3\", \"#FF6692\", \"#B6E880\", \"#FF97FF\", \"#FECB52\"], \"font\": {\"color\": \"#2a3f5f\"}, \"geo\": {\"bgcolor\": \"white\", \"lakecolor\": \"white\", \"landcolor\": \"#E5ECF6\", \"showlakes\": true, \"showland\": true, \"subunitcolor\": \"white\"}, \"hoverlabel\": {\"align\": \"left\"}, \"hovermode\": \"closest\", \"mapbox\": {\"style\": \"light\"}, \"paper_bgcolor\": \"white\", \"plot_bgcolor\": \"#E5ECF6\", \"polar\": {\"angularaxis\": {\"gridcolor\": \"white\", \"linecolor\": \"white\", \"ticks\": \"\"}, \"bgcolor\": \"#E5ECF6\", \"radialaxis\": {\"gridcolor\": \"white\", \"linecolor\": \"white\", \"ticks\": \"\"}}, \"scene\": {\"xaxis\": {\"backgroundcolor\": \"#E5ECF6\", \"gridcolor\": \"white\", \"gridwidth\": 2, \"linecolor\": \"white\", \"showbackground\": true, \"ticks\": \"\", \"zerolinecolor\": \"white\"}, \"yaxis\": {\"backgroundcolor\": \"#E5ECF6\", \"gridcolor\": \"white\", \"gridwidth\": 2, \"linecolor\": \"white\", \"showbackground\": true, \"ticks\": \"\", \"zerolinecolor\": \"white\"}, \"zaxis\": {\"backgroundcolor\": \"#E5ECF6\", \"gridcolor\": \"white\", \"gridwidth\": 2, \"linecolor\": \"white\", \"showbackground\": true, \"ticks\": \"\", \"zerolinecolor\": \"white\"}}, \"shapedefaults\": {\"line\": {\"color\": \"#2a3f5f\"}}, \"ternary\": {\"aaxis\": {\"gridcolor\": \"white\", \"linecolor\": \"white\", \"ticks\": \"\"}, \"baxis\": {\"gridcolor\": \"white\", \"linecolor\": \"white\", \"ticks\": \"\"}, \"bgcolor\": \"#E5ECF6\", \"caxis\": {\"gridcolor\": \"white\", \"linecolor\": \"white\", \"ticks\": \"\"}}, \"title\": {\"x\": 0.05}, \"xaxis\": {\"automargin\": true, \"gridcolor\": \"white\", \"linecolor\": \"white\", \"ticks\": \"\", \"title\": {\"standoff\": 15}, \"zerolinecolor\": \"white\", \"zerolinewidth\": 2}, \"yaxis\": {\"automargin\": true, \"gridcolor\": \"white\", \"linecolor\": \"white\", \"ticks\": \"\", \"title\": {\"standoff\": 15}, \"zerolinecolor\": \"white\", \"zerolinewidth\": 2}}}, \"xaxis\": {\"anchor\": \"y\", \"domain\": [0.0, 0.45], \"linecolor\": \"black\", \"linewidth\": 1.5, \"mirror\": true, \"showline\": true, \"title\": {\"text\": \"Days\"}}, \"xaxis2\": {\"anchor\": \"y2\", \"domain\": [0.55, 1.0], \"linecolor\": \"black\", \"linewidth\": 1.5, \"mirror\": true, \"showline\": true, \"title\": {\"text\": \"Days\"}}, \"yaxis\": {\"anchor\": \"x\", \"domain\": [0.0, 1.0], \"linecolor\": \"black\", \"linewidth\": 1.5, \"mirror\": true, \"showline\": true, \"title\": {\"text\": \"Probability density\"}}, \"yaxis2\": {\"anchor\": \"x2\", \"domain\": [0.0, 1.0], \"linecolor\": \"black\", \"linewidth\": 1.5, \"mirror\": true, \"showline\": true, \"title\": {\"text\": \"Probability\"}}},\n",
       "                        {\"responsive\": true}\n",
       "                    ).then(function(){\n",
       "                            \n",
       "var gd = document.getElementById('64a34d56-1f04-4e9f-b8e9-1b6c0185f778');\n",
       "var x = new MutationObserver(function (mutations, observer) {{\n",
       "        var display = window.getComputedStyle(gd).display;\n",
       "        if (!display || display === 'none') {{\n",
       "            console.log([gd, 'removed!']);\n",
       "            Plotly.purge(gd);\n",
       "            observer.disconnect();\n",
       "        }}\n",
       "}});\n",
       "\n",
       "// Listen for the removal of the full notebook cells\n",
       "var notebookContainer = gd.closest('#notebook-container');\n",
       "if (notebookContainer) {{\n",
       "    x.observe(notebookContainer, {childList: true});\n",
       "}}\n",
       "\n",
       "// Listen for the clearing of the current output cell\n",
       "var outputEl = gd.closest('.output');\n",
       "if (outputEl) {{\n",
       "    x.observe(outputEl, {childList: true});\n",
       "}}\n",
       "\n",
       "                        })\n",
       "                };\n",
       "                });\n",
       "            </script>\n",
       "        </div>"
      ]
     },
     "metadata": {},
     "output_type": "display_data"
    }
   ],
   "source": [
    "logistic_1 = stats.logistic(loc=10,scale=1.8)\n",
    "\n",
    "fig = make_subplots(rows=1, cols=2,subplot_titles=('PDF comparison','CDF comparison'))\n",
    "fig.add_trace(go.Scatter(name='Normal',x=x,y=normal_2.pdf(x),mode='lines',line_color=colors[0],showlegend=True),row=1,col=1)\n",
    "fig.add_trace(go.Scatter(name='Logistic',x=x,y=logistic_1.pdf(x),mode='lines',line_color=colors[1],line_dash='dash',showlegend=True),row=1,col=1)\n",
    "fig.add_trace(go.Scatter(name='Normal',x=x,y=normal_2.cdf(x),mode='lines',line_color=colors[0],showlegend=False),row=1,col=2)\n",
    "fig.add_trace(go.Scatter(name='Logistic',x=x,y=logistic_1.cdf(x),mode='lines',line_color=colors[1],line_dash='dash',showlegend=False),row=1,col=2)\n",
    "\n",
    "fig.update_layout(height=350,margin=dict(l=20, r=20, t=50, b=20))\n",
    "fig.update_xaxes(title='Days',showline=True, linewidth=1.5, linecolor='black', mirror=True)\n",
    "fig.update_yaxes(showline=True, linewidth=1.5, linecolor='black', mirror=True)\n",
    "fig.update_yaxes(title='Probability density',row=1,col=1)\n",
    "fig.update_yaxes(title='Probability',row=1,col=2)\n",
    "fig.show()"
   ]
  },
  {
   "cell_type": "markdown",
   "metadata": {},
   "source": [
    "You can see that two distributions are very close to each other for this specific choice of parameters. The normal distribution has thinner tails while the logistic distribution has thicker tails.\n",
    "\n",
    "These curves are great for describing the progression of an idealized disease. But one potential problem is that these models are perfectly *symmetric*, which means that the incidence increases just as quickly as it decreases. We don't necessarily know that to be the case; in fact, we might expect that the incidence should decrease more slowly than it increases, because towards the end of an outbreak it takes longer and longer to find new people to infect as disease control measures are implemented. This *right skew* is in fact what is observed in many epidemics.\n",
    "\n",
    "So, we may want to test some growth curves that are asymmetric. Luckily, there are some generalizations of the distributions described above that can introduce skew:"
   ]
  },
  {
   "cell_type": "markdown",
   "metadata": {},
   "source": [
    ">**Skew normal** distribution [(link)](https://en.wikipedia.org/wiki/Skew_normal_distribution), defined by:\n",
    "\n",
    "$$ \\Phi(t) = N \\left[ \\frac{1}{2} + \\frac{1}{2} \\operatorname{erf}\\left(\\frac{t-t_0}{s \\sqrt{2}}\\right) - 2 T \\left(\\frac{t-t_0}{s},a \\right) \\right] $$\n",
    "\n",
    ">**Richards** curve [(link)](https://en.wikipedia.org/wiki/Generalised_logistic_function), a type of generalized logistic curve [used in some disease models](https://www.ncbi.nlm.nih.gov/pmc/articles/PMC3293463/), defined by:\n",
    "\n",
    "$$ \\Phi(t) = \\frac{N}{\\left(1 + a e^{-(t-t_0)/s} \\right)^{1/a}} $$\n",
    "\n",
    ">**Log logistic** distribution [(link)](https://en.wikipedia.org/wiki/Shifted_log-logistic_distribution), a different type of skewed logistic, defined by:\n",
    "\n",
    "$$ \\Phi(t) = \\frac{N}{ 1 + \\left(1+ \\frac{a(t-t_0)}{s}\\right)^{-1/a}} $$\n",
    "\n",
    ">**Inverse Weibull** distribution [(link)](https://link.springer.com/article/10.1007/s00362-009-0271-3), used in several fields of engineering, defined by:\n",
    "\n",
    "$$ \\Phi(t) = N e^{-\\left(\\frac{s}{t-t_0}\\right)^a} $$\n",
    "\n",
    ">**Gompertz** curve [(link)](https://en.wikipedia.org/wiki/Gompertz_function), a special case of the generalized logistic [sometimes applied in biology](https://www.tandfonline.com/doi/pdf/10.1080/09712119.2016.1268965), defined by:\n",
    "\n",
    "$$ \\Phi(t) = N e^{-e^{-(t-t_0)/s}} $$\n",
    "\n",
    "where again, $N$ is the final number of total cases, $t_0$ is a location parameter related to the turning point, $s$ is a scale parameter related to the rate of growth, and $a$ is a new skewness parameter related to the asymmetry of the growth. The interpretations of $t_0$, $s$, and $a$ and their relations to $t_i$ vary depending on the model. The skew normal uses [Owen's T function](https://en.wikipedia.org/wiki/Owen%27s_T_function), $T(h,a)$, a special function that has no closed form."
   ]
  },
  {
   "cell_type": "markdown",
   "metadata": {},
   "source": [
    "Here are example plots for two of the skewed models:"
   ]
  },
  {
   "cell_type": "code",
   "execution_count": 12,
   "metadata": {
    "jupyter": {
     "source_hidden": true
    }
   },
   "outputs": [
    {
     "data": {
      "application/vnd.plotly.v1+json": {
       "config": {
        "plotlyServerURL": "https://plot.ly"
       },
       "data": [
        {
         "line": {
          "color": "rgb(31, 119, 180)"
         },
         "mode": "lines",
         "name": "Skew normal",
         "showlegend": true,
         "type": "scatter",
         "x": [
          0,
          0.1,
          0.2,
          0.30000000000000004,
          0.4,
          0.5,
          0.6000000000000001,
          0.7000000000000001,
          0.8,
          0.9,
          1,
          1.1,
          1.2000000000000002,
          1.3,
          1.4000000000000001,
          1.5,
          1.6,
          1.7000000000000002,
          1.8,
          1.9000000000000001,
          2,
          2.1,
          2.2,
          2.3000000000000003,
          2.4000000000000004,
          2.5,
          2.6,
          2.7,
          2.8000000000000003,
          2.9000000000000004,
          3,
          3.1,
          3.2,
          3.3000000000000003,
          3.4000000000000004,
          3.5,
          3.6,
          3.7,
          3.8000000000000003,
          3.9000000000000004,
          4,
          4.1000000000000005,
          4.2,
          4.3,
          4.4,
          4.5,
          4.6000000000000005,
          4.7,
          4.800000000000001,
          4.9,
          5,
          5.1000000000000005,
          5.2,
          5.300000000000001,
          5.4,
          5.5,
          5.6000000000000005,
          5.7,
          5.800000000000001,
          5.9,
          6,
          6.1000000000000005,
          6.2,
          6.300000000000001,
          6.4,
          6.5,
          6.6000000000000005,
          6.7,
          6.800000000000001,
          6.9,
          7,
          7.1000000000000005,
          7.2,
          7.300000000000001,
          7.4,
          7.5,
          7.6000000000000005,
          7.7,
          7.800000000000001,
          7.9,
          8,
          8.1,
          8.200000000000001,
          8.3,
          8.4,
          8.5,
          8.6,
          8.700000000000001,
          8.8,
          8.9,
          9,
          9.1,
          9.200000000000001,
          9.3,
          9.4,
          9.5,
          9.600000000000001,
          9.700000000000001,
          9.8,
          9.9,
          10,
          10.100000000000001,
          10.200000000000001,
          10.3,
          10.4,
          10.5,
          10.600000000000001,
          10.700000000000001,
          10.8,
          10.9,
          11,
          11.100000000000001,
          11.200000000000001,
          11.3,
          11.4,
          11.5,
          11.600000000000001,
          11.700000000000001,
          11.8,
          11.9,
          12,
          12.100000000000001,
          12.200000000000001,
          12.3,
          12.4,
          12.5,
          12.600000000000001,
          12.700000000000001,
          12.8,
          12.9,
          13,
          13.100000000000001,
          13.200000000000001,
          13.3,
          13.4,
          13.5,
          13.600000000000001,
          13.700000000000001,
          13.8,
          13.9,
          14,
          14.100000000000001,
          14.200000000000001,
          14.3,
          14.4,
          14.5,
          14.600000000000001,
          14.700000000000001,
          14.8,
          14.9,
          15,
          15.100000000000001,
          15.200000000000001,
          15.3,
          15.4,
          15.5,
          15.600000000000001,
          15.700000000000001,
          15.8,
          15.9,
          16,
          16.1,
          16.2,
          16.3,
          16.400000000000002,
          16.5,
          16.6,
          16.7,
          16.8,
          16.900000000000002,
          17,
          17.1,
          17.2,
          17.3,
          17.400000000000002,
          17.5,
          17.6,
          17.7,
          17.8,
          17.900000000000002,
          18,
          18.1,
          18.2,
          18.3,
          18.400000000000002,
          18.5,
          18.6,
          18.7,
          18.8,
          18.900000000000002,
          19,
          19.1,
          19.200000000000003,
          19.3,
          19.400000000000002,
          19.5,
          19.6,
          19.700000000000003,
          19.8,
          19.900000000000002
         ],
         "xaxis": "x",
         "y": [
          7.992900708649569e-07,
          1.0693427239663152e-06,
          1.4251528629264326e-06,
          1.892080418635859e-06,
          2.502378355651405e-06,
          3.296881102777417e-06,
          4.3270534632791786e-06,
          5.657462699565655e-06,
          7.36874377207368e-06,
          9.561134935456907e-06,
          1.2358667774652954e-05,
          1.59141019475207e-05,
          2.0414699964815813e-05,
          2.6088940782579916e-05,
          3.321427223332114e-05,
          4.2126000739359775e-05,
          5.322741163553295e-05,
          6.700120403855353e-05,
          8.402230977693742e-05,
          0.0001049721456883755,
          0.00013065432189619965,
          0.00016201179487664396,
          0.00020014541274411516,
          0.00024633375092297284,
          0.0003020540791986167,
          0.00036900423630980466,
          0.0004491251163805107,
          0.0005446233936268802,
          0.0006579940293995775,
          0.0007920420207023849,
          0.000949902764325714,
          0.001135060328593536,
          0.0013513628488371649,
          0.001603034196858221,
          0.0018946810228970365,
          0.0022312942352230086,
          0.0026182439716661565,
          0.003061267133308015,
          0.0035664465968710474,
          0.004140181302232223,
          0.004789146527272138,
          0.005520243815260762,
          0.0063405402102450995,
          0.007257196682100181,
          0.008277385882143228,
          0.009408199657971537,
          0.01065654706629919,
          0.012029043947276857,
          0.013531895453869975,
          0.015170773254894123,
          0.016950689438882262,
          0.018875869426146916,
          0.02094962643614625,
          0.023174240244883036,
          0.02555084309176462,
          0.02807931564775635,
          0.03075819592930317,
          0.03358460393030092,
          0.03655418454504482,
          0.03966107106930766,
          0.042897871198462674,
          0.04625567699809028,
          0.04972409981417412,
          0.053291330530084925,
          0.056944224981859734,
          0.060668413729585466,
          0.06444843477010169,
          0.06826788718449121,
          0.07210960316251502,
          0.07595583535391419,
          0.07978845608028654,
          0.0835891646155523,
          0.08733969851932702,
          0.0910220448937516,
          0.09461864743454192,
          0.09811260526121926,
          0.10148785973560273,
          0.10472936580375962,
          0.10782324481324226,
          0.1107569162500813,
          0.11351920639171968,
          0.11610043246420851,
          0.11849246150496089,
          0.12068874374642555,
          0.12268432093208828,
          0.12447581053645332,
          0.12606136736931609,
          0.12744062448841859,
          0.12861461571310512,
          0.1295856823176395,
          0.13035736668244707,
          0.13093429579396743,
          0.13132205751136694,
          0.13152707246614098,
          0.13155646433609966,
          0.13141793104774827,
          0.1311196192214466,
          0.13067000389363317,
          0.13007777524189593,
          0.12935173371369146,
          0.12850069462944774,
          0.1275334030060737,
          0.1264584590367618,
          0.12528425437516097,
          0.12401891911269095,
          0.1226702791114815,
          0.12124582316504413,
          0.11975267930566183,
          0.11819759946154393,
          0.11658695158673651,
          0.11492671834026738,
          0.11322250137490049,
          0.11147953030644864,
          0.10970267546775578,
          0.10789646360295471,
          0.10606509572319214,
          0.10421246642062262,
          0.10234218401932516,
          0.10045759102650273,
          0.09856178443194044,
          0.09665763548576115,
          0.09474780866206345,
          0.09283477958756953,
          0.09092085177891582,
          0.08900817208906893,
          0.08709874481228086,
          0.08519444443805381,
          0.08329702707806073,
          0.08140814061633896,
          0.07952933365296282,
          0.07766206332551054,
          0.07580770210172064,
          0.07396754364155003,
          0.07214280782813254,
          0.07033464506560168,
          0.06854413993802017,
          0.06677231431832985,
          0.06502013000979501,
          0.0632884909952903,
          0.06157824536232951,
          0.059890186964227085,
          0.05822505687045121,
          0.056583544652229235,
          0.054966289542914396,
          0.053373881506596964,
          0.05180686224297511,
          0.05026572615161169,
          0.04875092127437785,
          0.04726285023110451,
          0.045801871160193006,
          0.044368298673133896,
          0.04296240482950752,
          0.04158442013704346,
          0.04023453457965395,
          0.0389128986749881,
          0.037619624561935475,
          0.0363547871176081,
          0.03511842510261267,
          0.03391054233286091,
          0.032731108875734716,
          0.03158006226809579,
          0.030457308753393995,
          0.029362724534965072,
          0.028296157042505765,
          0.027257426208661322,
          0.0262463257526454,
          0.025262624467832506,
          0.024306067510308192,
          0.02337637768542786,
          0.022473256729520327,
          0.021596386583968497,
          0.0207454306590087,
          0.01992003508470819,
          0.019119829946702756,
          0.018344430504408444,
          0.017593438389552574,
          0.01686644278300669,
          0.016163021568042835,
          0.015482742458272183,
          0.014825164098666563,
          0.014189837138200856,
          0.013576305272793795,
          0.012984106257361013,
          0.01241277288592871,
          0.011861833938889533,
          0.011330815096611015,
          0.010819239818734299,
          0.01032663018862362,
          0.009852507722545893,
          0.009396394143276154,
          0.008957812117934463,
          0.008536285959967454,
          0.008131342295289319,
          0.007742510692694172,
          0.007369324258744442,
          0.007011320197427192,
          0.006668040334952283,
          0.006339031610144238,
          0.006023846530950932,
          0.005722043597659843
         ],
         "yaxis": "y"
        },
        {
         "line": {
          "color": "rgb(255, 127, 14)",
          "dash": "dash"
         },
         "mode": "lines",
         "name": "Richards",
         "showlegend": true,
         "type": "scatter",
         "x": [
          0,
          0.1,
          0.2,
          0.30000000000000004,
          0.4,
          0.5,
          0.6000000000000001,
          0.7000000000000001,
          0.8,
          0.9,
          1,
          1.1,
          1.2000000000000002,
          1.3,
          1.4000000000000001,
          1.5,
          1.6,
          1.7000000000000002,
          1.8,
          1.9000000000000001,
          2,
          2.1,
          2.2,
          2.3000000000000003,
          2.4000000000000004,
          2.5,
          2.6,
          2.7,
          2.8000000000000003,
          2.9000000000000004,
          3,
          3.1,
          3.2,
          3.3000000000000003,
          3.4000000000000004,
          3.5,
          3.6,
          3.7,
          3.8000000000000003,
          3.9000000000000004,
          4,
          4.1000000000000005,
          4.2,
          4.3,
          4.4,
          4.5,
          4.6000000000000005,
          4.7,
          4.800000000000001,
          4.9,
          5,
          5.1000000000000005,
          5.2,
          5.300000000000001,
          5.4,
          5.5,
          5.6000000000000005,
          5.7,
          5.800000000000001,
          5.9,
          6,
          6.1000000000000005,
          6.2,
          6.300000000000001,
          6.4,
          6.5,
          6.6000000000000005,
          6.7,
          6.800000000000001,
          6.9,
          7,
          7.1000000000000005,
          7.2,
          7.300000000000001,
          7.4,
          7.5,
          7.6000000000000005,
          7.7,
          7.800000000000001,
          7.9,
          8,
          8.1,
          8.200000000000001,
          8.3,
          8.4,
          8.5,
          8.6,
          8.700000000000001,
          8.8,
          8.9,
          9,
          9.1,
          9.200000000000001,
          9.3,
          9.4,
          9.5,
          9.600000000000001,
          9.700000000000001,
          9.8,
          9.9,
          10,
          10.100000000000001,
          10.200000000000001,
          10.3,
          10.4,
          10.5,
          10.600000000000001,
          10.700000000000001,
          10.8,
          10.9,
          11,
          11.100000000000001,
          11.200000000000001,
          11.3,
          11.4,
          11.5,
          11.600000000000001,
          11.700000000000001,
          11.8,
          11.9,
          12,
          12.100000000000001,
          12.200000000000001,
          12.3,
          12.4,
          12.5,
          12.600000000000001,
          12.700000000000001,
          12.8,
          12.9,
          13,
          13.100000000000001,
          13.200000000000001,
          13.3,
          13.4,
          13.5,
          13.600000000000001,
          13.700000000000001,
          13.8,
          13.9,
          14,
          14.100000000000001,
          14.200000000000001,
          14.3,
          14.4,
          14.5,
          14.600000000000001,
          14.700000000000001,
          14.8,
          14.9,
          15,
          15.100000000000001,
          15.200000000000001,
          15.3,
          15.4,
          15.5,
          15.600000000000001,
          15.700000000000001,
          15.8,
          15.9,
          16,
          16.1,
          16.2,
          16.3,
          16.400000000000002,
          16.5,
          16.6,
          16.7,
          16.8,
          16.900000000000002,
          17,
          17.1,
          17.2,
          17.3,
          17.400000000000002,
          17.5,
          17.6,
          17.7,
          17.8,
          17.900000000000002,
          18,
          18.1,
          18.2,
          18.3,
          18.400000000000002,
          18.5,
          18.6,
          18.7,
          18.8,
          18.900000000000002,
          19,
          19.1,
          19.200000000000003,
          19.3,
          19.400000000000002,
          19.5,
          19.6,
          19.700000000000003,
          19.8,
          19.900000000000002
         ],
         "xaxis": "x",
         "y": [
          3.190003734663556e-07,
          4.270373986997606e-07,
          5.7035271998773e-07,
          7.599724942285207e-07,
          1.010189048997662e-06,
          1.3394650317899848e-06,
          1.7715664290202695e-06,
          2.3369754595371183e-06,
          3.074643569865163e-06,
          4.034155006147689e-06,
          5.278382626459221e-06,
          6.88672958269067e-06,
          8.959062979582627e-06,
          1.1620458224666077e-05,
          1.502688498987349e-05,
          1.937197682535087e-05,
          2.4895035634238132e-05,
          3.18904283846616e-05,
          4.0718535368438775e-05,
          5.1818405610659884e-05,
          6.572226414422877e-05,
          8.307199614876812e-05,
          0.00010463770274978437,
          0.00013133838098533063,
          0.0001642647246600861,
          0.00020470397242632285,
          0.0002541666438348293,
          0.00031441490329838797,
          0.00038749217671573116,
          0.00047575351767471823,
          0.0005818960825251672,
          0.0007089889301796982,
          0.0008605012184464825,
          0.0010403277303421723,
          0.001252810538504644,
          0.0015027555116329822,
          0.0017954422923953431,
          0.0021366263400783114,
          0.002532531641575815,
          0.0029898327583135864,
          0.0035156249999999992,
          0.004117381702194791,
          0.004802897834483316,
          0.005580219477405474,
          0.006457559073796276,
          0.007443196775056634,
          0.00854536865302995,
          0.009772143018617492,
          0.011131286561625936,
          0.012630122483542163,
          0.014275383216128312,
          0.016073060684306313,
          0.01802825736340603,
          0.020145041582439578,
          0.022426310623835106,
          0.024873665157266075,
          0.027487298416704425,
          0.030265903286445277,
          0.03320660010944684,
          0.03630488758054542,
          0.03955461855292243,
          0.04294800198716449,
          0.04647563162961932,
          0.05012654134339585,
          0.053888286354719525,
          0.05774704904231687,
          0.06168776730936436,
          0.06569428305511758,
          0.06974950782222838,
          0.07383560234780147,
          0.07793416649920837,
          0.08202643593315986,
          0.08609348177807256,
          0.09011640970112718,
          0.0940765548750438,
          0.09795566959521146,
          0.1017361006029673,
          0.10540095353169213,
          0.10893424229434263,
          0.1123210216593336,
          0.1155475017020191,
          0.11860114325803484,
          0.12147073393043348,
          0.1241464446044684,
          0.12661986679348797,
          0.1288840314700164,
          0.1309334103229805,
          0.13276390062228388,
          0.1343727950643446,
          0.13575873811714484,
          0.13692167048245343,
          0.1378627633489275,
          0.13858434412639026,
          0.13908981533293757,
          0.13938356825728143,
          0.13947089294372303,
          0.1393578859512135,
          0.1390513572258492,
          0.1385587373023454,
          0.13788798591869675,
          0.13704750299311508,
          0.13604604277674717,
          0.13489263186244788,
          0.13359649160139359,
          0.13216696535747285,
          0.1306134509156566,
          0.1289453382559999,
          0.12717195281026414,
          0.1253025042337509,
          0.12334604065090868,
          0.12131140826947728,
          0.1192072162040418,
          0.1170418063054032,
          0.114823227756535,
          0.11255921616841538,
          0.11025717688896082,
          0.10792417222489412,
          0.10556691226888397,
          0.1031917490219473,
          0.10080467350318363,
          0.09841131554471808,
          0.09601694597862558,
          0.09362648093399646,
          0.09124448797563817,
          0.08887519383070693,
          0.08652249346538647,
          0.08418996029020832,
          0.08188085728940224,
          0.07959814888650278,
          0.07734451337508155,
          0.07512235575973145,
          0.07293382086814323,
          0.07078080661016503,
          0.06866497727402898,
          0.06658777676340133,
          0.0645504416915192,
          0.06255401426039474,
          0.06059935486389204,
          0.058687154363413464,
          0.05681794599399772,
          0.05499211686684735,
          0.05320991904171228,
          0.05147148014919108,
          0.04977681354891582,
          0.04812582801481086,
          0.046518336943195626,
          0.04495406708349668,
          0.04343266679478031,
          0.04195371383426601,
          0.04051672268647554,
          0.03912115144375366,
          0.03776640825060686,
          0.036451857325683804,
          0.03517682457629978,
          0.03394060282122411,
          0.03274245663803131,
          0.03158162685169672,
          0.030457334681318015,
          0.02936878556189172,
          0.028315172657990738,
          0.027295680085992303,
          0.02630948586121735,
          0.025355764585973734,
          0.02443368989406514,
          0.02354243666684625,
          0.02268118303538159,
          0.021849112182715087,
          0.0210454139596847,
          0.02026928632712921,
          0.019519936636741952,
          0.01879658276223023,
          0.01809845409184715,
          0.017424792392778537,
          0.016774852557291657,
          0.016147903239992455,
          0.015543227394990936,
          0.014960122721245991,
          0.014397902023850603,
          0.013855893498526816,
          0.013333440946129937,
          0.012829903923510197,
          0.012344657836651719,
          0.011877093981599484,
          0.011426619538296894,
          0.01099265752208982,
          0.010574646697304395,
          0.010172041456978639,
          0.009784311672518609,
          0.009410942516758565,
          0.009051434263632424,
          0.008705302067406728,
          0.008372075724185905,
          0.008051299418176491,
          0.007742531454986777,
          0.007445343984043612,
          0.007159322712025644,
          0.0068840666090428685,
          0.0066191876091350995,
          0.00636431030651589,
          0.006119071648852526
         ],
         "yaxis": "y"
        },
        {
         "line": {
          "color": "rgb(31, 119, 180)"
         },
         "mode": "lines",
         "name": "Skew normal",
         "showlegend": false,
         "type": "scatter",
         "x": [
          0,
          0.1,
          0.2,
          0.30000000000000004,
          0.4,
          0.5,
          0.6000000000000001,
          0.7000000000000001,
          0.8,
          0.9,
          1,
          1.1,
          1.2000000000000002,
          1.3,
          1.4000000000000001,
          1.5,
          1.6,
          1.7000000000000002,
          1.8,
          1.9000000000000001,
          2,
          2.1,
          2.2,
          2.3000000000000003,
          2.4000000000000004,
          2.5,
          2.6,
          2.7,
          2.8000000000000003,
          2.9000000000000004,
          3,
          3.1,
          3.2,
          3.3000000000000003,
          3.4000000000000004,
          3.5,
          3.6,
          3.7,
          3.8000000000000003,
          3.9000000000000004,
          4,
          4.1000000000000005,
          4.2,
          4.3,
          4.4,
          4.5,
          4.6000000000000005,
          4.7,
          4.800000000000001,
          4.9,
          5,
          5.1000000000000005,
          5.2,
          5.300000000000001,
          5.4,
          5.5,
          5.6000000000000005,
          5.7,
          5.800000000000001,
          5.9,
          6,
          6.1000000000000005,
          6.2,
          6.300000000000001,
          6.4,
          6.5,
          6.6000000000000005,
          6.7,
          6.800000000000001,
          6.9,
          7,
          7.1000000000000005,
          7.2,
          7.300000000000001,
          7.4,
          7.5,
          7.6000000000000005,
          7.7,
          7.800000000000001,
          7.9,
          8,
          8.1,
          8.200000000000001,
          8.3,
          8.4,
          8.5,
          8.6,
          8.700000000000001,
          8.8,
          8.9,
          9,
          9.1,
          9.200000000000001,
          9.3,
          9.4,
          9.5,
          9.600000000000001,
          9.700000000000001,
          9.8,
          9.9,
          10,
          10.100000000000001,
          10.200000000000001,
          10.3,
          10.4,
          10.5,
          10.600000000000001,
          10.700000000000001,
          10.8,
          10.9,
          11,
          11.100000000000001,
          11.200000000000001,
          11.3,
          11.4,
          11.5,
          11.600000000000001,
          11.700000000000001,
          11.8,
          11.9,
          12,
          12.100000000000001,
          12.200000000000001,
          12.3,
          12.4,
          12.5,
          12.600000000000001,
          12.700000000000001,
          12.8,
          12.9,
          13,
          13.100000000000001,
          13.200000000000001,
          13.3,
          13.4,
          13.5,
          13.600000000000001,
          13.700000000000001,
          13.8,
          13.9,
          14,
          14.100000000000001,
          14.200000000000001,
          14.3,
          14.4,
          14.5,
          14.600000000000001,
          14.700000000000001,
          14.8,
          14.9,
          15,
          15.100000000000001,
          15.200000000000001,
          15.3,
          15.4,
          15.5,
          15.600000000000001,
          15.700000000000001,
          15.8,
          15.9,
          16,
          16.1,
          16.2,
          16.3,
          16.400000000000002,
          16.5,
          16.6,
          16.7,
          16.8,
          16.900000000000002,
          17,
          17.1,
          17.2,
          17.3,
          17.400000000000002,
          17.5,
          17.6,
          17.7,
          17.8,
          17.900000000000002,
          18,
          18.1,
          18.2,
          18.3,
          18.400000000000002,
          18.5,
          18.6,
          18.7,
          18.8,
          18.900000000000002,
          19,
          19.1,
          19.200000000000003,
          19.3,
          19.400000000000002,
          19.5,
          19.6,
          19.700000000000003,
          19.8,
          19.900000000000002
         ],
         "xaxis": "x2",
         "y": [
          2.619154881951715e-07,
          3.5472267309657457e-07,
          4.786365241004574e-07,
          6.434495352988162e-07,
          8.618221252964965e-07,
          1.1500536003466443e-06,
          1.5290394921694561e-06,
          2.025454431369675e-06,
          2.6732060932521093e-06,
          3.515213850181633e-06,
          4.6055726605004075e-06,
          6.012172570551948e-06,
          7.819852852877339e-06,
          1.0134179730869983e-05,
          1.3085946572804025e-05,
          1.6836505388090826e-05,
          2.1584048079629164e-05,
          2.7570964808106236e-05,
          3.509241454178211e-05,
          4.4506248857559706e-05,
          5.624443371187711e-05,
          7.08261145325799e-05,
          8.88724668596216e-05,
          0.00011112346710844319,
          0.00013845670505334255,
          0.0001719083405476732,
          0.00021269628107567859,
          0.0002622456233119915,
          0.0003222163604197634,
          0.00039453330699014936,
          0.0004814181351789968,
          0.0005854233488660817,
          0.0007094679480005191,
          0.0008568744535145221,
          0.0010314068754915633,
          0.0012373091152858952,
          0.0014793431980563846,
          0.0017628266381657294,
          0.0020936681489663795,
          0.002478400823851804,
          0.0029242118405773234,
          0.0034389676794129905,
          0.004031233801416916,
          0.004710287709684154,
          0.005486124317294998,
          0.006369452573950254,
          0.0073716823614967545,
          0.008504900758573249,
          0.009781836897457393,
          0.011215814791892535,
          0.012820693702146052,
          0.014610795820566305,
          0.016600821304015037,
          0.018805750944125506,
          0.021240737046609344,
          0.023920983380036804,
          0.026861615345018144,
          0.030077541798274605,
          0.033583310234074994,
          0.03739295726922672,
          0.041519856588775904,
          0.04597656667987784,
          0.05077468080390877,
          0.0559246817259937,
          0.06143580373225226,
          0.06731590441563688,
          0.07357134860027634,
          0.0802069066029237,
          0.08722566880147128,
          0.09462897819953126,
          0.10241638234956685,
          0.11058560563333526,
          0.11913254250713283,
          0.1280512719111375,
          0.13733409262825116,
          0.14697157896969495,
          0.1569526557734201,
          0.16726469133780664,
          0.1778936065867746,
          0.1888239984816794,
          0.2000392754669829,
          0.21152180256565659,
          0.22325305362966733,
          0.23521376820179604,
          0.24738411045661285,
          0.25974382775794225,
          0.2722724064932494,
          0.28494922301618175,
          0.29775368773999766,
          0.3106653806688919,
          0.32366417692279437,
          0.3367303610953935,
          0.3498447295762702,
          0.36298868025787806,
          0.3761442893290517,
          0.38929437512197645,
          0.4024225492233626,
          0.41551325527828814,
          0.42855179610336286,
          0.4415243498822843,
          0.4544179763404302,
          0.467220613885886,
          0.4799210687632435,
          0.4925089972954937,
          0.5049748822909155,
          0.5173100046691399,
          0.5295064113169896,
          0.5415568801239337,
          0.5534548830728019,
          0.5651945481774,
          0.5767706209683858,
          0.5881784261353643,
          0.5994138298395207,
          0.6104732031196954,
          0.6213533867276516,
          0.6320516576470289,
          0.6425656974763103,
          0.6528935627898595,
          0.6630336575331842,
          0.6729847074591481,
          0.6827457365707978,
          0.6923160455033882,
          0.7016951917525793,
          0.710882971636989,
          0.7198794038705418,
          0.728684714612623,
          0.7372993238611117,
          0.7457238330541346,
          0.7539590137501663,
          0.7620057972621694,
          0.7698652651292442,
          0.7775386403181811,
          0.7850272790569197,
          0.7923326632118308,
          0.7994563931306365,
          0.8064001808824001,
          0.8131658438351961,
          0.8197552985206402,
          0.8261705547423605,
          0.8324137098926487,
          0.8384869434479487,
          0.8443925116195089,
          0.8501327421404763,
          0.8557100291749871,
          0.8611268283384478,
          0.8663856518212824,
          0.8714890636109589,
          0.876439674809212,
          0.881240139043059,
          0.8858931479695443,
          0.890401426875176,
          0.8947677303717914,
          0.8989948381911465,
          0.9030855510808913,
          0.907042686804815,
          0.9108690762503483,
          0.9145675596462927,
          0.9181409828936783,
          0.9215921940124913,
          0.9249240397068189,
          0.928139362050727,
          0.9312409952969156,
          0.9342317628099204,
          0.9371144741253273,
          0.9398919221361685,
          0.9425668804073495,
          0.9451421006186678,
          0.9476203101366591,
          0.9500042097152266,
          0.9522964713247036,
          0.9544997361087307,
          0.9566166124680486,
          0.9586496742700461,
          0.9606014591826709,
          0.9624744671310493,
          0.9642711588749648,
          0.9659939547051198,
          0.967645233255915,
          0.9692273304323071,
          0.9707425384481222,
          0.9721931049730668,
          0.9735812323855282,
          0.9749090771281324,
          0.9761787491629219,
          0.9773923115229046,
          0.9785517799566549,
          0.9796591226625646,
          0.9807162601092859,
          0.9817250649388564,
          0.9826873619489681,
          0.9836049281508087,
          0.9844794928988932,
          0.9853127380893035,
          0.9861062984227518,
          0.9868617617289068,
          0.9875806693484479,
          0.9882645165693351,
          0.9889147531138349,
          0.9895327836728888,
          0.9901199684844589
         ],
         "yaxis": "y2"
        },
        {
         "line": {
          "color": "rgb(255, 127, 14)",
          "dash": "dash"
         },
         "mode": "lines",
         "name": "Richards",
         "showlegend": false,
         "type": "scatter",
         "x": [
          0,
          0.1,
          0.2,
          0.30000000000000004,
          0.4,
          0.5,
          0.6000000000000001,
          0.7000000000000001,
          0.8,
          0.9,
          1,
          1.1,
          1.2000000000000002,
          1.3,
          1.4000000000000001,
          1.5,
          1.6,
          1.7000000000000002,
          1.8,
          1.9000000000000001,
          2,
          2.1,
          2.2,
          2.3000000000000003,
          2.4000000000000004,
          2.5,
          2.6,
          2.7,
          2.8000000000000003,
          2.9000000000000004,
          3,
          3.1,
          3.2,
          3.3000000000000003,
          3.4000000000000004,
          3.5,
          3.6,
          3.7,
          3.8000000000000003,
          3.9000000000000004,
          4,
          4.1000000000000005,
          4.2,
          4.3,
          4.4,
          4.5,
          4.6000000000000005,
          4.7,
          4.800000000000001,
          4.9,
          5,
          5.1000000000000005,
          5.2,
          5.300000000000001,
          5.4,
          5.5,
          5.6000000000000005,
          5.7,
          5.800000000000001,
          5.9,
          6,
          6.1000000000000005,
          6.2,
          6.300000000000001,
          6.4,
          6.5,
          6.6000000000000005,
          6.7,
          6.800000000000001,
          6.9,
          7,
          7.1000000000000005,
          7.2,
          7.300000000000001,
          7.4,
          7.5,
          7.6000000000000005,
          7.7,
          7.800000000000001,
          7.9,
          8,
          8.1,
          8.200000000000001,
          8.3,
          8.4,
          8.5,
          8.6,
          8.700000000000001,
          8.8,
          8.9,
          9,
          9.1,
          9.200000000000001,
          9.3,
          9.4,
          9.5,
          9.600000000000001,
          9.700000000000001,
          9.8,
          9.9,
          10,
          10.100000000000001,
          10.200000000000001,
          10.3,
          10.4,
          10.5,
          10.600000000000001,
          10.700000000000001,
          10.8,
          10.9,
          11,
          11.100000000000001,
          11.200000000000001,
          11.3,
          11.4,
          11.5,
          11.600000000000001,
          11.700000000000001,
          11.8,
          11.9,
          12,
          12.100000000000001,
          12.200000000000001,
          12.3,
          12.4,
          12.5,
          12.600000000000001,
          12.700000000000001,
          12.8,
          12.9,
          13,
          13.100000000000001,
          13.200000000000001,
          13.3,
          13.4,
          13.5,
          13.600000000000001,
          13.700000000000001,
          13.8,
          13.9,
          14,
          14.100000000000001,
          14.200000000000001,
          14.3,
          14.4,
          14.5,
          14.600000000000001,
          14.700000000000001,
          14.8,
          14.9,
          15,
          15.100000000000001,
          15.200000000000001,
          15.3,
          15.4,
          15.5,
          15.600000000000001,
          15.700000000000001,
          15.8,
          15.9,
          16,
          16.1,
          16.2,
          16.3,
          16.400000000000002,
          16.5,
          16.6,
          16.7,
          16.8,
          16.900000000000002,
          17,
          17.1,
          17.2,
          17.3,
          17.400000000000002,
          17.5,
          17.6,
          17.7,
          17.8,
          17.900000000000002,
          18,
          18.1,
          18.2,
          18.3,
          18.400000000000002,
          18.5,
          18.6,
          18.7,
          18.8,
          18.900000000000002,
          19,
          19.1,
          19.200000000000003,
          19.3,
          19.400000000000002,
          19.5,
          19.6,
          19.700000000000003,
          19.8,
          19.900000000000002
         ],
         "xaxis": "x2",
         "y": [
          1.065015105856133e-07,
          1.435481555328672e-07,
          1.9308212211238166e-07,
          2.591585766805508e-07,
          3.4709191006163977e-07,
          4.638258449820393e-07,
          6.184050125326233e-07,
          8.225733623909312e-07,
          1.0915303244128463e-06,
          1.4448821660129586e-06,
          1.9078335893907396e-06,
          2.5126733717610025e-06,
          3.300617835715478e-06,
          4.324087178807389e-06,
          5.649502179111224e-06,
          7.360702453957516e-06,
          9.56310213185691e-06,
          1.2388714256747596e-05,
          1.600219111888034e-05,
          2.060804350558282e-05,
          2.6459216947664882e-05,
          3.386721660340092e-05,
          4.321398350603076e-05,
          5.496573237285682e-05,
          6.968896375301858e-05,
          8.806885956904432e-05,
          0.00011093025958925487,
          0.00013926139552703924,
          0.00017424052781173216,
          0.0002172655862543494,
          0.00026998685870872115,
          0.0003343427006145838,
          0.00041259815267281484,
          0.0005073862540889788,
          0.0006217517257583863,
          0.0007591965731567616,
          0.0009237270250853584,
          0.0011199010852005408,
          0.0013528758326821749,
          0.001628453471481371,
          0.001953125,
          0.0023341102609171463,
          0.002779393040539764,
          0.0032977498248061227,
          0.0038987707908244465,
          0.0045928716237888,
          0.005391294803438178,
          0.006306099104715398,
          0.007350136205116869,
          0.008537013485750844,
          0.00988104235173394,
          0.011397171675666515,
          0.013100906279042236,
          0.015008210702343535,
          0.017135398865578192,
          0.01949901057637193,
          0.02211567619103711,
          0.0250019710637222,
          0.028174261718573717,
          0.03164854593939887,
          0.035440289181488546,
          0.039564259863600286,
          0.04403436618917305,
          0.048863497171423194,
          0.05406337049615434,
          0.059644389750327806,
          0.0656155133773272,
          0.07198413749706453,
          0.0787559944580009,
          0.08593506867753767,
          0.09352353098683266,
          0.10152169233618895,
          0.10992797734823977,
          0.11873891783842361,
          0.12794916606532206,
          0.13755152713610014,
          0.14753700968207,
          0.1578948936426271,
          0.16861281375729356,
          0.17967685716871093,
          0.19107167338610248,
          0.20278059474945376,
          0.21478576546873326,
          0.22706827728799786,
          0.23960830983839776,
          0.252385273793311,
          0.26537795501898054,
          0.27856465802052355,
          0.29192334711132123,
          0.3054317838788061,
          0.3190676596768326,
          0.3328087220397409,
          0.34663289408173087,
          0.36051838611353687,
          0.3744437988733348,
          0.38838821792748734,
          0.40233129894684194,
          0.4162533437039486,
          0.43013536676438524,
          0.44395915296041316,
          0.45770730583686964,
          0.4713632873473268,
          0.48491144915319867,
          0.4983370559400385,
          0.5116263012142919,
          0.5247663160810029,
          0.53774517152928,
          0.5505518747686988,
          0.5631763601671641,
          0.5756094753402797,
          0.5878429629348257,
          0.5998694386356328,
          0.6116823659069757,
          0.6232760279573436,
          0.6346454973911174,
          0.6457866039829496,
          0.6566959009812072,
          0.6673706303164717,
          0.6778086870600664,
          0.6880085834467683,
          0.6979694127452144,
          0.7076908132298156,
          0.7171729324791581,
          0.7264163921983764,
          0.7354222537368392,
          0.7441919844479105,
          0.7527274250146027,
          0.7610307578435744,
          0.7691044766103888,
          0.7769513570209472,
          0.7845744288377122,
          0.7919769492047104,
          0.7991623772920328,
          0.8061343502689903,
          0.8128966606046493,
          0.8194532346856039,
          0.8258081127329446,
          0.8319654299938243,
          0.8379293991773437,
          0.8437042940998458,
          0.849294434500883,
          0.8547041719881419,
          0.8599378770672179,
          0.8649999272105313,
          0.8698946959184523,
          0.8746265427251213,
          0.8791998041011936,
          0.8836187852059053,
          0.8878877524413329,
          0.89201092676245,
          0.8959924776975723,
          0.8998365180349399,
          0.9035470991324841,
          0.9071282068093097,
          0.9105837577788862,
          0.9139175965856304,
          0.9171334930081291,
          0.9202351398939992,
          0.9232261513930192,
          0.9261100615569122,
          0.9288903232757593,
          0.9315703075227766,
          0.9341533028806991,
          0.9366425153246679,
          0.9390410682380316,
          0.941352002638926,
          0.9435782775969689,
          0.9457227708207577,
          0.9477882793981357,
          0.9497775206725448,
          0.9516931332398676,
          0.9535376780513591,
          0.9553136396093508,
          0.9570234272433966,
          0.9586693764555141,
          0.9602537503240773,
          0.9617787409567603,
          0.9632464709837609,
          0.9646589950832523,
          0.9660183015317171,
          0.9673263137725207,
          0.9685848919966155,
          0.9697958347299228,
          0.9709608804223948,
          0.9720817090343157,
          0.973159943615824,
          0.9741971518760564,
          0.9751948477387443,
          0.9761544928814027,
          0.9770774982556474,
          0.9779652255864217,
          0.9788189888482395,
          0.9796400557168069,
          0.9804296489945855,
          0.9811889480091468,
          0.981919089983287,
          0.9826211713761148,
          0.9832962491944643,
          0.9839453422741261,
          0.9845694325305494
         ],
         "yaxis": "y2"
        }
       ],
       "layout": {
        "annotations": [
         {
          "font": {
           "size": 16
          },
          "showarrow": false,
          "text": "PDF comparison",
          "x": 0.225,
          "xanchor": "center",
          "xref": "paper",
          "y": 1,
          "yanchor": "bottom",
          "yref": "paper"
         },
         {
          "font": {
           "size": 16
          },
          "showarrow": false,
          "text": "CDF comparison",
          "x": 0.775,
          "xanchor": "center",
          "xref": "paper",
          "y": 1,
          "yanchor": "bottom",
          "yref": "paper"
         }
        ],
        "height": 350,
        "margin": {
         "b": 20,
         "l": 20,
         "r": 20,
         "t": 50
        },
        "template": {
         "data": {
          "bar": [
           {
            "error_x": {
             "color": "#2a3f5f"
            },
            "error_y": {
             "color": "#2a3f5f"
            },
            "marker": {
             "line": {
              "color": "#E5ECF6",
              "width": 0.5
             }
            },
            "type": "bar"
           }
          ],
          "barpolar": [
           {
            "marker": {
             "line": {
              "color": "#E5ECF6",
              "width": 0.5
             }
            },
            "type": "barpolar"
           }
          ],
          "carpet": [
           {
            "aaxis": {
             "endlinecolor": "#2a3f5f",
             "gridcolor": "white",
             "linecolor": "white",
             "minorgridcolor": "white",
             "startlinecolor": "#2a3f5f"
            },
            "baxis": {
             "endlinecolor": "#2a3f5f",
             "gridcolor": "white",
             "linecolor": "white",
             "minorgridcolor": "white",
             "startlinecolor": "#2a3f5f"
            },
            "type": "carpet"
           }
          ],
          "choropleth": [
           {
            "colorbar": {
             "outlinewidth": 0,
             "ticks": ""
            },
            "type": "choropleth"
           }
          ],
          "contour": [
           {
            "colorbar": {
             "outlinewidth": 0,
             "ticks": ""
            },
            "colorscale": [
             [
              0,
              "#0d0887"
             ],
             [
              0.1111111111111111,
              "#46039f"
             ],
             [
              0.2222222222222222,
              "#7201a8"
             ],
             [
              0.3333333333333333,
              "#9c179e"
             ],
             [
              0.4444444444444444,
              "#bd3786"
             ],
             [
              0.5555555555555556,
              "#d8576b"
             ],
             [
              0.6666666666666666,
              "#ed7953"
             ],
             [
              0.7777777777777778,
              "#fb9f3a"
             ],
             [
              0.8888888888888888,
              "#fdca26"
             ],
             [
              1,
              "#f0f921"
             ]
            ],
            "type": "contour"
           }
          ],
          "contourcarpet": [
           {
            "colorbar": {
             "outlinewidth": 0,
             "ticks": ""
            },
            "type": "contourcarpet"
           }
          ],
          "heatmap": [
           {
            "colorbar": {
             "outlinewidth": 0,
             "ticks": ""
            },
            "colorscale": [
             [
              0,
              "#0d0887"
             ],
             [
              0.1111111111111111,
              "#46039f"
             ],
             [
              0.2222222222222222,
              "#7201a8"
             ],
             [
              0.3333333333333333,
              "#9c179e"
             ],
             [
              0.4444444444444444,
              "#bd3786"
             ],
             [
              0.5555555555555556,
              "#d8576b"
             ],
             [
              0.6666666666666666,
              "#ed7953"
             ],
             [
              0.7777777777777778,
              "#fb9f3a"
             ],
             [
              0.8888888888888888,
              "#fdca26"
             ],
             [
              1,
              "#f0f921"
             ]
            ],
            "type": "heatmap"
           }
          ],
          "heatmapgl": [
           {
            "colorbar": {
             "outlinewidth": 0,
             "ticks": ""
            },
            "colorscale": [
             [
              0,
              "#0d0887"
             ],
             [
              0.1111111111111111,
              "#46039f"
             ],
             [
              0.2222222222222222,
              "#7201a8"
             ],
             [
              0.3333333333333333,
              "#9c179e"
             ],
             [
              0.4444444444444444,
              "#bd3786"
             ],
             [
              0.5555555555555556,
              "#d8576b"
             ],
             [
              0.6666666666666666,
              "#ed7953"
             ],
             [
              0.7777777777777778,
              "#fb9f3a"
             ],
             [
              0.8888888888888888,
              "#fdca26"
             ],
             [
              1,
              "#f0f921"
             ]
            ],
            "type": "heatmapgl"
           }
          ],
          "histogram": [
           {
            "marker": {
             "colorbar": {
              "outlinewidth": 0,
              "ticks": ""
             }
            },
            "type": "histogram"
           }
          ],
          "histogram2d": [
           {
            "colorbar": {
             "outlinewidth": 0,
             "ticks": ""
            },
            "colorscale": [
             [
              0,
              "#0d0887"
             ],
             [
              0.1111111111111111,
              "#46039f"
             ],
             [
              0.2222222222222222,
              "#7201a8"
             ],
             [
              0.3333333333333333,
              "#9c179e"
             ],
             [
              0.4444444444444444,
              "#bd3786"
             ],
             [
              0.5555555555555556,
              "#d8576b"
             ],
             [
              0.6666666666666666,
              "#ed7953"
             ],
             [
              0.7777777777777778,
              "#fb9f3a"
             ],
             [
              0.8888888888888888,
              "#fdca26"
             ],
             [
              1,
              "#f0f921"
             ]
            ],
            "type": "histogram2d"
           }
          ],
          "histogram2dcontour": [
           {
            "colorbar": {
             "outlinewidth": 0,
             "ticks": ""
            },
            "colorscale": [
             [
              0,
              "#0d0887"
             ],
             [
              0.1111111111111111,
              "#46039f"
             ],
             [
              0.2222222222222222,
              "#7201a8"
             ],
             [
              0.3333333333333333,
              "#9c179e"
             ],
             [
              0.4444444444444444,
              "#bd3786"
             ],
             [
              0.5555555555555556,
              "#d8576b"
             ],
             [
              0.6666666666666666,
              "#ed7953"
             ],
             [
              0.7777777777777778,
              "#fb9f3a"
             ],
             [
              0.8888888888888888,
              "#fdca26"
             ],
             [
              1,
              "#f0f921"
             ]
            ],
            "type": "histogram2dcontour"
           }
          ],
          "mesh3d": [
           {
            "colorbar": {
             "outlinewidth": 0,
             "ticks": ""
            },
            "type": "mesh3d"
           }
          ],
          "parcoords": [
           {
            "line": {
             "colorbar": {
              "outlinewidth": 0,
              "ticks": ""
             }
            },
            "type": "parcoords"
           }
          ],
          "pie": [
           {
            "automargin": true,
            "type": "pie"
           }
          ],
          "scatter": [
           {
            "marker": {
             "colorbar": {
              "outlinewidth": 0,
              "ticks": ""
             }
            },
            "type": "scatter"
           }
          ],
          "scatter3d": [
           {
            "line": {
             "colorbar": {
              "outlinewidth": 0,
              "ticks": ""
             }
            },
            "marker": {
             "colorbar": {
              "outlinewidth": 0,
              "ticks": ""
             }
            },
            "type": "scatter3d"
           }
          ],
          "scattercarpet": [
           {
            "marker": {
             "colorbar": {
              "outlinewidth": 0,
              "ticks": ""
             }
            },
            "type": "scattercarpet"
           }
          ],
          "scattergeo": [
           {
            "marker": {
             "colorbar": {
              "outlinewidth": 0,
              "ticks": ""
             }
            },
            "type": "scattergeo"
           }
          ],
          "scattergl": [
           {
            "marker": {
             "colorbar": {
              "outlinewidth": 0,
              "ticks": ""
             }
            },
            "type": "scattergl"
           }
          ],
          "scattermapbox": [
           {
            "marker": {
             "colorbar": {
              "outlinewidth": 0,
              "ticks": ""
             }
            },
            "type": "scattermapbox"
           }
          ],
          "scatterpolar": [
           {
            "marker": {
             "colorbar": {
              "outlinewidth": 0,
              "ticks": ""
             }
            },
            "type": "scatterpolar"
           }
          ],
          "scatterpolargl": [
           {
            "marker": {
             "colorbar": {
              "outlinewidth": 0,
              "ticks": ""
             }
            },
            "type": "scatterpolargl"
           }
          ],
          "scatterternary": [
           {
            "marker": {
             "colorbar": {
              "outlinewidth": 0,
              "ticks": ""
             }
            },
            "type": "scatterternary"
           }
          ],
          "surface": [
           {
            "colorbar": {
             "outlinewidth": 0,
             "ticks": ""
            },
            "colorscale": [
             [
              0,
              "#0d0887"
             ],
             [
              0.1111111111111111,
              "#46039f"
             ],
             [
              0.2222222222222222,
              "#7201a8"
             ],
             [
              0.3333333333333333,
              "#9c179e"
             ],
             [
              0.4444444444444444,
              "#bd3786"
             ],
             [
              0.5555555555555556,
              "#d8576b"
             ],
             [
              0.6666666666666666,
              "#ed7953"
             ],
             [
              0.7777777777777778,
              "#fb9f3a"
             ],
             [
              0.8888888888888888,
              "#fdca26"
             ],
             [
              1,
              "#f0f921"
             ]
            ],
            "type": "surface"
           }
          ],
          "table": [
           {
            "cells": {
             "fill": {
              "color": "#EBF0F8"
             },
             "line": {
              "color": "white"
             }
            },
            "header": {
             "fill": {
              "color": "#C8D4E3"
             },
             "line": {
              "color": "white"
             }
            },
            "type": "table"
           }
          ]
         },
         "layout": {
          "annotationdefaults": {
           "arrowcolor": "#2a3f5f",
           "arrowhead": 0,
           "arrowwidth": 1
          },
          "coloraxis": {
           "colorbar": {
            "outlinewidth": 0,
            "ticks": ""
           }
          },
          "colorscale": {
           "diverging": [
            [
             0,
             "#8e0152"
            ],
            [
             0.1,
             "#c51b7d"
            ],
            [
             0.2,
             "#de77ae"
            ],
            [
             0.3,
             "#f1b6da"
            ],
            [
             0.4,
             "#fde0ef"
            ],
            [
             0.5,
             "#f7f7f7"
            ],
            [
             0.6,
             "#e6f5d0"
            ],
            [
             0.7,
             "#b8e186"
            ],
            [
             0.8,
             "#7fbc41"
            ],
            [
             0.9,
             "#4d9221"
            ],
            [
             1,
             "#276419"
            ]
           ],
           "sequential": [
            [
             0,
             "#0d0887"
            ],
            [
             0.1111111111111111,
             "#46039f"
            ],
            [
             0.2222222222222222,
             "#7201a8"
            ],
            [
             0.3333333333333333,
             "#9c179e"
            ],
            [
             0.4444444444444444,
             "#bd3786"
            ],
            [
             0.5555555555555556,
             "#d8576b"
            ],
            [
             0.6666666666666666,
             "#ed7953"
            ],
            [
             0.7777777777777778,
             "#fb9f3a"
            ],
            [
             0.8888888888888888,
             "#fdca26"
            ],
            [
             1,
             "#f0f921"
            ]
           ],
           "sequentialminus": [
            [
             0,
             "#0d0887"
            ],
            [
             0.1111111111111111,
             "#46039f"
            ],
            [
             0.2222222222222222,
             "#7201a8"
            ],
            [
             0.3333333333333333,
             "#9c179e"
            ],
            [
             0.4444444444444444,
             "#bd3786"
            ],
            [
             0.5555555555555556,
             "#d8576b"
            ],
            [
             0.6666666666666666,
             "#ed7953"
            ],
            [
             0.7777777777777778,
             "#fb9f3a"
            ],
            [
             0.8888888888888888,
             "#fdca26"
            ],
            [
             1,
             "#f0f921"
            ]
           ]
          },
          "colorway": [
           "#636efa",
           "#EF553B",
           "#00cc96",
           "#ab63fa",
           "#FFA15A",
           "#19d3f3",
           "#FF6692",
           "#B6E880",
           "#FF97FF",
           "#FECB52"
          ],
          "font": {
           "color": "#2a3f5f"
          },
          "geo": {
           "bgcolor": "white",
           "lakecolor": "white",
           "landcolor": "#E5ECF6",
           "showlakes": true,
           "showland": true,
           "subunitcolor": "white"
          },
          "hoverlabel": {
           "align": "left"
          },
          "hovermode": "closest",
          "mapbox": {
           "style": "light"
          },
          "paper_bgcolor": "white",
          "plot_bgcolor": "#E5ECF6",
          "polar": {
           "angularaxis": {
            "gridcolor": "white",
            "linecolor": "white",
            "ticks": ""
           },
           "bgcolor": "#E5ECF6",
           "radialaxis": {
            "gridcolor": "white",
            "linecolor": "white",
            "ticks": ""
           }
          },
          "scene": {
           "xaxis": {
            "backgroundcolor": "#E5ECF6",
            "gridcolor": "white",
            "gridwidth": 2,
            "linecolor": "white",
            "showbackground": true,
            "ticks": "",
            "zerolinecolor": "white"
           },
           "yaxis": {
            "backgroundcolor": "#E5ECF6",
            "gridcolor": "white",
            "gridwidth": 2,
            "linecolor": "white",
            "showbackground": true,
            "ticks": "",
            "zerolinecolor": "white"
           },
           "zaxis": {
            "backgroundcolor": "#E5ECF6",
            "gridcolor": "white",
            "gridwidth": 2,
            "linecolor": "white",
            "showbackground": true,
            "ticks": "",
            "zerolinecolor": "white"
           }
          },
          "shapedefaults": {
           "line": {
            "color": "#2a3f5f"
           }
          },
          "ternary": {
           "aaxis": {
            "gridcolor": "white",
            "linecolor": "white",
            "ticks": ""
           },
           "baxis": {
            "gridcolor": "white",
            "linecolor": "white",
            "ticks": ""
           },
           "bgcolor": "#E5ECF6",
           "caxis": {
            "gridcolor": "white",
            "linecolor": "white",
            "ticks": ""
           }
          },
          "title": {
           "x": 0.05
          },
          "xaxis": {
           "automargin": true,
           "gridcolor": "white",
           "linecolor": "white",
           "ticks": "",
           "title": {
            "standoff": 15
           },
           "zerolinecolor": "white",
           "zerolinewidth": 2
          },
          "yaxis": {
           "automargin": true,
           "gridcolor": "white",
           "linecolor": "white",
           "ticks": "",
           "title": {
            "standoff": 15
           },
           "zerolinecolor": "white",
           "zerolinewidth": 2
          }
         }
        },
        "xaxis": {
         "anchor": "y",
         "domain": [
          0,
          0.45
         ],
         "linecolor": "black",
         "linewidth": 1.5,
         "mirror": true,
         "showline": true,
         "title": {
          "text": "Days"
         }
        },
        "xaxis2": {
         "anchor": "y2",
         "domain": [
          0.55,
          1
         ],
         "linecolor": "black",
         "linewidth": 1.5,
         "mirror": true,
         "showline": true,
         "title": {
          "text": "Days"
         }
        },
        "yaxis": {
         "anchor": "x",
         "domain": [
          0,
          1
         ],
         "linecolor": "black",
         "linewidth": 1.5,
         "mirror": true,
         "showline": true,
         "title": {
          "text": "Probability density"
         }
        },
        "yaxis2": {
         "anchor": "x2",
         "domain": [
          0,
          1
         ],
         "linecolor": "black",
         "linewidth": 1.5,
         "mirror": true,
         "showline": true,
         "title": {
          "text": "Probability"
         }
        }
       }
      },
      "text/html": [
       "<div>\n",
       "        \n",
       "        \n",
       "            <div id=\"0efdd535-0053-4183-92fd-105894a95737\" class=\"plotly-graph-div\" style=\"height:350px; width:100%;\"></div>\n",
       "            <script type=\"text/javascript\">\n",
       "                require([\"plotly\"], function(Plotly) {\n",
       "                    window.PLOTLYENV=window.PLOTLYENV || {};\n",
       "                    \n",
       "                if (document.getElementById(\"0efdd535-0053-4183-92fd-105894a95737\")) {\n",
       "                    Plotly.newPlot(\n",
       "                        '0efdd535-0053-4183-92fd-105894a95737',\n",
       "                        [{\"line\": {\"color\": \"rgb(31, 119, 180)\"}, \"mode\": \"lines\", \"name\": \"Skew normal\", \"showlegend\": true, \"type\": \"scatter\", \"x\": [0.0, 0.1, 0.2, 0.30000000000000004, 0.4, 0.5, 0.6000000000000001, 0.7000000000000001, 0.8, 0.9, 1.0, 1.1, 1.2000000000000002, 1.3, 1.4000000000000001, 1.5, 1.6, 1.7000000000000002, 1.8, 1.9000000000000001, 2.0, 2.1, 2.2, 2.3000000000000003, 2.4000000000000004, 2.5, 2.6, 2.7, 2.8000000000000003, 2.9000000000000004, 3.0, 3.1, 3.2, 3.3000000000000003, 3.4000000000000004, 3.5, 3.6, 3.7, 3.8000000000000003, 3.9000000000000004, 4.0, 4.1000000000000005, 4.2, 4.3, 4.4, 4.5, 4.6000000000000005, 4.7, 4.800000000000001, 4.9, 5.0, 5.1000000000000005, 5.2, 5.300000000000001, 5.4, 5.5, 5.6000000000000005, 5.7, 5.800000000000001, 5.9, 6.0, 6.1000000000000005, 6.2, 6.300000000000001, 6.4, 6.5, 6.6000000000000005, 6.7, 6.800000000000001, 6.9, 7.0, 7.1000000000000005, 7.2, 7.300000000000001, 7.4, 7.5, 7.6000000000000005, 7.7, 7.800000000000001, 7.9, 8.0, 8.1, 8.200000000000001, 8.3, 8.4, 8.5, 8.6, 8.700000000000001, 8.8, 8.9, 9.0, 9.1, 9.200000000000001, 9.3, 9.4, 9.5, 9.600000000000001, 9.700000000000001, 9.8, 9.9, 10.0, 10.100000000000001, 10.200000000000001, 10.3, 10.4, 10.5, 10.600000000000001, 10.700000000000001, 10.8, 10.9, 11.0, 11.100000000000001, 11.200000000000001, 11.3, 11.4, 11.5, 11.600000000000001, 11.700000000000001, 11.8, 11.9, 12.0, 12.100000000000001, 12.200000000000001, 12.3, 12.4, 12.5, 12.600000000000001, 12.700000000000001, 12.8, 12.9, 13.0, 13.100000000000001, 13.200000000000001, 13.3, 13.4, 13.5, 13.600000000000001, 13.700000000000001, 13.8, 13.9, 14.0, 14.100000000000001, 14.200000000000001, 14.3, 14.4, 14.5, 14.600000000000001, 14.700000000000001, 14.8, 14.9, 15.0, 15.100000000000001, 15.200000000000001, 15.3, 15.4, 15.5, 15.600000000000001, 15.700000000000001, 15.8, 15.9, 16.0, 16.1, 16.2, 16.3, 16.400000000000002, 16.5, 16.6, 16.7, 16.8, 16.900000000000002, 17.0, 17.1, 17.2, 17.3, 17.400000000000002, 17.5, 17.6, 17.7, 17.8, 17.900000000000002, 18.0, 18.1, 18.2, 18.3, 18.400000000000002, 18.5, 18.6, 18.7, 18.8, 18.900000000000002, 19.0, 19.1, 19.200000000000003, 19.3, 19.400000000000002, 19.5, 19.6, 19.700000000000003, 19.8, 19.900000000000002], \"xaxis\": \"x\", \"y\": [7.992900708649569e-07, 1.0693427239663152e-06, 1.4251528629264326e-06, 1.892080418635859e-06, 2.502378355651405e-06, 3.296881102777417e-06, 4.3270534632791786e-06, 5.657462699565655e-06, 7.36874377207368e-06, 9.561134935456907e-06, 1.2358667774652954e-05, 1.59141019475207e-05, 2.0414699964815813e-05, 2.6088940782579916e-05, 3.321427223332114e-05, 4.2126000739359775e-05, 5.322741163553295e-05, 6.700120403855353e-05, 8.402230977693742e-05, 0.0001049721456883755, 0.00013065432189619965, 0.00016201179487664396, 0.00020014541274411516, 0.00024633375092297284, 0.0003020540791986167, 0.00036900423630980466, 0.0004491251163805107, 0.0005446233936268802, 0.0006579940293995775, 0.0007920420207023849, 0.000949902764325714, 0.001135060328593536, 0.0013513628488371649, 0.001603034196858221, 0.0018946810228970365, 0.0022312942352230086, 0.0026182439716661565, 0.003061267133308015, 0.0035664465968710474, 0.004140181302232223, 0.004789146527272138, 0.005520243815260762, 0.0063405402102450995, 0.007257196682100181, 0.008277385882143228, 0.009408199657971537, 0.01065654706629919, 0.012029043947276857, 0.013531895453869975, 0.015170773254894123, 0.016950689438882262, 0.018875869426146916, 0.02094962643614625, 0.023174240244883036, 0.02555084309176462, 0.02807931564775635, 0.03075819592930317, 0.03358460393030092, 0.03655418454504482, 0.03966107106930766, 0.042897871198462674, 0.04625567699809028, 0.04972409981417412, 0.053291330530084925, 0.056944224981859734, 0.060668413729585466, 0.06444843477010169, 0.06826788718449121, 0.07210960316251502, 0.07595583535391419, 0.07978845608028654, 0.0835891646155523, 0.08733969851932702, 0.0910220448937516, 0.09461864743454192, 0.09811260526121926, 0.10148785973560273, 0.10472936580375962, 0.10782324481324226, 0.1107569162500813, 0.11351920639171968, 0.11610043246420851, 0.11849246150496089, 0.12068874374642555, 0.12268432093208828, 0.12447581053645332, 0.12606136736931609, 0.12744062448841859, 0.12861461571310512, 0.1295856823176395, 0.13035736668244707, 0.13093429579396743, 0.13132205751136694, 0.13152707246614098, 0.13155646433609966, 0.13141793104774827, 0.1311196192214466, 0.13067000389363317, 0.13007777524189593, 0.12935173371369146, 0.12850069462944774, 0.1275334030060737, 0.1264584590367618, 0.12528425437516097, 0.12401891911269095, 0.1226702791114815, 0.12124582316504413, 0.11975267930566183, 0.11819759946154393, 0.11658695158673651, 0.11492671834026738, 0.11322250137490049, 0.11147953030644864, 0.10970267546775578, 0.10789646360295471, 0.10606509572319214, 0.10421246642062262, 0.10234218401932516, 0.10045759102650273, 0.09856178443194044, 0.09665763548576115, 0.09474780866206345, 0.09283477958756953, 0.09092085177891582, 0.08900817208906893, 0.08709874481228086, 0.08519444443805381, 0.08329702707806073, 0.08140814061633896, 0.07952933365296282, 0.07766206332551054, 0.07580770210172064, 0.07396754364155003, 0.07214280782813254, 0.07033464506560168, 0.06854413993802017, 0.06677231431832985, 0.06502013000979501, 0.0632884909952903, 0.06157824536232951, 0.059890186964227085, 0.05822505687045121, 0.056583544652229235, 0.054966289542914396, 0.053373881506596964, 0.05180686224297511, 0.05026572615161169, 0.04875092127437785, 0.04726285023110451, 0.045801871160193006, 0.044368298673133896, 0.04296240482950752, 0.04158442013704346, 0.04023453457965395, 0.0389128986749881, 0.037619624561935475, 0.0363547871176081, 0.03511842510261267, 0.03391054233286091, 0.032731108875734716, 0.03158006226809579, 0.030457308753393995, 0.029362724534965072, 0.028296157042505765, 0.027257426208661322, 0.0262463257526454, 0.025262624467832506, 0.024306067510308192, 0.02337637768542786, 0.022473256729520327, 0.021596386583968497, 0.0207454306590087, 0.01992003508470819, 0.019119829946702756, 0.018344430504408444, 0.017593438389552574, 0.01686644278300669, 0.016163021568042835, 0.015482742458272183, 0.014825164098666563, 0.014189837138200856, 0.013576305272793795, 0.012984106257361013, 0.01241277288592871, 0.011861833938889533, 0.011330815096611015, 0.010819239818734299, 0.01032663018862362, 0.009852507722545893, 0.009396394143276154, 0.008957812117934463, 0.008536285959967454, 0.008131342295289319, 0.007742510692694172, 0.007369324258744442, 0.007011320197427192, 0.006668040334952283, 0.006339031610144238, 0.006023846530950932, 0.005722043597659843], \"yaxis\": \"y\"}, {\"line\": {\"color\": \"rgb(255, 127, 14)\", \"dash\": \"dash\"}, \"mode\": \"lines\", \"name\": \"Richards\", \"showlegend\": true, \"type\": \"scatter\", \"x\": [0.0, 0.1, 0.2, 0.30000000000000004, 0.4, 0.5, 0.6000000000000001, 0.7000000000000001, 0.8, 0.9, 1.0, 1.1, 1.2000000000000002, 1.3, 1.4000000000000001, 1.5, 1.6, 1.7000000000000002, 1.8, 1.9000000000000001, 2.0, 2.1, 2.2, 2.3000000000000003, 2.4000000000000004, 2.5, 2.6, 2.7, 2.8000000000000003, 2.9000000000000004, 3.0, 3.1, 3.2, 3.3000000000000003, 3.4000000000000004, 3.5, 3.6, 3.7, 3.8000000000000003, 3.9000000000000004, 4.0, 4.1000000000000005, 4.2, 4.3, 4.4, 4.5, 4.6000000000000005, 4.7, 4.800000000000001, 4.9, 5.0, 5.1000000000000005, 5.2, 5.300000000000001, 5.4, 5.5, 5.6000000000000005, 5.7, 5.800000000000001, 5.9, 6.0, 6.1000000000000005, 6.2, 6.300000000000001, 6.4, 6.5, 6.6000000000000005, 6.7, 6.800000000000001, 6.9, 7.0, 7.1000000000000005, 7.2, 7.300000000000001, 7.4, 7.5, 7.6000000000000005, 7.7, 7.800000000000001, 7.9, 8.0, 8.1, 8.200000000000001, 8.3, 8.4, 8.5, 8.6, 8.700000000000001, 8.8, 8.9, 9.0, 9.1, 9.200000000000001, 9.3, 9.4, 9.5, 9.600000000000001, 9.700000000000001, 9.8, 9.9, 10.0, 10.100000000000001, 10.200000000000001, 10.3, 10.4, 10.5, 10.600000000000001, 10.700000000000001, 10.8, 10.9, 11.0, 11.100000000000001, 11.200000000000001, 11.3, 11.4, 11.5, 11.600000000000001, 11.700000000000001, 11.8, 11.9, 12.0, 12.100000000000001, 12.200000000000001, 12.3, 12.4, 12.5, 12.600000000000001, 12.700000000000001, 12.8, 12.9, 13.0, 13.100000000000001, 13.200000000000001, 13.3, 13.4, 13.5, 13.600000000000001, 13.700000000000001, 13.8, 13.9, 14.0, 14.100000000000001, 14.200000000000001, 14.3, 14.4, 14.5, 14.600000000000001, 14.700000000000001, 14.8, 14.9, 15.0, 15.100000000000001, 15.200000000000001, 15.3, 15.4, 15.5, 15.600000000000001, 15.700000000000001, 15.8, 15.9, 16.0, 16.1, 16.2, 16.3, 16.400000000000002, 16.5, 16.6, 16.7, 16.8, 16.900000000000002, 17.0, 17.1, 17.2, 17.3, 17.400000000000002, 17.5, 17.6, 17.7, 17.8, 17.900000000000002, 18.0, 18.1, 18.2, 18.3, 18.400000000000002, 18.5, 18.6, 18.7, 18.8, 18.900000000000002, 19.0, 19.1, 19.200000000000003, 19.3, 19.400000000000002, 19.5, 19.6, 19.700000000000003, 19.8, 19.900000000000002], \"xaxis\": \"x\", \"y\": [3.190003734663556e-07, 4.270373986997606e-07, 5.7035271998773e-07, 7.599724942285207e-07, 1.010189048997662e-06, 1.3394650317899848e-06, 1.7715664290202695e-06, 2.3369754595371183e-06, 3.074643569865163e-06, 4.034155006147689e-06, 5.278382626459221e-06, 6.88672958269067e-06, 8.959062979582627e-06, 1.1620458224666077e-05, 1.502688498987349e-05, 1.937197682535087e-05, 2.4895035634238132e-05, 3.18904283846616e-05, 4.0718535368438775e-05, 5.1818405610659884e-05, 6.572226414422877e-05, 8.307199614876812e-05, 0.00010463770274978437, 0.00013133838098533063, 0.0001642647246600861, 0.00020470397242632285, 0.0002541666438348293, 0.00031441490329838797, 0.00038749217671573116, 0.00047575351767471823, 0.0005818960825251672, 0.0007089889301796982, 0.0008605012184464825, 0.0010403277303421723, 0.001252810538504644, 0.0015027555116329822, 0.0017954422923953431, 0.0021366263400783114, 0.002532531641575815, 0.0029898327583135864, 0.0035156249999999992, 0.004117381702194791, 0.004802897834483316, 0.005580219477405474, 0.006457559073796276, 0.007443196775056634, 0.00854536865302995, 0.009772143018617492, 0.011131286561625936, 0.012630122483542163, 0.014275383216128312, 0.016073060684306313, 0.01802825736340603, 0.020145041582439578, 0.022426310623835106, 0.024873665157266075, 0.027487298416704425, 0.030265903286445277, 0.03320660010944684, 0.03630488758054542, 0.03955461855292243, 0.04294800198716449, 0.04647563162961932, 0.05012654134339585, 0.053888286354719525, 0.05774704904231687, 0.06168776730936436, 0.06569428305511758, 0.06974950782222838, 0.07383560234780147, 0.07793416649920837, 0.08202643593315986, 0.08609348177807256, 0.09011640970112718, 0.0940765548750438, 0.09795566959521146, 0.1017361006029673, 0.10540095353169213, 0.10893424229434263, 0.1123210216593336, 0.1155475017020191, 0.11860114325803484, 0.12147073393043348, 0.1241464446044684, 0.12661986679348797, 0.1288840314700164, 0.1309334103229805, 0.13276390062228388, 0.1343727950643446, 0.13575873811714484, 0.13692167048245343, 0.1378627633489275, 0.13858434412639026, 0.13908981533293757, 0.13938356825728143, 0.13947089294372303, 0.1393578859512135, 0.1390513572258492, 0.1385587373023454, 0.13788798591869675, 0.13704750299311508, 0.13604604277674717, 0.13489263186244788, 0.13359649160139359, 0.13216696535747285, 0.1306134509156566, 0.1289453382559999, 0.12717195281026414, 0.1253025042337509, 0.12334604065090868, 0.12131140826947728, 0.1192072162040418, 0.1170418063054032, 0.114823227756535, 0.11255921616841538, 0.11025717688896082, 0.10792417222489412, 0.10556691226888397, 0.1031917490219473, 0.10080467350318363, 0.09841131554471808, 0.09601694597862558, 0.09362648093399646, 0.09124448797563817, 0.08887519383070693, 0.08652249346538647, 0.08418996029020832, 0.08188085728940224, 0.07959814888650278, 0.07734451337508155, 0.07512235575973145, 0.07293382086814323, 0.07078080661016503, 0.06866497727402898, 0.06658777676340133, 0.0645504416915192, 0.06255401426039474, 0.06059935486389204, 0.058687154363413464, 0.05681794599399772, 0.05499211686684735, 0.05320991904171228, 0.05147148014919108, 0.04977681354891582, 0.04812582801481086, 0.046518336943195626, 0.04495406708349668, 0.04343266679478031, 0.04195371383426601, 0.04051672268647554, 0.03912115144375366, 0.03776640825060686, 0.036451857325683804, 0.03517682457629978, 0.03394060282122411, 0.03274245663803131, 0.03158162685169672, 0.030457334681318015, 0.02936878556189172, 0.028315172657990738, 0.027295680085992303, 0.02630948586121735, 0.025355764585973734, 0.02443368989406514, 0.02354243666684625, 0.02268118303538159, 0.021849112182715087, 0.0210454139596847, 0.02026928632712921, 0.019519936636741952, 0.01879658276223023, 0.01809845409184715, 0.017424792392778537, 0.016774852557291657, 0.016147903239992455, 0.015543227394990936, 0.014960122721245991, 0.014397902023850603, 0.013855893498526816, 0.013333440946129937, 0.012829903923510197, 0.012344657836651719, 0.011877093981599484, 0.011426619538296894, 0.01099265752208982, 0.010574646697304395, 0.010172041456978639, 0.009784311672518609, 0.009410942516758565, 0.009051434263632424, 0.008705302067406728, 0.008372075724185905, 0.008051299418176491, 0.007742531454986777, 0.007445343984043612, 0.007159322712025644, 0.0068840666090428685, 0.0066191876091350995, 0.00636431030651589, 0.006119071648852526], \"yaxis\": \"y\"}, {\"line\": {\"color\": \"rgb(31, 119, 180)\"}, \"mode\": \"lines\", \"name\": \"Skew normal\", \"showlegend\": false, \"type\": \"scatter\", \"x\": [0.0, 0.1, 0.2, 0.30000000000000004, 0.4, 0.5, 0.6000000000000001, 0.7000000000000001, 0.8, 0.9, 1.0, 1.1, 1.2000000000000002, 1.3, 1.4000000000000001, 1.5, 1.6, 1.7000000000000002, 1.8, 1.9000000000000001, 2.0, 2.1, 2.2, 2.3000000000000003, 2.4000000000000004, 2.5, 2.6, 2.7, 2.8000000000000003, 2.9000000000000004, 3.0, 3.1, 3.2, 3.3000000000000003, 3.4000000000000004, 3.5, 3.6, 3.7, 3.8000000000000003, 3.9000000000000004, 4.0, 4.1000000000000005, 4.2, 4.3, 4.4, 4.5, 4.6000000000000005, 4.7, 4.800000000000001, 4.9, 5.0, 5.1000000000000005, 5.2, 5.300000000000001, 5.4, 5.5, 5.6000000000000005, 5.7, 5.800000000000001, 5.9, 6.0, 6.1000000000000005, 6.2, 6.300000000000001, 6.4, 6.5, 6.6000000000000005, 6.7, 6.800000000000001, 6.9, 7.0, 7.1000000000000005, 7.2, 7.300000000000001, 7.4, 7.5, 7.6000000000000005, 7.7, 7.800000000000001, 7.9, 8.0, 8.1, 8.200000000000001, 8.3, 8.4, 8.5, 8.6, 8.700000000000001, 8.8, 8.9, 9.0, 9.1, 9.200000000000001, 9.3, 9.4, 9.5, 9.600000000000001, 9.700000000000001, 9.8, 9.9, 10.0, 10.100000000000001, 10.200000000000001, 10.3, 10.4, 10.5, 10.600000000000001, 10.700000000000001, 10.8, 10.9, 11.0, 11.100000000000001, 11.200000000000001, 11.3, 11.4, 11.5, 11.600000000000001, 11.700000000000001, 11.8, 11.9, 12.0, 12.100000000000001, 12.200000000000001, 12.3, 12.4, 12.5, 12.600000000000001, 12.700000000000001, 12.8, 12.9, 13.0, 13.100000000000001, 13.200000000000001, 13.3, 13.4, 13.5, 13.600000000000001, 13.700000000000001, 13.8, 13.9, 14.0, 14.100000000000001, 14.200000000000001, 14.3, 14.4, 14.5, 14.600000000000001, 14.700000000000001, 14.8, 14.9, 15.0, 15.100000000000001, 15.200000000000001, 15.3, 15.4, 15.5, 15.600000000000001, 15.700000000000001, 15.8, 15.9, 16.0, 16.1, 16.2, 16.3, 16.400000000000002, 16.5, 16.6, 16.7, 16.8, 16.900000000000002, 17.0, 17.1, 17.2, 17.3, 17.400000000000002, 17.5, 17.6, 17.7, 17.8, 17.900000000000002, 18.0, 18.1, 18.2, 18.3, 18.400000000000002, 18.5, 18.6, 18.7, 18.8, 18.900000000000002, 19.0, 19.1, 19.200000000000003, 19.3, 19.400000000000002, 19.5, 19.6, 19.700000000000003, 19.8, 19.900000000000002], \"xaxis\": \"x2\", \"y\": [2.619154881951715e-07, 3.5472267309657457e-07, 4.786365241004574e-07, 6.434495352988162e-07, 8.618221252964965e-07, 1.1500536003466443e-06, 1.5290394921694561e-06, 2.025454431369675e-06, 2.6732060932521093e-06, 3.515213850181633e-06, 4.6055726605004075e-06, 6.012172570551948e-06, 7.819852852877339e-06, 1.0134179730869983e-05, 1.3085946572804025e-05, 1.6836505388090826e-05, 2.1584048079629164e-05, 2.7570964808106236e-05, 3.509241454178211e-05, 4.4506248857559706e-05, 5.624443371187711e-05, 7.08261145325799e-05, 8.88724668596216e-05, 0.00011112346710844319, 0.00013845670505334255, 0.0001719083405476732, 0.00021269628107567859, 0.0002622456233119915, 0.0003222163604197634, 0.00039453330699014936, 0.0004814181351789968, 0.0005854233488660817, 0.0007094679480005191, 0.0008568744535145221, 0.0010314068754915633, 0.0012373091152858952, 0.0014793431980563846, 0.0017628266381657294, 0.0020936681489663795, 0.002478400823851804, 0.0029242118405773234, 0.0034389676794129905, 0.004031233801416916, 0.004710287709684154, 0.005486124317294998, 0.006369452573950254, 0.0073716823614967545, 0.008504900758573249, 0.009781836897457393, 0.011215814791892535, 0.012820693702146052, 0.014610795820566305, 0.016600821304015037, 0.018805750944125506, 0.021240737046609344, 0.023920983380036804, 0.026861615345018144, 0.030077541798274605, 0.033583310234074994, 0.03739295726922672, 0.041519856588775904, 0.04597656667987784, 0.05077468080390877, 0.0559246817259937, 0.06143580373225226, 0.06731590441563688, 0.07357134860027634, 0.0802069066029237, 0.08722566880147128, 0.09462897819953126, 0.10241638234956685, 0.11058560563333526, 0.11913254250713283, 0.1280512719111375, 0.13733409262825116, 0.14697157896969495, 0.1569526557734201, 0.16726469133780664, 0.1778936065867746, 0.1888239984816794, 0.2000392754669829, 0.21152180256565659, 0.22325305362966733, 0.23521376820179604, 0.24738411045661285, 0.25974382775794225, 0.2722724064932494, 0.28494922301618175, 0.29775368773999766, 0.3106653806688919, 0.32366417692279437, 0.3367303610953935, 0.3498447295762702, 0.36298868025787806, 0.3761442893290517, 0.38929437512197645, 0.4024225492233626, 0.41551325527828814, 0.42855179610336286, 0.4415243498822843, 0.4544179763404302, 0.467220613885886, 0.4799210687632435, 0.4925089972954937, 0.5049748822909155, 0.5173100046691399, 0.5295064113169896, 0.5415568801239337, 0.5534548830728019, 0.5651945481774, 0.5767706209683858, 0.5881784261353643, 0.5994138298395207, 0.6104732031196954, 0.6213533867276516, 0.6320516576470289, 0.6425656974763103, 0.6528935627898595, 0.6630336575331842, 0.6729847074591481, 0.6827457365707978, 0.6923160455033882, 0.7016951917525793, 0.710882971636989, 0.7198794038705418, 0.728684714612623, 0.7372993238611117, 0.7457238330541346, 0.7539590137501663, 0.7620057972621694, 0.7698652651292442, 0.7775386403181811, 0.7850272790569197, 0.7923326632118308, 0.7994563931306365, 0.8064001808824001, 0.8131658438351961, 0.8197552985206402, 0.8261705547423605, 0.8324137098926487, 0.8384869434479487, 0.8443925116195089, 0.8501327421404763, 0.8557100291749871, 0.8611268283384478, 0.8663856518212824, 0.8714890636109589, 0.876439674809212, 0.881240139043059, 0.8858931479695443, 0.890401426875176, 0.8947677303717914, 0.8989948381911465, 0.9030855510808913, 0.907042686804815, 0.9108690762503483, 0.9145675596462927, 0.9181409828936783, 0.9215921940124913, 0.9249240397068189, 0.928139362050727, 0.9312409952969156, 0.9342317628099204, 0.9371144741253273, 0.9398919221361685, 0.9425668804073495, 0.9451421006186678, 0.9476203101366591, 0.9500042097152266, 0.9522964713247036, 0.9544997361087307, 0.9566166124680486, 0.9586496742700461, 0.9606014591826709, 0.9624744671310493, 0.9642711588749648, 0.9659939547051198, 0.967645233255915, 0.9692273304323071, 0.9707425384481222, 0.9721931049730668, 0.9735812323855282, 0.9749090771281324, 0.9761787491629219, 0.9773923115229046, 0.9785517799566549, 0.9796591226625646, 0.9807162601092859, 0.9817250649388564, 0.9826873619489681, 0.9836049281508087, 0.9844794928988932, 0.9853127380893035, 0.9861062984227518, 0.9868617617289068, 0.9875806693484479, 0.9882645165693351, 0.9889147531138349, 0.9895327836728888, 0.9901199684844589], \"yaxis\": \"y2\"}, {\"line\": {\"color\": \"rgb(255, 127, 14)\", \"dash\": \"dash\"}, \"mode\": \"lines\", \"name\": \"Richards\", \"showlegend\": false, \"type\": \"scatter\", \"x\": [0.0, 0.1, 0.2, 0.30000000000000004, 0.4, 0.5, 0.6000000000000001, 0.7000000000000001, 0.8, 0.9, 1.0, 1.1, 1.2000000000000002, 1.3, 1.4000000000000001, 1.5, 1.6, 1.7000000000000002, 1.8, 1.9000000000000001, 2.0, 2.1, 2.2, 2.3000000000000003, 2.4000000000000004, 2.5, 2.6, 2.7, 2.8000000000000003, 2.9000000000000004, 3.0, 3.1, 3.2, 3.3000000000000003, 3.4000000000000004, 3.5, 3.6, 3.7, 3.8000000000000003, 3.9000000000000004, 4.0, 4.1000000000000005, 4.2, 4.3, 4.4, 4.5, 4.6000000000000005, 4.7, 4.800000000000001, 4.9, 5.0, 5.1000000000000005, 5.2, 5.300000000000001, 5.4, 5.5, 5.6000000000000005, 5.7, 5.800000000000001, 5.9, 6.0, 6.1000000000000005, 6.2, 6.300000000000001, 6.4, 6.5, 6.6000000000000005, 6.7, 6.800000000000001, 6.9, 7.0, 7.1000000000000005, 7.2, 7.300000000000001, 7.4, 7.5, 7.6000000000000005, 7.7, 7.800000000000001, 7.9, 8.0, 8.1, 8.200000000000001, 8.3, 8.4, 8.5, 8.6, 8.700000000000001, 8.8, 8.9, 9.0, 9.1, 9.200000000000001, 9.3, 9.4, 9.5, 9.600000000000001, 9.700000000000001, 9.8, 9.9, 10.0, 10.100000000000001, 10.200000000000001, 10.3, 10.4, 10.5, 10.600000000000001, 10.700000000000001, 10.8, 10.9, 11.0, 11.100000000000001, 11.200000000000001, 11.3, 11.4, 11.5, 11.600000000000001, 11.700000000000001, 11.8, 11.9, 12.0, 12.100000000000001, 12.200000000000001, 12.3, 12.4, 12.5, 12.600000000000001, 12.700000000000001, 12.8, 12.9, 13.0, 13.100000000000001, 13.200000000000001, 13.3, 13.4, 13.5, 13.600000000000001, 13.700000000000001, 13.8, 13.9, 14.0, 14.100000000000001, 14.200000000000001, 14.3, 14.4, 14.5, 14.600000000000001, 14.700000000000001, 14.8, 14.9, 15.0, 15.100000000000001, 15.200000000000001, 15.3, 15.4, 15.5, 15.600000000000001, 15.700000000000001, 15.8, 15.9, 16.0, 16.1, 16.2, 16.3, 16.400000000000002, 16.5, 16.6, 16.7, 16.8, 16.900000000000002, 17.0, 17.1, 17.2, 17.3, 17.400000000000002, 17.5, 17.6, 17.7, 17.8, 17.900000000000002, 18.0, 18.1, 18.2, 18.3, 18.400000000000002, 18.5, 18.6, 18.7, 18.8, 18.900000000000002, 19.0, 19.1, 19.200000000000003, 19.3, 19.400000000000002, 19.5, 19.6, 19.700000000000003, 19.8, 19.900000000000002], \"xaxis\": \"x2\", \"y\": [1.065015105856133e-07, 1.435481555328672e-07, 1.9308212211238166e-07, 2.591585766805508e-07, 3.4709191006163977e-07, 4.638258449820393e-07, 6.184050125326233e-07, 8.225733623909312e-07, 1.0915303244128463e-06, 1.4448821660129586e-06, 1.9078335893907396e-06, 2.5126733717610025e-06, 3.300617835715478e-06, 4.324087178807389e-06, 5.649502179111224e-06, 7.360702453957516e-06, 9.56310213185691e-06, 1.2388714256747596e-05, 1.600219111888034e-05, 2.060804350558282e-05, 2.6459216947664882e-05, 3.386721660340092e-05, 4.321398350603076e-05, 5.496573237285682e-05, 6.968896375301858e-05, 8.806885956904432e-05, 0.00011093025958925487, 0.00013926139552703924, 0.00017424052781173216, 0.0002172655862543494, 0.00026998685870872115, 0.0003343427006145838, 0.00041259815267281484, 0.0005073862540889788, 0.0006217517257583863, 0.0007591965731567616, 0.0009237270250853584, 0.0011199010852005408, 0.0013528758326821749, 0.001628453471481371, 0.001953125, 0.0023341102609171463, 0.002779393040539764, 0.0032977498248061227, 0.0038987707908244465, 0.0045928716237888, 0.005391294803438178, 0.006306099104715398, 0.007350136205116869, 0.008537013485750844, 0.00988104235173394, 0.011397171675666515, 0.013100906279042236, 0.015008210702343535, 0.017135398865578192, 0.01949901057637193, 0.02211567619103711, 0.0250019710637222, 0.028174261718573717, 0.03164854593939887, 0.035440289181488546, 0.039564259863600286, 0.04403436618917305, 0.048863497171423194, 0.05406337049615434, 0.059644389750327806, 0.0656155133773272, 0.07198413749706453, 0.0787559944580009, 0.08593506867753767, 0.09352353098683266, 0.10152169233618895, 0.10992797734823977, 0.11873891783842361, 0.12794916606532206, 0.13755152713610014, 0.14753700968207, 0.1578948936426271, 0.16861281375729356, 0.17967685716871093, 0.19107167338610248, 0.20278059474945376, 0.21478576546873326, 0.22706827728799786, 0.23960830983839776, 0.252385273793311, 0.26537795501898054, 0.27856465802052355, 0.29192334711132123, 0.3054317838788061, 0.3190676596768326, 0.3328087220397409, 0.34663289408173087, 0.36051838611353687, 0.3744437988733348, 0.38838821792748734, 0.40233129894684194, 0.4162533437039486, 0.43013536676438524, 0.44395915296041316, 0.45770730583686964, 0.4713632873473268, 0.48491144915319867, 0.4983370559400385, 0.5116263012142919, 0.5247663160810029, 0.53774517152928, 0.5505518747686988, 0.5631763601671641, 0.5756094753402797, 0.5878429629348257, 0.5998694386356328, 0.6116823659069757, 0.6232760279573436, 0.6346454973911174, 0.6457866039829496, 0.6566959009812072, 0.6673706303164717, 0.6778086870600664, 0.6880085834467683, 0.6979694127452144, 0.7076908132298156, 0.7171729324791581, 0.7264163921983764, 0.7354222537368392, 0.7441919844479105, 0.7527274250146027, 0.7610307578435744, 0.7691044766103888, 0.7769513570209472, 0.7845744288377122, 0.7919769492047104, 0.7991623772920328, 0.8061343502689903, 0.8128966606046493, 0.8194532346856039, 0.8258081127329446, 0.8319654299938243, 0.8379293991773437, 0.8437042940998458, 0.849294434500883, 0.8547041719881419, 0.8599378770672179, 0.8649999272105313, 0.8698946959184523, 0.8746265427251213, 0.8791998041011936, 0.8836187852059053, 0.8878877524413329, 0.89201092676245, 0.8959924776975723, 0.8998365180349399, 0.9035470991324841, 0.9071282068093097, 0.9105837577788862, 0.9139175965856304, 0.9171334930081291, 0.9202351398939992, 0.9232261513930192, 0.9261100615569122, 0.9288903232757593, 0.9315703075227766, 0.9341533028806991, 0.9366425153246679, 0.9390410682380316, 0.941352002638926, 0.9435782775969689, 0.9457227708207577, 0.9477882793981357, 0.9497775206725448, 0.9516931332398676, 0.9535376780513591, 0.9553136396093508, 0.9570234272433966, 0.9586693764555141, 0.9602537503240773, 0.9617787409567603, 0.9632464709837609, 0.9646589950832523, 0.9660183015317171, 0.9673263137725207, 0.9685848919966155, 0.9697958347299228, 0.9709608804223948, 0.9720817090343157, 0.973159943615824, 0.9741971518760564, 0.9751948477387443, 0.9761544928814027, 0.9770774982556474, 0.9779652255864217, 0.9788189888482395, 0.9796400557168069, 0.9804296489945855, 0.9811889480091468, 0.981919089983287, 0.9826211713761148, 0.9832962491944643, 0.9839453422741261, 0.9845694325305494], \"yaxis\": \"y2\"}],\n",
       "                        {\"annotations\": [{\"font\": {\"size\": 16}, \"showarrow\": false, \"text\": \"PDF comparison\", \"x\": 0.225, \"xanchor\": \"center\", \"xref\": \"paper\", \"y\": 1.0, \"yanchor\": \"bottom\", \"yref\": \"paper\"}, {\"font\": {\"size\": 16}, \"showarrow\": false, \"text\": \"CDF comparison\", \"x\": 0.775, \"xanchor\": \"center\", \"xref\": \"paper\", \"y\": 1.0, \"yanchor\": \"bottom\", \"yref\": \"paper\"}], \"height\": 350, \"margin\": {\"b\": 20, \"l\": 20, \"r\": 20, \"t\": 50}, \"template\": {\"data\": {\"bar\": [{\"error_x\": {\"color\": \"#2a3f5f\"}, \"error_y\": {\"color\": \"#2a3f5f\"}, \"marker\": {\"line\": {\"color\": \"#E5ECF6\", \"width\": 0.5}}, \"type\": \"bar\"}], \"barpolar\": [{\"marker\": {\"line\": {\"color\": \"#E5ECF6\", \"width\": 0.5}}, \"type\": \"barpolar\"}], \"carpet\": [{\"aaxis\": {\"endlinecolor\": \"#2a3f5f\", \"gridcolor\": \"white\", \"linecolor\": \"white\", \"minorgridcolor\": \"white\", \"startlinecolor\": \"#2a3f5f\"}, \"baxis\": {\"endlinecolor\": \"#2a3f5f\", \"gridcolor\": \"white\", \"linecolor\": \"white\", \"minorgridcolor\": \"white\", \"startlinecolor\": \"#2a3f5f\"}, \"type\": \"carpet\"}], \"choropleth\": [{\"colorbar\": {\"outlinewidth\": 0, \"ticks\": \"\"}, \"type\": \"choropleth\"}], \"contour\": [{\"colorbar\": {\"outlinewidth\": 0, \"ticks\": \"\"}, \"colorscale\": [[0.0, \"#0d0887\"], [0.1111111111111111, \"#46039f\"], [0.2222222222222222, \"#7201a8\"], [0.3333333333333333, \"#9c179e\"], [0.4444444444444444, \"#bd3786\"], [0.5555555555555556, \"#d8576b\"], [0.6666666666666666, \"#ed7953\"], [0.7777777777777778, \"#fb9f3a\"], [0.8888888888888888, \"#fdca26\"], [1.0, \"#f0f921\"]], \"type\": \"contour\"}], \"contourcarpet\": [{\"colorbar\": {\"outlinewidth\": 0, \"ticks\": \"\"}, \"type\": \"contourcarpet\"}], \"heatmap\": [{\"colorbar\": {\"outlinewidth\": 0, \"ticks\": \"\"}, \"colorscale\": [[0.0, \"#0d0887\"], [0.1111111111111111, \"#46039f\"], [0.2222222222222222, \"#7201a8\"], [0.3333333333333333, \"#9c179e\"], [0.4444444444444444, \"#bd3786\"], [0.5555555555555556, \"#d8576b\"], [0.6666666666666666, \"#ed7953\"], [0.7777777777777778, \"#fb9f3a\"], [0.8888888888888888, \"#fdca26\"], [1.0, \"#f0f921\"]], \"type\": \"heatmap\"}], \"heatmapgl\": [{\"colorbar\": {\"outlinewidth\": 0, \"ticks\": \"\"}, \"colorscale\": [[0.0, \"#0d0887\"], [0.1111111111111111, \"#46039f\"], [0.2222222222222222, \"#7201a8\"], [0.3333333333333333, \"#9c179e\"], [0.4444444444444444, \"#bd3786\"], [0.5555555555555556, \"#d8576b\"], [0.6666666666666666, \"#ed7953\"], [0.7777777777777778, \"#fb9f3a\"], [0.8888888888888888, \"#fdca26\"], [1.0, \"#f0f921\"]], \"type\": \"heatmapgl\"}], \"histogram\": [{\"marker\": {\"colorbar\": {\"outlinewidth\": 0, \"ticks\": \"\"}}, \"type\": \"histogram\"}], \"histogram2d\": [{\"colorbar\": {\"outlinewidth\": 0, \"ticks\": \"\"}, \"colorscale\": [[0.0, \"#0d0887\"], [0.1111111111111111, \"#46039f\"], [0.2222222222222222, \"#7201a8\"], [0.3333333333333333, \"#9c179e\"], [0.4444444444444444, \"#bd3786\"], [0.5555555555555556, \"#d8576b\"], [0.6666666666666666, \"#ed7953\"], [0.7777777777777778, \"#fb9f3a\"], [0.8888888888888888, \"#fdca26\"], [1.0, \"#f0f921\"]], \"type\": \"histogram2d\"}], \"histogram2dcontour\": [{\"colorbar\": {\"outlinewidth\": 0, \"ticks\": \"\"}, \"colorscale\": [[0.0, \"#0d0887\"], [0.1111111111111111, \"#46039f\"], [0.2222222222222222, \"#7201a8\"], [0.3333333333333333, \"#9c179e\"], [0.4444444444444444, \"#bd3786\"], [0.5555555555555556, \"#d8576b\"], [0.6666666666666666, \"#ed7953\"], [0.7777777777777778, \"#fb9f3a\"], [0.8888888888888888, \"#fdca26\"], [1.0, \"#f0f921\"]], \"type\": \"histogram2dcontour\"}], \"mesh3d\": [{\"colorbar\": {\"outlinewidth\": 0, \"ticks\": \"\"}, \"type\": \"mesh3d\"}], \"parcoords\": [{\"line\": {\"colorbar\": {\"outlinewidth\": 0, \"ticks\": \"\"}}, \"type\": \"parcoords\"}], \"pie\": [{\"automargin\": true, \"type\": \"pie\"}], \"scatter\": [{\"marker\": {\"colorbar\": {\"outlinewidth\": 0, \"ticks\": \"\"}}, \"type\": \"scatter\"}], \"scatter3d\": [{\"line\": {\"colorbar\": {\"outlinewidth\": 0, \"ticks\": \"\"}}, \"marker\": {\"colorbar\": {\"outlinewidth\": 0, \"ticks\": \"\"}}, \"type\": \"scatter3d\"}], \"scattercarpet\": [{\"marker\": {\"colorbar\": {\"outlinewidth\": 0, \"ticks\": \"\"}}, \"type\": \"scattercarpet\"}], \"scattergeo\": [{\"marker\": {\"colorbar\": {\"outlinewidth\": 0, \"ticks\": \"\"}}, \"type\": \"scattergeo\"}], \"scattergl\": [{\"marker\": {\"colorbar\": {\"outlinewidth\": 0, \"ticks\": \"\"}}, \"type\": \"scattergl\"}], \"scattermapbox\": [{\"marker\": {\"colorbar\": {\"outlinewidth\": 0, \"ticks\": \"\"}}, \"type\": \"scattermapbox\"}], \"scatterpolar\": [{\"marker\": {\"colorbar\": {\"outlinewidth\": 0, \"ticks\": \"\"}}, \"type\": \"scatterpolar\"}], \"scatterpolargl\": [{\"marker\": {\"colorbar\": {\"outlinewidth\": 0, \"ticks\": \"\"}}, \"type\": \"scatterpolargl\"}], \"scatterternary\": [{\"marker\": {\"colorbar\": {\"outlinewidth\": 0, \"ticks\": \"\"}}, \"type\": \"scatterternary\"}], \"surface\": [{\"colorbar\": {\"outlinewidth\": 0, \"ticks\": \"\"}, \"colorscale\": [[0.0, \"#0d0887\"], [0.1111111111111111, \"#46039f\"], [0.2222222222222222, \"#7201a8\"], [0.3333333333333333, \"#9c179e\"], [0.4444444444444444, \"#bd3786\"], [0.5555555555555556, \"#d8576b\"], [0.6666666666666666, \"#ed7953\"], [0.7777777777777778, \"#fb9f3a\"], [0.8888888888888888, \"#fdca26\"], [1.0, \"#f0f921\"]], \"type\": \"surface\"}], \"table\": [{\"cells\": {\"fill\": {\"color\": \"#EBF0F8\"}, \"line\": {\"color\": \"white\"}}, \"header\": {\"fill\": {\"color\": \"#C8D4E3\"}, \"line\": {\"color\": \"white\"}}, \"type\": \"table\"}]}, \"layout\": {\"annotationdefaults\": {\"arrowcolor\": \"#2a3f5f\", \"arrowhead\": 0, \"arrowwidth\": 1}, \"coloraxis\": {\"colorbar\": {\"outlinewidth\": 0, \"ticks\": \"\"}}, \"colorscale\": {\"diverging\": [[0, \"#8e0152\"], [0.1, \"#c51b7d\"], [0.2, \"#de77ae\"], [0.3, \"#f1b6da\"], [0.4, \"#fde0ef\"], [0.5, \"#f7f7f7\"], [0.6, \"#e6f5d0\"], [0.7, \"#b8e186\"], [0.8, \"#7fbc41\"], [0.9, \"#4d9221\"], [1, \"#276419\"]], \"sequential\": [[0.0, \"#0d0887\"], [0.1111111111111111, \"#46039f\"], [0.2222222222222222, \"#7201a8\"], [0.3333333333333333, \"#9c179e\"], [0.4444444444444444, \"#bd3786\"], [0.5555555555555556, \"#d8576b\"], [0.6666666666666666, \"#ed7953\"], [0.7777777777777778, \"#fb9f3a\"], [0.8888888888888888, \"#fdca26\"], [1.0, \"#f0f921\"]], \"sequentialminus\": [[0.0, \"#0d0887\"], [0.1111111111111111, \"#46039f\"], [0.2222222222222222, \"#7201a8\"], [0.3333333333333333, \"#9c179e\"], [0.4444444444444444, \"#bd3786\"], [0.5555555555555556, \"#d8576b\"], [0.6666666666666666, \"#ed7953\"], [0.7777777777777778, \"#fb9f3a\"], [0.8888888888888888, \"#fdca26\"], [1.0, \"#f0f921\"]]}, \"colorway\": [\"#636efa\", \"#EF553B\", \"#00cc96\", \"#ab63fa\", \"#FFA15A\", \"#19d3f3\", \"#FF6692\", \"#B6E880\", \"#FF97FF\", \"#FECB52\"], \"font\": {\"color\": \"#2a3f5f\"}, \"geo\": {\"bgcolor\": \"white\", \"lakecolor\": \"white\", \"landcolor\": \"#E5ECF6\", \"showlakes\": true, \"showland\": true, \"subunitcolor\": \"white\"}, \"hoverlabel\": {\"align\": \"left\"}, \"hovermode\": \"closest\", \"mapbox\": {\"style\": \"light\"}, \"paper_bgcolor\": \"white\", \"plot_bgcolor\": \"#E5ECF6\", \"polar\": {\"angularaxis\": {\"gridcolor\": \"white\", \"linecolor\": \"white\", \"ticks\": \"\"}, \"bgcolor\": \"#E5ECF6\", \"radialaxis\": {\"gridcolor\": \"white\", \"linecolor\": \"white\", \"ticks\": \"\"}}, \"scene\": {\"xaxis\": {\"backgroundcolor\": \"#E5ECF6\", \"gridcolor\": \"white\", \"gridwidth\": 2, \"linecolor\": \"white\", \"showbackground\": true, \"ticks\": \"\", \"zerolinecolor\": \"white\"}, \"yaxis\": {\"backgroundcolor\": \"#E5ECF6\", \"gridcolor\": \"white\", \"gridwidth\": 2, \"linecolor\": \"white\", \"showbackground\": true, \"ticks\": \"\", \"zerolinecolor\": \"white\"}, \"zaxis\": {\"backgroundcolor\": \"#E5ECF6\", \"gridcolor\": \"white\", \"gridwidth\": 2, \"linecolor\": \"white\", \"showbackground\": true, \"ticks\": \"\", \"zerolinecolor\": \"white\"}}, \"shapedefaults\": {\"line\": {\"color\": \"#2a3f5f\"}}, \"ternary\": {\"aaxis\": {\"gridcolor\": \"white\", \"linecolor\": \"white\", \"ticks\": \"\"}, \"baxis\": {\"gridcolor\": \"white\", \"linecolor\": \"white\", \"ticks\": \"\"}, \"bgcolor\": \"#E5ECF6\", \"caxis\": {\"gridcolor\": \"white\", \"linecolor\": \"white\", \"ticks\": \"\"}}, \"title\": {\"x\": 0.05}, \"xaxis\": {\"automargin\": true, \"gridcolor\": \"white\", \"linecolor\": \"white\", \"ticks\": \"\", \"title\": {\"standoff\": 15}, \"zerolinecolor\": \"white\", \"zerolinewidth\": 2}, \"yaxis\": {\"automargin\": true, \"gridcolor\": \"white\", \"linecolor\": \"white\", \"ticks\": \"\", \"title\": {\"standoff\": 15}, \"zerolinecolor\": \"white\", \"zerolinewidth\": 2}}}, \"xaxis\": {\"anchor\": \"y\", \"domain\": [0.0, 0.45], \"linecolor\": \"black\", \"linewidth\": 1.5, \"mirror\": true, \"showline\": true, \"title\": {\"text\": \"Days\"}}, \"xaxis2\": {\"anchor\": \"y2\", \"domain\": [0.55, 1.0], \"linecolor\": \"black\", \"linewidth\": 1.5, \"mirror\": true, \"showline\": true, \"title\": {\"text\": \"Days\"}}, \"yaxis\": {\"anchor\": \"x\", \"domain\": [0.0, 1.0], \"linecolor\": \"black\", \"linewidth\": 1.5, \"mirror\": true, \"showline\": true, \"title\": {\"text\": \"Probability density\"}}, \"yaxis2\": {\"anchor\": \"x2\", \"domain\": [0.0, 1.0], \"linecolor\": \"black\", \"linewidth\": 1.5, \"mirror\": true, \"showline\": true, \"title\": {\"text\": \"Probability\"}}},\n",
       "                        {\"responsive\": true}\n",
       "                    ).then(function(){\n",
       "                            \n",
       "var gd = document.getElementById('0efdd535-0053-4183-92fd-105894a95737');\n",
       "var x = new MutationObserver(function (mutations, observer) {{\n",
       "        var display = window.getComputedStyle(gd).display;\n",
       "        if (!display || display === 'none') {{\n",
       "            console.log([gd, 'removed!']);\n",
       "            Plotly.purge(gd);\n",
       "            observer.disconnect();\n",
       "        }}\n",
       "}});\n",
       "\n",
       "// Listen for the removal of the full notebook cells\n",
       "var notebookContainer = gd.closest('#notebook-container');\n",
       "if (notebookContainer) {{\n",
       "    x.observe(notebookContainer, {childList: true});\n",
       "}}\n",
       "\n",
       "// Listen for the clearing of the current output cell\n",
       "var outputEl = gd.closest('.output');\n",
       "if (outputEl) {{\n",
       "    x.observe(outputEl, {childList: true});\n",
       "}}\n",
       "\n",
       "                        })\n",
       "                };\n",
       "                });\n",
       "            </script>\n",
       "        </div>"
      ]
     },
     "metadata": {},
     "output_type": "display_data"
    }
   ],
   "source": [
    "richards = stats.genlogistic(c=9,loc=4,scale=2.5)\n",
    "skewnorm = stats.skewnorm(a=3,loc=7,scale=5)\n",
    "\n",
    "fig = make_subplots(rows=1, cols=2,subplot_titles=('PDF comparison','CDF comparison'))\n",
    "fig.add_trace(go.Scatter(name='Skew normal',x=x,y=skewnorm.pdf(x),mode='lines',line_color=colors[0],showlegend=True),row=1,col=1)\n",
    "fig.add_trace(go.Scatter(name='Richards',x=x,y=richards.pdf(x),mode='lines',line_color=colors[1],line_dash='dash',showlegend=True),row=1,col=1)\n",
    "fig.add_trace(go.Scatter(name='Skew normal',x=x,y=skewnorm.cdf(x),mode='lines',line_color=colors[0],showlegend=False),row=1,col=2)\n",
    "fig.add_trace(go.Scatter(name='Richards',x=x,y=richards.cdf(x),mode='lines',line_color=colors[1],line_dash='dash',showlegend=False),row=1,col=2)\n",
    "\n",
    "fig.update_layout(height=350,margin=dict(l=20, r=20, t=50, b=20))\n",
    "fig.update_xaxes(title='Days',showline=True, linewidth=1.5, linecolor='black', mirror=True)\n",
    "fig.update_yaxes(showline=True, linewidth=1.5, linecolor='black', mirror=True)\n",
    "fig.update_yaxes(title='Probability density',row=1,col=1)\n",
    "fig.update_yaxes(title='Probability',row=1,col=2)\n",
    "fig.show()"
   ]
  },
  {
   "cell_type": "markdown",
   "metadata": {},
   "source": [
    "As with the symmetric models, there are subtle differences between the skewed curves. This may mean that some models will fit the data more accurately than others, and that's what we want to find out!\n",
    "\n",
    "We've now identified **7** different mathematical functions. The normal and logistic models are symmetric, while the skew normal, Richards, log logistic, inverse Weibull, and Gompertz models are asymmetric. We can now attempt to fit these to coronavirus case data.\n",
    "\n",
    "Of course, real data is never ideal, so our fits may not be perfect. In this analysis, we assume that testing and reporting is 100% accurate, meaning that case counts accurately reflect the extent of infection among the public. We also assume that the outbreak in each region consists of a single wave. Both of these assumptions are probably far from true, but this is the best data we have. Modeling the death counts over time instead would be even more problematic, because it's hard to know whether mortality rates are changing over time. We would also not be able to draw any conclusions about the spread of infection between regions with different mortality rates.\n",
    "\n",
    "**Note**: theoretically there should be no difference whether we fit daily incidence data to $\\phi$ or cumulative case count data to $\\Phi$. However, based on the graphs of real coronavirus data in [Part 2](#sec2), we can see that daily incidence data is very noisy. It has a significantly higher noise-to-signal ratio than the cumulative case count data, so it will be more susceptible to overfitting and outlier influence. We should therefore perform our fits using the cumulative case count data, which is in line with standard practice in [disease modeling](https://www.sciencedirect.com/science/article/abs/pii/S1571064516300641)."
   ]
  },
  {
   "cell_type": "markdown",
   "metadata": {},
   "source": [
    "<a id='sec5'></a>"
   ]
  },
  {
   "cell_type": "markdown",
   "metadata": {},
   "source": [
    "## 5. Data Fitting"
   ]
  },
  {
   "cell_type": "markdown",
   "metadata": {},
   "source": [
    "First we need to define all the mathematical functions described above. Although `scipy.special` has built-in objects for most of these models, calling them is much more computationally expensive than defining them ourselves using vector operations with `special.erf`, `np.exp` and `np.log`.\n",
    "\n",
    "All of these $\\Phi$ functions take an array of time points `t` as a first argument, followed by their distributon parameters (`N`, `t_i`, `s`, and `a` where appropriate). Again, it's important to note that although they have the same names, the values for `t_i`,`s`, and `a` are not directly comparable between different model types without some more detailed analysis."
   ]
  },
  {
   "cell_type": "code",
   "execution_count": 13,
   "metadata": {
    "jupyter": {
     "source_hidden": true
    }
   },
   "outputs": [],
   "source": [
    "def normal(t, N, t_0, s):\n",
    "    \"\"\"\n",
    "    Returns the normal growth curve evaluated at every time value in t.\n",
    "    t_0 is the mean of the corresponding PDF and s is the standard deviation.\n",
    "    \"\"\"\n",
    "    return (N/2 * (1 + special.erf((t - t_0)/(s*sqrt(2)))))\n",
    "\n",
    "def logistic(t, N, t_0, s):\n",
    "    \"\"\"\n",
    "    Returns the logistic growth curve evaluated at every time value in t.\n",
    "    t_0 is the mean of the corresponding PDF and s*pi/sqrt(3) is the standard deviation.\n",
    "    \"\"\"\n",
    "    return (N / (1 + np.exp(-(t - t_0)/s)))\n",
    "\n",
    "def skewnorm(t, N, t_0, s, a):\n",
    "    \"\"\"\n",
    "    Returns the skew normal growth curve evaluated at every time value in t.\n",
    "    t_0 is related to the mean of the corresponding PDF and s is related to the standard deviation.\n",
    "    Non-negative values of a correspond to right-skew, and a = 0 is equivalent to normal(t, N, t_0, s).\n",
    "    \"\"\"\n",
    "    return N*(normal(t,1,t_0,s)-2*special.owens_t(((t-t_0)/s),a))\n",
    "\n",
    "def richards(t, N, t_0, s, a):\n",
    "    \"\"\"\n",
    "    Returns the Richards growth curve evaluated at every time value in t.\n",
    "    t_0 is related to the mean of the corresponding PDF and s is related to the standard deviation.\n",
    "    a must be positive, with a < 1 corresponding to right-skew. a = 1 is equivalent to logistic(t, N, t_0, s).\n",
    "    \"\"\"\n",
    "    return N / np.power((1 + a*np.exp(-(t-t_0)/s)),(1/a))\n",
    "\n",
    "def loglogistic(t, N, t_0, s, a):\n",
    "    \"\"\"\n",
    "    Returns the log logistic growth curve evaluated at every time value in t (assumes t values are ordered).\n",
    "    t_0 is related to the mean of the corresponding PDF and s is related to the standard deviation.\n",
    "    a must be positive and always lead to right-skew. As a approaches 0, loglogistic approaches logistic(t, N, t_0, s).\n",
    "    \"\"\"\n",
    "    after = t[t > (t_0-s/a)]     # the cdf is only necessarily nonnegative at t values above t_0 - s/a\n",
    "    before = t[t <= (t_0-s/a)]\n",
    "    if t[0] > t[-1]:\n",
    "        return np.concatenate((N / (1 + (1 + a*(after-t_0)/s)**(-1/a)),np.zeros(before.shape)))\n",
    "    else:\n",
    "        return np.concatenate((np.zeros(before.shape),N / (1 + (1 + a*(after-t_0)/s)**(-1/a))))\n",
    "\n",
    "def invweibull(t, N, t_0, s, a):\n",
    "    \"\"\"\n",
    "    Returns the inverse Weibull growth curve evaluated at every time value in t (assumes t values are ordered).\n",
    "    t_0 is related to the mean of the corresponding PDF and s is related to the standard deviation.\n",
    "    a must be positive and always leads to right-skew.\n",
    "    \"\"\"\n",
    "    after = t[t > t_0]  # the cdf is only necessarily nonnegative at t values above t_0\n",
    "    before = t[t <= t_0]\n",
    "    if t[0] > t[-1]:\n",
    "        return np.concatenate((N * np.exp(-(s/(after - t_0))**a),np.zeros(before.shape)))\n",
    "    else:\n",
    "        return np.concatenate((np.zeros(before.shape),N * np.exp(-(s/(after - t_0))**a)))\n",
    "\n",
    "def gompertz(t, N, t_0, s):\n",
    "    \"\"\"\n",
    "    Returns the Gompertz growth curve evaluated at every time value in t.\n",
    "    t_0 is related to the mean of the corresponding PDF and s is related to the standard deviation.\n",
    "    \"\"\"\n",
    "    return N * np.exp(-np.exp(-(t-t_0)/s))\n",
    "\n",
    "model_list = [normal, logistic, skewnorm, richards, loglogistic, invweibull, gompertz]"
   ]
  },
  {
   "cell_type": "markdown",
   "metadata": {},
   "source": [
    "Next, we need a nonlinear `regression` function that will fit the data to whichever model is specified. We can use `scipy.optimize.least_squares` to find the parameter weights that minimize the model's loss (the square of the residuals). In this function we also provide reasonable starting guesses for each parameter, which differ depending on the type of model."
   ]
  },
  {
   "cell_type": "code",
   "execution_count": 14,
   "metadata": {
    "jupyter": {
     "source_hidden": true
    }
   },
   "outputs": [],
   "source": [
    "def get_params(model):\n",
    "    return list(inspect.signature(model).parameters.keys())[1:]\n",
    "\n",
    "def regression(model,x_test,y_test):\n",
    "    \n",
    "    def residual(x, t, y):\n",
    "        return model(t,*x) - y\n",
    "    \n",
    "    x0 = [y_test.max()*1.2,x_test.max()*0.8,1]\n",
    "    x_min = [y_test.max(),x_test.min(),0]\n",
    "    x_max = [np.inf,np.inf,np.inf]\n",
    "    if len(get_params(model)) == 4:\n",
    "        # append min, max, and starting values for the 'a' parameter\n",
    "        x_min.append(0)\n",
    "        if model.__name__ == 'skewnorm':\n",
    "            x0.append(0.1)\n",
    "            x_max.append(10) # personal choice\n",
    "        elif model.__name__ == 'richards':\n",
    "            x0.append(0.9)\n",
    "            x_max.append(1)\n",
    "        elif model.__name__ == 'loglogistic':\n",
    "            x0.append(0.1)\n",
    "            x_max.append(2) # personal choice\n",
    "        elif model.__name__ == 'invweibull':\n",
    "            x0.append(1.1)\n",
    "            x_max.append(10) # personal choice\n",
    "    \n",
    "    res_lsq = least_squares(residual, x0, bounds=(x_min,x_max),\n",
    "            ftol=1e-10, xtol=1e-10, gtol=1e-10, loss='linear', args=(x_test, y_test))\n",
    "    return res_lsq.x # returns array of parameter values\n"
   ]
  },
  {
   "cell_type": "markdown",
   "metadata": {},
   "source": [
    "We also need a way of quantifying how closely the predictions match the actual data. So, we can define a function called `score_model`, which will return the [root-mean-squared error](https://en.wikipedia.org/wiki/Root-mean-square_deviation), as well as the [AIC](https://en.wikipedia.org/wiki/Akaike_information_criterion) and [BIC](https://en.wikipedia.org/wiki/Bayesian_information_criterion), giving us 3 different metrics to evaluate how good the models were."
   ]
  },
  {
   "cell_type": "code",
   "execution_count": 15,
   "metadata": {},
   "outputs": [],
   "source": [
    "def score_model(y, y_hat, k):\n",
    "    sse = np.sum((y-y_hat)**2)\n",
    "    n = len(y)\n",
    "    rmse = np.sqrt(sse/n)\n",
    "    aic = n*np.log(sse/n)+2*k\n",
    "    bic = n*np.log(sse/n)+k*np.log(n)\n",
    "    return rmse, aic, bic"
   ]
  },
  {
   "cell_type": "markdown",
   "metadata": {},
   "source": [
    "Finally, we define `fit_data` to iterate over every state or country and run `regression` on that region's data. This function returns a dataframe with the predicted values of the fit parameters for each region, as well as the model evaluation criteria (RMSE, AIC, and BIC). The dataframe also includes figure handles to simple plots that compare the model to the actual data for each region, although we will do more comprehensive visualization later. "
   ]
  },
  {
   "cell_type": "code",
   "execution_count": 16,
   "metadata": {
    "jupyter": {
     "source_hidden": true
    }
   },
   "outputs": [],
   "source": [
    "def fit_data(df,regions,region_type,model,x_test):\n",
    "    start = time.time()\n",
    "    param_names = get_params(model)\n",
    "    k = len(param_names)\n",
    "    param_vals = [[] for i in range(k)]\n",
    "    rmse_vals = []\n",
    "    aic_vals = []\n",
    "    bic_vals = []\n",
    "    figs = []\n",
    "    for item in regions:\n",
    "        y_test = df[item].values\n",
    "        params = regression(model,x_test,y_test)\n",
    "        [param_vals[i].append(params[i]) for i in range(k)]\n",
    "        y_pred = model(x_test,*params)\n",
    "        rmse, aic, bic = score_model(y_test,y_pred,k)\n",
    "        rmse_vals.append(rmse)\n",
    "        aic_vals.append(aic)\n",
    "        bic_vals.append(bic)\n",
    "\n",
    "        f = plt.figure()\n",
    "        plt.plot(x_test,y_pred,'--')\n",
    "        plt.plot(x_test,y_test)\n",
    "        plt.xlabel('Day of Year')\n",
    "        plt.ylabel('Cumulative Case Count')\n",
    "        plt.title('Cases in '+item)\n",
    "        plt.legend(['Model Fit','Actual Numbers'])\n",
    "        figs.append(f)\n",
    "        plt.close(f)\n",
    "        \n",
    "    fit_info = pd.DataFrame(index=regions,data={param_names[i]:param_vals[i] for i in range(k)})\n",
    "    fit_info['fig'] = figs\n",
    "    fit_info['rmse'], fit_info['aic'], fit_info['bic'] = rmse_vals, aic_vals, bic_vals\n",
    "    fit_info.index.rename(region_type,inplace=True)\n",
    "    fit_info.sort_values(by='N',ascending=False,inplace=True)\n",
    "    \n",
    "    end = time.time()\n",
    "    print(model.__name__ + ' finished in %.1f sec' % (end-start))\n",
    "    \n",
    "    return fit_info\n",
    "\n",
    "np.seterr(all='ignore'); # ignore occasional overflow/underflow errors during fitting process"
   ]
  },
  {
   "cell_type": "markdown",
   "metadata": {},
   "source": [
    "Now we can can go ahead and call `fit_data` on both the state data and the country data. Because we have several different fit functions, we need to run `fit_data` several times for every region. We can store one dataframe associated with each model type in the dictionaries `state_info` and `global_info`. We can also see how long each model takes to run by looking at the displayed output."
   ]
  },
  {
   "cell_type": "code",
   "execution_count": 17,
   "metadata": {
    "jupyter": {
     "source_hidden": true
    }
   },
   "outputs": [
    {
     "name": "stdout",
     "output_type": "stream",
     "text": [
      "Fitting state data...\n",
      "normal finished in 3.0 sec\n",
      "logistic finished in 2.1 sec\n",
      "skewnorm finished in 4.7 sec\n",
      "richards finished in 3.4 sec\n",
      "loglogistic finished in 8.7 sec\n",
      "invweibull finished in 11.6 sec\n",
      "gompertz finished in 2.1 sec\n"
     ]
    }
   ],
   "source": [
    "print('Fitting state data...')\n",
    "state_info = {m.__name__:fit_data(states_cumulative,states_list,'State',m,x_data.values) for m in model_list}"
   ]
  },
  {
   "cell_type": "code",
   "execution_count": 18,
   "metadata": {
    "jupyter": {
     "source_hidden": true
    }
   },
   "outputs": [
    {
     "name": "stdout",
     "output_type": "stream",
     "text": [
      "Fitting country data...\n",
      "normal finished in 2.2 sec\n",
      "logistic finished in 2.2 sec\n",
      "skewnorm finished in 5.6 sec\n",
      "richards finished in 4.6 sec\n",
      "loglogistic finished in 6.5 sec\n",
      "invweibull finished in 6.1 sec\n",
      "gompertz finished in 2.3 sec\n"
     ]
    }
   ],
   "source": [
    "print('Fitting country data...')\n",
    "global_info = {m.__name__:fit_data(global_cumulative,top_countries,'Country',m,x_data_global.values) for m in model_list}"
   ]
  },
  {
   "cell_type": "markdown",
   "metadata": {},
   "source": [
    "Here's what a few of the resulting dataframes look like:"
   ]
  },
  {
   "cell_type": "code",
   "execution_count": 19,
   "metadata": {},
   "outputs": [
    {
     "data": {
      "text/html": [
       "<div>\n",
       "<style scoped>\n",
       "    .dataframe tbody tr th:only-of-type {\n",
       "        vertical-align: middle;\n",
       "    }\n",
       "\n",
       "    .dataframe tbody tr th {\n",
       "        vertical-align: top;\n",
       "    }\n",
       "\n",
       "    .dataframe thead th {\n",
       "        text-align: right;\n",
       "    }\n",
       "</style>\n",
       "<table border=\"1\" class=\"dataframe\">\n",
       "  <thead>\n",
       "    <tr style=\"text-align: right;\">\n",
       "      <th></th>\n",
       "      <th>N</th>\n",
       "      <th>t_0</th>\n",
       "      <th>s</th>\n",
       "      <th>a</th>\n",
       "      <th>fig</th>\n",
       "      <th>rmse</th>\n",
       "      <th>aic</th>\n",
       "      <th>bic</th>\n",
       "    </tr>\n",
       "    <tr>\n",
       "      <th>State</th>\n",
       "      <th></th>\n",
       "      <th></th>\n",
       "      <th></th>\n",
       "      <th></th>\n",
       "      <th></th>\n",
       "      <th></th>\n",
       "      <th></th>\n",
       "      <th></th>\n",
       "    </tr>\n",
       "  </thead>\n",
       "  <tbody>\n",
       "    <tr>\n",
       "      <th>MN</th>\n",
       "      <td>3.147993e+07</td>\n",
       "      <td>233.333155</td>\n",
       "      <td>12.929448</td>\n",
       "      <td>1.000000e+00</td>\n",
       "      <td>Figure(432x288)</td>\n",
       "      <td>153.307165</td>\n",
       "      <td>672.282545</td>\n",
       "      <td>681.041164</td>\n",
       "    </tr>\n",
       "    <tr>\n",
       "      <th>NY</th>\n",
       "      <td>3.652863e+05</td>\n",
       "      <td>97.445916</td>\n",
       "      <td>13.911262</td>\n",
       "      <td>3.364195e-09</td>\n",
       "      <td>Figure(432x288)</td>\n",
       "      <td>2068.467361</td>\n",
       "      <td>1015.762343</td>\n",
       "      <td>1024.520962</td>\n",
       "    </tr>\n",
       "    <tr>\n",
       "      <th>IL</th>\n",
       "      <td>2.214044e+05</td>\n",
       "      <td>132.413641</td>\n",
       "      <td>32.785167</td>\n",
       "      <td>6.435626e-10</td>\n",
       "      <td>Figure(432x288)</td>\n",
       "      <td>860.969321</td>\n",
       "      <td>900.063771</td>\n",
       "      <td>908.822390</td>\n",
       "    </tr>\n",
       "    <tr>\n",
       "      <th>KS</th>\n",
       "      <td>1.957352e+05</td>\n",
       "      <td>208.358816</td>\n",
       "      <td>64.576636</td>\n",
       "      <td>5.027451e-07</td>\n",
       "      <td>Figure(432x288)</td>\n",
       "      <td>104.027382</td>\n",
       "      <td>621.094349</td>\n",
       "      <td>629.852967</td>\n",
       "    </tr>\n",
       "    <tr>\n",
       "      <th>NJ</th>\n",
       "      <td>1.621525e+05</td>\n",
       "      <td>102.665304</td>\n",
       "      <td>15.568990</td>\n",
       "      <td>9.384096e-09</td>\n",
       "      <td>Figure(432x288)</td>\n",
       "      <td>1195.597780</td>\n",
       "      <td>943.405008</td>\n",
       "      <td>952.163627</td>\n",
       "    </tr>\n",
       "  </tbody>\n",
       "</table>\n",
       "</div>"
      ],
      "text/plain": [
       "                  N         t_0          s             a              fig  \\\n",
       "State                                                                       \n",
       "MN     3.147993e+07  233.333155  12.929448  1.000000e+00  Figure(432x288)   \n",
       "NY     3.652863e+05   97.445916  13.911262  3.364195e-09  Figure(432x288)   \n",
       "IL     2.214044e+05  132.413641  32.785167  6.435626e-10  Figure(432x288)   \n",
       "KS     1.957352e+05  208.358816  64.576636  5.027451e-07  Figure(432x288)   \n",
       "NJ     1.621525e+05  102.665304  15.568990  9.384096e-09  Figure(432x288)   \n",
       "\n",
       "              rmse          aic          bic  \n",
       "State                                         \n",
       "MN      153.307165   672.282545   681.041164  \n",
       "NY     2068.467361  1015.762343  1024.520962  \n",
       "IL      860.969321   900.063771   908.822390  \n",
       "KS      104.027382   621.094349   629.852967  \n",
       "NJ     1195.597780   943.405008   952.163627  "
      ]
     },
     "execution_count": 19,
     "metadata": {},
     "output_type": "execute_result"
    }
   ],
   "source": [
    "state_info['richards'].head()"
   ]
  },
  {
   "cell_type": "code",
   "execution_count": 20,
   "metadata": {},
   "outputs": [
    {
     "data": {
      "text/html": [
       "<div>\n",
       "<style scoped>\n",
       "    .dataframe tbody tr th:only-of-type {\n",
       "        vertical-align: middle;\n",
       "    }\n",
       "\n",
       "    .dataframe tbody tr th {\n",
       "        vertical-align: top;\n",
       "    }\n",
       "\n",
       "    .dataframe thead th {\n",
       "        text-align: right;\n",
       "    }\n",
       "</style>\n",
       "<table border=\"1\" class=\"dataframe\">\n",
       "  <thead>\n",
       "    <tr style=\"text-align: right;\">\n",
       "      <th></th>\n",
       "      <th>N</th>\n",
       "      <th>t_0</th>\n",
       "      <th>s</th>\n",
       "      <th>fig</th>\n",
       "      <th>rmse</th>\n",
       "      <th>aic</th>\n",
       "      <th>bic</th>\n",
       "    </tr>\n",
       "    <tr>\n",
       "      <th>Country</th>\n",
       "      <th></th>\n",
       "      <th></th>\n",
       "      <th></th>\n",
       "      <th></th>\n",
       "      <th></th>\n",
       "      <th></th>\n",
       "      <th></th>\n",
       "    </tr>\n",
       "  </thead>\n",
       "  <tbody>\n",
       "    <tr>\n",
       "      <th>Kuwait</th>\n",
       "      <td>7.535195e+08</td>\n",
       "      <td>549.716524</td>\n",
       "      <td>171.807081</td>\n",
       "      <td>Figure(432x288)</td>\n",
       "      <td>54.079302</td>\n",
       "      <td>875.918432</td>\n",
       "      <td>883.992475</td>\n",
       "    </tr>\n",
       "    <tr>\n",
       "      <th>Brazil</th>\n",
       "      <td>2.755409e+07</td>\n",
       "      <td>266.700660</td>\n",
       "      <td>83.028239</td>\n",
       "      <td>Figure(432x288)</td>\n",
       "      <td>1002.060814</td>\n",
       "      <td>1512.339446</td>\n",
       "      <td>1520.413490</td>\n",
       "    </tr>\n",
       "    <tr>\n",
       "      <th>South Africa</th>\n",
       "      <td>4.912782e+06</td>\n",
       "      <td>368.191529</td>\n",
       "      <td>129.541940</td>\n",
       "      <td>Figure(432x288)</td>\n",
       "      <td>167.026223</td>\n",
       "      <td>1121.756880</td>\n",
       "      <td>1129.830923</td>\n",
       "    </tr>\n",
       "    <tr>\n",
       "      <th>Pakistan</th>\n",
       "      <td>2.099836e+06</td>\n",
       "      <td>249.075093</td>\n",
       "      <td>81.389170</td>\n",
       "      <td>Figure(432x288)</td>\n",
       "      <td>208.818042</td>\n",
       "      <td>1170.438990</td>\n",
       "      <td>1178.513034</td>\n",
       "    </tr>\n",
       "    <tr>\n",
       "      <th>United States</th>\n",
       "      <td>1.678065e+06</td>\n",
       "      <td>105.468551</td>\n",
       "      <td>18.768778</td>\n",
       "      <td>Figure(432x288)</td>\n",
       "      <td>10399.871026</td>\n",
       "      <td>2022.401613</td>\n",
       "      <td>2030.475657</td>\n",
       "    </tr>\n",
       "  </tbody>\n",
       "</table>\n",
       "</div>"
      ],
      "text/plain": [
       "                          N         t_0           s              fig  \\\n",
       "Country                                                                \n",
       "Kuwait         7.535195e+08  549.716524  171.807081  Figure(432x288)   \n",
       "Brazil         2.755409e+07  266.700660   83.028239  Figure(432x288)   \n",
       "South Africa   4.912782e+06  368.191529  129.541940  Figure(432x288)   \n",
       "Pakistan       2.099836e+06  249.075093   81.389170  Figure(432x288)   \n",
       "United States  1.678065e+06  105.468551   18.768778  Figure(432x288)   \n",
       "\n",
       "                       rmse          aic          bic  \n",
       "Country                                                \n",
       "Kuwait            54.079302   875.918432   883.992475  \n",
       "Brazil          1002.060814  1512.339446  1520.413490  \n",
       "South Africa     167.026223  1121.756880  1129.830923  \n",
       "Pakistan         208.818042  1170.438990  1178.513034  \n",
       "United States  10399.871026  2022.401613  2030.475657  "
      ]
     },
     "execution_count": 20,
     "metadata": {},
     "output_type": "execute_result"
    }
   ],
   "source": [
    "global_info['gompertz'].head()"
   ]
  },
  {
   "cell_type": "markdown",
   "metadata": {},
   "source": [
    "And, for reference, here's what one of the fits look like when plotted alongside the actual data:"
   ]
  },
  {
   "cell_type": "code",
   "execution_count": 21,
   "metadata": {
    "jupyter": {
     "source_hidden": true
    }
   },
   "outputs": [
    {
     "data": {
      "image/png": "[encoded data removed]",
      "text/plain": [
       "<Figure size 432x288 with 1 Axes>"
      ]
     },
     "execution_count": 21,
     "metadata": {},
     "output_type": "execute_result"
    }
   ],
   "source": [
    "state_info['loglogistic'].loc['FL','fig']"
   ]
  },
  {
   "cell_type": "markdown",
   "metadata": {},
   "source": [
    "We'll make a nicer visualization in [Part 7](#sec7) after we've compared the different models."
   ]
  },
  {
   "cell_type": "markdown",
   "metadata": {},
   "source": [
    "<a id='sec6'></a>"
   ]
  },
  {
   "cell_type": "markdown",
   "metadata": {},
   "source": [
    "## 6. Model Comparison"
   ]
  },
  {
   "cell_type": "markdown",
   "metadata": {},
   "source": [
    "Now, we need a way to compare the models to each other. We could try to look at every single plot and visually identify which of the models looks better. But that's not quantitative, and it's also not feasible for 7 models and 100 total regions.\n",
    "\n",
    "Luckily, we have already computed the RMSE, AIC, and BIC for each model fit for each region. These criteria characterize how closely the predictions match the data, and the smaller the values the better the fit. Unfortunately, the magnitudes of the RMSE, AIC, and BIC might be very different for each region because of the large difference in the magnitude of case counts. To handle this, we can [standardize](https://en.wikipedia.org/wiki/Standard_score) the criteria scores across different regions.\n",
    "\n",
    "For example, to standardize the RMSE for a region, we first subtract the average RMSE for that region from each model's RMSE, and then divide by the standard deviation of the RMSE for the same region. This is accomplished with `compare_models`."
   ]
  },
  {
   "cell_type": "code",
   "execution_count": 22,
   "metadata": {},
   "outputs": [],
   "source": [
    "def compare_models(fit_dict,criterion,standardize=True):\n",
    "    c = pd.DataFrame([m[1][criterion] for m in fit_dict.items()],index=fit_dict.keys())\n",
    "    if standardize:\n",
    "        c = (c-c.mean())/c.std()\n",
    "    return c.T"
   ]
  },
  {
   "cell_type": "markdown",
   "metadata": {},
   "source": [
    "Now we can see the standardized RMSE scores for both states and countries. Note that for each region, a positive score means that model was worse than the other models. A negative score means that the model was better than the other models. A score of 0 means that the model was exactly average compared to the other models (for that region). Here's what the standardized RMSE dataframe looks like for a few states:"
   ]
  },
  {
   "cell_type": "code",
   "execution_count": 23,
   "metadata": {
    "jupyter": {
     "source_hidden": true
    }
   },
   "outputs": [
    {
     "data": {
      "text/html": [
       "<div>\n",
       "<style scoped>\n",
       "    .dataframe tbody tr th:only-of-type {\n",
       "        vertical-align: middle;\n",
       "    }\n",
       "\n",
       "    .dataframe tbody tr th {\n",
       "        vertical-align: top;\n",
       "    }\n",
       "\n",
       "    .dataframe thead th {\n",
       "        text-align: right;\n",
       "    }\n",
       "</style>\n",
       "<table border=\"1\" class=\"dataframe\">\n",
       "  <thead>\n",
       "    <tr style=\"text-align: right;\">\n",
       "      <th></th>\n",
       "      <th>normal</th>\n",
       "      <th>logistic</th>\n",
       "      <th>skewnorm</th>\n",
       "      <th>richards</th>\n",
       "      <th>loglogistic</th>\n",
       "      <th>invweibull</th>\n",
       "      <th>gompertz</th>\n",
       "    </tr>\n",
       "  </thead>\n",
       "  <tbody>\n",
       "    <tr>\n",
       "      <th>MN</th>\n",
       "      <td>-0.337720</td>\n",
       "      <td>-0.492861</td>\n",
       "      <td>-0.368610</td>\n",
       "      <td>-0.493427</td>\n",
       "      <td>-0.318873</td>\n",
       "      <td>2.258535</td>\n",
       "      <td>-0.247045</td>\n",
       "    </tr>\n",
       "    <tr>\n",
       "      <th>NY</th>\n",
       "      <td>1.109042</td>\n",
       "      <td>1.723674</td>\n",
       "      <td>-0.718027</td>\n",
       "      <td>-0.569753</td>\n",
       "      <td>-0.769268</td>\n",
       "      <td>-0.205915</td>\n",
       "      <td>-0.569753</td>\n",
       "    </tr>\n",
       "    <tr>\n",
       "      <th>NJ</th>\n",
       "      <td>0.977976</td>\n",
       "      <td>1.799431</td>\n",
       "      <td>-0.745389</td>\n",
       "      <td>-0.275400</td>\n",
       "      <td>-0.766221</td>\n",
       "      <td>-0.714998</td>\n",
       "      <td>-0.275400</td>\n",
       "    </tr>\n",
       "  </tbody>\n",
       "</table>\n",
       "</div>"
      ],
      "text/plain": [
       "      normal  logistic  skewnorm  richards  loglogistic  invweibull  gompertz\n",
       "MN -0.337720 -0.492861 -0.368610 -0.493427    -0.318873    2.258535 -0.247045\n",
       "NY  1.109042  1.723674 -0.718027 -0.569753    -0.769268   -0.205915 -0.569753\n",
       "NJ  0.977976  1.799431 -0.745389 -0.275400    -0.766221   -0.714998 -0.275400"
      ]
     },
     "execution_count": 23,
     "metadata": {},
     "output_type": "execute_result"
    }
   ],
   "source": [
    "state_rmses = compare_models(state_info,'rmse',standardize=True)\n",
    "state_rmses.head(3)"
   ]
  },
  {
   "cell_type": "markdown",
   "metadata": {},
   "source": [
    "Again, the best model for a region is the one with the most negative standardized score. Here's what the same analysis looks like for a few countries:"
   ]
  },
  {
   "cell_type": "code",
   "execution_count": 24,
   "metadata": {
    "jupyter": {
     "source_hidden": true
    }
   },
   "outputs": [
    {
     "data": {
      "text/html": [
       "<div>\n",
       "<style scoped>\n",
       "    .dataframe tbody tr th:only-of-type {\n",
       "        vertical-align: middle;\n",
       "    }\n",
       "\n",
       "    .dataframe tbody tr th {\n",
       "        vertical-align: top;\n",
       "    }\n",
       "\n",
       "    .dataframe thead th {\n",
       "        text-align: right;\n",
       "    }\n",
       "</style>\n",
       "<table border=\"1\" class=\"dataframe\">\n",
       "  <thead>\n",
       "    <tr style=\"text-align: right;\">\n",
       "      <th></th>\n",
       "      <th>normal</th>\n",
       "      <th>logistic</th>\n",
       "      <th>skewnorm</th>\n",
       "      <th>richards</th>\n",
       "      <th>loglogistic</th>\n",
       "      <th>invweibull</th>\n",
       "      <th>gompertz</th>\n",
       "    </tr>\n",
       "  </thead>\n",
       "  <tbody>\n",
       "    <tr>\n",
       "      <th>Kuwait</th>\n",
       "      <td>-0.402423</td>\n",
       "      <td>-0.230603</td>\n",
       "      <td>-0.402423</td>\n",
       "      <td>-0.388304</td>\n",
       "      <td>-0.428264</td>\n",
       "      <td>2.262751</td>\n",
       "      <td>-0.410734</td>\n",
       "    </tr>\n",
       "    <tr>\n",
       "      <th>Brazil</th>\n",
       "      <td>-0.624340</td>\n",
       "      <td>0.068492</td>\n",
       "      <td>-0.643910</td>\n",
       "      <td>-0.740560</td>\n",
       "      <td>0.849346</td>\n",
       "      <td>1.835052</td>\n",
       "      <td>-0.744080</td>\n",
       "    </tr>\n",
       "    <tr>\n",
       "      <th>United States</th>\n",
       "      <td>0.935097</td>\n",
       "      <td>1.712715</td>\n",
       "      <td>-0.973690</td>\n",
       "      <td>-0.052477</td>\n",
       "      <td>-0.723451</td>\n",
       "      <td>-0.845718</td>\n",
       "      <td>-0.052477</td>\n",
       "    </tr>\n",
       "  </tbody>\n",
       "</table>\n",
       "</div>"
      ],
      "text/plain": [
       "                 normal  logistic  skewnorm  richards  loglogistic  \\\n",
       "Kuwait        -0.402423 -0.230603 -0.402423 -0.388304    -0.428264   \n",
       "Brazil        -0.624340  0.068492 -0.643910 -0.740560     0.849346   \n",
       "United States  0.935097  1.712715 -0.973690 -0.052477    -0.723451   \n",
       "\n",
       "               invweibull  gompertz  \n",
       "Kuwait           2.262751 -0.410734  \n",
       "Brazil           1.835052 -0.744080  \n",
       "United States   -0.845718 -0.052477  "
      ]
     },
     "execution_count": 24,
     "metadata": {},
     "output_type": "execute_result"
    }
   ],
   "source": [
    "global_rmses = compare_models(global_info,'rmse')\n",
    "global_rmses.head(3)"
   ]
  },
  {
   "cell_type": "markdown",
   "metadata": {},
   "source": [
    "Clearly, different models do better for different regions. We can get a sense of how well each model did overall by plotting the distribution of standardized scores with a [violin plot](https://en.wikipedia.org/wiki/Violin_plot). For this analysis we focus only on the RMSE, because it's the easiest to interpret.\n",
    "\n",
    "To reiterate, what we're looking for is a model with the lowest standardized RMSE scores for as many states and countries as possible. Here's what we get:"
   ]
  },
  {
   "cell_type": "code",
   "execution_count": 25,
   "metadata": {},
   "outputs": [
    {
     "data": {
      "application/vnd.plotly.v1+json": {
       "config": {
        "plotlyServerURL": "https://plot.ly"
       },
       "data": [
        {
         "bandwidth": 0.2,
         "box": {
          "visible": false
         },
         "customdata": [
          "MN",
          "NY",
          "NJ",
          "IL",
          "MA",
          "CA",
          "PA",
          "MI",
          "NE",
          "TX",
          "MD",
          "FL",
          "KS",
          "VA",
          "GA",
          "CT",
          "LA",
          "IN",
          "OH",
          "IA",
          "CO",
          "TN",
          "NC",
          "WI",
          "WA",
          "AZ",
          "MS",
          "RI",
          "AL",
          "MO",
          "KY",
          "DC",
          "SC",
          "UT",
          "DE",
          "NM",
          "NV",
          "OK",
          "AR",
          "NH",
          "SD",
          "OR",
          "PR",
          "ID",
          "ND",
          "ME",
          "WV",
          "WY",
          "VT",
          "HI",
          "MT",
          "AK",
          "GU"
         ],
         "hoveron": "points",
         "hovertemplate": "%{customdata}: %{y:.2f}<extra></extra>",
         "jitter": 0.1,
         "line": {
          "color": "rgb(31, 119, 180)"
         },
         "meanline": {
          "visible": true
         },
         "name": "normal",
         "pointpos": 0,
         "points": "all",
         "type": "violin",
         "xaxis": "x",
         "y": [
          -0.3377198371637194,
          1.1090417542479907,
          0.9779761505170858,
          0.3788242132837106,
          0.27728753035842824,
          0.6757962513169756,
          1.0096975320950519,
          0.7320369538557309,
          -0.00436790979905581,
          0.8412590465235308,
          0.6273252837749103,
          1.1095059065353154,
          -0.37787070241208676,
          0.3179084434543651,
          0.9005666916427576,
          0.5932114778667249,
          1.4346951955433347,
          0.7202719984373877,
          0.023144308931517803,
          0.17307147279462434,
          0.7009317477482822,
          0.5954733997774264,
          0.6425175384081417,
          0.46004209583298644,
          1.3216036961318611,
          0.614228378177418,
          0.6328681967411143,
          0.07809226963319743,
          0.8582178615968273,
          0.9804378414450117,
          0.6090489583685667,
          0.6998280930912287,
          0.9345582747243014,
          0.7500106791915222,
          -0.006200548862188024,
          0.43712915210883174,
          1.0033204960324147,
          0.9763487445471325,
          -0.4799071765422638,
          0.6131616177744973,
          1.0162487870006143,
          0.9794216291379422,
          0.8082224603493934,
          1.3348708278349746,
          -0.3680430661075022,
          0.9830182137806927,
          1.1284136373023197,
          0.5782527709262457,
          1.5538078638422361,
          0.8829316570823575,
          1.2104658174889555,
          1.4261399233202834,
          -0.22587527039908764
         ],
         "yaxis": "y"
        },
        {
         "bandwidth": 0.2,
         "box": {
          "visible": false
         },
         "customdata": [
          "Kuwait",
          "Brazil",
          "United States",
          "Russia",
          "South Africa",
          "Pakistan",
          "India",
          "United Kingdom",
          "Spain",
          "Italy",
          "Peru",
          "France",
          "Germany",
          "Turkey",
          "Chile",
          "Mexico",
          "Iran",
          "China",
          "Canada",
          "Saudi Arabia",
          "Belgium",
          "Qatar",
          "Netherlands",
          "Ecuador",
          "Egypt",
          "Colombia",
          "Belarus",
          "Sweden",
          "Switzerland",
          "Portugal",
          "Singapore",
          "Ireland",
          "United Arab Emirates",
          "Bangladesh",
          "Ukraine",
          "Indonesia",
          "Israel",
          "Poland",
          "Japan",
          "Romania",
          "Austria",
          "Dominican Republic",
          "Philippines",
          "Korea, South",
          "Denmark",
          "Serbia",
          "Panama",
          "Norway",
          "Czechia",
          "Australia"
         ],
         "hoveron": "points",
         "hovertemplate": "%{customdata}: %{y:.2f}<extra></extra>",
         "jitter": 0.1,
         "line": {
          "color": "rgb(31, 119, 180)"
         },
         "meanline": {
          "visible": true
         },
         "name": "normal",
         "pointpos": 0,
         "points": "all",
         "type": "violin",
         "xaxis": "x2",
         "y": [
          -0.40242272318374334,
          -0.6243398833247337,
          0.9350973224151418,
          0.11419266176658337,
          -0.38193051885237167,
          -0.5808568559243604,
          0.12140188345740587,
          0.868220326436636,
          1.3882398283563577,
          1.209959142274921,
          0.08823006976642257,
          -0.5133576436816094,
          1.4414890391200788,
          0.855304177341743,
          0.13816940103335393,
          -0.4887596325562898,
          0.9580625638719237,
          0.14293281508288147,
          0.7077468602250998,
          0.028083958238531583,
          0.5196166807611824,
          0.21323979201216633,
          0.36760425389356266,
          0.09044495385931099,
          -0.04119661378347337,
          0.26320861937985546,
          -0.21799096457322925,
          0.22037364704816675,
          1.4603176502027964,
          1.2429212802171383,
          0.10916280247358137,
          -0.35450024133090713,
          0.5162755540098735,
          0.485646533597948,
          -0.14300521797260893,
          0.2823537355040723,
          1.258670940352248,
          0.8612086674408614,
          -0.01821125158826934,
          0.8882314817761191,
          1.520992078860166,
          0.6433223920309091,
          0.9287746505898493,
          1.275659998245526,
          0.4595464407395164,
          -0.5190621236141612,
          0.723090061423073,
          1.4860866879368448,
          1.4379398453341,
          1.5785927358765757
         ],
         "yaxis": "y2"
        },
        {
         "bandwidth": 0.2,
         "box": {
          "visible": false
         },
         "customdata": [
          "MN",
          "NY",
          "NJ",
          "IL",
          "MA",
          "CA",
          "PA",
          "MI",
          "NE",
          "TX",
          "MD",
          "FL",
          "KS",
          "VA",
          "GA",
          "CT",
          "LA",
          "IN",
          "OH",
          "IA",
          "CO",
          "TN",
          "NC",
          "WI",
          "WA",
          "AZ",
          "MS",
          "RI",
          "AL",
          "MO",
          "KY",
          "DC",
          "SC",
          "UT",
          "DE",
          "NM",
          "NV",
          "OK",
          "AR",
          "NH",
          "SD",
          "OR",
          "PR",
          "ID",
          "ND",
          "ME",
          "WV",
          "WY",
          "VT",
          "HI",
          "MT",
          "AK",
          "GU"
         ],
         "hoveron": "points",
         "hovertemplate": "%{customdata}: %{y:.2f}<extra></extra>",
         "jitter": 0.1,
         "line": {
          "color": "rgb(255, 127, 14)"
         },
         "meanline": {
          "visible": true
         },
         "name": "logistic",
         "pointpos": 0,
         "points": "all",
         "type": "violin",
         "xaxis": "x",
         "y": [
          -0.4928608611708456,
          1.7236742141999803,
          1.799430856811049,
          1.8733904932487242,
          1.999449529436925,
          1.870805665030519,
          1.6929988607749373,
          1.8212048880136107,
          -0.7492804038893764,
          1.7225521941289759,
          1.8710879354591186,
          1.62951540464333,
          -0.1086900386673943,
          2.1013457313930326,
          1.823684782890144,
          1.9992169825973682,
          1.4150898680656796,
          1.7219242229808434,
          2.0769999920629756,
          -0.9232299106877099,
          1.8028047424707248,
          1.792319500452329,
          1.7924757377880292,
          1.7893456254965334,
          1.5778153985784673,
          1.7340336725774157,
          1.9355802698487325,
          1.8965171896440287,
          1.7800295112433808,
          1.5895225384054517,
          1.9751552204531877,
          1.850275971378265,
          1.6989330533808151,
          1.6997470104102543,
          2.1542604723619627,
          2.008629483031374,
          1.6415951159676134,
          1.5894575704426306,
          -0.5753140316769377,
          1.7995491802566168,
          1.7800080333635073,
          1.5995872199557868,
          1.6837744089411804,
          1.3931802414540657,
          -0.5519878512905899,
          1.6513369490320156,
          1.702701597450123,
          1.7194531831265234,
          1.1691582395516826,
          0.6991692368532453,
          1.1995921976359654,
          1.464910485973281,
          -0.28712186461008776
         ],
         "yaxis": "y"
        },
        {
         "bandwidth": 0.2,
         "box": {
          "visible": false
         },
         "customdata": [
          "Kuwait",
          "Brazil",
          "United States",
          "Russia",
          "South Africa",
          "Pakistan",
          "India",
          "United Kingdom",
          "Spain",
          "Italy",
          "Peru",
          "France",
          "Germany",
          "Turkey",
          "Chile",
          "Mexico",
          "Iran",
          "China",
          "Canada",
          "Saudi Arabia",
          "Belgium",
          "Qatar",
          "Netherlands",
          "Ecuador",
          "Egypt",
          "Colombia",
          "Belarus",
          "Sweden",
          "Switzerland",
          "Portugal",
          "Singapore",
          "Ireland",
          "United Arab Emirates",
          "Bangladesh",
          "Ukraine",
          "Indonesia",
          "Israel",
          "Poland",
          "Japan",
          "Romania",
          "Austria",
          "Dominican Republic",
          "Philippines",
          "Korea, South",
          "Denmark",
          "Serbia",
          "Panama",
          "Norway",
          "Czechia",
          "Australia"
         ],
         "hoveron": "points",
         "hovertemplate": "%{customdata}: %{y:.2f}<extra></extra>",
         "jitter": 0.1,
         "line": {
          "color": "rgb(255, 127, 14)"
         },
         "meanline": {
          "visible": true
         },
         "name": "logistic",
         "pointpos": 0,
         "points": "all",
         "type": "violin",
         "xaxis": "x2",
         "y": [
          -0.2306025348617711,
          0.06849179174373898,
          1.7127152513798878,
          2.149776592932357,
          0.24406368541806092,
          0.26482940768388247,
          2.027896985701338,
          1.8476022988987009,
          1.5221345217533584,
          1.6488238224151963,
          2.156752953203242,
          -0.6099058127486524,
          1.4823622457174581,
          1.859193385758513,
          1.9985179482011273,
          1.334018464292981,
          1.4696708045045106,
          -0.21970483934420165,
          1.9575688407782978,
          -0.8394104868717179,
          1.9963620126143575,
          -0.9568620424469432,
          1.9766453031972038,
          -0.9237097320938636,
          1.8451574430073876,
          1.9995364693648214,
          2.249116504480565,
          2.1641443614186393,
          1.4651335821399902,
          1.6526438473023084,
          -0.9296111655951674,
          -0.7024976942151199,
          2.0730655668931877,
          1.9848536386230962,
          2.190856252837804,
          2.164230012838624,
          1.6217947193830042,
          1.8862491988730004,
          -0.8802438965626193,
          1.8339148930785636,
          1.3089919709773539,
          1.9262112443375745,
          1.6384948589439499,
          1.1731974956082736,
          1.777672356566949,
          0.4062196386071987,
          1.951739966068278,
          1.4205614739251626,
          1.4860803382847534,
          1.0701589373995049
         ],
         "yaxis": "y2"
        },
        {
         "bandwidth": 0.2,
         "box": {
          "visible": false
         },
         "customdata": [
          "MN",
          "NY",
          "NJ",
          "IL",
          "MA",
          "CA",
          "PA",
          "MI",
          "NE",
          "TX",
          "MD",
          "FL",
          "KS",
          "VA",
          "GA",
          "CT",
          "LA",
          "IN",
          "OH",
          "IA",
          "CO",
          "TN",
          "NC",
          "WI",
          "WA",
          "AZ",
          "MS",
          "RI",
          "AL",
          "MO",
          "KY",
          "DC",
          "SC",
          "UT",
          "DE",
          "NM",
          "NV",
          "OK",
          "AR",
          "NH",
          "SD",
          "OR",
          "PR",
          "ID",
          "ND",
          "ME",
          "WV",
          "WY",
          "VT",
          "HI",
          "MT",
          "AK",
          "GU"
         ],
         "hoveron": "points",
         "hovertemplate": "%{customdata}: %{y:.2f}<extra></extra>",
         "jitter": 0.1,
         "line": {
          "color": "rgb(44, 160, 44)"
         },
         "meanline": {
          "visible": true
         },
         "name": "skewnorm",
         "pointpos": 0,
         "points": "all",
         "type": "violin",
         "xaxis": "x",
         "y": [
          -0.36860965139984175,
          -0.71802704945003,
          -0.7453889662904594,
          -0.13582630833948092,
          -0.5748298548005715,
          -0.2707027971194487,
          -0.9470770914669406,
          -0.7421631969167691,
          -0.004367909792708121,
          -0.5767768708423779,
          -0.17354633586496482,
          -0.8772592131601297,
          -0.3778707027302219,
          -0.21033306559397183,
          -0.8678069234131728,
          -0.6112244307775921,
          -0.45380144898502184,
          -0.18812656762332605,
          -0.6107423763727882,
          0.17307147534263237,
          -0.25176546315142617,
          -0.039961708606517855,
          -0.09752378194562619,
          0.007304289470519105,
          -0.7377010047247081,
          0.003935560085821998,
          -0.26431887376475793,
          -0.7684851878133241,
          -0.7537355885720144,
          -0.8425620309343542,
          -0.3654405690870895,
          -0.31261908136611155,
          -0.8951844103953993,
          -0.22474990473343698,
          -0.5599753329462924,
          -0.10402794221854224,
          -0.9577472147860896,
          -0.8618804307730984,
          -0.47990717605881344,
          -0.0609172200933718,
          -0.8755887778854665,
          -0.8698477751831845,
          -0.532292040057688,
          -0.487323266291415,
          -0.3680430658255671,
          -0.8724497565005493,
          -0.7481558347827643,
          0.06282465782947935,
          -0.23935868882155864,
          -0.7058430763870738,
          -0.8378161652837715,
          -0.6242469455557217,
          -0.3792129590752873
         ],
         "yaxis": "y"
        },
        {
         "bandwidth": 0.2,
         "box": {
          "visible": false
         },
         "customdata": [
          "Kuwait",
          "Brazil",
          "United States",
          "Russia",
          "South Africa",
          "Pakistan",
          "India",
          "United Kingdom",
          "Spain",
          "Italy",
          "Peru",
          "France",
          "Germany",
          "Turkey",
          "Chile",
          "Mexico",
          "Iran",
          "China",
          "Canada",
          "Saudi Arabia",
          "Belgium",
          "Qatar",
          "Netherlands",
          "Ecuador",
          "Egypt",
          "Colombia",
          "Belarus",
          "Sweden",
          "Switzerland",
          "Portugal",
          "Singapore",
          "Ireland",
          "United Arab Emirates",
          "Bangladesh",
          "Ukraine",
          "Indonesia",
          "Israel",
          "Poland",
          "Japan",
          "Romania",
          "Austria",
          "Dominican Republic",
          "Philippines",
          "Korea, South",
          "Denmark",
          "Serbia",
          "Panama",
          "Norway",
          "Czechia",
          "Australia"
         ],
         "hoveron": "points",
         "hovertemplate": "%{customdata}: %{y:.2f}<extra></extra>",
         "jitter": 0.1,
         "line": {
          "color": "rgb(44, 160, 44)"
         },
         "meanline": {
          "visible": true
         },
         "name": "skewnorm",
         "pointpos": 0,
         "points": "all",
         "type": "violin",
         "xaxis": "x2",
         "y": [
          -0.4024227399642955,
          -0.6439102391904663,
          -0.9736897227599725,
          -0.24532697980297477,
          -0.3974264401504608,
          -0.5808568640411456,
          -0.08679606389530045,
          -0.9382141068468794,
          -0.6743776291148196,
          -0.802076326583835,
          -0.109890995538765,
          -0.513357643681148,
          -0.5438480903530128,
          -0.659912469201937,
          -0.03404301023943641,
          -0.5544223986156166,
          -0.7617545719468506,
          -0.20216460957970595,
          -0.5287429449415327,
          0.02808396061922859,
          -0.7019074464251541,
          0.213239795754093,
          -0.7423968743579494,
          0.09044495406532517,
          -0.2308704763784567,
          0.034997212881509206,
          -0.39326686606541456,
          -0.612491661792202,
          -0.5960929863031545,
          -0.6737030732621312,
          0.10916280247382229,
          -0.3545002413185997,
          -0.4605572424900482,
          -0.11471295958331411,
          -0.6084800766349306,
          -0.6374086584631534,
          -0.8195944202848391,
          -0.8288104775620754,
          -0.01821125158252894,
          -0.8828346644571287,
          -0.1320395420544525,
          -0.32800134562077143,
          -0.8178354574023515,
          -0.06196224101149481,
          -0.7699790153223806,
          -0.6839222216125397,
          -0.6440954674006161,
          -0.48451759665815136,
          -0.5367749859136628,
          0.13848005790145934
         ],
         "yaxis": "y2"
        },
        {
         "bandwidth": 0.2,
         "box": {
          "visible": false
         },
         "customdata": [
          "MN",
          "NY",
          "NJ",
          "IL",
          "MA",
          "CA",
          "PA",
          "MI",
          "NE",
          "TX",
          "MD",
          "FL",
          "KS",
          "VA",
          "GA",
          "CT",
          "LA",
          "IN",
          "OH",
          "IA",
          "CO",
          "TN",
          "NC",
          "WI",
          "WA",
          "AZ",
          "MS",
          "RI",
          "AL",
          "MO",
          "KY",
          "DC",
          "SC",
          "UT",
          "DE",
          "NM",
          "NV",
          "OK",
          "AR",
          "NH",
          "SD",
          "OR",
          "PR",
          "ID",
          "ND",
          "ME",
          "WV",
          "WY",
          "VT",
          "HI",
          "MT",
          "AK",
          "GU"
         ],
         "hoveron": "points",
         "hovertemplate": "%{customdata}: %{y:.2f}<extra></extra>",
         "jitter": 0.1,
         "line": {
          "color": "rgb(214, 39, 40)"
         },
         "meanline": {
          "visible": true
         },
         "name": "richards",
         "pointpos": 0,
         "points": "all",
         "type": "violin",
         "xaxis": "x",
         "y": [
          -0.4934268476881657,
          -0.5697527651710836,
          -0.2753995464015192,
          -0.3510309460458437,
          -0.6701393001802494,
          -0.1612417721099924,
          -0.10806794400718767,
          -0.6729013162015243,
          -0.7492804038894262,
          0.004364878841595235,
          -0.15657222165169066,
          -0.12310755120228364,
          -0.428612383600545,
          -0.4253600179818547,
          -0.21760400379672074,
          -0.6469238013457201,
          -0.32769802701289424,
          -0.020009983114668718,
          -0.5996536101311272,
          -0.923229910687723,
          -0.0833380376841656,
          -0.09837126862126803,
          -0.10293595467241966,
          -0.21772713684517767,
          -0.43017639708124195,
          -0.0716355015112317,
          -0.2385213074078313,
          -0.7603484686887088,
          -0.07191138213565725,
          0.08162383400046838,
          -0.25329369222740633,
          -0.13044241718199068,
          -0.022247334700256652,
          0.0007669282313569707,
          -0.5867797006285559,
          -0.2851643852022864,
          -0.01422311188409702,
          0.08633946366592936,
          -0.5753140316749421,
          -0.10443926018203421,
          -0.32950239016816035,
          0.07106127879263922,
          0.07019984205836106,
          -0.11862801605718878,
          -0.6111918717306147,
          -0.002853575233756471,
          -0.3082228896223651,
          -0.010431079320343095,
          -0.7158729529492843,
          -0.9467567539626984,
          -0.8499184202845886,
          -0.6476865813154068,
          -0.4409897317454007
         ],
         "yaxis": "y"
        },
        {
         "bandwidth": 0.2,
         "box": {
          "visible": false
         },
         "customdata": [
          "Kuwait",
          "Brazil",
          "United States",
          "Russia",
          "South Africa",
          "Pakistan",
          "India",
          "United Kingdom",
          "Spain",
          "Italy",
          "Peru",
          "France",
          "Germany",
          "Turkey",
          "Chile",
          "Mexico",
          "Iran",
          "China",
          "Canada",
          "Saudi Arabia",
          "Belgium",
          "Qatar",
          "Netherlands",
          "Ecuador",
          "Egypt",
          "Colombia",
          "Belarus",
          "Sweden",
          "Switzerland",
          "Portugal",
          "Singapore",
          "Ireland",
          "United Arab Emirates",
          "Bangladesh",
          "Ukraine",
          "Indonesia",
          "Israel",
          "Poland",
          "Japan",
          "Romania",
          "Austria",
          "Dominican Republic",
          "Philippines",
          "Korea, South",
          "Denmark",
          "Serbia",
          "Panama",
          "Norway",
          "Czechia",
          "Australia"
         ],
         "hoveron": "points",
         "hovertemplate": "%{customdata}: %{y:.2f}<extra></extra>",
         "jitter": 0.1,
         "line": {
          "color": "rgb(214, 39, 40)"
         },
         "meanline": {
          "visible": true
         },
         "name": "richards",
         "pointpos": 0,
         "points": "all",
         "type": "violin",
         "xaxis": "x2",
         "y": [
          -0.38830422448734186,
          -0.7405600678576391,
          -0.05247693768973767,
          -0.5137018349280049,
          -0.4756165357708265,
          -0.7370792429239535,
          -0.4244922665280519,
          -0.25055057383071666,
          -0.632430920365334,
          -0.34598875858273737,
          -0.39179810302621926,
          -0.609905812748619,
          -0.5722081960042206,
          -0.6848282980698468,
          -0.38544039577437017,
          -0.6109429255020218,
          -0.8596452608853841,
          -0.5791664646091503,
          -0.28604606842448854,
          -0.9450917732267123,
          -0.7030458813602124,
          -0.9568620424469798,
          -0.7266592089914341,
          -0.9237097320840406,
          -0.5439274462597751,
          -0.2981560015566825,
          -0.43091325158280513,
          -0.5573172222135148,
          -0.5992777915487308,
          -0.4610912644972708,
          -0.9296111655954457,
          -0.7079049408576297,
          -0.38582421091347424,
          -0.2641615651917232,
          -0.5814876698750763,
          -0.49722475695430796,
          -0.4023606784212283,
          -0.33366225465809923,
          -0.8802438965635598,
          -0.22823696335203128,
          -0.5012900398056741,
          -0.2028485166854371,
          0.06730197085340185,
          0.028979161892376037,
          -0.779434739395127,
          -0.8431271382455128,
          -0.2726370650488028,
          -0.6358419474552389,
          -0.5534975352423516,
          -0.47292291940477066
         ],
         "yaxis": "y2"
        },
        {
         "bandwidth": 0.2,
         "box": {
          "visible": false
         },
         "customdata": [
          "MN",
          "NY",
          "NJ",
          "IL",
          "MA",
          "CA",
          "PA",
          "MI",
          "NE",
          "TX",
          "MD",
          "FL",
          "KS",
          "VA",
          "GA",
          "CT",
          "LA",
          "IN",
          "OH",
          "IA",
          "CO",
          "TN",
          "NC",
          "WI",
          "WA",
          "AZ",
          "MS",
          "RI",
          "AL",
          "MO",
          "KY",
          "DC",
          "SC",
          "UT",
          "DE",
          "NM",
          "NV",
          "OK",
          "AR",
          "NH",
          "SD",
          "OR",
          "PR",
          "ID",
          "ND",
          "ME",
          "WV",
          "WY",
          "VT",
          "HI",
          "MT",
          "AK",
          "GU"
         ],
         "hoveron": "points",
         "hovertemplate": "%{customdata}: %{y:.2f}<extra></extra>",
         "jitter": 0.1,
         "line": {
          "color": "rgb(148, 103, 189)"
         },
         "meanline": {
          "visible": true
         },
         "name": "loglogistic",
         "pointpos": 0,
         "points": "all",
         "type": "violin",
         "xaxis": "x",
         "y": [
          -0.3188729854721334,
          -0.7692678329491937,
          -0.7662211904789238,
          -1.4426383115517454,
          -0.7486618787518998,
          -1.0480935090962544,
          -0.7028497605543033,
          -0.7724037925499976,
          -0.7492799508838243,
          -1.0186076900172059,
          -1.0435374609173496,
          -0.7414939941423844,
          -0.5271743828435512,
          -0.9573297940819249,
          -0.6586276823706195,
          -0.6633538171248979,
          -0.8276306321571179,
          -1.2274280496965877,
          -0.6852418024482615,
          -0.923228823091444,
          -1.1021601493020738,
          -1.2974265525820083,
          -1.2550685479810963,
          -1.556097972638766,
          -0.6879524448390404,
          -1.3924728589476336,
          -0.9243611394375613,
          -0.6687413401959149,
          -0.8429141500803724,
          -0.9165637767950353,
          -0.8657953272197816,
          -1.0155704315420806,
          -0.8058020885039028,
          -1.2109717376238343,
          -0.5889267710794259,
          -1.012091055037747,
          -0.7786001932959431,
          -0.908315832936758,
          -0.5753150335538827,
          -1.2504657414155198,
          -0.5330701456058903,
          -0.8965226538739643,
          -1.1315131931820466,
          -0.9538285648906073,
          -0.7183494846925375,
          -0.8365000751309893,
          -0.6984763067225245,
          -1.3284493582914374,
          -1.0667269199562854,
          -1.0140657290182784,
          -0.7276786698172888,
          -0.730299601205759,
          -0.4854171600749917
         ],
         "yaxis": "y"
        },
        {
         "bandwidth": 0.2,
         "box": {
          "visible": false
         },
         "customdata": [
          "Kuwait",
          "Brazil",
          "United States",
          "Russia",
          "South Africa",
          "Pakistan",
          "India",
          "United Kingdom",
          "Spain",
          "Italy",
          "Peru",
          "France",
          "Germany",
          "Turkey",
          "Chile",
          "Mexico",
          "Iran",
          "China",
          "Canada",
          "Saudi Arabia",
          "Belgium",
          "Qatar",
          "Netherlands",
          "Ecuador",
          "Egypt",
          "Colombia",
          "Belarus",
          "Sweden",
          "Switzerland",
          "Portugal",
          "Singapore",
          "Ireland",
          "United Arab Emirates",
          "Bangladesh",
          "Ukraine",
          "Indonesia",
          "Israel",
          "Poland",
          "Japan",
          "Romania",
          "Austria",
          "Dominican Republic",
          "Philippines",
          "Korea, South",
          "Denmark",
          "Serbia",
          "Panama",
          "Norway",
          "Czechia",
          "Australia"
         ],
         "hoveron": "points",
         "hovertemplate": "%{customdata}: %{y:.2f}<extra></extra>",
         "jitter": 0.1,
         "line": {
          "color": "rgb(148, 103, 189)"
         },
         "meanline": {
          "visible": true
         },
         "name": "loglogistic",
         "pointpos": 0,
         "points": "all",
         "type": "violin",
         "xaxis": "x2",
         "y": [
          -0.4282643816459702,
          0.8493460313623588,
          -0.723450880248949,
          -0.8738877794567033,
          -0.6694060677010152,
          0.36287160204459384,
          -1.2267018606784408,
          -0.5607069275448958,
          -0.613105374109773,
          -0.6411719966510736,
          -0.908422542654718,
          -0.6099009863490429,
          -0.6911383483953966,
          -0.7668562649650744,
          -1.2990258337220562,
          -0.6511932021883984,
          -0.9905252427369187,
          -0.9904924831827889,
          -0.7864698827768657,
          -0.877514823579638,
          -0.6069426409045092,
          -0.9568586985418239,
          -0.6423527705189452,
          -0.9236354809232311,
          -1.1994178859878228,
          -1.2419522558416685,
          -0.5823182265936416,
          -0.5044381389465864,
          -0.6282663659640226,
          -0.6387538525026035,
          -0.929613199080681,
          -0.7165452607109266,
          -0.6279867627958142,
          -0.9452282994558323,
          -0.5532292313130487,
          -0.45060212058213295,
          -0.6051568496394155,
          -0.562846156642782,
          -0.88024366685301,
          -0.6277786015617715,
          -0.9370554074992832,
          -0.9382900924228402,
          -0.9435940638609893,
          -1.1898123669260259,
          -0.8939972796309794,
          -0.8615454160268123,
          -0.7199534888715674,
          -0.7626160410402365,
          -0.6821233785700662,
          -1.2366569217344852
         ],
         "yaxis": "y2"
        },
        {
         "bandwidth": 0.2,
         "box": {
          "visible": false
         },
         "customdata": [
          "MN",
          "NY",
          "NJ",
          "IL",
          "MA",
          "CA",
          "PA",
          "MI",
          "NE",
          "TX",
          "MD",
          "FL",
          "KS",
          "VA",
          "GA",
          "CT",
          "LA",
          "IN",
          "OH",
          "IA",
          "CO",
          "TN",
          "NC",
          "WI",
          "WA",
          "AZ",
          "MS",
          "RI",
          "AL",
          "MO",
          "KY",
          "DC",
          "SC",
          "UT",
          "DE",
          "NM",
          "NV",
          "OK",
          "AR",
          "NH",
          "SD",
          "OR",
          "PR",
          "ID",
          "ND",
          "ME",
          "WV",
          "WY",
          "VT",
          "HI",
          "MT",
          "AK",
          "GU"
         ],
         "hoveron": "points",
         "hovertemplate": "%{customdata}: %{y:.2f}<extra></extra>",
         "jitter": 0.1,
         "line": {
          "color": "rgb(140, 86, 75)"
         },
         "meanline": {
          "visible": true
         },
         "name": "invweibull",
         "pointpos": 0,
         "points": "all",
         "type": "violin",
         "xaxis": "x",
         "y": [
          2.2585347775444746,
          -0.20591541118841514,
          -0.714997761005855,
          0.02831072825500486,
          0.3805715130317912,
          -0.9053218784618837,
          -0.8366334592377392,
          0.30712828433325495,
          2.068934403205994,
          -0.9771519355701731,
          -0.9681802281181501,
          -0.874052689373052,
          2.2488389822864505,
          -0.4008726405445821,
          -0.7626078393279466,
          -0.024001748789619054,
          -0.9129567539816337,
          -0.9866169517820114,
          0.3786193294613821,
          1.6841324902093036,
          -0.983136139165696,
          -0.8536600124842014,
          -0.8765285327847021,
          -0.26513915852308123,
          -0.613418604798708,
          -0.8164500943180427,
          -0.9027259240839342,
          0.7264433664549745,
          -0.8977707702102385,
          -0.974081622044191,
          -0.8463782421242705,
          -0.9610278586689767,
          -0.8880120339301664,
          -1.0155677425219596,
          0.1608109281039994,
          -0.7592951979390555,
          -0.8801197716157094,
          -0.9682888266138391,
          2.0283609665220106,
          -0.892448808627649,
          -0.7285915332668126,
          -0.9547600233395735,
          -0.968590401297635,
          -1.0496430547991173,
          2.0534087361034543,
          -0.9196979022769621,
          -0.7680368942069633,
          -0.9682015743241985,
          0.013756684044330668,
          1.4697955962280254,
          0.7582976404797683,
          -0.2411299607992385,
          2.258188268033096
         ],
         "yaxis": "y"
        },
        {
         "bandwidth": 0.2,
         "box": {
          "visible": false
         },
         "customdata": [
          "Kuwait",
          "Brazil",
          "United States",
          "Russia",
          "South Africa",
          "Pakistan",
          "India",
          "United Kingdom",
          "Spain",
          "Italy",
          "Peru",
          "France",
          "Germany",
          "Turkey",
          "Chile",
          "Mexico",
          "Iran",
          "China",
          "Canada",
          "Saudi Arabia",
          "Belgium",
          "Qatar",
          "Netherlands",
          "Ecuador",
          "Egypt",
          "Colombia",
          "Belarus",
          "Sweden",
          "Switzerland",
          "Portugal",
          "Singapore",
          "Ireland",
          "United Arab Emirates",
          "Bangladesh",
          "Ukraine",
          "Indonesia",
          "Israel",
          "Poland",
          "Japan",
          "Romania",
          "Austria",
          "Dominican Republic",
          "Philippines",
          "Korea, South",
          "Denmark",
          "Serbia",
          "Panama",
          "Norway",
          "Czechia",
          "Australia"
         ],
         "hoveron": "points",
         "hovertemplate": "%{customdata}: %{y:.2f}<extra></extra>",
         "jitter": 0.1,
         "line": {
          "color": "rgb(140, 86, 75)"
         },
         "meanline": {
          "visible": true
         },
         "name": "invweibull",
         "pointpos": 0,
         "points": "all",
         "type": "violin",
         "xaxis": "x2",
         "y": [
          2.262750808837188,
          1.8350519904562261,
          -0.8457180059537392,
          -0.11734440247432938,
          2.1725557629375207,
          2.0089135556780726,
          0.0131872563232243,
          -0.7158002136059456,
          -0.36343777615906425,
          -0.7235565409031718,
          -0.44306517747586505,
          1.8006305668889633,
          -0.5444484132811187,
          -0.03918380021525928,
          -0.032726615740917155,
          1.5822603454310153,
          0.6420141650987461,
          2.1212245846073094,
          -0.7779794563707054,
          1.6459675510417926,
          0.11000875781254199,
          1.518268460573653,
          0.3519967992635944,
          1.4816034567798542,
          0.7141910642450934,
          -0.4594496641199693,
          -0.2137343239021703,
          -0.16088585410884296,
          -0.5025363000646539,
          -0.6609247641101873,
          1.4850946342913525,
          1.7490995649558883,
          -0.7291485463011144,
          -0.8822238381779027,
          0.09144832250970959,
          -0.3641161606018587,
          -0.6509917572106647,
          -0.6884764253369562,
          1.5522033862146805,
          -0.755058604117043,
          -0.7583087477777427,
          -0.8975386852710788,
          -0.9404408324136657,
          -1.2550405849745119,
          0.6543778564703029,
          1.7587011358590816,
          -0.7655039537799517,
          -0.39149682492440135,
          -0.5981255137717515,
          -0.6094831055960895
         ],
         "yaxis": "y2"
        },
        {
         "bandwidth": 0.2,
         "box": {
          "visible": false
         },
         "customdata": [
          "MN",
          "NY",
          "NJ",
          "IL",
          "MA",
          "CA",
          "PA",
          "MI",
          "NE",
          "TX",
          "MD",
          "FL",
          "KS",
          "VA",
          "GA",
          "CT",
          "LA",
          "IN",
          "OH",
          "IA",
          "CO",
          "TN",
          "NC",
          "WI",
          "WA",
          "AZ",
          "MS",
          "RI",
          "AL",
          "MO",
          "KY",
          "DC",
          "SC",
          "UT",
          "DE",
          "NM",
          "NV",
          "OK",
          "AR",
          "NH",
          "SD",
          "OR",
          "PR",
          "ID",
          "ND",
          "ME",
          "WV",
          "WY",
          "VT",
          "HI",
          "MT",
          "AK",
          "GU"
         ],
         "hoveron": "points",
         "hovertemplate": "%{customdata}: %{y:.2f}<extra></extra>",
         "jitter": 0.1,
         "line": {
          "color": "rgb(227, 119, 194)"
         },
         "meanline": {
          "visible": true
         },
         "name": "gompertz",
         "pointpos": 0,
         "points": "all",
         "type": "violin",
         "xaxis": "x",
         "y": [
          -0.2470445946497698,
          -0.5697529096892494,
          -0.27539954315137977,
          -0.35102986885037013,
          -0.6636775390944243,
          -0.16124195955991336,
          -0.10806813760381934,
          -0.6729018205343066,
          0.18764217504839364,
          0.004360376935654263,
          -0.15657697268187343,
          -0.12310786330079698,
          -0.4286207720326537,
          -0.4253586566450648,
          -0.2176050256244429,
          -0.6469246624262589,
          -0.32769820147234463,
          -0.020014669201637195,
          -0.5831258415036829,
          0.739413206120316,
          -0.0833367009156455,
          -0.09837335793575491,
          -0.10293645881232821,
          -0.2177277427930117,
          -0.4301706432666296,
          -0.07163915606374918,
          -0.23852122189576327,
          -0.5034778290342513,
          -0.07191548184192635,
          0.08162321592264889,
          -0.25329634816320307,
          -0.13044427571033185,
          -0.022245460575392208,
          0.0007647670460992162,
          -0.5731890469494897,
          -0.2851800547425708,
          -0.01422532041818901,
          0.08633931166800435,
          0.657396482984834,
          -0.10443976771254157,
          -0.3295039734377919,
          0.07106032451035353,
          0.07019892318842744,
          -0.11862816725071422,
          0.56420660354334,
          -0.0028538536704523164,
          -0.30822330941782755,
          -0.053448599946282135,
          -0.714764225711118,
          -0.38523093079558185,
          -0.7529424002190425,
          -0.6476873204174383,
          -0.4395712821282412
         ],
         "yaxis": "y"
        },
        {
         "bandwidth": 0.2,
         "box": {
          "visible": false
         },
         "customdata": [
          "Kuwait",
          "Brazil",
          "United States",
          "Russia",
          "South Africa",
          "Pakistan",
          "India",
          "United Kingdom",
          "Spain",
          "Italy",
          "Peru",
          "France",
          "Germany",
          "Turkey",
          "Chile",
          "Mexico",
          "Iran",
          "China",
          "Canada",
          "Saudi Arabia",
          "Belgium",
          "Qatar",
          "Netherlands",
          "Ecuador",
          "Egypt",
          "Colombia",
          "Belarus",
          "Sweden",
          "Switzerland",
          "Portugal",
          "Singapore",
          "Ireland",
          "United Arab Emirates",
          "Bangladesh",
          "Ukraine",
          "Indonesia",
          "Israel",
          "Poland",
          "Japan",
          "Romania",
          "Austria",
          "Dominican Republic",
          "Philippines",
          "Korea, South",
          "Denmark",
          "Serbia",
          "Panama",
          "Norway",
          "Czechia",
          "Australia"
         ],
         "hoveron": "points",
         "hovertemplate": "%{customdata}: %{y:.2f}<extra></extra>",
         "jitter": 0.1,
         "line": {
          "color": "rgb(227, 119, 194)"
         },
         "meanline": {
          "visible": true
         },
         "name": "gompertz",
         "pointpos": 0,
         "points": "all",
         "type": "violin",
         "xaxis": "x2",
         "y": [
          -0.4107342046940655,
          -0.7440796231894872,
          -0.052477027142630785,
          -0.5137082580369295,
          -0.49223988588089435,
          -0.7378216025170874,
          -0.42449593438017663,
          -0.25055080350689807,
          -0.6270226503607234,
          -0.34598934196929887,
          -0.3918062042741009,
          1.0557973323201066,
          -0.5722082368037871,
          -0.5637167306481385,
          -0.3854514937576927,
          -0.6109606508616708,
          -0.4578224579060311,
          -0.2726290029743425,
          -0.28607734848980504,
          0.959881613778516,
          -0.6140914824982066,
          0.9258347350958356,
          -0.5848375024860333,
          1.1085615803966504,
          -0.5439360848429534,
          -0.29818438010786436,
          -0.41089287176330686,
          -0.5493851314056575,
          -0.5992777884622252,
          -0.4610921731472546,
          1.0854152910325436,
          1.0868488134772984,
          -0.38582435840261214,
          -0.2641735098122718,
          -0.39610237955185174,
          -0.4972320517412404,
          -0.4023619541791031,
          -0.3336625521139491,
          1.1249505769353119,
          -0.22823754136670968,
          -0.5012903127003671,
          -0.20285499636835586,
          0.06729887328980722,
          0.02897853716585667,
          -0.448185619428289,
          0.7427361250327453,
          -0.2726400523904149,
          -0.6321757517839769,
          -0.5534987701210204,
          -0.46816878444219245
         ],
         "yaxis": "y2"
        }
       ],
       "layout": {
        "height": 700,
        "showlegend": false,
        "template": {
         "data": {
          "bar": [
           {
            "error_x": {
             "color": "#2a3f5f"
            },
            "error_y": {
             "color": "#2a3f5f"
            },
            "marker": {
             "line": {
              "color": "#E5ECF6",
              "width": 0.5
             }
            },
            "type": "bar"
           }
          ],
          "barpolar": [
           {
            "marker": {
             "line": {
              "color": "#E5ECF6",
              "width": 0.5
             }
            },
            "type": "barpolar"
           }
          ],
          "carpet": [
           {
            "aaxis": {
             "endlinecolor": "#2a3f5f",
             "gridcolor": "white",
             "linecolor": "white",
             "minorgridcolor": "white",
             "startlinecolor": "#2a3f5f"
            },
            "baxis": {
             "endlinecolor": "#2a3f5f",
             "gridcolor": "white",
             "linecolor": "white",
             "minorgridcolor": "white",
             "startlinecolor": "#2a3f5f"
            },
            "type": "carpet"
           }
          ],
          "choropleth": [
           {
            "colorbar": {
             "outlinewidth": 0,
             "ticks": ""
            },
            "type": "choropleth"
           }
          ],
          "contour": [
           {
            "colorbar": {
             "outlinewidth": 0,
             "ticks": ""
            },
            "colorscale": [
             [
              0,
              "#0d0887"
             ],
             [
              0.1111111111111111,
              "#46039f"
             ],
             [
              0.2222222222222222,
              "#7201a8"
             ],
             [
              0.3333333333333333,
              "#9c179e"
             ],
             [
              0.4444444444444444,
              "#bd3786"
             ],
             [
              0.5555555555555556,
              "#d8576b"
             ],
             [
              0.6666666666666666,
              "#ed7953"
             ],
             [
              0.7777777777777778,
              "#fb9f3a"
             ],
             [
              0.8888888888888888,
              "#fdca26"
             ],
             [
              1,
              "#f0f921"
             ]
            ],
            "type": "contour"
           }
          ],
          "contourcarpet": [
           {
            "colorbar": {
             "outlinewidth": 0,
             "ticks": ""
            },
            "type": "contourcarpet"
           }
          ],
          "heatmap": [
           {
            "colorbar": {
             "outlinewidth": 0,
             "ticks": ""
            },
            "colorscale": [
             [
              0,
              "#0d0887"
             ],
             [
              0.1111111111111111,
              "#46039f"
             ],
             [
              0.2222222222222222,
              "#7201a8"
             ],
             [
              0.3333333333333333,
              "#9c179e"
             ],
             [
              0.4444444444444444,
              "#bd3786"
             ],
             [
              0.5555555555555556,
              "#d8576b"
             ],
             [
              0.6666666666666666,
              "#ed7953"
             ],
             [
              0.7777777777777778,
              "#fb9f3a"
             ],
             [
              0.8888888888888888,
              "#fdca26"
             ],
             [
              1,
              "#f0f921"
             ]
            ],
            "type": "heatmap"
           }
          ],
          "heatmapgl": [
           {
            "colorbar": {
             "outlinewidth": 0,
             "ticks": ""
            },
            "colorscale": [
             [
              0,
              "#0d0887"
             ],
             [
              0.1111111111111111,
              "#46039f"
             ],
             [
              0.2222222222222222,
              "#7201a8"
             ],
             [
              0.3333333333333333,
              "#9c179e"
             ],
             [
              0.4444444444444444,
              "#bd3786"
             ],
             [
              0.5555555555555556,
              "#d8576b"
             ],
             [
              0.6666666666666666,
              "#ed7953"
             ],
             [
              0.7777777777777778,
              "#fb9f3a"
             ],
             [
              0.8888888888888888,
              "#fdca26"
             ],
             [
              1,
              "#f0f921"
             ]
            ],
            "type": "heatmapgl"
           }
          ],
          "histogram": [
           {
            "marker": {
             "colorbar": {
              "outlinewidth": 0,
              "ticks": ""
             }
            },
            "type": "histogram"
           }
          ],
          "histogram2d": [
           {
            "colorbar": {
             "outlinewidth": 0,
             "ticks": ""
            },
            "colorscale": [
             [
              0,
              "#0d0887"
             ],
             [
              0.1111111111111111,
              "#46039f"
             ],
             [
              0.2222222222222222,
              "#7201a8"
             ],
             [
              0.3333333333333333,
              "#9c179e"
             ],
             [
              0.4444444444444444,
              "#bd3786"
             ],
             [
              0.5555555555555556,
              "#d8576b"
             ],
             [
              0.6666666666666666,
              "#ed7953"
             ],
             [
              0.7777777777777778,
              "#fb9f3a"
             ],
             [
              0.8888888888888888,
              "#fdca26"
             ],
             [
              1,
              "#f0f921"
             ]
            ],
            "type": "histogram2d"
           }
          ],
          "histogram2dcontour": [
           {
            "colorbar": {
             "outlinewidth": 0,
             "ticks": ""
            },
            "colorscale": [
             [
              0,
              "#0d0887"
             ],
             [
              0.1111111111111111,
              "#46039f"
             ],
             [
              0.2222222222222222,
              "#7201a8"
             ],
             [
              0.3333333333333333,
              "#9c179e"
             ],
             [
              0.4444444444444444,
              "#bd3786"
             ],
             [
              0.5555555555555556,
              "#d8576b"
             ],
             [
              0.6666666666666666,
              "#ed7953"
             ],
             [
              0.7777777777777778,
              "#fb9f3a"
             ],
             [
              0.8888888888888888,
              "#fdca26"
             ],
             [
              1,
              "#f0f921"
             ]
            ],
            "type": "histogram2dcontour"
           }
          ],
          "mesh3d": [
           {
            "colorbar": {
             "outlinewidth": 0,
             "ticks": ""
            },
            "type": "mesh3d"
           }
          ],
          "parcoords": [
           {
            "line": {
             "colorbar": {
              "outlinewidth": 0,
              "ticks": ""
             }
            },
            "type": "parcoords"
           }
          ],
          "pie": [
           {
            "automargin": true,
            "type": "pie"
           }
          ],
          "scatter": [
           {
            "marker": {
             "colorbar": {
              "outlinewidth": 0,
              "ticks": ""
             }
            },
            "type": "scatter"
           }
          ],
          "scatter3d": [
           {
            "line": {
             "colorbar": {
              "outlinewidth": 0,
              "ticks": ""
             }
            },
            "marker": {
             "colorbar": {
              "outlinewidth": 0,
              "ticks": ""
             }
            },
            "type": "scatter3d"
           }
          ],
          "scattercarpet": [
           {
            "marker": {
             "colorbar": {
              "outlinewidth": 0,
              "ticks": ""
             }
            },
            "type": "scattercarpet"
           }
          ],
          "scattergeo": [
           {
            "marker": {
             "colorbar": {
              "outlinewidth": 0,
              "ticks": ""
             }
            },
            "type": "scattergeo"
           }
          ],
          "scattergl": [
           {
            "marker": {
             "colorbar": {
              "outlinewidth": 0,
              "ticks": ""
             }
            },
            "type": "scattergl"
           }
          ],
          "scattermapbox": [
           {
            "marker": {
             "colorbar": {
              "outlinewidth": 0,
              "ticks": ""
             }
            },
            "type": "scattermapbox"
           }
          ],
          "scatterpolar": [
           {
            "marker": {
             "colorbar": {
              "outlinewidth": 0,
              "ticks": ""
             }
            },
            "type": "scatterpolar"
           }
          ],
          "scatterpolargl": [
           {
            "marker": {
             "colorbar": {
              "outlinewidth": 0,
              "ticks": ""
             }
            },
            "type": "scatterpolargl"
           }
          ],
          "scatterternary": [
           {
            "marker": {
             "colorbar": {
              "outlinewidth": 0,
              "ticks": ""
             }
            },
            "type": "scatterternary"
           }
          ],
          "surface": [
           {
            "colorbar": {
             "outlinewidth": 0,
             "ticks": ""
            },
            "colorscale": [
             [
              0,
              "#0d0887"
             ],
             [
              0.1111111111111111,
              "#46039f"
             ],
             [
              0.2222222222222222,
              "#7201a8"
             ],
             [
              0.3333333333333333,
              "#9c179e"
             ],
             [
              0.4444444444444444,
              "#bd3786"
             ],
             [
              0.5555555555555556,
              "#d8576b"
             ],
             [
              0.6666666666666666,
              "#ed7953"
             ],
             [
              0.7777777777777778,
              "#fb9f3a"
             ],
             [
              0.8888888888888888,
              "#fdca26"
             ],
             [
              1,
              "#f0f921"
             ]
            ],
            "type": "surface"
           }
          ],
          "table": [
           {
            "cells": {
             "fill": {
              "color": "#EBF0F8"
             },
             "line": {
              "color": "white"
             }
            },
            "header": {
             "fill": {
              "color": "#C8D4E3"
             },
             "line": {
              "color": "white"
             }
            },
            "type": "table"
           }
          ]
         },
         "layout": {
          "annotationdefaults": {
           "arrowcolor": "#2a3f5f",
           "arrowhead": 0,
           "arrowwidth": 1
          },
          "coloraxis": {
           "colorbar": {
            "outlinewidth": 0,
            "ticks": ""
           }
          },
          "colorscale": {
           "diverging": [
            [
             0,
             "#8e0152"
            ],
            [
             0.1,
             "#c51b7d"
            ],
            [
             0.2,
             "#de77ae"
            ],
            [
             0.3,
             "#f1b6da"
            ],
            [
             0.4,
             "#fde0ef"
            ],
            [
             0.5,
             "#f7f7f7"
            ],
            [
             0.6,
             "#e6f5d0"
            ],
            [
             0.7,
             "#b8e186"
            ],
            [
             0.8,
             "#7fbc41"
            ],
            [
             0.9,
             "#4d9221"
            ],
            [
             1,
             "#276419"
            ]
           ],
           "sequential": [
            [
             0,
             "#0d0887"
            ],
            [
             0.1111111111111111,
             "#46039f"
            ],
            [
             0.2222222222222222,
             "#7201a8"
            ],
            [
             0.3333333333333333,
             "#9c179e"
            ],
            [
             0.4444444444444444,
             "#bd3786"
            ],
            [
             0.5555555555555556,
             "#d8576b"
            ],
            [
             0.6666666666666666,
             "#ed7953"
            ],
            [
             0.7777777777777778,
             "#fb9f3a"
            ],
            [
             0.8888888888888888,
             "#fdca26"
            ],
            [
             1,
             "#f0f921"
            ]
           ],
           "sequentialminus": [
            [
             0,
             "#0d0887"
            ],
            [
             0.1111111111111111,
             "#46039f"
            ],
            [
             0.2222222222222222,
             "#7201a8"
            ],
            [
             0.3333333333333333,
             "#9c179e"
            ],
            [
             0.4444444444444444,
             "#bd3786"
            ],
            [
             0.5555555555555556,
             "#d8576b"
            ],
            [
             0.6666666666666666,
             "#ed7953"
            ],
            [
             0.7777777777777778,
             "#fb9f3a"
            ],
            [
             0.8888888888888888,
             "#fdca26"
            ],
            [
             1,
             "#f0f921"
            ]
           ]
          },
          "colorway": [
           "#636efa",
           "#EF553B",
           "#00cc96",
           "#ab63fa",
           "#FFA15A",
           "#19d3f3",
           "#FF6692",
           "#B6E880",
           "#FF97FF",
           "#FECB52"
          ],
          "font": {
           "color": "#2a3f5f"
          },
          "geo": {
           "bgcolor": "white",
           "lakecolor": "white",
           "landcolor": "#E5ECF6",
           "showlakes": true,
           "showland": true,
           "subunitcolor": "white"
          },
          "hoverlabel": {
           "align": "left"
          },
          "hovermode": "closest",
          "mapbox": {
           "style": "light"
          },
          "paper_bgcolor": "white",
          "plot_bgcolor": "#E5ECF6",
          "polar": {
           "angularaxis": {
            "gridcolor": "white",
            "linecolor": "white",
            "ticks": ""
           },
           "bgcolor": "#E5ECF6",
           "radialaxis": {
            "gridcolor": "white",
            "linecolor": "white",
            "ticks": ""
           }
          },
          "scene": {
           "xaxis": {
            "backgroundcolor": "#E5ECF6",
            "gridcolor": "white",
            "gridwidth": 2,
            "linecolor": "white",
            "showbackground": true,
            "ticks": "",
            "zerolinecolor": "white"
           },
           "yaxis": {
            "backgroundcolor": "#E5ECF6",
            "gridcolor": "white",
            "gridwidth": 2,
            "linecolor": "white",
            "showbackground": true,
            "ticks": "",
            "zerolinecolor": "white"
           },
           "zaxis": {
            "backgroundcolor": "#E5ECF6",
            "gridcolor": "white",
            "gridwidth": 2,
            "linecolor": "white",
            "showbackground": true,
            "ticks": "",
            "zerolinecolor": "white"
           }
          },
          "shapedefaults": {
           "line": {
            "color": "#2a3f5f"
           }
          },
          "ternary": {
           "aaxis": {
            "gridcolor": "white",
            "linecolor": "white",
            "ticks": ""
           },
           "baxis": {
            "gridcolor": "white",
            "linecolor": "white",
            "ticks": ""
           },
           "bgcolor": "#E5ECF6",
           "caxis": {
            "gridcolor": "white",
            "linecolor": "white",
            "ticks": ""
           }
          },
          "title": {
           "x": 0.05
          },
          "xaxis": {
           "automargin": true,
           "gridcolor": "white",
           "linecolor": "white",
           "ticks": "",
           "title": {
            "standoff": 15
           },
           "zerolinecolor": "white",
           "zerolinewidth": 2
          },
          "yaxis": {
           "automargin": true,
           "gridcolor": "white",
           "linecolor": "white",
           "ticks": "",
           "title": {
            "standoff": 15
           },
           "zerolinecolor": "white",
           "zerolinewidth": 2
          }
         }
        },
        "title": {
         "text": "Comparison of Models on State & Country Data",
         "x": 0.5
        },
        "xaxis": {
         "anchor": "y",
         "domain": [
          0,
          1
         ],
         "linecolor": "black",
         "linewidth": 1.5,
         "mirror": true,
         "showline": true
        },
        "xaxis2": {
         "anchor": "y2",
         "domain": [
          0,
          1
         ],
         "linecolor": "black",
         "linewidth": 1.5,
         "mirror": true,
         "showline": true
        },
        "yaxis": {
         "anchor": "x",
         "domain": [
          0.575,
          1
         ],
         "linecolor": "black",
         "linewidth": 1.5,
         "mirror": true,
         "showline": true,
         "title": {
          "text": "Standard RMSE Score by State"
         }
        },
        "yaxis2": {
         "anchor": "x2",
         "domain": [
          0,
          0.425
         ],
         "linecolor": "black",
         "linewidth": 1.5,
         "mirror": true,
         "showline": true,
         "title": {
          "text": "Standard RMSE Score by Country"
         }
        }
       }
      },
      "text/html": [
       "<div>\n",
       "        \n",
       "        \n",
       "            <div id=\"718c0004-d40c-458e-a5b7-c94fbf3f00b7\" class=\"plotly-graph-div\" style=\"height:700px; width:100%;\"></div>\n",
       "            <script type=\"text/javascript\">\n",
       "                require([\"plotly\"], function(Plotly) {\n",
       "                    window.PLOTLYENV=window.PLOTLYENV || {};\n",
       "                    \n",
       "                if (document.getElementById(\"718c0004-d40c-458e-a5b7-c94fbf3f00b7\")) {\n",
       "                    Plotly.newPlot(\n",
       "                        '718c0004-d40c-458e-a5b7-c94fbf3f00b7',\n",
       "                        [{\"bandwidth\": 0.2, \"box\": {\"visible\": false}, \"customdata\": [\"MN\", \"NY\", \"NJ\", \"IL\", \"MA\", \"CA\", \"PA\", \"MI\", \"NE\", \"TX\", \"MD\", \"FL\", \"KS\", \"VA\", \"GA\", \"CT\", \"LA\", \"IN\", \"OH\", \"IA\", \"CO\", \"TN\", \"NC\", \"WI\", \"WA\", \"AZ\", \"MS\", \"RI\", \"AL\", \"MO\", \"KY\", \"DC\", \"SC\", \"UT\", \"DE\", \"NM\", \"NV\", \"OK\", \"AR\", \"NH\", \"SD\", \"OR\", \"PR\", \"ID\", \"ND\", \"ME\", \"WV\", \"WY\", \"VT\", \"HI\", \"MT\", \"AK\", \"GU\"], \"hoveron\": \"points\", \"hovertemplate\": \"%{customdata}: %{y:.2f}<extra></extra>\", \"jitter\": 0.1, \"line\": {\"color\": \"rgb(31, 119, 180)\"}, \"meanline\": {\"visible\": true}, \"name\": \"normal\", \"pointpos\": 0, \"points\": \"all\", \"type\": \"violin\", \"xaxis\": \"x\", \"y\": [-0.3377198371637194, 1.1090417542479907, 0.9779761505170858, 0.3788242132837106, 0.27728753035842824, 0.6757962513169756, 1.0096975320950519, 0.7320369538557309, -0.00436790979905581, 0.8412590465235308, 0.6273252837749103, 1.1095059065353154, -0.37787070241208676, 0.3179084434543651, 0.9005666916427576, 0.5932114778667249, 1.4346951955433347, 0.7202719984373877, 0.023144308931517803, 0.17307147279462434, 0.7009317477482822, 0.5954733997774264, 0.6425175384081417, 0.46004209583298644, 1.3216036961318611, 0.614228378177418, 0.6328681967411143, 0.07809226963319743, 0.8582178615968273, 0.9804378414450117, 0.6090489583685667, 0.6998280930912287, 0.9345582747243014, 0.7500106791915222, -0.006200548862188024, 0.43712915210883174, 1.0033204960324147, 0.9763487445471325, -0.4799071765422638, 0.6131616177744973, 1.0162487870006143, 0.9794216291379422, 0.8082224603493934, 1.3348708278349746, -0.3680430661075022, 0.9830182137806927, 1.1284136373023197, 0.5782527709262457, 1.5538078638422361, 0.8829316570823575, 1.2104658174889555, 1.4261399233202834, -0.22587527039908764], \"yaxis\": \"y\"}, {\"bandwidth\": 0.2, \"box\": {\"visible\": false}, \"customdata\": [\"Kuwait\", \"Brazil\", \"United States\", \"Russia\", \"South Africa\", \"Pakistan\", \"India\", \"United Kingdom\", \"Spain\", \"Italy\", \"Peru\", \"France\", \"Germany\", \"Turkey\", \"Chile\", \"Mexico\", \"Iran\", \"China\", \"Canada\", \"Saudi Arabia\", \"Belgium\", \"Qatar\", \"Netherlands\", \"Ecuador\", \"Egypt\", \"Colombia\", \"Belarus\", \"Sweden\", \"Switzerland\", \"Portugal\", \"Singapore\", \"Ireland\", \"United Arab Emirates\", \"Bangladesh\", \"Ukraine\", \"Indonesia\", \"Israel\", \"Poland\", \"Japan\", \"Romania\", \"Austria\", \"Dominican Republic\", \"Philippines\", \"Korea, South\", \"Denmark\", \"Serbia\", \"Panama\", \"Norway\", \"Czechia\", \"Australia\"], \"hoveron\": \"points\", \"hovertemplate\": \"%{customdata}: %{y:.2f}<extra></extra>\", \"jitter\": 0.1, \"line\": {\"color\": \"rgb(31, 119, 180)\"}, \"meanline\": {\"visible\": true}, \"name\": \"normal\", \"pointpos\": 0, \"points\": \"all\", \"type\": \"violin\", \"xaxis\": \"x2\", \"y\": [-0.40242272318374334, -0.6243398833247337, 0.9350973224151418, 0.11419266176658337, -0.38193051885237167, -0.5808568559243604, 0.12140188345740587, 0.868220326436636, 1.3882398283563577, 1.209959142274921, 0.08823006976642257, -0.5133576436816094, 1.4414890391200788, 0.855304177341743, 0.13816940103335393, -0.4887596325562898, 0.9580625638719237, 0.14293281508288147, 0.7077468602250998, 0.028083958238531583, 0.5196166807611824, 0.21323979201216633, 0.36760425389356266, 0.09044495385931099, -0.04119661378347337, 0.26320861937985546, -0.21799096457322925, 0.22037364704816675, 1.4603176502027964, 1.2429212802171383, 0.10916280247358137, -0.35450024133090713, 0.5162755540098735, 0.485646533597948, -0.14300521797260893, 0.2823537355040723, 1.258670940352248, 0.8612086674408614, -0.01821125158826934, 0.8882314817761191, 1.520992078860166, 0.6433223920309091, 0.9287746505898493, 1.275659998245526, 0.4595464407395164, -0.5190621236141612, 0.723090061423073, 1.4860866879368448, 1.4379398453341, 1.5785927358765757], \"yaxis\": \"y2\"}, {\"bandwidth\": 0.2, \"box\": {\"visible\": false}, \"customdata\": [\"MN\", \"NY\", \"NJ\", \"IL\", \"MA\", \"CA\", \"PA\", \"MI\", \"NE\", \"TX\", \"MD\", \"FL\", \"KS\", \"VA\", \"GA\", \"CT\", \"LA\", \"IN\", \"OH\", \"IA\", \"CO\", \"TN\", \"NC\", \"WI\", \"WA\", \"AZ\", \"MS\", \"RI\", \"AL\", \"MO\", \"KY\", \"DC\", \"SC\", \"UT\", \"DE\", \"NM\", \"NV\", \"OK\", \"AR\", \"NH\", \"SD\", \"OR\", \"PR\", \"ID\", \"ND\", \"ME\", \"WV\", \"WY\", \"VT\", \"HI\", \"MT\", \"AK\", \"GU\"], \"hoveron\": \"points\", \"hovertemplate\": \"%{customdata}: %{y:.2f}<extra></extra>\", \"jitter\": 0.1, \"line\": {\"color\": \"rgb(255, 127, 14)\"}, \"meanline\": {\"visible\": true}, \"name\": \"logistic\", \"pointpos\": 0, \"points\": \"all\", \"type\": \"violin\", \"xaxis\": \"x\", \"y\": [-0.4928608611708456, 1.7236742141999803, 1.799430856811049, 1.8733904932487242, 1.999449529436925, 1.870805665030519, 1.6929988607749373, 1.8212048880136107, -0.7492804038893764, 1.7225521941289759, 1.8710879354591186, 1.62951540464333, -0.1086900386673943, 2.1013457313930326, 1.823684782890144, 1.9992169825973682, 1.4150898680656796, 1.7219242229808434, 2.0769999920629756, -0.9232299106877099, 1.8028047424707248, 1.792319500452329, 1.7924757377880292, 1.7893456254965334, 1.5778153985784673, 1.7340336725774157, 1.9355802698487325, 1.8965171896440287, 1.7800295112433808, 1.5895225384054517, 1.9751552204531877, 1.850275971378265, 1.6989330533808151, 1.6997470104102543, 2.1542604723619627, 2.008629483031374, 1.6415951159676134, 1.5894575704426306, -0.5753140316769377, 1.7995491802566168, 1.7800080333635073, 1.5995872199557868, 1.6837744089411804, 1.3931802414540657, -0.5519878512905899, 1.6513369490320156, 1.702701597450123, 1.7194531831265234, 1.1691582395516826, 0.6991692368532453, 1.1995921976359654, 1.464910485973281, -0.28712186461008776], \"yaxis\": \"y\"}, {\"bandwidth\": 0.2, \"box\": {\"visible\": false}, \"customdata\": [\"Kuwait\", \"Brazil\", \"United States\", \"Russia\", \"South Africa\", \"Pakistan\", \"India\", \"United Kingdom\", \"Spain\", \"Italy\", \"Peru\", \"France\", \"Germany\", \"Turkey\", \"Chile\", \"Mexico\", \"Iran\", \"China\", \"Canada\", \"Saudi Arabia\", \"Belgium\", \"Qatar\", \"Netherlands\", \"Ecuador\", \"Egypt\", \"Colombia\", \"Belarus\", \"Sweden\", \"Switzerland\", \"Portugal\", \"Singapore\", \"Ireland\", \"United Arab Emirates\", \"Bangladesh\", \"Ukraine\", \"Indonesia\", \"Israel\", \"Poland\", \"Japan\", \"Romania\", \"Austria\", \"Dominican Republic\", \"Philippines\", \"Korea, South\", \"Denmark\", \"Serbia\", \"Panama\", \"Norway\", \"Czechia\", \"Australia\"], \"hoveron\": \"points\", \"hovertemplate\": \"%{customdata}: %{y:.2f}<extra></extra>\", \"jitter\": 0.1, \"line\": {\"color\": \"rgb(255, 127, 14)\"}, \"meanline\": {\"visible\": true}, \"name\": \"logistic\", \"pointpos\": 0, \"points\": \"all\", \"type\": \"violin\", \"xaxis\": \"x2\", \"y\": [-0.2306025348617711, 0.06849179174373898, 1.7127152513798878, 2.149776592932357, 0.24406368541806092, 0.26482940768388247, 2.027896985701338, 1.8476022988987009, 1.5221345217533584, 1.6488238224151963, 2.156752953203242, -0.6099058127486524, 1.4823622457174581, 1.859193385758513, 1.9985179482011273, 1.334018464292981, 1.4696708045045106, -0.21970483934420165, 1.9575688407782978, -0.8394104868717179, 1.9963620126143575, -0.9568620424469432, 1.9766453031972038, -0.9237097320938636, 1.8451574430073876, 1.9995364693648214, 2.249116504480565, 2.1641443614186393, 1.4651335821399902, 1.6526438473023084, -0.9296111655951674, -0.7024976942151199, 2.0730655668931877, 1.9848536386230962, 2.190856252837804, 2.164230012838624, 1.6217947193830042, 1.8862491988730004, -0.8802438965626193, 1.8339148930785636, 1.3089919709773539, 1.9262112443375745, 1.6384948589439499, 1.1731974956082736, 1.777672356566949, 0.4062196386071987, 1.951739966068278, 1.4205614739251626, 1.4860803382847534, 1.0701589373995049], \"yaxis\": \"y2\"}, {\"bandwidth\": 0.2, \"box\": {\"visible\": false}, \"customdata\": [\"MN\", \"NY\", \"NJ\", \"IL\", \"MA\", \"CA\", \"PA\", \"MI\", \"NE\", \"TX\", \"MD\", \"FL\", \"KS\", \"VA\", \"GA\", \"CT\", \"LA\", \"IN\", \"OH\", \"IA\", \"CO\", \"TN\", \"NC\", \"WI\", \"WA\", \"AZ\", \"MS\", \"RI\", \"AL\", \"MO\", \"KY\", \"DC\", \"SC\", \"UT\", \"DE\", \"NM\", \"NV\", \"OK\", \"AR\", \"NH\", \"SD\", \"OR\", \"PR\", \"ID\", \"ND\", \"ME\", \"WV\", \"WY\", \"VT\", \"HI\", \"MT\", \"AK\", \"GU\"], \"hoveron\": \"points\", \"hovertemplate\": \"%{customdata}: %{y:.2f}<extra></extra>\", \"jitter\": 0.1, \"line\": {\"color\": \"rgb(44, 160, 44)\"}, \"meanline\": {\"visible\": true}, \"name\": \"skewnorm\", \"pointpos\": 0, \"points\": \"all\", \"type\": \"violin\", \"xaxis\": \"x\", \"y\": [-0.36860965139984175, -0.71802704945003, -0.7453889662904594, -0.13582630833948092, -0.5748298548005715, -0.2707027971194487, -0.9470770914669406, -0.7421631969167691, -0.004367909792708121, -0.5767768708423779, -0.17354633586496482, -0.8772592131601297, -0.3778707027302219, -0.21033306559397183, -0.8678069234131728, -0.6112244307775921, -0.45380144898502184, -0.18812656762332605, -0.6107423763727882, 0.17307147534263237, -0.25176546315142617, -0.039961708606517855, -0.09752378194562619, 0.007304289470519105, -0.7377010047247081, 0.003935560085821998, -0.26431887376475793, -0.7684851878133241, -0.7537355885720144, -0.8425620309343542, -0.3654405690870895, -0.31261908136611155, -0.8951844103953993, -0.22474990473343698, -0.5599753329462924, -0.10402794221854224, -0.9577472147860896, -0.8618804307730984, -0.47990717605881344, -0.0609172200933718, -0.8755887778854665, -0.8698477751831845, -0.532292040057688, -0.487323266291415, -0.3680430658255671, -0.8724497565005493, -0.7481558347827643, 0.06282465782947935, -0.23935868882155864, -0.7058430763870738, -0.8378161652837715, -0.6242469455557217, -0.3792129590752873], \"yaxis\": \"y\"}, {\"bandwidth\": 0.2, \"box\": {\"visible\": false}, \"customdata\": [\"Kuwait\", \"Brazil\", \"United States\", \"Russia\", \"South Africa\", \"Pakistan\", \"India\", \"United Kingdom\", \"Spain\", \"Italy\", \"Peru\", \"France\", \"Germany\", \"Turkey\", \"Chile\", \"Mexico\", \"Iran\", \"China\", \"Canada\", \"Saudi Arabia\", \"Belgium\", \"Qatar\", \"Netherlands\", \"Ecuador\", \"Egypt\", \"Colombia\", \"Belarus\", \"Sweden\", \"Switzerland\", \"Portugal\", \"Singapore\", \"Ireland\", \"United Arab Emirates\", \"Bangladesh\", \"Ukraine\", \"Indonesia\", \"Israel\", \"Poland\", \"Japan\", \"Romania\", \"Austria\", \"Dominican Republic\", \"Philippines\", \"Korea, South\", \"Denmark\", \"Serbia\", \"Panama\", \"Norway\", \"Czechia\", \"Australia\"], \"hoveron\": \"points\", \"hovertemplate\": \"%{customdata}: %{y:.2f}<extra></extra>\", \"jitter\": 0.1, \"line\": {\"color\": \"rgb(44, 160, 44)\"}, \"meanline\": {\"visible\": true}, \"name\": \"skewnorm\", \"pointpos\": 0, \"points\": \"all\", \"type\": \"violin\", \"xaxis\": \"x2\", \"y\": [-0.4024227399642955, -0.6439102391904663, -0.9736897227599725, -0.24532697980297477, -0.3974264401504608, -0.5808568640411456, -0.08679606389530045, -0.9382141068468794, -0.6743776291148196, -0.802076326583835, -0.109890995538765, -0.513357643681148, -0.5438480903530128, -0.659912469201937, -0.03404301023943641, -0.5544223986156166, -0.7617545719468506, -0.20216460957970595, -0.5287429449415327, 0.02808396061922859, -0.7019074464251541, 0.213239795754093, -0.7423968743579494, 0.09044495406532517, -0.2308704763784567, 0.034997212881509206, -0.39326686606541456, -0.612491661792202, -0.5960929863031545, -0.6737030732621312, 0.10916280247382229, -0.3545002413185997, -0.4605572424900482, -0.11471295958331411, -0.6084800766349306, -0.6374086584631534, -0.8195944202848391, -0.8288104775620754, -0.01821125158252894, -0.8828346644571287, -0.1320395420544525, -0.32800134562077143, -0.8178354574023515, -0.06196224101149481, -0.7699790153223806, -0.6839222216125397, -0.6440954674006161, -0.48451759665815136, -0.5367749859136628, 0.13848005790145934], \"yaxis\": \"y2\"}, {\"bandwidth\": 0.2, \"box\": {\"visible\": false}, \"customdata\": [\"MN\", \"NY\", \"NJ\", \"IL\", \"MA\", \"CA\", \"PA\", \"MI\", \"NE\", \"TX\", \"MD\", \"FL\", \"KS\", \"VA\", \"GA\", \"CT\", \"LA\", \"IN\", \"OH\", \"IA\", \"CO\", \"TN\", \"NC\", \"WI\", \"WA\", \"AZ\", \"MS\", \"RI\", \"AL\", \"MO\", \"KY\", \"DC\", \"SC\", \"UT\", \"DE\", \"NM\", \"NV\", \"OK\", \"AR\", \"NH\", \"SD\", \"OR\", \"PR\", \"ID\", \"ND\", \"ME\", \"WV\", \"WY\", \"VT\", \"HI\", \"MT\", \"AK\", \"GU\"], \"hoveron\": \"points\", \"hovertemplate\": \"%{customdata}: %{y:.2f}<extra></extra>\", \"jitter\": 0.1, \"line\": {\"color\": \"rgb(214, 39, 40)\"}, \"meanline\": {\"visible\": true}, \"name\": \"richards\", \"pointpos\": 0, \"points\": \"all\", \"type\": \"violin\", \"xaxis\": \"x\", \"y\": [-0.4934268476881657, -0.5697527651710836, -0.2753995464015192, -0.3510309460458437, -0.6701393001802494, -0.1612417721099924, -0.10806794400718767, -0.6729013162015243, -0.7492804038894262, 0.004364878841595235, -0.15657222165169066, -0.12310755120228364, -0.428612383600545, -0.4253600179818547, -0.21760400379672074, -0.6469238013457201, -0.32769802701289424, -0.020009983114668718, -0.5996536101311272, -0.923229910687723, -0.0833380376841656, -0.09837126862126803, -0.10293595467241966, -0.21772713684517767, -0.43017639708124195, -0.0716355015112317, -0.2385213074078313, -0.7603484686887088, -0.07191138213565725, 0.08162383400046838, -0.25329369222740633, -0.13044241718199068, -0.022247334700256652, 0.0007669282313569707, -0.5867797006285559, -0.2851643852022864, -0.01422311188409702, 0.08633946366592936, -0.5753140316749421, -0.10443926018203421, -0.32950239016816035, 0.07106127879263922, 0.07019984205836106, -0.11862801605718878, -0.6111918717306147, -0.002853575233756471, -0.3082228896223651, -0.010431079320343095, -0.7158729529492843, -0.9467567539626984, -0.8499184202845886, -0.6476865813154068, -0.4409897317454007], \"yaxis\": \"y\"}, {\"bandwidth\": 0.2, \"box\": {\"visible\": false}, \"customdata\": [\"Kuwait\", \"Brazil\", \"United States\", \"Russia\", \"South Africa\", \"Pakistan\", \"India\", \"United Kingdom\", \"Spain\", \"Italy\", \"Peru\", \"France\", \"Germany\", \"Turkey\", \"Chile\", \"Mexico\", \"Iran\", \"China\", \"Canada\", \"Saudi Arabia\", \"Belgium\", \"Qatar\", \"Netherlands\", \"Ecuador\", \"Egypt\", \"Colombia\", \"Belarus\", \"Sweden\", \"Switzerland\", \"Portugal\", \"Singapore\", \"Ireland\", \"United Arab Emirates\", \"Bangladesh\", \"Ukraine\", \"Indonesia\", \"Israel\", \"Poland\", \"Japan\", \"Romania\", \"Austria\", \"Dominican Republic\", \"Philippines\", \"Korea, South\", \"Denmark\", \"Serbia\", \"Panama\", \"Norway\", \"Czechia\", \"Australia\"], \"hoveron\": \"points\", \"hovertemplate\": \"%{customdata}: %{y:.2f}<extra></extra>\", \"jitter\": 0.1, \"line\": {\"color\": \"rgb(214, 39, 40)\"}, \"meanline\": {\"visible\": true}, \"name\": \"richards\", \"pointpos\": 0, \"points\": \"all\", \"type\": \"violin\", \"xaxis\": \"x2\", \"y\": [-0.38830422448734186, -0.7405600678576391, -0.05247693768973767, -0.5137018349280049, -0.4756165357708265, -0.7370792429239535, -0.4244922665280519, -0.25055057383071666, -0.632430920365334, -0.34598875858273737, -0.39179810302621926, -0.609905812748619, -0.5722081960042206, -0.6848282980698468, -0.38544039577437017, -0.6109429255020218, -0.8596452608853841, -0.5791664646091503, -0.28604606842448854, -0.9450917732267123, -0.7030458813602124, -0.9568620424469798, -0.7266592089914341, -0.9237097320840406, -0.5439274462597751, -0.2981560015566825, -0.43091325158280513, -0.5573172222135148, -0.5992777915487308, -0.4610912644972708, -0.9296111655954457, -0.7079049408576297, -0.38582421091347424, -0.2641615651917232, -0.5814876698750763, -0.49722475695430796, -0.4023606784212283, -0.33366225465809923, -0.8802438965635598, -0.22823696335203128, -0.5012900398056741, -0.2028485166854371, 0.06730197085340185, 0.028979161892376037, -0.779434739395127, -0.8431271382455128, -0.2726370650488028, -0.6358419474552389, -0.5534975352423516, -0.47292291940477066], \"yaxis\": \"y2\"}, {\"bandwidth\": 0.2, \"box\": {\"visible\": false}, \"customdata\": [\"MN\", \"NY\", \"NJ\", \"IL\", \"MA\", \"CA\", \"PA\", \"MI\", \"NE\", \"TX\", \"MD\", \"FL\", \"KS\", \"VA\", \"GA\", \"CT\", \"LA\", \"IN\", \"OH\", \"IA\", \"CO\", \"TN\", \"NC\", \"WI\", \"WA\", \"AZ\", \"MS\", \"RI\", \"AL\", \"MO\", \"KY\", \"DC\", \"SC\", \"UT\", \"DE\", \"NM\", \"NV\", \"OK\", \"AR\", \"NH\", \"SD\", \"OR\", \"PR\", \"ID\", \"ND\", \"ME\", \"WV\", \"WY\", \"VT\", \"HI\", \"MT\", \"AK\", \"GU\"], \"hoveron\": \"points\", \"hovertemplate\": \"%{customdata}: %{y:.2f}<extra></extra>\", \"jitter\": 0.1, \"line\": {\"color\": \"rgb(148, 103, 189)\"}, \"meanline\": {\"visible\": true}, \"name\": \"loglogistic\", \"pointpos\": 0, \"points\": \"all\", \"type\": \"violin\", \"xaxis\": \"x\", \"y\": [-0.3188729854721334, -0.7692678329491937, -0.7662211904789238, -1.4426383115517454, -0.7486618787518998, -1.0480935090962544, -0.7028497605543033, -0.7724037925499976, -0.7492799508838243, -1.0186076900172059, -1.0435374609173496, -0.7414939941423844, -0.5271743828435512, -0.9573297940819249, -0.6586276823706195, -0.6633538171248979, -0.8276306321571179, -1.2274280496965877, -0.6852418024482615, -0.923228823091444, -1.1021601493020738, -1.2974265525820083, -1.2550685479810963, -1.556097972638766, -0.6879524448390404, -1.3924728589476336, -0.9243611394375613, -0.6687413401959149, -0.8429141500803724, -0.9165637767950353, -0.8657953272197816, -1.0155704315420806, -0.8058020885039028, -1.2109717376238343, -0.5889267710794259, -1.012091055037747, -0.7786001932959431, -0.908315832936758, -0.5753150335538827, -1.2504657414155198, -0.5330701456058903, -0.8965226538739643, -1.1315131931820466, -0.9538285648906073, -0.7183494846925375, -0.8365000751309893, -0.6984763067225245, -1.3284493582914374, -1.0667269199562854, -1.0140657290182784, -0.7276786698172888, -0.730299601205759, -0.4854171600749917], \"yaxis\": \"y\"}, {\"bandwidth\": 0.2, \"box\": {\"visible\": false}, \"customdata\": [\"Kuwait\", \"Brazil\", \"United States\", \"Russia\", \"South Africa\", \"Pakistan\", \"India\", \"United Kingdom\", \"Spain\", \"Italy\", \"Peru\", \"France\", \"Germany\", \"Turkey\", \"Chile\", \"Mexico\", \"Iran\", \"China\", \"Canada\", \"Saudi Arabia\", \"Belgium\", \"Qatar\", \"Netherlands\", \"Ecuador\", \"Egypt\", \"Colombia\", \"Belarus\", \"Sweden\", \"Switzerland\", \"Portugal\", \"Singapore\", \"Ireland\", \"United Arab Emirates\", \"Bangladesh\", \"Ukraine\", \"Indonesia\", \"Israel\", \"Poland\", \"Japan\", \"Romania\", \"Austria\", \"Dominican Republic\", \"Philippines\", \"Korea, South\", \"Denmark\", \"Serbia\", \"Panama\", \"Norway\", \"Czechia\", \"Australia\"], \"hoveron\": \"points\", \"hovertemplate\": \"%{customdata}: %{y:.2f}<extra></extra>\", \"jitter\": 0.1, \"line\": {\"color\": \"rgb(148, 103, 189)\"}, \"meanline\": {\"visible\": true}, \"name\": \"loglogistic\", \"pointpos\": 0, \"points\": \"all\", \"type\": \"violin\", \"xaxis\": \"x2\", \"y\": [-0.4282643816459702, 0.8493460313623588, -0.723450880248949, -0.8738877794567033, -0.6694060677010152, 0.36287160204459384, -1.2267018606784408, -0.5607069275448958, -0.613105374109773, -0.6411719966510736, -0.908422542654718, -0.6099009863490429, -0.6911383483953966, -0.7668562649650744, -1.2990258337220562, -0.6511932021883984, -0.9905252427369187, -0.9904924831827889, -0.7864698827768657, -0.877514823579638, -0.6069426409045092, -0.9568586985418239, -0.6423527705189452, -0.9236354809232311, -1.1994178859878228, -1.2419522558416685, -0.5823182265936416, -0.5044381389465864, -0.6282663659640226, -0.6387538525026035, -0.929613199080681, -0.7165452607109266, -0.6279867627958142, -0.9452282994558323, -0.5532292313130487, -0.45060212058213295, -0.6051568496394155, -0.562846156642782, -0.88024366685301, -0.6277786015617715, -0.9370554074992832, -0.9382900924228402, -0.9435940638609893, -1.1898123669260259, -0.8939972796309794, -0.8615454160268123, -0.7199534888715674, -0.7626160410402365, -0.6821233785700662, -1.2366569217344852], \"yaxis\": \"y2\"}, {\"bandwidth\": 0.2, \"box\": {\"visible\": false}, \"customdata\": [\"MN\", \"NY\", \"NJ\", \"IL\", \"MA\", \"CA\", \"PA\", \"MI\", \"NE\", \"TX\", \"MD\", \"FL\", \"KS\", \"VA\", \"GA\", \"CT\", \"LA\", \"IN\", \"OH\", \"IA\", \"CO\", \"TN\", \"NC\", \"WI\", \"WA\", \"AZ\", \"MS\", \"RI\", \"AL\", \"MO\", \"KY\", \"DC\", \"SC\", \"UT\", \"DE\", \"NM\", \"NV\", \"OK\", \"AR\", \"NH\", \"SD\", \"OR\", \"PR\", \"ID\", \"ND\", \"ME\", \"WV\", \"WY\", \"VT\", \"HI\", \"MT\", \"AK\", \"GU\"], \"hoveron\": \"points\", \"hovertemplate\": \"%{customdata}: %{y:.2f}<extra></extra>\", \"jitter\": 0.1, \"line\": {\"color\": \"rgb(140, 86, 75)\"}, \"meanline\": {\"visible\": true}, \"name\": \"invweibull\", \"pointpos\": 0, \"points\": \"all\", \"type\": \"violin\", \"xaxis\": \"x\", \"y\": [2.2585347775444746, -0.20591541118841514, -0.714997761005855, 0.02831072825500486, 0.3805715130317912, -0.9053218784618837, -0.8366334592377392, 0.30712828433325495, 2.068934403205994, -0.9771519355701731, -0.9681802281181501, -0.874052689373052, 2.2488389822864505, -0.4008726405445821, -0.7626078393279466, -0.024001748789619054, -0.9129567539816337, -0.9866169517820114, 0.3786193294613821, 1.6841324902093036, -0.983136139165696, -0.8536600124842014, -0.8765285327847021, -0.26513915852308123, -0.613418604798708, -0.8164500943180427, -0.9027259240839342, 0.7264433664549745, -0.8977707702102385, -0.974081622044191, -0.8463782421242705, -0.9610278586689767, -0.8880120339301664, -1.0155677425219596, 0.1608109281039994, -0.7592951979390555, -0.8801197716157094, -0.9682888266138391, 2.0283609665220106, -0.892448808627649, -0.7285915332668126, -0.9547600233395735, -0.968590401297635, -1.0496430547991173, 2.0534087361034543, -0.9196979022769621, -0.7680368942069633, -0.9682015743241985, 0.013756684044330668, 1.4697955962280254, 0.7582976404797683, -0.2411299607992385, 2.258188268033096], \"yaxis\": \"y\"}, {\"bandwidth\": 0.2, \"box\": {\"visible\": false}, \"customdata\": [\"Kuwait\", \"Brazil\", \"United States\", \"Russia\", \"South Africa\", \"Pakistan\", \"India\", \"United Kingdom\", \"Spain\", \"Italy\", \"Peru\", \"France\", \"Germany\", \"Turkey\", \"Chile\", \"Mexico\", \"Iran\", \"China\", \"Canada\", \"Saudi Arabia\", \"Belgium\", \"Qatar\", \"Netherlands\", \"Ecuador\", \"Egypt\", \"Colombia\", \"Belarus\", \"Sweden\", \"Switzerland\", \"Portugal\", \"Singapore\", \"Ireland\", \"United Arab Emirates\", \"Bangladesh\", \"Ukraine\", \"Indonesia\", \"Israel\", \"Poland\", \"Japan\", \"Romania\", \"Austria\", \"Dominican Republic\", \"Philippines\", \"Korea, South\", \"Denmark\", \"Serbia\", \"Panama\", \"Norway\", \"Czechia\", \"Australia\"], \"hoveron\": \"points\", \"hovertemplate\": \"%{customdata}: %{y:.2f}<extra></extra>\", \"jitter\": 0.1, \"line\": {\"color\": \"rgb(140, 86, 75)\"}, \"meanline\": {\"visible\": true}, \"name\": \"invweibull\", \"pointpos\": 0, \"points\": \"all\", \"type\": \"violin\", \"xaxis\": \"x2\", \"y\": [2.262750808837188, 1.8350519904562261, -0.8457180059537392, -0.11734440247432938, 2.1725557629375207, 2.0089135556780726, 0.0131872563232243, -0.7158002136059456, -0.36343777615906425, -0.7235565409031718, -0.44306517747586505, 1.8006305668889633, -0.5444484132811187, -0.03918380021525928, -0.032726615740917155, 1.5822603454310153, 0.6420141650987461, 2.1212245846073094, -0.7779794563707054, 1.6459675510417926, 0.11000875781254199, 1.518268460573653, 0.3519967992635944, 1.4816034567798542, 0.7141910642450934, -0.4594496641199693, -0.2137343239021703, -0.16088585410884296, -0.5025363000646539, -0.6609247641101873, 1.4850946342913525, 1.7490995649558883, -0.7291485463011144, -0.8822238381779027, 0.09144832250970959, -0.3641161606018587, -0.6509917572106647, -0.6884764253369562, 1.5522033862146805, -0.755058604117043, -0.7583087477777427, -0.8975386852710788, -0.9404408324136657, -1.2550405849745119, 0.6543778564703029, 1.7587011358590816, -0.7655039537799517, -0.39149682492440135, -0.5981255137717515, -0.6094831055960895], \"yaxis\": \"y2\"}, {\"bandwidth\": 0.2, \"box\": {\"visible\": false}, \"customdata\": [\"MN\", \"NY\", \"NJ\", \"IL\", \"MA\", \"CA\", \"PA\", \"MI\", \"NE\", \"TX\", \"MD\", \"FL\", \"KS\", \"VA\", \"GA\", \"CT\", \"LA\", \"IN\", \"OH\", \"IA\", \"CO\", \"TN\", \"NC\", \"WI\", \"WA\", \"AZ\", \"MS\", \"RI\", \"AL\", \"MO\", \"KY\", \"DC\", \"SC\", \"UT\", \"DE\", \"NM\", \"NV\", \"OK\", \"AR\", \"NH\", \"SD\", \"OR\", \"PR\", \"ID\", \"ND\", \"ME\", \"WV\", \"WY\", \"VT\", \"HI\", \"MT\", \"AK\", \"GU\"], \"hoveron\": \"points\", \"hovertemplate\": \"%{customdata}: %{y:.2f}<extra></extra>\", \"jitter\": 0.1, \"line\": {\"color\": \"rgb(227, 119, 194)\"}, \"meanline\": {\"visible\": true}, \"name\": \"gompertz\", \"pointpos\": 0, \"points\": \"all\", \"type\": \"violin\", \"xaxis\": \"x\", \"y\": [-0.2470445946497698, -0.5697529096892494, -0.27539954315137977, -0.35102986885037013, -0.6636775390944243, -0.16124195955991336, -0.10806813760381934, -0.6729018205343066, 0.18764217504839364, 0.004360376935654263, -0.15657697268187343, -0.12310786330079698, -0.4286207720326537, -0.4253586566450648, -0.2176050256244429, -0.6469246624262589, -0.32769820147234463, -0.020014669201637195, -0.5831258415036829, 0.739413206120316, -0.0833367009156455, -0.09837335793575491, -0.10293645881232821, -0.2177277427930117, -0.4301706432666296, -0.07163915606374918, -0.23852122189576327, -0.5034778290342513, -0.07191548184192635, 0.08162321592264889, -0.25329634816320307, -0.13044427571033185, -0.022245460575392208, 0.0007647670460992162, -0.5731890469494897, -0.2851800547425708, -0.01422532041818901, 0.08633931166800435, 0.657396482984834, -0.10443976771254157, -0.3295039734377919, 0.07106032451035353, 0.07019892318842744, -0.11862816725071422, 0.56420660354334, -0.0028538536704523164, -0.30822330941782755, -0.053448599946282135, -0.714764225711118, -0.38523093079558185, -0.7529424002190425, -0.6476873204174383, -0.4395712821282412], \"yaxis\": \"y\"}, {\"bandwidth\": 0.2, \"box\": {\"visible\": false}, \"customdata\": [\"Kuwait\", \"Brazil\", \"United States\", \"Russia\", \"South Africa\", \"Pakistan\", \"India\", \"United Kingdom\", \"Spain\", \"Italy\", \"Peru\", \"France\", \"Germany\", \"Turkey\", \"Chile\", \"Mexico\", \"Iran\", \"China\", \"Canada\", \"Saudi Arabia\", \"Belgium\", \"Qatar\", \"Netherlands\", \"Ecuador\", \"Egypt\", \"Colombia\", \"Belarus\", \"Sweden\", \"Switzerland\", \"Portugal\", \"Singapore\", \"Ireland\", \"United Arab Emirates\", \"Bangladesh\", \"Ukraine\", \"Indonesia\", \"Israel\", \"Poland\", \"Japan\", \"Romania\", \"Austria\", \"Dominican Republic\", \"Philippines\", \"Korea, South\", \"Denmark\", \"Serbia\", \"Panama\", \"Norway\", \"Czechia\", \"Australia\"], \"hoveron\": \"points\", \"hovertemplate\": \"%{customdata}: %{y:.2f}<extra></extra>\", \"jitter\": 0.1, \"line\": {\"color\": \"rgb(227, 119, 194)\"}, \"meanline\": {\"visible\": true}, \"name\": \"gompertz\", \"pointpos\": 0, \"points\": \"all\", \"type\": \"violin\", \"xaxis\": \"x2\", \"y\": [-0.4107342046940655, -0.7440796231894872, -0.052477027142630785, -0.5137082580369295, -0.49223988588089435, -0.7378216025170874, -0.42449593438017663, -0.25055080350689807, -0.6270226503607234, -0.34598934196929887, -0.3918062042741009, 1.0557973323201066, -0.5722082368037871, -0.5637167306481385, -0.3854514937576927, -0.6109606508616708, -0.4578224579060311, -0.2726290029743425, -0.28607734848980504, 0.959881613778516, -0.6140914824982066, 0.9258347350958356, -0.5848375024860333, 1.1085615803966504, -0.5439360848429534, -0.29818438010786436, -0.41089287176330686, -0.5493851314056575, -0.5992777884622252, -0.4610921731472546, 1.0854152910325436, 1.0868488134772984, -0.38582435840261214, -0.2641735098122718, -0.39610237955185174, -0.4972320517412404, -0.4023619541791031, -0.3336625521139491, 1.1249505769353119, -0.22823754136670968, -0.5012903127003671, -0.20285499636835586, 0.06729887328980722, 0.02897853716585667, -0.448185619428289, 0.7427361250327453, -0.2726400523904149, -0.6321757517839769, -0.5534987701210204, -0.46816878444219245], \"yaxis\": \"y2\"}],\n",
       "                        {\"height\": 700, \"showlegend\": false, \"template\": {\"data\": {\"bar\": [{\"error_x\": {\"color\": \"#2a3f5f\"}, \"error_y\": {\"color\": \"#2a3f5f\"}, \"marker\": {\"line\": {\"color\": \"#E5ECF6\", \"width\": 0.5}}, \"type\": \"bar\"}], \"barpolar\": [{\"marker\": {\"line\": {\"color\": \"#E5ECF6\", \"width\": 0.5}}, \"type\": \"barpolar\"}], \"carpet\": [{\"aaxis\": {\"endlinecolor\": \"#2a3f5f\", \"gridcolor\": \"white\", \"linecolor\": \"white\", \"minorgridcolor\": \"white\", \"startlinecolor\": \"#2a3f5f\"}, \"baxis\": {\"endlinecolor\": \"#2a3f5f\", \"gridcolor\": \"white\", \"linecolor\": \"white\", \"minorgridcolor\": \"white\", \"startlinecolor\": \"#2a3f5f\"}, \"type\": \"carpet\"}], \"choropleth\": [{\"colorbar\": {\"outlinewidth\": 0, \"ticks\": \"\"}, \"type\": \"choropleth\"}], \"contour\": [{\"colorbar\": {\"outlinewidth\": 0, \"ticks\": \"\"}, \"colorscale\": [[0.0, \"#0d0887\"], [0.1111111111111111, \"#46039f\"], [0.2222222222222222, \"#7201a8\"], [0.3333333333333333, \"#9c179e\"], [0.4444444444444444, \"#bd3786\"], [0.5555555555555556, \"#d8576b\"], [0.6666666666666666, \"#ed7953\"], [0.7777777777777778, \"#fb9f3a\"], [0.8888888888888888, \"#fdca26\"], [1.0, \"#f0f921\"]], \"type\": \"contour\"}], \"contourcarpet\": [{\"colorbar\": {\"outlinewidth\": 0, \"ticks\": \"\"}, \"type\": \"contourcarpet\"}], \"heatmap\": [{\"colorbar\": {\"outlinewidth\": 0, \"ticks\": \"\"}, \"colorscale\": [[0.0, \"#0d0887\"], [0.1111111111111111, \"#46039f\"], [0.2222222222222222, \"#7201a8\"], [0.3333333333333333, \"#9c179e\"], [0.4444444444444444, \"#bd3786\"], [0.5555555555555556, \"#d8576b\"], [0.6666666666666666, \"#ed7953\"], [0.7777777777777778, \"#fb9f3a\"], [0.8888888888888888, \"#fdca26\"], [1.0, \"#f0f921\"]], \"type\": \"heatmap\"}], \"heatmapgl\": [{\"colorbar\": {\"outlinewidth\": 0, \"ticks\": \"\"}, \"colorscale\": [[0.0, \"#0d0887\"], [0.1111111111111111, \"#46039f\"], [0.2222222222222222, \"#7201a8\"], [0.3333333333333333, \"#9c179e\"], [0.4444444444444444, \"#bd3786\"], [0.5555555555555556, \"#d8576b\"], [0.6666666666666666, \"#ed7953\"], [0.7777777777777778, \"#fb9f3a\"], [0.8888888888888888, \"#fdca26\"], [1.0, \"#f0f921\"]], \"type\": \"heatmapgl\"}], \"histogram\": [{\"marker\": {\"colorbar\": {\"outlinewidth\": 0, \"ticks\": \"\"}}, \"type\": \"histogram\"}], \"histogram2d\": [{\"colorbar\": {\"outlinewidth\": 0, \"ticks\": \"\"}, \"colorscale\": [[0.0, \"#0d0887\"], [0.1111111111111111, \"#46039f\"], [0.2222222222222222, \"#7201a8\"], [0.3333333333333333, \"#9c179e\"], [0.4444444444444444, \"#bd3786\"], [0.5555555555555556, \"#d8576b\"], [0.6666666666666666, \"#ed7953\"], [0.7777777777777778, \"#fb9f3a\"], [0.8888888888888888, \"#fdca26\"], [1.0, \"#f0f921\"]], \"type\": \"histogram2d\"}], \"histogram2dcontour\": [{\"colorbar\": {\"outlinewidth\": 0, \"ticks\": \"\"}, \"colorscale\": [[0.0, \"#0d0887\"], [0.1111111111111111, \"#46039f\"], [0.2222222222222222, \"#7201a8\"], [0.3333333333333333, \"#9c179e\"], [0.4444444444444444, \"#bd3786\"], [0.5555555555555556, \"#d8576b\"], [0.6666666666666666, \"#ed7953\"], [0.7777777777777778, \"#fb9f3a\"], [0.8888888888888888, \"#fdca26\"], [1.0, \"#f0f921\"]], \"type\": \"histogram2dcontour\"}], \"mesh3d\": [{\"colorbar\": {\"outlinewidth\": 0, \"ticks\": \"\"}, \"type\": \"mesh3d\"}], \"parcoords\": [{\"line\": {\"colorbar\": {\"outlinewidth\": 0, \"ticks\": \"\"}}, \"type\": \"parcoords\"}], \"pie\": [{\"automargin\": true, \"type\": \"pie\"}], \"scatter\": [{\"marker\": {\"colorbar\": {\"outlinewidth\": 0, \"ticks\": \"\"}}, \"type\": \"scatter\"}], \"scatter3d\": [{\"line\": {\"colorbar\": {\"outlinewidth\": 0, \"ticks\": \"\"}}, \"marker\": {\"colorbar\": {\"outlinewidth\": 0, \"ticks\": \"\"}}, \"type\": \"scatter3d\"}], \"scattercarpet\": [{\"marker\": {\"colorbar\": {\"outlinewidth\": 0, \"ticks\": \"\"}}, \"type\": \"scattercarpet\"}], \"scattergeo\": [{\"marker\": {\"colorbar\": {\"outlinewidth\": 0, \"ticks\": \"\"}}, \"type\": \"scattergeo\"}], \"scattergl\": [{\"marker\": {\"colorbar\": {\"outlinewidth\": 0, \"ticks\": \"\"}}, \"type\": \"scattergl\"}], \"scattermapbox\": [{\"marker\": {\"colorbar\": {\"outlinewidth\": 0, \"ticks\": \"\"}}, \"type\": \"scattermapbox\"}], \"scatterpolar\": [{\"marker\": {\"colorbar\": {\"outlinewidth\": 0, \"ticks\": \"\"}}, \"type\": \"scatterpolar\"}], \"scatterpolargl\": [{\"marker\": {\"colorbar\": {\"outlinewidth\": 0, \"ticks\": \"\"}}, \"type\": \"scatterpolargl\"}], \"scatterternary\": [{\"marker\": {\"colorbar\": {\"outlinewidth\": 0, \"ticks\": \"\"}}, \"type\": \"scatterternary\"}], \"surface\": [{\"colorbar\": {\"outlinewidth\": 0, \"ticks\": \"\"}, \"colorscale\": [[0.0, \"#0d0887\"], [0.1111111111111111, \"#46039f\"], [0.2222222222222222, \"#7201a8\"], [0.3333333333333333, \"#9c179e\"], [0.4444444444444444, \"#bd3786\"], [0.5555555555555556, \"#d8576b\"], [0.6666666666666666, \"#ed7953\"], [0.7777777777777778, \"#fb9f3a\"], [0.8888888888888888, \"#fdca26\"], [1.0, \"#f0f921\"]], \"type\": \"surface\"}], \"table\": [{\"cells\": {\"fill\": {\"color\": \"#EBF0F8\"}, \"line\": {\"color\": \"white\"}}, \"header\": {\"fill\": {\"color\": \"#C8D4E3\"}, \"line\": {\"color\": \"white\"}}, \"type\": \"table\"}]}, \"layout\": {\"annotationdefaults\": {\"arrowcolor\": \"#2a3f5f\", \"arrowhead\": 0, \"arrowwidth\": 1}, \"coloraxis\": {\"colorbar\": {\"outlinewidth\": 0, \"ticks\": \"\"}}, \"colorscale\": {\"diverging\": [[0, \"#8e0152\"], [0.1, \"#c51b7d\"], [0.2, \"#de77ae\"], [0.3, \"#f1b6da\"], [0.4, \"#fde0ef\"], [0.5, \"#f7f7f7\"], [0.6, \"#e6f5d0\"], [0.7, \"#b8e186\"], [0.8, \"#7fbc41\"], [0.9, \"#4d9221\"], [1, \"#276419\"]], \"sequential\": [[0.0, \"#0d0887\"], [0.1111111111111111, \"#46039f\"], [0.2222222222222222, \"#7201a8\"], [0.3333333333333333, \"#9c179e\"], [0.4444444444444444, \"#bd3786\"], [0.5555555555555556, \"#d8576b\"], [0.6666666666666666, \"#ed7953\"], [0.7777777777777778, \"#fb9f3a\"], [0.8888888888888888, \"#fdca26\"], [1.0, \"#f0f921\"]], \"sequentialminus\": [[0.0, \"#0d0887\"], [0.1111111111111111, \"#46039f\"], [0.2222222222222222, \"#7201a8\"], [0.3333333333333333, \"#9c179e\"], [0.4444444444444444, \"#bd3786\"], [0.5555555555555556, \"#d8576b\"], [0.6666666666666666, \"#ed7953\"], [0.7777777777777778, \"#fb9f3a\"], [0.8888888888888888, \"#fdca26\"], [1.0, \"#f0f921\"]]}, \"colorway\": [\"#636efa\", \"#EF553B\", \"#00cc96\", \"#ab63fa\", \"#FFA15A\", \"#19d3f3\", \"#FF6692\", \"#B6E880\", \"#FF97FF\", \"#FECB52\"], \"font\": {\"color\": \"#2a3f5f\"}, \"geo\": {\"bgcolor\": \"white\", \"lakecolor\": \"white\", \"landcolor\": \"#E5ECF6\", \"showlakes\": true, \"showland\": true, \"subunitcolor\": \"white\"}, \"hoverlabel\": {\"align\": \"left\"}, \"hovermode\": \"closest\", \"mapbox\": {\"style\": \"light\"}, \"paper_bgcolor\": \"white\", \"plot_bgcolor\": \"#E5ECF6\", \"polar\": {\"angularaxis\": {\"gridcolor\": \"white\", \"linecolor\": \"white\", \"ticks\": \"\"}, \"bgcolor\": \"#E5ECF6\", \"radialaxis\": {\"gridcolor\": \"white\", \"linecolor\": \"white\", \"ticks\": \"\"}}, \"scene\": {\"xaxis\": {\"backgroundcolor\": \"#E5ECF6\", \"gridcolor\": \"white\", \"gridwidth\": 2, \"linecolor\": \"white\", \"showbackground\": true, \"ticks\": \"\", \"zerolinecolor\": \"white\"}, \"yaxis\": {\"backgroundcolor\": \"#E5ECF6\", \"gridcolor\": \"white\", \"gridwidth\": 2, \"linecolor\": \"white\", \"showbackground\": true, \"ticks\": \"\", \"zerolinecolor\": \"white\"}, \"zaxis\": {\"backgroundcolor\": \"#E5ECF6\", \"gridcolor\": \"white\", \"gridwidth\": 2, \"linecolor\": \"white\", \"showbackground\": true, \"ticks\": \"\", \"zerolinecolor\": \"white\"}}, \"shapedefaults\": {\"line\": {\"color\": \"#2a3f5f\"}}, \"ternary\": {\"aaxis\": {\"gridcolor\": \"white\", \"linecolor\": \"white\", \"ticks\": \"\"}, \"baxis\": {\"gridcolor\": \"white\", \"linecolor\": \"white\", \"ticks\": \"\"}, \"bgcolor\": \"#E5ECF6\", \"caxis\": {\"gridcolor\": \"white\", \"linecolor\": \"white\", \"ticks\": \"\"}}, \"title\": {\"x\": 0.05}, \"xaxis\": {\"automargin\": true, \"gridcolor\": \"white\", \"linecolor\": \"white\", \"ticks\": \"\", \"title\": {\"standoff\": 15}, \"zerolinecolor\": \"white\", \"zerolinewidth\": 2}, \"yaxis\": {\"automargin\": true, \"gridcolor\": \"white\", \"linecolor\": \"white\", \"ticks\": \"\", \"title\": {\"standoff\": 15}, \"zerolinecolor\": \"white\", \"zerolinewidth\": 2}}}, \"title\": {\"text\": \"Comparison of Models on State & Country Data\", \"x\": 0.5}, \"xaxis\": {\"anchor\": \"y\", \"domain\": [0.0, 1.0], \"linecolor\": \"black\", \"linewidth\": 1.5, \"mirror\": true, \"showline\": true}, \"xaxis2\": {\"anchor\": \"y2\", \"domain\": [0.0, 1.0], \"linecolor\": \"black\", \"linewidth\": 1.5, \"mirror\": true, \"showline\": true}, \"yaxis\": {\"anchor\": \"x\", \"domain\": [0.575, 1.0], \"linecolor\": \"black\", \"linewidth\": 1.5, \"mirror\": true, \"showline\": true, \"title\": {\"text\": \"Standard RMSE Score by State\"}}, \"yaxis2\": {\"anchor\": \"x2\", \"domain\": [0.0, 0.425], \"linecolor\": \"black\", \"linewidth\": 1.5, \"mirror\": true, \"showline\": true, \"title\": {\"text\": \"Standard RMSE Score by Country\"}}},\n",
       "                        {\"responsive\": true}\n",
       "                    ).then(function(){\n",
       "                            \n",
       "var gd = document.getElementById('718c0004-d40c-458e-a5b7-c94fbf3f00b7');\n",
       "var x = new MutationObserver(function (mutations, observer) {{\n",
       "        var display = window.getComputedStyle(gd).display;\n",
       "        if (!display || display === 'none') {{\n",
       "            console.log([gd, 'removed!']);\n",
       "            Plotly.purge(gd);\n",
       "            observer.disconnect();\n",
       "        }}\n",
       "}});\n",
       "\n",
       "// Listen for the removal of the full notebook cells\n",
       "var notebookContainer = gd.closest('#notebook-container');\n",
       "if (notebookContainer) {{\n",
       "    x.observe(notebookContainer, {childList: true});\n",
       "}}\n",
       "\n",
       "// Listen for the clearing of the current output cell\n",
       "var outputEl = gd.closest('.output');\n",
       "if (outputEl) {{\n",
       "    x.observe(outputEl, {childList: true});\n",
       "}}\n",
       "\n",
       "                        })\n",
       "                };\n",
       "                });\n",
       "            </script>\n",
       "        </div>"
      ]
     },
     "metadata": {},
     "output_type": "display_data"
    }
   ],
   "source": [
    "fig = make_subplots(rows=2, cols=1)\n",
    "label = '%{customdata}: %{y:.2f}<extra></extra>'\n",
    "\n",
    "for i,m in enumerate(state_rmses.columns):\n",
    "    fig.add_trace(go.Violin(y=state_rmses[m], name=m, box_visible=False, meanline_visible=True, bandwidth=0.2,\n",
    "                            hoveron='points', customdata = state_rmses.index.values,hovertemplate=label,\n",
    "                            points='all',jitter=0.1,pointpos=0,line_color=colors[i]),row=1,col=1)\n",
    "    \n",
    "    fig.add_trace(go.Violin(y=global_rmses[m],name=m,box_visible=False,meanline_visible=True, bandwidth=0.2,\n",
    "                            hoveron='points', customdata = global_rmses.index.values,hovertemplate=label,\n",
    "                            points='all',jitter=0.1,pointpos=0,line_color=colors[i]),row=2,col=1)\n",
    "    \n",
    "\n",
    "fig.update_layout(height=700,title_text=\"Comparison of Models on State & Country Data\",title_x=0.5,showlegend=False)\n",
    "fig.update_xaxes(showline=True, linewidth=1.5, linecolor='black', mirror=True)\n",
    "fig.update_yaxes(showline=True, linewidth=1.5, linecolor='black', mirror=True)\n",
    "fig.update_yaxes(title=\"Standard RMSE Score by State\",row=1,col=1)\n",
    "fig.update_yaxes(title=\"Standard RMSE Score by Country\",row=2,col=1)\n",
    "fig.show()\n"
   ]
  },
  {
   "cell_type": "markdown",
   "metadata": {
    "jupyter": {
     "source_hidden": true
    }
   },
   "source": [
    "What's the verdict? Of the two symmetric models, the normal model seems to score a bit lower (i.e. better) than the logistic model. But the asymmetric models are significantly more accurate! The skew normal model has a lower error than the normal model, and the Richards model has a lower error than the logistic model. The log logistic model also seems really good, except for a few outliers. The inverse Weibull and Gompertz models are not as consistently good, but the Gompertz model is decent for only having 3 parameters.\n",
    "\n",
    "This lends credibility to the hypothesis that incidence data is not symmetric, and generally follows a right-skew distribution. Out of the asymmetric models, both the **Richards** and **log logistic** models seem like good choices.\n",
    "\n",
    "It's hard to definitively say which model is better. Except for a few outliers, the log logistic model is always better than average. However, the log logistic model has not been widely used for epidemic modeling, so the interpretation of its parameters is a bit vague. The log logistic function is also not strictly non-negative, so we technically 'cheated' a bit by definining it as a piecewise function in part 5. Another downside is that this model was significantly slower in terms of fit runtime.\n",
    "\n",
    "The Richards model, while having a slightly higher error on average, is more familiar to epidemiologists and has parameters whose meaning is well known while also being computationally efficient. Thus, I believe the optimal choice for mathematical modeling of coronavirus data is the Richards model. Of course, these results are up to interpretation – take a look below to see for yourself!"
   ]
  },
  {
   "cell_type": "markdown",
   "metadata": {},
   "source": [
    "<a id='sec7'></a>"
   ]
  },
  {
   "cell_type": "markdown",
   "metadata": {},
   "source": [
    "## 7. Visualizing Results"
   ]
  },
  {
   "cell_type": "markdown",
   "metadata": {},
   "source": [
    "Below, you can see the fits visualized for a few regions."
   ]
  },
  {
   "cell_type": "code",
   "execution_count": 26,
   "metadata": {},
   "outputs": [],
   "source": [
    "def show_region(dataset,model,region,month):\n",
    "    \n",
    "    if dataset=='state':\n",
    "        df = state_info\n",
    "        cum = states_cumulative\n",
    "        x = x_data\n",
    "    elif dataset=='country':\n",
    "        df = global_info\n",
    "        cum = global_cumulative\n",
    "        x = x_data_global\n",
    "    \n",
    "    start = pd.Timestamp(x.index.values[-1])\n",
    "    end = pd.to_datetime('2020-'+str(month)+'-28')\n",
    "    delta = (end-start).days\n",
    "    dates = [start+datetime.timedelta(n) for n in range(delta)]\n",
    "    dates_numeric = np.arange(x.values[-1],x.values[-1]+delta,1)\n",
    "    \n",
    "    params = df[model].loc[region,:].values[:-4]\n",
    "    y_pred = go.Scatter(name=model+' fit',x=dates,y=globals()[model](dates_numeric,*params),mode='lines',line=dict(dash=\"dash\"))\n",
    "    y_real = go.Scatter(name='actual cases in '+region,x=x.index,y=cum[region].values,mode='lines')\n",
    "    layout = dict(xaxis=dict(title=\"Day of Year\"),yaxis=dict(title=\"Cumulative Case Count in \"+region),\n",
    "                  width=700,height=400,margin=dict(t=30))\n",
    "    \n",
    "    fig = go.Figure([y_pred, y_real],layout=layout)\n",
    "    fig.add_shape(name='current',type=\"line\", x0=x.index[0], x1=x.index[0], y0=0, y1=params[0],\n",
    "                  line=dict(width=1,dash=\"dot\"))\n",
    "    \n",
    "    fig.update_xaxes(showgrid=True, showline=True, linewidth=1.5, linecolor='black', mirror=True)\n",
    "    fig.update_yaxes(showgrid=False, showline=True, linewidth=1.5, linecolor='black', mirror=True)\n",
    "    fig.show()\n"
   ]
  },
  {
   "cell_type": "code",
   "execution_count": 27,
   "metadata": {},
   "outputs": [
    {
     "name": "stdout",
     "output_type": "stream",
     "text": [
      "Massachusetts:\n"
     ]
    },
    {
     "data": {
      "application/vnd.plotly.v1+json": {
       "config": {
        "plotlyServerURL": "https://plot.ly"
       },
       "data": [
        {
         "line": {
          "dash": "dash"
         },
         "mode": "lines",
         "name": "richards fit",
         "type": "scatter",
         "x": [
          "2020-03-06T00:00:00",
          "2020-03-07T00:00:00",
          "2020-03-08T00:00:00",
          "2020-03-09T00:00:00",
          "2020-03-10T00:00:00",
          "2020-03-11T00:00:00",
          "2020-03-12T00:00:00",
          "2020-03-13T00:00:00",
          "2020-03-14T00:00:00",
          "2020-03-15T00:00:00",
          "2020-03-16T00:00:00",
          "2020-03-17T00:00:00",
          "2020-03-18T00:00:00",
          "2020-03-19T00:00:00",
          "2020-03-20T00:00:00",
          "2020-03-21T00:00:00",
          "2020-03-22T00:00:00",
          "2020-03-23T00:00:00",
          "2020-03-24T00:00:00",
          "2020-03-25T00:00:00",
          "2020-03-26T00:00:00",
          "2020-03-27T00:00:00",
          "2020-03-28T00:00:00",
          "2020-03-29T00:00:00",
          "2020-03-30T00:00:00",
          "2020-03-31T00:00:00",
          "2020-04-01T00:00:00",
          "2020-04-02T00:00:00",
          "2020-04-03T00:00:00",
          "2020-04-04T00:00:00",
          "2020-04-05T00:00:00",
          "2020-04-06T00:00:00",
          "2020-04-07T00:00:00",
          "2020-04-08T00:00:00",
          "2020-04-09T00:00:00",
          "2020-04-10T00:00:00",
          "2020-04-11T00:00:00",
          "2020-04-12T00:00:00",
          "2020-04-13T00:00:00",
          "2020-04-14T00:00:00",
          "2020-04-15T00:00:00",
          "2020-04-16T00:00:00",
          "2020-04-17T00:00:00",
          "2020-04-18T00:00:00",
          "2020-04-19T00:00:00",
          "2020-04-20T00:00:00",
          "2020-04-21T00:00:00",
          "2020-04-22T00:00:00",
          "2020-04-23T00:00:00",
          "2020-04-24T00:00:00",
          "2020-04-25T00:00:00",
          "2020-04-26T00:00:00",
          "2020-04-27T00:00:00",
          "2020-04-28T00:00:00",
          "2020-04-29T00:00:00",
          "2020-04-30T00:00:00",
          "2020-05-01T00:00:00",
          "2020-05-02T00:00:00",
          "2020-05-03T00:00:00",
          "2020-05-04T00:00:00",
          "2020-05-05T00:00:00",
          "2020-05-06T00:00:00",
          "2020-05-07T00:00:00",
          "2020-05-08T00:00:00",
          "2020-05-09T00:00:00",
          "2020-05-10T00:00:00",
          "2020-05-11T00:00:00",
          "2020-05-12T00:00:00",
          "2020-05-13T00:00:00",
          "2020-05-14T00:00:00",
          "2020-05-15T00:00:00",
          "2020-05-16T00:00:00",
          "2020-05-17T00:00:00",
          "2020-05-18T00:00:00",
          "2020-05-19T00:00:00",
          "2020-05-20T00:00:00",
          "2020-05-21T00:00:00",
          "2020-05-22T00:00:00",
          "2020-05-23T00:00:00",
          "2020-05-24T00:00:00",
          "2020-05-25T00:00:00",
          "2020-05-26T00:00:00",
          "2020-05-27T00:00:00",
          "2020-05-28T00:00:00",
          "2020-05-29T00:00:00",
          "2020-05-30T00:00:00",
          "2020-05-31T00:00:00",
          "2020-06-01T00:00:00",
          "2020-06-02T00:00:00",
          "2020-06-03T00:00:00",
          "2020-06-04T00:00:00",
          "2020-06-05T00:00:00",
          "2020-06-06T00:00:00",
          "2020-06-07T00:00:00",
          "2020-06-08T00:00:00",
          "2020-06-09T00:00:00",
          "2020-06-10T00:00:00",
          "2020-06-11T00:00:00",
          "2020-06-12T00:00:00",
          "2020-06-13T00:00:00",
          "2020-06-14T00:00:00",
          "2020-06-15T00:00:00",
          "2020-06-16T00:00:00",
          "2020-06-17T00:00:00",
          "2020-06-18T00:00:00",
          "2020-06-19T00:00:00",
          "2020-06-20T00:00:00",
          "2020-06-21T00:00:00",
          "2020-06-22T00:00:00",
          "2020-06-23T00:00:00",
          "2020-06-24T00:00:00",
          "2020-06-25T00:00:00",
          "2020-06-26T00:00:00",
          "2020-06-27T00:00:00",
          "2020-06-28T00:00:00",
          "2020-06-29T00:00:00",
          "2020-06-30T00:00:00",
          "2020-07-01T00:00:00",
          "2020-07-02T00:00:00",
          "2020-07-03T00:00:00",
          "2020-07-04T00:00:00",
          "2020-07-05T00:00:00",
          "2020-07-06T00:00:00",
          "2020-07-07T00:00:00",
          "2020-07-08T00:00:00",
          "2020-07-09T00:00:00",
          "2020-07-10T00:00:00",
          "2020-07-11T00:00:00",
          "2020-07-12T00:00:00",
          "2020-07-13T00:00:00",
          "2020-07-14T00:00:00",
          "2020-07-15T00:00:00",
          "2020-07-16T00:00:00",
          "2020-07-17T00:00:00",
          "2020-07-18T00:00:00",
          "2020-07-19T00:00:00",
          "2020-07-20T00:00:00",
          "2020-07-21T00:00:00",
          "2020-07-22T00:00:00",
          "2020-07-23T00:00:00",
          "2020-07-24T00:00:00",
          "2020-07-25T00:00:00",
          "2020-07-26T00:00:00",
          "2020-07-27T00:00:00"
         ],
         "y": [
          2.910134763520768,
          4.829962543654892,
          7.847637382505828,
          12.490075708537175,
          19.484590199509693,
          29.81180201577086,
          44.76383266035638,
          66.00540078771006,
          95.63455983138829,
          136.23904347261748,
          190.94364870598383,
          263.4438783079062,
          358.021254688184,
          479.5363329875618,
          633.3964625953328,
          825.4967051621683,
          1062.133905501068,
          1349.8955938946583,
          1695.527027616509,
          2105.781115530471,
          2587.2570938948566,
          3146.2345490863695,
          3788.509669497919,
          4519.240451920445,
          5342.807023311263,
          6262.692334109032,
          7281.387322660964,
          8400.323341072719,
          9619.833270593312,
          10939.141431088996,
          12356.381181231262,
          13868.638072095731,
          15472.015595101893,
          17161.71997399652,
          18932.16009059543,
          20777.05849133972,
          22689.569471615025,
          24662.4004452767,
          26687.933142388818,
          28758.34160267682,
          30865.70441129881,
          33002.10912650041,
          35159.747349424884,
          37330.99936388523,
          39508.507712620834,
          41685.239465767445,
          43854.537270766625,
          46010.15954828768,
          48146.31041657657,
          50257.660089966565,
          52339.35661069625,
          54387.02984240773,
          56396.7886849519,
          58365.21246982177,
          60289.33746983105,
          62166.63941141746,
          63995.01281837156,
          65772.74794653284,
          67498.5059939677,
          69171.29319365082,
          70790.43431831639,
          72355.54605204167,
          73866.51061172625,
          75323.44993511983,
          76726.70069104245,
          78076.79031237551,
          79374.41420339106,
          80620.41422997172,
          81815.75856403146,
          82961.522921664,
          84058.87320782177,
          85109.04955824571,
          86113.35175140297,
          87073.12594899193,
          87989.75271259446,
          88864.63623588985,
          89699.19472615131,
          90494.85186506082,
          91253.0292769315,
          91975.13993190556,
          92662.5824122997,
          93316.73597181556,
          93938.95631957674,
          94530.57206373096,
          95092.88175253966,
          95627.15145429176,
          96134.61282099843,
          96616.46158446478,
          97073.85643703186,
          97507.91825288076,
          97919.72960932876,
          98310.33457095128,
          98680.7387026014,
          99031.90928050042,
          99364.7756734486,
          99680.22986896882,
          99979.1271216995,
          100262.28670371394,
          100530.4927386384,
          100784.49510340994,
          101025.01038337254,
          101252.72286807382,
          101468.28557664601,
          101672.32130305543,
          101865.42367272773,
          102048.15820321336,
          102221.06336256111,
          102384.65161997272,
          102539.41048414305,
          102685.80352539437,
          102824.27137838982,
          102955.23272275475,
          103079.08523945943,
          103196.20654125689,
          103306.95507586614,
          103411.67100092827,
          103510.67703005932,
          103604.27924960776,
          103692.76790589919,
          103776.41816300336,
          103855.49083117337,
          103930.23306626643,
          104000.87904058637,
          104067.65058564756,
          104130.75780748398,
          104190.3996751504,
          104246.76458315227,
          104300.03088854557,
          104350.3674235065,
          104397.93398416482,
          104442.88179653964,
          104485.35396037904,
          104525.48587175686,
          104563.40562522865,
          104599.23439637027,
          104633.0868055046,
          104665.07126339947,
          104695.2902997027,
          104723.84087488768,
          104750.81467641561,
          104776.29839984463,
          104800.37401556798,
          104823.11902184773,
          104844.6066847916
         ]
        },
        {
         "mode": "lines",
         "name": "actual cases in MA",
         "type": "scatter",
         "x": [
          "2020-05-10T00:00:00",
          "2020-05-09T00:00:00",
          "2020-05-08T00:00:00",
          "2020-05-07T00:00:00",
          "2020-05-06T00:00:00",
          "2020-05-05T00:00:00",
          "2020-05-04T00:00:00",
          "2020-05-03T00:00:00",
          "2020-05-02T00:00:00",
          "2020-05-01T00:00:00",
          "2020-04-30T00:00:00",
          "2020-04-29T00:00:00",
          "2020-04-28T00:00:00",
          "2020-04-27T00:00:00",
          "2020-04-26T00:00:00",
          "2020-04-25T00:00:00",
          "2020-04-24T00:00:00",
          "2020-04-23T00:00:00",
          "2020-04-22T00:00:00",
          "2020-04-21T00:00:00",
          "2020-04-20T00:00:00",
          "2020-04-19T00:00:00",
          "2020-04-18T00:00:00",
          "2020-04-17T00:00:00",
          "2020-04-16T00:00:00",
          "2020-04-15T00:00:00",
          "2020-04-14T00:00:00",
          "2020-04-13T00:00:00",
          "2020-04-12T00:00:00",
          "2020-04-11T00:00:00",
          "2020-04-10T00:00:00",
          "2020-04-09T00:00:00",
          "2020-04-08T00:00:00",
          "2020-04-07T00:00:00",
          "2020-04-06T00:00:00",
          "2020-04-05T00:00:00",
          "2020-04-04T00:00:00",
          "2020-04-03T00:00:00",
          "2020-04-02T00:00:00",
          "2020-04-01T00:00:00",
          "2020-03-31T00:00:00",
          "2020-03-30T00:00:00",
          "2020-03-29T00:00:00",
          "2020-03-28T00:00:00",
          "2020-03-27T00:00:00",
          "2020-03-26T00:00:00",
          "2020-03-25T00:00:00",
          "2020-03-24T00:00:00",
          "2020-03-23T00:00:00",
          "2020-03-22T00:00:00",
          "2020-03-21T00:00:00",
          "2020-03-20T00:00:00",
          "2020-03-19T00:00:00",
          "2020-03-18T00:00:00",
          "2020-03-17T00:00:00",
          "2020-03-16T00:00:00",
          "2020-03-15T00:00:00",
          "2020-03-14T00:00:00",
          "2020-03-13T00:00:00",
          "2020-03-12T00:00:00",
          "2020-03-11T00:00:00",
          "2020-03-10T00:00:00",
          "2020-03-09T00:00:00",
          "2020-03-08T00:00:00",
          "2020-03-07T00:00:00",
          "2020-03-06T00:00:00"
         ],
         "y": [
          77793,
          76743,
          75333,
          73721,
          72025,
          70271,
          69087,
          68087,
          66263,
          64311,
          62205,
          60265,
          58302,
          56462,
          54938,
          53348,
          50969,
          47992,
          44913,
          43168,
          41416,
          39820,
          37527,
          35125,
          32492,
          29970,
          28109,
          26794,
          25381,
          22766,
          20878,
          18843,
          16692,
          15104,
          13739,
          12402,
          11637,
          10303,
          8867,
          7639,
          6521,
          5653,
          4856,
          4158,
          3151,
          2318,
          1739,
          1060,
          678,
          547,
          426,
          314,
          229,
          156,
          118,
          97,
          64,
          38,
          23,
          8,
          0,
          0,
          0,
          0,
          0,
          0
         ]
        }
       ],
       "layout": {
        "height": 400,
        "margin": {
         "t": 30
        },
        "shapes": [
         {
          "line": {
           "dash": "dot",
           "width": 1
          },
          "name": "current",
          "type": "line",
          "x0": "2020-05-10T00:00:00",
          "x1": "2020-05-10T00:00:00",
          "y0": 0,
          "y1": 105211.08475410522
         }
        ],
        "template": {
         "data": {
          "bar": [
           {
            "error_x": {
             "color": "#2a3f5f"
            },
            "error_y": {
             "color": "#2a3f5f"
            },
            "marker": {
             "line": {
              "color": "#E5ECF6",
              "width": 0.5
             }
            },
            "type": "bar"
           }
          ],
          "barpolar": [
           {
            "marker": {
             "line": {
              "color": "#E5ECF6",
              "width": 0.5
             }
            },
            "type": "barpolar"
           }
          ],
          "carpet": [
           {
            "aaxis": {
             "endlinecolor": "#2a3f5f",
             "gridcolor": "white",
             "linecolor": "white",
             "minorgridcolor": "white",
             "startlinecolor": "#2a3f5f"
            },
            "baxis": {
             "endlinecolor": "#2a3f5f",
             "gridcolor": "white",
             "linecolor": "white",
             "minorgridcolor": "white",
             "startlinecolor": "#2a3f5f"
            },
            "type": "carpet"
           }
          ],
          "choropleth": [
           {
            "colorbar": {
             "outlinewidth": 0,
             "ticks": ""
            },
            "type": "choropleth"
           }
          ],
          "contour": [
           {
            "colorbar": {
             "outlinewidth": 0,
             "ticks": ""
            },
            "colorscale": [
             [
              0,
              "#0d0887"
             ],
             [
              0.1111111111111111,
              "#46039f"
             ],
             [
              0.2222222222222222,
              "#7201a8"
             ],
             [
              0.3333333333333333,
              "#9c179e"
             ],
             [
              0.4444444444444444,
              "#bd3786"
             ],
             [
              0.5555555555555556,
              "#d8576b"
             ],
             [
              0.6666666666666666,
              "#ed7953"
             ],
             [
              0.7777777777777778,
              "#fb9f3a"
             ],
             [
              0.8888888888888888,
              "#fdca26"
             ],
             [
              1,
              "#f0f921"
             ]
            ],
            "type": "contour"
           }
          ],
          "contourcarpet": [
           {
            "colorbar": {
             "outlinewidth": 0,
             "ticks": ""
            },
            "type": "contourcarpet"
           }
          ],
          "heatmap": [
           {
            "colorbar": {
             "outlinewidth": 0,
             "ticks": ""
            },
            "colorscale": [
             [
              0,
              "#0d0887"
             ],
             [
              0.1111111111111111,
              "#46039f"
             ],
             [
              0.2222222222222222,
              "#7201a8"
             ],
             [
              0.3333333333333333,
              "#9c179e"
             ],
             [
              0.4444444444444444,
              "#bd3786"
             ],
             [
              0.5555555555555556,
              "#d8576b"
             ],
             [
              0.6666666666666666,
              "#ed7953"
             ],
             [
              0.7777777777777778,
              "#fb9f3a"
             ],
             [
              0.8888888888888888,
              "#fdca26"
             ],
             [
              1,
              "#f0f921"
             ]
            ],
            "type": "heatmap"
           }
          ],
          "heatmapgl": [
           {
            "colorbar": {
             "outlinewidth": 0,
             "ticks": ""
            },
            "colorscale": [
             [
              0,
              "#0d0887"
             ],
             [
              0.1111111111111111,
              "#46039f"
             ],
             [
              0.2222222222222222,
              "#7201a8"
             ],
             [
              0.3333333333333333,
              "#9c179e"
             ],
             [
              0.4444444444444444,
              "#bd3786"
             ],
             [
              0.5555555555555556,
              "#d8576b"
             ],
             [
              0.6666666666666666,
              "#ed7953"
             ],
             [
              0.7777777777777778,
              "#fb9f3a"
             ],
             [
              0.8888888888888888,
              "#fdca26"
             ],
             [
              1,
              "#f0f921"
             ]
            ],
            "type": "heatmapgl"
           }
          ],
          "histogram": [
           {
            "marker": {
             "colorbar": {
              "outlinewidth": 0,
              "ticks": ""
             }
            },
            "type": "histogram"
           }
          ],
          "histogram2d": [
           {
            "colorbar": {
             "outlinewidth": 0,
             "ticks": ""
            },
            "colorscale": [
             [
              0,
              "#0d0887"
             ],
             [
              0.1111111111111111,
              "#46039f"
             ],
             [
              0.2222222222222222,
              "#7201a8"
             ],
             [
              0.3333333333333333,
              "#9c179e"
             ],
             [
              0.4444444444444444,
              "#bd3786"
             ],
             [
              0.5555555555555556,
              "#d8576b"
             ],
             [
              0.6666666666666666,
              "#ed7953"
             ],
             [
              0.7777777777777778,
              "#fb9f3a"
             ],
             [
              0.8888888888888888,
              "#fdca26"
             ],
             [
              1,
              "#f0f921"
             ]
            ],
            "type": "histogram2d"
           }
          ],
          "histogram2dcontour": [
           {
            "colorbar": {
             "outlinewidth": 0,
             "ticks": ""
            },
            "colorscale": [
             [
              0,
              "#0d0887"
             ],
             [
              0.1111111111111111,
              "#46039f"
             ],
             [
              0.2222222222222222,
              "#7201a8"
             ],
             [
              0.3333333333333333,
              "#9c179e"
             ],
             [
              0.4444444444444444,
              "#bd3786"
             ],
             [
              0.5555555555555556,
              "#d8576b"
             ],
             [
              0.6666666666666666,
              "#ed7953"
             ],
             [
              0.7777777777777778,
              "#fb9f3a"
             ],
             [
              0.8888888888888888,
              "#fdca26"
             ],
             [
              1,
              "#f0f921"
             ]
            ],
            "type": "histogram2dcontour"
           }
          ],
          "mesh3d": [
           {
            "colorbar": {
             "outlinewidth": 0,
             "ticks": ""
            },
            "type": "mesh3d"
           }
          ],
          "parcoords": [
           {
            "line": {
             "colorbar": {
              "outlinewidth": 0,
              "ticks": ""
             }
            },
            "type": "parcoords"
           }
          ],
          "pie": [
           {
            "automargin": true,
            "type": "pie"
           }
          ],
          "scatter": [
           {
            "marker": {
             "colorbar": {
              "outlinewidth": 0,
              "ticks": ""
             }
            },
            "type": "scatter"
           }
          ],
          "scatter3d": [
           {
            "line": {
             "colorbar": {
              "outlinewidth": 0,
              "ticks": ""
             }
            },
            "marker": {
             "colorbar": {
              "outlinewidth": 0,
              "ticks": ""
             }
            },
            "type": "scatter3d"
           }
          ],
          "scattercarpet": [
           {
            "marker": {
             "colorbar": {
              "outlinewidth": 0,
              "ticks": ""
             }
            },
            "type": "scattercarpet"
           }
          ],
          "scattergeo": [
           {
            "marker": {
             "colorbar": {
              "outlinewidth": 0,
              "ticks": ""
             }
            },
            "type": "scattergeo"
           }
          ],
          "scattergl": [
           {
            "marker": {
             "colorbar": {
              "outlinewidth": 0,
              "ticks": ""
             }
            },
            "type": "scattergl"
           }
          ],
          "scattermapbox": [
           {
            "marker": {
             "colorbar": {
              "outlinewidth": 0,
              "ticks": ""
             }
            },
            "type": "scattermapbox"
           }
          ],
          "scatterpolar": [
           {
            "marker": {
             "colorbar": {
              "outlinewidth": 0,
              "ticks": ""
             }
            },
            "type": "scatterpolar"
           }
          ],
          "scatterpolargl": [
           {
            "marker": {
             "colorbar": {
              "outlinewidth": 0,
              "ticks": ""
             }
            },
            "type": "scatterpolargl"
           }
          ],
          "scatterternary": [
           {
            "marker": {
             "colorbar": {
              "outlinewidth": 0,
              "ticks": ""
             }
            },
            "type": "scatterternary"
           }
          ],
          "surface": [
           {
            "colorbar": {
             "outlinewidth": 0,
             "ticks": ""
            },
            "colorscale": [
             [
              0,
              "#0d0887"
             ],
             [
              0.1111111111111111,
              "#46039f"
             ],
             [
              0.2222222222222222,
              "#7201a8"
             ],
             [
              0.3333333333333333,
              "#9c179e"
             ],
             [
              0.4444444444444444,
              "#bd3786"
             ],
             [
              0.5555555555555556,
              "#d8576b"
             ],
             [
              0.6666666666666666,
              "#ed7953"
             ],
             [
              0.7777777777777778,
              "#fb9f3a"
             ],
             [
              0.8888888888888888,
              "#fdca26"
             ],
             [
              1,
              "#f0f921"
             ]
            ],
            "type": "surface"
           }
          ],
          "table": [
           {
            "cells": {
             "fill": {
              "color": "#EBF0F8"
             },
             "line": {
              "color": "white"
             }
            },
            "header": {
             "fill": {
              "color": "#C8D4E3"
             },
             "line": {
              "color": "white"
             }
            },
            "type": "table"
           }
          ]
         },
         "layout": {
          "annotationdefaults": {
           "arrowcolor": "#2a3f5f",
           "arrowhead": 0,
           "arrowwidth": 1
          },
          "coloraxis": {
           "colorbar": {
            "outlinewidth": 0,
            "ticks": ""
           }
          },
          "colorscale": {
           "diverging": [
            [
             0,
             "#8e0152"
            ],
            [
             0.1,
             "#c51b7d"
            ],
            [
             0.2,
             "#de77ae"
            ],
            [
             0.3,
             "#f1b6da"
            ],
            [
             0.4,
             "#fde0ef"
            ],
            [
             0.5,
             "#f7f7f7"
            ],
            [
             0.6,
             "#e6f5d0"
            ],
            [
             0.7,
             "#b8e186"
            ],
            [
             0.8,
             "#7fbc41"
            ],
            [
             0.9,
             "#4d9221"
            ],
            [
             1,
             "#276419"
            ]
           ],
           "sequential": [
            [
             0,
             "#0d0887"
            ],
            [
             0.1111111111111111,
             "#46039f"
            ],
            [
             0.2222222222222222,
             "#7201a8"
            ],
            [
             0.3333333333333333,
             "#9c179e"
            ],
            [
             0.4444444444444444,
             "#bd3786"
            ],
            [
             0.5555555555555556,
             "#d8576b"
            ],
            [
             0.6666666666666666,
             "#ed7953"
            ],
            [
             0.7777777777777778,
             "#fb9f3a"
            ],
            [
             0.8888888888888888,
             "#fdca26"
            ],
            [
             1,
             "#f0f921"
            ]
           ],
           "sequentialminus": [
            [
             0,
             "#0d0887"
            ],
            [
             0.1111111111111111,
             "#46039f"
            ],
            [
             0.2222222222222222,
             "#7201a8"
            ],
            [
             0.3333333333333333,
             "#9c179e"
            ],
            [
             0.4444444444444444,
             "#bd3786"
            ],
            [
             0.5555555555555556,
             "#d8576b"
            ],
            [
             0.6666666666666666,
             "#ed7953"
            ],
            [
             0.7777777777777778,
             "#fb9f3a"
            ],
            [
             0.8888888888888888,
             "#fdca26"
            ],
            [
             1,
             "#f0f921"
            ]
           ]
          },
          "colorway": [
           "#636efa",
           "#EF553B",
           "#00cc96",
           "#ab63fa",
           "#FFA15A",
           "#19d3f3",
           "#FF6692",
           "#B6E880",
           "#FF97FF",
           "#FECB52"
          ],
          "font": {
           "color": "#2a3f5f"
          },
          "geo": {
           "bgcolor": "white",
           "lakecolor": "white",
           "landcolor": "#E5ECF6",
           "showlakes": true,
           "showland": true,
           "subunitcolor": "white"
          },
          "hoverlabel": {
           "align": "left"
          },
          "hovermode": "closest",
          "mapbox": {
           "style": "light"
          },
          "paper_bgcolor": "white",
          "plot_bgcolor": "#E5ECF6",
          "polar": {
           "angularaxis": {
            "gridcolor": "white",
            "linecolor": "white",
            "ticks": ""
           },
           "bgcolor": "#E5ECF6",
           "radialaxis": {
            "gridcolor": "white",
            "linecolor": "white",
            "ticks": ""
           }
          },
          "scene": {
           "xaxis": {
            "backgroundcolor": "#E5ECF6",
            "gridcolor": "white",
            "gridwidth": 2,
            "linecolor": "white",
            "showbackground": true,
            "ticks": "",
            "zerolinecolor": "white"
           },
           "yaxis": {
            "backgroundcolor": "#E5ECF6",
            "gridcolor": "white",
            "gridwidth": 2,
            "linecolor": "white",
            "showbackground": true,
            "ticks": "",
            "zerolinecolor": "white"
           },
           "zaxis": {
            "backgroundcolor": "#E5ECF6",
            "gridcolor": "white",
            "gridwidth": 2,
            "linecolor": "white",
            "showbackground": true,
            "ticks": "",
            "zerolinecolor": "white"
           }
          },
          "shapedefaults": {
           "line": {
            "color": "#2a3f5f"
           }
          },
          "ternary": {
           "aaxis": {
            "gridcolor": "white",
            "linecolor": "white",
            "ticks": ""
           },
           "baxis": {
            "gridcolor": "white",
            "linecolor": "white",
            "ticks": ""
           },
           "bgcolor": "#E5ECF6",
           "caxis": {
            "gridcolor": "white",
            "linecolor": "white",
            "ticks": ""
           }
          },
          "title": {
           "x": 0.05
          },
          "xaxis": {
           "automargin": true,
           "gridcolor": "white",
           "linecolor": "white",
           "ticks": "",
           "title": {
            "standoff": 15
           },
           "zerolinecolor": "white",
           "zerolinewidth": 2
          },
          "yaxis": {
           "automargin": true,
           "gridcolor": "white",
           "linecolor": "white",
           "ticks": "",
           "title": {
            "standoff": 15
           },
           "zerolinecolor": "white",
           "zerolinewidth": 2
          }
         }
        },
        "width": 700,
        "xaxis": {
         "linecolor": "black",
         "linewidth": 1.5,
         "mirror": true,
         "showgrid": true,
         "showline": true,
         "title": {
          "text": "Day of Year"
         }
        },
        "yaxis": {
         "linecolor": "black",
         "linewidth": 1.5,
         "mirror": true,
         "showgrid": false,
         "showline": true,
         "title": {
          "text": "Cumulative Case Count in MA"
         }
        }
       }
      },
      "text/html": [
       "<div>\n",
       "        \n",
       "        \n",
       "            <div id=\"aecd6472-d870-4456-bb76-6af69b064e38\" class=\"plotly-graph-div\" style=\"height:400px; width:700px;\"></div>\n",
       "            <script type=\"text/javascript\">\n",
       "                require([\"plotly\"], function(Plotly) {\n",
       "                    window.PLOTLYENV=window.PLOTLYENV || {};\n",
       "                    \n",
       "                if (document.getElementById(\"aecd6472-d870-4456-bb76-6af69b064e38\")) {\n",
       "                    Plotly.newPlot(\n",
       "                        'aecd6472-d870-4456-bb76-6af69b064e38',\n",
       "                        [{\"line\": {\"dash\": \"dash\"}, \"mode\": \"lines\", \"name\": \"richards fit\", \"type\": \"scatter\", \"x\": [\"2020-03-06T00:00:00\", \"2020-03-07T00:00:00\", \"2020-03-08T00:00:00\", \"2020-03-09T00:00:00\", \"2020-03-10T00:00:00\", \"2020-03-11T00:00:00\", \"2020-03-12T00:00:00\", \"2020-03-13T00:00:00\", \"2020-03-14T00:00:00\", \"2020-03-15T00:00:00\", \"2020-03-16T00:00:00\", \"2020-03-17T00:00:00\", \"2020-03-18T00:00:00\", \"2020-03-19T00:00:00\", \"2020-03-20T00:00:00\", \"2020-03-21T00:00:00\", \"2020-03-22T00:00:00\", \"2020-03-23T00:00:00\", \"2020-03-24T00:00:00\", \"2020-03-25T00:00:00\", \"2020-03-26T00:00:00\", \"2020-03-27T00:00:00\", \"2020-03-28T00:00:00\", \"2020-03-29T00:00:00\", \"2020-03-30T00:00:00\", \"2020-03-31T00:00:00\", \"2020-04-01T00:00:00\", \"2020-04-02T00:00:00\", \"2020-04-03T00:00:00\", \"2020-04-04T00:00:00\", \"2020-04-05T00:00:00\", \"2020-04-06T00:00:00\", \"2020-04-07T00:00:00\", \"2020-04-08T00:00:00\", \"2020-04-09T00:00:00\", \"2020-04-10T00:00:00\", \"2020-04-11T00:00:00\", \"2020-04-12T00:00:00\", \"2020-04-13T00:00:00\", \"2020-04-14T00:00:00\", \"2020-04-15T00:00:00\", \"2020-04-16T00:00:00\", \"2020-04-17T00:00:00\", \"2020-04-18T00:00:00\", \"2020-04-19T00:00:00\", \"2020-04-20T00:00:00\", \"2020-04-21T00:00:00\", \"2020-04-22T00:00:00\", \"2020-04-23T00:00:00\", \"2020-04-24T00:00:00\", \"2020-04-25T00:00:00\", \"2020-04-26T00:00:00\", \"2020-04-27T00:00:00\", \"2020-04-28T00:00:00\", \"2020-04-29T00:00:00\", \"2020-04-30T00:00:00\", \"2020-05-01T00:00:00\", \"2020-05-02T00:00:00\", \"2020-05-03T00:00:00\", \"2020-05-04T00:00:00\", \"2020-05-05T00:00:00\", \"2020-05-06T00:00:00\", \"2020-05-07T00:00:00\", \"2020-05-08T00:00:00\", \"2020-05-09T00:00:00\", \"2020-05-10T00:00:00\", \"2020-05-11T00:00:00\", \"2020-05-12T00:00:00\", \"2020-05-13T00:00:00\", \"2020-05-14T00:00:00\", \"2020-05-15T00:00:00\", \"2020-05-16T00:00:00\", \"2020-05-17T00:00:00\", \"2020-05-18T00:00:00\", \"2020-05-19T00:00:00\", \"2020-05-20T00:00:00\", \"2020-05-21T00:00:00\", \"2020-05-22T00:00:00\", \"2020-05-23T00:00:00\", \"2020-05-24T00:00:00\", \"2020-05-25T00:00:00\", \"2020-05-26T00:00:00\", \"2020-05-27T00:00:00\", \"2020-05-28T00:00:00\", \"2020-05-29T00:00:00\", \"2020-05-30T00:00:00\", \"2020-05-31T00:00:00\", \"2020-06-01T00:00:00\", \"2020-06-02T00:00:00\", \"2020-06-03T00:00:00\", \"2020-06-04T00:00:00\", \"2020-06-05T00:00:00\", \"2020-06-06T00:00:00\", \"2020-06-07T00:00:00\", \"2020-06-08T00:00:00\", \"2020-06-09T00:00:00\", \"2020-06-10T00:00:00\", \"2020-06-11T00:00:00\", \"2020-06-12T00:00:00\", \"2020-06-13T00:00:00\", \"2020-06-14T00:00:00\", \"2020-06-15T00:00:00\", \"2020-06-16T00:00:00\", \"2020-06-17T00:00:00\", \"2020-06-18T00:00:00\", \"2020-06-19T00:00:00\", \"2020-06-20T00:00:00\", \"2020-06-21T00:00:00\", \"2020-06-22T00:00:00\", \"2020-06-23T00:00:00\", \"2020-06-24T00:00:00\", \"2020-06-25T00:00:00\", \"2020-06-26T00:00:00\", \"2020-06-27T00:00:00\", \"2020-06-28T00:00:00\", \"2020-06-29T00:00:00\", \"2020-06-30T00:00:00\", \"2020-07-01T00:00:00\", \"2020-07-02T00:00:00\", \"2020-07-03T00:00:00\", \"2020-07-04T00:00:00\", \"2020-07-05T00:00:00\", \"2020-07-06T00:00:00\", \"2020-07-07T00:00:00\", \"2020-07-08T00:00:00\", \"2020-07-09T00:00:00\", \"2020-07-10T00:00:00\", \"2020-07-11T00:00:00\", \"2020-07-12T00:00:00\", \"2020-07-13T00:00:00\", \"2020-07-14T00:00:00\", \"2020-07-15T00:00:00\", \"2020-07-16T00:00:00\", \"2020-07-17T00:00:00\", \"2020-07-18T00:00:00\", \"2020-07-19T00:00:00\", \"2020-07-20T00:00:00\", \"2020-07-21T00:00:00\", \"2020-07-22T00:00:00\", \"2020-07-23T00:00:00\", \"2020-07-24T00:00:00\", \"2020-07-25T00:00:00\", \"2020-07-26T00:00:00\", \"2020-07-27T00:00:00\"], \"y\": [2.910134763520768, 4.829962543654892, 7.847637382505828, 12.490075708537175, 19.484590199509693, 29.81180201577086, 44.76383266035638, 66.00540078771006, 95.63455983138829, 136.23904347261748, 190.94364870598383, 263.4438783079062, 358.021254688184, 479.5363329875618, 633.3964625953328, 825.4967051621683, 1062.133905501068, 1349.8955938946583, 1695.527027616509, 2105.781115530471, 2587.2570938948566, 3146.2345490863695, 3788.509669497919, 4519.240451920445, 5342.807023311263, 6262.692334109032, 7281.387322660964, 8400.323341072719, 9619.833270593312, 10939.141431088996, 12356.381181231262, 13868.638072095731, 15472.015595101893, 17161.71997399652, 18932.16009059543, 20777.05849133972, 22689.569471615025, 24662.4004452767, 26687.933142388818, 28758.34160267682, 30865.70441129881, 33002.10912650041, 35159.747349424884, 37330.99936388523, 39508.507712620834, 41685.239465767445, 43854.537270766625, 46010.15954828768, 48146.31041657657, 50257.660089966565, 52339.35661069625, 54387.02984240773, 56396.7886849519, 58365.21246982177, 60289.33746983105, 62166.63941141746, 63995.01281837156, 65772.74794653284, 67498.5059939677, 69171.29319365082, 70790.43431831639, 72355.54605204167, 73866.51061172625, 75323.44993511983, 76726.70069104245, 78076.79031237551, 79374.41420339106, 80620.41422997172, 81815.75856403146, 82961.522921664, 84058.87320782177, 85109.04955824571, 86113.35175140297, 87073.12594899193, 87989.75271259446, 88864.63623588985, 89699.19472615131, 90494.85186506082, 91253.0292769315, 91975.13993190556, 92662.5824122997, 93316.73597181556, 93938.95631957674, 94530.57206373096, 95092.88175253966, 95627.15145429176, 96134.61282099843, 96616.46158446478, 97073.85643703186, 97507.91825288076, 97919.72960932876, 98310.33457095128, 98680.7387026014, 99031.90928050042, 99364.7756734486, 99680.22986896882, 99979.1271216995, 100262.28670371394, 100530.4927386384, 100784.49510340994, 101025.01038337254, 101252.72286807382, 101468.28557664601, 101672.32130305543, 101865.42367272773, 102048.15820321336, 102221.06336256111, 102384.65161997272, 102539.41048414305, 102685.80352539437, 102824.27137838982, 102955.23272275475, 103079.08523945943, 103196.20654125689, 103306.95507586614, 103411.67100092827, 103510.67703005932, 103604.27924960776, 103692.76790589919, 103776.41816300336, 103855.49083117337, 103930.23306626643, 104000.87904058637, 104067.65058564756, 104130.75780748398, 104190.3996751504, 104246.76458315227, 104300.03088854557, 104350.3674235065, 104397.93398416482, 104442.88179653964, 104485.35396037904, 104525.48587175686, 104563.40562522865, 104599.23439637027, 104633.0868055046, 104665.07126339947, 104695.2902997027, 104723.84087488768, 104750.81467641561, 104776.29839984463, 104800.37401556798, 104823.11902184773, 104844.6066847916]}, {\"mode\": \"lines\", \"name\": \"actual cases in MA\", \"type\": \"scatter\", \"x\": [\"2020-05-10T00:00:00\", \"2020-05-09T00:00:00\", \"2020-05-08T00:00:00\", \"2020-05-07T00:00:00\", \"2020-05-06T00:00:00\", \"2020-05-05T00:00:00\", \"2020-05-04T00:00:00\", \"2020-05-03T00:00:00\", \"2020-05-02T00:00:00\", \"2020-05-01T00:00:00\", \"2020-04-30T00:00:00\", \"2020-04-29T00:00:00\", \"2020-04-28T00:00:00\", \"2020-04-27T00:00:00\", \"2020-04-26T00:00:00\", \"2020-04-25T00:00:00\", \"2020-04-24T00:00:00\", \"2020-04-23T00:00:00\", \"2020-04-22T00:00:00\", \"2020-04-21T00:00:00\", \"2020-04-20T00:00:00\", \"2020-04-19T00:00:00\", \"2020-04-18T00:00:00\", \"2020-04-17T00:00:00\", \"2020-04-16T00:00:00\", \"2020-04-15T00:00:00\", \"2020-04-14T00:00:00\", \"2020-04-13T00:00:00\", \"2020-04-12T00:00:00\", \"2020-04-11T00:00:00\", \"2020-04-10T00:00:00\", \"2020-04-09T00:00:00\", \"2020-04-08T00:00:00\", \"2020-04-07T00:00:00\", \"2020-04-06T00:00:00\", \"2020-04-05T00:00:00\", \"2020-04-04T00:00:00\", \"2020-04-03T00:00:00\", \"2020-04-02T00:00:00\", \"2020-04-01T00:00:00\", \"2020-03-31T00:00:00\", \"2020-03-30T00:00:00\", \"2020-03-29T00:00:00\", \"2020-03-28T00:00:00\", \"2020-03-27T00:00:00\", \"2020-03-26T00:00:00\", \"2020-03-25T00:00:00\", \"2020-03-24T00:00:00\", \"2020-03-23T00:00:00\", \"2020-03-22T00:00:00\", \"2020-03-21T00:00:00\", \"2020-03-20T00:00:00\", \"2020-03-19T00:00:00\", \"2020-03-18T00:00:00\", \"2020-03-17T00:00:00\", \"2020-03-16T00:00:00\", \"2020-03-15T00:00:00\", \"2020-03-14T00:00:00\", \"2020-03-13T00:00:00\", \"2020-03-12T00:00:00\", \"2020-03-11T00:00:00\", \"2020-03-10T00:00:00\", \"2020-03-09T00:00:00\", \"2020-03-08T00:00:00\", \"2020-03-07T00:00:00\", \"2020-03-06T00:00:00\"], \"y\": [77793.0, 76743.0, 75333.0, 73721.0, 72025.0, 70271.0, 69087.0, 68087.0, 66263.0, 64311.0, 62205.0, 60265.0, 58302.0, 56462.0, 54938.0, 53348.0, 50969.0, 47992.0, 44913.0, 43168.0, 41416.0, 39820.0, 37527.0, 35125.0, 32492.0, 29970.0, 28109.0, 26794.0, 25381.0, 22766.0, 20878.0, 18843.0, 16692.0, 15104.0, 13739.0, 12402.0, 11637.0, 10303.0, 8867.0, 7639.0, 6521.0, 5653.0, 4856.0, 4158.0, 3151.0, 2318.0, 1739.0, 1060.0, 678.0, 547.0, 426.0, 314.0, 229.0, 156.0, 118.0, 97.0, 64.0, 38.0, 23.0, 8.0, 0.0, 0.0, 0.0, 0.0, 0.0, 0.0]}],\n",
       "                        {\"height\": 400, \"margin\": {\"t\": 30}, \"shapes\": [{\"line\": {\"dash\": \"dot\", \"width\": 1}, \"name\": \"current\", \"type\": \"line\", \"x0\": \"2020-05-10T00:00:00\", \"x1\": \"2020-05-10T00:00:00\", \"y0\": 0, \"y1\": 105211.08475410522}], \"template\": {\"data\": {\"bar\": [{\"error_x\": {\"color\": \"#2a3f5f\"}, \"error_y\": {\"color\": \"#2a3f5f\"}, \"marker\": {\"line\": {\"color\": \"#E5ECF6\", \"width\": 0.5}}, \"type\": \"bar\"}], \"barpolar\": [{\"marker\": {\"line\": {\"color\": \"#E5ECF6\", \"width\": 0.5}}, \"type\": \"barpolar\"}], \"carpet\": [{\"aaxis\": {\"endlinecolor\": \"#2a3f5f\", \"gridcolor\": \"white\", \"linecolor\": \"white\", \"minorgridcolor\": \"white\", \"startlinecolor\": \"#2a3f5f\"}, \"baxis\": {\"endlinecolor\": \"#2a3f5f\", \"gridcolor\": \"white\", \"linecolor\": \"white\", \"minorgridcolor\": \"white\", \"startlinecolor\": \"#2a3f5f\"}, \"type\": \"carpet\"}], \"choropleth\": [{\"colorbar\": {\"outlinewidth\": 0, \"ticks\": \"\"}, \"type\": \"choropleth\"}], \"contour\": [{\"colorbar\": {\"outlinewidth\": 0, \"ticks\": \"\"}, \"colorscale\": [[0.0, \"#0d0887\"], [0.1111111111111111, \"#46039f\"], [0.2222222222222222, \"#7201a8\"], [0.3333333333333333, \"#9c179e\"], [0.4444444444444444, \"#bd3786\"], [0.5555555555555556, \"#d8576b\"], [0.6666666666666666, \"#ed7953\"], [0.7777777777777778, \"#fb9f3a\"], [0.8888888888888888, \"#fdca26\"], [1.0, \"#f0f921\"]], \"type\": \"contour\"}], \"contourcarpet\": [{\"colorbar\": {\"outlinewidth\": 0, \"ticks\": \"\"}, \"type\": \"contourcarpet\"}], \"heatmap\": [{\"colorbar\": {\"outlinewidth\": 0, \"ticks\": \"\"}, \"colorscale\": [[0.0, \"#0d0887\"], [0.1111111111111111, \"#46039f\"], [0.2222222222222222, \"#7201a8\"], [0.3333333333333333, \"#9c179e\"], [0.4444444444444444, \"#bd3786\"], [0.5555555555555556, \"#d8576b\"], [0.6666666666666666, \"#ed7953\"], [0.7777777777777778, \"#fb9f3a\"], [0.8888888888888888, \"#fdca26\"], [1.0, \"#f0f921\"]], \"type\": \"heatmap\"}], \"heatmapgl\": [{\"colorbar\": {\"outlinewidth\": 0, \"ticks\": \"\"}, \"colorscale\": [[0.0, \"#0d0887\"], [0.1111111111111111, \"#46039f\"], [0.2222222222222222, \"#7201a8\"], [0.3333333333333333, \"#9c179e\"], [0.4444444444444444, \"#bd3786\"], [0.5555555555555556, \"#d8576b\"], [0.6666666666666666, \"#ed7953\"], [0.7777777777777778, \"#fb9f3a\"], [0.8888888888888888, \"#fdca26\"], [1.0, \"#f0f921\"]], \"type\": \"heatmapgl\"}], \"histogram\": [{\"marker\": {\"colorbar\": {\"outlinewidth\": 0, \"ticks\": \"\"}}, \"type\": \"histogram\"}], \"histogram2d\": [{\"colorbar\": {\"outlinewidth\": 0, \"ticks\": \"\"}, \"colorscale\": [[0.0, \"#0d0887\"], [0.1111111111111111, \"#46039f\"], [0.2222222222222222, \"#7201a8\"], [0.3333333333333333, \"#9c179e\"], [0.4444444444444444, \"#bd3786\"], [0.5555555555555556, \"#d8576b\"], [0.6666666666666666, \"#ed7953\"], [0.7777777777777778, \"#fb9f3a\"], [0.8888888888888888, \"#fdca26\"], [1.0, \"#f0f921\"]], \"type\": \"histogram2d\"}], \"histogram2dcontour\": [{\"colorbar\": {\"outlinewidth\": 0, \"ticks\": \"\"}, \"colorscale\": [[0.0, \"#0d0887\"], [0.1111111111111111, \"#46039f\"], [0.2222222222222222, \"#7201a8\"], [0.3333333333333333, \"#9c179e\"], [0.4444444444444444, \"#bd3786\"], [0.5555555555555556, \"#d8576b\"], [0.6666666666666666, \"#ed7953\"], [0.7777777777777778, \"#fb9f3a\"], [0.8888888888888888, \"#fdca26\"], [1.0, \"#f0f921\"]], \"type\": \"histogram2dcontour\"}], \"mesh3d\": [{\"colorbar\": {\"outlinewidth\": 0, \"ticks\": \"\"}, \"type\": \"mesh3d\"}], \"parcoords\": [{\"line\": {\"colorbar\": {\"outlinewidth\": 0, \"ticks\": \"\"}}, \"type\": \"parcoords\"}], \"pie\": [{\"automargin\": true, \"type\": \"pie\"}], \"scatter\": [{\"marker\": {\"colorbar\": {\"outlinewidth\": 0, \"ticks\": \"\"}}, \"type\": \"scatter\"}], \"scatter3d\": [{\"line\": {\"colorbar\": {\"outlinewidth\": 0, \"ticks\": \"\"}}, \"marker\": {\"colorbar\": {\"outlinewidth\": 0, \"ticks\": \"\"}}, \"type\": \"scatter3d\"}], \"scattercarpet\": [{\"marker\": {\"colorbar\": {\"outlinewidth\": 0, \"ticks\": \"\"}}, \"type\": \"scattercarpet\"}], \"scattergeo\": [{\"marker\": {\"colorbar\": {\"outlinewidth\": 0, \"ticks\": \"\"}}, \"type\": \"scattergeo\"}], \"scattergl\": [{\"marker\": {\"colorbar\": {\"outlinewidth\": 0, \"ticks\": \"\"}}, \"type\": \"scattergl\"}], \"scattermapbox\": [{\"marker\": {\"colorbar\": {\"outlinewidth\": 0, \"ticks\": \"\"}}, \"type\": \"scattermapbox\"}], \"scatterpolar\": [{\"marker\": {\"colorbar\": {\"outlinewidth\": 0, \"ticks\": \"\"}}, \"type\": \"scatterpolar\"}], \"scatterpolargl\": [{\"marker\": {\"colorbar\": {\"outlinewidth\": 0, \"ticks\": \"\"}}, \"type\": \"scatterpolargl\"}], \"scatterternary\": [{\"marker\": {\"colorbar\": {\"outlinewidth\": 0, \"ticks\": \"\"}}, \"type\": \"scatterternary\"}], \"surface\": [{\"colorbar\": {\"outlinewidth\": 0, \"ticks\": \"\"}, \"colorscale\": [[0.0, \"#0d0887\"], [0.1111111111111111, \"#46039f\"], [0.2222222222222222, \"#7201a8\"], [0.3333333333333333, \"#9c179e\"], [0.4444444444444444, \"#bd3786\"], [0.5555555555555556, \"#d8576b\"], [0.6666666666666666, \"#ed7953\"], [0.7777777777777778, \"#fb9f3a\"], [0.8888888888888888, \"#fdca26\"], [1.0, \"#f0f921\"]], \"type\": \"surface\"}], \"table\": [{\"cells\": {\"fill\": {\"color\": \"#EBF0F8\"}, \"line\": {\"color\": \"white\"}}, \"header\": {\"fill\": {\"color\": \"#C8D4E3\"}, \"line\": {\"color\": \"white\"}}, \"type\": \"table\"}]}, \"layout\": {\"annotationdefaults\": {\"arrowcolor\": \"#2a3f5f\", \"arrowhead\": 0, \"arrowwidth\": 1}, \"coloraxis\": {\"colorbar\": {\"outlinewidth\": 0, \"ticks\": \"\"}}, \"colorscale\": {\"diverging\": [[0, \"#8e0152\"], [0.1, \"#c51b7d\"], [0.2, \"#de77ae\"], [0.3, \"#f1b6da\"], [0.4, \"#fde0ef\"], [0.5, \"#f7f7f7\"], [0.6, \"#e6f5d0\"], [0.7, \"#b8e186\"], [0.8, \"#7fbc41\"], [0.9, \"#4d9221\"], [1, \"#276419\"]], \"sequential\": [[0.0, \"#0d0887\"], [0.1111111111111111, \"#46039f\"], [0.2222222222222222, \"#7201a8\"], [0.3333333333333333, \"#9c179e\"], [0.4444444444444444, \"#bd3786\"], [0.5555555555555556, \"#d8576b\"], [0.6666666666666666, \"#ed7953\"], [0.7777777777777778, \"#fb9f3a\"], [0.8888888888888888, \"#fdca26\"], [1.0, \"#f0f921\"]], \"sequentialminus\": [[0.0, \"#0d0887\"], [0.1111111111111111, \"#46039f\"], [0.2222222222222222, \"#7201a8\"], [0.3333333333333333, \"#9c179e\"], [0.4444444444444444, \"#bd3786\"], [0.5555555555555556, \"#d8576b\"], [0.6666666666666666, \"#ed7953\"], [0.7777777777777778, \"#fb9f3a\"], [0.8888888888888888, \"#fdca26\"], [1.0, \"#f0f921\"]]}, \"colorway\": [\"#636efa\", \"#EF553B\", \"#00cc96\", \"#ab63fa\", \"#FFA15A\", \"#19d3f3\", \"#FF6692\", \"#B6E880\", \"#FF97FF\", \"#FECB52\"], \"font\": {\"color\": \"#2a3f5f\"}, \"geo\": {\"bgcolor\": \"white\", \"lakecolor\": \"white\", \"landcolor\": \"#E5ECF6\", \"showlakes\": true, \"showland\": true, \"subunitcolor\": \"white\"}, \"hoverlabel\": {\"align\": \"left\"}, \"hovermode\": \"closest\", \"mapbox\": {\"style\": \"light\"}, \"paper_bgcolor\": \"white\", \"plot_bgcolor\": \"#E5ECF6\", \"polar\": {\"angularaxis\": {\"gridcolor\": \"white\", \"linecolor\": \"white\", \"ticks\": \"\"}, \"bgcolor\": \"#E5ECF6\", \"radialaxis\": {\"gridcolor\": \"white\", \"linecolor\": \"white\", \"ticks\": \"\"}}, \"scene\": {\"xaxis\": {\"backgroundcolor\": \"#E5ECF6\", \"gridcolor\": \"white\", \"gridwidth\": 2, \"linecolor\": \"white\", \"showbackground\": true, \"ticks\": \"\", \"zerolinecolor\": \"white\"}, \"yaxis\": {\"backgroundcolor\": \"#E5ECF6\", \"gridcolor\": \"white\", \"gridwidth\": 2, \"linecolor\": \"white\", \"showbackground\": true, \"ticks\": \"\", \"zerolinecolor\": \"white\"}, \"zaxis\": {\"backgroundcolor\": \"#E5ECF6\", \"gridcolor\": \"white\", \"gridwidth\": 2, \"linecolor\": \"white\", \"showbackground\": true, \"ticks\": \"\", \"zerolinecolor\": \"white\"}}, \"shapedefaults\": {\"line\": {\"color\": \"#2a3f5f\"}}, \"ternary\": {\"aaxis\": {\"gridcolor\": \"white\", \"linecolor\": \"white\", \"ticks\": \"\"}, \"baxis\": {\"gridcolor\": \"white\", \"linecolor\": \"white\", \"ticks\": \"\"}, \"bgcolor\": \"#E5ECF6\", \"caxis\": {\"gridcolor\": \"white\", \"linecolor\": \"white\", \"ticks\": \"\"}}, \"title\": {\"x\": 0.05}, \"xaxis\": {\"automargin\": true, \"gridcolor\": \"white\", \"linecolor\": \"white\", \"ticks\": \"\", \"title\": {\"standoff\": 15}, \"zerolinecolor\": \"white\", \"zerolinewidth\": 2}, \"yaxis\": {\"automargin\": true, \"gridcolor\": \"white\", \"linecolor\": \"white\", \"ticks\": \"\", \"title\": {\"standoff\": 15}, \"zerolinecolor\": \"white\", \"zerolinewidth\": 2}}}, \"width\": 700, \"xaxis\": {\"linecolor\": \"black\", \"linewidth\": 1.5, \"mirror\": true, \"showgrid\": true, \"showline\": true, \"title\": {\"text\": \"Day of Year\"}}, \"yaxis\": {\"linecolor\": \"black\", \"linewidth\": 1.5, \"mirror\": true, \"showgrid\": false, \"showline\": true, \"title\": {\"text\": \"Cumulative Case Count in MA\"}}},\n",
       "                        {\"responsive\": true}\n",
       "                    ).then(function(){\n",
       "                            \n",
       "var gd = document.getElementById('aecd6472-d870-4456-bb76-6af69b064e38');\n",
       "var x = new MutationObserver(function (mutations, observer) {{\n",
       "        var display = window.getComputedStyle(gd).display;\n",
       "        if (!display || display === 'none') {{\n",
       "            console.log([gd, 'removed!']);\n",
       "            Plotly.purge(gd);\n",
       "            observer.disconnect();\n",
       "        }}\n",
       "}});\n",
       "\n",
       "// Listen for the removal of the full notebook cells\n",
       "var notebookContainer = gd.closest('#notebook-container');\n",
       "if (notebookContainer) {{\n",
       "    x.observe(notebookContainer, {childList: true});\n",
       "}}\n",
       "\n",
       "// Listen for the clearing of the current output cell\n",
       "var outputEl = gd.closest('.output');\n",
       "if (outputEl) {{\n",
       "    x.observe(outputEl, {childList: true});\n",
       "}}\n",
       "\n",
       "                        })\n",
       "                };\n",
       "                });\n",
       "            </script>\n",
       "        </div>"
      ]
     },
     "metadata": {},
     "output_type": "display_data"
    }
   ],
   "source": [
    "print('Massachusetts:')\n",
    "show_region('state','richards','MA',7)"
   ]
  },
  {
   "cell_type": "code",
   "execution_count": 28,
   "metadata": {},
   "outputs": [
    {
     "name": "stdout",
     "output_type": "stream",
     "text": [
      "Germany:\n"
     ]
    },
    {
     "data": {
      "application/vnd.plotly.v1+json": {
       "config": {
        "plotlyServerURL": "https://plot.ly"
       },
       "data": [
        {
         "line": {
          "dash": "dash"
         },
         "mode": "lines",
         "name": "loglogistic fit",
         "type": "scatter",
         "x": [
          "2020-01-22T00:00:00",
          "2020-01-23T00:00:00",
          "2020-01-24T00:00:00",
          "2020-01-25T00:00:00",
          "2020-01-26T00:00:00",
          "2020-01-27T00:00:00",
          "2020-01-28T00:00:00",
          "2020-01-29T00:00:00",
          "2020-01-30T00:00:00",
          "2020-01-31T00:00:00",
          "2020-02-01T00:00:00",
          "2020-02-02T00:00:00",
          "2020-02-03T00:00:00",
          "2020-02-04T00:00:00",
          "2020-02-05T00:00:00",
          "2020-02-06T00:00:00",
          "2020-02-07T00:00:00",
          "2020-02-08T00:00:00",
          "2020-02-09T00:00:00",
          "2020-02-10T00:00:00",
          "2020-02-11T00:00:00",
          "2020-02-12T00:00:00",
          "2020-02-13T00:00:00",
          "2020-02-14T00:00:00",
          "2020-02-15T00:00:00",
          "2020-02-16T00:00:00",
          "2020-02-17T00:00:00",
          "2020-02-18T00:00:00",
          "2020-02-19T00:00:00",
          "2020-02-20T00:00:00",
          "2020-02-21T00:00:00",
          "2020-02-22T00:00:00",
          "2020-02-23T00:00:00",
          "2020-02-24T00:00:00",
          "2020-02-25T00:00:00",
          "2020-02-26T00:00:00",
          "2020-02-27T00:00:00",
          "2020-02-28T00:00:00",
          "2020-02-29T00:00:00",
          "2020-03-01T00:00:00",
          "2020-03-02T00:00:00",
          "2020-03-03T00:00:00",
          "2020-03-04T00:00:00",
          "2020-03-05T00:00:00",
          "2020-03-06T00:00:00",
          "2020-03-07T00:00:00",
          "2020-03-08T00:00:00",
          "2020-03-09T00:00:00",
          "2020-03-10T00:00:00",
          "2020-03-11T00:00:00",
          "2020-03-12T00:00:00",
          "2020-03-13T00:00:00",
          "2020-03-14T00:00:00",
          "2020-03-15T00:00:00",
          "2020-03-16T00:00:00",
          "2020-03-17T00:00:00",
          "2020-03-18T00:00:00",
          "2020-03-19T00:00:00",
          "2020-03-20T00:00:00",
          "2020-03-21T00:00:00",
          "2020-03-22T00:00:00",
          "2020-03-23T00:00:00",
          "2020-03-24T00:00:00",
          "2020-03-25T00:00:00",
          "2020-03-26T00:00:00",
          "2020-03-27T00:00:00",
          "2020-03-28T00:00:00",
          "2020-03-29T00:00:00",
          "2020-03-30T00:00:00",
          "2020-03-31T00:00:00",
          "2020-04-01T00:00:00",
          "2020-04-02T00:00:00",
          "2020-04-03T00:00:00",
          "2020-04-04T00:00:00",
          "2020-04-05T00:00:00",
          "2020-04-06T00:00:00",
          "2020-04-07T00:00:00",
          "2020-04-08T00:00:00",
          "2020-04-09T00:00:00",
          "2020-04-10T00:00:00",
          "2020-04-11T00:00:00",
          "2020-04-12T00:00:00",
          "2020-04-13T00:00:00",
          "2020-04-14T00:00:00",
          "2020-04-15T00:00:00",
          "2020-04-16T00:00:00",
          "2020-04-17T00:00:00",
          "2020-04-18T00:00:00",
          "2020-04-19T00:00:00",
          "2020-04-20T00:00:00",
          "2020-04-21T00:00:00",
          "2020-04-22T00:00:00",
          "2020-04-23T00:00:00",
          "2020-04-24T00:00:00",
          "2020-04-25T00:00:00",
          "2020-04-26T00:00:00",
          "2020-04-27T00:00:00",
          "2020-04-28T00:00:00",
          "2020-04-29T00:00:00",
          "2020-04-30T00:00:00",
          "2020-05-01T00:00:00",
          "2020-05-02T00:00:00",
          "2020-05-03T00:00:00",
          "2020-05-04T00:00:00",
          "2020-05-05T00:00:00",
          "2020-05-06T00:00:00",
          "2020-05-07T00:00:00",
          "2020-05-08T00:00:00",
          "2020-05-09T00:00:00",
          "2020-05-10T00:00:00",
          "2020-05-11T00:00:00",
          "2020-05-12T00:00:00",
          "2020-05-13T00:00:00",
          "2020-05-14T00:00:00",
          "2020-05-15T00:00:00",
          "2020-05-16T00:00:00",
          "2020-05-17T00:00:00",
          "2020-05-18T00:00:00",
          "2020-05-19T00:00:00",
          "2020-05-20T00:00:00",
          "2020-05-21T00:00:00",
          "2020-05-22T00:00:00",
          "2020-05-23T00:00:00",
          "2020-05-24T00:00:00",
          "2020-05-25T00:00:00",
          "2020-05-26T00:00:00",
          "2020-05-27T00:00:00",
          "2020-05-28T00:00:00",
          "2020-05-29T00:00:00",
          "2020-05-30T00:00:00",
          "2020-05-31T00:00:00",
          "2020-06-01T00:00:00",
          "2020-06-02T00:00:00",
          "2020-06-03T00:00:00",
          "2020-06-04T00:00:00",
          "2020-06-05T00:00:00",
          "2020-06-06T00:00:00",
          "2020-06-07T00:00:00",
          "2020-06-08T00:00:00",
          "2020-06-09T00:00:00",
          "2020-06-10T00:00:00",
          "2020-06-11T00:00:00",
          "2020-06-12T00:00:00",
          "2020-06-13T00:00:00",
          "2020-06-14T00:00:00",
          "2020-06-15T00:00:00",
          "2020-06-16T00:00:00",
          "2020-06-17T00:00:00",
          "2020-06-18T00:00:00",
          "2020-06-19T00:00:00",
          "2020-06-20T00:00:00",
          "2020-06-21T00:00:00",
          "2020-06-22T00:00:00",
          "2020-06-23T00:00:00",
          "2020-06-24T00:00:00",
          "2020-06-25T00:00:00",
          "2020-06-26T00:00:00",
          "2020-06-27T00:00:00"
         ],
         "y": [
          0,
          0,
          0,
          0,
          0,
          0,
          0,
          0,
          0,
          0,
          0,
          0,
          0,
          0,
          0,
          0,
          0,
          0,
          0,
          0,
          0,
          0,
          0,
          0,
          0,
          0,
          0,
          0,
          0,
          0,
          0,
          0,
          0,
          0,
          0,
          0,
          0,
          0,
          0,
          0,
          0,
          0,
          0,
          0.0001751606791514956,
          3.279886387247326,
          29.290724635279624,
          107.55262341092043,
          272.06005801397055,
          559.7180289653437,
          1009.2352520871318,
          1660.0652654532548,
          2551.272935331534,
          3720.2892598928147,
          5201.5631779485,
          7025.152804000544,
          9215.325867900825,
          11789.259763312793,
          14755.94307041897,
          18115.380032544028,
          21858.185551403014,
          25965.6310615051,
          30410.163782436342,
          35156.378208604445,
          40162.375620399594,
          45381.41142407679,
          50763.70658032541,
          56258.29126417741,
          61814.75635749314,
          67384.80889492971,
          72923.55678697069,
          78390.480900661,
          83750.08410089467,
          88972.23349212164,
          94032.23172280083,
          98910.66519609797,
          103593.08194359053,
          108069.55110226893,
          112334.15105722829,
          116384.42602432598,
          120220.84255842272,
          123846.26924599876,
          127265.49537699264,
          130484.79807329993,
          133511.56231807166,
          136353.9545485254,
          139020.64781107078,
          141520.5947477015,
          143862.843691527,
          146056.39271325292,
          148110.07641963978,
          150032.4805286057,
          151831.87963161734,
          153516.1940262106,
          155092.9620056849,
          156569.32449252091,
          157952.01937364886,
          159247.383326031,
          160461.35930384597,
          161599.50819238837,
          162667.02342021064,
          163668.74756345255,
          164609.19017909848,
          165492.54627180175,
          166322.714936617,
          167103.31783192215,
          167837.71722703244,
          168529.03344110074,
          169180.16154699368,
          169793.787258616,
          170372.40195490845,
          170918.31682037664,
          171433.67610211438,
          171920.4694981788,
          172380.54370293368,
          172815.613142484,
          173227.26993828974,
          173616.99314004817,
          173986.15727043163,
          174336.0402246309,
          174667.8305671763,
          174982.6342674196,
          175281.48091354195,
          175565.32944314432,
          175835.07342649205,
          176091.54593639955,
          176335.5240366256,
          176567.7329185438,
          176788.8497137951,
          176999.50700864298,
          177200.29608385108,
          177391.7699021004,
          177574.44586326514,
          177748.8083462705,
          177915.3110547705,
          178074.37918249585,
          178226.41141284027,
          178371.7817660636,
          178510.84130639178,
          178643.9197202839,
          178771.32677620283,
          178893.3536753718,
          179010.27430221176,
          179122.34638243407,
          179229.81255609973,
          179332.90137235328,
          179431.82821198093,
          179526.79614343692,
          179617.99671751473,
          179705.6107054156,
          179789.80878457509,
          179870.75217625397,
          179948.5932385717,
          180023.4760183619,
          180095.53676495823,
          180164.90440876488,
          180231.7010072408,
          180296.04216071413,
          180358.03740025242
         ]
        },
        {
         "mode": "lines",
         "name": "actual cases in Germany",
         "type": "scatter",
         "x": [
          "2020-05-09T00:00:00",
          "2020-05-08T00:00:00",
          "2020-05-07T00:00:00",
          "2020-05-06T00:00:00",
          "2020-05-05T00:00:00",
          "2020-05-04T00:00:00",
          "2020-05-03T00:00:00",
          "2020-05-02T00:00:00",
          "2020-05-01T00:00:00",
          "2020-04-30T00:00:00",
          "2020-04-29T00:00:00",
          "2020-04-28T00:00:00",
          "2020-04-27T00:00:00",
          "2020-04-26T00:00:00",
          "2020-04-25T00:00:00",
          "2020-04-24T00:00:00",
          "2020-04-23T00:00:00",
          "2020-04-22T00:00:00",
          "2020-04-21T00:00:00",
          "2020-04-20T00:00:00",
          "2020-04-19T00:00:00",
          "2020-04-18T00:00:00",
          "2020-04-17T00:00:00",
          "2020-04-16T00:00:00",
          "2020-04-15T00:00:00",
          "2020-04-14T00:00:00",
          "2020-04-13T00:00:00",
          "2020-04-12T00:00:00",
          "2020-04-11T00:00:00",
          "2020-04-10T00:00:00",
          "2020-04-09T00:00:00",
          "2020-04-08T00:00:00",
          "2020-04-07T00:00:00",
          "2020-04-06T00:00:00",
          "2020-04-05T00:00:00",
          "2020-04-04T00:00:00",
          "2020-04-03T00:00:00",
          "2020-04-02T00:00:00",
          "2020-04-01T00:00:00",
          "2020-03-31T00:00:00",
          "2020-03-30T00:00:00",
          "2020-03-29T00:00:00",
          "2020-03-28T00:00:00",
          "2020-03-27T00:00:00",
          "2020-03-26T00:00:00",
          "2020-03-25T00:00:00",
          "2020-03-24T00:00:00",
          "2020-03-23T00:00:00",
          "2020-03-22T00:00:00",
          "2020-03-21T00:00:00",
          "2020-03-20T00:00:00",
          "2020-03-19T00:00:00",
          "2020-03-18T00:00:00",
          "2020-03-17T00:00:00",
          "2020-03-16T00:00:00",
          "2020-03-15T00:00:00",
          "2020-03-14T00:00:00",
          "2020-03-13T00:00:00",
          "2020-03-12T00:00:00",
          "2020-03-11T00:00:00",
          "2020-03-10T00:00:00",
          "2020-03-09T00:00:00",
          "2020-03-08T00:00:00",
          "2020-03-07T00:00:00",
          "2020-03-06T00:00:00",
          "2020-03-05T00:00:00",
          "2020-03-04T00:00:00",
          "2020-03-03T00:00:00",
          "2020-03-02T00:00:00",
          "2020-03-01T00:00:00",
          "2020-02-29T00:00:00",
          "2020-02-28T00:00:00",
          "2020-02-27T00:00:00",
          "2020-02-26T00:00:00",
          "2020-02-25T00:00:00",
          "2020-02-24T00:00:00",
          "2020-02-23T00:00:00",
          "2020-02-22T00:00:00",
          "2020-02-21T00:00:00",
          "2020-02-20T00:00:00",
          "2020-02-19T00:00:00",
          "2020-02-18T00:00:00",
          "2020-02-17T00:00:00",
          "2020-02-16T00:00:00",
          "2020-02-15T00:00:00",
          "2020-02-14T00:00:00",
          "2020-02-13T00:00:00",
          "2020-02-12T00:00:00",
          "2020-02-11T00:00:00",
          "2020-02-10T00:00:00",
          "2020-02-09T00:00:00",
          "2020-02-08T00:00:00",
          "2020-02-07T00:00:00",
          "2020-02-06T00:00:00",
          "2020-02-05T00:00:00",
          "2020-02-04T00:00:00",
          "2020-02-03T00:00:00",
          "2020-02-02T00:00:00",
          "2020-02-01T00:00:00",
          "2020-01-31T00:00:00",
          "2020-01-30T00:00:00",
          "2020-01-29T00:00:00",
          "2020-01-28T00:00:00",
          "2020-01-27T00:00:00",
          "2020-01-26T00:00:00",
          "2020-01-25T00:00:00",
          "2020-01-24T00:00:00",
          "2020-01-23T00:00:00",
          "2020-01-22T00:00:00"
         ],
         "y": [
          171324,
          170588,
          169430,
          168162,
          167007,
          166152,
          165664,
          164967,
          164077,
          163009,
          161539,
          159912,
          158758,
          157770,
          156513,
          154999,
          153129,
          150648,
          148291,
          147065,
          145184,
          143342,
          141397,
          137698,
          134753,
          131359,
          130072,
          127854,
          124908,
          122171,
          118181,
          113296,
          107663,
          103374,
          100123,
          96092,
          91159,
          84794,
          77872,
          71808,
          66885,
          62095,
          57695,
          50871,
          43938,
          37323,
          32986,
          29056,
          24873,
          22213,
          19848,
          15320,
          12327,
          9257,
          7272,
          5795,
          4585,
          3675,
          2078,
          1908,
          1457,
          1176,
          1040,
          799,
          670,
          482,
          262,
          196,
          159,
          130,
          79,
          48,
          46,
          27,
          17,
          16,
          16,
          16,
          16,
          16,
          16,
          16,
          16,
          16,
          16,
          16,
          16,
          16,
          16,
          14,
          14,
          13,
          13,
          12,
          12,
          12,
          12,
          10,
          8,
          5,
          4,
          4,
          4,
          1,
          0,
          0,
          0,
          0,
          0
         ]
        }
       ],
       "layout": {
        "height": 400,
        "margin": {
         "t": 30
        },
        "shapes": [
         {
          "line": {
           "dash": "dot",
           "width": 1
          },
          "name": "current",
          "type": "line",
          "x0": "2020-05-09T00:00:00",
          "x1": "2020-05-09T00:00:00",
          "y0": 0,
          "y1": 182500.6072222709
         }
        ],
        "template": {
         "data": {
          "bar": [
           {
            "error_x": {
             "color": "#2a3f5f"
            },
            "error_y": {
             "color": "#2a3f5f"
            },
            "marker": {
             "line": {
              "color": "#E5ECF6",
              "width": 0.5
             }
            },
            "type": "bar"
           }
          ],
          "barpolar": [
           {
            "marker": {
             "line": {
              "color": "#E5ECF6",
              "width": 0.5
             }
            },
            "type": "barpolar"
           }
          ],
          "carpet": [
           {
            "aaxis": {
             "endlinecolor": "#2a3f5f",
             "gridcolor": "white",
             "linecolor": "white",
             "minorgridcolor": "white",
             "startlinecolor": "#2a3f5f"
            },
            "baxis": {
             "endlinecolor": "#2a3f5f",
             "gridcolor": "white",
             "linecolor": "white",
             "minorgridcolor": "white",
             "startlinecolor": "#2a3f5f"
            },
            "type": "carpet"
           }
          ],
          "choropleth": [
           {
            "colorbar": {
             "outlinewidth": 0,
             "ticks": ""
            },
            "type": "choropleth"
           }
          ],
          "contour": [
           {
            "colorbar": {
             "outlinewidth": 0,
             "ticks": ""
            },
            "colorscale": [
             [
              0,
              "#0d0887"
             ],
             [
              0.1111111111111111,
              "#46039f"
             ],
             [
              0.2222222222222222,
              "#7201a8"
             ],
             [
              0.3333333333333333,
              "#9c179e"
             ],
             [
              0.4444444444444444,
              "#bd3786"
             ],
             [
              0.5555555555555556,
              "#d8576b"
             ],
             [
              0.6666666666666666,
              "#ed7953"
             ],
             [
              0.7777777777777778,
              "#fb9f3a"
             ],
             [
              0.8888888888888888,
              "#fdca26"
             ],
             [
              1,
              "#f0f921"
             ]
            ],
            "type": "contour"
           }
          ],
          "contourcarpet": [
           {
            "colorbar": {
             "outlinewidth": 0,
             "ticks": ""
            },
            "type": "contourcarpet"
           }
          ],
          "heatmap": [
           {
            "colorbar": {
             "outlinewidth": 0,
             "ticks": ""
            },
            "colorscale": [
             [
              0,
              "#0d0887"
             ],
             [
              0.1111111111111111,
              "#46039f"
             ],
             [
              0.2222222222222222,
              "#7201a8"
             ],
             [
              0.3333333333333333,
              "#9c179e"
             ],
             [
              0.4444444444444444,
              "#bd3786"
             ],
             [
              0.5555555555555556,
              "#d8576b"
             ],
             [
              0.6666666666666666,
              "#ed7953"
             ],
             [
              0.7777777777777778,
              "#fb9f3a"
             ],
             [
              0.8888888888888888,
              "#fdca26"
             ],
             [
              1,
              "#f0f921"
             ]
            ],
            "type": "heatmap"
           }
          ],
          "heatmapgl": [
           {
            "colorbar": {
             "outlinewidth": 0,
             "ticks": ""
            },
            "colorscale": [
             [
              0,
              "#0d0887"
             ],
             [
              0.1111111111111111,
              "#46039f"
             ],
             [
              0.2222222222222222,
              "#7201a8"
             ],
             [
              0.3333333333333333,
              "#9c179e"
             ],
             [
              0.4444444444444444,
              "#bd3786"
             ],
             [
              0.5555555555555556,
              "#d8576b"
             ],
             [
              0.6666666666666666,
              "#ed7953"
             ],
             [
              0.7777777777777778,
              "#fb9f3a"
             ],
             [
              0.8888888888888888,
              "#fdca26"
             ],
             [
              1,
              "#f0f921"
             ]
            ],
            "type": "heatmapgl"
           }
          ],
          "histogram": [
           {
            "marker": {
             "colorbar": {
              "outlinewidth": 0,
              "ticks": ""
             }
            },
            "type": "histogram"
           }
          ],
          "histogram2d": [
           {
            "colorbar": {
             "outlinewidth": 0,
             "ticks": ""
            },
            "colorscale": [
             [
              0,
              "#0d0887"
             ],
             [
              0.1111111111111111,
              "#46039f"
             ],
             [
              0.2222222222222222,
              "#7201a8"
             ],
             [
              0.3333333333333333,
              "#9c179e"
             ],
             [
              0.4444444444444444,
              "#bd3786"
             ],
             [
              0.5555555555555556,
              "#d8576b"
             ],
             [
              0.6666666666666666,
              "#ed7953"
             ],
             [
              0.7777777777777778,
              "#fb9f3a"
             ],
             [
              0.8888888888888888,
              "#fdca26"
             ],
             [
              1,
              "#f0f921"
             ]
            ],
            "type": "histogram2d"
           }
          ],
          "histogram2dcontour": [
           {
            "colorbar": {
             "outlinewidth": 0,
             "ticks": ""
            },
            "colorscale": [
             [
              0,
              "#0d0887"
             ],
             [
              0.1111111111111111,
              "#46039f"
             ],
             [
              0.2222222222222222,
              "#7201a8"
             ],
             [
              0.3333333333333333,
              "#9c179e"
             ],
             [
              0.4444444444444444,
              "#bd3786"
             ],
             [
              0.5555555555555556,
              "#d8576b"
             ],
             [
              0.6666666666666666,
              "#ed7953"
             ],
             [
              0.7777777777777778,
              "#fb9f3a"
             ],
             [
              0.8888888888888888,
              "#fdca26"
             ],
             [
              1,
              "#f0f921"
             ]
            ],
            "type": "histogram2dcontour"
           }
          ],
          "mesh3d": [
           {
            "colorbar": {
             "outlinewidth": 0,
             "ticks": ""
            },
            "type": "mesh3d"
           }
          ],
          "parcoords": [
           {
            "line": {
             "colorbar": {
              "outlinewidth": 0,
              "ticks": ""
             }
            },
            "type": "parcoords"
           }
          ],
          "pie": [
           {
            "automargin": true,
            "type": "pie"
           }
          ],
          "scatter": [
           {
            "marker": {
             "colorbar": {
              "outlinewidth": 0,
              "ticks": ""
             }
            },
            "type": "scatter"
           }
          ],
          "scatter3d": [
           {
            "line": {
             "colorbar": {
              "outlinewidth": 0,
              "ticks": ""
             }
            },
            "marker": {
             "colorbar": {
              "outlinewidth": 0,
              "ticks": ""
             }
            },
            "type": "scatter3d"
           }
          ],
          "scattercarpet": [
           {
            "marker": {
             "colorbar": {
              "outlinewidth": 0,
              "ticks": ""
             }
            },
            "type": "scattercarpet"
           }
          ],
          "scattergeo": [
           {
            "marker": {
             "colorbar": {
              "outlinewidth": 0,
              "ticks": ""
             }
            },
            "type": "scattergeo"
           }
          ],
          "scattergl": [
           {
            "marker": {
             "colorbar": {
              "outlinewidth": 0,
              "ticks": ""
             }
            },
            "type": "scattergl"
           }
          ],
          "scattermapbox": [
           {
            "marker": {
             "colorbar": {
              "outlinewidth": 0,
              "ticks": ""
             }
            },
            "type": "scattermapbox"
           }
          ],
          "scatterpolar": [
           {
            "marker": {
             "colorbar": {
              "outlinewidth": 0,
              "ticks": ""
             }
            },
            "type": "scatterpolar"
           }
          ],
          "scatterpolargl": [
           {
            "marker": {
             "colorbar": {
              "outlinewidth": 0,
              "ticks": ""
             }
            },
            "type": "scatterpolargl"
           }
          ],
          "scatterternary": [
           {
            "marker": {
             "colorbar": {
              "outlinewidth": 0,
              "ticks": ""
             }
            },
            "type": "scatterternary"
           }
          ],
          "surface": [
           {
            "colorbar": {
             "outlinewidth": 0,
             "ticks": ""
            },
            "colorscale": [
             [
              0,
              "#0d0887"
             ],
             [
              0.1111111111111111,
              "#46039f"
             ],
             [
              0.2222222222222222,
              "#7201a8"
             ],
             [
              0.3333333333333333,
              "#9c179e"
             ],
             [
              0.4444444444444444,
              "#bd3786"
             ],
             [
              0.5555555555555556,
              "#d8576b"
             ],
             [
              0.6666666666666666,
              "#ed7953"
             ],
             [
              0.7777777777777778,
              "#fb9f3a"
             ],
             [
              0.8888888888888888,
              "#fdca26"
             ],
             [
              1,
              "#f0f921"
             ]
            ],
            "type": "surface"
           }
          ],
          "table": [
           {
            "cells": {
             "fill": {
              "color": "#EBF0F8"
             },
             "line": {
              "color": "white"
             }
            },
            "header": {
             "fill": {
              "color": "#C8D4E3"
             },
             "line": {
              "color": "white"
             }
            },
            "type": "table"
           }
          ]
         },
         "layout": {
          "annotationdefaults": {
           "arrowcolor": "#2a3f5f",
           "arrowhead": 0,
           "arrowwidth": 1
          },
          "coloraxis": {
           "colorbar": {
            "outlinewidth": 0,
            "ticks": ""
           }
          },
          "colorscale": {
           "diverging": [
            [
             0,
             "#8e0152"
            ],
            [
             0.1,
             "#c51b7d"
            ],
            [
             0.2,
             "#de77ae"
            ],
            [
             0.3,
             "#f1b6da"
            ],
            [
             0.4,
             "#fde0ef"
            ],
            [
             0.5,
             "#f7f7f7"
            ],
            [
             0.6,
             "#e6f5d0"
            ],
            [
             0.7,
             "#b8e186"
            ],
            [
             0.8,
             "#7fbc41"
            ],
            [
             0.9,
             "#4d9221"
            ],
            [
             1,
             "#276419"
            ]
           ],
           "sequential": [
            [
             0,
             "#0d0887"
            ],
            [
             0.1111111111111111,
             "#46039f"
            ],
            [
             0.2222222222222222,
             "#7201a8"
            ],
            [
             0.3333333333333333,
             "#9c179e"
            ],
            [
             0.4444444444444444,
             "#bd3786"
            ],
            [
             0.5555555555555556,
             "#d8576b"
            ],
            [
             0.6666666666666666,
             "#ed7953"
            ],
            [
             0.7777777777777778,
             "#fb9f3a"
            ],
            [
             0.8888888888888888,
             "#fdca26"
            ],
            [
             1,
             "#f0f921"
            ]
           ],
           "sequentialminus": [
            [
             0,
             "#0d0887"
            ],
            [
             0.1111111111111111,
             "#46039f"
            ],
            [
             0.2222222222222222,
             "#7201a8"
            ],
            [
             0.3333333333333333,
             "#9c179e"
            ],
            [
             0.4444444444444444,
             "#bd3786"
            ],
            [
             0.5555555555555556,
             "#d8576b"
            ],
            [
             0.6666666666666666,
             "#ed7953"
            ],
            [
             0.7777777777777778,
             "#fb9f3a"
            ],
            [
             0.8888888888888888,
             "#fdca26"
            ],
            [
             1,
             "#f0f921"
            ]
           ]
          },
          "colorway": [
           "#636efa",
           "#EF553B",
           "#00cc96",
           "#ab63fa",
           "#FFA15A",
           "#19d3f3",
           "#FF6692",
           "#B6E880",
           "#FF97FF",
           "#FECB52"
          ],
          "font": {
           "color": "#2a3f5f"
          },
          "geo": {
           "bgcolor": "white",
           "lakecolor": "white",
           "landcolor": "#E5ECF6",
           "showlakes": true,
           "showland": true,
           "subunitcolor": "white"
          },
          "hoverlabel": {
           "align": "left"
          },
          "hovermode": "closest",
          "mapbox": {
           "style": "light"
          },
          "paper_bgcolor": "white",
          "plot_bgcolor": "#E5ECF6",
          "polar": {
           "angularaxis": {
            "gridcolor": "white",
            "linecolor": "white",
            "ticks": ""
           },
           "bgcolor": "#E5ECF6",
           "radialaxis": {
            "gridcolor": "white",
            "linecolor": "white",
            "ticks": ""
           }
          },
          "scene": {
           "xaxis": {
            "backgroundcolor": "#E5ECF6",
            "gridcolor": "white",
            "gridwidth": 2,
            "linecolor": "white",
            "showbackground": true,
            "ticks": "",
            "zerolinecolor": "white"
           },
           "yaxis": {
            "backgroundcolor": "#E5ECF6",
            "gridcolor": "white",
            "gridwidth": 2,
            "linecolor": "white",
            "showbackground": true,
            "ticks": "",
            "zerolinecolor": "white"
           },
           "zaxis": {
            "backgroundcolor": "#E5ECF6",
            "gridcolor": "white",
            "gridwidth": 2,
            "linecolor": "white",
            "showbackground": true,
            "ticks": "",
            "zerolinecolor": "white"
           }
          },
          "shapedefaults": {
           "line": {
            "color": "#2a3f5f"
           }
          },
          "ternary": {
           "aaxis": {
            "gridcolor": "white",
            "linecolor": "white",
            "ticks": ""
           },
           "baxis": {
            "gridcolor": "white",
            "linecolor": "white",
            "ticks": ""
           },
           "bgcolor": "#E5ECF6",
           "caxis": {
            "gridcolor": "white",
            "linecolor": "white",
            "ticks": ""
           }
          },
          "title": {
           "x": 0.05
          },
          "xaxis": {
           "automargin": true,
           "gridcolor": "white",
           "linecolor": "white",
           "ticks": "",
           "title": {
            "standoff": 15
           },
           "zerolinecolor": "white",
           "zerolinewidth": 2
          },
          "yaxis": {
           "automargin": true,
           "gridcolor": "white",
           "linecolor": "white",
           "ticks": "",
           "title": {
            "standoff": 15
           },
           "zerolinecolor": "white",
           "zerolinewidth": 2
          }
         }
        },
        "width": 700,
        "xaxis": {
         "linecolor": "black",
         "linewidth": 1.5,
         "mirror": true,
         "showgrid": true,
         "showline": true,
         "title": {
          "text": "Day of Year"
         }
        },
        "yaxis": {
         "linecolor": "black",
         "linewidth": 1.5,
         "mirror": true,
         "showgrid": false,
         "showline": true,
         "title": {
          "text": "Cumulative Case Count in Germany"
         }
        }
       }
      },
      "text/html": [
       "<div>\n",
       "        \n",
       "        \n",
       "            <div id=\"19f5d3ca-82a0-46cf-96c6-264c84b84b9f\" class=\"plotly-graph-div\" style=\"height:400px; width:700px;\"></div>\n",
       "            <script type=\"text/javascript\">\n",
       "                require([\"plotly\"], function(Plotly) {\n",
       "                    window.PLOTLYENV=window.PLOTLYENV || {};\n",
       "                    \n",
       "                if (document.getElementById(\"19f5d3ca-82a0-46cf-96c6-264c84b84b9f\")) {\n",
       "                    Plotly.newPlot(\n",
       "                        '19f5d3ca-82a0-46cf-96c6-264c84b84b9f',\n",
       "                        [{\"line\": {\"dash\": \"dash\"}, \"mode\": \"lines\", \"name\": \"loglogistic fit\", \"type\": \"scatter\", \"x\": [\"2020-01-22T00:00:00\", \"2020-01-23T00:00:00\", \"2020-01-24T00:00:00\", \"2020-01-25T00:00:00\", \"2020-01-26T00:00:00\", \"2020-01-27T00:00:00\", \"2020-01-28T00:00:00\", \"2020-01-29T00:00:00\", \"2020-01-30T00:00:00\", \"2020-01-31T00:00:00\", \"2020-02-01T00:00:00\", \"2020-02-02T00:00:00\", \"2020-02-03T00:00:00\", \"2020-02-04T00:00:00\", \"2020-02-05T00:00:00\", \"2020-02-06T00:00:00\", \"2020-02-07T00:00:00\", \"2020-02-08T00:00:00\", \"2020-02-09T00:00:00\", \"2020-02-10T00:00:00\", \"2020-02-11T00:00:00\", \"2020-02-12T00:00:00\", \"2020-02-13T00:00:00\", \"2020-02-14T00:00:00\", \"2020-02-15T00:00:00\", \"2020-02-16T00:00:00\", \"2020-02-17T00:00:00\", \"2020-02-18T00:00:00\", \"2020-02-19T00:00:00\", \"2020-02-20T00:00:00\", \"2020-02-21T00:00:00\", \"2020-02-22T00:00:00\", \"2020-02-23T00:00:00\", \"2020-02-24T00:00:00\", \"2020-02-25T00:00:00\", \"2020-02-26T00:00:00\", \"2020-02-27T00:00:00\", \"2020-02-28T00:00:00\", \"2020-02-29T00:00:00\", \"2020-03-01T00:00:00\", \"2020-03-02T00:00:00\", \"2020-03-03T00:00:00\", \"2020-03-04T00:00:00\", \"2020-03-05T00:00:00\", \"2020-03-06T00:00:00\", \"2020-03-07T00:00:00\", \"2020-03-08T00:00:00\", \"2020-03-09T00:00:00\", \"2020-03-10T00:00:00\", \"2020-03-11T00:00:00\", \"2020-03-12T00:00:00\", \"2020-03-13T00:00:00\", \"2020-03-14T00:00:00\", \"2020-03-15T00:00:00\", \"2020-03-16T00:00:00\", \"2020-03-17T00:00:00\", \"2020-03-18T00:00:00\", \"2020-03-19T00:00:00\", \"2020-03-20T00:00:00\", \"2020-03-21T00:00:00\", \"2020-03-22T00:00:00\", \"2020-03-23T00:00:00\", \"2020-03-24T00:00:00\", \"2020-03-25T00:00:00\", \"2020-03-26T00:00:00\", \"2020-03-27T00:00:00\", \"2020-03-28T00:00:00\", \"2020-03-29T00:00:00\", \"2020-03-30T00:00:00\", \"2020-03-31T00:00:00\", \"2020-04-01T00:00:00\", \"2020-04-02T00:00:00\", \"2020-04-03T00:00:00\", \"2020-04-04T00:00:00\", \"2020-04-05T00:00:00\", \"2020-04-06T00:00:00\", \"2020-04-07T00:00:00\", \"2020-04-08T00:00:00\", \"2020-04-09T00:00:00\", \"2020-04-10T00:00:00\", \"2020-04-11T00:00:00\", \"2020-04-12T00:00:00\", \"2020-04-13T00:00:00\", \"2020-04-14T00:00:00\", \"2020-04-15T00:00:00\", \"2020-04-16T00:00:00\", \"2020-04-17T00:00:00\", \"2020-04-18T00:00:00\", \"2020-04-19T00:00:00\", \"2020-04-20T00:00:00\", \"2020-04-21T00:00:00\", \"2020-04-22T00:00:00\", \"2020-04-23T00:00:00\", \"2020-04-24T00:00:00\", \"2020-04-25T00:00:00\", \"2020-04-26T00:00:00\", \"2020-04-27T00:00:00\", \"2020-04-28T00:00:00\", \"2020-04-29T00:00:00\", \"2020-04-30T00:00:00\", \"2020-05-01T00:00:00\", \"2020-05-02T00:00:00\", \"2020-05-03T00:00:00\", \"2020-05-04T00:00:00\", \"2020-05-05T00:00:00\", \"2020-05-06T00:00:00\", \"2020-05-07T00:00:00\", \"2020-05-08T00:00:00\", \"2020-05-09T00:00:00\", \"2020-05-10T00:00:00\", \"2020-05-11T00:00:00\", \"2020-05-12T00:00:00\", \"2020-05-13T00:00:00\", \"2020-05-14T00:00:00\", \"2020-05-15T00:00:00\", \"2020-05-16T00:00:00\", \"2020-05-17T00:00:00\", \"2020-05-18T00:00:00\", \"2020-05-19T00:00:00\", \"2020-05-20T00:00:00\", \"2020-05-21T00:00:00\", \"2020-05-22T00:00:00\", \"2020-05-23T00:00:00\", \"2020-05-24T00:00:00\", \"2020-05-25T00:00:00\", \"2020-05-26T00:00:00\", \"2020-05-27T00:00:00\", \"2020-05-28T00:00:00\", \"2020-05-29T00:00:00\", \"2020-05-30T00:00:00\", \"2020-05-31T00:00:00\", \"2020-06-01T00:00:00\", \"2020-06-02T00:00:00\", \"2020-06-03T00:00:00\", \"2020-06-04T00:00:00\", \"2020-06-05T00:00:00\", \"2020-06-06T00:00:00\", \"2020-06-07T00:00:00\", \"2020-06-08T00:00:00\", \"2020-06-09T00:00:00\", \"2020-06-10T00:00:00\", \"2020-06-11T00:00:00\", \"2020-06-12T00:00:00\", \"2020-06-13T00:00:00\", \"2020-06-14T00:00:00\", \"2020-06-15T00:00:00\", \"2020-06-16T00:00:00\", \"2020-06-17T00:00:00\", \"2020-06-18T00:00:00\", \"2020-06-19T00:00:00\", \"2020-06-20T00:00:00\", \"2020-06-21T00:00:00\", \"2020-06-22T00:00:00\", \"2020-06-23T00:00:00\", \"2020-06-24T00:00:00\", \"2020-06-25T00:00:00\", \"2020-06-26T00:00:00\", \"2020-06-27T00:00:00\"], \"y\": [0.0, 0.0, 0.0, 0.0, 0.0, 0.0, 0.0, 0.0, 0.0, 0.0, 0.0, 0.0, 0.0, 0.0, 0.0, 0.0, 0.0, 0.0, 0.0, 0.0, 0.0, 0.0, 0.0, 0.0, 0.0, 0.0, 0.0, 0.0, 0.0, 0.0, 0.0, 0.0, 0.0, 0.0, 0.0, 0.0, 0.0, 0.0, 0.0, 0.0, 0.0, 0.0, 0.0, 0.0001751606791514956, 3.279886387247326, 29.290724635279624, 107.55262341092043, 272.06005801397055, 559.7180289653437, 1009.2352520871318, 1660.0652654532548, 2551.272935331534, 3720.2892598928147, 5201.5631779485, 7025.152804000544, 9215.325867900825, 11789.259763312793, 14755.94307041897, 18115.380032544028, 21858.185551403014, 25965.6310615051, 30410.163782436342, 35156.378208604445, 40162.375620399594, 45381.41142407679, 50763.70658032541, 56258.29126417741, 61814.75635749314, 67384.80889492971, 72923.55678697069, 78390.480900661, 83750.08410089467, 88972.23349212164, 94032.23172280083, 98910.66519609797, 103593.08194359053, 108069.55110226893, 112334.15105722829, 116384.42602432598, 120220.84255842272, 123846.26924599876, 127265.49537699264, 130484.79807329993, 133511.56231807166, 136353.9545485254, 139020.64781107078, 141520.5947477015, 143862.843691527, 146056.39271325292, 148110.07641963978, 150032.4805286057, 151831.87963161734, 153516.1940262106, 155092.9620056849, 156569.32449252091, 157952.01937364886, 159247.383326031, 160461.35930384597, 161599.50819238837, 162667.02342021064, 163668.74756345255, 164609.19017909848, 165492.54627180175, 166322.714936617, 167103.31783192215, 167837.71722703244, 168529.03344110074, 169180.16154699368, 169793.787258616, 170372.40195490845, 170918.31682037664, 171433.67610211438, 171920.4694981788, 172380.54370293368, 172815.613142484, 173227.26993828974, 173616.99314004817, 173986.15727043163, 174336.0402246309, 174667.8305671763, 174982.6342674196, 175281.48091354195, 175565.32944314432, 175835.07342649205, 176091.54593639955, 176335.5240366256, 176567.7329185438, 176788.8497137951, 176999.50700864298, 177200.29608385108, 177391.7699021004, 177574.44586326514, 177748.8083462705, 177915.3110547705, 178074.37918249585, 178226.41141284027, 178371.7817660636, 178510.84130639178, 178643.9197202839, 178771.32677620283, 178893.3536753718, 179010.27430221176, 179122.34638243407, 179229.81255609973, 179332.90137235328, 179431.82821198093, 179526.79614343692, 179617.99671751473, 179705.6107054156, 179789.80878457509, 179870.75217625397, 179948.5932385717, 180023.4760183619, 180095.53676495823, 180164.90440876488, 180231.7010072408, 180296.04216071413, 180358.03740025242]}, {\"mode\": \"lines\", \"name\": \"actual cases in Germany\", \"type\": \"scatter\", \"x\": [\"2020-05-09T00:00:00\", \"2020-05-08T00:00:00\", \"2020-05-07T00:00:00\", \"2020-05-06T00:00:00\", \"2020-05-05T00:00:00\", \"2020-05-04T00:00:00\", \"2020-05-03T00:00:00\", \"2020-05-02T00:00:00\", \"2020-05-01T00:00:00\", \"2020-04-30T00:00:00\", \"2020-04-29T00:00:00\", \"2020-04-28T00:00:00\", \"2020-04-27T00:00:00\", \"2020-04-26T00:00:00\", \"2020-04-25T00:00:00\", \"2020-04-24T00:00:00\", \"2020-04-23T00:00:00\", \"2020-04-22T00:00:00\", \"2020-04-21T00:00:00\", \"2020-04-20T00:00:00\", \"2020-04-19T00:00:00\", \"2020-04-18T00:00:00\", \"2020-04-17T00:00:00\", \"2020-04-16T00:00:00\", \"2020-04-15T00:00:00\", \"2020-04-14T00:00:00\", \"2020-04-13T00:00:00\", \"2020-04-12T00:00:00\", \"2020-04-11T00:00:00\", \"2020-04-10T00:00:00\", \"2020-04-09T00:00:00\", \"2020-04-08T00:00:00\", \"2020-04-07T00:00:00\", \"2020-04-06T00:00:00\", \"2020-04-05T00:00:00\", \"2020-04-04T00:00:00\", \"2020-04-03T00:00:00\", \"2020-04-02T00:00:00\", \"2020-04-01T00:00:00\", \"2020-03-31T00:00:00\", \"2020-03-30T00:00:00\", \"2020-03-29T00:00:00\", \"2020-03-28T00:00:00\", \"2020-03-27T00:00:00\", \"2020-03-26T00:00:00\", \"2020-03-25T00:00:00\", \"2020-03-24T00:00:00\", \"2020-03-23T00:00:00\", \"2020-03-22T00:00:00\", \"2020-03-21T00:00:00\", \"2020-03-20T00:00:00\", \"2020-03-19T00:00:00\", \"2020-03-18T00:00:00\", \"2020-03-17T00:00:00\", \"2020-03-16T00:00:00\", \"2020-03-15T00:00:00\", \"2020-03-14T00:00:00\", \"2020-03-13T00:00:00\", \"2020-03-12T00:00:00\", \"2020-03-11T00:00:00\", \"2020-03-10T00:00:00\", \"2020-03-09T00:00:00\", \"2020-03-08T00:00:00\", \"2020-03-07T00:00:00\", \"2020-03-06T00:00:00\", \"2020-03-05T00:00:00\", \"2020-03-04T00:00:00\", \"2020-03-03T00:00:00\", \"2020-03-02T00:00:00\", \"2020-03-01T00:00:00\", \"2020-02-29T00:00:00\", \"2020-02-28T00:00:00\", \"2020-02-27T00:00:00\", \"2020-02-26T00:00:00\", \"2020-02-25T00:00:00\", \"2020-02-24T00:00:00\", \"2020-02-23T00:00:00\", \"2020-02-22T00:00:00\", \"2020-02-21T00:00:00\", \"2020-02-20T00:00:00\", \"2020-02-19T00:00:00\", \"2020-02-18T00:00:00\", \"2020-02-17T00:00:00\", \"2020-02-16T00:00:00\", \"2020-02-15T00:00:00\", \"2020-02-14T00:00:00\", \"2020-02-13T00:00:00\", \"2020-02-12T00:00:00\", \"2020-02-11T00:00:00\", \"2020-02-10T00:00:00\", \"2020-02-09T00:00:00\", \"2020-02-08T00:00:00\", \"2020-02-07T00:00:00\", \"2020-02-06T00:00:00\", \"2020-02-05T00:00:00\", \"2020-02-04T00:00:00\", \"2020-02-03T00:00:00\", \"2020-02-02T00:00:00\", \"2020-02-01T00:00:00\", \"2020-01-31T00:00:00\", \"2020-01-30T00:00:00\", \"2020-01-29T00:00:00\", \"2020-01-28T00:00:00\", \"2020-01-27T00:00:00\", \"2020-01-26T00:00:00\", \"2020-01-25T00:00:00\", \"2020-01-24T00:00:00\", \"2020-01-23T00:00:00\", \"2020-01-22T00:00:00\"], \"y\": [171324, 170588, 169430, 168162, 167007, 166152, 165664, 164967, 164077, 163009, 161539, 159912, 158758, 157770, 156513, 154999, 153129, 150648, 148291, 147065, 145184, 143342, 141397, 137698, 134753, 131359, 130072, 127854, 124908, 122171, 118181, 113296, 107663, 103374, 100123, 96092, 91159, 84794, 77872, 71808, 66885, 62095, 57695, 50871, 43938, 37323, 32986, 29056, 24873, 22213, 19848, 15320, 12327, 9257, 7272, 5795, 4585, 3675, 2078, 1908, 1457, 1176, 1040, 799, 670, 482, 262, 196, 159, 130, 79, 48, 46, 27, 17, 16, 16, 16, 16, 16, 16, 16, 16, 16, 16, 16, 16, 16, 16, 14, 14, 13, 13, 12, 12, 12, 12, 10, 8, 5, 4, 4, 4, 1, 0, 0, 0, 0, 0]}],\n",
       "                        {\"height\": 400, \"margin\": {\"t\": 30}, \"shapes\": [{\"line\": {\"dash\": \"dot\", \"width\": 1}, \"name\": \"current\", \"type\": \"line\", \"x0\": \"2020-05-09T00:00:00\", \"x1\": \"2020-05-09T00:00:00\", \"y0\": 0, \"y1\": 182500.6072222709}], \"template\": {\"data\": {\"bar\": [{\"error_x\": {\"color\": \"#2a3f5f\"}, \"error_y\": {\"color\": \"#2a3f5f\"}, \"marker\": {\"line\": {\"color\": \"#E5ECF6\", \"width\": 0.5}}, \"type\": \"bar\"}], \"barpolar\": [{\"marker\": {\"line\": {\"color\": \"#E5ECF6\", \"width\": 0.5}}, \"type\": \"barpolar\"}], \"carpet\": [{\"aaxis\": {\"endlinecolor\": \"#2a3f5f\", \"gridcolor\": \"white\", \"linecolor\": \"white\", \"minorgridcolor\": \"white\", \"startlinecolor\": \"#2a3f5f\"}, \"baxis\": {\"endlinecolor\": \"#2a3f5f\", \"gridcolor\": \"white\", \"linecolor\": \"white\", \"minorgridcolor\": \"white\", \"startlinecolor\": \"#2a3f5f\"}, \"type\": \"carpet\"}], \"choropleth\": [{\"colorbar\": {\"outlinewidth\": 0, \"ticks\": \"\"}, \"type\": \"choropleth\"}], \"contour\": [{\"colorbar\": {\"outlinewidth\": 0, \"ticks\": \"\"}, \"colorscale\": [[0.0, \"#0d0887\"], [0.1111111111111111, \"#46039f\"], [0.2222222222222222, \"#7201a8\"], [0.3333333333333333, \"#9c179e\"], [0.4444444444444444, \"#bd3786\"], [0.5555555555555556, \"#d8576b\"], [0.6666666666666666, \"#ed7953\"], [0.7777777777777778, \"#fb9f3a\"], [0.8888888888888888, \"#fdca26\"], [1.0, \"#f0f921\"]], \"type\": \"contour\"}], \"contourcarpet\": [{\"colorbar\": {\"outlinewidth\": 0, \"ticks\": \"\"}, \"type\": \"contourcarpet\"}], \"heatmap\": [{\"colorbar\": {\"outlinewidth\": 0, \"ticks\": \"\"}, \"colorscale\": [[0.0, \"#0d0887\"], [0.1111111111111111, \"#46039f\"], [0.2222222222222222, \"#7201a8\"], [0.3333333333333333, \"#9c179e\"], [0.4444444444444444, \"#bd3786\"], [0.5555555555555556, \"#d8576b\"], [0.6666666666666666, \"#ed7953\"], [0.7777777777777778, \"#fb9f3a\"], [0.8888888888888888, \"#fdca26\"], [1.0, \"#f0f921\"]], \"type\": \"heatmap\"}], \"heatmapgl\": [{\"colorbar\": {\"outlinewidth\": 0, \"ticks\": \"\"}, \"colorscale\": [[0.0, \"#0d0887\"], [0.1111111111111111, \"#46039f\"], [0.2222222222222222, \"#7201a8\"], [0.3333333333333333, \"#9c179e\"], [0.4444444444444444, \"#bd3786\"], [0.5555555555555556, \"#d8576b\"], [0.6666666666666666, \"#ed7953\"], [0.7777777777777778, \"#fb9f3a\"], [0.8888888888888888, \"#fdca26\"], [1.0, \"#f0f921\"]], \"type\": \"heatmapgl\"}], \"histogram\": [{\"marker\": {\"colorbar\": {\"outlinewidth\": 0, \"ticks\": \"\"}}, \"type\": \"histogram\"}], \"histogram2d\": [{\"colorbar\": {\"outlinewidth\": 0, \"ticks\": \"\"}, \"colorscale\": [[0.0, \"#0d0887\"], [0.1111111111111111, \"#46039f\"], [0.2222222222222222, \"#7201a8\"], [0.3333333333333333, \"#9c179e\"], [0.4444444444444444, \"#bd3786\"], [0.5555555555555556, \"#d8576b\"], [0.6666666666666666, \"#ed7953\"], [0.7777777777777778, \"#fb9f3a\"], [0.8888888888888888, \"#fdca26\"], [1.0, \"#f0f921\"]], \"type\": \"histogram2d\"}], \"histogram2dcontour\": [{\"colorbar\": {\"outlinewidth\": 0, \"ticks\": \"\"}, \"colorscale\": [[0.0, \"#0d0887\"], [0.1111111111111111, \"#46039f\"], [0.2222222222222222, \"#7201a8\"], [0.3333333333333333, \"#9c179e\"], [0.4444444444444444, \"#bd3786\"], [0.5555555555555556, \"#d8576b\"], [0.6666666666666666, \"#ed7953\"], [0.7777777777777778, \"#fb9f3a\"], [0.8888888888888888, \"#fdca26\"], [1.0, \"#f0f921\"]], \"type\": \"histogram2dcontour\"}], \"mesh3d\": [{\"colorbar\": {\"outlinewidth\": 0, \"ticks\": \"\"}, \"type\": \"mesh3d\"}], \"parcoords\": [{\"line\": {\"colorbar\": {\"outlinewidth\": 0, \"ticks\": \"\"}}, \"type\": \"parcoords\"}], \"pie\": [{\"automargin\": true, \"type\": \"pie\"}], \"scatter\": [{\"marker\": {\"colorbar\": {\"outlinewidth\": 0, \"ticks\": \"\"}}, \"type\": \"scatter\"}], \"scatter3d\": [{\"line\": {\"colorbar\": {\"outlinewidth\": 0, \"ticks\": \"\"}}, \"marker\": {\"colorbar\": {\"outlinewidth\": 0, \"ticks\": \"\"}}, \"type\": \"scatter3d\"}], \"scattercarpet\": [{\"marker\": {\"colorbar\": {\"outlinewidth\": 0, \"ticks\": \"\"}}, \"type\": \"scattercarpet\"}], \"scattergeo\": [{\"marker\": {\"colorbar\": {\"outlinewidth\": 0, \"ticks\": \"\"}}, \"type\": \"scattergeo\"}], \"scattergl\": [{\"marker\": {\"colorbar\": {\"outlinewidth\": 0, \"ticks\": \"\"}}, \"type\": \"scattergl\"}], \"scattermapbox\": [{\"marker\": {\"colorbar\": {\"outlinewidth\": 0, \"ticks\": \"\"}}, \"type\": \"scattermapbox\"}], \"scatterpolar\": [{\"marker\": {\"colorbar\": {\"outlinewidth\": 0, \"ticks\": \"\"}}, \"type\": \"scatterpolar\"}], \"scatterpolargl\": [{\"marker\": {\"colorbar\": {\"outlinewidth\": 0, \"ticks\": \"\"}}, \"type\": \"scatterpolargl\"}], \"scatterternary\": [{\"marker\": {\"colorbar\": {\"outlinewidth\": 0, \"ticks\": \"\"}}, \"type\": \"scatterternary\"}], \"surface\": [{\"colorbar\": {\"outlinewidth\": 0, \"ticks\": \"\"}, \"colorscale\": [[0.0, \"#0d0887\"], [0.1111111111111111, \"#46039f\"], [0.2222222222222222, \"#7201a8\"], [0.3333333333333333, \"#9c179e\"], [0.4444444444444444, \"#bd3786\"], [0.5555555555555556, \"#d8576b\"], [0.6666666666666666, \"#ed7953\"], [0.7777777777777778, \"#fb9f3a\"], [0.8888888888888888, \"#fdca26\"], [1.0, \"#f0f921\"]], \"type\": \"surface\"}], \"table\": [{\"cells\": {\"fill\": {\"color\": \"#EBF0F8\"}, \"line\": {\"color\": \"white\"}}, \"header\": {\"fill\": {\"color\": \"#C8D4E3\"}, \"line\": {\"color\": \"white\"}}, \"type\": \"table\"}]}, \"layout\": {\"annotationdefaults\": {\"arrowcolor\": \"#2a3f5f\", \"arrowhead\": 0, \"arrowwidth\": 1}, \"coloraxis\": {\"colorbar\": {\"outlinewidth\": 0, \"ticks\": \"\"}}, \"colorscale\": {\"diverging\": [[0, \"#8e0152\"], [0.1, \"#c51b7d\"], [0.2, \"#de77ae\"], [0.3, \"#f1b6da\"], [0.4, \"#fde0ef\"], [0.5, \"#f7f7f7\"], [0.6, \"#e6f5d0\"], [0.7, \"#b8e186\"], [0.8, \"#7fbc41\"], [0.9, \"#4d9221\"], [1, \"#276419\"]], \"sequential\": [[0.0, \"#0d0887\"], [0.1111111111111111, \"#46039f\"], [0.2222222222222222, \"#7201a8\"], [0.3333333333333333, \"#9c179e\"], [0.4444444444444444, \"#bd3786\"], [0.5555555555555556, \"#d8576b\"], [0.6666666666666666, \"#ed7953\"], [0.7777777777777778, \"#fb9f3a\"], [0.8888888888888888, \"#fdca26\"], [1.0, \"#f0f921\"]], \"sequentialminus\": [[0.0, \"#0d0887\"], [0.1111111111111111, \"#46039f\"], [0.2222222222222222, \"#7201a8\"], [0.3333333333333333, \"#9c179e\"], [0.4444444444444444, \"#bd3786\"], [0.5555555555555556, \"#d8576b\"], [0.6666666666666666, \"#ed7953\"], [0.7777777777777778, \"#fb9f3a\"], [0.8888888888888888, \"#fdca26\"], [1.0, \"#f0f921\"]]}, \"colorway\": [\"#636efa\", \"#EF553B\", \"#00cc96\", \"#ab63fa\", \"#FFA15A\", \"#19d3f3\", \"#FF6692\", \"#B6E880\", \"#FF97FF\", \"#FECB52\"], \"font\": {\"color\": \"#2a3f5f\"}, \"geo\": {\"bgcolor\": \"white\", \"lakecolor\": \"white\", \"landcolor\": \"#E5ECF6\", \"showlakes\": true, \"showland\": true, \"subunitcolor\": \"white\"}, \"hoverlabel\": {\"align\": \"left\"}, \"hovermode\": \"closest\", \"mapbox\": {\"style\": \"light\"}, \"paper_bgcolor\": \"white\", \"plot_bgcolor\": \"#E5ECF6\", \"polar\": {\"angularaxis\": {\"gridcolor\": \"white\", \"linecolor\": \"white\", \"ticks\": \"\"}, \"bgcolor\": \"#E5ECF6\", \"radialaxis\": {\"gridcolor\": \"white\", \"linecolor\": \"white\", \"ticks\": \"\"}}, \"scene\": {\"xaxis\": {\"backgroundcolor\": \"#E5ECF6\", \"gridcolor\": \"white\", \"gridwidth\": 2, \"linecolor\": \"white\", \"showbackground\": true, \"ticks\": \"\", \"zerolinecolor\": \"white\"}, \"yaxis\": {\"backgroundcolor\": \"#E5ECF6\", \"gridcolor\": \"white\", \"gridwidth\": 2, \"linecolor\": \"white\", \"showbackground\": true, \"ticks\": \"\", \"zerolinecolor\": \"white\"}, \"zaxis\": {\"backgroundcolor\": \"#E5ECF6\", \"gridcolor\": \"white\", \"gridwidth\": 2, \"linecolor\": \"white\", \"showbackground\": true, \"ticks\": \"\", \"zerolinecolor\": \"white\"}}, \"shapedefaults\": {\"line\": {\"color\": \"#2a3f5f\"}}, \"ternary\": {\"aaxis\": {\"gridcolor\": \"white\", \"linecolor\": \"white\", \"ticks\": \"\"}, \"baxis\": {\"gridcolor\": \"white\", \"linecolor\": \"white\", \"ticks\": \"\"}, \"bgcolor\": \"#E5ECF6\", \"caxis\": {\"gridcolor\": \"white\", \"linecolor\": \"white\", \"ticks\": \"\"}}, \"title\": {\"x\": 0.05}, \"xaxis\": {\"automargin\": true, \"gridcolor\": \"white\", \"linecolor\": \"white\", \"ticks\": \"\", \"title\": {\"standoff\": 15}, \"zerolinecolor\": \"white\", \"zerolinewidth\": 2}, \"yaxis\": {\"automargin\": true, \"gridcolor\": \"white\", \"linecolor\": \"white\", \"ticks\": \"\", \"title\": {\"standoff\": 15}, \"zerolinecolor\": \"white\", \"zerolinewidth\": 2}}}, \"width\": 700, \"xaxis\": {\"linecolor\": \"black\", \"linewidth\": 1.5, \"mirror\": true, \"showgrid\": true, \"showline\": true, \"title\": {\"text\": \"Day of Year\"}}, \"yaxis\": {\"linecolor\": \"black\", \"linewidth\": 1.5, \"mirror\": true, \"showgrid\": false, \"showline\": true, \"title\": {\"text\": \"Cumulative Case Count in Germany\"}}},\n",
       "                        {\"responsive\": true}\n",
       "                    ).then(function(){\n",
       "                            \n",
       "var gd = document.getElementById('19f5d3ca-82a0-46cf-96c6-264c84b84b9f');\n",
       "var x = new MutationObserver(function (mutations, observer) {{\n",
       "        var display = window.getComputedStyle(gd).display;\n",
       "        if (!display || display === 'none') {{\n",
       "            console.log([gd, 'removed!']);\n",
       "            Plotly.purge(gd);\n",
       "            observer.disconnect();\n",
       "        }}\n",
       "}});\n",
       "\n",
       "// Listen for the removal of the full notebook cells\n",
       "var notebookContainer = gd.closest('#notebook-container');\n",
       "if (notebookContainer) {{\n",
       "    x.observe(notebookContainer, {childList: true});\n",
       "}}\n",
       "\n",
       "// Listen for the clearing of the current output cell\n",
       "var outputEl = gd.closest('.output');\n",
       "if (outputEl) {{\n",
       "    x.observe(outputEl, {childList: true});\n",
       "}}\n",
       "\n",
       "                        })\n",
       "                };\n",
       "                });\n",
       "            </script>\n",
       "        </div>"
      ]
     },
     "metadata": {},
     "output_type": "display_data"
    }
   ],
   "source": [
    "print('Germany:')\n",
    "show_region('country','loglogistic','Germany',6)"
   ]
  },
  {
   "cell_type": "markdown",
   "metadata": {},
   "source": [
    "If you run this notebook locally, you'll also be able to see an interactive widget below. This will let you visualize the data and the model fits, allowing you to change the state/country, the model type, and the end date."
   ]
  },
  {
   "cell_type": "code",
   "execution_count": 29,
   "metadata": {},
   "outputs": [
    {
     "data": {
      "application/vnd.jupyter.widget-view+json": {
       "model_id": "60146f5b85f94cf3b192be79a558a47e",
       "version_major": 2,
       "version_minor": 0
      },
      "text/plain": [
       "interactive(children=(Text(value='state', description='dataset'), Dropdown(description='model', options=('norm…"
      ]
     },
     "metadata": {},
     "output_type": "display_data"
    }
   ],
   "source": [
    "interact(show_region,dataset='state',model=list(state_info.keys()), \n",
    "                region=list(state_info.values())[0].index.sort_values().to_list(),\n",
    "                month=widgets.IntSlider(value=5,min=4,max=9,step=1,description='thru month',continuous_update=False));"
   ]
  },
  {
   "cell_type": "code",
   "execution_count": 30,
   "metadata": {},
   "outputs": [
    {
     "data": {
      "application/vnd.jupyter.widget-view+json": {
       "model_id": "4b3084d7a4c84443ab5c482c447ca6d6",
       "version_major": 2,
       "version_minor": 0
      },
      "text/plain": [
       "interactive(children=(Text(value='country', description='dataset'), Dropdown(description='model', options=('no…"
      ]
     },
     "metadata": {},
     "output_type": "display_data"
    }
   ],
   "source": [
    "interact(show_region,dataset='country',model=list(global_info.keys()), \n",
    "                region=list(global_info.values())[0].index.sort_values().to_list(),\n",
    "                month=widgets.IntSlider(value=5,min=4,max=9,step=1,description='thru month',continuous_update=False));"
   ]
  },
  {
   "cell_type": "code",
   "execution_count": 31,
   "metadata": {},
   "outputs": [
    {
     "data": {
      "text/html": [
       "<script src=\"https://cdn.rawgit.com/parente/4c3e6936d0d7a46fd071/raw/65b816fb9bdd3c28b4ddf3af602bfd6015486383/code_toggle.js\"></script>\n"
      ],
      "text/plain": [
       "<IPython.core.display.HTML object>"
      ]
     },
     "metadata": {},
     "output_type": "display_data"
    }
   ],
   "source": [
    "%%html\n",
    "<script src=\"https://cdn.rawgit.com/parente/4c3e6936d0d7a46fd071/raw/65b816fb9bdd3c28b4ddf3af602bfd6015486383/code_toggle.js\"></script>"
   ]
  },
  {
   "cell_type": "code",
   "execution_count": null,
   "metadata": {},
   "outputs": [],
   "source": []
  }
 ],
 "metadata": {
  "jupyter": {
   "source_hidden": true
  },
  "kernelspec": {
   "display_name": "Python 3",
   "language": "python",
   "name": "python3"
  },
  "language_info": {
   "codemirror_mode": {
    "name": "ipython",
    "version": 3
   },
   "file_extension": ".py",
   "mimetype": "text/x-python",
   "name": "python",
   "nbconvert_exporter": "python",
   "pygments_lexer": "ipython3",
   "version": "3.7.6"
  }
 },
 "nbformat": 4,
 "nbformat_minor": 4
}
