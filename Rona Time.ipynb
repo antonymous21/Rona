{
 "cells": [
  {
   "cell_type": "markdown",
   "metadata": {},
   "source": [
    "# Flattening the Curve: Nonlinear Regression of COVID-19 Data\n",
    "\n",
    "<br><br><br>\n",
    "**Anton Zverev**\n",
    "\n",
    "Last edited: 05/03/20\n",
    "\n",
    "\n",
    "---"
   ]
  },
  {
   "cell_type": "markdown",
   "metadata": {},
   "source": [
    "## How to use this notebook\n",
    "\n",
    "In this notebook I've tried to create a user-friendly introduction to mathematical modeling of coronavirus data. The goal is *not* to draw conclusions about how fast coronavirus spreads, but instead to figure out what kind of model best describes case data. The process is broken down into several parts:\n",
    "   1. [Importing the data](#sec1),\n",
    "   2. [Seeing what the data looks like](#sec2),\n",
    "   3. [Establishing terminology](#sec3),\n",
    "   4. [Exploring what types of models might be useful](#sec4),\n",
    "   5. [Fitting data to the models](#sec5),\n",
    "   6. [Comparing them](#sec6), and finally\n",
    "   7. [Visualizing the results](#sec7).\n",
    "\n",
    "If you're viewing this notebook in `nbviewer`, all of the code cells are hidden by default to make reading easier. **You can toggle this feature to show/hide code by clicking the </> button in the top right corner of your browser.**\n",
    "\n",
    "You can also download this notebook (either directly from `nbviewer` or from [github](https://github.com/antonymous21/Rona)) and run it locally, which will allow you to fit the most current data. Running the notebook yourself will also enable an interactive widget in part 7, which lets you visualize the data and the models for any country, US state, model type, and length of time.\n",
    "\n",
    "All of the graphs in this notebook are created using [plotly](https://plotly.com/python/), which means that you can zoom, pan, trace, and hover on any plot right in your web browser.\n",
    "\n",
    "---"
   ]
  },
  {
   "cell_type": "markdown",
   "metadata": {},
   "source": [
    "<a id='sec1'></a>"
   ]
  },
  {
   "cell_type": "markdown",
   "metadata": {},
   "source": [
    "## 1. Data Importation & Cleaning\n",
    "<a id='sec1'></a>"
   ]
  },
  {
   "cell_type": "code",
   "execution_count": 1,
   "metadata": {},
   "outputs": [
    {
     "data": {
      "text/html": [
       "        <script type=\"text/javascript\">\n",
       "        window.PlotlyConfig = {MathJaxConfig: 'local'};\n",
       "        if (window.MathJax) {MathJax.Hub.Config({SVG: {font: \"STIX-Web\"}});}\n",
       "        if (typeof require !== 'undefined') {\n",
       "        require.undef(\"plotly\");\n",
       "        requirejs.config({\n",
       "            paths: {\n",
       "                'plotly': ['https://cdn.plot.ly/plotly-latest.min']\n",
       "            }\n",
       "        });\n",
       "        require(['plotly'], function(Plotly) {\n",
       "            window._Plotly = Plotly;\n",
       "        });\n",
       "        }\n",
       "        </script>\n",
       "        "
      ]
     },
     "metadata": {},
     "output_type": "display_data"
    },
    {
     "data": {
      "text/html": [
       "        <script type=\"text/javascript\">\n",
       "        window.PlotlyConfig = {MathJaxConfig: 'local'};\n",
       "        if (window.MathJax) {MathJax.Hub.Config({SVG: {font: \"STIX-Web\"}});}\n",
       "        if (typeof require !== 'undefined') {\n",
       "        require.undef(\"plotly\");\n",
       "        requirejs.config({\n",
       "            paths: {\n",
       "                'plotly': ['https://cdn.plot.ly/plotly-latest.min']\n",
       "            }\n",
       "        });\n",
       "        require(['plotly'], function(Plotly) {\n",
       "            window._Plotly = Plotly;\n",
       "        });\n",
       "        }\n",
       "        </script>\n",
       "        "
      ]
     },
     "metadata": {},
     "output_type": "display_data"
    }
   ],
   "source": [
    "import pandas as pd\n",
    "import numpy as np\n",
    "import inspect\n",
    "from scipy import stats\n",
    "from scipy import special\n",
    "from math import sqrt\n",
    "import time\n",
    "import datetime\n",
    "\n",
    "import matplotlib.pyplot as plt\n",
    "from scipy.optimize import least_squares\n",
    "import seaborn as sns\n",
    "\n",
    "import ipywidgets as widgets\n",
    "from ipywidgets import interact\n",
    "import plotly.offline as py\n",
    "import plotly.express as px\n",
    "import plotly.colors as pc\n",
    "import plotly.graph_objects as go\n",
    "from plotly.subplots import make_subplots\n",
    "import cufflinks as cf\n",
    "cf.set_config_file(offline=True, sharing=False, theme='ggplot');"
   ]
  },
  {
   "cell_type": "markdown",
   "metadata": {},
   "source": [
    "First, we import raw coronavirus case data from github. Here we use two different sources, one for state-by-state data in the US, and one for country-level data for the whole world. In this analysis we will only focus on the number of confirmed cases, not the number of deaths."
   ]
  },
  {
   "cell_type": "code",
   "execution_count": 2,
   "metadata": {},
   "outputs": [],
   "source": [
    "data_url_states = 'https://raw.githubusercontent.com/COVID19Tracking/covid-tracking-data/master/data/states_daily_4pm_et.csv'\n",
    "data_url_global = 'https://raw.githubusercontent.com/CSSEGISandData/COVID-19/master/csse_covid_19_data/csse_covid_19_time_series/time_series_covid19_confirmed_global.csv'\n",
    "\n",
    "raw_df_states = pd.read_csv(data_url_states) # state-by-state data\n",
    "raw_df_global = pd.read_csv(data_url_global) # country-by-country data"
   ]
  },
  {
   "cell_type": "markdown",
   "metadata": {},
   "source": [
    "Next, we reformat the global data into a new dataframe `global_cumulative` so that it's easier to use and intepret. We'll also only focus on the top 50 most affected countries. Here's what the first few rows of the resulting dataframe look like:"
   ]
  },
  {
   "cell_type": "code",
   "execution_count": 3,
   "metadata": {},
   "outputs": [
    {
     "data": {
      "text/html": [
       "<div>\n",
       "<style scoped>\n",
       "    .dataframe tbody tr th:only-of-type {\n",
       "        vertical-align: middle;\n",
       "    }\n",
       "\n",
       "    .dataframe tbody tr th {\n",
       "        vertical-align: top;\n",
       "    }\n",
       "\n",
       "    .dataframe thead th {\n",
       "        text-align: right;\n",
       "    }\n",
       "</style>\n",
       "<table border=\"1\" class=\"dataframe\">\n",
       "  <thead>\n",
       "    <tr style=\"text-align: right;\">\n",
       "      <th></th>\n",
       "      <th>United States</th>\n",
       "      <th>Spain</th>\n",
       "      <th>Italy</th>\n",
       "      <th>United Kingdom</th>\n",
       "      <th>France</th>\n",
       "      <th>Germany</th>\n",
       "      <th>Turkey</th>\n",
       "      <th>Russia</th>\n",
       "      <th>Brazil</th>\n",
       "      <th>Iran</th>\n",
       "      <th>...</th>\n",
       "      <th>Bangladesh</th>\n",
       "      <th>Norway</th>\n",
       "      <th>Czechia</th>\n",
       "      <th>Dominican Republic</th>\n",
       "      <th>Colombia</th>\n",
       "      <th>Panama</th>\n",
       "      <th>Australia</th>\n",
       "      <th>South Africa</th>\n",
       "      <th>Egypt</th>\n",
       "      <th>Malaysia</th>\n",
       "    </tr>\n",
       "    <tr>\n",
       "      <th>date</th>\n",
       "      <th></th>\n",
       "      <th></th>\n",
       "      <th></th>\n",
       "      <th></th>\n",
       "      <th></th>\n",
       "      <th></th>\n",
       "      <th></th>\n",
       "      <th></th>\n",
       "      <th></th>\n",
       "      <th></th>\n",
       "      <th></th>\n",
       "      <th></th>\n",
       "      <th></th>\n",
       "      <th></th>\n",
       "      <th></th>\n",
       "      <th></th>\n",
       "      <th></th>\n",
       "      <th></th>\n",
       "      <th></th>\n",
       "      <th></th>\n",
       "      <th></th>\n",
       "    </tr>\n",
       "  </thead>\n",
       "  <tbody>\n",
       "    <tr>\n",
       "      <th>2020-05-02</th>\n",
       "      <td>1132539</td>\n",
       "      <td>216582</td>\n",
       "      <td>209328</td>\n",
       "      <td>183500</td>\n",
       "      <td>168518</td>\n",
       "      <td>164967</td>\n",
       "      <td>124375</td>\n",
       "      <td>124054</td>\n",
       "      <td>97100</td>\n",
       "      <td>96448</td>\n",
       "      <td>...</td>\n",
       "      <td>8790</td>\n",
       "      <td>7809</td>\n",
       "      <td>7755</td>\n",
       "      <td>7578</td>\n",
       "      <td>7285</td>\n",
       "      <td>7090</td>\n",
       "      <td>6799</td>\n",
       "      <td>6336</td>\n",
       "      <td>6193</td>\n",
       "      <td>6176</td>\n",
       "    </tr>\n",
       "    <tr>\n",
       "      <th>2020-05-01</th>\n",
       "      <td>1103461</td>\n",
       "      <td>213435</td>\n",
       "      <td>207428</td>\n",
       "      <td>178685</td>\n",
       "      <td>167305</td>\n",
       "      <td>164077</td>\n",
       "      <td>122392</td>\n",
       "      <td>114431</td>\n",
       "      <td>92202</td>\n",
       "      <td>95646</td>\n",
       "      <td>...</td>\n",
       "      <td>8238</td>\n",
       "      <td>7783</td>\n",
       "      <td>7737</td>\n",
       "      <td>7288</td>\n",
       "      <td>7006</td>\n",
       "      <td>6720</td>\n",
       "      <td>6778</td>\n",
       "      <td>5951</td>\n",
       "      <td>5895</td>\n",
       "      <td>6071</td>\n",
       "    </tr>\n",
       "    <tr>\n",
       "      <th>2020-04-30</th>\n",
       "      <td>1069424</td>\n",
       "      <td>213435</td>\n",
       "      <td>205463</td>\n",
       "      <td>172481</td>\n",
       "      <td>167299</td>\n",
       "      <td>163009</td>\n",
       "      <td>120204</td>\n",
       "      <td>106498</td>\n",
       "      <td>87187</td>\n",
       "      <td>94640</td>\n",
       "      <td>...</td>\n",
       "      <td>7667</td>\n",
       "      <td>7738</td>\n",
       "      <td>7682</td>\n",
       "      <td>6972</td>\n",
       "      <td>6507</td>\n",
       "      <td>6532</td>\n",
       "      <td>6766</td>\n",
       "      <td>5647</td>\n",
       "      <td>5537</td>\n",
       "      <td>6002</td>\n",
       "    </tr>\n",
       "  </tbody>\n",
       "</table>\n",
       "<p>3 rows × 50 columns</p>\n",
       "</div>"
      ],
      "text/plain": [
       "            United States   Spain   Italy  United Kingdom  France  Germany  \\\n",
       "date                                                                         \n",
       "2020-05-02        1132539  216582  209328          183500  168518   164967   \n",
       "2020-05-01        1103461  213435  207428          178685  167305   164077   \n",
       "2020-04-30        1069424  213435  205463          172481  167299   163009   \n",
       "\n",
       "            Turkey  Russia  Brazil   Iran  ...  Bangladesh  Norway  Czechia  \\\n",
       "date                                       ...                                \n",
       "2020-05-02  124375  124054   97100  96448  ...        8790    7809     7755   \n",
       "2020-05-01  122392  114431   92202  95646  ...        8238    7783     7737   \n",
       "2020-04-30  120204  106498   87187  94640  ...        7667    7738     7682   \n",
       "\n",
       "            Dominican Republic  Colombia  Panama  Australia  South Africa  \\\n",
       "date                                                                        \n",
       "2020-05-02                7578      7285    7090       6799          6336   \n",
       "2020-05-01                7288      7006    6720       6778          5951   \n",
       "2020-04-30                6972      6507    6532       6766          5647   \n",
       "\n",
       "            Egypt  Malaysia  \n",
       "date                         \n",
       "2020-05-02   6193      6176  \n",
       "2020-05-01   5895      6071  \n",
       "2020-04-30   5537      6002  \n",
       "\n",
       "[3 rows x 50 columns]"
      ]
     },
     "execution_count": 3,
     "metadata": {},
     "output_type": "execute_result"
    }
   ],
   "source": [
    "raw_df_global.drop(columns=['Province/State','Lat','Long'],inplace=True)\n",
    "raw_df_global.replace('US', 'United States',inplace=True)\n",
    "raw_df_global = raw_df_global.groupby(by='Country/Region',as_index=True).agg(sum)\n",
    "top_countries = raw_df_global.iloc[:,-1].sort_values(ascending=False).index[:50] # find top 50 countries\n",
    "\n",
    "global_cumulative = raw_df_global.loc[top_countries,:].T # only take top countries, and transpose\n",
    "global_cumulative.index.rename('date',inplace=True)\n",
    "global_cumulative.columns.name = None\n",
    "global_cumulative.index = pd.to_datetime(global_cumulative.index, format='%m/%d/%y') # fix timestamp\n",
    "global_cumulative.sort_values(by='date',ascending=False,inplace=True)\n",
    "\n",
    "global_cumulative.head(3)"
   ]
  },
  {
   "cell_type": "markdown",
   "metadata": {},
   "source": [
    "We likewise reformat the raw data from US states into a dataframe `states_cumulative`, with a separate column for each state. Here's what the first few rows of the resulting dataframe look like:"
   ]
  },
  {
   "cell_type": "code",
   "execution_count": 4,
   "metadata": {
    "jupyter": {
     "source_hidden": true
    }
   },
   "outputs": [
    {
     "data": {
      "text/html": [
       "<div>\n",
       "<style scoped>\n",
       "    .dataframe tbody tr th:only-of-type {\n",
       "        vertical-align: middle;\n",
       "    }\n",
       "\n",
       "    .dataframe tbody tr th {\n",
       "        vertical-align: top;\n",
       "    }\n",
       "\n",
       "    .dataframe thead th {\n",
       "        text-align: right;\n",
       "    }\n",
       "</style>\n",
       "<table border=\"1\" class=\"dataframe\">\n",
       "  <thead>\n",
       "    <tr style=\"text-align: right;\">\n",
       "      <th></th>\n",
       "      <th>AK</th>\n",
       "      <th>AL</th>\n",
       "      <th>AR</th>\n",
       "      <th>AZ</th>\n",
       "      <th>CA</th>\n",
       "      <th>CO</th>\n",
       "      <th>CT</th>\n",
       "      <th>DC</th>\n",
       "      <th>DE</th>\n",
       "      <th>FL</th>\n",
       "      <th>...</th>\n",
       "      <th>SD</th>\n",
       "      <th>TN</th>\n",
       "      <th>TX</th>\n",
       "      <th>UT</th>\n",
       "      <th>VA</th>\n",
       "      <th>VT</th>\n",
       "      <th>WA</th>\n",
       "      <th>WI</th>\n",
       "      <th>WV</th>\n",
       "      <th>WY</th>\n",
       "    </tr>\n",
       "    <tr>\n",
       "      <th>date</th>\n",
       "      <th></th>\n",
       "      <th></th>\n",
       "      <th></th>\n",
       "      <th></th>\n",
       "      <th></th>\n",
       "      <th></th>\n",
       "      <th></th>\n",
       "      <th></th>\n",
       "      <th></th>\n",
       "      <th></th>\n",
       "      <th></th>\n",
       "      <th></th>\n",
       "      <th></th>\n",
       "      <th></th>\n",
       "      <th></th>\n",
       "      <th></th>\n",
       "      <th></th>\n",
       "      <th></th>\n",
       "      <th></th>\n",
       "      <th></th>\n",
       "      <th></th>\n",
       "    </tr>\n",
       "  </thead>\n",
       "  <tbody>\n",
       "    <tr>\n",
       "      <th>2020-05-03</th>\n",
       "      <td>368.0</td>\n",
       "      <td>7725.0</td>\n",
       "      <td>3431.0</td>\n",
       "      <td>8640.0</td>\n",
       "      <td>53616.0</td>\n",
       "      <td>16225.0</td>\n",
       "      <td>29287.0</td>\n",
       "      <td>5016.0</td>\n",
       "      <td>5208.0</td>\n",
       "      <td>36078.0</td>\n",
       "      <td>...</td>\n",
       "      <td>2631.0</td>\n",
       "      <td>13177.0</td>\n",
       "      <td>31548.0</td>\n",
       "      <td>5175.0</td>\n",
       "      <td>18671.0</td>\n",
       "      <td>897.0</td>\n",
       "      <td>15003.0</td>\n",
       "      <td>7964.0</td>\n",
       "      <td>1191.0</td>\n",
       "      <td>579.0</td>\n",
       "    </tr>\n",
       "    <tr>\n",
       "      <th>2020-05-02</th>\n",
       "      <td>365.0</td>\n",
       "      <td>7434.0</td>\n",
       "      <td>3372.0</td>\n",
       "      <td>8364.0</td>\n",
       "      <td>52197.0</td>\n",
       "      <td>15768.0</td>\n",
       "      <td>28764.0</td>\n",
       "      <td>4797.0</td>\n",
       "      <td>5038.0</td>\n",
       "      <td>35463.0</td>\n",
       "      <td>...</td>\n",
       "      <td>2588.0</td>\n",
       "      <td>12661.0</td>\n",
       "      <td>30522.0</td>\n",
       "      <td>4981.0</td>\n",
       "      <td>17731.0</td>\n",
       "      <td>886.0</td>\n",
       "      <td>14637.0</td>\n",
       "      <td>7660.0</td>\n",
       "      <td>1169.0</td>\n",
       "      <td>566.0</td>\n",
       "    </tr>\n",
       "    <tr>\n",
       "      <th>2020-05-01</th>\n",
       "      <td>364.0</td>\n",
       "      <td>7158.0</td>\n",
       "      <td>3321.0</td>\n",
       "      <td>7962.0</td>\n",
       "      <td>50442.0</td>\n",
       "      <td>15284.0</td>\n",
       "      <td>28764.0</td>\n",
       "      <td>4658.0</td>\n",
       "      <td>4918.0</td>\n",
       "      <td>34728.0</td>\n",
       "      <td>...</td>\n",
       "      <td>2525.0</td>\n",
       "      <td>11891.0</td>\n",
       "      <td>29229.0</td>\n",
       "      <td>4828.0</td>\n",
       "      <td>16901.0</td>\n",
       "      <td>879.0</td>\n",
       "      <td>14327.0</td>\n",
       "      <td>7314.0</td>\n",
       "      <td>1136.0</td>\n",
       "      <td>559.0</td>\n",
       "    </tr>\n",
       "  </tbody>\n",
       "</table>\n",
       "<p>3 rows × 53 columns</p>\n",
       "</div>"
      ],
      "text/plain": [
       "               AK      AL      AR      AZ       CA       CO       CT      DC  \\\n",
       "date                                                                           \n",
       "2020-05-03  368.0  7725.0  3431.0  8640.0  53616.0  16225.0  29287.0  5016.0   \n",
       "2020-05-02  365.0  7434.0  3372.0  8364.0  52197.0  15768.0  28764.0  4797.0   \n",
       "2020-05-01  364.0  7158.0  3321.0  7962.0  50442.0  15284.0  28764.0  4658.0   \n",
       "\n",
       "                DE       FL  ...      SD       TN       TX      UT       VA  \\\n",
       "date                         ...                                              \n",
       "2020-05-03  5208.0  36078.0  ...  2631.0  13177.0  31548.0  5175.0  18671.0   \n",
       "2020-05-02  5038.0  35463.0  ...  2588.0  12661.0  30522.0  4981.0  17731.0   \n",
       "2020-05-01  4918.0  34728.0  ...  2525.0  11891.0  29229.0  4828.0  16901.0   \n",
       "\n",
       "               VT       WA      WI      WV     WY  \n",
       "date                                               \n",
       "2020-05-03  897.0  15003.0  7964.0  1191.0  579.0  \n",
       "2020-05-02  886.0  14637.0  7660.0  1169.0  566.0  \n",
       "2020-05-01  879.0  14327.0  7314.0  1136.0  559.0  \n",
       "\n",
       "[3 rows x 53 columns]"
      ]
     },
     "execution_count": 4,
     "metadata": {},
     "output_type": "execute_result"
    }
   ],
   "source": [
    "states_list = raw_df_states['state'].unique() # list of state abbreviations (50 states + 5 territories + DC)\n",
    "\n",
    "raw_df_states['date'] = pd.to_datetime(raw_df_states['date'], format='%Y%m%d') # fix timestamp\n",
    "raw_df_states = raw_df_states[['date','state','positive']] #extract the columns I care about\n",
    "\n",
    "states_cumulative = raw_df_states[raw_df_states['state']=='AK'][['date','positive']]\n",
    "states_cumulative.reset_index(drop=True,inplace=True)\n",
    "\n",
    "for s in states_list:\n",
    "    state_data = raw_df_states[raw_df_states['state']==s]['positive']\n",
    "    states_cumulative[s] = state_data.reset_index(drop=True)\n",
    "\n",
    "states_cumulative.set_index('date',inplace=True) # index by date\n",
    "states_cumulative.drop(columns='positive',inplace=True)\n",
    "states_cumulative.fillna(value=0,inplace=True) # nan values will mess up the regression later\n",
    "states_cumulative = states_cumulative.loc[:,(states_cumulative.iloc[0,:]>100).values] # remove states with <100 cases\n",
    "states_list = states_cumulative.columns\n",
    "\n",
    "states_cumulative.head(3)"
   ]
  },
  {
   "cell_type": "markdown",
   "metadata": {},
   "source": [
    "We now have two data sets, one for US states and one for countries. Conveniently, the data sources are updated daily, so re-running this notebook automatically pulls the most current data!"
   ]
  },
  {
   "cell_type": "markdown",
   "metadata": {},
   "source": [
    "<a id='sec2'></a>"
   ]
  },
  {
   "cell_type": "markdown",
   "metadata": {},
   "source": [
    "## 2. Data Visualization"
   ]
  },
  {
   "cell_type": "markdown",
   "metadata": {},
   "source": [
    "Let's now see what the data looks like. Besides the number of cumulative confirmed cases, it will also be helpful to look at the case increase per day. This is defined as the difference between the cumulative case counts on consecutive days. We will store this data in `states_inc` and `global_inc`, and a smoothed (rolling 3-day average) version of the same data in `states_inc_rolling3` and `global_inc_rolling3`."
   ]
  },
  {
   "cell_type": "code",
   "execution_count": 5,
   "metadata": {},
   "outputs": [],
   "source": [
    "states_inc = states_cumulative.diff(periods=-1)\n",
    "states_inc_rolling3 = (states_inc.shift(-1)+states_inc.shift(1)+states_inc)/3\n",
    "states_inc_rolling3.dropna(inplace=True)\n",
    "\n",
    "global_inc = global_cumulative.diff(periods=-1)\n",
    "global_inc_rolling3 = (global_inc.shift(-1)+global_inc.shift(1)+global_inc)/3\n",
    "global_inc_rolling3.dropna(inplace=True)"
   ]
  },
  {
   "cell_type": "markdown",
   "metadata": {},
   "source": [
    "For regression analysis, we will need the dependent variable, time, to be numeric, so we create `x_data`, which is the number of days that have passed since the beinning of the year. `x_data_global` is the same thing for the global dataframe. Note that the two data sets have different starting dates."
   ]
  },
  {
   "cell_type": "code",
   "execution_count": 6,
   "metadata": {},
   "outputs": [],
   "source": [
    "x_data = states_cumulative.index.to_series().dt.dayofyear\n",
    "x_data_global = global_cumulative.index.to_series().dt.dayofyear"
   ]
  },
  {
   "cell_type": "markdown",
   "metadata": {},
   "source": [
    "Let's now visualize some of our data! States first:"
   ]
  },
  {
   "cell_type": "code",
   "execution_count": 7,
   "metadata": {
    "jupyter": {
     "source_hidden": true
    },
    "scrolled": true
   },
   "outputs": [
    {
     "data": {
      "application/vnd.plotly.v1+json": {
       "config": {
        "plotlyServerURL": "https://plot.ly"
       },
       "data": [
        {
         "line": {
          "color": "rgb(31, 119, 180)"
         },
         "mode": "lines",
         "name": "CA",
         "showlegend": true,
         "type": "scatter",
         "x": [
          124,
          123,
          122,
          121,
          120,
          119,
          118,
          117,
          116,
          115,
          114,
          113,
          112,
          111,
          110,
          109,
          108,
          107,
          106,
          105,
          104,
          103,
          102,
          101,
          100,
          99,
          98,
          97,
          96,
          95,
          94,
          93,
          92,
          91,
          90,
          89,
          88,
          87,
          86,
          85,
          84,
          83,
          82,
          81,
          80,
          79,
          78,
          77,
          76,
          75,
          74,
          73,
          72,
          71,
          70,
          69,
          68,
          67,
          66
         ],
         "xaxis": "x",
         "y": [
          53616,
          52197,
          50442,
          48917,
          46500,
          45031,
          43464,
          42164,
          41137,
          39254,
          37369,
          35396,
          33261,
          30978,
          30333,
          28963,
          27528,
          26182,
          24424,
          23338,
          22348,
          21794,
          19472,
          19472,
          18309,
          16957,
          15865,
          14336,
          13438,
          12026,
          10701,
          9191,
          8155,
          7482,
          6447,
          5708,
          4643,
          3879,
          3006,
          2355,
          2102,
          1733,
          1536,
          1279,
          1063,
          924,
          611,
          483,
          335,
          293,
          252,
          202,
          202,
          157,
          133,
          114,
          88,
          69,
          60
         ],
         "yaxis": "y"
        },
        {
         "line": {
          "color": "rgb(31, 119, 180)"
         },
         "mode": "lines",
         "name": "CA",
         "showlegend": false,
         "type": "scatter",
         "x": [
          124,
          123,
          122,
          121,
          120,
          119,
          118,
          117,
          116,
          115,
          114,
          113,
          112,
          111,
          110,
          109,
          108,
          107,
          106,
          105,
          104,
          103,
          102,
          101,
          100,
          99,
          98,
          97,
          96,
          95,
          94,
          93,
          92,
          91,
          90,
          89,
          88,
          87,
          86,
          85,
          84,
          83,
          82,
          81,
          80,
          79,
          78,
          77,
          76,
          75,
          74,
          73,
          72,
          71,
          70,
          69,
          68,
          67,
          66
         ],
         "xaxis": "x2",
         "y": [
          1566.3333333333333,
          1899,
          1803.6666666666667,
          1817.6666666666667,
          1445.3333333333333,
          1298,
          1403.3333333333333,
          1598.3333333333333,
          1913.6666666666667,
          1997.6666666666667,
          2130.3333333333335,
          1687.6666666666667,
          1432.6666666666667,
          1150,
          1383.6666666666667,
          1513,
          1396.6666666666667,
          1278,
          876.6666666666666,
          1288.6666666666667,
          958.6666666666666,
          1161.6666666666667,
          838.3333333333334,
          1202.3333333333333,
          1324.3333333333333,
          1173,
          1279.6666666666667,
          1211.6666666666667,
          1415.6666666666667,
          1290.3333333333333,
          1073,
          914.6666666666666,
          815.6666666666666,
          946.3333333333334,
          856,
          900.6666666666666,
          762.6666666666666,
          592.3333333333334,
          424.3333333333333,
          273,
          274.3333333333333,
          223.33333333333334,
          204,
          222.66666666666666,
          193.33333333333334,
          196.33333333333334,
          106,
          77,
          44.333333333333336,
          30.333333333333332,
          31.666666666666668,
          23,
          29.333333333333332,
          23,
          21.333333333333332,
          18
         ],
         "yaxis": "y2"
        },
        {
         "line": {
          "color": "rgb(255, 127, 14)"
         },
         "mode": "lines",
         "name": "NY",
         "showlegend": true,
         "type": "scatter",
         "x": [
          124,
          123,
          122,
          121,
          120,
          119,
          118,
          117,
          116,
          115,
          114,
          113,
          112,
          111,
          110,
          109,
          108,
          107,
          106,
          105,
          104,
          103,
          102,
          101,
          100,
          99,
          98,
          97,
          96,
          95,
          94,
          93,
          92,
          91,
          90,
          89,
          88,
          87,
          86,
          85,
          84,
          83,
          82,
          81,
          80,
          79,
          78,
          77,
          76,
          75,
          74,
          73,
          72,
          71,
          70,
          69,
          68,
          67,
          66
         ],
         "xaxis": "x",
         "y": [
          316415,
          312977,
          308314,
          304372,
          299691,
          295106,
          291996,
          288045,
          282143,
          271590,
          263460,
          257216,
          251690,
          247512,
          242786,
          236732,
          229642,
          222284,
          213779,
          202208,
          195031,
          188694,
          180458,
          170512,
          159937,
          149316,
          138863,
          130689,
          122031,
          113704,
          102863,
          92381,
          83712,
          75795,
          66497,
          59513,
          52318,
          44635,
          37258,
          30811,
          25665,
          20875,
          15168,
          10356,
          7102,
          4152,
          2382,
          1700,
          950,
          729,
          524,
          421,
          216,
          216,
          173,
          142,
          105,
          76,
          33
         ],
         "yaxis": "y"
        },
        {
         "line": {
          "color": "rgb(255, 127, 14)"
         },
         "mode": "lines",
         "name": "NY",
         "showlegend": false,
         "type": "scatter",
         "x": [
          124,
          123,
          122,
          121,
          120,
          119,
          118,
          117,
          116,
          115,
          114,
          113,
          112,
          111,
          110,
          109,
          108,
          107,
          106,
          105,
          104,
          103,
          102,
          101,
          100,
          99,
          98,
          97,
          96,
          95,
          94,
          93,
          92,
          91,
          90,
          89,
          88,
          87,
          86,
          85,
          84,
          83,
          82,
          81,
          80,
          79,
          78,
          77,
          76,
          75,
          74,
          73,
          72,
          71,
          70,
          69,
          68,
          67,
          66
         ],
         "xaxis": "x2",
         "y": [
          4014.3333333333335,
          4428.666666666667,
          4402.666666666667,
          4125.333333333333,
          3882,
          4321,
          6802,
          8195,
          8309,
          6633.333333333333,
          5316,
          4810,
          4986,
          5956.666666666667,
          6834,
          7651,
          9144.666666666666,
          9084.333333333334,
          8361.666666666666,
          7250,
          8173,
          9585.666666666666,
          10380.666666666666,
          10549.666666666666,
          9749.333333333334,
          9095,
          8386.333333333334,
          9275.333333333334,
          9883.333333333334,
          9997.333333333334,
          9022.666666666666,
          8628,
          8066.333333333333,
          7825.666666666667,
          7287.333333333333,
          7418.333333333333,
          7169,
          6323.333333333333,
          5461,
          5214.333333333333,
          5103,
          4591,
          3672,
          2658,
          1800.6666666666667,
          1067.3333333333333,
          551,
          392,
          176.33333333333334,
          171,
          102.66666666666667,
          82.66666666666667,
          24.666666666666668,
          37,
          32.333333333333336,
          36.333333333333336
         ],
         "yaxis": "y2"
        },
        {
         "line": {
          "color": "rgb(44, 160, 44)"
         },
         "mode": "lines",
         "name": "NJ",
         "showlegend": true,
         "type": "scatter",
         "x": [
          124,
          123,
          122,
          121,
          120,
          119,
          118,
          117,
          116,
          115,
          114,
          113,
          112,
          111,
          110,
          109,
          108,
          107,
          106,
          105,
          104,
          103,
          102,
          101,
          100,
          99,
          98,
          97,
          96,
          95,
          94,
          93,
          92,
          91,
          90,
          89,
          88,
          87,
          86,
          85,
          84,
          83,
          82,
          81,
          80,
          79,
          78,
          77,
          76,
          75,
          74,
          73,
          72,
          71,
          70,
          69,
          68,
          67,
          66
         ],
         "xaxis": "x",
         "y": [
          126744,
          123717,
          121190,
          118652,
          116264,
          113856,
          111188,
          109038,
          105523,
          102196,
          99989,
          95865,
          92387,
          88806,
          85301,
          81420,
          78467,
          75317,
          71030,
          68824,
          64584,
          61850,
          58151,
          54588,
          51027,
          47437,
          44416,
          41090,
          37505,
          34124,
          29895,
          25590,
          22255,
          18696,
          16636,
          13386,
          11124,
          8825,
          6876,
          4402,
          3675,
          2844,
          1914,
          1327,
          890,
          742,
          427,
          267,
          178,
          98,
          50,
          50,
          30,
          24,
          15,
          11,
          6,
          4,
          1
         ],
         "yaxis": "y"
        },
        {
         "line": {
          "color": "rgb(44, 160, 44)"
         },
         "mode": "lines",
         "name": "NJ",
         "showlegend": false,
         "type": "scatter",
         "x": [
          124,
          123,
          122,
          121,
          120,
          119,
          118,
          117,
          116,
          115,
          114,
          113,
          112,
          111,
          110,
          109,
          108,
          107,
          106,
          105,
          104,
          103,
          102,
          101,
          100,
          99,
          98,
          97,
          96,
          95,
          94,
          93,
          92,
          91,
          90,
          89,
          88,
          87,
          86,
          85,
          84,
          83,
          82,
          81,
          80,
          79,
          78,
          77,
          76,
          75,
          74,
          73,
          72,
          71,
          70,
          69,
          68,
          67,
          66
         ],
         "xaxis": "x2",
         "y": [
          2697.3333333333335,
          2484.3333333333335,
          2444.6666666666665,
          2488,
          2408.6666666666665,
          2777.6666666666665,
          2997.3333333333335,
          3016.3333333333335,
          3219.3333333333335,
          3269.6666666666665,
          3727.6666666666665,
          3521.3333333333335,
          3655.6666666666665,
          3446.3333333333335,
          3328,
          3463.3333333333335,
          3214.3333333333335,
          3577.6666666666665,
          3060,
          3557.6666666666665,
          3332,
          3607.6666666666665,
          3571.3333333333335,
          3390.6666666666665,
          3312.3333333333335,
          3310.6666666666665,
          3430.6666666666665,
          3731.6666666666665,
          3971.6666666666665,
          3956.3333333333335,
          3733,
          2984.6666666666665,
          2956.3333333333335,
          2524,
          2603.6666666666665,
          2170,
          2240.6666666666665,
          1716.6666666666667,
          1344,
          829.3333333333334,
          782.6666666666666,
          651.3333333333334,
          390.6666666666667,
          300,
          207.66666666666666,
          188,
          109.66666666666667,
          72.33333333333333,
          42.666666666666664,
          22.666666666666668,
          8.666666666666666,
          11.666666666666666,
          6.333333333333333,
          6,
          3.6666666666666665,
          3.3333333333333335
         ],
         "yaxis": "y2"
        }
       ],
       "layout": {
        "height": 350,
        "margin": {
         "b": 20,
         "l": 20,
         "r": 20,
         "t": 50
        },
        "template": {
         "data": {
          "bar": [
           {
            "error_x": {
             "color": "#2a3f5f"
            },
            "error_y": {
             "color": "#2a3f5f"
            },
            "marker": {
             "line": {
              "color": "#E5ECF6",
              "width": 0.5
             }
            },
            "type": "bar"
           }
          ],
          "barpolar": [
           {
            "marker": {
             "line": {
              "color": "#E5ECF6",
              "width": 0.5
             }
            },
            "type": "barpolar"
           }
          ],
          "carpet": [
           {
            "aaxis": {
             "endlinecolor": "#2a3f5f",
             "gridcolor": "white",
             "linecolor": "white",
             "minorgridcolor": "white",
             "startlinecolor": "#2a3f5f"
            },
            "baxis": {
             "endlinecolor": "#2a3f5f",
             "gridcolor": "white",
             "linecolor": "white",
             "minorgridcolor": "white",
             "startlinecolor": "#2a3f5f"
            },
            "type": "carpet"
           }
          ],
          "choropleth": [
           {
            "colorbar": {
             "outlinewidth": 0,
             "ticks": ""
            },
            "type": "choropleth"
           }
          ],
          "contour": [
           {
            "colorbar": {
             "outlinewidth": 0,
             "ticks": ""
            },
            "colorscale": [
             [
              0,
              "#0d0887"
             ],
             [
              0.1111111111111111,
              "#46039f"
             ],
             [
              0.2222222222222222,
              "#7201a8"
             ],
             [
              0.3333333333333333,
              "#9c179e"
             ],
             [
              0.4444444444444444,
              "#bd3786"
             ],
             [
              0.5555555555555556,
              "#d8576b"
             ],
             [
              0.6666666666666666,
              "#ed7953"
             ],
             [
              0.7777777777777778,
              "#fb9f3a"
             ],
             [
              0.8888888888888888,
              "#fdca26"
             ],
             [
              1,
              "#f0f921"
             ]
            ],
            "type": "contour"
           }
          ],
          "contourcarpet": [
           {
            "colorbar": {
             "outlinewidth": 0,
             "ticks": ""
            },
            "type": "contourcarpet"
           }
          ],
          "heatmap": [
           {
            "colorbar": {
             "outlinewidth": 0,
             "ticks": ""
            },
            "colorscale": [
             [
              0,
              "#0d0887"
             ],
             [
              0.1111111111111111,
              "#46039f"
             ],
             [
              0.2222222222222222,
              "#7201a8"
             ],
             [
              0.3333333333333333,
              "#9c179e"
             ],
             [
              0.4444444444444444,
              "#bd3786"
             ],
             [
              0.5555555555555556,
              "#d8576b"
             ],
             [
              0.6666666666666666,
              "#ed7953"
             ],
             [
              0.7777777777777778,
              "#fb9f3a"
             ],
             [
              0.8888888888888888,
              "#fdca26"
             ],
             [
              1,
              "#f0f921"
             ]
            ],
            "type": "heatmap"
           }
          ],
          "heatmapgl": [
           {
            "colorbar": {
             "outlinewidth": 0,
             "ticks": ""
            },
            "colorscale": [
             [
              0,
              "#0d0887"
             ],
             [
              0.1111111111111111,
              "#46039f"
             ],
             [
              0.2222222222222222,
              "#7201a8"
             ],
             [
              0.3333333333333333,
              "#9c179e"
             ],
             [
              0.4444444444444444,
              "#bd3786"
             ],
             [
              0.5555555555555556,
              "#d8576b"
             ],
             [
              0.6666666666666666,
              "#ed7953"
             ],
             [
              0.7777777777777778,
              "#fb9f3a"
             ],
             [
              0.8888888888888888,
              "#fdca26"
             ],
             [
              1,
              "#f0f921"
             ]
            ],
            "type": "heatmapgl"
           }
          ],
          "histogram": [
           {
            "marker": {
             "colorbar": {
              "outlinewidth": 0,
              "ticks": ""
             }
            },
            "type": "histogram"
           }
          ],
          "histogram2d": [
           {
            "colorbar": {
             "outlinewidth": 0,
             "ticks": ""
            },
            "colorscale": [
             [
              0,
              "#0d0887"
             ],
             [
              0.1111111111111111,
              "#46039f"
             ],
             [
              0.2222222222222222,
              "#7201a8"
             ],
             [
              0.3333333333333333,
              "#9c179e"
             ],
             [
              0.4444444444444444,
              "#bd3786"
             ],
             [
              0.5555555555555556,
              "#d8576b"
             ],
             [
              0.6666666666666666,
              "#ed7953"
             ],
             [
              0.7777777777777778,
              "#fb9f3a"
             ],
             [
              0.8888888888888888,
              "#fdca26"
             ],
             [
              1,
              "#f0f921"
             ]
            ],
            "type": "histogram2d"
           }
          ],
          "histogram2dcontour": [
           {
            "colorbar": {
             "outlinewidth": 0,
             "ticks": ""
            },
            "colorscale": [
             [
              0,
              "#0d0887"
             ],
             [
              0.1111111111111111,
              "#46039f"
             ],
             [
              0.2222222222222222,
              "#7201a8"
             ],
             [
              0.3333333333333333,
              "#9c179e"
             ],
             [
              0.4444444444444444,
              "#bd3786"
             ],
             [
              0.5555555555555556,
              "#d8576b"
             ],
             [
              0.6666666666666666,
              "#ed7953"
             ],
             [
              0.7777777777777778,
              "#fb9f3a"
             ],
             [
              0.8888888888888888,
              "#fdca26"
             ],
             [
              1,
              "#f0f921"
             ]
            ],
            "type": "histogram2dcontour"
           }
          ],
          "mesh3d": [
           {
            "colorbar": {
             "outlinewidth": 0,
             "ticks": ""
            },
            "type": "mesh3d"
           }
          ],
          "parcoords": [
           {
            "line": {
             "colorbar": {
              "outlinewidth": 0,
              "ticks": ""
             }
            },
            "type": "parcoords"
           }
          ],
          "pie": [
           {
            "automargin": true,
            "type": "pie"
           }
          ],
          "scatter": [
           {
            "marker": {
             "colorbar": {
              "outlinewidth": 0,
              "ticks": ""
             }
            },
            "type": "scatter"
           }
          ],
          "scatter3d": [
           {
            "line": {
             "colorbar": {
              "outlinewidth": 0,
              "ticks": ""
             }
            },
            "marker": {
             "colorbar": {
              "outlinewidth": 0,
              "ticks": ""
             }
            },
            "type": "scatter3d"
           }
          ],
          "scattercarpet": [
           {
            "marker": {
             "colorbar": {
              "outlinewidth": 0,
              "ticks": ""
             }
            },
            "type": "scattercarpet"
           }
          ],
          "scattergeo": [
           {
            "marker": {
             "colorbar": {
              "outlinewidth": 0,
              "ticks": ""
             }
            },
            "type": "scattergeo"
           }
          ],
          "scattergl": [
           {
            "marker": {
             "colorbar": {
              "outlinewidth": 0,
              "ticks": ""
             }
            },
            "type": "scattergl"
           }
          ],
          "scattermapbox": [
           {
            "marker": {
             "colorbar": {
              "outlinewidth": 0,
              "ticks": ""
             }
            },
            "type": "scattermapbox"
           }
          ],
          "scatterpolar": [
           {
            "marker": {
             "colorbar": {
              "outlinewidth": 0,
              "ticks": ""
             }
            },
            "type": "scatterpolar"
           }
          ],
          "scatterpolargl": [
           {
            "marker": {
             "colorbar": {
              "outlinewidth": 0,
              "ticks": ""
             }
            },
            "type": "scatterpolargl"
           }
          ],
          "scatterternary": [
           {
            "marker": {
             "colorbar": {
              "outlinewidth": 0,
              "ticks": ""
             }
            },
            "type": "scatterternary"
           }
          ],
          "surface": [
           {
            "colorbar": {
             "outlinewidth": 0,
             "ticks": ""
            },
            "colorscale": [
             [
              0,
              "#0d0887"
             ],
             [
              0.1111111111111111,
              "#46039f"
             ],
             [
              0.2222222222222222,
              "#7201a8"
             ],
             [
              0.3333333333333333,
              "#9c179e"
             ],
             [
              0.4444444444444444,
              "#bd3786"
             ],
             [
              0.5555555555555556,
              "#d8576b"
             ],
             [
              0.6666666666666666,
              "#ed7953"
             ],
             [
              0.7777777777777778,
              "#fb9f3a"
             ],
             [
              0.8888888888888888,
              "#fdca26"
             ],
             [
              1,
              "#f0f921"
             ]
            ],
            "type": "surface"
           }
          ],
          "table": [
           {
            "cells": {
             "fill": {
              "color": "#EBF0F8"
             },
             "line": {
              "color": "white"
             }
            },
            "header": {
             "fill": {
              "color": "#C8D4E3"
             },
             "line": {
              "color": "white"
             }
            },
            "type": "table"
           }
          ]
         },
         "layout": {
          "annotationdefaults": {
           "arrowcolor": "#2a3f5f",
           "arrowhead": 0,
           "arrowwidth": 1
          },
          "coloraxis": {
           "colorbar": {
            "outlinewidth": 0,
            "ticks": ""
           }
          },
          "colorscale": {
           "diverging": [
            [
             0,
             "#8e0152"
            ],
            [
             0.1,
             "#c51b7d"
            ],
            [
             0.2,
             "#de77ae"
            ],
            [
             0.3,
             "#f1b6da"
            ],
            [
             0.4,
             "#fde0ef"
            ],
            [
             0.5,
             "#f7f7f7"
            ],
            [
             0.6,
             "#e6f5d0"
            ],
            [
             0.7,
             "#b8e186"
            ],
            [
             0.8,
             "#7fbc41"
            ],
            [
             0.9,
             "#4d9221"
            ],
            [
             1,
             "#276419"
            ]
           ],
           "sequential": [
            [
             0,
             "#0d0887"
            ],
            [
             0.1111111111111111,
             "#46039f"
            ],
            [
             0.2222222222222222,
             "#7201a8"
            ],
            [
             0.3333333333333333,
             "#9c179e"
            ],
            [
             0.4444444444444444,
             "#bd3786"
            ],
            [
             0.5555555555555556,
             "#d8576b"
            ],
            [
             0.6666666666666666,
             "#ed7953"
            ],
            [
             0.7777777777777778,
             "#fb9f3a"
            ],
            [
             0.8888888888888888,
             "#fdca26"
            ],
            [
             1,
             "#f0f921"
            ]
           ],
           "sequentialminus": [
            [
             0,
             "#0d0887"
            ],
            [
             0.1111111111111111,
             "#46039f"
            ],
            [
             0.2222222222222222,
             "#7201a8"
            ],
            [
             0.3333333333333333,
             "#9c179e"
            ],
            [
             0.4444444444444444,
             "#bd3786"
            ],
            [
             0.5555555555555556,
             "#d8576b"
            ],
            [
             0.6666666666666666,
             "#ed7953"
            ],
            [
             0.7777777777777778,
             "#fb9f3a"
            ],
            [
             0.8888888888888888,
             "#fdca26"
            ],
            [
             1,
             "#f0f921"
            ]
           ]
          },
          "colorway": [
           "#636efa",
           "#EF553B",
           "#00cc96",
           "#ab63fa",
           "#FFA15A",
           "#19d3f3",
           "#FF6692",
           "#B6E880",
           "#FF97FF",
           "#FECB52"
          ],
          "font": {
           "color": "#2a3f5f"
          },
          "geo": {
           "bgcolor": "white",
           "lakecolor": "white",
           "landcolor": "#E5ECF6",
           "showlakes": true,
           "showland": true,
           "subunitcolor": "white"
          },
          "hoverlabel": {
           "align": "left"
          },
          "hovermode": "closest",
          "mapbox": {
           "style": "light"
          },
          "paper_bgcolor": "white",
          "plot_bgcolor": "#E5ECF6",
          "polar": {
           "angularaxis": {
            "gridcolor": "white",
            "linecolor": "white",
            "ticks": ""
           },
           "bgcolor": "#E5ECF6",
           "radialaxis": {
            "gridcolor": "white",
            "linecolor": "white",
            "ticks": ""
           }
          },
          "scene": {
           "xaxis": {
            "backgroundcolor": "#E5ECF6",
            "gridcolor": "white",
            "gridwidth": 2,
            "linecolor": "white",
            "showbackground": true,
            "ticks": "",
            "zerolinecolor": "white"
           },
           "yaxis": {
            "backgroundcolor": "#E5ECF6",
            "gridcolor": "white",
            "gridwidth": 2,
            "linecolor": "white",
            "showbackground": true,
            "ticks": "",
            "zerolinecolor": "white"
           },
           "zaxis": {
            "backgroundcolor": "#E5ECF6",
            "gridcolor": "white",
            "gridwidth": 2,
            "linecolor": "white",
            "showbackground": true,
            "ticks": "",
            "zerolinecolor": "white"
           }
          },
          "shapedefaults": {
           "line": {
            "color": "#2a3f5f"
           }
          },
          "ternary": {
           "aaxis": {
            "gridcolor": "white",
            "linecolor": "white",
            "ticks": ""
           },
           "baxis": {
            "gridcolor": "white",
            "linecolor": "white",
            "ticks": ""
           },
           "bgcolor": "#E5ECF6",
           "caxis": {
            "gridcolor": "white",
            "linecolor": "white",
            "ticks": ""
           }
          },
          "title": {
           "x": 0.05
          },
          "xaxis": {
           "automargin": true,
           "gridcolor": "white",
           "linecolor": "white",
           "ticks": "",
           "title": {
            "standoff": 15
           },
           "zerolinecolor": "white",
           "zerolinewidth": 2
          },
          "yaxis": {
           "automargin": true,
           "gridcolor": "white",
           "linecolor": "white",
           "ticks": "",
           "title": {
            "standoff": 15
           },
           "zerolinecolor": "white",
           "zerolinewidth": 2
          }
         }
        },
        "xaxis": {
         "anchor": "y",
         "domain": [
          0,
          0.45
         ],
         "linecolor": "black",
         "linewidth": 1.5,
         "mirror": true,
         "showline": true,
         "title": {
          "text": "Day of Year"
         }
        },
        "xaxis2": {
         "anchor": "y2",
         "domain": [
          0.55,
          1
         ],
         "linecolor": "black",
         "linewidth": 1.5,
         "mirror": true,
         "showline": true,
         "title": {
          "text": "Day of Year"
         }
        },
        "yaxis": {
         "anchor": "x",
         "domain": [
          0,
          1
         ],
         "linecolor": "black",
         "linewidth": 1.5,
         "mirror": true,
         "showline": true,
         "title": {
          "text": "Cumulative Case Count Over Time"
         }
        },
        "yaxis2": {
         "anchor": "x2",
         "domain": [
          0,
          1
         ],
         "linecolor": "black",
         "linewidth": 1.5,
         "mirror": true,
         "showline": true,
         "title": {
          "text": "Daily Incidence Over Time"
         }
        }
       }
      },
      "text/html": [
       "<div>\n",
       "        \n",
       "        \n",
       "            <div id=\"fee0038f-e1ba-45c4-8bf7-1cc8cac1371c\" class=\"plotly-graph-div\" style=\"height:350px; width:100%;\"></div>\n",
       "            <script type=\"text/javascript\">\n",
       "                require([\"plotly\"], function(Plotly) {\n",
       "                    window.PLOTLYENV=window.PLOTLYENV || {};\n",
       "                    \n",
       "                if (document.getElementById(\"fee0038f-e1ba-45c4-8bf7-1cc8cac1371c\")) {\n",
       "                    Plotly.newPlot(\n",
       "                        'fee0038f-e1ba-45c4-8bf7-1cc8cac1371c',\n",
       "                        [{\"line\": {\"color\": \"rgb(31, 119, 180)\"}, \"mode\": \"lines\", \"name\": \"CA\", \"showlegend\": true, \"type\": \"scatter\", \"x\": [124, 123, 122, 121, 120, 119, 118, 117, 116, 115, 114, 113, 112, 111, 110, 109, 108, 107, 106, 105, 104, 103, 102, 101, 100, 99, 98, 97, 96, 95, 94, 93, 92, 91, 90, 89, 88, 87, 86, 85, 84, 83, 82, 81, 80, 79, 78, 77, 76, 75, 74, 73, 72, 71, 70, 69, 68, 67, 66], \"xaxis\": \"x\", \"y\": [53616.0, 52197.0, 50442.0, 48917.0, 46500.0, 45031.0, 43464.0, 42164.0, 41137.0, 39254.0, 37369.0, 35396.0, 33261.0, 30978.0, 30333.0, 28963.0, 27528.0, 26182.0, 24424.0, 23338.0, 22348.0, 21794.0, 19472.0, 19472.0, 18309.0, 16957.0, 15865.0, 14336.0, 13438.0, 12026.0, 10701.0, 9191.0, 8155.0, 7482.0, 6447.0, 5708.0, 4643.0, 3879.0, 3006.0, 2355.0, 2102.0, 1733.0, 1536.0, 1279.0, 1063.0, 924.0, 611.0, 483.0, 335.0, 293.0, 252.0, 202.0, 202.0, 157.0, 133.0, 114.0, 88.0, 69.0, 60.0], \"yaxis\": \"y\"}, {\"line\": {\"color\": \"rgb(31, 119, 180)\"}, \"mode\": \"lines\", \"name\": \"CA\", \"showlegend\": false, \"type\": \"scatter\", \"x\": [124, 123, 122, 121, 120, 119, 118, 117, 116, 115, 114, 113, 112, 111, 110, 109, 108, 107, 106, 105, 104, 103, 102, 101, 100, 99, 98, 97, 96, 95, 94, 93, 92, 91, 90, 89, 88, 87, 86, 85, 84, 83, 82, 81, 80, 79, 78, 77, 76, 75, 74, 73, 72, 71, 70, 69, 68, 67, 66], \"xaxis\": \"x2\", \"y\": [1566.3333333333333, 1899.0, 1803.6666666666667, 1817.6666666666667, 1445.3333333333333, 1298.0, 1403.3333333333333, 1598.3333333333333, 1913.6666666666667, 1997.6666666666667, 2130.3333333333335, 1687.6666666666667, 1432.6666666666667, 1150.0, 1383.6666666666667, 1513.0, 1396.6666666666667, 1278.0, 876.6666666666666, 1288.6666666666667, 958.6666666666666, 1161.6666666666667, 838.3333333333334, 1202.3333333333333, 1324.3333333333333, 1173.0, 1279.6666666666667, 1211.6666666666667, 1415.6666666666667, 1290.3333333333333, 1073.0, 914.6666666666666, 815.6666666666666, 946.3333333333334, 856.0, 900.6666666666666, 762.6666666666666, 592.3333333333334, 424.3333333333333, 273.0, 274.3333333333333, 223.33333333333334, 204.0, 222.66666666666666, 193.33333333333334, 196.33333333333334, 106.0, 77.0, 44.333333333333336, 30.333333333333332, 31.666666666666668, 23.0, 29.333333333333332, 23.0, 21.333333333333332, 18.0], \"yaxis\": \"y2\"}, {\"line\": {\"color\": \"rgb(255, 127, 14)\"}, \"mode\": \"lines\", \"name\": \"NY\", \"showlegend\": true, \"type\": \"scatter\", \"x\": [124, 123, 122, 121, 120, 119, 118, 117, 116, 115, 114, 113, 112, 111, 110, 109, 108, 107, 106, 105, 104, 103, 102, 101, 100, 99, 98, 97, 96, 95, 94, 93, 92, 91, 90, 89, 88, 87, 86, 85, 84, 83, 82, 81, 80, 79, 78, 77, 76, 75, 74, 73, 72, 71, 70, 69, 68, 67, 66], \"xaxis\": \"x\", \"y\": [316415.0, 312977.0, 308314.0, 304372.0, 299691.0, 295106.0, 291996.0, 288045.0, 282143.0, 271590.0, 263460.0, 257216.0, 251690.0, 247512.0, 242786.0, 236732.0, 229642.0, 222284.0, 213779.0, 202208.0, 195031.0, 188694.0, 180458.0, 170512.0, 159937.0, 149316.0, 138863.0, 130689.0, 122031.0, 113704.0, 102863.0, 92381.0, 83712.0, 75795.0, 66497.0, 59513.0, 52318.0, 44635.0, 37258.0, 30811.0, 25665.0, 20875.0, 15168.0, 10356.0, 7102.0, 4152.0, 2382.0, 1700.0, 950.0, 729.0, 524.0, 421.0, 216.0, 216.0, 173.0, 142.0, 105.0, 76.0, 33.0], \"yaxis\": \"y\"}, {\"line\": {\"color\": \"rgb(255, 127, 14)\"}, \"mode\": \"lines\", \"name\": \"NY\", \"showlegend\": false, \"type\": \"scatter\", \"x\": [124, 123, 122, 121, 120, 119, 118, 117, 116, 115, 114, 113, 112, 111, 110, 109, 108, 107, 106, 105, 104, 103, 102, 101, 100, 99, 98, 97, 96, 95, 94, 93, 92, 91, 90, 89, 88, 87, 86, 85, 84, 83, 82, 81, 80, 79, 78, 77, 76, 75, 74, 73, 72, 71, 70, 69, 68, 67, 66], \"xaxis\": \"x2\", \"y\": [4014.3333333333335, 4428.666666666667, 4402.666666666667, 4125.333333333333, 3882.0, 4321.0, 6802.0, 8195.0, 8309.0, 6633.333333333333, 5316.0, 4810.0, 4986.0, 5956.666666666667, 6834.0, 7651.0, 9144.666666666666, 9084.333333333334, 8361.666666666666, 7250.0, 8173.0, 9585.666666666666, 10380.666666666666, 10549.666666666666, 9749.333333333334, 9095.0, 8386.333333333334, 9275.333333333334, 9883.333333333334, 9997.333333333334, 9022.666666666666, 8628.0, 8066.333333333333, 7825.666666666667, 7287.333333333333, 7418.333333333333, 7169.0, 6323.333333333333, 5461.0, 5214.333333333333, 5103.0, 4591.0, 3672.0, 2658.0, 1800.6666666666667, 1067.3333333333333, 551.0, 392.0, 176.33333333333334, 171.0, 102.66666666666667, 82.66666666666667, 24.666666666666668, 37.0, 32.333333333333336, 36.333333333333336], \"yaxis\": \"y2\"}, {\"line\": {\"color\": \"rgb(44, 160, 44)\"}, \"mode\": \"lines\", \"name\": \"NJ\", \"showlegend\": true, \"type\": \"scatter\", \"x\": [124, 123, 122, 121, 120, 119, 118, 117, 116, 115, 114, 113, 112, 111, 110, 109, 108, 107, 106, 105, 104, 103, 102, 101, 100, 99, 98, 97, 96, 95, 94, 93, 92, 91, 90, 89, 88, 87, 86, 85, 84, 83, 82, 81, 80, 79, 78, 77, 76, 75, 74, 73, 72, 71, 70, 69, 68, 67, 66], \"xaxis\": \"x\", \"y\": [126744.0, 123717.0, 121190.0, 118652.0, 116264.0, 113856.0, 111188.0, 109038.0, 105523.0, 102196.0, 99989.0, 95865.0, 92387.0, 88806.0, 85301.0, 81420.0, 78467.0, 75317.0, 71030.0, 68824.0, 64584.0, 61850.0, 58151.0, 54588.0, 51027.0, 47437.0, 44416.0, 41090.0, 37505.0, 34124.0, 29895.0, 25590.0, 22255.0, 18696.0, 16636.0, 13386.0, 11124.0, 8825.0, 6876.0, 4402.0, 3675.0, 2844.0, 1914.0, 1327.0, 890.0, 742.0, 427.0, 267.0, 178.0, 98.0, 50.0, 50.0, 30.0, 24.0, 15.0, 11.0, 6.0, 4.0, 1.0], \"yaxis\": \"y\"}, {\"line\": {\"color\": \"rgb(44, 160, 44)\"}, \"mode\": \"lines\", \"name\": \"NJ\", \"showlegend\": false, \"type\": \"scatter\", \"x\": [124, 123, 122, 121, 120, 119, 118, 117, 116, 115, 114, 113, 112, 111, 110, 109, 108, 107, 106, 105, 104, 103, 102, 101, 100, 99, 98, 97, 96, 95, 94, 93, 92, 91, 90, 89, 88, 87, 86, 85, 84, 83, 82, 81, 80, 79, 78, 77, 76, 75, 74, 73, 72, 71, 70, 69, 68, 67, 66], \"xaxis\": \"x2\", \"y\": [2697.3333333333335, 2484.3333333333335, 2444.6666666666665, 2488.0, 2408.6666666666665, 2777.6666666666665, 2997.3333333333335, 3016.3333333333335, 3219.3333333333335, 3269.6666666666665, 3727.6666666666665, 3521.3333333333335, 3655.6666666666665, 3446.3333333333335, 3328.0, 3463.3333333333335, 3214.3333333333335, 3577.6666666666665, 3060.0, 3557.6666666666665, 3332.0, 3607.6666666666665, 3571.3333333333335, 3390.6666666666665, 3312.3333333333335, 3310.6666666666665, 3430.6666666666665, 3731.6666666666665, 3971.6666666666665, 3956.3333333333335, 3733.0, 2984.6666666666665, 2956.3333333333335, 2524.0, 2603.6666666666665, 2170.0, 2240.6666666666665, 1716.6666666666667, 1344.0, 829.3333333333334, 782.6666666666666, 651.3333333333334, 390.6666666666667, 300.0, 207.66666666666666, 188.0, 109.66666666666667, 72.33333333333333, 42.666666666666664, 22.666666666666668, 8.666666666666666, 11.666666666666666, 6.333333333333333, 6.0, 3.6666666666666665, 3.3333333333333335], \"yaxis\": \"y2\"}],\n",
       "                        {\"height\": 350, \"margin\": {\"b\": 20, \"l\": 20, \"r\": 20, \"t\": 50}, \"template\": {\"data\": {\"bar\": [{\"error_x\": {\"color\": \"#2a3f5f\"}, \"error_y\": {\"color\": \"#2a3f5f\"}, \"marker\": {\"line\": {\"color\": \"#E5ECF6\", \"width\": 0.5}}, \"type\": \"bar\"}], \"barpolar\": [{\"marker\": {\"line\": {\"color\": \"#E5ECF6\", \"width\": 0.5}}, \"type\": \"barpolar\"}], \"carpet\": [{\"aaxis\": {\"endlinecolor\": \"#2a3f5f\", \"gridcolor\": \"white\", \"linecolor\": \"white\", \"minorgridcolor\": \"white\", \"startlinecolor\": \"#2a3f5f\"}, \"baxis\": {\"endlinecolor\": \"#2a3f5f\", \"gridcolor\": \"white\", \"linecolor\": \"white\", \"minorgridcolor\": \"white\", \"startlinecolor\": \"#2a3f5f\"}, \"type\": \"carpet\"}], \"choropleth\": [{\"colorbar\": {\"outlinewidth\": 0, \"ticks\": \"\"}, \"type\": \"choropleth\"}], \"contour\": [{\"colorbar\": {\"outlinewidth\": 0, \"ticks\": \"\"}, \"colorscale\": [[0.0, \"#0d0887\"], [0.1111111111111111, \"#46039f\"], [0.2222222222222222, \"#7201a8\"], [0.3333333333333333, \"#9c179e\"], [0.4444444444444444, \"#bd3786\"], [0.5555555555555556, \"#d8576b\"], [0.6666666666666666, \"#ed7953\"], [0.7777777777777778, \"#fb9f3a\"], [0.8888888888888888, \"#fdca26\"], [1.0, \"#f0f921\"]], \"type\": \"contour\"}], \"contourcarpet\": [{\"colorbar\": {\"outlinewidth\": 0, \"ticks\": \"\"}, \"type\": \"contourcarpet\"}], \"heatmap\": [{\"colorbar\": {\"outlinewidth\": 0, \"ticks\": \"\"}, \"colorscale\": [[0.0, \"#0d0887\"], [0.1111111111111111, \"#46039f\"], [0.2222222222222222, \"#7201a8\"], [0.3333333333333333, \"#9c179e\"], [0.4444444444444444, \"#bd3786\"], [0.5555555555555556, \"#d8576b\"], [0.6666666666666666, \"#ed7953\"], [0.7777777777777778, \"#fb9f3a\"], [0.8888888888888888, \"#fdca26\"], [1.0, \"#f0f921\"]], \"type\": \"heatmap\"}], \"heatmapgl\": [{\"colorbar\": {\"outlinewidth\": 0, \"ticks\": \"\"}, \"colorscale\": [[0.0, \"#0d0887\"], [0.1111111111111111, \"#46039f\"], [0.2222222222222222, \"#7201a8\"], [0.3333333333333333, \"#9c179e\"], [0.4444444444444444, \"#bd3786\"], [0.5555555555555556, \"#d8576b\"], [0.6666666666666666, \"#ed7953\"], [0.7777777777777778, \"#fb9f3a\"], [0.8888888888888888, \"#fdca26\"], [1.0, \"#f0f921\"]], \"type\": \"heatmapgl\"}], \"histogram\": [{\"marker\": {\"colorbar\": {\"outlinewidth\": 0, \"ticks\": \"\"}}, \"type\": \"histogram\"}], \"histogram2d\": [{\"colorbar\": {\"outlinewidth\": 0, \"ticks\": \"\"}, \"colorscale\": [[0.0, \"#0d0887\"], [0.1111111111111111, \"#46039f\"], [0.2222222222222222, \"#7201a8\"], [0.3333333333333333, \"#9c179e\"], [0.4444444444444444, \"#bd3786\"], [0.5555555555555556, \"#d8576b\"], [0.6666666666666666, \"#ed7953\"], [0.7777777777777778, \"#fb9f3a\"], [0.8888888888888888, \"#fdca26\"], [1.0, \"#f0f921\"]], \"type\": \"histogram2d\"}], \"histogram2dcontour\": [{\"colorbar\": {\"outlinewidth\": 0, \"ticks\": \"\"}, \"colorscale\": [[0.0, \"#0d0887\"], [0.1111111111111111, \"#46039f\"], [0.2222222222222222, \"#7201a8\"], [0.3333333333333333, \"#9c179e\"], [0.4444444444444444, \"#bd3786\"], [0.5555555555555556, \"#d8576b\"], [0.6666666666666666, \"#ed7953\"], [0.7777777777777778, \"#fb9f3a\"], [0.8888888888888888, \"#fdca26\"], [1.0, \"#f0f921\"]], \"type\": \"histogram2dcontour\"}], \"mesh3d\": [{\"colorbar\": {\"outlinewidth\": 0, \"ticks\": \"\"}, \"type\": \"mesh3d\"}], \"parcoords\": [{\"line\": {\"colorbar\": {\"outlinewidth\": 0, \"ticks\": \"\"}}, \"type\": \"parcoords\"}], \"pie\": [{\"automargin\": true, \"type\": \"pie\"}], \"scatter\": [{\"marker\": {\"colorbar\": {\"outlinewidth\": 0, \"ticks\": \"\"}}, \"type\": \"scatter\"}], \"scatter3d\": [{\"line\": {\"colorbar\": {\"outlinewidth\": 0, \"ticks\": \"\"}}, \"marker\": {\"colorbar\": {\"outlinewidth\": 0, \"ticks\": \"\"}}, \"type\": \"scatter3d\"}], \"scattercarpet\": [{\"marker\": {\"colorbar\": {\"outlinewidth\": 0, \"ticks\": \"\"}}, \"type\": \"scattercarpet\"}], \"scattergeo\": [{\"marker\": {\"colorbar\": {\"outlinewidth\": 0, \"ticks\": \"\"}}, \"type\": \"scattergeo\"}], \"scattergl\": [{\"marker\": {\"colorbar\": {\"outlinewidth\": 0, \"ticks\": \"\"}}, \"type\": \"scattergl\"}], \"scattermapbox\": [{\"marker\": {\"colorbar\": {\"outlinewidth\": 0, \"ticks\": \"\"}}, \"type\": \"scattermapbox\"}], \"scatterpolar\": [{\"marker\": {\"colorbar\": {\"outlinewidth\": 0, \"ticks\": \"\"}}, \"type\": \"scatterpolar\"}], \"scatterpolargl\": [{\"marker\": {\"colorbar\": {\"outlinewidth\": 0, \"ticks\": \"\"}}, \"type\": \"scatterpolargl\"}], \"scatterternary\": [{\"marker\": {\"colorbar\": {\"outlinewidth\": 0, \"ticks\": \"\"}}, \"type\": \"scatterternary\"}], \"surface\": [{\"colorbar\": {\"outlinewidth\": 0, \"ticks\": \"\"}, \"colorscale\": [[0.0, \"#0d0887\"], [0.1111111111111111, \"#46039f\"], [0.2222222222222222, \"#7201a8\"], [0.3333333333333333, \"#9c179e\"], [0.4444444444444444, \"#bd3786\"], [0.5555555555555556, \"#d8576b\"], [0.6666666666666666, \"#ed7953\"], [0.7777777777777778, \"#fb9f3a\"], [0.8888888888888888, \"#fdca26\"], [1.0, \"#f0f921\"]], \"type\": \"surface\"}], \"table\": [{\"cells\": {\"fill\": {\"color\": \"#EBF0F8\"}, \"line\": {\"color\": \"white\"}}, \"header\": {\"fill\": {\"color\": \"#C8D4E3\"}, \"line\": {\"color\": \"white\"}}, \"type\": \"table\"}]}, \"layout\": {\"annotationdefaults\": {\"arrowcolor\": \"#2a3f5f\", \"arrowhead\": 0, \"arrowwidth\": 1}, \"coloraxis\": {\"colorbar\": {\"outlinewidth\": 0, \"ticks\": \"\"}}, \"colorscale\": {\"diverging\": [[0, \"#8e0152\"], [0.1, \"#c51b7d\"], [0.2, \"#de77ae\"], [0.3, \"#f1b6da\"], [0.4, \"#fde0ef\"], [0.5, \"#f7f7f7\"], [0.6, \"#e6f5d0\"], [0.7, \"#b8e186\"], [0.8, \"#7fbc41\"], [0.9, \"#4d9221\"], [1, \"#276419\"]], \"sequential\": [[0.0, \"#0d0887\"], [0.1111111111111111, \"#46039f\"], [0.2222222222222222, \"#7201a8\"], [0.3333333333333333, \"#9c179e\"], [0.4444444444444444, \"#bd3786\"], [0.5555555555555556, \"#d8576b\"], [0.6666666666666666, \"#ed7953\"], [0.7777777777777778, \"#fb9f3a\"], [0.8888888888888888, \"#fdca26\"], [1.0, \"#f0f921\"]], \"sequentialminus\": [[0.0, \"#0d0887\"], [0.1111111111111111, \"#46039f\"], [0.2222222222222222, \"#7201a8\"], [0.3333333333333333, \"#9c179e\"], [0.4444444444444444, \"#bd3786\"], [0.5555555555555556, \"#d8576b\"], [0.6666666666666666, \"#ed7953\"], [0.7777777777777778, \"#fb9f3a\"], [0.8888888888888888, \"#fdca26\"], [1.0, \"#f0f921\"]]}, \"colorway\": [\"#636efa\", \"#EF553B\", \"#00cc96\", \"#ab63fa\", \"#FFA15A\", \"#19d3f3\", \"#FF6692\", \"#B6E880\", \"#FF97FF\", \"#FECB52\"], \"font\": {\"color\": \"#2a3f5f\"}, \"geo\": {\"bgcolor\": \"white\", \"lakecolor\": \"white\", \"landcolor\": \"#E5ECF6\", \"showlakes\": true, \"showland\": true, \"subunitcolor\": \"white\"}, \"hoverlabel\": {\"align\": \"left\"}, \"hovermode\": \"closest\", \"mapbox\": {\"style\": \"light\"}, \"paper_bgcolor\": \"white\", \"plot_bgcolor\": \"#E5ECF6\", \"polar\": {\"angularaxis\": {\"gridcolor\": \"white\", \"linecolor\": \"white\", \"ticks\": \"\"}, \"bgcolor\": \"#E5ECF6\", \"radialaxis\": {\"gridcolor\": \"white\", \"linecolor\": \"white\", \"ticks\": \"\"}}, \"scene\": {\"xaxis\": {\"backgroundcolor\": \"#E5ECF6\", \"gridcolor\": \"white\", \"gridwidth\": 2, \"linecolor\": \"white\", \"showbackground\": true, \"ticks\": \"\", \"zerolinecolor\": \"white\"}, \"yaxis\": {\"backgroundcolor\": \"#E5ECF6\", \"gridcolor\": \"white\", \"gridwidth\": 2, \"linecolor\": \"white\", \"showbackground\": true, \"ticks\": \"\", \"zerolinecolor\": \"white\"}, \"zaxis\": {\"backgroundcolor\": \"#E5ECF6\", \"gridcolor\": \"white\", \"gridwidth\": 2, \"linecolor\": \"white\", \"showbackground\": true, \"ticks\": \"\", \"zerolinecolor\": \"white\"}}, \"shapedefaults\": {\"line\": {\"color\": \"#2a3f5f\"}}, \"ternary\": {\"aaxis\": {\"gridcolor\": \"white\", \"linecolor\": \"white\", \"ticks\": \"\"}, \"baxis\": {\"gridcolor\": \"white\", \"linecolor\": \"white\", \"ticks\": \"\"}, \"bgcolor\": \"#E5ECF6\", \"caxis\": {\"gridcolor\": \"white\", \"linecolor\": \"white\", \"ticks\": \"\"}}, \"title\": {\"x\": 0.05}, \"xaxis\": {\"automargin\": true, \"gridcolor\": \"white\", \"linecolor\": \"white\", \"ticks\": \"\", \"title\": {\"standoff\": 15}, \"zerolinecolor\": \"white\", \"zerolinewidth\": 2}, \"yaxis\": {\"automargin\": true, \"gridcolor\": \"white\", \"linecolor\": \"white\", \"ticks\": \"\", \"title\": {\"standoff\": 15}, \"zerolinecolor\": \"white\", \"zerolinewidth\": 2}}}, \"xaxis\": {\"anchor\": \"y\", \"domain\": [0.0, 0.45], \"linecolor\": \"black\", \"linewidth\": 1.5, \"mirror\": true, \"showline\": true, \"title\": {\"text\": \"Day of Year\"}}, \"xaxis2\": {\"anchor\": \"y2\", \"domain\": [0.55, 1.0], \"linecolor\": \"black\", \"linewidth\": 1.5, \"mirror\": true, \"showline\": true, \"title\": {\"text\": \"Day of Year\"}}, \"yaxis\": {\"anchor\": \"x\", \"domain\": [0.0, 1.0], \"linecolor\": \"black\", \"linewidth\": 1.5, \"mirror\": true, \"showline\": true, \"title\": {\"text\": \"Cumulative Case Count Over Time\"}}, \"yaxis2\": {\"anchor\": \"x2\", \"domain\": [0.0, 1.0], \"linecolor\": \"black\", \"linewidth\": 1.5, \"mirror\": true, \"showline\": true, \"title\": {\"text\": \"Daily Incidence Over Time\"}}},\n",
       "                        {\"responsive\": true}\n",
       "                    ).then(function(){\n",
       "                            \n",
       "var gd = document.getElementById('fee0038f-e1ba-45c4-8bf7-1cc8cac1371c');\n",
       "var x = new MutationObserver(function (mutations, observer) {{\n",
       "        var display = window.getComputedStyle(gd).display;\n",
       "        if (!display || display === 'none') {{\n",
       "            console.log([gd, 'removed!']);\n",
       "            Plotly.purge(gd);\n",
       "            observer.disconnect();\n",
       "        }}\n",
       "}});\n",
       "\n",
       "// Listen for the removal of the full notebook cells\n",
       "var notebookContainer = gd.closest('#notebook-container');\n",
       "if (notebookContainer) {{\n",
       "    x.observe(notebookContainer, {childList: true});\n",
       "}}\n",
       "\n",
       "// Listen for the clearing of the current output cell\n",
       "var outputEl = gd.closest('.output');\n",
       "if (outputEl) {{\n",
       "    x.observe(outputEl, {childList: true});\n",
       "}}\n",
       "\n",
       "                        })\n",
       "                };\n",
       "                });\n",
       "            </script>\n",
       "        </div>"
      ]
     },
     "metadata": {},
     "output_type": "display_data"
    }
   ],
   "source": [
    "subset = ['CA','NY','NJ']\n",
    "colors = pc.DEFAULT_PLOTLY_COLORS\n",
    "\n",
    "fig = make_subplots(rows=1, cols=2)\n",
    "for i,s in enumerate(subset):\n",
    "    fig.add_trace(go.Scatter(name=s,x=x_data,y=states_cumulative[s],mode='lines',line_color=colors[i],showlegend=True),row=1,col=1)\n",
    "    fig.add_trace(go.Scatter(name=s,x=x_data,y=states_inc_rolling3[s],mode='lines',line_color=colors[i],showlegend=False),row=1,col=2)\n",
    "\n",
    "fig.update_layout(height=350,margin=dict(l=20, r=20, t=50, b=20))\n",
    "fig.update_xaxes(title='Day of Year',showline=True, linewidth=1.5, linecolor='black', mirror=True)\n",
    "fig.update_yaxes(showline=True, linewidth=1.5, linecolor='black', mirror=True)\n",
    "fig.update_yaxes(title='Cumulative Case Count Over Time',row=1,col=1)\n",
    "fig.update_yaxes(title='Daily Incidence Over Time',row=1,col=2)\n",
    "fig.show()"
   ]
  },
  {
   "cell_type": "markdown",
   "metadata": {},
   "source": [
    "And we can do the same for countries:"
   ]
  },
  {
   "cell_type": "code",
   "execution_count": 8,
   "metadata": {
    "jupyter": {
     "source_hidden": true
    }
   },
   "outputs": [
    {
     "data": {
      "application/vnd.plotly.v1+json": {
       "config": {
        "plotlyServerURL": "https://plot.ly"
       },
       "data": [
        {
         "line": {
          "color": "rgb(31, 119, 180)"
         },
         "mode": "lines",
         "name": "United States",
         "showlegend": true,
         "type": "scatter",
         "x": [
          124,
          123,
          122,
          121,
          120,
          119,
          118,
          117,
          116,
          115,
          114,
          113,
          112,
          111,
          110,
          109,
          108,
          107,
          106,
          105,
          104,
          103,
          102,
          101,
          100,
          99,
          98,
          97,
          96,
          95,
          94,
          93,
          92,
          91,
          90,
          89,
          88,
          87,
          86,
          85,
          84,
          83,
          82,
          81,
          80,
          79,
          78,
          77,
          76,
          75,
          74,
          73,
          72,
          71,
          70,
          69,
          68,
          67,
          66
         ],
         "xaxis": "x",
         "y": [
          1132539,
          1103461,
          1069424,
          1039909,
          1012582,
          988197,
          965785,
          938154,
          905358,
          869170,
          840351,
          811865,
          784326,
          758809,
          732197,
          699706,
          667592,
          636350,
          607670,
          580619,
          555313,
          526396,
          496535,
          462780,
          428654,
          397121,
          366317,
          336802,
          308650,
          275367,
          243622,
          213242,
          188172,
          161831,
          140909,
          121465,
          101657,
          83836,
          65778,
          53736,
          43843,
          33276,
          25600,
          19273,
          13747,
          7783,
          6421,
          4632,
          3499,
          2727,
          2179,
          1663,
          1281,
          959,
          583,
          518,
          402,
          262,
          217,
          149,
          118,
          98,
          74,
          68,
          60,
          58,
          57,
          51,
          51,
          15,
          15,
          15,
          13,
          13,
          13,
          13,
          13,
          13,
          13,
          13,
          12,
          12,
          11,
          11,
          11,
          11,
          11,
          11,
          11,
          11,
          8,
          8,
          7,
          5,
          5,
          5,
          5,
          5,
          2,
          2,
          1,
          1
         ],
         "yaxis": "y"
        },
        {
         "line": {
          "color": "rgb(31, 119, 180)"
         },
         "mode": "lines",
         "name": "United States",
         "showlegend": false,
         "type": "scatter",
         "x": [
          124,
          123,
          122,
          121,
          120,
          119,
          118,
          117,
          116,
          115,
          114,
          113,
          112,
          111,
          110,
          109,
          108,
          107,
          106,
          105,
          104,
          103,
          102,
          101,
          100,
          99,
          98,
          97,
          96,
          95,
          94,
          93,
          92,
          91,
          90,
          89,
          88,
          87,
          86,
          85,
          84,
          83,
          82,
          81,
          80,
          79,
          78,
          77,
          76,
          75,
          74,
          73,
          72,
          71,
          70,
          69,
          68,
          67,
          66
         ],
         "xaxis": "x2",
         "y": [
          30876.666666666668,
          30293,
          27075.666666666668,
          24708,
          24809.333333333332,
          27613,
          32205,
          32601,
          31164.333333333332,
          28281.333333333332,
          27180.666666666668,
          26556,
          28206.666666666668,
          30405.666666666668,
          31949,
          30678.666666666668,
          28991,
          27012.333333333332,
          27091.333333333332,
          28028,
          30844.333333333332,
          32580.666666666668,
          33138,
          32154.333333333332,
          30617.333333333332,
          29490.333333333332,
          30316.666666666668,
          31060,
          31802.666666666668,
          29065,
          27263.666666666668,
          24111,
          22235.666666666668,
          20058,
          19024.333333333332,
          18562.333333333332,
          15973.666666666666,
          13331,
          10834,
          9378.666666666666,
          8190,
          6509.666666666667,
          5939,
          4284,
          3038.3333333333335,
          1428,
          1231.3333333333333,
          817.6666666666666,
          612,
          482,
          406.6666666666667,
          360,
          254.33333333333334,
          185.66666666666666,
          107,
          100.33333333333333,
          84.33333333333333,
          48,
          39.666666666666664,
          25,
          16.666666666666668,
          12.666666666666666,
          5.333333333333333,
          3.6666666666666665,
          3,
          2.3333333333333335,
          14,
          12,
          12,
          0.6666666666666666,
          0.6666666666666666,
          0.6666666666666666,
          0,
          0,
          0,
          0,
          0,
          0.3333333333333333,
          0.3333333333333333,
          0.6666666666666666,
          0.3333333333333333,
          0.3333333333333333,
          0,
          0,
          0,
          0,
          0,
          1,
          1,
          1.3333333333333333,
          1,
          1,
          0.6666666666666666,
          0,
          0,
          1,
          1,
          1.3333333333333333,
          0.3333333333333333
         ],
         "yaxis": "y2"
        },
        {
         "line": {
          "color": "rgb(255, 127, 14)"
         },
         "mode": "lines",
         "name": "Spain",
         "showlegend": true,
         "type": "scatter",
         "x": [
          124,
          123,
          122,
          121,
          120,
          119,
          118,
          117,
          116,
          115,
          114,
          113,
          112,
          111,
          110,
          109,
          108,
          107,
          106,
          105,
          104,
          103,
          102,
          101,
          100,
          99,
          98,
          97,
          96,
          95,
          94,
          93,
          92,
          91,
          90,
          89,
          88,
          87,
          86,
          85,
          84,
          83,
          82,
          81,
          80,
          79,
          78,
          77,
          76,
          75,
          74,
          73,
          72,
          71,
          70,
          69,
          68,
          67,
          66
         ],
         "xaxis": "x",
         "y": [
          216582,
          213435,
          213435,
          212917,
          210773,
          209465,
          207634,
          205905,
          202990,
          213024,
          208389,
          204178,
          200210,
          198674,
          191726,
          190839,
          184948,
          177644,
          172541,
          170099,
          166831,
          163027,
          158273,
          153222,
          148220,
          141942,
          136675,
          131646,
          126168,
          119199,
          112065,
          104118,
          95923,
          87956,
          80110,
          73235,
          65719,
          57786,
          49515,
          39885,
          35136,
          28768,
          25374,
          20410,
          17963,
          13910,
          11748,
          9942,
          7798,
          6391,
          5232,
          2277,
          2277,
          1695,
          1073,
          673,
          500,
          400,
          259,
          222,
          165,
          120,
          84,
          45,
          32,
          15,
          13,
          6,
          2,
          2,
          2,
          2,
          2,
          2,
          2,
          2,
          2,
          2,
          2,
          2,
          2,
          2,
          2,
          2,
          1,
          1,
          1,
          1,
          1,
          1,
          1,
          1,
          0,
          0,
          0,
          0,
          0,
          0,
          0,
          0,
          0,
          0
         ],
         "yaxis": "y"
        },
        {
         "line": {
          "color": "rgb(255, 127, 14)"
         },
         "mode": "lines",
         "name": "Spain",
         "showlegend": false,
         "type": "scatter",
         "x": [
          124,
          123,
          122,
          121,
          120,
          119,
          118,
          117,
          116,
          115,
          114,
          113,
          112,
          111,
          110,
          109,
          108,
          107,
          106,
          105,
          104,
          103,
          102,
          101,
          100,
          99,
          98,
          97,
          96,
          95,
          94,
          93,
          92,
          91,
          90,
          89,
          88,
          87,
          86,
          85,
          84,
          83,
          82,
          81,
          80,
          79,
          78,
          77,
          76,
          75,
          74,
          73,
          72,
          71,
          70,
          69,
          68,
          67,
          66
         ],
         "xaxis": "x2",
         "y": [
          1221.6666666666667,
          887.3333333333334,
          1323.3333333333333,
          1761,
          1622.6666666666667,
          2158.3333333333335,
          -1796.6666666666667,
          -828,
          -396,
          4271.333333333333,
          3238.3333333333335,
          4150.666666666667,
          3123.6666666666665,
          4575.333333333333,
          4694,
          6099.333333333333,
          4949.666666666667,
          3604.3333333333335,
          3171.3333333333335,
          3942,
          4536.333333333333,
          4935.666666666667,
          5443.666666666667,
          5515.666666666667,
          5524.666666666667,
          5258,
          5825.333333333333,
          6527,
          7350,
          7758.666666666667,
          8036.333333333333,
          8002.666666666667,
          7562.666666666667,
          7412.333333333333,
          7441.333333333333,
          7906.666666666667,
          8611.333333333334,
          7550,
          6915.666666666667,
          4837,
          4908.666666666667,
          3601.6666666666665,
          3821.3333333333335,
          2887.3333333333335,
          2673.6666666666665,
          2037.3333333333333,
          1785.6666666666667,
          1570,
          1840.3333333333333,
          1371.3333333333333,
          1179,
          401.3333333333333,
          534.6666666666666,
          398.3333333333333,
          224.33333333333334,
          138,
          92.66666666666667,
          78.33333333333333,
          46.333333333333336,
          46,
          40,
          29.333333333333332,
          23,
          10.666666666666666,
          8.666666666666666,
          4.333333333333333,
          3.6666666666666665,
          1.3333333333333333,
          0,
          0,
          0,
          0,
          0,
          0,
          0,
          0,
          0,
          0,
          0,
          0,
          0,
          0.3333333333333333,
          0.3333333333333333,
          0.3333333333333333,
          0,
          0,
          0,
          0,
          0,
          0.3333333333333333,
          0.3333333333333333,
          0.3333333333333333,
          0,
          0,
          0,
          0,
          0,
          0,
          0
         ],
         "yaxis": "y2"
        },
        {
         "line": {
          "color": "rgb(44, 160, 44)"
         },
         "mode": "lines",
         "name": "Italy",
         "showlegend": true,
         "type": "scatter",
         "x": [
          124,
          123,
          122,
          121,
          120,
          119,
          118,
          117,
          116,
          115,
          114,
          113,
          112,
          111,
          110,
          109,
          108,
          107,
          106,
          105,
          104,
          103,
          102,
          101,
          100,
          99,
          98,
          97,
          96,
          95,
          94,
          93,
          92,
          91,
          90,
          89,
          88,
          87,
          86,
          85,
          84,
          83,
          82,
          81,
          80,
          79,
          78,
          77,
          76,
          75,
          74,
          73,
          72,
          71,
          70,
          69,
          68,
          67,
          66
         ],
         "xaxis": "x",
         "y": [
          209328,
          207428,
          205463,
          203591,
          201505,
          199414,
          197675,
          195351,
          192994,
          189973,
          187327,
          183957,
          181228,
          178972,
          175925,
          172434,
          168941,
          165155,
          162488,
          159516,
          156363,
          152271,
          147577,
          143626,
          139422,
          135586,
          132547,
          128948,
          124632,
          119827,
          115242,
          110574,
          105792,
          101739,
          97689,
          92472,
          86498,
          80589,
          74386,
          69176,
          63927,
          59138,
          53578,
          47021,
          41035,
          35713,
          31506,
          27980,
          24747,
          21157,
          17660,
          12462,
          12462,
          10149,
          9172,
          7375,
          5883,
          4636,
          3858,
          3089,
          2502,
          2036,
          1694,
          1128,
          888,
          655,
          453,
          322,
          229,
          155,
          62,
          20,
          3,
          3,
          3,
          3,
          3,
          3,
          3,
          3,
          3,
          3,
          3,
          3,
          3,
          3,
          2,
          2,
          2,
          2,
          2,
          2,
          2,
          0,
          0,
          0,
          0,
          0,
          0,
          0,
          0,
          0
         ],
         "yaxis": "y"
        },
        {
         "line": {
          "color": "rgb(44, 160, 44)"
         },
         "mode": "lines",
         "name": "Italy",
         "showlegend": false,
         "type": "scatter",
         "x": [
          124,
          123,
          122,
          121,
          120,
          119,
          118,
          117,
          116,
          115,
          114,
          113,
          112,
          111,
          110,
          109,
          108,
          107,
          106,
          105,
          104,
          103,
          102,
          101,
          100,
          99,
          98,
          97,
          96,
          95,
          94,
          93,
          92,
          91,
          90,
          89,
          88,
          87,
          86,
          85,
          84,
          83,
          82,
          81,
          80,
          79,
          78,
          77,
          76,
          75,
          74,
          73,
          72,
          71,
          70,
          69,
          68,
          67,
          66
         ],
         "xaxis": "x2",
         "y": [
          1912.3333333333333,
          1974.3333333333333,
          2016.3333333333333,
          1972,
          2051.3333333333335,
          2140,
          2567.3333333333335,
          2674.6666666666665,
          3012.3333333333335,
          2915,
          2785,
          2677.3333333333335,
          2931.3333333333335,
          3343.6666666666665,
          3590,
          3315.3333333333335,
          3141.6666666666665,
          2930.6666666666665,
          3405.6666666666665,
          3979.6666666666665,
          4245.666666666667,
          4283,
          3997,
          3693,
          3491.3333333333335,
          3651.3333333333335,
          4240,
          4568.666666666667,
          4686,
          4678.333333333333,
          4501,
          4295,
          4440,
          5080.333333333333,
          5700,
          6028.666666666667,
          5774,
          5554,
          5082.666666666667,
          5199.333333333333,
          5635.333333333333,
          6034.333333333333,
          5955,
          5171.666666666667,
          4351.666666666667,
          3655.3333333333335,
          3449.6666666666665,
          3440,
          4095,
          2898.3333333333335,
          2503.6666666666665,
          1096.6666666666667,
          1695.6666666666667,
          1422,
          1512,
          1172.3333333333333,
          931.3333333333334,
          711.3333333333334,
          607.3333333333334,
          465,
          458,
          382.6666666666667,
          346.3333333333333,
          225,
          188.66666666666666,
          142,
          99.33333333333333,
          86.66666666666667,
          69.66666666666667,
          50.666666666666664,
          19.666666666666668,
          5.666666666666667,
          0,
          0,
          0,
          0,
          0,
          0,
          0,
          0,
          0,
          0,
          0,
          0.3333333333333333,
          0.3333333333333333,
          0.3333333333333333,
          0,
          0,
          0,
          0,
          0.6666666666666666,
          0.6666666666666666,
          0.6666666666666666,
          0,
          0,
          0,
          0,
          0,
          0
         ],
         "yaxis": "y2"
        }
       ],
       "layout": {
        "height": 350,
        "margin": {
         "b": 20,
         "l": 20,
         "r": 20,
         "t": 50
        },
        "template": {
         "data": {
          "bar": [
           {
            "error_x": {
             "color": "#2a3f5f"
            },
            "error_y": {
             "color": "#2a3f5f"
            },
            "marker": {
             "line": {
              "color": "#E5ECF6",
              "width": 0.5
             }
            },
            "type": "bar"
           }
          ],
          "barpolar": [
           {
            "marker": {
             "line": {
              "color": "#E5ECF6",
              "width": 0.5
             }
            },
            "type": "barpolar"
           }
          ],
          "carpet": [
           {
            "aaxis": {
             "endlinecolor": "#2a3f5f",
             "gridcolor": "white",
             "linecolor": "white",
             "minorgridcolor": "white",
             "startlinecolor": "#2a3f5f"
            },
            "baxis": {
             "endlinecolor": "#2a3f5f",
             "gridcolor": "white",
             "linecolor": "white",
             "minorgridcolor": "white",
             "startlinecolor": "#2a3f5f"
            },
            "type": "carpet"
           }
          ],
          "choropleth": [
           {
            "colorbar": {
             "outlinewidth": 0,
             "ticks": ""
            },
            "type": "choropleth"
           }
          ],
          "contour": [
           {
            "colorbar": {
             "outlinewidth": 0,
             "ticks": ""
            },
            "colorscale": [
             [
              0,
              "#0d0887"
             ],
             [
              0.1111111111111111,
              "#46039f"
             ],
             [
              0.2222222222222222,
              "#7201a8"
             ],
             [
              0.3333333333333333,
              "#9c179e"
             ],
             [
              0.4444444444444444,
              "#bd3786"
             ],
             [
              0.5555555555555556,
              "#d8576b"
             ],
             [
              0.6666666666666666,
              "#ed7953"
             ],
             [
              0.7777777777777778,
              "#fb9f3a"
             ],
             [
              0.8888888888888888,
              "#fdca26"
             ],
             [
              1,
              "#f0f921"
             ]
            ],
            "type": "contour"
           }
          ],
          "contourcarpet": [
           {
            "colorbar": {
             "outlinewidth": 0,
             "ticks": ""
            },
            "type": "contourcarpet"
           }
          ],
          "heatmap": [
           {
            "colorbar": {
             "outlinewidth": 0,
             "ticks": ""
            },
            "colorscale": [
             [
              0,
              "#0d0887"
             ],
             [
              0.1111111111111111,
              "#46039f"
             ],
             [
              0.2222222222222222,
              "#7201a8"
             ],
             [
              0.3333333333333333,
              "#9c179e"
             ],
             [
              0.4444444444444444,
              "#bd3786"
             ],
             [
              0.5555555555555556,
              "#d8576b"
             ],
             [
              0.6666666666666666,
              "#ed7953"
             ],
             [
              0.7777777777777778,
              "#fb9f3a"
             ],
             [
              0.8888888888888888,
              "#fdca26"
             ],
             [
              1,
              "#f0f921"
             ]
            ],
            "type": "heatmap"
           }
          ],
          "heatmapgl": [
           {
            "colorbar": {
             "outlinewidth": 0,
             "ticks": ""
            },
            "colorscale": [
             [
              0,
              "#0d0887"
             ],
             [
              0.1111111111111111,
              "#46039f"
             ],
             [
              0.2222222222222222,
              "#7201a8"
             ],
             [
              0.3333333333333333,
              "#9c179e"
             ],
             [
              0.4444444444444444,
              "#bd3786"
             ],
             [
              0.5555555555555556,
              "#d8576b"
             ],
             [
              0.6666666666666666,
              "#ed7953"
             ],
             [
              0.7777777777777778,
              "#fb9f3a"
             ],
             [
              0.8888888888888888,
              "#fdca26"
             ],
             [
              1,
              "#f0f921"
             ]
            ],
            "type": "heatmapgl"
           }
          ],
          "histogram": [
           {
            "marker": {
             "colorbar": {
              "outlinewidth": 0,
              "ticks": ""
             }
            },
            "type": "histogram"
           }
          ],
          "histogram2d": [
           {
            "colorbar": {
             "outlinewidth": 0,
             "ticks": ""
            },
            "colorscale": [
             [
              0,
              "#0d0887"
             ],
             [
              0.1111111111111111,
              "#46039f"
             ],
             [
              0.2222222222222222,
              "#7201a8"
             ],
             [
              0.3333333333333333,
              "#9c179e"
             ],
             [
              0.4444444444444444,
              "#bd3786"
             ],
             [
              0.5555555555555556,
              "#d8576b"
             ],
             [
              0.6666666666666666,
              "#ed7953"
             ],
             [
              0.7777777777777778,
              "#fb9f3a"
             ],
             [
              0.8888888888888888,
              "#fdca26"
             ],
             [
              1,
              "#f0f921"
             ]
            ],
            "type": "histogram2d"
           }
          ],
          "histogram2dcontour": [
           {
            "colorbar": {
             "outlinewidth": 0,
             "ticks": ""
            },
            "colorscale": [
             [
              0,
              "#0d0887"
             ],
             [
              0.1111111111111111,
              "#46039f"
             ],
             [
              0.2222222222222222,
              "#7201a8"
             ],
             [
              0.3333333333333333,
              "#9c179e"
             ],
             [
              0.4444444444444444,
              "#bd3786"
             ],
             [
              0.5555555555555556,
              "#d8576b"
             ],
             [
              0.6666666666666666,
              "#ed7953"
             ],
             [
              0.7777777777777778,
              "#fb9f3a"
             ],
             [
              0.8888888888888888,
              "#fdca26"
             ],
             [
              1,
              "#f0f921"
             ]
            ],
            "type": "histogram2dcontour"
           }
          ],
          "mesh3d": [
           {
            "colorbar": {
             "outlinewidth": 0,
             "ticks": ""
            },
            "type": "mesh3d"
           }
          ],
          "parcoords": [
           {
            "line": {
             "colorbar": {
              "outlinewidth": 0,
              "ticks": ""
             }
            },
            "type": "parcoords"
           }
          ],
          "pie": [
           {
            "automargin": true,
            "type": "pie"
           }
          ],
          "scatter": [
           {
            "marker": {
             "colorbar": {
              "outlinewidth": 0,
              "ticks": ""
             }
            },
            "type": "scatter"
           }
          ],
          "scatter3d": [
           {
            "line": {
             "colorbar": {
              "outlinewidth": 0,
              "ticks": ""
             }
            },
            "marker": {
             "colorbar": {
              "outlinewidth": 0,
              "ticks": ""
             }
            },
            "type": "scatter3d"
           }
          ],
          "scattercarpet": [
           {
            "marker": {
             "colorbar": {
              "outlinewidth": 0,
              "ticks": ""
             }
            },
            "type": "scattercarpet"
           }
          ],
          "scattergeo": [
           {
            "marker": {
             "colorbar": {
              "outlinewidth": 0,
              "ticks": ""
             }
            },
            "type": "scattergeo"
           }
          ],
          "scattergl": [
           {
            "marker": {
             "colorbar": {
              "outlinewidth": 0,
              "ticks": ""
             }
            },
            "type": "scattergl"
           }
          ],
          "scattermapbox": [
           {
            "marker": {
             "colorbar": {
              "outlinewidth": 0,
              "ticks": ""
             }
            },
            "type": "scattermapbox"
           }
          ],
          "scatterpolar": [
           {
            "marker": {
             "colorbar": {
              "outlinewidth": 0,
              "ticks": ""
             }
            },
            "type": "scatterpolar"
           }
          ],
          "scatterpolargl": [
           {
            "marker": {
             "colorbar": {
              "outlinewidth": 0,
              "ticks": ""
             }
            },
            "type": "scatterpolargl"
           }
          ],
          "scatterternary": [
           {
            "marker": {
             "colorbar": {
              "outlinewidth": 0,
              "ticks": ""
             }
            },
            "type": "scatterternary"
           }
          ],
          "surface": [
           {
            "colorbar": {
             "outlinewidth": 0,
             "ticks": ""
            },
            "colorscale": [
             [
              0,
              "#0d0887"
             ],
             [
              0.1111111111111111,
              "#46039f"
             ],
             [
              0.2222222222222222,
              "#7201a8"
             ],
             [
              0.3333333333333333,
              "#9c179e"
             ],
             [
              0.4444444444444444,
              "#bd3786"
             ],
             [
              0.5555555555555556,
              "#d8576b"
             ],
             [
              0.6666666666666666,
              "#ed7953"
             ],
             [
              0.7777777777777778,
              "#fb9f3a"
             ],
             [
              0.8888888888888888,
              "#fdca26"
             ],
             [
              1,
              "#f0f921"
             ]
            ],
            "type": "surface"
           }
          ],
          "table": [
           {
            "cells": {
             "fill": {
              "color": "#EBF0F8"
             },
             "line": {
              "color": "white"
             }
            },
            "header": {
             "fill": {
              "color": "#C8D4E3"
             },
             "line": {
              "color": "white"
             }
            },
            "type": "table"
           }
          ]
         },
         "layout": {
          "annotationdefaults": {
           "arrowcolor": "#2a3f5f",
           "arrowhead": 0,
           "arrowwidth": 1
          },
          "coloraxis": {
           "colorbar": {
            "outlinewidth": 0,
            "ticks": ""
           }
          },
          "colorscale": {
           "diverging": [
            [
             0,
             "#8e0152"
            ],
            [
             0.1,
             "#c51b7d"
            ],
            [
             0.2,
             "#de77ae"
            ],
            [
             0.3,
             "#f1b6da"
            ],
            [
             0.4,
             "#fde0ef"
            ],
            [
             0.5,
             "#f7f7f7"
            ],
            [
             0.6,
             "#e6f5d0"
            ],
            [
             0.7,
             "#b8e186"
            ],
            [
             0.8,
             "#7fbc41"
            ],
            [
             0.9,
             "#4d9221"
            ],
            [
             1,
             "#276419"
            ]
           ],
           "sequential": [
            [
             0,
             "#0d0887"
            ],
            [
             0.1111111111111111,
             "#46039f"
            ],
            [
             0.2222222222222222,
             "#7201a8"
            ],
            [
             0.3333333333333333,
             "#9c179e"
            ],
            [
             0.4444444444444444,
             "#bd3786"
            ],
            [
             0.5555555555555556,
             "#d8576b"
            ],
            [
             0.6666666666666666,
             "#ed7953"
            ],
            [
             0.7777777777777778,
             "#fb9f3a"
            ],
            [
             0.8888888888888888,
             "#fdca26"
            ],
            [
             1,
             "#f0f921"
            ]
           ],
           "sequentialminus": [
            [
             0,
             "#0d0887"
            ],
            [
             0.1111111111111111,
             "#46039f"
            ],
            [
             0.2222222222222222,
             "#7201a8"
            ],
            [
             0.3333333333333333,
             "#9c179e"
            ],
            [
             0.4444444444444444,
             "#bd3786"
            ],
            [
             0.5555555555555556,
             "#d8576b"
            ],
            [
             0.6666666666666666,
             "#ed7953"
            ],
            [
             0.7777777777777778,
             "#fb9f3a"
            ],
            [
             0.8888888888888888,
             "#fdca26"
            ],
            [
             1,
             "#f0f921"
            ]
           ]
          },
          "colorway": [
           "#636efa",
           "#EF553B",
           "#00cc96",
           "#ab63fa",
           "#FFA15A",
           "#19d3f3",
           "#FF6692",
           "#B6E880",
           "#FF97FF",
           "#FECB52"
          ],
          "font": {
           "color": "#2a3f5f"
          },
          "geo": {
           "bgcolor": "white",
           "lakecolor": "white",
           "landcolor": "#E5ECF6",
           "showlakes": true,
           "showland": true,
           "subunitcolor": "white"
          },
          "hoverlabel": {
           "align": "left"
          },
          "hovermode": "closest",
          "mapbox": {
           "style": "light"
          },
          "paper_bgcolor": "white",
          "plot_bgcolor": "#E5ECF6",
          "polar": {
           "angularaxis": {
            "gridcolor": "white",
            "linecolor": "white",
            "ticks": ""
           },
           "bgcolor": "#E5ECF6",
           "radialaxis": {
            "gridcolor": "white",
            "linecolor": "white",
            "ticks": ""
           }
          },
          "scene": {
           "xaxis": {
            "backgroundcolor": "#E5ECF6",
            "gridcolor": "white",
            "gridwidth": 2,
            "linecolor": "white",
            "showbackground": true,
            "ticks": "",
            "zerolinecolor": "white"
           },
           "yaxis": {
            "backgroundcolor": "#E5ECF6",
            "gridcolor": "white",
            "gridwidth": 2,
            "linecolor": "white",
            "showbackground": true,
            "ticks": "",
            "zerolinecolor": "white"
           },
           "zaxis": {
            "backgroundcolor": "#E5ECF6",
            "gridcolor": "white",
            "gridwidth": 2,
            "linecolor": "white",
            "showbackground": true,
            "ticks": "",
            "zerolinecolor": "white"
           }
          },
          "shapedefaults": {
           "line": {
            "color": "#2a3f5f"
           }
          },
          "ternary": {
           "aaxis": {
            "gridcolor": "white",
            "linecolor": "white",
            "ticks": ""
           },
           "baxis": {
            "gridcolor": "white",
            "linecolor": "white",
            "ticks": ""
           },
           "bgcolor": "#E5ECF6",
           "caxis": {
            "gridcolor": "white",
            "linecolor": "white",
            "ticks": ""
           }
          },
          "title": {
           "x": 0.05
          },
          "xaxis": {
           "automargin": true,
           "gridcolor": "white",
           "linecolor": "white",
           "ticks": "",
           "title": {
            "standoff": 15
           },
           "zerolinecolor": "white",
           "zerolinewidth": 2
          },
          "yaxis": {
           "automargin": true,
           "gridcolor": "white",
           "linecolor": "white",
           "ticks": "",
           "title": {
            "standoff": 15
           },
           "zerolinecolor": "white",
           "zerolinewidth": 2
          }
         }
        },
        "xaxis": {
         "anchor": "y",
         "domain": [
          0,
          0.45
         ],
         "linecolor": "black",
         "linewidth": 1.5,
         "mirror": true,
         "showline": true,
         "title": {
          "text": "Day of Year"
         }
        },
        "xaxis2": {
         "anchor": "y2",
         "domain": [
          0.55,
          1
         ],
         "linecolor": "black",
         "linewidth": 1.5,
         "mirror": true,
         "showline": true,
         "title": {
          "text": "Day of Year"
         }
        },
        "yaxis": {
         "anchor": "x",
         "domain": [
          0,
          1
         ],
         "linecolor": "black",
         "linewidth": 1.5,
         "mirror": true,
         "showline": true,
         "title": {
          "text": "Cumulative Case Count Over Time"
         }
        },
        "yaxis2": {
         "anchor": "x2",
         "domain": [
          0,
          1
         ],
         "linecolor": "black",
         "linewidth": 1.5,
         "mirror": true,
         "showline": true,
         "title": {
          "text": "Daily Incidence Over Time"
         }
        }
       }
      },
      "text/html": [
       "<div>\n",
       "        \n",
       "        \n",
       "            <div id=\"f5534b40-5613-4640-9794-28ec999ecb90\" class=\"plotly-graph-div\" style=\"height:350px; width:100%;\"></div>\n",
       "            <script type=\"text/javascript\">\n",
       "                require([\"plotly\"], function(Plotly) {\n",
       "                    window.PLOTLYENV=window.PLOTLYENV || {};\n",
       "                    \n",
       "                if (document.getElementById(\"f5534b40-5613-4640-9794-28ec999ecb90\")) {\n",
       "                    Plotly.newPlot(\n",
       "                        'f5534b40-5613-4640-9794-28ec999ecb90',\n",
       "                        [{\"line\": {\"color\": \"rgb(31, 119, 180)\"}, \"mode\": \"lines\", \"name\": \"United States\", \"showlegend\": true, \"type\": \"scatter\", \"x\": [124, 123, 122, 121, 120, 119, 118, 117, 116, 115, 114, 113, 112, 111, 110, 109, 108, 107, 106, 105, 104, 103, 102, 101, 100, 99, 98, 97, 96, 95, 94, 93, 92, 91, 90, 89, 88, 87, 86, 85, 84, 83, 82, 81, 80, 79, 78, 77, 76, 75, 74, 73, 72, 71, 70, 69, 68, 67, 66], \"xaxis\": \"x\", \"y\": [1132539, 1103461, 1069424, 1039909, 1012582, 988197, 965785, 938154, 905358, 869170, 840351, 811865, 784326, 758809, 732197, 699706, 667592, 636350, 607670, 580619, 555313, 526396, 496535, 462780, 428654, 397121, 366317, 336802, 308650, 275367, 243622, 213242, 188172, 161831, 140909, 121465, 101657, 83836, 65778, 53736, 43843, 33276, 25600, 19273, 13747, 7783, 6421, 4632, 3499, 2727, 2179, 1663, 1281, 959, 583, 518, 402, 262, 217, 149, 118, 98, 74, 68, 60, 58, 57, 51, 51, 15, 15, 15, 13, 13, 13, 13, 13, 13, 13, 13, 12, 12, 11, 11, 11, 11, 11, 11, 11, 11, 8, 8, 7, 5, 5, 5, 5, 5, 2, 2, 1, 1], \"yaxis\": \"y\"}, {\"line\": {\"color\": \"rgb(31, 119, 180)\"}, \"mode\": \"lines\", \"name\": \"United States\", \"showlegend\": false, \"type\": \"scatter\", \"x\": [124, 123, 122, 121, 120, 119, 118, 117, 116, 115, 114, 113, 112, 111, 110, 109, 108, 107, 106, 105, 104, 103, 102, 101, 100, 99, 98, 97, 96, 95, 94, 93, 92, 91, 90, 89, 88, 87, 86, 85, 84, 83, 82, 81, 80, 79, 78, 77, 76, 75, 74, 73, 72, 71, 70, 69, 68, 67, 66], \"xaxis\": \"x2\", \"y\": [30876.666666666668, 30293.0, 27075.666666666668, 24708.0, 24809.333333333332, 27613.0, 32205.0, 32601.0, 31164.333333333332, 28281.333333333332, 27180.666666666668, 26556.0, 28206.666666666668, 30405.666666666668, 31949.0, 30678.666666666668, 28991.0, 27012.333333333332, 27091.333333333332, 28028.0, 30844.333333333332, 32580.666666666668, 33138.0, 32154.333333333332, 30617.333333333332, 29490.333333333332, 30316.666666666668, 31060.0, 31802.666666666668, 29065.0, 27263.666666666668, 24111.0, 22235.666666666668, 20058.0, 19024.333333333332, 18562.333333333332, 15973.666666666666, 13331.0, 10834.0, 9378.666666666666, 8190.0, 6509.666666666667, 5939.0, 4284.0, 3038.3333333333335, 1428.0, 1231.3333333333333, 817.6666666666666, 612.0, 482.0, 406.6666666666667, 360.0, 254.33333333333334, 185.66666666666666, 107.0, 100.33333333333333, 84.33333333333333, 48.0, 39.666666666666664, 25.0, 16.666666666666668, 12.666666666666666, 5.333333333333333, 3.6666666666666665, 3.0, 2.3333333333333335, 14.0, 12.0, 12.0, 0.6666666666666666, 0.6666666666666666, 0.6666666666666666, 0.0, 0.0, 0.0, 0.0, 0.0, 0.3333333333333333, 0.3333333333333333, 0.6666666666666666, 0.3333333333333333, 0.3333333333333333, 0.0, 0.0, 0.0, 0.0, 0.0, 1.0, 1.0, 1.3333333333333333, 1.0, 1.0, 0.6666666666666666, 0.0, 0.0, 1.0, 1.0, 1.3333333333333333, 0.3333333333333333], \"yaxis\": \"y2\"}, {\"line\": {\"color\": \"rgb(255, 127, 14)\"}, \"mode\": \"lines\", \"name\": \"Spain\", \"showlegend\": true, \"type\": \"scatter\", \"x\": [124, 123, 122, 121, 120, 119, 118, 117, 116, 115, 114, 113, 112, 111, 110, 109, 108, 107, 106, 105, 104, 103, 102, 101, 100, 99, 98, 97, 96, 95, 94, 93, 92, 91, 90, 89, 88, 87, 86, 85, 84, 83, 82, 81, 80, 79, 78, 77, 76, 75, 74, 73, 72, 71, 70, 69, 68, 67, 66], \"xaxis\": \"x\", \"y\": [216582, 213435, 213435, 212917, 210773, 209465, 207634, 205905, 202990, 213024, 208389, 204178, 200210, 198674, 191726, 190839, 184948, 177644, 172541, 170099, 166831, 163027, 158273, 153222, 148220, 141942, 136675, 131646, 126168, 119199, 112065, 104118, 95923, 87956, 80110, 73235, 65719, 57786, 49515, 39885, 35136, 28768, 25374, 20410, 17963, 13910, 11748, 9942, 7798, 6391, 5232, 2277, 2277, 1695, 1073, 673, 500, 400, 259, 222, 165, 120, 84, 45, 32, 15, 13, 6, 2, 2, 2, 2, 2, 2, 2, 2, 2, 2, 2, 2, 2, 2, 2, 2, 1, 1, 1, 1, 1, 1, 1, 1, 0, 0, 0, 0, 0, 0, 0, 0, 0, 0], \"yaxis\": \"y\"}, {\"line\": {\"color\": \"rgb(255, 127, 14)\"}, \"mode\": \"lines\", \"name\": \"Spain\", \"showlegend\": false, \"type\": \"scatter\", \"x\": [124, 123, 122, 121, 120, 119, 118, 117, 116, 115, 114, 113, 112, 111, 110, 109, 108, 107, 106, 105, 104, 103, 102, 101, 100, 99, 98, 97, 96, 95, 94, 93, 92, 91, 90, 89, 88, 87, 86, 85, 84, 83, 82, 81, 80, 79, 78, 77, 76, 75, 74, 73, 72, 71, 70, 69, 68, 67, 66], \"xaxis\": \"x2\", \"y\": [1221.6666666666667, 887.3333333333334, 1323.3333333333333, 1761.0, 1622.6666666666667, 2158.3333333333335, -1796.6666666666667, -828.0, -396.0, 4271.333333333333, 3238.3333333333335, 4150.666666666667, 3123.6666666666665, 4575.333333333333, 4694.0, 6099.333333333333, 4949.666666666667, 3604.3333333333335, 3171.3333333333335, 3942.0, 4536.333333333333, 4935.666666666667, 5443.666666666667, 5515.666666666667, 5524.666666666667, 5258.0, 5825.333333333333, 6527.0, 7350.0, 7758.666666666667, 8036.333333333333, 8002.666666666667, 7562.666666666667, 7412.333333333333, 7441.333333333333, 7906.666666666667, 8611.333333333334, 7550.0, 6915.666666666667, 4837.0, 4908.666666666667, 3601.6666666666665, 3821.3333333333335, 2887.3333333333335, 2673.6666666666665, 2037.3333333333333, 1785.6666666666667, 1570.0, 1840.3333333333333, 1371.3333333333333, 1179.0, 401.3333333333333, 534.6666666666666, 398.3333333333333, 224.33333333333334, 138.0, 92.66666666666667, 78.33333333333333, 46.333333333333336, 46.0, 40.0, 29.333333333333332, 23.0, 10.666666666666666, 8.666666666666666, 4.333333333333333, 3.6666666666666665, 1.3333333333333333, 0.0, 0.0, 0.0, 0.0, 0.0, 0.0, 0.0, 0.0, 0.0, 0.0, 0.0, 0.0, 0.0, 0.3333333333333333, 0.3333333333333333, 0.3333333333333333, 0.0, 0.0, 0.0, 0.0, 0.0, 0.3333333333333333, 0.3333333333333333, 0.3333333333333333, 0.0, 0.0, 0.0, 0.0, 0.0, 0.0, 0.0], \"yaxis\": \"y2\"}, {\"line\": {\"color\": \"rgb(44, 160, 44)\"}, \"mode\": \"lines\", \"name\": \"Italy\", \"showlegend\": true, \"type\": \"scatter\", \"x\": [124, 123, 122, 121, 120, 119, 118, 117, 116, 115, 114, 113, 112, 111, 110, 109, 108, 107, 106, 105, 104, 103, 102, 101, 100, 99, 98, 97, 96, 95, 94, 93, 92, 91, 90, 89, 88, 87, 86, 85, 84, 83, 82, 81, 80, 79, 78, 77, 76, 75, 74, 73, 72, 71, 70, 69, 68, 67, 66], \"xaxis\": \"x\", \"y\": [209328, 207428, 205463, 203591, 201505, 199414, 197675, 195351, 192994, 189973, 187327, 183957, 181228, 178972, 175925, 172434, 168941, 165155, 162488, 159516, 156363, 152271, 147577, 143626, 139422, 135586, 132547, 128948, 124632, 119827, 115242, 110574, 105792, 101739, 97689, 92472, 86498, 80589, 74386, 69176, 63927, 59138, 53578, 47021, 41035, 35713, 31506, 27980, 24747, 21157, 17660, 12462, 12462, 10149, 9172, 7375, 5883, 4636, 3858, 3089, 2502, 2036, 1694, 1128, 888, 655, 453, 322, 229, 155, 62, 20, 3, 3, 3, 3, 3, 3, 3, 3, 3, 3, 3, 3, 3, 3, 2, 2, 2, 2, 2, 2, 2, 0, 0, 0, 0, 0, 0, 0, 0, 0], \"yaxis\": \"y\"}, {\"line\": {\"color\": \"rgb(44, 160, 44)\"}, \"mode\": \"lines\", \"name\": \"Italy\", \"showlegend\": false, \"type\": \"scatter\", \"x\": [124, 123, 122, 121, 120, 119, 118, 117, 116, 115, 114, 113, 112, 111, 110, 109, 108, 107, 106, 105, 104, 103, 102, 101, 100, 99, 98, 97, 96, 95, 94, 93, 92, 91, 90, 89, 88, 87, 86, 85, 84, 83, 82, 81, 80, 79, 78, 77, 76, 75, 74, 73, 72, 71, 70, 69, 68, 67, 66], \"xaxis\": \"x2\", \"y\": [1912.3333333333333, 1974.3333333333333, 2016.3333333333333, 1972.0, 2051.3333333333335, 2140.0, 2567.3333333333335, 2674.6666666666665, 3012.3333333333335, 2915.0, 2785.0, 2677.3333333333335, 2931.3333333333335, 3343.6666666666665, 3590.0, 3315.3333333333335, 3141.6666666666665, 2930.6666666666665, 3405.6666666666665, 3979.6666666666665, 4245.666666666667, 4283.0, 3997.0, 3693.0, 3491.3333333333335, 3651.3333333333335, 4240.0, 4568.666666666667, 4686.0, 4678.333333333333, 4501.0, 4295.0, 4440.0, 5080.333333333333, 5700.0, 6028.666666666667, 5774.0, 5554.0, 5082.666666666667, 5199.333333333333, 5635.333333333333, 6034.333333333333, 5955.0, 5171.666666666667, 4351.666666666667, 3655.3333333333335, 3449.6666666666665, 3440.0, 4095.0, 2898.3333333333335, 2503.6666666666665, 1096.6666666666667, 1695.6666666666667, 1422.0, 1512.0, 1172.3333333333333, 931.3333333333334, 711.3333333333334, 607.3333333333334, 465.0, 458.0, 382.6666666666667, 346.3333333333333, 225.0, 188.66666666666666, 142.0, 99.33333333333333, 86.66666666666667, 69.66666666666667, 50.666666666666664, 19.666666666666668, 5.666666666666667, 0.0, 0.0, 0.0, 0.0, 0.0, 0.0, 0.0, 0.0, 0.0, 0.0, 0.0, 0.3333333333333333, 0.3333333333333333, 0.3333333333333333, 0.0, 0.0, 0.0, 0.0, 0.6666666666666666, 0.6666666666666666, 0.6666666666666666, 0.0, 0.0, 0.0, 0.0, 0.0, 0.0], \"yaxis\": \"y2\"}],\n",
       "                        {\"height\": 350, \"margin\": {\"b\": 20, \"l\": 20, \"r\": 20, \"t\": 50}, \"template\": {\"data\": {\"bar\": [{\"error_x\": {\"color\": \"#2a3f5f\"}, \"error_y\": {\"color\": \"#2a3f5f\"}, \"marker\": {\"line\": {\"color\": \"#E5ECF6\", \"width\": 0.5}}, \"type\": \"bar\"}], \"barpolar\": [{\"marker\": {\"line\": {\"color\": \"#E5ECF6\", \"width\": 0.5}}, \"type\": \"barpolar\"}], \"carpet\": [{\"aaxis\": {\"endlinecolor\": \"#2a3f5f\", \"gridcolor\": \"white\", \"linecolor\": \"white\", \"minorgridcolor\": \"white\", \"startlinecolor\": \"#2a3f5f\"}, \"baxis\": {\"endlinecolor\": \"#2a3f5f\", \"gridcolor\": \"white\", \"linecolor\": \"white\", \"minorgridcolor\": \"white\", \"startlinecolor\": \"#2a3f5f\"}, \"type\": \"carpet\"}], \"choropleth\": [{\"colorbar\": {\"outlinewidth\": 0, \"ticks\": \"\"}, \"type\": \"choropleth\"}], \"contour\": [{\"colorbar\": {\"outlinewidth\": 0, \"ticks\": \"\"}, \"colorscale\": [[0.0, \"#0d0887\"], [0.1111111111111111, \"#46039f\"], [0.2222222222222222, \"#7201a8\"], [0.3333333333333333, \"#9c179e\"], [0.4444444444444444, \"#bd3786\"], [0.5555555555555556, \"#d8576b\"], [0.6666666666666666, \"#ed7953\"], [0.7777777777777778, \"#fb9f3a\"], [0.8888888888888888, \"#fdca26\"], [1.0, \"#f0f921\"]], \"type\": \"contour\"}], \"contourcarpet\": [{\"colorbar\": {\"outlinewidth\": 0, \"ticks\": \"\"}, \"type\": \"contourcarpet\"}], \"heatmap\": [{\"colorbar\": {\"outlinewidth\": 0, \"ticks\": \"\"}, \"colorscale\": [[0.0, \"#0d0887\"], [0.1111111111111111, \"#46039f\"], [0.2222222222222222, \"#7201a8\"], [0.3333333333333333, \"#9c179e\"], [0.4444444444444444, \"#bd3786\"], [0.5555555555555556, \"#d8576b\"], [0.6666666666666666, \"#ed7953\"], [0.7777777777777778, \"#fb9f3a\"], [0.8888888888888888, \"#fdca26\"], [1.0, \"#f0f921\"]], \"type\": \"heatmap\"}], \"heatmapgl\": [{\"colorbar\": {\"outlinewidth\": 0, \"ticks\": \"\"}, \"colorscale\": [[0.0, \"#0d0887\"], [0.1111111111111111, \"#46039f\"], [0.2222222222222222, \"#7201a8\"], [0.3333333333333333, \"#9c179e\"], [0.4444444444444444, \"#bd3786\"], [0.5555555555555556, \"#d8576b\"], [0.6666666666666666, \"#ed7953\"], [0.7777777777777778, \"#fb9f3a\"], [0.8888888888888888, \"#fdca26\"], [1.0, \"#f0f921\"]], \"type\": \"heatmapgl\"}], \"histogram\": [{\"marker\": {\"colorbar\": {\"outlinewidth\": 0, \"ticks\": \"\"}}, \"type\": \"histogram\"}], \"histogram2d\": [{\"colorbar\": {\"outlinewidth\": 0, \"ticks\": \"\"}, \"colorscale\": [[0.0, \"#0d0887\"], [0.1111111111111111, \"#46039f\"], [0.2222222222222222, \"#7201a8\"], [0.3333333333333333, \"#9c179e\"], [0.4444444444444444, \"#bd3786\"], [0.5555555555555556, \"#d8576b\"], [0.6666666666666666, \"#ed7953\"], [0.7777777777777778, \"#fb9f3a\"], [0.8888888888888888, \"#fdca26\"], [1.0, \"#f0f921\"]], \"type\": \"histogram2d\"}], \"histogram2dcontour\": [{\"colorbar\": {\"outlinewidth\": 0, \"ticks\": \"\"}, \"colorscale\": [[0.0, \"#0d0887\"], [0.1111111111111111, \"#46039f\"], [0.2222222222222222, \"#7201a8\"], [0.3333333333333333, \"#9c179e\"], [0.4444444444444444, \"#bd3786\"], [0.5555555555555556, \"#d8576b\"], [0.6666666666666666, \"#ed7953\"], [0.7777777777777778, \"#fb9f3a\"], [0.8888888888888888, \"#fdca26\"], [1.0, \"#f0f921\"]], \"type\": \"histogram2dcontour\"}], \"mesh3d\": [{\"colorbar\": {\"outlinewidth\": 0, \"ticks\": \"\"}, \"type\": \"mesh3d\"}], \"parcoords\": [{\"line\": {\"colorbar\": {\"outlinewidth\": 0, \"ticks\": \"\"}}, \"type\": \"parcoords\"}], \"pie\": [{\"automargin\": true, \"type\": \"pie\"}], \"scatter\": [{\"marker\": {\"colorbar\": {\"outlinewidth\": 0, \"ticks\": \"\"}}, \"type\": \"scatter\"}], \"scatter3d\": [{\"line\": {\"colorbar\": {\"outlinewidth\": 0, \"ticks\": \"\"}}, \"marker\": {\"colorbar\": {\"outlinewidth\": 0, \"ticks\": \"\"}}, \"type\": \"scatter3d\"}], \"scattercarpet\": [{\"marker\": {\"colorbar\": {\"outlinewidth\": 0, \"ticks\": \"\"}}, \"type\": \"scattercarpet\"}], \"scattergeo\": [{\"marker\": {\"colorbar\": {\"outlinewidth\": 0, \"ticks\": \"\"}}, \"type\": \"scattergeo\"}], \"scattergl\": [{\"marker\": {\"colorbar\": {\"outlinewidth\": 0, \"ticks\": \"\"}}, \"type\": \"scattergl\"}], \"scattermapbox\": [{\"marker\": {\"colorbar\": {\"outlinewidth\": 0, \"ticks\": \"\"}}, \"type\": \"scattermapbox\"}], \"scatterpolar\": [{\"marker\": {\"colorbar\": {\"outlinewidth\": 0, \"ticks\": \"\"}}, \"type\": \"scatterpolar\"}], \"scatterpolargl\": [{\"marker\": {\"colorbar\": {\"outlinewidth\": 0, \"ticks\": \"\"}}, \"type\": \"scatterpolargl\"}], \"scatterternary\": [{\"marker\": {\"colorbar\": {\"outlinewidth\": 0, \"ticks\": \"\"}}, \"type\": \"scatterternary\"}], \"surface\": [{\"colorbar\": {\"outlinewidth\": 0, \"ticks\": \"\"}, \"colorscale\": [[0.0, \"#0d0887\"], [0.1111111111111111, \"#46039f\"], [0.2222222222222222, \"#7201a8\"], [0.3333333333333333, \"#9c179e\"], [0.4444444444444444, \"#bd3786\"], [0.5555555555555556, \"#d8576b\"], [0.6666666666666666, \"#ed7953\"], [0.7777777777777778, \"#fb9f3a\"], [0.8888888888888888, \"#fdca26\"], [1.0, \"#f0f921\"]], \"type\": \"surface\"}], \"table\": [{\"cells\": {\"fill\": {\"color\": \"#EBF0F8\"}, \"line\": {\"color\": \"white\"}}, \"header\": {\"fill\": {\"color\": \"#C8D4E3\"}, \"line\": {\"color\": \"white\"}}, \"type\": \"table\"}]}, \"layout\": {\"annotationdefaults\": {\"arrowcolor\": \"#2a3f5f\", \"arrowhead\": 0, \"arrowwidth\": 1}, \"coloraxis\": {\"colorbar\": {\"outlinewidth\": 0, \"ticks\": \"\"}}, \"colorscale\": {\"diverging\": [[0, \"#8e0152\"], [0.1, \"#c51b7d\"], [0.2, \"#de77ae\"], [0.3, \"#f1b6da\"], [0.4, \"#fde0ef\"], [0.5, \"#f7f7f7\"], [0.6, \"#e6f5d0\"], [0.7, \"#b8e186\"], [0.8, \"#7fbc41\"], [0.9, \"#4d9221\"], [1, \"#276419\"]], \"sequential\": [[0.0, \"#0d0887\"], [0.1111111111111111, \"#46039f\"], [0.2222222222222222, \"#7201a8\"], [0.3333333333333333, \"#9c179e\"], [0.4444444444444444, \"#bd3786\"], [0.5555555555555556, \"#d8576b\"], [0.6666666666666666, \"#ed7953\"], [0.7777777777777778, \"#fb9f3a\"], [0.8888888888888888, \"#fdca26\"], [1.0, \"#f0f921\"]], \"sequentialminus\": [[0.0, \"#0d0887\"], [0.1111111111111111, \"#46039f\"], [0.2222222222222222, \"#7201a8\"], [0.3333333333333333, \"#9c179e\"], [0.4444444444444444, \"#bd3786\"], [0.5555555555555556, \"#d8576b\"], [0.6666666666666666, \"#ed7953\"], [0.7777777777777778, \"#fb9f3a\"], [0.8888888888888888, \"#fdca26\"], [1.0, \"#f0f921\"]]}, \"colorway\": [\"#636efa\", \"#EF553B\", \"#00cc96\", \"#ab63fa\", \"#FFA15A\", \"#19d3f3\", \"#FF6692\", \"#B6E880\", \"#FF97FF\", \"#FECB52\"], \"font\": {\"color\": \"#2a3f5f\"}, \"geo\": {\"bgcolor\": \"white\", \"lakecolor\": \"white\", \"landcolor\": \"#E5ECF6\", \"showlakes\": true, \"showland\": true, \"subunitcolor\": \"white\"}, \"hoverlabel\": {\"align\": \"left\"}, \"hovermode\": \"closest\", \"mapbox\": {\"style\": \"light\"}, \"paper_bgcolor\": \"white\", \"plot_bgcolor\": \"#E5ECF6\", \"polar\": {\"angularaxis\": {\"gridcolor\": \"white\", \"linecolor\": \"white\", \"ticks\": \"\"}, \"bgcolor\": \"#E5ECF6\", \"radialaxis\": {\"gridcolor\": \"white\", \"linecolor\": \"white\", \"ticks\": \"\"}}, \"scene\": {\"xaxis\": {\"backgroundcolor\": \"#E5ECF6\", \"gridcolor\": \"white\", \"gridwidth\": 2, \"linecolor\": \"white\", \"showbackground\": true, \"ticks\": \"\", \"zerolinecolor\": \"white\"}, \"yaxis\": {\"backgroundcolor\": \"#E5ECF6\", \"gridcolor\": \"white\", \"gridwidth\": 2, \"linecolor\": \"white\", \"showbackground\": true, \"ticks\": \"\", \"zerolinecolor\": \"white\"}, \"zaxis\": {\"backgroundcolor\": \"#E5ECF6\", \"gridcolor\": \"white\", \"gridwidth\": 2, \"linecolor\": \"white\", \"showbackground\": true, \"ticks\": \"\", \"zerolinecolor\": \"white\"}}, \"shapedefaults\": {\"line\": {\"color\": \"#2a3f5f\"}}, \"ternary\": {\"aaxis\": {\"gridcolor\": \"white\", \"linecolor\": \"white\", \"ticks\": \"\"}, \"baxis\": {\"gridcolor\": \"white\", \"linecolor\": \"white\", \"ticks\": \"\"}, \"bgcolor\": \"#E5ECF6\", \"caxis\": {\"gridcolor\": \"white\", \"linecolor\": \"white\", \"ticks\": \"\"}}, \"title\": {\"x\": 0.05}, \"xaxis\": {\"automargin\": true, \"gridcolor\": \"white\", \"linecolor\": \"white\", \"ticks\": \"\", \"title\": {\"standoff\": 15}, \"zerolinecolor\": \"white\", \"zerolinewidth\": 2}, \"yaxis\": {\"automargin\": true, \"gridcolor\": \"white\", \"linecolor\": \"white\", \"ticks\": \"\", \"title\": {\"standoff\": 15}, \"zerolinecolor\": \"white\", \"zerolinewidth\": 2}}}, \"xaxis\": {\"anchor\": \"y\", \"domain\": [0.0, 0.45], \"linecolor\": \"black\", \"linewidth\": 1.5, \"mirror\": true, \"showline\": true, \"title\": {\"text\": \"Day of Year\"}}, \"xaxis2\": {\"anchor\": \"y2\", \"domain\": [0.55, 1.0], \"linecolor\": \"black\", \"linewidth\": 1.5, \"mirror\": true, \"showline\": true, \"title\": {\"text\": \"Day of Year\"}}, \"yaxis\": {\"anchor\": \"x\", \"domain\": [0.0, 1.0], \"linecolor\": \"black\", \"linewidth\": 1.5, \"mirror\": true, \"showline\": true, \"title\": {\"text\": \"Cumulative Case Count Over Time\"}}, \"yaxis2\": {\"anchor\": \"x2\", \"domain\": [0.0, 1.0], \"linecolor\": \"black\", \"linewidth\": 1.5, \"mirror\": true, \"showline\": true, \"title\": {\"text\": \"Daily Incidence Over Time\"}}},\n",
       "                        {\"responsive\": true}\n",
       "                    ).then(function(){\n",
       "                            \n",
       "var gd = document.getElementById('f5534b40-5613-4640-9794-28ec999ecb90');\n",
       "var x = new MutationObserver(function (mutations, observer) {{\n",
       "        var display = window.getComputedStyle(gd).display;\n",
       "        if (!display || display === 'none') {{\n",
       "            console.log([gd, 'removed!']);\n",
       "            Plotly.purge(gd);\n",
       "            observer.disconnect();\n",
       "        }}\n",
       "}});\n",
       "\n",
       "// Listen for the removal of the full notebook cells\n",
       "var notebookContainer = gd.closest('#notebook-container');\n",
       "if (notebookContainer) {{\n",
       "    x.observe(notebookContainer, {childList: true});\n",
       "}}\n",
       "\n",
       "// Listen for the clearing of the current output cell\n",
       "var outputEl = gd.closest('.output');\n",
       "if (outputEl) {{\n",
       "    x.observe(outputEl, {childList: true});\n",
       "}}\n",
       "\n",
       "                        })\n",
       "                };\n",
       "                });\n",
       "            </script>\n",
       "        </div>"
      ]
     },
     "metadata": {},
     "output_type": "display_data"
    }
   ],
   "source": [
    "subset = global_cumulative.columns[:3]\n",
    "\n",
    "fig = make_subplots(rows=1, cols=2)\n",
    "for i,s in enumerate(subset):\n",
    "    fig.add_trace(go.Scatter(name=s,x=x_data,y=global_cumulative[s],mode='lines',line_color=colors[i],showlegend=True),row=1,col=1)\n",
    "    fig.add_trace(go.Scatter(name=s,x=x_data,y=global_inc_rolling3[s],mode='lines',line_color=colors[i],showlegend=False),row=1,col=2)\n",
    "\n",
    "fig.update_layout(height=350,margin=dict(l=20, r=20, t=50, b=20))\n",
    "fig.update_xaxes(title='Day of Year',showline=True, linewidth=1.5, linecolor='black', mirror=True)\n",
    "fig.update_yaxes(showline=True, linewidth=1.5, linecolor='black', mirror=True)\n",
    "fig.update_yaxes(title='Cumulative Case Count Over Time',row=1,col=1)\n",
    "fig.update_yaxes(title='Daily Incidence Over Time',row=1,col=2)\n",
    "fig.show()"
   ]
  },
  {
   "cell_type": "markdown",
   "metadata": {},
   "source": [
    "Now that we know what the case curves look like, we can attempt to do some modeling."
   ]
  },
  {
   "cell_type": "markdown",
   "metadata": {},
   "source": [
    "<a id='sec3'></a>"
   ]
  },
  {
   "cell_type": "markdown",
   "metadata": {},
   "source": [
    "## 3. Disease Modeling Basics"
   ]
  },
  {
   "cell_type": "markdown",
   "metadata": {},
   "source": [
    "Before we go further let's clarify some terminology.\n",
    "\n",
    ">**Daily incidence**: the number of new cases that are diagnosed every day. This represents how many new people are becoming infected every day, assuming testing is accurate. It's described in more detail [here](https://en.wikipedia.org/wiki/Incidence_(epidemiology)).\n",
    "\n",
    ">**Cumulative case count**: the number of cumulative cases every day. This represents how many total people have been infected up until a certain day, again assuming that testing is accurate.\n",
    "\n",
    "The graphs we just plotted above were the *cumulative case count* over time and the *daily incidence* over time, respectively. They are two different representations of the same data; the former is just the sum of the latter. Mathematically speaking, the cumulative case count at a certain day is the integral of the incidence up to that day. Equivalently, the incidence at a certain day is the derivative of the cumulative incidence on that day. We'll revisit that thought in a bit."
   ]
  },
  {
   "cell_type": "markdown",
   "metadata": {},
   "source": [
    "You may notice that the cumulative case counts look like they are increasing exponentially. In the early days of the outbreak, experts warned the public about such [exponential growth](https://en.wikipedia.org/wiki/Exponential_growth).\n",
    "\n",
    "But wait! An important property of an exponential is that its derivative and integral is also an exponential. If the cumulative case count were really increasing exponentially, then the daily incidence would be, too. But you can clearly see in the graphs above that the daily incidence first rises and then falls. It looks like a jagged hump. In fact, the daily incidence somewhat resembles a *bell curve*.\n",
    "\n",
    "You may have seen coronavirus graphs in the news that look something like this:"
   ]
  },
  {
   "cell_type": "code",
   "execution_count": 9,
   "metadata": {
    "jupyter": {
     "source_hidden": true
    }
   },
   "outputs": [
    {
     "data": {
      "application/vnd.plotly.v1+json": {
       "config": {
        "plotlyServerURL": "https://plot.ly"
       },
       "data": [
        {
         "mode": "lines",
         "name": "Fast spread",
         "type": "scatter",
         "x": [
          0,
          0.1,
          0.2,
          0.30000000000000004,
          0.4,
          0.5,
          0.6000000000000001,
          0.7000000000000001,
          0.8,
          0.9,
          1,
          1.1,
          1.2000000000000002,
          1.3,
          1.4000000000000001,
          1.5,
          1.6,
          1.7000000000000002,
          1.8,
          1.9000000000000001,
          2,
          2.1,
          2.2,
          2.3000000000000003,
          2.4000000000000004,
          2.5,
          2.6,
          2.7,
          2.8000000000000003,
          2.9000000000000004,
          3,
          3.1,
          3.2,
          3.3000000000000003,
          3.4000000000000004,
          3.5,
          3.6,
          3.7,
          3.8000000000000003,
          3.9000000000000004,
          4,
          4.1000000000000005,
          4.2,
          4.3,
          4.4,
          4.5,
          4.6000000000000005,
          4.7,
          4.800000000000001,
          4.9,
          5,
          5.1000000000000005,
          5.2,
          5.300000000000001,
          5.4,
          5.5,
          5.6000000000000005,
          5.7,
          5.800000000000001,
          5.9,
          6,
          6.1000000000000005,
          6.2,
          6.300000000000001,
          6.4,
          6.5,
          6.6000000000000005,
          6.7,
          6.800000000000001,
          6.9,
          7,
          7.1000000000000005,
          7.2,
          7.300000000000001,
          7.4,
          7.5,
          7.6000000000000005,
          7.7,
          7.800000000000001,
          7.9,
          8,
          8.1,
          8.200000000000001,
          8.3,
          8.4,
          8.5,
          8.6,
          8.700000000000001,
          8.8,
          8.9,
          9,
          9.1,
          9.200000000000001,
          9.3,
          9.4,
          9.5,
          9.600000000000001,
          9.700000000000001,
          9.8,
          9.9,
          10,
          10.100000000000001,
          10.200000000000001,
          10.3,
          10.4,
          10.5,
          10.600000000000001,
          10.700000000000001,
          10.8,
          10.9,
          11,
          11.100000000000001,
          11.200000000000001,
          11.3,
          11.4,
          11.5,
          11.600000000000001,
          11.700000000000001,
          11.8,
          11.9,
          12,
          12.100000000000001,
          12.200000000000001,
          12.3,
          12.4,
          12.5,
          12.600000000000001,
          12.700000000000001,
          12.8,
          12.9,
          13,
          13.100000000000001,
          13.200000000000001,
          13.3,
          13.4,
          13.5,
          13.600000000000001,
          13.700000000000001,
          13.8,
          13.9,
          14,
          14.100000000000001,
          14.200000000000001,
          14.3,
          14.4,
          14.5,
          14.600000000000001,
          14.700000000000001,
          14.8,
          14.9,
          15,
          15.100000000000001,
          15.200000000000001,
          15.3,
          15.4,
          15.5,
          15.600000000000001,
          15.700000000000001,
          15.8,
          15.9,
          16,
          16.1,
          16.2,
          16.3,
          16.400000000000002,
          16.5,
          16.6,
          16.7,
          16.8,
          16.900000000000002,
          17,
          17.1,
          17.2,
          17.3,
          17.400000000000002,
          17.5,
          17.6,
          17.7,
          17.8,
          17.900000000000002,
          18,
          18.1,
          18.2,
          18.3,
          18.400000000000002,
          18.5,
          18.6,
          18.7,
          18.8,
          18.900000000000002,
          19,
          19.1,
          19.200000000000003,
          19.3,
          19.400000000000002,
          19.5,
          19.6,
          19.700000000000003,
          19.8,
          19.900000000000002
         ],
         "y": [
          1.4867195147342979e-06,
          2.438960745893352e-06,
          3.961299091032075e-06,
          6.36982517886709e-06,
          1.014085206548676e-05,
          1.5983741106905478e-05,
          2.4942471290053535e-05,
          3.853519674208713e-05,
          5.8943067756539855e-05,
          8.926165717713293e-05,
          0.00013383022576488537,
          0.00019865547139277272,
          0.00029194692579146027,
          0.00042478027055075143,
          0.0006119019301137731,
          0.0008726826950457602,
          0.00123221916847302,
          0.0017225689390536812,
          0.0023840882014648404,
          0.0032668190561999247,
          0.0044318484119380075,
          0.005952532419775854,
          0.007915451582979969,
          0.010420934814422605,
          0.013582969233685634,
          0.01752830049356854,
          0.0223945302948429,
          0.02832703774160119,
          0.03547459284623146,
          0.04398359598042723,
          0.05399096651318806,
          0.0656158147746766,
          0.07895015830089419,
          0.09404907737688697,
          0.11092083467945564,
          0.12951759566589174,
          0.14972746563574488,
          0.1713685920478074,
          0.19418605498321304,
          0.21785217703255064,
          0.24197072451914337,
          0.266085249898755,
          0.28969155276148284,
          0.3122539333667612,
          0.3332246028917997,
          0.3520653267642995,
          0.36827014030332345,
          0.38138781546052414,
          0.391042693975456,
          0.3969525474770118,
          0.3989422804014327,
          0.39695254747701175,
          0.3910426939754559,
          0.3813878154605241,
          0.3682701403033233,
          0.3520653267642995,
          0.33322460289179956,
          0.3122539333667612,
          0.2896915527614826,
          0.26608524989875476,
          0.24197072451914337,
          0.21785217703255041,
          0.19418605498321292,
          0.1713685920478072,
          0.1497274656357448,
          0.12951759566589174,
          0.11092083467945546,
          0.0940490773768869,
          0.07895015830089407,
          0.06561581477467655,
          0.05399096651318806,
          0.043983595980427156,
          0.035474592846231424,
          0.02832703774160112,
          0.022394530294842882,
          0.01752830049356854,
          0.013582969233685602,
          0.010420934814422592,
          0.007915451582979946,
          0.005952532419775849,
          0.0044318484119380075,
          0.0032668190561999247,
          0.0023840882014648343,
          0.0017225689390536767,
          0.0012322191684730178,
          0.0008726826950457602,
          0.0006119019301137731,
          0.00042478027055074997,
          0.0002919469257914595,
          0.00019865547139277237,
          0.00013383022576488537,
          8.926165717713293e-05,
          5.894306775653965e-05,
          3.8535196742086994e-05,
          2.4942471290053535e-05,
          1.5983741106905478e-05,
          1.014085206548667e-05,
          6.369825178867069e-06,
          3.961299091032062e-06,
          2.438960745893352e-06,
          1.4867195147342979e-06,
          8.972435162383258e-07,
          5.361035344697595e-07,
          3.1713492167159643e-07,
          1.8573618445552897e-07,
          1.0769760042543276e-07,
          6.182620500165791e-08,
          3.5139550948204215e-08,
          1.9773196406244602e-08,
          1.1015763624682308e-08,
          6.075882849823286e-09,
          3.3178842435472697e-09,
          1.7937839079640732e-09,
          9.601433370312266e-10,
          5.088140281645039e-10,
          2.669556614762852e-10,
          1.3866799941653025e-10,
          7.131328123996026e-11,
          3.630961501791775e-11,
          1.8303322170155714e-11,
          9.134720408364595e-12,
          4.51354367720547e-12,
          2.2079899631371235e-12,
          1.0693837871541565e-12,
          5.127753636796663e-13,
          2.43432053302901e-13,
          1.1441564901801248e-13,
          5.324148372252925e-14,
          2.4528552856964153e-14,
          1.1187956214351817e-14,
          5.052271083536893e-15,
          2.2588094031542712e-15,
          9.998378748497037e-16,
          4.3816394355093266e-16,
          1.9010815379079637e-16,
          8.166235631669551e-17,
          3.472962748566158e-17,
          1.4622963575006376e-17,
          6.095758129562418e-18,
          2.5158057769514047e-18,
          1.0279773571668917e-18,
          4.158598979115072e-19,
          1.6655880323799054e-19,
          6.60457986073931e-20,
          2.592864701100371e-20,
          1.0077935394300011e-20,
          3.8781119317469065e-21,
          1.4774954927042438e-21,
          5.573000022720691e-22,
          2.0811768202028245e-22,
          7.69459862670642e-23,
          2.8165665442761825e-23,
          1.0207305594305957e-23,
          3.6623451685553784e-24,
          1.300961619923913e-24,
          4.575375590520806e-25,
          1.593111132700944e-25,
          5.49189783181774e-26,
          1.8743724023417964e-26,
          6.3335378218306055e-27,
          2.1188192535093538e-27,
          7.01775994266116e-28,
          2.3012307088481552e-28,
          7.471002275883472e-29,
          2.4013454000085015e-29,
          7.641655411587205e-30,
          2.4075611318392666e-30,
          7.509728772496528e-31,
          2.3191467772561174e-31,
          7.09070266842796e-32,
          2.1463837356630605e-32,
          6.432540334635658e-33,
          1.9085991346368163e-33,
          5.6066569263038325e-34,
          1.630610734839622e-34,
          4.6951953579751464e-35,
          1.3384867992542497e-35,
          3.77773572114912e-36,
          1.0556163502452738e-36,
          2.920368793868055e-37,
          7.998827757006813e-38,
          2.169062400260601e-38,
          5.8233755997365695e-39,
          1.547870466296206e-39,
          4.0733476775277295e-40,
          1.0612688139152163e-40,
          2.7375141923552304e-41,
          6.991082249706589e-42,
          1.7676224102535012e-42,
          4.424779583316042e-43,
          1.0966065593889713e-43,
          2.690711235642389e-44,
          6.536426775318379e-45,
          1.5720659586057322e-45,
          3.743330579884903e-46,
          8.824754974594825e-47,
          2.0597010224088725e-47,
          4.759515753020374e-48,
          1.0888759553277215e-48,
          2.466329525880481e-49
         ]
        },
        {
         "mode": "lines",
         "name": "Slow spread",
         "type": "scatter",
         "x": [
          0,
          0.1,
          0.2,
          0.30000000000000004,
          0.4,
          0.5,
          0.6000000000000001,
          0.7000000000000001,
          0.8,
          0.9,
          1,
          1.1,
          1.2000000000000002,
          1.3,
          1.4000000000000001,
          1.5,
          1.6,
          1.7000000000000002,
          1.8,
          1.9000000000000001,
          2,
          2.1,
          2.2,
          2.3000000000000003,
          2.4000000000000004,
          2.5,
          2.6,
          2.7,
          2.8000000000000003,
          2.9000000000000004,
          3,
          3.1,
          3.2,
          3.3000000000000003,
          3.4000000000000004,
          3.5,
          3.6,
          3.7,
          3.8000000000000003,
          3.9000000000000004,
          4,
          4.1000000000000005,
          4.2,
          4.3,
          4.4,
          4.5,
          4.6000000000000005,
          4.7,
          4.800000000000001,
          4.9,
          5,
          5.1000000000000005,
          5.2,
          5.300000000000001,
          5.4,
          5.5,
          5.6000000000000005,
          5.7,
          5.800000000000001,
          5.9,
          6,
          6.1000000000000005,
          6.2,
          6.300000000000001,
          6.4,
          6.5,
          6.6000000000000005,
          6.7,
          6.800000000000001,
          6.9,
          7,
          7.1000000000000005,
          7.2,
          7.300000000000001,
          7.4,
          7.5,
          7.6000000000000005,
          7.7,
          7.800000000000001,
          7.9,
          8,
          8.1,
          8.200000000000001,
          8.3,
          8.4,
          8.5,
          8.6,
          8.700000000000001,
          8.8,
          8.9,
          9,
          9.1,
          9.200000000000001,
          9.3,
          9.4,
          9.5,
          9.600000000000001,
          9.700000000000001,
          9.8,
          9.9,
          10,
          10.100000000000001,
          10.200000000000001,
          10.3,
          10.4,
          10.5,
          10.600000000000001,
          10.700000000000001,
          10.8,
          10.9,
          11,
          11.100000000000001,
          11.200000000000001,
          11.3,
          11.4,
          11.5,
          11.600000000000001,
          11.700000000000001,
          11.8,
          11.9,
          12,
          12.100000000000001,
          12.200000000000001,
          12.3,
          12.4,
          12.5,
          12.600000000000001,
          12.700000000000001,
          12.8,
          12.9,
          13,
          13.100000000000001,
          13.200000000000001,
          13.3,
          13.4,
          13.5,
          13.600000000000001,
          13.700000000000001,
          13.8,
          13.9,
          14,
          14.100000000000001,
          14.200000000000001,
          14.3,
          14.4,
          14.5,
          14.600000000000001,
          14.700000000000001,
          14.8,
          14.9,
          15,
          15.100000000000001,
          15.200000000000001,
          15.3,
          15.4,
          15.5,
          15.600000000000001,
          15.700000000000001,
          15.8,
          15.9,
          16,
          16.1,
          16.2,
          16.3,
          16.400000000000002,
          16.5,
          16.6,
          16.7,
          16.8,
          16.900000000000002,
          17,
          17.1,
          17.2,
          17.3,
          17.400000000000002,
          17.5,
          17.6,
          17.7,
          17.8,
          17.900000000000002,
          18,
          18.1,
          18.2,
          18.3,
          18.400000000000002,
          18.5,
          18.6,
          18.7,
          18.8,
          18.900000000000002,
          19,
          19.1,
          19.200000000000003,
          19.3,
          19.400000000000002,
          19.5,
          19.6,
          19.700000000000003,
          19.8,
          19.900000000000002
         ],
         "y": [
          0.0005140929987637018,
          0.0005741896463512261,
          0.0006405993231173357,
          0.0007138961573442565,
          0.0007946960671549483,
          0.0008836586514767019,
          0.0009814890401277866,
          0.0010889396853999728,
          0.00120681207600643,
          0.001335958352772115,
          0.001477282803979336,
          0.0016317432168629776,
          0.0018003520603981236,
          0.001984177473258618,
          0.0021843440296711743,
          0.0024020332548697412,
          0.0026384838609933192,
          0.0028949916735929652,
          0.003172909218445733,
          0.0034736449381408685,
          0.003798662007932481,
          0.004149476720668069,
          0.004527656411228538,
          0.004934816891875435,
          0.005372619371216331,
          0.005842766831189513,
          0.006346999838550089,
          0.006887091769826073,
          0.0074648434316142995,
          0.00808207706140912,
          0.00874062969790316,
          0.009442345913867055,
          0.010189069909295164,
          0.010982636967484772,
          0.011824864282077152,
          0.012717541168805994,
          0.01366241868174073,
          0.0146611986601424,
          0.01571552223862387,
          0.0168269578600759,
          0.017996988837729353,
          0.01922700051971094,
          0.02051826711644909,
          0.02187193825822553,
          0.023289025356971735,
          0.0247703878529977,
          0.026316719433631397,
          0.027928534316654915,
          0.029606153696863965,
          0.03134969245896232,
          0.03315904626424956,
          0.0350338791220834,
          0.036973611559818535,
          0.038977409506766855,
          0.04104417400861653,
          0.04317253188863058,
          0.04536082747075937,
          0.04760711547750344,
          0.04990915521191499,
          0.05226440612850288,
          0.05467002489199788,
          0.057122864015935804,
          0.05961947216484686,
          0.06215609619452194,
          0.06472868499440433,
          0.06733289518468628,
          0.06996409870824144,
          0.07261739234418353,
          0.07528760915570819,
          0.07796933187005435,
          0.08065690817304778,
          0.08334446788488616,
          0.08602594196774592,
          0.08869508329958496,
          0.09134548913234282,
          0.09397062513676752,
          0.09656385092049428,
          0.0991184468909342,
          0.1016276423201724,
          0.10408464445558711,
          0.10648266850745075,
          0.10881496833350866,
          0.11107486763059991,
          0.11325579143491937,
          0.115351297725641,
          0.11735510892143318,
          0.11926114305598966,
          0.12106354441713936,
          0.12275671343444113,
          0.12433533560244286,
          0.12579440923099774,
          0.1271292718201747,
          0.12833562486533798,
          0.12940955690784897,
          0.13034756465848532,
          0.13114657203397997,
          0.13180394696193923,
          0.1323175158256706,
          0.1326855754379841,
          0.132906902451659,
          0.1329807601338109,
          0.132906902451659,
          0.13268557543798407,
          0.1323175158256706,
          0.13180394696193923,
          0.13114657203397997,
          0.1303475646584853,
          0.12940955690784894,
          0.12833562486533798,
          0.1271292718201747,
          0.12579440923099774,
          0.12433533560244282,
          0.1227567134344411,
          0.12106354441713933,
          0.11926114305598966,
          0.11735510892143318,
          0.11535129772564094,
          0.11325579143491933,
          0.11107486763059987,
          0.10881496833350866,
          0.10648266850745075,
          0.10408464445558707,
          0.10162764232017236,
          0.09911844689093417,
          0.09656385092049424,
          0.09397062513676752,
          0.09134548913234279,
          0.08869508329958492,
          0.08602594196774588,
          0.08334446788488616,
          0.08065690817304778,
          0.0779693318700543,
          0.07528760915570813,
          0.0726173923441835,
          0.0699640987082414,
          0.06733289518468628,
          0.06472868499440429,
          0.0621560961945219,
          0.05961947216484684,
          0.05712286401593578,
          0.05467002489199788,
          0.052264406128502826,
          0.049909155211914934,
          0.047607115477503424,
          0.04536082747075935,
          0.04317253188863058,
          0.04104417400861649,
          0.03897740950676681,
          0.03697361155981851,
          0.03503387912208338,
          0.03315904626424956,
          0.03134969245896229,
          0.02960615369686394,
          0.0279285343166549,
          0.026316719433631383,
          0.0247703878529977,
          0.02328902535697171,
          0.021871938258225518,
          0.020518267116449083,
          0.01922700051971093,
          0.017996988837729353,
          0.016826957860075886,
          0.01571552223862387,
          0.0146611986601424,
          0.013662418681740708,
          0.012717541168805994,
          0.01182486428207713,
          0.010982636967484772,
          0.010189069909295148,
          0.00944234591386704,
          0.00874062969790316,
          0.00808207706140911,
          0.0074648434316142995,
          0.006887091769826068,
          0.0063469998385500825,
          0.005842766831189513,
          0.005372619371216326,
          0.004934816891875435,
          0.004527656411228538,
          0.004149476720668058,
          0.003798662007932481,
          0.0034736449381408594,
          0.003172909218445733,
          0.0028949916735929652,
          0.0026384838609933153,
          0.0024020332548697412,
          0.002184344029671172,
          0.001984177473258618,
          0.0018003520603981236,
          0.0016317432168629759,
          0.001477282803979336,
          0.0013359583527721138,
          0.0012068120760064258,
          0.0010889396853999728,
          0.0009814890401277838,
          0.0008836586514767019,
          0.0007946960671549461,
          0.0007138961573442542,
          0.0006405993231173357,
          0.0005741896463512256
         ]
        }
       ],
       "layout": {
        "height": 350,
        "margin": {
         "b": 20,
         "l": 20,
         "r": 20,
         "t": 50
        },
        "template": {
         "data": {
          "bar": [
           {
            "error_x": {
             "color": "#2a3f5f"
            },
            "error_y": {
             "color": "#2a3f5f"
            },
            "marker": {
             "line": {
              "color": "#E5ECF6",
              "width": 0.5
             }
            },
            "type": "bar"
           }
          ],
          "barpolar": [
           {
            "marker": {
             "line": {
              "color": "#E5ECF6",
              "width": 0.5
             }
            },
            "type": "barpolar"
           }
          ],
          "carpet": [
           {
            "aaxis": {
             "endlinecolor": "#2a3f5f",
             "gridcolor": "white",
             "linecolor": "white",
             "minorgridcolor": "white",
             "startlinecolor": "#2a3f5f"
            },
            "baxis": {
             "endlinecolor": "#2a3f5f",
             "gridcolor": "white",
             "linecolor": "white",
             "minorgridcolor": "white",
             "startlinecolor": "#2a3f5f"
            },
            "type": "carpet"
           }
          ],
          "choropleth": [
           {
            "colorbar": {
             "outlinewidth": 0,
             "ticks": ""
            },
            "type": "choropleth"
           }
          ],
          "contour": [
           {
            "colorbar": {
             "outlinewidth": 0,
             "ticks": ""
            },
            "colorscale": [
             [
              0,
              "#0d0887"
             ],
             [
              0.1111111111111111,
              "#46039f"
             ],
             [
              0.2222222222222222,
              "#7201a8"
             ],
             [
              0.3333333333333333,
              "#9c179e"
             ],
             [
              0.4444444444444444,
              "#bd3786"
             ],
             [
              0.5555555555555556,
              "#d8576b"
             ],
             [
              0.6666666666666666,
              "#ed7953"
             ],
             [
              0.7777777777777778,
              "#fb9f3a"
             ],
             [
              0.8888888888888888,
              "#fdca26"
             ],
             [
              1,
              "#f0f921"
             ]
            ],
            "type": "contour"
           }
          ],
          "contourcarpet": [
           {
            "colorbar": {
             "outlinewidth": 0,
             "ticks": ""
            },
            "type": "contourcarpet"
           }
          ],
          "heatmap": [
           {
            "colorbar": {
             "outlinewidth": 0,
             "ticks": ""
            },
            "colorscale": [
             [
              0,
              "#0d0887"
             ],
             [
              0.1111111111111111,
              "#46039f"
             ],
             [
              0.2222222222222222,
              "#7201a8"
             ],
             [
              0.3333333333333333,
              "#9c179e"
             ],
             [
              0.4444444444444444,
              "#bd3786"
             ],
             [
              0.5555555555555556,
              "#d8576b"
             ],
             [
              0.6666666666666666,
              "#ed7953"
             ],
             [
              0.7777777777777778,
              "#fb9f3a"
             ],
             [
              0.8888888888888888,
              "#fdca26"
             ],
             [
              1,
              "#f0f921"
             ]
            ],
            "type": "heatmap"
           }
          ],
          "heatmapgl": [
           {
            "colorbar": {
             "outlinewidth": 0,
             "ticks": ""
            },
            "colorscale": [
             [
              0,
              "#0d0887"
             ],
             [
              0.1111111111111111,
              "#46039f"
             ],
             [
              0.2222222222222222,
              "#7201a8"
             ],
             [
              0.3333333333333333,
              "#9c179e"
             ],
             [
              0.4444444444444444,
              "#bd3786"
             ],
             [
              0.5555555555555556,
              "#d8576b"
             ],
             [
              0.6666666666666666,
              "#ed7953"
             ],
             [
              0.7777777777777778,
              "#fb9f3a"
             ],
             [
              0.8888888888888888,
              "#fdca26"
             ],
             [
              1,
              "#f0f921"
             ]
            ],
            "type": "heatmapgl"
           }
          ],
          "histogram": [
           {
            "marker": {
             "colorbar": {
              "outlinewidth": 0,
              "ticks": ""
             }
            },
            "type": "histogram"
           }
          ],
          "histogram2d": [
           {
            "colorbar": {
             "outlinewidth": 0,
             "ticks": ""
            },
            "colorscale": [
             [
              0,
              "#0d0887"
             ],
             [
              0.1111111111111111,
              "#46039f"
             ],
             [
              0.2222222222222222,
              "#7201a8"
             ],
             [
              0.3333333333333333,
              "#9c179e"
             ],
             [
              0.4444444444444444,
              "#bd3786"
             ],
             [
              0.5555555555555556,
              "#d8576b"
             ],
             [
              0.6666666666666666,
              "#ed7953"
             ],
             [
              0.7777777777777778,
              "#fb9f3a"
             ],
             [
              0.8888888888888888,
              "#fdca26"
             ],
             [
              1,
              "#f0f921"
             ]
            ],
            "type": "histogram2d"
           }
          ],
          "histogram2dcontour": [
           {
            "colorbar": {
             "outlinewidth": 0,
             "ticks": ""
            },
            "colorscale": [
             [
              0,
              "#0d0887"
             ],
             [
              0.1111111111111111,
              "#46039f"
             ],
             [
              0.2222222222222222,
              "#7201a8"
             ],
             [
              0.3333333333333333,
              "#9c179e"
             ],
             [
              0.4444444444444444,
              "#bd3786"
             ],
             [
              0.5555555555555556,
              "#d8576b"
             ],
             [
              0.6666666666666666,
              "#ed7953"
             ],
             [
              0.7777777777777778,
              "#fb9f3a"
             ],
             [
              0.8888888888888888,
              "#fdca26"
             ],
             [
              1,
              "#f0f921"
             ]
            ],
            "type": "histogram2dcontour"
           }
          ],
          "mesh3d": [
           {
            "colorbar": {
             "outlinewidth": 0,
             "ticks": ""
            },
            "type": "mesh3d"
           }
          ],
          "parcoords": [
           {
            "line": {
             "colorbar": {
              "outlinewidth": 0,
              "ticks": ""
             }
            },
            "type": "parcoords"
           }
          ],
          "pie": [
           {
            "automargin": true,
            "type": "pie"
           }
          ],
          "scatter": [
           {
            "marker": {
             "colorbar": {
              "outlinewidth": 0,
              "ticks": ""
             }
            },
            "type": "scatter"
           }
          ],
          "scatter3d": [
           {
            "line": {
             "colorbar": {
              "outlinewidth": 0,
              "ticks": ""
             }
            },
            "marker": {
             "colorbar": {
              "outlinewidth": 0,
              "ticks": ""
             }
            },
            "type": "scatter3d"
           }
          ],
          "scattercarpet": [
           {
            "marker": {
             "colorbar": {
              "outlinewidth": 0,
              "ticks": ""
             }
            },
            "type": "scattercarpet"
           }
          ],
          "scattergeo": [
           {
            "marker": {
             "colorbar": {
              "outlinewidth": 0,
              "ticks": ""
             }
            },
            "type": "scattergeo"
           }
          ],
          "scattergl": [
           {
            "marker": {
             "colorbar": {
              "outlinewidth": 0,
              "ticks": ""
             }
            },
            "type": "scattergl"
           }
          ],
          "scattermapbox": [
           {
            "marker": {
             "colorbar": {
              "outlinewidth": 0,
              "ticks": ""
             }
            },
            "type": "scattermapbox"
           }
          ],
          "scatterpolar": [
           {
            "marker": {
             "colorbar": {
              "outlinewidth": 0,
              "ticks": ""
             }
            },
            "type": "scatterpolar"
           }
          ],
          "scatterpolargl": [
           {
            "marker": {
             "colorbar": {
              "outlinewidth": 0,
              "ticks": ""
             }
            },
            "type": "scatterpolargl"
           }
          ],
          "scatterternary": [
           {
            "marker": {
             "colorbar": {
              "outlinewidth": 0,
              "ticks": ""
             }
            },
            "type": "scatterternary"
           }
          ],
          "surface": [
           {
            "colorbar": {
             "outlinewidth": 0,
             "ticks": ""
            },
            "colorscale": [
             [
              0,
              "#0d0887"
             ],
             [
              0.1111111111111111,
              "#46039f"
             ],
             [
              0.2222222222222222,
              "#7201a8"
             ],
             [
              0.3333333333333333,
              "#9c179e"
             ],
             [
              0.4444444444444444,
              "#bd3786"
             ],
             [
              0.5555555555555556,
              "#d8576b"
             ],
             [
              0.6666666666666666,
              "#ed7953"
             ],
             [
              0.7777777777777778,
              "#fb9f3a"
             ],
             [
              0.8888888888888888,
              "#fdca26"
             ],
             [
              1,
              "#f0f921"
             ]
            ],
            "type": "surface"
           }
          ],
          "table": [
           {
            "cells": {
             "fill": {
              "color": "#EBF0F8"
             },
             "line": {
              "color": "white"
             }
            },
            "header": {
             "fill": {
              "color": "#C8D4E3"
             },
             "line": {
              "color": "white"
             }
            },
            "type": "table"
           }
          ]
         },
         "layout": {
          "annotationdefaults": {
           "arrowcolor": "#2a3f5f",
           "arrowhead": 0,
           "arrowwidth": 1
          },
          "coloraxis": {
           "colorbar": {
            "outlinewidth": 0,
            "ticks": ""
           }
          },
          "colorscale": {
           "diverging": [
            [
             0,
             "#8e0152"
            ],
            [
             0.1,
             "#c51b7d"
            ],
            [
             0.2,
             "#de77ae"
            ],
            [
             0.3,
             "#f1b6da"
            ],
            [
             0.4,
             "#fde0ef"
            ],
            [
             0.5,
             "#f7f7f7"
            ],
            [
             0.6,
             "#e6f5d0"
            ],
            [
             0.7,
             "#b8e186"
            ],
            [
             0.8,
             "#7fbc41"
            ],
            [
             0.9,
             "#4d9221"
            ],
            [
             1,
             "#276419"
            ]
           ],
           "sequential": [
            [
             0,
             "#0d0887"
            ],
            [
             0.1111111111111111,
             "#46039f"
            ],
            [
             0.2222222222222222,
             "#7201a8"
            ],
            [
             0.3333333333333333,
             "#9c179e"
            ],
            [
             0.4444444444444444,
             "#bd3786"
            ],
            [
             0.5555555555555556,
             "#d8576b"
            ],
            [
             0.6666666666666666,
             "#ed7953"
            ],
            [
             0.7777777777777778,
             "#fb9f3a"
            ],
            [
             0.8888888888888888,
             "#fdca26"
            ],
            [
             1,
             "#f0f921"
            ]
           ],
           "sequentialminus": [
            [
             0,
             "#0d0887"
            ],
            [
             0.1111111111111111,
             "#46039f"
            ],
            [
             0.2222222222222222,
             "#7201a8"
            ],
            [
             0.3333333333333333,
             "#9c179e"
            ],
            [
             0.4444444444444444,
             "#bd3786"
            ],
            [
             0.5555555555555556,
             "#d8576b"
            ],
            [
             0.6666666666666666,
             "#ed7953"
            ],
            [
             0.7777777777777778,
             "#fb9f3a"
            ],
            [
             0.8888888888888888,
             "#fdca26"
            ],
            [
             1,
             "#f0f921"
            ]
           ]
          },
          "colorway": [
           "#636efa",
           "#EF553B",
           "#00cc96",
           "#ab63fa",
           "#FFA15A",
           "#19d3f3",
           "#FF6692",
           "#B6E880",
           "#FF97FF",
           "#FECB52"
          ],
          "font": {
           "color": "#2a3f5f"
          },
          "geo": {
           "bgcolor": "white",
           "lakecolor": "white",
           "landcolor": "#E5ECF6",
           "showlakes": true,
           "showland": true,
           "subunitcolor": "white"
          },
          "hoverlabel": {
           "align": "left"
          },
          "hovermode": "closest",
          "mapbox": {
           "style": "light"
          },
          "paper_bgcolor": "white",
          "plot_bgcolor": "#E5ECF6",
          "polar": {
           "angularaxis": {
            "gridcolor": "white",
            "linecolor": "white",
            "ticks": ""
           },
           "bgcolor": "#E5ECF6",
           "radialaxis": {
            "gridcolor": "white",
            "linecolor": "white",
            "ticks": ""
           }
          },
          "scene": {
           "xaxis": {
            "backgroundcolor": "#E5ECF6",
            "gridcolor": "white",
            "gridwidth": 2,
            "linecolor": "white",
            "showbackground": true,
            "ticks": "",
            "zerolinecolor": "white"
           },
           "yaxis": {
            "backgroundcolor": "#E5ECF6",
            "gridcolor": "white",
            "gridwidth": 2,
            "linecolor": "white",
            "showbackground": true,
            "ticks": "",
            "zerolinecolor": "white"
           },
           "zaxis": {
            "backgroundcolor": "#E5ECF6",
            "gridcolor": "white",
            "gridwidth": 2,
            "linecolor": "white",
            "showbackground": true,
            "ticks": "",
            "zerolinecolor": "white"
           }
          },
          "shapedefaults": {
           "line": {
            "color": "#2a3f5f"
           }
          },
          "ternary": {
           "aaxis": {
            "gridcolor": "white",
            "linecolor": "white",
            "ticks": ""
           },
           "baxis": {
            "gridcolor": "white",
            "linecolor": "white",
            "ticks": ""
           },
           "bgcolor": "#E5ECF6",
           "caxis": {
            "gridcolor": "white",
            "linecolor": "white",
            "ticks": ""
           }
          },
          "title": {
           "x": 0.05
          },
          "xaxis": {
           "automargin": true,
           "gridcolor": "white",
           "linecolor": "white",
           "ticks": "",
           "title": {
            "standoff": 15
           },
           "zerolinecolor": "white",
           "zerolinewidth": 2
          },
          "yaxis": {
           "automargin": true,
           "gridcolor": "white",
           "linecolor": "white",
           "ticks": "",
           "title": {
            "standoff": 15
           },
           "zerolinecolor": "white",
           "zerolinewidth": 2
          }
         }
        },
        "width": 600,
        "xaxis": {
         "linecolor": "black",
         "linewidth": 1.5,
         "mirror": true,
         "showline": true,
         "title": {
          "text": "Days"
         }
        },
        "yaxis": {
         "linecolor": "black",
         "linewidth": 1.5,
         "mirror": true,
         "showline": true,
         "title": {
          "text": "Number of new cases"
         }
        }
       }
      },
      "text/html": [
       "<div>\n",
       "        \n",
       "        \n",
       "            <div id=\"bf1dd335-6e40-4101-96c8-7472deed2323\" class=\"plotly-graph-div\" style=\"height:350px; width:600px;\"></div>\n",
       "            <script type=\"text/javascript\">\n",
       "                require([\"plotly\"], function(Plotly) {\n",
       "                    window.PLOTLYENV=window.PLOTLYENV || {};\n",
       "                    \n",
       "                if (document.getElementById(\"bf1dd335-6e40-4101-96c8-7472deed2323\")) {\n",
       "                    Plotly.newPlot(\n",
       "                        'bf1dd335-6e40-4101-96c8-7472deed2323',\n",
       "                        [{\"mode\": \"lines\", \"name\": \"Fast spread\", \"type\": \"scatter\", \"x\": [0.0, 0.1, 0.2, 0.30000000000000004, 0.4, 0.5, 0.6000000000000001, 0.7000000000000001, 0.8, 0.9, 1.0, 1.1, 1.2000000000000002, 1.3, 1.4000000000000001, 1.5, 1.6, 1.7000000000000002, 1.8, 1.9000000000000001, 2.0, 2.1, 2.2, 2.3000000000000003, 2.4000000000000004, 2.5, 2.6, 2.7, 2.8000000000000003, 2.9000000000000004, 3.0, 3.1, 3.2, 3.3000000000000003, 3.4000000000000004, 3.5, 3.6, 3.7, 3.8000000000000003, 3.9000000000000004, 4.0, 4.1000000000000005, 4.2, 4.3, 4.4, 4.5, 4.6000000000000005, 4.7, 4.800000000000001, 4.9, 5.0, 5.1000000000000005, 5.2, 5.300000000000001, 5.4, 5.5, 5.6000000000000005, 5.7, 5.800000000000001, 5.9, 6.0, 6.1000000000000005, 6.2, 6.300000000000001, 6.4, 6.5, 6.6000000000000005, 6.7, 6.800000000000001, 6.9, 7.0, 7.1000000000000005, 7.2, 7.300000000000001, 7.4, 7.5, 7.6000000000000005, 7.7, 7.800000000000001, 7.9, 8.0, 8.1, 8.200000000000001, 8.3, 8.4, 8.5, 8.6, 8.700000000000001, 8.8, 8.9, 9.0, 9.1, 9.200000000000001, 9.3, 9.4, 9.5, 9.600000000000001, 9.700000000000001, 9.8, 9.9, 10.0, 10.100000000000001, 10.200000000000001, 10.3, 10.4, 10.5, 10.600000000000001, 10.700000000000001, 10.8, 10.9, 11.0, 11.100000000000001, 11.200000000000001, 11.3, 11.4, 11.5, 11.600000000000001, 11.700000000000001, 11.8, 11.9, 12.0, 12.100000000000001, 12.200000000000001, 12.3, 12.4, 12.5, 12.600000000000001, 12.700000000000001, 12.8, 12.9, 13.0, 13.100000000000001, 13.200000000000001, 13.3, 13.4, 13.5, 13.600000000000001, 13.700000000000001, 13.8, 13.9, 14.0, 14.100000000000001, 14.200000000000001, 14.3, 14.4, 14.5, 14.600000000000001, 14.700000000000001, 14.8, 14.9, 15.0, 15.100000000000001, 15.200000000000001, 15.3, 15.4, 15.5, 15.600000000000001, 15.700000000000001, 15.8, 15.9, 16.0, 16.1, 16.2, 16.3, 16.400000000000002, 16.5, 16.6, 16.7, 16.8, 16.900000000000002, 17.0, 17.1, 17.2, 17.3, 17.400000000000002, 17.5, 17.6, 17.7, 17.8, 17.900000000000002, 18.0, 18.1, 18.2, 18.3, 18.400000000000002, 18.5, 18.6, 18.7, 18.8, 18.900000000000002, 19.0, 19.1, 19.200000000000003, 19.3, 19.400000000000002, 19.5, 19.6, 19.700000000000003, 19.8, 19.900000000000002], \"y\": [1.4867195147342979e-06, 2.438960745893352e-06, 3.961299091032075e-06, 6.36982517886709e-06, 1.014085206548676e-05, 1.5983741106905478e-05, 2.4942471290053535e-05, 3.853519674208713e-05, 5.8943067756539855e-05, 8.926165717713293e-05, 0.00013383022576488537, 0.00019865547139277272, 0.00029194692579146027, 0.00042478027055075143, 0.0006119019301137731, 0.0008726826950457602, 0.00123221916847302, 0.0017225689390536812, 0.0023840882014648404, 0.0032668190561999247, 0.0044318484119380075, 0.005952532419775854, 0.007915451582979969, 0.010420934814422605, 0.013582969233685634, 0.01752830049356854, 0.0223945302948429, 0.02832703774160119, 0.03547459284623146, 0.04398359598042723, 0.05399096651318806, 0.0656158147746766, 0.07895015830089419, 0.09404907737688697, 0.11092083467945564, 0.12951759566589174, 0.14972746563574488, 0.1713685920478074, 0.19418605498321304, 0.21785217703255064, 0.24197072451914337, 0.266085249898755, 0.28969155276148284, 0.3122539333667612, 0.3332246028917997, 0.3520653267642995, 0.36827014030332345, 0.38138781546052414, 0.391042693975456, 0.3969525474770118, 0.3989422804014327, 0.39695254747701175, 0.3910426939754559, 0.3813878154605241, 0.3682701403033233, 0.3520653267642995, 0.33322460289179956, 0.3122539333667612, 0.2896915527614826, 0.26608524989875476, 0.24197072451914337, 0.21785217703255041, 0.19418605498321292, 0.1713685920478072, 0.1497274656357448, 0.12951759566589174, 0.11092083467945546, 0.0940490773768869, 0.07895015830089407, 0.06561581477467655, 0.05399096651318806, 0.043983595980427156, 0.035474592846231424, 0.02832703774160112, 0.022394530294842882, 0.01752830049356854, 0.013582969233685602, 0.010420934814422592, 0.007915451582979946, 0.005952532419775849, 0.0044318484119380075, 0.0032668190561999247, 0.0023840882014648343, 0.0017225689390536767, 0.0012322191684730178, 0.0008726826950457602, 0.0006119019301137731, 0.00042478027055074997, 0.0002919469257914595, 0.00019865547139277237, 0.00013383022576488537, 8.926165717713293e-05, 5.894306775653965e-05, 3.8535196742086994e-05, 2.4942471290053535e-05, 1.5983741106905478e-05, 1.014085206548667e-05, 6.369825178867069e-06, 3.961299091032062e-06, 2.438960745893352e-06, 1.4867195147342979e-06, 8.972435162383258e-07, 5.361035344697595e-07, 3.1713492167159643e-07, 1.8573618445552897e-07, 1.0769760042543276e-07, 6.182620500165791e-08, 3.5139550948204215e-08, 1.9773196406244602e-08, 1.1015763624682308e-08, 6.075882849823286e-09, 3.3178842435472697e-09, 1.7937839079640732e-09, 9.601433370312266e-10, 5.088140281645039e-10, 2.669556614762852e-10, 1.3866799941653025e-10, 7.131328123996026e-11, 3.630961501791775e-11, 1.8303322170155714e-11, 9.134720408364595e-12, 4.51354367720547e-12, 2.2079899631371235e-12, 1.0693837871541565e-12, 5.127753636796663e-13, 2.43432053302901e-13, 1.1441564901801248e-13, 5.324148372252925e-14, 2.4528552856964153e-14, 1.1187956214351817e-14, 5.052271083536893e-15, 2.2588094031542712e-15, 9.998378748497037e-16, 4.3816394355093266e-16, 1.9010815379079637e-16, 8.166235631669551e-17, 3.472962748566158e-17, 1.4622963575006376e-17, 6.095758129562418e-18, 2.5158057769514047e-18, 1.0279773571668917e-18, 4.158598979115072e-19, 1.6655880323799054e-19, 6.60457986073931e-20, 2.592864701100371e-20, 1.0077935394300011e-20, 3.8781119317469065e-21, 1.4774954927042438e-21, 5.573000022720691e-22, 2.0811768202028245e-22, 7.69459862670642e-23, 2.8165665442761825e-23, 1.0207305594305957e-23, 3.6623451685553784e-24, 1.300961619923913e-24, 4.575375590520806e-25, 1.593111132700944e-25, 5.49189783181774e-26, 1.8743724023417964e-26, 6.3335378218306055e-27, 2.1188192535093538e-27, 7.01775994266116e-28, 2.3012307088481552e-28, 7.471002275883472e-29, 2.4013454000085015e-29, 7.641655411587205e-30, 2.4075611318392666e-30, 7.509728772496528e-31, 2.3191467772561174e-31, 7.09070266842796e-32, 2.1463837356630605e-32, 6.432540334635658e-33, 1.9085991346368163e-33, 5.6066569263038325e-34, 1.630610734839622e-34, 4.6951953579751464e-35, 1.3384867992542497e-35, 3.77773572114912e-36, 1.0556163502452738e-36, 2.920368793868055e-37, 7.998827757006813e-38, 2.169062400260601e-38, 5.8233755997365695e-39, 1.547870466296206e-39, 4.0733476775277295e-40, 1.0612688139152163e-40, 2.7375141923552304e-41, 6.991082249706589e-42, 1.7676224102535012e-42, 4.424779583316042e-43, 1.0966065593889713e-43, 2.690711235642389e-44, 6.536426775318379e-45, 1.5720659586057322e-45, 3.743330579884903e-46, 8.824754974594825e-47, 2.0597010224088725e-47, 4.759515753020374e-48, 1.0888759553277215e-48, 2.466329525880481e-49]}, {\"mode\": \"lines\", \"name\": \"Slow spread\", \"type\": \"scatter\", \"x\": [0.0, 0.1, 0.2, 0.30000000000000004, 0.4, 0.5, 0.6000000000000001, 0.7000000000000001, 0.8, 0.9, 1.0, 1.1, 1.2000000000000002, 1.3, 1.4000000000000001, 1.5, 1.6, 1.7000000000000002, 1.8, 1.9000000000000001, 2.0, 2.1, 2.2, 2.3000000000000003, 2.4000000000000004, 2.5, 2.6, 2.7, 2.8000000000000003, 2.9000000000000004, 3.0, 3.1, 3.2, 3.3000000000000003, 3.4000000000000004, 3.5, 3.6, 3.7, 3.8000000000000003, 3.9000000000000004, 4.0, 4.1000000000000005, 4.2, 4.3, 4.4, 4.5, 4.6000000000000005, 4.7, 4.800000000000001, 4.9, 5.0, 5.1000000000000005, 5.2, 5.300000000000001, 5.4, 5.5, 5.6000000000000005, 5.7, 5.800000000000001, 5.9, 6.0, 6.1000000000000005, 6.2, 6.300000000000001, 6.4, 6.5, 6.6000000000000005, 6.7, 6.800000000000001, 6.9, 7.0, 7.1000000000000005, 7.2, 7.300000000000001, 7.4, 7.5, 7.6000000000000005, 7.7, 7.800000000000001, 7.9, 8.0, 8.1, 8.200000000000001, 8.3, 8.4, 8.5, 8.6, 8.700000000000001, 8.8, 8.9, 9.0, 9.1, 9.200000000000001, 9.3, 9.4, 9.5, 9.600000000000001, 9.700000000000001, 9.8, 9.9, 10.0, 10.100000000000001, 10.200000000000001, 10.3, 10.4, 10.5, 10.600000000000001, 10.700000000000001, 10.8, 10.9, 11.0, 11.100000000000001, 11.200000000000001, 11.3, 11.4, 11.5, 11.600000000000001, 11.700000000000001, 11.8, 11.9, 12.0, 12.100000000000001, 12.200000000000001, 12.3, 12.4, 12.5, 12.600000000000001, 12.700000000000001, 12.8, 12.9, 13.0, 13.100000000000001, 13.200000000000001, 13.3, 13.4, 13.5, 13.600000000000001, 13.700000000000001, 13.8, 13.9, 14.0, 14.100000000000001, 14.200000000000001, 14.3, 14.4, 14.5, 14.600000000000001, 14.700000000000001, 14.8, 14.9, 15.0, 15.100000000000001, 15.200000000000001, 15.3, 15.4, 15.5, 15.600000000000001, 15.700000000000001, 15.8, 15.9, 16.0, 16.1, 16.2, 16.3, 16.400000000000002, 16.5, 16.6, 16.7, 16.8, 16.900000000000002, 17.0, 17.1, 17.2, 17.3, 17.400000000000002, 17.5, 17.6, 17.7, 17.8, 17.900000000000002, 18.0, 18.1, 18.2, 18.3, 18.400000000000002, 18.5, 18.6, 18.7, 18.8, 18.900000000000002, 19.0, 19.1, 19.200000000000003, 19.3, 19.400000000000002, 19.5, 19.6, 19.700000000000003, 19.8, 19.900000000000002], \"y\": [0.0005140929987637018, 0.0005741896463512261, 0.0006405993231173357, 0.0007138961573442565, 0.0007946960671549483, 0.0008836586514767019, 0.0009814890401277866, 0.0010889396853999728, 0.00120681207600643, 0.001335958352772115, 0.001477282803979336, 0.0016317432168629776, 0.0018003520603981236, 0.001984177473258618, 0.0021843440296711743, 0.0024020332548697412, 0.0026384838609933192, 0.0028949916735929652, 0.003172909218445733, 0.0034736449381408685, 0.003798662007932481, 0.004149476720668069, 0.004527656411228538, 0.004934816891875435, 0.005372619371216331, 0.005842766831189513, 0.006346999838550089, 0.006887091769826073, 0.0074648434316142995, 0.00808207706140912, 0.00874062969790316, 0.009442345913867055, 0.010189069909295164, 0.010982636967484772, 0.011824864282077152, 0.012717541168805994, 0.01366241868174073, 0.0146611986601424, 0.01571552223862387, 0.0168269578600759, 0.017996988837729353, 0.01922700051971094, 0.02051826711644909, 0.02187193825822553, 0.023289025356971735, 0.0247703878529977, 0.026316719433631397, 0.027928534316654915, 0.029606153696863965, 0.03134969245896232, 0.03315904626424956, 0.0350338791220834, 0.036973611559818535, 0.038977409506766855, 0.04104417400861653, 0.04317253188863058, 0.04536082747075937, 0.04760711547750344, 0.04990915521191499, 0.05226440612850288, 0.05467002489199788, 0.057122864015935804, 0.05961947216484686, 0.06215609619452194, 0.06472868499440433, 0.06733289518468628, 0.06996409870824144, 0.07261739234418353, 0.07528760915570819, 0.07796933187005435, 0.08065690817304778, 0.08334446788488616, 0.08602594196774592, 0.08869508329958496, 0.09134548913234282, 0.09397062513676752, 0.09656385092049428, 0.0991184468909342, 0.1016276423201724, 0.10408464445558711, 0.10648266850745075, 0.10881496833350866, 0.11107486763059991, 0.11325579143491937, 0.115351297725641, 0.11735510892143318, 0.11926114305598966, 0.12106354441713936, 0.12275671343444113, 0.12433533560244286, 0.12579440923099774, 0.1271292718201747, 0.12833562486533798, 0.12940955690784897, 0.13034756465848532, 0.13114657203397997, 0.13180394696193923, 0.1323175158256706, 0.1326855754379841, 0.132906902451659, 0.1329807601338109, 0.132906902451659, 0.13268557543798407, 0.1323175158256706, 0.13180394696193923, 0.13114657203397997, 0.1303475646584853, 0.12940955690784894, 0.12833562486533798, 0.1271292718201747, 0.12579440923099774, 0.12433533560244282, 0.1227567134344411, 0.12106354441713933, 0.11926114305598966, 0.11735510892143318, 0.11535129772564094, 0.11325579143491933, 0.11107486763059987, 0.10881496833350866, 0.10648266850745075, 0.10408464445558707, 0.10162764232017236, 0.09911844689093417, 0.09656385092049424, 0.09397062513676752, 0.09134548913234279, 0.08869508329958492, 0.08602594196774588, 0.08334446788488616, 0.08065690817304778, 0.0779693318700543, 0.07528760915570813, 0.0726173923441835, 0.0699640987082414, 0.06733289518468628, 0.06472868499440429, 0.0621560961945219, 0.05961947216484684, 0.05712286401593578, 0.05467002489199788, 0.052264406128502826, 0.049909155211914934, 0.047607115477503424, 0.04536082747075935, 0.04317253188863058, 0.04104417400861649, 0.03897740950676681, 0.03697361155981851, 0.03503387912208338, 0.03315904626424956, 0.03134969245896229, 0.02960615369686394, 0.0279285343166549, 0.026316719433631383, 0.0247703878529977, 0.02328902535697171, 0.021871938258225518, 0.020518267116449083, 0.01922700051971093, 0.017996988837729353, 0.016826957860075886, 0.01571552223862387, 0.0146611986601424, 0.013662418681740708, 0.012717541168805994, 0.01182486428207713, 0.010982636967484772, 0.010189069909295148, 0.00944234591386704, 0.00874062969790316, 0.00808207706140911, 0.0074648434316142995, 0.006887091769826068, 0.0063469998385500825, 0.005842766831189513, 0.005372619371216326, 0.004934816891875435, 0.004527656411228538, 0.004149476720668058, 0.003798662007932481, 0.0034736449381408594, 0.003172909218445733, 0.0028949916735929652, 0.0026384838609933153, 0.0024020332548697412, 0.002184344029671172, 0.001984177473258618, 0.0018003520603981236, 0.0016317432168629759, 0.001477282803979336, 0.0013359583527721138, 0.0012068120760064258, 0.0010889396853999728, 0.0009814890401277838, 0.0008836586514767019, 0.0007946960671549461, 0.0007138961573442542, 0.0006405993231173357, 0.0005741896463512256]}],\n",
       "                        {\"height\": 350, \"margin\": {\"b\": 20, \"l\": 20, \"r\": 20, \"t\": 50}, \"template\": {\"data\": {\"bar\": [{\"error_x\": {\"color\": \"#2a3f5f\"}, \"error_y\": {\"color\": \"#2a3f5f\"}, \"marker\": {\"line\": {\"color\": \"#E5ECF6\", \"width\": 0.5}}, \"type\": \"bar\"}], \"barpolar\": [{\"marker\": {\"line\": {\"color\": \"#E5ECF6\", \"width\": 0.5}}, \"type\": \"barpolar\"}], \"carpet\": [{\"aaxis\": {\"endlinecolor\": \"#2a3f5f\", \"gridcolor\": \"white\", \"linecolor\": \"white\", \"minorgridcolor\": \"white\", \"startlinecolor\": \"#2a3f5f\"}, \"baxis\": {\"endlinecolor\": \"#2a3f5f\", \"gridcolor\": \"white\", \"linecolor\": \"white\", \"minorgridcolor\": \"white\", \"startlinecolor\": \"#2a3f5f\"}, \"type\": \"carpet\"}], \"choropleth\": [{\"colorbar\": {\"outlinewidth\": 0, \"ticks\": \"\"}, \"type\": \"choropleth\"}], \"contour\": [{\"colorbar\": {\"outlinewidth\": 0, \"ticks\": \"\"}, \"colorscale\": [[0.0, \"#0d0887\"], [0.1111111111111111, \"#46039f\"], [0.2222222222222222, \"#7201a8\"], [0.3333333333333333, \"#9c179e\"], [0.4444444444444444, \"#bd3786\"], [0.5555555555555556, \"#d8576b\"], [0.6666666666666666, \"#ed7953\"], [0.7777777777777778, \"#fb9f3a\"], [0.8888888888888888, \"#fdca26\"], [1.0, \"#f0f921\"]], \"type\": \"contour\"}], \"contourcarpet\": [{\"colorbar\": {\"outlinewidth\": 0, \"ticks\": \"\"}, \"type\": \"contourcarpet\"}], \"heatmap\": [{\"colorbar\": {\"outlinewidth\": 0, \"ticks\": \"\"}, \"colorscale\": [[0.0, \"#0d0887\"], [0.1111111111111111, \"#46039f\"], [0.2222222222222222, \"#7201a8\"], [0.3333333333333333, \"#9c179e\"], [0.4444444444444444, \"#bd3786\"], [0.5555555555555556, \"#d8576b\"], [0.6666666666666666, \"#ed7953\"], [0.7777777777777778, \"#fb9f3a\"], [0.8888888888888888, \"#fdca26\"], [1.0, \"#f0f921\"]], \"type\": \"heatmap\"}], \"heatmapgl\": [{\"colorbar\": {\"outlinewidth\": 0, \"ticks\": \"\"}, \"colorscale\": [[0.0, \"#0d0887\"], [0.1111111111111111, \"#46039f\"], [0.2222222222222222, \"#7201a8\"], [0.3333333333333333, \"#9c179e\"], [0.4444444444444444, \"#bd3786\"], [0.5555555555555556, \"#d8576b\"], [0.6666666666666666, \"#ed7953\"], [0.7777777777777778, \"#fb9f3a\"], [0.8888888888888888, \"#fdca26\"], [1.0, \"#f0f921\"]], \"type\": \"heatmapgl\"}], \"histogram\": [{\"marker\": {\"colorbar\": {\"outlinewidth\": 0, \"ticks\": \"\"}}, \"type\": \"histogram\"}], \"histogram2d\": [{\"colorbar\": {\"outlinewidth\": 0, \"ticks\": \"\"}, \"colorscale\": [[0.0, \"#0d0887\"], [0.1111111111111111, \"#46039f\"], [0.2222222222222222, \"#7201a8\"], [0.3333333333333333, \"#9c179e\"], [0.4444444444444444, \"#bd3786\"], [0.5555555555555556, \"#d8576b\"], [0.6666666666666666, \"#ed7953\"], [0.7777777777777778, \"#fb9f3a\"], [0.8888888888888888, \"#fdca26\"], [1.0, \"#f0f921\"]], \"type\": \"histogram2d\"}], \"histogram2dcontour\": [{\"colorbar\": {\"outlinewidth\": 0, \"ticks\": \"\"}, \"colorscale\": [[0.0, \"#0d0887\"], [0.1111111111111111, \"#46039f\"], [0.2222222222222222, \"#7201a8\"], [0.3333333333333333, \"#9c179e\"], [0.4444444444444444, \"#bd3786\"], [0.5555555555555556, \"#d8576b\"], [0.6666666666666666, \"#ed7953\"], [0.7777777777777778, \"#fb9f3a\"], [0.8888888888888888, \"#fdca26\"], [1.0, \"#f0f921\"]], \"type\": \"histogram2dcontour\"}], \"mesh3d\": [{\"colorbar\": {\"outlinewidth\": 0, \"ticks\": \"\"}, \"type\": \"mesh3d\"}], \"parcoords\": [{\"line\": {\"colorbar\": {\"outlinewidth\": 0, \"ticks\": \"\"}}, \"type\": \"parcoords\"}], \"pie\": [{\"automargin\": true, \"type\": \"pie\"}], \"scatter\": [{\"marker\": {\"colorbar\": {\"outlinewidth\": 0, \"ticks\": \"\"}}, \"type\": \"scatter\"}], \"scatter3d\": [{\"line\": {\"colorbar\": {\"outlinewidth\": 0, \"ticks\": \"\"}}, \"marker\": {\"colorbar\": {\"outlinewidth\": 0, \"ticks\": \"\"}}, \"type\": \"scatter3d\"}], \"scattercarpet\": [{\"marker\": {\"colorbar\": {\"outlinewidth\": 0, \"ticks\": \"\"}}, \"type\": \"scattercarpet\"}], \"scattergeo\": [{\"marker\": {\"colorbar\": {\"outlinewidth\": 0, \"ticks\": \"\"}}, \"type\": \"scattergeo\"}], \"scattergl\": [{\"marker\": {\"colorbar\": {\"outlinewidth\": 0, \"ticks\": \"\"}}, \"type\": \"scattergl\"}], \"scattermapbox\": [{\"marker\": {\"colorbar\": {\"outlinewidth\": 0, \"ticks\": \"\"}}, \"type\": \"scattermapbox\"}], \"scatterpolar\": [{\"marker\": {\"colorbar\": {\"outlinewidth\": 0, \"ticks\": \"\"}}, \"type\": \"scatterpolar\"}], \"scatterpolargl\": [{\"marker\": {\"colorbar\": {\"outlinewidth\": 0, \"ticks\": \"\"}}, \"type\": \"scatterpolargl\"}], \"scatterternary\": [{\"marker\": {\"colorbar\": {\"outlinewidth\": 0, \"ticks\": \"\"}}, \"type\": \"scatterternary\"}], \"surface\": [{\"colorbar\": {\"outlinewidth\": 0, \"ticks\": \"\"}, \"colorscale\": [[0.0, \"#0d0887\"], [0.1111111111111111, \"#46039f\"], [0.2222222222222222, \"#7201a8\"], [0.3333333333333333, \"#9c179e\"], [0.4444444444444444, \"#bd3786\"], [0.5555555555555556, \"#d8576b\"], [0.6666666666666666, \"#ed7953\"], [0.7777777777777778, \"#fb9f3a\"], [0.8888888888888888, \"#fdca26\"], [1.0, \"#f0f921\"]], \"type\": \"surface\"}], \"table\": [{\"cells\": {\"fill\": {\"color\": \"#EBF0F8\"}, \"line\": {\"color\": \"white\"}}, \"header\": {\"fill\": {\"color\": \"#C8D4E3\"}, \"line\": {\"color\": \"white\"}}, \"type\": \"table\"}]}, \"layout\": {\"annotationdefaults\": {\"arrowcolor\": \"#2a3f5f\", \"arrowhead\": 0, \"arrowwidth\": 1}, \"coloraxis\": {\"colorbar\": {\"outlinewidth\": 0, \"ticks\": \"\"}}, \"colorscale\": {\"diverging\": [[0, \"#8e0152\"], [0.1, \"#c51b7d\"], [0.2, \"#de77ae\"], [0.3, \"#f1b6da\"], [0.4, \"#fde0ef\"], [0.5, \"#f7f7f7\"], [0.6, \"#e6f5d0\"], [0.7, \"#b8e186\"], [0.8, \"#7fbc41\"], [0.9, \"#4d9221\"], [1, \"#276419\"]], \"sequential\": [[0.0, \"#0d0887\"], [0.1111111111111111, \"#46039f\"], [0.2222222222222222, \"#7201a8\"], [0.3333333333333333, \"#9c179e\"], [0.4444444444444444, \"#bd3786\"], [0.5555555555555556, \"#d8576b\"], [0.6666666666666666, \"#ed7953\"], [0.7777777777777778, \"#fb9f3a\"], [0.8888888888888888, \"#fdca26\"], [1.0, \"#f0f921\"]], \"sequentialminus\": [[0.0, \"#0d0887\"], [0.1111111111111111, \"#46039f\"], [0.2222222222222222, \"#7201a8\"], [0.3333333333333333, \"#9c179e\"], [0.4444444444444444, \"#bd3786\"], [0.5555555555555556, \"#d8576b\"], [0.6666666666666666, \"#ed7953\"], [0.7777777777777778, \"#fb9f3a\"], [0.8888888888888888, \"#fdca26\"], [1.0, \"#f0f921\"]]}, \"colorway\": [\"#636efa\", \"#EF553B\", \"#00cc96\", \"#ab63fa\", \"#FFA15A\", \"#19d3f3\", \"#FF6692\", \"#B6E880\", \"#FF97FF\", \"#FECB52\"], \"font\": {\"color\": \"#2a3f5f\"}, \"geo\": {\"bgcolor\": \"white\", \"lakecolor\": \"white\", \"landcolor\": \"#E5ECF6\", \"showlakes\": true, \"showland\": true, \"subunitcolor\": \"white\"}, \"hoverlabel\": {\"align\": \"left\"}, \"hovermode\": \"closest\", \"mapbox\": {\"style\": \"light\"}, \"paper_bgcolor\": \"white\", \"plot_bgcolor\": \"#E5ECF6\", \"polar\": {\"angularaxis\": {\"gridcolor\": \"white\", \"linecolor\": \"white\", \"ticks\": \"\"}, \"bgcolor\": \"#E5ECF6\", \"radialaxis\": {\"gridcolor\": \"white\", \"linecolor\": \"white\", \"ticks\": \"\"}}, \"scene\": {\"xaxis\": {\"backgroundcolor\": \"#E5ECF6\", \"gridcolor\": \"white\", \"gridwidth\": 2, \"linecolor\": \"white\", \"showbackground\": true, \"ticks\": \"\", \"zerolinecolor\": \"white\"}, \"yaxis\": {\"backgroundcolor\": \"#E5ECF6\", \"gridcolor\": \"white\", \"gridwidth\": 2, \"linecolor\": \"white\", \"showbackground\": true, \"ticks\": \"\", \"zerolinecolor\": \"white\"}, \"zaxis\": {\"backgroundcolor\": \"#E5ECF6\", \"gridcolor\": \"white\", \"gridwidth\": 2, \"linecolor\": \"white\", \"showbackground\": true, \"ticks\": \"\", \"zerolinecolor\": \"white\"}}, \"shapedefaults\": {\"line\": {\"color\": \"#2a3f5f\"}}, \"ternary\": {\"aaxis\": {\"gridcolor\": \"white\", \"linecolor\": \"white\", \"ticks\": \"\"}, \"baxis\": {\"gridcolor\": \"white\", \"linecolor\": \"white\", \"ticks\": \"\"}, \"bgcolor\": \"#E5ECF6\", \"caxis\": {\"gridcolor\": \"white\", \"linecolor\": \"white\", \"ticks\": \"\"}}, \"title\": {\"x\": 0.05}, \"xaxis\": {\"automargin\": true, \"gridcolor\": \"white\", \"linecolor\": \"white\", \"ticks\": \"\", \"title\": {\"standoff\": 15}, \"zerolinecolor\": \"white\", \"zerolinewidth\": 2}, \"yaxis\": {\"automargin\": true, \"gridcolor\": \"white\", \"linecolor\": \"white\", \"ticks\": \"\", \"title\": {\"standoff\": 15}, \"zerolinecolor\": \"white\", \"zerolinewidth\": 2}}}, \"width\": 600, \"xaxis\": {\"linecolor\": \"black\", \"linewidth\": 1.5, \"mirror\": true, \"showline\": true, \"title\": {\"text\": \"Days\"}}, \"yaxis\": {\"linecolor\": \"black\", \"linewidth\": 1.5, \"mirror\": true, \"showline\": true, \"title\": {\"text\": \"Number of new cases\"}}},\n",
       "                        {\"responsive\": true}\n",
       "                    ).then(function(){\n",
       "                            \n",
       "var gd = document.getElementById('bf1dd335-6e40-4101-96c8-7472deed2323');\n",
       "var x = new MutationObserver(function (mutations, observer) {{\n",
       "        var display = window.getComputedStyle(gd).display;\n",
       "        if (!display || display === 'none') {{\n",
       "            console.log([gd, 'removed!']);\n",
       "            Plotly.purge(gd);\n",
       "            observer.disconnect();\n",
       "        }}\n",
       "}});\n",
       "\n",
       "// Listen for the removal of the full notebook cells\n",
       "var notebookContainer = gd.closest('#notebook-container');\n",
       "if (notebookContainer) {{\n",
       "    x.observe(notebookContainer, {childList: true});\n",
       "}}\n",
       "\n",
       "// Listen for the clearing of the current output cell\n",
       "var outputEl = gd.closest('.output');\n",
       "if (outputEl) {{\n",
       "    x.observe(outputEl, {childList: true});\n",
       "}}\n",
       "\n",
       "                        })\n",
       "                };\n",
       "                });\n",
       "            </script>\n",
       "        </div>"
      ]
     },
     "metadata": {},
     "output_type": "display_data"
    }
   ],
   "source": [
    "normal_1 = stats.norm(loc = 5, scale = 1) # gaussian with mean = 5, std = 1\n",
    "normal_2 = stats.norm(loc = 10, scale = 3) # gaussian with mean = 10, std = 3\n",
    "x = np.arange(0,20,0.1)\n",
    "\n",
    "fig = go.Figure()\n",
    "fig.add_trace(go.Scatter(name='Fast spread',x=x,y=normal_1.pdf(x),mode='lines'))\n",
    "fig.add_trace(go.Scatter(name='Slow spread',x=x,y=normal_2.pdf(x),mode='lines'))\n",
    "fig.update_layout(width=600,height=350,margin=dict(l=20, r=20, t=50, b=20))\n",
    "fig.update_xaxes(title='Days',showline=True, linewidth=1.5, linecolor='black', mirror=True)\n",
    "fig.update_yaxes(title='Number of new cases',showline=True, linewidth=1.5, linecolor='black', mirror=True)\n",
    "fig.show()"
   ]
  },
  {
   "cell_type": "markdown",
   "metadata": {},
   "source": [
    "Look's familiar right? Well, it turns out that when disease outbreaks happen, the daily incidence generally looks hump-shaped like that. The basic explanation is that in the beginning, very few people have the disease, but each person can infect several other people. The incidence increases exponentially as each new infected person infects many more people. Eventually, the incidence reaches a maximum, or peak. Let's define it:\n",
    ">**Turning point, $t_i$**: the point at which the daily incidence reaches its peak, or \"flattens out\".\n",
    "\n",
    "The turning point can be thought of as a saturation point, where so many people have the disease that the amount of new people available to be infected starts getting smaller. This process continues, and the daily incidence continues to decrease until it reaches zero (the outbreak is over).\n",
    "\n",
    "So, we have a rough idea of what daily incidence numbers should look like over time. What should the cumulative case count look like? Well, it's the integral of a bell curve:"
   ]
  },
  {
   "cell_type": "code",
   "execution_count": 10,
   "metadata": {
    "jupyter": {
     "source_hidden": true
    }
   },
   "outputs": [
    {
     "data": {
      "application/vnd.plotly.v1+json": {
       "config": {
        "plotlyServerURL": "https://plot.ly"
       },
       "data": [
        {
         "mode": "lines",
         "name": "Fast spread",
         "type": "scatter",
         "x": [
          0,
          0.1,
          0.2,
          0.30000000000000004,
          0.4,
          0.5,
          0.6000000000000001,
          0.7000000000000001,
          0.8,
          0.9,
          1,
          1.1,
          1.2000000000000002,
          1.3,
          1.4000000000000001,
          1.5,
          1.6,
          1.7000000000000002,
          1.8,
          1.9000000000000001,
          2,
          2.1,
          2.2,
          2.3000000000000003,
          2.4000000000000004,
          2.5,
          2.6,
          2.7,
          2.8000000000000003,
          2.9000000000000004,
          3,
          3.1,
          3.2,
          3.3000000000000003,
          3.4000000000000004,
          3.5,
          3.6,
          3.7,
          3.8000000000000003,
          3.9000000000000004,
          4,
          4.1000000000000005,
          4.2,
          4.3,
          4.4,
          4.5,
          4.6000000000000005,
          4.7,
          4.800000000000001,
          4.9,
          5,
          5.1000000000000005,
          5.2,
          5.300000000000001,
          5.4,
          5.5,
          5.6000000000000005,
          5.7,
          5.800000000000001,
          5.9,
          6,
          6.1000000000000005,
          6.2,
          6.300000000000001,
          6.4,
          6.5,
          6.6000000000000005,
          6.7,
          6.800000000000001,
          6.9,
          7,
          7.1000000000000005,
          7.2,
          7.300000000000001,
          7.4,
          7.5,
          7.6000000000000005,
          7.7,
          7.800000000000001,
          7.9,
          8,
          8.1,
          8.200000000000001,
          8.3,
          8.4,
          8.5,
          8.6,
          8.700000000000001,
          8.8,
          8.9,
          9,
          9.1,
          9.200000000000001,
          9.3,
          9.4,
          9.5,
          9.600000000000001,
          9.700000000000001,
          9.8,
          9.9,
          10,
          10.100000000000001,
          10.200000000000001,
          10.3,
          10.4,
          10.5,
          10.600000000000001,
          10.700000000000001,
          10.8,
          10.9,
          11,
          11.100000000000001,
          11.200000000000001,
          11.3,
          11.4,
          11.5,
          11.600000000000001,
          11.700000000000001,
          11.8,
          11.9,
          12,
          12.100000000000001,
          12.200000000000001,
          12.3,
          12.4,
          12.5,
          12.600000000000001,
          12.700000000000001,
          12.8,
          12.9,
          13,
          13.100000000000001,
          13.200000000000001,
          13.3,
          13.4,
          13.5,
          13.600000000000001,
          13.700000000000001,
          13.8,
          13.9,
          14,
          14.100000000000001,
          14.200000000000001,
          14.3,
          14.4,
          14.5,
          14.600000000000001,
          14.700000000000001,
          14.8,
          14.9,
          15,
          15.100000000000001,
          15.200000000000001,
          15.3,
          15.4,
          15.5,
          15.600000000000001,
          15.700000000000001,
          15.8,
          15.9,
          16,
          16.1,
          16.2,
          16.3,
          16.400000000000002,
          16.5,
          16.6,
          16.7,
          16.8,
          16.900000000000002,
          17,
          17.1,
          17.2,
          17.3,
          17.400000000000002,
          17.5,
          17.6,
          17.7,
          17.8,
          17.900000000000002,
          18,
          18.1,
          18.2,
          18.3,
          18.400000000000002,
          18.5,
          18.6,
          18.7,
          18.8,
          18.900000000000002,
          19,
          19.1,
          19.200000000000003,
          19.3,
          19.400000000000002,
          19.5,
          19.6,
          19.700000000000003,
          19.8,
          19.900000000000002
         ],
         "y": [
          2.866515718791933e-07,
          4.791832765903185e-07,
          7.93328151975595e-07,
          1.3008074539172771e-06,
          2.1124547025028537e-06,
          3.3976731247300535e-06,
          5.412543907703841e-06,
          8.539905470991794e-06,
          1.334574901590631e-05,
          2.0657506912546717e-05,
          3.167124183311986e-05,
          4.8096344017602614e-05,
          7.234804392511998e-05,
          0.00010779973347738823,
          0.00015910859015753396,
          0.00023262907903552502,
          0.00033692926567688086,
          0.00048342414238377744,
          0.0006871379379158471,
          0.0009676032132183563,
          0.0013498980316300933,
          0.0018658133003840375,
          0.002555130330427932,
          0.0034669738030406686,
          0.004661188023718752,
          0.006209665325776132,
          0.008197535924596131,
          0.010724110021675809,
          0.013903447513498616,
          0.017864420562816556,
          0.022750131948179195,
          0.028716559816001803,
          0.03593031911292581,
          0.04456546275854306,
          0.05479929169955804,
          0.06680720126885807,
          0.08075665923377107,
          0.09680048458561041,
          0.11506967022170828,
          0.13566606094638273,
          0.15865525393145707,
          0.18406012534675964,
          0.21185539858339675,
          0.24196365222307298,
          0.27425311775007366,
          0.3085375387259869,
          0.34457825838967604,
          0.38208857781104744,
          0.42074029056089723,
          0.4601721627229712,
          0.5,
          0.5398278372770292,
          0.5792597094391031,
          0.6179114221889529,
          0.6554217416103243,
          0.6914624612740131,
          0.7257468822499266,
          0.758036347776927,
          0.7881446014166036,
          0.8159398746532407,
          0.8413447460685429,
          0.8643339390536176,
          0.8849303297782918,
          0.9031995154143897,
          0.919243340766229,
          0.9331927987311419,
          0.9452007083004421,
          0.955434537241457,
          0.9640696808870742,
          0.9712834401839983,
          0.9772498680518208,
          0.9821355794371834,
          0.9860965524865014,
          0.9892758899783243,
          0.9918024640754038,
          0.9937903346742238,
          0.9953388119762813,
          0.9965330261969594,
          0.997444869669572,
          0.998134186699616,
          0.9986501019683699,
          0.9990323967867817,
          0.9993128620620841,
          0.9995165758576162,
          0.9996630707343231,
          0.9997673709209645,
          0.9998408914098424,
          0.9998922002665226,
          0.9999276519560749,
          0.9999519036559824,
          0.9999683287581669,
          0.9999793424930875,
          0.9999866542509841,
          0.999991460094529,
          0.9999945874560923,
          0.9999966023268753,
          0.9999978875452975,
          0.9999986991925461,
          0.999999206671848,
          0.9999995208167234,
          0.9999997133484281,
          0.9999998301732593,
          0.9999999003557368,
          0.9999999420986596,
          0.9999999666795515,
          0.9999999810104375,
          0.9999999892824097,
          0.9999999940096286,
          0.999999996684254,
          0.9999999981824922,
          0.9999999990134123,
          0.9999999994696577,
          0.9999999997176842,
          0.9999999998511772,
          0.9999999999223115,
          0.99999999995984,
          0.9999999999794421,
          0.999999999989579,
          0.9999999999947691,
          0.9999999999973999,
          0.9999999999987201,
          0.9999999999993762,
          0.9999999999996989,
          0.9999999999998561,
          0.9999999999999319,
          0.9999999999999681,
          0.9999999999999852,
          0.9999999999999932,
          0.9999999999999969,
          0.9999999999999986,
          0.9999999999999993,
          0.9999999999999998,
          0.9999999999999999,
          1,
          1,
          1,
          1,
          1,
          1,
          1,
          1,
          1,
          1,
          1,
          1,
          1,
          1,
          1,
          1,
          1,
          1,
          1,
          1,
          1,
          1,
          1,
          1,
          1,
          1,
          1,
          1,
          1,
          1,
          1,
          1,
          1,
          1,
          1,
          1,
          1,
          1,
          1,
          1,
          1,
          1,
          1,
          1,
          1,
          1,
          1,
          1,
          1,
          1,
          1,
          1,
          1,
          1,
          1,
          1,
          1,
          1,
          1,
          1,
          1,
          1,
          1,
          1,
          1,
          1,
          1
         ]
        },
        {
         "mode": "lines",
         "name": "Slow spread",
         "type": "scatter",
         "x": [
          0,
          0.1,
          0.2,
          0.30000000000000004,
          0.4,
          0.5,
          0.6000000000000001,
          0.7000000000000001,
          0.8,
          0.9,
          1,
          1.1,
          1.2000000000000002,
          1.3,
          1.4000000000000001,
          1.5,
          1.6,
          1.7000000000000002,
          1.8,
          1.9000000000000001,
          2,
          2.1,
          2.2,
          2.3000000000000003,
          2.4000000000000004,
          2.5,
          2.6,
          2.7,
          2.8000000000000003,
          2.9000000000000004,
          3,
          3.1,
          3.2,
          3.3000000000000003,
          3.4000000000000004,
          3.5,
          3.6,
          3.7,
          3.8000000000000003,
          3.9000000000000004,
          4,
          4.1000000000000005,
          4.2,
          4.3,
          4.4,
          4.5,
          4.6000000000000005,
          4.7,
          4.800000000000001,
          4.9,
          5,
          5.1000000000000005,
          5.2,
          5.300000000000001,
          5.4,
          5.5,
          5.6000000000000005,
          5.7,
          5.800000000000001,
          5.9,
          6,
          6.1000000000000005,
          6.2,
          6.300000000000001,
          6.4,
          6.5,
          6.6000000000000005,
          6.7,
          6.800000000000001,
          6.9,
          7,
          7.1000000000000005,
          7.2,
          7.300000000000001,
          7.4,
          7.5,
          7.6000000000000005,
          7.7,
          7.800000000000001,
          7.9,
          8,
          8.1,
          8.200000000000001,
          8.3,
          8.4,
          8.5,
          8.6,
          8.700000000000001,
          8.8,
          8.9,
          9,
          9.1,
          9.200000000000001,
          9.3,
          9.4,
          9.5,
          9.600000000000001,
          9.700000000000001,
          9.8,
          9.9,
          10,
          10.100000000000001,
          10.200000000000001,
          10.3,
          10.4,
          10.5,
          10.600000000000001,
          10.700000000000001,
          10.8,
          10.9,
          11,
          11.100000000000001,
          11.200000000000001,
          11.3,
          11.4,
          11.5,
          11.600000000000001,
          11.700000000000001,
          11.8,
          11.9,
          12,
          12.100000000000001,
          12.200000000000001,
          12.3,
          12.4,
          12.5,
          12.600000000000001,
          12.700000000000001,
          12.8,
          12.9,
          13,
          13.100000000000001,
          13.200000000000001,
          13.3,
          13.4,
          13.5,
          13.600000000000001,
          13.700000000000001,
          13.8,
          13.9,
          14,
          14.100000000000001,
          14.200000000000001,
          14.3,
          14.4,
          14.5,
          14.600000000000001,
          14.700000000000001,
          14.8,
          14.9,
          15,
          15.100000000000001,
          15.200000000000001,
          15.3,
          15.4,
          15.5,
          15.600000000000001,
          15.700000000000001,
          15.8,
          15.9,
          16,
          16.1,
          16.2,
          16.3,
          16.400000000000002,
          16.5,
          16.6,
          16.7,
          16.8,
          16.900000000000002,
          17,
          17.1,
          17.2,
          17.3,
          17.400000000000002,
          17.5,
          17.6,
          17.7,
          17.8,
          17.900000000000002,
          18,
          18.1,
          18.2,
          18.3,
          18.400000000000002,
          18.5,
          18.6,
          18.7,
          18.8,
          18.900000000000002,
          19,
          19.1,
          19.200000000000003,
          19.3,
          19.400000000000002,
          19.5,
          19.6,
          19.700000000000003,
          19.8,
          19.900000000000002
         ],
         "y": [
          0.0004290603331968372,
          0.00048342414238377663,
          0.0005441086524671406,
          0.0006117735324862054,
          0.0006871379379158483,
          0.0007709847844699757,
          0.0008641652090980683,
          0.0009676032132183563,
          0.0010823004813931916,
          0.00120934136666433,
          0.0013498980316300933,
          0.001505235732066175,
          0.0016767182274731592,
          0.0018658133003840375,
          0.00207409836359409,
          0.0023032661316958825,
          0.002555130330427929,
          0.0028316314143945224,
          0.003134842260705495,
          0.0034669738030406686,
          0.0038303805675897365,
          0.004227566069280537,
          0.004661188023718747,
          0.005134063327350345,
          0.0056491727555606375,
          0.006209665325776132,
          0.006818862270176098,
          0.007480260560390131,
          0.008197535924596131,
          0.00897454529578302,
          0.009815328628645334,
          0.010724110021675795,
          0.011705298080558346,
          0.012763485458978336,
          0.013903447513498616,
          0.015130140010235814,
          0.01644869582274533,
          0.017864420562816542,
          0.019382787088818604,
          0.02100942883984279,
          0.022750131948179195,
          0.0246108260876501,
          0.026597574021009627,
          0.028716559816001783,
          0.0309740757067406,
          0.03337650758481726,
          0.03593031911292581,
          0.03864203446279496,
          0.04151821968877912,
          0.04456546275854304,
          0.0477903522728147,
          0.05119945491710787,
          0.054799291699558,
          0.0585963130404857,
          0.06259687279090685,
          0.06680720126885807,
          0.07123337741398612,
          0.0758813001722581,
          0.08075665923377112,
          0.0858649052573559,
          0.09121121972586788,
          0.09680048458561041,
          0.10263725183213579,
          0.10872571321259117,
          0.11506967022170822,
          0.12167250457438122,
          0.12853714934241506,
          0.13566606094638267,
          0.1430611921955091,
          0.1507239665690247,
          0.15865525393145707,
          0.16685534787178308,
          0.17532394485222952,
          0.18406012534675953,
          0.19306233714190696,
          0.20232838096364308,
          0.21185539858339675,
          0.22163986354425458,
          0.23167757463479832,
          0.24196365222307303,
          0.2524925375469229,
          0.2632579950394782,
          0.27425311775007366,
          0.2854703359014441,
          0.29690142860385127,
          0.3085375387259869,
          0.32036919090127036,
          0.3323863126266752,
          0.34457825838967593,
          0.3569338367374987,
          0.36944134018176367,
          0.3820885778110473,
          0.3948629104640253,
          0.4077512882968954,
          0.420740290560897,
          0.43381616738909634,
          0.4469648833763862,
          0.4601721627229712,
          0.47342353569963497,
          0.48670438618290796,
          0.5,
          0.5132956138170923,
          0.5265764643003652,
          0.5398278372770291,
          0.553035116623614,
          0.5661838326109037,
          0.5792597094391032,
          0.5922487117031049,
          0.6051370895359749,
          0.6179114221889527,
          0.6305586598182363,
          0.6430661632625017,
          0.6554217416103243,
          0.667613687373325,
          0.6796308090987296,
          0.6914624612740131,
          0.703098571396149,
          0.7145296640985561,
          0.7257468822499265,
          0.7367420049605218,
          0.7475074624530771,
          0.7580363477769272,
          0.7683224253652019,
          0.7783601364557455,
          0.7881446014166034,
          0.7976716190363569,
          0.8069376628580933,
          0.8159398746532407,
          0.8246760551477705,
          0.833144652128217,
          0.8413447460685429,
          0.8492760334309755,
          0.856938807804491,
          0.8643339390536173,
          0.871462850657585,
          0.8783274954256188,
          0.8849303297782918,
          0.8912742867874089,
          0.8973627481678642,
          0.9031995154143897,
          0.9087887802741321,
          0.9141350947426441,
          0.919243340766229,
          0.924118699827742,
          0.9287666225860138,
          0.9331927987311419,
          0.9374031272090932,
          0.9414036869595144,
          0.945200708300442,
          0.9488005450828922,
          0.9522096477271853,
          0.955434537241457,
          0.9584817803112209,
          0.9613579655372051,
          0.9640696808870742,
          0.9666234924151828,
          0.9690259242932594,
          0.9712834401839983,
          0.9734024259789904,
          0.9753891739123499,
          0.9772498680518208,
          0.9789905711601572,
          0.9806172129111814,
          0.9821355794371834,
          0.9835513041772547,
          0.9848698599897642,
          0.9860965524865014,
          0.9872365145410217,
          0.9882947019194417,
          0.9892758899783243,
          0.9901846713713547,
          0.991025454704217,
          0.9918024640754038,
          0.9925197394396099,
          0.9931811377298239,
          0.9937903346742238,
          0.9943508272444394,
          0.9948659366726497,
          0.9953388119762813,
          0.9957724339307195,
          0.9961696194324102,
          0.9965330261969594,
          0.9968651577392945,
          0.9971683685856054,
          0.997444869669572,
          0.9976967338683042,
          0.9979259016364059,
          0.998134186699616,
          0.9983232817725268,
          0.9984947642679338,
          0.9986501019683699,
          0.9987906586333357,
          0.9989176995186068,
          0.9990323967867817,
          0.999135834790902,
          0.99922901521553,
          0.9993128620620841,
          0.9993882264675138,
          0.9994558913475329,
          0.9995165758576162
         ]
        }
       ],
       "layout": {
        "height": 350,
        "margin": {
         "b": 20,
         "l": 20,
         "r": 20,
         "t": 50
        },
        "template": {
         "data": {
          "bar": [
           {
            "error_x": {
             "color": "#2a3f5f"
            },
            "error_y": {
             "color": "#2a3f5f"
            },
            "marker": {
             "line": {
              "color": "#E5ECF6",
              "width": 0.5
             }
            },
            "type": "bar"
           }
          ],
          "barpolar": [
           {
            "marker": {
             "line": {
              "color": "#E5ECF6",
              "width": 0.5
             }
            },
            "type": "barpolar"
           }
          ],
          "carpet": [
           {
            "aaxis": {
             "endlinecolor": "#2a3f5f",
             "gridcolor": "white",
             "linecolor": "white",
             "minorgridcolor": "white",
             "startlinecolor": "#2a3f5f"
            },
            "baxis": {
             "endlinecolor": "#2a3f5f",
             "gridcolor": "white",
             "linecolor": "white",
             "minorgridcolor": "white",
             "startlinecolor": "#2a3f5f"
            },
            "type": "carpet"
           }
          ],
          "choropleth": [
           {
            "colorbar": {
             "outlinewidth": 0,
             "ticks": ""
            },
            "type": "choropleth"
           }
          ],
          "contour": [
           {
            "colorbar": {
             "outlinewidth": 0,
             "ticks": ""
            },
            "colorscale": [
             [
              0,
              "#0d0887"
             ],
             [
              0.1111111111111111,
              "#46039f"
             ],
             [
              0.2222222222222222,
              "#7201a8"
             ],
             [
              0.3333333333333333,
              "#9c179e"
             ],
             [
              0.4444444444444444,
              "#bd3786"
             ],
             [
              0.5555555555555556,
              "#d8576b"
             ],
             [
              0.6666666666666666,
              "#ed7953"
             ],
             [
              0.7777777777777778,
              "#fb9f3a"
             ],
             [
              0.8888888888888888,
              "#fdca26"
             ],
             [
              1,
              "#f0f921"
             ]
            ],
            "type": "contour"
           }
          ],
          "contourcarpet": [
           {
            "colorbar": {
             "outlinewidth": 0,
             "ticks": ""
            },
            "type": "contourcarpet"
           }
          ],
          "heatmap": [
           {
            "colorbar": {
             "outlinewidth": 0,
             "ticks": ""
            },
            "colorscale": [
             [
              0,
              "#0d0887"
             ],
             [
              0.1111111111111111,
              "#46039f"
             ],
             [
              0.2222222222222222,
              "#7201a8"
             ],
             [
              0.3333333333333333,
              "#9c179e"
             ],
             [
              0.4444444444444444,
              "#bd3786"
             ],
             [
              0.5555555555555556,
              "#d8576b"
             ],
             [
              0.6666666666666666,
              "#ed7953"
             ],
             [
              0.7777777777777778,
              "#fb9f3a"
             ],
             [
              0.8888888888888888,
              "#fdca26"
             ],
             [
              1,
              "#f0f921"
             ]
            ],
            "type": "heatmap"
           }
          ],
          "heatmapgl": [
           {
            "colorbar": {
             "outlinewidth": 0,
             "ticks": ""
            },
            "colorscale": [
             [
              0,
              "#0d0887"
             ],
             [
              0.1111111111111111,
              "#46039f"
             ],
             [
              0.2222222222222222,
              "#7201a8"
             ],
             [
              0.3333333333333333,
              "#9c179e"
             ],
             [
              0.4444444444444444,
              "#bd3786"
             ],
             [
              0.5555555555555556,
              "#d8576b"
             ],
             [
              0.6666666666666666,
              "#ed7953"
             ],
             [
              0.7777777777777778,
              "#fb9f3a"
             ],
             [
              0.8888888888888888,
              "#fdca26"
             ],
             [
              1,
              "#f0f921"
             ]
            ],
            "type": "heatmapgl"
           }
          ],
          "histogram": [
           {
            "marker": {
             "colorbar": {
              "outlinewidth": 0,
              "ticks": ""
             }
            },
            "type": "histogram"
           }
          ],
          "histogram2d": [
           {
            "colorbar": {
             "outlinewidth": 0,
             "ticks": ""
            },
            "colorscale": [
             [
              0,
              "#0d0887"
             ],
             [
              0.1111111111111111,
              "#46039f"
             ],
             [
              0.2222222222222222,
              "#7201a8"
             ],
             [
              0.3333333333333333,
              "#9c179e"
             ],
             [
              0.4444444444444444,
              "#bd3786"
             ],
             [
              0.5555555555555556,
              "#d8576b"
             ],
             [
              0.6666666666666666,
              "#ed7953"
             ],
             [
              0.7777777777777778,
              "#fb9f3a"
             ],
             [
              0.8888888888888888,
              "#fdca26"
             ],
             [
              1,
              "#f0f921"
             ]
            ],
            "type": "histogram2d"
           }
          ],
          "histogram2dcontour": [
           {
            "colorbar": {
             "outlinewidth": 0,
             "ticks": ""
            },
            "colorscale": [
             [
              0,
              "#0d0887"
             ],
             [
              0.1111111111111111,
              "#46039f"
             ],
             [
              0.2222222222222222,
              "#7201a8"
             ],
             [
              0.3333333333333333,
              "#9c179e"
             ],
             [
              0.4444444444444444,
              "#bd3786"
             ],
             [
              0.5555555555555556,
              "#d8576b"
             ],
             [
              0.6666666666666666,
              "#ed7953"
             ],
             [
              0.7777777777777778,
              "#fb9f3a"
             ],
             [
              0.8888888888888888,
              "#fdca26"
             ],
             [
              1,
              "#f0f921"
             ]
            ],
            "type": "histogram2dcontour"
           }
          ],
          "mesh3d": [
           {
            "colorbar": {
             "outlinewidth": 0,
             "ticks": ""
            },
            "type": "mesh3d"
           }
          ],
          "parcoords": [
           {
            "line": {
             "colorbar": {
              "outlinewidth": 0,
              "ticks": ""
             }
            },
            "type": "parcoords"
           }
          ],
          "pie": [
           {
            "automargin": true,
            "type": "pie"
           }
          ],
          "scatter": [
           {
            "marker": {
             "colorbar": {
              "outlinewidth": 0,
              "ticks": ""
             }
            },
            "type": "scatter"
           }
          ],
          "scatter3d": [
           {
            "line": {
             "colorbar": {
              "outlinewidth": 0,
              "ticks": ""
             }
            },
            "marker": {
             "colorbar": {
              "outlinewidth": 0,
              "ticks": ""
             }
            },
            "type": "scatter3d"
           }
          ],
          "scattercarpet": [
           {
            "marker": {
             "colorbar": {
              "outlinewidth": 0,
              "ticks": ""
             }
            },
            "type": "scattercarpet"
           }
          ],
          "scattergeo": [
           {
            "marker": {
             "colorbar": {
              "outlinewidth": 0,
              "ticks": ""
             }
            },
            "type": "scattergeo"
           }
          ],
          "scattergl": [
           {
            "marker": {
             "colorbar": {
              "outlinewidth": 0,
              "ticks": ""
             }
            },
            "type": "scattergl"
           }
          ],
          "scattermapbox": [
           {
            "marker": {
             "colorbar": {
              "outlinewidth": 0,
              "ticks": ""
             }
            },
            "type": "scattermapbox"
           }
          ],
          "scatterpolar": [
           {
            "marker": {
             "colorbar": {
              "outlinewidth": 0,
              "ticks": ""
             }
            },
            "type": "scatterpolar"
           }
          ],
          "scatterpolargl": [
           {
            "marker": {
             "colorbar": {
              "outlinewidth": 0,
              "ticks": ""
             }
            },
            "type": "scatterpolargl"
           }
          ],
          "scatterternary": [
           {
            "marker": {
             "colorbar": {
              "outlinewidth": 0,
              "ticks": ""
             }
            },
            "type": "scatterternary"
           }
          ],
          "surface": [
           {
            "colorbar": {
             "outlinewidth": 0,
             "ticks": ""
            },
            "colorscale": [
             [
              0,
              "#0d0887"
             ],
             [
              0.1111111111111111,
              "#46039f"
             ],
             [
              0.2222222222222222,
              "#7201a8"
             ],
             [
              0.3333333333333333,
              "#9c179e"
             ],
             [
              0.4444444444444444,
              "#bd3786"
             ],
             [
              0.5555555555555556,
              "#d8576b"
             ],
             [
              0.6666666666666666,
              "#ed7953"
             ],
             [
              0.7777777777777778,
              "#fb9f3a"
             ],
             [
              0.8888888888888888,
              "#fdca26"
             ],
             [
              1,
              "#f0f921"
             ]
            ],
            "type": "surface"
           }
          ],
          "table": [
           {
            "cells": {
             "fill": {
              "color": "#EBF0F8"
             },
             "line": {
              "color": "white"
             }
            },
            "header": {
             "fill": {
              "color": "#C8D4E3"
             },
             "line": {
              "color": "white"
             }
            },
            "type": "table"
           }
          ]
         },
         "layout": {
          "annotationdefaults": {
           "arrowcolor": "#2a3f5f",
           "arrowhead": 0,
           "arrowwidth": 1
          },
          "coloraxis": {
           "colorbar": {
            "outlinewidth": 0,
            "ticks": ""
           }
          },
          "colorscale": {
           "diverging": [
            [
             0,
             "#8e0152"
            ],
            [
             0.1,
             "#c51b7d"
            ],
            [
             0.2,
             "#de77ae"
            ],
            [
             0.3,
             "#f1b6da"
            ],
            [
             0.4,
             "#fde0ef"
            ],
            [
             0.5,
             "#f7f7f7"
            ],
            [
             0.6,
             "#e6f5d0"
            ],
            [
             0.7,
             "#b8e186"
            ],
            [
             0.8,
             "#7fbc41"
            ],
            [
             0.9,
             "#4d9221"
            ],
            [
             1,
             "#276419"
            ]
           ],
           "sequential": [
            [
             0,
             "#0d0887"
            ],
            [
             0.1111111111111111,
             "#46039f"
            ],
            [
             0.2222222222222222,
             "#7201a8"
            ],
            [
             0.3333333333333333,
             "#9c179e"
            ],
            [
             0.4444444444444444,
             "#bd3786"
            ],
            [
             0.5555555555555556,
             "#d8576b"
            ],
            [
             0.6666666666666666,
             "#ed7953"
            ],
            [
             0.7777777777777778,
             "#fb9f3a"
            ],
            [
             0.8888888888888888,
             "#fdca26"
            ],
            [
             1,
             "#f0f921"
            ]
           ],
           "sequentialminus": [
            [
             0,
             "#0d0887"
            ],
            [
             0.1111111111111111,
             "#46039f"
            ],
            [
             0.2222222222222222,
             "#7201a8"
            ],
            [
             0.3333333333333333,
             "#9c179e"
            ],
            [
             0.4444444444444444,
             "#bd3786"
            ],
            [
             0.5555555555555556,
             "#d8576b"
            ],
            [
             0.6666666666666666,
             "#ed7953"
            ],
            [
             0.7777777777777778,
             "#fb9f3a"
            ],
            [
             0.8888888888888888,
             "#fdca26"
            ],
            [
             1,
             "#f0f921"
            ]
           ]
          },
          "colorway": [
           "#636efa",
           "#EF553B",
           "#00cc96",
           "#ab63fa",
           "#FFA15A",
           "#19d3f3",
           "#FF6692",
           "#B6E880",
           "#FF97FF",
           "#FECB52"
          ],
          "font": {
           "color": "#2a3f5f"
          },
          "geo": {
           "bgcolor": "white",
           "lakecolor": "white",
           "landcolor": "#E5ECF6",
           "showlakes": true,
           "showland": true,
           "subunitcolor": "white"
          },
          "hoverlabel": {
           "align": "left"
          },
          "hovermode": "closest",
          "mapbox": {
           "style": "light"
          },
          "paper_bgcolor": "white",
          "plot_bgcolor": "#E5ECF6",
          "polar": {
           "angularaxis": {
            "gridcolor": "white",
            "linecolor": "white",
            "ticks": ""
           },
           "bgcolor": "#E5ECF6",
           "radialaxis": {
            "gridcolor": "white",
            "linecolor": "white",
            "ticks": ""
           }
          },
          "scene": {
           "xaxis": {
            "backgroundcolor": "#E5ECF6",
            "gridcolor": "white",
            "gridwidth": 2,
            "linecolor": "white",
            "showbackground": true,
            "ticks": "",
            "zerolinecolor": "white"
           },
           "yaxis": {
            "backgroundcolor": "#E5ECF6",
            "gridcolor": "white",
            "gridwidth": 2,
            "linecolor": "white",
            "showbackground": true,
            "ticks": "",
            "zerolinecolor": "white"
           },
           "zaxis": {
            "backgroundcolor": "#E5ECF6",
            "gridcolor": "white",
            "gridwidth": 2,
            "linecolor": "white",
            "showbackground": true,
            "ticks": "",
            "zerolinecolor": "white"
           }
          },
          "shapedefaults": {
           "line": {
            "color": "#2a3f5f"
           }
          },
          "ternary": {
           "aaxis": {
            "gridcolor": "white",
            "linecolor": "white",
            "ticks": ""
           },
           "baxis": {
            "gridcolor": "white",
            "linecolor": "white",
            "ticks": ""
           },
           "bgcolor": "#E5ECF6",
           "caxis": {
            "gridcolor": "white",
            "linecolor": "white",
            "ticks": ""
           }
          },
          "title": {
           "x": 0.05
          },
          "xaxis": {
           "automargin": true,
           "gridcolor": "white",
           "linecolor": "white",
           "ticks": "",
           "title": {
            "standoff": 15
           },
           "zerolinecolor": "white",
           "zerolinewidth": 2
          },
          "yaxis": {
           "automargin": true,
           "gridcolor": "white",
           "linecolor": "white",
           "ticks": "",
           "title": {
            "standoff": 15
           },
           "zerolinecolor": "white",
           "zerolinewidth": 2
          }
         }
        },
        "width": 600,
        "xaxis": {
         "linecolor": "black",
         "linewidth": 1.5,
         "mirror": true,
         "showline": true,
         "title": {
          "text": "Days"
         }
        },
        "yaxis": {
         "linecolor": "black",
         "linewidth": 1.5,
         "mirror": true,
         "showline": true,
         "title": {
          "text": "Number of cumulative cases"
         }
        }
       }
      },
      "text/html": [
       "<div>\n",
       "        \n",
       "        \n",
       "            <div id=\"0a25947f-c331-4cdd-8352-571b26d382b6\" class=\"plotly-graph-div\" style=\"height:350px; width:600px;\"></div>\n",
       "            <script type=\"text/javascript\">\n",
       "                require([\"plotly\"], function(Plotly) {\n",
       "                    window.PLOTLYENV=window.PLOTLYENV || {};\n",
       "                    \n",
       "                if (document.getElementById(\"0a25947f-c331-4cdd-8352-571b26d382b6\")) {\n",
       "                    Plotly.newPlot(\n",
       "                        '0a25947f-c331-4cdd-8352-571b26d382b6',\n",
       "                        [{\"mode\": \"lines\", \"name\": \"Fast spread\", \"type\": \"scatter\", \"x\": [0.0, 0.1, 0.2, 0.30000000000000004, 0.4, 0.5, 0.6000000000000001, 0.7000000000000001, 0.8, 0.9, 1.0, 1.1, 1.2000000000000002, 1.3, 1.4000000000000001, 1.5, 1.6, 1.7000000000000002, 1.8, 1.9000000000000001, 2.0, 2.1, 2.2, 2.3000000000000003, 2.4000000000000004, 2.5, 2.6, 2.7, 2.8000000000000003, 2.9000000000000004, 3.0, 3.1, 3.2, 3.3000000000000003, 3.4000000000000004, 3.5, 3.6, 3.7, 3.8000000000000003, 3.9000000000000004, 4.0, 4.1000000000000005, 4.2, 4.3, 4.4, 4.5, 4.6000000000000005, 4.7, 4.800000000000001, 4.9, 5.0, 5.1000000000000005, 5.2, 5.300000000000001, 5.4, 5.5, 5.6000000000000005, 5.7, 5.800000000000001, 5.9, 6.0, 6.1000000000000005, 6.2, 6.300000000000001, 6.4, 6.5, 6.6000000000000005, 6.7, 6.800000000000001, 6.9, 7.0, 7.1000000000000005, 7.2, 7.300000000000001, 7.4, 7.5, 7.6000000000000005, 7.7, 7.800000000000001, 7.9, 8.0, 8.1, 8.200000000000001, 8.3, 8.4, 8.5, 8.6, 8.700000000000001, 8.8, 8.9, 9.0, 9.1, 9.200000000000001, 9.3, 9.4, 9.5, 9.600000000000001, 9.700000000000001, 9.8, 9.9, 10.0, 10.100000000000001, 10.200000000000001, 10.3, 10.4, 10.5, 10.600000000000001, 10.700000000000001, 10.8, 10.9, 11.0, 11.100000000000001, 11.200000000000001, 11.3, 11.4, 11.5, 11.600000000000001, 11.700000000000001, 11.8, 11.9, 12.0, 12.100000000000001, 12.200000000000001, 12.3, 12.4, 12.5, 12.600000000000001, 12.700000000000001, 12.8, 12.9, 13.0, 13.100000000000001, 13.200000000000001, 13.3, 13.4, 13.5, 13.600000000000001, 13.700000000000001, 13.8, 13.9, 14.0, 14.100000000000001, 14.200000000000001, 14.3, 14.4, 14.5, 14.600000000000001, 14.700000000000001, 14.8, 14.9, 15.0, 15.100000000000001, 15.200000000000001, 15.3, 15.4, 15.5, 15.600000000000001, 15.700000000000001, 15.8, 15.9, 16.0, 16.1, 16.2, 16.3, 16.400000000000002, 16.5, 16.6, 16.7, 16.8, 16.900000000000002, 17.0, 17.1, 17.2, 17.3, 17.400000000000002, 17.5, 17.6, 17.7, 17.8, 17.900000000000002, 18.0, 18.1, 18.2, 18.3, 18.400000000000002, 18.5, 18.6, 18.7, 18.8, 18.900000000000002, 19.0, 19.1, 19.200000000000003, 19.3, 19.400000000000002, 19.5, 19.6, 19.700000000000003, 19.8, 19.900000000000002], \"y\": [2.866515718791933e-07, 4.791832765903185e-07, 7.93328151975595e-07, 1.3008074539172771e-06, 2.1124547025028537e-06, 3.3976731247300535e-06, 5.412543907703841e-06, 8.539905470991794e-06, 1.334574901590631e-05, 2.0657506912546717e-05, 3.167124183311986e-05, 4.8096344017602614e-05, 7.234804392511998e-05, 0.00010779973347738823, 0.00015910859015753396, 0.00023262907903552502, 0.00033692926567688086, 0.00048342414238377744, 0.0006871379379158471, 0.0009676032132183563, 0.0013498980316300933, 0.0018658133003840375, 0.002555130330427932, 0.0034669738030406686, 0.004661188023718752, 0.006209665325776132, 0.008197535924596131, 0.010724110021675809, 0.013903447513498616, 0.017864420562816556, 0.022750131948179195, 0.028716559816001803, 0.03593031911292581, 0.04456546275854306, 0.05479929169955804, 0.06680720126885807, 0.08075665923377107, 0.09680048458561041, 0.11506967022170828, 0.13566606094638273, 0.15865525393145707, 0.18406012534675964, 0.21185539858339675, 0.24196365222307298, 0.27425311775007366, 0.3085375387259869, 0.34457825838967604, 0.38208857781104744, 0.42074029056089723, 0.4601721627229712, 0.5, 0.5398278372770292, 0.5792597094391031, 0.6179114221889529, 0.6554217416103243, 0.6914624612740131, 0.7257468822499266, 0.758036347776927, 0.7881446014166036, 0.8159398746532407, 0.8413447460685429, 0.8643339390536176, 0.8849303297782918, 0.9031995154143897, 0.919243340766229, 0.9331927987311419, 0.9452007083004421, 0.955434537241457, 0.9640696808870742, 0.9712834401839983, 0.9772498680518208, 0.9821355794371834, 0.9860965524865014, 0.9892758899783243, 0.9918024640754038, 0.9937903346742238, 0.9953388119762813, 0.9965330261969594, 0.997444869669572, 0.998134186699616, 0.9986501019683699, 0.9990323967867817, 0.9993128620620841, 0.9995165758576162, 0.9996630707343231, 0.9997673709209645, 0.9998408914098424, 0.9998922002665226, 0.9999276519560749, 0.9999519036559824, 0.9999683287581669, 0.9999793424930875, 0.9999866542509841, 0.999991460094529, 0.9999945874560923, 0.9999966023268753, 0.9999978875452975, 0.9999986991925461, 0.999999206671848, 0.9999995208167234, 0.9999997133484281, 0.9999998301732593, 0.9999999003557368, 0.9999999420986596, 0.9999999666795515, 0.9999999810104375, 0.9999999892824097, 0.9999999940096286, 0.999999996684254, 0.9999999981824922, 0.9999999990134123, 0.9999999994696577, 0.9999999997176842, 0.9999999998511772, 0.9999999999223115, 0.99999999995984, 0.9999999999794421, 0.999999999989579, 0.9999999999947691, 0.9999999999973999, 0.9999999999987201, 0.9999999999993762, 0.9999999999996989, 0.9999999999998561, 0.9999999999999319, 0.9999999999999681, 0.9999999999999852, 0.9999999999999932, 0.9999999999999969, 0.9999999999999986, 0.9999999999999993, 0.9999999999999998, 0.9999999999999999, 1.0, 1.0, 1.0, 1.0, 1.0, 1.0, 1.0, 1.0, 1.0, 1.0, 1.0, 1.0, 1.0, 1.0, 1.0, 1.0, 1.0, 1.0, 1.0, 1.0, 1.0, 1.0, 1.0, 1.0, 1.0, 1.0, 1.0, 1.0, 1.0, 1.0, 1.0, 1.0, 1.0, 1.0, 1.0, 1.0, 1.0, 1.0, 1.0, 1.0, 1.0, 1.0, 1.0, 1.0, 1.0, 1.0, 1.0, 1.0, 1.0, 1.0, 1.0, 1.0, 1.0, 1.0, 1.0, 1.0, 1.0, 1.0, 1.0, 1.0, 1.0, 1.0, 1.0, 1.0, 1.0, 1.0, 1.0]}, {\"mode\": \"lines\", \"name\": \"Slow spread\", \"type\": \"scatter\", \"x\": [0.0, 0.1, 0.2, 0.30000000000000004, 0.4, 0.5, 0.6000000000000001, 0.7000000000000001, 0.8, 0.9, 1.0, 1.1, 1.2000000000000002, 1.3, 1.4000000000000001, 1.5, 1.6, 1.7000000000000002, 1.8, 1.9000000000000001, 2.0, 2.1, 2.2, 2.3000000000000003, 2.4000000000000004, 2.5, 2.6, 2.7, 2.8000000000000003, 2.9000000000000004, 3.0, 3.1, 3.2, 3.3000000000000003, 3.4000000000000004, 3.5, 3.6, 3.7, 3.8000000000000003, 3.9000000000000004, 4.0, 4.1000000000000005, 4.2, 4.3, 4.4, 4.5, 4.6000000000000005, 4.7, 4.800000000000001, 4.9, 5.0, 5.1000000000000005, 5.2, 5.300000000000001, 5.4, 5.5, 5.6000000000000005, 5.7, 5.800000000000001, 5.9, 6.0, 6.1000000000000005, 6.2, 6.300000000000001, 6.4, 6.5, 6.6000000000000005, 6.7, 6.800000000000001, 6.9, 7.0, 7.1000000000000005, 7.2, 7.300000000000001, 7.4, 7.5, 7.6000000000000005, 7.7, 7.800000000000001, 7.9, 8.0, 8.1, 8.200000000000001, 8.3, 8.4, 8.5, 8.6, 8.700000000000001, 8.8, 8.9, 9.0, 9.1, 9.200000000000001, 9.3, 9.4, 9.5, 9.600000000000001, 9.700000000000001, 9.8, 9.9, 10.0, 10.100000000000001, 10.200000000000001, 10.3, 10.4, 10.5, 10.600000000000001, 10.700000000000001, 10.8, 10.9, 11.0, 11.100000000000001, 11.200000000000001, 11.3, 11.4, 11.5, 11.600000000000001, 11.700000000000001, 11.8, 11.9, 12.0, 12.100000000000001, 12.200000000000001, 12.3, 12.4, 12.5, 12.600000000000001, 12.700000000000001, 12.8, 12.9, 13.0, 13.100000000000001, 13.200000000000001, 13.3, 13.4, 13.5, 13.600000000000001, 13.700000000000001, 13.8, 13.9, 14.0, 14.100000000000001, 14.200000000000001, 14.3, 14.4, 14.5, 14.600000000000001, 14.700000000000001, 14.8, 14.9, 15.0, 15.100000000000001, 15.200000000000001, 15.3, 15.4, 15.5, 15.600000000000001, 15.700000000000001, 15.8, 15.9, 16.0, 16.1, 16.2, 16.3, 16.400000000000002, 16.5, 16.6, 16.7, 16.8, 16.900000000000002, 17.0, 17.1, 17.2, 17.3, 17.400000000000002, 17.5, 17.6, 17.7, 17.8, 17.900000000000002, 18.0, 18.1, 18.2, 18.3, 18.400000000000002, 18.5, 18.6, 18.7, 18.8, 18.900000000000002, 19.0, 19.1, 19.200000000000003, 19.3, 19.400000000000002, 19.5, 19.6, 19.700000000000003, 19.8, 19.900000000000002], \"y\": [0.0004290603331968372, 0.00048342414238377663, 0.0005441086524671406, 0.0006117735324862054, 0.0006871379379158483, 0.0007709847844699757, 0.0008641652090980683, 0.0009676032132183563, 0.0010823004813931916, 0.00120934136666433, 0.0013498980316300933, 0.001505235732066175, 0.0016767182274731592, 0.0018658133003840375, 0.00207409836359409, 0.0023032661316958825, 0.002555130330427929, 0.0028316314143945224, 0.003134842260705495, 0.0034669738030406686, 0.0038303805675897365, 0.004227566069280537, 0.004661188023718747, 0.005134063327350345, 0.0056491727555606375, 0.006209665325776132, 0.006818862270176098, 0.007480260560390131, 0.008197535924596131, 0.00897454529578302, 0.009815328628645334, 0.010724110021675795, 0.011705298080558346, 0.012763485458978336, 0.013903447513498616, 0.015130140010235814, 0.01644869582274533, 0.017864420562816542, 0.019382787088818604, 0.02100942883984279, 0.022750131948179195, 0.0246108260876501, 0.026597574021009627, 0.028716559816001783, 0.0309740757067406, 0.03337650758481726, 0.03593031911292581, 0.03864203446279496, 0.04151821968877912, 0.04456546275854304, 0.0477903522728147, 0.05119945491710787, 0.054799291699558, 0.0585963130404857, 0.06259687279090685, 0.06680720126885807, 0.07123337741398612, 0.0758813001722581, 0.08075665923377112, 0.0858649052573559, 0.09121121972586788, 0.09680048458561041, 0.10263725183213579, 0.10872571321259117, 0.11506967022170822, 0.12167250457438122, 0.12853714934241506, 0.13566606094638267, 0.1430611921955091, 0.1507239665690247, 0.15865525393145707, 0.16685534787178308, 0.17532394485222952, 0.18406012534675953, 0.19306233714190696, 0.20232838096364308, 0.21185539858339675, 0.22163986354425458, 0.23167757463479832, 0.24196365222307303, 0.2524925375469229, 0.2632579950394782, 0.27425311775007366, 0.2854703359014441, 0.29690142860385127, 0.3085375387259869, 0.32036919090127036, 0.3323863126266752, 0.34457825838967593, 0.3569338367374987, 0.36944134018176367, 0.3820885778110473, 0.3948629104640253, 0.4077512882968954, 0.420740290560897, 0.43381616738909634, 0.4469648833763862, 0.4601721627229712, 0.47342353569963497, 0.48670438618290796, 0.5, 0.5132956138170923, 0.5265764643003652, 0.5398278372770291, 0.553035116623614, 0.5661838326109037, 0.5792597094391032, 0.5922487117031049, 0.6051370895359749, 0.6179114221889527, 0.6305586598182363, 0.6430661632625017, 0.6554217416103243, 0.667613687373325, 0.6796308090987296, 0.6914624612740131, 0.703098571396149, 0.7145296640985561, 0.7257468822499265, 0.7367420049605218, 0.7475074624530771, 0.7580363477769272, 0.7683224253652019, 0.7783601364557455, 0.7881446014166034, 0.7976716190363569, 0.8069376628580933, 0.8159398746532407, 0.8246760551477705, 0.833144652128217, 0.8413447460685429, 0.8492760334309755, 0.856938807804491, 0.8643339390536173, 0.871462850657585, 0.8783274954256188, 0.8849303297782918, 0.8912742867874089, 0.8973627481678642, 0.9031995154143897, 0.9087887802741321, 0.9141350947426441, 0.919243340766229, 0.924118699827742, 0.9287666225860138, 0.9331927987311419, 0.9374031272090932, 0.9414036869595144, 0.945200708300442, 0.9488005450828922, 0.9522096477271853, 0.955434537241457, 0.9584817803112209, 0.9613579655372051, 0.9640696808870742, 0.9666234924151828, 0.9690259242932594, 0.9712834401839983, 0.9734024259789904, 0.9753891739123499, 0.9772498680518208, 0.9789905711601572, 0.9806172129111814, 0.9821355794371834, 0.9835513041772547, 0.9848698599897642, 0.9860965524865014, 0.9872365145410217, 0.9882947019194417, 0.9892758899783243, 0.9901846713713547, 0.991025454704217, 0.9918024640754038, 0.9925197394396099, 0.9931811377298239, 0.9937903346742238, 0.9943508272444394, 0.9948659366726497, 0.9953388119762813, 0.9957724339307195, 0.9961696194324102, 0.9965330261969594, 0.9968651577392945, 0.9971683685856054, 0.997444869669572, 0.9976967338683042, 0.9979259016364059, 0.998134186699616, 0.9983232817725268, 0.9984947642679338, 0.9986501019683699, 0.9987906586333357, 0.9989176995186068, 0.9990323967867817, 0.999135834790902, 0.99922901521553, 0.9993128620620841, 0.9993882264675138, 0.9994558913475329, 0.9995165758576162]}],\n",
       "                        {\"height\": 350, \"margin\": {\"b\": 20, \"l\": 20, \"r\": 20, \"t\": 50}, \"template\": {\"data\": {\"bar\": [{\"error_x\": {\"color\": \"#2a3f5f\"}, \"error_y\": {\"color\": \"#2a3f5f\"}, \"marker\": {\"line\": {\"color\": \"#E5ECF6\", \"width\": 0.5}}, \"type\": \"bar\"}], \"barpolar\": [{\"marker\": {\"line\": {\"color\": \"#E5ECF6\", \"width\": 0.5}}, \"type\": \"barpolar\"}], \"carpet\": [{\"aaxis\": {\"endlinecolor\": \"#2a3f5f\", \"gridcolor\": \"white\", \"linecolor\": \"white\", \"minorgridcolor\": \"white\", \"startlinecolor\": \"#2a3f5f\"}, \"baxis\": {\"endlinecolor\": \"#2a3f5f\", \"gridcolor\": \"white\", \"linecolor\": \"white\", \"minorgridcolor\": \"white\", \"startlinecolor\": \"#2a3f5f\"}, \"type\": \"carpet\"}], \"choropleth\": [{\"colorbar\": {\"outlinewidth\": 0, \"ticks\": \"\"}, \"type\": \"choropleth\"}], \"contour\": [{\"colorbar\": {\"outlinewidth\": 0, \"ticks\": \"\"}, \"colorscale\": [[0.0, \"#0d0887\"], [0.1111111111111111, \"#46039f\"], [0.2222222222222222, \"#7201a8\"], [0.3333333333333333, \"#9c179e\"], [0.4444444444444444, \"#bd3786\"], [0.5555555555555556, \"#d8576b\"], [0.6666666666666666, \"#ed7953\"], [0.7777777777777778, \"#fb9f3a\"], [0.8888888888888888, \"#fdca26\"], [1.0, \"#f0f921\"]], \"type\": \"contour\"}], \"contourcarpet\": [{\"colorbar\": {\"outlinewidth\": 0, \"ticks\": \"\"}, \"type\": \"contourcarpet\"}], \"heatmap\": [{\"colorbar\": {\"outlinewidth\": 0, \"ticks\": \"\"}, \"colorscale\": [[0.0, \"#0d0887\"], [0.1111111111111111, \"#46039f\"], [0.2222222222222222, \"#7201a8\"], [0.3333333333333333, \"#9c179e\"], [0.4444444444444444, \"#bd3786\"], [0.5555555555555556, \"#d8576b\"], [0.6666666666666666, \"#ed7953\"], [0.7777777777777778, \"#fb9f3a\"], [0.8888888888888888, \"#fdca26\"], [1.0, \"#f0f921\"]], \"type\": \"heatmap\"}], \"heatmapgl\": [{\"colorbar\": {\"outlinewidth\": 0, \"ticks\": \"\"}, \"colorscale\": [[0.0, \"#0d0887\"], [0.1111111111111111, \"#46039f\"], [0.2222222222222222, \"#7201a8\"], [0.3333333333333333, \"#9c179e\"], [0.4444444444444444, \"#bd3786\"], [0.5555555555555556, \"#d8576b\"], [0.6666666666666666, \"#ed7953\"], [0.7777777777777778, \"#fb9f3a\"], [0.8888888888888888, \"#fdca26\"], [1.0, \"#f0f921\"]], \"type\": \"heatmapgl\"}], \"histogram\": [{\"marker\": {\"colorbar\": {\"outlinewidth\": 0, \"ticks\": \"\"}}, \"type\": \"histogram\"}], \"histogram2d\": [{\"colorbar\": {\"outlinewidth\": 0, \"ticks\": \"\"}, \"colorscale\": [[0.0, \"#0d0887\"], [0.1111111111111111, \"#46039f\"], [0.2222222222222222, \"#7201a8\"], [0.3333333333333333, \"#9c179e\"], [0.4444444444444444, \"#bd3786\"], [0.5555555555555556, \"#d8576b\"], [0.6666666666666666, \"#ed7953\"], [0.7777777777777778, \"#fb9f3a\"], [0.8888888888888888, \"#fdca26\"], [1.0, \"#f0f921\"]], \"type\": \"histogram2d\"}], \"histogram2dcontour\": [{\"colorbar\": {\"outlinewidth\": 0, \"ticks\": \"\"}, \"colorscale\": [[0.0, \"#0d0887\"], [0.1111111111111111, \"#46039f\"], [0.2222222222222222, \"#7201a8\"], [0.3333333333333333, \"#9c179e\"], [0.4444444444444444, \"#bd3786\"], [0.5555555555555556, \"#d8576b\"], [0.6666666666666666, \"#ed7953\"], [0.7777777777777778, \"#fb9f3a\"], [0.8888888888888888, \"#fdca26\"], [1.0, \"#f0f921\"]], \"type\": \"histogram2dcontour\"}], \"mesh3d\": [{\"colorbar\": {\"outlinewidth\": 0, \"ticks\": \"\"}, \"type\": \"mesh3d\"}], \"parcoords\": [{\"line\": {\"colorbar\": {\"outlinewidth\": 0, \"ticks\": \"\"}}, \"type\": \"parcoords\"}], \"pie\": [{\"automargin\": true, \"type\": \"pie\"}], \"scatter\": [{\"marker\": {\"colorbar\": {\"outlinewidth\": 0, \"ticks\": \"\"}}, \"type\": \"scatter\"}], \"scatter3d\": [{\"line\": {\"colorbar\": {\"outlinewidth\": 0, \"ticks\": \"\"}}, \"marker\": {\"colorbar\": {\"outlinewidth\": 0, \"ticks\": \"\"}}, \"type\": \"scatter3d\"}], \"scattercarpet\": [{\"marker\": {\"colorbar\": {\"outlinewidth\": 0, \"ticks\": \"\"}}, \"type\": \"scattercarpet\"}], \"scattergeo\": [{\"marker\": {\"colorbar\": {\"outlinewidth\": 0, \"ticks\": \"\"}}, \"type\": \"scattergeo\"}], \"scattergl\": [{\"marker\": {\"colorbar\": {\"outlinewidth\": 0, \"ticks\": \"\"}}, \"type\": \"scattergl\"}], \"scattermapbox\": [{\"marker\": {\"colorbar\": {\"outlinewidth\": 0, \"ticks\": \"\"}}, \"type\": \"scattermapbox\"}], \"scatterpolar\": [{\"marker\": {\"colorbar\": {\"outlinewidth\": 0, \"ticks\": \"\"}}, \"type\": \"scatterpolar\"}], \"scatterpolargl\": [{\"marker\": {\"colorbar\": {\"outlinewidth\": 0, \"ticks\": \"\"}}, \"type\": \"scatterpolargl\"}], \"scatterternary\": [{\"marker\": {\"colorbar\": {\"outlinewidth\": 0, \"ticks\": \"\"}}, \"type\": \"scatterternary\"}], \"surface\": [{\"colorbar\": {\"outlinewidth\": 0, \"ticks\": \"\"}, \"colorscale\": [[0.0, \"#0d0887\"], [0.1111111111111111, \"#46039f\"], [0.2222222222222222, \"#7201a8\"], [0.3333333333333333, \"#9c179e\"], [0.4444444444444444, \"#bd3786\"], [0.5555555555555556, \"#d8576b\"], [0.6666666666666666, \"#ed7953\"], [0.7777777777777778, \"#fb9f3a\"], [0.8888888888888888, \"#fdca26\"], [1.0, \"#f0f921\"]], \"type\": \"surface\"}], \"table\": [{\"cells\": {\"fill\": {\"color\": \"#EBF0F8\"}, \"line\": {\"color\": \"white\"}}, \"header\": {\"fill\": {\"color\": \"#C8D4E3\"}, \"line\": {\"color\": \"white\"}}, \"type\": \"table\"}]}, \"layout\": {\"annotationdefaults\": {\"arrowcolor\": \"#2a3f5f\", \"arrowhead\": 0, \"arrowwidth\": 1}, \"coloraxis\": {\"colorbar\": {\"outlinewidth\": 0, \"ticks\": \"\"}}, \"colorscale\": {\"diverging\": [[0, \"#8e0152\"], [0.1, \"#c51b7d\"], [0.2, \"#de77ae\"], [0.3, \"#f1b6da\"], [0.4, \"#fde0ef\"], [0.5, \"#f7f7f7\"], [0.6, \"#e6f5d0\"], [0.7, \"#b8e186\"], [0.8, \"#7fbc41\"], [0.9, \"#4d9221\"], [1, \"#276419\"]], \"sequential\": [[0.0, \"#0d0887\"], [0.1111111111111111, \"#46039f\"], [0.2222222222222222, \"#7201a8\"], [0.3333333333333333, \"#9c179e\"], [0.4444444444444444, \"#bd3786\"], [0.5555555555555556, \"#d8576b\"], [0.6666666666666666, \"#ed7953\"], [0.7777777777777778, \"#fb9f3a\"], [0.8888888888888888, \"#fdca26\"], [1.0, \"#f0f921\"]], \"sequentialminus\": [[0.0, \"#0d0887\"], [0.1111111111111111, \"#46039f\"], [0.2222222222222222, \"#7201a8\"], [0.3333333333333333, \"#9c179e\"], [0.4444444444444444, \"#bd3786\"], [0.5555555555555556, \"#d8576b\"], [0.6666666666666666, \"#ed7953\"], [0.7777777777777778, \"#fb9f3a\"], [0.8888888888888888, \"#fdca26\"], [1.0, \"#f0f921\"]]}, \"colorway\": [\"#636efa\", \"#EF553B\", \"#00cc96\", \"#ab63fa\", \"#FFA15A\", \"#19d3f3\", \"#FF6692\", \"#B6E880\", \"#FF97FF\", \"#FECB52\"], \"font\": {\"color\": \"#2a3f5f\"}, \"geo\": {\"bgcolor\": \"white\", \"lakecolor\": \"white\", \"landcolor\": \"#E5ECF6\", \"showlakes\": true, \"showland\": true, \"subunitcolor\": \"white\"}, \"hoverlabel\": {\"align\": \"left\"}, \"hovermode\": \"closest\", \"mapbox\": {\"style\": \"light\"}, \"paper_bgcolor\": \"white\", \"plot_bgcolor\": \"#E5ECF6\", \"polar\": {\"angularaxis\": {\"gridcolor\": \"white\", \"linecolor\": \"white\", \"ticks\": \"\"}, \"bgcolor\": \"#E5ECF6\", \"radialaxis\": {\"gridcolor\": \"white\", \"linecolor\": \"white\", \"ticks\": \"\"}}, \"scene\": {\"xaxis\": {\"backgroundcolor\": \"#E5ECF6\", \"gridcolor\": \"white\", \"gridwidth\": 2, \"linecolor\": \"white\", \"showbackground\": true, \"ticks\": \"\", \"zerolinecolor\": \"white\"}, \"yaxis\": {\"backgroundcolor\": \"#E5ECF6\", \"gridcolor\": \"white\", \"gridwidth\": 2, \"linecolor\": \"white\", \"showbackground\": true, \"ticks\": \"\", \"zerolinecolor\": \"white\"}, \"zaxis\": {\"backgroundcolor\": \"#E5ECF6\", \"gridcolor\": \"white\", \"gridwidth\": 2, \"linecolor\": \"white\", \"showbackground\": true, \"ticks\": \"\", \"zerolinecolor\": \"white\"}}, \"shapedefaults\": {\"line\": {\"color\": \"#2a3f5f\"}}, \"ternary\": {\"aaxis\": {\"gridcolor\": \"white\", \"linecolor\": \"white\", \"ticks\": \"\"}, \"baxis\": {\"gridcolor\": \"white\", \"linecolor\": \"white\", \"ticks\": \"\"}, \"bgcolor\": \"#E5ECF6\", \"caxis\": {\"gridcolor\": \"white\", \"linecolor\": \"white\", \"ticks\": \"\"}}, \"title\": {\"x\": 0.05}, \"xaxis\": {\"automargin\": true, \"gridcolor\": \"white\", \"linecolor\": \"white\", \"ticks\": \"\", \"title\": {\"standoff\": 15}, \"zerolinecolor\": \"white\", \"zerolinewidth\": 2}, \"yaxis\": {\"automargin\": true, \"gridcolor\": \"white\", \"linecolor\": \"white\", \"ticks\": \"\", \"title\": {\"standoff\": 15}, \"zerolinecolor\": \"white\", \"zerolinewidth\": 2}}}, \"width\": 600, \"xaxis\": {\"linecolor\": \"black\", \"linewidth\": 1.5, \"mirror\": true, \"showline\": true, \"title\": {\"text\": \"Days\"}}, \"yaxis\": {\"linecolor\": \"black\", \"linewidth\": 1.5, \"mirror\": true, \"showline\": true, \"title\": {\"text\": \"Number of cumulative cases\"}}},\n",
       "                        {\"responsive\": true}\n",
       "                    ).then(function(){\n",
       "                            \n",
       "var gd = document.getElementById('0a25947f-c331-4cdd-8352-571b26d382b6');\n",
       "var x = new MutationObserver(function (mutations, observer) {{\n",
       "        var display = window.getComputedStyle(gd).display;\n",
       "        if (!display || display === 'none') {{\n",
       "            console.log([gd, 'removed!']);\n",
       "            Plotly.purge(gd);\n",
       "            observer.disconnect();\n",
       "        }}\n",
       "}});\n",
       "\n",
       "// Listen for the removal of the full notebook cells\n",
       "var notebookContainer = gd.closest('#notebook-container');\n",
       "if (notebookContainer) {{\n",
       "    x.observe(notebookContainer, {childList: true});\n",
       "}}\n",
       "\n",
       "// Listen for the clearing of the current output cell\n",
       "var outputEl = gd.closest('.output');\n",
       "if (outputEl) {{\n",
       "    x.observe(outputEl, {childList: true});\n",
       "}}\n",
       "\n",
       "                        })\n",
       "                };\n",
       "                });\n",
       "            </script>\n",
       "        </div>"
      ]
     },
     "metadata": {},
     "output_type": "display_data"
    }
   ],
   "source": [
    "fig = go.Figure()\n",
    "fig.add_trace(go.Scatter(name='Fast spread',x=x,y=normal_1.cdf(x),mode='lines'))\n",
    "fig.add_trace(go.Scatter(name='Slow spread',x=x,y=normal_2.cdf(x),mode='lines'))\n",
    "fig.update_layout(width=600,height=350,margin=dict(l=20, r=20, t=50, b=20))\n",
    "fig.update_xaxes(title='Days',showline=True, linewidth=1.5, linecolor='black', mirror=True)\n",
    "fig.update_yaxes(title='Number of cumulative cases',showline=True, linewidth=1.5, linecolor='black', mirror=True)\n",
    "fig.show()"
   ]
  },
  {
   "cell_type": "markdown",
   "metadata": {},
   "source": [
    "We see that the cumulative case curve is S-shaped and monotonically increasing – first rapid growth, then slow growth that approaches a plateau. Depending on how fast the spread of the disease is, the curve can be steeper or shallower. Also notice that the turning point, which was the maximum on the daily incidence graph, is the inflection point on the cumulative case count graph.\n",
    "\n",
    "Now, let's get more precise with our math. The curves illustrated above are actually examples of continuous variable distributions, with the following analogies:\n",
    ">Daily incidence over time can be thought of as a **probability density function [(PDF)](https://en.wikipedia.org/wiki/Probability_density_function)**, which we will call $\\phi(t)$.\n",
    "\n",
    ">Cumulative case count over time can be thought of as a **cumulative distribution function [(CDF)](https://en.wikipedia.org/wiki/Cumulative_distribution_function)**, which we will call $\\Phi(t)$.\n",
    "\n",
    "Generally speaking, for any \"hump-shaped\" PDF we will observe a [sigmoidal](https://en.wikipedia.org/wiki/Sigmoid_function) CDF, because $\\Phi(t)=\\int_0^t\\phi(\\tau)d\\tau$, as mentioned earlier. In disease modeling, $\\Phi(t)$ is often called a **growth curve**."
   ]
  },
  {
   "cell_type": "markdown",
   "metadata": {},
   "source": [
    "<a id='sec4'></a>"
   ]
  },
  {
   "cell_type": "markdown",
   "metadata": {},
   "source": [
    "## 4. Types of Models"
   ]
  },
  {
   "cell_type": "markdown",
   "metadata": {},
   "source": [
    "Going forward, we will try to fit case data to mathematical growth curves. There exist a number of strategies for [infectious disease modeling](https://en.wikipedia.org/wiki/Mathematical_modelling_of_infectious_disease), and more advanced types of models, including [compartmental models like SIR](https://www.sciencedirect.com/science/article/pii/S0378437103012287), can be used. However, here we will simply describe growth curves with mathematical functions, which has the advantage of being easier to implement, interpret, and rationalize.\n",
    "\n",
    "The question then is the following: what mathematical function best describes our coronavirus data? We saw above that a bell curve seems like a reasonable guess for $\\phi(t)$, but there might be other functions that look similar.\n",
    "\n",
    "To my knowledge, no comprehensive work has been published to date that answers this question, although I did find [one recent pre-print](https://arxiv.org/abs/2003.00507) analyzing this same question. The authors focused only on a handful of countries and a handful of models, on data through the end of March.\n",
    "\n",
    "So, we need to find a few reasonable functions and define their PDFs and growth curves. There are at least two mathematical functions that are suitable:"
   ]
  },
  {
   "cell_type": "markdown",
   "metadata": {},
   "source": [
    ">**Normal** distribution [(link)](https://en.wikipedia.org/wiki/Normal_distribution), also called a Gaussian distribution or bell curve, defined by:\n",
    "\n",
    "$$ \\phi(t) = \\frac{N}{s \\sqrt{2 \\pi}} e^{-\\frac{1}{2}  (t-t_0)^2/s^2 } $$ \n",
    "$$ \\Phi(t) = \\frac{N}{2} + \\frac{N}{2} \\operatorname{erf}\\left(\\frac{t-t_0}{s \\sqrt{2}}\\right) $$\n",
    "\n",
    ">**Logistic** distribution [(link)](https://en.wikipedia.org/wiki/Logistic_distribution), commonly used to model population growth in biology, defined by:\n",
    "\n",
    "$$ \\phi(t) = \\frac{N}{4s} \\operatorname{sech}^2 \\left( \\frac{t-t_0}{2s} \\right) $$ \n",
    "$$ \\Phi(t) = \\frac{N}{1 + e^{-(t-t_0)/s}} $$\n",
    "\n",
    "\n",
    "where $N$ is the final number of total cases, $t_0$ is a location parameter (equal to the turning point, $t_i$, for these distributions), and $s$ is a scale parameter related to the steepness of the growth curve. The [error function](https://en.wikipedia.org/wiki/Error_function), $\\operatorname{erf}(x)$, is a special function that appears commonly in statistics but has no closed form.\n",
    "\n",
    "Let's visualize these distributions for $N=1$ and $t_i=10$. Note that the values of $s$ are different for each distribution because the maning of $s$ isn't directly comparable between the distributions."
   ]
  },
  {
   "cell_type": "code",
   "execution_count": 11,
   "metadata": {
    "jupyter": {
     "source_hidden": true
    }
   },
   "outputs": [
    {
     "data": {
      "application/vnd.plotly.v1+json": {
       "config": {
        "plotlyServerURL": "https://plot.ly"
       },
       "data": [
        {
         "line": {
          "color": "rgb(31, 119, 180)"
         },
         "mode": "lines",
         "name": "Normal",
         "showlegend": true,
         "type": "scatter",
         "x": [
          0,
          0.1,
          0.2,
          0.30000000000000004,
          0.4,
          0.5,
          0.6000000000000001,
          0.7000000000000001,
          0.8,
          0.9,
          1,
          1.1,
          1.2000000000000002,
          1.3,
          1.4000000000000001,
          1.5,
          1.6,
          1.7000000000000002,
          1.8,
          1.9000000000000001,
          2,
          2.1,
          2.2,
          2.3000000000000003,
          2.4000000000000004,
          2.5,
          2.6,
          2.7,
          2.8000000000000003,
          2.9000000000000004,
          3,
          3.1,
          3.2,
          3.3000000000000003,
          3.4000000000000004,
          3.5,
          3.6,
          3.7,
          3.8000000000000003,
          3.9000000000000004,
          4,
          4.1000000000000005,
          4.2,
          4.3,
          4.4,
          4.5,
          4.6000000000000005,
          4.7,
          4.800000000000001,
          4.9,
          5,
          5.1000000000000005,
          5.2,
          5.300000000000001,
          5.4,
          5.5,
          5.6000000000000005,
          5.7,
          5.800000000000001,
          5.9,
          6,
          6.1000000000000005,
          6.2,
          6.300000000000001,
          6.4,
          6.5,
          6.6000000000000005,
          6.7,
          6.800000000000001,
          6.9,
          7,
          7.1000000000000005,
          7.2,
          7.300000000000001,
          7.4,
          7.5,
          7.6000000000000005,
          7.7,
          7.800000000000001,
          7.9,
          8,
          8.1,
          8.200000000000001,
          8.3,
          8.4,
          8.5,
          8.6,
          8.700000000000001,
          8.8,
          8.9,
          9,
          9.1,
          9.200000000000001,
          9.3,
          9.4,
          9.5,
          9.600000000000001,
          9.700000000000001,
          9.8,
          9.9,
          10,
          10.100000000000001,
          10.200000000000001,
          10.3,
          10.4,
          10.5,
          10.600000000000001,
          10.700000000000001,
          10.8,
          10.9,
          11,
          11.100000000000001,
          11.200000000000001,
          11.3,
          11.4,
          11.5,
          11.600000000000001,
          11.700000000000001,
          11.8,
          11.9,
          12,
          12.100000000000001,
          12.200000000000001,
          12.3,
          12.4,
          12.5,
          12.600000000000001,
          12.700000000000001,
          12.8,
          12.9,
          13,
          13.100000000000001,
          13.200000000000001,
          13.3,
          13.4,
          13.5,
          13.600000000000001,
          13.700000000000001,
          13.8,
          13.9,
          14,
          14.100000000000001,
          14.200000000000001,
          14.3,
          14.4,
          14.5,
          14.600000000000001,
          14.700000000000001,
          14.8,
          14.9,
          15,
          15.100000000000001,
          15.200000000000001,
          15.3,
          15.4,
          15.5,
          15.600000000000001,
          15.700000000000001,
          15.8,
          15.9,
          16,
          16.1,
          16.2,
          16.3,
          16.400000000000002,
          16.5,
          16.6,
          16.7,
          16.8,
          16.900000000000002,
          17,
          17.1,
          17.2,
          17.3,
          17.400000000000002,
          17.5,
          17.6,
          17.7,
          17.8,
          17.900000000000002,
          18,
          18.1,
          18.2,
          18.3,
          18.400000000000002,
          18.5,
          18.6,
          18.7,
          18.8,
          18.900000000000002,
          19,
          19.1,
          19.200000000000003,
          19.3,
          19.400000000000002,
          19.5,
          19.6,
          19.700000000000003,
          19.8,
          19.900000000000002
         ],
         "xaxis": "x",
         "y": [
          0.0005140929987637018,
          0.0005741896463512261,
          0.0006405993231173357,
          0.0007138961573442565,
          0.0007946960671549483,
          0.0008836586514767019,
          0.0009814890401277866,
          0.0010889396853999728,
          0.00120681207600643,
          0.001335958352772115,
          0.001477282803979336,
          0.0016317432168629776,
          0.0018003520603981236,
          0.001984177473258618,
          0.0021843440296711743,
          0.0024020332548697412,
          0.0026384838609933192,
          0.0028949916735929652,
          0.003172909218445733,
          0.0034736449381408685,
          0.003798662007932481,
          0.004149476720668069,
          0.004527656411228538,
          0.004934816891875435,
          0.005372619371216331,
          0.005842766831189513,
          0.006346999838550089,
          0.006887091769826073,
          0.0074648434316142995,
          0.00808207706140912,
          0.00874062969790316,
          0.009442345913867055,
          0.010189069909295164,
          0.010982636967484772,
          0.011824864282077152,
          0.012717541168805994,
          0.01366241868174073,
          0.0146611986601424,
          0.01571552223862387,
          0.0168269578600759,
          0.017996988837729353,
          0.01922700051971094,
          0.02051826711644909,
          0.02187193825822553,
          0.023289025356971735,
          0.0247703878529977,
          0.026316719433631397,
          0.027928534316654915,
          0.029606153696863965,
          0.03134969245896232,
          0.03315904626424956,
          0.0350338791220834,
          0.036973611559818535,
          0.038977409506766855,
          0.04104417400861653,
          0.04317253188863058,
          0.04536082747075937,
          0.04760711547750344,
          0.04990915521191499,
          0.05226440612850288,
          0.05467002489199788,
          0.057122864015935804,
          0.05961947216484686,
          0.06215609619452194,
          0.06472868499440433,
          0.06733289518468628,
          0.06996409870824144,
          0.07261739234418353,
          0.07528760915570819,
          0.07796933187005435,
          0.08065690817304778,
          0.08334446788488616,
          0.08602594196774592,
          0.08869508329958496,
          0.09134548913234282,
          0.09397062513676752,
          0.09656385092049428,
          0.0991184468909342,
          0.1016276423201724,
          0.10408464445558711,
          0.10648266850745075,
          0.10881496833350866,
          0.11107486763059991,
          0.11325579143491937,
          0.115351297725641,
          0.11735510892143318,
          0.11926114305598966,
          0.12106354441713936,
          0.12275671343444113,
          0.12433533560244286,
          0.12579440923099774,
          0.1271292718201747,
          0.12833562486533798,
          0.12940955690784897,
          0.13034756465848532,
          0.13114657203397997,
          0.13180394696193923,
          0.1323175158256706,
          0.1326855754379841,
          0.132906902451659,
          0.1329807601338109,
          0.132906902451659,
          0.13268557543798407,
          0.1323175158256706,
          0.13180394696193923,
          0.13114657203397997,
          0.1303475646584853,
          0.12940955690784894,
          0.12833562486533798,
          0.1271292718201747,
          0.12579440923099774,
          0.12433533560244282,
          0.1227567134344411,
          0.12106354441713933,
          0.11926114305598966,
          0.11735510892143318,
          0.11535129772564094,
          0.11325579143491933,
          0.11107486763059987,
          0.10881496833350866,
          0.10648266850745075,
          0.10408464445558707,
          0.10162764232017236,
          0.09911844689093417,
          0.09656385092049424,
          0.09397062513676752,
          0.09134548913234279,
          0.08869508329958492,
          0.08602594196774588,
          0.08334446788488616,
          0.08065690817304778,
          0.0779693318700543,
          0.07528760915570813,
          0.0726173923441835,
          0.0699640987082414,
          0.06733289518468628,
          0.06472868499440429,
          0.0621560961945219,
          0.05961947216484684,
          0.05712286401593578,
          0.05467002489199788,
          0.052264406128502826,
          0.049909155211914934,
          0.047607115477503424,
          0.04536082747075935,
          0.04317253188863058,
          0.04104417400861649,
          0.03897740950676681,
          0.03697361155981851,
          0.03503387912208338,
          0.03315904626424956,
          0.03134969245896229,
          0.02960615369686394,
          0.0279285343166549,
          0.026316719433631383,
          0.0247703878529977,
          0.02328902535697171,
          0.021871938258225518,
          0.020518267116449083,
          0.01922700051971093,
          0.017996988837729353,
          0.016826957860075886,
          0.01571552223862387,
          0.0146611986601424,
          0.013662418681740708,
          0.012717541168805994,
          0.01182486428207713,
          0.010982636967484772,
          0.010189069909295148,
          0.00944234591386704,
          0.00874062969790316,
          0.00808207706140911,
          0.0074648434316142995,
          0.006887091769826068,
          0.0063469998385500825,
          0.005842766831189513,
          0.005372619371216326,
          0.004934816891875435,
          0.004527656411228538,
          0.004149476720668058,
          0.003798662007932481,
          0.0034736449381408594,
          0.003172909218445733,
          0.0028949916735929652,
          0.0026384838609933153,
          0.0024020332548697412,
          0.002184344029671172,
          0.001984177473258618,
          0.0018003520603981236,
          0.0016317432168629759,
          0.001477282803979336,
          0.0013359583527721138,
          0.0012068120760064258,
          0.0010889396853999728,
          0.0009814890401277838,
          0.0008836586514767019,
          0.0007946960671549461,
          0.0007138961573442542,
          0.0006405993231173357,
          0.0005741896463512256
         ],
         "yaxis": "y"
        },
        {
         "line": {
          "color": "rgb(255, 127, 14)",
          "dash": "dash"
         },
         "mode": "lines",
         "name": "Logistic",
         "showlegend": true,
         "type": "scatter",
         "x": [
          0,
          0.1,
          0.2,
          0.30000000000000004,
          0.4,
          0.5,
          0.6000000000000001,
          0.7000000000000001,
          0.8,
          0.9,
          1,
          1.1,
          1.2000000000000002,
          1.3,
          1.4000000000000001,
          1.5,
          1.6,
          1.7000000000000002,
          1.8,
          1.9000000000000001,
          2,
          2.1,
          2.2,
          2.3000000000000003,
          2.4000000000000004,
          2.5,
          2.6,
          2.7,
          2.8000000000000003,
          2.9000000000000004,
          3,
          3.1,
          3.2,
          3.3000000000000003,
          3.4000000000000004,
          3.5,
          3.6,
          3.7,
          3.8000000000000003,
          3.9000000000000004,
          4,
          4.1000000000000005,
          4.2,
          4.3,
          4.4,
          4.5,
          4.6000000000000005,
          4.7,
          4.800000000000001,
          4.9,
          5,
          5.1000000000000005,
          5.2,
          5.300000000000001,
          5.4,
          5.5,
          5.6000000000000005,
          5.7,
          5.800000000000001,
          5.9,
          6,
          6.1000000000000005,
          6.2,
          6.300000000000001,
          6.4,
          6.5,
          6.6000000000000005,
          6.7,
          6.800000000000001,
          6.9,
          7,
          7.1000000000000005,
          7.2,
          7.300000000000001,
          7.4,
          7.5,
          7.6000000000000005,
          7.7,
          7.800000000000001,
          7.9,
          8,
          8.1,
          8.200000000000001,
          8.3,
          8.4,
          8.5,
          8.6,
          8.700000000000001,
          8.8,
          8.9,
          9,
          9.1,
          9.200000000000001,
          9.3,
          9.4,
          9.5,
          9.600000000000001,
          9.700000000000001,
          9.8,
          9.9,
          10,
          10.100000000000001,
          10.200000000000001,
          10.3,
          10.4,
          10.5,
          10.600000000000001,
          10.700000000000001,
          10.8,
          10.9,
          11,
          11.100000000000001,
          11.200000000000001,
          11.3,
          11.4,
          11.5,
          11.600000000000001,
          11.700000000000001,
          11.8,
          11.9,
          12,
          12.100000000000001,
          12.200000000000001,
          12.3,
          12.4,
          12.5,
          12.600000000000001,
          12.700000000000001,
          12.8,
          12.9,
          13,
          13.100000000000001,
          13.200000000000001,
          13.3,
          13.4,
          13.5,
          13.600000000000001,
          13.700000000000001,
          13.8,
          13.9,
          14,
          14.100000000000001,
          14.200000000000001,
          14.3,
          14.4,
          14.5,
          14.600000000000001,
          14.700000000000001,
          14.8,
          14.9,
          15,
          15.100000000000001,
          15.200000000000001,
          15.3,
          15.4,
          15.5,
          15.600000000000001,
          15.700000000000001,
          15.8,
          15.9,
          16,
          16.1,
          16.2,
          16.3,
          16.400000000000002,
          16.5,
          16.6,
          16.7,
          16.8,
          16.900000000000002,
          17,
          17.1,
          17.2,
          17.3,
          17.400000000000002,
          17.5,
          17.6,
          17.7,
          17.8,
          17.900000000000002,
          18,
          18.1,
          18.2,
          18.3,
          18.400000000000002,
          18.5,
          18.6,
          18.7,
          18.8,
          18.900000000000002,
          19,
          19.1,
          19.200000000000003,
          19.3,
          19.400000000000002,
          19.5,
          19.6,
          19.700000000000003,
          19.8,
          19.900000000000002
         ],
         "xaxis": "x",
         "y": [
          0.0021312232809576857,
          0.0022519842749276504,
          0.002379528363795724,
          0.0025142295879818834,
          0.002656481798251586,
          0.0028066996087394197,
          0.002965319384196185,
          0.0031328002611765633,
          0.003309625202629778,
          0.0034963020850622326,
          0.00369336481710564,
          0.003901374487940635,
          0.004120920543590776,
          0.004352621988608721,
          0.004597128610119491,
          0.004855122220559722,
          0.005127317914748747,
          0.005414465336141265,
          0.005717349946234288,
          0.006036794290125128,
          0.006373659250135105,
          0.0067288452782154505,
          0.0071032935965313175,
          0.00749798735416601,
          0.007913952726293768,
          0.008352259940426337,
          0.00881402421243895,
          0.00930040657301803,
          0.009812614562939515,
          0.01035190277317884,
          0.010919573203268449,
          0.01151697540855541,
          0.012145506404072859,
          0.012806610289630238,
          0.013501777557459266,
          0.014232544040340467,
          0.015000489454600401,
          0.01580723548874198,
          0.016654443384786423,
          0.017543810955712707,
          0.01847706897873756,
          0.019455976900656795,
          0.020482317788152665,
          0.021557892452963197,
          0.022684512679225343,
          0.023863993478283198,
          0.025098144294951195,
          0.026388759088818083,
          0.027737605214873527,
          0.029146411029752076,
          0.030616852153469293,
          0.0321505363219291,
          0.03374898677299729,
          0.035413624118855146,
          0.037145746669977414,
          0.03894650919172675,
          0.04081690009352158,
          0.04275771707310442,
          0.04476954126485906,
          0.0468527099716084,
          0.04900728809400823,
          0.051233038410589765,
          0.053529390904638395,
          0.055895411381239275,
          0.058329769668614764,
          0.0608307077517912,
          0.0633960082428998,
          0.06602296365005374,
          0.06870834696450212,
          0.07144838414212037,
          0.0742387291084733,
          0.07707444196462315,
          0.07994997111125711,
          0.08285914003907384,
          0.08579513955105027,
          0.08875052618449036,
          0.09171722758494652,
          0.09468655554766303,
          0.09764922738286473,
          0.10059539617718272,
          0.10351469041356559,
          0.10639626327570832,
          0.10922885180082328,
          0.11200084585799683,
          0.1147003667211307,
          0.1173153547794672,
          0.11983366569011848,
          0.12224317403219641,
          0.12453188327846036,
          0.12668804066609785,
          0.1287002553321096,
          0.13055761788977474,
          0.13224981946960074,
          0.1337672681391509,
          0.13510120055820596,
          0.1362437867243411,
          0.13718822572271352,
          0.13792883051395652,
          0.13846109997438294,
          0.13878177663949587,
          0.1388888888888889,
          0.1387817766394958,
          0.138461099974383,
          0.13792883051395652,
          0.13718822572271347,
          0.1362437867243411,
          0.13510120055820593,
          0.13376726813915085,
          0.13224981946960077,
          0.1305576178897747,
          0.12870025533210958,
          0.1266880406660978,
          0.12453188327846029,
          0.12224317403219634,
          0.11983366569011845,
          0.1173153547794672,
          0.11470036672113068,
          0.11200084585799674,
          0.10922885180082323,
          0.10639626327570832,
          0.10351469041356554,
          0.10059539617718266,
          0.0976492273828647,
          0.09468655554766302,
          0.09171722758494649,
          0.08875052618449036,
          0.0857951395510502,
          0.08285914003907378,
          0.07994997111125708,
          0.07707444196462312,
          0.0742387291084733,
          0.07144838414212033,
          0.06870834696450205,
          0.06602296365005371,
          0.0633960082428998,
          0.0608307077517912,
          0.05832976966861469,
          0.05589541138123922,
          0.053529390904638374,
          0.05123303841058972,
          0.04900728809400821,
          0.04685270997160836,
          0.04476954126485903,
          0.04275771707310438,
          0.04081690009352155,
          0.03894650919172675,
          0.0371457466699774,
          0.0354136241188551,
          0.03374898677299727,
          0.03215053632192909,
          0.030616852153469275,
          0.02914641102975205,
          0.027737605214873503,
          0.026388759088818083,
          0.025098144294951184,
          0.023863993478283208,
          0.022684512679225326,
          0.02155789245296319,
          0.020482317788152658,
          0.01945597690065679,
          0.01847706897873756,
          0.01754381095571268,
          0.016654443384786423,
          0.015807235488741973,
          0.015000489454600387,
          0.014232544040340467,
          0.013501777557459252,
          0.012806610289630238,
          0.012145506404072859,
          0.0115169754085554,
          0.010919573203268449,
          0.010351902773178831,
          0.009812614562939515,
          0.009300406573018012,
          0.008814024212438933,
          0.008352259940426337,
          0.007913952726293763,
          0.007497987354166003,
          0.0071032935965313045,
          0.006728845278215438,
          0.006373659250135105,
          0.006036794290125123,
          0.005717349946234288,
          0.0054144653361412705,
          0.005127317914748747,
          0.0048551222205597275,
          0.004597128610119491,
          0.004352621988608725,
          0.004120920543590776,
          0.003901374487940628,
          0.00369336481710564,
          0.003496302085062229,
          0.003309625202629769,
          0.0031328002611765663,
          0.0029653193841961824,
          0.0028066996087394197,
          0.002656481798251581,
          0.002514229587981879,
          0.0023795283637957263,
          0.0022519842749276465
         ],
         "yaxis": "y"
        },
        {
         "line": {
          "color": "rgb(31, 119, 180)"
         },
         "mode": "lines",
         "name": "Normal",
         "showlegend": false,
         "type": "scatter",
         "x": [
          0,
          0.1,
          0.2,
          0.30000000000000004,
          0.4,
          0.5,
          0.6000000000000001,
          0.7000000000000001,
          0.8,
          0.9,
          1,
          1.1,
          1.2000000000000002,
          1.3,
          1.4000000000000001,
          1.5,
          1.6,
          1.7000000000000002,
          1.8,
          1.9000000000000001,
          2,
          2.1,
          2.2,
          2.3000000000000003,
          2.4000000000000004,
          2.5,
          2.6,
          2.7,
          2.8000000000000003,
          2.9000000000000004,
          3,
          3.1,
          3.2,
          3.3000000000000003,
          3.4000000000000004,
          3.5,
          3.6,
          3.7,
          3.8000000000000003,
          3.9000000000000004,
          4,
          4.1000000000000005,
          4.2,
          4.3,
          4.4,
          4.5,
          4.6000000000000005,
          4.7,
          4.800000000000001,
          4.9,
          5,
          5.1000000000000005,
          5.2,
          5.300000000000001,
          5.4,
          5.5,
          5.6000000000000005,
          5.7,
          5.800000000000001,
          5.9,
          6,
          6.1000000000000005,
          6.2,
          6.300000000000001,
          6.4,
          6.5,
          6.6000000000000005,
          6.7,
          6.800000000000001,
          6.9,
          7,
          7.1000000000000005,
          7.2,
          7.300000000000001,
          7.4,
          7.5,
          7.6000000000000005,
          7.7,
          7.800000000000001,
          7.9,
          8,
          8.1,
          8.200000000000001,
          8.3,
          8.4,
          8.5,
          8.6,
          8.700000000000001,
          8.8,
          8.9,
          9,
          9.1,
          9.200000000000001,
          9.3,
          9.4,
          9.5,
          9.600000000000001,
          9.700000000000001,
          9.8,
          9.9,
          10,
          10.100000000000001,
          10.200000000000001,
          10.3,
          10.4,
          10.5,
          10.600000000000001,
          10.700000000000001,
          10.8,
          10.9,
          11,
          11.100000000000001,
          11.200000000000001,
          11.3,
          11.4,
          11.5,
          11.600000000000001,
          11.700000000000001,
          11.8,
          11.9,
          12,
          12.100000000000001,
          12.200000000000001,
          12.3,
          12.4,
          12.5,
          12.600000000000001,
          12.700000000000001,
          12.8,
          12.9,
          13,
          13.100000000000001,
          13.200000000000001,
          13.3,
          13.4,
          13.5,
          13.600000000000001,
          13.700000000000001,
          13.8,
          13.9,
          14,
          14.100000000000001,
          14.200000000000001,
          14.3,
          14.4,
          14.5,
          14.600000000000001,
          14.700000000000001,
          14.8,
          14.9,
          15,
          15.100000000000001,
          15.200000000000001,
          15.3,
          15.4,
          15.5,
          15.600000000000001,
          15.700000000000001,
          15.8,
          15.9,
          16,
          16.1,
          16.2,
          16.3,
          16.400000000000002,
          16.5,
          16.6,
          16.7,
          16.8,
          16.900000000000002,
          17,
          17.1,
          17.2,
          17.3,
          17.400000000000002,
          17.5,
          17.6,
          17.7,
          17.8,
          17.900000000000002,
          18,
          18.1,
          18.2,
          18.3,
          18.400000000000002,
          18.5,
          18.6,
          18.7,
          18.8,
          18.900000000000002,
          19,
          19.1,
          19.200000000000003,
          19.3,
          19.400000000000002,
          19.5,
          19.6,
          19.700000000000003,
          19.8,
          19.900000000000002
         ],
         "xaxis": "x2",
         "y": [
          0.0004290603331968372,
          0.00048342414238377663,
          0.0005441086524671406,
          0.0006117735324862054,
          0.0006871379379158483,
          0.0007709847844699757,
          0.0008641652090980683,
          0.0009676032132183563,
          0.0010823004813931916,
          0.00120934136666433,
          0.0013498980316300933,
          0.001505235732066175,
          0.0016767182274731592,
          0.0018658133003840375,
          0.00207409836359409,
          0.0023032661316958825,
          0.002555130330427929,
          0.0028316314143945224,
          0.003134842260705495,
          0.0034669738030406686,
          0.0038303805675897365,
          0.004227566069280537,
          0.004661188023718747,
          0.005134063327350345,
          0.0056491727555606375,
          0.006209665325776132,
          0.006818862270176098,
          0.007480260560390131,
          0.008197535924596131,
          0.00897454529578302,
          0.009815328628645334,
          0.010724110021675795,
          0.011705298080558346,
          0.012763485458978336,
          0.013903447513498616,
          0.015130140010235814,
          0.01644869582274533,
          0.017864420562816542,
          0.019382787088818604,
          0.02100942883984279,
          0.022750131948179195,
          0.0246108260876501,
          0.026597574021009627,
          0.028716559816001783,
          0.0309740757067406,
          0.03337650758481726,
          0.03593031911292581,
          0.03864203446279496,
          0.04151821968877912,
          0.04456546275854304,
          0.0477903522728147,
          0.05119945491710787,
          0.054799291699558,
          0.0585963130404857,
          0.06259687279090685,
          0.06680720126885807,
          0.07123337741398612,
          0.0758813001722581,
          0.08075665923377112,
          0.0858649052573559,
          0.09121121972586788,
          0.09680048458561041,
          0.10263725183213579,
          0.10872571321259117,
          0.11506967022170822,
          0.12167250457438122,
          0.12853714934241506,
          0.13566606094638267,
          0.1430611921955091,
          0.1507239665690247,
          0.15865525393145707,
          0.16685534787178308,
          0.17532394485222952,
          0.18406012534675953,
          0.19306233714190696,
          0.20232838096364308,
          0.21185539858339675,
          0.22163986354425458,
          0.23167757463479832,
          0.24196365222307303,
          0.2524925375469229,
          0.2632579950394782,
          0.27425311775007366,
          0.2854703359014441,
          0.29690142860385127,
          0.3085375387259869,
          0.32036919090127036,
          0.3323863126266752,
          0.34457825838967593,
          0.3569338367374987,
          0.36944134018176367,
          0.3820885778110473,
          0.3948629104640253,
          0.4077512882968954,
          0.420740290560897,
          0.43381616738909634,
          0.4469648833763862,
          0.4601721627229712,
          0.47342353569963497,
          0.48670438618290796,
          0.5,
          0.5132956138170923,
          0.5265764643003652,
          0.5398278372770291,
          0.553035116623614,
          0.5661838326109037,
          0.5792597094391032,
          0.5922487117031049,
          0.6051370895359749,
          0.6179114221889527,
          0.6305586598182363,
          0.6430661632625017,
          0.6554217416103243,
          0.667613687373325,
          0.6796308090987296,
          0.6914624612740131,
          0.703098571396149,
          0.7145296640985561,
          0.7257468822499265,
          0.7367420049605218,
          0.7475074624530771,
          0.7580363477769272,
          0.7683224253652019,
          0.7783601364557455,
          0.7881446014166034,
          0.7976716190363569,
          0.8069376628580933,
          0.8159398746532407,
          0.8246760551477705,
          0.833144652128217,
          0.8413447460685429,
          0.8492760334309755,
          0.856938807804491,
          0.8643339390536173,
          0.871462850657585,
          0.8783274954256188,
          0.8849303297782918,
          0.8912742867874089,
          0.8973627481678642,
          0.9031995154143897,
          0.9087887802741321,
          0.9141350947426441,
          0.919243340766229,
          0.924118699827742,
          0.9287666225860138,
          0.9331927987311419,
          0.9374031272090932,
          0.9414036869595144,
          0.945200708300442,
          0.9488005450828922,
          0.9522096477271853,
          0.955434537241457,
          0.9584817803112209,
          0.9613579655372051,
          0.9640696808870742,
          0.9666234924151828,
          0.9690259242932594,
          0.9712834401839983,
          0.9734024259789904,
          0.9753891739123499,
          0.9772498680518208,
          0.9789905711601572,
          0.9806172129111814,
          0.9821355794371834,
          0.9835513041772547,
          0.9848698599897642,
          0.9860965524865014,
          0.9872365145410217,
          0.9882947019194417,
          0.9892758899783243,
          0.9901846713713547,
          0.991025454704217,
          0.9918024640754038,
          0.9925197394396099,
          0.9931811377298239,
          0.9937903346742238,
          0.9943508272444394,
          0.9948659366726497,
          0.9953388119762813,
          0.9957724339307195,
          0.9961696194324102,
          0.9965330261969594,
          0.9968651577392945,
          0.9971683685856054,
          0.997444869669572,
          0.9976967338683042,
          0.9979259016364059,
          0.998134186699616,
          0.9983232817725268,
          0.9984947642679338,
          0.9986501019683699,
          0.9987906586333357,
          0.9989176995186068,
          0.9990323967867817,
          0.999135834790902,
          0.99922901521553,
          0.9993128620620841,
          0.9993882264675138,
          0.9994558913475329,
          0.9995165758576162
         ],
         "yaxis": "y2"
        },
        {
         "line": {
          "color": "rgb(255, 127, 14)",
          "dash": "dash"
         },
         "mode": "lines",
         "name": "Logistic",
         "showlegend": false,
         "type": "scatter",
         "x": [
          0,
          0.1,
          0.2,
          0.30000000000000004,
          0.4,
          0.5,
          0.6000000000000001,
          0.7000000000000001,
          0.8,
          0.9,
          1,
          1.1,
          1.2000000000000002,
          1.3,
          1.4000000000000001,
          1.5,
          1.6,
          1.7000000000000002,
          1.8,
          1.9000000000000001,
          2,
          2.1,
          2.2,
          2.3000000000000003,
          2.4000000000000004,
          2.5,
          2.6,
          2.7,
          2.8000000000000003,
          2.9000000000000004,
          3,
          3.1,
          3.2,
          3.3000000000000003,
          3.4000000000000004,
          3.5,
          3.6,
          3.7,
          3.8000000000000003,
          3.9000000000000004,
          4,
          4.1000000000000005,
          4.2,
          4.3,
          4.4,
          4.5,
          4.6000000000000005,
          4.7,
          4.800000000000001,
          4.9,
          5,
          5.1000000000000005,
          5.2,
          5.300000000000001,
          5.4,
          5.5,
          5.6000000000000005,
          5.7,
          5.800000000000001,
          5.9,
          6,
          6.1000000000000005,
          6.2,
          6.300000000000001,
          6.4,
          6.5,
          6.6000000000000005,
          6.7,
          6.800000000000001,
          6.9,
          7,
          7.1000000000000005,
          7.2,
          7.300000000000001,
          7.4,
          7.5,
          7.6000000000000005,
          7.7,
          7.800000000000001,
          7.9,
          8,
          8.1,
          8.200000000000001,
          8.3,
          8.4,
          8.5,
          8.6,
          8.700000000000001,
          8.8,
          8.9,
          9,
          9.1,
          9.200000000000001,
          9.3,
          9.4,
          9.5,
          9.600000000000001,
          9.700000000000001,
          9.8,
          9.9,
          10,
          10.100000000000001,
          10.200000000000001,
          10.3,
          10.4,
          10.5,
          10.600000000000001,
          10.700000000000001,
          10.8,
          10.9,
          11,
          11.100000000000001,
          11.200000000000001,
          11.3,
          11.4,
          11.5,
          11.600000000000001,
          11.700000000000001,
          11.8,
          11.9,
          12,
          12.100000000000001,
          12.200000000000001,
          12.3,
          12.4,
          12.5,
          12.600000000000001,
          12.700000000000001,
          12.8,
          12.9,
          13,
          13.100000000000001,
          13.200000000000001,
          13.3,
          13.4,
          13.5,
          13.600000000000001,
          13.700000000000001,
          13.8,
          13.9,
          14,
          14.100000000000001,
          14.200000000000001,
          14.3,
          14.4,
          14.5,
          14.600000000000001,
          14.700000000000001,
          14.8,
          14.9,
          15,
          15.100000000000001,
          15.200000000000001,
          15.3,
          15.4,
          15.5,
          15.600000000000001,
          15.700000000000001,
          15.8,
          15.9,
          16,
          16.1,
          16.2,
          16.3,
          16.400000000000002,
          16.5,
          16.6,
          16.7,
          16.8,
          16.900000000000002,
          17,
          17.1,
          17.2,
          17.3,
          17.400000000000002,
          17.5,
          17.6,
          17.7,
          17.8,
          17.900000000000002,
          18,
          18.1,
          18.2,
          18.3,
          18.400000000000002,
          18.5,
          18.6,
          18.7,
          18.8,
          18.900000000000002,
          19,
          19.1,
          19.200000000000003,
          19.3,
          19.400000000000002,
          19.5,
          19.6,
          19.700000000000003,
          19.8,
          19.900000000000002
         ],
         "xaxis": "x2",
         "y": [
          0.003851032355930255,
          0.004070137715896128,
          0.0043016552930929,
          0.004546281937825588,
          0.004804752887159518,
          0.005077843793320317,
          0.0053663728491087845,
          0.005671203013740883,
          0.005993244342482293,
          0.006333456423378857,
          0.0066928509242848554,
          0.007072494253255469,
          0.007473510335193645,
          0.007897083507418851,
          0.008344461536550052,
          0.008816958758761201,
          0.009315959345066686,
          0.00984292069281942,
          0.010399376944046072,
          0.01098694263059318,
          0.011607316445304631,
          0.0122622851375832,
          0.012953727530695871,
          0.013683618657050386,
          0.014454034006386568,
          0.015267153880374444,
          0.016125267845478516,
          0.017030779274116104,
          0.017986209962091566,
          0.018994204808010565,
          0.02005753653785041,
          0.021179110455067696,
          0.022361969193544173,
          0.023609297447288992,
          0.02492442664711404,
          0.026310839550463053,
          0.027772174706191966,
          0.02931223075135632,
          0.0309349704919536,
          0.03264452471409182,
          0.03444519566621118,
          0.036341460146782405,
          0.03833797212535965,
          0.04043956481800324,
          0.04265125213094287,
          0.04497822937897771,
          0.0474258731775668,
          0.04999974039993328,
          0.05270556608289025,
          0.05554926015761178,
          0.0585369028743679,
          0.06167473878348327,
          0.06496916912866407,
          0.06842674250359214,
          0.07205414361856402,
          0.07585818002124355,
          0.07984576661461427,
          0.08402390781631201,
          0.08839967720705845,
          0.09298019452229982,
          0.09777259985079931,
          0.10278402491725178,
          0.10802156134341918,
          0.11349222580422876,
          0.11920292202211757,
          0.12516039957499714,
          0.1313712095308068,
          0.13784165696493572,
          0.1445777504658773,
          0.15158514878928694,
          0.15886910488091516,
          0.1664344075542588,
          0.17428532117858547,
          0.1824255238063564,
          0.1908580442448655,
          0.19958519865373253,
          0.20860852732604498,
          0.21792873238451507,
          0.22754561719281619,
          0.23745802834390256,
          0.24766380113907163,
          0.2581597095111631,
          0.26894142136999527,
          0.28000346035538254,
          0.2913391749705645,
          0.30294071603459277,
          0.31479902333468435,
          0.32690382227776804,
          0.33924363123418294,
          0.35180578013625535,
          0.3645764407416393,
          0.3775406687981454,
          0.3906824581564394,
          0.4039848066734833,
          0.4174297935376854,
          0.4309986674318094,
          0.4446719447376312,
          0.45842951678320026,
          0.47225076494548685,
          0.48611468225399523,
          0.5,
          0.513885317746005,
          0.5277492350545133,
          0.5415704832168,
          0.5553280552623691,
          0.5690013325681905,
          0.5825702064623148,
          0.5960151933265169,
          0.6093175418435608,
          0.6224593312018547,
          0.6354235592583607,
          0.6481942198637449,
          0.6607563687658172,
          0.6730961777222322,
          0.6852009766653157,
          0.6970592839654073,
          0.7086608250294357,
          0.7199965396446177,
          0.731058578630005,
          0.7418402904888369,
          0.7523361988609284,
          0.7625419716560976,
          0.7724543828071839,
          0.7820712676154851,
          0.791391472673955,
          0.8004148013462675,
          0.8091419557551347,
          0.8175744761936438,
          0.8257146788214146,
          0.8335655924457414,
          0.8411308951190849,
          0.8484148512107133,
          0.8554222495341228,
          0.8621583430350643,
          0.8686287904691933,
          0.8748396004250029,
          0.8807970779778825,
          0.8865077741957713,
          0.8919784386565809,
          0.8972159750827483,
          0.9022274001492008,
          0.9070198054777002,
          0.9116003227929417,
          0.915976092183688,
          0.9201542333853858,
          0.9241418199787566,
          0.927945856381436,
          0.931573257496408,
          0.935030830871336,
          0.9383252612165167,
          0.941463097125632,
          0.9444507398423884,
          0.9472944339171098,
          0.9500002596000667,
          0.9525741268224334,
          0.9550217706210222,
          0.9573487478690571,
          0.9595604351819967,
          0.9616620278746403,
          0.9636585398532177,
          0.9655548043337887,
          0.9673554752859082,
          0.9690650295080464,
          0.9706877692486436,
          0.9722278252938079,
          0.9736891604495369,
          0.975075573352886,
          0.976390702552711,
          0.9776380308064557,
          0.9788208895449324,
          0.9799424634621495,
          0.9810057951919894,
          0.9820137900379085,
          0.982969220725884,
          0.9838747321545214,
          0.9847328461196255,
          0.9855459659936133,
          0.9863163813429496,
          0.9870462724693041,
          0.9877377148624168,
          0.9883926835546953,
          0.9890130573694068,
          0.989600623055954,
          0.9901570793071806,
          0.9906840406549333,
          0.9911830412412388,
          0.99165553846345,
          0.9921029164925812,
          0.9925264896648063,
          0.9929275057467446,
          0.9933071490757153,
          0.9936665435766211,
          0.9940067556575176,
          0.994328796986259,
          0.9946336271508911,
          0.9949221562066797,
          0.9951952471128405,
          0.9954537180621744,
          0.9956983447069072,
          0.995929862284104
         ],
         "yaxis": "y2"
        }
       ],
       "layout": {
        "annotations": [
         {
          "font": {
           "size": 16
          },
          "showarrow": false,
          "text": "PDF comparison",
          "x": 0.225,
          "xanchor": "center",
          "xref": "paper",
          "y": 1,
          "yanchor": "bottom",
          "yref": "paper"
         },
         {
          "font": {
           "size": 16
          },
          "showarrow": false,
          "text": "CDF comparison",
          "x": 0.775,
          "xanchor": "center",
          "xref": "paper",
          "y": 1,
          "yanchor": "bottom",
          "yref": "paper"
         }
        ],
        "height": 350,
        "margin": {
         "b": 20,
         "l": 20,
         "r": 20,
         "t": 50
        },
        "template": {
         "data": {
          "bar": [
           {
            "error_x": {
             "color": "#2a3f5f"
            },
            "error_y": {
             "color": "#2a3f5f"
            },
            "marker": {
             "line": {
              "color": "#E5ECF6",
              "width": 0.5
             }
            },
            "type": "bar"
           }
          ],
          "barpolar": [
           {
            "marker": {
             "line": {
              "color": "#E5ECF6",
              "width": 0.5
             }
            },
            "type": "barpolar"
           }
          ],
          "carpet": [
           {
            "aaxis": {
             "endlinecolor": "#2a3f5f",
             "gridcolor": "white",
             "linecolor": "white",
             "minorgridcolor": "white",
             "startlinecolor": "#2a3f5f"
            },
            "baxis": {
             "endlinecolor": "#2a3f5f",
             "gridcolor": "white",
             "linecolor": "white",
             "minorgridcolor": "white",
             "startlinecolor": "#2a3f5f"
            },
            "type": "carpet"
           }
          ],
          "choropleth": [
           {
            "colorbar": {
             "outlinewidth": 0,
             "ticks": ""
            },
            "type": "choropleth"
           }
          ],
          "contour": [
           {
            "colorbar": {
             "outlinewidth": 0,
             "ticks": ""
            },
            "colorscale": [
             [
              0,
              "#0d0887"
             ],
             [
              0.1111111111111111,
              "#46039f"
             ],
             [
              0.2222222222222222,
              "#7201a8"
             ],
             [
              0.3333333333333333,
              "#9c179e"
             ],
             [
              0.4444444444444444,
              "#bd3786"
             ],
             [
              0.5555555555555556,
              "#d8576b"
             ],
             [
              0.6666666666666666,
              "#ed7953"
             ],
             [
              0.7777777777777778,
              "#fb9f3a"
             ],
             [
              0.8888888888888888,
              "#fdca26"
             ],
             [
              1,
              "#f0f921"
             ]
            ],
            "type": "contour"
           }
          ],
          "contourcarpet": [
           {
            "colorbar": {
             "outlinewidth": 0,
             "ticks": ""
            },
            "type": "contourcarpet"
           }
          ],
          "heatmap": [
           {
            "colorbar": {
             "outlinewidth": 0,
             "ticks": ""
            },
            "colorscale": [
             [
              0,
              "#0d0887"
             ],
             [
              0.1111111111111111,
              "#46039f"
             ],
             [
              0.2222222222222222,
              "#7201a8"
             ],
             [
              0.3333333333333333,
              "#9c179e"
             ],
             [
              0.4444444444444444,
              "#bd3786"
             ],
             [
              0.5555555555555556,
              "#d8576b"
             ],
             [
              0.6666666666666666,
              "#ed7953"
             ],
             [
              0.7777777777777778,
              "#fb9f3a"
             ],
             [
              0.8888888888888888,
              "#fdca26"
             ],
             [
              1,
              "#f0f921"
             ]
            ],
            "type": "heatmap"
           }
          ],
          "heatmapgl": [
           {
            "colorbar": {
             "outlinewidth": 0,
             "ticks": ""
            },
            "colorscale": [
             [
              0,
              "#0d0887"
             ],
             [
              0.1111111111111111,
              "#46039f"
             ],
             [
              0.2222222222222222,
              "#7201a8"
             ],
             [
              0.3333333333333333,
              "#9c179e"
             ],
             [
              0.4444444444444444,
              "#bd3786"
             ],
             [
              0.5555555555555556,
              "#d8576b"
             ],
             [
              0.6666666666666666,
              "#ed7953"
             ],
             [
              0.7777777777777778,
              "#fb9f3a"
             ],
             [
              0.8888888888888888,
              "#fdca26"
             ],
             [
              1,
              "#f0f921"
             ]
            ],
            "type": "heatmapgl"
           }
          ],
          "histogram": [
           {
            "marker": {
             "colorbar": {
              "outlinewidth": 0,
              "ticks": ""
             }
            },
            "type": "histogram"
           }
          ],
          "histogram2d": [
           {
            "colorbar": {
             "outlinewidth": 0,
             "ticks": ""
            },
            "colorscale": [
             [
              0,
              "#0d0887"
             ],
             [
              0.1111111111111111,
              "#46039f"
             ],
             [
              0.2222222222222222,
              "#7201a8"
             ],
             [
              0.3333333333333333,
              "#9c179e"
             ],
             [
              0.4444444444444444,
              "#bd3786"
             ],
             [
              0.5555555555555556,
              "#d8576b"
             ],
             [
              0.6666666666666666,
              "#ed7953"
             ],
             [
              0.7777777777777778,
              "#fb9f3a"
             ],
             [
              0.8888888888888888,
              "#fdca26"
             ],
             [
              1,
              "#f0f921"
             ]
            ],
            "type": "histogram2d"
           }
          ],
          "histogram2dcontour": [
           {
            "colorbar": {
             "outlinewidth": 0,
             "ticks": ""
            },
            "colorscale": [
             [
              0,
              "#0d0887"
             ],
             [
              0.1111111111111111,
              "#46039f"
             ],
             [
              0.2222222222222222,
              "#7201a8"
             ],
             [
              0.3333333333333333,
              "#9c179e"
             ],
             [
              0.4444444444444444,
              "#bd3786"
             ],
             [
              0.5555555555555556,
              "#d8576b"
             ],
             [
              0.6666666666666666,
              "#ed7953"
             ],
             [
              0.7777777777777778,
              "#fb9f3a"
             ],
             [
              0.8888888888888888,
              "#fdca26"
             ],
             [
              1,
              "#f0f921"
             ]
            ],
            "type": "histogram2dcontour"
           }
          ],
          "mesh3d": [
           {
            "colorbar": {
             "outlinewidth": 0,
             "ticks": ""
            },
            "type": "mesh3d"
           }
          ],
          "parcoords": [
           {
            "line": {
             "colorbar": {
              "outlinewidth": 0,
              "ticks": ""
             }
            },
            "type": "parcoords"
           }
          ],
          "pie": [
           {
            "automargin": true,
            "type": "pie"
           }
          ],
          "scatter": [
           {
            "marker": {
             "colorbar": {
              "outlinewidth": 0,
              "ticks": ""
             }
            },
            "type": "scatter"
           }
          ],
          "scatter3d": [
           {
            "line": {
             "colorbar": {
              "outlinewidth": 0,
              "ticks": ""
             }
            },
            "marker": {
             "colorbar": {
              "outlinewidth": 0,
              "ticks": ""
             }
            },
            "type": "scatter3d"
           }
          ],
          "scattercarpet": [
           {
            "marker": {
             "colorbar": {
              "outlinewidth": 0,
              "ticks": ""
             }
            },
            "type": "scattercarpet"
           }
          ],
          "scattergeo": [
           {
            "marker": {
             "colorbar": {
              "outlinewidth": 0,
              "ticks": ""
             }
            },
            "type": "scattergeo"
           }
          ],
          "scattergl": [
           {
            "marker": {
             "colorbar": {
              "outlinewidth": 0,
              "ticks": ""
             }
            },
            "type": "scattergl"
           }
          ],
          "scattermapbox": [
           {
            "marker": {
             "colorbar": {
              "outlinewidth": 0,
              "ticks": ""
             }
            },
            "type": "scattermapbox"
           }
          ],
          "scatterpolar": [
           {
            "marker": {
             "colorbar": {
              "outlinewidth": 0,
              "ticks": ""
             }
            },
            "type": "scatterpolar"
           }
          ],
          "scatterpolargl": [
           {
            "marker": {
             "colorbar": {
              "outlinewidth": 0,
              "ticks": ""
             }
            },
            "type": "scatterpolargl"
           }
          ],
          "scatterternary": [
           {
            "marker": {
             "colorbar": {
              "outlinewidth": 0,
              "ticks": ""
             }
            },
            "type": "scatterternary"
           }
          ],
          "surface": [
           {
            "colorbar": {
             "outlinewidth": 0,
             "ticks": ""
            },
            "colorscale": [
             [
              0,
              "#0d0887"
             ],
             [
              0.1111111111111111,
              "#46039f"
             ],
             [
              0.2222222222222222,
              "#7201a8"
             ],
             [
              0.3333333333333333,
              "#9c179e"
             ],
             [
              0.4444444444444444,
              "#bd3786"
             ],
             [
              0.5555555555555556,
              "#d8576b"
             ],
             [
              0.6666666666666666,
              "#ed7953"
             ],
             [
              0.7777777777777778,
              "#fb9f3a"
             ],
             [
              0.8888888888888888,
              "#fdca26"
             ],
             [
              1,
              "#f0f921"
             ]
            ],
            "type": "surface"
           }
          ],
          "table": [
           {
            "cells": {
             "fill": {
              "color": "#EBF0F8"
             },
             "line": {
              "color": "white"
             }
            },
            "header": {
             "fill": {
              "color": "#C8D4E3"
             },
             "line": {
              "color": "white"
             }
            },
            "type": "table"
           }
          ]
         },
         "layout": {
          "annotationdefaults": {
           "arrowcolor": "#2a3f5f",
           "arrowhead": 0,
           "arrowwidth": 1
          },
          "coloraxis": {
           "colorbar": {
            "outlinewidth": 0,
            "ticks": ""
           }
          },
          "colorscale": {
           "diverging": [
            [
             0,
             "#8e0152"
            ],
            [
             0.1,
             "#c51b7d"
            ],
            [
             0.2,
             "#de77ae"
            ],
            [
             0.3,
             "#f1b6da"
            ],
            [
             0.4,
             "#fde0ef"
            ],
            [
             0.5,
             "#f7f7f7"
            ],
            [
             0.6,
             "#e6f5d0"
            ],
            [
             0.7,
             "#b8e186"
            ],
            [
             0.8,
             "#7fbc41"
            ],
            [
             0.9,
             "#4d9221"
            ],
            [
             1,
             "#276419"
            ]
           ],
           "sequential": [
            [
             0,
             "#0d0887"
            ],
            [
             0.1111111111111111,
             "#46039f"
            ],
            [
             0.2222222222222222,
             "#7201a8"
            ],
            [
             0.3333333333333333,
             "#9c179e"
            ],
            [
             0.4444444444444444,
             "#bd3786"
            ],
            [
             0.5555555555555556,
             "#d8576b"
            ],
            [
             0.6666666666666666,
             "#ed7953"
            ],
            [
             0.7777777777777778,
             "#fb9f3a"
            ],
            [
             0.8888888888888888,
             "#fdca26"
            ],
            [
             1,
             "#f0f921"
            ]
           ],
           "sequentialminus": [
            [
             0,
             "#0d0887"
            ],
            [
             0.1111111111111111,
             "#46039f"
            ],
            [
             0.2222222222222222,
             "#7201a8"
            ],
            [
             0.3333333333333333,
             "#9c179e"
            ],
            [
             0.4444444444444444,
             "#bd3786"
            ],
            [
             0.5555555555555556,
             "#d8576b"
            ],
            [
             0.6666666666666666,
             "#ed7953"
            ],
            [
             0.7777777777777778,
             "#fb9f3a"
            ],
            [
             0.8888888888888888,
             "#fdca26"
            ],
            [
             1,
             "#f0f921"
            ]
           ]
          },
          "colorway": [
           "#636efa",
           "#EF553B",
           "#00cc96",
           "#ab63fa",
           "#FFA15A",
           "#19d3f3",
           "#FF6692",
           "#B6E880",
           "#FF97FF",
           "#FECB52"
          ],
          "font": {
           "color": "#2a3f5f"
          },
          "geo": {
           "bgcolor": "white",
           "lakecolor": "white",
           "landcolor": "#E5ECF6",
           "showlakes": true,
           "showland": true,
           "subunitcolor": "white"
          },
          "hoverlabel": {
           "align": "left"
          },
          "hovermode": "closest",
          "mapbox": {
           "style": "light"
          },
          "paper_bgcolor": "white",
          "plot_bgcolor": "#E5ECF6",
          "polar": {
           "angularaxis": {
            "gridcolor": "white",
            "linecolor": "white",
            "ticks": ""
           },
           "bgcolor": "#E5ECF6",
           "radialaxis": {
            "gridcolor": "white",
            "linecolor": "white",
            "ticks": ""
           }
          },
          "scene": {
           "xaxis": {
            "backgroundcolor": "#E5ECF6",
            "gridcolor": "white",
            "gridwidth": 2,
            "linecolor": "white",
            "showbackground": true,
            "ticks": "",
            "zerolinecolor": "white"
           },
           "yaxis": {
            "backgroundcolor": "#E5ECF6",
            "gridcolor": "white",
            "gridwidth": 2,
            "linecolor": "white",
            "showbackground": true,
            "ticks": "",
            "zerolinecolor": "white"
           },
           "zaxis": {
            "backgroundcolor": "#E5ECF6",
            "gridcolor": "white",
            "gridwidth": 2,
            "linecolor": "white",
            "showbackground": true,
            "ticks": "",
            "zerolinecolor": "white"
           }
          },
          "shapedefaults": {
           "line": {
            "color": "#2a3f5f"
           }
          },
          "ternary": {
           "aaxis": {
            "gridcolor": "white",
            "linecolor": "white",
            "ticks": ""
           },
           "baxis": {
            "gridcolor": "white",
            "linecolor": "white",
            "ticks": ""
           },
           "bgcolor": "#E5ECF6",
           "caxis": {
            "gridcolor": "white",
            "linecolor": "white",
            "ticks": ""
           }
          },
          "title": {
           "x": 0.05
          },
          "xaxis": {
           "automargin": true,
           "gridcolor": "white",
           "linecolor": "white",
           "ticks": "",
           "title": {
            "standoff": 15
           },
           "zerolinecolor": "white",
           "zerolinewidth": 2
          },
          "yaxis": {
           "automargin": true,
           "gridcolor": "white",
           "linecolor": "white",
           "ticks": "",
           "title": {
            "standoff": 15
           },
           "zerolinecolor": "white",
           "zerolinewidth": 2
          }
         }
        },
        "xaxis": {
         "anchor": "y",
         "domain": [
          0,
          0.45
         ],
         "linecolor": "black",
         "linewidth": 1.5,
         "mirror": true,
         "showline": true,
         "title": {
          "text": "Days"
         }
        },
        "xaxis2": {
         "anchor": "y2",
         "domain": [
          0.55,
          1
         ],
         "linecolor": "black",
         "linewidth": 1.5,
         "mirror": true,
         "showline": true,
         "title": {
          "text": "Days"
         }
        },
        "yaxis": {
         "anchor": "x",
         "domain": [
          0,
          1
         ],
         "linecolor": "black",
         "linewidth": 1.5,
         "mirror": true,
         "showline": true,
         "title": {
          "text": "Probability density"
         }
        },
        "yaxis2": {
         "anchor": "x2",
         "domain": [
          0,
          1
         ],
         "linecolor": "black",
         "linewidth": 1.5,
         "mirror": true,
         "showline": true,
         "title": {
          "text": "Probability"
         }
        }
       }
      },
      "text/html": [
       "<div>\n",
       "        \n",
       "        \n",
       "            <div id=\"d047286a-79f6-4220-98e4-8903c56ab06b\" class=\"plotly-graph-div\" style=\"height:350px; width:100%;\"></div>\n",
       "            <script type=\"text/javascript\">\n",
       "                require([\"plotly\"], function(Plotly) {\n",
       "                    window.PLOTLYENV=window.PLOTLYENV || {};\n",
       "                    \n",
       "                if (document.getElementById(\"d047286a-79f6-4220-98e4-8903c56ab06b\")) {\n",
       "                    Plotly.newPlot(\n",
       "                        'd047286a-79f6-4220-98e4-8903c56ab06b',\n",
       "                        [{\"line\": {\"color\": \"rgb(31, 119, 180)\"}, \"mode\": \"lines\", \"name\": \"Normal\", \"showlegend\": true, \"type\": \"scatter\", \"x\": [0.0, 0.1, 0.2, 0.30000000000000004, 0.4, 0.5, 0.6000000000000001, 0.7000000000000001, 0.8, 0.9, 1.0, 1.1, 1.2000000000000002, 1.3, 1.4000000000000001, 1.5, 1.6, 1.7000000000000002, 1.8, 1.9000000000000001, 2.0, 2.1, 2.2, 2.3000000000000003, 2.4000000000000004, 2.5, 2.6, 2.7, 2.8000000000000003, 2.9000000000000004, 3.0, 3.1, 3.2, 3.3000000000000003, 3.4000000000000004, 3.5, 3.6, 3.7, 3.8000000000000003, 3.9000000000000004, 4.0, 4.1000000000000005, 4.2, 4.3, 4.4, 4.5, 4.6000000000000005, 4.7, 4.800000000000001, 4.9, 5.0, 5.1000000000000005, 5.2, 5.300000000000001, 5.4, 5.5, 5.6000000000000005, 5.7, 5.800000000000001, 5.9, 6.0, 6.1000000000000005, 6.2, 6.300000000000001, 6.4, 6.5, 6.6000000000000005, 6.7, 6.800000000000001, 6.9, 7.0, 7.1000000000000005, 7.2, 7.300000000000001, 7.4, 7.5, 7.6000000000000005, 7.7, 7.800000000000001, 7.9, 8.0, 8.1, 8.200000000000001, 8.3, 8.4, 8.5, 8.6, 8.700000000000001, 8.8, 8.9, 9.0, 9.1, 9.200000000000001, 9.3, 9.4, 9.5, 9.600000000000001, 9.700000000000001, 9.8, 9.9, 10.0, 10.100000000000001, 10.200000000000001, 10.3, 10.4, 10.5, 10.600000000000001, 10.700000000000001, 10.8, 10.9, 11.0, 11.100000000000001, 11.200000000000001, 11.3, 11.4, 11.5, 11.600000000000001, 11.700000000000001, 11.8, 11.9, 12.0, 12.100000000000001, 12.200000000000001, 12.3, 12.4, 12.5, 12.600000000000001, 12.700000000000001, 12.8, 12.9, 13.0, 13.100000000000001, 13.200000000000001, 13.3, 13.4, 13.5, 13.600000000000001, 13.700000000000001, 13.8, 13.9, 14.0, 14.100000000000001, 14.200000000000001, 14.3, 14.4, 14.5, 14.600000000000001, 14.700000000000001, 14.8, 14.9, 15.0, 15.100000000000001, 15.200000000000001, 15.3, 15.4, 15.5, 15.600000000000001, 15.700000000000001, 15.8, 15.9, 16.0, 16.1, 16.2, 16.3, 16.400000000000002, 16.5, 16.6, 16.7, 16.8, 16.900000000000002, 17.0, 17.1, 17.2, 17.3, 17.400000000000002, 17.5, 17.6, 17.7, 17.8, 17.900000000000002, 18.0, 18.1, 18.2, 18.3, 18.400000000000002, 18.5, 18.6, 18.7, 18.8, 18.900000000000002, 19.0, 19.1, 19.200000000000003, 19.3, 19.400000000000002, 19.5, 19.6, 19.700000000000003, 19.8, 19.900000000000002], \"xaxis\": \"x\", \"y\": [0.0005140929987637018, 0.0005741896463512261, 0.0006405993231173357, 0.0007138961573442565, 0.0007946960671549483, 0.0008836586514767019, 0.0009814890401277866, 0.0010889396853999728, 0.00120681207600643, 0.001335958352772115, 0.001477282803979336, 0.0016317432168629776, 0.0018003520603981236, 0.001984177473258618, 0.0021843440296711743, 0.0024020332548697412, 0.0026384838609933192, 0.0028949916735929652, 0.003172909218445733, 0.0034736449381408685, 0.003798662007932481, 0.004149476720668069, 0.004527656411228538, 0.004934816891875435, 0.005372619371216331, 0.005842766831189513, 0.006346999838550089, 0.006887091769826073, 0.0074648434316142995, 0.00808207706140912, 0.00874062969790316, 0.009442345913867055, 0.010189069909295164, 0.010982636967484772, 0.011824864282077152, 0.012717541168805994, 0.01366241868174073, 0.0146611986601424, 0.01571552223862387, 0.0168269578600759, 0.017996988837729353, 0.01922700051971094, 0.02051826711644909, 0.02187193825822553, 0.023289025356971735, 0.0247703878529977, 0.026316719433631397, 0.027928534316654915, 0.029606153696863965, 0.03134969245896232, 0.03315904626424956, 0.0350338791220834, 0.036973611559818535, 0.038977409506766855, 0.04104417400861653, 0.04317253188863058, 0.04536082747075937, 0.04760711547750344, 0.04990915521191499, 0.05226440612850288, 0.05467002489199788, 0.057122864015935804, 0.05961947216484686, 0.06215609619452194, 0.06472868499440433, 0.06733289518468628, 0.06996409870824144, 0.07261739234418353, 0.07528760915570819, 0.07796933187005435, 0.08065690817304778, 0.08334446788488616, 0.08602594196774592, 0.08869508329958496, 0.09134548913234282, 0.09397062513676752, 0.09656385092049428, 0.0991184468909342, 0.1016276423201724, 0.10408464445558711, 0.10648266850745075, 0.10881496833350866, 0.11107486763059991, 0.11325579143491937, 0.115351297725641, 0.11735510892143318, 0.11926114305598966, 0.12106354441713936, 0.12275671343444113, 0.12433533560244286, 0.12579440923099774, 0.1271292718201747, 0.12833562486533798, 0.12940955690784897, 0.13034756465848532, 0.13114657203397997, 0.13180394696193923, 0.1323175158256706, 0.1326855754379841, 0.132906902451659, 0.1329807601338109, 0.132906902451659, 0.13268557543798407, 0.1323175158256706, 0.13180394696193923, 0.13114657203397997, 0.1303475646584853, 0.12940955690784894, 0.12833562486533798, 0.1271292718201747, 0.12579440923099774, 0.12433533560244282, 0.1227567134344411, 0.12106354441713933, 0.11926114305598966, 0.11735510892143318, 0.11535129772564094, 0.11325579143491933, 0.11107486763059987, 0.10881496833350866, 0.10648266850745075, 0.10408464445558707, 0.10162764232017236, 0.09911844689093417, 0.09656385092049424, 0.09397062513676752, 0.09134548913234279, 0.08869508329958492, 0.08602594196774588, 0.08334446788488616, 0.08065690817304778, 0.0779693318700543, 0.07528760915570813, 0.0726173923441835, 0.0699640987082414, 0.06733289518468628, 0.06472868499440429, 0.0621560961945219, 0.05961947216484684, 0.05712286401593578, 0.05467002489199788, 0.052264406128502826, 0.049909155211914934, 0.047607115477503424, 0.04536082747075935, 0.04317253188863058, 0.04104417400861649, 0.03897740950676681, 0.03697361155981851, 0.03503387912208338, 0.03315904626424956, 0.03134969245896229, 0.02960615369686394, 0.0279285343166549, 0.026316719433631383, 0.0247703878529977, 0.02328902535697171, 0.021871938258225518, 0.020518267116449083, 0.01922700051971093, 0.017996988837729353, 0.016826957860075886, 0.01571552223862387, 0.0146611986601424, 0.013662418681740708, 0.012717541168805994, 0.01182486428207713, 0.010982636967484772, 0.010189069909295148, 0.00944234591386704, 0.00874062969790316, 0.00808207706140911, 0.0074648434316142995, 0.006887091769826068, 0.0063469998385500825, 0.005842766831189513, 0.005372619371216326, 0.004934816891875435, 0.004527656411228538, 0.004149476720668058, 0.003798662007932481, 0.0034736449381408594, 0.003172909218445733, 0.0028949916735929652, 0.0026384838609933153, 0.0024020332548697412, 0.002184344029671172, 0.001984177473258618, 0.0018003520603981236, 0.0016317432168629759, 0.001477282803979336, 0.0013359583527721138, 0.0012068120760064258, 0.0010889396853999728, 0.0009814890401277838, 0.0008836586514767019, 0.0007946960671549461, 0.0007138961573442542, 0.0006405993231173357, 0.0005741896463512256], \"yaxis\": \"y\"}, {\"line\": {\"color\": \"rgb(255, 127, 14)\", \"dash\": \"dash\"}, \"mode\": \"lines\", \"name\": \"Logistic\", \"showlegend\": true, \"type\": \"scatter\", \"x\": [0.0, 0.1, 0.2, 0.30000000000000004, 0.4, 0.5, 0.6000000000000001, 0.7000000000000001, 0.8, 0.9, 1.0, 1.1, 1.2000000000000002, 1.3, 1.4000000000000001, 1.5, 1.6, 1.7000000000000002, 1.8, 1.9000000000000001, 2.0, 2.1, 2.2, 2.3000000000000003, 2.4000000000000004, 2.5, 2.6, 2.7, 2.8000000000000003, 2.9000000000000004, 3.0, 3.1, 3.2, 3.3000000000000003, 3.4000000000000004, 3.5, 3.6, 3.7, 3.8000000000000003, 3.9000000000000004, 4.0, 4.1000000000000005, 4.2, 4.3, 4.4, 4.5, 4.6000000000000005, 4.7, 4.800000000000001, 4.9, 5.0, 5.1000000000000005, 5.2, 5.300000000000001, 5.4, 5.5, 5.6000000000000005, 5.7, 5.800000000000001, 5.9, 6.0, 6.1000000000000005, 6.2, 6.300000000000001, 6.4, 6.5, 6.6000000000000005, 6.7, 6.800000000000001, 6.9, 7.0, 7.1000000000000005, 7.2, 7.300000000000001, 7.4, 7.5, 7.6000000000000005, 7.7, 7.800000000000001, 7.9, 8.0, 8.1, 8.200000000000001, 8.3, 8.4, 8.5, 8.6, 8.700000000000001, 8.8, 8.9, 9.0, 9.1, 9.200000000000001, 9.3, 9.4, 9.5, 9.600000000000001, 9.700000000000001, 9.8, 9.9, 10.0, 10.100000000000001, 10.200000000000001, 10.3, 10.4, 10.5, 10.600000000000001, 10.700000000000001, 10.8, 10.9, 11.0, 11.100000000000001, 11.200000000000001, 11.3, 11.4, 11.5, 11.600000000000001, 11.700000000000001, 11.8, 11.9, 12.0, 12.100000000000001, 12.200000000000001, 12.3, 12.4, 12.5, 12.600000000000001, 12.700000000000001, 12.8, 12.9, 13.0, 13.100000000000001, 13.200000000000001, 13.3, 13.4, 13.5, 13.600000000000001, 13.700000000000001, 13.8, 13.9, 14.0, 14.100000000000001, 14.200000000000001, 14.3, 14.4, 14.5, 14.600000000000001, 14.700000000000001, 14.8, 14.9, 15.0, 15.100000000000001, 15.200000000000001, 15.3, 15.4, 15.5, 15.600000000000001, 15.700000000000001, 15.8, 15.9, 16.0, 16.1, 16.2, 16.3, 16.400000000000002, 16.5, 16.6, 16.7, 16.8, 16.900000000000002, 17.0, 17.1, 17.2, 17.3, 17.400000000000002, 17.5, 17.6, 17.7, 17.8, 17.900000000000002, 18.0, 18.1, 18.2, 18.3, 18.400000000000002, 18.5, 18.6, 18.7, 18.8, 18.900000000000002, 19.0, 19.1, 19.200000000000003, 19.3, 19.400000000000002, 19.5, 19.6, 19.700000000000003, 19.8, 19.900000000000002], \"xaxis\": \"x\", \"y\": [0.0021312232809576857, 0.0022519842749276504, 0.002379528363795724, 0.0025142295879818834, 0.002656481798251586, 0.0028066996087394197, 0.002965319384196185, 0.0031328002611765633, 0.003309625202629778, 0.0034963020850622326, 0.00369336481710564, 0.003901374487940635, 0.004120920543590776, 0.004352621988608721, 0.004597128610119491, 0.004855122220559722, 0.005127317914748747, 0.005414465336141265, 0.005717349946234288, 0.006036794290125128, 0.006373659250135105, 0.0067288452782154505, 0.0071032935965313175, 0.00749798735416601, 0.007913952726293768, 0.008352259940426337, 0.00881402421243895, 0.00930040657301803, 0.009812614562939515, 0.01035190277317884, 0.010919573203268449, 0.01151697540855541, 0.012145506404072859, 0.012806610289630238, 0.013501777557459266, 0.014232544040340467, 0.015000489454600401, 0.01580723548874198, 0.016654443384786423, 0.017543810955712707, 0.01847706897873756, 0.019455976900656795, 0.020482317788152665, 0.021557892452963197, 0.022684512679225343, 0.023863993478283198, 0.025098144294951195, 0.026388759088818083, 0.027737605214873527, 0.029146411029752076, 0.030616852153469293, 0.0321505363219291, 0.03374898677299729, 0.035413624118855146, 0.037145746669977414, 0.03894650919172675, 0.04081690009352158, 0.04275771707310442, 0.04476954126485906, 0.0468527099716084, 0.04900728809400823, 0.051233038410589765, 0.053529390904638395, 0.055895411381239275, 0.058329769668614764, 0.0608307077517912, 0.0633960082428998, 0.06602296365005374, 0.06870834696450212, 0.07144838414212037, 0.0742387291084733, 0.07707444196462315, 0.07994997111125711, 0.08285914003907384, 0.08579513955105027, 0.08875052618449036, 0.09171722758494652, 0.09468655554766303, 0.09764922738286473, 0.10059539617718272, 0.10351469041356559, 0.10639626327570832, 0.10922885180082328, 0.11200084585799683, 0.1147003667211307, 0.1173153547794672, 0.11983366569011848, 0.12224317403219641, 0.12453188327846036, 0.12668804066609785, 0.1287002553321096, 0.13055761788977474, 0.13224981946960074, 0.1337672681391509, 0.13510120055820596, 0.1362437867243411, 0.13718822572271352, 0.13792883051395652, 0.13846109997438294, 0.13878177663949587, 0.1388888888888889, 0.1387817766394958, 0.138461099974383, 0.13792883051395652, 0.13718822572271347, 0.1362437867243411, 0.13510120055820593, 0.13376726813915085, 0.13224981946960077, 0.1305576178897747, 0.12870025533210958, 0.1266880406660978, 0.12453188327846029, 0.12224317403219634, 0.11983366569011845, 0.1173153547794672, 0.11470036672113068, 0.11200084585799674, 0.10922885180082323, 0.10639626327570832, 0.10351469041356554, 0.10059539617718266, 0.0976492273828647, 0.09468655554766302, 0.09171722758494649, 0.08875052618449036, 0.0857951395510502, 0.08285914003907378, 0.07994997111125708, 0.07707444196462312, 0.0742387291084733, 0.07144838414212033, 0.06870834696450205, 0.06602296365005371, 0.0633960082428998, 0.0608307077517912, 0.05832976966861469, 0.05589541138123922, 0.053529390904638374, 0.05123303841058972, 0.04900728809400821, 0.04685270997160836, 0.04476954126485903, 0.04275771707310438, 0.04081690009352155, 0.03894650919172675, 0.0371457466699774, 0.0354136241188551, 0.03374898677299727, 0.03215053632192909, 0.030616852153469275, 0.02914641102975205, 0.027737605214873503, 0.026388759088818083, 0.025098144294951184, 0.023863993478283208, 0.022684512679225326, 0.02155789245296319, 0.020482317788152658, 0.01945597690065679, 0.01847706897873756, 0.01754381095571268, 0.016654443384786423, 0.015807235488741973, 0.015000489454600387, 0.014232544040340467, 0.013501777557459252, 0.012806610289630238, 0.012145506404072859, 0.0115169754085554, 0.010919573203268449, 0.010351902773178831, 0.009812614562939515, 0.009300406573018012, 0.008814024212438933, 0.008352259940426337, 0.007913952726293763, 0.007497987354166003, 0.0071032935965313045, 0.006728845278215438, 0.006373659250135105, 0.006036794290125123, 0.005717349946234288, 0.0054144653361412705, 0.005127317914748747, 0.0048551222205597275, 0.004597128610119491, 0.004352621988608725, 0.004120920543590776, 0.003901374487940628, 0.00369336481710564, 0.003496302085062229, 0.003309625202629769, 0.0031328002611765663, 0.0029653193841961824, 0.0028066996087394197, 0.002656481798251581, 0.002514229587981879, 0.0023795283637957263, 0.0022519842749276465], \"yaxis\": \"y\"}, {\"line\": {\"color\": \"rgb(31, 119, 180)\"}, \"mode\": \"lines\", \"name\": \"Normal\", \"showlegend\": false, \"type\": \"scatter\", \"x\": [0.0, 0.1, 0.2, 0.30000000000000004, 0.4, 0.5, 0.6000000000000001, 0.7000000000000001, 0.8, 0.9, 1.0, 1.1, 1.2000000000000002, 1.3, 1.4000000000000001, 1.5, 1.6, 1.7000000000000002, 1.8, 1.9000000000000001, 2.0, 2.1, 2.2, 2.3000000000000003, 2.4000000000000004, 2.5, 2.6, 2.7, 2.8000000000000003, 2.9000000000000004, 3.0, 3.1, 3.2, 3.3000000000000003, 3.4000000000000004, 3.5, 3.6, 3.7, 3.8000000000000003, 3.9000000000000004, 4.0, 4.1000000000000005, 4.2, 4.3, 4.4, 4.5, 4.6000000000000005, 4.7, 4.800000000000001, 4.9, 5.0, 5.1000000000000005, 5.2, 5.300000000000001, 5.4, 5.5, 5.6000000000000005, 5.7, 5.800000000000001, 5.9, 6.0, 6.1000000000000005, 6.2, 6.300000000000001, 6.4, 6.5, 6.6000000000000005, 6.7, 6.800000000000001, 6.9, 7.0, 7.1000000000000005, 7.2, 7.300000000000001, 7.4, 7.5, 7.6000000000000005, 7.7, 7.800000000000001, 7.9, 8.0, 8.1, 8.200000000000001, 8.3, 8.4, 8.5, 8.6, 8.700000000000001, 8.8, 8.9, 9.0, 9.1, 9.200000000000001, 9.3, 9.4, 9.5, 9.600000000000001, 9.700000000000001, 9.8, 9.9, 10.0, 10.100000000000001, 10.200000000000001, 10.3, 10.4, 10.5, 10.600000000000001, 10.700000000000001, 10.8, 10.9, 11.0, 11.100000000000001, 11.200000000000001, 11.3, 11.4, 11.5, 11.600000000000001, 11.700000000000001, 11.8, 11.9, 12.0, 12.100000000000001, 12.200000000000001, 12.3, 12.4, 12.5, 12.600000000000001, 12.700000000000001, 12.8, 12.9, 13.0, 13.100000000000001, 13.200000000000001, 13.3, 13.4, 13.5, 13.600000000000001, 13.700000000000001, 13.8, 13.9, 14.0, 14.100000000000001, 14.200000000000001, 14.3, 14.4, 14.5, 14.600000000000001, 14.700000000000001, 14.8, 14.9, 15.0, 15.100000000000001, 15.200000000000001, 15.3, 15.4, 15.5, 15.600000000000001, 15.700000000000001, 15.8, 15.9, 16.0, 16.1, 16.2, 16.3, 16.400000000000002, 16.5, 16.6, 16.7, 16.8, 16.900000000000002, 17.0, 17.1, 17.2, 17.3, 17.400000000000002, 17.5, 17.6, 17.7, 17.8, 17.900000000000002, 18.0, 18.1, 18.2, 18.3, 18.400000000000002, 18.5, 18.6, 18.7, 18.8, 18.900000000000002, 19.0, 19.1, 19.200000000000003, 19.3, 19.400000000000002, 19.5, 19.6, 19.700000000000003, 19.8, 19.900000000000002], \"xaxis\": \"x2\", \"y\": [0.0004290603331968372, 0.00048342414238377663, 0.0005441086524671406, 0.0006117735324862054, 0.0006871379379158483, 0.0007709847844699757, 0.0008641652090980683, 0.0009676032132183563, 0.0010823004813931916, 0.00120934136666433, 0.0013498980316300933, 0.001505235732066175, 0.0016767182274731592, 0.0018658133003840375, 0.00207409836359409, 0.0023032661316958825, 0.002555130330427929, 0.0028316314143945224, 0.003134842260705495, 0.0034669738030406686, 0.0038303805675897365, 0.004227566069280537, 0.004661188023718747, 0.005134063327350345, 0.0056491727555606375, 0.006209665325776132, 0.006818862270176098, 0.007480260560390131, 0.008197535924596131, 0.00897454529578302, 0.009815328628645334, 0.010724110021675795, 0.011705298080558346, 0.012763485458978336, 0.013903447513498616, 0.015130140010235814, 0.01644869582274533, 0.017864420562816542, 0.019382787088818604, 0.02100942883984279, 0.022750131948179195, 0.0246108260876501, 0.026597574021009627, 0.028716559816001783, 0.0309740757067406, 0.03337650758481726, 0.03593031911292581, 0.03864203446279496, 0.04151821968877912, 0.04456546275854304, 0.0477903522728147, 0.05119945491710787, 0.054799291699558, 0.0585963130404857, 0.06259687279090685, 0.06680720126885807, 0.07123337741398612, 0.0758813001722581, 0.08075665923377112, 0.0858649052573559, 0.09121121972586788, 0.09680048458561041, 0.10263725183213579, 0.10872571321259117, 0.11506967022170822, 0.12167250457438122, 0.12853714934241506, 0.13566606094638267, 0.1430611921955091, 0.1507239665690247, 0.15865525393145707, 0.16685534787178308, 0.17532394485222952, 0.18406012534675953, 0.19306233714190696, 0.20232838096364308, 0.21185539858339675, 0.22163986354425458, 0.23167757463479832, 0.24196365222307303, 0.2524925375469229, 0.2632579950394782, 0.27425311775007366, 0.2854703359014441, 0.29690142860385127, 0.3085375387259869, 0.32036919090127036, 0.3323863126266752, 0.34457825838967593, 0.3569338367374987, 0.36944134018176367, 0.3820885778110473, 0.3948629104640253, 0.4077512882968954, 0.420740290560897, 0.43381616738909634, 0.4469648833763862, 0.4601721627229712, 0.47342353569963497, 0.48670438618290796, 0.5, 0.5132956138170923, 0.5265764643003652, 0.5398278372770291, 0.553035116623614, 0.5661838326109037, 0.5792597094391032, 0.5922487117031049, 0.6051370895359749, 0.6179114221889527, 0.6305586598182363, 0.6430661632625017, 0.6554217416103243, 0.667613687373325, 0.6796308090987296, 0.6914624612740131, 0.703098571396149, 0.7145296640985561, 0.7257468822499265, 0.7367420049605218, 0.7475074624530771, 0.7580363477769272, 0.7683224253652019, 0.7783601364557455, 0.7881446014166034, 0.7976716190363569, 0.8069376628580933, 0.8159398746532407, 0.8246760551477705, 0.833144652128217, 0.8413447460685429, 0.8492760334309755, 0.856938807804491, 0.8643339390536173, 0.871462850657585, 0.8783274954256188, 0.8849303297782918, 0.8912742867874089, 0.8973627481678642, 0.9031995154143897, 0.9087887802741321, 0.9141350947426441, 0.919243340766229, 0.924118699827742, 0.9287666225860138, 0.9331927987311419, 0.9374031272090932, 0.9414036869595144, 0.945200708300442, 0.9488005450828922, 0.9522096477271853, 0.955434537241457, 0.9584817803112209, 0.9613579655372051, 0.9640696808870742, 0.9666234924151828, 0.9690259242932594, 0.9712834401839983, 0.9734024259789904, 0.9753891739123499, 0.9772498680518208, 0.9789905711601572, 0.9806172129111814, 0.9821355794371834, 0.9835513041772547, 0.9848698599897642, 0.9860965524865014, 0.9872365145410217, 0.9882947019194417, 0.9892758899783243, 0.9901846713713547, 0.991025454704217, 0.9918024640754038, 0.9925197394396099, 0.9931811377298239, 0.9937903346742238, 0.9943508272444394, 0.9948659366726497, 0.9953388119762813, 0.9957724339307195, 0.9961696194324102, 0.9965330261969594, 0.9968651577392945, 0.9971683685856054, 0.997444869669572, 0.9976967338683042, 0.9979259016364059, 0.998134186699616, 0.9983232817725268, 0.9984947642679338, 0.9986501019683699, 0.9987906586333357, 0.9989176995186068, 0.9990323967867817, 0.999135834790902, 0.99922901521553, 0.9993128620620841, 0.9993882264675138, 0.9994558913475329, 0.9995165758576162], \"yaxis\": \"y2\"}, {\"line\": {\"color\": \"rgb(255, 127, 14)\", \"dash\": \"dash\"}, \"mode\": \"lines\", \"name\": \"Logistic\", \"showlegend\": false, \"type\": \"scatter\", \"x\": [0.0, 0.1, 0.2, 0.30000000000000004, 0.4, 0.5, 0.6000000000000001, 0.7000000000000001, 0.8, 0.9, 1.0, 1.1, 1.2000000000000002, 1.3, 1.4000000000000001, 1.5, 1.6, 1.7000000000000002, 1.8, 1.9000000000000001, 2.0, 2.1, 2.2, 2.3000000000000003, 2.4000000000000004, 2.5, 2.6, 2.7, 2.8000000000000003, 2.9000000000000004, 3.0, 3.1, 3.2, 3.3000000000000003, 3.4000000000000004, 3.5, 3.6, 3.7, 3.8000000000000003, 3.9000000000000004, 4.0, 4.1000000000000005, 4.2, 4.3, 4.4, 4.5, 4.6000000000000005, 4.7, 4.800000000000001, 4.9, 5.0, 5.1000000000000005, 5.2, 5.300000000000001, 5.4, 5.5, 5.6000000000000005, 5.7, 5.800000000000001, 5.9, 6.0, 6.1000000000000005, 6.2, 6.300000000000001, 6.4, 6.5, 6.6000000000000005, 6.7, 6.800000000000001, 6.9, 7.0, 7.1000000000000005, 7.2, 7.300000000000001, 7.4, 7.5, 7.6000000000000005, 7.7, 7.800000000000001, 7.9, 8.0, 8.1, 8.200000000000001, 8.3, 8.4, 8.5, 8.6, 8.700000000000001, 8.8, 8.9, 9.0, 9.1, 9.200000000000001, 9.3, 9.4, 9.5, 9.600000000000001, 9.700000000000001, 9.8, 9.9, 10.0, 10.100000000000001, 10.200000000000001, 10.3, 10.4, 10.5, 10.600000000000001, 10.700000000000001, 10.8, 10.9, 11.0, 11.100000000000001, 11.200000000000001, 11.3, 11.4, 11.5, 11.600000000000001, 11.700000000000001, 11.8, 11.9, 12.0, 12.100000000000001, 12.200000000000001, 12.3, 12.4, 12.5, 12.600000000000001, 12.700000000000001, 12.8, 12.9, 13.0, 13.100000000000001, 13.200000000000001, 13.3, 13.4, 13.5, 13.600000000000001, 13.700000000000001, 13.8, 13.9, 14.0, 14.100000000000001, 14.200000000000001, 14.3, 14.4, 14.5, 14.600000000000001, 14.700000000000001, 14.8, 14.9, 15.0, 15.100000000000001, 15.200000000000001, 15.3, 15.4, 15.5, 15.600000000000001, 15.700000000000001, 15.8, 15.9, 16.0, 16.1, 16.2, 16.3, 16.400000000000002, 16.5, 16.6, 16.7, 16.8, 16.900000000000002, 17.0, 17.1, 17.2, 17.3, 17.400000000000002, 17.5, 17.6, 17.7, 17.8, 17.900000000000002, 18.0, 18.1, 18.2, 18.3, 18.400000000000002, 18.5, 18.6, 18.7, 18.8, 18.900000000000002, 19.0, 19.1, 19.200000000000003, 19.3, 19.400000000000002, 19.5, 19.6, 19.700000000000003, 19.8, 19.900000000000002], \"xaxis\": \"x2\", \"y\": [0.003851032355930255, 0.004070137715896128, 0.0043016552930929, 0.004546281937825588, 0.004804752887159518, 0.005077843793320317, 0.0053663728491087845, 0.005671203013740883, 0.005993244342482293, 0.006333456423378857, 0.0066928509242848554, 0.007072494253255469, 0.007473510335193645, 0.007897083507418851, 0.008344461536550052, 0.008816958758761201, 0.009315959345066686, 0.00984292069281942, 0.010399376944046072, 0.01098694263059318, 0.011607316445304631, 0.0122622851375832, 0.012953727530695871, 0.013683618657050386, 0.014454034006386568, 0.015267153880374444, 0.016125267845478516, 0.017030779274116104, 0.017986209962091566, 0.018994204808010565, 0.02005753653785041, 0.021179110455067696, 0.022361969193544173, 0.023609297447288992, 0.02492442664711404, 0.026310839550463053, 0.027772174706191966, 0.02931223075135632, 0.0309349704919536, 0.03264452471409182, 0.03444519566621118, 0.036341460146782405, 0.03833797212535965, 0.04043956481800324, 0.04265125213094287, 0.04497822937897771, 0.0474258731775668, 0.04999974039993328, 0.05270556608289025, 0.05554926015761178, 0.0585369028743679, 0.06167473878348327, 0.06496916912866407, 0.06842674250359214, 0.07205414361856402, 0.07585818002124355, 0.07984576661461427, 0.08402390781631201, 0.08839967720705845, 0.09298019452229982, 0.09777259985079931, 0.10278402491725178, 0.10802156134341918, 0.11349222580422876, 0.11920292202211757, 0.12516039957499714, 0.1313712095308068, 0.13784165696493572, 0.1445777504658773, 0.15158514878928694, 0.15886910488091516, 0.1664344075542588, 0.17428532117858547, 0.1824255238063564, 0.1908580442448655, 0.19958519865373253, 0.20860852732604498, 0.21792873238451507, 0.22754561719281619, 0.23745802834390256, 0.24766380113907163, 0.2581597095111631, 0.26894142136999527, 0.28000346035538254, 0.2913391749705645, 0.30294071603459277, 0.31479902333468435, 0.32690382227776804, 0.33924363123418294, 0.35180578013625535, 0.3645764407416393, 0.3775406687981454, 0.3906824581564394, 0.4039848066734833, 0.4174297935376854, 0.4309986674318094, 0.4446719447376312, 0.45842951678320026, 0.47225076494548685, 0.48611468225399523, 0.5, 0.513885317746005, 0.5277492350545133, 0.5415704832168, 0.5553280552623691, 0.5690013325681905, 0.5825702064623148, 0.5960151933265169, 0.6093175418435608, 0.6224593312018547, 0.6354235592583607, 0.6481942198637449, 0.6607563687658172, 0.6730961777222322, 0.6852009766653157, 0.6970592839654073, 0.7086608250294357, 0.7199965396446177, 0.731058578630005, 0.7418402904888369, 0.7523361988609284, 0.7625419716560976, 0.7724543828071839, 0.7820712676154851, 0.791391472673955, 0.8004148013462675, 0.8091419557551347, 0.8175744761936438, 0.8257146788214146, 0.8335655924457414, 0.8411308951190849, 0.8484148512107133, 0.8554222495341228, 0.8621583430350643, 0.8686287904691933, 0.8748396004250029, 0.8807970779778825, 0.8865077741957713, 0.8919784386565809, 0.8972159750827483, 0.9022274001492008, 0.9070198054777002, 0.9116003227929417, 0.915976092183688, 0.9201542333853858, 0.9241418199787566, 0.927945856381436, 0.931573257496408, 0.935030830871336, 0.9383252612165167, 0.941463097125632, 0.9444507398423884, 0.9472944339171098, 0.9500002596000667, 0.9525741268224334, 0.9550217706210222, 0.9573487478690571, 0.9595604351819967, 0.9616620278746403, 0.9636585398532177, 0.9655548043337887, 0.9673554752859082, 0.9690650295080464, 0.9706877692486436, 0.9722278252938079, 0.9736891604495369, 0.975075573352886, 0.976390702552711, 0.9776380308064557, 0.9788208895449324, 0.9799424634621495, 0.9810057951919894, 0.9820137900379085, 0.982969220725884, 0.9838747321545214, 0.9847328461196255, 0.9855459659936133, 0.9863163813429496, 0.9870462724693041, 0.9877377148624168, 0.9883926835546953, 0.9890130573694068, 0.989600623055954, 0.9901570793071806, 0.9906840406549333, 0.9911830412412388, 0.99165553846345, 0.9921029164925812, 0.9925264896648063, 0.9929275057467446, 0.9933071490757153, 0.9936665435766211, 0.9940067556575176, 0.994328796986259, 0.9946336271508911, 0.9949221562066797, 0.9951952471128405, 0.9954537180621744, 0.9956983447069072, 0.995929862284104], \"yaxis\": \"y2\"}],\n",
       "                        {\"annotations\": [{\"font\": {\"size\": 16}, \"showarrow\": false, \"text\": \"PDF comparison\", \"x\": 0.225, \"xanchor\": \"center\", \"xref\": \"paper\", \"y\": 1.0, \"yanchor\": \"bottom\", \"yref\": \"paper\"}, {\"font\": {\"size\": 16}, \"showarrow\": false, \"text\": \"CDF comparison\", \"x\": 0.775, \"xanchor\": \"center\", \"xref\": \"paper\", \"y\": 1.0, \"yanchor\": \"bottom\", \"yref\": \"paper\"}], \"height\": 350, \"margin\": {\"b\": 20, \"l\": 20, \"r\": 20, \"t\": 50}, \"template\": {\"data\": {\"bar\": [{\"error_x\": {\"color\": \"#2a3f5f\"}, \"error_y\": {\"color\": \"#2a3f5f\"}, \"marker\": {\"line\": {\"color\": \"#E5ECF6\", \"width\": 0.5}}, \"type\": \"bar\"}], \"barpolar\": [{\"marker\": {\"line\": {\"color\": \"#E5ECF6\", \"width\": 0.5}}, \"type\": \"barpolar\"}], \"carpet\": [{\"aaxis\": {\"endlinecolor\": \"#2a3f5f\", \"gridcolor\": \"white\", \"linecolor\": \"white\", \"minorgridcolor\": \"white\", \"startlinecolor\": \"#2a3f5f\"}, \"baxis\": {\"endlinecolor\": \"#2a3f5f\", \"gridcolor\": \"white\", \"linecolor\": \"white\", \"minorgridcolor\": \"white\", \"startlinecolor\": \"#2a3f5f\"}, \"type\": \"carpet\"}], \"choropleth\": [{\"colorbar\": {\"outlinewidth\": 0, \"ticks\": \"\"}, \"type\": \"choropleth\"}], \"contour\": [{\"colorbar\": {\"outlinewidth\": 0, \"ticks\": \"\"}, \"colorscale\": [[0.0, \"#0d0887\"], [0.1111111111111111, \"#46039f\"], [0.2222222222222222, \"#7201a8\"], [0.3333333333333333, \"#9c179e\"], [0.4444444444444444, \"#bd3786\"], [0.5555555555555556, \"#d8576b\"], [0.6666666666666666, \"#ed7953\"], [0.7777777777777778, \"#fb9f3a\"], [0.8888888888888888, \"#fdca26\"], [1.0, \"#f0f921\"]], \"type\": \"contour\"}], \"contourcarpet\": [{\"colorbar\": {\"outlinewidth\": 0, \"ticks\": \"\"}, \"type\": \"contourcarpet\"}], \"heatmap\": [{\"colorbar\": {\"outlinewidth\": 0, \"ticks\": \"\"}, \"colorscale\": [[0.0, \"#0d0887\"], [0.1111111111111111, \"#46039f\"], [0.2222222222222222, \"#7201a8\"], [0.3333333333333333, \"#9c179e\"], [0.4444444444444444, \"#bd3786\"], [0.5555555555555556, \"#d8576b\"], [0.6666666666666666, \"#ed7953\"], [0.7777777777777778, \"#fb9f3a\"], [0.8888888888888888, \"#fdca26\"], [1.0, \"#f0f921\"]], \"type\": \"heatmap\"}], \"heatmapgl\": [{\"colorbar\": {\"outlinewidth\": 0, \"ticks\": \"\"}, \"colorscale\": [[0.0, \"#0d0887\"], [0.1111111111111111, \"#46039f\"], [0.2222222222222222, \"#7201a8\"], [0.3333333333333333, \"#9c179e\"], [0.4444444444444444, \"#bd3786\"], [0.5555555555555556, \"#d8576b\"], [0.6666666666666666, \"#ed7953\"], [0.7777777777777778, \"#fb9f3a\"], [0.8888888888888888, \"#fdca26\"], [1.0, \"#f0f921\"]], \"type\": \"heatmapgl\"}], \"histogram\": [{\"marker\": {\"colorbar\": {\"outlinewidth\": 0, \"ticks\": \"\"}}, \"type\": \"histogram\"}], \"histogram2d\": [{\"colorbar\": {\"outlinewidth\": 0, \"ticks\": \"\"}, \"colorscale\": [[0.0, \"#0d0887\"], [0.1111111111111111, \"#46039f\"], [0.2222222222222222, \"#7201a8\"], [0.3333333333333333, \"#9c179e\"], [0.4444444444444444, \"#bd3786\"], [0.5555555555555556, \"#d8576b\"], [0.6666666666666666, \"#ed7953\"], [0.7777777777777778, \"#fb9f3a\"], [0.8888888888888888, \"#fdca26\"], [1.0, \"#f0f921\"]], \"type\": \"histogram2d\"}], \"histogram2dcontour\": [{\"colorbar\": {\"outlinewidth\": 0, \"ticks\": \"\"}, \"colorscale\": [[0.0, \"#0d0887\"], [0.1111111111111111, \"#46039f\"], [0.2222222222222222, \"#7201a8\"], [0.3333333333333333, \"#9c179e\"], [0.4444444444444444, \"#bd3786\"], [0.5555555555555556, \"#d8576b\"], [0.6666666666666666, \"#ed7953\"], [0.7777777777777778, \"#fb9f3a\"], [0.8888888888888888, \"#fdca26\"], [1.0, \"#f0f921\"]], \"type\": \"histogram2dcontour\"}], \"mesh3d\": [{\"colorbar\": {\"outlinewidth\": 0, \"ticks\": \"\"}, \"type\": \"mesh3d\"}], \"parcoords\": [{\"line\": {\"colorbar\": {\"outlinewidth\": 0, \"ticks\": \"\"}}, \"type\": \"parcoords\"}], \"pie\": [{\"automargin\": true, \"type\": \"pie\"}], \"scatter\": [{\"marker\": {\"colorbar\": {\"outlinewidth\": 0, \"ticks\": \"\"}}, \"type\": \"scatter\"}], \"scatter3d\": [{\"line\": {\"colorbar\": {\"outlinewidth\": 0, \"ticks\": \"\"}}, \"marker\": {\"colorbar\": {\"outlinewidth\": 0, \"ticks\": \"\"}}, \"type\": \"scatter3d\"}], \"scattercarpet\": [{\"marker\": {\"colorbar\": {\"outlinewidth\": 0, \"ticks\": \"\"}}, \"type\": \"scattercarpet\"}], \"scattergeo\": [{\"marker\": {\"colorbar\": {\"outlinewidth\": 0, \"ticks\": \"\"}}, \"type\": \"scattergeo\"}], \"scattergl\": [{\"marker\": {\"colorbar\": {\"outlinewidth\": 0, \"ticks\": \"\"}}, \"type\": \"scattergl\"}], \"scattermapbox\": [{\"marker\": {\"colorbar\": {\"outlinewidth\": 0, \"ticks\": \"\"}}, \"type\": \"scattermapbox\"}], \"scatterpolar\": [{\"marker\": {\"colorbar\": {\"outlinewidth\": 0, \"ticks\": \"\"}}, \"type\": \"scatterpolar\"}], \"scatterpolargl\": [{\"marker\": {\"colorbar\": {\"outlinewidth\": 0, \"ticks\": \"\"}}, \"type\": \"scatterpolargl\"}], \"scatterternary\": [{\"marker\": {\"colorbar\": {\"outlinewidth\": 0, \"ticks\": \"\"}}, \"type\": \"scatterternary\"}], \"surface\": [{\"colorbar\": {\"outlinewidth\": 0, \"ticks\": \"\"}, \"colorscale\": [[0.0, \"#0d0887\"], [0.1111111111111111, \"#46039f\"], [0.2222222222222222, \"#7201a8\"], [0.3333333333333333, \"#9c179e\"], [0.4444444444444444, \"#bd3786\"], [0.5555555555555556, \"#d8576b\"], [0.6666666666666666, \"#ed7953\"], [0.7777777777777778, \"#fb9f3a\"], [0.8888888888888888, \"#fdca26\"], [1.0, \"#f0f921\"]], \"type\": \"surface\"}], \"table\": [{\"cells\": {\"fill\": {\"color\": \"#EBF0F8\"}, \"line\": {\"color\": \"white\"}}, \"header\": {\"fill\": {\"color\": \"#C8D4E3\"}, \"line\": {\"color\": \"white\"}}, \"type\": \"table\"}]}, \"layout\": {\"annotationdefaults\": {\"arrowcolor\": \"#2a3f5f\", \"arrowhead\": 0, \"arrowwidth\": 1}, \"coloraxis\": {\"colorbar\": {\"outlinewidth\": 0, \"ticks\": \"\"}}, \"colorscale\": {\"diverging\": [[0, \"#8e0152\"], [0.1, \"#c51b7d\"], [0.2, \"#de77ae\"], [0.3, \"#f1b6da\"], [0.4, \"#fde0ef\"], [0.5, \"#f7f7f7\"], [0.6, \"#e6f5d0\"], [0.7, \"#b8e186\"], [0.8, \"#7fbc41\"], [0.9, \"#4d9221\"], [1, \"#276419\"]], \"sequential\": [[0.0, \"#0d0887\"], [0.1111111111111111, \"#46039f\"], [0.2222222222222222, \"#7201a8\"], [0.3333333333333333, \"#9c179e\"], [0.4444444444444444, \"#bd3786\"], [0.5555555555555556, \"#d8576b\"], [0.6666666666666666, \"#ed7953\"], [0.7777777777777778, \"#fb9f3a\"], [0.8888888888888888, \"#fdca26\"], [1.0, \"#f0f921\"]], \"sequentialminus\": [[0.0, \"#0d0887\"], [0.1111111111111111, \"#46039f\"], [0.2222222222222222, \"#7201a8\"], [0.3333333333333333, \"#9c179e\"], [0.4444444444444444, \"#bd3786\"], [0.5555555555555556, \"#d8576b\"], [0.6666666666666666, \"#ed7953\"], [0.7777777777777778, \"#fb9f3a\"], [0.8888888888888888, \"#fdca26\"], [1.0, \"#f0f921\"]]}, \"colorway\": [\"#636efa\", \"#EF553B\", \"#00cc96\", \"#ab63fa\", \"#FFA15A\", \"#19d3f3\", \"#FF6692\", \"#B6E880\", \"#FF97FF\", \"#FECB52\"], \"font\": {\"color\": \"#2a3f5f\"}, \"geo\": {\"bgcolor\": \"white\", \"lakecolor\": \"white\", \"landcolor\": \"#E5ECF6\", \"showlakes\": true, \"showland\": true, \"subunitcolor\": \"white\"}, \"hoverlabel\": {\"align\": \"left\"}, \"hovermode\": \"closest\", \"mapbox\": {\"style\": \"light\"}, \"paper_bgcolor\": \"white\", \"plot_bgcolor\": \"#E5ECF6\", \"polar\": {\"angularaxis\": {\"gridcolor\": \"white\", \"linecolor\": \"white\", \"ticks\": \"\"}, \"bgcolor\": \"#E5ECF6\", \"radialaxis\": {\"gridcolor\": \"white\", \"linecolor\": \"white\", \"ticks\": \"\"}}, \"scene\": {\"xaxis\": {\"backgroundcolor\": \"#E5ECF6\", \"gridcolor\": \"white\", \"gridwidth\": 2, \"linecolor\": \"white\", \"showbackground\": true, \"ticks\": \"\", \"zerolinecolor\": \"white\"}, \"yaxis\": {\"backgroundcolor\": \"#E5ECF6\", \"gridcolor\": \"white\", \"gridwidth\": 2, \"linecolor\": \"white\", \"showbackground\": true, \"ticks\": \"\", \"zerolinecolor\": \"white\"}, \"zaxis\": {\"backgroundcolor\": \"#E5ECF6\", \"gridcolor\": \"white\", \"gridwidth\": 2, \"linecolor\": \"white\", \"showbackground\": true, \"ticks\": \"\", \"zerolinecolor\": \"white\"}}, \"shapedefaults\": {\"line\": {\"color\": \"#2a3f5f\"}}, \"ternary\": {\"aaxis\": {\"gridcolor\": \"white\", \"linecolor\": \"white\", \"ticks\": \"\"}, \"baxis\": {\"gridcolor\": \"white\", \"linecolor\": \"white\", \"ticks\": \"\"}, \"bgcolor\": \"#E5ECF6\", \"caxis\": {\"gridcolor\": \"white\", \"linecolor\": \"white\", \"ticks\": \"\"}}, \"title\": {\"x\": 0.05}, \"xaxis\": {\"automargin\": true, \"gridcolor\": \"white\", \"linecolor\": \"white\", \"ticks\": \"\", \"title\": {\"standoff\": 15}, \"zerolinecolor\": \"white\", \"zerolinewidth\": 2}, \"yaxis\": {\"automargin\": true, \"gridcolor\": \"white\", \"linecolor\": \"white\", \"ticks\": \"\", \"title\": {\"standoff\": 15}, \"zerolinecolor\": \"white\", \"zerolinewidth\": 2}}}, \"xaxis\": {\"anchor\": \"y\", \"domain\": [0.0, 0.45], \"linecolor\": \"black\", \"linewidth\": 1.5, \"mirror\": true, \"showline\": true, \"title\": {\"text\": \"Days\"}}, \"xaxis2\": {\"anchor\": \"y2\", \"domain\": [0.55, 1.0], \"linecolor\": \"black\", \"linewidth\": 1.5, \"mirror\": true, \"showline\": true, \"title\": {\"text\": \"Days\"}}, \"yaxis\": {\"anchor\": \"x\", \"domain\": [0.0, 1.0], \"linecolor\": \"black\", \"linewidth\": 1.5, \"mirror\": true, \"showline\": true, \"title\": {\"text\": \"Probability density\"}}, \"yaxis2\": {\"anchor\": \"x2\", \"domain\": [0.0, 1.0], \"linecolor\": \"black\", \"linewidth\": 1.5, \"mirror\": true, \"showline\": true, \"title\": {\"text\": \"Probability\"}}},\n",
       "                        {\"responsive\": true}\n",
       "                    ).then(function(){\n",
       "                            \n",
       "var gd = document.getElementById('d047286a-79f6-4220-98e4-8903c56ab06b');\n",
       "var x = new MutationObserver(function (mutations, observer) {{\n",
       "        var display = window.getComputedStyle(gd).display;\n",
       "        if (!display || display === 'none') {{\n",
       "            console.log([gd, 'removed!']);\n",
       "            Plotly.purge(gd);\n",
       "            observer.disconnect();\n",
       "        }}\n",
       "}});\n",
       "\n",
       "// Listen for the removal of the full notebook cells\n",
       "var notebookContainer = gd.closest('#notebook-container');\n",
       "if (notebookContainer) {{\n",
       "    x.observe(notebookContainer, {childList: true});\n",
       "}}\n",
       "\n",
       "// Listen for the clearing of the current output cell\n",
       "var outputEl = gd.closest('.output');\n",
       "if (outputEl) {{\n",
       "    x.observe(outputEl, {childList: true});\n",
       "}}\n",
       "\n",
       "                        })\n",
       "                };\n",
       "                });\n",
       "            </script>\n",
       "        </div>"
      ]
     },
     "metadata": {},
     "output_type": "display_data"
    }
   ],
   "source": [
    "logistic_1 = stats.logistic(loc=10,scale=1.8)\n",
    "\n",
    "fig = make_subplots(rows=1, cols=2,subplot_titles=('PDF comparison','CDF comparison'))\n",
    "fig.add_trace(go.Scatter(name='Normal',x=x,y=normal_2.pdf(x),mode='lines',line_color=colors[0],showlegend=True),row=1,col=1)\n",
    "fig.add_trace(go.Scatter(name='Logistic',x=x,y=logistic_1.pdf(x),mode='lines',line_color=colors[1],line_dash='dash',showlegend=True),row=1,col=1)\n",
    "fig.add_trace(go.Scatter(name='Normal',x=x,y=normal_2.cdf(x),mode='lines',line_color=colors[0],showlegend=False),row=1,col=2)\n",
    "fig.add_trace(go.Scatter(name='Logistic',x=x,y=logistic_1.cdf(x),mode='lines',line_color=colors[1],line_dash='dash',showlegend=False),row=1,col=2)\n",
    "\n",
    "fig.update_layout(height=350,margin=dict(l=20, r=20, t=50, b=20))\n",
    "fig.update_xaxes(title='Days',showline=True, linewidth=1.5, linecolor='black', mirror=True)\n",
    "fig.update_yaxes(showline=True, linewidth=1.5, linecolor='black', mirror=True)\n",
    "fig.update_yaxes(title='Probability density',row=1,col=1)\n",
    "fig.update_yaxes(title='Probability',row=1,col=2)\n",
    "fig.show()"
   ]
  },
  {
   "cell_type": "markdown",
   "metadata": {},
   "source": [
    "You can see that two distributions are very close to each other for this specific choice of parameters. The normal distribution has thinner tails while the logistic distribution has thicker tails.\n",
    "\n",
    "These curves are great for describing the progression of an idealized disease. But one potential problem is that these models are perfectly *symmetric*, which means that the incidence increases just as quickly as it decreases. We don't necessarily know that to be the case; in fact, we might expect that the incidence should decrease more slowly than it increases, because towards the end of an outbreak it takes longer and longer to find new people to infect as disease control measures are implemented. This *right skew* is in fact what is observed in many epidemics.\n",
    "\n",
    "So, we may want to test some growth curves that are asymmetric. Luckily, there are some generalizations of the distributions described above that can introduce skew:"
   ]
  },
  {
   "cell_type": "markdown",
   "metadata": {},
   "source": [
    ">**Skew normal** distribution [(link)](https://en.wikipedia.org/wiki/Skew_normal_distribution), defined by:\n",
    "\n",
    "$$ \\Phi(t) = N \\left[ \\frac{1}{2} + \\frac{1}{2} \\operatorname{erf}\\left(\\frac{t-t_0}{s \\sqrt{2}}\\right) - 2 T \\left(\\frac{t-t_0}{s},a \\right) \\right] $$\n",
    "\n",
    ">**Richards** curve [(link)](https://en.wikipedia.org/wiki/Generalised_logistic_function), a type of generalized logistic curve [used in some disease models](https://www.ncbi.nlm.nih.gov/pmc/articles/PMC3293463/), defined by:\n",
    "\n",
    "$$ \\Phi(t) = \\frac{N}{\\left(1 + e^{-(t-t_0)/s+\\operatorname{ln}(a)} \\right)^{1/a}} $$\n",
    "\n",
    ">**Log logistic** distribution [(link)](https://en.wikipedia.org/wiki/Shifted_log-logistic_distribution), a different type of skewed logistic, defined by:\n",
    "\n",
    "$$ \\Phi(t) = \\frac{N}{ 1 + \\left(1+ \\frac{a(t-t_0)}{s}\\right)^{-1/a}} $$\n",
    "\n",
    ">**Inverse Weibull** distribution [(link)](https://link.springer.com/article/10.1007/s00362-009-0271-3), used in several fields of engineering, defined by:\n",
    "\n",
    "$$ \\Phi(t) = N e^{-\\left(\\frac{s}{t-t_0}\\right)^a} $$\n",
    "\n",
    ">**Gompertz** curve [(link)](https://en.wikipedia.org/wiki/Gompertz_function), a special case of the generalized logistic [sometimes applied in biology](https://www.tandfonline.com/doi/pdf/10.1080/09712119.2016.1268965), defined by:\n",
    "\n",
    "$$ \\Phi(t) = N e^{-e^{-(t-t_0)/s}} $$\n",
    "\n",
    "where $N$ is the final number of total cases, $t_0$ is a location parameter related to the turning point, $s$ is a scale parameter related to the rate of growth, and $a$ is a skewness parameter related to the asymmetry of the growth. The interpretations of $t_0$, $s$, and $a$ and their relations to $t_i$ vary depending on the model. The skew normal uses [Owen's T function](https://en.wikipedia.org/wiki/Owen%27s_T_function), $T(h,a)$, a special function that has no closed form."
   ]
  },
  {
   "cell_type": "markdown",
   "metadata": {},
   "source": [
    "Here are example plots for two of the skewed models:"
   ]
  },
  {
   "cell_type": "code",
   "execution_count": 12,
   "metadata": {
    "jupyter": {
     "source_hidden": true
    }
   },
   "outputs": [
    {
     "data": {
      "application/vnd.plotly.v1+json": {
       "config": {
        "plotlyServerURL": "https://plot.ly"
       },
       "data": [
        {
         "line": {
          "color": "rgb(31, 119, 180)"
         },
         "mode": "lines",
         "name": "Skew normal",
         "showlegend": true,
         "type": "scatter",
         "x": [
          0,
          0.1,
          0.2,
          0.30000000000000004,
          0.4,
          0.5,
          0.6000000000000001,
          0.7000000000000001,
          0.8,
          0.9,
          1,
          1.1,
          1.2000000000000002,
          1.3,
          1.4000000000000001,
          1.5,
          1.6,
          1.7000000000000002,
          1.8,
          1.9000000000000001,
          2,
          2.1,
          2.2,
          2.3000000000000003,
          2.4000000000000004,
          2.5,
          2.6,
          2.7,
          2.8000000000000003,
          2.9000000000000004,
          3,
          3.1,
          3.2,
          3.3000000000000003,
          3.4000000000000004,
          3.5,
          3.6,
          3.7,
          3.8000000000000003,
          3.9000000000000004,
          4,
          4.1000000000000005,
          4.2,
          4.3,
          4.4,
          4.5,
          4.6000000000000005,
          4.7,
          4.800000000000001,
          4.9,
          5,
          5.1000000000000005,
          5.2,
          5.300000000000001,
          5.4,
          5.5,
          5.6000000000000005,
          5.7,
          5.800000000000001,
          5.9,
          6,
          6.1000000000000005,
          6.2,
          6.300000000000001,
          6.4,
          6.5,
          6.6000000000000005,
          6.7,
          6.800000000000001,
          6.9,
          7,
          7.1000000000000005,
          7.2,
          7.300000000000001,
          7.4,
          7.5,
          7.6000000000000005,
          7.7,
          7.800000000000001,
          7.9,
          8,
          8.1,
          8.200000000000001,
          8.3,
          8.4,
          8.5,
          8.6,
          8.700000000000001,
          8.8,
          8.9,
          9,
          9.1,
          9.200000000000001,
          9.3,
          9.4,
          9.5,
          9.600000000000001,
          9.700000000000001,
          9.8,
          9.9,
          10,
          10.100000000000001,
          10.200000000000001,
          10.3,
          10.4,
          10.5,
          10.600000000000001,
          10.700000000000001,
          10.8,
          10.9,
          11,
          11.100000000000001,
          11.200000000000001,
          11.3,
          11.4,
          11.5,
          11.600000000000001,
          11.700000000000001,
          11.8,
          11.9,
          12,
          12.100000000000001,
          12.200000000000001,
          12.3,
          12.4,
          12.5,
          12.600000000000001,
          12.700000000000001,
          12.8,
          12.9,
          13,
          13.100000000000001,
          13.200000000000001,
          13.3,
          13.4,
          13.5,
          13.600000000000001,
          13.700000000000001,
          13.8,
          13.9,
          14,
          14.100000000000001,
          14.200000000000001,
          14.3,
          14.4,
          14.5,
          14.600000000000001,
          14.700000000000001,
          14.8,
          14.9,
          15,
          15.100000000000001,
          15.200000000000001,
          15.3,
          15.4,
          15.5,
          15.600000000000001,
          15.700000000000001,
          15.8,
          15.9,
          16,
          16.1,
          16.2,
          16.3,
          16.400000000000002,
          16.5,
          16.6,
          16.7,
          16.8,
          16.900000000000002,
          17,
          17.1,
          17.2,
          17.3,
          17.400000000000002,
          17.5,
          17.6,
          17.7,
          17.8,
          17.900000000000002,
          18,
          18.1,
          18.2,
          18.3,
          18.400000000000002,
          18.5,
          18.6,
          18.7,
          18.8,
          18.900000000000002,
          19,
          19.1,
          19.200000000000003,
          19.3,
          19.400000000000002,
          19.5,
          19.6,
          19.700000000000003,
          19.8,
          19.900000000000002
         ],
         "xaxis": "x",
         "y": [
          7.992900708649569e-07,
          1.0693427239663152e-06,
          1.4251528629264326e-06,
          1.892080418635859e-06,
          2.502378355651405e-06,
          3.296881102777417e-06,
          4.3270534632791786e-06,
          5.657462699565655e-06,
          7.36874377207368e-06,
          9.561134935456907e-06,
          1.2358667774652954e-05,
          1.59141019475207e-05,
          2.0414699964815813e-05,
          2.6088940782579916e-05,
          3.321427223332114e-05,
          4.2126000739359775e-05,
          5.322741163553295e-05,
          6.700120403855353e-05,
          8.402230977693742e-05,
          0.0001049721456883755,
          0.00013065432189619965,
          0.00016201179487664396,
          0.00020014541274411516,
          0.00024633375092297284,
          0.0003020540791986167,
          0.00036900423630980466,
          0.0004491251163805107,
          0.0005446233936268802,
          0.0006579940293995775,
          0.0007920420207023849,
          0.000949902764325714,
          0.001135060328593536,
          0.0013513628488371649,
          0.001603034196858221,
          0.0018946810228970365,
          0.0022312942352230086,
          0.0026182439716661565,
          0.003061267133308015,
          0.0035664465968710474,
          0.004140181302232223,
          0.004789146527272138,
          0.005520243815260762,
          0.0063405402102450995,
          0.007257196682100181,
          0.008277385882143228,
          0.009408199657971537,
          0.01065654706629919,
          0.012029043947276857,
          0.013531895453869975,
          0.015170773254894123,
          0.016950689438882262,
          0.018875869426146916,
          0.02094962643614625,
          0.023174240244883036,
          0.02555084309176462,
          0.02807931564775635,
          0.03075819592930317,
          0.03358460393030092,
          0.03655418454504482,
          0.03966107106930766,
          0.042897871198462674,
          0.04625567699809028,
          0.04972409981417412,
          0.053291330530084925,
          0.056944224981859734,
          0.060668413729585466,
          0.06444843477010169,
          0.06826788718449121,
          0.07210960316251502,
          0.07595583535391419,
          0.07978845608028654,
          0.0835891646155523,
          0.08733969851932702,
          0.0910220448937516,
          0.09461864743454192,
          0.09811260526121926,
          0.10148785973560273,
          0.10472936580375962,
          0.10782324481324226,
          0.1107569162500813,
          0.11351920639171968,
          0.11610043246420851,
          0.11849246150496089,
          0.12068874374642555,
          0.12268432093208828,
          0.12447581053645332,
          0.12606136736931609,
          0.12744062448841859,
          0.12861461571310512,
          0.1295856823176395,
          0.13035736668244707,
          0.13093429579396743,
          0.13132205751136694,
          0.13152707246614098,
          0.13155646433609966,
          0.13141793104774827,
          0.1311196192214466,
          0.13067000389363317,
          0.13007777524189593,
          0.12935173371369146,
          0.12850069462944774,
          0.1275334030060737,
          0.1264584590367618,
          0.12528425437516097,
          0.12401891911269095,
          0.1226702791114815,
          0.12124582316504413,
          0.11975267930566183,
          0.11819759946154393,
          0.11658695158673651,
          0.11492671834026738,
          0.11322250137490049,
          0.11147953030644864,
          0.10970267546775578,
          0.10789646360295471,
          0.10606509572319214,
          0.10421246642062262,
          0.10234218401932516,
          0.10045759102650273,
          0.09856178443194044,
          0.09665763548576115,
          0.09474780866206345,
          0.09283477958756953,
          0.09092085177891582,
          0.08900817208906893,
          0.08709874481228086,
          0.08519444443805381,
          0.08329702707806073,
          0.08140814061633896,
          0.07952933365296282,
          0.07766206332551054,
          0.07580770210172064,
          0.07396754364155003,
          0.07214280782813254,
          0.07033464506560168,
          0.06854413993802017,
          0.06677231431832985,
          0.06502013000979501,
          0.0632884909952903,
          0.06157824536232951,
          0.059890186964227085,
          0.05822505687045121,
          0.056583544652229235,
          0.054966289542914396,
          0.053373881506596964,
          0.05180686224297511,
          0.05026572615161169,
          0.04875092127437785,
          0.04726285023110451,
          0.045801871160193006,
          0.044368298673133896,
          0.04296240482950752,
          0.04158442013704346,
          0.04023453457965395,
          0.0389128986749881,
          0.037619624561935475,
          0.0363547871176081,
          0.03511842510261267,
          0.03391054233286091,
          0.032731108875734716,
          0.03158006226809579,
          0.030457308753393995,
          0.029362724534965072,
          0.028296157042505765,
          0.027257426208661322,
          0.0262463257526454,
          0.025262624467832506,
          0.024306067510308192,
          0.02337637768542786,
          0.022473256729520327,
          0.021596386583968497,
          0.0207454306590087,
          0.01992003508470819,
          0.019119829946702756,
          0.018344430504408444,
          0.017593438389552574,
          0.01686644278300669,
          0.016163021568042835,
          0.015482742458272183,
          0.014825164098666563,
          0.014189837138200856,
          0.013576305272793795,
          0.012984106257361013,
          0.01241277288592871,
          0.011861833938889533,
          0.011330815096611015,
          0.010819239818734299,
          0.01032663018862362,
          0.009852507722545893,
          0.009396394143276154,
          0.008957812117934463,
          0.008536285959967454,
          0.008131342295289319,
          0.007742510692694172,
          0.007369324258744442,
          0.007011320197427192,
          0.006668040334952283,
          0.006339031610144238,
          0.006023846530950932,
          0.005722043597659843
         ],
         "yaxis": "y"
        },
        {
         "line": {
          "color": "rgb(255, 127, 14)",
          "dash": "dash"
         },
         "mode": "lines",
         "name": "Richards",
         "showlegend": true,
         "type": "scatter",
         "x": [
          0,
          0.1,
          0.2,
          0.30000000000000004,
          0.4,
          0.5,
          0.6000000000000001,
          0.7000000000000001,
          0.8,
          0.9,
          1,
          1.1,
          1.2000000000000002,
          1.3,
          1.4000000000000001,
          1.5,
          1.6,
          1.7000000000000002,
          1.8,
          1.9000000000000001,
          2,
          2.1,
          2.2,
          2.3000000000000003,
          2.4000000000000004,
          2.5,
          2.6,
          2.7,
          2.8000000000000003,
          2.9000000000000004,
          3,
          3.1,
          3.2,
          3.3000000000000003,
          3.4000000000000004,
          3.5,
          3.6,
          3.7,
          3.8000000000000003,
          3.9000000000000004,
          4,
          4.1000000000000005,
          4.2,
          4.3,
          4.4,
          4.5,
          4.6000000000000005,
          4.7,
          4.800000000000001,
          4.9,
          5,
          5.1000000000000005,
          5.2,
          5.300000000000001,
          5.4,
          5.5,
          5.6000000000000005,
          5.7,
          5.800000000000001,
          5.9,
          6,
          6.1000000000000005,
          6.2,
          6.300000000000001,
          6.4,
          6.5,
          6.6000000000000005,
          6.7,
          6.800000000000001,
          6.9,
          7,
          7.1000000000000005,
          7.2,
          7.300000000000001,
          7.4,
          7.5,
          7.6000000000000005,
          7.7,
          7.800000000000001,
          7.9,
          8,
          8.1,
          8.200000000000001,
          8.3,
          8.4,
          8.5,
          8.6,
          8.700000000000001,
          8.8,
          8.9,
          9,
          9.1,
          9.200000000000001,
          9.3,
          9.4,
          9.5,
          9.600000000000001,
          9.700000000000001,
          9.8,
          9.9,
          10,
          10.100000000000001,
          10.200000000000001,
          10.3,
          10.4,
          10.5,
          10.600000000000001,
          10.700000000000001,
          10.8,
          10.9,
          11,
          11.100000000000001,
          11.200000000000001,
          11.3,
          11.4,
          11.5,
          11.600000000000001,
          11.700000000000001,
          11.8,
          11.9,
          12,
          12.100000000000001,
          12.200000000000001,
          12.3,
          12.4,
          12.5,
          12.600000000000001,
          12.700000000000001,
          12.8,
          12.9,
          13,
          13.100000000000001,
          13.200000000000001,
          13.3,
          13.4,
          13.5,
          13.600000000000001,
          13.700000000000001,
          13.8,
          13.9,
          14,
          14.100000000000001,
          14.200000000000001,
          14.3,
          14.4,
          14.5,
          14.600000000000001,
          14.700000000000001,
          14.8,
          14.9,
          15,
          15.100000000000001,
          15.200000000000001,
          15.3,
          15.4,
          15.5,
          15.600000000000001,
          15.700000000000001,
          15.8,
          15.9,
          16,
          16.1,
          16.2,
          16.3,
          16.400000000000002,
          16.5,
          16.6,
          16.7,
          16.8,
          16.900000000000002,
          17,
          17.1,
          17.2,
          17.3,
          17.400000000000002,
          17.5,
          17.6,
          17.7,
          17.8,
          17.900000000000002,
          18,
          18.1,
          18.2,
          18.3,
          18.400000000000002,
          18.5,
          18.6,
          18.7,
          18.8,
          18.900000000000002,
          19,
          19.1,
          19.200000000000003,
          19.3,
          19.400000000000002,
          19.5,
          19.6,
          19.700000000000003,
          19.8,
          19.900000000000002
         ],
         "xaxis": "x",
         "y": [
          3.190003734663556e-07,
          4.270373986997606e-07,
          5.7035271998773e-07,
          7.599724942285207e-07,
          1.010189048997662e-06,
          1.3394650317899848e-06,
          1.7715664290202695e-06,
          2.3369754595371183e-06,
          3.074643569865163e-06,
          4.034155006147689e-06,
          5.278382626459221e-06,
          6.88672958269067e-06,
          8.959062979582627e-06,
          1.1620458224666077e-05,
          1.502688498987349e-05,
          1.937197682535087e-05,
          2.4895035634238132e-05,
          3.18904283846616e-05,
          4.0718535368438775e-05,
          5.1818405610659884e-05,
          6.572226414422877e-05,
          8.307199614876812e-05,
          0.00010463770274978437,
          0.00013133838098533063,
          0.0001642647246600861,
          0.00020470397242632285,
          0.0002541666438348293,
          0.00031441490329838797,
          0.00038749217671573116,
          0.00047575351767471823,
          0.0005818960825251672,
          0.0007089889301796982,
          0.0008605012184464825,
          0.0010403277303421723,
          0.001252810538504644,
          0.0015027555116329822,
          0.0017954422923953431,
          0.0021366263400783114,
          0.002532531641575815,
          0.0029898327583135864,
          0.0035156249999999992,
          0.004117381702194791,
          0.004802897834483316,
          0.005580219477405474,
          0.006457559073796276,
          0.007443196775056634,
          0.00854536865302995,
          0.009772143018617492,
          0.011131286561625936,
          0.012630122483542163,
          0.014275383216128312,
          0.016073060684306313,
          0.01802825736340603,
          0.020145041582439578,
          0.022426310623835106,
          0.024873665157266075,
          0.027487298416704425,
          0.030265903286445277,
          0.03320660010944684,
          0.03630488758054542,
          0.03955461855292243,
          0.04294800198716449,
          0.04647563162961932,
          0.05012654134339585,
          0.053888286354719525,
          0.05774704904231687,
          0.06168776730936436,
          0.06569428305511758,
          0.06974950782222838,
          0.07383560234780147,
          0.07793416649920837,
          0.08202643593315986,
          0.08609348177807256,
          0.09011640970112718,
          0.0940765548750438,
          0.09795566959521146,
          0.1017361006029673,
          0.10540095353169213,
          0.10893424229434263,
          0.1123210216593336,
          0.1155475017020191,
          0.11860114325803484,
          0.12147073393043348,
          0.1241464446044684,
          0.12661986679348797,
          0.1288840314700164,
          0.1309334103229805,
          0.13276390062228388,
          0.1343727950643446,
          0.13575873811714484,
          0.13692167048245343,
          0.1378627633489275,
          0.13858434412639026,
          0.13908981533293757,
          0.13938356825728143,
          0.13947089294372303,
          0.1393578859512135,
          0.1390513572258492,
          0.1385587373023454,
          0.13788798591869675,
          0.13704750299311508,
          0.13604604277674717,
          0.13489263186244788,
          0.13359649160139359,
          0.13216696535747285,
          0.1306134509156566,
          0.1289453382559999,
          0.12717195281026414,
          0.1253025042337509,
          0.12334604065090868,
          0.12131140826947728,
          0.1192072162040418,
          0.1170418063054032,
          0.114823227756535,
          0.11255921616841538,
          0.11025717688896082,
          0.10792417222489412,
          0.10556691226888397,
          0.1031917490219473,
          0.10080467350318363,
          0.09841131554471808,
          0.09601694597862558,
          0.09362648093399646,
          0.09124448797563817,
          0.08887519383070693,
          0.08652249346538647,
          0.08418996029020832,
          0.08188085728940224,
          0.07959814888650278,
          0.07734451337508155,
          0.07512235575973145,
          0.07293382086814323,
          0.07078080661016503,
          0.06866497727402898,
          0.06658777676340133,
          0.0645504416915192,
          0.06255401426039474,
          0.06059935486389204,
          0.058687154363413464,
          0.05681794599399772,
          0.05499211686684735,
          0.05320991904171228,
          0.05147148014919108,
          0.04977681354891582,
          0.04812582801481086,
          0.046518336943195626,
          0.04495406708349668,
          0.04343266679478031,
          0.04195371383426601,
          0.04051672268647554,
          0.03912115144375366,
          0.03776640825060686,
          0.036451857325683804,
          0.03517682457629978,
          0.03394060282122411,
          0.03274245663803131,
          0.03158162685169672,
          0.030457334681318015,
          0.02936878556189172,
          0.028315172657990738,
          0.027295680085992303,
          0.02630948586121735,
          0.025355764585973734,
          0.02443368989406514,
          0.02354243666684625,
          0.02268118303538159,
          0.021849112182715087,
          0.0210454139596847,
          0.02026928632712921,
          0.019519936636741952,
          0.01879658276223023,
          0.01809845409184715,
          0.017424792392778537,
          0.016774852557291657,
          0.016147903239992455,
          0.015543227394990936,
          0.014960122721245991,
          0.014397902023850603,
          0.013855893498526816,
          0.013333440946129937,
          0.012829903923510197,
          0.012344657836651719,
          0.011877093981599484,
          0.011426619538296894,
          0.01099265752208982,
          0.010574646697304395,
          0.010172041456978639,
          0.009784311672518609,
          0.009410942516758565,
          0.009051434263632424,
          0.008705302067406728,
          0.008372075724185905,
          0.008051299418176491,
          0.007742531454986777,
          0.007445343984043612,
          0.007159322712025644,
          0.0068840666090428685,
          0.0066191876091350995,
          0.00636431030651589,
          0.006119071648852526
         ],
         "yaxis": "y"
        },
        {
         "line": {
          "color": "rgb(31, 119, 180)"
         },
         "mode": "lines",
         "name": "Skew normal",
         "showlegend": false,
         "type": "scatter",
         "x": [
          0,
          0.1,
          0.2,
          0.30000000000000004,
          0.4,
          0.5,
          0.6000000000000001,
          0.7000000000000001,
          0.8,
          0.9,
          1,
          1.1,
          1.2000000000000002,
          1.3,
          1.4000000000000001,
          1.5,
          1.6,
          1.7000000000000002,
          1.8,
          1.9000000000000001,
          2,
          2.1,
          2.2,
          2.3000000000000003,
          2.4000000000000004,
          2.5,
          2.6,
          2.7,
          2.8000000000000003,
          2.9000000000000004,
          3,
          3.1,
          3.2,
          3.3000000000000003,
          3.4000000000000004,
          3.5,
          3.6,
          3.7,
          3.8000000000000003,
          3.9000000000000004,
          4,
          4.1000000000000005,
          4.2,
          4.3,
          4.4,
          4.5,
          4.6000000000000005,
          4.7,
          4.800000000000001,
          4.9,
          5,
          5.1000000000000005,
          5.2,
          5.300000000000001,
          5.4,
          5.5,
          5.6000000000000005,
          5.7,
          5.800000000000001,
          5.9,
          6,
          6.1000000000000005,
          6.2,
          6.300000000000001,
          6.4,
          6.5,
          6.6000000000000005,
          6.7,
          6.800000000000001,
          6.9,
          7,
          7.1000000000000005,
          7.2,
          7.300000000000001,
          7.4,
          7.5,
          7.6000000000000005,
          7.7,
          7.800000000000001,
          7.9,
          8,
          8.1,
          8.200000000000001,
          8.3,
          8.4,
          8.5,
          8.6,
          8.700000000000001,
          8.8,
          8.9,
          9,
          9.1,
          9.200000000000001,
          9.3,
          9.4,
          9.5,
          9.600000000000001,
          9.700000000000001,
          9.8,
          9.9,
          10,
          10.100000000000001,
          10.200000000000001,
          10.3,
          10.4,
          10.5,
          10.600000000000001,
          10.700000000000001,
          10.8,
          10.9,
          11,
          11.100000000000001,
          11.200000000000001,
          11.3,
          11.4,
          11.5,
          11.600000000000001,
          11.700000000000001,
          11.8,
          11.9,
          12,
          12.100000000000001,
          12.200000000000001,
          12.3,
          12.4,
          12.5,
          12.600000000000001,
          12.700000000000001,
          12.8,
          12.9,
          13,
          13.100000000000001,
          13.200000000000001,
          13.3,
          13.4,
          13.5,
          13.600000000000001,
          13.700000000000001,
          13.8,
          13.9,
          14,
          14.100000000000001,
          14.200000000000001,
          14.3,
          14.4,
          14.5,
          14.600000000000001,
          14.700000000000001,
          14.8,
          14.9,
          15,
          15.100000000000001,
          15.200000000000001,
          15.3,
          15.4,
          15.5,
          15.600000000000001,
          15.700000000000001,
          15.8,
          15.9,
          16,
          16.1,
          16.2,
          16.3,
          16.400000000000002,
          16.5,
          16.6,
          16.7,
          16.8,
          16.900000000000002,
          17,
          17.1,
          17.2,
          17.3,
          17.400000000000002,
          17.5,
          17.6,
          17.7,
          17.8,
          17.900000000000002,
          18,
          18.1,
          18.2,
          18.3,
          18.400000000000002,
          18.5,
          18.6,
          18.7,
          18.8,
          18.900000000000002,
          19,
          19.1,
          19.200000000000003,
          19.3,
          19.400000000000002,
          19.5,
          19.6,
          19.700000000000003,
          19.8,
          19.900000000000002
         ],
         "xaxis": "x2",
         "y": [
          2.619154881951715e-07,
          3.5472267309657457e-07,
          4.786365241004574e-07,
          6.434495352988162e-07,
          8.618221252964965e-07,
          1.1500536003466443e-06,
          1.5290394921694561e-06,
          2.025454431369675e-06,
          2.6732060932521093e-06,
          3.515213850181633e-06,
          4.6055726605004075e-06,
          6.012172570551948e-06,
          7.819852852877339e-06,
          1.0134179730869983e-05,
          1.3085946572804025e-05,
          1.6836505388090826e-05,
          2.1584048079629164e-05,
          2.7570964808106236e-05,
          3.509241454178211e-05,
          4.4506248857559706e-05,
          5.624443371187711e-05,
          7.08261145325799e-05,
          8.88724668596216e-05,
          0.00011112346710844319,
          0.00013845670505334255,
          0.0001719083405476732,
          0.00021269628107567859,
          0.0002622456233119915,
          0.0003222163604197634,
          0.00039453330699014936,
          0.0004814181351789968,
          0.0005854233488660817,
          0.0007094679480005191,
          0.0008568744535145221,
          0.0010314068754915633,
          0.0012373091152858952,
          0.0014793431980563846,
          0.0017628266381657294,
          0.0020936681489663795,
          0.002478400823851804,
          0.0029242118405773234,
          0.0034389676794129905,
          0.004031233801416916,
          0.004710287709684154,
          0.005486124317294998,
          0.006369452573950254,
          0.0073716823614967545,
          0.008504900758573249,
          0.009781836897457393,
          0.011215814791892535,
          0.012820693702146052,
          0.014610795820566305,
          0.016600821304015037,
          0.018805750944125506,
          0.021240737046609344,
          0.023920983380036804,
          0.026861615345018144,
          0.030077541798274605,
          0.033583310234074994,
          0.03739295726922672,
          0.041519856588775904,
          0.04597656667987784,
          0.05077468080390877,
          0.0559246817259937,
          0.06143580373225226,
          0.06731590441563688,
          0.07357134860027634,
          0.0802069066029237,
          0.08722566880147128,
          0.09462897819953126,
          0.10241638234956685,
          0.11058560563333526,
          0.11913254250713283,
          0.1280512719111375,
          0.13733409262825116,
          0.14697157896969495,
          0.1569526557734201,
          0.16726469133780664,
          0.1778936065867746,
          0.1888239984816794,
          0.2000392754669829,
          0.21152180256565659,
          0.22325305362966733,
          0.23521376820179604,
          0.24738411045661285,
          0.25974382775794225,
          0.2722724064932494,
          0.28494922301618175,
          0.29775368773999766,
          0.3106653806688919,
          0.32366417692279437,
          0.3367303610953935,
          0.3498447295762702,
          0.36298868025787806,
          0.3761442893290517,
          0.38929437512197645,
          0.4024225492233626,
          0.41551325527828814,
          0.42855179610336286,
          0.4415243498822843,
          0.4544179763404302,
          0.467220613885886,
          0.4799210687632435,
          0.4925089972954937,
          0.5049748822909155,
          0.5173100046691399,
          0.5295064113169896,
          0.5415568801239337,
          0.5534548830728019,
          0.5651945481774,
          0.5767706209683858,
          0.5881784261353643,
          0.5994138298395207,
          0.6104732031196954,
          0.6213533867276516,
          0.6320516576470289,
          0.6425656974763103,
          0.6528935627898595,
          0.6630336575331842,
          0.6729847074591481,
          0.6827457365707978,
          0.6923160455033882,
          0.7016951917525793,
          0.710882971636989,
          0.7198794038705418,
          0.728684714612623,
          0.7372993238611117,
          0.7457238330541346,
          0.7539590137501663,
          0.7620057972621694,
          0.7698652651292442,
          0.7775386403181811,
          0.7850272790569197,
          0.7923326632118308,
          0.7994563931306365,
          0.8064001808824001,
          0.8131658438351961,
          0.8197552985206402,
          0.8261705547423605,
          0.8324137098926487,
          0.8384869434479487,
          0.8443925116195089,
          0.8501327421404763,
          0.8557100291749871,
          0.8611268283384478,
          0.8663856518212824,
          0.8714890636109589,
          0.876439674809212,
          0.881240139043059,
          0.8858931479695443,
          0.890401426875176,
          0.8947677303717914,
          0.8989948381911465,
          0.9030855510808913,
          0.907042686804815,
          0.9108690762503483,
          0.9145675596462927,
          0.9181409828936783,
          0.9215921940124913,
          0.9249240397068189,
          0.928139362050727,
          0.9312409952969156,
          0.9342317628099204,
          0.9371144741253273,
          0.9398919221361685,
          0.9425668804073495,
          0.9451421006186678,
          0.9476203101366591,
          0.9500042097152266,
          0.9522964713247036,
          0.9544997361087307,
          0.9566166124680486,
          0.9586496742700461,
          0.9606014591826709,
          0.9624744671310493,
          0.9642711588749648,
          0.9659939547051198,
          0.967645233255915,
          0.9692273304323071,
          0.9707425384481222,
          0.9721931049730668,
          0.9735812323855282,
          0.9749090771281324,
          0.9761787491629219,
          0.9773923115229046,
          0.9785517799566549,
          0.9796591226625646,
          0.9807162601092859,
          0.9817250649388564,
          0.9826873619489681,
          0.9836049281508087,
          0.9844794928988932,
          0.9853127380893035,
          0.9861062984227518,
          0.9868617617289068,
          0.9875806693484479,
          0.9882645165693351,
          0.9889147531138349,
          0.9895327836728888,
          0.9901199684844589
         ],
         "yaxis": "y2"
        },
        {
         "line": {
          "color": "rgb(255, 127, 14)",
          "dash": "dash"
         },
         "mode": "lines",
         "name": "Richards",
         "showlegend": false,
         "type": "scatter",
         "x": [
          0,
          0.1,
          0.2,
          0.30000000000000004,
          0.4,
          0.5,
          0.6000000000000001,
          0.7000000000000001,
          0.8,
          0.9,
          1,
          1.1,
          1.2000000000000002,
          1.3,
          1.4000000000000001,
          1.5,
          1.6,
          1.7000000000000002,
          1.8,
          1.9000000000000001,
          2,
          2.1,
          2.2,
          2.3000000000000003,
          2.4000000000000004,
          2.5,
          2.6,
          2.7,
          2.8000000000000003,
          2.9000000000000004,
          3,
          3.1,
          3.2,
          3.3000000000000003,
          3.4000000000000004,
          3.5,
          3.6,
          3.7,
          3.8000000000000003,
          3.9000000000000004,
          4,
          4.1000000000000005,
          4.2,
          4.3,
          4.4,
          4.5,
          4.6000000000000005,
          4.7,
          4.800000000000001,
          4.9,
          5,
          5.1000000000000005,
          5.2,
          5.300000000000001,
          5.4,
          5.5,
          5.6000000000000005,
          5.7,
          5.800000000000001,
          5.9,
          6,
          6.1000000000000005,
          6.2,
          6.300000000000001,
          6.4,
          6.5,
          6.6000000000000005,
          6.7,
          6.800000000000001,
          6.9,
          7,
          7.1000000000000005,
          7.2,
          7.300000000000001,
          7.4,
          7.5,
          7.6000000000000005,
          7.7,
          7.800000000000001,
          7.9,
          8,
          8.1,
          8.200000000000001,
          8.3,
          8.4,
          8.5,
          8.6,
          8.700000000000001,
          8.8,
          8.9,
          9,
          9.1,
          9.200000000000001,
          9.3,
          9.4,
          9.5,
          9.600000000000001,
          9.700000000000001,
          9.8,
          9.9,
          10,
          10.100000000000001,
          10.200000000000001,
          10.3,
          10.4,
          10.5,
          10.600000000000001,
          10.700000000000001,
          10.8,
          10.9,
          11,
          11.100000000000001,
          11.200000000000001,
          11.3,
          11.4,
          11.5,
          11.600000000000001,
          11.700000000000001,
          11.8,
          11.9,
          12,
          12.100000000000001,
          12.200000000000001,
          12.3,
          12.4,
          12.5,
          12.600000000000001,
          12.700000000000001,
          12.8,
          12.9,
          13,
          13.100000000000001,
          13.200000000000001,
          13.3,
          13.4,
          13.5,
          13.600000000000001,
          13.700000000000001,
          13.8,
          13.9,
          14,
          14.100000000000001,
          14.200000000000001,
          14.3,
          14.4,
          14.5,
          14.600000000000001,
          14.700000000000001,
          14.8,
          14.9,
          15,
          15.100000000000001,
          15.200000000000001,
          15.3,
          15.4,
          15.5,
          15.600000000000001,
          15.700000000000001,
          15.8,
          15.9,
          16,
          16.1,
          16.2,
          16.3,
          16.400000000000002,
          16.5,
          16.6,
          16.7,
          16.8,
          16.900000000000002,
          17,
          17.1,
          17.2,
          17.3,
          17.400000000000002,
          17.5,
          17.6,
          17.7,
          17.8,
          17.900000000000002,
          18,
          18.1,
          18.2,
          18.3,
          18.400000000000002,
          18.5,
          18.6,
          18.7,
          18.8,
          18.900000000000002,
          19,
          19.1,
          19.200000000000003,
          19.3,
          19.400000000000002,
          19.5,
          19.6,
          19.700000000000003,
          19.8,
          19.900000000000002
         ],
         "xaxis": "x2",
         "y": [
          1.065015105856133e-07,
          1.435481555328672e-07,
          1.9308212211238166e-07,
          2.591585766805508e-07,
          3.4709191006163977e-07,
          4.638258449820393e-07,
          6.184050125326233e-07,
          8.225733623909312e-07,
          1.0915303244128463e-06,
          1.4448821660129586e-06,
          1.9078335893907396e-06,
          2.5126733717610025e-06,
          3.300617835715478e-06,
          4.324087178807389e-06,
          5.649502179111224e-06,
          7.360702453957516e-06,
          9.56310213185691e-06,
          1.2388714256747596e-05,
          1.600219111888034e-05,
          2.060804350558282e-05,
          2.6459216947664882e-05,
          3.386721660340092e-05,
          4.321398350603076e-05,
          5.496573237285682e-05,
          6.968896375301858e-05,
          8.806885956904432e-05,
          0.00011093025958925487,
          0.00013926139552703924,
          0.00017424052781173216,
          0.0002172655862543494,
          0.00026998685870872115,
          0.0003343427006145838,
          0.00041259815267281484,
          0.0005073862540889788,
          0.0006217517257583863,
          0.0007591965731567616,
          0.0009237270250853584,
          0.0011199010852005408,
          0.0013528758326821749,
          0.001628453471481371,
          0.001953125,
          0.0023341102609171463,
          0.002779393040539764,
          0.0032977498248061227,
          0.0038987707908244465,
          0.0045928716237888,
          0.005391294803438178,
          0.006306099104715398,
          0.007350136205116869,
          0.008537013485750844,
          0.00988104235173394,
          0.011397171675666515,
          0.013100906279042236,
          0.015008210702343535,
          0.017135398865578192,
          0.01949901057637193,
          0.02211567619103711,
          0.0250019710637222,
          0.028174261718573717,
          0.03164854593939887,
          0.035440289181488546,
          0.039564259863600286,
          0.04403436618917305,
          0.048863497171423194,
          0.05406337049615434,
          0.059644389750327806,
          0.0656155133773272,
          0.07198413749706453,
          0.0787559944580009,
          0.08593506867753767,
          0.09352353098683266,
          0.10152169233618895,
          0.10992797734823977,
          0.11873891783842361,
          0.12794916606532206,
          0.13755152713610014,
          0.14753700968207,
          0.1578948936426271,
          0.16861281375729356,
          0.17967685716871093,
          0.19107167338610248,
          0.20278059474945376,
          0.21478576546873326,
          0.22706827728799786,
          0.23960830983839776,
          0.252385273793311,
          0.26537795501898054,
          0.27856465802052355,
          0.29192334711132123,
          0.3054317838788061,
          0.3190676596768326,
          0.3328087220397409,
          0.34663289408173087,
          0.36051838611353687,
          0.3744437988733348,
          0.38838821792748734,
          0.40233129894684194,
          0.4162533437039486,
          0.43013536676438524,
          0.44395915296041316,
          0.45770730583686964,
          0.4713632873473268,
          0.48491144915319867,
          0.4983370559400385,
          0.5116263012142919,
          0.5247663160810029,
          0.53774517152928,
          0.5505518747686988,
          0.5631763601671641,
          0.5756094753402797,
          0.5878429629348257,
          0.5998694386356328,
          0.6116823659069757,
          0.6232760279573436,
          0.6346454973911174,
          0.6457866039829496,
          0.6566959009812072,
          0.6673706303164717,
          0.6778086870600664,
          0.6880085834467683,
          0.6979694127452144,
          0.7076908132298156,
          0.7171729324791581,
          0.7264163921983764,
          0.7354222537368392,
          0.7441919844479105,
          0.7527274250146027,
          0.7610307578435744,
          0.7691044766103888,
          0.7769513570209472,
          0.7845744288377122,
          0.7919769492047104,
          0.7991623772920328,
          0.8061343502689903,
          0.8128966606046493,
          0.8194532346856039,
          0.8258081127329446,
          0.8319654299938243,
          0.8379293991773437,
          0.8437042940998458,
          0.849294434500883,
          0.8547041719881419,
          0.8599378770672179,
          0.8649999272105313,
          0.8698946959184523,
          0.8746265427251213,
          0.8791998041011936,
          0.8836187852059053,
          0.8878877524413329,
          0.89201092676245,
          0.8959924776975723,
          0.8998365180349399,
          0.9035470991324841,
          0.9071282068093097,
          0.9105837577788862,
          0.9139175965856304,
          0.9171334930081291,
          0.9202351398939992,
          0.9232261513930192,
          0.9261100615569122,
          0.9288903232757593,
          0.9315703075227766,
          0.9341533028806991,
          0.9366425153246679,
          0.9390410682380316,
          0.941352002638926,
          0.9435782775969689,
          0.9457227708207577,
          0.9477882793981357,
          0.9497775206725448,
          0.9516931332398676,
          0.9535376780513591,
          0.9553136396093508,
          0.9570234272433966,
          0.9586693764555141,
          0.9602537503240773,
          0.9617787409567603,
          0.9632464709837609,
          0.9646589950832523,
          0.9660183015317171,
          0.9673263137725207,
          0.9685848919966155,
          0.9697958347299228,
          0.9709608804223948,
          0.9720817090343157,
          0.973159943615824,
          0.9741971518760564,
          0.9751948477387443,
          0.9761544928814027,
          0.9770774982556474,
          0.9779652255864217,
          0.9788189888482395,
          0.9796400557168069,
          0.9804296489945855,
          0.9811889480091468,
          0.981919089983287,
          0.9826211713761148,
          0.9832962491944643,
          0.9839453422741261,
          0.9845694325305494
         ],
         "yaxis": "y2"
        }
       ],
       "layout": {
        "annotations": [
         {
          "font": {
           "size": 16
          },
          "showarrow": false,
          "text": "PDF comparison",
          "x": 0.225,
          "xanchor": "center",
          "xref": "paper",
          "y": 1,
          "yanchor": "bottom",
          "yref": "paper"
         },
         {
          "font": {
           "size": 16
          },
          "showarrow": false,
          "text": "CDF comparison",
          "x": 0.775,
          "xanchor": "center",
          "xref": "paper",
          "y": 1,
          "yanchor": "bottom",
          "yref": "paper"
         }
        ],
        "height": 350,
        "margin": {
         "b": 20,
         "l": 20,
         "r": 20,
         "t": 50
        },
        "template": {
         "data": {
          "bar": [
           {
            "error_x": {
             "color": "#2a3f5f"
            },
            "error_y": {
             "color": "#2a3f5f"
            },
            "marker": {
             "line": {
              "color": "#E5ECF6",
              "width": 0.5
             }
            },
            "type": "bar"
           }
          ],
          "barpolar": [
           {
            "marker": {
             "line": {
              "color": "#E5ECF6",
              "width": 0.5
             }
            },
            "type": "barpolar"
           }
          ],
          "carpet": [
           {
            "aaxis": {
             "endlinecolor": "#2a3f5f",
             "gridcolor": "white",
             "linecolor": "white",
             "minorgridcolor": "white",
             "startlinecolor": "#2a3f5f"
            },
            "baxis": {
             "endlinecolor": "#2a3f5f",
             "gridcolor": "white",
             "linecolor": "white",
             "minorgridcolor": "white",
             "startlinecolor": "#2a3f5f"
            },
            "type": "carpet"
           }
          ],
          "choropleth": [
           {
            "colorbar": {
             "outlinewidth": 0,
             "ticks": ""
            },
            "type": "choropleth"
           }
          ],
          "contour": [
           {
            "colorbar": {
             "outlinewidth": 0,
             "ticks": ""
            },
            "colorscale": [
             [
              0,
              "#0d0887"
             ],
             [
              0.1111111111111111,
              "#46039f"
             ],
             [
              0.2222222222222222,
              "#7201a8"
             ],
             [
              0.3333333333333333,
              "#9c179e"
             ],
             [
              0.4444444444444444,
              "#bd3786"
             ],
             [
              0.5555555555555556,
              "#d8576b"
             ],
             [
              0.6666666666666666,
              "#ed7953"
             ],
             [
              0.7777777777777778,
              "#fb9f3a"
             ],
             [
              0.8888888888888888,
              "#fdca26"
             ],
             [
              1,
              "#f0f921"
             ]
            ],
            "type": "contour"
           }
          ],
          "contourcarpet": [
           {
            "colorbar": {
             "outlinewidth": 0,
             "ticks": ""
            },
            "type": "contourcarpet"
           }
          ],
          "heatmap": [
           {
            "colorbar": {
             "outlinewidth": 0,
             "ticks": ""
            },
            "colorscale": [
             [
              0,
              "#0d0887"
             ],
             [
              0.1111111111111111,
              "#46039f"
             ],
             [
              0.2222222222222222,
              "#7201a8"
             ],
             [
              0.3333333333333333,
              "#9c179e"
             ],
             [
              0.4444444444444444,
              "#bd3786"
             ],
             [
              0.5555555555555556,
              "#d8576b"
             ],
             [
              0.6666666666666666,
              "#ed7953"
             ],
             [
              0.7777777777777778,
              "#fb9f3a"
             ],
             [
              0.8888888888888888,
              "#fdca26"
             ],
             [
              1,
              "#f0f921"
             ]
            ],
            "type": "heatmap"
           }
          ],
          "heatmapgl": [
           {
            "colorbar": {
             "outlinewidth": 0,
             "ticks": ""
            },
            "colorscale": [
             [
              0,
              "#0d0887"
             ],
             [
              0.1111111111111111,
              "#46039f"
             ],
             [
              0.2222222222222222,
              "#7201a8"
             ],
             [
              0.3333333333333333,
              "#9c179e"
             ],
             [
              0.4444444444444444,
              "#bd3786"
             ],
             [
              0.5555555555555556,
              "#d8576b"
             ],
             [
              0.6666666666666666,
              "#ed7953"
             ],
             [
              0.7777777777777778,
              "#fb9f3a"
             ],
             [
              0.8888888888888888,
              "#fdca26"
             ],
             [
              1,
              "#f0f921"
             ]
            ],
            "type": "heatmapgl"
           }
          ],
          "histogram": [
           {
            "marker": {
             "colorbar": {
              "outlinewidth": 0,
              "ticks": ""
             }
            },
            "type": "histogram"
           }
          ],
          "histogram2d": [
           {
            "colorbar": {
             "outlinewidth": 0,
             "ticks": ""
            },
            "colorscale": [
             [
              0,
              "#0d0887"
             ],
             [
              0.1111111111111111,
              "#46039f"
             ],
             [
              0.2222222222222222,
              "#7201a8"
             ],
             [
              0.3333333333333333,
              "#9c179e"
             ],
             [
              0.4444444444444444,
              "#bd3786"
             ],
             [
              0.5555555555555556,
              "#d8576b"
             ],
             [
              0.6666666666666666,
              "#ed7953"
             ],
             [
              0.7777777777777778,
              "#fb9f3a"
             ],
             [
              0.8888888888888888,
              "#fdca26"
             ],
             [
              1,
              "#f0f921"
             ]
            ],
            "type": "histogram2d"
           }
          ],
          "histogram2dcontour": [
           {
            "colorbar": {
             "outlinewidth": 0,
             "ticks": ""
            },
            "colorscale": [
             [
              0,
              "#0d0887"
             ],
             [
              0.1111111111111111,
              "#46039f"
             ],
             [
              0.2222222222222222,
              "#7201a8"
             ],
             [
              0.3333333333333333,
              "#9c179e"
             ],
             [
              0.4444444444444444,
              "#bd3786"
             ],
             [
              0.5555555555555556,
              "#d8576b"
             ],
             [
              0.6666666666666666,
              "#ed7953"
             ],
             [
              0.7777777777777778,
              "#fb9f3a"
             ],
             [
              0.8888888888888888,
              "#fdca26"
             ],
             [
              1,
              "#f0f921"
             ]
            ],
            "type": "histogram2dcontour"
           }
          ],
          "mesh3d": [
           {
            "colorbar": {
             "outlinewidth": 0,
             "ticks": ""
            },
            "type": "mesh3d"
           }
          ],
          "parcoords": [
           {
            "line": {
             "colorbar": {
              "outlinewidth": 0,
              "ticks": ""
             }
            },
            "type": "parcoords"
           }
          ],
          "pie": [
           {
            "automargin": true,
            "type": "pie"
           }
          ],
          "scatter": [
           {
            "marker": {
             "colorbar": {
              "outlinewidth": 0,
              "ticks": ""
             }
            },
            "type": "scatter"
           }
          ],
          "scatter3d": [
           {
            "line": {
             "colorbar": {
              "outlinewidth": 0,
              "ticks": ""
             }
            },
            "marker": {
             "colorbar": {
              "outlinewidth": 0,
              "ticks": ""
             }
            },
            "type": "scatter3d"
           }
          ],
          "scattercarpet": [
           {
            "marker": {
             "colorbar": {
              "outlinewidth": 0,
              "ticks": ""
             }
            },
            "type": "scattercarpet"
           }
          ],
          "scattergeo": [
           {
            "marker": {
             "colorbar": {
              "outlinewidth": 0,
              "ticks": ""
             }
            },
            "type": "scattergeo"
           }
          ],
          "scattergl": [
           {
            "marker": {
             "colorbar": {
              "outlinewidth": 0,
              "ticks": ""
             }
            },
            "type": "scattergl"
           }
          ],
          "scattermapbox": [
           {
            "marker": {
             "colorbar": {
              "outlinewidth": 0,
              "ticks": ""
             }
            },
            "type": "scattermapbox"
           }
          ],
          "scatterpolar": [
           {
            "marker": {
             "colorbar": {
              "outlinewidth": 0,
              "ticks": ""
             }
            },
            "type": "scatterpolar"
           }
          ],
          "scatterpolargl": [
           {
            "marker": {
             "colorbar": {
              "outlinewidth": 0,
              "ticks": ""
             }
            },
            "type": "scatterpolargl"
           }
          ],
          "scatterternary": [
           {
            "marker": {
             "colorbar": {
              "outlinewidth": 0,
              "ticks": ""
             }
            },
            "type": "scatterternary"
           }
          ],
          "surface": [
           {
            "colorbar": {
             "outlinewidth": 0,
             "ticks": ""
            },
            "colorscale": [
             [
              0,
              "#0d0887"
             ],
             [
              0.1111111111111111,
              "#46039f"
             ],
             [
              0.2222222222222222,
              "#7201a8"
             ],
             [
              0.3333333333333333,
              "#9c179e"
             ],
             [
              0.4444444444444444,
              "#bd3786"
             ],
             [
              0.5555555555555556,
              "#d8576b"
             ],
             [
              0.6666666666666666,
              "#ed7953"
             ],
             [
              0.7777777777777778,
              "#fb9f3a"
             ],
             [
              0.8888888888888888,
              "#fdca26"
             ],
             [
              1,
              "#f0f921"
             ]
            ],
            "type": "surface"
           }
          ],
          "table": [
           {
            "cells": {
             "fill": {
              "color": "#EBF0F8"
             },
             "line": {
              "color": "white"
             }
            },
            "header": {
             "fill": {
              "color": "#C8D4E3"
             },
             "line": {
              "color": "white"
             }
            },
            "type": "table"
           }
          ]
         },
         "layout": {
          "annotationdefaults": {
           "arrowcolor": "#2a3f5f",
           "arrowhead": 0,
           "arrowwidth": 1
          },
          "coloraxis": {
           "colorbar": {
            "outlinewidth": 0,
            "ticks": ""
           }
          },
          "colorscale": {
           "diverging": [
            [
             0,
             "#8e0152"
            ],
            [
             0.1,
             "#c51b7d"
            ],
            [
             0.2,
             "#de77ae"
            ],
            [
             0.3,
             "#f1b6da"
            ],
            [
             0.4,
             "#fde0ef"
            ],
            [
             0.5,
             "#f7f7f7"
            ],
            [
             0.6,
             "#e6f5d0"
            ],
            [
             0.7,
             "#b8e186"
            ],
            [
             0.8,
             "#7fbc41"
            ],
            [
             0.9,
             "#4d9221"
            ],
            [
             1,
             "#276419"
            ]
           ],
           "sequential": [
            [
             0,
             "#0d0887"
            ],
            [
             0.1111111111111111,
             "#46039f"
            ],
            [
             0.2222222222222222,
             "#7201a8"
            ],
            [
             0.3333333333333333,
             "#9c179e"
            ],
            [
             0.4444444444444444,
             "#bd3786"
            ],
            [
             0.5555555555555556,
             "#d8576b"
            ],
            [
             0.6666666666666666,
             "#ed7953"
            ],
            [
             0.7777777777777778,
             "#fb9f3a"
            ],
            [
             0.8888888888888888,
             "#fdca26"
            ],
            [
             1,
             "#f0f921"
            ]
           ],
           "sequentialminus": [
            [
             0,
             "#0d0887"
            ],
            [
             0.1111111111111111,
             "#46039f"
            ],
            [
             0.2222222222222222,
             "#7201a8"
            ],
            [
             0.3333333333333333,
             "#9c179e"
            ],
            [
             0.4444444444444444,
             "#bd3786"
            ],
            [
             0.5555555555555556,
             "#d8576b"
            ],
            [
             0.6666666666666666,
             "#ed7953"
            ],
            [
             0.7777777777777778,
             "#fb9f3a"
            ],
            [
             0.8888888888888888,
             "#fdca26"
            ],
            [
             1,
             "#f0f921"
            ]
           ]
          },
          "colorway": [
           "#636efa",
           "#EF553B",
           "#00cc96",
           "#ab63fa",
           "#FFA15A",
           "#19d3f3",
           "#FF6692",
           "#B6E880",
           "#FF97FF",
           "#FECB52"
          ],
          "font": {
           "color": "#2a3f5f"
          },
          "geo": {
           "bgcolor": "white",
           "lakecolor": "white",
           "landcolor": "#E5ECF6",
           "showlakes": true,
           "showland": true,
           "subunitcolor": "white"
          },
          "hoverlabel": {
           "align": "left"
          },
          "hovermode": "closest",
          "mapbox": {
           "style": "light"
          },
          "paper_bgcolor": "white",
          "plot_bgcolor": "#E5ECF6",
          "polar": {
           "angularaxis": {
            "gridcolor": "white",
            "linecolor": "white",
            "ticks": ""
           },
           "bgcolor": "#E5ECF6",
           "radialaxis": {
            "gridcolor": "white",
            "linecolor": "white",
            "ticks": ""
           }
          },
          "scene": {
           "xaxis": {
            "backgroundcolor": "#E5ECF6",
            "gridcolor": "white",
            "gridwidth": 2,
            "linecolor": "white",
            "showbackground": true,
            "ticks": "",
            "zerolinecolor": "white"
           },
           "yaxis": {
            "backgroundcolor": "#E5ECF6",
            "gridcolor": "white",
            "gridwidth": 2,
            "linecolor": "white",
            "showbackground": true,
            "ticks": "",
            "zerolinecolor": "white"
           },
           "zaxis": {
            "backgroundcolor": "#E5ECF6",
            "gridcolor": "white",
            "gridwidth": 2,
            "linecolor": "white",
            "showbackground": true,
            "ticks": "",
            "zerolinecolor": "white"
           }
          },
          "shapedefaults": {
           "line": {
            "color": "#2a3f5f"
           }
          },
          "ternary": {
           "aaxis": {
            "gridcolor": "white",
            "linecolor": "white",
            "ticks": ""
           },
           "baxis": {
            "gridcolor": "white",
            "linecolor": "white",
            "ticks": ""
           },
           "bgcolor": "#E5ECF6",
           "caxis": {
            "gridcolor": "white",
            "linecolor": "white",
            "ticks": ""
           }
          },
          "title": {
           "x": 0.05
          },
          "xaxis": {
           "automargin": true,
           "gridcolor": "white",
           "linecolor": "white",
           "ticks": "",
           "title": {
            "standoff": 15
           },
           "zerolinecolor": "white",
           "zerolinewidth": 2
          },
          "yaxis": {
           "automargin": true,
           "gridcolor": "white",
           "linecolor": "white",
           "ticks": "",
           "title": {
            "standoff": 15
           },
           "zerolinecolor": "white",
           "zerolinewidth": 2
          }
         }
        },
        "xaxis": {
         "anchor": "y",
         "domain": [
          0,
          0.45
         ],
         "linecolor": "black",
         "linewidth": 1.5,
         "mirror": true,
         "showline": true,
         "title": {
          "text": "Days"
         }
        },
        "xaxis2": {
         "anchor": "y2",
         "domain": [
          0.55,
          1
         ],
         "linecolor": "black",
         "linewidth": 1.5,
         "mirror": true,
         "showline": true,
         "title": {
          "text": "Days"
         }
        },
        "yaxis": {
         "anchor": "x",
         "domain": [
          0,
          1
         ],
         "linecolor": "black",
         "linewidth": 1.5,
         "mirror": true,
         "showline": true,
         "title": {
          "text": "Probability density"
         }
        },
        "yaxis2": {
         "anchor": "x2",
         "domain": [
          0,
          1
         ],
         "linecolor": "black",
         "linewidth": 1.5,
         "mirror": true,
         "showline": true,
         "title": {
          "text": "Probability"
         }
        }
       }
      },
      "text/html": [
       "<div>\n",
       "        \n",
       "        \n",
       "            <div id=\"28125df8-6cb7-4059-9fa8-ab9292b7d03e\" class=\"plotly-graph-div\" style=\"height:350px; width:100%;\"></div>\n",
       "            <script type=\"text/javascript\">\n",
       "                require([\"plotly\"], function(Plotly) {\n",
       "                    window.PLOTLYENV=window.PLOTLYENV || {};\n",
       "                    \n",
       "                if (document.getElementById(\"28125df8-6cb7-4059-9fa8-ab9292b7d03e\")) {\n",
       "                    Plotly.newPlot(\n",
       "                        '28125df8-6cb7-4059-9fa8-ab9292b7d03e',\n",
       "                        [{\"line\": {\"color\": \"rgb(31, 119, 180)\"}, \"mode\": \"lines\", \"name\": \"Skew normal\", \"showlegend\": true, \"type\": \"scatter\", \"x\": [0.0, 0.1, 0.2, 0.30000000000000004, 0.4, 0.5, 0.6000000000000001, 0.7000000000000001, 0.8, 0.9, 1.0, 1.1, 1.2000000000000002, 1.3, 1.4000000000000001, 1.5, 1.6, 1.7000000000000002, 1.8, 1.9000000000000001, 2.0, 2.1, 2.2, 2.3000000000000003, 2.4000000000000004, 2.5, 2.6, 2.7, 2.8000000000000003, 2.9000000000000004, 3.0, 3.1, 3.2, 3.3000000000000003, 3.4000000000000004, 3.5, 3.6, 3.7, 3.8000000000000003, 3.9000000000000004, 4.0, 4.1000000000000005, 4.2, 4.3, 4.4, 4.5, 4.6000000000000005, 4.7, 4.800000000000001, 4.9, 5.0, 5.1000000000000005, 5.2, 5.300000000000001, 5.4, 5.5, 5.6000000000000005, 5.7, 5.800000000000001, 5.9, 6.0, 6.1000000000000005, 6.2, 6.300000000000001, 6.4, 6.5, 6.6000000000000005, 6.7, 6.800000000000001, 6.9, 7.0, 7.1000000000000005, 7.2, 7.300000000000001, 7.4, 7.5, 7.6000000000000005, 7.7, 7.800000000000001, 7.9, 8.0, 8.1, 8.200000000000001, 8.3, 8.4, 8.5, 8.6, 8.700000000000001, 8.8, 8.9, 9.0, 9.1, 9.200000000000001, 9.3, 9.4, 9.5, 9.600000000000001, 9.700000000000001, 9.8, 9.9, 10.0, 10.100000000000001, 10.200000000000001, 10.3, 10.4, 10.5, 10.600000000000001, 10.700000000000001, 10.8, 10.9, 11.0, 11.100000000000001, 11.200000000000001, 11.3, 11.4, 11.5, 11.600000000000001, 11.700000000000001, 11.8, 11.9, 12.0, 12.100000000000001, 12.200000000000001, 12.3, 12.4, 12.5, 12.600000000000001, 12.700000000000001, 12.8, 12.9, 13.0, 13.100000000000001, 13.200000000000001, 13.3, 13.4, 13.5, 13.600000000000001, 13.700000000000001, 13.8, 13.9, 14.0, 14.100000000000001, 14.200000000000001, 14.3, 14.4, 14.5, 14.600000000000001, 14.700000000000001, 14.8, 14.9, 15.0, 15.100000000000001, 15.200000000000001, 15.3, 15.4, 15.5, 15.600000000000001, 15.700000000000001, 15.8, 15.9, 16.0, 16.1, 16.2, 16.3, 16.400000000000002, 16.5, 16.6, 16.7, 16.8, 16.900000000000002, 17.0, 17.1, 17.2, 17.3, 17.400000000000002, 17.5, 17.6, 17.7, 17.8, 17.900000000000002, 18.0, 18.1, 18.2, 18.3, 18.400000000000002, 18.5, 18.6, 18.7, 18.8, 18.900000000000002, 19.0, 19.1, 19.200000000000003, 19.3, 19.400000000000002, 19.5, 19.6, 19.700000000000003, 19.8, 19.900000000000002], \"xaxis\": \"x\", \"y\": [7.992900708649569e-07, 1.0693427239663152e-06, 1.4251528629264326e-06, 1.892080418635859e-06, 2.502378355651405e-06, 3.296881102777417e-06, 4.3270534632791786e-06, 5.657462699565655e-06, 7.36874377207368e-06, 9.561134935456907e-06, 1.2358667774652954e-05, 1.59141019475207e-05, 2.0414699964815813e-05, 2.6088940782579916e-05, 3.321427223332114e-05, 4.2126000739359775e-05, 5.322741163553295e-05, 6.700120403855353e-05, 8.402230977693742e-05, 0.0001049721456883755, 0.00013065432189619965, 0.00016201179487664396, 0.00020014541274411516, 0.00024633375092297284, 0.0003020540791986167, 0.00036900423630980466, 0.0004491251163805107, 0.0005446233936268802, 0.0006579940293995775, 0.0007920420207023849, 0.000949902764325714, 0.001135060328593536, 0.0013513628488371649, 0.001603034196858221, 0.0018946810228970365, 0.0022312942352230086, 0.0026182439716661565, 0.003061267133308015, 0.0035664465968710474, 0.004140181302232223, 0.004789146527272138, 0.005520243815260762, 0.0063405402102450995, 0.007257196682100181, 0.008277385882143228, 0.009408199657971537, 0.01065654706629919, 0.012029043947276857, 0.013531895453869975, 0.015170773254894123, 0.016950689438882262, 0.018875869426146916, 0.02094962643614625, 0.023174240244883036, 0.02555084309176462, 0.02807931564775635, 0.03075819592930317, 0.03358460393030092, 0.03655418454504482, 0.03966107106930766, 0.042897871198462674, 0.04625567699809028, 0.04972409981417412, 0.053291330530084925, 0.056944224981859734, 0.060668413729585466, 0.06444843477010169, 0.06826788718449121, 0.07210960316251502, 0.07595583535391419, 0.07978845608028654, 0.0835891646155523, 0.08733969851932702, 0.0910220448937516, 0.09461864743454192, 0.09811260526121926, 0.10148785973560273, 0.10472936580375962, 0.10782324481324226, 0.1107569162500813, 0.11351920639171968, 0.11610043246420851, 0.11849246150496089, 0.12068874374642555, 0.12268432093208828, 0.12447581053645332, 0.12606136736931609, 0.12744062448841859, 0.12861461571310512, 0.1295856823176395, 0.13035736668244707, 0.13093429579396743, 0.13132205751136694, 0.13152707246614098, 0.13155646433609966, 0.13141793104774827, 0.1311196192214466, 0.13067000389363317, 0.13007777524189593, 0.12935173371369146, 0.12850069462944774, 0.1275334030060737, 0.1264584590367618, 0.12528425437516097, 0.12401891911269095, 0.1226702791114815, 0.12124582316504413, 0.11975267930566183, 0.11819759946154393, 0.11658695158673651, 0.11492671834026738, 0.11322250137490049, 0.11147953030644864, 0.10970267546775578, 0.10789646360295471, 0.10606509572319214, 0.10421246642062262, 0.10234218401932516, 0.10045759102650273, 0.09856178443194044, 0.09665763548576115, 0.09474780866206345, 0.09283477958756953, 0.09092085177891582, 0.08900817208906893, 0.08709874481228086, 0.08519444443805381, 0.08329702707806073, 0.08140814061633896, 0.07952933365296282, 0.07766206332551054, 0.07580770210172064, 0.07396754364155003, 0.07214280782813254, 0.07033464506560168, 0.06854413993802017, 0.06677231431832985, 0.06502013000979501, 0.0632884909952903, 0.06157824536232951, 0.059890186964227085, 0.05822505687045121, 0.056583544652229235, 0.054966289542914396, 0.053373881506596964, 0.05180686224297511, 0.05026572615161169, 0.04875092127437785, 0.04726285023110451, 0.045801871160193006, 0.044368298673133896, 0.04296240482950752, 0.04158442013704346, 0.04023453457965395, 0.0389128986749881, 0.037619624561935475, 0.0363547871176081, 0.03511842510261267, 0.03391054233286091, 0.032731108875734716, 0.03158006226809579, 0.030457308753393995, 0.029362724534965072, 0.028296157042505765, 0.027257426208661322, 0.0262463257526454, 0.025262624467832506, 0.024306067510308192, 0.02337637768542786, 0.022473256729520327, 0.021596386583968497, 0.0207454306590087, 0.01992003508470819, 0.019119829946702756, 0.018344430504408444, 0.017593438389552574, 0.01686644278300669, 0.016163021568042835, 0.015482742458272183, 0.014825164098666563, 0.014189837138200856, 0.013576305272793795, 0.012984106257361013, 0.01241277288592871, 0.011861833938889533, 0.011330815096611015, 0.010819239818734299, 0.01032663018862362, 0.009852507722545893, 0.009396394143276154, 0.008957812117934463, 0.008536285959967454, 0.008131342295289319, 0.007742510692694172, 0.007369324258744442, 0.007011320197427192, 0.006668040334952283, 0.006339031610144238, 0.006023846530950932, 0.005722043597659843], \"yaxis\": \"y\"}, {\"line\": {\"color\": \"rgb(255, 127, 14)\", \"dash\": \"dash\"}, \"mode\": \"lines\", \"name\": \"Richards\", \"showlegend\": true, \"type\": \"scatter\", \"x\": [0.0, 0.1, 0.2, 0.30000000000000004, 0.4, 0.5, 0.6000000000000001, 0.7000000000000001, 0.8, 0.9, 1.0, 1.1, 1.2000000000000002, 1.3, 1.4000000000000001, 1.5, 1.6, 1.7000000000000002, 1.8, 1.9000000000000001, 2.0, 2.1, 2.2, 2.3000000000000003, 2.4000000000000004, 2.5, 2.6, 2.7, 2.8000000000000003, 2.9000000000000004, 3.0, 3.1, 3.2, 3.3000000000000003, 3.4000000000000004, 3.5, 3.6, 3.7, 3.8000000000000003, 3.9000000000000004, 4.0, 4.1000000000000005, 4.2, 4.3, 4.4, 4.5, 4.6000000000000005, 4.7, 4.800000000000001, 4.9, 5.0, 5.1000000000000005, 5.2, 5.300000000000001, 5.4, 5.5, 5.6000000000000005, 5.7, 5.800000000000001, 5.9, 6.0, 6.1000000000000005, 6.2, 6.300000000000001, 6.4, 6.5, 6.6000000000000005, 6.7, 6.800000000000001, 6.9, 7.0, 7.1000000000000005, 7.2, 7.300000000000001, 7.4, 7.5, 7.6000000000000005, 7.7, 7.800000000000001, 7.9, 8.0, 8.1, 8.200000000000001, 8.3, 8.4, 8.5, 8.6, 8.700000000000001, 8.8, 8.9, 9.0, 9.1, 9.200000000000001, 9.3, 9.4, 9.5, 9.600000000000001, 9.700000000000001, 9.8, 9.9, 10.0, 10.100000000000001, 10.200000000000001, 10.3, 10.4, 10.5, 10.600000000000001, 10.700000000000001, 10.8, 10.9, 11.0, 11.100000000000001, 11.200000000000001, 11.3, 11.4, 11.5, 11.600000000000001, 11.700000000000001, 11.8, 11.9, 12.0, 12.100000000000001, 12.200000000000001, 12.3, 12.4, 12.5, 12.600000000000001, 12.700000000000001, 12.8, 12.9, 13.0, 13.100000000000001, 13.200000000000001, 13.3, 13.4, 13.5, 13.600000000000001, 13.700000000000001, 13.8, 13.9, 14.0, 14.100000000000001, 14.200000000000001, 14.3, 14.4, 14.5, 14.600000000000001, 14.700000000000001, 14.8, 14.9, 15.0, 15.100000000000001, 15.200000000000001, 15.3, 15.4, 15.5, 15.600000000000001, 15.700000000000001, 15.8, 15.9, 16.0, 16.1, 16.2, 16.3, 16.400000000000002, 16.5, 16.6, 16.7, 16.8, 16.900000000000002, 17.0, 17.1, 17.2, 17.3, 17.400000000000002, 17.5, 17.6, 17.7, 17.8, 17.900000000000002, 18.0, 18.1, 18.2, 18.3, 18.400000000000002, 18.5, 18.6, 18.7, 18.8, 18.900000000000002, 19.0, 19.1, 19.200000000000003, 19.3, 19.400000000000002, 19.5, 19.6, 19.700000000000003, 19.8, 19.900000000000002], \"xaxis\": \"x\", \"y\": [3.190003734663556e-07, 4.270373986997606e-07, 5.7035271998773e-07, 7.599724942285207e-07, 1.010189048997662e-06, 1.3394650317899848e-06, 1.7715664290202695e-06, 2.3369754595371183e-06, 3.074643569865163e-06, 4.034155006147689e-06, 5.278382626459221e-06, 6.88672958269067e-06, 8.959062979582627e-06, 1.1620458224666077e-05, 1.502688498987349e-05, 1.937197682535087e-05, 2.4895035634238132e-05, 3.18904283846616e-05, 4.0718535368438775e-05, 5.1818405610659884e-05, 6.572226414422877e-05, 8.307199614876812e-05, 0.00010463770274978437, 0.00013133838098533063, 0.0001642647246600861, 0.00020470397242632285, 0.0002541666438348293, 0.00031441490329838797, 0.00038749217671573116, 0.00047575351767471823, 0.0005818960825251672, 0.0007089889301796982, 0.0008605012184464825, 0.0010403277303421723, 0.001252810538504644, 0.0015027555116329822, 0.0017954422923953431, 0.0021366263400783114, 0.002532531641575815, 0.0029898327583135864, 0.0035156249999999992, 0.004117381702194791, 0.004802897834483316, 0.005580219477405474, 0.006457559073796276, 0.007443196775056634, 0.00854536865302995, 0.009772143018617492, 0.011131286561625936, 0.012630122483542163, 0.014275383216128312, 0.016073060684306313, 0.01802825736340603, 0.020145041582439578, 0.022426310623835106, 0.024873665157266075, 0.027487298416704425, 0.030265903286445277, 0.03320660010944684, 0.03630488758054542, 0.03955461855292243, 0.04294800198716449, 0.04647563162961932, 0.05012654134339585, 0.053888286354719525, 0.05774704904231687, 0.06168776730936436, 0.06569428305511758, 0.06974950782222838, 0.07383560234780147, 0.07793416649920837, 0.08202643593315986, 0.08609348177807256, 0.09011640970112718, 0.0940765548750438, 0.09795566959521146, 0.1017361006029673, 0.10540095353169213, 0.10893424229434263, 0.1123210216593336, 0.1155475017020191, 0.11860114325803484, 0.12147073393043348, 0.1241464446044684, 0.12661986679348797, 0.1288840314700164, 0.1309334103229805, 0.13276390062228388, 0.1343727950643446, 0.13575873811714484, 0.13692167048245343, 0.1378627633489275, 0.13858434412639026, 0.13908981533293757, 0.13938356825728143, 0.13947089294372303, 0.1393578859512135, 0.1390513572258492, 0.1385587373023454, 0.13788798591869675, 0.13704750299311508, 0.13604604277674717, 0.13489263186244788, 0.13359649160139359, 0.13216696535747285, 0.1306134509156566, 0.1289453382559999, 0.12717195281026414, 0.1253025042337509, 0.12334604065090868, 0.12131140826947728, 0.1192072162040418, 0.1170418063054032, 0.114823227756535, 0.11255921616841538, 0.11025717688896082, 0.10792417222489412, 0.10556691226888397, 0.1031917490219473, 0.10080467350318363, 0.09841131554471808, 0.09601694597862558, 0.09362648093399646, 0.09124448797563817, 0.08887519383070693, 0.08652249346538647, 0.08418996029020832, 0.08188085728940224, 0.07959814888650278, 0.07734451337508155, 0.07512235575973145, 0.07293382086814323, 0.07078080661016503, 0.06866497727402898, 0.06658777676340133, 0.0645504416915192, 0.06255401426039474, 0.06059935486389204, 0.058687154363413464, 0.05681794599399772, 0.05499211686684735, 0.05320991904171228, 0.05147148014919108, 0.04977681354891582, 0.04812582801481086, 0.046518336943195626, 0.04495406708349668, 0.04343266679478031, 0.04195371383426601, 0.04051672268647554, 0.03912115144375366, 0.03776640825060686, 0.036451857325683804, 0.03517682457629978, 0.03394060282122411, 0.03274245663803131, 0.03158162685169672, 0.030457334681318015, 0.02936878556189172, 0.028315172657990738, 0.027295680085992303, 0.02630948586121735, 0.025355764585973734, 0.02443368989406514, 0.02354243666684625, 0.02268118303538159, 0.021849112182715087, 0.0210454139596847, 0.02026928632712921, 0.019519936636741952, 0.01879658276223023, 0.01809845409184715, 0.017424792392778537, 0.016774852557291657, 0.016147903239992455, 0.015543227394990936, 0.014960122721245991, 0.014397902023850603, 0.013855893498526816, 0.013333440946129937, 0.012829903923510197, 0.012344657836651719, 0.011877093981599484, 0.011426619538296894, 0.01099265752208982, 0.010574646697304395, 0.010172041456978639, 0.009784311672518609, 0.009410942516758565, 0.009051434263632424, 0.008705302067406728, 0.008372075724185905, 0.008051299418176491, 0.007742531454986777, 0.007445343984043612, 0.007159322712025644, 0.0068840666090428685, 0.0066191876091350995, 0.00636431030651589, 0.006119071648852526], \"yaxis\": \"y\"}, {\"line\": {\"color\": \"rgb(31, 119, 180)\"}, \"mode\": \"lines\", \"name\": \"Skew normal\", \"showlegend\": false, \"type\": \"scatter\", \"x\": [0.0, 0.1, 0.2, 0.30000000000000004, 0.4, 0.5, 0.6000000000000001, 0.7000000000000001, 0.8, 0.9, 1.0, 1.1, 1.2000000000000002, 1.3, 1.4000000000000001, 1.5, 1.6, 1.7000000000000002, 1.8, 1.9000000000000001, 2.0, 2.1, 2.2, 2.3000000000000003, 2.4000000000000004, 2.5, 2.6, 2.7, 2.8000000000000003, 2.9000000000000004, 3.0, 3.1, 3.2, 3.3000000000000003, 3.4000000000000004, 3.5, 3.6, 3.7, 3.8000000000000003, 3.9000000000000004, 4.0, 4.1000000000000005, 4.2, 4.3, 4.4, 4.5, 4.6000000000000005, 4.7, 4.800000000000001, 4.9, 5.0, 5.1000000000000005, 5.2, 5.300000000000001, 5.4, 5.5, 5.6000000000000005, 5.7, 5.800000000000001, 5.9, 6.0, 6.1000000000000005, 6.2, 6.300000000000001, 6.4, 6.5, 6.6000000000000005, 6.7, 6.800000000000001, 6.9, 7.0, 7.1000000000000005, 7.2, 7.300000000000001, 7.4, 7.5, 7.6000000000000005, 7.7, 7.800000000000001, 7.9, 8.0, 8.1, 8.200000000000001, 8.3, 8.4, 8.5, 8.6, 8.700000000000001, 8.8, 8.9, 9.0, 9.1, 9.200000000000001, 9.3, 9.4, 9.5, 9.600000000000001, 9.700000000000001, 9.8, 9.9, 10.0, 10.100000000000001, 10.200000000000001, 10.3, 10.4, 10.5, 10.600000000000001, 10.700000000000001, 10.8, 10.9, 11.0, 11.100000000000001, 11.200000000000001, 11.3, 11.4, 11.5, 11.600000000000001, 11.700000000000001, 11.8, 11.9, 12.0, 12.100000000000001, 12.200000000000001, 12.3, 12.4, 12.5, 12.600000000000001, 12.700000000000001, 12.8, 12.9, 13.0, 13.100000000000001, 13.200000000000001, 13.3, 13.4, 13.5, 13.600000000000001, 13.700000000000001, 13.8, 13.9, 14.0, 14.100000000000001, 14.200000000000001, 14.3, 14.4, 14.5, 14.600000000000001, 14.700000000000001, 14.8, 14.9, 15.0, 15.100000000000001, 15.200000000000001, 15.3, 15.4, 15.5, 15.600000000000001, 15.700000000000001, 15.8, 15.9, 16.0, 16.1, 16.2, 16.3, 16.400000000000002, 16.5, 16.6, 16.7, 16.8, 16.900000000000002, 17.0, 17.1, 17.2, 17.3, 17.400000000000002, 17.5, 17.6, 17.7, 17.8, 17.900000000000002, 18.0, 18.1, 18.2, 18.3, 18.400000000000002, 18.5, 18.6, 18.7, 18.8, 18.900000000000002, 19.0, 19.1, 19.200000000000003, 19.3, 19.400000000000002, 19.5, 19.6, 19.700000000000003, 19.8, 19.900000000000002], \"xaxis\": \"x2\", \"y\": [2.619154881951715e-07, 3.5472267309657457e-07, 4.786365241004574e-07, 6.434495352988162e-07, 8.618221252964965e-07, 1.1500536003466443e-06, 1.5290394921694561e-06, 2.025454431369675e-06, 2.6732060932521093e-06, 3.515213850181633e-06, 4.6055726605004075e-06, 6.012172570551948e-06, 7.819852852877339e-06, 1.0134179730869983e-05, 1.3085946572804025e-05, 1.6836505388090826e-05, 2.1584048079629164e-05, 2.7570964808106236e-05, 3.509241454178211e-05, 4.4506248857559706e-05, 5.624443371187711e-05, 7.08261145325799e-05, 8.88724668596216e-05, 0.00011112346710844319, 0.00013845670505334255, 0.0001719083405476732, 0.00021269628107567859, 0.0002622456233119915, 0.0003222163604197634, 0.00039453330699014936, 0.0004814181351789968, 0.0005854233488660817, 0.0007094679480005191, 0.0008568744535145221, 0.0010314068754915633, 0.0012373091152858952, 0.0014793431980563846, 0.0017628266381657294, 0.0020936681489663795, 0.002478400823851804, 0.0029242118405773234, 0.0034389676794129905, 0.004031233801416916, 0.004710287709684154, 0.005486124317294998, 0.006369452573950254, 0.0073716823614967545, 0.008504900758573249, 0.009781836897457393, 0.011215814791892535, 0.012820693702146052, 0.014610795820566305, 0.016600821304015037, 0.018805750944125506, 0.021240737046609344, 0.023920983380036804, 0.026861615345018144, 0.030077541798274605, 0.033583310234074994, 0.03739295726922672, 0.041519856588775904, 0.04597656667987784, 0.05077468080390877, 0.0559246817259937, 0.06143580373225226, 0.06731590441563688, 0.07357134860027634, 0.0802069066029237, 0.08722566880147128, 0.09462897819953126, 0.10241638234956685, 0.11058560563333526, 0.11913254250713283, 0.1280512719111375, 0.13733409262825116, 0.14697157896969495, 0.1569526557734201, 0.16726469133780664, 0.1778936065867746, 0.1888239984816794, 0.2000392754669829, 0.21152180256565659, 0.22325305362966733, 0.23521376820179604, 0.24738411045661285, 0.25974382775794225, 0.2722724064932494, 0.28494922301618175, 0.29775368773999766, 0.3106653806688919, 0.32366417692279437, 0.3367303610953935, 0.3498447295762702, 0.36298868025787806, 0.3761442893290517, 0.38929437512197645, 0.4024225492233626, 0.41551325527828814, 0.42855179610336286, 0.4415243498822843, 0.4544179763404302, 0.467220613885886, 0.4799210687632435, 0.4925089972954937, 0.5049748822909155, 0.5173100046691399, 0.5295064113169896, 0.5415568801239337, 0.5534548830728019, 0.5651945481774, 0.5767706209683858, 0.5881784261353643, 0.5994138298395207, 0.6104732031196954, 0.6213533867276516, 0.6320516576470289, 0.6425656974763103, 0.6528935627898595, 0.6630336575331842, 0.6729847074591481, 0.6827457365707978, 0.6923160455033882, 0.7016951917525793, 0.710882971636989, 0.7198794038705418, 0.728684714612623, 0.7372993238611117, 0.7457238330541346, 0.7539590137501663, 0.7620057972621694, 0.7698652651292442, 0.7775386403181811, 0.7850272790569197, 0.7923326632118308, 0.7994563931306365, 0.8064001808824001, 0.8131658438351961, 0.8197552985206402, 0.8261705547423605, 0.8324137098926487, 0.8384869434479487, 0.8443925116195089, 0.8501327421404763, 0.8557100291749871, 0.8611268283384478, 0.8663856518212824, 0.8714890636109589, 0.876439674809212, 0.881240139043059, 0.8858931479695443, 0.890401426875176, 0.8947677303717914, 0.8989948381911465, 0.9030855510808913, 0.907042686804815, 0.9108690762503483, 0.9145675596462927, 0.9181409828936783, 0.9215921940124913, 0.9249240397068189, 0.928139362050727, 0.9312409952969156, 0.9342317628099204, 0.9371144741253273, 0.9398919221361685, 0.9425668804073495, 0.9451421006186678, 0.9476203101366591, 0.9500042097152266, 0.9522964713247036, 0.9544997361087307, 0.9566166124680486, 0.9586496742700461, 0.9606014591826709, 0.9624744671310493, 0.9642711588749648, 0.9659939547051198, 0.967645233255915, 0.9692273304323071, 0.9707425384481222, 0.9721931049730668, 0.9735812323855282, 0.9749090771281324, 0.9761787491629219, 0.9773923115229046, 0.9785517799566549, 0.9796591226625646, 0.9807162601092859, 0.9817250649388564, 0.9826873619489681, 0.9836049281508087, 0.9844794928988932, 0.9853127380893035, 0.9861062984227518, 0.9868617617289068, 0.9875806693484479, 0.9882645165693351, 0.9889147531138349, 0.9895327836728888, 0.9901199684844589], \"yaxis\": \"y2\"}, {\"line\": {\"color\": \"rgb(255, 127, 14)\", \"dash\": \"dash\"}, \"mode\": \"lines\", \"name\": \"Richards\", \"showlegend\": false, \"type\": \"scatter\", \"x\": [0.0, 0.1, 0.2, 0.30000000000000004, 0.4, 0.5, 0.6000000000000001, 0.7000000000000001, 0.8, 0.9, 1.0, 1.1, 1.2000000000000002, 1.3, 1.4000000000000001, 1.5, 1.6, 1.7000000000000002, 1.8, 1.9000000000000001, 2.0, 2.1, 2.2, 2.3000000000000003, 2.4000000000000004, 2.5, 2.6, 2.7, 2.8000000000000003, 2.9000000000000004, 3.0, 3.1, 3.2, 3.3000000000000003, 3.4000000000000004, 3.5, 3.6, 3.7, 3.8000000000000003, 3.9000000000000004, 4.0, 4.1000000000000005, 4.2, 4.3, 4.4, 4.5, 4.6000000000000005, 4.7, 4.800000000000001, 4.9, 5.0, 5.1000000000000005, 5.2, 5.300000000000001, 5.4, 5.5, 5.6000000000000005, 5.7, 5.800000000000001, 5.9, 6.0, 6.1000000000000005, 6.2, 6.300000000000001, 6.4, 6.5, 6.6000000000000005, 6.7, 6.800000000000001, 6.9, 7.0, 7.1000000000000005, 7.2, 7.300000000000001, 7.4, 7.5, 7.6000000000000005, 7.7, 7.800000000000001, 7.9, 8.0, 8.1, 8.200000000000001, 8.3, 8.4, 8.5, 8.6, 8.700000000000001, 8.8, 8.9, 9.0, 9.1, 9.200000000000001, 9.3, 9.4, 9.5, 9.600000000000001, 9.700000000000001, 9.8, 9.9, 10.0, 10.100000000000001, 10.200000000000001, 10.3, 10.4, 10.5, 10.600000000000001, 10.700000000000001, 10.8, 10.9, 11.0, 11.100000000000001, 11.200000000000001, 11.3, 11.4, 11.5, 11.600000000000001, 11.700000000000001, 11.8, 11.9, 12.0, 12.100000000000001, 12.200000000000001, 12.3, 12.4, 12.5, 12.600000000000001, 12.700000000000001, 12.8, 12.9, 13.0, 13.100000000000001, 13.200000000000001, 13.3, 13.4, 13.5, 13.600000000000001, 13.700000000000001, 13.8, 13.9, 14.0, 14.100000000000001, 14.200000000000001, 14.3, 14.4, 14.5, 14.600000000000001, 14.700000000000001, 14.8, 14.9, 15.0, 15.100000000000001, 15.200000000000001, 15.3, 15.4, 15.5, 15.600000000000001, 15.700000000000001, 15.8, 15.9, 16.0, 16.1, 16.2, 16.3, 16.400000000000002, 16.5, 16.6, 16.7, 16.8, 16.900000000000002, 17.0, 17.1, 17.2, 17.3, 17.400000000000002, 17.5, 17.6, 17.7, 17.8, 17.900000000000002, 18.0, 18.1, 18.2, 18.3, 18.400000000000002, 18.5, 18.6, 18.7, 18.8, 18.900000000000002, 19.0, 19.1, 19.200000000000003, 19.3, 19.400000000000002, 19.5, 19.6, 19.700000000000003, 19.8, 19.900000000000002], \"xaxis\": \"x2\", \"y\": [1.065015105856133e-07, 1.435481555328672e-07, 1.9308212211238166e-07, 2.591585766805508e-07, 3.4709191006163977e-07, 4.638258449820393e-07, 6.184050125326233e-07, 8.225733623909312e-07, 1.0915303244128463e-06, 1.4448821660129586e-06, 1.9078335893907396e-06, 2.5126733717610025e-06, 3.300617835715478e-06, 4.324087178807389e-06, 5.649502179111224e-06, 7.360702453957516e-06, 9.56310213185691e-06, 1.2388714256747596e-05, 1.600219111888034e-05, 2.060804350558282e-05, 2.6459216947664882e-05, 3.386721660340092e-05, 4.321398350603076e-05, 5.496573237285682e-05, 6.968896375301858e-05, 8.806885956904432e-05, 0.00011093025958925487, 0.00013926139552703924, 0.00017424052781173216, 0.0002172655862543494, 0.00026998685870872115, 0.0003343427006145838, 0.00041259815267281484, 0.0005073862540889788, 0.0006217517257583863, 0.0007591965731567616, 0.0009237270250853584, 0.0011199010852005408, 0.0013528758326821749, 0.001628453471481371, 0.001953125, 0.0023341102609171463, 0.002779393040539764, 0.0032977498248061227, 0.0038987707908244465, 0.0045928716237888, 0.005391294803438178, 0.006306099104715398, 0.007350136205116869, 0.008537013485750844, 0.00988104235173394, 0.011397171675666515, 0.013100906279042236, 0.015008210702343535, 0.017135398865578192, 0.01949901057637193, 0.02211567619103711, 0.0250019710637222, 0.028174261718573717, 0.03164854593939887, 0.035440289181488546, 0.039564259863600286, 0.04403436618917305, 0.048863497171423194, 0.05406337049615434, 0.059644389750327806, 0.0656155133773272, 0.07198413749706453, 0.0787559944580009, 0.08593506867753767, 0.09352353098683266, 0.10152169233618895, 0.10992797734823977, 0.11873891783842361, 0.12794916606532206, 0.13755152713610014, 0.14753700968207, 0.1578948936426271, 0.16861281375729356, 0.17967685716871093, 0.19107167338610248, 0.20278059474945376, 0.21478576546873326, 0.22706827728799786, 0.23960830983839776, 0.252385273793311, 0.26537795501898054, 0.27856465802052355, 0.29192334711132123, 0.3054317838788061, 0.3190676596768326, 0.3328087220397409, 0.34663289408173087, 0.36051838611353687, 0.3744437988733348, 0.38838821792748734, 0.40233129894684194, 0.4162533437039486, 0.43013536676438524, 0.44395915296041316, 0.45770730583686964, 0.4713632873473268, 0.48491144915319867, 0.4983370559400385, 0.5116263012142919, 0.5247663160810029, 0.53774517152928, 0.5505518747686988, 0.5631763601671641, 0.5756094753402797, 0.5878429629348257, 0.5998694386356328, 0.6116823659069757, 0.6232760279573436, 0.6346454973911174, 0.6457866039829496, 0.6566959009812072, 0.6673706303164717, 0.6778086870600664, 0.6880085834467683, 0.6979694127452144, 0.7076908132298156, 0.7171729324791581, 0.7264163921983764, 0.7354222537368392, 0.7441919844479105, 0.7527274250146027, 0.7610307578435744, 0.7691044766103888, 0.7769513570209472, 0.7845744288377122, 0.7919769492047104, 0.7991623772920328, 0.8061343502689903, 0.8128966606046493, 0.8194532346856039, 0.8258081127329446, 0.8319654299938243, 0.8379293991773437, 0.8437042940998458, 0.849294434500883, 0.8547041719881419, 0.8599378770672179, 0.8649999272105313, 0.8698946959184523, 0.8746265427251213, 0.8791998041011936, 0.8836187852059053, 0.8878877524413329, 0.89201092676245, 0.8959924776975723, 0.8998365180349399, 0.9035470991324841, 0.9071282068093097, 0.9105837577788862, 0.9139175965856304, 0.9171334930081291, 0.9202351398939992, 0.9232261513930192, 0.9261100615569122, 0.9288903232757593, 0.9315703075227766, 0.9341533028806991, 0.9366425153246679, 0.9390410682380316, 0.941352002638926, 0.9435782775969689, 0.9457227708207577, 0.9477882793981357, 0.9497775206725448, 0.9516931332398676, 0.9535376780513591, 0.9553136396093508, 0.9570234272433966, 0.9586693764555141, 0.9602537503240773, 0.9617787409567603, 0.9632464709837609, 0.9646589950832523, 0.9660183015317171, 0.9673263137725207, 0.9685848919966155, 0.9697958347299228, 0.9709608804223948, 0.9720817090343157, 0.973159943615824, 0.9741971518760564, 0.9751948477387443, 0.9761544928814027, 0.9770774982556474, 0.9779652255864217, 0.9788189888482395, 0.9796400557168069, 0.9804296489945855, 0.9811889480091468, 0.981919089983287, 0.9826211713761148, 0.9832962491944643, 0.9839453422741261, 0.9845694325305494], \"yaxis\": \"y2\"}],\n",
       "                        {\"annotations\": [{\"font\": {\"size\": 16}, \"showarrow\": false, \"text\": \"PDF comparison\", \"x\": 0.225, \"xanchor\": \"center\", \"xref\": \"paper\", \"y\": 1.0, \"yanchor\": \"bottom\", \"yref\": \"paper\"}, {\"font\": {\"size\": 16}, \"showarrow\": false, \"text\": \"CDF comparison\", \"x\": 0.775, \"xanchor\": \"center\", \"xref\": \"paper\", \"y\": 1.0, \"yanchor\": \"bottom\", \"yref\": \"paper\"}], \"height\": 350, \"margin\": {\"b\": 20, \"l\": 20, \"r\": 20, \"t\": 50}, \"template\": {\"data\": {\"bar\": [{\"error_x\": {\"color\": \"#2a3f5f\"}, \"error_y\": {\"color\": \"#2a3f5f\"}, \"marker\": {\"line\": {\"color\": \"#E5ECF6\", \"width\": 0.5}}, \"type\": \"bar\"}], \"barpolar\": [{\"marker\": {\"line\": {\"color\": \"#E5ECF6\", \"width\": 0.5}}, \"type\": \"barpolar\"}], \"carpet\": [{\"aaxis\": {\"endlinecolor\": \"#2a3f5f\", \"gridcolor\": \"white\", \"linecolor\": \"white\", \"minorgridcolor\": \"white\", \"startlinecolor\": \"#2a3f5f\"}, \"baxis\": {\"endlinecolor\": \"#2a3f5f\", \"gridcolor\": \"white\", \"linecolor\": \"white\", \"minorgridcolor\": \"white\", \"startlinecolor\": \"#2a3f5f\"}, \"type\": \"carpet\"}], \"choropleth\": [{\"colorbar\": {\"outlinewidth\": 0, \"ticks\": \"\"}, \"type\": \"choropleth\"}], \"contour\": [{\"colorbar\": {\"outlinewidth\": 0, \"ticks\": \"\"}, \"colorscale\": [[0.0, \"#0d0887\"], [0.1111111111111111, \"#46039f\"], [0.2222222222222222, \"#7201a8\"], [0.3333333333333333, \"#9c179e\"], [0.4444444444444444, \"#bd3786\"], [0.5555555555555556, \"#d8576b\"], [0.6666666666666666, \"#ed7953\"], [0.7777777777777778, \"#fb9f3a\"], [0.8888888888888888, \"#fdca26\"], [1.0, \"#f0f921\"]], \"type\": \"contour\"}], \"contourcarpet\": [{\"colorbar\": {\"outlinewidth\": 0, \"ticks\": \"\"}, \"type\": \"contourcarpet\"}], \"heatmap\": [{\"colorbar\": {\"outlinewidth\": 0, \"ticks\": \"\"}, \"colorscale\": [[0.0, \"#0d0887\"], [0.1111111111111111, \"#46039f\"], [0.2222222222222222, \"#7201a8\"], [0.3333333333333333, \"#9c179e\"], [0.4444444444444444, \"#bd3786\"], [0.5555555555555556, \"#d8576b\"], [0.6666666666666666, \"#ed7953\"], [0.7777777777777778, \"#fb9f3a\"], [0.8888888888888888, \"#fdca26\"], [1.0, \"#f0f921\"]], \"type\": \"heatmap\"}], \"heatmapgl\": [{\"colorbar\": {\"outlinewidth\": 0, \"ticks\": \"\"}, \"colorscale\": [[0.0, \"#0d0887\"], [0.1111111111111111, \"#46039f\"], [0.2222222222222222, \"#7201a8\"], [0.3333333333333333, \"#9c179e\"], [0.4444444444444444, \"#bd3786\"], [0.5555555555555556, \"#d8576b\"], [0.6666666666666666, \"#ed7953\"], [0.7777777777777778, \"#fb9f3a\"], [0.8888888888888888, \"#fdca26\"], [1.0, \"#f0f921\"]], \"type\": \"heatmapgl\"}], \"histogram\": [{\"marker\": {\"colorbar\": {\"outlinewidth\": 0, \"ticks\": \"\"}}, \"type\": \"histogram\"}], \"histogram2d\": [{\"colorbar\": {\"outlinewidth\": 0, \"ticks\": \"\"}, \"colorscale\": [[0.0, \"#0d0887\"], [0.1111111111111111, \"#46039f\"], [0.2222222222222222, \"#7201a8\"], [0.3333333333333333, \"#9c179e\"], [0.4444444444444444, \"#bd3786\"], [0.5555555555555556, \"#d8576b\"], [0.6666666666666666, \"#ed7953\"], [0.7777777777777778, \"#fb9f3a\"], [0.8888888888888888, \"#fdca26\"], [1.0, \"#f0f921\"]], \"type\": \"histogram2d\"}], \"histogram2dcontour\": [{\"colorbar\": {\"outlinewidth\": 0, \"ticks\": \"\"}, \"colorscale\": [[0.0, \"#0d0887\"], [0.1111111111111111, \"#46039f\"], [0.2222222222222222, \"#7201a8\"], [0.3333333333333333, \"#9c179e\"], [0.4444444444444444, \"#bd3786\"], [0.5555555555555556, \"#d8576b\"], [0.6666666666666666, \"#ed7953\"], [0.7777777777777778, \"#fb9f3a\"], [0.8888888888888888, \"#fdca26\"], [1.0, \"#f0f921\"]], \"type\": \"histogram2dcontour\"}], \"mesh3d\": [{\"colorbar\": {\"outlinewidth\": 0, \"ticks\": \"\"}, \"type\": \"mesh3d\"}], \"parcoords\": [{\"line\": {\"colorbar\": {\"outlinewidth\": 0, \"ticks\": \"\"}}, \"type\": \"parcoords\"}], \"pie\": [{\"automargin\": true, \"type\": \"pie\"}], \"scatter\": [{\"marker\": {\"colorbar\": {\"outlinewidth\": 0, \"ticks\": \"\"}}, \"type\": \"scatter\"}], \"scatter3d\": [{\"line\": {\"colorbar\": {\"outlinewidth\": 0, \"ticks\": \"\"}}, \"marker\": {\"colorbar\": {\"outlinewidth\": 0, \"ticks\": \"\"}}, \"type\": \"scatter3d\"}], \"scattercarpet\": [{\"marker\": {\"colorbar\": {\"outlinewidth\": 0, \"ticks\": \"\"}}, \"type\": \"scattercarpet\"}], \"scattergeo\": [{\"marker\": {\"colorbar\": {\"outlinewidth\": 0, \"ticks\": \"\"}}, \"type\": \"scattergeo\"}], \"scattergl\": [{\"marker\": {\"colorbar\": {\"outlinewidth\": 0, \"ticks\": \"\"}}, \"type\": \"scattergl\"}], \"scattermapbox\": [{\"marker\": {\"colorbar\": {\"outlinewidth\": 0, \"ticks\": \"\"}}, \"type\": \"scattermapbox\"}], \"scatterpolar\": [{\"marker\": {\"colorbar\": {\"outlinewidth\": 0, \"ticks\": \"\"}}, \"type\": \"scatterpolar\"}], \"scatterpolargl\": [{\"marker\": {\"colorbar\": {\"outlinewidth\": 0, \"ticks\": \"\"}}, \"type\": \"scatterpolargl\"}], \"scatterternary\": [{\"marker\": {\"colorbar\": {\"outlinewidth\": 0, \"ticks\": \"\"}}, \"type\": \"scatterternary\"}], \"surface\": [{\"colorbar\": {\"outlinewidth\": 0, \"ticks\": \"\"}, \"colorscale\": [[0.0, \"#0d0887\"], [0.1111111111111111, \"#46039f\"], [0.2222222222222222, \"#7201a8\"], [0.3333333333333333, \"#9c179e\"], [0.4444444444444444, \"#bd3786\"], [0.5555555555555556, \"#d8576b\"], [0.6666666666666666, \"#ed7953\"], [0.7777777777777778, \"#fb9f3a\"], [0.8888888888888888, \"#fdca26\"], [1.0, \"#f0f921\"]], \"type\": \"surface\"}], \"table\": [{\"cells\": {\"fill\": {\"color\": \"#EBF0F8\"}, \"line\": {\"color\": \"white\"}}, \"header\": {\"fill\": {\"color\": \"#C8D4E3\"}, \"line\": {\"color\": \"white\"}}, \"type\": \"table\"}]}, \"layout\": {\"annotationdefaults\": {\"arrowcolor\": \"#2a3f5f\", \"arrowhead\": 0, \"arrowwidth\": 1}, \"coloraxis\": {\"colorbar\": {\"outlinewidth\": 0, \"ticks\": \"\"}}, \"colorscale\": {\"diverging\": [[0, \"#8e0152\"], [0.1, \"#c51b7d\"], [0.2, \"#de77ae\"], [0.3, \"#f1b6da\"], [0.4, \"#fde0ef\"], [0.5, \"#f7f7f7\"], [0.6, \"#e6f5d0\"], [0.7, \"#b8e186\"], [0.8, \"#7fbc41\"], [0.9, \"#4d9221\"], [1, \"#276419\"]], \"sequential\": [[0.0, \"#0d0887\"], [0.1111111111111111, \"#46039f\"], [0.2222222222222222, \"#7201a8\"], [0.3333333333333333, \"#9c179e\"], [0.4444444444444444, \"#bd3786\"], [0.5555555555555556, \"#d8576b\"], [0.6666666666666666, \"#ed7953\"], [0.7777777777777778, \"#fb9f3a\"], [0.8888888888888888, \"#fdca26\"], [1.0, \"#f0f921\"]], \"sequentialminus\": [[0.0, \"#0d0887\"], [0.1111111111111111, \"#46039f\"], [0.2222222222222222, \"#7201a8\"], [0.3333333333333333, \"#9c179e\"], [0.4444444444444444, \"#bd3786\"], [0.5555555555555556, \"#d8576b\"], [0.6666666666666666, \"#ed7953\"], [0.7777777777777778, \"#fb9f3a\"], [0.8888888888888888, \"#fdca26\"], [1.0, \"#f0f921\"]]}, \"colorway\": [\"#636efa\", \"#EF553B\", \"#00cc96\", \"#ab63fa\", \"#FFA15A\", \"#19d3f3\", \"#FF6692\", \"#B6E880\", \"#FF97FF\", \"#FECB52\"], \"font\": {\"color\": \"#2a3f5f\"}, \"geo\": {\"bgcolor\": \"white\", \"lakecolor\": \"white\", \"landcolor\": \"#E5ECF6\", \"showlakes\": true, \"showland\": true, \"subunitcolor\": \"white\"}, \"hoverlabel\": {\"align\": \"left\"}, \"hovermode\": \"closest\", \"mapbox\": {\"style\": \"light\"}, \"paper_bgcolor\": \"white\", \"plot_bgcolor\": \"#E5ECF6\", \"polar\": {\"angularaxis\": {\"gridcolor\": \"white\", \"linecolor\": \"white\", \"ticks\": \"\"}, \"bgcolor\": \"#E5ECF6\", \"radialaxis\": {\"gridcolor\": \"white\", \"linecolor\": \"white\", \"ticks\": \"\"}}, \"scene\": {\"xaxis\": {\"backgroundcolor\": \"#E5ECF6\", \"gridcolor\": \"white\", \"gridwidth\": 2, \"linecolor\": \"white\", \"showbackground\": true, \"ticks\": \"\", \"zerolinecolor\": \"white\"}, \"yaxis\": {\"backgroundcolor\": \"#E5ECF6\", \"gridcolor\": \"white\", \"gridwidth\": 2, \"linecolor\": \"white\", \"showbackground\": true, \"ticks\": \"\", \"zerolinecolor\": \"white\"}, \"zaxis\": {\"backgroundcolor\": \"#E5ECF6\", \"gridcolor\": \"white\", \"gridwidth\": 2, \"linecolor\": \"white\", \"showbackground\": true, \"ticks\": \"\", \"zerolinecolor\": \"white\"}}, \"shapedefaults\": {\"line\": {\"color\": \"#2a3f5f\"}}, \"ternary\": {\"aaxis\": {\"gridcolor\": \"white\", \"linecolor\": \"white\", \"ticks\": \"\"}, \"baxis\": {\"gridcolor\": \"white\", \"linecolor\": \"white\", \"ticks\": \"\"}, \"bgcolor\": \"#E5ECF6\", \"caxis\": {\"gridcolor\": \"white\", \"linecolor\": \"white\", \"ticks\": \"\"}}, \"title\": {\"x\": 0.05}, \"xaxis\": {\"automargin\": true, \"gridcolor\": \"white\", \"linecolor\": \"white\", \"ticks\": \"\", \"title\": {\"standoff\": 15}, \"zerolinecolor\": \"white\", \"zerolinewidth\": 2}, \"yaxis\": {\"automargin\": true, \"gridcolor\": \"white\", \"linecolor\": \"white\", \"ticks\": \"\", \"title\": {\"standoff\": 15}, \"zerolinecolor\": \"white\", \"zerolinewidth\": 2}}}, \"xaxis\": {\"anchor\": \"y\", \"domain\": [0.0, 0.45], \"linecolor\": \"black\", \"linewidth\": 1.5, \"mirror\": true, \"showline\": true, \"title\": {\"text\": \"Days\"}}, \"xaxis2\": {\"anchor\": \"y2\", \"domain\": [0.55, 1.0], \"linecolor\": \"black\", \"linewidth\": 1.5, \"mirror\": true, \"showline\": true, \"title\": {\"text\": \"Days\"}}, \"yaxis\": {\"anchor\": \"x\", \"domain\": [0.0, 1.0], \"linecolor\": \"black\", \"linewidth\": 1.5, \"mirror\": true, \"showline\": true, \"title\": {\"text\": \"Probability density\"}}, \"yaxis2\": {\"anchor\": \"x2\", \"domain\": [0.0, 1.0], \"linecolor\": \"black\", \"linewidth\": 1.5, \"mirror\": true, \"showline\": true, \"title\": {\"text\": \"Probability\"}}},\n",
       "                        {\"responsive\": true}\n",
       "                    ).then(function(){\n",
       "                            \n",
       "var gd = document.getElementById('28125df8-6cb7-4059-9fa8-ab9292b7d03e');\n",
       "var x = new MutationObserver(function (mutations, observer) {{\n",
       "        var display = window.getComputedStyle(gd).display;\n",
       "        if (!display || display === 'none') {{\n",
       "            console.log([gd, 'removed!']);\n",
       "            Plotly.purge(gd);\n",
       "            observer.disconnect();\n",
       "        }}\n",
       "}});\n",
       "\n",
       "// Listen for the removal of the full notebook cells\n",
       "var notebookContainer = gd.closest('#notebook-container');\n",
       "if (notebookContainer) {{\n",
       "    x.observe(notebookContainer, {childList: true});\n",
       "}}\n",
       "\n",
       "// Listen for the clearing of the current output cell\n",
       "var outputEl = gd.closest('.output');\n",
       "if (outputEl) {{\n",
       "    x.observe(outputEl, {childList: true});\n",
       "}}\n",
       "\n",
       "                        })\n",
       "                };\n",
       "                });\n",
       "            </script>\n",
       "        </div>"
      ]
     },
     "metadata": {},
     "output_type": "display_data"
    }
   ],
   "source": [
    "richards = stats.genlogistic(c=9,loc=4,scale=2.5)\n",
    "skewnorm = stats.skewnorm(a=3,loc=7,scale=5)\n",
    "\n",
    "fig = make_subplots(rows=1, cols=2,subplot_titles=('PDF comparison','CDF comparison'))\n",
    "fig.add_trace(go.Scatter(name='Skew normal',x=x,y=skewnorm.pdf(x),mode='lines',line_color=colors[0],showlegend=True),row=1,col=1)\n",
    "fig.add_trace(go.Scatter(name='Richards',x=x,y=richards.pdf(x),mode='lines',line_color=colors[1],line_dash='dash',showlegend=True),row=1,col=1)\n",
    "fig.add_trace(go.Scatter(name='Skew normal',x=x,y=skewnorm.cdf(x),mode='lines',line_color=colors[0],showlegend=False),row=1,col=2)\n",
    "fig.add_trace(go.Scatter(name='Richards',x=x,y=richards.cdf(x),mode='lines',line_color=colors[1],line_dash='dash',showlegend=False),row=1,col=2)\n",
    "\n",
    "fig.update_layout(height=350,margin=dict(l=20, r=20, t=50, b=20))\n",
    "fig.update_xaxes(title='Days',showline=True, linewidth=1.5, linecolor='black', mirror=True)\n",
    "fig.update_yaxes(showline=True, linewidth=1.5, linecolor='black', mirror=True)\n",
    "fig.update_yaxes(title='Probability density',row=1,col=1)\n",
    "fig.update_yaxes(title='Probability',row=1,col=2)\n",
    "fig.show()"
   ]
  },
  {
   "cell_type": "markdown",
   "metadata": {},
   "source": [
    "As with the symmetric models, there are subtle differences between the skewed curves. This may mean that some models will fit the data more accurately than others, and that's what we want to find out!\n",
    "\n",
    "We've now identified **7** different mathematical functions. The normal and logistic models are symmetric, while the skew normal, Richards, log logistic, inverse Weibull, and Gompertz models are asymmetric. We can now attempt to fit these to coronavirus case data.\n",
    "\n",
    "**Note**: theoretically there should be no difference whether we fit daily incidence data to $\\phi$ or cumulative case count data to $\\Phi$. However, based on the graphs of real coronavirus data in Part 2, we can see that daily incidence data is very noisy. It has a significantly higher noise-to-signal ratio than the cumulative case count data, so it will be more susceptible to overfitting and outlier influence. We should therefore perform our fits using the cumulative case count data, which is in line with standard practice in [disease modeling](https://www.sciencedirect.com/science/article/abs/pii/S1571064516300641)."
   ]
  },
  {
   "cell_type": "markdown",
   "metadata": {},
   "source": [
    "<a id='sec5'></a>"
   ]
  },
  {
   "cell_type": "markdown",
   "metadata": {},
   "source": [
    "## 5. Data Fitting"
   ]
  },
  {
   "cell_type": "markdown",
   "metadata": {},
   "source": [
    "First we need to define all the functions described above. Although `scipy.special` has built-in objects for most of these models, calling them is much more computationally expensive than defining them ourselves using `np.erf`, `np.exp` and `np.log`.\n",
    "\n",
    "All of these $\\Phi$ functions take an array of time points `t` as a first argument, followed by their distributon parameters (`N`, `t_i`, `s`, and `a` where appropriate). Again, it's important to note that although they have the same names, the values for `t_i`,`s`, and `a` are not directly comparable between different model types without some more detailed analysis."
   ]
  },
  {
   "cell_type": "code",
   "execution_count": 13,
   "metadata": {
    "jupyter": {
     "source_hidden": true
    }
   },
   "outputs": [],
   "source": [
    "def normal(t, N, t_0, s):\n",
    "    \"\"\"\n",
    "    Returns the normal growth curve evaluated at every time value in t.\n",
    "    t_0 is the mean of the corresponding PDF and s is the standard deviation.\n",
    "    \"\"\"\n",
    "    return (N/2 * (1 + special.erf((t - t_0)/(s*sqrt(2)))))\n",
    "\n",
    "def logistic(t, N, t_0, s):\n",
    "    \"\"\"\n",
    "    Returns the logistic growth curve evaluated at every time value in t.\n",
    "    t_0 is the mean of the corresponding PDF and s*pi/sqrt(3) is the standard deviation.\n",
    "    \"\"\"\n",
    "    return (N / (1 + np.exp(-(t - t_0)/s)))\n",
    "\n",
    "def skewnorm(t, N, t_0, s, a):\n",
    "    \"\"\"\n",
    "    Returns the skew normal growth curve evaluated at every time value in t.\n",
    "    t_0 is related to the mean of the corresponding PDF and s is related to the standard deviation.\n",
    "    Non-negative values of a correspond to right-skew, and a = 0 is equivalent to normal(t, N, t_0, s).\n",
    "    \"\"\"\n",
    "    return N*(normal(t,1,t_0,s)-2*special.owens_t(((t-t_0)/s),a))\n",
    "\n",
    "def richards(t, N, t_0, s, a):\n",
    "    \"\"\"\n",
    "    Returns the Richards growth curve evaluated at every time value in t.\n",
    "    t_0 is related to the mean of the corresponding PDF and s is related to the standard deviation.\n",
    "    a must be positive, with a < 1 corresponding to right-skew. a = 1 is equivalent to logistic(t, N, t_0, s).\n",
    "    \"\"\"\n",
    "    return N / np.power((1 + np.exp(np.log(a)-(t-t_0)*a/s)),(1/a))\n",
    "\n",
    "def loglogistic(t, N, t_0, s, a):\n",
    "    \"\"\"\n",
    "    Returns the log logistic growth curve evaluated at every time value in t.\n",
    "    t_0 is related to the mean of the corresponding PDF and s is related to the standard deviation.\n",
    "    a must be positive and always lead to right-skew. As a approaches 0, loglogistic approaches logistic(t, N, t_0, s).\n",
    "    \"\"\"\n",
    "    cutoff = t_0 - s/a # the cdf is only necessarily nonnegative at t values above this cutoff\n",
    "    cdf = np.array([N / (1 + (1 + a*(idx-t_0)/s)**(-1/a)) if idx > cutoff else 0 for idx in t])\n",
    "    return cdf\n",
    "\n",
    "def invweibull(t, N, t_0, s, a):\n",
    "    \"\"\"\n",
    "    Returns the inverse Weibull growth curve evaluated at every time value in t.\n",
    "    t_0 is related to the mean of the corresponding PDF and s is related to the standard deviation.\n",
    "    a must be positive and always leads to right-skew.\n",
    "    \"\"\"\n",
    "    return np.array([N * np.exp(-(s/(idx - t_0))**a) if idx > t_0 else 0 for idx in t])\n",
    "\n",
    "def gompertz(t, N, t_0, s):\n",
    "    \"\"\"\n",
    "    Returns the Gompertz growth curve evaluated at every time value in t.\n",
    "    t_0 is related to the mean of the corresponding PDF and s is related to the standard deviation.\n",
    "    \"\"\"\n",
    "    return N * np.exp(-np.exp(-(t-t_0)/s))\n",
    "\n",
    "model_list = [normal, logistic, skewnorm, richards, loglogistic, invweibull, gompertz]"
   ]
  },
  {
   "cell_type": "markdown",
   "metadata": {},
   "source": [
    "Next, we need a nonlinear `regression` function that will fit the data to whichever model is specified. We can use `scipy.least_squares` to find the parameter weights that minimize the model's loss (the square of the residuals). In this function we also provide reasonable starting guesses for each parameter, which differ depending on the type of model."
   ]
  },
  {
   "cell_type": "code",
   "execution_count": 14,
   "metadata": {
    "jupyter": {
     "source_hidden": true
    }
   },
   "outputs": [],
   "source": [
    "def get_params(model):\n",
    "    return list(inspect.signature(model).parameters.keys())[1:]\n",
    "\n",
    "def regression(model,x_test,y_test):\n",
    "    \n",
    "    def residual(x, t, y):\n",
    "        return model(t,*x) - y\n",
    "    \n",
    "    x0 = [y_test.max()*1.2,x_test.max()*0.8,1]\n",
    "    x_min = [y_test.max(),x_test.min(),0]\n",
    "    x_max = [np.inf,np.inf,np.inf]\n",
    "    if len(get_params(model)) == 4:\n",
    "        # append min, max, and starting values for the 'a' parameter\n",
    "        x_min.append(0)\n",
    "        if model.__name__ == 'skewnorm':\n",
    "            x0.append(0.1)\n",
    "            x_max.append(10) # personal choice\n",
    "        elif model.__name__ == 'richards':\n",
    "            x0.append(0.9)\n",
    "            x_max.append(1)\n",
    "        elif model.__name__ == 'loglogistic':\n",
    "            x0.append(0.1)\n",
    "            x_max.append(2) # personal choice\n",
    "        elif model.__name__ == 'invweibull':\n",
    "            x0.append(1.1)\n",
    "            x_max.append(10) # personal choice\n",
    "    \n",
    "    res_lsq = least_squares(residual, x0, bounds=(x_min,x_max),\n",
    "            ftol=1e-10, xtol=1e-10, gtol=1e-10, loss='linear', args=(x_test, y_test))\n",
    "    return res_lsq.x # returns array of parameter values\n"
   ]
  },
  {
   "cell_type": "markdown",
   "metadata": {},
   "source": [
    "We also need a way of quantifying how closely the predictions match the actual data. So, we can define a function called `score_model`, which will return the [root-mean-squared error](https://en.wikipedia.org/wiki/Root-mean-square_deviation), as well as the [AIC](https://en.wikipedia.org/wiki/Akaike_information_criterion) and [BIC](https://en.wikipedia.org/wiki/Bayesian_information_criterion), giving us 3 different metrics to evaluate how good the models were."
   ]
  },
  {
   "cell_type": "code",
   "execution_count": 15,
   "metadata": {},
   "outputs": [],
   "source": [
    "def score_model(y, y_hat, k):\n",
    "    sse = np.sum((y-y_hat)**2)\n",
    "    n = len(y)\n",
    "    rmse = np.sqrt(sse/n)\n",
    "    aic = n*np.log(sse/n)+2*k\n",
    "    bic = n*np.log(sse/n)+k*np.log(n)\n",
    "    return rmse, aic, bic"
   ]
  },
  {
   "cell_type": "markdown",
   "metadata": {},
   "source": [
    "Finally, we define `fit_data` to iterate over every state or country and run `regression` on that region's incidence data. This function returns a dataframe with the predicted values of the fit parameters for each region, as well as model evaluation criteria. The dataframe also includes figure handles to simple plots comparing the model to the actual data for each region, although we will do more comprehensive visualization later. "
   ]
  },
  {
   "cell_type": "code",
   "execution_count": 16,
   "metadata": {
    "jupyter": {
     "source_hidden": true
    }
   },
   "outputs": [],
   "source": [
    "def fit_data(df,regions,region_type,model,x_test):\n",
    "    start = time.time()\n",
    "    param_names = get_params(model)\n",
    "    k = len(param_names)\n",
    "    param_vals = [[] for i in range(k)]\n",
    "    rmse_vals = []\n",
    "    aic_vals = []\n",
    "    bic_vals = []\n",
    "    figs = []\n",
    "    for item in regions:\n",
    "        y_test = df[item].values\n",
    "        params = regression(model,x_test,y_test)\n",
    "        [param_vals[i].append(params[i]) for i in range(k)]\n",
    "        y_pred = model(x_test,*params)\n",
    "        rmse, aic, bic = score_model(y_test,y_pred,k)\n",
    "        rmse_vals.append(rmse)\n",
    "        aic_vals.append(aic)\n",
    "        bic_vals.append(bic)\n",
    "\n",
    "        f = plt.figure()\n",
    "        plt.plot(x_test,y_pred,'--')\n",
    "        plt.plot(x_test,y_test)\n",
    "        plt.xlabel('Day of Year')\n",
    "        plt.ylabel('Cumulative Case Count')\n",
    "        plt.title('Cases in '+item)\n",
    "        plt.legend(['Model Fit','Actual Numbers'])\n",
    "        figs.append(f)\n",
    "        plt.close(f)\n",
    "        \n",
    "    fit_info = pd.DataFrame(index=regions,data={param_names[i]:param_vals[i] for i in range(k)})\n",
    "    fit_info['fig'] = figs\n",
    "    fit_info['rmse'], fit_info['aic'], fit_info['bic'] = rmse_vals, aic_vals, bic_vals\n",
    "    fit_info.index.rename(region_type,inplace=True)\n",
    "    fit_info.sort_values(by='N',ascending=False,inplace=True)\n",
    "    \n",
    "    end = time.time()\n",
    "    print(model.__name__ + ' finished in %.1f sec' % (end-start))\n",
    "    \n",
    "    return fit_info\n",
    "\n",
    "np.seterr(all='ignore');"
   ]
  },
  {
   "cell_type": "markdown",
   "metadata": {},
   "source": [
    "Now we can can go ahead and call `fit_data` on both the state data and the country data. Because we have several different fit functions, we need to run `fit_data` several times for every region. We can store one dataframe associated with each model type in the dictionaries `state_info` and `global_info`. We can also see how long each model takes to run by looking at the displayed output."
   ]
  },
  {
   "cell_type": "code",
   "execution_count": 17,
   "metadata": {
    "jupyter": {
     "source_hidden": true
    }
   },
   "outputs": [
    {
     "name": "stdout",
     "output_type": "stream",
     "text": [
      "normal finished in 2.9 sec\n",
      "logistic finished in 2.5 sec\n",
      "skewnorm finished in 6.0 sec\n",
      "richards finished in 6.4 sec\n",
      "loglogistic finished in 24.0 sec\n",
      "invweibull finished in 29.4 sec\n",
      "gompertz finished in 2.6 sec\n"
     ]
    }
   ],
   "source": [
    "state_info = {m.__name__:fit_data(states_cumulative,states_list,'State',m,x_data.values) for m in model_list}"
   ]
  },
  {
   "cell_type": "code",
   "execution_count": 18,
   "metadata": {
    "jupyter": {
     "source_hidden": true
    }
   },
   "outputs": [
    {
     "name": "stdout",
     "output_type": "stream",
     "text": [
      "normal finished in 2.4 sec\n",
      "logistic finished in 3.1 sec\n",
      "skewnorm finished in 7.0 sec\n",
      "richards finished in 7.7 sec\n",
      "loglogistic finished in 23.3 sec\n",
      "invweibull finished in 25.2 sec\n",
      "gompertz finished in 2.7 sec\n"
     ]
    }
   ],
   "source": [
    "global_info = {m.__name__:fit_data(global_cumulative,top_countries,'Country',m,x_data_global.values) for m in model_list}"
   ]
  },
  {
   "cell_type": "markdown",
   "metadata": {},
   "source": [
    "Here's what a few of the resulting dataframes look like:"
   ]
  },
  {
   "cell_type": "code",
   "execution_count": 19,
   "metadata": {},
   "outputs": [
    {
     "data": {
      "text/html": [
       "<div>\n",
       "<style scoped>\n",
       "    .dataframe tbody tr th:only-of-type {\n",
       "        vertical-align: middle;\n",
       "    }\n",
       "\n",
       "    .dataframe tbody tr th {\n",
       "        vertical-align: top;\n",
       "    }\n",
       "\n",
       "    .dataframe thead th {\n",
       "        text-align: right;\n",
       "    }\n",
       "</style>\n",
       "<table border=\"1\" class=\"dataframe\">\n",
       "  <thead>\n",
       "    <tr style=\"text-align: right;\">\n",
       "      <th></th>\n",
       "      <th>N</th>\n",
       "      <th>t_0</th>\n",
       "      <th>s</th>\n",
       "      <th>fig</th>\n",
       "      <th>rmse</th>\n",
       "      <th>aic</th>\n",
       "      <th>bic</th>\n",
       "    </tr>\n",
       "    <tr>\n",
       "      <th>State</th>\n",
       "      <th></th>\n",
       "      <th></th>\n",
       "      <th></th>\n",
       "      <th></th>\n",
       "      <th></th>\n",
       "      <th></th>\n",
       "      <th></th>\n",
       "    </tr>\n",
       "  </thead>\n",
       "  <tbody>\n",
       "    <tr>\n",
       "      <th>MN</th>\n",
       "      <td>1.885681e+10</td>\n",
       "      <td>706.378979</td>\n",
       "      <td>215.559297</td>\n",
       "      <td>Figure(432x288)</td>\n",
       "      <td>140.219700</td>\n",
       "      <td>589.298836</td>\n",
       "      <td>595.531448</td>\n",
       "    </tr>\n",
       "    <tr>\n",
       "      <th>NE</th>\n",
       "      <td>1.359842e+10</td>\n",
       "      <td>554.750368</td>\n",
       "      <td>159.941224</td>\n",
       "      <td>Figure(432x288)</td>\n",
       "      <td>67.322688</td>\n",
       "      <td>502.720681</td>\n",
       "      <td>508.953294</td>\n",
       "    </tr>\n",
       "    <tr>\n",
       "      <th>IA</th>\n",
       "      <td>6.070847e+06</td>\n",
       "      <td>285.937003</td>\n",
       "      <td>86.583316</td>\n",
       "      <td>Figure(432x288)</td>\n",
       "      <td>87.114137</td>\n",
       "      <td>533.131863</td>\n",
       "      <td>539.364476</td>\n",
       "    </tr>\n",
       "    <tr>\n",
       "      <th>KS</th>\n",
       "      <td>7.507249e+05</td>\n",
       "      <td>257.891372</td>\n",
       "      <td>82.965677</td>\n",
       "      <td>Figure(432x288)</td>\n",
       "      <td>104.204949</td>\n",
       "      <td>554.270435</td>\n",
       "      <td>560.503048</td>\n",
       "    </tr>\n",
       "    <tr>\n",
       "      <th>NY</th>\n",
       "      <td>3.622924e+05</td>\n",
       "      <td>97.304113</td>\n",
       "      <td>13.750852</td>\n",
       "      <td>Figure(432x288)</td>\n",
       "      <td>2133.099417</td>\n",
       "      <td>910.509097</td>\n",
       "      <td>916.741709</td>\n",
       "    </tr>\n",
       "  </tbody>\n",
       "</table>\n",
       "</div>"
      ],
      "text/plain": [
       "                  N         t_0           s              fig         rmse  \\\n",
       "State                                                                       \n",
       "MN     1.885681e+10  706.378979  215.559297  Figure(432x288)   140.219700   \n",
       "NE     1.359842e+10  554.750368  159.941224  Figure(432x288)    67.322688   \n",
       "IA     6.070847e+06  285.937003   86.583316  Figure(432x288)    87.114137   \n",
       "KS     7.507249e+05  257.891372   82.965677  Figure(432x288)   104.204949   \n",
       "NY     3.622924e+05   97.304113   13.750852  Figure(432x288)  2133.099417   \n",
       "\n",
       "              aic         bic  \n",
       "State                          \n",
       "MN     589.298836  595.531448  \n",
       "NE     502.720681  508.953294  \n",
       "IA     533.131863  539.364476  \n",
       "KS     554.270435  560.503048  \n",
       "NY     910.509097  916.741709  "
      ]
     },
     "execution_count": 19,
     "metadata": {},
     "output_type": "execute_result"
    }
   ],
   "source": [
    "state_info['gompertz'].head()"
   ]
  },
  {
   "cell_type": "code",
   "execution_count": 20,
   "metadata": {},
   "outputs": [
    {
     "data": {
      "text/html": [
       "<div>\n",
       "<style scoped>\n",
       "    .dataframe tbody tr th:only-of-type {\n",
       "        vertical-align: middle;\n",
       "    }\n",
       "\n",
       "    .dataframe tbody tr th {\n",
       "        vertical-align: top;\n",
       "    }\n",
       "\n",
       "    .dataframe thead th {\n",
       "        text-align: right;\n",
       "    }\n",
       "</style>\n",
       "<table border=\"1\" class=\"dataframe\">\n",
       "  <thead>\n",
       "    <tr style=\"text-align: right;\">\n",
       "      <th></th>\n",
       "      <th>N</th>\n",
       "      <th>t_0</th>\n",
       "      <th>s</th>\n",
       "      <th>fig</th>\n",
       "      <th>rmse</th>\n",
       "      <th>aic</th>\n",
       "      <th>bic</th>\n",
       "    </tr>\n",
       "    <tr>\n",
       "      <th>Country</th>\n",
       "      <th></th>\n",
       "      <th></th>\n",
       "      <th></th>\n",
       "      <th></th>\n",
       "      <th></th>\n",
       "      <th></th>\n",
       "      <th></th>\n",
       "    </tr>\n",
       "  </thead>\n",
       "  <tbody>\n",
       "    <tr>\n",
       "      <th>Brazil</th>\n",
       "      <td>5.640542e+06</td>\n",
       "      <td>211.110190</td>\n",
       "      <td>62.828004</td>\n",
       "      <td>Figure(432x288)</td>\n",
       "      <td>782.439844</td>\n",
       "      <td>1365.133077</td>\n",
       "      <td>1373.007995</td>\n",
       "    </tr>\n",
       "    <tr>\n",
       "      <th>Ecuador</th>\n",
       "      <td>3.268906e+06</td>\n",
       "      <td>233.186138</td>\n",
       "      <td>71.139625</td>\n",
       "      <td>Figure(432x288)</td>\n",
       "      <td>1201.318342</td>\n",
       "      <td>1452.599670</td>\n",
       "      <td>1460.474588</td>\n",
       "    </tr>\n",
       "    <tr>\n",
       "      <th>Qatar</th>\n",
       "      <td>2.715235e+06</td>\n",
       "      <td>243.134283</td>\n",
       "      <td>73.110483</td>\n",
       "      <td>Figure(432x288)</td>\n",
       "      <td>148.844352</td>\n",
       "      <td>1026.591833</td>\n",
       "      <td>1034.466752</td>\n",
       "    </tr>\n",
       "    <tr>\n",
       "      <th>United States</th>\n",
       "      <td>1.508376e+06</td>\n",
       "      <td>103.298256</td>\n",
       "      <td>16.908293</td>\n",
       "      <td>Figure(432x288)</td>\n",
       "      <td>7685.220429</td>\n",
       "      <td>1831.199085</td>\n",
       "      <td>1839.074004</td>\n",
       "    </tr>\n",
       "    <tr>\n",
       "      <th>Pakistan</th>\n",
       "      <td>8.123061e+05</td>\n",
       "      <td>212.886863</td>\n",
       "      <td>67.784742</td>\n",
       "      <td>Figure(432x288)</td>\n",
       "      <td>181.170646</td>\n",
       "      <td>1066.685634</td>\n",
       "      <td>1074.560553</td>\n",
       "    </tr>\n",
       "  </tbody>\n",
       "</table>\n",
       "</div>"
      ],
      "text/plain": [
       "                          N         t_0          s              fig  \\\n",
       "Country                                                               \n",
       "Brazil         5.640542e+06  211.110190  62.828004  Figure(432x288)   \n",
       "Ecuador        3.268906e+06  233.186138  71.139625  Figure(432x288)   \n",
       "Qatar          2.715235e+06  243.134283  73.110483  Figure(432x288)   \n",
       "United States  1.508376e+06  103.298256  16.908293  Figure(432x288)   \n",
       "Pakistan       8.123061e+05  212.886863  67.784742  Figure(432x288)   \n",
       "\n",
       "                      rmse          aic          bic  \n",
       "Country                                               \n",
       "Brazil          782.439844  1365.133077  1373.007995  \n",
       "Ecuador        1201.318342  1452.599670  1460.474588  \n",
       "Qatar           148.844352  1026.591833  1034.466752  \n",
       "United States  7685.220429  1831.199085  1839.074004  \n",
       "Pakistan        181.170646  1066.685634  1074.560553  "
      ]
     },
     "execution_count": 20,
     "metadata": {},
     "output_type": "execute_result"
    }
   ],
   "source": [
    "global_info['gompertz'].head()"
   ]
  },
  {
   "cell_type": "markdown",
   "metadata": {},
   "source": [
    "And, for reference, here's what one of the fits look like when plotted alongside the actual data:"
   ]
  },
  {
   "cell_type": "code",
   "execution_count": 21,
   "metadata": {
    "jupyter": {
     "source_hidden": true
    }
   },
   "outputs": [
    {
     "data": {
      "image/png": "[encoded data removed]",
      "text/plain": [
       "<Figure size 432x288 with 1 Axes>"
      ]
     },
     "execution_count": 21,
     "metadata": {},
     "output_type": "execute_result"
    }
   ],
   "source": [
    "state_info['loglogistic'].loc['FL','fig']"
   ]
  },
  {
   "cell_type": "markdown",
   "metadata": {},
   "source": [
    "We'll make a nicer visualization in Part 7 after we've compared the different models."
   ]
  },
  {
   "cell_type": "markdown",
   "metadata": {},
   "source": [
    "<a id='sec6'></a>"
   ]
  },
  {
   "cell_type": "markdown",
   "metadata": {},
   "source": [
    "## 6. Model Comparison"
   ]
  },
  {
   "cell_type": "markdown",
   "metadata": {},
   "source": [
    "Now, we need a way to compare the models to each other. We could try to look at every single plot and visually identify which of the models looks better. But that's not quantitative, and it's also not feasible for 7 models and 100 total regions.\n",
    "\n",
    "Luckily, we have already computed the RMSE, AIC, and BIC for each model fit for each region. These criteria characterize how closely the predictions match the data, and the smaller the values the better the fit. Unfortunately, the magnitudes of the RMSE, AIC, and BIC might be different for each region because of the large difference in the magnitude of case counts. To handle this, we can [standardize](https://en.wikipedia.org/wiki/Standard_score) the criteria scores across different regions.\n",
    "\n",
    "For example, to standardize the RMSE for a region, we first subtract the average RMSE for that region from each model's RMSE, and then divide by the standard deviation of the RMSE for the same region. This is accomplished with `compare_models`."
   ]
  },
  {
   "cell_type": "code",
   "execution_count": 22,
   "metadata": {},
   "outputs": [],
   "source": [
    "def compare_models(fit_dict,criterion,standardize=True):\n",
    "    c = pd.DataFrame([m[1][criterion] for m in fit_dict.items()],index=fit_dict.keys())\n",
    "    if standardize:\n",
    "        c = (c-c.mean())/c.std()\n",
    "    return c.T"
   ]
  },
  {
   "cell_type": "markdown",
   "metadata": {},
   "source": [
    "Now we can see the standardized RMSE scores for both states and countries. Note that for each region, a positive score means that model was worse than the other models. A negative score means that the model was better than the rest for that region. A score of 0 means that the model was exactly average compared to the rest (for that region). Here's what the standardized RMSE dataframe looks like for a few states:"
   ]
  },
  {
   "cell_type": "code",
   "execution_count": 23,
   "metadata": {
    "jupyter": {
     "source_hidden": true
    }
   },
   "outputs": [
    {
     "data": {
      "text/html": [
       "<div>\n",
       "<style scoped>\n",
       "    .dataframe tbody tr th:only-of-type {\n",
       "        vertical-align: middle;\n",
       "    }\n",
       "\n",
       "    .dataframe tbody tr th {\n",
       "        vertical-align: top;\n",
       "    }\n",
       "\n",
       "    .dataframe thead th {\n",
       "        text-align: right;\n",
       "    }\n",
       "</style>\n",
       "<table border=\"1\" class=\"dataframe\">\n",
       "  <thead>\n",
       "    <tr style=\"text-align: right;\">\n",
       "      <th></th>\n",
       "      <th>normal</th>\n",
       "      <th>logistic</th>\n",
       "      <th>skewnorm</th>\n",
       "      <th>richards</th>\n",
       "      <th>loglogistic</th>\n",
       "      <th>invweibull</th>\n",
       "      <th>gompertz</th>\n",
       "    </tr>\n",
       "  </thead>\n",
       "  <tbody>\n",
       "    <tr>\n",
       "      <th>MN</th>\n",
       "      <td>-0.380638</td>\n",
       "      <td>-0.444504</td>\n",
       "      <td>-0.394521</td>\n",
       "      <td>-0.441885</td>\n",
       "      <td>-0.266382</td>\n",
       "      <td>2.263427</td>\n",
       "      <td>-0.335496</td>\n",
       "    </tr>\n",
       "    <tr>\n",
       "      <th>NE</th>\n",
       "      <td>-0.374651</td>\n",
       "      <td>-0.453632</td>\n",
       "      <td>-0.394118</td>\n",
       "      <td>-0.450944</td>\n",
       "      <td>-0.285755</td>\n",
       "      <td>2.262999</td>\n",
       "      <td>-0.303899</td>\n",
       "    </tr>\n",
       "    <tr>\n",
       "      <th>NY</th>\n",
       "      <td>1.002037</td>\n",
       "      <td>1.820834</td>\n",
       "      <td>-0.676036</td>\n",
       "      <td>-0.481525</td>\n",
       "      <td>-0.763712</td>\n",
       "      <td>-0.420002</td>\n",
       "      <td>-0.481597</td>\n",
       "    </tr>\n",
       "  </tbody>\n",
       "</table>\n",
       "</div>"
      ],
      "text/plain": [
       "      normal  logistic  skewnorm  richards  loglogistic  invweibull  gompertz\n",
       "MN -0.380638 -0.444504 -0.394521 -0.441885    -0.266382    2.263427 -0.335496\n",
       "NE -0.374651 -0.453632 -0.394118 -0.450944    -0.285755    2.262999 -0.303899\n",
       "NY  1.002037  1.820834 -0.676036 -0.481525    -0.763712   -0.420002 -0.481597"
      ]
     },
     "execution_count": 23,
     "metadata": {},
     "output_type": "execute_result"
    }
   ],
   "source": [
    "state_rmses = compare_models(state_info,'rmse',standardize=True)\n",
    "state_rmses.head(3)"
   ]
  },
  {
   "cell_type": "markdown",
   "metadata": {},
   "source": [
    "Again, the best model for a region is the one with the most negative standardized score. Here's what the same analysis looks like for a few countries:"
   ]
  },
  {
   "cell_type": "code",
   "execution_count": 24,
   "metadata": {
    "jupyter": {
     "source_hidden": true
    }
   },
   "outputs": [
    {
     "data": {
      "text/html": [
       "<div>\n",
       "<style scoped>\n",
       "    .dataframe tbody tr th:only-of-type {\n",
       "        vertical-align: middle;\n",
       "    }\n",
       "\n",
       "    .dataframe tbody tr th {\n",
       "        vertical-align: top;\n",
       "    }\n",
       "\n",
       "    .dataframe thead th {\n",
       "        text-align: right;\n",
       "    }\n",
       "</style>\n",
       "<table border=\"1\" class=\"dataframe\">\n",
       "  <thead>\n",
       "    <tr style=\"text-align: right;\">\n",
       "      <th></th>\n",
       "      <th>normal</th>\n",
       "      <th>logistic</th>\n",
       "      <th>skewnorm</th>\n",
       "      <th>richards</th>\n",
       "      <th>loglogistic</th>\n",
       "      <th>invweibull</th>\n",
       "      <th>gompertz</th>\n",
       "    </tr>\n",
       "  </thead>\n",
       "  <tbody>\n",
       "    <tr>\n",
       "      <th>United States</th>\n",
       "      <td>0.90001</td>\n",
       "      <td>1.780869</td>\n",
       "      <td>-0.963977</td>\n",
       "      <td>-0.136331</td>\n",
       "      <td>-0.654163</td>\n",
       "      <td>-0.790012</td>\n",
       "      <td>-0.136395</td>\n",
       "    </tr>\n",
       "    <tr>\n",
       "      <th>Brazil</th>\n",
       "      <td>-0.33843</td>\n",
       "      <td>0.723338</td>\n",
       "      <td>-0.396918</td>\n",
       "      <td>-0.496209</td>\n",
       "      <td>-0.891071</td>\n",
       "      <td>1.961680</td>\n",
       "      <td>-0.562390</td>\n",
       "    </tr>\n",
       "    <tr>\n",
       "      <th>Ecuador</th>\n",
       "      <td>-0.03258</td>\n",
       "      <td>-0.708657</td>\n",
       "      <td>-0.032580</td>\n",
       "      <td>-0.708657</td>\n",
       "      <td>-0.704552</td>\n",
       "      <td>2.119562</td>\n",
       "      <td>0.067465</td>\n",
       "    </tr>\n",
       "  </tbody>\n",
       "</table>\n",
       "</div>"
      ],
      "text/plain": [
       "                normal  logistic  skewnorm  richards  loglogistic  invweibull  \\\n",
       "United States  0.90001  1.780869 -0.963977 -0.136331    -0.654163   -0.790012   \n",
       "Brazil        -0.33843  0.723338 -0.396918 -0.496209    -0.891071    1.961680   \n",
       "Ecuador       -0.03258 -0.708657 -0.032580 -0.708657    -0.704552    2.119562   \n",
       "\n",
       "               gompertz  \n",
       "United States -0.136395  \n",
       "Brazil        -0.562390  \n",
       "Ecuador        0.067465  "
      ]
     },
     "execution_count": 24,
     "metadata": {},
     "output_type": "execute_result"
    }
   ],
   "source": [
    "global_rmses = compare_models(global_info,'rmse')\n",
    "global_rmses.head(3)"
   ]
  },
  {
   "cell_type": "markdown",
   "metadata": {},
   "source": [
    "Clearly, different models do better for different regions. We can get a sense of how well each model did by plotting the distribution of standardized scores with a [violin plot](https://en.wikipedia.org/wiki/Violin_plot). For this analysis we focus only on the RMSE, because it's the easiest to interpret.\n",
    "\n",
    "To reiterate, what we're looking for is a model with the lowest standardized RMSE scores for as many states and countries as possible."
   ]
  },
  {
   "cell_type": "code",
   "execution_count": 25,
   "metadata": {},
   "outputs": [
    {
     "data": {
      "application/vnd.plotly.v1+json": {
       "config": {
        "plotlyServerURL": "https://plot.ly"
       },
       "data": [
        {
         "bandwidth": 0.2,
         "box": {
          "visible": false
         },
         "customdata": [
          "MN",
          "NE",
          "NY",
          "IA",
          "NJ",
          "IL",
          "KS",
          "MA",
          "CA",
          "PA",
          "MI",
          "FL",
          "VA",
          "TX",
          "MD",
          "CT",
          "GA",
          "LA",
          "OH",
          "IN",
          "CO",
          "TN",
          "NC",
          "WA",
          "RI",
          "WI",
          "AZ",
          "MS",
          "MO",
          "AL",
          "DE",
          "SC",
          "KY",
          "UT",
          "DC",
          "NM",
          "NV",
          "AR",
          "OK",
          "NH",
          "ND",
          "OR",
          "SD",
          "ID",
          "PR",
          "WV",
          "ME",
          "VT",
          "WY",
          "HI",
          "MT",
          "AK",
          "GU"
         ],
         "hoveron": "points",
         "hovertemplate": "%{customdata}: %{y:.2f}<extra></extra>",
         "jitter": 0.1,
         "line": {
          "color": "rgb(31, 119, 180)"
         },
         "meanline": {
          "visible": true
         },
         "name": "normal",
         "pointpos": 0,
         "points": "all",
         "type": "violin",
         "xaxis": "x",
         "y": [
          -0.38063843775043127,
          -0.3746507151179864,
          1.0020369123130404,
          -0.3895016950843309,
          0.9384909421949559,
          0.49584513865636465,
          -0.37205038647457706,
          0.3510137283420401,
          0.6381709983049262,
          0.9631481369730983,
          0.764519169890617,
          1.0454838537188387,
          0.3879715924424545,
          0.8628304830110066,
          0.6283500095937248,
          0.09652460760228068,
          0.8007210417253585,
          1.4952533236917414,
          -0.22104391357332837,
          0.7541204854260553,
          0.7160844947161196,
          0.688727879489089,
          0.6666857778620083,
          1.177169981486958,
          -0.4372513833354394,
          0.6708966997841871,
          0.7402515635535477,
          0.545888288657004,
          1.013642683908118,
          0.7403573924356355,
          -0.11665704429898552,
          0.9303770946584924,
          0.38412486068183077,
          0.7778480428570271,
          0.6866717709624167,
          0.4767328081818734,
          0.9779379685093271,
          -0.4328788165443601,
          0.9933915995916316,
          0.711472411597794,
          -0.44207984888313157,
          0.9934427298500259,
          -0.07780444710779444,
          1.3768139956323633,
          0.9970541087471799,
          0.8816581211722339,
          0.9557646408654396,
          1.23165990740554,
          0.697296421543396,
          0.5084469947997775,
          1.2084051979020711,
          1.3224198121108266,
          1.4011830706492283
         ],
         "yaxis": "y"
        },
        {
         "bandwidth": 0.2,
         "box": {
          "visible": false
         },
         "customdata": [
          "United States",
          "Brazil",
          "Ecuador",
          "Russia",
          "Spain",
          "Italy",
          "United Kingdom",
          "Qatar",
          "France",
          "Germany",
          "Peru",
          "Pakistan",
          "Turkey",
          "Mexico",
          "Saudi Arabia",
          "Iran",
          "China",
          "India",
          "Canada",
          "Belgium",
          "Netherlands",
          "Belarus",
          "Switzerland",
          "Sweden",
          "Portugal",
          "South Africa",
          "Chile",
          "Ireland",
          "Singapore",
          "United Arab Emirates",
          "Ukraine",
          "Japan",
          "Israel",
          "Austria",
          "Egypt",
          "Poland",
          "Indonesia",
          "Romania",
          "Bangladesh",
          "Colombia",
          "Korea, South",
          "Serbia",
          "Denmark",
          "Dominican Republic",
          "Philippines",
          "Panama",
          "Norway",
          "Czechia",
          "Australia",
          "Malaysia"
         ],
         "hoveron": "points",
         "hovertemplate": "%{customdata}: %{y:.2f}<extra></extra>",
         "jitter": 0.1,
         "line": {
          "color": "rgb(31, 119, 180)"
         },
         "meanline": {
          "visible": true
         },
         "name": "normal",
         "pointpos": 0,
         "points": "all",
         "type": "violin",
         "xaxis": "x2",
         "y": [
          0.9000097461323574,
          -0.33843029743627,
          -0.03258016478655965,
          -0.5608351331703315,
          1.1682145806507367,
          1.1397518478121131,
          0.7182359742561132,
          -0.12530319740974136,
          -0.5478923825624704,
          1.3514252385250445,
          0.20899551236163122,
          -0.27583930662647527,
          0.17535194943418136,
          -0.42092387209701704,
          0.03382669273960831,
          -0.4661095683523239,
          -0.32939285358441656,
          0.2819606491916138,
          0.6539963529571807,
          0.613133640904334,
          0.4681196847101128,
          0.20320449774975735,
          1.4184087135867933,
          0.1107560710274682,
          1.0279482945834397,
          0.22728962108918702,
          0.6300899564544808,
          -0.2270456870798696,
          0.2593024073165054,
          0.44885628622281454,
          -0.6440430999886347,
          0.10484858337348033,
          1.2229244309642753,
          1.547056580397776,
          0.056139700232045585,
          0.6898896593045938,
          -0.6550592510897542,
          0.7457677406924332,
          0.36334947087683056,
          0.4838145508206365,
          1.2918813548440857,
          -0.5940999644183249,
          -0.4113673841730819,
          0.3239815402778332,
          0.9549480313049896,
          0.6773753932378213,
          1.3918885741699278,
          1.3481939132727077,
          1.6016221399385697,
          1.120744475573326
         ],
         "yaxis": "y2"
        },
        {
         "bandwidth": 0.2,
         "box": {
          "visible": false
         },
         "customdata": [
          "MN",
          "NE",
          "NY",
          "IA",
          "NJ",
          "IL",
          "KS",
          "MA",
          "CA",
          "PA",
          "MI",
          "FL",
          "VA",
          "TX",
          "MD",
          "CT",
          "GA",
          "LA",
          "OH",
          "IN",
          "CO",
          "TN",
          "NC",
          "WA",
          "RI",
          "WI",
          "AZ",
          "MS",
          "MO",
          "AL",
          "DE",
          "SC",
          "KY",
          "UT",
          "DC",
          "NM",
          "NV",
          "AR",
          "OK",
          "NH",
          "ND",
          "OR",
          "SD",
          "ID",
          "PR",
          "WV",
          "ME",
          "VT",
          "WY",
          "HI",
          "MT",
          "AK",
          "GU"
         ],
         "hoveron": "points",
         "hovertemplate": "%{customdata}: %{y:.2f}<extra></extra>",
         "jitter": 0.1,
         "line": {
          "color": "rgb(255, 127, 14)"
         },
         "meanline": {
          "visible": true
         },
         "name": "logistic",
         "pointpos": 0,
         "points": "all",
         "type": "violin",
         "xaxis": "x",
         "y": [
          -0.44450405120084374,
          -0.45363162271365653,
          1.8208344815080229,
          -0.2545534794304208,
          1.7635571186282724,
          1.8701872239467074,
          0.1656598295807766,
          2.1254136205825027,
          1.9123012224204872,
          1.7743640406493502,
          1.9083809297969467,
          1.739768614875811,
          1.940779128715521,
          1.8129795432236409,
          1.955600839426249,
          2.1234723392291652,
          1.9300190259821157,
          1.4139295010333173,
          2.1827447926365577,
          1.7026552100583983,
          1.7622000540619753,
          1.7382398191204413,
          1.7914970310751361,
          1.4597918766352147,
          1.7516118490080825,
          1.7414857362358922,
          1.6889625843442264,
          2.00423517037375,
          1.6938532188527704,
          1.9785490425454297,
          2.2283500157730733,
          1.7308577862508308,
          2.1367416812675173,
          1.72658275314677,
          1.9606417451898595,
          1.9924710845588545,
          1.6958699406628575,
          1.8794718908992665,
          1.667895944169434,
          1.8077363047152792,
          -0.11496645523400409,
          1.7121685562831692,
          -0.13704945734948915,
          1.4402258382732689,
          1.6959312958029713,
          1.908247105904789,
          1.8290290356929262,
          0.7678562382384323,
          1.729634609407713,
          0.5150451832528169,
          1.2867423166737215,
          1.5309575910111004,
          0.7324115018704744
         ],
         "yaxis": "y"
        },
        {
         "bandwidth": 0.2,
         "box": {
          "visible": false
         },
         "customdata": [
          "United States",
          "Brazil",
          "Ecuador",
          "Russia",
          "Spain",
          "Italy",
          "United Kingdom",
          "Qatar",
          "France",
          "Germany",
          "Peru",
          "Pakistan",
          "Turkey",
          "Mexico",
          "Saudi Arabia",
          "Iran",
          "China",
          "India",
          "Canada",
          "Belgium",
          "Netherlands",
          "Belarus",
          "Switzerland",
          "Sweden",
          "Portugal",
          "South Africa",
          "Chile",
          "Ireland",
          "Singapore",
          "United Arab Emirates",
          "Ukraine",
          "Japan",
          "Israel",
          "Austria",
          "Egypt",
          "Poland",
          "Indonesia",
          "Romania",
          "Bangladesh",
          "Colombia",
          "Korea, South",
          "Serbia",
          "Denmark",
          "Dominican Republic",
          "Philippines",
          "Panama",
          "Norway",
          "Czechia",
          "Australia",
          "Malaysia"
         ],
         "hoveron": "points",
         "hovertemplate": "%{customdata}: %{y:.2f}<extra></extra>",
         "jitter": 0.1,
         "line": {
          "color": "rgb(255, 127, 14)"
         },
         "meanline": {
          "visible": true
         },
         "name": "logistic",
         "pointpos": 0,
         "points": "all",
         "type": "violin",
         "xaxis": "x2",
         "y": [
          1.7808685981415922,
          0.7233380431776377,
          -0.7086571746206539,
          2.048099455385678,
          1.6982266201672434,
          1.700490827019735,
          1.9872147333915744,
          -0.9463758118509437,
          -0.5908488099096302,
          1.5617279060740081,
          2.0839260649305733,
          1.1059867666656342,
          2.008969214050902,
          0.8252558937212456,
          -1.3105343886723788,
          -0.12665941495734007,
          -0.36516474076413274,
          2.1496410367276595,
          1.977725955395643,
          2.0442887348343164,
          2.084205594165606,
          2.124368493783069,
          1.5054139219412679,
          2.1963159769025364,
          1.8051431316012945,
          1.9742306365571252,
          1.8333678197429397,
          -0.7802088008948672,
          -0.9816081100131101,
          2.104634100707784,
          1.9184656909566074,
          -0.928283211032441,
          1.6186696281759232,
          1.3334669170482065,
          2.204439253166538,
          2.0073969958645135,
          1.768138442583008,
          1.9754878168868086,
          2.1391368861983047,
          1.9075830486460243,
          1.1849652499092727,
          0.1538893685597436,
          0.4351631289809005,
          2.1475285007769926,
          1.716879617228737,
          1.9790146110563662,
          1.446732712482306,
          1.5680492133065074,
          0.8777690473138372,
          1.7283391282860638
         ],
         "yaxis": "y2"
        },
        {
         "bandwidth": 0.2,
         "box": {
          "visible": false
         },
         "customdata": [
          "MN",
          "NE",
          "NY",
          "IA",
          "NJ",
          "IL",
          "KS",
          "MA",
          "CA",
          "PA",
          "MI",
          "FL",
          "VA",
          "TX",
          "MD",
          "CT",
          "GA",
          "LA",
          "OH",
          "IN",
          "CO",
          "TN",
          "NC",
          "WA",
          "RI",
          "WI",
          "AZ",
          "MS",
          "MO",
          "AL",
          "DE",
          "SC",
          "KY",
          "UT",
          "DC",
          "NM",
          "NV",
          "AR",
          "OK",
          "NH",
          "ND",
          "OR",
          "SD",
          "ID",
          "PR",
          "WV",
          "ME",
          "VT",
          "WY",
          "HI",
          "MT",
          "AK",
          "GU"
         ],
         "hoveron": "points",
         "hovertemplate": "%{customdata}: %{y:.2f}<extra></extra>",
         "jitter": 0.1,
         "line": {
          "color": "rgb(44, 160, 44)"
         },
         "meanline": {
          "visible": true
         },
         "name": "skewnorm",
         "pointpos": 0,
         "points": "all",
         "type": "violin",
         "xaxis": "x",
         "y": [
          -0.39452120334094054,
          -0.3941182922272014,
          -0.6760364259016652,
          -0.3897852622166013,
          -0.858440904136224,
          -0.08240681446741023,
          -0.39474455223272936,
          -0.44683570545864915,
          -0.28994205493408004,
          -0.9326234228538905,
          -0.7849034078864596,
          -0.8631426543388276,
          -0.07684219998742421,
          -0.8495962074641632,
          -0.3644397835040814,
          -0.5350095592897942,
          -0.788879680917424,
          -0.45089681865180326,
          -0.37279802260825934,
          -0.2634301915224671,
          -0.24751748082369102,
          -0.15376053974028922,
          -0.1446714875843583,
          -0.8175798232198929,
          -0.7180589830369379,
          -0.11254682432286582,
          -0.19741737501340795,
          -0.24256210849149465,
          -0.873444400400106,
          -0.7504841042326125,
          -0.4115128454803567,
          -0.9302644630114516,
          -0.488473177141353,
          -0.36018145927939754,
          -0.5802391532478334,
          -0.1394913611499529,
          -0.9659991085080435,
          -0.4364960113319344,
          -0.9284828644809874,
          -0.288756513652518,
          -0.4420798363972703,
          -0.9536347392007934,
          -0.374426002054582,
          -0.5250402265332547,
          -0.7865358656138548,
          -0.666736233293194,
          -0.7730240566682501,
          -0.44198712088218745,
          -0.2740540851629202,
          -0.7721555966414669,
          -0.8638349019932522,
          -0.6621428469978382,
          -0.12764142333364228
         ],
         "yaxis": "y"
        },
        {
         "bandwidth": 0.2,
         "box": {
          "visible": false
         },
         "customdata": [
          "United States",
          "Brazil",
          "Ecuador",
          "Russia",
          "Spain",
          "Italy",
          "United Kingdom",
          "Qatar",
          "France",
          "Germany",
          "Peru",
          "Pakistan",
          "Turkey",
          "Mexico",
          "Saudi Arabia",
          "Iran",
          "China",
          "India",
          "Canada",
          "Belgium",
          "Netherlands",
          "Belarus",
          "Switzerland",
          "Sweden",
          "Portugal",
          "South Africa",
          "Chile",
          "Ireland",
          "Singapore",
          "United Arab Emirates",
          "Ukraine",
          "Japan",
          "Israel",
          "Austria",
          "Egypt",
          "Poland",
          "Indonesia",
          "Romania",
          "Bangladesh",
          "Colombia",
          "Korea, South",
          "Serbia",
          "Denmark",
          "Dominican Republic",
          "Philippines",
          "Panama",
          "Norway",
          "Czechia",
          "Australia",
          "Malaysia"
         ],
         "hoveron": "points",
         "hovertemplate": "%{customdata}: %{y:.2f}<extra></extra>",
         "jitter": 0.1,
         "line": {
          "color": "rgb(44, 160, 44)"
         },
         "meanline": {
          "visible": true
         },
         "name": "skewnorm",
         "pointpos": 0,
         "points": "all",
         "type": "violin",
         "xaxis": "x2",
         "y": [
          -0.9639771710290425,
          -0.39691846037003187,
          -0.03258015005663298,
          -0.5608351331551084,
          -0.7281331743550685,
          -0.8108793520448142,
          -0.7620965622900716,
          -0.12530319060844,
          -0.547892348737093,
          -0.590690105559625,
          -0.012527350613062396,
          -0.35758226634038515,
          -0.7288218198296758,
          -0.47102830578327015,
          0.0338266928005452,
          -0.5260928107881958,
          -0.3630836219625866,
          -0.2503945732845044,
          -0.46503841930280126,
          -0.5650887103276585,
          -0.5451652032760572,
          -0.10059288575978084,
          -0.6318690568370763,
          -0.613310759302649,
          -0.7140049823272516,
          0.037399412329665,
          -0.14722621976246364,
          -0.2270456867314057,
          0.2593024074528806,
          -0.4862641916679889,
          -0.6440431000302109,
          0.10484858337003239,
          -0.7876460438047691,
          -0.2648821409566383,
          -0.2750428738023636,
          -0.697692876679874,
          -0.6867721096998622,
          -0.6960463592575222,
          -0.4564279996076519,
          -0.006208083087249372,
          -0.08267623738932384,
          -0.5971283493943784,
          -0.616386054547894,
          -0.34348607506096496,
          -0.9725379634489499,
          -0.6102542967825708,
          -0.6092687793109627,
          -0.5792001833169574,
          -0.0966882165521972,
          -0.6284353991003538
         ],
         "yaxis": "y2"
        },
        {
         "bandwidth": 0.2,
         "box": {
          "visible": false
         },
         "customdata": [
          "MN",
          "NE",
          "NY",
          "IA",
          "NJ",
          "IL",
          "KS",
          "MA",
          "CA",
          "PA",
          "MI",
          "FL",
          "VA",
          "TX",
          "MD",
          "CT",
          "GA",
          "LA",
          "OH",
          "IN",
          "CO",
          "TN",
          "NC",
          "WA",
          "RI",
          "WI",
          "AZ",
          "MS",
          "MO",
          "AL",
          "DE",
          "SC",
          "KY",
          "UT",
          "DC",
          "NM",
          "NV",
          "AR",
          "OK",
          "NH",
          "ND",
          "OR",
          "SD",
          "ID",
          "PR",
          "WV",
          "ME",
          "VT",
          "WY",
          "HI",
          "MT",
          "AK",
          "GU"
         ],
         "hoveron": "points",
         "hovertemplate": "%{customdata}: %{y:.2f}<extra></extra>",
         "jitter": 0.1,
         "line": {
          "color": "rgb(214, 39, 40)"
         },
         "meanline": {
          "visible": true
         },
         "name": "richards",
         "pointpos": 0,
         "points": "all",
         "type": "violin",
         "xaxis": "x",
         "y": [
          -0.44188533722104834,
          -0.450943920674811,
          -0.4815248014936055,
          -0.39038161531333804,
          -0.13645774718056278,
          -0.2408370329975542,
          -0.4452548920233678,
          -0.569372945212782,
          -0.19880190752759214,
          -0.21225203411997623,
          -0.557407502510354,
          -0.2551958357725068,
          -0.31802289536794004,
          -0.13697895775712807,
          -0.23429018266533078,
          -0.6180500907960417,
          -0.35679304992516697,
          -0.501752618838495,
          -0.4911749550132033,
          0.008639343659084718,
          -0.043252361216129034,
          -0.032134857963648504,
          -0.08746519781297821,
          -0.7256838313786348,
          -0.7591964298842415,
          -0.049916130981928604,
          0.009518648639798557,
          -0.30739764414678117,
          -0.10637437429419563,
          -0.468097011139364,
          -0.5261311551626997,
          -0.07288114870024656,
          -0.44836662414789574,
          -0.005244625326399662,
          -0.254987458563014,
          -0.26603459342478386,
          -0.0742105198819035,
          -0.4735806133334478,
          -0.04165524761681852,
          -0.08526510012442284,
          -0.34337282563923277,
          -0.12381598038756131,
          -0.9913790863695141,
          -0.2425869124446964,
          -0.0886464167236873,
          -0.49694849753898596,
          -0.3214545191938894,
          -0.9147366857659419,
          0.02380609434864518,
          -0.8917684966920651,
          -0.8254296476991773,
          -0.6999839641024255,
          -0.7876143080285648
         ],
         "yaxis": "y"
        },
        {
         "bandwidth": 0.2,
         "box": {
          "visible": false
         },
         "customdata": [
          "United States",
          "Brazil",
          "Ecuador",
          "Russia",
          "Spain",
          "Italy",
          "United Kingdom",
          "Qatar",
          "France",
          "Germany",
          "Peru",
          "Pakistan",
          "Turkey",
          "Mexico",
          "Saudi Arabia",
          "Iran",
          "China",
          "India",
          "Canada",
          "Belgium",
          "Netherlands",
          "Belarus",
          "Switzerland",
          "Sweden",
          "Portugal",
          "South Africa",
          "Chile",
          "Ireland",
          "Singapore",
          "United Arab Emirates",
          "Ukraine",
          "Japan",
          "Israel",
          "Austria",
          "Egypt",
          "Poland",
          "Indonesia",
          "Romania",
          "Bangladesh",
          "Colombia",
          "Korea, South",
          "Serbia",
          "Denmark",
          "Dominican Republic",
          "Philippines",
          "Panama",
          "Norway",
          "Czechia",
          "Australia",
          "Malaysia"
         ],
         "hoveron": "points",
         "hovertemplate": "%{customdata}: %{y:.2f}<extra></extra>",
         "jitter": 0.1,
         "line": {
          "color": "rgb(214, 39, 40)"
         },
         "meanline": {
          "visible": true
         },
         "name": "richards",
         "pointpos": 0,
         "points": "all",
         "type": "violin",
         "xaxis": "x2",
         "y": [
          -0.13633138362456582,
          -0.49620909532922813,
          -0.7086571746372741,
          -0.8652422304788371,
          -0.6358092603780683,
          -0.3373562744649855,
          -0.45989778780442875,
          -0.9463758118510804,
          -0.5908488099098472,
          -0.6047025471578044,
          -0.29368887299694735,
          -0.5536800732950596,
          -0.7033931952261878,
          -0.5509962326216645,
          -1.3105343886730247,
          -0.7007101703924357,
          -0.4001487629441208,
          -0.4330538586600477,
          -0.28152237039568434,
          -0.5935325685889289,
          -0.6257049079253384,
          -0.33971727643681854,
          -0.5982676138670591,
          -0.5229717634084696,
          -0.4165810219023378,
          -0.2271257567859135,
          -0.11623583625567929,
          -0.7802088008948684,
          -0.9816081100125826,
          -0.4060553131000597,
          -0.6156217513141655,
          -0.9282832110266619,
          -0.2863866271680829,
          -0.6043186807278701,
          -0.5042743323579044,
          -0.4679440567839553,
          -0.6057256175665863,
          -0.42505713168067416,
          -0.4231059336676457,
          -0.18650310676129683,
          0.010730653514049277,
          -0.7927106575411915,
          -0.7854535134845325,
          -0.45490440117002184,
          -0.08410243998456486,
          -0.2861573091303233,
          -0.7134663691879248,
          -0.594369758709584,
          -0.8065995309053059,
          -0.6754819815885194
         ],
         "yaxis": "y2"
        },
        {
         "bandwidth": 0.2,
         "box": {
          "visible": false
         },
         "customdata": [
          "MN",
          "NE",
          "NY",
          "IA",
          "NJ",
          "IL",
          "KS",
          "MA",
          "CA",
          "PA",
          "MI",
          "FL",
          "VA",
          "TX",
          "MD",
          "CT",
          "GA",
          "LA",
          "OH",
          "IN",
          "CO",
          "TN",
          "NC",
          "WA",
          "RI",
          "WI",
          "AZ",
          "MS",
          "MO",
          "AL",
          "DE",
          "SC",
          "KY",
          "UT",
          "DC",
          "NM",
          "NV",
          "AR",
          "OK",
          "NH",
          "ND",
          "OR",
          "SD",
          "ID",
          "PR",
          "WV",
          "ME",
          "VT",
          "WY",
          "HI",
          "MT",
          "AK",
          "GU"
         ],
         "hoveron": "points",
         "hovertemplate": "%{customdata}: %{y:.2f}<extra></extra>",
         "jitter": 0.1,
         "line": {
          "color": "rgb(148, 103, 189)"
         },
         "meanline": {
          "visible": true
         },
         "name": "loglogistic",
         "pointpos": 0,
         "points": "all",
         "type": "violin",
         "xaxis": "x",
         "y": [
          -0.26638215367436524,
          -0.28575545578029177,
          -0.7637117401565192,
          -0.43280778738372594,
          -0.7576678888810355,
          -1.4064387319936176,
          -0.6640175450744971,
          -0.6847373633020559,
          -1.0685259824762134,
          -0.6146411403881679,
          -0.7309360293557301,
          -0.6406739541585026,
          -1.3413887623524856,
          -0.7276975273923364,
          -0.9279822283748487,
          -0.6366557540316787,
          -0.5779207619983072,
          -0.734663666734265,
          -0.7398999631772413,
          -1.2036792493384696,
          -1.1672396394662312,
          -1.2441983736682867,
          -1.1775787684535466,
          -0.7776657522775355,
          -0.6303488817155586,
          -1.2994617823719057,
          -1.2426743234753814,
          -0.8941877179516277,
          -0.7640763927338307,
          -0.5549172000939259,
          -0.5336537563037764,
          -0.7371140506807901,
          -0.5929039894182557,
          -1.129975206122449,
          -0.7260817898474313,
          -1.0131048578553166,
          -0.71739031752275,
          -0.936645482242236,
          -0.7727297128285154,
          -1.0873029838173027,
          -0.5656527700005224,
          -0.6814314773370092,
          -0.9137946696347051,
          -0.855407019461001,
          -0.8498432079928071,
          -0.6155922824033726,
          -0.6778260115598723,
          -1.2023837239191293,
          -1.212465533406657,
          -0.94860582869969,
          -0.7147477597104648,
          -0.6921839567845061,
          -1.294610869756988
         ],
         "yaxis": "y"
        },
        {
         "bandwidth": 0.2,
         "box": {
          "visible": false
         },
         "customdata": [
          "United States",
          "Brazil",
          "Ecuador",
          "Russia",
          "Spain",
          "Italy",
          "United Kingdom",
          "Qatar",
          "France",
          "Germany",
          "Peru",
          "Pakistan",
          "Turkey",
          "Mexico",
          "Saudi Arabia",
          "Iran",
          "China",
          "India",
          "Canada",
          "Belgium",
          "Netherlands",
          "Belarus",
          "Switzerland",
          "Sweden",
          "Portugal",
          "South Africa",
          "Chile",
          "Ireland",
          "Singapore",
          "United Arab Emirates",
          "Ukraine",
          "Japan",
          "Israel",
          "Austria",
          "Egypt",
          "Poland",
          "Indonesia",
          "Romania",
          "Bangladesh",
          "Colombia",
          "Korea, South",
          "Serbia",
          "Denmark",
          "Dominican Republic",
          "Philippines",
          "Panama",
          "Norway",
          "Czechia",
          "Australia",
          "Malaysia"
         ],
         "hoveron": "points",
         "hovertemplate": "%{customdata}: %{y:.2f}<extra></extra>",
         "jitter": 0.1,
         "line": {
          "color": "rgb(148, 103, 189)"
         },
         "meanline": {
          "visible": true
         },
         "name": "loglogistic",
         "pointpos": 0,
         "points": "all",
         "type": "violin",
         "xaxis": "x2",
         "y": [
          -0.6541625741051341,
          -0.8910705692586116,
          -0.7045518624780751,
          -0.44322569646666743,
          -0.5895486153160828,
          -0.6197209808129502,
          -0.4498406899114495,
          0.06267734926339724,
          -0.5908428470448315,
          -0.6895303486828109,
          -0.949438729302805,
          -1.0341845043880002,
          -0.8101351574236108,
          -0.7289517069584278,
          0.8393388324849606,
          -0.7931117237546287,
          -0.43997890433259285,
          -0.6688912284721589,
          -0.7878182617410986,
          -0.5278167411007947,
          -0.5720631481888487,
          -0.8401621178036255,
          -0.6058099301986063,
          -0.45719802464839876,
          -0.6193074854037085,
          -1.327164740156203,
          -1.1474004708084848,
          -0.7802088936828684,
          -0.9816061553680304,
          -0.5402524249858865,
          -0.7559367777941082,
          -0.9282826917556267,
          -0.7014927095678318,
          -0.8414861416483487,
          -0.6816313371358584,
          -0.48728270621416686,
          -0.8065393127220161,
          -0.5372591020949521,
          -0.5100638724225153,
          -1.1348078500303511,
          -1.1705518562248678,
          -0.8283606912547393,
          -0.9212301144520868,
          -0.6772709752688376,
          -0.7008279622088898,
          -0.7015603973298706,
          -0.8368651094430286,
          -0.6798827982023007,
          -1.3505744848142163,
          -0.6278874968687961
         ],
         "yaxis": "y2"
        },
        {
         "bandwidth": 0.2,
         "box": {
          "visible": false
         },
         "customdata": [
          "MN",
          "NE",
          "NY",
          "IA",
          "NJ",
          "IL",
          "KS",
          "MA",
          "CA",
          "PA",
          "MI",
          "FL",
          "VA",
          "TX",
          "MD",
          "CT",
          "GA",
          "LA",
          "OH",
          "IN",
          "CO",
          "TN",
          "NC",
          "WA",
          "RI",
          "WI",
          "AZ",
          "MS",
          "MO",
          "AL",
          "DE",
          "SC",
          "KY",
          "UT",
          "DC",
          "NM",
          "NV",
          "AR",
          "OK",
          "NH",
          "ND",
          "OR",
          "SD",
          "ID",
          "PR",
          "WV",
          "ME",
          "VT",
          "WY",
          "HI",
          "MT",
          "AK",
          "GU"
         ],
         "hoveron": "points",
         "hovertemplate": "%{customdata}: %{y:.2f}<extra></extra>",
         "jitter": 0.1,
         "line": {
          "color": "rgb(140, 86, 75)"
         },
         "meanline": {
          "visible": true
         },
         "name": "invweibull",
         "pointpos": 0,
         "points": "all",
         "type": "violin",
         "xaxis": "x",
         "y": [
          2.263427426679129,
          2.2629990568630025,
          -0.4200018874740395,
          2.2640968352732322,
          -0.8129280821091784,
          -0.3930199188545948,
          2.1924385810539033,
          -0.20607105194474454,
          -0.7943258953914213,
          -0.7656917850866092,
          -0.04218657242777969,
          -0.7709776401971586,
          -0.2743275175319259,
          -0.8244480737346396,
          -0.8227838852208866,
          0.18198983011413872,
          -0.6503306083147012,
          -0.7198929309872331,
          0.13338491349966544,
          -1.0069158619905618,
          -0.9769401222306601,
          -0.9645876260226947,
          -0.9607853971845755,
          0.4047992164845207,
          1.0809908344155317,
          -0.9004821847805865,
          -1.0079890516524044,
          -0.7985023029702466,
          -0.85669584092847,
          -0.4772899065910342,
          -0.1142228760712465,
          -0.8480384783451327,
          -0.5427159608761937,
          -1.003609929606247,
          -0.8309013477050343,
          -0.7844382433322196,
          -0.8419226963630728,
          0.8738736864136276,
          -0.8767155844887818,
          -0.9724839490027801,
          2.2458815930107003,
          -0.8228669924434087,
          1.920267080749952,
          -0.9513128440603491,
          -0.8792625225689831,
          -0.5136320010051714,
          -0.6909772677228808,
          1.0732114006469862,
          -0.9878453828856385,
          1.7749170822675042,
          0.6405406520424535,
          -0.09904070420949894,
          0.8077803308595422
         ],
         "yaxis": "y"
        },
        {
         "bandwidth": 0.2,
         "box": {
          "visible": false
         },
         "customdata": [
          "United States",
          "Brazil",
          "Ecuador",
          "Russia",
          "Spain",
          "Italy",
          "United Kingdom",
          "Qatar",
          "France",
          "Germany",
          "Peru",
          "Pakistan",
          "Turkey",
          "Mexico",
          "Saudi Arabia",
          "Iran",
          "China",
          "India",
          "Canada",
          "Belgium",
          "Netherlands",
          "Belarus",
          "Switzerland",
          "Sweden",
          "Portugal",
          "South Africa",
          "Chile",
          "Ireland",
          "Singapore",
          "United Arab Emirates",
          "Ukraine",
          "Japan",
          "Israel",
          "Austria",
          "Egypt",
          "Poland",
          "Indonesia",
          "Romania",
          "Bangladesh",
          "Colombia",
          "Korea, South",
          "Serbia",
          "Denmark",
          "Dominican Republic",
          "Philippines",
          "Panama",
          "Norway",
          "Czechia",
          "Australia",
          "Malaysia"
         ],
         "hoveron": "points",
         "hovertemplate": "%{customdata}: %{y:.2f}<extra></extra>",
         "jitter": 0.1,
         "line": {
          "color": "rgb(140, 86, 75)"
         },
         "meanline": {
          "visible": true
         },
         "name": "invweibull",
         "pointpos": 0,
         "points": "all",
         "type": "violin",
         "xaxis": "x2",
         "y": [
          -0.7900119787907297,
          1.9616803984111564,
          2.1195618107464673,
          0.4722191143503763,
          -0.29435915047876077,
          -0.734900793087702,
          -0.5728445302653774,
          2.0425377681033394,
          1.779621198531201,
          -0.42468609062544627,
          -0.7281184159014386,
          1.6922851623175363,
          0.38210691622447535,
          1.9339202569622609,
          1.2981685555436753,
          1.9980233606714675,
          2.2664316908655007,
          -0.6383472305684443,
          -0.8157245388816902,
          -0.3774442144569387,
          -0.18856490919067026,
          -0.7054257855289283,
          -0.48953122925817355,
          -0.19766809563552135,
          -0.6665731038931056,
          -0.3742770378293649,
          -0.9362101366803913,
          1.6850211183734114,
          1.3388050208399915,
          -0.7147443194722278,
          0.7344594321437231,
          1.4840213581922468,
          -0.7796287888593858,
          -0.5654167690074904,
          -0.29250944494019304,
          -0.5763448464990711,
          0.9774695167842867,
          -0.6377625041638623,
          -0.6689159973450923,
          -0.8772802652991911,
          -1.2448483973406015,
          1.7867293331195644,
          1.9087633391861218,
          -0.540839451448169,
          -0.8302138523243754,
          -0.7721658999693573,
          -0.058005665191751495,
          -0.46876831200742897,
          0.16552809531849416,
          -0.24577099980504782
         ],
         "yaxis": "y2"
        },
        {
         "bandwidth": 0.2,
         "box": {
          "visible": false
         },
         "customdata": [
          "MN",
          "NE",
          "NY",
          "IA",
          "NJ",
          "IL",
          "KS",
          "MA",
          "CA",
          "PA",
          "MI",
          "FL",
          "VA",
          "TX",
          "MD",
          "CT",
          "GA",
          "LA",
          "OH",
          "IN",
          "CO",
          "TN",
          "NC",
          "WA",
          "RI",
          "WI",
          "AZ",
          "MS",
          "MO",
          "AL",
          "DE",
          "SC",
          "KY",
          "UT",
          "DC",
          "NM",
          "NV",
          "AR",
          "OK",
          "NH",
          "ND",
          "OR",
          "SD",
          "ID",
          "PR",
          "WV",
          "ME",
          "VT",
          "WY",
          "HI",
          "MT",
          "AK",
          "GU"
         ],
         "hoveron": "points",
         "hovertemplate": "%{customdata}: %{y:.2f}<extra></extra>",
         "jitter": 0.1,
         "line": {
          "color": "rgb(227, 119, 194)"
         },
         "meanline": {
          "visible": true
         },
         "name": "gompertz",
         "pointpos": 0,
         "points": "all",
         "type": "violin",
         "xaxis": "x",
         "y": [
          -0.3354962434914999,
          -0.3038990503490552,
          -0.48159653879523323,
          -0.40706699584481415,
          -0.1365534385162283,
          -0.2433298642898985,
          -0.4820310348295128,
          -0.5694102830063097,
          -0.1988763803961087,
          -0.2123037951738066,
          -0.5574665875072414,
          -0.2552623841276522,
          -0.31816934591819507,
          -0.13708925988637904,
          -0.23445476925482486,
          -0.6122713728280691,
          -0.35681596655187525,
          -0.501976789513266,
          -0.4912128517642134,
          0.008610263707963441,
          -0.04333494504138332,
          -0.0322863012146184,
          -0.08768195790168928,
          -0.7208316677306295,
          -0.2877470054514377,
          -0.04997551356278437,
          0.009347953603620092,
          -0.3074736854706025,
          -0.10690489440428758,
          -0.4681182129241254,
          -0.5261723384560164,
          -0.07293674017170024,
          -0.44840679036565295,
          -0.005419575669306072,
          -0.25510376678896624,
          -0.26613483697845614,
          -0.07428526689641338,
          -0.4737446538608993,
          -0.04170413434596167,
          -0.0854001697160517,
          -0.3377298568565436,
          -0.12386209676442321,
          0.574186581766143,
          -0.24269283140633016,
          -0.08869739165082233,
          -0.49699621283629825,
          -0.3215118214134712,
          -0.5136200157237031,
          0.02362787615547874,
          -0.18587933828687395,
          -0.7316758572153528,
          -0.7000259310276568,
          -0.7315083022600539
         ],
         "yaxis": "y"
        },
        {
         "bandwidth": 0.2,
         "box": {
          "visible": false
         },
         "customdata": [
          "United States",
          "Brazil",
          "Ecuador",
          "Russia",
          "Spain",
          "Italy",
          "United Kingdom",
          "Qatar",
          "France",
          "Germany",
          "Peru",
          "Pakistan",
          "Turkey",
          "Mexico",
          "Saudi Arabia",
          "Iran",
          "China",
          "India",
          "Canada",
          "Belgium",
          "Netherlands",
          "Belarus",
          "Switzerland",
          "Sweden",
          "Portugal",
          "South Africa",
          "Chile",
          "Ireland",
          "Singapore",
          "United Arab Emirates",
          "Ukraine",
          "Japan",
          "Israel",
          "Austria",
          "Egypt",
          "Poland",
          "Indonesia",
          "Romania",
          "Bangladesh",
          "Colombia",
          "Korea, South",
          "Serbia",
          "Denmark",
          "Dominican Republic",
          "Philippines",
          "Panama",
          "Norway",
          "Czechia",
          "Australia",
          "Malaysia"
         ],
         "hoveron": "points",
         "hovertemplate": "%{customdata}: %{y:.2f}<extra></extra>",
         "jitter": 0.1,
         "line": {
          "color": "rgb(227, 119, 194)"
         },
         "meanline": {
          "visible": true
         },
         "name": "gompertz",
         "pointpos": 0,
         "points": "all",
         "type": "violin",
         "xaxis": "x2",
         "y": [
          -0.13639523672447673,
          -0.5623900191946488,
          0.06746471583270834,
          -0.09018037646510106,
          -0.6185910002899988,
          -0.33738527442139665,
          -0.4607711373763589,
          0.03814289435347083,
          1.0887039996326786,
          -0.603544052573365,
          -0.3091482084779555,
          -0.576985778333251,
          -0.32407790723008184,
          -0.587276033223129,
          0.41590800377661047,
          0.6146603275734579,
          -0.3686628072776494,
          -0.44091479493411645,
          -0.28161871803154914,
          -0.5935401412643283,
          -0.6208271102948026,
          -0.34167492600367066,
          -0.5983448053671471,
          -0.5159234049349649,
          -0.4166248326583306,
          -0.31035213520451155,
          -0.11638511269040192,
          1.109696750910469,
          1.0874125397843477,
          -0.406174137704436,
          0.006719606026784174,
          1.09113058887897,
          -0.28643988974013024,
          -0.6044197651056353,
          -0.5071209651622572,
          -0.4680221689920404,
          0.008488331710923527,
          -0.4251304603822289,
          -0.44397255403223257,
          -0.18659829428857402,
          0.010499232687382868,
          0.8716809609293251,
          0.390510598490583,
          -0.4550091381068333,
          -0.08414543056694856,
          -0.2862521010820657,
          -0.6210153635185633,
          -0.5940220743429443,
          -0.39105705029918186,
          -0.6715077264966728
         ],
         "yaxis": "y2"
        }
       ],
       "layout": {
        "height": 700,
        "showlegend": false,
        "template": {
         "data": {
          "bar": [
           {
            "error_x": {
             "color": "#2a3f5f"
            },
            "error_y": {
             "color": "#2a3f5f"
            },
            "marker": {
             "line": {
              "color": "#E5ECF6",
              "width": 0.5
             }
            },
            "type": "bar"
           }
          ],
          "barpolar": [
           {
            "marker": {
             "line": {
              "color": "#E5ECF6",
              "width": 0.5
             }
            },
            "type": "barpolar"
           }
          ],
          "carpet": [
           {
            "aaxis": {
             "endlinecolor": "#2a3f5f",
             "gridcolor": "white",
             "linecolor": "white",
             "minorgridcolor": "white",
             "startlinecolor": "#2a3f5f"
            },
            "baxis": {
             "endlinecolor": "#2a3f5f",
             "gridcolor": "white",
             "linecolor": "white",
             "minorgridcolor": "white",
             "startlinecolor": "#2a3f5f"
            },
            "type": "carpet"
           }
          ],
          "choropleth": [
           {
            "colorbar": {
             "outlinewidth": 0,
             "ticks": ""
            },
            "type": "choropleth"
           }
          ],
          "contour": [
           {
            "colorbar": {
             "outlinewidth": 0,
             "ticks": ""
            },
            "colorscale": [
             [
              0,
              "#0d0887"
             ],
             [
              0.1111111111111111,
              "#46039f"
             ],
             [
              0.2222222222222222,
              "#7201a8"
             ],
             [
              0.3333333333333333,
              "#9c179e"
             ],
             [
              0.4444444444444444,
              "#bd3786"
             ],
             [
              0.5555555555555556,
              "#d8576b"
             ],
             [
              0.6666666666666666,
              "#ed7953"
             ],
             [
              0.7777777777777778,
              "#fb9f3a"
             ],
             [
              0.8888888888888888,
              "#fdca26"
             ],
             [
              1,
              "#f0f921"
             ]
            ],
            "type": "contour"
           }
          ],
          "contourcarpet": [
           {
            "colorbar": {
             "outlinewidth": 0,
             "ticks": ""
            },
            "type": "contourcarpet"
           }
          ],
          "heatmap": [
           {
            "colorbar": {
             "outlinewidth": 0,
             "ticks": ""
            },
            "colorscale": [
             [
              0,
              "#0d0887"
             ],
             [
              0.1111111111111111,
              "#46039f"
             ],
             [
              0.2222222222222222,
              "#7201a8"
             ],
             [
              0.3333333333333333,
              "#9c179e"
             ],
             [
              0.4444444444444444,
              "#bd3786"
             ],
             [
              0.5555555555555556,
              "#d8576b"
             ],
             [
              0.6666666666666666,
              "#ed7953"
             ],
             [
              0.7777777777777778,
              "#fb9f3a"
             ],
             [
              0.8888888888888888,
              "#fdca26"
             ],
             [
              1,
              "#f0f921"
             ]
            ],
            "type": "heatmap"
           }
          ],
          "heatmapgl": [
           {
            "colorbar": {
             "outlinewidth": 0,
             "ticks": ""
            },
            "colorscale": [
             [
              0,
              "#0d0887"
             ],
             [
              0.1111111111111111,
              "#46039f"
             ],
             [
              0.2222222222222222,
              "#7201a8"
             ],
             [
              0.3333333333333333,
              "#9c179e"
             ],
             [
              0.4444444444444444,
              "#bd3786"
             ],
             [
              0.5555555555555556,
              "#d8576b"
             ],
             [
              0.6666666666666666,
              "#ed7953"
             ],
             [
              0.7777777777777778,
              "#fb9f3a"
             ],
             [
              0.8888888888888888,
              "#fdca26"
             ],
             [
              1,
              "#f0f921"
             ]
            ],
            "type": "heatmapgl"
           }
          ],
          "histogram": [
           {
            "marker": {
             "colorbar": {
              "outlinewidth": 0,
              "ticks": ""
             }
            },
            "type": "histogram"
           }
          ],
          "histogram2d": [
           {
            "colorbar": {
             "outlinewidth": 0,
             "ticks": ""
            },
            "colorscale": [
             [
              0,
              "#0d0887"
             ],
             [
              0.1111111111111111,
              "#46039f"
             ],
             [
              0.2222222222222222,
              "#7201a8"
             ],
             [
              0.3333333333333333,
              "#9c179e"
             ],
             [
              0.4444444444444444,
              "#bd3786"
             ],
             [
              0.5555555555555556,
              "#d8576b"
             ],
             [
              0.6666666666666666,
              "#ed7953"
             ],
             [
              0.7777777777777778,
              "#fb9f3a"
             ],
             [
              0.8888888888888888,
              "#fdca26"
             ],
             [
              1,
              "#f0f921"
             ]
            ],
            "type": "histogram2d"
           }
          ],
          "histogram2dcontour": [
           {
            "colorbar": {
             "outlinewidth": 0,
             "ticks": ""
            },
            "colorscale": [
             [
              0,
              "#0d0887"
             ],
             [
              0.1111111111111111,
              "#46039f"
             ],
             [
              0.2222222222222222,
              "#7201a8"
             ],
             [
              0.3333333333333333,
              "#9c179e"
             ],
             [
              0.4444444444444444,
              "#bd3786"
             ],
             [
              0.5555555555555556,
              "#d8576b"
             ],
             [
              0.6666666666666666,
              "#ed7953"
             ],
             [
              0.7777777777777778,
              "#fb9f3a"
             ],
             [
              0.8888888888888888,
              "#fdca26"
             ],
             [
              1,
              "#f0f921"
             ]
            ],
            "type": "histogram2dcontour"
           }
          ],
          "mesh3d": [
           {
            "colorbar": {
             "outlinewidth": 0,
             "ticks": ""
            },
            "type": "mesh3d"
           }
          ],
          "parcoords": [
           {
            "line": {
             "colorbar": {
              "outlinewidth": 0,
              "ticks": ""
             }
            },
            "type": "parcoords"
           }
          ],
          "pie": [
           {
            "automargin": true,
            "type": "pie"
           }
          ],
          "scatter": [
           {
            "marker": {
             "colorbar": {
              "outlinewidth": 0,
              "ticks": ""
             }
            },
            "type": "scatter"
           }
          ],
          "scatter3d": [
           {
            "line": {
             "colorbar": {
              "outlinewidth": 0,
              "ticks": ""
             }
            },
            "marker": {
             "colorbar": {
              "outlinewidth": 0,
              "ticks": ""
             }
            },
            "type": "scatter3d"
           }
          ],
          "scattercarpet": [
           {
            "marker": {
             "colorbar": {
              "outlinewidth": 0,
              "ticks": ""
             }
            },
            "type": "scattercarpet"
           }
          ],
          "scattergeo": [
           {
            "marker": {
             "colorbar": {
              "outlinewidth": 0,
              "ticks": ""
             }
            },
            "type": "scattergeo"
           }
          ],
          "scattergl": [
           {
            "marker": {
             "colorbar": {
              "outlinewidth": 0,
              "ticks": ""
             }
            },
            "type": "scattergl"
           }
          ],
          "scattermapbox": [
           {
            "marker": {
             "colorbar": {
              "outlinewidth": 0,
              "ticks": ""
             }
            },
            "type": "scattermapbox"
           }
          ],
          "scatterpolar": [
           {
            "marker": {
             "colorbar": {
              "outlinewidth": 0,
              "ticks": ""
             }
            },
            "type": "scatterpolar"
           }
          ],
          "scatterpolargl": [
           {
            "marker": {
             "colorbar": {
              "outlinewidth": 0,
              "ticks": ""
             }
            },
            "type": "scatterpolargl"
           }
          ],
          "scatterternary": [
           {
            "marker": {
             "colorbar": {
              "outlinewidth": 0,
              "ticks": ""
             }
            },
            "type": "scatterternary"
           }
          ],
          "surface": [
           {
            "colorbar": {
             "outlinewidth": 0,
             "ticks": ""
            },
            "colorscale": [
             [
              0,
              "#0d0887"
             ],
             [
              0.1111111111111111,
              "#46039f"
             ],
             [
              0.2222222222222222,
              "#7201a8"
             ],
             [
              0.3333333333333333,
              "#9c179e"
             ],
             [
              0.4444444444444444,
              "#bd3786"
             ],
             [
              0.5555555555555556,
              "#d8576b"
             ],
             [
              0.6666666666666666,
              "#ed7953"
             ],
             [
              0.7777777777777778,
              "#fb9f3a"
             ],
             [
              0.8888888888888888,
              "#fdca26"
             ],
             [
              1,
              "#f0f921"
             ]
            ],
            "type": "surface"
           }
          ],
          "table": [
           {
            "cells": {
             "fill": {
              "color": "#EBF0F8"
             },
             "line": {
              "color": "white"
             }
            },
            "header": {
             "fill": {
              "color": "#C8D4E3"
             },
             "line": {
              "color": "white"
             }
            },
            "type": "table"
           }
          ]
         },
         "layout": {
          "annotationdefaults": {
           "arrowcolor": "#2a3f5f",
           "arrowhead": 0,
           "arrowwidth": 1
          },
          "coloraxis": {
           "colorbar": {
            "outlinewidth": 0,
            "ticks": ""
           }
          },
          "colorscale": {
           "diverging": [
            [
             0,
             "#8e0152"
            ],
            [
             0.1,
             "#c51b7d"
            ],
            [
             0.2,
             "#de77ae"
            ],
            [
             0.3,
             "#f1b6da"
            ],
            [
             0.4,
             "#fde0ef"
            ],
            [
             0.5,
             "#f7f7f7"
            ],
            [
             0.6,
             "#e6f5d0"
            ],
            [
             0.7,
             "#b8e186"
            ],
            [
             0.8,
             "#7fbc41"
            ],
            [
             0.9,
             "#4d9221"
            ],
            [
             1,
             "#276419"
            ]
           ],
           "sequential": [
            [
             0,
             "#0d0887"
            ],
            [
             0.1111111111111111,
             "#46039f"
            ],
            [
             0.2222222222222222,
             "#7201a8"
            ],
            [
             0.3333333333333333,
             "#9c179e"
            ],
            [
             0.4444444444444444,
             "#bd3786"
            ],
            [
             0.5555555555555556,
             "#d8576b"
            ],
            [
             0.6666666666666666,
             "#ed7953"
            ],
            [
             0.7777777777777778,
             "#fb9f3a"
            ],
            [
             0.8888888888888888,
             "#fdca26"
            ],
            [
             1,
             "#f0f921"
            ]
           ],
           "sequentialminus": [
            [
             0,
             "#0d0887"
            ],
            [
             0.1111111111111111,
             "#46039f"
            ],
            [
             0.2222222222222222,
             "#7201a8"
            ],
            [
             0.3333333333333333,
             "#9c179e"
            ],
            [
             0.4444444444444444,
             "#bd3786"
            ],
            [
             0.5555555555555556,
             "#d8576b"
            ],
            [
             0.6666666666666666,
             "#ed7953"
            ],
            [
             0.7777777777777778,
             "#fb9f3a"
            ],
            [
             0.8888888888888888,
             "#fdca26"
            ],
            [
             1,
             "#f0f921"
            ]
           ]
          },
          "colorway": [
           "#636efa",
           "#EF553B",
           "#00cc96",
           "#ab63fa",
           "#FFA15A",
           "#19d3f3",
           "#FF6692",
           "#B6E880",
           "#FF97FF",
           "#FECB52"
          ],
          "font": {
           "color": "#2a3f5f"
          },
          "geo": {
           "bgcolor": "white",
           "lakecolor": "white",
           "landcolor": "#E5ECF6",
           "showlakes": true,
           "showland": true,
           "subunitcolor": "white"
          },
          "hoverlabel": {
           "align": "left"
          },
          "hovermode": "closest",
          "mapbox": {
           "style": "light"
          },
          "paper_bgcolor": "white",
          "plot_bgcolor": "#E5ECF6",
          "polar": {
           "angularaxis": {
            "gridcolor": "white",
            "linecolor": "white",
            "ticks": ""
           },
           "bgcolor": "#E5ECF6",
           "radialaxis": {
            "gridcolor": "white",
            "linecolor": "white",
            "ticks": ""
           }
          },
          "scene": {
           "xaxis": {
            "backgroundcolor": "#E5ECF6",
            "gridcolor": "white",
            "gridwidth": 2,
            "linecolor": "white",
            "showbackground": true,
            "ticks": "",
            "zerolinecolor": "white"
           },
           "yaxis": {
            "backgroundcolor": "#E5ECF6",
            "gridcolor": "white",
            "gridwidth": 2,
            "linecolor": "white",
            "showbackground": true,
            "ticks": "",
            "zerolinecolor": "white"
           },
           "zaxis": {
            "backgroundcolor": "#E5ECF6",
            "gridcolor": "white",
            "gridwidth": 2,
            "linecolor": "white",
            "showbackground": true,
            "ticks": "",
            "zerolinecolor": "white"
           }
          },
          "shapedefaults": {
           "line": {
            "color": "#2a3f5f"
           }
          },
          "ternary": {
           "aaxis": {
            "gridcolor": "white",
            "linecolor": "white",
            "ticks": ""
           },
           "baxis": {
            "gridcolor": "white",
            "linecolor": "white",
            "ticks": ""
           },
           "bgcolor": "#E5ECF6",
           "caxis": {
            "gridcolor": "white",
            "linecolor": "white",
            "ticks": ""
           }
          },
          "title": {
           "x": 0.05
          },
          "xaxis": {
           "automargin": true,
           "gridcolor": "white",
           "linecolor": "white",
           "ticks": "",
           "title": {
            "standoff": 15
           },
           "zerolinecolor": "white",
           "zerolinewidth": 2
          },
          "yaxis": {
           "automargin": true,
           "gridcolor": "white",
           "linecolor": "white",
           "ticks": "",
           "title": {
            "standoff": 15
           },
           "zerolinecolor": "white",
           "zerolinewidth": 2
          }
         }
        },
        "title": {
         "text": "Comparison of Models on State & Country Data",
         "x": 0.5
        },
        "xaxis": {
         "anchor": "y",
         "domain": [
          0,
          1
         ],
         "linecolor": "black",
         "linewidth": 1.5,
         "mirror": true,
         "showline": true
        },
        "xaxis2": {
         "anchor": "y2",
         "domain": [
          0,
          1
         ],
         "linecolor": "black",
         "linewidth": 1.5,
         "mirror": true,
         "showline": true
        },
        "yaxis": {
         "anchor": "x",
         "domain": [
          0.575,
          1
         ],
         "linecolor": "black",
         "linewidth": 1.5,
         "mirror": true,
         "showline": true,
         "title": {
          "text": "Standard RMSE Score by State"
         }
        },
        "yaxis2": {
         "anchor": "x2",
         "domain": [
          0,
          0.425
         ],
         "linecolor": "black",
         "linewidth": 1.5,
         "mirror": true,
         "showline": true,
         "title": {
          "text": "Standard RMSE Score by Country"
         }
        }
       }
      },
      "text/html": [
       "<div>\n",
       "        \n",
       "        \n",
       "            <div id=\"ec49009f-2d7c-4c73-9d75-bf48ed5492ba\" class=\"plotly-graph-div\" style=\"height:700px; width:100%;\"></div>\n",
       "            <script type=\"text/javascript\">\n",
       "                require([\"plotly\"], function(Plotly) {\n",
       "                    window.PLOTLYENV=window.PLOTLYENV || {};\n",
       "                    \n",
       "                if (document.getElementById(\"ec49009f-2d7c-4c73-9d75-bf48ed5492ba\")) {\n",
       "                    Plotly.newPlot(\n",
       "                        'ec49009f-2d7c-4c73-9d75-bf48ed5492ba',\n",
       "                        [{\"bandwidth\": 0.2, \"box\": {\"visible\": false}, \"customdata\": [\"MN\", \"NE\", \"NY\", \"IA\", \"NJ\", \"IL\", \"KS\", \"MA\", \"CA\", \"PA\", \"MI\", \"FL\", \"VA\", \"TX\", \"MD\", \"CT\", \"GA\", \"LA\", \"OH\", \"IN\", \"CO\", \"TN\", \"NC\", \"WA\", \"RI\", \"WI\", \"AZ\", \"MS\", \"MO\", \"AL\", \"DE\", \"SC\", \"KY\", \"UT\", \"DC\", \"NM\", \"NV\", \"AR\", \"OK\", \"NH\", \"ND\", \"OR\", \"SD\", \"ID\", \"PR\", \"WV\", \"ME\", \"VT\", \"WY\", \"HI\", \"MT\", \"AK\", \"GU\"], \"hoveron\": \"points\", \"hovertemplate\": \"%{customdata}: %{y:.2f}<extra></extra>\", \"jitter\": 0.1, \"line\": {\"color\": \"rgb(31, 119, 180)\"}, \"meanline\": {\"visible\": true}, \"name\": \"normal\", \"pointpos\": 0, \"points\": \"all\", \"type\": \"violin\", \"xaxis\": \"x\", \"y\": [-0.38063843775043127, -0.3746507151179864, 1.0020369123130404, -0.3895016950843309, 0.9384909421949559, 0.49584513865636465, -0.37205038647457706, 0.3510137283420401, 0.6381709983049262, 0.9631481369730983, 0.764519169890617, 1.0454838537188387, 0.3879715924424545, 0.8628304830110066, 0.6283500095937248, 0.09652460760228068, 0.8007210417253585, 1.4952533236917414, -0.22104391357332837, 0.7541204854260553, 0.7160844947161196, 0.688727879489089, 0.6666857778620083, 1.177169981486958, -0.4372513833354394, 0.6708966997841871, 0.7402515635535477, 0.545888288657004, 1.013642683908118, 0.7403573924356355, -0.11665704429898552, 0.9303770946584924, 0.38412486068183077, 0.7778480428570271, 0.6866717709624167, 0.4767328081818734, 0.9779379685093271, -0.4328788165443601, 0.9933915995916316, 0.711472411597794, -0.44207984888313157, 0.9934427298500259, -0.07780444710779444, 1.3768139956323633, 0.9970541087471799, 0.8816581211722339, 0.9557646408654396, 1.23165990740554, 0.697296421543396, 0.5084469947997775, 1.2084051979020711, 1.3224198121108266, 1.4011830706492283], \"yaxis\": \"y\"}, {\"bandwidth\": 0.2, \"box\": {\"visible\": false}, \"customdata\": [\"United States\", \"Brazil\", \"Ecuador\", \"Russia\", \"Spain\", \"Italy\", \"United Kingdom\", \"Qatar\", \"France\", \"Germany\", \"Peru\", \"Pakistan\", \"Turkey\", \"Mexico\", \"Saudi Arabia\", \"Iran\", \"China\", \"India\", \"Canada\", \"Belgium\", \"Netherlands\", \"Belarus\", \"Switzerland\", \"Sweden\", \"Portugal\", \"South Africa\", \"Chile\", \"Ireland\", \"Singapore\", \"United Arab Emirates\", \"Ukraine\", \"Japan\", \"Israel\", \"Austria\", \"Egypt\", \"Poland\", \"Indonesia\", \"Romania\", \"Bangladesh\", \"Colombia\", \"Korea, South\", \"Serbia\", \"Denmark\", \"Dominican Republic\", \"Philippines\", \"Panama\", \"Norway\", \"Czechia\", \"Australia\", \"Malaysia\"], \"hoveron\": \"points\", \"hovertemplate\": \"%{customdata}: %{y:.2f}<extra></extra>\", \"jitter\": 0.1, \"line\": {\"color\": \"rgb(31, 119, 180)\"}, \"meanline\": {\"visible\": true}, \"name\": \"normal\", \"pointpos\": 0, \"points\": \"all\", \"type\": \"violin\", \"xaxis\": \"x2\", \"y\": [0.9000097461323574, -0.33843029743627, -0.03258016478655965, -0.5608351331703315, 1.1682145806507367, 1.1397518478121131, 0.7182359742561132, -0.12530319740974136, -0.5478923825624704, 1.3514252385250445, 0.20899551236163122, -0.27583930662647527, 0.17535194943418136, -0.42092387209701704, 0.03382669273960831, -0.4661095683523239, -0.32939285358441656, 0.2819606491916138, 0.6539963529571807, 0.613133640904334, 0.4681196847101128, 0.20320449774975735, 1.4184087135867933, 0.1107560710274682, 1.0279482945834397, 0.22728962108918702, 0.6300899564544808, -0.2270456870798696, 0.2593024073165054, 0.44885628622281454, -0.6440430999886347, 0.10484858337348033, 1.2229244309642753, 1.547056580397776, 0.056139700232045585, 0.6898896593045938, -0.6550592510897542, 0.7457677406924332, 0.36334947087683056, 0.4838145508206365, 1.2918813548440857, -0.5940999644183249, -0.4113673841730819, 0.3239815402778332, 0.9549480313049896, 0.6773753932378213, 1.3918885741699278, 1.3481939132727077, 1.6016221399385697, 1.120744475573326], \"yaxis\": \"y2\"}, {\"bandwidth\": 0.2, \"box\": {\"visible\": false}, \"customdata\": [\"MN\", \"NE\", \"NY\", \"IA\", \"NJ\", \"IL\", \"KS\", \"MA\", \"CA\", \"PA\", \"MI\", \"FL\", \"VA\", \"TX\", \"MD\", \"CT\", \"GA\", \"LA\", \"OH\", \"IN\", \"CO\", \"TN\", \"NC\", \"WA\", \"RI\", \"WI\", \"AZ\", \"MS\", \"MO\", \"AL\", \"DE\", \"SC\", \"KY\", \"UT\", \"DC\", \"NM\", \"NV\", \"AR\", \"OK\", \"NH\", \"ND\", \"OR\", \"SD\", \"ID\", \"PR\", \"WV\", \"ME\", \"VT\", \"WY\", \"HI\", \"MT\", \"AK\", \"GU\"], \"hoveron\": \"points\", \"hovertemplate\": \"%{customdata}: %{y:.2f}<extra></extra>\", \"jitter\": 0.1, \"line\": {\"color\": \"rgb(255, 127, 14)\"}, \"meanline\": {\"visible\": true}, \"name\": \"logistic\", \"pointpos\": 0, \"points\": \"all\", \"type\": \"violin\", \"xaxis\": \"x\", \"y\": [-0.44450405120084374, -0.45363162271365653, 1.8208344815080229, -0.2545534794304208, 1.7635571186282724, 1.8701872239467074, 0.1656598295807766, 2.1254136205825027, 1.9123012224204872, 1.7743640406493502, 1.9083809297969467, 1.739768614875811, 1.940779128715521, 1.8129795432236409, 1.955600839426249, 2.1234723392291652, 1.9300190259821157, 1.4139295010333173, 2.1827447926365577, 1.7026552100583983, 1.7622000540619753, 1.7382398191204413, 1.7914970310751361, 1.4597918766352147, 1.7516118490080825, 1.7414857362358922, 1.6889625843442264, 2.00423517037375, 1.6938532188527704, 1.9785490425454297, 2.2283500157730733, 1.7308577862508308, 2.1367416812675173, 1.72658275314677, 1.9606417451898595, 1.9924710845588545, 1.6958699406628575, 1.8794718908992665, 1.667895944169434, 1.8077363047152792, -0.11496645523400409, 1.7121685562831692, -0.13704945734948915, 1.4402258382732689, 1.6959312958029713, 1.908247105904789, 1.8290290356929262, 0.7678562382384323, 1.729634609407713, 0.5150451832528169, 1.2867423166737215, 1.5309575910111004, 0.7324115018704744], \"yaxis\": \"y\"}, {\"bandwidth\": 0.2, \"box\": {\"visible\": false}, \"customdata\": [\"United States\", \"Brazil\", \"Ecuador\", \"Russia\", \"Spain\", \"Italy\", \"United Kingdom\", \"Qatar\", \"France\", \"Germany\", \"Peru\", \"Pakistan\", \"Turkey\", \"Mexico\", \"Saudi Arabia\", \"Iran\", \"China\", \"India\", \"Canada\", \"Belgium\", \"Netherlands\", \"Belarus\", \"Switzerland\", \"Sweden\", \"Portugal\", \"South Africa\", \"Chile\", \"Ireland\", \"Singapore\", \"United Arab Emirates\", \"Ukraine\", \"Japan\", \"Israel\", \"Austria\", \"Egypt\", \"Poland\", \"Indonesia\", \"Romania\", \"Bangladesh\", \"Colombia\", \"Korea, South\", \"Serbia\", \"Denmark\", \"Dominican Republic\", \"Philippines\", \"Panama\", \"Norway\", \"Czechia\", \"Australia\", \"Malaysia\"], \"hoveron\": \"points\", \"hovertemplate\": \"%{customdata}: %{y:.2f}<extra></extra>\", \"jitter\": 0.1, \"line\": {\"color\": \"rgb(255, 127, 14)\"}, \"meanline\": {\"visible\": true}, \"name\": \"logistic\", \"pointpos\": 0, \"points\": \"all\", \"type\": \"violin\", \"xaxis\": \"x2\", \"y\": [1.7808685981415922, 0.7233380431776377, -0.7086571746206539, 2.048099455385678, 1.6982266201672434, 1.700490827019735, 1.9872147333915744, -0.9463758118509437, -0.5908488099096302, 1.5617279060740081, 2.0839260649305733, 1.1059867666656342, 2.008969214050902, 0.8252558937212456, -1.3105343886723788, -0.12665941495734007, -0.36516474076413274, 2.1496410367276595, 1.977725955395643, 2.0442887348343164, 2.084205594165606, 2.124368493783069, 1.5054139219412679, 2.1963159769025364, 1.8051431316012945, 1.9742306365571252, 1.8333678197429397, -0.7802088008948672, -0.9816081100131101, 2.104634100707784, 1.9184656909566074, -0.928283211032441, 1.6186696281759232, 1.3334669170482065, 2.204439253166538, 2.0073969958645135, 1.768138442583008, 1.9754878168868086, 2.1391368861983047, 1.9075830486460243, 1.1849652499092727, 0.1538893685597436, 0.4351631289809005, 2.1475285007769926, 1.716879617228737, 1.9790146110563662, 1.446732712482306, 1.5680492133065074, 0.8777690473138372, 1.7283391282860638], \"yaxis\": \"y2\"}, {\"bandwidth\": 0.2, \"box\": {\"visible\": false}, \"customdata\": [\"MN\", \"NE\", \"NY\", \"IA\", \"NJ\", \"IL\", \"KS\", \"MA\", \"CA\", \"PA\", \"MI\", \"FL\", \"VA\", \"TX\", \"MD\", \"CT\", \"GA\", \"LA\", \"OH\", \"IN\", \"CO\", \"TN\", \"NC\", \"WA\", \"RI\", \"WI\", \"AZ\", \"MS\", \"MO\", \"AL\", \"DE\", \"SC\", \"KY\", \"UT\", \"DC\", \"NM\", \"NV\", \"AR\", \"OK\", \"NH\", \"ND\", \"OR\", \"SD\", \"ID\", \"PR\", \"WV\", \"ME\", \"VT\", \"WY\", \"HI\", \"MT\", \"AK\", \"GU\"], \"hoveron\": \"points\", \"hovertemplate\": \"%{customdata}: %{y:.2f}<extra></extra>\", \"jitter\": 0.1, \"line\": {\"color\": \"rgb(44, 160, 44)\"}, \"meanline\": {\"visible\": true}, \"name\": \"skewnorm\", \"pointpos\": 0, \"points\": \"all\", \"type\": \"violin\", \"xaxis\": \"x\", \"y\": [-0.39452120334094054, -0.3941182922272014, -0.6760364259016652, -0.3897852622166013, -0.858440904136224, -0.08240681446741023, -0.39474455223272936, -0.44683570545864915, -0.28994205493408004, -0.9326234228538905, -0.7849034078864596, -0.8631426543388276, -0.07684219998742421, -0.8495962074641632, -0.3644397835040814, -0.5350095592897942, -0.788879680917424, -0.45089681865180326, -0.37279802260825934, -0.2634301915224671, -0.24751748082369102, -0.15376053974028922, -0.1446714875843583, -0.8175798232198929, -0.7180589830369379, -0.11254682432286582, -0.19741737501340795, -0.24256210849149465, -0.873444400400106, -0.7504841042326125, -0.4115128454803567, -0.9302644630114516, -0.488473177141353, -0.36018145927939754, -0.5802391532478334, -0.1394913611499529, -0.9659991085080435, -0.4364960113319344, -0.9284828644809874, -0.288756513652518, -0.4420798363972703, -0.9536347392007934, -0.374426002054582, -0.5250402265332547, -0.7865358656138548, -0.666736233293194, -0.7730240566682501, -0.44198712088218745, -0.2740540851629202, -0.7721555966414669, -0.8638349019932522, -0.6621428469978382, -0.12764142333364228], \"yaxis\": \"y\"}, {\"bandwidth\": 0.2, \"box\": {\"visible\": false}, \"customdata\": [\"United States\", \"Brazil\", \"Ecuador\", \"Russia\", \"Spain\", \"Italy\", \"United Kingdom\", \"Qatar\", \"France\", \"Germany\", \"Peru\", \"Pakistan\", \"Turkey\", \"Mexico\", \"Saudi Arabia\", \"Iran\", \"China\", \"India\", \"Canada\", \"Belgium\", \"Netherlands\", \"Belarus\", \"Switzerland\", \"Sweden\", \"Portugal\", \"South Africa\", \"Chile\", \"Ireland\", \"Singapore\", \"United Arab Emirates\", \"Ukraine\", \"Japan\", \"Israel\", \"Austria\", \"Egypt\", \"Poland\", \"Indonesia\", \"Romania\", \"Bangladesh\", \"Colombia\", \"Korea, South\", \"Serbia\", \"Denmark\", \"Dominican Republic\", \"Philippines\", \"Panama\", \"Norway\", \"Czechia\", \"Australia\", \"Malaysia\"], \"hoveron\": \"points\", \"hovertemplate\": \"%{customdata}: %{y:.2f}<extra></extra>\", \"jitter\": 0.1, \"line\": {\"color\": \"rgb(44, 160, 44)\"}, \"meanline\": {\"visible\": true}, \"name\": \"skewnorm\", \"pointpos\": 0, \"points\": \"all\", \"type\": \"violin\", \"xaxis\": \"x2\", \"y\": [-0.9639771710290425, -0.39691846037003187, -0.03258015005663298, -0.5608351331551084, -0.7281331743550685, -0.8108793520448142, -0.7620965622900716, -0.12530319060844, -0.547892348737093, -0.590690105559625, -0.012527350613062396, -0.35758226634038515, -0.7288218198296758, -0.47102830578327015, 0.0338266928005452, -0.5260928107881958, -0.3630836219625866, -0.2503945732845044, -0.46503841930280126, -0.5650887103276585, -0.5451652032760572, -0.10059288575978084, -0.6318690568370763, -0.613310759302649, -0.7140049823272516, 0.037399412329665, -0.14722621976246364, -0.2270456867314057, 0.2593024074528806, -0.4862641916679889, -0.6440431000302109, 0.10484858337003239, -0.7876460438047691, -0.2648821409566383, -0.2750428738023636, -0.697692876679874, -0.6867721096998622, -0.6960463592575222, -0.4564279996076519, -0.006208083087249372, -0.08267623738932384, -0.5971283493943784, -0.616386054547894, -0.34348607506096496, -0.9725379634489499, -0.6102542967825708, -0.6092687793109627, -0.5792001833169574, -0.0966882165521972, -0.6284353991003538], \"yaxis\": \"y2\"}, {\"bandwidth\": 0.2, \"box\": {\"visible\": false}, \"customdata\": [\"MN\", \"NE\", \"NY\", \"IA\", \"NJ\", \"IL\", \"KS\", \"MA\", \"CA\", \"PA\", \"MI\", \"FL\", \"VA\", \"TX\", \"MD\", \"CT\", \"GA\", \"LA\", \"OH\", \"IN\", \"CO\", \"TN\", \"NC\", \"WA\", \"RI\", \"WI\", \"AZ\", \"MS\", \"MO\", \"AL\", \"DE\", \"SC\", \"KY\", \"UT\", \"DC\", \"NM\", \"NV\", \"AR\", \"OK\", \"NH\", \"ND\", \"OR\", \"SD\", \"ID\", \"PR\", \"WV\", \"ME\", \"VT\", \"WY\", \"HI\", \"MT\", \"AK\", \"GU\"], \"hoveron\": \"points\", \"hovertemplate\": \"%{customdata}: %{y:.2f}<extra></extra>\", \"jitter\": 0.1, \"line\": {\"color\": \"rgb(214, 39, 40)\"}, \"meanline\": {\"visible\": true}, \"name\": \"richards\", \"pointpos\": 0, \"points\": \"all\", \"type\": \"violin\", \"xaxis\": \"x\", \"y\": [-0.44188533722104834, -0.450943920674811, -0.4815248014936055, -0.39038161531333804, -0.13645774718056278, -0.2408370329975542, -0.4452548920233678, -0.569372945212782, -0.19880190752759214, -0.21225203411997623, -0.557407502510354, -0.2551958357725068, -0.31802289536794004, -0.13697895775712807, -0.23429018266533078, -0.6180500907960417, -0.35679304992516697, -0.501752618838495, -0.4911749550132033, 0.008639343659084718, -0.043252361216129034, -0.032134857963648504, -0.08746519781297821, -0.7256838313786348, -0.7591964298842415, -0.049916130981928604, 0.009518648639798557, -0.30739764414678117, -0.10637437429419563, -0.468097011139364, -0.5261311551626997, -0.07288114870024656, -0.44836662414789574, -0.005244625326399662, -0.254987458563014, -0.26603459342478386, -0.0742105198819035, -0.4735806133334478, -0.04165524761681852, -0.08526510012442284, -0.34337282563923277, -0.12381598038756131, -0.9913790863695141, -0.2425869124446964, -0.0886464167236873, -0.49694849753898596, -0.3214545191938894, -0.9147366857659419, 0.02380609434864518, -0.8917684966920651, -0.8254296476991773, -0.6999839641024255, -0.7876143080285648], \"yaxis\": \"y\"}, {\"bandwidth\": 0.2, \"box\": {\"visible\": false}, \"customdata\": [\"United States\", \"Brazil\", \"Ecuador\", \"Russia\", \"Spain\", \"Italy\", \"United Kingdom\", \"Qatar\", \"France\", \"Germany\", \"Peru\", \"Pakistan\", \"Turkey\", \"Mexico\", \"Saudi Arabia\", \"Iran\", \"China\", \"India\", \"Canada\", \"Belgium\", \"Netherlands\", \"Belarus\", \"Switzerland\", \"Sweden\", \"Portugal\", \"South Africa\", \"Chile\", \"Ireland\", \"Singapore\", \"United Arab Emirates\", \"Ukraine\", \"Japan\", \"Israel\", \"Austria\", \"Egypt\", \"Poland\", \"Indonesia\", \"Romania\", \"Bangladesh\", \"Colombia\", \"Korea, South\", \"Serbia\", \"Denmark\", \"Dominican Republic\", \"Philippines\", \"Panama\", \"Norway\", \"Czechia\", \"Australia\", \"Malaysia\"], \"hoveron\": \"points\", \"hovertemplate\": \"%{customdata}: %{y:.2f}<extra></extra>\", \"jitter\": 0.1, \"line\": {\"color\": \"rgb(214, 39, 40)\"}, \"meanline\": {\"visible\": true}, \"name\": \"richards\", \"pointpos\": 0, \"points\": \"all\", \"type\": \"violin\", \"xaxis\": \"x2\", \"y\": [-0.13633138362456582, -0.49620909532922813, -0.7086571746372741, -0.8652422304788371, -0.6358092603780683, -0.3373562744649855, -0.45989778780442875, -0.9463758118510804, -0.5908488099098472, -0.6047025471578044, -0.29368887299694735, -0.5536800732950596, -0.7033931952261878, -0.5509962326216645, -1.3105343886730247, -0.7007101703924357, -0.4001487629441208, -0.4330538586600477, -0.28152237039568434, -0.5935325685889289, -0.6257049079253384, -0.33971727643681854, -0.5982676138670591, -0.5229717634084696, -0.4165810219023378, -0.2271257567859135, -0.11623583625567929, -0.7802088008948684, -0.9816081100125826, -0.4060553131000597, -0.6156217513141655, -0.9282832110266619, -0.2863866271680829, -0.6043186807278701, -0.5042743323579044, -0.4679440567839553, -0.6057256175665863, -0.42505713168067416, -0.4231059336676457, -0.18650310676129683, 0.010730653514049277, -0.7927106575411915, -0.7854535134845325, -0.45490440117002184, -0.08410243998456486, -0.2861573091303233, -0.7134663691879248, -0.594369758709584, -0.8065995309053059, -0.6754819815885194], \"yaxis\": \"y2\"}, {\"bandwidth\": 0.2, \"box\": {\"visible\": false}, \"customdata\": [\"MN\", \"NE\", \"NY\", \"IA\", \"NJ\", \"IL\", \"KS\", \"MA\", \"CA\", \"PA\", \"MI\", \"FL\", \"VA\", \"TX\", \"MD\", \"CT\", \"GA\", \"LA\", \"OH\", \"IN\", \"CO\", \"TN\", \"NC\", \"WA\", \"RI\", \"WI\", \"AZ\", \"MS\", \"MO\", \"AL\", \"DE\", \"SC\", \"KY\", \"UT\", \"DC\", \"NM\", \"NV\", \"AR\", \"OK\", \"NH\", \"ND\", \"OR\", \"SD\", \"ID\", \"PR\", \"WV\", \"ME\", \"VT\", \"WY\", \"HI\", \"MT\", \"AK\", \"GU\"], \"hoveron\": \"points\", \"hovertemplate\": \"%{customdata}: %{y:.2f}<extra></extra>\", \"jitter\": 0.1, \"line\": {\"color\": \"rgb(148, 103, 189)\"}, \"meanline\": {\"visible\": true}, \"name\": \"loglogistic\", \"pointpos\": 0, \"points\": \"all\", \"type\": \"violin\", \"xaxis\": \"x\", \"y\": [-0.26638215367436524, -0.28575545578029177, -0.7637117401565192, -0.43280778738372594, -0.7576678888810355, -1.4064387319936176, -0.6640175450744971, -0.6847373633020559, -1.0685259824762134, -0.6146411403881679, -0.7309360293557301, -0.6406739541585026, -1.3413887623524856, -0.7276975273923364, -0.9279822283748487, -0.6366557540316787, -0.5779207619983072, -0.734663666734265, -0.7398999631772413, -1.2036792493384696, -1.1672396394662312, -1.2441983736682867, -1.1775787684535466, -0.7776657522775355, -0.6303488817155586, -1.2994617823719057, -1.2426743234753814, -0.8941877179516277, -0.7640763927338307, -0.5549172000939259, -0.5336537563037764, -0.7371140506807901, -0.5929039894182557, -1.129975206122449, -0.7260817898474313, -1.0131048578553166, -0.71739031752275, -0.936645482242236, -0.7727297128285154, -1.0873029838173027, -0.5656527700005224, -0.6814314773370092, -0.9137946696347051, -0.855407019461001, -0.8498432079928071, -0.6155922824033726, -0.6778260115598723, -1.2023837239191293, -1.212465533406657, -0.94860582869969, -0.7147477597104648, -0.6921839567845061, -1.294610869756988], \"yaxis\": \"y\"}, {\"bandwidth\": 0.2, \"box\": {\"visible\": false}, \"customdata\": [\"United States\", \"Brazil\", \"Ecuador\", \"Russia\", \"Spain\", \"Italy\", \"United Kingdom\", \"Qatar\", \"France\", \"Germany\", \"Peru\", \"Pakistan\", \"Turkey\", \"Mexico\", \"Saudi Arabia\", \"Iran\", \"China\", \"India\", \"Canada\", \"Belgium\", \"Netherlands\", \"Belarus\", \"Switzerland\", \"Sweden\", \"Portugal\", \"South Africa\", \"Chile\", \"Ireland\", \"Singapore\", \"United Arab Emirates\", \"Ukraine\", \"Japan\", \"Israel\", \"Austria\", \"Egypt\", \"Poland\", \"Indonesia\", \"Romania\", \"Bangladesh\", \"Colombia\", \"Korea, South\", \"Serbia\", \"Denmark\", \"Dominican Republic\", \"Philippines\", \"Panama\", \"Norway\", \"Czechia\", \"Australia\", \"Malaysia\"], \"hoveron\": \"points\", \"hovertemplate\": \"%{customdata}: %{y:.2f}<extra></extra>\", \"jitter\": 0.1, \"line\": {\"color\": \"rgb(148, 103, 189)\"}, \"meanline\": {\"visible\": true}, \"name\": \"loglogistic\", \"pointpos\": 0, \"points\": \"all\", \"type\": \"violin\", \"xaxis\": \"x2\", \"y\": [-0.6541625741051341, -0.8910705692586116, -0.7045518624780751, -0.44322569646666743, -0.5895486153160828, -0.6197209808129502, -0.4498406899114495, 0.06267734926339724, -0.5908428470448315, -0.6895303486828109, -0.949438729302805, -1.0341845043880002, -0.8101351574236108, -0.7289517069584278, 0.8393388324849606, -0.7931117237546287, -0.43997890433259285, -0.6688912284721589, -0.7878182617410986, -0.5278167411007947, -0.5720631481888487, -0.8401621178036255, -0.6058099301986063, -0.45719802464839876, -0.6193074854037085, -1.327164740156203, -1.1474004708084848, -0.7802088936828684, -0.9816061553680304, -0.5402524249858865, -0.7559367777941082, -0.9282826917556267, -0.7014927095678318, -0.8414861416483487, -0.6816313371358584, -0.48728270621416686, -0.8065393127220161, -0.5372591020949521, -0.5100638724225153, -1.1348078500303511, -1.1705518562248678, -0.8283606912547393, -0.9212301144520868, -0.6772709752688376, -0.7008279622088898, -0.7015603973298706, -0.8368651094430286, -0.6798827982023007, -1.3505744848142163, -0.6278874968687961], \"yaxis\": \"y2\"}, {\"bandwidth\": 0.2, \"box\": {\"visible\": false}, \"customdata\": [\"MN\", \"NE\", \"NY\", \"IA\", \"NJ\", \"IL\", \"KS\", \"MA\", \"CA\", \"PA\", \"MI\", \"FL\", \"VA\", \"TX\", \"MD\", \"CT\", \"GA\", \"LA\", \"OH\", \"IN\", \"CO\", \"TN\", \"NC\", \"WA\", \"RI\", \"WI\", \"AZ\", \"MS\", \"MO\", \"AL\", \"DE\", \"SC\", \"KY\", \"UT\", \"DC\", \"NM\", \"NV\", \"AR\", \"OK\", \"NH\", \"ND\", \"OR\", \"SD\", \"ID\", \"PR\", \"WV\", \"ME\", \"VT\", \"WY\", \"HI\", \"MT\", \"AK\", \"GU\"], \"hoveron\": \"points\", \"hovertemplate\": \"%{customdata}: %{y:.2f}<extra></extra>\", \"jitter\": 0.1, \"line\": {\"color\": \"rgb(140, 86, 75)\"}, \"meanline\": {\"visible\": true}, \"name\": \"invweibull\", \"pointpos\": 0, \"points\": \"all\", \"type\": \"violin\", \"xaxis\": \"x\", \"y\": [2.263427426679129, 2.2629990568630025, -0.4200018874740395, 2.2640968352732322, -0.8129280821091784, -0.3930199188545948, 2.1924385810539033, -0.20607105194474454, -0.7943258953914213, -0.7656917850866092, -0.04218657242777969, -0.7709776401971586, -0.2743275175319259, -0.8244480737346396, -0.8227838852208866, 0.18198983011413872, -0.6503306083147012, -0.7198929309872331, 0.13338491349966544, -1.0069158619905618, -0.9769401222306601, -0.9645876260226947, -0.9607853971845755, 0.4047992164845207, 1.0809908344155317, -0.9004821847805865, -1.0079890516524044, -0.7985023029702466, -0.85669584092847, -0.4772899065910342, -0.1142228760712465, -0.8480384783451327, -0.5427159608761937, -1.003609929606247, -0.8309013477050343, -0.7844382433322196, -0.8419226963630728, 0.8738736864136276, -0.8767155844887818, -0.9724839490027801, 2.2458815930107003, -0.8228669924434087, 1.920267080749952, -0.9513128440603491, -0.8792625225689831, -0.5136320010051714, -0.6909772677228808, 1.0732114006469862, -0.9878453828856385, 1.7749170822675042, 0.6405406520424535, -0.09904070420949894, 0.8077803308595422], \"yaxis\": \"y\"}, {\"bandwidth\": 0.2, \"box\": {\"visible\": false}, \"customdata\": [\"United States\", \"Brazil\", \"Ecuador\", \"Russia\", \"Spain\", \"Italy\", \"United Kingdom\", \"Qatar\", \"France\", \"Germany\", \"Peru\", \"Pakistan\", \"Turkey\", \"Mexico\", \"Saudi Arabia\", \"Iran\", \"China\", \"India\", \"Canada\", \"Belgium\", \"Netherlands\", \"Belarus\", \"Switzerland\", \"Sweden\", \"Portugal\", \"South Africa\", \"Chile\", \"Ireland\", \"Singapore\", \"United Arab Emirates\", \"Ukraine\", \"Japan\", \"Israel\", \"Austria\", \"Egypt\", \"Poland\", \"Indonesia\", \"Romania\", \"Bangladesh\", \"Colombia\", \"Korea, South\", \"Serbia\", \"Denmark\", \"Dominican Republic\", \"Philippines\", \"Panama\", \"Norway\", \"Czechia\", \"Australia\", \"Malaysia\"], \"hoveron\": \"points\", \"hovertemplate\": \"%{customdata}: %{y:.2f}<extra></extra>\", \"jitter\": 0.1, \"line\": {\"color\": \"rgb(140, 86, 75)\"}, \"meanline\": {\"visible\": true}, \"name\": \"invweibull\", \"pointpos\": 0, \"points\": \"all\", \"type\": \"violin\", \"xaxis\": \"x2\", \"y\": [-0.7900119787907297, 1.9616803984111564, 2.1195618107464673, 0.4722191143503763, -0.29435915047876077, -0.734900793087702, -0.5728445302653774, 2.0425377681033394, 1.779621198531201, -0.42468609062544627, -0.7281184159014386, 1.6922851623175363, 0.38210691622447535, 1.9339202569622609, 1.2981685555436753, 1.9980233606714675, 2.2664316908655007, -0.6383472305684443, -0.8157245388816902, -0.3774442144569387, -0.18856490919067026, -0.7054257855289283, -0.48953122925817355, -0.19766809563552135, -0.6665731038931056, -0.3742770378293649, -0.9362101366803913, 1.6850211183734114, 1.3388050208399915, -0.7147443194722278, 0.7344594321437231, 1.4840213581922468, -0.7796287888593858, -0.5654167690074904, -0.29250944494019304, -0.5763448464990711, 0.9774695167842867, -0.6377625041638623, -0.6689159973450923, -0.8772802652991911, -1.2448483973406015, 1.7867293331195644, 1.9087633391861218, -0.540839451448169, -0.8302138523243754, -0.7721658999693573, -0.058005665191751495, -0.46876831200742897, 0.16552809531849416, -0.24577099980504782], \"yaxis\": \"y2\"}, {\"bandwidth\": 0.2, \"box\": {\"visible\": false}, \"customdata\": [\"MN\", \"NE\", \"NY\", \"IA\", \"NJ\", \"IL\", \"KS\", \"MA\", \"CA\", \"PA\", \"MI\", \"FL\", \"VA\", \"TX\", \"MD\", \"CT\", \"GA\", \"LA\", \"OH\", \"IN\", \"CO\", \"TN\", \"NC\", \"WA\", \"RI\", \"WI\", \"AZ\", \"MS\", \"MO\", \"AL\", \"DE\", \"SC\", \"KY\", \"UT\", \"DC\", \"NM\", \"NV\", \"AR\", \"OK\", \"NH\", \"ND\", \"OR\", \"SD\", \"ID\", \"PR\", \"WV\", \"ME\", \"VT\", \"WY\", \"HI\", \"MT\", \"AK\", \"GU\"], \"hoveron\": \"points\", \"hovertemplate\": \"%{customdata}: %{y:.2f}<extra></extra>\", \"jitter\": 0.1, \"line\": {\"color\": \"rgb(227, 119, 194)\"}, \"meanline\": {\"visible\": true}, \"name\": \"gompertz\", \"pointpos\": 0, \"points\": \"all\", \"type\": \"violin\", \"xaxis\": \"x\", \"y\": [-0.3354962434914999, -0.3038990503490552, -0.48159653879523323, -0.40706699584481415, -0.1365534385162283, -0.2433298642898985, -0.4820310348295128, -0.5694102830063097, -0.1988763803961087, -0.2123037951738066, -0.5574665875072414, -0.2552623841276522, -0.31816934591819507, -0.13708925988637904, -0.23445476925482486, -0.6122713728280691, -0.35681596655187525, -0.501976789513266, -0.4912128517642134, 0.008610263707963441, -0.04333494504138332, -0.0322863012146184, -0.08768195790168928, -0.7208316677306295, -0.2877470054514377, -0.04997551356278437, 0.009347953603620092, -0.3074736854706025, -0.10690489440428758, -0.4681182129241254, -0.5261723384560164, -0.07293674017170024, -0.44840679036565295, -0.005419575669306072, -0.25510376678896624, -0.26613483697845614, -0.07428526689641338, -0.4737446538608993, -0.04170413434596167, -0.0854001697160517, -0.3377298568565436, -0.12386209676442321, 0.574186581766143, -0.24269283140633016, -0.08869739165082233, -0.49699621283629825, -0.3215118214134712, -0.5136200157237031, 0.02362787615547874, -0.18587933828687395, -0.7316758572153528, -0.7000259310276568, -0.7315083022600539], \"yaxis\": \"y\"}, {\"bandwidth\": 0.2, \"box\": {\"visible\": false}, \"customdata\": [\"United States\", \"Brazil\", \"Ecuador\", \"Russia\", \"Spain\", \"Italy\", \"United Kingdom\", \"Qatar\", \"France\", \"Germany\", \"Peru\", \"Pakistan\", \"Turkey\", \"Mexico\", \"Saudi Arabia\", \"Iran\", \"China\", \"India\", \"Canada\", \"Belgium\", \"Netherlands\", \"Belarus\", \"Switzerland\", \"Sweden\", \"Portugal\", \"South Africa\", \"Chile\", \"Ireland\", \"Singapore\", \"United Arab Emirates\", \"Ukraine\", \"Japan\", \"Israel\", \"Austria\", \"Egypt\", \"Poland\", \"Indonesia\", \"Romania\", \"Bangladesh\", \"Colombia\", \"Korea, South\", \"Serbia\", \"Denmark\", \"Dominican Republic\", \"Philippines\", \"Panama\", \"Norway\", \"Czechia\", \"Australia\", \"Malaysia\"], \"hoveron\": \"points\", \"hovertemplate\": \"%{customdata}: %{y:.2f}<extra></extra>\", \"jitter\": 0.1, \"line\": {\"color\": \"rgb(227, 119, 194)\"}, \"meanline\": {\"visible\": true}, \"name\": \"gompertz\", \"pointpos\": 0, \"points\": \"all\", \"type\": \"violin\", \"xaxis\": \"x2\", \"y\": [-0.13639523672447673, -0.5623900191946488, 0.06746471583270834, -0.09018037646510106, -0.6185910002899988, -0.33738527442139665, -0.4607711373763589, 0.03814289435347083, 1.0887039996326786, -0.603544052573365, -0.3091482084779555, -0.576985778333251, -0.32407790723008184, -0.587276033223129, 0.41590800377661047, 0.6146603275734579, -0.3686628072776494, -0.44091479493411645, -0.28161871803154914, -0.5935401412643283, -0.6208271102948026, -0.34167492600367066, -0.5983448053671471, -0.5159234049349649, -0.4166248326583306, -0.31035213520451155, -0.11638511269040192, 1.109696750910469, 1.0874125397843477, -0.406174137704436, 0.006719606026784174, 1.09113058887897, -0.28643988974013024, -0.6044197651056353, -0.5071209651622572, -0.4680221689920404, 0.008488331710923527, -0.4251304603822289, -0.44397255403223257, -0.18659829428857402, 0.010499232687382868, 0.8716809609293251, 0.390510598490583, -0.4550091381068333, -0.08414543056694856, -0.2862521010820657, -0.6210153635185633, -0.5940220743429443, -0.39105705029918186, -0.6715077264966728], \"yaxis\": \"y2\"}],\n",
       "                        {\"height\": 700, \"showlegend\": false, \"template\": {\"data\": {\"bar\": [{\"error_x\": {\"color\": \"#2a3f5f\"}, \"error_y\": {\"color\": \"#2a3f5f\"}, \"marker\": {\"line\": {\"color\": \"#E5ECF6\", \"width\": 0.5}}, \"type\": \"bar\"}], \"barpolar\": [{\"marker\": {\"line\": {\"color\": \"#E5ECF6\", \"width\": 0.5}}, \"type\": \"barpolar\"}], \"carpet\": [{\"aaxis\": {\"endlinecolor\": \"#2a3f5f\", \"gridcolor\": \"white\", \"linecolor\": \"white\", \"minorgridcolor\": \"white\", \"startlinecolor\": \"#2a3f5f\"}, \"baxis\": {\"endlinecolor\": \"#2a3f5f\", \"gridcolor\": \"white\", \"linecolor\": \"white\", \"minorgridcolor\": \"white\", \"startlinecolor\": \"#2a3f5f\"}, \"type\": \"carpet\"}], \"choropleth\": [{\"colorbar\": {\"outlinewidth\": 0, \"ticks\": \"\"}, \"type\": \"choropleth\"}], \"contour\": [{\"colorbar\": {\"outlinewidth\": 0, \"ticks\": \"\"}, \"colorscale\": [[0.0, \"#0d0887\"], [0.1111111111111111, \"#46039f\"], [0.2222222222222222, \"#7201a8\"], [0.3333333333333333, \"#9c179e\"], [0.4444444444444444, \"#bd3786\"], [0.5555555555555556, \"#d8576b\"], [0.6666666666666666, \"#ed7953\"], [0.7777777777777778, \"#fb9f3a\"], [0.8888888888888888, \"#fdca26\"], [1.0, \"#f0f921\"]], \"type\": \"contour\"}], \"contourcarpet\": [{\"colorbar\": {\"outlinewidth\": 0, \"ticks\": \"\"}, \"type\": \"contourcarpet\"}], \"heatmap\": [{\"colorbar\": {\"outlinewidth\": 0, \"ticks\": \"\"}, \"colorscale\": [[0.0, \"#0d0887\"], [0.1111111111111111, \"#46039f\"], [0.2222222222222222, \"#7201a8\"], [0.3333333333333333, \"#9c179e\"], [0.4444444444444444, \"#bd3786\"], [0.5555555555555556, \"#d8576b\"], [0.6666666666666666, \"#ed7953\"], [0.7777777777777778, \"#fb9f3a\"], [0.8888888888888888, \"#fdca26\"], [1.0, \"#f0f921\"]], \"type\": \"heatmap\"}], \"heatmapgl\": [{\"colorbar\": {\"outlinewidth\": 0, \"ticks\": \"\"}, \"colorscale\": [[0.0, \"#0d0887\"], [0.1111111111111111, \"#46039f\"], [0.2222222222222222, \"#7201a8\"], [0.3333333333333333, \"#9c179e\"], [0.4444444444444444, \"#bd3786\"], [0.5555555555555556, \"#d8576b\"], [0.6666666666666666, \"#ed7953\"], [0.7777777777777778, \"#fb9f3a\"], [0.8888888888888888, \"#fdca26\"], [1.0, \"#f0f921\"]], \"type\": \"heatmapgl\"}], \"histogram\": [{\"marker\": {\"colorbar\": {\"outlinewidth\": 0, \"ticks\": \"\"}}, \"type\": \"histogram\"}], \"histogram2d\": [{\"colorbar\": {\"outlinewidth\": 0, \"ticks\": \"\"}, \"colorscale\": [[0.0, \"#0d0887\"], [0.1111111111111111, \"#46039f\"], [0.2222222222222222, \"#7201a8\"], [0.3333333333333333, \"#9c179e\"], [0.4444444444444444, \"#bd3786\"], [0.5555555555555556, \"#d8576b\"], [0.6666666666666666, \"#ed7953\"], [0.7777777777777778, \"#fb9f3a\"], [0.8888888888888888, \"#fdca26\"], [1.0, \"#f0f921\"]], \"type\": \"histogram2d\"}], \"histogram2dcontour\": [{\"colorbar\": {\"outlinewidth\": 0, \"ticks\": \"\"}, \"colorscale\": [[0.0, \"#0d0887\"], [0.1111111111111111, \"#46039f\"], [0.2222222222222222, \"#7201a8\"], [0.3333333333333333, \"#9c179e\"], [0.4444444444444444, \"#bd3786\"], [0.5555555555555556, \"#d8576b\"], [0.6666666666666666, \"#ed7953\"], [0.7777777777777778, \"#fb9f3a\"], [0.8888888888888888, \"#fdca26\"], [1.0, \"#f0f921\"]], \"type\": \"histogram2dcontour\"}], \"mesh3d\": [{\"colorbar\": {\"outlinewidth\": 0, \"ticks\": \"\"}, \"type\": \"mesh3d\"}], \"parcoords\": [{\"line\": {\"colorbar\": {\"outlinewidth\": 0, \"ticks\": \"\"}}, \"type\": \"parcoords\"}], \"pie\": [{\"automargin\": true, \"type\": \"pie\"}], \"scatter\": [{\"marker\": {\"colorbar\": {\"outlinewidth\": 0, \"ticks\": \"\"}}, \"type\": \"scatter\"}], \"scatter3d\": [{\"line\": {\"colorbar\": {\"outlinewidth\": 0, \"ticks\": \"\"}}, \"marker\": {\"colorbar\": {\"outlinewidth\": 0, \"ticks\": \"\"}}, \"type\": \"scatter3d\"}], \"scattercarpet\": [{\"marker\": {\"colorbar\": {\"outlinewidth\": 0, \"ticks\": \"\"}}, \"type\": \"scattercarpet\"}], \"scattergeo\": [{\"marker\": {\"colorbar\": {\"outlinewidth\": 0, \"ticks\": \"\"}}, \"type\": \"scattergeo\"}], \"scattergl\": [{\"marker\": {\"colorbar\": {\"outlinewidth\": 0, \"ticks\": \"\"}}, \"type\": \"scattergl\"}], \"scattermapbox\": [{\"marker\": {\"colorbar\": {\"outlinewidth\": 0, \"ticks\": \"\"}}, \"type\": \"scattermapbox\"}], \"scatterpolar\": [{\"marker\": {\"colorbar\": {\"outlinewidth\": 0, \"ticks\": \"\"}}, \"type\": \"scatterpolar\"}], \"scatterpolargl\": [{\"marker\": {\"colorbar\": {\"outlinewidth\": 0, \"ticks\": \"\"}}, \"type\": \"scatterpolargl\"}], \"scatterternary\": [{\"marker\": {\"colorbar\": {\"outlinewidth\": 0, \"ticks\": \"\"}}, \"type\": \"scatterternary\"}], \"surface\": [{\"colorbar\": {\"outlinewidth\": 0, \"ticks\": \"\"}, \"colorscale\": [[0.0, \"#0d0887\"], [0.1111111111111111, \"#46039f\"], [0.2222222222222222, \"#7201a8\"], [0.3333333333333333, \"#9c179e\"], [0.4444444444444444, \"#bd3786\"], [0.5555555555555556, \"#d8576b\"], [0.6666666666666666, \"#ed7953\"], [0.7777777777777778, \"#fb9f3a\"], [0.8888888888888888, \"#fdca26\"], [1.0, \"#f0f921\"]], \"type\": \"surface\"}], \"table\": [{\"cells\": {\"fill\": {\"color\": \"#EBF0F8\"}, \"line\": {\"color\": \"white\"}}, \"header\": {\"fill\": {\"color\": \"#C8D4E3\"}, \"line\": {\"color\": \"white\"}}, \"type\": \"table\"}]}, \"layout\": {\"annotationdefaults\": {\"arrowcolor\": \"#2a3f5f\", \"arrowhead\": 0, \"arrowwidth\": 1}, \"coloraxis\": {\"colorbar\": {\"outlinewidth\": 0, \"ticks\": \"\"}}, \"colorscale\": {\"diverging\": [[0, \"#8e0152\"], [0.1, \"#c51b7d\"], [0.2, \"#de77ae\"], [0.3, \"#f1b6da\"], [0.4, \"#fde0ef\"], [0.5, \"#f7f7f7\"], [0.6, \"#e6f5d0\"], [0.7, \"#b8e186\"], [0.8, \"#7fbc41\"], [0.9, \"#4d9221\"], [1, \"#276419\"]], \"sequential\": [[0.0, \"#0d0887\"], [0.1111111111111111, \"#46039f\"], [0.2222222222222222, \"#7201a8\"], [0.3333333333333333, \"#9c179e\"], [0.4444444444444444, \"#bd3786\"], [0.5555555555555556, \"#d8576b\"], [0.6666666666666666, \"#ed7953\"], [0.7777777777777778, \"#fb9f3a\"], [0.8888888888888888, \"#fdca26\"], [1.0, \"#f0f921\"]], \"sequentialminus\": [[0.0, \"#0d0887\"], [0.1111111111111111, \"#46039f\"], [0.2222222222222222, \"#7201a8\"], [0.3333333333333333, \"#9c179e\"], [0.4444444444444444, \"#bd3786\"], [0.5555555555555556, \"#d8576b\"], [0.6666666666666666, \"#ed7953\"], [0.7777777777777778, \"#fb9f3a\"], [0.8888888888888888, \"#fdca26\"], [1.0, \"#f0f921\"]]}, \"colorway\": [\"#636efa\", \"#EF553B\", \"#00cc96\", \"#ab63fa\", \"#FFA15A\", \"#19d3f3\", \"#FF6692\", \"#B6E880\", \"#FF97FF\", \"#FECB52\"], \"font\": {\"color\": \"#2a3f5f\"}, \"geo\": {\"bgcolor\": \"white\", \"lakecolor\": \"white\", \"landcolor\": \"#E5ECF6\", \"showlakes\": true, \"showland\": true, \"subunitcolor\": \"white\"}, \"hoverlabel\": {\"align\": \"left\"}, \"hovermode\": \"closest\", \"mapbox\": {\"style\": \"light\"}, \"paper_bgcolor\": \"white\", \"plot_bgcolor\": \"#E5ECF6\", \"polar\": {\"angularaxis\": {\"gridcolor\": \"white\", \"linecolor\": \"white\", \"ticks\": \"\"}, \"bgcolor\": \"#E5ECF6\", \"radialaxis\": {\"gridcolor\": \"white\", \"linecolor\": \"white\", \"ticks\": \"\"}}, \"scene\": {\"xaxis\": {\"backgroundcolor\": \"#E5ECF6\", \"gridcolor\": \"white\", \"gridwidth\": 2, \"linecolor\": \"white\", \"showbackground\": true, \"ticks\": \"\", \"zerolinecolor\": \"white\"}, \"yaxis\": {\"backgroundcolor\": \"#E5ECF6\", \"gridcolor\": \"white\", \"gridwidth\": 2, \"linecolor\": \"white\", \"showbackground\": true, \"ticks\": \"\", \"zerolinecolor\": \"white\"}, \"zaxis\": {\"backgroundcolor\": \"#E5ECF6\", \"gridcolor\": \"white\", \"gridwidth\": 2, \"linecolor\": \"white\", \"showbackground\": true, \"ticks\": \"\", \"zerolinecolor\": \"white\"}}, \"shapedefaults\": {\"line\": {\"color\": \"#2a3f5f\"}}, \"ternary\": {\"aaxis\": {\"gridcolor\": \"white\", \"linecolor\": \"white\", \"ticks\": \"\"}, \"baxis\": {\"gridcolor\": \"white\", \"linecolor\": \"white\", \"ticks\": \"\"}, \"bgcolor\": \"#E5ECF6\", \"caxis\": {\"gridcolor\": \"white\", \"linecolor\": \"white\", \"ticks\": \"\"}}, \"title\": {\"x\": 0.05}, \"xaxis\": {\"automargin\": true, \"gridcolor\": \"white\", \"linecolor\": \"white\", \"ticks\": \"\", \"title\": {\"standoff\": 15}, \"zerolinecolor\": \"white\", \"zerolinewidth\": 2}, \"yaxis\": {\"automargin\": true, \"gridcolor\": \"white\", \"linecolor\": \"white\", \"ticks\": \"\", \"title\": {\"standoff\": 15}, \"zerolinecolor\": \"white\", \"zerolinewidth\": 2}}}, \"title\": {\"text\": \"Comparison of Models on State & Country Data\", \"x\": 0.5}, \"xaxis\": {\"anchor\": \"y\", \"domain\": [0.0, 1.0], \"linecolor\": \"black\", \"linewidth\": 1.5, \"mirror\": true, \"showline\": true}, \"xaxis2\": {\"anchor\": \"y2\", \"domain\": [0.0, 1.0], \"linecolor\": \"black\", \"linewidth\": 1.5, \"mirror\": true, \"showline\": true}, \"yaxis\": {\"anchor\": \"x\", \"domain\": [0.575, 1.0], \"linecolor\": \"black\", \"linewidth\": 1.5, \"mirror\": true, \"showline\": true, \"title\": {\"text\": \"Standard RMSE Score by State\"}}, \"yaxis2\": {\"anchor\": \"x2\", \"domain\": [0.0, 0.425], \"linecolor\": \"black\", \"linewidth\": 1.5, \"mirror\": true, \"showline\": true, \"title\": {\"text\": \"Standard RMSE Score by Country\"}}},\n",
       "                        {\"responsive\": true}\n",
       "                    ).then(function(){\n",
       "                            \n",
       "var gd = document.getElementById('ec49009f-2d7c-4c73-9d75-bf48ed5492ba');\n",
       "var x = new MutationObserver(function (mutations, observer) {{\n",
       "        var display = window.getComputedStyle(gd).display;\n",
       "        if (!display || display === 'none') {{\n",
       "            console.log([gd, 'removed!']);\n",
       "            Plotly.purge(gd);\n",
       "            observer.disconnect();\n",
       "        }}\n",
       "}});\n",
       "\n",
       "// Listen for the removal of the full notebook cells\n",
       "var notebookContainer = gd.closest('#notebook-container');\n",
       "if (notebookContainer) {{\n",
       "    x.observe(notebookContainer, {childList: true});\n",
       "}}\n",
       "\n",
       "// Listen for the clearing of the current output cell\n",
       "var outputEl = gd.closest('.output');\n",
       "if (outputEl) {{\n",
       "    x.observe(outputEl, {childList: true});\n",
       "}}\n",
       "\n",
       "                        })\n",
       "                };\n",
       "                });\n",
       "            </script>\n",
       "        </div>"
      ]
     },
     "metadata": {},
     "output_type": "display_data"
    }
   ],
   "source": [
    "fig = make_subplots(rows=2, cols=1)\n",
    "label = '%{customdata}: %{y:.2f}<extra></extra>'\n",
    "\n",
    "for i,m in enumerate(state_rmses.columns):\n",
    "    fig.add_trace(go.Violin(y=state_rmses[m], name=m, box_visible=False, meanline_visible=True, bandwidth=0.2,\n",
    "                            hoveron='points', customdata = state_rmses.index.values,hovertemplate=label,\n",
    "                            points='all',jitter=0.1,pointpos=0,line_color=colors[i]),row=1,col=1)\n",
    "    \n",
    "    fig.add_trace(go.Violin(y=global_rmses[m],name=m,box_visible=False,meanline_visible=True, bandwidth=0.2,\n",
    "                            hoveron='points', customdata = global_rmses.index.values,hovertemplate=label,\n",
    "                            points='all',jitter=0.1,pointpos=0,line_color=colors[i]),row=2,col=1)\n",
    "    \n",
    "\n",
    "fig.update_layout(height=700,title_text=\"Comparison of Models on State & Country Data\",title_x=0.5,showlegend=False)\n",
    "fig.update_xaxes(showline=True, linewidth=1.5, linecolor='black', mirror=True)\n",
    "fig.update_yaxes(showline=True, linewidth=1.5, linecolor='black', mirror=True)\n",
    "fig.update_yaxes(title=\"Standard RMSE Score by State\",row=1,col=1)\n",
    "fig.update_yaxes(title=\"Standard RMSE Score by Country\",row=2,col=1)\n",
    "fig.show()\n"
   ]
  },
  {
   "cell_type": "markdown",
   "metadata": {
    "jupyter": {
     "source_hidden": true
    }
   },
   "source": [
    "What's the verdict? Out of the symmetric models, the normal model seems to score a bit lower (i.e. better) than the logistic model. But the asymmetric models are significantly better! The skew normal model has a lower error than the normal model for every region, and the Richards model has a lower error than the logistic model. The log logistic model also seems really good, except for a few outliers. The inverse Weibull and Gompertz models are not as consistently good.\n",
    "\n",
    "This lends credibility to the hypothesis that incidence data is not symmetric, and generally follows a right-skew distribution. Out of the asymmetric models, either Richards or loglogistic could be good. Note, however, that in terms of computational runtime, the log logistic fit was significantly slower."
   ]
  },
  {
   "cell_type": "markdown",
   "metadata": {},
   "source": [
    "<a id='sec7'></a>"
   ]
  },
  {
   "cell_type": "markdown",
   "metadata": {},
   "source": [
    "## 7. Visualizing Results"
   ]
  },
  {
   "cell_type": "markdown",
   "metadata": {},
   "source": [
    "Below, you can see the fits visualized for a few regions."
   ]
  },
  {
   "cell_type": "code",
   "execution_count": 26,
   "metadata": {},
   "outputs": [],
   "source": [
    "def show_region(dataset,model,region,month):\n",
    "    \n",
    "    if dataset=='state':\n",
    "        df = state_info\n",
    "        cum = states_cumulative\n",
    "        x = x_data\n",
    "    elif dataset=='country':\n",
    "        df = global_info\n",
    "        cum = global_cumulative\n",
    "        x = x_data_global\n",
    "    \n",
    "    start = pd.Timestamp(x.index.values[-1])\n",
    "    end = pd.to_datetime('2020-'+str(month)+'-28')\n",
    "    delta = (end-start).days\n",
    "    dates = [start+datetime.timedelta(n) for n in range(delta)]\n",
    "    dates_numeric = np.arange(x.values[-1],x.values[-1]+delta,1)\n",
    "    \n",
    "    params = df[model].loc[region,:].values[:-4]\n",
    "    y_pred = go.Scatter(name=model+' fit',x=dates,y=globals()[model](dates_numeric,*params),mode='lines',line=dict(dash=\"dash\"))\n",
    "    y_real = go.Scatter(name='actual cases in '+region,x=x.index,y=cum[region].values,mode='lines')\n",
    "    layout = dict(xaxis=dict(title=\"Day of Year\"),yaxis=dict(title=\"Cumulative Case Count in \"+region),\n",
    "                  width=700,height=400,margin=dict(t=30))\n",
    "    \n",
    "    fig = go.Figure([y_pred, y_real],layout=layout)\n",
    "    fig.add_shape(name='current',type=\"line\", x0=x.index[0], x1=x.index[0], y0=0, y1=params[0],\n",
    "                  line=dict(width=1,dash=\"dot\"))\n",
    "    \n",
    "    fig.update_xaxes(showgrid=True, showline=True, linewidth=1.5, linecolor='black', mirror=True)\n",
    "    fig.update_yaxes(showgrid=False, showline=True, linewidth=1.5, linecolor='black', mirror=True)\n",
    "    fig.show()\n"
   ]
  },
  {
   "cell_type": "code",
   "execution_count": 27,
   "metadata": {},
   "outputs": [
    {
     "data": {
      "application/vnd.plotly.v1+json": {
       "config": {
        "plotlyServerURL": "https://plot.ly"
       },
       "data": [
        {
         "line": {
          "dash": "dash"
         },
         "mode": "lines",
         "name": "richards fit",
         "type": "scatter",
         "x": [
          "2020-03-06T00:00:00",
          "2020-03-07T00:00:00",
          "2020-03-08T00:00:00",
          "2020-03-09T00:00:00",
          "2020-03-10T00:00:00",
          "2020-03-11T00:00:00",
          "2020-03-12T00:00:00",
          "2020-03-13T00:00:00",
          "2020-03-14T00:00:00",
          "2020-03-15T00:00:00",
          "2020-03-16T00:00:00",
          "2020-03-17T00:00:00",
          "2020-03-18T00:00:00",
          "2020-03-19T00:00:00",
          "2020-03-20T00:00:00",
          "2020-03-21T00:00:00",
          "2020-03-22T00:00:00",
          "2020-03-23T00:00:00",
          "2020-03-24T00:00:00",
          "2020-03-25T00:00:00",
          "2020-03-26T00:00:00",
          "2020-03-27T00:00:00",
          "2020-03-28T00:00:00",
          "2020-03-29T00:00:00",
          "2020-03-30T00:00:00",
          "2020-03-31T00:00:00",
          "2020-04-01T00:00:00",
          "2020-04-02T00:00:00",
          "2020-04-03T00:00:00",
          "2020-04-04T00:00:00",
          "2020-04-05T00:00:00",
          "2020-04-06T00:00:00",
          "2020-04-07T00:00:00",
          "2020-04-08T00:00:00",
          "2020-04-09T00:00:00",
          "2020-04-10T00:00:00",
          "2020-04-11T00:00:00",
          "2020-04-12T00:00:00",
          "2020-04-13T00:00:00",
          "2020-04-14T00:00:00",
          "2020-04-15T00:00:00",
          "2020-04-16T00:00:00",
          "2020-04-17T00:00:00",
          "2020-04-18T00:00:00",
          "2020-04-19T00:00:00",
          "2020-04-20T00:00:00",
          "2020-04-21T00:00:00",
          "2020-04-22T00:00:00",
          "2020-04-23T00:00:00",
          "2020-04-24T00:00:00",
          "2020-04-25T00:00:00",
          "2020-04-26T00:00:00",
          "2020-04-27T00:00:00",
          "2020-04-28T00:00:00",
          "2020-04-29T00:00:00",
          "2020-04-30T00:00:00",
          "2020-05-01T00:00:00",
          "2020-05-02T00:00:00",
          "2020-05-03T00:00:00",
          "2020-05-04T00:00:00",
          "2020-05-05T00:00:00",
          "2020-05-06T00:00:00",
          "2020-05-07T00:00:00",
          "2020-05-08T00:00:00",
          "2020-05-09T00:00:00",
          "2020-05-10T00:00:00",
          "2020-05-11T00:00:00",
          "2020-05-12T00:00:00",
          "2020-05-13T00:00:00",
          "2020-05-14T00:00:00",
          "2020-05-15T00:00:00",
          "2020-05-16T00:00:00",
          "2020-05-17T00:00:00",
          "2020-05-18T00:00:00",
          "2020-05-19T00:00:00",
          "2020-05-20T00:00:00",
          "2020-05-21T00:00:00",
          "2020-05-22T00:00:00",
          "2020-05-23T00:00:00",
          "2020-05-24T00:00:00",
          "2020-05-25T00:00:00",
          "2020-05-26T00:00:00",
          "2020-05-27T00:00:00",
          "2020-05-28T00:00:00",
          "2020-05-29T00:00:00",
          "2020-05-30T00:00:00",
          "2020-05-31T00:00:00",
          "2020-06-01T00:00:00",
          "2020-06-02T00:00:00",
          "2020-06-03T00:00:00",
          "2020-06-04T00:00:00",
          "2020-06-05T00:00:00",
          "2020-06-06T00:00:00",
          "2020-06-07T00:00:00",
          "2020-06-08T00:00:00",
          "2020-06-09T00:00:00",
          "2020-06-10T00:00:00",
          "2020-06-11T00:00:00",
          "2020-06-12T00:00:00",
          "2020-06-13T00:00:00",
          "2020-06-14T00:00:00",
          "2020-06-15T00:00:00",
          "2020-06-16T00:00:00",
          "2020-06-17T00:00:00",
          "2020-06-18T00:00:00",
          "2020-06-19T00:00:00",
          "2020-06-20T00:00:00",
          "2020-06-21T00:00:00",
          "2020-06-22T00:00:00",
          "2020-06-23T00:00:00",
          "2020-06-24T00:00:00",
          "2020-06-25T00:00:00",
          "2020-06-26T00:00:00",
          "2020-06-27T00:00:00",
          "2020-06-28T00:00:00",
          "2020-06-29T00:00:00",
          "2020-06-30T00:00:00",
          "2020-07-01T00:00:00",
          "2020-07-02T00:00:00",
          "2020-07-03T00:00:00",
          "2020-07-04T00:00:00",
          "2020-07-05T00:00:00",
          "2020-07-06T00:00:00",
          "2020-07-07T00:00:00",
          "2020-07-08T00:00:00",
          "2020-07-09T00:00:00",
          "2020-07-10T00:00:00",
          "2020-07-11T00:00:00",
          "2020-07-12T00:00:00",
          "2020-07-13T00:00:00",
          "2020-07-14T00:00:00",
          "2020-07-15T00:00:00",
          "2020-07-16T00:00:00",
          "2020-07-17T00:00:00",
          "2020-07-18T00:00:00",
          "2020-07-19T00:00:00",
          "2020-07-20T00:00:00",
          "2020-07-21T00:00:00",
          "2020-07-22T00:00:00",
          "2020-07-23T00:00:00",
          "2020-07-24T00:00:00",
          "2020-07-25T00:00:00",
          "2020-07-26T00:00:00",
          "2020-07-27T00:00:00"
         ],
         "y": [
          2.0504264103398153,
          3.616306225174145,
          6.192427423861256,
          10.310949294032774,
          16.71902572855897,
          26.436110954607496,
          40.815672927279536,
          61.60813985669922,
          91.02105953437011,
          131.77185930375973,
          187.12835817606438,
          260.93236601970875,
          357.60232407595726,
          482.11196119584406,
          639.9432792265329,
          837.0137211724992,
          1079.5789796063518,
          1374.1144293186721,
          1727.1794904265219,
          2145.2702443569005,
          2634.6662697107213,
          3201.2779092289074,
          3850.5000313191053,
          4587.077851380258,
          5414.989591645439,
          6337.349764201032,
          7356.335744603544,
          8473.139145166731,
          9687.942373251382,
          10999.919730478208,
          12407.261520024666,
          13907.218913246254,
          15496.166790097754,
          17169.68142369693,
          18922.62970426214,
          20749.266581344717,
          22643.337521808942,
          24598.182999794913,
          26606.84234042991,
          28662.154588595073,
          30756.854458774884,
          32883.661811470054,
          35035.363482781715,
          37204.88665534678,
          39385.363281795224,
          41570.18536636392,
          43753.05115838974,
          45928.00251283166,
          48089.45384123295,
          50232.21320468932,
          52351.49618112618,
          54442.933205651905,
          56502.57110985805,
          58526.86958781606,
          60512.693315789074,
          62457.30041363769,
          64358.327903000965,
          66213.77477689777,
          68021.98322760327,
          69781.61854752562,
          71491.64813584689,
          73151.3200161284,
          74760.14119457632,
          76317.85614895256,
          77824.4256922472,
          79280.00640653906,
          80684.93080177603,
          82039.6883330152,
          83344.90735380602,
          84601.3380823585,
          85809.83661514704,
          86971.35000722704,
          88086.90243151953,
          89157.58239396026,
          90184.5309913542,
          91168.9311804296,
          92111.99801670325,
          93014.9698175039,
          93879.10020861488,
          94705.65099824549,
          95495.88583165876,
          96251.06456917067,
          96972.43833986836,
          97661.24522187206,
          98318.70649179221,
          98946.02340777506,
          99544.37446819131,
          100114.91311400458,
          100658.7658216696,
          101177.03056113816,
          101670.77557345018,
          102141.03843747928,
          102588.82539277326,
          103015.11089621819,
          103420.83737694324,
          103806.91517150686,
          104174.22261167392,
          104523.60625535577,
          104855.88122396632,
          105171.83164924337,
          105472.21120099956,
          105757.74368565566,
          106029.12370999108,
          106287.01738272996,
          106532.06306839376,
          106764.8721561883,
          106986.02986660176,
          107196.09605955447,
          107395.60606040846,
          107585.07148942408,
          107764.98108789395,
          107935.8015418808,
          108097.97829848329,
          108251.93637300425,
          108398.08113781526,
          108536.79910354064,
          108668.45867834036,
          108793.41091078585,
          108911.99021267056,
          109024.51506610279,
          109131.28870024595,
          109232.59976006736,
          109328.72293926337,
          109419.9196058904,
          109506.43839475354,
          109588.51578311446,
          109666.3766477942,
          109740.23479704438,
          109810.29348045548,
          109876.7458838356,
          109939.77560150393,
          109999.55708831125,
          110056.25609172779,
          110110.03007003757,
          110161.02858950233,
          110209.3937011108,
          110255.26031091172,
          110298.75652021966,
          110340.0039617151,
          110379.11811554042,
          110416.20861052936,
          110451.37951226102,
          110484.7296010754,
          110516.35262919682
         ]
        },
        {
         "mode": "lines",
         "name": "actual cases in MA",
         "type": "scatter",
         "x": [
          "2020-05-03T00:00:00",
          "2020-05-02T00:00:00",
          "2020-05-01T00:00:00",
          "2020-04-30T00:00:00",
          "2020-04-29T00:00:00",
          "2020-04-28T00:00:00",
          "2020-04-27T00:00:00",
          "2020-04-26T00:00:00",
          "2020-04-25T00:00:00",
          "2020-04-24T00:00:00",
          "2020-04-23T00:00:00",
          "2020-04-22T00:00:00",
          "2020-04-21T00:00:00",
          "2020-04-20T00:00:00",
          "2020-04-19T00:00:00",
          "2020-04-18T00:00:00",
          "2020-04-17T00:00:00",
          "2020-04-16T00:00:00",
          "2020-04-15T00:00:00",
          "2020-04-14T00:00:00",
          "2020-04-13T00:00:00",
          "2020-04-12T00:00:00",
          "2020-04-11T00:00:00",
          "2020-04-10T00:00:00",
          "2020-04-09T00:00:00",
          "2020-04-08T00:00:00",
          "2020-04-07T00:00:00",
          "2020-04-06T00:00:00",
          "2020-04-05T00:00:00",
          "2020-04-04T00:00:00",
          "2020-04-03T00:00:00",
          "2020-04-02T00:00:00",
          "2020-04-01T00:00:00",
          "2020-03-31T00:00:00",
          "2020-03-30T00:00:00",
          "2020-03-29T00:00:00",
          "2020-03-28T00:00:00",
          "2020-03-27T00:00:00",
          "2020-03-26T00:00:00",
          "2020-03-25T00:00:00",
          "2020-03-24T00:00:00",
          "2020-03-23T00:00:00",
          "2020-03-22T00:00:00",
          "2020-03-21T00:00:00",
          "2020-03-20T00:00:00",
          "2020-03-19T00:00:00",
          "2020-03-18T00:00:00",
          "2020-03-17T00:00:00",
          "2020-03-16T00:00:00",
          "2020-03-15T00:00:00",
          "2020-03-14T00:00:00",
          "2020-03-13T00:00:00",
          "2020-03-12T00:00:00",
          "2020-03-11T00:00:00",
          "2020-03-10T00:00:00",
          "2020-03-09T00:00:00",
          "2020-03-08T00:00:00",
          "2020-03-07T00:00:00",
          "2020-03-06T00:00:00"
         ],
         "y": [
          68087,
          66263,
          64311,
          62205,
          60265,
          58302,
          56462,
          54938,
          53348,
          50969,
          47992,
          44913,
          43168,
          41416,
          39820,
          37527,
          35125,
          32492,
          29970,
          28109,
          26794,
          25381,
          22766,
          20878,
          18843,
          16692,
          15104,
          13739,
          12402,
          11637,
          10303,
          8867,
          7639,
          6521,
          5653,
          4856,
          4158,
          3151,
          2318,
          1739,
          1060,
          678,
          547,
          426,
          314,
          229,
          156,
          118,
          97,
          64,
          38,
          23,
          8,
          0,
          0,
          0,
          0,
          0,
          0
         ]
        }
       ],
       "layout": {
        "height": 400,
        "margin": {
         "t": 30
        },
        "shapes": [
         {
          "line": {
           "dash": "dot",
           "width": 1
          },
          "name": "current",
          "type": "line",
          "x0": "2020-05-03T00:00:00",
          "x1": "2020-05-03T00:00:00",
          "y0": 0,
          "y1": 111093.69601585055
         }
        ],
        "template": {
         "data": {
          "bar": [
           {
            "error_x": {
             "color": "#2a3f5f"
            },
            "error_y": {
             "color": "#2a3f5f"
            },
            "marker": {
             "line": {
              "color": "#E5ECF6",
              "width": 0.5
             }
            },
            "type": "bar"
           }
          ],
          "barpolar": [
           {
            "marker": {
             "line": {
              "color": "#E5ECF6",
              "width": 0.5
             }
            },
            "type": "barpolar"
           }
          ],
          "carpet": [
           {
            "aaxis": {
             "endlinecolor": "#2a3f5f",
             "gridcolor": "white",
             "linecolor": "white",
             "minorgridcolor": "white",
             "startlinecolor": "#2a3f5f"
            },
            "baxis": {
             "endlinecolor": "#2a3f5f",
             "gridcolor": "white",
             "linecolor": "white",
             "minorgridcolor": "white",
             "startlinecolor": "#2a3f5f"
            },
            "type": "carpet"
           }
          ],
          "choropleth": [
           {
            "colorbar": {
             "outlinewidth": 0,
             "ticks": ""
            },
            "type": "choropleth"
           }
          ],
          "contour": [
           {
            "colorbar": {
             "outlinewidth": 0,
             "ticks": ""
            },
            "colorscale": [
             [
              0,
              "#0d0887"
             ],
             [
              0.1111111111111111,
              "#46039f"
             ],
             [
              0.2222222222222222,
              "#7201a8"
             ],
             [
              0.3333333333333333,
              "#9c179e"
             ],
             [
              0.4444444444444444,
              "#bd3786"
             ],
             [
              0.5555555555555556,
              "#d8576b"
             ],
             [
              0.6666666666666666,
              "#ed7953"
             ],
             [
              0.7777777777777778,
              "#fb9f3a"
             ],
             [
              0.8888888888888888,
              "#fdca26"
             ],
             [
              1,
              "#f0f921"
             ]
            ],
            "type": "contour"
           }
          ],
          "contourcarpet": [
           {
            "colorbar": {
             "outlinewidth": 0,
             "ticks": ""
            },
            "type": "contourcarpet"
           }
          ],
          "heatmap": [
           {
            "colorbar": {
             "outlinewidth": 0,
             "ticks": ""
            },
            "colorscale": [
             [
              0,
              "#0d0887"
             ],
             [
              0.1111111111111111,
              "#46039f"
             ],
             [
              0.2222222222222222,
              "#7201a8"
             ],
             [
              0.3333333333333333,
              "#9c179e"
             ],
             [
              0.4444444444444444,
              "#bd3786"
             ],
             [
              0.5555555555555556,
              "#d8576b"
             ],
             [
              0.6666666666666666,
              "#ed7953"
             ],
             [
              0.7777777777777778,
              "#fb9f3a"
             ],
             [
              0.8888888888888888,
              "#fdca26"
             ],
             [
              1,
              "#f0f921"
             ]
            ],
            "type": "heatmap"
           }
          ],
          "heatmapgl": [
           {
            "colorbar": {
             "outlinewidth": 0,
             "ticks": ""
            },
            "colorscale": [
             [
              0,
              "#0d0887"
             ],
             [
              0.1111111111111111,
              "#46039f"
             ],
             [
              0.2222222222222222,
              "#7201a8"
             ],
             [
              0.3333333333333333,
              "#9c179e"
             ],
             [
              0.4444444444444444,
              "#bd3786"
             ],
             [
              0.5555555555555556,
              "#d8576b"
             ],
             [
              0.6666666666666666,
              "#ed7953"
             ],
             [
              0.7777777777777778,
              "#fb9f3a"
             ],
             [
              0.8888888888888888,
              "#fdca26"
             ],
             [
              1,
              "#f0f921"
             ]
            ],
            "type": "heatmapgl"
           }
          ],
          "histogram": [
           {
            "marker": {
             "colorbar": {
              "outlinewidth": 0,
              "ticks": ""
             }
            },
            "type": "histogram"
           }
          ],
          "histogram2d": [
           {
            "colorbar": {
             "outlinewidth": 0,
             "ticks": ""
            },
            "colorscale": [
             [
              0,
              "#0d0887"
             ],
             [
              0.1111111111111111,
              "#46039f"
             ],
             [
              0.2222222222222222,
              "#7201a8"
             ],
             [
              0.3333333333333333,
              "#9c179e"
             ],
             [
              0.4444444444444444,
              "#bd3786"
             ],
             [
              0.5555555555555556,
              "#d8576b"
             ],
             [
              0.6666666666666666,
              "#ed7953"
             ],
             [
              0.7777777777777778,
              "#fb9f3a"
             ],
             [
              0.8888888888888888,
              "#fdca26"
             ],
             [
              1,
              "#f0f921"
             ]
            ],
            "type": "histogram2d"
           }
          ],
          "histogram2dcontour": [
           {
            "colorbar": {
             "outlinewidth": 0,
             "ticks": ""
            },
            "colorscale": [
             [
              0,
              "#0d0887"
             ],
             [
              0.1111111111111111,
              "#46039f"
             ],
             [
              0.2222222222222222,
              "#7201a8"
             ],
             [
              0.3333333333333333,
              "#9c179e"
             ],
             [
              0.4444444444444444,
              "#bd3786"
             ],
             [
              0.5555555555555556,
              "#d8576b"
             ],
             [
              0.6666666666666666,
              "#ed7953"
             ],
             [
              0.7777777777777778,
              "#fb9f3a"
             ],
             [
              0.8888888888888888,
              "#fdca26"
             ],
             [
              1,
              "#f0f921"
             ]
            ],
            "type": "histogram2dcontour"
           }
          ],
          "mesh3d": [
           {
            "colorbar": {
             "outlinewidth": 0,
             "ticks": ""
            },
            "type": "mesh3d"
           }
          ],
          "parcoords": [
           {
            "line": {
             "colorbar": {
              "outlinewidth": 0,
              "ticks": ""
             }
            },
            "type": "parcoords"
           }
          ],
          "pie": [
           {
            "automargin": true,
            "type": "pie"
           }
          ],
          "scatter": [
           {
            "marker": {
             "colorbar": {
              "outlinewidth": 0,
              "ticks": ""
             }
            },
            "type": "scatter"
           }
          ],
          "scatter3d": [
           {
            "line": {
             "colorbar": {
              "outlinewidth": 0,
              "ticks": ""
             }
            },
            "marker": {
             "colorbar": {
              "outlinewidth": 0,
              "ticks": ""
             }
            },
            "type": "scatter3d"
           }
          ],
          "scattercarpet": [
           {
            "marker": {
             "colorbar": {
              "outlinewidth": 0,
              "ticks": ""
             }
            },
            "type": "scattercarpet"
           }
          ],
          "scattergeo": [
           {
            "marker": {
             "colorbar": {
              "outlinewidth": 0,
              "ticks": ""
             }
            },
            "type": "scattergeo"
           }
          ],
          "scattergl": [
           {
            "marker": {
             "colorbar": {
              "outlinewidth": 0,
              "ticks": ""
             }
            },
            "type": "scattergl"
           }
          ],
          "scattermapbox": [
           {
            "marker": {
             "colorbar": {
              "outlinewidth": 0,
              "ticks": ""
             }
            },
            "type": "scattermapbox"
           }
          ],
          "scatterpolar": [
           {
            "marker": {
             "colorbar": {
              "outlinewidth": 0,
              "ticks": ""
             }
            },
            "type": "scatterpolar"
           }
          ],
          "scatterpolargl": [
           {
            "marker": {
             "colorbar": {
              "outlinewidth": 0,
              "ticks": ""
             }
            },
            "type": "scatterpolargl"
           }
          ],
          "scatterternary": [
           {
            "marker": {
             "colorbar": {
              "outlinewidth": 0,
              "ticks": ""
             }
            },
            "type": "scatterternary"
           }
          ],
          "surface": [
           {
            "colorbar": {
             "outlinewidth": 0,
             "ticks": ""
            },
            "colorscale": [
             [
              0,
              "#0d0887"
             ],
             [
              0.1111111111111111,
              "#46039f"
             ],
             [
              0.2222222222222222,
              "#7201a8"
             ],
             [
              0.3333333333333333,
              "#9c179e"
             ],
             [
              0.4444444444444444,
              "#bd3786"
             ],
             [
              0.5555555555555556,
              "#d8576b"
             ],
             [
              0.6666666666666666,
              "#ed7953"
             ],
             [
              0.7777777777777778,
              "#fb9f3a"
             ],
             [
              0.8888888888888888,
              "#fdca26"
             ],
             [
              1,
              "#f0f921"
             ]
            ],
            "type": "surface"
           }
          ],
          "table": [
           {
            "cells": {
             "fill": {
              "color": "#EBF0F8"
             },
             "line": {
              "color": "white"
             }
            },
            "header": {
             "fill": {
              "color": "#C8D4E3"
             },
             "line": {
              "color": "white"
             }
            },
            "type": "table"
           }
          ]
         },
         "layout": {
          "annotationdefaults": {
           "arrowcolor": "#2a3f5f",
           "arrowhead": 0,
           "arrowwidth": 1
          },
          "coloraxis": {
           "colorbar": {
            "outlinewidth": 0,
            "ticks": ""
           }
          },
          "colorscale": {
           "diverging": [
            [
             0,
             "#8e0152"
            ],
            [
             0.1,
             "#c51b7d"
            ],
            [
             0.2,
             "#de77ae"
            ],
            [
             0.3,
             "#f1b6da"
            ],
            [
             0.4,
             "#fde0ef"
            ],
            [
             0.5,
             "#f7f7f7"
            ],
            [
             0.6,
             "#e6f5d0"
            ],
            [
             0.7,
             "#b8e186"
            ],
            [
             0.8,
             "#7fbc41"
            ],
            [
             0.9,
             "#4d9221"
            ],
            [
             1,
             "#276419"
            ]
           ],
           "sequential": [
            [
             0,
             "#0d0887"
            ],
            [
             0.1111111111111111,
             "#46039f"
            ],
            [
             0.2222222222222222,
             "#7201a8"
            ],
            [
             0.3333333333333333,
             "#9c179e"
            ],
            [
             0.4444444444444444,
             "#bd3786"
            ],
            [
             0.5555555555555556,
             "#d8576b"
            ],
            [
             0.6666666666666666,
             "#ed7953"
            ],
            [
             0.7777777777777778,
             "#fb9f3a"
            ],
            [
             0.8888888888888888,
             "#fdca26"
            ],
            [
             1,
             "#f0f921"
            ]
           ],
           "sequentialminus": [
            [
             0,
             "#0d0887"
            ],
            [
             0.1111111111111111,
             "#46039f"
            ],
            [
             0.2222222222222222,
             "#7201a8"
            ],
            [
             0.3333333333333333,
             "#9c179e"
            ],
            [
             0.4444444444444444,
             "#bd3786"
            ],
            [
             0.5555555555555556,
             "#d8576b"
            ],
            [
             0.6666666666666666,
             "#ed7953"
            ],
            [
             0.7777777777777778,
             "#fb9f3a"
            ],
            [
             0.8888888888888888,
             "#fdca26"
            ],
            [
             1,
             "#f0f921"
            ]
           ]
          },
          "colorway": [
           "#636efa",
           "#EF553B",
           "#00cc96",
           "#ab63fa",
           "#FFA15A",
           "#19d3f3",
           "#FF6692",
           "#B6E880",
           "#FF97FF",
           "#FECB52"
          ],
          "font": {
           "color": "#2a3f5f"
          },
          "geo": {
           "bgcolor": "white",
           "lakecolor": "white",
           "landcolor": "#E5ECF6",
           "showlakes": true,
           "showland": true,
           "subunitcolor": "white"
          },
          "hoverlabel": {
           "align": "left"
          },
          "hovermode": "closest",
          "mapbox": {
           "style": "light"
          },
          "paper_bgcolor": "white",
          "plot_bgcolor": "#E5ECF6",
          "polar": {
           "angularaxis": {
            "gridcolor": "white",
            "linecolor": "white",
            "ticks": ""
           },
           "bgcolor": "#E5ECF6",
           "radialaxis": {
            "gridcolor": "white",
            "linecolor": "white",
            "ticks": ""
           }
          },
          "scene": {
           "xaxis": {
            "backgroundcolor": "#E5ECF6",
            "gridcolor": "white",
            "gridwidth": 2,
            "linecolor": "white",
            "showbackground": true,
            "ticks": "",
            "zerolinecolor": "white"
           },
           "yaxis": {
            "backgroundcolor": "#E5ECF6",
            "gridcolor": "white",
            "gridwidth": 2,
            "linecolor": "white",
            "showbackground": true,
            "ticks": "",
            "zerolinecolor": "white"
           },
           "zaxis": {
            "backgroundcolor": "#E5ECF6",
            "gridcolor": "white",
            "gridwidth": 2,
            "linecolor": "white",
            "showbackground": true,
            "ticks": "",
            "zerolinecolor": "white"
           }
          },
          "shapedefaults": {
           "line": {
            "color": "#2a3f5f"
           }
          },
          "ternary": {
           "aaxis": {
            "gridcolor": "white",
            "linecolor": "white",
            "ticks": ""
           },
           "baxis": {
            "gridcolor": "white",
            "linecolor": "white",
            "ticks": ""
           },
           "bgcolor": "#E5ECF6",
           "caxis": {
            "gridcolor": "white",
            "linecolor": "white",
            "ticks": ""
           }
          },
          "title": {
           "x": 0.05
          },
          "xaxis": {
           "automargin": true,
           "gridcolor": "white",
           "linecolor": "white",
           "ticks": "",
           "title": {
            "standoff": 15
           },
           "zerolinecolor": "white",
           "zerolinewidth": 2
          },
          "yaxis": {
           "automargin": true,
           "gridcolor": "white",
           "linecolor": "white",
           "ticks": "",
           "title": {
            "standoff": 15
           },
           "zerolinecolor": "white",
           "zerolinewidth": 2
          }
         }
        },
        "width": 700,
        "xaxis": {
         "linecolor": "black",
         "linewidth": 1.5,
         "mirror": true,
         "showgrid": true,
         "showline": true,
         "title": {
          "text": "Day of Year"
         }
        },
        "yaxis": {
         "linecolor": "black",
         "linewidth": 1.5,
         "mirror": true,
         "showgrid": false,
         "showline": true,
         "title": {
          "text": "Cumulative Case Count in MA"
         }
        }
       }
      },
      "text/html": [
       "<div>\n",
       "        \n",
       "        \n",
       "            <div id=\"5167c06e-c602-4a29-9b1b-b42aaf7841f4\" class=\"plotly-graph-div\" style=\"height:400px; width:700px;\"></div>\n",
       "            <script type=\"text/javascript\">\n",
       "                require([\"plotly\"], function(Plotly) {\n",
       "                    window.PLOTLYENV=window.PLOTLYENV || {};\n",
       "                    \n",
       "                if (document.getElementById(\"5167c06e-c602-4a29-9b1b-b42aaf7841f4\")) {\n",
       "                    Plotly.newPlot(\n",
       "                        '5167c06e-c602-4a29-9b1b-b42aaf7841f4',\n",
       "                        [{\"line\": {\"dash\": \"dash\"}, \"mode\": \"lines\", \"name\": \"richards fit\", \"type\": \"scatter\", \"x\": [\"2020-03-06T00:00:00\", \"2020-03-07T00:00:00\", \"2020-03-08T00:00:00\", \"2020-03-09T00:00:00\", \"2020-03-10T00:00:00\", \"2020-03-11T00:00:00\", \"2020-03-12T00:00:00\", \"2020-03-13T00:00:00\", \"2020-03-14T00:00:00\", \"2020-03-15T00:00:00\", \"2020-03-16T00:00:00\", \"2020-03-17T00:00:00\", \"2020-03-18T00:00:00\", \"2020-03-19T00:00:00\", \"2020-03-20T00:00:00\", \"2020-03-21T00:00:00\", \"2020-03-22T00:00:00\", \"2020-03-23T00:00:00\", \"2020-03-24T00:00:00\", \"2020-03-25T00:00:00\", \"2020-03-26T00:00:00\", \"2020-03-27T00:00:00\", \"2020-03-28T00:00:00\", \"2020-03-29T00:00:00\", \"2020-03-30T00:00:00\", \"2020-03-31T00:00:00\", \"2020-04-01T00:00:00\", \"2020-04-02T00:00:00\", \"2020-04-03T00:00:00\", \"2020-04-04T00:00:00\", \"2020-04-05T00:00:00\", \"2020-04-06T00:00:00\", \"2020-04-07T00:00:00\", \"2020-04-08T00:00:00\", \"2020-04-09T00:00:00\", \"2020-04-10T00:00:00\", \"2020-04-11T00:00:00\", \"2020-04-12T00:00:00\", \"2020-04-13T00:00:00\", \"2020-04-14T00:00:00\", \"2020-04-15T00:00:00\", \"2020-04-16T00:00:00\", \"2020-04-17T00:00:00\", \"2020-04-18T00:00:00\", \"2020-04-19T00:00:00\", \"2020-04-20T00:00:00\", \"2020-04-21T00:00:00\", \"2020-04-22T00:00:00\", \"2020-04-23T00:00:00\", \"2020-04-24T00:00:00\", \"2020-04-25T00:00:00\", \"2020-04-26T00:00:00\", \"2020-04-27T00:00:00\", \"2020-04-28T00:00:00\", \"2020-04-29T00:00:00\", \"2020-04-30T00:00:00\", \"2020-05-01T00:00:00\", \"2020-05-02T00:00:00\", \"2020-05-03T00:00:00\", \"2020-05-04T00:00:00\", \"2020-05-05T00:00:00\", \"2020-05-06T00:00:00\", \"2020-05-07T00:00:00\", \"2020-05-08T00:00:00\", \"2020-05-09T00:00:00\", \"2020-05-10T00:00:00\", \"2020-05-11T00:00:00\", \"2020-05-12T00:00:00\", \"2020-05-13T00:00:00\", \"2020-05-14T00:00:00\", \"2020-05-15T00:00:00\", \"2020-05-16T00:00:00\", \"2020-05-17T00:00:00\", \"2020-05-18T00:00:00\", \"2020-05-19T00:00:00\", \"2020-05-20T00:00:00\", \"2020-05-21T00:00:00\", \"2020-05-22T00:00:00\", \"2020-05-23T00:00:00\", \"2020-05-24T00:00:00\", \"2020-05-25T00:00:00\", \"2020-05-26T00:00:00\", \"2020-05-27T00:00:00\", \"2020-05-28T00:00:00\", \"2020-05-29T00:00:00\", \"2020-05-30T00:00:00\", \"2020-05-31T00:00:00\", \"2020-06-01T00:00:00\", \"2020-06-02T00:00:00\", \"2020-06-03T00:00:00\", \"2020-06-04T00:00:00\", \"2020-06-05T00:00:00\", \"2020-06-06T00:00:00\", \"2020-06-07T00:00:00\", \"2020-06-08T00:00:00\", \"2020-06-09T00:00:00\", \"2020-06-10T00:00:00\", \"2020-06-11T00:00:00\", \"2020-06-12T00:00:00\", \"2020-06-13T00:00:00\", \"2020-06-14T00:00:00\", \"2020-06-15T00:00:00\", \"2020-06-16T00:00:00\", \"2020-06-17T00:00:00\", \"2020-06-18T00:00:00\", \"2020-06-19T00:00:00\", \"2020-06-20T00:00:00\", \"2020-06-21T00:00:00\", \"2020-06-22T00:00:00\", \"2020-06-23T00:00:00\", \"2020-06-24T00:00:00\", \"2020-06-25T00:00:00\", \"2020-06-26T00:00:00\", \"2020-06-27T00:00:00\", \"2020-06-28T00:00:00\", \"2020-06-29T00:00:00\", \"2020-06-30T00:00:00\", \"2020-07-01T00:00:00\", \"2020-07-02T00:00:00\", \"2020-07-03T00:00:00\", \"2020-07-04T00:00:00\", \"2020-07-05T00:00:00\", \"2020-07-06T00:00:00\", \"2020-07-07T00:00:00\", \"2020-07-08T00:00:00\", \"2020-07-09T00:00:00\", \"2020-07-10T00:00:00\", \"2020-07-11T00:00:00\", \"2020-07-12T00:00:00\", \"2020-07-13T00:00:00\", \"2020-07-14T00:00:00\", \"2020-07-15T00:00:00\", \"2020-07-16T00:00:00\", \"2020-07-17T00:00:00\", \"2020-07-18T00:00:00\", \"2020-07-19T00:00:00\", \"2020-07-20T00:00:00\", \"2020-07-21T00:00:00\", \"2020-07-22T00:00:00\", \"2020-07-23T00:00:00\", \"2020-07-24T00:00:00\", \"2020-07-25T00:00:00\", \"2020-07-26T00:00:00\", \"2020-07-27T00:00:00\"], \"y\": [2.0504264103398153, 3.616306225174145, 6.192427423861256, 10.310949294032774, 16.71902572855897, 26.436110954607496, 40.815672927279536, 61.60813985669922, 91.02105953437011, 131.77185930375973, 187.12835817606438, 260.93236601970875, 357.60232407595726, 482.11196119584406, 639.9432792265329, 837.0137211724992, 1079.5789796063518, 1374.1144293186721, 1727.1794904265219, 2145.2702443569005, 2634.6662697107213, 3201.2779092289074, 3850.5000313191053, 4587.077851380258, 5414.989591645439, 6337.349764201032, 7356.335744603544, 8473.139145166731, 9687.942373251382, 10999.919730478208, 12407.261520024666, 13907.218913246254, 15496.166790097754, 17169.68142369693, 18922.62970426214, 20749.266581344717, 22643.337521808942, 24598.182999794913, 26606.84234042991, 28662.154588595073, 30756.854458774884, 32883.661811470054, 35035.363482781715, 37204.88665534678, 39385.363281795224, 41570.18536636392, 43753.05115838974, 45928.00251283166, 48089.45384123295, 50232.21320468932, 52351.49618112618, 54442.933205651905, 56502.57110985805, 58526.86958781606, 60512.693315789074, 62457.30041363769, 64358.327903000965, 66213.77477689777, 68021.98322760327, 69781.61854752562, 71491.64813584689, 73151.3200161284, 74760.14119457632, 76317.85614895256, 77824.4256922472, 79280.00640653906, 80684.93080177603, 82039.6883330152, 83344.90735380602, 84601.3380823585, 85809.83661514704, 86971.35000722704, 88086.90243151953, 89157.58239396026, 90184.5309913542, 91168.9311804296, 92111.99801670325, 93014.9698175039, 93879.10020861488, 94705.65099824549, 95495.88583165876, 96251.06456917067, 96972.43833986836, 97661.24522187206, 98318.70649179221, 98946.02340777506, 99544.37446819131, 100114.91311400458, 100658.7658216696, 101177.03056113816, 101670.77557345018, 102141.03843747928, 102588.82539277326, 103015.11089621819, 103420.83737694324, 103806.91517150686, 104174.22261167392, 104523.60625535577, 104855.88122396632, 105171.83164924337, 105472.21120099956, 105757.74368565566, 106029.12370999108, 106287.01738272996, 106532.06306839376, 106764.8721561883, 106986.02986660176, 107196.09605955447, 107395.60606040846, 107585.07148942408, 107764.98108789395, 107935.8015418808, 108097.97829848329, 108251.93637300425, 108398.08113781526, 108536.79910354064, 108668.45867834036, 108793.41091078585, 108911.99021267056, 109024.51506610279, 109131.28870024595, 109232.59976006736, 109328.72293926337, 109419.9196058904, 109506.43839475354, 109588.51578311446, 109666.3766477942, 109740.23479704438, 109810.29348045548, 109876.7458838356, 109939.77560150393, 109999.55708831125, 110056.25609172779, 110110.03007003757, 110161.02858950233, 110209.3937011108, 110255.26031091172, 110298.75652021966, 110340.0039617151, 110379.11811554042, 110416.20861052936, 110451.37951226102, 110484.7296010754, 110516.35262919682]}, {\"mode\": \"lines\", \"name\": \"actual cases in MA\", \"type\": \"scatter\", \"x\": [\"2020-05-03T00:00:00\", \"2020-05-02T00:00:00\", \"2020-05-01T00:00:00\", \"2020-04-30T00:00:00\", \"2020-04-29T00:00:00\", \"2020-04-28T00:00:00\", \"2020-04-27T00:00:00\", \"2020-04-26T00:00:00\", \"2020-04-25T00:00:00\", \"2020-04-24T00:00:00\", \"2020-04-23T00:00:00\", \"2020-04-22T00:00:00\", \"2020-04-21T00:00:00\", \"2020-04-20T00:00:00\", \"2020-04-19T00:00:00\", \"2020-04-18T00:00:00\", \"2020-04-17T00:00:00\", \"2020-04-16T00:00:00\", \"2020-04-15T00:00:00\", \"2020-04-14T00:00:00\", \"2020-04-13T00:00:00\", \"2020-04-12T00:00:00\", \"2020-04-11T00:00:00\", \"2020-04-10T00:00:00\", \"2020-04-09T00:00:00\", \"2020-04-08T00:00:00\", \"2020-04-07T00:00:00\", \"2020-04-06T00:00:00\", \"2020-04-05T00:00:00\", \"2020-04-04T00:00:00\", \"2020-04-03T00:00:00\", \"2020-04-02T00:00:00\", \"2020-04-01T00:00:00\", \"2020-03-31T00:00:00\", \"2020-03-30T00:00:00\", \"2020-03-29T00:00:00\", \"2020-03-28T00:00:00\", \"2020-03-27T00:00:00\", \"2020-03-26T00:00:00\", \"2020-03-25T00:00:00\", \"2020-03-24T00:00:00\", \"2020-03-23T00:00:00\", \"2020-03-22T00:00:00\", \"2020-03-21T00:00:00\", \"2020-03-20T00:00:00\", \"2020-03-19T00:00:00\", \"2020-03-18T00:00:00\", \"2020-03-17T00:00:00\", \"2020-03-16T00:00:00\", \"2020-03-15T00:00:00\", \"2020-03-14T00:00:00\", \"2020-03-13T00:00:00\", \"2020-03-12T00:00:00\", \"2020-03-11T00:00:00\", \"2020-03-10T00:00:00\", \"2020-03-09T00:00:00\", \"2020-03-08T00:00:00\", \"2020-03-07T00:00:00\", \"2020-03-06T00:00:00\"], \"y\": [68087.0, 66263.0, 64311.0, 62205.0, 60265.0, 58302.0, 56462.0, 54938.0, 53348.0, 50969.0, 47992.0, 44913.0, 43168.0, 41416.0, 39820.0, 37527.0, 35125.0, 32492.0, 29970.0, 28109.0, 26794.0, 25381.0, 22766.0, 20878.0, 18843.0, 16692.0, 15104.0, 13739.0, 12402.0, 11637.0, 10303.0, 8867.0, 7639.0, 6521.0, 5653.0, 4856.0, 4158.0, 3151.0, 2318.0, 1739.0, 1060.0, 678.0, 547.0, 426.0, 314.0, 229.0, 156.0, 118.0, 97.0, 64.0, 38.0, 23.0, 8.0, 0.0, 0.0, 0.0, 0.0, 0.0, 0.0]}],\n",
       "                        {\"height\": 400, \"margin\": {\"t\": 30}, \"shapes\": [{\"line\": {\"dash\": \"dot\", \"width\": 1}, \"name\": \"current\", \"type\": \"line\", \"x0\": \"2020-05-03T00:00:00\", \"x1\": \"2020-05-03T00:00:00\", \"y0\": 0, \"y1\": 111093.69601585055}], \"template\": {\"data\": {\"bar\": [{\"error_x\": {\"color\": \"#2a3f5f\"}, \"error_y\": {\"color\": \"#2a3f5f\"}, \"marker\": {\"line\": {\"color\": \"#E5ECF6\", \"width\": 0.5}}, \"type\": \"bar\"}], \"barpolar\": [{\"marker\": {\"line\": {\"color\": \"#E5ECF6\", \"width\": 0.5}}, \"type\": \"barpolar\"}], \"carpet\": [{\"aaxis\": {\"endlinecolor\": \"#2a3f5f\", \"gridcolor\": \"white\", \"linecolor\": \"white\", \"minorgridcolor\": \"white\", \"startlinecolor\": \"#2a3f5f\"}, \"baxis\": {\"endlinecolor\": \"#2a3f5f\", \"gridcolor\": \"white\", \"linecolor\": \"white\", \"minorgridcolor\": \"white\", \"startlinecolor\": \"#2a3f5f\"}, \"type\": \"carpet\"}], \"choropleth\": [{\"colorbar\": {\"outlinewidth\": 0, \"ticks\": \"\"}, \"type\": \"choropleth\"}], \"contour\": [{\"colorbar\": {\"outlinewidth\": 0, \"ticks\": \"\"}, \"colorscale\": [[0.0, \"#0d0887\"], [0.1111111111111111, \"#46039f\"], [0.2222222222222222, \"#7201a8\"], [0.3333333333333333, \"#9c179e\"], [0.4444444444444444, \"#bd3786\"], [0.5555555555555556, \"#d8576b\"], [0.6666666666666666, \"#ed7953\"], [0.7777777777777778, \"#fb9f3a\"], [0.8888888888888888, \"#fdca26\"], [1.0, \"#f0f921\"]], \"type\": \"contour\"}], \"contourcarpet\": [{\"colorbar\": {\"outlinewidth\": 0, \"ticks\": \"\"}, \"type\": \"contourcarpet\"}], \"heatmap\": [{\"colorbar\": {\"outlinewidth\": 0, \"ticks\": \"\"}, \"colorscale\": [[0.0, \"#0d0887\"], [0.1111111111111111, \"#46039f\"], [0.2222222222222222, \"#7201a8\"], [0.3333333333333333, \"#9c179e\"], [0.4444444444444444, \"#bd3786\"], [0.5555555555555556, \"#d8576b\"], [0.6666666666666666, \"#ed7953\"], [0.7777777777777778, \"#fb9f3a\"], [0.8888888888888888, \"#fdca26\"], [1.0, \"#f0f921\"]], \"type\": \"heatmap\"}], \"heatmapgl\": [{\"colorbar\": {\"outlinewidth\": 0, \"ticks\": \"\"}, \"colorscale\": [[0.0, \"#0d0887\"], [0.1111111111111111, \"#46039f\"], [0.2222222222222222, \"#7201a8\"], [0.3333333333333333, \"#9c179e\"], [0.4444444444444444, \"#bd3786\"], [0.5555555555555556, \"#d8576b\"], [0.6666666666666666, \"#ed7953\"], [0.7777777777777778, \"#fb9f3a\"], [0.8888888888888888, \"#fdca26\"], [1.0, \"#f0f921\"]], \"type\": \"heatmapgl\"}], \"histogram\": [{\"marker\": {\"colorbar\": {\"outlinewidth\": 0, \"ticks\": \"\"}}, \"type\": \"histogram\"}], \"histogram2d\": [{\"colorbar\": {\"outlinewidth\": 0, \"ticks\": \"\"}, \"colorscale\": [[0.0, \"#0d0887\"], [0.1111111111111111, \"#46039f\"], [0.2222222222222222, \"#7201a8\"], [0.3333333333333333, \"#9c179e\"], [0.4444444444444444, \"#bd3786\"], [0.5555555555555556, \"#d8576b\"], [0.6666666666666666, \"#ed7953\"], [0.7777777777777778, \"#fb9f3a\"], [0.8888888888888888, \"#fdca26\"], [1.0, \"#f0f921\"]], \"type\": \"histogram2d\"}], \"histogram2dcontour\": [{\"colorbar\": {\"outlinewidth\": 0, \"ticks\": \"\"}, \"colorscale\": [[0.0, \"#0d0887\"], [0.1111111111111111, \"#46039f\"], [0.2222222222222222, \"#7201a8\"], [0.3333333333333333, \"#9c179e\"], [0.4444444444444444, \"#bd3786\"], [0.5555555555555556, \"#d8576b\"], [0.6666666666666666, \"#ed7953\"], [0.7777777777777778, \"#fb9f3a\"], [0.8888888888888888, \"#fdca26\"], [1.0, \"#f0f921\"]], \"type\": \"histogram2dcontour\"}], \"mesh3d\": [{\"colorbar\": {\"outlinewidth\": 0, \"ticks\": \"\"}, \"type\": \"mesh3d\"}], \"parcoords\": [{\"line\": {\"colorbar\": {\"outlinewidth\": 0, \"ticks\": \"\"}}, \"type\": \"parcoords\"}], \"pie\": [{\"automargin\": true, \"type\": \"pie\"}], \"scatter\": [{\"marker\": {\"colorbar\": {\"outlinewidth\": 0, \"ticks\": \"\"}}, \"type\": \"scatter\"}], \"scatter3d\": [{\"line\": {\"colorbar\": {\"outlinewidth\": 0, \"ticks\": \"\"}}, \"marker\": {\"colorbar\": {\"outlinewidth\": 0, \"ticks\": \"\"}}, \"type\": \"scatter3d\"}], \"scattercarpet\": [{\"marker\": {\"colorbar\": {\"outlinewidth\": 0, \"ticks\": \"\"}}, \"type\": \"scattercarpet\"}], \"scattergeo\": [{\"marker\": {\"colorbar\": {\"outlinewidth\": 0, \"ticks\": \"\"}}, \"type\": \"scattergeo\"}], \"scattergl\": [{\"marker\": {\"colorbar\": {\"outlinewidth\": 0, \"ticks\": \"\"}}, \"type\": \"scattergl\"}], \"scattermapbox\": [{\"marker\": {\"colorbar\": {\"outlinewidth\": 0, \"ticks\": \"\"}}, \"type\": \"scattermapbox\"}], \"scatterpolar\": [{\"marker\": {\"colorbar\": {\"outlinewidth\": 0, \"ticks\": \"\"}}, \"type\": \"scatterpolar\"}], \"scatterpolargl\": [{\"marker\": {\"colorbar\": {\"outlinewidth\": 0, \"ticks\": \"\"}}, \"type\": \"scatterpolargl\"}], \"scatterternary\": [{\"marker\": {\"colorbar\": {\"outlinewidth\": 0, \"ticks\": \"\"}}, \"type\": \"scatterternary\"}], \"surface\": [{\"colorbar\": {\"outlinewidth\": 0, \"ticks\": \"\"}, \"colorscale\": [[0.0, \"#0d0887\"], [0.1111111111111111, \"#46039f\"], [0.2222222222222222, \"#7201a8\"], [0.3333333333333333, \"#9c179e\"], [0.4444444444444444, \"#bd3786\"], [0.5555555555555556, \"#d8576b\"], [0.6666666666666666, \"#ed7953\"], [0.7777777777777778, \"#fb9f3a\"], [0.8888888888888888, \"#fdca26\"], [1.0, \"#f0f921\"]], \"type\": \"surface\"}], \"table\": [{\"cells\": {\"fill\": {\"color\": \"#EBF0F8\"}, \"line\": {\"color\": \"white\"}}, \"header\": {\"fill\": {\"color\": \"#C8D4E3\"}, \"line\": {\"color\": \"white\"}}, \"type\": \"table\"}]}, \"layout\": {\"annotationdefaults\": {\"arrowcolor\": \"#2a3f5f\", \"arrowhead\": 0, \"arrowwidth\": 1}, \"coloraxis\": {\"colorbar\": {\"outlinewidth\": 0, \"ticks\": \"\"}}, \"colorscale\": {\"diverging\": [[0, \"#8e0152\"], [0.1, \"#c51b7d\"], [0.2, \"#de77ae\"], [0.3, \"#f1b6da\"], [0.4, \"#fde0ef\"], [0.5, \"#f7f7f7\"], [0.6, \"#e6f5d0\"], [0.7, \"#b8e186\"], [0.8, \"#7fbc41\"], [0.9, \"#4d9221\"], [1, \"#276419\"]], \"sequential\": [[0.0, \"#0d0887\"], [0.1111111111111111, \"#46039f\"], [0.2222222222222222, \"#7201a8\"], [0.3333333333333333, \"#9c179e\"], [0.4444444444444444, \"#bd3786\"], [0.5555555555555556, \"#d8576b\"], [0.6666666666666666, \"#ed7953\"], [0.7777777777777778, \"#fb9f3a\"], [0.8888888888888888, \"#fdca26\"], [1.0, \"#f0f921\"]], \"sequentialminus\": [[0.0, \"#0d0887\"], [0.1111111111111111, \"#46039f\"], [0.2222222222222222, \"#7201a8\"], [0.3333333333333333, \"#9c179e\"], [0.4444444444444444, \"#bd3786\"], [0.5555555555555556, \"#d8576b\"], [0.6666666666666666, \"#ed7953\"], [0.7777777777777778, \"#fb9f3a\"], [0.8888888888888888, \"#fdca26\"], [1.0, \"#f0f921\"]]}, \"colorway\": [\"#636efa\", \"#EF553B\", \"#00cc96\", \"#ab63fa\", \"#FFA15A\", \"#19d3f3\", \"#FF6692\", \"#B6E880\", \"#FF97FF\", \"#FECB52\"], \"font\": {\"color\": \"#2a3f5f\"}, \"geo\": {\"bgcolor\": \"white\", \"lakecolor\": \"white\", \"landcolor\": \"#E5ECF6\", \"showlakes\": true, \"showland\": true, \"subunitcolor\": \"white\"}, \"hoverlabel\": {\"align\": \"left\"}, \"hovermode\": \"closest\", \"mapbox\": {\"style\": \"light\"}, \"paper_bgcolor\": \"white\", \"plot_bgcolor\": \"#E5ECF6\", \"polar\": {\"angularaxis\": {\"gridcolor\": \"white\", \"linecolor\": \"white\", \"ticks\": \"\"}, \"bgcolor\": \"#E5ECF6\", \"radialaxis\": {\"gridcolor\": \"white\", \"linecolor\": \"white\", \"ticks\": \"\"}}, \"scene\": {\"xaxis\": {\"backgroundcolor\": \"#E5ECF6\", \"gridcolor\": \"white\", \"gridwidth\": 2, \"linecolor\": \"white\", \"showbackground\": true, \"ticks\": \"\", \"zerolinecolor\": \"white\"}, \"yaxis\": {\"backgroundcolor\": \"#E5ECF6\", \"gridcolor\": \"white\", \"gridwidth\": 2, \"linecolor\": \"white\", \"showbackground\": true, \"ticks\": \"\", \"zerolinecolor\": \"white\"}, \"zaxis\": {\"backgroundcolor\": \"#E5ECF6\", \"gridcolor\": \"white\", \"gridwidth\": 2, \"linecolor\": \"white\", \"showbackground\": true, \"ticks\": \"\", \"zerolinecolor\": \"white\"}}, \"shapedefaults\": {\"line\": {\"color\": \"#2a3f5f\"}}, \"ternary\": {\"aaxis\": {\"gridcolor\": \"white\", \"linecolor\": \"white\", \"ticks\": \"\"}, \"baxis\": {\"gridcolor\": \"white\", \"linecolor\": \"white\", \"ticks\": \"\"}, \"bgcolor\": \"#E5ECF6\", \"caxis\": {\"gridcolor\": \"white\", \"linecolor\": \"white\", \"ticks\": \"\"}}, \"title\": {\"x\": 0.05}, \"xaxis\": {\"automargin\": true, \"gridcolor\": \"white\", \"linecolor\": \"white\", \"ticks\": \"\", \"title\": {\"standoff\": 15}, \"zerolinecolor\": \"white\", \"zerolinewidth\": 2}, \"yaxis\": {\"automargin\": true, \"gridcolor\": \"white\", \"linecolor\": \"white\", \"ticks\": \"\", \"title\": {\"standoff\": 15}, \"zerolinecolor\": \"white\", \"zerolinewidth\": 2}}}, \"width\": 700, \"xaxis\": {\"linecolor\": \"black\", \"linewidth\": 1.5, \"mirror\": true, \"showgrid\": true, \"showline\": true, \"title\": {\"text\": \"Day of Year\"}}, \"yaxis\": {\"linecolor\": \"black\", \"linewidth\": 1.5, \"mirror\": true, \"showgrid\": false, \"showline\": true, \"title\": {\"text\": \"Cumulative Case Count in MA\"}}},\n",
       "                        {\"responsive\": true}\n",
       "                    ).then(function(){\n",
       "                            \n",
       "var gd = document.getElementById('5167c06e-c602-4a29-9b1b-b42aaf7841f4');\n",
       "var x = new MutationObserver(function (mutations, observer) {{\n",
       "        var display = window.getComputedStyle(gd).display;\n",
       "        if (!display || display === 'none') {{\n",
       "            console.log([gd, 'removed!']);\n",
       "            Plotly.purge(gd);\n",
       "            observer.disconnect();\n",
       "        }}\n",
       "}});\n",
       "\n",
       "// Listen for the removal of the full notebook cells\n",
       "var notebookContainer = gd.closest('#notebook-container');\n",
       "if (notebookContainer) {{\n",
       "    x.observe(notebookContainer, {childList: true});\n",
       "}}\n",
       "\n",
       "// Listen for the clearing of the current output cell\n",
       "var outputEl = gd.closest('.output');\n",
       "if (outputEl) {{\n",
       "    x.observe(outputEl, {childList: true});\n",
       "}}\n",
       "\n",
       "                        })\n",
       "                };\n",
       "                });\n",
       "            </script>\n",
       "        </div>"
      ]
     },
     "metadata": {},
     "output_type": "display_data"
    }
   ],
   "source": [
    "show_region('state','richards','MA',7)"
   ]
  },
  {
   "cell_type": "code",
   "execution_count": 28,
   "metadata": {},
   "outputs": [
    {
     "data": {
      "application/vnd.plotly.v1+json": {
       "config": {
        "plotlyServerURL": "https://plot.ly"
       },
       "data": [
        {
         "line": {
          "dash": "dash"
         },
         "mode": "lines",
         "name": "loglogistic fit",
         "type": "scatter",
         "x": [
          "2020-01-22T00:00:00",
          "2020-01-23T00:00:00",
          "2020-01-24T00:00:00",
          "2020-01-25T00:00:00",
          "2020-01-26T00:00:00",
          "2020-01-27T00:00:00",
          "2020-01-28T00:00:00",
          "2020-01-29T00:00:00",
          "2020-01-30T00:00:00",
          "2020-01-31T00:00:00",
          "2020-02-01T00:00:00",
          "2020-02-02T00:00:00",
          "2020-02-03T00:00:00",
          "2020-02-04T00:00:00",
          "2020-02-05T00:00:00",
          "2020-02-06T00:00:00",
          "2020-02-07T00:00:00",
          "2020-02-08T00:00:00",
          "2020-02-09T00:00:00",
          "2020-02-10T00:00:00",
          "2020-02-11T00:00:00",
          "2020-02-12T00:00:00",
          "2020-02-13T00:00:00",
          "2020-02-14T00:00:00",
          "2020-02-15T00:00:00",
          "2020-02-16T00:00:00",
          "2020-02-17T00:00:00",
          "2020-02-18T00:00:00",
          "2020-02-19T00:00:00",
          "2020-02-20T00:00:00",
          "2020-02-21T00:00:00",
          "2020-02-22T00:00:00",
          "2020-02-23T00:00:00",
          "2020-02-24T00:00:00",
          "2020-02-25T00:00:00",
          "2020-02-26T00:00:00",
          "2020-02-27T00:00:00",
          "2020-02-28T00:00:00",
          "2020-02-29T00:00:00",
          "2020-03-01T00:00:00",
          "2020-03-02T00:00:00",
          "2020-03-03T00:00:00",
          "2020-03-04T00:00:00",
          "2020-03-05T00:00:00",
          "2020-03-06T00:00:00",
          "2020-03-07T00:00:00",
          "2020-03-08T00:00:00",
          "2020-03-09T00:00:00",
          "2020-03-10T00:00:00",
          "2020-03-11T00:00:00",
          "2020-03-12T00:00:00",
          "2020-03-13T00:00:00",
          "2020-03-14T00:00:00",
          "2020-03-15T00:00:00",
          "2020-03-16T00:00:00",
          "2020-03-17T00:00:00",
          "2020-03-18T00:00:00",
          "2020-03-19T00:00:00",
          "2020-03-20T00:00:00",
          "2020-03-21T00:00:00",
          "2020-03-22T00:00:00",
          "2020-03-23T00:00:00",
          "2020-03-24T00:00:00",
          "2020-03-25T00:00:00",
          "2020-03-26T00:00:00",
          "2020-03-27T00:00:00",
          "2020-03-28T00:00:00",
          "2020-03-29T00:00:00",
          "2020-03-30T00:00:00",
          "2020-03-31T00:00:00",
          "2020-04-01T00:00:00",
          "2020-04-02T00:00:00",
          "2020-04-03T00:00:00",
          "2020-04-04T00:00:00",
          "2020-04-05T00:00:00",
          "2020-04-06T00:00:00",
          "2020-04-07T00:00:00",
          "2020-04-08T00:00:00",
          "2020-04-09T00:00:00",
          "2020-04-10T00:00:00",
          "2020-04-11T00:00:00",
          "2020-04-12T00:00:00",
          "2020-04-13T00:00:00",
          "2020-04-14T00:00:00",
          "2020-04-15T00:00:00",
          "2020-04-16T00:00:00",
          "2020-04-17T00:00:00",
          "2020-04-18T00:00:00",
          "2020-04-19T00:00:00",
          "2020-04-20T00:00:00",
          "2020-04-21T00:00:00",
          "2020-04-22T00:00:00",
          "2020-04-23T00:00:00",
          "2020-04-24T00:00:00",
          "2020-04-25T00:00:00",
          "2020-04-26T00:00:00",
          "2020-04-27T00:00:00",
          "2020-04-28T00:00:00",
          "2020-04-29T00:00:00",
          "2020-04-30T00:00:00",
          "2020-05-01T00:00:00",
          "2020-05-02T00:00:00",
          "2020-05-03T00:00:00",
          "2020-05-04T00:00:00",
          "2020-05-05T00:00:00",
          "2020-05-06T00:00:00",
          "2020-05-07T00:00:00",
          "2020-05-08T00:00:00",
          "2020-05-09T00:00:00",
          "2020-05-10T00:00:00",
          "2020-05-11T00:00:00",
          "2020-05-12T00:00:00",
          "2020-05-13T00:00:00",
          "2020-05-14T00:00:00",
          "2020-05-15T00:00:00",
          "2020-05-16T00:00:00",
          "2020-05-17T00:00:00",
          "2020-05-18T00:00:00",
          "2020-05-19T00:00:00",
          "2020-05-20T00:00:00",
          "2020-05-21T00:00:00",
          "2020-05-22T00:00:00",
          "2020-05-23T00:00:00",
          "2020-05-24T00:00:00",
          "2020-05-25T00:00:00",
          "2020-05-26T00:00:00",
          "2020-05-27T00:00:00"
         ],
         "y": [
          0.37987761015417637,
          0.5448704375275805,
          0.771025462695302,
          1.0774438893369502,
          1.4881652111415256,
          2.0331984971450296,
          2.749721436853019,
          3.6834671547290663,
          4.890320331000045,
          6.438145721642691,
          8.408873740057407,
          10.900869326597377,
          14.031611863909433,
          17.940715362293968,
          22.793319496657745,
          28.783883269817153,
          36.140414035946364,
          45.12916525506717,
          56.059836555373764,
          69.29130931992283,
          85.23794992243556,
          104.37651071271671,
          127.25365565329719,
          154.49413284605978,
          186.80960971854682,
          225.00817796359743,
          270.0045239791118,
          322.83074600742526,
          384.6477808304741,
          456.7573800803822,
          540.614548266801,
          637.8403207608446,
          750.234719466662,
          879.7896760527129,
          1028.7016568071158,
          1199.3836590155638,
          1394.476176127676,
          1616.8566482120261,
          1869.646826250941,
          2156.2173854649814,
          2480.189026909232,
          2845.4292121804883,
          3256.043588901628,
          3716.361092167444,
          4230.911658728628,
          4804.395477686295,
          5441.642736967869,
          6147.56292327609,
          6927.082909479057,
          7785.0733317420945,
          8726.263130849933,
          9755.14261525331,
          10875.855997332914,
          12092.085049210898,
          13406.92629766879,
          14822.764992417739,
          16341.149886002442,
          17962.67359076953,
          19686.8638516504,
          21512.09141137128,
          23435.500169396197,
          25452.96498414511,
          27559.08170217946,
          29747.192816379065,
          32009.450598996988,
          34336.91771155836,
          36719.70328974357,
          39147.13049588805,
          41607.9296963424,
          44090.44992065505,
          46582.88023156453,
          49073.4721706304,
          51550.75457802186,
          54003.73278953446,
          56422.065406473484,
          58796.21338861636,
          61117.557985663974,
          63378.485841251655,
          65572.44133102485,
          67693.94771454687,
          69738.59990746144,
          71703.0325713974,
          73584.86776676546,
          75382.64664012745,
          77095.74956727219,
          78724.30890248004,
          80269.11805538199,
          81731.5400890513,
          83113.41845953425,
          84416.99194145082,
          85644.81523949254,
          86799.68629412528,
          87884.58086480419,
          88902.59462107914,
          89856.8926907775,
          90750.66640050263,
          91587.09678986577,
          92369.32437868492,
          93100.4246069404,
          93783.38834195041,
          94421.10684810998,
          95016.36063468277,
          95571.81163066592,
          96089.99817785193,
          96573.33238007147,
          97024.09939528673,
          97444.45830555179,
          97836.44424633242,
          98201.97152026414,
          98542.8374605057,
          98860.72684510892,
          99157.2166961872,
          99433.7813262064,
          99691.79751862686,
          99932.5497516527,
          100157.2353922876,
          100366.96980356416,
          100562.79132101728,
          100745.6660655096,
          100916.49256866664,
          101076.10619470046,
          101225.28334852547,
          101364.74546500671,
          101495.16277811318,
          101617.15787183832,
          101731.30901713538,
          101838.15330091817
         ]
        },
        {
         "mode": "lines",
         "name": "actual cases in Iran",
         "type": "scatter",
         "x": [
          "2020-05-02T00:00:00",
          "2020-05-01T00:00:00",
          "2020-04-30T00:00:00",
          "2020-04-29T00:00:00",
          "2020-04-28T00:00:00",
          "2020-04-27T00:00:00",
          "2020-04-26T00:00:00",
          "2020-04-25T00:00:00",
          "2020-04-24T00:00:00",
          "2020-04-23T00:00:00",
          "2020-04-22T00:00:00",
          "2020-04-21T00:00:00",
          "2020-04-20T00:00:00",
          "2020-04-19T00:00:00",
          "2020-04-18T00:00:00",
          "2020-04-17T00:00:00",
          "2020-04-16T00:00:00",
          "2020-04-15T00:00:00",
          "2020-04-14T00:00:00",
          "2020-04-13T00:00:00",
          "2020-04-12T00:00:00",
          "2020-04-11T00:00:00",
          "2020-04-10T00:00:00",
          "2020-04-09T00:00:00",
          "2020-04-08T00:00:00",
          "2020-04-07T00:00:00",
          "2020-04-06T00:00:00",
          "2020-04-05T00:00:00",
          "2020-04-04T00:00:00",
          "2020-04-03T00:00:00",
          "2020-04-02T00:00:00",
          "2020-04-01T00:00:00",
          "2020-03-31T00:00:00",
          "2020-03-30T00:00:00",
          "2020-03-29T00:00:00",
          "2020-03-28T00:00:00",
          "2020-03-27T00:00:00",
          "2020-03-26T00:00:00",
          "2020-03-25T00:00:00",
          "2020-03-24T00:00:00",
          "2020-03-23T00:00:00",
          "2020-03-22T00:00:00",
          "2020-03-21T00:00:00",
          "2020-03-20T00:00:00",
          "2020-03-19T00:00:00",
          "2020-03-18T00:00:00",
          "2020-03-17T00:00:00",
          "2020-03-16T00:00:00",
          "2020-03-15T00:00:00",
          "2020-03-14T00:00:00",
          "2020-03-13T00:00:00",
          "2020-03-12T00:00:00",
          "2020-03-11T00:00:00",
          "2020-03-10T00:00:00",
          "2020-03-09T00:00:00",
          "2020-03-08T00:00:00",
          "2020-03-07T00:00:00",
          "2020-03-06T00:00:00",
          "2020-03-05T00:00:00",
          "2020-03-04T00:00:00",
          "2020-03-03T00:00:00",
          "2020-03-02T00:00:00",
          "2020-03-01T00:00:00",
          "2020-02-29T00:00:00",
          "2020-02-28T00:00:00",
          "2020-02-27T00:00:00",
          "2020-02-26T00:00:00",
          "2020-02-25T00:00:00",
          "2020-02-24T00:00:00",
          "2020-02-23T00:00:00",
          "2020-02-22T00:00:00",
          "2020-02-21T00:00:00",
          "2020-02-20T00:00:00",
          "2020-02-19T00:00:00",
          "2020-02-18T00:00:00",
          "2020-02-17T00:00:00",
          "2020-02-16T00:00:00",
          "2020-02-15T00:00:00",
          "2020-02-14T00:00:00",
          "2020-02-13T00:00:00",
          "2020-02-12T00:00:00",
          "2020-02-11T00:00:00",
          "2020-02-10T00:00:00",
          "2020-02-09T00:00:00",
          "2020-02-08T00:00:00",
          "2020-02-07T00:00:00",
          "2020-02-06T00:00:00",
          "2020-02-05T00:00:00",
          "2020-02-04T00:00:00",
          "2020-02-03T00:00:00",
          "2020-02-02T00:00:00",
          "2020-02-01T00:00:00",
          "2020-01-31T00:00:00",
          "2020-01-30T00:00:00",
          "2020-01-29T00:00:00",
          "2020-01-28T00:00:00",
          "2020-01-27T00:00:00",
          "2020-01-26T00:00:00",
          "2020-01-25T00:00:00",
          "2020-01-24T00:00:00",
          "2020-01-23T00:00:00",
          "2020-01-22T00:00:00"
         ],
         "y": [
          96448,
          95646,
          94640,
          93657,
          92584,
          91472,
          90481,
          89328,
          88194,
          87026,
          85996,
          84802,
          83505,
          82211,
          80868,
          79494,
          77995,
          76389,
          74877,
          73303,
          71686,
          70029,
          68192,
          66220,
          64586,
          62589,
          60500,
          58226,
          55743,
          53183,
          50468,
          47593,
          44605,
          41495,
          38309,
          35408,
          32332,
          29406,
          27017,
          24811,
          23049,
          21638,
          20610,
          19644,
          18407,
          17361,
          16169,
          14991,
          13938,
          12729,
          11364,
          10075,
          9000,
          8042,
          7161,
          6566,
          5823,
          4747,
          3513,
          2922,
          2336,
          1501,
          978,
          593,
          388,
          245,
          139,
          95,
          61,
          43,
          28,
          18,
          5,
          2,
          0,
          0,
          0,
          0,
          0,
          0,
          0,
          0,
          0,
          0,
          0,
          0,
          0,
          0,
          0,
          0,
          0,
          0,
          0,
          0,
          0,
          0,
          0,
          0,
          0,
          0,
          0,
          0
         ]
        }
       ],
       "layout": {
        "height": 400,
        "margin": {
         "t": 30
        },
        "shapes": [
         {
          "line": {
           "dash": "dot",
           "width": 1
          },
          "name": "current",
          "type": "line",
          "x0": "2020-05-02T00:00:00",
          "x1": "2020-05-02T00:00:00",
          "y0": 0,
          "y1": 103554.00083702296
         }
        ],
        "template": {
         "data": {
          "bar": [
           {
            "error_x": {
             "color": "#2a3f5f"
            },
            "error_y": {
             "color": "#2a3f5f"
            },
            "marker": {
             "line": {
              "color": "#E5ECF6",
              "width": 0.5
             }
            },
            "type": "bar"
           }
          ],
          "barpolar": [
           {
            "marker": {
             "line": {
              "color": "#E5ECF6",
              "width": 0.5
             }
            },
            "type": "barpolar"
           }
          ],
          "carpet": [
           {
            "aaxis": {
             "endlinecolor": "#2a3f5f",
             "gridcolor": "white",
             "linecolor": "white",
             "minorgridcolor": "white",
             "startlinecolor": "#2a3f5f"
            },
            "baxis": {
             "endlinecolor": "#2a3f5f",
             "gridcolor": "white",
             "linecolor": "white",
             "minorgridcolor": "white",
             "startlinecolor": "#2a3f5f"
            },
            "type": "carpet"
           }
          ],
          "choropleth": [
           {
            "colorbar": {
             "outlinewidth": 0,
             "ticks": ""
            },
            "type": "choropleth"
           }
          ],
          "contour": [
           {
            "colorbar": {
             "outlinewidth": 0,
             "ticks": ""
            },
            "colorscale": [
             [
              0,
              "#0d0887"
             ],
             [
              0.1111111111111111,
              "#46039f"
             ],
             [
              0.2222222222222222,
              "#7201a8"
             ],
             [
              0.3333333333333333,
              "#9c179e"
             ],
             [
              0.4444444444444444,
              "#bd3786"
             ],
             [
              0.5555555555555556,
              "#d8576b"
             ],
             [
              0.6666666666666666,
              "#ed7953"
             ],
             [
              0.7777777777777778,
              "#fb9f3a"
             ],
             [
              0.8888888888888888,
              "#fdca26"
             ],
             [
              1,
              "#f0f921"
             ]
            ],
            "type": "contour"
           }
          ],
          "contourcarpet": [
           {
            "colorbar": {
             "outlinewidth": 0,
             "ticks": ""
            },
            "type": "contourcarpet"
           }
          ],
          "heatmap": [
           {
            "colorbar": {
             "outlinewidth": 0,
             "ticks": ""
            },
            "colorscale": [
             [
              0,
              "#0d0887"
             ],
             [
              0.1111111111111111,
              "#46039f"
             ],
             [
              0.2222222222222222,
              "#7201a8"
             ],
             [
              0.3333333333333333,
              "#9c179e"
             ],
             [
              0.4444444444444444,
              "#bd3786"
             ],
             [
              0.5555555555555556,
              "#d8576b"
             ],
             [
              0.6666666666666666,
              "#ed7953"
             ],
             [
              0.7777777777777778,
              "#fb9f3a"
             ],
             [
              0.8888888888888888,
              "#fdca26"
             ],
             [
              1,
              "#f0f921"
             ]
            ],
            "type": "heatmap"
           }
          ],
          "heatmapgl": [
           {
            "colorbar": {
             "outlinewidth": 0,
             "ticks": ""
            },
            "colorscale": [
             [
              0,
              "#0d0887"
             ],
             [
              0.1111111111111111,
              "#46039f"
             ],
             [
              0.2222222222222222,
              "#7201a8"
             ],
             [
              0.3333333333333333,
              "#9c179e"
             ],
             [
              0.4444444444444444,
              "#bd3786"
             ],
             [
              0.5555555555555556,
              "#d8576b"
             ],
             [
              0.6666666666666666,
              "#ed7953"
             ],
             [
              0.7777777777777778,
              "#fb9f3a"
             ],
             [
              0.8888888888888888,
              "#fdca26"
             ],
             [
              1,
              "#f0f921"
             ]
            ],
            "type": "heatmapgl"
           }
          ],
          "histogram": [
           {
            "marker": {
             "colorbar": {
              "outlinewidth": 0,
              "ticks": ""
             }
            },
            "type": "histogram"
           }
          ],
          "histogram2d": [
           {
            "colorbar": {
             "outlinewidth": 0,
             "ticks": ""
            },
            "colorscale": [
             [
              0,
              "#0d0887"
             ],
             [
              0.1111111111111111,
              "#46039f"
             ],
             [
              0.2222222222222222,
              "#7201a8"
             ],
             [
              0.3333333333333333,
              "#9c179e"
             ],
             [
              0.4444444444444444,
              "#bd3786"
             ],
             [
              0.5555555555555556,
              "#d8576b"
             ],
             [
              0.6666666666666666,
              "#ed7953"
             ],
             [
              0.7777777777777778,
              "#fb9f3a"
             ],
             [
              0.8888888888888888,
              "#fdca26"
             ],
             [
              1,
              "#f0f921"
             ]
            ],
            "type": "histogram2d"
           }
          ],
          "histogram2dcontour": [
           {
            "colorbar": {
             "outlinewidth": 0,
             "ticks": ""
            },
            "colorscale": [
             [
              0,
              "#0d0887"
             ],
             [
              0.1111111111111111,
              "#46039f"
             ],
             [
              0.2222222222222222,
              "#7201a8"
             ],
             [
              0.3333333333333333,
              "#9c179e"
             ],
             [
              0.4444444444444444,
              "#bd3786"
             ],
             [
              0.5555555555555556,
              "#d8576b"
             ],
             [
              0.6666666666666666,
              "#ed7953"
             ],
             [
              0.7777777777777778,
              "#fb9f3a"
             ],
             [
              0.8888888888888888,
              "#fdca26"
             ],
             [
              1,
              "#f0f921"
             ]
            ],
            "type": "histogram2dcontour"
           }
          ],
          "mesh3d": [
           {
            "colorbar": {
             "outlinewidth": 0,
             "ticks": ""
            },
            "type": "mesh3d"
           }
          ],
          "parcoords": [
           {
            "line": {
             "colorbar": {
              "outlinewidth": 0,
              "ticks": ""
             }
            },
            "type": "parcoords"
           }
          ],
          "pie": [
           {
            "automargin": true,
            "type": "pie"
           }
          ],
          "scatter": [
           {
            "marker": {
             "colorbar": {
              "outlinewidth": 0,
              "ticks": ""
             }
            },
            "type": "scatter"
           }
          ],
          "scatter3d": [
           {
            "line": {
             "colorbar": {
              "outlinewidth": 0,
              "ticks": ""
             }
            },
            "marker": {
             "colorbar": {
              "outlinewidth": 0,
              "ticks": ""
             }
            },
            "type": "scatter3d"
           }
          ],
          "scattercarpet": [
           {
            "marker": {
             "colorbar": {
              "outlinewidth": 0,
              "ticks": ""
             }
            },
            "type": "scattercarpet"
           }
          ],
          "scattergeo": [
           {
            "marker": {
             "colorbar": {
              "outlinewidth": 0,
              "ticks": ""
             }
            },
            "type": "scattergeo"
           }
          ],
          "scattergl": [
           {
            "marker": {
             "colorbar": {
              "outlinewidth": 0,
              "ticks": ""
             }
            },
            "type": "scattergl"
           }
          ],
          "scattermapbox": [
           {
            "marker": {
             "colorbar": {
              "outlinewidth": 0,
              "ticks": ""
             }
            },
            "type": "scattermapbox"
           }
          ],
          "scatterpolar": [
           {
            "marker": {
             "colorbar": {
              "outlinewidth": 0,
              "ticks": ""
             }
            },
            "type": "scatterpolar"
           }
          ],
          "scatterpolargl": [
           {
            "marker": {
             "colorbar": {
              "outlinewidth": 0,
              "ticks": ""
             }
            },
            "type": "scatterpolargl"
           }
          ],
          "scatterternary": [
           {
            "marker": {
             "colorbar": {
              "outlinewidth": 0,
              "ticks": ""
             }
            },
            "type": "scatterternary"
           }
          ],
          "surface": [
           {
            "colorbar": {
             "outlinewidth": 0,
             "ticks": ""
            },
            "colorscale": [
             [
              0,
              "#0d0887"
             ],
             [
              0.1111111111111111,
              "#46039f"
             ],
             [
              0.2222222222222222,
              "#7201a8"
             ],
             [
              0.3333333333333333,
              "#9c179e"
             ],
             [
              0.4444444444444444,
              "#bd3786"
             ],
             [
              0.5555555555555556,
              "#d8576b"
             ],
             [
              0.6666666666666666,
              "#ed7953"
             ],
             [
              0.7777777777777778,
              "#fb9f3a"
             ],
             [
              0.8888888888888888,
              "#fdca26"
             ],
             [
              1,
              "#f0f921"
             ]
            ],
            "type": "surface"
           }
          ],
          "table": [
           {
            "cells": {
             "fill": {
              "color": "#EBF0F8"
             },
             "line": {
              "color": "white"
             }
            },
            "header": {
             "fill": {
              "color": "#C8D4E3"
             },
             "line": {
              "color": "white"
             }
            },
            "type": "table"
           }
          ]
         },
         "layout": {
          "annotationdefaults": {
           "arrowcolor": "#2a3f5f",
           "arrowhead": 0,
           "arrowwidth": 1
          },
          "coloraxis": {
           "colorbar": {
            "outlinewidth": 0,
            "ticks": ""
           }
          },
          "colorscale": {
           "diverging": [
            [
             0,
             "#8e0152"
            ],
            [
             0.1,
             "#c51b7d"
            ],
            [
             0.2,
             "#de77ae"
            ],
            [
             0.3,
             "#f1b6da"
            ],
            [
             0.4,
             "#fde0ef"
            ],
            [
             0.5,
             "#f7f7f7"
            ],
            [
             0.6,
             "#e6f5d0"
            ],
            [
             0.7,
             "#b8e186"
            ],
            [
             0.8,
             "#7fbc41"
            ],
            [
             0.9,
             "#4d9221"
            ],
            [
             1,
             "#276419"
            ]
           ],
           "sequential": [
            [
             0,
             "#0d0887"
            ],
            [
             0.1111111111111111,
             "#46039f"
            ],
            [
             0.2222222222222222,
             "#7201a8"
            ],
            [
             0.3333333333333333,
             "#9c179e"
            ],
            [
             0.4444444444444444,
             "#bd3786"
            ],
            [
             0.5555555555555556,
             "#d8576b"
            ],
            [
             0.6666666666666666,
             "#ed7953"
            ],
            [
             0.7777777777777778,
             "#fb9f3a"
            ],
            [
             0.8888888888888888,
             "#fdca26"
            ],
            [
             1,
             "#f0f921"
            ]
           ],
           "sequentialminus": [
            [
             0,
             "#0d0887"
            ],
            [
             0.1111111111111111,
             "#46039f"
            ],
            [
             0.2222222222222222,
             "#7201a8"
            ],
            [
             0.3333333333333333,
             "#9c179e"
            ],
            [
             0.4444444444444444,
             "#bd3786"
            ],
            [
             0.5555555555555556,
             "#d8576b"
            ],
            [
             0.6666666666666666,
             "#ed7953"
            ],
            [
             0.7777777777777778,
             "#fb9f3a"
            ],
            [
             0.8888888888888888,
             "#fdca26"
            ],
            [
             1,
             "#f0f921"
            ]
           ]
          },
          "colorway": [
           "#636efa",
           "#EF553B",
           "#00cc96",
           "#ab63fa",
           "#FFA15A",
           "#19d3f3",
           "#FF6692",
           "#B6E880",
           "#FF97FF",
           "#FECB52"
          ],
          "font": {
           "color": "#2a3f5f"
          },
          "geo": {
           "bgcolor": "white",
           "lakecolor": "white",
           "landcolor": "#E5ECF6",
           "showlakes": true,
           "showland": true,
           "subunitcolor": "white"
          },
          "hoverlabel": {
           "align": "left"
          },
          "hovermode": "closest",
          "mapbox": {
           "style": "light"
          },
          "paper_bgcolor": "white",
          "plot_bgcolor": "#E5ECF6",
          "polar": {
           "angularaxis": {
            "gridcolor": "white",
            "linecolor": "white",
            "ticks": ""
           },
           "bgcolor": "#E5ECF6",
           "radialaxis": {
            "gridcolor": "white",
            "linecolor": "white",
            "ticks": ""
           }
          },
          "scene": {
           "xaxis": {
            "backgroundcolor": "#E5ECF6",
            "gridcolor": "white",
            "gridwidth": 2,
            "linecolor": "white",
            "showbackground": true,
            "ticks": "",
            "zerolinecolor": "white"
           },
           "yaxis": {
            "backgroundcolor": "#E5ECF6",
            "gridcolor": "white",
            "gridwidth": 2,
            "linecolor": "white",
            "showbackground": true,
            "ticks": "",
            "zerolinecolor": "white"
           },
           "zaxis": {
            "backgroundcolor": "#E5ECF6",
            "gridcolor": "white",
            "gridwidth": 2,
            "linecolor": "white",
            "showbackground": true,
            "ticks": "",
            "zerolinecolor": "white"
           }
          },
          "shapedefaults": {
           "line": {
            "color": "#2a3f5f"
           }
          },
          "ternary": {
           "aaxis": {
            "gridcolor": "white",
            "linecolor": "white",
            "ticks": ""
           },
           "baxis": {
            "gridcolor": "white",
            "linecolor": "white",
            "ticks": ""
           },
           "bgcolor": "#E5ECF6",
           "caxis": {
            "gridcolor": "white",
            "linecolor": "white",
            "ticks": ""
           }
          },
          "title": {
           "x": 0.05
          },
          "xaxis": {
           "automargin": true,
           "gridcolor": "white",
           "linecolor": "white",
           "ticks": "",
           "title": {
            "standoff": 15
           },
           "zerolinecolor": "white",
           "zerolinewidth": 2
          },
          "yaxis": {
           "automargin": true,
           "gridcolor": "white",
           "linecolor": "white",
           "ticks": "",
           "title": {
            "standoff": 15
           },
           "zerolinecolor": "white",
           "zerolinewidth": 2
          }
         }
        },
        "width": 700,
        "xaxis": {
         "linecolor": "black",
         "linewidth": 1.5,
         "mirror": true,
         "showgrid": true,
         "showline": true,
         "title": {
          "text": "Day of Year"
         }
        },
        "yaxis": {
         "linecolor": "black",
         "linewidth": 1.5,
         "mirror": true,
         "showgrid": false,
         "showline": true,
         "title": {
          "text": "Cumulative Case Count in Iran"
         }
        }
       }
      },
      "text/html": [
       "<div>\n",
       "        \n",
       "        \n",
       "            <div id=\"d2ffc7cf-64c6-40e4-b3a5-91ca3b2eff0b\" class=\"plotly-graph-div\" style=\"height:400px; width:700px;\"></div>\n",
       "            <script type=\"text/javascript\">\n",
       "                require([\"plotly\"], function(Plotly) {\n",
       "                    window.PLOTLYENV=window.PLOTLYENV || {};\n",
       "                    \n",
       "                if (document.getElementById(\"d2ffc7cf-64c6-40e4-b3a5-91ca3b2eff0b\")) {\n",
       "                    Plotly.newPlot(\n",
       "                        'd2ffc7cf-64c6-40e4-b3a5-91ca3b2eff0b',\n",
       "                        [{\"line\": {\"dash\": \"dash\"}, \"mode\": \"lines\", \"name\": \"loglogistic fit\", \"type\": \"scatter\", \"x\": [\"2020-01-22T00:00:00\", \"2020-01-23T00:00:00\", \"2020-01-24T00:00:00\", \"2020-01-25T00:00:00\", \"2020-01-26T00:00:00\", \"2020-01-27T00:00:00\", \"2020-01-28T00:00:00\", \"2020-01-29T00:00:00\", \"2020-01-30T00:00:00\", \"2020-01-31T00:00:00\", \"2020-02-01T00:00:00\", \"2020-02-02T00:00:00\", \"2020-02-03T00:00:00\", \"2020-02-04T00:00:00\", \"2020-02-05T00:00:00\", \"2020-02-06T00:00:00\", \"2020-02-07T00:00:00\", \"2020-02-08T00:00:00\", \"2020-02-09T00:00:00\", \"2020-02-10T00:00:00\", \"2020-02-11T00:00:00\", \"2020-02-12T00:00:00\", \"2020-02-13T00:00:00\", \"2020-02-14T00:00:00\", \"2020-02-15T00:00:00\", \"2020-02-16T00:00:00\", \"2020-02-17T00:00:00\", \"2020-02-18T00:00:00\", \"2020-02-19T00:00:00\", \"2020-02-20T00:00:00\", \"2020-02-21T00:00:00\", \"2020-02-22T00:00:00\", \"2020-02-23T00:00:00\", \"2020-02-24T00:00:00\", \"2020-02-25T00:00:00\", \"2020-02-26T00:00:00\", \"2020-02-27T00:00:00\", \"2020-02-28T00:00:00\", \"2020-02-29T00:00:00\", \"2020-03-01T00:00:00\", \"2020-03-02T00:00:00\", \"2020-03-03T00:00:00\", \"2020-03-04T00:00:00\", \"2020-03-05T00:00:00\", \"2020-03-06T00:00:00\", \"2020-03-07T00:00:00\", \"2020-03-08T00:00:00\", \"2020-03-09T00:00:00\", \"2020-03-10T00:00:00\", \"2020-03-11T00:00:00\", \"2020-03-12T00:00:00\", \"2020-03-13T00:00:00\", \"2020-03-14T00:00:00\", \"2020-03-15T00:00:00\", \"2020-03-16T00:00:00\", \"2020-03-17T00:00:00\", \"2020-03-18T00:00:00\", \"2020-03-19T00:00:00\", \"2020-03-20T00:00:00\", \"2020-03-21T00:00:00\", \"2020-03-22T00:00:00\", \"2020-03-23T00:00:00\", \"2020-03-24T00:00:00\", \"2020-03-25T00:00:00\", \"2020-03-26T00:00:00\", \"2020-03-27T00:00:00\", \"2020-03-28T00:00:00\", \"2020-03-29T00:00:00\", \"2020-03-30T00:00:00\", \"2020-03-31T00:00:00\", \"2020-04-01T00:00:00\", \"2020-04-02T00:00:00\", \"2020-04-03T00:00:00\", \"2020-04-04T00:00:00\", \"2020-04-05T00:00:00\", \"2020-04-06T00:00:00\", \"2020-04-07T00:00:00\", \"2020-04-08T00:00:00\", \"2020-04-09T00:00:00\", \"2020-04-10T00:00:00\", \"2020-04-11T00:00:00\", \"2020-04-12T00:00:00\", \"2020-04-13T00:00:00\", \"2020-04-14T00:00:00\", \"2020-04-15T00:00:00\", \"2020-04-16T00:00:00\", \"2020-04-17T00:00:00\", \"2020-04-18T00:00:00\", \"2020-04-19T00:00:00\", \"2020-04-20T00:00:00\", \"2020-04-21T00:00:00\", \"2020-04-22T00:00:00\", \"2020-04-23T00:00:00\", \"2020-04-24T00:00:00\", \"2020-04-25T00:00:00\", \"2020-04-26T00:00:00\", \"2020-04-27T00:00:00\", \"2020-04-28T00:00:00\", \"2020-04-29T00:00:00\", \"2020-04-30T00:00:00\", \"2020-05-01T00:00:00\", \"2020-05-02T00:00:00\", \"2020-05-03T00:00:00\", \"2020-05-04T00:00:00\", \"2020-05-05T00:00:00\", \"2020-05-06T00:00:00\", \"2020-05-07T00:00:00\", \"2020-05-08T00:00:00\", \"2020-05-09T00:00:00\", \"2020-05-10T00:00:00\", \"2020-05-11T00:00:00\", \"2020-05-12T00:00:00\", \"2020-05-13T00:00:00\", \"2020-05-14T00:00:00\", \"2020-05-15T00:00:00\", \"2020-05-16T00:00:00\", \"2020-05-17T00:00:00\", \"2020-05-18T00:00:00\", \"2020-05-19T00:00:00\", \"2020-05-20T00:00:00\", \"2020-05-21T00:00:00\", \"2020-05-22T00:00:00\", \"2020-05-23T00:00:00\", \"2020-05-24T00:00:00\", \"2020-05-25T00:00:00\", \"2020-05-26T00:00:00\", \"2020-05-27T00:00:00\"], \"y\": [0.37987761015417637, 0.5448704375275805, 0.771025462695302, 1.0774438893369502, 1.4881652111415256, 2.0331984971450296, 2.749721436853019, 3.6834671547290663, 4.890320331000045, 6.438145721642691, 8.408873740057407, 10.900869326597377, 14.031611863909433, 17.940715362293968, 22.793319496657745, 28.783883269817153, 36.140414035946364, 45.12916525506717, 56.059836555373764, 69.29130931992283, 85.23794992243556, 104.37651071271671, 127.25365565329719, 154.49413284605978, 186.80960971854682, 225.00817796359743, 270.0045239791118, 322.83074600742526, 384.6477808304741, 456.7573800803822, 540.614548266801, 637.8403207608446, 750.234719466662, 879.7896760527129, 1028.7016568071158, 1199.3836590155638, 1394.476176127676, 1616.8566482120261, 1869.646826250941, 2156.2173854649814, 2480.189026909232, 2845.4292121804883, 3256.043588901628, 3716.361092167444, 4230.911658728628, 4804.395477686295, 5441.642736967869, 6147.56292327609, 6927.082909479057, 7785.0733317420945, 8726.263130849933, 9755.14261525331, 10875.855997332914, 12092.085049210898, 13406.92629766879, 14822.764992417739, 16341.149886002442, 17962.67359076953, 19686.8638516504, 21512.09141137128, 23435.500169396197, 25452.96498414511, 27559.08170217946, 29747.192816379065, 32009.450598996988, 34336.91771155836, 36719.70328974357, 39147.13049588805, 41607.9296963424, 44090.44992065505, 46582.88023156453, 49073.4721706304, 51550.75457802186, 54003.73278953446, 56422.065406473484, 58796.21338861636, 61117.557985663974, 63378.485841251655, 65572.44133102485, 67693.94771454687, 69738.59990746144, 71703.0325713974, 73584.86776676546, 75382.64664012745, 77095.74956727219, 78724.30890248004, 80269.11805538199, 81731.5400890513, 83113.41845953425, 84416.99194145082, 85644.81523949254, 86799.68629412528, 87884.58086480419, 88902.59462107914, 89856.8926907775, 90750.66640050263, 91587.09678986577, 92369.32437868492, 93100.4246069404, 93783.38834195041, 94421.10684810998, 95016.36063468277, 95571.81163066592, 96089.99817785193, 96573.33238007147, 97024.09939528673, 97444.45830555179, 97836.44424633242, 98201.97152026414, 98542.8374605057, 98860.72684510892, 99157.2166961872, 99433.7813262064, 99691.79751862686, 99932.5497516527, 100157.2353922876, 100366.96980356416, 100562.79132101728, 100745.6660655096, 100916.49256866664, 101076.10619470046, 101225.28334852547, 101364.74546500671, 101495.16277811318, 101617.15787183832, 101731.30901713538, 101838.15330091817]}, {\"mode\": \"lines\", \"name\": \"actual cases in Iran\", \"type\": \"scatter\", \"x\": [\"2020-05-02T00:00:00\", \"2020-05-01T00:00:00\", \"2020-04-30T00:00:00\", \"2020-04-29T00:00:00\", \"2020-04-28T00:00:00\", \"2020-04-27T00:00:00\", \"2020-04-26T00:00:00\", \"2020-04-25T00:00:00\", \"2020-04-24T00:00:00\", \"2020-04-23T00:00:00\", \"2020-04-22T00:00:00\", \"2020-04-21T00:00:00\", \"2020-04-20T00:00:00\", \"2020-04-19T00:00:00\", \"2020-04-18T00:00:00\", \"2020-04-17T00:00:00\", \"2020-04-16T00:00:00\", \"2020-04-15T00:00:00\", \"2020-04-14T00:00:00\", \"2020-04-13T00:00:00\", \"2020-04-12T00:00:00\", \"2020-04-11T00:00:00\", \"2020-04-10T00:00:00\", \"2020-04-09T00:00:00\", \"2020-04-08T00:00:00\", \"2020-04-07T00:00:00\", \"2020-04-06T00:00:00\", \"2020-04-05T00:00:00\", \"2020-04-04T00:00:00\", \"2020-04-03T00:00:00\", \"2020-04-02T00:00:00\", \"2020-04-01T00:00:00\", \"2020-03-31T00:00:00\", \"2020-03-30T00:00:00\", \"2020-03-29T00:00:00\", \"2020-03-28T00:00:00\", \"2020-03-27T00:00:00\", \"2020-03-26T00:00:00\", \"2020-03-25T00:00:00\", \"2020-03-24T00:00:00\", \"2020-03-23T00:00:00\", \"2020-03-22T00:00:00\", \"2020-03-21T00:00:00\", \"2020-03-20T00:00:00\", \"2020-03-19T00:00:00\", \"2020-03-18T00:00:00\", \"2020-03-17T00:00:00\", \"2020-03-16T00:00:00\", \"2020-03-15T00:00:00\", \"2020-03-14T00:00:00\", \"2020-03-13T00:00:00\", \"2020-03-12T00:00:00\", \"2020-03-11T00:00:00\", \"2020-03-10T00:00:00\", \"2020-03-09T00:00:00\", \"2020-03-08T00:00:00\", \"2020-03-07T00:00:00\", \"2020-03-06T00:00:00\", \"2020-03-05T00:00:00\", \"2020-03-04T00:00:00\", \"2020-03-03T00:00:00\", \"2020-03-02T00:00:00\", \"2020-03-01T00:00:00\", \"2020-02-29T00:00:00\", \"2020-02-28T00:00:00\", \"2020-02-27T00:00:00\", \"2020-02-26T00:00:00\", \"2020-02-25T00:00:00\", \"2020-02-24T00:00:00\", \"2020-02-23T00:00:00\", \"2020-02-22T00:00:00\", \"2020-02-21T00:00:00\", \"2020-02-20T00:00:00\", \"2020-02-19T00:00:00\", \"2020-02-18T00:00:00\", \"2020-02-17T00:00:00\", \"2020-02-16T00:00:00\", \"2020-02-15T00:00:00\", \"2020-02-14T00:00:00\", \"2020-02-13T00:00:00\", \"2020-02-12T00:00:00\", \"2020-02-11T00:00:00\", \"2020-02-10T00:00:00\", \"2020-02-09T00:00:00\", \"2020-02-08T00:00:00\", \"2020-02-07T00:00:00\", \"2020-02-06T00:00:00\", \"2020-02-05T00:00:00\", \"2020-02-04T00:00:00\", \"2020-02-03T00:00:00\", \"2020-02-02T00:00:00\", \"2020-02-01T00:00:00\", \"2020-01-31T00:00:00\", \"2020-01-30T00:00:00\", \"2020-01-29T00:00:00\", \"2020-01-28T00:00:00\", \"2020-01-27T00:00:00\", \"2020-01-26T00:00:00\", \"2020-01-25T00:00:00\", \"2020-01-24T00:00:00\", \"2020-01-23T00:00:00\", \"2020-01-22T00:00:00\"], \"y\": [96448, 95646, 94640, 93657, 92584, 91472, 90481, 89328, 88194, 87026, 85996, 84802, 83505, 82211, 80868, 79494, 77995, 76389, 74877, 73303, 71686, 70029, 68192, 66220, 64586, 62589, 60500, 58226, 55743, 53183, 50468, 47593, 44605, 41495, 38309, 35408, 32332, 29406, 27017, 24811, 23049, 21638, 20610, 19644, 18407, 17361, 16169, 14991, 13938, 12729, 11364, 10075, 9000, 8042, 7161, 6566, 5823, 4747, 3513, 2922, 2336, 1501, 978, 593, 388, 245, 139, 95, 61, 43, 28, 18, 5, 2, 0, 0, 0, 0, 0, 0, 0, 0, 0, 0, 0, 0, 0, 0, 0, 0, 0, 0, 0, 0, 0, 0, 0, 0, 0, 0, 0, 0]}],\n",
       "                        {\"height\": 400, \"margin\": {\"t\": 30}, \"shapes\": [{\"line\": {\"dash\": \"dot\", \"width\": 1}, \"name\": \"current\", \"type\": \"line\", \"x0\": \"2020-05-02T00:00:00\", \"x1\": \"2020-05-02T00:00:00\", \"y0\": 0, \"y1\": 103554.00083702296}], \"template\": {\"data\": {\"bar\": [{\"error_x\": {\"color\": \"#2a3f5f\"}, \"error_y\": {\"color\": \"#2a3f5f\"}, \"marker\": {\"line\": {\"color\": \"#E5ECF6\", \"width\": 0.5}}, \"type\": \"bar\"}], \"barpolar\": [{\"marker\": {\"line\": {\"color\": \"#E5ECF6\", \"width\": 0.5}}, \"type\": \"barpolar\"}], \"carpet\": [{\"aaxis\": {\"endlinecolor\": \"#2a3f5f\", \"gridcolor\": \"white\", \"linecolor\": \"white\", \"minorgridcolor\": \"white\", \"startlinecolor\": \"#2a3f5f\"}, \"baxis\": {\"endlinecolor\": \"#2a3f5f\", \"gridcolor\": \"white\", \"linecolor\": \"white\", \"minorgridcolor\": \"white\", \"startlinecolor\": \"#2a3f5f\"}, \"type\": \"carpet\"}], \"choropleth\": [{\"colorbar\": {\"outlinewidth\": 0, \"ticks\": \"\"}, \"type\": \"choropleth\"}], \"contour\": [{\"colorbar\": {\"outlinewidth\": 0, \"ticks\": \"\"}, \"colorscale\": [[0.0, \"#0d0887\"], [0.1111111111111111, \"#46039f\"], [0.2222222222222222, \"#7201a8\"], [0.3333333333333333, \"#9c179e\"], [0.4444444444444444, \"#bd3786\"], [0.5555555555555556, \"#d8576b\"], [0.6666666666666666, \"#ed7953\"], [0.7777777777777778, \"#fb9f3a\"], [0.8888888888888888, \"#fdca26\"], [1.0, \"#f0f921\"]], \"type\": \"contour\"}], \"contourcarpet\": [{\"colorbar\": {\"outlinewidth\": 0, \"ticks\": \"\"}, \"type\": \"contourcarpet\"}], \"heatmap\": [{\"colorbar\": {\"outlinewidth\": 0, \"ticks\": \"\"}, \"colorscale\": [[0.0, \"#0d0887\"], [0.1111111111111111, \"#46039f\"], [0.2222222222222222, \"#7201a8\"], [0.3333333333333333, \"#9c179e\"], [0.4444444444444444, \"#bd3786\"], [0.5555555555555556, \"#d8576b\"], [0.6666666666666666, \"#ed7953\"], [0.7777777777777778, \"#fb9f3a\"], [0.8888888888888888, \"#fdca26\"], [1.0, \"#f0f921\"]], \"type\": \"heatmap\"}], \"heatmapgl\": [{\"colorbar\": {\"outlinewidth\": 0, \"ticks\": \"\"}, \"colorscale\": [[0.0, \"#0d0887\"], [0.1111111111111111, \"#46039f\"], [0.2222222222222222, \"#7201a8\"], [0.3333333333333333, \"#9c179e\"], [0.4444444444444444, \"#bd3786\"], [0.5555555555555556, \"#d8576b\"], [0.6666666666666666, \"#ed7953\"], [0.7777777777777778, \"#fb9f3a\"], [0.8888888888888888, \"#fdca26\"], [1.0, \"#f0f921\"]], \"type\": \"heatmapgl\"}], \"histogram\": [{\"marker\": {\"colorbar\": {\"outlinewidth\": 0, \"ticks\": \"\"}}, \"type\": \"histogram\"}], \"histogram2d\": [{\"colorbar\": {\"outlinewidth\": 0, \"ticks\": \"\"}, \"colorscale\": [[0.0, \"#0d0887\"], [0.1111111111111111, \"#46039f\"], [0.2222222222222222, \"#7201a8\"], [0.3333333333333333, \"#9c179e\"], [0.4444444444444444, \"#bd3786\"], [0.5555555555555556, \"#d8576b\"], [0.6666666666666666, \"#ed7953\"], [0.7777777777777778, \"#fb9f3a\"], [0.8888888888888888, \"#fdca26\"], [1.0, \"#f0f921\"]], \"type\": \"histogram2d\"}], \"histogram2dcontour\": [{\"colorbar\": {\"outlinewidth\": 0, \"ticks\": \"\"}, \"colorscale\": [[0.0, \"#0d0887\"], [0.1111111111111111, \"#46039f\"], [0.2222222222222222, \"#7201a8\"], [0.3333333333333333, \"#9c179e\"], [0.4444444444444444, \"#bd3786\"], [0.5555555555555556, \"#d8576b\"], [0.6666666666666666, \"#ed7953\"], [0.7777777777777778, \"#fb9f3a\"], [0.8888888888888888, \"#fdca26\"], [1.0, \"#f0f921\"]], \"type\": \"histogram2dcontour\"}], \"mesh3d\": [{\"colorbar\": {\"outlinewidth\": 0, \"ticks\": \"\"}, \"type\": \"mesh3d\"}], \"parcoords\": [{\"line\": {\"colorbar\": {\"outlinewidth\": 0, \"ticks\": \"\"}}, \"type\": \"parcoords\"}], \"pie\": [{\"automargin\": true, \"type\": \"pie\"}], \"scatter\": [{\"marker\": {\"colorbar\": {\"outlinewidth\": 0, \"ticks\": \"\"}}, \"type\": \"scatter\"}], \"scatter3d\": [{\"line\": {\"colorbar\": {\"outlinewidth\": 0, \"ticks\": \"\"}}, \"marker\": {\"colorbar\": {\"outlinewidth\": 0, \"ticks\": \"\"}}, \"type\": \"scatter3d\"}], \"scattercarpet\": [{\"marker\": {\"colorbar\": {\"outlinewidth\": 0, \"ticks\": \"\"}}, \"type\": \"scattercarpet\"}], \"scattergeo\": [{\"marker\": {\"colorbar\": {\"outlinewidth\": 0, \"ticks\": \"\"}}, \"type\": \"scattergeo\"}], \"scattergl\": [{\"marker\": {\"colorbar\": {\"outlinewidth\": 0, \"ticks\": \"\"}}, \"type\": \"scattergl\"}], \"scattermapbox\": [{\"marker\": {\"colorbar\": {\"outlinewidth\": 0, \"ticks\": \"\"}}, \"type\": \"scattermapbox\"}], \"scatterpolar\": [{\"marker\": {\"colorbar\": {\"outlinewidth\": 0, \"ticks\": \"\"}}, \"type\": \"scatterpolar\"}], \"scatterpolargl\": [{\"marker\": {\"colorbar\": {\"outlinewidth\": 0, \"ticks\": \"\"}}, \"type\": \"scatterpolargl\"}], \"scatterternary\": [{\"marker\": {\"colorbar\": {\"outlinewidth\": 0, \"ticks\": \"\"}}, \"type\": \"scatterternary\"}], \"surface\": [{\"colorbar\": {\"outlinewidth\": 0, \"ticks\": \"\"}, \"colorscale\": [[0.0, \"#0d0887\"], [0.1111111111111111, \"#46039f\"], [0.2222222222222222, \"#7201a8\"], [0.3333333333333333, \"#9c179e\"], [0.4444444444444444, \"#bd3786\"], [0.5555555555555556, \"#d8576b\"], [0.6666666666666666, \"#ed7953\"], [0.7777777777777778, \"#fb9f3a\"], [0.8888888888888888, \"#fdca26\"], [1.0, \"#f0f921\"]], \"type\": \"surface\"}], \"table\": [{\"cells\": {\"fill\": {\"color\": \"#EBF0F8\"}, \"line\": {\"color\": \"white\"}}, \"header\": {\"fill\": {\"color\": \"#C8D4E3\"}, \"line\": {\"color\": \"white\"}}, \"type\": \"table\"}]}, \"layout\": {\"annotationdefaults\": {\"arrowcolor\": \"#2a3f5f\", \"arrowhead\": 0, \"arrowwidth\": 1}, \"coloraxis\": {\"colorbar\": {\"outlinewidth\": 0, \"ticks\": \"\"}}, \"colorscale\": {\"diverging\": [[0, \"#8e0152\"], [0.1, \"#c51b7d\"], [0.2, \"#de77ae\"], [0.3, \"#f1b6da\"], [0.4, \"#fde0ef\"], [0.5, \"#f7f7f7\"], [0.6, \"#e6f5d0\"], [0.7, \"#b8e186\"], [0.8, \"#7fbc41\"], [0.9, \"#4d9221\"], [1, \"#276419\"]], \"sequential\": [[0.0, \"#0d0887\"], [0.1111111111111111, \"#46039f\"], [0.2222222222222222, \"#7201a8\"], [0.3333333333333333, \"#9c179e\"], [0.4444444444444444, \"#bd3786\"], [0.5555555555555556, \"#d8576b\"], [0.6666666666666666, \"#ed7953\"], [0.7777777777777778, \"#fb9f3a\"], [0.8888888888888888, \"#fdca26\"], [1.0, \"#f0f921\"]], \"sequentialminus\": [[0.0, \"#0d0887\"], [0.1111111111111111, \"#46039f\"], [0.2222222222222222, \"#7201a8\"], [0.3333333333333333, \"#9c179e\"], [0.4444444444444444, \"#bd3786\"], [0.5555555555555556, \"#d8576b\"], [0.6666666666666666, \"#ed7953\"], [0.7777777777777778, \"#fb9f3a\"], [0.8888888888888888, \"#fdca26\"], [1.0, \"#f0f921\"]]}, \"colorway\": [\"#636efa\", \"#EF553B\", \"#00cc96\", \"#ab63fa\", \"#FFA15A\", \"#19d3f3\", \"#FF6692\", \"#B6E880\", \"#FF97FF\", \"#FECB52\"], \"font\": {\"color\": \"#2a3f5f\"}, \"geo\": {\"bgcolor\": \"white\", \"lakecolor\": \"white\", \"landcolor\": \"#E5ECF6\", \"showlakes\": true, \"showland\": true, \"subunitcolor\": \"white\"}, \"hoverlabel\": {\"align\": \"left\"}, \"hovermode\": \"closest\", \"mapbox\": {\"style\": \"light\"}, \"paper_bgcolor\": \"white\", \"plot_bgcolor\": \"#E5ECF6\", \"polar\": {\"angularaxis\": {\"gridcolor\": \"white\", \"linecolor\": \"white\", \"ticks\": \"\"}, \"bgcolor\": \"#E5ECF6\", \"radialaxis\": {\"gridcolor\": \"white\", \"linecolor\": \"white\", \"ticks\": \"\"}}, \"scene\": {\"xaxis\": {\"backgroundcolor\": \"#E5ECF6\", \"gridcolor\": \"white\", \"gridwidth\": 2, \"linecolor\": \"white\", \"showbackground\": true, \"ticks\": \"\", \"zerolinecolor\": \"white\"}, \"yaxis\": {\"backgroundcolor\": \"#E5ECF6\", \"gridcolor\": \"white\", \"gridwidth\": 2, \"linecolor\": \"white\", \"showbackground\": true, \"ticks\": \"\", \"zerolinecolor\": \"white\"}, \"zaxis\": {\"backgroundcolor\": \"#E5ECF6\", \"gridcolor\": \"white\", \"gridwidth\": 2, \"linecolor\": \"white\", \"showbackground\": true, \"ticks\": \"\", \"zerolinecolor\": \"white\"}}, \"shapedefaults\": {\"line\": {\"color\": \"#2a3f5f\"}}, \"ternary\": {\"aaxis\": {\"gridcolor\": \"white\", \"linecolor\": \"white\", \"ticks\": \"\"}, \"baxis\": {\"gridcolor\": \"white\", \"linecolor\": \"white\", \"ticks\": \"\"}, \"bgcolor\": \"#E5ECF6\", \"caxis\": {\"gridcolor\": \"white\", \"linecolor\": \"white\", \"ticks\": \"\"}}, \"title\": {\"x\": 0.05}, \"xaxis\": {\"automargin\": true, \"gridcolor\": \"white\", \"linecolor\": \"white\", \"ticks\": \"\", \"title\": {\"standoff\": 15}, \"zerolinecolor\": \"white\", \"zerolinewidth\": 2}, \"yaxis\": {\"automargin\": true, \"gridcolor\": \"white\", \"linecolor\": \"white\", \"ticks\": \"\", \"title\": {\"standoff\": 15}, \"zerolinecolor\": \"white\", \"zerolinewidth\": 2}}}, \"width\": 700, \"xaxis\": {\"linecolor\": \"black\", \"linewidth\": 1.5, \"mirror\": true, \"showgrid\": true, \"showline\": true, \"title\": {\"text\": \"Day of Year\"}}, \"yaxis\": {\"linecolor\": \"black\", \"linewidth\": 1.5, \"mirror\": true, \"showgrid\": false, \"showline\": true, \"title\": {\"text\": \"Cumulative Case Count in Iran\"}}},\n",
       "                        {\"responsive\": true}\n",
       "                    ).then(function(){\n",
       "                            \n",
       "var gd = document.getElementById('d2ffc7cf-64c6-40e4-b3a5-91ca3b2eff0b');\n",
       "var x = new MutationObserver(function (mutations, observer) {{\n",
       "        var display = window.getComputedStyle(gd).display;\n",
       "        if (!display || display === 'none') {{\n",
       "            console.log([gd, 'removed!']);\n",
       "            Plotly.purge(gd);\n",
       "            observer.disconnect();\n",
       "        }}\n",
       "}});\n",
       "\n",
       "// Listen for the removal of the full notebook cells\n",
       "var notebookContainer = gd.closest('#notebook-container');\n",
       "if (notebookContainer) {{\n",
       "    x.observe(notebookContainer, {childList: true});\n",
       "}}\n",
       "\n",
       "// Listen for the clearing of the current output cell\n",
       "var outputEl = gd.closest('.output');\n",
       "if (outputEl) {{\n",
       "    x.observe(outputEl, {childList: true});\n",
       "}}\n",
       "\n",
       "                        })\n",
       "                };\n",
       "                });\n",
       "            </script>\n",
       "        </div>"
      ]
     },
     "metadata": {},
     "output_type": "display_data"
    }
   ],
   "source": [
    "show_region('country','loglogistic','Iran',5)"
   ]
  },
  {
   "cell_type": "markdown",
   "metadata": {},
   "source": [
    "If you run this notebook locally, you'll also be able to see an interactive widget below. This will let you visualize the data and the model fits, allowing you to change the state/country, the model type, and the end date."
   ]
  },
  {
   "cell_type": "code",
   "execution_count": 29,
   "metadata": {},
   "outputs": [
    {
     "data": {
      "application/vnd.jupyter.widget-view+json": {
       "model_id": "9c3497fe92654cfa9ee9db76ec50f892",
       "version_major": 2,
       "version_minor": 0
      },
      "text/plain": [
       "interactive(children=(Text(value='state', description='dataset'), Dropdown(description='model', options=('norm…"
      ]
     },
     "metadata": {},
     "output_type": "display_data"
    }
   ],
   "source": [
    "interact(show_region,dataset='state',model=list(state_info.keys()), \n",
    "                region=list(state_info.values())[0].index.sort_values().to_list(),\n",
    "                month=widgets.IntSlider(value=5,min=4,max=9,step=1,description='thru month',continuous_update=False));"
   ]
  },
  {
   "cell_type": "code",
   "execution_count": 30,
   "metadata": {},
   "outputs": [
    {
     "data": {
      "application/vnd.jupyter.widget-view+json": {
       "model_id": "448b764b1a1748639ec5b69c456b0457",
       "version_major": 2,
       "version_minor": 0
      },
      "text/plain": [
       "interactive(children=(Text(value='country', description='dataset'), Dropdown(description='model', options=('no…"
      ]
     },
     "metadata": {},
     "output_type": "display_data"
    }
   ],
   "source": [
    "interact(show_region,dataset='country',model=list(global_info.keys()), \n",
    "                region=list(global_info.values())[0].index.sort_values().to_list(),\n",
    "                month=widgets.IntSlider(value=5,min=4,max=9,step=1,description='thru month',continuous_update=False));"
   ]
  },
  {
   "cell_type": "code",
   "execution_count": 31,
   "metadata": {},
   "outputs": [
    {
     "data": {
      "text/html": [
       "<script src=\"https://cdn.rawgit.com/parente/4c3e6936d0d7a46fd071/raw/65b816fb9bdd3c28b4ddf3af602bfd6015486383/code_toggle.js\"></script>\n"
      ],
      "text/plain": [
       "<IPython.core.display.HTML object>"
      ]
     },
     "metadata": {},
     "output_type": "display_data"
    }
   ],
   "source": [
    "%%html\n",
    "<script src=\"https://cdn.rawgit.com/parente/4c3e6936d0d7a46fd071/raw/65b816fb9bdd3c28b4ddf3af602bfd6015486383/code_toggle.js\"></script>"
   ]
  },
  {
   "cell_type": "code",
   "execution_count": null,
   "metadata": {},
   "outputs": [],
   "source": []
  }
 ],
 "metadata": {
  "jupyter": {
   "source_hidden": true
  },
  "kernelspec": {
   "display_name": "Python 3",
   "language": "python",
   "name": "python3"
  },
  "language_info": {
   "codemirror_mode": {
    "name": "ipython",
    "version": 3
   },
   "file_extension": ".py",
   "mimetype": "text/x-python",
   "name": "python",
   "nbconvert_exporter": "python",
   "pygments_lexer": "ipython3",
   "version": "3.7.6"
  }
 },
 "nbformat": 4,
 "nbformat_minor": 4
}
