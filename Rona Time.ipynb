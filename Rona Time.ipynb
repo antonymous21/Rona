{
 "cells": [
  {
   "cell_type": "markdown",
   "metadata": {},
   "source": [
    "# Flattening the Curve: Nonlinear Regression of COVID-19 Data\n",
    "\n",
    "<br><br><br>\n",
    "**Anton Zverev**\n",
    "\n",
    "Last edited: 05/03/20\n",
    "\n",
    "\n",
    "---"
   ]
  },
  {
   "cell_type": "markdown",
   "metadata": {},
   "source": [
    "## How to use this notebook\n",
    "\n",
    "In this notebook I've tried to create a user-friendly introduction mathematical modeling of coronavirus data. The modeling process is broken down into several components: importing the data, seeing what the data looks like, investigating what types of models might be useful, fitting the models, comparing them, and finally visualizing the results.\n",
    "\n",
    "If you're viewing this notebook in `nbviewer`, all of the code cells are hidden by default to make reading easier. You can toggle this feature on/off by clicking the </> button in the top right of your browser.\n",
    "\n",
    "You can also download this notebook (either directly from `nbviewer` or from [github](https://github.com/antonymous21/Rona)) and run it locally, which will allow you to fit the most current data. Running the notebook yourself will also enable an interactive widget in part 7, which lets you visualize the data and the models for any country, US state, model type, and length of time.\n",
    "\n",
    "All of the graphs in this notebook are created using [plotly](https://plotly.com/python/), which means that you can zoom, pan, trace, and hover on any plot right in your web browser."
   ]
  },
  {
   "cell_type": "markdown",
   "metadata": {},
   "source": [
    "## 1. Data Importation & Cleaning"
   ]
  },
  {
   "cell_type": "code",
   "execution_count": 1,
   "metadata": {},
   "outputs": [
    {
     "data": {
      "text/html": [
       "        <script type=\"text/javascript\">\n",
       "        window.PlotlyConfig = {MathJaxConfig: 'local'};\n",
       "        if (window.MathJax) {MathJax.Hub.Config({SVG: {font: \"STIX-Web\"}});}\n",
       "        if (typeof require !== 'undefined') {\n",
       "        require.undef(\"plotly\");\n",
       "        requirejs.config({\n",
       "            paths: {\n",
       "                'plotly': ['https://cdn.plot.ly/plotly-latest.min']\n",
       "            }\n",
       "        });\n",
       "        require(['plotly'], function(Plotly) {\n",
       "            window._Plotly = Plotly;\n",
       "        });\n",
       "        }\n",
       "        </script>\n",
       "        "
      ]
     },
     "metadata": {},
     "output_type": "display_data"
    },
    {
     "data": {
      "text/html": [
       "        <script type=\"text/javascript\">\n",
       "        window.PlotlyConfig = {MathJaxConfig: 'local'};\n",
       "        if (window.MathJax) {MathJax.Hub.Config({SVG: {font: \"STIX-Web\"}});}\n",
       "        if (typeof require !== 'undefined') {\n",
       "        require.undef(\"plotly\");\n",
       "        requirejs.config({\n",
       "            paths: {\n",
       "                'plotly': ['https://cdn.plot.ly/plotly-latest.min']\n",
       "            }\n",
       "        });\n",
       "        require(['plotly'], function(Plotly) {\n",
       "            window._Plotly = Plotly;\n",
       "        });\n",
       "        }\n",
       "        </script>\n",
       "        "
      ]
     },
     "metadata": {},
     "output_type": "display_data"
    }
   ],
   "source": [
    "import pandas as pd\n",
    "import numpy as np\n",
    "import inspect\n",
    "from scipy import stats\n",
    "from scipy import special\n",
    "from math import sqrt\n",
    "import time\n",
    "import datetime\n",
    "\n",
    "import matplotlib.pyplot as plt\n",
    "from scipy.optimize import least_squares\n",
    "import seaborn as sns\n",
    "\n",
    "import ipywidgets as widgets\n",
    "from ipywidgets import interact\n",
    "import plotly.offline as py\n",
    "import plotly.express as px\n",
    "import plotly.colors as pc\n",
    "import plotly.graph_objects as go\n",
    "from plotly.subplots import make_subplots\n",
    "import cufflinks as cf\n",
    "cf.set_config_file(offline=True, sharing=False, theme='ggplot');"
   ]
  },
  {
   "cell_type": "markdown",
   "metadata": {},
   "source": [
    "First, we import raw coronavirus case data from github. Here we use two different sources, one for state-by-state data in the US, and one for country-level data for the whole world. In this analysis we will only focus on the number of confirmed cases, not the number of deaths."
   ]
  },
  {
   "cell_type": "code",
   "execution_count": 2,
   "metadata": {},
   "outputs": [],
   "source": [
    "data_url_states = 'https://raw.githubusercontent.com/COVID19Tracking/covid-tracking-data/master/data/states_daily_4pm_et.csv'\n",
    "data_url_global = 'https://raw.githubusercontent.com/CSSEGISandData/COVID-19/master/csse_covid_19_data/csse_covid_19_time_series/time_series_covid19_confirmed_global.csv'\n",
    "\n",
    "raw_df_states = pd.read_csv(data_url_states) # state-by-state data\n",
    "raw_df_global = pd.read_csv(data_url_global) # country-by-country data"
   ]
  },
  {
   "cell_type": "markdown",
   "metadata": {},
   "source": [
    "Next, we reformat the global data into a new dataframe `global_cumulative` so that it's easier to use and intepret. We'll also only focus on the top 50 most affected countries. Here's what the first few rows of the resulting dataframe look like:"
   ]
  },
  {
   "cell_type": "code",
   "execution_count": 3,
   "metadata": {},
   "outputs": [
    {
     "data": {
      "text/html": [
       "<div>\n",
       "<style scoped>\n",
       "    .dataframe tbody tr th:only-of-type {\n",
       "        vertical-align: middle;\n",
       "    }\n",
       "\n",
       "    .dataframe tbody tr th {\n",
       "        vertical-align: top;\n",
       "    }\n",
       "\n",
       "    .dataframe thead th {\n",
       "        text-align: right;\n",
       "    }\n",
       "</style>\n",
       "<table border=\"1\" class=\"dataframe\">\n",
       "  <thead>\n",
       "    <tr style=\"text-align: right;\">\n",
       "      <th></th>\n",
       "      <th>United States</th>\n",
       "      <th>Spain</th>\n",
       "      <th>Italy</th>\n",
       "      <th>United Kingdom</th>\n",
       "      <th>France</th>\n",
       "      <th>Germany</th>\n",
       "      <th>Turkey</th>\n",
       "      <th>Russia</th>\n",
       "      <th>Brazil</th>\n",
       "      <th>Iran</th>\n",
       "      <th>...</th>\n",
       "      <th>Bangladesh</th>\n",
       "      <th>Norway</th>\n",
       "      <th>Czechia</th>\n",
       "      <th>Dominican Republic</th>\n",
       "      <th>Colombia</th>\n",
       "      <th>Panama</th>\n",
       "      <th>Australia</th>\n",
       "      <th>South Africa</th>\n",
       "      <th>Egypt</th>\n",
       "      <th>Malaysia</th>\n",
       "    </tr>\n",
       "    <tr>\n",
       "      <th>date</th>\n",
       "      <th></th>\n",
       "      <th></th>\n",
       "      <th></th>\n",
       "      <th></th>\n",
       "      <th></th>\n",
       "      <th></th>\n",
       "      <th></th>\n",
       "      <th></th>\n",
       "      <th></th>\n",
       "      <th></th>\n",
       "      <th></th>\n",
       "      <th></th>\n",
       "      <th></th>\n",
       "      <th></th>\n",
       "      <th></th>\n",
       "      <th></th>\n",
       "      <th></th>\n",
       "      <th></th>\n",
       "      <th></th>\n",
       "      <th></th>\n",
       "      <th></th>\n",
       "    </tr>\n",
       "  </thead>\n",
       "  <tbody>\n",
       "    <tr>\n",
       "      <th>2020-05-02</th>\n",
       "      <td>1132539</td>\n",
       "      <td>216582</td>\n",
       "      <td>209328</td>\n",
       "      <td>183500</td>\n",
       "      <td>168518</td>\n",
       "      <td>164967</td>\n",
       "      <td>124375</td>\n",
       "      <td>124054</td>\n",
       "      <td>97100</td>\n",
       "      <td>96448</td>\n",
       "      <td>...</td>\n",
       "      <td>8790</td>\n",
       "      <td>7809</td>\n",
       "      <td>7755</td>\n",
       "      <td>7578</td>\n",
       "      <td>7285</td>\n",
       "      <td>7090</td>\n",
       "      <td>6799</td>\n",
       "      <td>6336</td>\n",
       "      <td>6193</td>\n",
       "      <td>6176</td>\n",
       "    </tr>\n",
       "    <tr>\n",
       "      <th>2020-05-01</th>\n",
       "      <td>1103461</td>\n",
       "      <td>213435</td>\n",
       "      <td>207428</td>\n",
       "      <td>178685</td>\n",
       "      <td>167305</td>\n",
       "      <td>164077</td>\n",
       "      <td>122392</td>\n",
       "      <td>114431</td>\n",
       "      <td>92202</td>\n",
       "      <td>95646</td>\n",
       "      <td>...</td>\n",
       "      <td>8238</td>\n",
       "      <td>7783</td>\n",
       "      <td>7737</td>\n",
       "      <td>7288</td>\n",
       "      <td>7006</td>\n",
       "      <td>6720</td>\n",
       "      <td>6778</td>\n",
       "      <td>5951</td>\n",
       "      <td>5895</td>\n",
       "      <td>6071</td>\n",
       "    </tr>\n",
       "    <tr>\n",
       "      <th>2020-04-30</th>\n",
       "      <td>1069424</td>\n",
       "      <td>213435</td>\n",
       "      <td>205463</td>\n",
       "      <td>172481</td>\n",
       "      <td>167299</td>\n",
       "      <td>163009</td>\n",
       "      <td>120204</td>\n",
       "      <td>106498</td>\n",
       "      <td>87187</td>\n",
       "      <td>94640</td>\n",
       "      <td>...</td>\n",
       "      <td>7667</td>\n",
       "      <td>7738</td>\n",
       "      <td>7682</td>\n",
       "      <td>6972</td>\n",
       "      <td>6507</td>\n",
       "      <td>6532</td>\n",
       "      <td>6766</td>\n",
       "      <td>5647</td>\n",
       "      <td>5537</td>\n",
       "      <td>6002</td>\n",
       "    </tr>\n",
       "  </tbody>\n",
       "</table>\n",
       "<p>3 rows × 50 columns</p>\n",
       "</div>"
      ],
      "text/plain": [
       "            United States   Spain   Italy  United Kingdom  France  Germany  \\\n",
       "date                                                                         \n",
       "2020-05-02        1132539  216582  209328          183500  168518   164967   \n",
       "2020-05-01        1103461  213435  207428          178685  167305   164077   \n",
       "2020-04-30        1069424  213435  205463          172481  167299   163009   \n",
       "\n",
       "            Turkey  Russia  Brazil   Iran  ...  Bangladesh  Norway  Czechia  \\\n",
       "date                                       ...                                \n",
       "2020-05-02  124375  124054   97100  96448  ...        8790    7809     7755   \n",
       "2020-05-01  122392  114431   92202  95646  ...        8238    7783     7737   \n",
       "2020-04-30  120204  106498   87187  94640  ...        7667    7738     7682   \n",
       "\n",
       "            Dominican Republic  Colombia  Panama  Australia  South Africa  \\\n",
       "date                                                                        \n",
       "2020-05-02                7578      7285    7090       6799          6336   \n",
       "2020-05-01                7288      7006    6720       6778          5951   \n",
       "2020-04-30                6972      6507    6532       6766          5647   \n",
       "\n",
       "            Egypt  Malaysia  \n",
       "date                         \n",
       "2020-05-02   6193      6176  \n",
       "2020-05-01   5895      6071  \n",
       "2020-04-30   5537      6002  \n",
       "\n",
       "[3 rows x 50 columns]"
      ]
     },
     "execution_count": 3,
     "metadata": {},
     "output_type": "execute_result"
    }
   ],
   "source": [
    "raw_df_global.drop(columns=['Province/State','Lat','Long'],inplace=True)\n",
    "raw_df_global.replace('US', 'United States',inplace=True)\n",
    "raw_df_global = raw_df_global.groupby(by='Country/Region',as_index=True).agg(sum)\n",
    "top_countries = raw_df_global.iloc[:,-1].sort_values(ascending=False).index[:50] # find top 50 countries\n",
    "\n",
    "global_cumulative = raw_df_global.loc[top_countries,:].T # only take top countries, and transpose\n",
    "global_cumulative.index.rename('date',inplace=True)\n",
    "global_cumulative.columns.name = None\n",
    "global_cumulative.index = pd.to_datetime(global_cumulative.index, format='%m/%d/%y') # fix timestamp\n",
    "global_cumulative.sort_values(by='date',ascending=False,inplace=True)\n",
    "\n",
    "global_cumulative.head(3)"
   ]
  },
  {
   "cell_type": "markdown",
   "metadata": {},
   "source": [
    "We likewise reformat the raw data from US states into a dataframe `states_cumulative`, with a separate column for each state. Here's what the first few rows of the resulting dataframe look like:"
   ]
  },
  {
   "cell_type": "code",
   "execution_count": 4,
   "metadata": {
    "jupyter": {
     "source_hidden": true
    }
   },
   "outputs": [
    {
     "data": {
      "text/html": [
       "<div>\n",
       "<style scoped>\n",
       "    .dataframe tbody tr th:only-of-type {\n",
       "        vertical-align: middle;\n",
       "    }\n",
       "\n",
       "    .dataframe tbody tr th {\n",
       "        vertical-align: top;\n",
       "    }\n",
       "\n",
       "    .dataframe thead th {\n",
       "        text-align: right;\n",
       "    }\n",
       "</style>\n",
       "<table border=\"1\" class=\"dataframe\">\n",
       "  <thead>\n",
       "    <tr style=\"text-align: right;\">\n",
       "      <th></th>\n",
       "      <th>AK</th>\n",
       "      <th>AL</th>\n",
       "      <th>AR</th>\n",
       "      <th>AZ</th>\n",
       "      <th>CA</th>\n",
       "      <th>CO</th>\n",
       "      <th>CT</th>\n",
       "      <th>DC</th>\n",
       "      <th>DE</th>\n",
       "      <th>FL</th>\n",
       "      <th>...</th>\n",
       "      <th>SD</th>\n",
       "      <th>TN</th>\n",
       "      <th>TX</th>\n",
       "      <th>UT</th>\n",
       "      <th>VA</th>\n",
       "      <th>VT</th>\n",
       "      <th>WA</th>\n",
       "      <th>WI</th>\n",
       "      <th>WV</th>\n",
       "      <th>WY</th>\n",
       "    </tr>\n",
       "    <tr>\n",
       "      <th>date</th>\n",
       "      <th></th>\n",
       "      <th></th>\n",
       "      <th></th>\n",
       "      <th></th>\n",
       "      <th></th>\n",
       "      <th></th>\n",
       "      <th></th>\n",
       "      <th></th>\n",
       "      <th></th>\n",
       "      <th></th>\n",
       "      <th></th>\n",
       "      <th></th>\n",
       "      <th></th>\n",
       "      <th></th>\n",
       "      <th></th>\n",
       "      <th></th>\n",
       "      <th></th>\n",
       "      <th></th>\n",
       "      <th></th>\n",
       "      <th></th>\n",
       "      <th></th>\n",
       "    </tr>\n",
       "  </thead>\n",
       "  <tbody>\n",
       "    <tr>\n",
       "      <th>2020-05-02</th>\n",
       "      <td>365.0</td>\n",
       "      <td>7434.0</td>\n",
       "      <td>3372.0</td>\n",
       "      <td>8364.0</td>\n",
       "      <td>52197.0</td>\n",
       "      <td>15768.0</td>\n",
       "      <td>28764.0</td>\n",
       "      <td>4797.0</td>\n",
       "      <td>5038.0</td>\n",
       "      <td>35463.0</td>\n",
       "      <td>...</td>\n",
       "      <td>2588.0</td>\n",
       "      <td>12661.0</td>\n",
       "      <td>30522.0</td>\n",
       "      <td>4981.0</td>\n",
       "      <td>17731.0</td>\n",
       "      <td>886.0</td>\n",
       "      <td>14637.0</td>\n",
       "      <td>7660.0</td>\n",
       "      <td>1169.0</td>\n",
       "      <td>566.0</td>\n",
       "    </tr>\n",
       "    <tr>\n",
       "      <th>2020-05-01</th>\n",
       "      <td>364.0</td>\n",
       "      <td>7158.0</td>\n",
       "      <td>3321.0</td>\n",
       "      <td>7962.0</td>\n",
       "      <td>50442.0</td>\n",
       "      <td>15284.0</td>\n",
       "      <td>28764.0</td>\n",
       "      <td>4658.0</td>\n",
       "      <td>4918.0</td>\n",
       "      <td>34728.0</td>\n",
       "      <td>...</td>\n",
       "      <td>2525.0</td>\n",
       "      <td>11891.0</td>\n",
       "      <td>29229.0</td>\n",
       "      <td>4828.0</td>\n",
       "      <td>16901.0</td>\n",
       "      <td>879.0</td>\n",
       "      <td>14327.0</td>\n",
       "      <td>7314.0</td>\n",
       "      <td>1136.0</td>\n",
       "      <td>559.0</td>\n",
       "    </tr>\n",
       "    <tr>\n",
       "      <th>2020-04-30</th>\n",
       "      <td>355.0</td>\n",
       "      <td>7019.0</td>\n",
       "      <td>3255.0</td>\n",
       "      <td>7648.0</td>\n",
       "      <td>48917.0</td>\n",
       "      <td>14758.0</td>\n",
       "      <td>27700.0</td>\n",
       "      <td>4323.0</td>\n",
       "      <td>4734.0</td>\n",
       "      <td>33690.0</td>\n",
       "      <td>...</td>\n",
       "      <td>2449.0</td>\n",
       "      <td>10366.0</td>\n",
       "      <td>28087.0</td>\n",
       "      <td>4672.0</td>\n",
       "      <td>15846.0</td>\n",
       "      <td>866.0</td>\n",
       "      <td>14070.0</td>\n",
       "      <td>6854.0</td>\n",
       "      <td>1118.0</td>\n",
       "      <td>544.0</td>\n",
       "    </tr>\n",
       "  </tbody>\n",
       "</table>\n",
       "<p>3 rows × 53 columns</p>\n",
       "</div>"
      ],
      "text/plain": [
       "               AK      AL      AR      AZ       CA       CO       CT      DC  \\\n",
       "date                                                                           \n",
       "2020-05-02  365.0  7434.0  3372.0  8364.0  52197.0  15768.0  28764.0  4797.0   \n",
       "2020-05-01  364.0  7158.0  3321.0  7962.0  50442.0  15284.0  28764.0  4658.0   \n",
       "2020-04-30  355.0  7019.0  3255.0  7648.0  48917.0  14758.0  27700.0  4323.0   \n",
       "\n",
       "                DE       FL  ...      SD       TN       TX      UT       VA  \\\n",
       "date                         ...                                              \n",
       "2020-05-02  5038.0  35463.0  ...  2588.0  12661.0  30522.0  4981.0  17731.0   \n",
       "2020-05-01  4918.0  34728.0  ...  2525.0  11891.0  29229.0  4828.0  16901.0   \n",
       "2020-04-30  4734.0  33690.0  ...  2449.0  10366.0  28087.0  4672.0  15846.0   \n",
       "\n",
       "               VT       WA      WI      WV     WY  \n",
       "date                                               \n",
       "2020-05-02  886.0  14637.0  7660.0  1169.0  566.0  \n",
       "2020-05-01  879.0  14327.0  7314.0  1136.0  559.0  \n",
       "2020-04-30  866.0  14070.0  6854.0  1118.0  544.0  \n",
       "\n",
       "[3 rows x 53 columns]"
      ]
     },
     "execution_count": 4,
     "metadata": {},
     "output_type": "execute_result"
    }
   ],
   "source": [
    "states_list = raw_df_states['state'].unique() # list of state abbreviations (50 states + 5 territories + DC)\n",
    "\n",
    "raw_df_states['date'] = pd.to_datetime(raw_df_states['date'], format='%Y%m%d') # fix timestamp\n",
    "raw_df_states = raw_df_states[['date','state','positive']] #extract the columns I care about\n",
    "\n",
    "states_cumulative = raw_df_states[raw_df_states['state']=='AK'][['date','positive']]\n",
    "states_cumulative.reset_index(drop=True,inplace=True)\n",
    "\n",
    "for s in states_list:\n",
    "    state_data = raw_df_states[raw_df_states['state']==s]['positive']\n",
    "    states_cumulative[s] = state_data.reset_index(drop=True)\n",
    "\n",
    "states_cumulative.set_index('date',inplace=True) # index by date\n",
    "states_cumulative.drop(columns='positive',inplace=True)\n",
    "states_cumulative.fillna(value=0,inplace=True) # nan values will mess up the regression later\n",
    "states_cumulative = states_cumulative.loc[:,(states_cumulative.iloc[0,:]>100).values] # remove states with <100 cases\n",
    "states_list = states_cumulative.columns\n",
    "\n",
    "states_cumulative.head(3)"
   ]
  },
  {
   "cell_type": "markdown",
   "metadata": {},
   "source": [
    "We now have two data sets, one for US states and one for countries. Conveniently, the data sources are updated daily, so re-running this notebook automatically pulls the most current data!"
   ]
  },
  {
   "cell_type": "markdown",
   "metadata": {},
   "source": [
    "## 2. Data Visualization"
   ]
  },
  {
   "cell_type": "markdown",
   "metadata": {},
   "source": [
    "Let's now see what the data looks like. Besides the number of cumulative confirmed cases, it will also be helpful to look at the case increase per day. This is defined as the difference between the cumulative case counts on consecutive days. We will store this data in `states_inc` and `global_inc`, and a smoothed (rolling 3-day average) version of the same data in `states_inc_rolling3` and `global_inc_rolling3`."
   ]
  },
  {
   "cell_type": "code",
   "execution_count": 5,
   "metadata": {},
   "outputs": [],
   "source": [
    "states_inc = states_cumulative.diff(periods=-1)\n",
    "states_inc_rolling3 = (states_inc.shift(-1)+states_inc.shift(1)+states_inc)/3\n",
    "states_inc_rolling3.dropna(inplace=True)\n",
    "\n",
    "global_inc = global_cumulative.diff(periods=-1)\n",
    "global_inc_rolling3 = (global_inc.shift(-1)+global_inc.shift(1)+global_inc)/3\n",
    "global_inc_rolling3.dropna(inplace=True)"
   ]
  },
  {
   "cell_type": "markdown",
   "metadata": {},
   "source": [
    "For regression analysis, we will need the dependent variable, time, to be numeric, so we create `x_data`, which is the number of days that have passed since the beinning of the year. `x_data_global` is the same thing for the global dataframe. Note that the two data sets have different starting dates."
   ]
  },
  {
   "cell_type": "code",
   "execution_count": 6,
   "metadata": {},
   "outputs": [],
   "source": [
    "x_data = states_cumulative.index.to_series().dt.dayofyear\n",
    "x_data_global = global_cumulative.index.to_series().dt.dayofyear"
   ]
  },
  {
   "cell_type": "markdown",
   "metadata": {},
   "source": [
    "Let's now visualize some of our data! States first:"
   ]
  },
  {
   "cell_type": "code",
   "execution_count": 7,
   "metadata": {
    "jupyter": {
     "source_hidden": true
    },
    "scrolled": true
   },
   "outputs": [
    {
     "data": {
      "application/vnd.plotly.v1+json": {
       "config": {
        "plotlyServerURL": "https://plot.ly"
       },
       "data": [
        {
         "line": {
          "color": "rgb(31, 119, 180)"
         },
         "mode": "lines",
         "name": "CA",
         "showlegend": true,
         "type": "scatter",
         "x": [
          123,
          122,
          121,
          120,
          119,
          118,
          117,
          116,
          115,
          114,
          113,
          112,
          111,
          110,
          109,
          108,
          107,
          106,
          105,
          104,
          103,
          102,
          101,
          100,
          99,
          98,
          97,
          96,
          95,
          94,
          93,
          92,
          91,
          90,
          89,
          88,
          87,
          86,
          85,
          84,
          83,
          82,
          81,
          80,
          79,
          78,
          77,
          76,
          75,
          74,
          73,
          72,
          71,
          70,
          69,
          68,
          67,
          66
         ],
         "xaxis": "x",
         "y": [
          52197,
          50442,
          48917,
          46500,
          45031,
          43464,
          42164,
          41137,
          39254,
          37369,
          35396,
          33261,
          30978,
          30333,
          28963,
          27528,
          26182,
          24424,
          23338,
          22348,
          21794,
          19472,
          19472,
          18309,
          16957,
          15865,
          14336,
          13438,
          12026,
          10701,
          9191,
          8155,
          7482,
          6447,
          5708,
          4643,
          3879,
          3006,
          2355,
          2102,
          1733,
          1536,
          1279,
          1063,
          924,
          611,
          483,
          335,
          293,
          252,
          202,
          202,
          157,
          133,
          114,
          88,
          69,
          60
         ],
         "yaxis": "y"
        },
        {
         "line": {
          "color": "rgb(31, 119, 180)"
         },
         "mode": "lines",
         "name": "CA",
         "showlegend": false,
         "type": "scatter",
         "x": [
          123,
          122,
          121,
          120,
          119,
          118,
          117,
          116,
          115,
          114,
          113,
          112,
          111,
          110,
          109,
          108,
          107,
          106,
          105,
          104,
          103,
          102,
          101,
          100,
          99,
          98,
          97,
          96,
          95,
          94,
          93,
          92,
          91,
          90,
          89,
          88,
          87,
          86,
          85,
          84,
          83,
          82,
          81,
          80,
          79,
          78,
          77,
          76,
          75,
          74,
          73,
          72,
          71,
          70,
          69,
          68,
          67,
          66
         ],
         "xaxis": "x2",
         "y": [
          1899,
          1803.6666666666667,
          1817.6666666666667,
          1445.3333333333333,
          1298,
          1403.3333333333333,
          1598.3333333333333,
          1913.6666666666667,
          1997.6666666666667,
          2130.3333333333335,
          1687.6666666666667,
          1432.6666666666667,
          1150,
          1383.6666666666667,
          1513,
          1396.6666666666667,
          1278,
          876.6666666666666,
          1288.6666666666667,
          958.6666666666666,
          1161.6666666666667,
          838.3333333333334,
          1202.3333333333333,
          1324.3333333333333,
          1173,
          1279.6666666666667,
          1211.6666666666667,
          1415.6666666666667,
          1290.3333333333333,
          1073,
          914.6666666666666,
          815.6666666666666,
          946.3333333333334,
          856,
          900.6666666666666,
          762.6666666666666,
          592.3333333333334,
          424.3333333333333,
          273,
          274.3333333333333,
          223.33333333333334,
          204,
          222.66666666666666,
          193.33333333333334,
          196.33333333333334,
          106,
          77,
          44.333333333333336,
          30.333333333333332,
          31.666666666666668,
          23,
          29.333333333333332,
          23,
          21.333333333333332,
          18
         ],
         "yaxis": "y2"
        },
        {
         "line": {
          "color": "rgb(255, 127, 14)"
         },
         "mode": "lines",
         "name": "NY",
         "showlegend": true,
         "type": "scatter",
         "x": [
          123,
          122,
          121,
          120,
          119,
          118,
          117,
          116,
          115,
          114,
          113,
          112,
          111,
          110,
          109,
          108,
          107,
          106,
          105,
          104,
          103,
          102,
          101,
          100,
          99,
          98,
          97,
          96,
          95,
          94,
          93,
          92,
          91,
          90,
          89,
          88,
          87,
          86,
          85,
          84,
          83,
          82,
          81,
          80,
          79,
          78,
          77,
          76,
          75,
          74,
          73,
          72,
          71,
          70,
          69,
          68,
          67,
          66
         ],
         "xaxis": "x",
         "y": [
          312977,
          308314,
          304372,
          299691,
          295106,
          291996,
          288045,
          282143,
          271590,
          263460,
          257216,
          251690,
          247512,
          242786,
          236732,
          229642,
          222284,
          213779,
          202208,
          195031,
          188694,
          180458,
          170512,
          159937,
          149316,
          138863,
          130689,
          122031,
          113704,
          102863,
          92381,
          83712,
          75795,
          66497,
          59513,
          52318,
          44635,
          37258,
          30811,
          25665,
          20875,
          15168,
          10356,
          7102,
          4152,
          2382,
          1700,
          950,
          729,
          524,
          421,
          216,
          216,
          173,
          142,
          105,
          76,
          33
         ],
         "yaxis": "y"
        },
        {
         "line": {
          "color": "rgb(255, 127, 14)"
         },
         "mode": "lines",
         "name": "NY",
         "showlegend": false,
         "type": "scatter",
         "x": [
          123,
          122,
          121,
          120,
          119,
          118,
          117,
          116,
          115,
          114,
          113,
          112,
          111,
          110,
          109,
          108,
          107,
          106,
          105,
          104,
          103,
          102,
          101,
          100,
          99,
          98,
          97,
          96,
          95,
          94,
          93,
          92,
          91,
          90,
          89,
          88,
          87,
          86,
          85,
          84,
          83,
          82,
          81,
          80,
          79,
          78,
          77,
          76,
          75,
          74,
          73,
          72,
          71,
          70,
          69,
          68,
          67,
          66
         ],
         "xaxis": "x2",
         "y": [
          4428.666666666667,
          4402.666666666667,
          4125.333333333333,
          3882,
          4321,
          6802,
          8195,
          8309,
          6633.333333333333,
          5316,
          4810,
          4986,
          5956.666666666667,
          6834,
          7651,
          9144.666666666666,
          9084.333333333334,
          8361.666666666666,
          7250,
          8173,
          9585.666666666666,
          10380.666666666666,
          10549.666666666666,
          9749.333333333334,
          9095,
          8386.333333333334,
          9275.333333333334,
          9883.333333333334,
          9997.333333333334,
          9022.666666666666,
          8628,
          8066.333333333333,
          7825.666666666667,
          7287.333333333333,
          7418.333333333333,
          7169,
          6323.333333333333,
          5461,
          5214.333333333333,
          5103,
          4591,
          3672,
          2658,
          1800.6666666666667,
          1067.3333333333333,
          551,
          392,
          176.33333333333334,
          171,
          102.66666666666667,
          82.66666666666667,
          24.666666666666668,
          37,
          32.333333333333336,
          36.333333333333336
         ],
         "yaxis": "y2"
        },
        {
         "line": {
          "color": "rgb(44, 160, 44)"
         },
         "mode": "lines",
         "name": "NJ",
         "showlegend": true,
         "type": "scatter",
         "x": [
          123,
          122,
          121,
          120,
          119,
          118,
          117,
          116,
          115,
          114,
          113,
          112,
          111,
          110,
          109,
          108,
          107,
          106,
          105,
          104,
          103,
          102,
          101,
          100,
          99,
          98,
          97,
          96,
          95,
          94,
          93,
          92,
          91,
          90,
          89,
          88,
          87,
          86,
          85,
          84,
          83,
          82,
          81,
          80,
          79,
          78,
          77,
          76,
          75,
          74,
          73,
          72,
          71,
          70,
          69,
          68,
          67,
          66
         ],
         "xaxis": "x",
         "y": [
          123717,
          121190,
          118652,
          116264,
          113856,
          111188,
          109038,
          105523,
          102196,
          99989,
          95865,
          92387,
          88806,
          85301,
          81420,
          78467,
          75317,
          71030,
          68824,
          64584,
          61850,
          58151,
          54588,
          51027,
          47437,
          44416,
          41090,
          37505,
          34124,
          29895,
          25590,
          22255,
          18696,
          16636,
          13386,
          11124,
          8825,
          6876,
          4402,
          3675,
          2844,
          1914,
          1327,
          890,
          742,
          427,
          267,
          178,
          98,
          50,
          50,
          30,
          24,
          15,
          11,
          6,
          4,
          1
         ],
         "yaxis": "y"
        },
        {
         "line": {
          "color": "rgb(44, 160, 44)"
         },
         "mode": "lines",
         "name": "NJ",
         "showlegend": false,
         "type": "scatter",
         "x": [
          123,
          122,
          121,
          120,
          119,
          118,
          117,
          116,
          115,
          114,
          113,
          112,
          111,
          110,
          109,
          108,
          107,
          106,
          105,
          104,
          103,
          102,
          101,
          100,
          99,
          98,
          97,
          96,
          95,
          94,
          93,
          92,
          91,
          90,
          89,
          88,
          87,
          86,
          85,
          84,
          83,
          82,
          81,
          80,
          79,
          78,
          77,
          76,
          75,
          74,
          73,
          72,
          71,
          70,
          69,
          68,
          67,
          66
         ],
         "xaxis": "x2",
         "y": [
          2484.3333333333335,
          2444.6666666666665,
          2488,
          2408.6666666666665,
          2777.6666666666665,
          2997.3333333333335,
          3016.3333333333335,
          3219.3333333333335,
          3269.6666666666665,
          3727.6666666666665,
          3521.3333333333335,
          3655.6666666666665,
          3446.3333333333335,
          3328,
          3463.3333333333335,
          3214.3333333333335,
          3577.6666666666665,
          3060,
          3557.6666666666665,
          3332,
          3607.6666666666665,
          3571.3333333333335,
          3390.6666666666665,
          3312.3333333333335,
          3310.6666666666665,
          3430.6666666666665,
          3731.6666666666665,
          3971.6666666666665,
          3956.3333333333335,
          3733,
          2984.6666666666665,
          2956.3333333333335,
          2524,
          2603.6666666666665,
          2170,
          2240.6666666666665,
          1716.6666666666667,
          1344,
          829.3333333333334,
          782.6666666666666,
          651.3333333333334,
          390.6666666666667,
          300,
          207.66666666666666,
          188,
          109.66666666666667,
          72.33333333333333,
          42.666666666666664,
          22.666666666666668,
          8.666666666666666,
          11.666666666666666,
          6.333333333333333,
          6,
          3.6666666666666665,
          3.3333333333333335
         ],
         "yaxis": "y2"
        }
       ],
       "layout": {
        "height": 500,
        "template": {
         "data": {
          "bar": [
           {
            "error_x": {
             "color": "#2a3f5f"
            },
            "error_y": {
             "color": "#2a3f5f"
            },
            "marker": {
             "line": {
              "color": "#E5ECF6",
              "width": 0.5
             }
            },
            "type": "bar"
           }
          ],
          "barpolar": [
           {
            "marker": {
             "line": {
              "color": "#E5ECF6",
              "width": 0.5
             }
            },
            "type": "barpolar"
           }
          ],
          "carpet": [
           {
            "aaxis": {
             "endlinecolor": "#2a3f5f",
             "gridcolor": "white",
             "linecolor": "white",
             "minorgridcolor": "white",
             "startlinecolor": "#2a3f5f"
            },
            "baxis": {
             "endlinecolor": "#2a3f5f",
             "gridcolor": "white",
             "linecolor": "white",
             "minorgridcolor": "white",
             "startlinecolor": "#2a3f5f"
            },
            "type": "carpet"
           }
          ],
          "choropleth": [
           {
            "colorbar": {
             "outlinewidth": 0,
             "ticks": ""
            },
            "type": "choropleth"
           }
          ],
          "contour": [
           {
            "colorbar": {
             "outlinewidth": 0,
             "ticks": ""
            },
            "colorscale": [
             [
              0,
              "#0d0887"
             ],
             [
              0.1111111111111111,
              "#46039f"
             ],
             [
              0.2222222222222222,
              "#7201a8"
             ],
             [
              0.3333333333333333,
              "#9c179e"
             ],
             [
              0.4444444444444444,
              "#bd3786"
             ],
             [
              0.5555555555555556,
              "#d8576b"
             ],
             [
              0.6666666666666666,
              "#ed7953"
             ],
             [
              0.7777777777777778,
              "#fb9f3a"
             ],
             [
              0.8888888888888888,
              "#fdca26"
             ],
             [
              1,
              "#f0f921"
             ]
            ],
            "type": "contour"
           }
          ],
          "contourcarpet": [
           {
            "colorbar": {
             "outlinewidth": 0,
             "ticks": ""
            },
            "type": "contourcarpet"
           }
          ],
          "heatmap": [
           {
            "colorbar": {
             "outlinewidth": 0,
             "ticks": ""
            },
            "colorscale": [
             [
              0,
              "#0d0887"
             ],
             [
              0.1111111111111111,
              "#46039f"
             ],
             [
              0.2222222222222222,
              "#7201a8"
             ],
             [
              0.3333333333333333,
              "#9c179e"
             ],
             [
              0.4444444444444444,
              "#bd3786"
             ],
             [
              0.5555555555555556,
              "#d8576b"
             ],
             [
              0.6666666666666666,
              "#ed7953"
             ],
             [
              0.7777777777777778,
              "#fb9f3a"
             ],
             [
              0.8888888888888888,
              "#fdca26"
             ],
             [
              1,
              "#f0f921"
             ]
            ],
            "type": "heatmap"
           }
          ],
          "heatmapgl": [
           {
            "colorbar": {
             "outlinewidth": 0,
             "ticks": ""
            },
            "colorscale": [
             [
              0,
              "#0d0887"
             ],
             [
              0.1111111111111111,
              "#46039f"
             ],
             [
              0.2222222222222222,
              "#7201a8"
             ],
             [
              0.3333333333333333,
              "#9c179e"
             ],
             [
              0.4444444444444444,
              "#bd3786"
             ],
             [
              0.5555555555555556,
              "#d8576b"
             ],
             [
              0.6666666666666666,
              "#ed7953"
             ],
             [
              0.7777777777777778,
              "#fb9f3a"
             ],
             [
              0.8888888888888888,
              "#fdca26"
             ],
             [
              1,
              "#f0f921"
             ]
            ],
            "type": "heatmapgl"
           }
          ],
          "histogram": [
           {
            "marker": {
             "colorbar": {
              "outlinewidth": 0,
              "ticks": ""
             }
            },
            "type": "histogram"
           }
          ],
          "histogram2d": [
           {
            "colorbar": {
             "outlinewidth": 0,
             "ticks": ""
            },
            "colorscale": [
             [
              0,
              "#0d0887"
             ],
             [
              0.1111111111111111,
              "#46039f"
             ],
             [
              0.2222222222222222,
              "#7201a8"
             ],
             [
              0.3333333333333333,
              "#9c179e"
             ],
             [
              0.4444444444444444,
              "#bd3786"
             ],
             [
              0.5555555555555556,
              "#d8576b"
             ],
             [
              0.6666666666666666,
              "#ed7953"
             ],
             [
              0.7777777777777778,
              "#fb9f3a"
             ],
             [
              0.8888888888888888,
              "#fdca26"
             ],
             [
              1,
              "#f0f921"
             ]
            ],
            "type": "histogram2d"
           }
          ],
          "histogram2dcontour": [
           {
            "colorbar": {
             "outlinewidth": 0,
             "ticks": ""
            },
            "colorscale": [
             [
              0,
              "#0d0887"
             ],
             [
              0.1111111111111111,
              "#46039f"
             ],
             [
              0.2222222222222222,
              "#7201a8"
             ],
             [
              0.3333333333333333,
              "#9c179e"
             ],
             [
              0.4444444444444444,
              "#bd3786"
             ],
             [
              0.5555555555555556,
              "#d8576b"
             ],
             [
              0.6666666666666666,
              "#ed7953"
             ],
             [
              0.7777777777777778,
              "#fb9f3a"
             ],
             [
              0.8888888888888888,
              "#fdca26"
             ],
             [
              1,
              "#f0f921"
             ]
            ],
            "type": "histogram2dcontour"
           }
          ],
          "mesh3d": [
           {
            "colorbar": {
             "outlinewidth": 0,
             "ticks": ""
            },
            "type": "mesh3d"
           }
          ],
          "parcoords": [
           {
            "line": {
             "colorbar": {
              "outlinewidth": 0,
              "ticks": ""
             }
            },
            "type": "parcoords"
           }
          ],
          "pie": [
           {
            "automargin": true,
            "type": "pie"
           }
          ],
          "scatter": [
           {
            "marker": {
             "colorbar": {
              "outlinewidth": 0,
              "ticks": ""
             }
            },
            "type": "scatter"
           }
          ],
          "scatter3d": [
           {
            "line": {
             "colorbar": {
              "outlinewidth": 0,
              "ticks": ""
             }
            },
            "marker": {
             "colorbar": {
              "outlinewidth": 0,
              "ticks": ""
             }
            },
            "type": "scatter3d"
           }
          ],
          "scattercarpet": [
           {
            "marker": {
             "colorbar": {
              "outlinewidth": 0,
              "ticks": ""
             }
            },
            "type": "scattercarpet"
           }
          ],
          "scattergeo": [
           {
            "marker": {
             "colorbar": {
              "outlinewidth": 0,
              "ticks": ""
             }
            },
            "type": "scattergeo"
           }
          ],
          "scattergl": [
           {
            "marker": {
             "colorbar": {
              "outlinewidth": 0,
              "ticks": ""
             }
            },
            "type": "scattergl"
           }
          ],
          "scattermapbox": [
           {
            "marker": {
             "colorbar": {
              "outlinewidth": 0,
              "ticks": ""
             }
            },
            "type": "scattermapbox"
           }
          ],
          "scatterpolar": [
           {
            "marker": {
             "colorbar": {
              "outlinewidth": 0,
              "ticks": ""
             }
            },
            "type": "scatterpolar"
           }
          ],
          "scatterpolargl": [
           {
            "marker": {
             "colorbar": {
              "outlinewidth": 0,
              "ticks": ""
             }
            },
            "type": "scatterpolargl"
           }
          ],
          "scatterternary": [
           {
            "marker": {
             "colorbar": {
              "outlinewidth": 0,
              "ticks": ""
             }
            },
            "type": "scatterternary"
           }
          ],
          "surface": [
           {
            "colorbar": {
             "outlinewidth": 0,
             "ticks": ""
            },
            "colorscale": [
             [
              0,
              "#0d0887"
             ],
             [
              0.1111111111111111,
              "#46039f"
             ],
             [
              0.2222222222222222,
              "#7201a8"
             ],
             [
              0.3333333333333333,
              "#9c179e"
             ],
             [
              0.4444444444444444,
              "#bd3786"
             ],
             [
              0.5555555555555556,
              "#d8576b"
             ],
             [
              0.6666666666666666,
              "#ed7953"
             ],
             [
              0.7777777777777778,
              "#fb9f3a"
             ],
             [
              0.8888888888888888,
              "#fdca26"
             ],
             [
              1,
              "#f0f921"
             ]
            ],
            "type": "surface"
           }
          ],
          "table": [
           {
            "cells": {
             "fill": {
              "color": "#EBF0F8"
             },
             "line": {
              "color": "white"
             }
            },
            "header": {
             "fill": {
              "color": "#C8D4E3"
             },
             "line": {
              "color": "white"
             }
            },
            "type": "table"
           }
          ]
         },
         "layout": {
          "annotationdefaults": {
           "arrowcolor": "#2a3f5f",
           "arrowhead": 0,
           "arrowwidth": 1
          },
          "coloraxis": {
           "colorbar": {
            "outlinewidth": 0,
            "ticks": ""
           }
          },
          "colorscale": {
           "diverging": [
            [
             0,
             "#8e0152"
            ],
            [
             0.1,
             "#c51b7d"
            ],
            [
             0.2,
             "#de77ae"
            ],
            [
             0.3,
             "#f1b6da"
            ],
            [
             0.4,
             "#fde0ef"
            ],
            [
             0.5,
             "#f7f7f7"
            ],
            [
             0.6,
             "#e6f5d0"
            ],
            [
             0.7,
             "#b8e186"
            ],
            [
             0.8,
             "#7fbc41"
            ],
            [
             0.9,
             "#4d9221"
            ],
            [
             1,
             "#276419"
            ]
           ],
           "sequential": [
            [
             0,
             "#0d0887"
            ],
            [
             0.1111111111111111,
             "#46039f"
            ],
            [
             0.2222222222222222,
             "#7201a8"
            ],
            [
             0.3333333333333333,
             "#9c179e"
            ],
            [
             0.4444444444444444,
             "#bd3786"
            ],
            [
             0.5555555555555556,
             "#d8576b"
            ],
            [
             0.6666666666666666,
             "#ed7953"
            ],
            [
             0.7777777777777778,
             "#fb9f3a"
            ],
            [
             0.8888888888888888,
             "#fdca26"
            ],
            [
             1,
             "#f0f921"
            ]
           ],
           "sequentialminus": [
            [
             0,
             "#0d0887"
            ],
            [
             0.1111111111111111,
             "#46039f"
            ],
            [
             0.2222222222222222,
             "#7201a8"
            ],
            [
             0.3333333333333333,
             "#9c179e"
            ],
            [
             0.4444444444444444,
             "#bd3786"
            ],
            [
             0.5555555555555556,
             "#d8576b"
            ],
            [
             0.6666666666666666,
             "#ed7953"
            ],
            [
             0.7777777777777778,
             "#fb9f3a"
            ],
            [
             0.8888888888888888,
             "#fdca26"
            ],
            [
             1,
             "#f0f921"
            ]
           ]
          },
          "colorway": [
           "#636efa",
           "#EF553B",
           "#00cc96",
           "#ab63fa",
           "#FFA15A",
           "#19d3f3",
           "#FF6692",
           "#B6E880",
           "#FF97FF",
           "#FECB52"
          ],
          "font": {
           "color": "#2a3f5f"
          },
          "geo": {
           "bgcolor": "white",
           "lakecolor": "white",
           "landcolor": "#E5ECF6",
           "showlakes": true,
           "showland": true,
           "subunitcolor": "white"
          },
          "hoverlabel": {
           "align": "left"
          },
          "hovermode": "closest",
          "mapbox": {
           "style": "light"
          },
          "paper_bgcolor": "white",
          "plot_bgcolor": "#E5ECF6",
          "polar": {
           "angularaxis": {
            "gridcolor": "white",
            "linecolor": "white",
            "ticks": ""
           },
           "bgcolor": "#E5ECF6",
           "radialaxis": {
            "gridcolor": "white",
            "linecolor": "white",
            "ticks": ""
           }
          },
          "scene": {
           "xaxis": {
            "backgroundcolor": "#E5ECF6",
            "gridcolor": "white",
            "gridwidth": 2,
            "linecolor": "white",
            "showbackground": true,
            "ticks": "",
            "zerolinecolor": "white"
           },
           "yaxis": {
            "backgroundcolor": "#E5ECF6",
            "gridcolor": "white",
            "gridwidth": 2,
            "linecolor": "white",
            "showbackground": true,
            "ticks": "",
            "zerolinecolor": "white"
           },
           "zaxis": {
            "backgroundcolor": "#E5ECF6",
            "gridcolor": "white",
            "gridwidth": 2,
            "linecolor": "white",
            "showbackground": true,
            "ticks": "",
            "zerolinecolor": "white"
           }
          },
          "shapedefaults": {
           "line": {
            "color": "#2a3f5f"
           }
          },
          "ternary": {
           "aaxis": {
            "gridcolor": "white",
            "linecolor": "white",
            "ticks": ""
           },
           "baxis": {
            "gridcolor": "white",
            "linecolor": "white",
            "ticks": ""
           },
           "bgcolor": "#E5ECF6",
           "caxis": {
            "gridcolor": "white",
            "linecolor": "white",
            "ticks": ""
           }
          },
          "title": {
           "x": 0.05
          },
          "xaxis": {
           "automargin": true,
           "gridcolor": "white",
           "linecolor": "white",
           "ticks": "",
           "title": {
            "standoff": 15
           },
           "zerolinecolor": "white",
           "zerolinewidth": 2
          },
          "yaxis": {
           "automargin": true,
           "gridcolor": "white",
           "linecolor": "white",
           "ticks": "",
           "title": {
            "standoff": 15
           },
           "zerolinecolor": "white",
           "zerolinewidth": 2
          }
         }
        },
        "width": 900,
        "xaxis": {
         "anchor": "y",
         "domain": [
          0,
          0.45
         ],
         "linecolor": "black",
         "linewidth": 1.5,
         "mirror": true,
         "showline": true,
         "title": {
          "text": "Day of Year"
         }
        },
        "xaxis2": {
         "anchor": "y2",
         "domain": [
          0.55,
          1
         ],
         "linecolor": "black",
         "linewidth": 1.5,
         "mirror": true,
         "showline": true,
         "title": {
          "text": "Day of Year"
         }
        },
        "yaxis": {
         "anchor": "x",
         "domain": [
          0,
          1
         ],
         "linecolor": "black",
         "linewidth": 1.5,
         "mirror": true,
         "showline": true,
         "title": {
          "text": "Cumulative Case Count Over Time"
         }
        },
        "yaxis2": {
         "anchor": "x2",
         "domain": [
          0,
          1
         ],
         "linecolor": "black",
         "linewidth": 1.5,
         "mirror": true,
         "showline": true,
         "title": {
          "text": "Daily Incidence Over Time"
         }
        }
       }
      },
      "text/html": [
       "<div>\n",
       "        \n",
       "        \n",
       "            <div id=\"82782a7c-d5dd-4e70-a47f-b902ebdf9d61\" class=\"plotly-graph-div\" style=\"height:500px; width:900px;\"></div>\n",
       "            <script type=\"text/javascript\">\n",
       "                require([\"plotly\"], function(Plotly) {\n",
       "                    window.PLOTLYENV=window.PLOTLYENV || {};\n",
       "                    \n",
       "                if (document.getElementById(\"82782a7c-d5dd-4e70-a47f-b902ebdf9d61\")) {\n",
       "                    Plotly.newPlot(\n",
       "                        '82782a7c-d5dd-4e70-a47f-b902ebdf9d61',\n",
       "                        [{\"line\": {\"color\": \"rgb(31, 119, 180)\"}, \"mode\": \"lines\", \"name\": \"CA\", \"showlegend\": true, \"type\": \"scatter\", \"x\": [123, 122, 121, 120, 119, 118, 117, 116, 115, 114, 113, 112, 111, 110, 109, 108, 107, 106, 105, 104, 103, 102, 101, 100, 99, 98, 97, 96, 95, 94, 93, 92, 91, 90, 89, 88, 87, 86, 85, 84, 83, 82, 81, 80, 79, 78, 77, 76, 75, 74, 73, 72, 71, 70, 69, 68, 67, 66], \"xaxis\": \"x\", \"y\": [52197.0, 50442.0, 48917.0, 46500.0, 45031.0, 43464.0, 42164.0, 41137.0, 39254.0, 37369.0, 35396.0, 33261.0, 30978.0, 30333.0, 28963.0, 27528.0, 26182.0, 24424.0, 23338.0, 22348.0, 21794.0, 19472.0, 19472.0, 18309.0, 16957.0, 15865.0, 14336.0, 13438.0, 12026.0, 10701.0, 9191.0, 8155.0, 7482.0, 6447.0, 5708.0, 4643.0, 3879.0, 3006.0, 2355.0, 2102.0, 1733.0, 1536.0, 1279.0, 1063.0, 924.0, 611.0, 483.0, 335.0, 293.0, 252.0, 202.0, 202.0, 157.0, 133.0, 114.0, 88.0, 69.0, 60.0], \"yaxis\": \"y\"}, {\"line\": {\"color\": \"rgb(31, 119, 180)\"}, \"mode\": \"lines\", \"name\": \"CA\", \"showlegend\": false, \"type\": \"scatter\", \"x\": [123, 122, 121, 120, 119, 118, 117, 116, 115, 114, 113, 112, 111, 110, 109, 108, 107, 106, 105, 104, 103, 102, 101, 100, 99, 98, 97, 96, 95, 94, 93, 92, 91, 90, 89, 88, 87, 86, 85, 84, 83, 82, 81, 80, 79, 78, 77, 76, 75, 74, 73, 72, 71, 70, 69, 68, 67, 66], \"xaxis\": \"x2\", \"y\": [1899.0, 1803.6666666666667, 1817.6666666666667, 1445.3333333333333, 1298.0, 1403.3333333333333, 1598.3333333333333, 1913.6666666666667, 1997.6666666666667, 2130.3333333333335, 1687.6666666666667, 1432.6666666666667, 1150.0, 1383.6666666666667, 1513.0, 1396.6666666666667, 1278.0, 876.6666666666666, 1288.6666666666667, 958.6666666666666, 1161.6666666666667, 838.3333333333334, 1202.3333333333333, 1324.3333333333333, 1173.0, 1279.6666666666667, 1211.6666666666667, 1415.6666666666667, 1290.3333333333333, 1073.0, 914.6666666666666, 815.6666666666666, 946.3333333333334, 856.0, 900.6666666666666, 762.6666666666666, 592.3333333333334, 424.3333333333333, 273.0, 274.3333333333333, 223.33333333333334, 204.0, 222.66666666666666, 193.33333333333334, 196.33333333333334, 106.0, 77.0, 44.333333333333336, 30.333333333333332, 31.666666666666668, 23.0, 29.333333333333332, 23.0, 21.333333333333332, 18.0], \"yaxis\": \"y2\"}, {\"line\": {\"color\": \"rgb(255, 127, 14)\"}, \"mode\": \"lines\", \"name\": \"NY\", \"showlegend\": true, \"type\": \"scatter\", \"x\": [123, 122, 121, 120, 119, 118, 117, 116, 115, 114, 113, 112, 111, 110, 109, 108, 107, 106, 105, 104, 103, 102, 101, 100, 99, 98, 97, 96, 95, 94, 93, 92, 91, 90, 89, 88, 87, 86, 85, 84, 83, 82, 81, 80, 79, 78, 77, 76, 75, 74, 73, 72, 71, 70, 69, 68, 67, 66], \"xaxis\": \"x\", \"y\": [312977.0, 308314.0, 304372.0, 299691.0, 295106.0, 291996.0, 288045.0, 282143.0, 271590.0, 263460.0, 257216.0, 251690.0, 247512.0, 242786.0, 236732.0, 229642.0, 222284.0, 213779.0, 202208.0, 195031.0, 188694.0, 180458.0, 170512.0, 159937.0, 149316.0, 138863.0, 130689.0, 122031.0, 113704.0, 102863.0, 92381.0, 83712.0, 75795.0, 66497.0, 59513.0, 52318.0, 44635.0, 37258.0, 30811.0, 25665.0, 20875.0, 15168.0, 10356.0, 7102.0, 4152.0, 2382.0, 1700.0, 950.0, 729.0, 524.0, 421.0, 216.0, 216.0, 173.0, 142.0, 105.0, 76.0, 33.0], \"yaxis\": \"y\"}, {\"line\": {\"color\": \"rgb(255, 127, 14)\"}, \"mode\": \"lines\", \"name\": \"NY\", \"showlegend\": false, \"type\": \"scatter\", \"x\": [123, 122, 121, 120, 119, 118, 117, 116, 115, 114, 113, 112, 111, 110, 109, 108, 107, 106, 105, 104, 103, 102, 101, 100, 99, 98, 97, 96, 95, 94, 93, 92, 91, 90, 89, 88, 87, 86, 85, 84, 83, 82, 81, 80, 79, 78, 77, 76, 75, 74, 73, 72, 71, 70, 69, 68, 67, 66], \"xaxis\": \"x2\", \"y\": [4428.666666666667, 4402.666666666667, 4125.333333333333, 3882.0, 4321.0, 6802.0, 8195.0, 8309.0, 6633.333333333333, 5316.0, 4810.0, 4986.0, 5956.666666666667, 6834.0, 7651.0, 9144.666666666666, 9084.333333333334, 8361.666666666666, 7250.0, 8173.0, 9585.666666666666, 10380.666666666666, 10549.666666666666, 9749.333333333334, 9095.0, 8386.333333333334, 9275.333333333334, 9883.333333333334, 9997.333333333334, 9022.666666666666, 8628.0, 8066.333333333333, 7825.666666666667, 7287.333333333333, 7418.333333333333, 7169.0, 6323.333333333333, 5461.0, 5214.333333333333, 5103.0, 4591.0, 3672.0, 2658.0, 1800.6666666666667, 1067.3333333333333, 551.0, 392.0, 176.33333333333334, 171.0, 102.66666666666667, 82.66666666666667, 24.666666666666668, 37.0, 32.333333333333336, 36.333333333333336], \"yaxis\": \"y2\"}, {\"line\": {\"color\": \"rgb(44, 160, 44)\"}, \"mode\": \"lines\", \"name\": \"NJ\", \"showlegend\": true, \"type\": \"scatter\", \"x\": [123, 122, 121, 120, 119, 118, 117, 116, 115, 114, 113, 112, 111, 110, 109, 108, 107, 106, 105, 104, 103, 102, 101, 100, 99, 98, 97, 96, 95, 94, 93, 92, 91, 90, 89, 88, 87, 86, 85, 84, 83, 82, 81, 80, 79, 78, 77, 76, 75, 74, 73, 72, 71, 70, 69, 68, 67, 66], \"xaxis\": \"x\", \"y\": [123717.0, 121190.0, 118652.0, 116264.0, 113856.0, 111188.0, 109038.0, 105523.0, 102196.0, 99989.0, 95865.0, 92387.0, 88806.0, 85301.0, 81420.0, 78467.0, 75317.0, 71030.0, 68824.0, 64584.0, 61850.0, 58151.0, 54588.0, 51027.0, 47437.0, 44416.0, 41090.0, 37505.0, 34124.0, 29895.0, 25590.0, 22255.0, 18696.0, 16636.0, 13386.0, 11124.0, 8825.0, 6876.0, 4402.0, 3675.0, 2844.0, 1914.0, 1327.0, 890.0, 742.0, 427.0, 267.0, 178.0, 98.0, 50.0, 50.0, 30.0, 24.0, 15.0, 11.0, 6.0, 4.0, 1.0], \"yaxis\": \"y\"}, {\"line\": {\"color\": \"rgb(44, 160, 44)\"}, \"mode\": \"lines\", \"name\": \"NJ\", \"showlegend\": false, \"type\": \"scatter\", \"x\": [123, 122, 121, 120, 119, 118, 117, 116, 115, 114, 113, 112, 111, 110, 109, 108, 107, 106, 105, 104, 103, 102, 101, 100, 99, 98, 97, 96, 95, 94, 93, 92, 91, 90, 89, 88, 87, 86, 85, 84, 83, 82, 81, 80, 79, 78, 77, 76, 75, 74, 73, 72, 71, 70, 69, 68, 67, 66], \"xaxis\": \"x2\", \"y\": [2484.3333333333335, 2444.6666666666665, 2488.0, 2408.6666666666665, 2777.6666666666665, 2997.3333333333335, 3016.3333333333335, 3219.3333333333335, 3269.6666666666665, 3727.6666666666665, 3521.3333333333335, 3655.6666666666665, 3446.3333333333335, 3328.0, 3463.3333333333335, 3214.3333333333335, 3577.6666666666665, 3060.0, 3557.6666666666665, 3332.0, 3607.6666666666665, 3571.3333333333335, 3390.6666666666665, 3312.3333333333335, 3310.6666666666665, 3430.6666666666665, 3731.6666666666665, 3971.6666666666665, 3956.3333333333335, 3733.0, 2984.6666666666665, 2956.3333333333335, 2524.0, 2603.6666666666665, 2170.0, 2240.6666666666665, 1716.6666666666667, 1344.0, 829.3333333333334, 782.6666666666666, 651.3333333333334, 390.6666666666667, 300.0, 207.66666666666666, 188.0, 109.66666666666667, 72.33333333333333, 42.666666666666664, 22.666666666666668, 8.666666666666666, 11.666666666666666, 6.333333333333333, 6.0, 3.6666666666666665, 3.3333333333333335], \"yaxis\": \"y2\"}],\n",
       "                        {\"height\": 500, \"template\": {\"data\": {\"bar\": [{\"error_x\": {\"color\": \"#2a3f5f\"}, \"error_y\": {\"color\": \"#2a3f5f\"}, \"marker\": {\"line\": {\"color\": \"#E5ECF6\", \"width\": 0.5}}, \"type\": \"bar\"}], \"barpolar\": [{\"marker\": {\"line\": {\"color\": \"#E5ECF6\", \"width\": 0.5}}, \"type\": \"barpolar\"}], \"carpet\": [{\"aaxis\": {\"endlinecolor\": \"#2a3f5f\", \"gridcolor\": \"white\", \"linecolor\": \"white\", \"minorgridcolor\": \"white\", \"startlinecolor\": \"#2a3f5f\"}, \"baxis\": {\"endlinecolor\": \"#2a3f5f\", \"gridcolor\": \"white\", \"linecolor\": \"white\", \"minorgridcolor\": \"white\", \"startlinecolor\": \"#2a3f5f\"}, \"type\": \"carpet\"}], \"choropleth\": [{\"colorbar\": {\"outlinewidth\": 0, \"ticks\": \"\"}, \"type\": \"choropleth\"}], \"contour\": [{\"colorbar\": {\"outlinewidth\": 0, \"ticks\": \"\"}, \"colorscale\": [[0.0, \"#0d0887\"], [0.1111111111111111, \"#46039f\"], [0.2222222222222222, \"#7201a8\"], [0.3333333333333333, \"#9c179e\"], [0.4444444444444444, \"#bd3786\"], [0.5555555555555556, \"#d8576b\"], [0.6666666666666666, \"#ed7953\"], [0.7777777777777778, \"#fb9f3a\"], [0.8888888888888888, \"#fdca26\"], [1.0, \"#f0f921\"]], \"type\": \"contour\"}], \"contourcarpet\": [{\"colorbar\": {\"outlinewidth\": 0, \"ticks\": \"\"}, \"type\": \"contourcarpet\"}], \"heatmap\": [{\"colorbar\": {\"outlinewidth\": 0, \"ticks\": \"\"}, \"colorscale\": [[0.0, \"#0d0887\"], [0.1111111111111111, \"#46039f\"], [0.2222222222222222, \"#7201a8\"], [0.3333333333333333, \"#9c179e\"], [0.4444444444444444, \"#bd3786\"], [0.5555555555555556, \"#d8576b\"], [0.6666666666666666, \"#ed7953\"], [0.7777777777777778, \"#fb9f3a\"], [0.8888888888888888, \"#fdca26\"], [1.0, \"#f0f921\"]], \"type\": \"heatmap\"}], \"heatmapgl\": [{\"colorbar\": {\"outlinewidth\": 0, \"ticks\": \"\"}, \"colorscale\": [[0.0, \"#0d0887\"], [0.1111111111111111, \"#46039f\"], [0.2222222222222222, \"#7201a8\"], [0.3333333333333333, \"#9c179e\"], [0.4444444444444444, \"#bd3786\"], [0.5555555555555556, \"#d8576b\"], [0.6666666666666666, \"#ed7953\"], [0.7777777777777778, \"#fb9f3a\"], [0.8888888888888888, \"#fdca26\"], [1.0, \"#f0f921\"]], \"type\": \"heatmapgl\"}], \"histogram\": [{\"marker\": {\"colorbar\": {\"outlinewidth\": 0, \"ticks\": \"\"}}, \"type\": \"histogram\"}], \"histogram2d\": [{\"colorbar\": {\"outlinewidth\": 0, \"ticks\": \"\"}, \"colorscale\": [[0.0, \"#0d0887\"], [0.1111111111111111, \"#46039f\"], [0.2222222222222222, \"#7201a8\"], [0.3333333333333333, \"#9c179e\"], [0.4444444444444444, \"#bd3786\"], [0.5555555555555556, \"#d8576b\"], [0.6666666666666666, \"#ed7953\"], [0.7777777777777778, \"#fb9f3a\"], [0.8888888888888888, \"#fdca26\"], [1.0, \"#f0f921\"]], \"type\": \"histogram2d\"}], \"histogram2dcontour\": [{\"colorbar\": {\"outlinewidth\": 0, \"ticks\": \"\"}, \"colorscale\": [[0.0, \"#0d0887\"], [0.1111111111111111, \"#46039f\"], [0.2222222222222222, \"#7201a8\"], [0.3333333333333333, \"#9c179e\"], [0.4444444444444444, \"#bd3786\"], [0.5555555555555556, \"#d8576b\"], [0.6666666666666666, \"#ed7953\"], [0.7777777777777778, \"#fb9f3a\"], [0.8888888888888888, \"#fdca26\"], [1.0, \"#f0f921\"]], \"type\": \"histogram2dcontour\"}], \"mesh3d\": [{\"colorbar\": {\"outlinewidth\": 0, \"ticks\": \"\"}, \"type\": \"mesh3d\"}], \"parcoords\": [{\"line\": {\"colorbar\": {\"outlinewidth\": 0, \"ticks\": \"\"}}, \"type\": \"parcoords\"}], \"pie\": [{\"automargin\": true, \"type\": \"pie\"}], \"scatter\": [{\"marker\": {\"colorbar\": {\"outlinewidth\": 0, \"ticks\": \"\"}}, \"type\": \"scatter\"}], \"scatter3d\": [{\"line\": {\"colorbar\": {\"outlinewidth\": 0, \"ticks\": \"\"}}, \"marker\": {\"colorbar\": {\"outlinewidth\": 0, \"ticks\": \"\"}}, \"type\": \"scatter3d\"}], \"scattercarpet\": [{\"marker\": {\"colorbar\": {\"outlinewidth\": 0, \"ticks\": \"\"}}, \"type\": \"scattercarpet\"}], \"scattergeo\": [{\"marker\": {\"colorbar\": {\"outlinewidth\": 0, \"ticks\": \"\"}}, \"type\": \"scattergeo\"}], \"scattergl\": [{\"marker\": {\"colorbar\": {\"outlinewidth\": 0, \"ticks\": \"\"}}, \"type\": \"scattergl\"}], \"scattermapbox\": [{\"marker\": {\"colorbar\": {\"outlinewidth\": 0, \"ticks\": \"\"}}, \"type\": \"scattermapbox\"}], \"scatterpolar\": [{\"marker\": {\"colorbar\": {\"outlinewidth\": 0, \"ticks\": \"\"}}, \"type\": \"scatterpolar\"}], \"scatterpolargl\": [{\"marker\": {\"colorbar\": {\"outlinewidth\": 0, \"ticks\": \"\"}}, \"type\": \"scatterpolargl\"}], \"scatterternary\": [{\"marker\": {\"colorbar\": {\"outlinewidth\": 0, \"ticks\": \"\"}}, \"type\": \"scatterternary\"}], \"surface\": [{\"colorbar\": {\"outlinewidth\": 0, \"ticks\": \"\"}, \"colorscale\": [[0.0, \"#0d0887\"], [0.1111111111111111, \"#46039f\"], [0.2222222222222222, \"#7201a8\"], [0.3333333333333333, \"#9c179e\"], [0.4444444444444444, \"#bd3786\"], [0.5555555555555556, \"#d8576b\"], [0.6666666666666666, \"#ed7953\"], [0.7777777777777778, \"#fb9f3a\"], [0.8888888888888888, \"#fdca26\"], [1.0, \"#f0f921\"]], \"type\": \"surface\"}], \"table\": [{\"cells\": {\"fill\": {\"color\": \"#EBF0F8\"}, \"line\": {\"color\": \"white\"}}, \"header\": {\"fill\": {\"color\": \"#C8D4E3\"}, \"line\": {\"color\": \"white\"}}, \"type\": \"table\"}]}, \"layout\": {\"annotationdefaults\": {\"arrowcolor\": \"#2a3f5f\", \"arrowhead\": 0, \"arrowwidth\": 1}, \"coloraxis\": {\"colorbar\": {\"outlinewidth\": 0, \"ticks\": \"\"}}, \"colorscale\": {\"diverging\": [[0, \"#8e0152\"], [0.1, \"#c51b7d\"], [0.2, \"#de77ae\"], [0.3, \"#f1b6da\"], [0.4, \"#fde0ef\"], [0.5, \"#f7f7f7\"], [0.6, \"#e6f5d0\"], [0.7, \"#b8e186\"], [0.8, \"#7fbc41\"], [0.9, \"#4d9221\"], [1, \"#276419\"]], \"sequential\": [[0.0, \"#0d0887\"], [0.1111111111111111, \"#46039f\"], [0.2222222222222222, \"#7201a8\"], [0.3333333333333333, \"#9c179e\"], [0.4444444444444444, \"#bd3786\"], [0.5555555555555556, \"#d8576b\"], [0.6666666666666666, \"#ed7953\"], [0.7777777777777778, \"#fb9f3a\"], [0.8888888888888888, \"#fdca26\"], [1.0, \"#f0f921\"]], \"sequentialminus\": [[0.0, \"#0d0887\"], [0.1111111111111111, \"#46039f\"], [0.2222222222222222, \"#7201a8\"], [0.3333333333333333, \"#9c179e\"], [0.4444444444444444, \"#bd3786\"], [0.5555555555555556, \"#d8576b\"], [0.6666666666666666, \"#ed7953\"], [0.7777777777777778, \"#fb9f3a\"], [0.8888888888888888, \"#fdca26\"], [1.0, \"#f0f921\"]]}, \"colorway\": [\"#636efa\", \"#EF553B\", \"#00cc96\", \"#ab63fa\", \"#FFA15A\", \"#19d3f3\", \"#FF6692\", \"#B6E880\", \"#FF97FF\", \"#FECB52\"], \"font\": {\"color\": \"#2a3f5f\"}, \"geo\": {\"bgcolor\": \"white\", \"lakecolor\": \"white\", \"landcolor\": \"#E5ECF6\", \"showlakes\": true, \"showland\": true, \"subunitcolor\": \"white\"}, \"hoverlabel\": {\"align\": \"left\"}, \"hovermode\": \"closest\", \"mapbox\": {\"style\": \"light\"}, \"paper_bgcolor\": \"white\", \"plot_bgcolor\": \"#E5ECF6\", \"polar\": {\"angularaxis\": {\"gridcolor\": \"white\", \"linecolor\": \"white\", \"ticks\": \"\"}, \"bgcolor\": \"#E5ECF6\", \"radialaxis\": {\"gridcolor\": \"white\", \"linecolor\": \"white\", \"ticks\": \"\"}}, \"scene\": {\"xaxis\": {\"backgroundcolor\": \"#E5ECF6\", \"gridcolor\": \"white\", \"gridwidth\": 2, \"linecolor\": \"white\", \"showbackground\": true, \"ticks\": \"\", \"zerolinecolor\": \"white\"}, \"yaxis\": {\"backgroundcolor\": \"#E5ECF6\", \"gridcolor\": \"white\", \"gridwidth\": 2, \"linecolor\": \"white\", \"showbackground\": true, \"ticks\": \"\", \"zerolinecolor\": \"white\"}, \"zaxis\": {\"backgroundcolor\": \"#E5ECF6\", \"gridcolor\": \"white\", \"gridwidth\": 2, \"linecolor\": \"white\", \"showbackground\": true, \"ticks\": \"\", \"zerolinecolor\": \"white\"}}, \"shapedefaults\": {\"line\": {\"color\": \"#2a3f5f\"}}, \"ternary\": {\"aaxis\": {\"gridcolor\": \"white\", \"linecolor\": \"white\", \"ticks\": \"\"}, \"baxis\": {\"gridcolor\": \"white\", \"linecolor\": \"white\", \"ticks\": \"\"}, \"bgcolor\": \"#E5ECF6\", \"caxis\": {\"gridcolor\": \"white\", \"linecolor\": \"white\", \"ticks\": \"\"}}, \"title\": {\"x\": 0.05}, \"xaxis\": {\"automargin\": true, \"gridcolor\": \"white\", \"linecolor\": \"white\", \"ticks\": \"\", \"title\": {\"standoff\": 15}, \"zerolinecolor\": \"white\", \"zerolinewidth\": 2}, \"yaxis\": {\"automargin\": true, \"gridcolor\": \"white\", \"linecolor\": \"white\", \"ticks\": \"\", \"title\": {\"standoff\": 15}, \"zerolinecolor\": \"white\", \"zerolinewidth\": 2}}}, \"width\": 900, \"xaxis\": {\"anchor\": \"y\", \"domain\": [0.0, 0.45], \"linecolor\": \"black\", \"linewidth\": 1.5, \"mirror\": true, \"showline\": true, \"title\": {\"text\": \"Day of Year\"}}, \"xaxis2\": {\"anchor\": \"y2\", \"domain\": [0.55, 1.0], \"linecolor\": \"black\", \"linewidth\": 1.5, \"mirror\": true, \"showline\": true, \"title\": {\"text\": \"Day of Year\"}}, \"yaxis\": {\"anchor\": \"x\", \"domain\": [0.0, 1.0], \"linecolor\": \"black\", \"linewidth\": 1.5, \"mirror\": true, \"showline\": true, \"title\": {\"text\": \"Cumulative Case Count Over Time\"}}, \"yaxis2\": {\"anchor\": \"x2\", \"domain\": [0.0, 1.0], \"linecolor\": \"black\", \"linewidth\": 1.5, \"mirror\": true, \"showline\": true, \"title\": {\"text\": \"Daily Incidence Over Time\"}}},\n",
       "                        {\"responsive\": true}\n",
       "                    ).then(function(){\n",
       "                            \n",
       "var gd = document.getElementById('82782a7c-d5dd-4e70-a47f-b902ebdf9d61');\n",
       "var x = new MutationObserver(function (mutations, observer) {{\n",
       "        var display = window.getComputedStyle(gd).display;\n",
       "        if (!display || display === 'none') {{\n",
       "            console.log([gd, 'removed!']);\n",
       "            Plotly.purge(gd);\n",
       "            observer.disconnect();\n",
       "        }}\n",
       "}});\n",
       "\n",
       "// Listen for the removal of the full notebook cells\n",
       "var notebookContainer = gd.closest('#notebook-container');\n",
       "if (notebookContainer) {{\n",
       "    x.observe(notebookContainer, {childList: true});\n",
       "}}\n",
       "\n",
       "// Listen for the clearing of the current output cell\n",
       "var outputEl = gd.closest('.output');\n",
       "if (outputEl) {{\n",
       "    x.observe(outputEl, {childList: true});\n",
       "}}\n",
       "\n",
       "                        })\n",
       "                };\n",
       "                });\n",
       "            </script>\n",
       "        </div>"
      ]
     },
     "metadata": {},
     "output_type": "display_data"
    }
   ],
   "source": [
    "subset = ['CA','NY','NJ']\n",
    "colors = pc.DEFAULT_PLOTLY_COLORS\n",
    "\n",
    "fig = make_subplots(rows=1, cols=2)\n",
    "for i,s in enumerate(subset):\n",
    "    fig.add_trace(go.Scatter(name=s,x=x_data,y=states_cumulative[s],mode='lines',line_color=colors[i],showlegend=True),row=1,col=1)\n",
    "    fig.add_trace(go.Scatter(name=s,x=x_data,y=states_inc_rolling3[s],mode='lines',line_color=colors[i],showlegend=False),row=1,col=2)\n",
    "\n",
    "fig.update_layout(width=900,height=500)\n",
    "fig.update_xaxes(title='Day of Year',showline=True, linewidth=1.5, linecolor='black', mirror=True)\n",
    "fig.update_yaxes(showline=True, linewidth=1.5, linecolor='black', mirror=True)\n",
    "fig.update_yaxes(title='Cumulative Case Count Over Time',row=1,col=1)\n",
    "fig.update_yaxes(title='Daily Incidence Over Time',row=1,col=2)\n",
    "fig.show()"
   ]
  },
  {
   "cell_type": "markdown",
   "metadata": {},
   "source": [
    "And we can do the same for countries:"
   ]
  },
  {
   "cell_type": "code",
   "execution_count": null,
   "metadata": {
    "jupyter": {
     "source_hidden": true
    }
   },
   "outputs": [],
   "source": [
    "subset = global_cumulative.columns[:3]\n",
    "\n",
    "fig, ax = plt.subplots(1,2,figsize=(13,5))\n",
    "ax[0].plot(x_data_global,global_cumulative[subset]);\n",
    "ax[0].set(xlabel='Day of Year',ylabel='Number of Total Cases',title='Cumulative Case Count Over Time')\n",
    "ax[0].legend(subset)\n",
    "\n",
    "ax[1].plot(x_data_global[global_inc_rolling3.index],global_inc_rolling3[subset]);\n",
    "ax[1].set(xlabel='Days of Year',ylabel='Number of New Cases',title='Daily Incidence Over Time')\n",
    "ax[1].legend(subset)\n",
    "\n",
    "plt.show()"
   ]
  },
  {
   "cell_type": "markdown",
   "metadata": {},
   "source": [
    "Now that we know what the case curves look like, we can attempt to do some modeling."
   ]
  },
  {
   "cell_type": "markdown",
   "metadata": {},
   "source": [
    "## 3. Disease Modeling Basics"
   ]
  },
  {
   "cell_type": "markdown",
   "metadata": {},
   "source": [
    "Before we go further let's clarify some terminology.\n",
    "\n",
    ">**Daily incidence**: the number of new cases that are diagnosed every day. This represents how many new people are becoming infected every day, assuming testing is accurate. It's described in more detail [here](https://en.wikipedia.org/wiki/Incidence_(epidemiology)).\n",
    "\n",
    ">**Cumulative case count**: the number of cumulative cases every day. This represents how many total people have been infected up until a certain day, again assuming that testing is accurate.\n",
    "\n",
    "The graphs we just plotted above were the *cumulative case count* over time and the *daily incidence* over time, respectively. They are two different representations of the same data; the former is just the sum of the latter. Mathematically speaking, the cumulative case count at a certain day is the integral of the incidence up to that day. Equivalently, the incidence at a certain day is the derivative of the cumulative incidence on that day. We'll revisit that thought in a bit."
   ]
  },
  {
   "cell_type": "markdown",
   "metadata": {},
   "source": [
    "You may notice that the cumulative case counts look like they are increasing exponentially. In the early days of the outbreak, experts warned the public about such [exponential growth](https://en.wikipedia.org/wiki/Exponential_growth).\n",
    "\n",
    "But wait! An important property of an exponential is that its derivative and integral is also an exponential. If the cumulative case count were really increasing exponentially, then the daily incidence would be, too. But you can clearly see in the graphs above that the daily incidence first rises and then falls. It looks like a jagged hump. In fact, the daily incidence somewhat resembles a *bell curve*.\n",
    "\n",
    "You may have seen coronavirus graphs in the news that look something like this:"
   ]
  },
  {
   "cell_type": "code",
   "execution_count": null,
   "metadata": {
    "jupyter": {
     "source_hidden": true
    }
   },
   "outputs": [],
   "source": [
    "normal_1 = stats.norm(loc = 5, scale = 1) # gaussian with mean = 5, std = 1\n",
    "normal_2 = stats.norm(loc = 10, scale = 3) # gaussian with mean = 10, std = 3\n",
    "x = np.arange(0,20,0.1)\n",
    "plt.plot(x,normal_1.pdf(x),x,normal_2.pdf(x)) # plot probability density functions\n",
    "plt.xlabel('Days')\n",
    "plt.ylabel('Number of new cases')\n",
    "plt.legend(['Fast spread','Slow spread'])\n",
    "plt.show()"
   ]
  },
  {
   "cell_type": "markdown",
   "metadata": {},
   "source": [
    "Look's familiar right? Well, it turns out that when disease outbreaks happen, the daily incidence generally looks hump-shaped like that. The basic explanation is that in the beginning, very few people have the disease, but each person can infect several other people. The incidence increases exponentially as each new infected person infects many more people. Eventually, the incidence reaches a maximum, or peak. Let's define it:\n",
    ">**Turning point, $t_i$**: the point at which the daily incidence reaches its peak, or \"flattens out\".\n",
    "\n",
    "The turning point can be thought of as a saturation point, where so many people have the disease that the amount of new people available to be infected starts getting smaller. This process continues, and the daily incidence continues to decrease until it reaches zero (the outbreak is over).\n",
    "\n",
    "So, we have a rough idea of what daily incidence numbers should look like over time. What should the cumulative case count look like? Well, it's the integral of a bell curve:"
   ]
  },
  {
   "cell_type": "code",
   "execution_count": null,
   "metadata": {
    "jupyter": {
     "source_hidden": true
    }
   },
   "outputs": [],
   "source": [
    "plt.plot(x,normal_1.cdf(x),x,normal_2.cdf(x)) # plot cumulative distribution functions\n",
    "plt.xlabel('Days')\n",
    "plt.ylabel('Number of cumulative cases')\n",
    "plt.legend(['Fast spread','Slow spread'])\n",
    "plt.show()"
   ]
  },
  {
   "cell_type": "markdown",
   "metadata": {},
   "source": [
    "We see that the cumulative case curve is S-shaped and monotonically increasing – first rapid growth, then slow growth that approaches a plateau. Depending on how fast the spread of the disease is, the curve can be steeper or shallower. Also notice that the turning point, which was the maximum on the daily incidence graph, is the inflection point on the cumulative case count graph.\n",
    "\n",
    "Now, let's get more precise with our math. The curves illustrated above are actually examples of continuous variable distributions, with the following analogies:\n",
    ">Daily incidence over time can be thought of as a **probability density function [(PDF)](https://en.wikipedia.org/wiki/Probability_density_function)**, which we will call $\\phi(t)$.\n",
    "\n",
    ">Cumulative case count over time can be thought of as a **cumulative distribution function [(CDF)](https://en.wikipedia.org/wiki/Cumulative_distribution_function)**, which we will call $\\Phi(t)$.\n",
    "\n",
    "Generally speaking, for any \"hump-shaped\" PDF we will observe a [sigmoidal](https://en.wikipedia.org/wiki/Sigmoid_function) CDF, because $\\Phi(t)=\\int_0^t\\phi(\\tau)d\\tau$, as mentioned earlier. In disease modeling, $\\Phi(t)$ is often called a **growth curve**."
   ]
  },
  {
   "cell_type": "markdown",
   "metadata": {},
   "source": [
    "## 4. Types of Models"
   ]
  },
  {
   "cell_type": "markdown",
   "metadata": {},
   "source": [
    "The question now is the following: what mathematical function best describes our coronavirus data? We saw above that a bell curve seems like a reasonable guess for $\\phi(t)$, but there might be other functions that look similar. So, we need to find a few reasonable functions and define their PDFs and growth curves.\n",
    "\n",
    "There are at least two mathematical functions that are suitable:"
   ]
  },
  {
   "cell_type": "markdown",
   "metadata": {},
   "source": [
    ">**Normal** distribution [(link)](https://en.wikipedia.org/wiki/Normal_distribution), also called a Gaussian distribution or bell curve, defined by:\n",
    "\n",
    "$$ \\phi(t) = \\frac{N}{s \\sqrt{2 \\pi}} e^{-\\frac{1}{2}  (t-t_0)^2/s^2 } $$ \n",
    "$$ \\Phi(t) = \\frac{N}{2} + \\frac{N}{2} \\operatorname{erf}\\left(\\frac{t-t_0}{s \\sqrt{2}}\\right) $$\n",
    "\n",
    ">**Logistic** distribution [(link)](https://en.wikipedia.org/wiki/Logistic_distribution), commonly used to model population growth in biology, defined by:\n",
    "\n",
    "$$ \\phi(t) = \\frac{N}{4s} \\operatorname{sech}^2 \\left( \\frac{t-t_0}{2s} \\right) $$ \n",
    "$$ \\Phi(t) = \\frac{N}{1 + e^{-(t-t_0)/s}} $$\n",
    "\n",
    "\n",
    "where $N$ is the final number of total cases, $t_0$ is a location parameter (equal to the turning point, $t_i$, for these distributions), and $s$ is a scale parameter related to the steepness of the growth curve. The [error function](https://en.wikipedia.org/wiki/Error_function), $\\operatorname{erf}(x)$, is a special function that appears commonly in statistics but has no closed form.\n",
    "\n",
    "Let's visualize these distributions for $N=1$ and $t_i=10$. Note that the values of $s$ are different for each distribution because the maning of $s$ isn't directly comparable between the distributions."
   ]
  },
  {
   "cell_type": "code",
   "execution_count": null,
   "metadata": {
    "jupyter": {
     "source_hidden": true
    }
   },
   "outputs": [],
   "source": [
    "logistic_1 = stats.logistic(loc=10,scale=1.8)\n",
    "\n",
    "fig, ax = plt.subplots(1,2,figsize=(13,5))\n",
    "ax[0].plot(x,normal_2.pdf(x),'-',x,logistic_1.pdf(x),'--') # plot probability density functions\n",
    "ax[0].set(xlabel='Days',ylabel='Probability density',title='PDF comparison')\n",
    "ax[0].legend(['Normal','Logistic'])\n",
    "\n",
    "ax[1].plot(x,normal_2.cdf(x),'-',x,logistic_1.cdf(x),'--') # plot cumulative distribution functions\n",
    "ax[1].set(xlabel='Days',ylabel='Cumulative distribution',title='CDF comparison')\n",
    "ax[1].legend(['Normal','Logistic'])\n",
    "plt.show()"
   ]
  },
  {
   "cell_type": "markdown",
   "metadata": {},
   "source": [
    "You can see that two distributions are very close to each other for this specific choice of parameters. The normal distribution has thinner tails while the logistic distribution has thicker tails.\n",
    "\n",
    "These curves are great for describing the progression of an idealized disease. But one potential problem is that these models are perfectly *symmetric*, which means that the incidence increases just as quickly as it decreases. We don't necessarily know that to be the case; in fact, we might expect that the incidence should decrease more slowly than it increases, because towards the end of an outbreak it takes longer and longer to find new people to infect as disease control measures are implemented. This *right skew* is in fact what is observed in many epidemics.\n",
    "\n",
    "So, we may want to test some growth curves that are asymmetric. Luckily, there are some generalizations of the distributions described above that can introduce skew:"
   ]
  },
  {
   "cell_type": "markdown",
   "metadata": {},
   "source": [
    ">**Skew normal** distribution [(link)](https://en.wikipedia.org/wiki/Skew_normal_distribution), defined by:\n",
    "\n",
    "$$ \\Phi(t) = N \\left[ \\frac{1}{2} + \\frac{1}{2} \\operatorname{erf}\\left(\\frac{t-t_0}{s \\sqrt{2}}\\right) - 2 T \\left(\\frac{t-t_0}{s},a \\right) \\right] $$\n",
    "\n",
    ">**Richards** curve [(link)](https://en.wikipedia.org/wiki/Generalised_logistic_function), a type of generalized logistic curve [used in some disease models](https://www.ncbi.nlm.nih.gov/pmc/articles/PMC3293463/), defined by:\n",
    "\n",
    "$$ \\Phi(t) = \\frac{N}{\\left(1 + e^{-(t-t_0)/s+\\operatorname{ln}(a)} \\right)^{1/a}} $$\n",
    "\n",
    ">**Log logistic** distribution [(link)](https://en.wikipedia.org/wiki/Shifted_log-logistic_distribution), a different type of skewed logistic, defined by:\n",
    "\n",
    "$$ \\Phi(t) = \\frac{N}{ 1 + \\left(1+ \\frac{a(t-t_0)}{s}\\right)^{-1/a}} $$\n",
    "\n",
    ">**Inverse Weibull** distribution [(link)](https://link.springer.com/article/10.1007/s00362-009-0271-3), used in several fields of engineering, defined by:\n",
    "\n",
    "$$ \\Phi(t) = N e^{-\\left(\\frac{s}{t-t_0}\\right)^a} $$\n",
    "\n",
    ">**Gompertz** curve [(link)](https://en.wikipedia.org/wiki/Gompertz_function), a special case of the generalized logistic [sometimes applied in biology](https://www.tandfonline.com/doi/pdf/10.1080/09712119.2016.1268965), defined by:\n",
    "\n",
    "$$ \\Phi(t) = N e^{-e^{-(t-t_0)/s}} $$\n",
    "\n",
    "where $N$ is the final number of total cases, $t_0$ is a location parameter related to the turning point, $s$ is a scale parameter related to the rate of growth, and $a$ is a skewness parameter related to the asymmetry of the growth. The interpretations of $t_0$, $s$, and $a$ and their relations to $t_i$ vary depending on the model. The skew normal uses [Owen's T function](https://en.wikipedia.org/wiki/Owen%27s_T_function), $T(h,a)$, a special function that has no closed form."
   ]
  },
  {
   "cell_type": "markdown",
   "metadata": {},
   "source": [
    "Here are example plots for two of the skewed models:"
   ]
  },
  {
   "cell_type": "code",
   "execution_count": null,
   "metadata": {
    "jupyter": {
     "source_hidden": true
    }
   },
   "outputs": [],
   "source": [
    "richards = stats.genlogistic(c=9,loc=4,scale=2.5)\n",
    "skewnorm = stats.skewnorm(a=3,loc=7,scale=5)\n",
    "\n",
    "fig, ax = plt.subplots(1,2,figsize=(13,5))\n",
    "ax[0].plot(x,skewnorm.pdf(x),'-',x,richards.pdf(x),'--') # plot probability density functions\n",
    "ax[0].set(xlabel='Days',ylabel='Probability density',title='PDF comparison')\n",
    "ax[0].legend(['Skew normal','Richards'])\n",
    "\n",
    "ax[1].plot(x,skewnorm.cdf(x),'-',x,richards.cdf(x),'--') # plot cumulative distribution functions\n",
    "ax[1].set(xlabel='Days',ylabel='Cumulative distribution',title='CDF comparison')\n",
    "ax[1].legend(['Skew normal','Richards'])\n",
    "plt.show()"
   ]
  },
  {
   "cell_type": "markdown",
   "metadata": {},
   "source": [
    "As with the symmetric models, there are subtle differences between the skewed curves. This may mean that some models will fit the data more accurately than others, and that's what we want to find out!\n",
    "\n",
    "We've now identified **7** different mathematical functions. The normal and logistic models are symmetric, while the skew normal, Richards, log logistic, inverse Weibull, and Gompertz models are asymmetric. We can now attempt to fit these to coronavirus case data.\n",
    "\n",
    "**Note**: theoretically there should be no difference whether we fit daily incidence data to $\\phi$ or cumulative case count data to $\\Phi$. However, based on the graphs of real coronavirus data in Part 2, we can see that daily incidence data is very noisy. It has a significantly higher noise-to-signal ratio than the cumulative case count data, so it will be more susceptible to overfitting and outlier influence. We should therefore perform our fits using the cumulative case count data, which is in line with standard practice in [disease modeling](https://www.sciencedirect.com/science/article/abs/pii/S1571064516300641)."
   ]
  },
  {
   "cell_type": "markdown",
   "metadata": {},
   "source": [
    "## 5. Data Fitting"
   ]
  },
  {
   "cell_type": "markdown",
   "metadata": {},
   "source": [
    "First we need to define all the functions described above. Although `scipy.special` has built-in objects for most of these models, calling them is much more computationally expensive than defining them ourselves using `np.erf`, `np.exp` and `np.log`.\n",
    "\n",
    "All of these $\\Phi$ functions take an array of time points `t` as a first argument, followed by their distributon parameters (`N`, `t_i`, `s`, and `a` where appropriate). Again, it's important to note that although they have the same names, the values for `t_i`,`s`, and `a` are not directly comparable between different model types without some more detailed analysis."
   ]
  },
  {
   "cell_type": "code",
   "execution_count": null,
   "metadata": {
    "jupyter": {
     "source_hidden": true
    }
   },
   "outputs": [],
   "source": [
    "def normal(t, N, t_0, s):\n",
    "    \"\"\"\n",
    "    Returns the normal growth curve evaluated at every time value in t.\n",
    "    t_0 is the mean of the corresponding PDF and s is the standard deviation.\n",
    "    \"\"\"\n",
    "    return (N/2 * (1 + special.erf((t - t_0)/(s*sqrt(2)))))\n",
    "\n",
    "def logistic(t, N, t_0, s):\n",
    "    \"\"\"\n",
    "    Returns the logistic growth curve evaluated at every time value in t.\n",
    "    t_0 is the mean of the corresponding PDF and s*pi/sqrt(3) is the standard deviation.\n",
    "    \"\"\"\n",
    "    return (N / (1 + np.exp(-(t - t_0)/s)))\n",
    "\n",
    "def skewnorm(t, N, t_0, s, a):\n",
    "    \"\"\"\n",
    "    Returns the skew normal growth curve evaluated at every time value in t.\n",
    "    t_0 is related to the mean of the corresponding PDF and s is related to the standard deviation.\n",
    "    Non-negative values of a correspond to right-skew, and a = 0 is equivalent to normal(t, N, t_0, s).\n",
    "    \"\"\"\n",
    "    return N*(normal(t,1,t_0,s)-2*special.owens_t(((t-t_0)/s),a))\n",
    "\n",
    "def richards(t, N, t_0, s, a):\n",
    "    \"\"\"\n",
    "    Returns the Richards growth curve evaluated at every time value in t.\n",
    "    t_0 is related to the mean of the corresponding PDF and s is related to the standard deviation.\n",
    "    a must be positive, with a < 1 corresponding to right-skew. a = 1 is equivalent to logistic(t, N, t_0, s).\n",
    "    \"\"\"\n",
    "    return N / np.power((1 + np.exp(np.log(a)-(t-t_0)*a/s)),(1/a))\n",
    "\n",
    "def loglogistic(t, N, t_0, s, a):\n",
    "    \"\"\"\n",
    "    Returns the log logistic growth curve evaluated at every time value in t.\n",
    "    t_0 is related to the mean of the corresponding PDF and s is related to the standard deviation.\n",
    "    a must be positive and always lead to right-skew. As a approaches 0, loglogistic approaches logistic(t, N, t_0, s).\n",
    "    \"\"\"\n",
    "    cutoff = t_0 - s/a # the cdf is only necessarily nonnegative at t values above this cutoff\n",
    "    cdf = np.array([N / (1 + (1 + a*(idx-t_0)/s)**(-1/a)) if idx > cutoff else 0 for idx in t])\n",
    "    return cdf\n",
    "\n",
    "def invweibull(t, N, t_0, s, a):\n",
    "    \"\"\"\n",
    "    Returns the inverse Weibull growth curve evaluated at every time value in t.\n",
    "    t_0 is related to the mean of the corresponding PDF and s is related to the standard deviation.\n",
    "    a must be positive and always leads to right-skew.\n",
    "    \"\"\"\n",
    "    return np.array([N * np.exp(-(s/(idx - t_0))**a) if idx > t_0 else 0 for idx in t])\n",
    "\n",
    "def gompertz(t, N, t_0, s):\n",
    "    \"\"\"\n",
    "    Returns the Gompertz growth curve evaluated at every time value in t.\n",
    "    t_0 is related to the mean of the corresponding PDF and s is related to the standard deviation.\n",
    "    \"\"\"\n",
    "    return N * np.exp(-np.exp(-(t-t_0)/s))\n",
    "\n",
    "model_list = [normal, logistic, skewnorm, richards, loglogistic, invweibull, gompertz]"
   ]
  },
  {
   "cell_type": "markdown",
   "metadata": {},
   "source": [
    "Next, we need a nonlinear `regression` function that will fit the data to whichever model is specified. We can use `scipy.least_squares` to find the parameter weights that minimize the model's loss (the square of the residuals). In this function we also provide reasonable starting guesses for each parameter, which differ depending on the type of model."
   ]
  },
  {
   "cell_type": "code",
   "execution_count": null,
   "metadata": {
    "jupyter": {
     "source_hidden": true
    }
   },
   "outputs": [],
   "source": [
    "def get_params(model):\n",
    "    return list(inspect.signature(model).parameters.keys())[1:]\n",
    "\n",
    "def regression(model,x_test,y_test):\n",
    "    \n",
    "    def residual(x, t, y):\n",
    "        return model(t,*x) - y\n",
    "    \n",
    "    x0 = [y_test.max()*1.2,x_test.max()*0.8,1]\n",
    "    x_min = [y_test.max(),x_test.min(),0]\n",
    "    x_max = [np.inf,np.inf,np.inf]\n",
    "    if len(get_params(model)) == 4:\n",
    "        # append min, max, and starting values for the 'a' parameter\n",
    "        x_min.append(0)\n",
    "        if model.__name__ == 'skewnorm':\n",
    "            x0.append(0.1)\n",
    "            x_max.append(10) # personal choice\n",
    "        elif model.__name__ == 'richards':\n",
    "            x0.append(0.9)\n",
    "            x_max.append(1)\n",
    "        elif model.__name__ == 'loglogistic':\n",
    "            x0.append(0.1)\n",
    "            x_max.append(2) # personal choice\n",
    "        elif model.__name__ == 'invweibull':\n",
    "            x0.append(1.1)\n",
    "            x_max.append(10) # personal choice\n",
    "    \n",
    "    res_lsq = least_squares(residual, x0, bounds=(x_min,x_max),\n",
    "            ftol=1e-10, xtol=1e-10, gtol=1e-10, loss='linear', args=(x_test, y_test))\n",
    "    return res_lsq.x # returns array of parameter values\n"
   ]
  },
  {
   "cell_type": "markdown",
   "metadata": {},
   "source": [
    "We also need a way of quantifying how closely the predictions match the actual data. So, we can define a function called `score_model`, which will return the [root-mean-squared error](https://en.wikipedia.org/wiki/Root-mean-square_deviation), as well as the [AIC](https://en.wikipedia.org/wiki/Akaike_information_criterion) and [BIC](https://en.wikipedia.org/wiki/Bayesian_information_criterion), giving us 3 different metrics to evaluate how good the models were."
   ]
  },
  {
   "cell_type": "code",
   "execution_count": null,
   "metadata": {},
   "outputs": [],
   "source": [
    "def score_model(y, y_hat, k):\n",
    "    sse = np.sum((y-y_hat)**2)\n",
    "    n = len(y)\n",
    "    rmse = np.sqrt(sse/n)\n",
    "    aic = n*np.log(sse/n)+2*k\n",
    "    bic = n*np.log(sse/n)+k*np.log(n)\n",
    "    return rmse, aic, bic"
   ]
  },
  {
   "cell_type": "markdown",
   "metadata": {},
   "source": [
    "Finally, we define `fit_data` to iterate over every state or country and run `regression` on that region's incidence data. This function returns a dataframe with the predicted values of the fit parameters for each region, as well as model evaluation criteria. The dataframe also includes figure handles to simple plots comparing the model to the actual data for each region, although we will do more comprehensive visualization later. "
   ]
  },
  {
   "cell_type": "code",
   "execution_count": null,
   "metadata": {
    "jupyter": {
     "source_hidden": true
    }
   },
   "outputs": [],
   "source": [
    "def fit_data(df,regions,region_type,model,x_test):\n",
    "    start = time.time()\n",
    "    param_names = get_params(model)\n",
    "    k = len(param_names)\n",
    "    param_vals = [[] for i in range(k)]\n",
    "    rmse_vals = []\n",
    "    aic_vals = []\n",
    "    bic_vals = []\n",
    "    figs = []\n",
    "    for item in regions:\n",
    "        y_test = df[item].values\n",
    "        params = regression(model,x_test,y_test)\n",
    "        [param_vals[i].append(params[i]) for i in range(k)]\n",
    "        y_pred = model(x_test,*params)\n",
    "        rmse, aic, bic = score_model(y_test,y_pred,k)\n",
    "        rmse_vals.append(rmse)\n",
    "        aic_vals.append(aic)\n",
    "        bic_vals.append(bic)\n",
    "\n",
    "        f = plt.figure()\n",
    "        plt.plot(x_test,y_pred,'--')\n",
    "        plt.plot(x_test,y_test)\n",
    "        plt.xlabel('Day of Year')\n",
    "        plt.ylabel('Cumulative Case Count')\n",
    "        plt.title('Cases in '+item)\n",
    "        plt.legend(['Model Fit','Actual Numbers'])\n",
    "        figs.append(f)\n",
    "        plt.close(f)\n",
    "        \n",
    "    fit_info = pd.DataFrame(index=regions,data={param_names[i]:param_vals[i] for i in range(k)})\n",
    "    fit_info['fig'] = figs\n",
    "    fit_info['rmse'], fit_info['aic'], fit_info['bic'] = rmse_vals, aic_vals, bic_vals\n",
    "    fit_info.index.rename(region_type,inplace=True)\n",
    "    fit_info.sort_values(by='N',ascending=False,inplace=True)\n",
    "    \n",
    "    end = time.time()\n",
    "    print(model.__name__ + ' finished in %.1f sec' % (end-start))\n",
    "    \n",
    "    return fit_info\n",
    "\n",
    "np.seterr(all='ignore');"
   ]
  },
  {
   "cell_type": "markdown",
   "metadata": {},
   "source": [
    "Now we can can go ahead and call `fit_data` on both the state data and the country data. Because we have several different fit functions, we need to run `fit_data` several times for every region. We can store one dataframe associated with each model type in the dictionaries `state_info` and `global_info`."
   ]
  },
  {
   "cell_type": "code",
   "execution_count": null,
   "metadata": {
    "jupyter": {
     "source_hidden": true
    }
   },
   "outputs": [],
   "source": [
    "state_info = {m.__name__:fit_data(states_cumulative,states_list,'State',m,x_data.values) for m in model_list}"
   ]
  },
  {
   "cell_type": "code",
   "execution_count": null,
   "metadata": {
    "jupyter": {
     "source_hidden": true
    }
   },
   "outputs": [],
   "source": [
    "global_info = {m.__name__:fit_data(global_cumulative,top_countries,'Country',m,x_data_global.values) for m in model_list}"
   ]
  },
  {
   "cell_type": "markdown",
   "metadata": {},
   "source": [
    "Here's what a few of the resulting dataframes look like:"
   ]
  },
  {
   "cell_type": "code",
   "execution_count": null,
   "metadata": {},
   "outputs": [],
   "source": [
    "state_info['gompertz'].head()"
   ]
  },
  {
   "cell_type": "code",
   "execution_count": null,
   "metadata": {},
   "outputs": [],
   "source": [
    "global_info['gompertz'].head()"
   ]
  },
  {
   "cell_type": "markdown",
   "metadata": {},
   "source": [
    "And here's what a few of the fits look like when plotted alongside the actual data:"
   ]
  },
  {
   "cell_type": "code",
   "execution_count": null,
   "metadata": {
    "jupyter": {
     "source_hidden": true
    }
   },
   "outputs": [],
   "source": [
    "state_info['loglogistic'].loc['FL','fig']"
   ]
  },
  {
   "cell_type": "code",
   "execution_count": null,
   "metadata": {},
   "outputs": [],
   "source": [
    "global_info['invweibull'].loc['Italy','fig']"
   ]
  },
  {
   "cell_type": "markdown",
   "metadata": {},
   "source": [
    "## 6. Model Comparison"
   ]
  },
  {
   "cell_type": "markdown",
   "metadata": {},
   "source": [
    "Now, we need a way to compare the models to each other. We could try to look at every single plot and visually identify which of the models looks better. But that's not quantitative, and it's also not feasible for 7 models and 100 total regions.\n",
    "\n",
    "Luckily, we have already computed the RMSE, AIC, and BIC for each model fit for each region. These criteria characterize how closely the predictions match the data, and the smaller the values the better the fit. Unfortunately, the magnitudes of the RMSE, AIC, and BIC might be different for each region because of the large difference in the magnitude of case counts. To handle this, we can [standardize](https://en.wikipedia.org/wiki/Standard_score) the criteria scores across different regions.\n",
    "\n",
    "For example, to standardize the RMSE for a region, we first subtract the average RMSE for that region from each model's RMSE, and then divide by the standard deviation of the RMSE for the same region. This is accomplished with `compare_models`."
   ]
  },
  {
   "cell_type": "code",
   "execution_count": null,
   "metadata": {},
   "outputs": [],
   "source": [
    "def compare_models(fit_dict,criterion,standardize=True):\n",
    "    c = pd.DataFrame([m[1][criterion] for m in fit_dict.items()],index=fit_dict.keys())\n",
    "    if standardize:\n",
    "        c = (c-c.mean())/c.std()\n",
    "    return c.T"
   ]
  },
  {
   "cell_type": "markdown",
   "metadata": {},
   "source": [
    "Now we can see the standardized RMSE scores for both states and countries. Note that for each region, a positive score means that model was worse than the other models. A negative score means that the model was better than the rest for that region. A score of 0 means that the model was exactly average compared to the rest (for that region). Here's what the standardized RMSE dataframe looks like for a few states:"
   ]
  },
  {
   "cell_type": "code",
   "execution_count": null,
   "metadata": {
    "jupyter": {
     "source_hidden": true
    }
   },
   "outputs": [],
   "source": [
    "state_rmses = compare_models(state_info,'rmse',standardize=True)\n",
    "state_rmses.head(3)"
   ]
  },
  {
   "cell_type": "markdown",
   "metadata": {},
   "source": [
    "Again, the best model for a region is the one with the most negative standardized score. Here's what the same analysis looks like for a few countries:"
   ]
  },
  {
   "cell_type": "code",
   "execution_count": null,
   "metadata": {
    "jupyter": {
     "source_hidden": true
    }
   },
   "outputs": [],
   "source": [
    "global_rmses = compare_models(global_info,'rmse')\n",
    "global_rmses.head(3)"
   ]
  },
  {
   "cell_type": "markdown",
   "metadata": {},
   "source": [
    "Clearly, different models do better for different regions. We can get a sense of how well each model did by plotting the distribution of standardized scores with a [violin plot](https://en.wikipedia.org/wiki/Violin_plot). For this analysis we focus only on the RMSE, because it's the easiest to interpret.\n",
    "\n",
    "To reiterate, what we're looking for is a model with the lowest standardized RMSE scores for as many states and countries as possible."
   ]
  },
  {
   "cell_type": "code",
   "execution_count": null,
   "metadata": {},
   "outputs": [],
   "source": [
    "cols = pc.DEFAULT_PLOTLY_COLORS\n",
    "\n",
    "\n",
    "fig = make_subplots(rows=2, cols=1)\n",
    "label = '%{customdata}: %{y:.2f}<extra></extra>'\n",
    "\n",
    "for i,m in enumerate(rmse.columns):\n",
    "    fig.add_trace(go.Violin(y=state_rmses[m], name=m, box_visible=False, meanline_visible=True, bandwidth=0.2,\n",
    "                            hoveron='points', customdata = state_rmses.index.values,hovertemplate=label,\n",
    "                            points='all',jitter=0.1,pointpos=0,line_color=cols[i]),row=1,col=1)\n",
    "    \n",
    "    fig.add_trace(go.Violin(y=global_rmses[m],name=m,box_visible=False,meanline_visible=True, bandwidth=0.2,\n",
    "                            hoveron='points', customdata = global_rmses.index.values,hovertemplate=label,\n",
    "                            points='all',jitter=0.1,pointpos=0,line_color=cols[i]),row=2,col=1)\n",
    "    \n",
    "\n",
    "fig.update_layout(width=800,height=700,title_text=\"Comparison of Models on State & Country Data\",title_x=0.5,showlegend=False)\n",
    "fig.update_xaxes(showline=True, linewidth=1.5, linecolor='black', mirror=True)\n",
    "fig.update_yaxes(showline=True, linewidth=1.5, linecolor='black', mirror=True)\n",
    "fig.update_yaxes(title=\"Standard RMSE Score by State\",row=1,col=1)\n",
    "fig.update_yaxes(title=\"Standard RMSE Score by Country\",row=2,col=1)\n",
    "fig.show()\n"
   ]
  },
  {
   "cell_type": "markdown",
   "metadata": {
    "jupyter": {
     "source_hidden": true
    }
   },
   "source": [
    "What's the verdict? Out of the symmetric models, the hyperbolic secant model is the worst, with high RMSE values for almost every region. The normal and logistic models seem decent. But the asymmetric models are significantly better! The skew normal model has a lower error than the normal model for every region, and the Richards model has a lower error than the logistic model. This lends credibility to the hypothesis that incidence data is not symmetric, and generally follows a right-skew distribution.\n",
    "\n",
    "Both the skew normal and the Richards model seem good for a large number of regions, but for a few regions the skew normal model is significantly worse. Let's quantify the comparison by finding the average and median scores for each model:"
   ]
  },
  {
   "cell_type": "markdown",
   "metadata": {},
   "source": [
    "## 7. Visualizing Results"
   ]
  },
  {
   "cell_type": "code",
   "execution_count": null,
   "metadata": {},
   "outputs": [],
   "source": [
    "def show_region(dataset,model,region,month):\n",
    "    \n",
    "    if dataset=='state':\n",
    "        df = state_info\n",
    "        cum = states_cumulative\n",
    "        x = x_data\n",
    "    elif dataset=='country':\n",
    "        df = global_info\n",
    "        cum = global_cumulative\n",
    "        x = x_data_global\n",
    "    \n",
    "    start = pd.Timestamp(x.index.values[-1])\n",
    "    end = pd.to_datetime('2020-'+str(month)+'-28')\n",
    "    delta = (end-start).days\n",
    "    dates = [start+datetime.timedelta(n) for n in range(delta)]\n",
    "    dates_numeric = np.arange(x.values[-1],x.values[-1]+delta,1)\n",
    "    \n",
    "    params = df[model].loc[region,:].values[:-4]\n",
    "    y_pred = go.Scatter(name=model+' fit',x=dates,y=globals()[model](dates_numeric,*params),mode='lines',line=dict(dash=\"dash\"))\n",
    "    y_real = go.Scatter(name='actual cases to date',x=x.index,y=cum[region].values,mode='lines')\n",
    "    layout = dict(xaxis=dict(title=\"Day of Year\"),yaxis=dict(title=\"Cumulative Case Count in \"+region),\n",
    "                  width=700,height=400,margin=dict(t=30))\n",
    "    \n",
    "    fig = go.Figure([y_pred, y_real],layout=layout)\n",
    "    fig.add_shape(name='current',type=\"line\", x0=x.index[0], x1=x.index[0], y0=0, y1=params[0],\n",
    "                  line=dict(width=1,dash=\"dot\"))\n",
    "    \n",
    "    fig.update_xaxes(showgrid=True, showline=True, linewidth=1.5, linecolor='black', mirror=True)\n",
    "    fig.update_yaxes(showgrid=False, showline=True, linewidth=1.5, linecolor='black', mirror=True)\n",
    "    fig.show()\n"
   ]
  },
  {
   "cell_type": "code",
   "execution_count": null,
   "metadata": {},
   "outputs": [],
   "source": [
    "interact(show_region,dataset='state',model=list(state_info.keys()), \n",
    "                region=list(state_info.values())[0].index.sort_values().to_list(),\n",
    "                month=widgets.IntSlider(value=5,min=4,max=9,step=1,description='thru month',continuous_update=False));"
   ]
  },
  {
   "cell_type": "code",
   "execution_count": null,
   "metadata": {},
   "outputs": [],
   "source": [
    "interact(show_region,dataset='country',model=list(global_info.keys()), \n",
    "                region=list(global_info.values())[0].index.sort_values().to_list(),\n",
    "                month=widgets.IntSlider(value=5,min=4,max=9,step=1,description='thru month',continuous_update=False));"
   ]
  },
  {
   "cell_type": "code",
   "execution_count": null,
   "metadata": {},
   "outputs": [],
   "source": [
    "%%html\n",
    "<script src=\"https://cdn.rawgit.com/parente/4c3e6936d0d7a46fd071/raw/65b816fb9bdd3c28b4ddf3af602bfd6015486383/code_toggle.js\"></script>"
   ]
  },
  {
   "cell_type": "code",
   "execution_count": null,
   "metadata": {},
   "outputs": [],
   "source": []
  }
 ],
 "metadata": {
  "jupyter": {
   "source_hidden": true
  },
  "kernelspec": {
   "display_name": "Python 3",
   "language": "python",
   "name": "python3"
  },
  "language_info": {
   "codemirror_mode": {
    "name": "ipython",
    "version": 3
   },
   "file_extension": ".py",
   "mimetype": "text/x-python",
   "name": "python",
   "nbconvert_exporter": "python",
   "pygments_lexer": "ipython3",
   "version": "3.7.6"
  }
 },
 "nbformat": 4,
 "nbformat_minor": 4
}
