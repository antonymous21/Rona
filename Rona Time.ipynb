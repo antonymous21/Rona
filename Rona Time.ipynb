{
 "cells": [
  {
   "cell_type": "markdown",
   "metadata": {},
   "source": [
    "# Regression Analysis of Coronavirus Data\n",
    "### Anton Zverev\n",
    "\n",
    "Last edited: 04/17/20\n",
    "\n",
    "\n",
    "."
   ]
  },
  {
   "cell_type": "code",
   "execution_count": 1,
   "metadata": {},
   "outputs": [
    {
     "data": {
      "text/html": [
       "        <script type=\"text/javascript\">\n",
       "        window.PlotlyConfig = {MathJaxConfig: 'local'};\n",
       "        if (window.MathJax) {MathJax.Hub.Config({SVG: {font: \"STIX-Web\"}});}\n",
       "        if (typeof require !== 'undefined') {\n",
       "        require.undef(\"plotly\");\n",
       "        requirejs.config({\n",
       "            paths: {\n",
       "                'plotly': ['https://cdn.plot.ly/plotly-latest.min']\n",
       "            }\n",
       "        });\n",
       "        require(['plotly'], function(Plotly) {\n",
       "            window._Plotly = Plotly;\n",
       "        });\n",
       "        }\n",
       "        </script>\n",
       "        "
      ]
     },
     "metadata": {},
     "output_type": "display_data"
    },
    {
     "data": {
      "text/html": [
       "        <script type=\"text/javascript\">\n",
       "        window.PlotlyConfig = {MathJaxConfig: 'local'};\n",
       "        if (window.MathJax) {MathJax.Hub.Config({SVG: {font: \"STIX-Web\"}});}\n",
       "        if (typeof require !== 'undefined') {\n",
       "        require.undef(\"plotly\");\n",
       "        requirejs.config({\n",
       "            paths: {\n",
       "                'plotly': ['https://cdn.plot.ly/plotly-latest.min']\n",
       "            }\n",
       "        });\n",
       "        require(['plotly'], function(Plotly) {\n",
       "            window._Plotly = Plotly;\n",
       "        });\n",
       "        }\n",
       "        </script>\n",
       "        "
      ]
     },
     "metadata": {},
     "output_type": "display_data"
    }
   ],
   "source": [
    "import pandas as pd\n",
    "import numpy as np\n",
    "import inspect\n",
    "from scipy import stats\n",
    "from scipy import special\n",
    "from math import sqrt\n",
    "import time\n",
    "\n",
    "import matplotlib.pyplot as plt\n",
    "from scipy.optimize import least_squares\n",
    "import seaborn as sns\n",
    "\n",
    "import plotly.offline as py\n",
    "import plotly.express as px\n",
    "import plotly.graph_objects as go\n",
    "from plotly.subplots import make_subplots\n",
    "import cufflinks as cf\n",
    "cf.set_config_file(offline=True, sharing=False, theme='ggplot');"
   ]
  },
  {
   "cell_type": "markdown",
   "metadata": {},
   "source": [
    "# Data Importation & Cleaning"
   ]
  },
  {
   "cell_type": "markdown",
   "metadata": {},
   "source": [
    "First, import raw data:"
   ]
  },
  {
   "cell_type": "code",
   "execution_count": 2,
   "metadata": {},
   "outputs": [],
   "source": [
    "data_url_states = 'https://raw.githubusercontent.com/COVID19Tracking/covid-tracking-data/master/data/states_daily_4pm_et.csv'\n",
    "data_url_states_pop = 'https://people.sc.fsu.edu/~jburkardt/datasets/census/census_2010.txt'\n",
    "data_url_global = 'https://raw.githubusercontent.com/CSSEGISandData/COVID-19/master/csse_covid_19_data/csse_covid_19_time_series/time_series_covid19_confirmed_global.csv'\n",
    "data_url_global_pop = 'https://raw.githubusercontent.com/datasets/population/master/data/population.csv'\n",
    "filepath_state_quar = 'data/States_Quarantine_Dates.xlsx' # tabulated manually from https://www.nga.org/coronavirus/#states\n",
    "filepath_global_quar = 'data/Global_Quarantine_Dates.csv' # downloaded from https://en.wikipedia.org/wiki/National_responses_to_the_2019–20_coronavirus_pandemic\n",
    "\n",
    "raw_df_states = pd.read_csv(data_url_states) # state-by-state data\n",
    "raw_df_global = pd.read_csv(data_url_global) # country-by-country data\n",
    "global_populations = pd.read_csv(data_url_global_pop) # world population data\n",
    "state_populations = pd.read_fwf(data_url_states_pop,header=None,thousands=',') # state population data\n",
    "#state_actions = pd.read_excel('data/CoronavirusStateActionsChart_10April2020.xlsx') # state law data\n",
    "global_quarantines = pd.read_csv(filepath_global_quar) # country quarantine date data\n",
    "state_quarantines = pd.read_excel(filepath_state_quar) # state quarantine date data\n"
   ]
  },
  {
   "cell_type": "markdown",
   "metadata": {},
   "source": [
    "The population dataframes also needs to be cleaned up a little:"
   ]
  },
  {
   "cell_type": "code",
   "execution_count": 3,
   "metadata": {},
   "outputs": [],
   "source": [
    "global_populations = global_populations[global_populations['Year']==2016]\n",
    "idx = global_populations[global_populations['Country Name']=='Afghanistan'].index.to_list()[0]\n",
    "global_populations = global_populations.loc[idx:,['Country Name','Value']]\n",
    "global_populations.rename(columns={'Country Name':'Country','Value':'pop'},inplace=True)\n",
    "global_populations.set_index('Country',inplace=True)"
   ]
  },
  {
   "cell_type": "code",
   "execution_count": 4,
   "metadata": {},
   "outputs": [],
   "source": [
    "state_populations.set_index(0,inplace=True)\n",
    "state_populations.rename(columns={1:'pop'},inplace=True)\n",
    "state_populations.index.rename('State',inplace=True)"
   ]
  },
  {
   "cell_type": "markdown",
   "metadata": {},
   "source": [
    "As do `global_quarantines`, and `state_quarantines`:"
   ]
  },
  {
   "cell_type": "code",
   "execution_count": 5,
   "metadata": {},
   "outputs": [],
   "source": [
    "global_quarantines.columns = global_quarantines.iloc[0,:]\n",
    "global_quarantines.drop(index=0,inplace=True)\n",
    "global_quarantines = global_quarantines[['Country','Start date']]\n",
    "global_quarantines.drop(global_quarantines.tail(1).index,inplace=True)\n",
    "global_quarantines['Start date'] = global_quarantines['Start date'].str.extract(pat='(.+)\\[')\n",
    "global_quarantines['Start date'] = pd.to_datetime(global_quarantines['Start date'], format='%Y-%m-%d')\n",
    "global_quarantines['Start date'] = global_quarantines['Start date'].dt.dayofyear\n",
    "global_quarantines = global_quarantines.groupby(by='Country').agg('median')\n",
    "global_quarantines.rename(columns={'Start date':'Q_day'},inplace=True)"
   ]
  },
  {
   "cell_type": "code",
   "execution_count": 6,
   "metadata": {},
   "outputs": [],
   "source": [
    "state_quarantines.set_index('State',inplace=True)\n",
    "state_quarantines['Q_day'] = (state_quarantines['Declared Quarantine'].dt.dayofyear +\n",
    "       state_quarantines['Declared State of Emergency'].dt.dayofyear) / 2\n"
   ]
  },
  {
   "cell_type": "markdown",
   "metadata": {},
   "source": [
    "I will reformat the global data into a new dataframe `global_cumulative` so that it's easier to use and intepret. I'll also only focus on the top 40 most affected countries."
   ]
  },
  {
   "cell_type": "code",
   "execution_count": 7,
   "metadata": {},
   "outputs": [
    {
     "data": {
      "text/html": [
       "<div>\n",
       "<style scoped>\n",
       "    .dataframe tbody tr th:only-of-type {\n",
       "        vertical-align: middle;\n",
       "    }\n",
       "\n",
       "    .dataframe tbody tr th {\n",
       "        vertical-align: top;\n",
       "    }\n",
       "\n",
       "    .dataframe thead th {\n",
       "        text-align: right;\n",
       "    }\n",
       "</style>\n",
       "<table border=\"1\" class=\"dataframe\">\n",
       "  <thead>\n",
       "    <tr style=\"text-align: right;\">\n",
       "      <th></th>\n",
       "      <th>United States</th>\n",
       "      <th>Spain</th>\n",
       "      <th>Italy</th>\n",
       "      <th>France</th>\n",
       "      <th>Germany</th>\n",
       "      <th>United Kingdom</th>\n",
       "      <th>China</th>\n",
       "      <th>Iran</th>\n",
       "      <th>Turkey</th>\n",
       "      <th>Belgium</th>\n",
       "      <th>...</th>\n",
       "      <th>Singapore</th>\n",
       "      <th>Belarus</th>\n",
       "      <th>Ukraine</th>\n",
       "      <th>Qatar</th>\n",
       "      <th>Dominican Republic</th>\n",
       "      <th>Panama</th>\n",
       "      <th>Luxembourg</th>\n",
       "      <th>Finland</th>\n",
       "      <th>Colombia</th>\n",
       "      <th>Egypt</th>\n",
       "    </tr>\n",
       "    <tr>\n",
       "      <th>date</th>\n",
       "      <th></th>\n",
       "      <th></th>\n",
       "      <th></th>\n",
       "      <th></th>\n",
       "      <th></th>\n",
       "      <th></th>\n",
       "      <th></th>\n",
       "      <th></th>\n",
       "      <th></th>\n",
       "      <th></th>\n",
       "      <th></th>\n",
       "      <th></th>\n",
       "      <th></th>\n",
       "      <th></th>\n",
       "      <th></th>\n",
       "      <th></th>\n",
       "      <th></th>\n",
       "      <th></th>\n",
       "      <th></th>\n",
       "      <th></th>\n",
       "      <th></th>\n",
       "    </tr>\n",
       "  </thead>\n",
       "  <tbody>\n",
       "    <tr>\n",
       "      <th>2020-04-16</th>\n",
       "      <td>667801</td>\n",
       "      <td>184948</td>\n",
       "      <td>168941</td>\n",
       "      <td>147091</td>\n",
       "      <td>137698</td>\n",
       "      <td>104145</td>\n",
       "      <td>83403</td>\n",
       "      <td>77995</td>\n",
       "      <td>74193</td>\n",
       "      <td>34809</td>\n",
       "      <td>...</td>\n",
       "      <td>4427</td>\n",
       "      <td>4204</td>\n",
       "      <td>4161</td>\n",
       "      <td>4103</td>\n",
       "      <td>3755</td>\n",
       "      <td>3751</td>\n",
       "      <td>3444</td>\n",
       "      <td>3369</td>\n",
       "      <td>3233</td>\n",
       "      <td>2673</td>\n",
       "    </tr>\n",
       "    <tr>\n",
       "      <th>2020-04-15</th>\n",
       "      <td>636350</td>\n",
       "      <td>177644</td>\n",
       "      <td>165155</td>\n",
       "      <td>134582</td>\n",
       "      <td>134753</td>\n",
       "      <td>99483</td>\n",
       "      <td>83356</td>\n",
       "      <td>76389</td>\n",
       "      <td>69392</td>\n",
       "      <td>33573</td>\n",
       "      <td>...</td>\n",
       "      <td>3699</td>\n",
       "      <td>3728</td>\n",
       "      <td>3764</td>\n",
       "      <td>3711</td>\n",
       "      <td>3614</td>\n",
       "      <td>3574</td>\n",
       "      <td>3373</td>\n",
       "      <td>3237</td>\n",
       "      <td>3105</td>\n",
       "      <td>2505</td>\n",
       "    </tr>\n",
       "    <tr>\n",
       "      <th>2020-04-14</th>\n",
       "      <td>607670</td>\n",
       "      <td>172541</td>\n",
       "      <td>162488</td>\n",
       "      <td>131361</td>\n",
       "      <td>131359</td>\n",
       "      <td>94845</td>\n",
       "      <td>83306</td>\n",
       "      <td>74877</td>\n",
       "      <td>65111</td>\n",
       "      <td>31119</td>\n",
       "      <td>...</td>\n",
       "      <td>3252</td>\n",
       "      <td>3281</td>\n",
       "      <td>3372</td>\n",
       "      <td>3428</td>\n",
       "      <td>3286</td>\n",
       "      <td>3472</td>\n",
       "      <td>3307</td>\n",
       "      <td>3161</td>\n",
       "      <td>2979</td>\n",
       "      <td>2350</td>\n",
       "    </tr>\n",
       "  </tbody>\n",
       "</table>\n",
       "<p>3 rows × 50 columns</p>\n",
       "</div>"
      ],
      "text/plain": [
       "            United States   Spain   Italy  France  Germany  United Kingdom  \\\n",
       "date                                                                         \n",
       "2020-04-16         667801  184948  168941  147091   137698          104145   \n",
       "2020-04-15         636350  177644  165155  134582   134753           99483   \n",
       "2020-04-14         607670  172541  162488  131361   131359           94845   \n",
       "\n",
       "            China   Iran  Turkey  Belgium  ...  Singapore  Belarus  Ukraine  \\\n",
       "date                                       ...                                \n",
       "2020-04-16  83403  77995   74193    34809  ...       4427     4204     4161   \n",
       "2020-04-15  83356  76389   69392    33573  ...       3699     3728     3764   \n",
       "2020-04-14  83306  74877   65111    31119  ...       3252     3281     3372   \n",
       "\n",
       "            Qatar  Dominican Republic  Panama  Luxembourg  Finland  Colombia  \\\n",
       "date                                                                           \n",
       "2020-04-16   4103                3755    3751        3444     3369      3233   \n",
       "2020-04-15   3711                3614    3574        3373     3237      3105   \n",
       "2020-04-14   3428                3286    3472        3307     3161      2979   \n",
       "\n",
       "            Egypt  \n",
       "date               \n",
       "2020-04-16   2673  \n",
       "2020-04-15   2505  \n",
       "2020-04-14   2350  \n",
       "\n",
       "[3 rows x 50 columns]"
      ]
     },
     "execution_count": 7,
     "metadata": {},
     "output_type": "execute_result"
    }
   ],
   "source": [
    "raw_df_global.drop(columns=['Province/State','Lat','Long'],inplace=True)\n",
    "raw_df_global.replace('US', 'United States',inplace=True)\n",
    "raw_df_global = raw_df_global.groupby(by='Country/Region',as_index=True).agg(sum)\n",
    "top_countries = raw_df_global.iloc[:,-1].sort_values(ascending=False).index[:50] # find top 50 countries\n",
    "\n",
    "global_cumulative = raw_df_global.loc[top_countries,:].T # only take top countries, and transpose\n",
    "global_cumulative.index.rename('date',inplace=True)\n",
    "global_cumulative.columns.name = None\n",
    "global_cumulative.index = pd.to_datetime(global_cumulative.index, format='%m/%d/%y') # fix timestamp\n",
    "global_cumulative.sort_values(by='date',ascending=False,inplace=True)\n",
    "\n",
    "global_cumulative.head(3)"
   ]
  },
  {
   "cell_type": "markdown",
   "metadata": {},
   "source": [
    "The raw state data is in a format that's hard to use, so I will convert it into a dataframe `states_cumulative` indexed by the date, with a separate column for each state:"
   ]
  },
  {
   "cell_type": "code",
   "execution_count": 8,
   "metadata": {},
   "outputs": [],
   "source": [
    "states_list = raw_df_states['state'].unique() # list of state abbreviations (50 states + 5 territories + DC)\n",
    "\n",
    "raw_df_states['date'] = pd.to_datetime(raw_df_states['date'], format='%Y%m%d') # fix timestamp\n",
    "raw_df_states = raw_df_states[['date','state','positive']] #extract the columns I care about"
   ]
  },
  {
   "cell_type": "code",
   "execution_count": 9,
   "metadata": {},
   "outputs": [
    {
     "data": {
      "text/html": [
       "<div>\n",
       "<style scoped>\n",
       "    .dataframe tbody tr th:only-of-type {\n",
       "        vertical-align: middle;\n",
       "    }\n",
       "\n",
       "    .dataframe tbody tr th {\n",
       "        vertical-align: top;\n",
       "    }\n",
       "\n",
       "    .dataframe thead th {\n",
       "        text-align: right;\n",
       "    }\n",
       "</style>\n",
       "<table border=\"1\" class=\"dataframe\">\n",
       "  <thead>\n",
       "    <tr style=\"text-align: right;\">\n",
       "      <th></th>\n",
       "      <th>AK</th>\n",
       "      <th>AL</th>\n",
       "      <th>AR</th>\n",
       "      <th>AS</th>\n",
       "      <th>AZ</th>\n",
       "      <th>CA</th>\n",
       "      <th>CO</th>\n",
       "      <th>CT</th>\n",
       "      <th>DC</th>\n",
       "      <th>DE</th>\n",
       "      <th>...</th>\n",
       "      <th>TN</th>\n",
       "      <th>TX</th>\n",
       "      <th>UT</th>\n",
       "      <th>VA</th>\n",
       "      <th>VI</th>\n",
       "      <th>VT</th>\n",
       "      <th>WA</th>\n",
       "      <th>WI</th>\n",
       "      <th>WV</th>\n",
       "      <th>WY</th>\n",
       "    </tr>\n",
       "    <tr>\n",
       "      <th>date</th>\n",
       "      <th></th>\n",
       "      <th></th>\n",
       "      <th></th>\n",
       "      <th></th>\n",
       "      <th></th>\n",
       "      <th></th>\n",
       "      <th></th>\n",
       "      <th></th>\n",
       "      <th></th>\n",
       "      <th></th>\n",
       "      <th></th>\n",
       "      <th></th>\n",
       "      <th></th>\n",
       "      <th></th>\n",
       "      <th></th>\n",
       "      <th></th>\n",
       "      <th></th>\n",
       "      <th></th>\n",
       "      <th></th>\n",
       "      <th></th>\n",
       "      <th></th>\n",
       "    </tr>\n",
       "  </thead>\n",
       "  <tbody>\n",
       "    <tr>\n",
       "      <th>2020-04-16</th>\n",
       "      <td>300.0</td>\n",
       "      <td>4345.0</td>\n",
       "      <td>1620.0</td>\n",
       "      <td>0.0</td>\n",
       "      <td>4234.0</td>\n",
       "      <td>26182.0</td>\n",
       "      <td>8280.0</td>\n",
       "      <td>15884.0</td>\n",
       "      <td>2350.0</td>\n",
       "      <td>2075.0</td>\n",
       "      <td>...</td>\n",
       "      <td>6262.0</td>\n",
       "      <td>16455.0</td>\n",
       "      <td>2683.0</td>\n",
       "      <td>6889.0</td>\n",
       "      <td>51.0</td>\n",
       "      <td>768.0</td>\n",
       "      <td>10783.0</td>\n",
       "      <td>3875.0</td>\n",
       "      <td>739.0</td>\n",
       "      <td>296.0</td>\n",
       "    </tr>\n",
       "    <tr>\n",
       "      <th>2020-04-15</th>\n",
       "      <td>293.0</td>\n",
       "      <td>4113.0</td>\n",
       "      <td>1569.0</td>\n",
       "      <td>0.0</td>\n",
       "      <td>3962.0</td>\n",
       "      <td>24424.0</td>\n",
       "      <td>7941.0</td>\n",
       "      <td>14755.0</td>\n",
       "      <td>2197.0</td>\n",
       "      <td>2014.0</td>\n",
       "      <td>...</td>\n",
       "      <td>6079.0</td>\n",
       "      <td>15492.0</td>\n",
       "      <td>2542.0</td>\n",
       "      <td>6500.0</td>\n",
       "      <td>51.0</td>\n",
       "      <td>759.0</td>\n",
       "      <td>10694.0</td>\n",
       "      <td>3721.0</td>\n",
       "      <td>702.0</td>\n",
       "      <td>287.0</td>\n",
       "    </tr>\n",
       "    <tr>\n",
       "      <th>2020-04-14</th>\n",
       "      <td>285.0</td>\n",
       "      <td>3876.0</td>\n",
       "      <td>1480.0</td>\n",
       "      <td>0.0</td>\n",
       "      <td>3806.0</td>\n",
       "      <td>23338.0</td>\n",
       "      <td>7691.0</td>\n",
       "      <td>13989.0</td>\n",
       "      <td>2058.0</td>\n",
       "      <td>1761.0</td>\n",
       "      <td>...</td>\n",
       "      <td>5823.0</td>\n",
       "      <td>14624.0</td>\n",
       "      <td>2412.0</td>\n",
       "      <td>6171.0</td>\n",
       "      <td>51.0</td>\n",
       "      <td>752.0</td>\n",
       "      <td>10538.0</td>\n",
       "      <td>3555.0</td>\n",
       "      <td>640.0</td>\n",
       "      <td>275.0</td>\n",
       "    </tr>\n",
       "  </tbody>\n",
       "</table>\n",
       "<p>3 rows × 56 columns</p>\n",
       "</div>"
      ],
      "text/plain": [
       "               AK      AL      AR   AS      AZ       CA      CO       CT  \\\n",
       "date                                                                       \n",
       "2020-04-16  300.0  4345.0  1620.0  0.0  4234.0  26182.0  8280.0  15884.0   \n",
       "2020-04-15  293.0  4113.0  1569.0  0.0  3962.0  24424.0  7941.0  14755.0   \n",
       "2020-04-14  285.0  3876.0  1480.0  0.0  3806.0  23338.0  7691.0  13989.0   \n",
       "\n",
       "                DC      DE  ...      TN       TX      UT      VA    VI     VT  \\\n",
       "date                        ...                                                 \n",
       "2020-04-16  2350.0  2075.0  ...  6262.0  16455.0  2683.0  6889.0  51.0  768.0   \n",
       "2020-04-15  2197.0  2014.0  ...  6079.0  15492.0  2542.0  6500.0  51.0  759.0   \n",
       "2020-04-14  2058.0  1761.0  ...  5823.0  14624.0  2412.0  6171.0  51.0  752.0   \n",
       "\n",
       "                 WA      WI     WV     WY  \n",
       "date                                       \n",
       "2020-04-16  10783.0  3875.0  739.0  296.0  \n",
       "2020-04-15  10694.0  3721.0  702.0  287.0  \n",
       "2020-04-14  10538.0  3555.0  640.0  275.0  \n",
       "\n",
       "[3 rows x 56 columns]"
      ]
     },
     "execution_count": 9,
     "metadata": {},
     "output_type": "execute_result"
    }
   ],
   "source": [
    "states_cumulative = raw_df_states[raw_df_states['state']=='AK'][['date','positive']]\n",
    "states_cumulative.reset_index(drop=True,inplace=True)\n",
    "\n",
    "for s in states_list:\n",
    "    state_data = raw_df_states[raw_df_states['state']==s]['positive']\n",
    "    states_cumulative[s] = state_data.reset_index(drop=True)\n",
    "\n",
    "states_cumulative.set_index('date',inplace=True) # index by date\n",
    "states_cumulative.drop(columns='positive',inplace=True)\n",
    "states_cumulative.fillna(value=0,inplace=True) # nan values will mess up the regression later\n",
    "\n",
    "states_cumulative.head(3)"
   ]
  },
  {
   "cell_type": "markdown",
   "metadata": {},
   "source": [
    "# Data Visualization"
   ]
  },
  {
   "cell_type": "markdown",
   "metadata": {},
   "source": [
    "Besides the number of cumulative cases, it will also be helpful to look at the case increase per day. This is defined as the difference between the cumulative case counts on consecutive days. I'll store this data in `states_inc` and `global_inc`, and a smoothed (rolling 3-day average) version of the same data in `states_inc_rolling3` and `global_inc_rolling3`."
   ]
  },
  {
   "cell_type": "code",
   "execution_count": 10,
   "metadata": {},
   "outputs": [],
   "source": [
    "states_inc = states_cumulative.diff(periods=-1)\n",
    "states_inc_rolling3 = (states_inc.shift(-1)+states_inc.shift(1)+states_inc)/3\n",
    "states_inc_rolling3.dropna(inplace=True)\n",
    "\n",
    "global_inc = global_cumulative.diff(periods=-1)\n",
    "global_inc_rolling3 = (global_inc.shift(-1)+global_inc.shift(1)+global_inc)/3\n",
    "global_inc_rolling3.dropna(inplace=True)"
   ]
  },
  {
   "cell_type": "markdown",
   "metadata": {},
   "source": [
    "For regression analysis, we will need the dependent variable to be numeric, so I create `x_data`, which is the number of days that have passed since the beinning of the year. `x_data_global` is the same thing for the global dataframe."
   ]
  },
  {
   "cell_type": "code",
   "execution_count": 11,
   "metadata": {},
   "outputs": [],
   "source": [
    "x_data = states_cumulative.index.to_series().dt.dayofyear\n",
    "x_data_global = global_cumulative.index.to_series().dt.dayofyear"
   ]
  },
  {
   "cell_type": "markdown",
   "metadata": {},
   "source": [
    "Let's now visualize some of our data! States first:"
   ]
  },
  {
   "cell_type": "code",
   "execution_count": 18,
   "metadata": {
    "scrolled": true
   },
   "outputs": [
    {
     "data": {
      "image/png": "[encoded data removed]",
      "text/plain": [
       "<Figure size 936x360 with 2 Axes>"
      ]
     },
     "metadata": {
      "needs_background": "light"
     },
     "output_type": "display_data"
    }
   ],
   "source": [
    "subset = ['CA','NY','NJ']\n",
    "\n",
    "fig, ax = plt.subplots(1,2,figsize=(13,5))\n",
    "ax[0].plot(x_data,states_cumulative[subset]);\n",
    "ax[0].set(xlabel='Day of Year',ylabel='Number of Total Cases',title='Cumulative Incidence Over Time')\n",
    "ax[0].legend(subset)\n",
    "\n",
    "ax[1].plot(x_data[states_inc_rolling3.index],states_inc_rolling3[subset]);\n",
    "ax[1].set(xlabel='Days of Year',ylabel='Number of New Cases',title='Incidence Over Time')\n",
    "ax[1].legend(subset)\n",
    "\n",
    "plt.show()"
   ]
  },
  {
   "cell_type": "markdown",
   "metadata": {},
   "source": [
    "And we can do the same for countries:"
   ]
  },
  {
   "cell_type": "code",
   "execution_count": 17,
   "metadata": {},
   "outputs": [
    {
     "data": {
      "image/png": "[encoded data removed]",
      "text/plain": [
       "<Figure size 936x360 with 2 Axes>"
      ]
     },
     "metadata": {
      "needs_background": "light"
     },
     "output_type": "display_data"
    }
   ],
   "source": [
    "subset = global_cumulative.columns[:3]\n",
    "\n",
    "fig, ax = plt.subplots(1,2,figsize=(13,5))\n",
    "ax[0].plot(x_data_global,global_cumulative[subset]);\n",
    "ax[0].set(xlabel='Day of Year',ylabel='Number of Total Cases',title='Cumulative Incidence Over Time')\n",
    "ax[0].legend(subset)\n",
    "\n",
    "ax[1].plot(x_data_global[global_inc_rolling3.index],global_inc_rolling3[subset]);\n",
    "ax[1].set(xlabel='Days of Year',ylabel='Number of New Cases',title='Incidence Over Time')\n",
    "ax[1].legend(subset)\n",
    "\n",
    "plt.show()"
   ]
  },
  {
   "cell_type": "markdown",
   "metadata": {},
   "source": [
    "# Disease Modeling Basics"
   ]
  },
  {
   "cell_type": "markdown",
   "metadata": {},
   "source": [
    "Before we go further let's clarify some terminology.\n",
    "\n",
    ">**(Daily) incidence**: the number of new cases that are diagnosed every day. This represents how many new people are becoming infected every day.\n",
    "\n",
    ">**Cumulative incidence**: the number of cumulative cases every day. This represents how many total people have been infected up until a certain day.\n",
    "\n",
    "The graphs we just plotted above were the cumulative incidence over time and the incidence over time, respectively. They are two different representations of the same data; the former is just the sum of the latter. Mathematically speaking, the cumulative incidence at a certain day is the integral of the incidence up to that day. Equivalently, the incidence at a certain day is the derivative of the cumulative incidence on that day. This is important to understand for what follows."
   ]
  },
  {
   "cell_type": "markdown",
   "metadata": {},
   "source": [
    "You may notice that the cumulative incidence plots look like they are increasing exponentially. In the early days of the outbreak, experts warned the public about such *exponential growth* (exponential growth of a quantity means that the quantity rises faster and faster each day).\n",
    "\n",
    "But wait! An important property of an exponential is that its derivative and integral is also an exponential. If the cumulative incidence over time were exponential, then the daily incidence would be, too. But you can clearly see in the graphs above that the daily incidence first increases and then decreases. It looks like a hump. In fact, the daily incidence somewhat resembles a *bell curve*.\n",
    "\n",
    "You may even have seen coronavirus graphs in the news that look something like this:"
   ]
  },
  {
   "cell_type": "code",
   "execution_count": 19,
   "metadata": {},
   "outputs": [
    {
     "data": {
      "image/png": "[encoded data removed]",
      "text/plain": [
       "<Figure size 432x288 with 1 Axes>"
      ]
     },
     "metadata": {
      "needs_background": "light"
     },
     "output_type": "display_data"
    }
   ],
   "source": [
    "normal_1 = stats.norm(loc = 5, scale = 1) # gaussian with mean = 5, std = 1\n",
    "normal_2 = stats.norm(loc = 10, scale = 3) # gaussian with mean = 10, std = 3\n",
    "x = np.arange(0,20,0.1)\n",
    "plt.plot(x,normal_1.pdf(x),x,normal_2.pdf(x)) # plot probability density functions\n",
    "plt.xlabel('Days')\n",
    "plt.ylabel('Number of new cases')\n",
    "plt.legend(['Fast spread','Slow spread'])\n",
    "plt.show()"
   ]
  },
  {
   "cell_type": "markdown",
   "metadata": {},
   "source": [
    "Look's familiar right? Well, it turns out that when disease outbreaks happen, the daily incidence generally looks hump-shaped like that. The basic explanation is that in the beginning, very few people have the disease, but each person can infect several other people. The incidence increases rapidly as each new infected person infects many more people. Eventually, the incidence reaches a maximum. Let's define it:\n",
    ">**Turning point**: the point at which the daily incidence reaches its maximum, or \"flattens out\".\n",
    "\n",
    "The turning point can be thought of as a saturation point, where so many people have been infected that the amount of new people available to be infected starts getting smaller. This process continues, and the daily incidence continues to decrease until it reaches zero: the outbreak is over.\n",
    "\n",
    "Great! We have a rough idea of what daily incidence numbers should look like over time. What should the cumulative incidence look like? Well, it's the integral of a bell curve:"
   ]
  },
  {
   "cell_type": "code",
   "execution_count": 20,
   "metadata": {},
   "outputs": [
    {
     "data": {
      "image/png": "[encoded data removed]",
      "text/plain": [
       "<Figure size 432x288 with 1 Axes>"
      ]
     },
     "metadata": {
      "needs_background": "light"
     },
     "output_type": "display_data"
    }
   ],
   "source": [
    "plt.plot(x,normal_1.cdf(x),x,normal_2.cdf(x)) # plot cumulative distribution functions\n",
    "plt.xlabel('Days')\n",
    "plt.ylabel('Number of cumulative cases')\n",
    "plt.legend(['Fast spread','Slow spread'])\n",
    "plt.show()"
   ]
  },
  {
   "cell_type": "markdown",
   "metadata": {},
   "source": [
    "We see that the cumulative incidence is S-shaped and monotonically increasing – first rapid growth, then slow growth that approaches a plateau. Depending on how fast the spread of the disease is, the curve can be steeper or shallower. Also notice that the turning point, which was the maximum on the daily incidence graph, is the inflection point on the cumulative indicence graph.\n",
    "\n",
    "Now, let's get more precise with our math. What we have illustrated above are actually examples of distributions of continous variables, with the following analogies:\n",
    ">Daily incidence can be thought of as a **probability density function (PDF)**, which we call $\\phi$\n",
    "\n",
    ">Cumulative incidence can be thought of as a **cumulative distribution function (CDF)**, which we call $\\Phi$\n",
    "\n",
    "Generally speaking, for any hump-shaped PDF, we will observe a sigmoidal (S-shaped) CDF."
   ]
  },
  {
   "cell_type": "markdown",
   "metadata": {},
   "source": [
    "# Types of Models"
   ]
  },
  {
   "cell_type": "markdown",
   "metadata": {},
   "source": [
    "The question now is the following: what mathematical function best describes our coronavirus data? We saw above that a bell curve seems like a reasonable guess for the PDF, but there might be other functions that look similar. So, we need to find a few reasonable functions and define their PDFs and CDFs.\n",
    "\n",
    "There are at least three mathematical functions that are suitable:"
   ]
  },
  {
   "cell_type": "markdown",
   "metadata": {},
   "source": [
    ">**Normal** distribution, also called a Gaussian distribution or bell-curve, defined by:\n",
    "\n",
    "$$ \\phi(t) = \\frac{N}{\\sigma \\sqrt{2 \\pi}} e^{-\\frac{1}{2}  (t-t_i)^2/\\sigma^2 } $$ \n",
    "$$ \\Phi(t) = \\frac{N}{2} + \\frac{N}{2} \\operatorname{erf}\\left(\\frac{t-t_i}{\\sigma \\sqrt{2}}\\right) $$\n",
    "\n",
    ">**Logistic** distribution, commonly used in biological modeling, defined by:\n",
    "\n",
    "$$ \\phi(t) = \\frac{N}{4s} \\operatorname{sech}^2 \\left( \\frac{t-t_i}{2s} \\right) $$ \n",
    "$$ \\Phi(t) = \\frac{N}{1 + e^{-(t-t_i)/s}} $$\n",
    "\n",
    ">**Hyperbolic secant** distribution, also called the Gudermannian distribution, defined by:\n",
    "\n",
    "$$ \\phi(t) = \\frac{N}{2} \\operatorname{sech} \\left( \\frac{\\pi (t-t_i)}{2s} \\right) $$ \n",
    "$$ \\Phi(t) = \\frac{2 N}{\\pi} \\operatorname{arctan} \\left(e^{(t-t_i)/s} \\right) $$\n",
    "\n",
    "where $N$ is the total number of people that will get infected, $t_i$ is the turning point, and $\\sigma$ and $s$ are measures of the spread of the PDF. The error function, $\\operatorname{erf}(x)$, is a special function that appears commonly in statistics but has no closed form.\n",
    "\n",
    "Let's visualize these three distributions for $N=1$ and $t_i=10$. The values of $\\sigma$ and $s$ aren't directly comparable between the distributions, so values might be different for each distribution."
   ]
  },
  {
   "cell_type": "code",
   "execution_count": 88,
   "metadata": {},
   "outputs": [
    {
     "data": {
      "image/png": "[encoded data removed]",
      "text/plain": [
       "<Figure size 936x360 with 2 Axes>"
      ]
     },
     "metadata": {
      "needs_background": "light"
     },
     "output_type": "display_data"
    }
   ],
   "source": [
    "logistic_1 = stats.logistic(loc=10,scale=1.8)\n",
    "gudermann_1 = stats.hypsecant(loc=10,scale=2.3)\n",
    "\n",
    "fig, ax = plt.subplots(1,2,figsize=(13,5))\n",
    "ax[0].plot(x,normal_2.pdf(x),'-',x,logistic_1.pdf(x),'--',x,gudermann_1.pdf(x),'r:') # plot probability density functions\n",
    "ax[0].set(xlabel='Days',ylabel='Probability density',title='PDF comparison')\n",
    "ax[0].legend(['Normal','Logistic','Sech'])\n",
    "\n",
    "ax[1].plot(x,normal_2.cdf(x),'-',x,logistic_1.cdf(x),'--',x,gudermann_1.cdf(x),'r:') # plot cumulative distribution functions\n",
    "ax[1].set(xlabel='Days',ylabel='Cumulative distribution',title='CDF comparison')\n",
    "ax[1].legend(['Normal','Logistic','Sech'])\n",
    "plt.show()"
   ]
  },
  {
   "cell_type": "markdown",
   "metadata": {},
   "source": [
    "You can see that the three distributions are very close to each other for this specific choice of parameters. The normal distribution has the thinnest tails, while the hyperbolic secant distribution has the thickest tails.\n",
    "\n",
    "These curves are great for describing the indicence of an idealized disease. But one potential problem is that they are perfectly *symmetric*, which means that the incidence increases just as quickly as it decreases. However, we don't necessarily know that to be the case. In fact, we might expect that the incidence should decrease *more slowly* than it increases, because towards the end of an outbreak it takes longer and longer to find new people to infect. This *right skew* is in fact what is observed in many epidemics.\n",
    "\n",
    "So, we may want to test some functions that are asymmetric. Luckily, there are some generalizations of the distributions described above that can introduce skew:"
   ]
  },
  {
   "cell_type": "markdown",
   "metadata": {},
   "source": [
    ">**Skew normal** distribution, defined by:\n",
    "\n",
    "$$ \\phi(t) = \\frac{N}{s \\sqrt{2 \\pi}} e^{-\\frac{1}{2} (t-t_i)^2/s^2 } \\left[ \\frac{1}{2} + \\frac{1}{2} \\operatorname{erf}\\left(\\alpha \\frac{t-t_i}{s \\sqrt{2}}\\right) \\right] $$ \n",
    "$$ \\Phi(t) = N \\left[ \\frac{1}{2} + \\frac{1}{2} \\operatorname{erf}\\left(\\frac{t-t_i}{\\sigma \\sqrt{2}}\\right) - 2 T \\left(\\frac{t-t_i}{s},\\alpha \\right) \\right] $$\n",
    "\n",
    ">**Richards** curve, a type of generalized logistic curve, defined by:\n",
    "\n",
    "$$ \\Phi(t) = \\frac{N}{\\left(1 + e^{-(t-t_i)/s-ln(a)} \\right)^{1/a}} $$\n",
    "\n",
    "where $\\alpha$ and $a$ are new parameters that describe the skewness. For a skew normal, Owen's T function, $T(h,\\alpha)$, is a special function that has no closed form."
   ]
  },
  {
   "cell_type": "code",
   "execution_count": 85,
   "metadata": {},
   "outputs": [
    {
     "data": {
      "image/png": "[encoded data removed]",
      "text/plain": [
       "<Figure size 936x360 with 2 Axes>"
      ]
     },
     "metadata": {
      "needs_background": "light"
     },
     "output_type": "display_data"
    }
   ],
   "source": [
    "richards_1 = stats.genlogistic(c=9,loc=4,scale=2.5)\n",
    "skewnorm_1 = stats.skewnorm(a=3,loc=7,scale=5)\n",
    "\n",
    "fig, ax = plt.subplots(1,2,figsize=(13,5))\n",
    "ax[0].plot(x,skewnorm_1.pdf(x),'-',x,richards_1.pdf(x),'--') # plot probability density functions\n",
    "ax[0].set(xlabel='Days',ylabel='Probability density',title='PDF comparison')\n",
    "ax[0].legend(['Skew normal','Richards'])\n",
    "\n",
    "ax[1].plot(x,skewnorm_1.cdf(x),'-',x,richards_1.cdf(x),'--') # plot cumulative distribution functions\n",
    "ax[1].set(xlabel='Days',ylabel='Cumulative distribution',title='CDF comparison')\n",
    "ax[1].legend(['Skew normal','Richards'])\n",
    "plt.show()"
   ]
  },
  {
   "cell_type": "markdown",
   "metadata": {},
   "source": [
    "Again, we see that the skew normal and the skew logistic (Richards) curves look pretty similar for the right choice of parameters. It's important to note that $\\alpha=0$ corresponds to a regular normal curve, and a higher value of $\\alpha$ indicates more right-skew. For the Richards curve, $a$ must always be positive and nonzero, but $a=1$ corresponds to a regular logistic curve, and a value  of $a$ closer to zero indicates more right-skew.\n",
    "\n",
    "We've now identified five different mathematical functions: normal, skew normal, hyperbolic secant, logistic, and Richards. We can now attempt to fit these to coronavirus case data.\n",
    "\n",
    "**Note**: theoretically there should be no difference whether you fit daily incidence data to a PDF or cumulative indicence data to a CDF. However, based on the initial graphs of real coronavirus data, you can see that daily incidence data is much less smooth. It has a significantly higher noise-to-signal ratio than the cumulative incidence data, so it will be more susceptible to overfitting and outlier influence. We should therefore perform our fits using the cumulative incidence data."
   ]
  },
  {
   "cell_type": "markdown",
   "metadata": {},
   "source": [
    "# Fitting the data"
   ]
  },
  {
   "cell_type": "markdown",
   "metadata": {},
   "source": [
    "First I need to define several helper functions.\n",
    "I create CDF and PDF functions which take two arguments: `x`, which is an array of the distributon parameters (`x=[N,mu,s]`), and `t`, which is an array of the time points. These functions all return the array of y values for that distribution at those time points."
   ]
  },
  {
   "cell_type": "code",
   "execution_count": 70,
   "metadata": {},
   "outputs": [],
   "source": [
    "def gaussian_cdf(t, N, t_i, s):\n",
    "    return (N/2 * (1 + special.erf((t - t_i)/(s*sqrt(2)))))\n",
    "\n",
    "def logistic_cdf(t, N, t_i, s):\n",
    "    return (N / (1 + np.exp(-(t - t_i)/s)))\n",
    "\n",
    "def gudermann_cdf(t, N, t_i, s):\n",
    "    return N * (2/np.pi) * np.arctan(np.exp((t-t_i)/s))\n",
    "\n",
    "def gauss_skew_cdf(t, N, mu, s, a):\n",
    "    return N*(gaussian_cdf(t,1,mu,s)-2*special.owens_t(((t-mu)/s),a))\n",
    "\n",
    "def richards_cdf(t, N, t_i, s, a):\n",
    "    return N / (1 + np.exp(np.log(a)-(t-t_i)*a/s))**(1/a)\n"
   ]
  },
  {
   "cell_type": "markdown",
   "metadata": {},
   "source": [
    "Next, I need a `regression` function that will fit my data to whichever model I specify. Here I use `scipy`'s least_squares function to find parameter weights that minimize the residuals. I also need a way of quantifying how closely my predictions match the actual data, so I define the root-mean-squared error `rmse`."
   ]
  },
  {
   "cell_type": "code",
   "execution_count": 178,
   "metadata": {},
   "outputs": [],
   "source": [
    "def get_params(model):\n",
    "    return list(inspect.signature(model).parameters.keys())[1:]\n",
    "\n",
    "def regression(model,x_test,y_test):\n",
    "    \n",
    "    def residual(x, t, y):\n",
    "        return model(t,*x) - y\n",
    "    \n",
    "    x0 = [y_test.max()*1.2,x_test.max()*0.8,1]\n",
    "    x_min = [y_test.max(),x_test.min(),0]\n",
    "    x_max = [np.inf,np.inf,np.inf]\n",
    "    if len(get_params(model)) == 4:\n",
    "        x_min.append(0)\n",
    "        if model.__name__ == 'gauss_skew_cdf':\n",
    "            x0.append(0.1)\n",
    "            x_max.append(10)\n",
    "        elif model.__name__ == 'richards_cdf':\n",
    "            x0.append(0.9)\n",
    "            x_max.append(1)\n",
    "    \n",
    "    res_lsq = least_squares(residual, x0, bounds=(x_min,x_max),\n",
    "            ftol=1e-10, xtol=1e-10, gtol=1e-10, loss='linear', args=(x_test, y_test))\n",
    "    return res_lsq.x # returns array of parameter values\n",
    "\n",
    "def rmse(y,y_hat):\n",
    "    return np.sqrt(np.mean((y-y_hat)**2))"
   ]
  },
  {
   "cell_type": "markdown",
   "metadata": {},
   "source": [
    "Finally, I define the function `fit_data` to iterate over every state or country and run `regression` on that region's case vs. time data. This function returns a dataframe with the predicted values of the parameters $N$, $\\mu$, and $s$ for each region, as well as the RMSE. The dataframe also includes a plot comparing the model to the actual data for each region. "
   ]
  },
  {
   "cell_type": "code",
   "execution_count": 179,
   "metadata": {},
   "outputs": [],
   "source": [
    "def fit_data(df,regions,region_type,model,x_test):\n",
    "    param_names = get_params(model)\n",
    "    param_vals = [[] for i in range(len(param_names))]\n",
    "    #N_vals = []\n",
    "    #mu_vals = []\n",
    "    #s_vals = []\n",
    "    rmse_vals = []\n",
    "    rmse_scaled_vals = []\n",
    "    figs = []\n",
    "    for item in regions:\n",
    "        y_test = df[item].values\n",
    "        params = regression(model,x_test,y_test)\n",
    "        [param_vals[i].append(params[i]) for i in range(len(param_names))]\n",
    "        #N_vals.append(params[0])\n",
    "        #mu_vals.append(params[1])\n",
    "        #s_vals.append(params[2])\n",
    "        y_pred = model(x_test,*params)\n",
    "        rmse_vals.append(rmse(y_test,y_pred))\n",
    "        rmse_scaled_vals.append(rmse(y_test,y_pred)/max(y_test.max(),1))\n",
    "\n",
    "        f = plt.figure()\n",
    "        plt.plot(x_test,y_pred,'--')\n",
    "        plt.plot(x_test,y_test)\n",
    "        plt.xlabel('Day of Year')\n",
    "        plt.ylabel('Cumulative Case Count')\n",
    "        plt.title('Cases in '+item)\n",
    "        plt.legend(['Model Fit','Actual Numbers'])\n",
    "        figs.append(f)\n",
    "        plt.close(f)\n",
    "        \n",
    "    fit_info = pd.DataFrame(index=regions,data={param_names[i]:param_vals[i] for i in range(len(param_names))})\n",
    "    #fit_info['t_i'] = \n",
    "    fit_info['fig'] = figs\n",
    "    fit_info['rmse'] = rmse_vals\n",
    "    fit_info['rmse_scaled'] = rmse_scaled_vals\n",
    "    fit_info.index.rename(region_type,inplace=True)\n",
    "    fit_info.sort_values(by='N',ascending=False,inplace=True)\n",
    "    \n",
    "    return fit_info"
   ]
  },
  {
   "cell_type": "markdown",
   "metadata": {},
   "source": [
    "Now I can go ahead and call `fit_data` on both my state data and my country data."
   ]
  },
  {
   "cell_type": "code",
   "execution_count": 180,
   "metadata": {},
   "outputs": [],
   "source": [
    "model_list = [gaussian_cdf,gauss_skew_cdf,logistic_cdf,richards_cdf,gudermann_cdf]\n",
    "\n",
    "state_info = {m.__name__:fit_data(states_cumulative,states_list,'State',m,x_data.values) for m in model_list}"
   ]
  },
  {
   "cell_type": "code",
   "execution_count": 181,
   "metadata": {},
   "outputs": [
    {
     "name": "stderr",
     "output_type": "stream",
     "text": [
      "/srv/conda/envs/data100/lib/python3.7/site-packages/ipykernel_launcher.py:5: RuntimeWarning:\n",
      "\n",
      "overflow encountered in power\n",
      "\n"
     ]
    }
   ],
   "source": [
    "global_info = {m.__name__:fit_data(global_cumulative,top_countries,'Country',m,x_data_global.values) for m in model_list}"
   ]
  },
  {
   "cell_type": "markdown",
   "metadata": {},
   "source": [
    "Here's what a few of the fitted logistics looked like:"
   ]
  },
  {
   "cell_type": "code",
   "execution_count": 182,
   "metadata": {},
   "outputs": [
    {
     "data": {
      "image/png": "[encoded data removed]",
      "text/plain": [
       "<Figure size 432x288 with 1 Axes>"
      ]
     },
     "execution_count": 182,
     "metadata": {},
     "output_type": "execute_result"
    }
   ],
   "source": [
    "state_info['gudermann_cdf'].loc['LA','fig']"
   ]
  },
  {
   "cell_type": "code",
   "execution_count": 183,
   "metadata": {},
   "outputs": [
    {
     "data": {
      "text/html": [
       "<div>\n",
       "<style scoped>\n",
       "    .dataframe tbody tr th:only-of-type {\n",
       "        vertical-align: middle;\n",
       "    }\n",
       "\n",
       "    .dataframe tbody tr th {\n",
       "        vertical-align: top;\n",
       "    }\n",
       "\n",
       "    .dataframe thead th {\n",
       "        text-align: right;\n",
       "    }\n",
       "</style>\n",
       "<table border=\"1\" class=\"dataframe\">\n",
       "  <thead>\n",
       "    <tr style=\"text-align: right;\">\n",
       "      <th></th>\n",
       "      <th>SD</th>\n",
       "      <th>NY</th>\n",
       "      <th>NJ</th>\n",
       "      <th>MA</th>\n",
       "      <th>MI</th>\n",
       "      <th>IL</th>\n",
       "      <th>PA</th>\n",
       "      <th>CA</th>\n",
       "      <th>FL</th>\n",
       "      <th>LA</th>\n",
       "      <th>...</th>\n",
       "      <th>WV</th>\n",
       "      <th>HI</th>\n",
       "      <th>MT</th>\n",
       "      <th>ND</th>\n",
       "      <th>WY</th>\n",
       "      <th>AK</th>\n",
       "      <th>GU</th>\n",
       "      <th>VI</th>\n",
       "      <th>MP</th>\n",
       "      <th>AS</th>\n",
       "    </tr>\n",
       "  </thead>\n",
       "  <tbody>\n",
       "    <tr>\n",
       "      <th>gaussian_cdf</th>\n",
       "      <td>1.430833</td>\n",
       "      <td>-0.187182</td>\n",
       "      <td>-0.208958</td>\n",
       "      <td>-0.495706</td>\n",
       "      <td>-0.436021</td>\n",
       "      <td>-0.549610</td>\n",
       "      <td>-0.485521</td>\n",
       "      <td>-0.547423</td>\n",
       "      <td>-0.456613</td>\n",
       "      <td>1.071528</td>\n",
       "      <td>...</td>\n",
       "      <td>-0.709642</td>\n",
       "      <td>-0.391592</td>\n",
       "      <td>-0.201633</td>\n",
       "      <td>-0.257985</td>\n",
       "      <td>0.968086</td>\n",
       "      <td>-0.098859</td>\n",
       "      <td>-0.903960</td>\n",
       "      <td>-0.224593</td>\n",
       "      <td>0.550288</td>\n",
       "      <td>1.142532</td>\n",
       "    </tr>\n",
       "    <tr>\n",
       "      <th>gauss_skew_cdf</th>\n",
       "      <td>0.681630</td>\n",
       "      <td>-0.964339</td>\n",
       "      <td>-0.957564</td>\n",
       "      <td>-0.737464</td>\n",
       "      <td>-0.768033</td>\n",
       "      <td>-0.744528</td>\n",
       "      <td>-0.485521</td>\n",
       "      <td>-0.547423</td>\n",
       "      <td>-0.769210</td>\n",
       "      <td>1.071528</td>\n",
       "      <td>...</td>\n",
       "      <td>-0.709642</td>\n",
       "      <td>-0.391592</td>\n",
       "      <td>-0.932187</td>\n",
       "      <td>-0.958992</td>\n",
       "      <td>0.375152</td>\n",
       "      <td>-1.053820</td>\n",
       "      <td>-0.903960</td>\n",
       "      <td>-0.913059</td>\n",
       "      <td>-1.200205</td>\n",
       "      <td>0.822815</td>\n",
       "    </tr>\n",
       "    <tr>\n",
       "      <th>logistic_cdf</th>\n",
       "      <td>-0.705698</td>\n",
       "      <td>0.699503</td>\n",
       "      <td>0.675475</td>\n",
       "      <td>0.589338</td>\n",
       "      <td>0.630895</td>\n",
       "      <td>0.589451</td>\n",
       "      <td>-0.076826</td>\n",
       "      <td>0.159865</td>\n",
       "      <td>0.502739</td>\n",
       "      <td>-0.544664</td>\n",
       "      <td>...</td>\n",
       "      <td>0.064201</td>\n",
       "      <td>-0.283626</td>\n",
       "      <td>0.614564</td>\n",
       "      <td>0.633873</td>\n",
       "      <td>-0.309695</td>\n",
       "      <td>0.690759</td>\n",
       "      <td>0.297554</td>\n",
       "      <td>0.651939</td>\n",
       "      <td>0.719460</td>\n",
       "      <td>-0.660427</td>\n",
       "    </tr>\n",
       "    <tr>\n",
       "      <th>richards_cdf</th>\n",
       "      <td>-0.720645</td>\n",
       "      <td>-0.879330</td>\n",
       "      <td>-0.864111</td>\n",
       "      <td>-0.830439</td>\n",
       "      <td>-0.866184</td>\n",
       "      <td>-0.776342</td>\n",
       "      <td>-0.695415</td>\n",
       "      <td>-0.744533</td>\n",
       "      <td>-0.797261</td>\n",
       "      <td>-0.544664</td>\n",
       "      <td>...</td>\n",
       "      <td>-0.339948</td>\n",
       "      <td>-0.700254</td>\n",
       "      <td>-0.875684</td>\n",
       "      <td>-0.813432</td>\n",
       "      <td>-1.587298</td>\n",
       "      <td>-0.840454</td>\n",
       "      <td>0.001335</td>\n",
       "      <td>-0.891361</td>\n",
       "      <td>-0.966611</td>\n",
       "      <td>-1.256623</td>\n",
       "    </tr>\n",
       "    <tr>\n",
       "      <th>gudermann_cdf</th>\n",
       "      <td>-0.686120</td>\n",
       "      <td>1.331348</td>\n",
       "      <td>1.355158</td>\n",
       "      <td>1.474271</td>\n",
       "      <td>1.439343</td>\n",
       "      <td>1.481029</td>\n",
       "      <td>1.743283</td>\n",
       "      <td>1.679514</td>\n",
       "      <td>1.520345</td>\n",
       "      <td>-1.053726</td>\n",
       "      <td>...</td>\n",
       "      <td>1.695031</td>\n",
       "      <td>1.767063</td>\n",
       "      <td>1.394940</td>\n",
       "      <td>1.396536</td>\n",
       "      <td>0.553755</td>\n",
       "      <td>1.302374</td>\n",
       "      <td>1.509031</td>\n",
       "      <td>1.377074</td>\n",
       "      <td>0.897068</td>\n",
       "      <td>-0.048297</td>\n",
       "    </tr>\n",
       "  </tbody>\n",
       "</table>\n",
       "<p>5 rows × 56 columns</p>\n",
       "</div>"
      ],
      "text/plain": [
       "                      SD        NY        NJ        MA        MI        IL  \\\n",
       "gaussian_cdf    1.430833 -0.187182 -0.208958 -0.495706 -0.436021 -0.549610   \n",
       "gauss_skew_cdf  0.681630 -0.964339 -0.957564 -0.737464 -0.768033 -0.744528   \n",
       "logistic_cdf   -0.705698  0.699503  0.675475  0.589338  0.630895  0.589451   \n",
       "richards_cdf   -0.720645 -0.879330 -0.864111 -0.830439 -0.866184 -0.776342   \n",
       "gudermann_cdf  -0.686120  1.331348  1.355158  1.474271  1.439343  1.481029   \n",
       "\n",
       "                      PA        CA        FL        LA  ...        WV  \\\n",
       "gaussian_cdf   -0.485521 -0.547423 -0.456613  1.071528  ... -0.709642   \n",
       "gauss_skew_cdf -0.485521 -0.547423 -0.769210  1.071528  ... -0.709642   \n",
       "logistic_cdf   -0.076826  0.159865  0.502739 -0.544664  ...  0.064201   \n",
       "richards_cdf   -0.695415 -0.744533 -0.797261 -0.544664  ... -0.339948   \n",
       "gudermann_cdf   1.743283  1.679514  1.520345 -1.053726  ...  1.695031   \n",
       "\n",
       "                      HI        MT        ND        WY        AK        GU  \\\n",
       "gaussian_cdf   -0.391592 -0.201633 -0.257985  0.968086 -0.098859 -0.903960   \n",
       "gauss_skew_cdf -0.391592 -0.932187 -0.958992  0.375152 -1.053820 -0.903960   \n",
       "logistic_cdf   -0.283626  0.614564  0.633873 -0.309695  0.690759  0.297554   \n",
       "richards_cdf   -0.700254 -0.875684 -0.813432 -1.587298 -0.840454  0.001335   \n",
       "gudermann_cdf   1.767063  1.394940  1.396536  0.553755  1.302374  1.509031   \n",
       "\n",
       "                      VI        MP        AS  \n",
       "gaussian_cdf   -0.224593  0.550288  1.142532  \n",
       "gauss_skew_cdf -0.913059 -1.200205  0.822815  \n",
       "logistic_cdf    0.651939  0.719460 -0.660427  \n",
       "richards_cdf   -0.891361 -0.966611 -1.256623  \n",
       "gudermann_cdf   1.377074  0.897068 -0.048297  \n",
       "\n",
       "[5 rows x 56 columns]"
      ]
     },
     "execution_count": 183,
     "metadata": {},
     "output_type": "execute_result"
    }
   ],
   "source": [
    "state_rmses = pd.DataFrame([m[1]['rmse'] for m in state_info.items()],index=state_info.keys())\n",
    "state_rmses = (state_rmses-state_rmses.mean())/state_rmses.std()\n",
    "#state_rmses['mean'] = state_rmses.mean(axis=1)\n",
    "state_rmses.head()\n"
   ]
  },
  {
   "cell_type": "code",
   "execution_count": 184,
   "metadata": {},
   "outputs": [
    {
     "data": {
      "image/png": "[encoded data removed]",
      "text/plain": [
       "<Figure size 720x360 with 1 Axes>"
      ]
     },
     "metadata": {
      "needs_background": "light"
     },
     "output_type": "display_data"
    }
   ],
   "source": [
    "plt.figure(figsize=[10,5])\n",
    "sns.violinplot(data=state_rmses.T,bw=0.3,inner='points');\n",
    "plt.ylabel('Standardized RMSE');"
   ]
  },
  {
   "cell_type": "code",
   "execution_count": 185,
   "metadata": {},
   "outputs": [
    {
     "data": {
      "text/html": [
       "<div>\n",
       "<style scoped>\n",
       "    .dataframe tbody tr th:only-of-type {\n",
       "        vertical-align: middle;\n",
       "    }\n",
       "\n",
       "    .dataframe tbody tr th {\n",
       "        vertical-align: top;\n",
       "    }\n",
       "\n",
       "    .dataframe thead th {\n",
       "        text-align: right;\n",
       "    }\n",
       "</style>\n",
       "<table border=\"1\" class=\"dataframe\">\n",
       "  <thead>\n",
       "    <tr style=\"text-align: right;\">\n",
       "      <th></th>\n",
       "      <th>Japan</th>\n",
       "      <th>Singapore</th>\n",
       "      <th>Qatar</th>\n",
       "      <th>Russia</th>\n",
       "      <th>United States</th>\n",
       "      <th>Peru</th>\n",
       "      <th>France</th>\n",
       "      <th>Spain</th>\n",
       "      <th>Italy</th>\n",
       "      <th>United Kingdom</th>\n",
       "      <th>...</th>\n",
       "      <th>Czechia</th>\n",
       "      <th>Australia</th>\n",
       "      <th>Philippines</th>\n",
       "      <th>Panama</th>\n",
       "      <th>Malaysia</th>\n",
       "      <th>Dominican Republic</th>\n",
       "      <th>Colombia</th>\n",
       "      <th>Finland</th>\n",
       "      <th>Luxembourg</th>\n",
       "      <th>Thailand</th>\n",
       "    </tr>\n",
       "  </thead>\n",
       "  <tbody>\n",
       "    <tr>\n",
       "      <th>gaussian_cdf</th>\n",
       "      <td>1.174406</td>\n",
       "      <td>1.149982</td>\n",
       "      <td>0.930841</td>\n",
       "      <td>-0.726263</td>\n",
       "      <td>-0.450335</td>\n",
       "      <td>1.025138</td>\n",
       "      <td>-0.452491</td>\n",
       "      <td>-0.336342</td>\n",
       "      <td>-0.064704</td>\n",
       "      <td>-0.659152</td>\n",
       "      <td>...</td>\n",
       "      <td>-0.678088</td>\n",
       "      <td>1.315784</td>\n",
       "      <td>0.025695</td>\n",
       "      <td>-0.578079</td>\n",
       "      <td>-0.085317</td>\n",
       "      <td>-0.335742</td>\n",
       "      <td>-0.727388</td>\n",
       "      <td>-0.573570</td>\n",
       "      <td>0.240908</td>\n",
       "      <td>-0.204413</td>\n",
       "    </tr>\n",
       "    <tr>\n",
       "      <th>gauss_skew_cdf</th>\n",
       "      <td>1.012752</td>\n",
       "      <td>1.039001</td>\n",
       "      <td>0.847923</td>\n",
       "      <td>-0.726567</td>\n",
       "      <td>-0.807514</td>\n",
       "      <td>1.025138</td>\n",
       "      <td>-0.745549</td>\n",
       "      <td>-0.788909</td>\n",
       "      <td>-1.021482</td>\n",
       "      <td>-0.659152</td>\n",
       "      <td>...</td>\n",
       "      <td>-0.729712</td>\n",
       "      <td>0.286842</td>\n",
       "      <td>-0.983603</td>\n",
       "      <td>-0.679465</td>\n",
       "      <td>-1.067982</td>\n",
       "      <td>-0.836762</td>\n",
       "      <td>-0.727388</td>\n",
       "      <td>-0.668367</td>\n",
       "      <td>-1.098403</td>\n",
       "      <td>-0.774887</td>\n",
       "    </tr>\n",
       "    <tr>\n",
       "      <th>logistic_cdf</th>\n",
       "      <td>-0.736097</td>\n",
       "      <td>-0.739241</td>\n",
       "      <td>-0.116845</td>\n",
       "      <td>0.646037</td>\n",
       "      <td>0.640067</td>\n",
       "      <td>-0.395625</td>\n",
       "      <td>0.592526</td>\n",
       "      <td>0.562154</td>\n",
       "      <td>0.680809</td>\n",
       "      <td>0.364397</td>\n",
       "      <td>...</td>\n",
       "      <td>0.444751</td>\n",
       "      <td>-0.385078</td>\n",
       "      <td>0.482448</td>\n",
       "      <td>0.521811</td>\n",
       "      <td>0.685926</td>\n",
       "      <td>0.661414</td>\n",
       "      <td>0.160120</td>\n",
       "      <td>0.531544</td>\n",
       "      <td>0.711895</td>\n",
       "      <td>0.409121</td>\n",
       "    </tr>\n",
       "    <tr>\n",
       "      <th>richards_cdf</th>\n",
       "      <td>-0.710117</td>\n",
       "      <td>-0.706651</td>\n",
       "      <td>-0.116845</td>\n",
       "      <td>-0.645846</td>\n",
       "      <td>-0.819074</td>\n",
       "      <td>-0.395625</td>\n",
       "      <td>-0.860213</td>\n",
       "      <td>-0.899540</td>\n",
       "      <td>-0.894290</td>\n",
       "      <td>-0.650718</td>\n",
       "      <td>...</td>\n",
       "      <td>-0.601569</td>\n",
       "      <td>-1.414050</td>\n",
       "      <td>-0.921165</td>\n",
       "      <td>-0.785653</td>\n",
       "      <td>-0.832245</td>\n",
       "      <td>-0.888796</td>\n",
       "      <td>-0.372011</td>\n",
       "      <td>-0.804423</td>\n",
       "      <td>-0.980309</td>\n",
       "      <td>-0.945324</td>\n",
       "    </tr>\n",
       "    <tr>\n",
       "      <th>gudermann_cdf</th>\n",
       "      <td>-0.740944</td>\n",
       "      <td>-0.743091</td>\n",
       "      <td>-1.545075</td>\n",
       "      <td>1.452639</td>\n",
       "      <td>1.436855</td>\n",
       "      <td>-1.259026</td>\n",
       "      <td>1.465727</td>\n",
       "      <td>1.462637</td>\n",
       "      <td>1.299666</td>\n",
       "      <td>1.604624</td>\n",
       "      <td>...</td>\n",
       "      <td>1.564618</td>\n",
       "      <td>0.196502</td>\n",
       "      <td>1.396625</td>\n",
       "      <td>1.521386</td>\n",
       "      <td>1.299619</td>\n",
       "      <td>1.399886</td>\n",
       "      <td>1.666668</td>\n",
       "      <td>1.514816</td>\n",
       "      <td>1.125910</td>\n",
       "      <td>1.515503</td>\n",
       "    </tr>\n",
       "  </tbody>\n",
       "</table>\n",
       "<p>5 rows × 50 columns</p>\n",
       "</div>"
      ],
      "text/plain": [
       "                   Japan  Singapore     Qatar    Russia  United States  \\\n",
       "gaussian_cdf    1.174406   1.149982  0.930841 -0.726263      -0.450335   \n",
       "gauss_skew_cdf  1.012752   1.039001  0.847923 -0.726567      -0.807514   \n",
       "logistic_cdf   -0.736097  -0.739241 -0.116845  0.646037       0.640067   \n",
       "richards_cdf   -0.710117  -0.706651 -0.116845 -0.645846      -0.819074   \n",
       "gudermann_cdf  -0.740944  -0.743091 -1.545075  1.452639       1.436855   \n",
       "\n",
       "                    Peru    France     Spain     Italy  United Kingdom  ...  \\\n",
       "gaussian_cdf    1.025138 -0.452491 -0.336342 -0.064704       -0.659152  ...   \n",
       "gauss_skew_cdf  1.025138 -0.745549 -0.788909 -1.021482       -0.659152  ...   \n",
       "logistic_cdf   -0.395625  0.592526  0.562154  0.680809        0.364397  ...   \n",
       "richards_cdf   -0.395625 -0.860213 -0.899540 -0.894290       -0.650718  ...   \n",
       "gudermann_cdf  -1.259026  1.465727  1.462637  1.299666        1.604624  ...   \n",
       "\n",
       "                 Czechia  Australia  Philippines    Panama  Malaysia  \\\n",
       "gaussian_cdf   -0.678088   1.315784     0.025695 -0.578079 -0.085317   \n",
       "gauss_skew_cdf -0.729712   0.286842    -0.983603 -0.679465 -1.067982   \n",
       "logistic_cdf    0.444751  -0.385078     0.482448  0.521811  0.685926   \n",
       "richards_cdf   -0.601569  -1.414050    -0.921165 -0.785653 -0.832245   \n",
       "gudermann_cdf   1.564618   0.196502     1.396625  1.521386  1.299619   \n",
       "\n",
       "                Dominican Republic  Colombia   Finland  Luxembourg  Thailand  \n",
       "gaussian_cdf             -0.335742 -0.727388 -0.573570    0.240908 -0.204413  \n",
       "gauss_skew_cdf           -0.836762 -0.727388 -0.668367   -1.098403 -0.774887  \n",
       "logistic_cdf              0.661414  0.160120  0.531544    0.711895  0.409121  \n",
       "richards_cdf             -0.888796 -0.372011 -0.804423   -0.980309 -0.945324  \n",
       "gudermann_cdf             1.399886  1.666668  1.514816    1.125910  1.515503  \n",
       "\n",
       "[5 rows x 50 columns]"
      ]
     },
     "execution_count": 185,
     "metadata": {},
     "output_type": "execute_result"
    }
   ],
   "source": [
    "global_rmses = pd.DataFrame([m[1]['rmse'] for m in global_info.items()],index=global_info.keys())\n",
    "global_rmses = (global_rmses-global_rmses.mean())/global_rmses.std()\n",
    "#state_rmses['mean'] = state_rmses.mean(axis=1)\n",
    "global_rmses.head()"
   ]
  },
  {
   "cell_type": "code",
   "execution_count": 186,
   "metadata": {},
   "outputs": [
    {
     "data": {
      "image/png": "[encoded data removed]",
      "text/plain": [
       "<Figure size 720x360 with 1 Axes>"
      ]
     },
     "metadata": {
      "needs_background": "light"
     },
     "output_type": "display_data"
    }
   ],
   "source": [
    "plt.figure(figsize=[10,5])\n",
    "sns.violinplot(data=global_rmses.T,bw=0.3,inner='points');\n",
    "plt.ylabel('Standardized RMSE');"
   ]
  },
  {
   "cell_type": "code",
   "execution_count": null,
   "metadata": {},
   "outputs": [],
   "source": []
  },
  {
   "cell_type": "markdown",
   "metadata": {},
   "source": [
    "# Results"
   ]
  },
  {
   "cell_type": "markdown",
   "metadata": {},
   "source": [
    "I want to know if population plays a role here. So I need to merge the populations dataframes with my fitting results. I also want to see if quarantines had an effect, so I merge with those dataframes as well."
   ]
  },
  {
   "cell_type": "code",
   "execution_count": 187,
   "metadata": {},
   "outputs": [],
   "source": [
    "state_info = state_info['richards_cdf']\n",
    "country_info = global_info['richards_cdf']"
   ]
  },
  {
   "cell_type": "code",
   "execution_count": 188,
   "metadata": {},
   "outputs": [],
   "source": [
    "state_info = state_info.join(state_populations,on='State',how='left').join(state_quarantines[['Q_day']],on='State',how='left')"
   ]
  },
  {
   "cell_type": "code",
   "execution_count": 189,
   "metadata": {},
   "outputs": [],
   "source": [
    "country_info = country_info.join(global_populations,on='Country',how='left').join(global_quarantines[['Q_day']],on='Country',how='left')"
   ]
  },
  {
   "cell_type": "markdown",
   "metadata": {},
   "source": [
    "And now I can define a function that adds some new features. `N_per_1000` is is the number of cases per 1000 people in the country/state population, `Quarantine Headstart` is how early quarantine was started relative to the peak day `mu`, `N_on_Q_prop` is number of cases on the day quarantine was instituted relative to the final value of `N`,  `N_curr_prop` is the current number of cases relative to the final value of `N`, and `infection rate` is the inverse of `s`."
   ]
  },
  {
   "cell_type": "code",
   "execution_count": 190,
   "metadata": {},
   "outputs": [],
   "source": [
    "def add_features(df):\n",
    "    df['N_per_1000'] = df['N'] / df['pop'] * 1000\n",
    "    df['Quarantine Headstart'] = df['t_i'] - df['Q_day']\n",
    "    df['N_on_Q_prop'] = richards_cdf(df['Q_day'],df['N'],df['t_i'],df['s'],df['a']) / df['N']\n",
    "    df['N_curr_prop'] = richards_cdf(x_data.max(),df['N'],df['t_i'],df['s'],df['a']) / df['N']\n",
    "    df['infection rate'] = 1 / df['s']\n",
    "    return df"
   ]
  },
  {
   "cell_type": "code",
   "execution_count": 191,
   "metadata": {},
   "outputs": [],
   "source": [
    "state_info = add_features(state_info)\n",
    "country_info = add_features(country_info)"
   ]
  },
  {
   "cell_type": "markdown",
   "metadata": {},
   "source": [
    "I realize that some of the fits may not be reliable if the country/state is still early in its infection progression. Here are a few of the countries and states that are not yet at their peaks:"
   ]
  },
  {
   "cell_type": "code",
   "execution_count": 192,
   "metadata": {},
   "outputs": [
    {
     "data": {
      "text/html": [
       "<div>\n",
       "<style scoped>\n",
       "    .dataframe tbody tr th:only-of-type {\n",
       "        vertical-align: middle;\n",
       "    }\n",
       "\n",
       "    .dataframe tbody tr th {\n",
       "        vertical-align: top;\n",
       "    }\n",
       "\n",
       "    .dataframe thead th {\n",
       "        text-align: right;\n",
       "    }\n",
       "</style>\n",
       "<table border=\"1\" class=\"dataframe\">\n",
       "  <thead>\n",
       "    <tr style=\"text-align: right;\">\n",
       "      <th></th>\n",
       "      <th>N</th>\n",
       "      <th>t_i</th>\n",
       "      <th>s</th>\n",
       "      <th>a</th>\n",
       "      <th>N_curr_prop</th>\n",
       "    </tr>\n",
       "    <tr>\n",
       "      <th>State</th>\n",
       "      <th></th>\n",
       "      <th></th>\n",
       "      <th></th>\n",
       "      <th></th>\n",
       "      <th></th>\n",
       "    </tr>\n",
       "  </thead>\n",
       "  <tbody>\n",
       "    <tr>\n",
       "      <th>SD</th>\n",
       "      <td>122901.849293</td>\n",
       "      <td>137.096721</td>\n",
       "      <td>6.287793</td>\n",
       "      <td>0.778207</td>\n",
       "      <td>0.009485</td>\n",
       "    </tr>\n",
       "    <tr>\n",
       "      <th>MA</th>\n",
       "      <td>78825.389727</td>\n",
       "      <td>105.405884</td>\n",
       "      <td>0.030400</td>\n",
       "      <td>0.001940</td>\n",
       "      <td>0.382164</td>\n",
       "    </tr>\n",
       "    <tr>\n",
       "      <th>IL</th>\n",
       "      <td>54661.868007</td>\n",
       "      <td>102.954577</td>\n",
       "      <td>0.571370</td>\n",
       "      <td>0.040215</td>\n",
       "      <td>0.451922</td>\n",
       "    </tr>\n",
       "    <tr>\n",
       "      <th>CT</th>\n",
       "      <td>32402.570963</td>\n",
       "      <td>103.267874</td>\n",
       "      <td>1.093328</td>\n",
       "      <td>0.088730</td>\n",
       "      <td>0.461192</td>\n",
       "    </tr>\n",
       "    <tr>\n",
       "      <th>AL</th>\n",
       "      <td>12607.457691</td>\n",
       "      <td>107.741425</td>\n",
       "      <td>0.005520</td>\n",
       "      <td>0.000311</td>\n",
       "      <td>0.331870</td>\n",
       "    </tr>\n",
       "  </tbody>\n",
       "</table>\n",
       "</div>"
      ],
      "text/plain": [
       "                   N         t_i         s         a  N_curr_prop\n",
       "State                                                            \n",
       "SD     122901.849293  137.096721  6.287793  0.778207     0.009485\n",
       "MA      78825.389727  105.405884  0.030400  0.001940     0.382164\n",
       "IL      54661.868007  102.954577  0.571370  0.040215     0.451922\n",
       "CT      32402.570963  103.267874  1.093328  0.088730     0.461192\n",
       "AL      12607.457691  107.741425  0.005520  0.000311     0.331870"
      ]
     },
     "execution_count": 192,
     "metadata": {},
     "output_type": "execute_result"
    }
   ],
   "source": [
    "state_info[state_info['N_curr_prop']<0.5][['N','t_i','s','a','N_curr_prop']].head()"
   ]
  },
  {
   "cell_type": "code",
   "execution_count": 193,
   "metadata": {},
   "outputs": [
    {
     "data": {
      "text/html": [
       "<div>\n",
       "<style scoped>\n",
       "    .dataframe tbody tr th:only-of-type {\n",
       "        vertical-align: middle;\n",
       "    }\n",
       "\n",
       "    .dataframe tbody tr th {\n",
       "        vertical-align: top;\n",
       "    }\n",
       "\n",
       "    .dataframe thead th {\n",
       "        text-align: right;\n",
       "    }\n",
       "</style>\n",
       "<table border=\"1\" class=\"dataframe\">\n",
       "  <thead>\n",
       "    <tr style=\"text-align: right;\">\n",
       "      <th></th>\n",
       "      <th>N</th>\n",
       "      <th>t_i</th>\n",
       "      <th>s</th>\n",
       "      <th>a</th>\n",
       "      <th>N_curr_prop</th>\n",
       "    </tr>\n",
       "    <tr>\n",
       "      <th>Country</th>\n",
       "      <th></th>\n",
       "      <th></th>\n",
       "      <th></th>\n",
       "      <th></th>\n",
       "      <th></th>\n",
       "    </tr>\n",
       "  </thead>\n",
       "  <tbody>\n",
       "    <tr>\n",
       "      <th>Japan</th>\n",
       "      <td>3.630431e+06</td>\n",
       "      <td>175.409638</td>\n",
       "      <td>11.415653</td>\n",
       "      <td>1.000000</td>\n",
       "      <td>0.002282</td>\n",
       "    </tr>\n",
       "    <tr>\n",
       "      <th>Russia</th>\n",
       "      <td>3.591171e+06</td>\n",
       "      <td>158.555933</td>\n",
       "      <td>3.405413</td>\n",
       "      <td>0.125625</td>\n",
       "      <td>0.006766</td>\n",
       "    </tr>\n",
       "    <tr>\n",
       "      <th>Singapore</th>\n",
       "      <td>1.881989e+06</td>\n",
       "      <td>176.804860</td>\n",
       "      <td>11.222505</td>\n",
       "      <td>0.999803</td>\n",
       "      <td>0.001817</td>\n",
       "    </tr>\n",
       "    <tr>\n",
       "      <th>France</th>\n",
       "      <td>5.014247e+05</td>\n",
       "      <td>113.399197</td>\n",
       "      <td>0.001433</td>\n",
       "      <td>0.000055</td>\n",
       "      <td>0.265253</td>\n",
       "    </tr>\n",
       "    <tr>\n",
       "      <th>Ireland</th>\n",
       "      <td>4.318342e+05</td>\n",
       "      <td>161.630405</td>\n",
       "      <td>0.639240</td>\n",
       "      <td>0.014882</td>\n",
       "      <td>0.028560</td>\n",
       "    </tr>\n",
       "  </tbody>\n",
       "</table>\n",
       "</div>"
      ],
      "text/plain": [
       "                      N         t_i          s         a  N_curr_prop\n",
       "Country                                                              \n",
       "Japan      3.630431e+06  175.409638  11.415653  1.000000     0.002282\n",
       "Russia     3.591171e+06  158.555933   3.405413  0.125625     0.006766\n",
       "Singapore  1.881989e+06  176.804860  11.222505  0.999803     0.001817\n",
       "France     5.014247e+05  113.399197   0.001433  0.000055     0.265253\n",
       "Ireland    4.318342e+05  161.630405   0.639240  0.014882     0.028560"
      ]
     },
     "execution_count": 193,
     "metadata": {},
     "output_type": "execute_result"
    }
   ],
   "source": [
    "country_info[country_info['N_curr_prop']<0.5][['N','t_i','s','a','N_curr_prop']].head()"
   ]
  },
  {
   "cell_type": "markdown",
   "metadata": {},
   "source": [
    "Therefore, for making conclusions I will only use data from states and countries that are currently at least halfway through the outbreak, i.e. they have passed their peak day where `N_curr_prop` $=0.5$."
   ]
  },
  {
   "cell_type": "code",
   "execution_count": 194,
   "metadata": {},
   "outputs": [],
   "source": [
    "country_plottable = country_info[country_info['N_curr_prop']>0.5].dropna().copy()\n",
    "state_plottable = state_info[state_info['N_curr_prop']>0.5].dropna().copy()"
   ]
  },
  {
   "cell_type": "markdown",
   "metadata": {},
   "source": [
    "Let's visualize which states and countries have the highest infection rates per population:"
   ]
  },
  {
   "cell_type": "code",
   "execution_count": 195,
   "metadata": {},
   "outputs": [
    {
     "data": {
      "image/png": "[encoded data removed]",
      "text/plain": [
       "<Figure size 432x288 with 1 Axes>"
      ]
     },
     "metadata": {
      "needs_background": "light"
     },
     "output_type": "display_data"
    }
   ],
   "source": [
    "state_plottable.sort_values(by='N_per_1000',ascending=False,inplace=True)\n",
    "sns.barplot(x=state_plottable.index[:10],y=state_plottable['N_per_1000'][:10])\n",
    "plt.ylabel('Number of cases per 1000 people');\n",
    "plt.title('State Infections Per Capita');"
   ]
  },
  {
   "cell_type": "code",
   "execution_count": 196,
   "metadata": {},
   "outputs": [
    {
     "data": {
      "image/png": "[encoded data removed]",
      "text/plain": [
       "<Figure size 432x288 with 1 Axes>"
      ]
     },
     "metadata": {
      "needs_background": "light"
     },
     "output_type": "display_data"
    }
   ],
   "source": [
    "country_plottable.sort_values(by='N_per_1000',ascending=False,inplace=True)\n",
    "sns.barplot(x=country_plottable.index[:5],y=country_plottable['N_per_1000'][:5])\n",
    "plt.ylabel('Number of cases per 1000 people');\n",
    "plt.title('Country Infections Per Capita');"
   ]
  },
  {
   "cell_type": "markdown",
   "metadata": {},
   "source": [
    "We can also visualize the quarantine effectiveness for different states and countries:"
   ]
  },
  {
   "cell_type": "code",
   "execution_count": 197,
   "metadata": {},
   "outputs": [
    {
     "data": {
      "application/vnd.plotly.v1+json": {
       "config": {
        "plotlyServerURL": "https://plot.ly"
       },
       "data": [
        {
         "hoverlabel": {
          "namelength": 0
         },
         "hovertemplate": "<b>%{hovertext}</b><br><br>Quarantine Headstart=%{x}<br>infection rate=%{y}",
         "hovertext": [
          "Luxembourg",
          "Belgium",
          "Spain",
          "Italy",
          "United States",
          "United Kingdom",
          "Netherlands",
          "Portugal",
          "Germany",
          "Israel",
          "Austria",
          "Denmark",
          "Norway",
          "United Arab Emirates",
          "Chile",
          "Romania",
          "Poland",
          "Australia",
          "Malaysia",
          "Colombia",
          "Philippines",
          "Thailand",
          "India"
         ],
         "legendgroup": "",
         "marker": {
          "color": "#636efa",
          "symbol": "circle"
         },
         "mode": "markers",
         "name": "",
         "showlegend": false,
         "type": "scatter",
         "x": [
          7.408397698523899,
          18.005800479375623,
          15.481525992968727,
          16.27526441218224,
          14.240184422346616,
          17.785368661538357,
          19.264258584615348,
          14.633203239253362,
          9.140280354873113,
          -2.059281591774962,
          9.38861214465922,
          25.064339949127117,
          13.172330088403967,
          17.458680525457936,
          20.567956033559597,
          14.56202113766848,
          24.953882777934624,
          3.671786078544642,
          11.510688204194082,
          15.990027663715964,
          12.549991272564242,
          2.4819481517365176,
          18.746949685584156
         ],
         "xaxis": "x",
         "y": [
          4936.915133700638,
          0.7680959901935852,
          0.37790266317999643,
          2.6325722068254467,
          0.8316324563498974,
          0.3190735700138631,
          1600.015732632373,
          2760.818853800978,
          0.37368943183459624,
          198.16206419575695,
          0.4709714215912041,
          0.12102836170554498,
          0.2466642798560336,
          0.18538661382098293,
          1190.9583901850474,
          0.5597001224837229,
          0.21715315082662595,
          0.3035388961403141,
          1237.0203995796994,
          0.2405113226211404,
          0.4351584435378262,
          0.37034050823404563,
          0.19007968770838451
         ],
         "yaxis": "y"
        },
        {
         "hoverlabel": {
          "namelength": 0
         },
         "hovertemplate": "<b>OLS trendline</b><br>infection rate = -20.2311 * Quarantine Headstart + 800.541<br>R<sup>2</sup>=0.012854<br><br>Quarantine Headstart=%{x}<br>infection rate=%{y} <b>(trend)</b>",
         "legendgroup": "",
         "marker": {
          "color": "#636efa",
          "symbol": "circle"
         },
         "mode": "lines",
         "name": "",
         "showlegend": false,
         "type": "scatter",
         "x": [
          -2.059281591774962,
          2.4819481517365176,
          3.671786078544642,
          7.408397698523899,
          9.140280354873113,
          9.38861214465922,
          11.510688204194082,
          12.549991272564242,
          13.172330088403967,
          14.240184422346616,
          14.56202113766848,
          14.633203239253362,
          15.481525992968727,
          15.990027663715964,
          16.27526441218224,
          17.458680525457936,
          17.785368661538357,
          18.005800479375623,
          18.746949685584156,
          19.264258584615348,
          20.567956033559597,
          24.953882777934624,
          25.064339949127117
         ],
         "xaxis": "x",
         "y": [
          842.2022552141891,
          750.328203736309,
          726.2564793109826,
          650.66073372746,
          615.6228507508457,
          610.598826658913,
          567.6669037778371,
          546.6406644115095,
          534.0500685525715,
          512.4462058130346,
          505.9350965714904,
          504.4950046944703,
          487.33250626415816,
          477.04496053019244,
          471.2743087041278,
          447.33250460003217,
          440.72324580304013,
          436.2636687009832,
          421.2694085182027,
          410.8036829099653,
          384.4284556475655,
          295.6963539373046,
          293.46168438623425
         ],
         "yaxis": "y"
        }
       ],
       "layout": {
        "height": 400,
        "legend": {
         "tracegroupgap": 0
        },
        "template": {
         "data": {
          "bar": [
           {
            "error_x": {
             "color": "#2a3f5f"
            },
            "error_y": {
             "color": "#2a3f5f"
            },
            "marker": {
             "line": {
              "color": "#E5ECF6",
              "width": 0.5
             }
            },
            "type": "bar"
           }
          ],
          "barpolar": [
           {
            "marker": {
             "line": {
              "color": "#E5ECF6",
              "width": 0.5
             }
            },
            "type": "barpolar"
           }
          ],
          "carpet": [
           {
            "aaxis": {
             "endlinecolor": "#2a3f5f",
             "gridcolor": "white",
             "linecolor": "white",
             "minorgridcolor": "white",
             "startlinecolor": "#2a3f5f"
            },
            "baxis": {
             "endlinecolor": "#2a3f5f",
             "gridcolor": "white",
             "linecolor": "white",
             "minorgridcolor": "white",
             "startlinecolor": "#2a3f5f"
            },
            "type": "carpet"
           }
          ],
          "choropleth": [
           {
            "colorbar": {
             "outlinewidth": 0,
             "ticks": ""
            },
            "type": "choropleth"
           }
          ],
          "contour": [
           {
            "colorbar": {
             "outlinewidth": 0,
             "ticks": ""
            },
            "colorscale": [
             [
              0,
              "#0d0887"
             ],
             [
              0.1111111111111111,
              "#46039f"
             ],
             [
              0.2222222222222222,
              "#7201a8"
             ],
             [
              0.3333333333333333,
              "#9c179e"
             ],
             [
              0.4444444444444444,
              "#bd3786"
             ],
             [
              0.5555555555555556,
              "#d8576b"
             ],
             [
              0.6666666666666666,
              "#ed7953"
             ],
             [
              0.7777777777777778,
              "#fb9f3a"
             ],
             [
              0.8888888888888888,
              "#fdca26"
             ],
             [
              1,
              "#f0f921"
             ]
            ],
            "type": "contour"
           }
          ],
          "contourcarpet": [
           {
            "colorbar": {
             "outlinewidth": 0,
             "ticks": ""
            },
            "type": "contourcarpet"
           }
          ],
          "heatmap": [
           {
            "colorbar": {
             "outlinewidth": 0,
             "ticks": ""
            },
            "colorscale": [
             [
              0,
              "#0d0887"
             ],
             [
              0.1111111111111111,
              "#46039f"
             ],
             [
              0.2222222222222222,
              "#7201a8"
             ],
             [
              0.3333333333333333,
              "#9c179e"
             ],
             [
              0.4444444444444444,
              "#bd3786"
             ],
             [
              0.5555555555555556,
              "#d8576b"
             ],
             [
              0.6666666666666666,
              "#ed7953"
             ],
             [
              0.7777777777777778,
              "#fb9f3a"
             ],
             [
              0.8888888888888888,
              "#fdca26"
             ],
             [
              1,
              "#f0f921"
             ]
            ],
            "type": "heatmap"
           }
          ],
          "heatmapgl": [
           {
            "colorbar": {
             "outlinewidth": 0,
             "ticks": ""
            },
            "colorscale": [
             [
              0,
              "#0d0887"
             ],
             [
              0.1111111111111111,
              "#46039f"
             ],
             [
              0.2222222222222222,
              "#7201a8"
             ],
             [
              0.3333333333333333,
              "#9c179e"
             ],
             [
              0.4444444444444444,
              "#bd3786"
             ],
             [
              0.5555555555555556,
              "#d8576b"
             ],
             [
              0.6666666666666666,
              "#ed7953"
             ],
             [
              0.7777777777777778,
              "#fb9f3a"
             ],
             [
              0.8888888888888888,
              "#fdca26"
             ],
             [
              1,
              "#f0f921"
             ]
            ],
            "type": "heatmapgl"
           }
          ],
          "histogram": [
           {
            "marker": {
             "colorbar": {
              "outlinewidth": 0,
              "ticks": ""
             }
            },
            "type": "histogram"
           }
          ],
          "histogram2d": [
           {
            "colorbar": {
             "outlinewidth": 0,
             "ticks": ""
            },
            "colorscale": [
             [
              0,
              "#0d0887"
             ],
             [
              0.1111111111111111,
              "#46039f"
             ],
             [
              0.2222222222222222,
              "#7201a8"
             ],
             [
              0.3333333333333333,
              "#9c179e"
             ],
             [
              0.4444444444444444,
              "#bd3786"
             ],
             [
              0.5555555555555556,
              "#d8576b"
             ],
             [
              0.6666666666666666,
              "#ed7953"
             ],
             [
              0.7777777777777778,
              "#fb9f3a"
             ],
             [
              0.8888888888888888,
              "#fdca26"
             ],
             [
              1,
              "#f0f921"
             ]
            ],
            "type": "histogram2d"
           }
          ],
          "histogram2dcontour": [
           {
            "colorbar": {
             "outlinewidth": 0,
             "ticks": ""
            },
            "colorscale": [
             [
              0,
              "#0d0887"
             ],
             [
              0.1111111111111111,
              "#46039f"
             ],
             [
              0.2222222222222222,
              "#7201a8"
             ],
             [
              0.3333333333333333,
              "#9c179e"
             ],
             [
              0.4444444444444444,
              "#bd3786"
             ],
             [
              0.5555555555555556,
              "#d8576b"
             ],
             [
              0.6666666666666666,
              "#ed7953"
             ],
             [
              0.7777777777777778,
              "#fb9f3a"
             ],
             [
              0.8888888888888888,
              "#fdca26"
             ],
             [
              1,
              "#f0f921"
             ]
            ],
            "type": "histogram2dcontour"
           }
          ],
          "mesh3d": [
           {
            "colorbar": {
             "outlinewidth": 0,
             "ticks": ""
            },
            "type": "mesh3d"
           }
          ],
          "parcoords": [
           {
            "line": {
             "colorbar": {
              "outlinewidth": 0,
              "ticks": ""
             }
            },
            "type": "parcoords"
           }
          ],
          "pie": [
           {
            "automargin": true,
            "type": "pie"
           }
          ],
          "scatter": [
           {
            "marker": {
             "colorbar": {
              "outlinewidth": 0,
              "ticks": ""
             }
            },
            "type": "scatter"
           }
          ],
          "scatter3d": [
           {
            "line": {
             "colorbar": {
              "outlinewidth": 0,
              "ticks": ""
             }
            },
            "marker": {
             "colorbar": {
              "outlinewidth": 0,
              "ticks": ""
             }
            },
            "type": "scatter3d"
           }
          ],
          "scattercarpet": [
           {
            "marker": {
             "colorbar": {
              "outlinewidth": 0,
              "ticks": ""
             }
            },
            "type": "scattercarpet"
           }
          ],
          "scattergeo": [
           {
            "marker": {
             "colorbar": {
              "outlinewidth": 0,
              "ticks": ""
             }
            },
            "type": "scattergeo"
           }
          ],
          "scattergl": [
           {
            "marker": {
             "colorbar": {
              "outlinewidth": 0,
              "ticks": ""
             }
            },
            "type": "scattergl"
           }
          ],
          "scattermapbox": [
           {
            "marker": {
             "colorbar": {
              "outlinewidth": 0,
              "ticks": ""
             }
            },
            "type": "scattermapbox"
           }
          ],
          "scatterpolar": [
           {
            "marker": {
             "colorbar": {
              "outlinewidth": 0,
              "ticks": ""
             }
            },
            "type": "scatterpolar"
           }
          ],
          "scatterpolargl": [
           {
            "marker": {
             "colorbar": {
              "outlinewidth": 0,
              "ticks": ""
             }
            },
            "type": "scatterpolargl"
           }
          ],
          "scatterternary": [
           {
            "marker": {
             "colorbar": {
              "outlinewidth": 0,
              "ticks": ""
             }
            },
            "type": "scatterternary"
           }
          ],
          "surface": [
           {
            "colorbar": {
             "outlinewidth": 0,
             "ticks": ""
            },
            "colorscale": [
             [
              0,
              "#0d0887"
             ],
             [
              0.1111111111111111,
              "#46039f"
             ],
             [
              0.2222222222222222,
              "#7201a8"
             ],
             [
              0.3333333333333333,
              "#9c179e"
             ],
             [
              0.4444444444444444,
              "#bd3786"
             ],
             [
              0.5555555555555556,
              "#d8576b"
             ],
             [
              0.6666666666666666,
              "#ed7953"
             ],
             [
              0.7777777777777778,
              "#fb9f3a"
             ],
             [
              0.8888888888888888,
              "#fdca26"
             ],
             [
              1,
              "#f0f921"
             ]
            ],
            "type": "surface"
           }
          ],
          "table": [
           {
            "cells": {
             "fill": {
              "color": "#EBF0F8"
             },
             "line": {
              "color": "white"
             }
            },
            "header": {
             "fill": {
              "color": "#C8D4E3"
             },
             "line": {
              "color": "white"
             }
            },
            "type": "table"
           }
          ]
         },
         "layout": {
          "annotationdefaults": {
           "arrowcolor": "#2a3f5f",
           "arrowhead": 0,
           "arrowwidth": 1
          },
          "coloraxis": {
           "colorbar": {
            "outlinewidth": 0,
            "ticks": ""
           }
          },
          "colorscale": {
           "diverging": [
            [
             0,
             "#8e0152"
            ],
            [
             0.1,
             "#c51b7d"
            ],
            [
             0.2,
             "#de77ae"
            ],
            [
             0.3,
             "#f1b6da"
            ],
            [
             0.4,
             "#fde0ef"
            ],
            [
             0.5,
             "#f7f7f7"
            ],
            [
             0.6,
             "#e6f5d0"
            ],
            [
             0.7,
             "#b8e186"
            ],
            [
             0.8,
             "#7fbc41"
            ],
            [
             0.9,
             "#4d9221"
            ],
            [
             1,
             "#276419"
            ]
           ],
           "sequential": [
            [
             0,
             "#0d0887"
            ],
            [
             0.1111111111111111,
             "#46039f"
            ],
            [
             0.2222222222222222,
             "#7201a8"
            ],
            [
             0.3333333333333333,
             "#9c179e"
            ],
            [
             0.4444444444444444,
             "#bd3786"
            ],
            [
             0.5555555555555556,
             "#d8576b"
            ],
            [
             0.6666666666666666,
             "#ed7953"
            ],
            [
             0.7777777777777778,
             "#fb9f3a"
            ],
            [
             0.8888888888888888,
             "#fdca26"
            ],
            [
             1,
             "#f0f921"
            ]
           ],
           "sequentialminus": [
            [
             0,
             "#0d0887"
            ],
            [
             0.1111111111111111,
             "#46039f"
            ],
            [
             0.2222222222222222,
             "#7201a8"
            ],
            [
             0.3333333333333333,
             "#9c179e"
            ],
            [
             0.4444444444444444,
             "#bd3786"
            ],
            [
             0.5555555555555556,
             "#d8576b"
            ],
            [
             0.6666666666666666,
             "#ed7953"
            ],
            [
             0.7777777777777778,
             "#fb9f3a"
            ],
            [
             0.8888888888888888,
             "#fdca26"
            ],
            [
             1,
             "#f0f921"
            ]
           ]
          },
          "colorway": [
           "#636efa",
           "#EF553B",
           "#00cc96",
           "#ab63fa",
           "#FFA15A",
           "#19d3f3",
           "#FF6692",
           "#B6E880",
           "#FF97FF",
           "#FECB52"
          ],
          "font": {
           "color": "#2a3f5f"
          },
          "geo": {
           "bgcolor": "white",
           "lakecolor": "white",
           "landcolor": "#E5ECF6",
           "showlakes": true,
           "showland": true,
           "subunitcolor": "white"
          },
          "hoverlabel": {
           "align": "left"
          },
          "hovermode": "closest",
          "mapbox": {
           "style": "light"
          },
          "paper_bgcolor": "white",
          "plot_bgcolor": "#E5ECF6",
          "polar": {
           "angularaxis": {
            "gridcolor": "white",
            "linecolor": "white",
            "ticks": ""
           },
           "bgcolor": "#E5ECF6",
           "radialaxis": {
            "gridcolor": "white",
            "linecolor": "white",
            "ticks": ""
           }
          },
          "scene": {
           "xaxis": {
            "backgroundcolor": "#E5ECF6",
            "gridcolor": "white",
            "gridwidth": 2,
            "linecolor": "white",
            "showbackground": true,
            "ticks": "",
            "zerolinecolor": "white"
           },
           "yaxis": {
            "backgroundcolor": "#E5ECF6",
            "gridcolor": "white",
            "gridwidth": 2,
            "linecolor": "white",
            "showbackground": true,
            "ticks": "",
            "zerolinecolor": "white"
           },
           "zaxis": {
            "backgroundcolor": "#E5ECF6",
            "gridcolor": "white",
            "gridwidth": 2,
            "linecolor": "white",
            "showbackground": true,
            "ticks": "",
            "zerolinecolor": "white"
           }
          },
          "shapedefaults": {
           "line": {
            "color": "#2a3f5f"
           }
          },
          "ternary": {
           "aaxis": {
            "gridcolor": "white",
            "linecolor": "white",
            "ticks": ""
           },
           "baxis": {
            "gridcolor": "white",
            "linecolor": "white",
            "ticks": ""
           },
           "bgcolor": "#E5ECF6",
           "caxis": {
            "gridcolor": "white",
            "linecolor": "white",
            "ticks": ""
           }
          },
          "title": {
           "x": 0.05
          },
          "xaxis": {
           "automargin": true,
           "gridcolor": "white",
           "linecolor": "white",
           "ticks": "",
           "title": {
            "standoff": 15
           },
           "zerolinecolor": "white",
           "zerolinewidth": 2
          },
          "yaxis": {
           "automargin": true,
           "gridcolor": "white",
           "linecolor": "white",
           "ticks": "",
           "title": {
            "standoff": 15
           },
           "zerolinecolor": "white",
           "zerolinewidth": 2
          }
         }
        },
        "title": {
         "text": "Quarantine Effectiveness by Country"
        },
        "width": 500,
        "xaxis": {
         "anchor": "y",
         "domain": [
          0,
          1
         ],
         "title": {
          "text": "Quarantine Headstart (days)"
         }
        },
        "yaxis": {
         "anchor": "x",
         "domain": [
          0,
          1
         ],
         "title": {
          "text": "Infection Rate (speed of spread)"
         }
        }
       }
      },
      "text/html": [
       "<div>\n",
       "        \n",
       "        \n",
       "            <div id=\"abdb5989-6339-41f8-84c8-4e5e38f10d40\" class=\"plotly-graph-div\" style=\"height:400px; width:500px;\"></div>\n",
       "            <script type=\"text/javascript\">\n",
       "                require([\"plotly\"], function(Plotly) {\n",
       "                    window.PLOTLYENV=window.PLOTLYENV || {};\n",
       "                    \n",
       "                if (document.getElementById(\"abdb5989-6339-41f8-84c8-4e5e38f10d40\")) {\n",
       "                    Plotly.newPlot(\n",
       "                        'abdb5989-6339-41f8-84c8-4e5e38f10d40',\n",
       "                        [{\"hoverlabel\": {\"namelength\": 0}, \"hovertemplate\": \"<b>%{hovertext}</b><br><br>Quarantine Headstart=%{x}<br>infection rate=%{y}\", \"hovertext\": [\"Luxembourg\", \"Belgium\", \"Spain\", \"Italy\", \"United States\", \"United Kingdom\", \"Netherlands\", \"Portugal\", \"Germany\", \"Israel\", \"Austria\", \"Denmark\", \"Norway\", \"United Arab Emirates\", \"Chile\", \"Romania\", \"Poland\", \"Australia\", \"Malaysia\", \"Colombia\", \"Philippines\", \"Thailand\", \"India\"], \"legendgroup\": \"\", \"marker\": {\"color\": \"#636efa\", \"symbol\": \"circle\"}, \"mode\": \"markers\", \"name\": \"\", \"showlegend\": false, \"type\": \"scatter\", \"x\": [7.408397698523899, 18.005800479375623, 15.481525992968727, 16.27526441218224, 14.240184422346616, 17.785368661538357, 19.264258584615348, 14.633203239253362, 9.140280354873113, -2.059281591774962, 9.38861214465922, 25.064339949127117, 13.172330088403967, 17.458680525457936, 20.567956033559597, 14.56202113766848, 24.953882777934624, 3.671786078544642, 11.510688204194082, 15.990027663715964, 12.549991272564242, 2.4819481517365176, 18.746949685584156], \"xaxis\": \"x\", \"y\": [4936.915133700638, 0.7680959901935852, 0.37790266317999643, 2.6325722068254467, 0.8316324563498974, 0.3190735700138631, 1600.015732632373, 2760.818853800978, 0.37368943183459624, 198.16206419575695, 0.4709714215912041, 0.12102836170554498, 0.2466642798560336, 0.18538661382098293, 1190.9583901850474, 0.5597001224837229, 0.21715315082662595, 0.3035388961403141, 1237.0203995796994, 0.2405113226211404, 0.4351584435378262, 0.37034050823404563, 0.19007968770838451], \"yaxis\": \"y\"}, {\"hoverlabel\": {\"namelength\": 0}, \"hovertemplate\": \"<b>OLS trendline</b><br>infection rate = -20.2311 * Quarantine Headstart + 800.541<br>R<sup>2</sup>=0.012854<br><br>Quarantine Headstart=%{x}<br>infection rate=%{y} <b>(trend)</b>\", \"legendgroup\": \"\", \"marker\": {\"color\": \"#636efa\", \"symbol\": \"circle\"}, \"mode\": \"lines\", \"name\": \"\", \"showlegend\": false, \"type\": \"scatter\", \"x\": [-2.059281591774962, 2.4819481517365176, 3.671786078544642, 7.408397698523899, 9.140280354873113, 9.38861214465922, 11.510688204194082, 12.549991272564242, 13.172330088403967, 14.240184422346616, 14.56202113766848, 14.633203239253362, 15.481525992968727, 15.990027663715964, 16.27526441218224, 17.458680525457936, 17.785368661538357, 18.005800479375623, 18.746949685584156, 19.264258584615348, 20.567956033559597, 24.953882777934624, 25.064339949127117], \"xaxis\": \"x\", \"y\": [842.2022552141891, 750.328203736309, 726.2564793109826, 650.66073372746, 615.6228507508457, 610.598826658913, 567.6669037778371, 546.6406644115095, 534.0500685525715, 512.4462058130346, 505.9350965714904, 504.4950046944703, 487.33250626415816, 477.04496053019244, 471.2743087041278, 447.33250460003217, 440.72324580304013, 436.2636687009832, 421.2694085182027, 410.8036829099653, 384.4284556475655, 295.6963539373046, 293.46168438623425], \"yaxis\": \"y\"}],\n",
       "                        {\"height\": 400, \"legend\": {\"tracegroupgap\": 0}, \"template\": {\"data\": {\"bar\": [{\"error_x\": {\"color\": \"#2a3f5f\"}, \"error_y\": {\"color\": \"#2a3f5f\"}, \"marker\": {\"line\": {\"color\": \"#E5ECF6\", \"width\": 0.5}}, \"type\": \"bar\"}], \"barpolar\": [{\"marker\": {\"line\": {\"color\": \"#E5ECF6\", \"width\": 0.5}}, \"type\": \"barpolar\"}], \"carpet\": [{\"aaxis\": {\"endlinecolor\": \"#2a3f5f\", \"gridcolor\": \"white\", \"linecolor\": \"white\", \"minorgridcolor\": \"white\", \"startlinecolor\": \"#2a3f5f\"}, \"baxis\": {\"endlinecolor\": \"#2a3f5f\", \"gridcolor\": \"white\", \"linecolor\": \"white\", \"minorgridcolor\": \"white\", \"startlinecolor\": \"#2a3f5f\"}, \"type\": \"carpet\"}], \"choropleth\": [{\"colorbar\": {\"outlinewidth\": 0, \"ticks\": \"\"}, \"type\": \"choropleth\"}], \"contour\": [{\"colorbar\": {\"outlinewidth\": 0, \"ticks\": \"\"}, \"colorscale\": [[0.0, \"#0d0887\"], [0.1111111111111111, \"#46039f\"], [0.2222222222222222, \"#7201a8\"], [0.3333333333333333, \"#9c179e\"], [0.4444444444444444, \"#bd3786\"], [0.5555555555555556, \"#d8576b\"], [0.6666666666666666, \"#ed7953\"], [0.7777777777777778, \"#fb9f3a\"], [0.8888888888888888, \"#fdca26\"], [1.0, \"#f0f921\"]], \"type\": \"contour\"}], \"contourcarpet\": [{\"colorbar\": {\"outlinewidth\": 0, \"ticks\": \"\"}, \"type\": \"contourcarpet\"}], \"heatmap\": [{\"colorbar\": {\"outlinewidth\": 0, \"ticks\": \"\"}, \"colorscale\": [[0.0, \"#0d0887\"], [0.1111111111111111, \"#46039f\"], [0.2222222222222222, \"#7201a8\"], [0.3333333333333333, \"#9c179e\"], [0.4444444444444444, \"#bd3786\"], [0.5555555555555556, \"#d8576b\"], [0.6666666666666666, \"#ed7953\"], [0.7777777777777778, \"#fb9f3a\"], [0.8888888888888888, \"#fdca26\"], [1.0, \"#f0f921\"]], \"type\": \"heatmap\"}], \"heatmapgl\": [{\"colorbar\": {\"outlinewidth\": 0, \"ticks\": \"\"}, \"colorscale\": [[0.0, \"#0d0887\"], [0.1111111111111111, \"#46039f\"], [0.2222222222222222, \"#7201a8\"], [0.3333333333333333, \"#9c179e\"], [0.4444444444444444, \"#bd3786\"], [0.5555555555555556, \"#d8576b\"], [0.6666666666666666, \"#ed7953\"], [0.7777777777777778, \"#fb9f3a\"], [0.8888888888888888, \"#fdca26\"], [1.0, \"#f0f921\"]], \"type\": \"heatmapgl\"}], \"histogram\": [{\"marker\": {\"colorbar\": {\"outlinewidth\": 0, \"ticks\": \"\"}}, \"type\": \"histogram\"}], \"histogram2d\": [{\"colorbar\": {\"outlinewidth\": 0, \"ticks\": \"\"}, \"colorscale\": [[0.0, \"#0d0887\"], [0.1111111111111111, \"#46039f\"], [0.2222222222222222, \"#7201a8\"], [0.3333333333333333, \"#9c179e\"], [0.4444444444444444, \"#bd3786\"], [0.5555555555555556, \"#d8576b\"], [0.6666666666666666, \"#ed7953\"], [0.7777777777777778, \"#fb9f3a\"], [0.8888888888888888, \"#fdca26\"], [1.0, \"#f0f921\"]], \"type\": \"histogram2d\"}], \"histogram2dcontour\": [{\"colorbar\": {\"outlinewidth\": 0, \"ticks\": \"\"}, \"colorscale\": [[0.0, \"#0d0887\"], [0.1111111111111111, \"#46039f\"], [0.2222222222222222, \"#7201a8\"], [0.3333333333333333, \"#9c179e\"], [0.4444444444444444, \"#bd3786\"], [0.5555555555555556, \"#d8576b\"], [0.6666666666666666, \"#ed7953\"], [0.7777777777777778, \"#fb9f3a\"], [0.8888888888888888, \"#fdca26\"], [1.0, \"#f0f921\"]], \"type\": \"histogram2dcontour\"}], \"mesh3d\": [{\"colorbar\": {\"outlinewidth\": 0, \"ticks\": \"\"}, \"type\": \"mesh3d\"}], \"parcoords\": [{\"line\": {\"colorbar\": {\"outlinewidth\": 0, \"ticks\": \"\"}}, \"type\": \"parcoords\"}], \"pie\": [{\"automargin\": true, \"type\": \"pie\"}], \"scatter\": [{\"marker\": {\"colorbar\": {\"outlinewidth\": 0, \"ticks\": \"\"}}, \"type\": \"scatter\"}], \"scatter3d\": [{\"line\": {\"colorbar\": {\"outlinewidth\": 0, \"ticks\": \"\"}}, \"marker\": {\"colorbar\": {\"outlinewidth\": 0, \"ticks\": \"\"}}, \"type\": \"scatter3d\"}], \"scattercarpet\": [{\"marker\": {\"colorbar\": {\"outlinewidth\": 0, \"ticks\": \"\"}}, \"type\": \"scattercarpet\"}], \"scattergeo\": [{\"marker\": {\"colorbar\": {\"outlinewidth\": 0, \"ticks\": \"\"}}, \"type\": \"scattergeo\"}], \"scattergl\": [{\"marker\": {\"colorbar\": {\"outlinewidth\": 0, \"ticks\": \"\"}}, \"type\": \"scattergl\"}], \"scattermapbox\": [{\"marker\": {\"colorbar\": {\"outlinewidth\": 0, \"ticks\": \"\"}}, \"type\": \"scattermapbox\"}], \"scatterpolar\": [{\"marker\": {\"colorbar\": {\"outlinewidth\": 0, \"ticks\": \"\"}}, \"type\": \"scatterpolar\"}], \"scatterpolargl\": [{\"marker\": {\"colorbar\": {\"outlinewidth\": 0, \"ticks\": \"\"}}, \"type\": \"scatterpolargl\"}], \"scatterternary\": [{\"marker\": {\"colorbar\": {\"outlinewidth\": 0, \"ticks\": \"\"}}, \"type\": \"scatterternary\"}], \"surface\": [{\"colorbar\": {\"outlinewidth\": 0, \"ticks\": \"\"}, \"colorscale\": [[0.0, \"#0d0887\"], [0.1111111111111111, \"#46039f\"], [0.2222222222222222, \"#7201a8\"], [0.3333333333333333, \"#9c179e\"], [0.4444444444444444, \"#bd3786\"], [0.5555555555555556, \"#d8576b\"], [0.6666666666666666, \"#ed7953\"], [0.7777777777777778, \"#fb9f3a\"], [0.8888888888888888, \"#fdca26\"], [1.0, \"#f0f921\"]], \"type\": \"surface\"}], \"table\": [{\"cells\": {\"fill\": {\"color\": \"#EBF0F8\"}, \"line\": {\"color\": \"white\"}}, \"header\": {\"fill\": {\"color\": \"#C8D4E3\"}, \"line\": {\"color\": \"white\"}}, \"type\": \"table\"}]}, \"layout\": {\"annotationdefaults\": {\"arrowcolor\": \"#2a3f5f\", \"arrowhead\": 0, \"arrowwidth\": 1}, \"coloraxis\": {\"colorbar\": {\"outlinewidth\": 0, \"ticks\": \"\"}}, \"colorscale\": {\"diverging\": [[0, \"#8e0152\"], [0.1, \"#c51b7d\"], [0.2, \"#de77ae\"], [0.3, \"#f1b6da\"], [0.4, \"#fde0ef\"], [0.5, \"#f7f7f7\"], [0.6, \"#e6f5d0\"], [0.7, \"#b8e186\"], [0.8, \"#7fbc41\"], [0.9, \"#4d9221\"], [1, \"#276419\"]], \"sequential\": [[0.0, \"#0d0887\"], [0.1111111111111111, \"#46039f\"], [0.2222222222222222, \"#7201a8\"], [0.3333333333333333, \"#9c179e\"], [0.4444444444444444, \"#bd3786\"], [0.5555555555555556, \"#d8576b\"], [0.6666666666666666, \"#ed7953\"], [0.7777777777777778, \"#fb9f3a\"], [0.8888888888888888, \"#fdca26\"], [1.0, \"#f0f921\"]], \"sequentialminus\": [[0.0, \"#0d0887\"], [0.1111111111111111, \"#46039f\"], [0.2222222222222222, \"#7201a8\"], [0.3333333333333333, \"#9c179e\"], [0.4444444444444444, \"#bd3786\"], [0.5555555555555556, \"#d8576b\"], [0.6666666666666666, \"#ed7953\"], [0.7777777777777778, \"#fb9f3a\"], [0.8888888888888888, \"#fdca26\"], [1.0, \"#f0f921\"]]}, \"colorway\": [\"#636efa\", \"#EF553B\", \"#00cc96\", \"#ab63fa\", \"#FFA15A\", \"#19d3f3\", \"#FF6692\", \"#B6E880\", \"#FF97FF\", \"#FECB52\"], \"font\": {\"color\": \"#2a3f5f\"}, \"geo\": {\"bgcolor\": \"white\", \"lakecolor\": \"white\", \"landcolor\": \"#E5ECF6\", \"showlakes\": true, \"showland\": true, \"subunitcolor\": \"white\"}, \"hoverlabel\": {\"align\": \"left\"}, \"hovermode\": \"closest\", \"mapbox\": {\"style\": \"light\"}, \"paper_bgcolor\": \"white\", \"plot_bgcolor\": \"#E5ECF6\", \"polar\": {\"angularaxis\": {\"gridcolor\": \"white\", \"linecolor\": \"white\", \"ticks\": \"\"}, \"bgcolor\": \"#E5ECF6\", \"radialaxis\": {\"gridcolor\": \"white\", \"linecolor\": \"white\", \"ticks\": \"\"}}, \"scene\": {\"xaxis\": {\"backgroundcolor\": \"#E5ECF6\", \"gridcolor\": \"white\", \"gridwidth\": 2, \"linecolor\": \"white\", \"showbackground\": true, \"ticks\": \"\", \"zerolinecolor\": \"white\"}, \"yaxis\": {\"backgroundcolor\": \"#E5ECF6\", \"gridcolor\": \"white\", \"gridwidth\": 2, \"linecolor\": \"white\", \"showbackground\": true, \"ticks\": \"\", \"zerolinecolor\": \"white\"}, \"zaxis\": {\"backgroundcolor\": \"#E5ECF6\", \"gridcolor\": \"white\", \"gridwidth\": 2, \"linecolor\": \"white\", \"showbackground\": true, \"ticks\": \"\", \"zerolinecolor\": \"white\"}}, \"shapedefaults\": {\"line\": {\"color\": \"#2a3f5f\"}}, \"ternary\": {\"aaxis\": {\"gridcolor\": \"white\", \"linecolor\": \"white\", \"ticks\": \"\"}, \"baxis\": {\"gridcolor\": \"white\", \"linecolor\": \"white\", \"ticks\": \"\"}, \"bgcolor\": \"#E5ECF6\", \"caxis\": {\"gridcolor\": \"white\", \"linecolor\": \"white\", \"ticks\": \"\"}}, \"title\": {\"x\": 0.05}, \"xaxis\": {\"automargin\": true, \"gridcolor\": \"white\", \"linecolor\": \"white\", \"ticks\": \"\", \"title\": {\"standoff\": 15}, \"zerolinecolor\": \"white\", \"zerolinewidth\": 2}, \"yaxis\": {\"automargin\": true, \"gridcolor\": \"white\", \"linecolor\": \"white\", \"ticks\": \"\", \"title\": {\"standoff\": 15}, \"zerolinecolor\": \"white\", \"zerolinewidth\": 2}}}, \"title\": {\"text\": \"Quarantine Effectiveness by Country\"}, \"width\": 500, \"xaxis\": {\"anchor\": \"y\", \"domain\": [0.0, 1.0], \"title\": {\"text\": \"Quarantine Headstart (days)\"}}, \"yaxis\": {\"anchor\": \"x\", \"domain\": [0.0, 1.0], \"title\": {\"text\": \"Infection Rate (speed of spread)\"}}},\n",
       "                        {\"responsive\": true}\n",
       "                    ).then(function(){\n",
       "                            \n",
       "var gd = document.getElementById('abdb5989-6339-41f8-84c8-4e5e38f10d40');\n",
       "var x = new MutationObserver(function (mutations, observer) {{\n",
       "        var display = window.getComputedStyle(gd).display;\n",
       "        if (!display || display === 'none') {{\n",
       "            console.log([gd, 'removed!']);\n",
       "            Plotly.purge(gd);\n",
       "            observer.disconnect();\n",
       "        }}\n",
       "}});\n",
       "\n",
       "// Listen for the removal of the full notebook cells\n",
       "var notebookContainer = gd.closest('#notebook-container');\n",
       "if (notebookContainer) {{\n",
       "    x.observe(notebookContainer, {childList: true});\n",
       "}}\n",
       "\n",
       "// Listen for the clearing of the current output cell\n",
       "var outputEl = gd.closest('.output');\n",
       "if (outputEl) {{\n",
       "    x.observe(outputEl, {childList: true});\n",
       "}}\n",
       "\n",
       "                        })\n",
       "                };\n",
       "                });\n",
       "            </script>\n",
       "        </div>"
      ]
     },
     "metadata": {},
     "output_type": "display_data"
    }
   ],
   "source": [
    "fig = px.scatter(country_plottable, x='Quarantine Headstart', y='infection rate', \n",
    "                 hover_name=country_plottable.index.to_series(),\n",
    "                 trendline='ols',width=500,height=400,\n",
    "                 title='Quarantine Effectiveness by Country')\n",
    "fig.update_yaxes(title=\"Infection Rate (speed of spread)\")\n",
    "fig.update_xaxes(title=\"Quarantine Headstart (days)\")\n",
    "fig.show()"
   ]
  },
  {
   "cell_type": "code",
   "execution_count": 198,
   "metadata": {},
   "outputs": [
    {
     "data": {
      "application/vnd.plotly.v1+json": {
       "config": {
        "plotlyServerURL": "https://plot.ly"
       },
       "data": [
        {
         "hoverlabel": {
          "namelength": 0
         },
         "hovertemplate": "<b>%{hovertext}</b><br><br>Quarantine Headstart=%{x}<br>infection rate=%{y}",
         "hovertext": [
          "NY",
          "NJ",
          "MI",
          "LA",
          "DE",
          "PA",
          "CO",
          "GA",
          "MD",
          "IN",
          "WA",
          "NV",
          "FL",
          "VA",
          "VT",
          "TN",
          "MO",
          "NH",
          "UT",
          "TX",
          "OH",
          "NM",
          "SC",
          "AZ",
          "ID",
          "NC",
          "WI",
          "KS",
          "ME",
          "CA",
          "ND",
          "OK",
          "NE",
          "WY",
          "OR",
          "AK",
          "MT",
          "WV",
          "HI"
         ],
         "legendgroup": "",
         "marker": {
          "color": "#636efa",
          "symbol": "circle"
         },
         "mode": "markers",
         "name": "",
         "showlegend": false,
         "type": "scatter",
         "x": [
          23.465341382297254,
          24.15280901093257,
          25.839915805520462,
          20.828256031240755,
          30.674430407132633,
          21.461260582244464,
          25.07326381090533,
          21.297293866552565,
          30.657205539844,
          26.078854041224318,
          22.392937769296296,
          16.8993291218636,
          16.51036357457353,
          28.03639968881066,
          16.615494091013204,
          17.495636155298143,
          13.250944851279826,
          17.94581703016746,
          18.023407075219126,
          24.621002028950144,
          25.466010519792718,
          26.72726590416785,
          19.893066993074925,
          22.58240569777942,
          17.631053932671023,
          25.44860454906967,
          18.529005005077437,
          24.639042246480415,
          18.044056272111632,
          29.165685381803044,
          20.032408774875634,
          16.18907327646822,
          19.66691910746401,
          16.751101382347855,
          21.5089713644834,
          18.631616429319905,
          11.704942623422212,
          19.820871797131616,
          23.008911369932605
         ],
         "xaxis": "x",
         "y": [
          1858.5273868202678,
          3426.969220157026,
          669.4576916926139,
          0.2743712668665401,
          0.18725037878335604,
          0.2783402190215604,
          546.435166033061,
          0.3570842306465714,
          0.20146371732535465,
          0.8520350831145928,
          0.16723124428349567,
          1.4527421397048466,
          0.48703479865713867,
          0.30399169618025207,
          0.3160440467611467,
          3.639887519440947,
          3472.4643187524116,
          0.4585827979968737,
          0.3667123060852528,
          0.49545644550779705,
          2059.414117321121,
          0.18253876034294597,
          0.29589103467557953,
          2116.8969627563124,
          0.3779305035831132,
          0.657476765406701,
          0.5947896387673649,
          0.8600503926689433,
          1263.3713223946363,
          0.2750488349121142,
          902.4668011840333,
          0.6753412861323923,
          0.18391533992764272,
          0.2461684701009114,
          0.6583774067232372,
          1308.5925808711638,
          1.260605633084953,
          0.28371791473341756,
          0.23849871784293966
         ],
         "yaxis": "y"
        },
        {
         "hoverlabel": {
          "namelength": 0
         },
         "hovertemplate": "<b>OLS trendline</b><br>infection rate = -11.6449 * Quarantine Headstart + 702.185<br>R<sup>2</sup>=0.003285<br><br>Quarantine Headstart=%{x}<br>infection rate=%{y} <b>(trend)</b>",
         "legendgroup": "",
         "marker": {
          "color": "#636efa",
          "symbol": "circle"
         },
         "mode": "lines",
         "name": "",
         "showlegend": false,
         "type": "scatter",
         "x": [
          11.704942623422212,
          13.250944851279826,
          16.18907327646822,
          16.51036357457353,
          16.615494091013204,
          16.751101382347855,
          16.8993291218636,
          17.495636155298143,
          17.631053932671023,
          17.94581703016746,
          18.023407075219126,
          18.044056272111632,
          18.529005005077437,
          18.631616429319905,
          19.66691910746401,
          19.820871797131616,
          19.893066993074925,
          20.032408774875634,
          20.828256031240755,
          21.297293866552565,
          21.461260582244464,
          21.5089713644834,
          22.392937769296296,
          22.58240569777942,
          23.008911369932605,
          23.465341382297254,
          24.15280901093257,
          24.621002028950144,
          24.639042246480415,
          25.07326381090533,
          25.44860454906967,
          25.466010519792718,
          25.839915805520462,
          26.078854041224318,
          26.72726590416785,
          28.03639968881066,
          29.165685381803044,
          30.657205539844,
          30.674430407132633
         ],
         "xaxis": "x",
         "y": [
          565.8823913807341,
          547.8793345344434,
          513.6650933727929,
          509.9236967585285,
          508.69946135340484,
          507.1203266466895,
          505.3942279563938,
          498.45028620306164,
          496.8733583693802,
          493.20797041894,
          492.30444132525486,
          492.06398328529383,
          486.4167989217767,
          485.22189811864143,
          473.165891580039,
          471.3731263603109,
          470.5324197991065,
          468.909797286914,
          459.64222759061374,
          454.18032419874015,
          452.2709465469424,
          451.7153587804106,
          441.4216495287034,
          439.21531254835025,
          434.2486923697496,
          428.933605941743,
          420.92810725921055,
          415.47604168871834,
          415.2659649786951,
          410.20949392880533,
          405.8386848030867,
          405.6359938400691,
          401.281900428824,
          398.4994861718342,
          390.9487883668522,
          375.70404323023985,
          362.55361293958106,
          345.1849948944375,
          344.98441286461934
         ],
         "yaxis": "y"
        }
       ],
       "layout": {
        "height": 400,
        "legend": {
         "tracegroupgap": 0
        },
        "template": {
         "data": {
          "bar": [
           {
            "error_x": {
             "color": "#2a3f5f"
            },
            "error_y": {
             "color": "#2a3f5f"
            },
            "marker": {
             "line": {
              "color": "#E5ECF6",
              "width": 0.5
             }
            },
            "type": "bar"
           }
          ],
          "barpolar": [
           {
            "marker": {
             "line": {
              "color": "#E5ECF6",
              "width": 0.5
             }
            },
            "type": "barpolar"
           }
          ],
          "carpet": [
           {
            "aaxis": {
             "endlinecolor": "#2a3f5f",
             "gridcolor": "white",
             "linecolor": "white",
             "minorgridcolor": "white",
             "startlinecolor": "#2a3f5f"
            },
            "baxis": {
             "endlinecolor": "#2a3f5f",
             "gridcolor": "white",
             "linecolor": "white",
             "minorgridcolor": "white",
             "startlinecolor": "#2a3f5f"
            },
            "type": "carpet"
           }
          ],
          "choropleth": [
           {
            "colorbar": {
             "outlinewidth": 0,
             "ticks": ""
            },
            "type": "choropleth"
           }
          ],
          "contour": [
           {
            "colorbar": {
             "outlinewidth": 0,
             "ticks": ""
            },
            "colorscale": [
             [
              0,
              "#0d0887"
             ],
             [
              0.1111111111111111,
              "#46039f"
             ],
             [
              0.2222222222222222,
              "#7201a8"
             ],
             [
              0.3333333333333333,
              "#9c179e"
             ],
             [
              0.4444444444444444,
              "#bd3786"
             ],
             [
              0.5555555555555556,
              "#d8576b"
             ],
             [
              0.6666666666666666,
              "#ed7953"
             ],
             [
              0.7777777777777778,
              "#fb9f3a"
             ],
             [
              0.8888888888888888,
              "#fdca26"
             ],
             [
              1,
              "#f0f921"
             ]
            ],
            "type": "contour"
           }
          ],
          "contourcarpet": [
           {
            "colorbar": {
             "outlinewidth": 0,
             "ticks": ""
            },
            "type": "contourcarpet"
           }
          ],
          "heatmap": [
           {
            "colorbar": {
             "outlinewidth": 0,
             "ticks": ""
            },
            "colorscale": [
             [
              0,
              "#0d0887"
             ],
             [
              0.1111111111111111,
              "#46039f"
             ],
             [
              0.2222222222222222,
              "#7201a8"
             ],
             [
              0.3333333333333333,
              "#9c179e"
             ],
             [
              0.4444444444444444,
              "#bd3786"
             ],
             [
              0.5555555555555556,
              "#d8576b"
             ],
             [
              0.6666666666666666,
              "#ed7953"
             ],
             [
              0.7777777777777778,
              "#fb9f3a"
             ],
             [
              0.8888888888888888,
              "#fdca26"
             ],
             [
              1,
              "#f0f921"
             ]
            ],
            "type": "heatmap"
           }
          ],
          "heatmapgl": [
           {
            "colorbar": {
             "outlinewidth": 0,
             "ticks": ""
            },
            "colorscale": [
             [
              0,
              "#0d0887"
             ],
             [
              0.1111111111111111,
              "#46039f"
             ],
             [
              0.2222222222222222,
              "#7201a8"
             ],
             [
              0.3333333333333333,
              "#9c179e"
             ],
             [
              0.4444444444444444,
              "#bd3786"
             ],
             [
              0.5555555555555556,
              "#d8576b"
             ],
             [
              0.6666666666666666,
              "#ed7953"
             ],
             [
              0.7777777777777778,
              "#fb9f3a"
             ],
             [
              0.8888888888888888,
              "#fdca26"
             ],
             [
              1,
              "#f0f921"
             ]
            ],
            "type": "heatmapgl"
           }
          ],
          "histogram": [
           {
            "marker": {
             "colorbar": {
              "outlinewidth": 0,
              "ticks": ""
             }
            },
            "type": "histogram"
           }
          ],
          "histogram2d": [
           {
            "colorbar": {
             "outlinewidth": 0,
             "ticks": ""
            },
            "colorscale": [
             [
              0,
              "#0d0887"
             ],
             [
              0.1111111111111111,
              "#46039f"
             ],
             [
              0.2222222222222222,
              "#7201a8"
             ],
             [
              0.3333333333333333,
              "#9c179e"
             ],
             [
              0.4444444444444444,
              "#bd3786"
             ],
             [
              0.5555555555555556,
              "#d8576b"
             ],
             [
              0.6666666666666666,
              "#ed7953"
             ],
             [
              0.7777777777777778,
              "#fb9f3a"
             ],
             [
              0.8888888888888888,
              "#fdca26"
             ],
             [
              1,
              "#f0f921"
             ]
            ],
            "type": "histogram2d"
           }
          ],
          "histogram2dcontour": [
           {
            "colorbar": {
             "outlinewidth": 0,
             "ticks": ""
            },
            "colorscale": [
             [
              0,
              "#0d0887"
             ],
             [
              0.1111111111111111,
              "#46039f"
             ],
             [
              0.2222222222222222,
              "#7201a8"
             ],
             [
              0.3333333333333333,
              "#9c179e"
             ],
             [
              0.4444444444444444,
              "#bd3786"
             ],
             [
              0.5555555555555556,
              "#d8576b"
             ],
             [
              0.6666666666666666,
              "#ed7953"
             ],
             [
              0.7777777777777778,
              "#fb9f3a"
             ],
             [
              0.8888888888888888,
              "#fdca26"
             ],
             [
              1,
              "#f0f921"
             ]
            ],
            "type": "histogram2dcontour"
           }
          ],
          "mesh3d": [
           {
            "colorbar": {
             "outlinewidth": 0,
             "ticks": ""
            },
            "type": "mesh3d"
           }
          ],
          "parcoords": [
           {
            "line": {
             "colorbar": {
              "outlinewidth": 0,
              "ticks": ""
             }
            },
            "type": "parcoords"
           }
          ],
          "pie": [
           {
            "automargin": true,
            "type": "pie"
           }
          ],
          "scatter": [
           {
            "marker": {
             "colorbar": {
              "outlinewidth": 0,
              "ticks": ""
             }
            },
            "type": "scatter"
           }
          ],
          "scatter3d": [
           {
            "line": {
             "colorbar": {
              "outlinewidth": 0,
              "ticks": ""
             }
            },
            "marker": {
             "colorbar": {
              "outlinewidth": 0,
              "ticks": ""
             }
            },
            "type": "scatter3d"
           }
          ],
          "scattercarpet": [
           {
            "marker": {
             "colorbar": {
              "outlinewidth": 0,
              "ticks": ""
             }
            },
            "type": "scattercarpet"
           }
          ],
          "scattergeo": [
           {
            "marker": {
             "colorbar": {
              "outlinewidth": 0,
              "ticks": ""
             }
            },
            "type": "scattergeo"
           }
          ],
          "scattergl": [
           {
            "marker": {
             "colorbar": {
              "outlinewidth": 0,
              "ticks": ""
             }
            },
            "type": "scattergl"
           }
          ],
          "scattermapbox": [
           {
            "marker": {
             "colorbar": {
              "outlinewidth": 0,
              "ticks": ""
             }
            },
            "type": "scattermapbox"
           }
          ],
          "scatterpolar": [
           {
            "marker": {
             "colorbar": {
              "outlinewidth": 0,
              "ticks": ""
             }
            },
            "type": "scatterpolar"
           }
          ],
          "scatterpolargl": [
           {
            "marker": {
             "colorbar": {
              "outlinewidth": 0,
              "ticks": ""
             }
            },
            "type": "scatterpolargl"
           }
          ],
          "scatterternary": [
           {
            "marker": {
             "colorbar": {
              "outlinewidth": 0,
              "ticks": ""
             }
            },
            "type": "scatterternary"
           }
          ],
          "surface": [
           {
            "colorbar": {
             "outlinewidth": 0,
             "ticks": ""
            },
            "colorscale": [
             [
              0,
              "#0d0887"
             ],
             [
              0.1111111111111111,
              "#46039f"
             ],
             [
              0.2222222222222222,
              "#7201a8"
             ],
             [
              0.3333333333333333,
              "#9c179e"
             ],
             [
              0.4444444444444444,
              "#bd3786"
             ],
             [
              0.5555555555555556,
              "#d8576b"
             ],
             [
              0.6666666666666666,
              "#ed7953"
             ],
             [
              0.7777777777777778,
              "#fb9f3a"
             ],
             [
              0.8888888888888888,
              "#fdca26"
             ],
             [
              1,
              "#f0f921"
             ]
            ],
            "type": "surface"
           }
          ],
          "table": [
           {
            "cells": {
             "fill": {
              "color": "#EBF0F8"
             },
             "line": {
              "color": "white"
             }
            },
            "header": {
             "fill": {
              "color": "#C8D4E3"
             },
             "line": {
              "color": "white"
             }
            },
            "type": "table"
           }
          ]
         },
         "layout": {
          "annotationdefaults": {
           "arrowcolor": "#2a3f5f",
           "arrowhead": 0,
           "arrowwidth": 1
          },
          "coloraxis": {
           "colorbar": {
            "outlinewidth": 0,
            "ticks": ""
           }
          },
          "colorscale": {
           "diverging": [
            [
             0,
             "#8e0152"
            ],
            [
             0.1,
             "#c51b7d"
            ],
            [
             0.2,
             "#de77ae"
            ],
            [
             0.3,
             "#f1b6da"
            ],
            [
             0.4,
             "#fde0ef"
            ],
            [
             0.5,
             "#f7f7f7"
            ],
            [
             0.6,
             "#e6f5d0"
            ],
            [
             0.7,
             "#b8e186"
            ],
            [
             0.8,
             "#7fbc41"
            ],
            [
             0.9,
             "#4d9221"
            ],
            [
             1,
             "#276419"
            ]
           ],
           "sequential": [
            [
             0,
             "#0d0887"
            ],
            [
             0.1111111111111111,
             "#46039f"
            ],
            [
             0.2222222222222222,
             "#7201a8"
            ],
            [
             0.3333333333333333,
             "#9c179e"
            ],
            [
             0.4444444444444444,
             "#bd3786"
            ],
            [
             0.5555555555555556,
             "#d8576b"
            ],
            [
             0.6666666666666666,
             "#ed7953"
            ],
            [
             0.7777777777777778,
             "#fb9f3a"
            ],
            [
             0.8888888888888888,
             "#fdca26"
            ],
            [
             1,
             "#f0f921"
            ]
           ],
           "sequentialminus": [
            [
             0,
             "#0d0887"
            ],
            [
             0.1111111111111111,
             "#46039f"
            ],
            [
             0.2222222222222222,
             "#7201a8"
            ],
            [
             0.3333333333333333,
             "#9c179e"
            ],
            [
             0.4444444444444444,
             "#bd3786"
            ],
            [
             0.5555555555555556,
             "#d8576b"
            ],
            [
             0.6666666666666666,
             "#ed7953"
            ],
            [
             0.7777777777777778,
             "#fb9f3a"
            ],
            [
             0.8888888888888888,
             "#fdca26"
            ],
            [
             1,
             "#f0f921"
            ]
           ]
          },
          "colorway": [
           "#636efa",
           "#EF553B",
           "#00cc96",
           "#ab63fa",
           "#FFA15A",
           "#19d3f3",
           "#FF6692",
           "#B6E880",
           "#FF97FF",
           "#FECB52"
          ],
          "font": {
           "color": "#2a3f5f"
          },
          "geo": {
           "bgcolor": "white",
           "lakecolor": "white",
           "landcolor": "#E5ECF6",
           "showlakes": true,
           "showland": true,
           "subunitcolor": "white"
          },
          "hoverlabel": {
           "align": "left"
          },
          "hovermode": "closest",
          "mapbox": {
           "style": "light"
          },
          "paper_bgcolor": "white",
          "plot_bgcolor": "#E5ECF6",
          "polar": {
           "angularaxis": {
            "gridcolor": "white",
            "linecolor": "white",
            "ticks": ""
           },
           "bgcolor": "#E5ECF6",
           "radialaxis": {
            "gridcolor": "white",
            "linecolor": "white",
            "ticks": ""
           }
          },
          "scene": {
           "xaxis": {
            "backgroundcolor": "#E5ECF6",
            "gridcolor": "white",
            "gridwidth": 2,
            "linecolor": "white",
            "showbackground": true,
            "ticks": "",
            "zerolinecolor": "white"
           },
           "yaxis": {
            "backgroundcolor": "#E5ECF6",
            "gridcolor": "white",
            "gridwidth": 2,
            "linecolor": "white",
            "showbackground": true,
            "ticks": "",
            "zerolinecolor": "white"
           },
           "zaxis": {
            "backgroundcolor": "#E5ECF6",
            "gridcolor": "white",
            "gridwidth": 2,
            "linecolor": "white",
            "showbackground": true,
            "ticks": "",
            "zerolinecolor": "white"
           }
          },
          "shapedefaults": {
           "line": {
            "color": "#2a3f5f"
           }
          },
          "ternary": {
           "aaxis": {
            "gridcolor": "white",
            "linecolor": "white",
            "ticks": ""
           },
           "baxis": {
            "gridcolor": "white",
            "linecolor": "white",
            "ticks": ""
           },
           "bgcolor": "#E5ECF6",
           "caxis": {
            "gridcolor": "white",
            "linecolor": "white",
            "ticks": ""
           }
          },
          "title": {
           "x": 0.05
          },
          "xaxis": {
           "automargin": true,
           "gridcolor": "white",
           "linecolor": "white",
           "ticks": "",
           "title": {
            "standoff": 15
           },
           "zerolinecolor": "white",
           "zerolinewidth": 2
          },
          "yaxis": {
           "automargin": true,
           "gridcolor": "white",
           "linecolor": "white",
           "ticks": "",
           "title": {
            "standoff": 15
           },
           "zerolinecolor": "white",
           "zerolinewidth": 2
          }
         }
        },
        "title": {
         "text": "Quarantine Effectiveness by State"
        },
        "width": 500,
        "xaxis": {
         "anchor": "y",
         "domain": [
          0,
          1
         ],
         "title": {
          "text": "Quarantine Headstart (days)"
         }
        },
        "yaxis": {
         "anchor": "x",
         "domain": [
          0,
          1
         ],
         "title": {
          "text": "Infection Rate (speed of spread)"
         }
        }
       }
      },
      "text/html": [
       "<div>\n",
       "        \n",
       "        \n",
       "            <div id=\"f0cc8c8c-31d3-41a8-a303-080ba01a2131\" class=\"plotly-graph-div\" style=\"height:400px; width:500px;\"></div>\n",
       "            <script type=\"text/javascript\">\n",
       "                require([\"plotly\"], function(Plotly) {\n",
       "                    window.PLOTLYENV=window.PLOTLYENV || {};\n",
       "                    \n",
       "                if (document.getElementById(\"f0cc8c8c-31d3-41a8-a303-080ba01a2131\")) {\n",
       "                    Plotly.newPlot(\n",
       "                        'f0cc8c8c-31d3-41a8-a303-080ba01a2131',\n",
       "                        [{\"hoverlabel\": {\"namelength\": 0}, \"hovertemplate\": \"<b>%{hovertext}</b><br><br>Quarantine Headstart=%{x}<br>infection rate=%{y}\", \"hovertext\": [\"NY\", \"NJ\", \"MI\", \"LA\", \"DE\", \"PA\", \"CO\", \"GA\", \"MD\", \"IN\", \"WA\", \"NV\", \"FL\", \"VA\", \"VT\", \"TN\", \"MO\", \"NH\", \"UT\", \"TX\", \"OH\", \"NM\", \"SC\", \"AZ\", \"ID\", \"NC\", \"WI\", \"KS\", \"ME\", \"CA\", \"ND\", \"OK\", \"NE\", \"WY\", \"OR\", \"AK\", \"MT\", \"WV\", \"HI\"], \"legendgroup\": \"\", \"marker\": {\"color\": \"#636efa\", \"symbol\": \"circle\"}, \"mode\": \"markers\", \"name\": \"\", \"showlegend\": false, \"type\": \"scatter\", \"x\": [23.465341382297254, 24.15280901093257, 25.839915805520462, 20.828256031240755, 30.674430407132633, 21.461260582244464, 25.07326381090533, 21.297293866552565, 30.657205539844, 26.078854041224318, 22.392937769296296, 16.8993291218636, 16.51036357457353, 28.03639968881066, 16.615494091013204, 17.495636155298143, 13.250944851279826, 17.94581703016746, 18.023407075219126, 24.621002028950144, 25.466010519792718, 26.72726590416785, 19.893066993074925, 22.58240569777942, 17.631053932671023, 25.44860454906967, 18.529005005077437, 24.639042246480415, 18.044056272111632, 29.165685381803044, 20.032408774875634, 16.18907327646822, 19.66691910746401, 16.751101382347855, 21.5089713644834, 18.631616429319905, 11.704942623422212, 19.820871797131616, 23.008911369932605], \"xaxis\": \"x\", \"y\": [1858.5273868202678, 3426.969220157026, 669.4576916926139, 0.2743712668665401, 0.18725037878335604, 0.2783402190215604, 546.435166033061, 0.3570842306465714, 0.20146371732535465, 0.8520350831145928, 0.16723124428349567, 1.4527421397048466, 0.48703479865713867, 0.30399169618025207, 0.3160440467611467, 3.639887519440947, 3472.4643187524116, 0.4585827979968737, 0.3667123060852528, 0.49545644550779705, 2059.414117321121, 0.18253876034294597, 0.29589103467557953, 2116.8969627563124, 0.3779305035831132, 0.657476765406701, 0.5947896387673649, 0.8600503926689433, 1263.3713223946363, 0.2750488349121142, 902.4668011840333, 0.6753412861323923, 0.18391533992764272, 0.2461684701009114, 0.6583774067232372, 1308.5925808711638, 1.260605633084953, 0.28371791473341756, 0.23849871784293966], \"yaxis\": \"y\"}, {\"hoverlabel\": {\"namelength\": 0}, \"hovertemplate\": \"<b>OLS trendline</b><br>infection rate = -11.6449 * Quarantine Headstart + 702.185<br>R<sup>2</sup>=0.003285<br><br>Quarantine Headstart=%{x}<br>infection rate=%{y} <b>(trend)</b>\", \"legendgroup\": \"\", \"marker\": {\"color\": \"#636efa\", \"symbol\": \"circle\"}, \"mode\": \"lines\", \"name\": \"\", \"showlegend\": false, \"type\": \"scatter\", \"x\": [11.704942623422212, 13.250944851279826, 16.18907327646822, 16.51036357457353, 16.615494091013204, 16.751101382347855, 16.8993291218636, 17.495636155298143, 17.631053932671023, 17.94581703016746, 18.023407075219126, 18.044056272111632, 18.529005005077437, 18.631616429319905, 19.66691910746401, 19.820871797131616, 19.893066993074925, 20.032408774875634, 20.828256031240755, 21.297293866552565, 21.461260582244464, 21.5089713644834, 22.392937769296296, 22.58240569777942, 23.008911369932605, 23.465341382297254, 24.15280901093257, 24.621002028950144, 24.639042246480415, 25.07326381090533, 25.44860454906967, 25.466010519792718, 25.839915805520462, 26.078854041224318, 26.72726590416785, 28.03639968881066, 29.165685381803044, 30.657205539844, 30.674430407132633], \"xaxis\": \"x\", \"y\": [565.8823913807341, 547.8793345344434, 513.6650933727929, 509.9236967585285, 508.69946135340484, 507.1203266466895, 505.3942279563938, 498.45028620306164, 496.8733583693802, 493.20797041894, 492.30444132525486, 492.06398328529383, 486.4167989217767, 485.22189811864143, 473.165891580039, 471.3731263603109, 470.5324197991065, 468.909797286914, 459.64222759061374, 454.18032419874015, 452.2709465469424, 451.7153587804106, 441.4216495287034, 439.21531254835025, 434.2486923697496, 428.933605941743, 420.92810725921055, 415.47604168871834, 415.2659649786951, 410.20949392880533, 405.8386848030867, 405.6359938400691, 401.281900428824, 398.4994861718342, 390.9487883668522, 375.70404323023985, 362.55361293958106, 345.1849948944375, 344.98441286461934], \"yaxis\": \"y\"}],\n",
       "                        {\"height\": 400, \"legend\": {\"tracegroupgap\": 0}, \"template\": {\"data\": {\"bar\": [{\"error_x\": {\"color\": \"#2a3f5f\"}, \"error_y\": {\"color\": \"#2a3f5f\"}, \"marker\": {\"line\": {\"color\": \"#E5ECF6\", \"width\": 0.5}}, \"type\": \"bar\"}], \"barpolar\": [{\"marker\": {\"line\": {\"color\": \"#E5ECF6\", \"width\": 0.5}}, \"type\": \"barpolar\"}], \"carpet\": [{\"aaxis\": {\"endlinecolor\": \"#2a3f5f\", \"gridcolor\": \"white\", \"linecolor\": \"white\", \"minorgridcolor\": \"white\", \"startlinecolor\": \"#2a3f5f\"}, \"baxis\": {\"endlinecolor\": \"#2a3f5f\", \"gridcolor\": \"white\", \"linecolor\": \"white\", \"minorgridcolor\": \"white\", \"startlinecolor\": \"#2a3f5f\"}, \"type\": \"carpet\"}], \"choropleth\": [{\"colorbar\": {\"outlinewidth\": 0, \"ticks\": \"\"}, \"type\": \"choropleth\"}], \"contour\": [{\"colorbar\": {\"outlinewidth\": 0, \"ticks\": \"\"}, \"colorscale\": [[0.0, \"#0d0887\"], [0.1111111111111111, \"#46039f\"], [0.2222222222222222, \"#7201a8\"], [0.3333333333333333, \"#9c179e\"], [0.4444444444444444, \"#bd3786\"], [0.5555555555555556, \"#d8576b\"], [0.6666666666666666, \"#ed7953\"], [0.7777777777777778, \"#fb9f3a\"], [0.8888888888888888, \"#fdca26\"], [1.0, \"#f0f921\"]], \"type\": \"contour\"}], \"contourcarpet\": [{\"colorbar\": {\"outlinewidth\": 0, \"ticks\": \"\"}, \"type\": \"contourcarpet\"}], \"heatmap\": [{\"colorbar\": {\"outlinewidth\": 0, \"ticks\": \"\"}, \"colorscale\": [[0.0, \"#0d0887\"], [0.1111111111111111, \"#46039f\"], [0.2222222222222222, \"#7201a8\"], [0.3333333333333333, \"#9c179e\"], [0.4444444444444444, \"#bd3786\"], [0.5555555555555556, \"#d8576b\"], [0.6666666666666666, \"#ed7953\"], [0.7777777777777778, \"#fb9f3a\"], [0.8888888888888888, \"#fdca26\"], [1.0, \"#f0f921\"]], \"type\": \"heatmap\"}], \"heatmapgl\": [{\"colorbar\": {\"outlinewidth\": 0, \"ticks\": \"\"}, \"colorscale\": [[0.0, \"#0d0887\"], [0.1111111111111111, \"#46039f\"], [0.2222222222222222, \"#7201a8\"], [0.3333333333333333, \"#9c179e\"], [0.4444444444444444, \"#bd3786\"], [0.5555555555555556, \"#d8576b\"], [0.6666666666666666, \"#ed7953\"], [0.7777777777777778, \"#fb9f3a\"], [0.8888888888888888, \"#fdca26\"], [1.0, \"#f0f921\"]], \"type\": \"heatmapgl\"}], \"histogram\": [{\"marker\": {\"colorbar\": {\"outlinewidth\": 0, \"ticks\": \"\"}}, \"type\": \"histogram\"}], \"histogram2d\": [{\"colorbar\": {\"outlinewidth\": 0, \"ticks\": \"\"}, \"colorscale\": [[0.0, \"#0d0887\"], [0.1111111111111111, \"#46039f\"], [0.2222222222222222, \"#7201a8\"], [0.3333333333333333, \"#9c179e\"], [0.4444444444444444, \"#bd3786\"], [0.5555555555555556, \"#d8576b\"], [0.6666666666666666, \"#ed7953\"], [0.7777777777777778, \"#fb9f3a\"], [0.8888888888888888, \"#fdca26\"], [1.0, \"#f0f921\"]], \"type\": \"histogram2d\"}], \"histogram2dcontour\": [{\"colorbar\": {\"outlinewidth\": 0, \"ticks\": \"\"}, \"colorscale\": [[0.0, \"#0d0887\"], [0.1111111111111111, \"#46039f\"], [0.2222222222222222, \"#7201a8\"], [0.3333333333333333, \"#9c179e\"], [0.4444444444444444, \"#bd3786\"], [0.5555555555555556, \"#d8576b\"], [0.6666666666666666, \"#ed7953\"], [0.7777777777777778, \"#fb9f3a\"], [0.8888888888888888, \"#fdca26\"], [1.0, \"#f0f921\"]], \"type\": \"histogram2dcontour\"}], \"mesh3d\": [{\"colorbar\": {\"outlinewidth\": 0, \"ticks\": \"\"}, \"type\": \"mesh3d\"}], \"parcoords\": [{\"line\": {\"colorbar\": {\"outlinewidth\": 0, \"ticks\": \"\"}}, \"type\": \"parcoords\"}], \"pie\": [{\"automargin\": true, \"type\": \"pie\"}], \"scatter\": [{\"marker\": {\"colorbar\": {\"outlinewidth\": 0, \"ticks\": \"\"}}, \"type\": \"scatter\"}], \"scatter3d\": [{\"line\": {\"colorbar\": {\"outlinewidth\": 0, \"ticks\": \"\"}}, \"marker\": {\"colorbar\": {\"outlinewidth\": 0, \"ticks\": \"\"}}, \"type\": \"scatter3d\"}], \"scattercarpet\": [{\"marker\": {\"colorbar\": {\"outlinewidth\": 0, \"ticks\": \"\"}}, \"type\": \"scattercarpet\"}], \"scattergeo\": [{\"marker\": {\"colorbar\": {\"outlinewidth\": 0, \"ticks\": \"\"}}, \"type\": \"scattergeo\"}], \"scattergl\": [{\"marker\": {\"colorbar\": {\"outlinewidth\": 0, \"ticks\": \"\"}}, \"type\": \"scattergl\"}], \"scattermapbox\": [{\"marker\": {\"colorbar\": {\"outlinewidth\": 0, \"ticks\": \"\"}}, \"type\": \"scattermapbox\"}], \"scatterpolar\": [{\"marker\": {\"colorbar\": {\"outlinewidth\": 0, \"ticks\": \"\"}}, \"type\": \"scatterpolar\"}], \"scatterpolargl\": [{\"marker\": {\"colorbar\": {\"outlinewidth\": 0, \"ticks\": \"\"}}, \"type\": \"scatterpolargl\"}], \"scatterternary\": [{\"marker\": {\"colorbar\": {\"outlinewidth\": 0, \"ticks\": \"\"}}, \"type\": \"scatterternary\"}], \"surface\": [{\"colorbar\": {\"outlinewidth\": 0, \"ticks\": \"\"}, \"colorscale\": [[0.0, \"#0d0887\"], [0.1111111111111111, \"#46039f\"], [0.2222222222222222, \"#7201a8\"], [0.3333333333333333, \"#9c179e\"], [0.4444444444444444, \"#bd3786\"], [0.5555555555555556, \"#d8576b\"], [0.6666666666666666, \"#ed7953\"], [0.7777777777777778, \"#fb9f3a\"], [0.8888888888888888, \"#fdca26\"], [1.0, \"#f0f921\"]], \"type\": \"surface\"}], \"table\": [{\"cells\": {\"fill\": {\"color\": \"#EBF0F8\"}, \"line\": {\"color\": \"white\"}}, \"header\": {\"fill\": {\"color\": \"#C8D4E3\"}, \"line\": {\"color\": \"white\"}}, \"type\": \"table\"}]}, \"layout\": {\"annotationdefaults\": {\"arrowcolor\": \"#2a3f5f\", \"arrowhead\": 0, \"arrowwidth\": 1}, \"coloraxis\": {\"colorbar\": {\"outlinewidth\": 0, \"ticks\": \"\"}}, \"colorscale\": {\"diverging\": [[0, \"#8e0152\"], [0.1, \"#c51b7d\"], [0.2, \"#de77ae\"], [0.3, \"#f1b6da\"], [0.4, \"#fde0ef\"], [0.5, \"#f7f7f7\"], [0.6, \"#e6f5d0\"], [0.7, \"#b8e186\"], [0.8, \"#7fbc41\"], [0.9, \"#4d9221\"], [1, \"#276419\"]], \"sequential\": [[0.0, \"#0d0887\"], [0.1111111111111111, \"#46039f\"], [0.2222222222222222, \"#7201a8\"], [0.3333333333333333, \"#9c179e\"], [0.4444444444444444, \"#bd3786\"], [0.5555555555555556, \"#d8576b\"], [0.6666666666666666, \"#ed7953\"], [0.7777777777777778, \"#fb9f3a\"], [0.8888888888888888, \"#fdca26\"], [1.0, \"#f0f921\"]], \"sequentialminus\": [[0.0, \"#0d0887\"], [0.1111111111111111, \"#46039f\"], [0.2222222222222222, \"#7201a8\"], [0.3333333333333333, \"#9c179e\"], [0.4444444444444444, \"#bd3786\"], [0.5555555555555556, \"#d8576b\"], [0.6666666666666666, \"#ed7953\"], [0.7777777777777778, \"#fb9f3a\"], [0.8888888888888888, \"#fdca26\"], [1.0, \"#f0f921\"]]}, \"colorway\": [\"#636efa\", \"#EF553B\", \"#00cc96\", \"#ab63fa\", \"#FFA15A\", \"#19d3f3\", \"#FF6692\", \"#B6E880\", \"#FF97FF\", \"#FECB52\"], \"font\": {\"color\": \"#2a3f5f\"}, \"geo\": {\"bgcolor\": \"white\", \"lakecolor\": \"white\", \"landcolor\": \"#E5ECF6\", \"showlakes\": true, \"showland\": true, \"subunitcolor\": \"white\"}, \"hoverlabel\": {\"align\": \"left\"}, \"hovermode\": \"closest\", \"mapbox\": {\"style\": \"light\"}, \"paper_bgcolor\": \"white\", \"plot_bgcolor\": \"#E5ECF6\", \"polar\": {\"angularaxis\": {\"gridcolor\": \"white\", \"linecolor\": \"white\", \"ticks\": \"\"}, \"bgcolor\": \"#E5ECF6\", \"radialaxis\": {\"gridcolor\": \"white\", \"linecolor\": \"white\", \"ticks\": \"\"}}, \"scene\": {\"xaxis\": {\"backgroundcolor\": \"#E5ECF6\", \"gridcolor\": \"white\", \"gridwidth\": 2, \"linecolor\": \"white\", \"showbackground\": true, \"ticks\": \"\", \"zerolinecolor\": \"white\"}, \"yaxis\": {\"backgroundcolor\": \"#E5ECF6\", \"gridcolor\": \"white\", \"gridwidth\": 2, \"linecolor\": \"white\", \"showbackground\": true, \"ticks\": \"\", \"zerolinecolor\": \"white\"}, \"zaxis\": {\"backgroundcolor\": \"#E5ECF6\", \"gridcolor\": \"white\", \"gridwidth\": 2, \"linecolor\": \"white\", \"showbackground\": true, \"ticks\": \"\", \"zerolinecolor\": \"white\"}}, \"shapedefaults\": {\"line\": {\"color\": \"#2a3f5f\"}}, \"ternary\": {\"aaxis\": {\"gridcolor\": \"white\", \"linecolor\": \"white\", \"ticks\": \"\"}, \"baxis\": {\"gridcolor\": \"white\", \"linecolor\": \"white\", \"ticks\": \"\"}, \"bgcolor\": \"#E5ECF6\", \"caxis\": {\"gridcolor\": \"white\", \"linecolor\": \"white\", \"ticks\": \"\"}}, \"title\": {\"x\": 0.05}, \"xaxis\": {\"automargin\": true, \"gridcolor\": \"white\", \"linecolor\": \"white\", \"ticks\": \"\", \"title\": {\"standoff\": 15}, \"zerolinecolor\": \"white\", \"zerolinewidth\": 2}, \"yaxis\": {\"automargin\": true, \"gridcolor\": \"white\", \"linecolor\": \"white\", \"ticks\": \"\", \"title\": {\"standoff\": 15}, \"zerolinecolor\": \"white\", \"zerolinewidth\": 2}}}, \"title\": {\"text\": \"Quarantine Effectiveness by State\"}, \"width\": 500, \"xaxis\": {\"anchor\": \"y\", \"domain\": [0.0, 1.0], \"title\": {\"text\": \"Quarantine Headstart (days)\"}}, \"yaxis\": {\"anchor\": \"x\", \"domain\": [0.0, 1.0], \"title\": {\"text\": \"Infection Rate (speed of spread)\"}}},\n",
       "                        {\"responsive\": true}\n",
       "                    ).then(function(){\n",
       "                            \n",
       "var gd = document.getElementById('f0cc8c8c-31d3-41a8-a303-080ba01a2131');\n",
       "var x = new MutationObserver(function (mutations, observer) {{\n",
       "        var display = window.getComputedStyle(gd).display;\n",
       "        if (!display || display === 'none') {{\n",
       "            console.log([gd, 'removed!']);\n",
       "            Plotly.purge(gd);\n",
       "            observer.disconnect();\n",
       "        }}\n",
       "}});\n",
       "\n",
       "// Listen for the removal of the full notebook cells\n",
       "var notebookContainer = gd.closest('#notebook-container');\n",
       "if (notebookContainer) {{\n",
       "    x.observe(notebookContainer, {childList: true});\n",
       "}}\n",
       "\n",
       "// Listen for the clearing of the current output cell\n",
       "var outputEl = gd.closest('.output');\n",
       "if (outputEl) {{\n",
       "    x.observe(outputEl, {childList: true});\n",
       "}}\n",
       "\n",
       "                        })\n",
       "                };\n",
       "                });\n",
       "            </script>\n",
       "        </div>"
      ]
     },
     "metadata": {},
     "output_type": "display_data"
    }
   ],
   "source": [
    "fig = px.scatter(state_plottable, x='Quarantine Headstart', y='infection rate', \n",
    "                 hover_name=state_plottable.index.to_series(),\n",
    "                 trendline='ols',width=500,height=400,\n",
    "                 title='Quarantine Effectiveness by State')\n",
    "fig.update_yaxes(title=\"Infection Rate (speed of spread)\")\n",
    "fig.update_xaxes(title=\"Quarantine Headstart (days)\")\n",
    "fig.show()"
   ]
  },
  {
   "cell_type": "code",
   "execution_count": 199,
   "metadata": {},
   "outputs": [
    {
     "data": {
      "application/vnd.plotly.v1+json": {
       "config": {
        "plotlyServerURL": "https://plot.ly"
       },
       "data": [
        {
         "hoverlabel": {
          "namelength": 0
         },
         "hovertemplate": "<b>%{hovertext}</b><br><br>N_on_Q_prop=%{x}<br>N_per_1000=%{y}",
         "hovertext": [
          "NY",
          "NJ",
          "MI",
          "LA",
          "DE",
          "PA",
          "CO",
          "GA",
          "MD",
          "IN",
          "WA",
          "NV",
          "FL",
          "VA",
          "VT",
          "TN",
          "MO",
          "NH",
          "UT",
          "TX",
          "OH",
          "NM",
          "SC",
          "AZ",
          "ID",
          "NC",
          "WI",
          "KS",
          "ME",
          "CA",
          "ND",
          "OK",
          "NE",
          "WY",
          "OR",
          "AK",
          "MT",
          "WV",
          "HI",
          "Luxembourg",
          "Belgium",
          "Spain",
          "Italy",
          "United States",
          "United Kingdom",
          "Netherlands",
          "Portugal",
          "Germany",
          "Israel",
          "Austria",
          "Denmark",
          "Norway",
          "United Arab Emirates",
          "Chile",
          "Romania",
          "Poland",
          "Australia",
          "Malaysia",
          "Colombia",
          "Philippines",
          "Thailand",
          "India"
         ],
         "legendgroup": "",
         "marker": {
          "color": "#636efa",
          "symbol": "circle"
         },
         "mode": "markers",
         "name": "",
         "showlegend": false,
         "type": "scatter",
         "x": [
          0.0015070268655779254,
          4.859655733074946e-05,
          0.020082364711699375,
          0.0032863860205719618,
          0.0031923556870439443,
          0.004694105963412413,
          0.0005223153254450288,
          0.009991923671841645,
          0.0020737628769794307,
          6.593624402975756e-05,
          0.023094422895938382,
          0.009743638245991924,
          0.012701138253443935,
          0.002504107337086586,
          0.018864379730360988,
          0.009389907362951826,
          0.030641699900112403,
          0.015176731496210691,
          0.013998716452280298,
          0.0024740144638128875,
          0.00023949391553486395,
          0.00754900413113388,
          0.008599246825921945,
          0.0008043582003022044,
          0.0015951678986658524,
          0.0019872866007011763,
          0.013339791974658734,
          0.0017583094927670516,
          0.0207719846442698,
          0.0013201430071914154,
          0.00636172881874338,
          0.009551676984468415,
          0.026159168985117803,
          0.022159782385278572,
          0.003675709600735751,
          0.002093432857535178,
          0.019761241314051853,
          0.007013163492997881,
          0.005670701682510486,
          0.07303168881064971,
          0.027904710566693542,
          0.026231863136012463,
          0.040156916873039225,
          0.04751562384203656,
          0.04519465053960788,
          0.030549511595793128,
          0.02909598161611636,
          0.12510298006394782,
          0.4519274353260965,
          0.06500856784334884,
          0.04593537024805252,
          0.0863624253487431,
          0.037811187985886716,
          0.019778686335534326,
          0.07154604857233648,
          0.010380422529223898,
          0.2652451815596249,
          0.1098543340270831,
          0.06974207456350848,
          0.04174522610454452,
          0.31953060713517123,
          0.027560766210056445
         ],
         "xaxis": "x",
         "y": [
          17.108856223147995,
          12.153820202580652,
          5.614556081846187,
          5.0359150814719325,
          3.3344551993557774,
          2.646459782361891,
          2.5312265550391397,
          2.4208054335146065,
          2.407923435909505,
          1.969080729099535,
          1.7245653213258938,
          1.6314326127197096,
          1.5465584834549677,
          1.510187168069189,
          1.4573287524267857,
          1.3382903209139263,
          1.2306943305971576,
          1.1463695258774933,
          1.1432514174314556,
          1.0823032641492643,
          1.077772769860383,
          0.9802671643822856,
          0.9714008393427674,
          0.9496252688390701,
          0.9351926539154838,
          0.9152875787384658,
          0.8873383009234981,
          0.878605767037403,
          0.8499206863369775,
          0.8496346002834834,
          0.8257621620287419,
          0.7859414875162232,
          0.7099160022813913,
          0.5677523748017304,
          0.567493256687876,
          0.5405679738634532,
          0.46713478851346507,
          0.45367319769369563,
          0.4180696153158948,
          6.208659526254863,
          4.474027955466968,
          4.265570818567365,
          3.3391628723802618,
          3.1297761105147526,
          2.8540816607110697,
          2.7371121691774496,
          2.4692234281184304,
          1.888731009223429,
          1.7120417507161887,
          1.6792954514129805,
          1.593070887769263,
          1.4119005345191047,
          0.9254661376733861,
          0.8738850219402176,
          0.6518108216211003,
          0.27880425618648275,
          0.2683965837475865,
          0.22607975697619684,
          0.11391595302044219,
          0.06035711475702826,
          0.040700807749439565,
          0.015367332173285501
         ],
         "yaxis": "y"
        }
       ],
       "layout": {
        "height": 400,
        "legend": {
         "tracegroupgap": 0
        },
        "template": {
         "data": {
          "bar": [
           {
            "error_x": {
             "color": "#2a3f5f"
            },
            "error_y": {
             "color": "#2a3f5f"
            },
            "marker": {
             "line": {
              "color": "#E5ECF6",
              "width": 0.5
             }
            },
            "type": "bar"
           }
          ],
          "barpolar": [
           {
            "marker": {
             "line": {
              "color": "#E5ECF6",
              "width": 0.5
             }
            },
            "type": "barpolar"
           }
          ],
          "carpet": [
           {
            "aaxis": {
             "endlinecolor": "#2a3f5f",
             "gridcolor": "white",
             "linecolor": "white",
             "minorgridcolor": "white",
             "startlinecolor": "#2a3f5f"
            },
            "baxis": {
             "endlinecolor": "#2a3f5f",
             "gridcolor": "white",
             "linecolor": "white",
             "minorgridcolor": "white",
             "startlinecolor": "#2a3f5f"
            },
            "type": "carpet"
           }
          ],
          "choropleth": [
           {
            "colorbar": {
             "outlinewidth": 0,
             "ticks": ""
            },
            "type": "choropleth"
           }
          ],
          "contour": [
           {
            "colorbar": {
             "outlinewidth": 0,
             "ticks": ""
            },
            "colorscale": [
             [
              0,
              "#0d0887"
             ],
             [
              0.1111111111111111,
              "#46039f"
             ],
             [
              0.2222222222222222,
              "#7201a8"
             ],
             [
              0.3333333333333333,
              "#9c179e"
             ],
             [
              0.4444444444444444,
              "#bd3786"
             ],
             [
              0.5555555555555556,
              "#d8576b"
             ],
             [
              0.6666666666666666,
              "#ed7953"
             ],
             [
              0.7777777777777778,
              "#fb9f3a"
             ],
             [
              0.8888888888888888,
              "#fdca26"
             ],
             [
              1,
              "#f0f921"
             ]
            ],
            "type": "contour"
           }
          ],
          "contourcarpet": [
           {
            "colorbar": {
             "outlinewidth": 0,
             "ticks": ""
            },
            "type": "contourcarpet"
           }
          ],
          "heatmap": [
           {
            "colorbar": {
             "outlinewidth": 0,
             "ticks": ""
            },
            "colorscale": [
             [
              0,
              "#0d0887"
             ],
             [
              0.1111111111111111,
              "#46039f"
             ],
             [
              0.2222222222222222,
              "#7201a8"
             ],
             [
              0.3333333333333333,
              "#9c179e"
             ],
             [
              0.4444444444444444,
              "#bd3786"
             ],
             [
              0.5555555555555556,
              "#d8576b"
             ],
             [
              0.6666666666666666,
              "#ed7953"
             ],
             [
              0.7777777777777778,
              "#fb9f3a"
             ],
             [
              0.8888888888888888,
              "#fdca26"
             ],
             [
              1,
              "#f0f921"
             ]
            ],
            "type": "heatmap"
           }
          ],
          "heatmapgl": [
           {
            "colorbar": {
             "outlinewidth": 0,
             "ticks": ""
            },
            "colorscale": [
             [
              0,
              "#0d0887"
             ],
             [
              0.1111111111111111,
              "#46039f"
             ],
             [
              0.2222222222222222,
              "#7201a8"
             ],
             [
              0.3333333333333333,
              "#9c179e"
             ],
             [
              0.4444444444444444,
              "#bd3786"
             ],
             [
              0.5555555555555556,
              "#d8576b"
             ],
             [
              0.6666666666666666,
              "#ed7953"
             ],
             [
              0.7777777777777778,
              "#fb9f3a"
             ],
             [
              0.8888888888888888,
              "#fdca26"
             ],
             [
              1,
              "#f0f921"
             ]
            ],
            "type": "heatmapgl"
           }
          ],
          "histogram": [
           {
            "marker": {
             "colorbar": {
              "outlinewidth": 0,
              "ticks": ""
             }
            },
            "type": "histogram"
           }
          ],
          "histogram2d": [
           {
            "colorbar": {
             "outlinewidth": 0,
             "ticks": ""
            },
            "colorscale": [
             [
              0,
              "#0d0887"
             ],
             [
              0.1111111111111111,
              "#46039f"
             ],
             [
              0.2222222222222222,
              "#7201a8"
             ],
             [
              0.3333333333333333,
              "#9c179e"
             ],
             [
              0.4444444444444444,
              "#bd3786"
             ],
             [
              0.5555555555555556,
              "#d8576b"
             ],
             [
              0.6666666666666666,
              "#ed7953"
             ],
             [
              0.7777777777777778,
              "#fb9f3a"
             ],
             [
              0.8888888888888888,
              "#fdca26"
             ],
             [
              1,
              "#f0f921"
             ]
            ],
            "type": "histogram2d"
           }
          ],
          "histogram2dcontour": [
           {
            "colorbar": {
             "outlinewidth": 0,
             "ticks": ""
            },
            "colorscale": [
             [
              0,
              "#0d0887"
             ],
             [
              0.1111111111111111,
              "#46039f"
             ],
             [
              0.2222222222222222,
              "#7201a8"
             ],
             [
              0.3333333333333333,
              "#9c179e"
             ],
             [
              0.4444444444444444,
              "#bd3786"
             ],
             [
              0.5555555555555556,
              "#d8576b"
             ],
             [
              0.6666666666666666,
              "#ed7953"
             ],
             [
              0.7777777777777778,
              "#fb9f3a"
             ],
             [
              0.8888888888888888,
              "#fdca26"
             ],
             [
              1,
              "#f0f921"
             ]
            ],
            "type": "histogram2dcontour"
           }
          ],
          "mesh3d": [
           {
            "colorbar": {
             "outlinewidth": 0,
             "ticks": ""
            },
            "type": "mesh3d"
           }
          ],
          "parcoords": [
           {
            "line": {
             "colorbar": {
              "outlinewidth": 0,
              "ticks": ""
             }
            },
            "type": "parcoords"
           }
          ],
          "pie": [
           {
            "automargin": true,
            "type": "pie"
           }
          ],
          "scatter": [
           {
            "marker": {
             "colorbar": {
              "outlinewidth": 0,
              "ticks": ""
             }
            },
            "type": "scatter"
           }
          ],
          "scatter3d": [
           {
            "line": {
             "colorbar": {
              "outlinewidth": 0,
              "ticks": ""
             }
            },
            "marker": {
             "colorbar": {
              "outlinewidth": 0,
              "ticks": ""
             }
            },
            "type": "scatter3d"
           }
          ],
          "scattercarpet": [
           {
            "marker": {
             "colorbar": {
              "outlinewidth": 0,
              "ticks": ""
             }
            },
            "type": "scattercarpet"
           }
          ],
          "scattergeo": [
           {
            "marker": {
             "colorbar": {
              "outlinewidth": 0,
              "ticks": ""
             }
            },
            "type": "scattergeo"
           }
          ],
          "scattergl": [
           {
            "marker": {
             "colorbar": {
              "outlinewidth": 0,
              "ticks": ""
             }
            },
            "type": "scattergl"
           }
          ],
          "scattermapbox": [
           {
            "marker": {
             "colorbar": {
              "outlinewidth": 0,
              "ticks": ""
             }
            },
            "type": "scattermapbox"
           }
          ],
          "scatterpolar": [
           {
            "marker": {
             "colorbar": {
              "outlinewidth": 0,
              "ticks": ""
             }
            },
            "type": "scatterpolar"
           }
          ],
          "scatterpolargl": [
           {
            "marker": {
             "colorbar": {
              "outlinewidth": 0,
              "ticks": ""
             }
            },
            "type": "scatterpolargl"
           }
          ],
          "scatterternary": [
           {
            "marker": {
             "colorbar": {
              "outlinewidth": 0,
              "ticks": ""
             }
            },
            "type": "scatterternary"
           }
          ],
          "surface": [
           {
            "colorbar": {
             "outlinewidth": 0,
             "ticks": ""
            },
            "colorscale": [
             [
              0,
              "#0d0887"
             ],
             [
              0.1111111111111111,
              "#46039f"
             ],
             [
              0.2222222222222222,
              "#7201a8"
             ],
             [
              0.3333333333333333,
              "#9c179e"
             ],
             [
              0.4444444444444444,
              "#bd3786"
             ],
             [
              0.5555555555555556,
              "#d8576b"
             ],
             [
              0.6666666666666666,
              "#ed7953"
             ],
             [
              0.7777777777777778,
              "#fb9f3a"
             ],
             [
              0.8888888888888888,
              "#fdca26"
             ],
             [
              1,
              "#f0f921"
             ]
            ],
            "type": "surface"
           }
          ],
          "table": [
           {
            "cells": {
             "fill": {
              "color": "#EBF0F8"
             },
             "line": {
              "color": "white"
             }
            },
            "header": {
             "fill": {
              "color": "#C8D4E3"
             },
             "line": {
              "color": "white"
             }
            },
            "type": "table"
           }
          ]
         },
         "layout": {
          "annotationdefaults": {
           "arrowcolor": "#2a3f5f",
           "arrowhead": 0,
           "arrowwidth": 1
          },
          "coloraxis": {
           "colorbar": {
            "outlinewidth": 0,
            "ticks": ""
           }
          },
          "colorscale": {
           "diverging": [
            [
             0,
             "#8e0152"
            ],
            [
             0.1,
             "#c51b7d"
            ],
            [
             0.2,
             "#de77ae"
            ],
            [
             0.3,
             "#f1b6da"
            ],
            [
             0.4,
             "#fde0ef"
            ],
            [
             0.5,
             "#f7f7f7"
            ],
            [
             0.6,
             "#e6f5d0"
            ],
            [
             0.7,
             "#b8e186"
            ],
            [
             0.8,
             "#7fbc41"
            ],
            [
             0.9,
             "#4d9221"
            ],
            [
             1,
             "#276419"
            ]
           ],
           "sequential": [
            [
             0,
             "#0d0887"
            ],
            [
             0.1111111111111111,
             "#46039f"
            ],
            [
             0.2222222222222222,
             "#7201a8"
            ],
            [
             0.3333333333333333,
             "#9c179e"
            ],
            [
             0.4444444444444444,
             "#bd3786"
            ],
            [
             0.5555555555555556,
             "#d8576b"
            ],
            [
             0.6666666666666666,
             "#ed7953"
            ],
            [
             0.7777777777777778,
             "#fb9f3a"
            ],
            [
             0.8888888888888888,
             "#fdca26"
            ],
            [
             1,
             "#f0f921"
            ]
           ],
           "sequentialminus": [
            [
             0,
             "#0d0887"
            ],
            [
             0.1111111111111111,
             "#46039f"
            ],
            [
             0.2222222222222222,
             "#7201a8"
            ],
            [
             0.3333333333333333,
             "#9c179e"
            ],
            [
             0.4444444444444444,
             "#bd3786"
            ],
            [
             0.5555555555555556,
             "#d8576b"
            ],
            [
             0.6666666666666666,
             "#ed7953"
            ],
            [
             0.7777777777777778,
             "#fb9f3a"
            ],
            [
             0.8888888888888888,
             "#fdca26"
            ],
            [
             1,
             "#f0f921"
            ]
           ]
          },
          "colorway": [
           "#636efa",
           "#EF553B",
           "#00cc96",
           "#ab63fa",
           "#FFA15A",
           "#19d3f3",
           "#FF6692",
           "#B6E880",
           "#FF97FF",
           "#FECB52"
          ],
          "font": {
           "color": "#2a3f5f"
          },
          "geo": {
           "bgcolor": "white",
           "lakecolor": "white",
           "landcolor": "#E5ECF6",
           "showlakes": true,
           "showland": true,
           "subunitcolor": "white"
          },
          "hoverlabel": {
           "align": "left"
          },
          "hovermode": "closest",
          "mapbox": {
           "style": "light"
          },
          "paper_bgcolor": "white",
          "plot_bgcolor": "#E5ECF6",
          "polar": {
           "angularaxis": {
            "gridcolor": "white",
            "linecolor": "white",
            "ticks": ""
           },
           "bgcolor": "#E5ECF6",
           "radialaxis": {
            "gridcolor": "white",
            "linecolor": "white",
            "ticks": ""
           }
          },
          "scene": {
           "xaxis": {
            "backgroundcolor": "#E5ECF6",
            "gridcolor": "white",
            "gridwidth": 2,
            "linecolor": "white",
            "showbackground": true,
            "ticks": "",
            "zerolinecolor": "white"
           },
           "yaxis": {
            "backgroundcolor": "#E5ECF6",
            "gridcolor": "white",
            "gridwidth": 2,
            "linecolor": "white",
            "showbackground": true,
            "ticks": "",
            "zerolinecolor": "white"
           },
           "zaxis": {
            "backgroundcolor": "#E5ECF6",
            "gridcolor": "white",
            "gridwidth": 2,
            "linecolor": "white",
            "showbackground": true,
            "ticks": "",
            "zerolinecolor": "white"
           }
          },
          "shapedefaults": {
           "line": {
            "color": "#2a3f5f"
           }
          },
          "ternary": {
           "aaxis": {
            "gridcolor": "white",
            "linecolor": "white",
            "ticks": ""
           },
           "baxis": {
            "gridcolor": "white",
            "linecolor": "white",
            "ticks": ""
           },
           "bgcolor": "#E5ECF6",
           "caxis": {
            "gridcolor": "white",
            "linecolor": "white",
            "ticks": ""
           }
          },
          "title": {
           "x": 0.05
          },
          "xaxis": {
           "automargin": true,
           "gridcolor": "white",
           "linecolor": "white",
           "ticks": "",
           "title": {
            "standoff": 15
           },
           "zerolinecolor": "white",
           "zerolinewidth": 2
          },
          "yaxis": {
           "automargin": true,
           "gridcolor": "white",
           "linecolor": "white",
           "ticks": "",
           "title": {
            "standoff": 15
           },
           "zerolinecolor": "white",
           "zerolinewidth": 2
          }
         }
        },
        "title": {
         "text": "Quarantine Effectiveness"
        },
        "width": 500,
        "xaxis": {
         "anchor": "y",
         "domain": [
          0,
          1
         ],
         "title": {
          "text": "N_on_Q_prop"
         },
         "type": "log"
        },
        "yaxis": {
         "anchor": "x",
         "domain": [
          0,
          1
         ],
         "title": {
          "text": "N_per_1000"
         },
         "type": "log"
        }
       }
      },
      "text/html": [
       "<div>\n",
       "        \n",
       "        \n",
       "            <div id=\"5e461eda-b45a-43d5-9f3b-cc361a74ddb9\" class=\"plotly-graph-div\" style=\"height:400px; width:500px;\"></div>\n",
       "            <script type=\"text/javascript\">\n",
       "                require([\"plotly\"], function(Plotly) {\n",
       "                    window.PLOTLYENV=window.PLOTLYENV || {};\n",
       "                    \n",
       "                if (document.getElementById(\"5e461eda-b45a-43d5-9f3b-cc361a74ddb9\")) {\n",
       "                    Plotly.newPlot(\n",
       "                        '5e461eda-b45a-43d5-9f3b-cc361a74ddb9',\n",
       "                        [{\"hoverlabel\": {\"namelength\": 0}, \"hovertemplate\": \"<b>%{hovertext}</b><br><br>N_on_Q_prop=%{x}<br>N_per_1000=%{y}\", \"hovertext\": [\"NY\", \"NJ\", \"MI\", \"LA\", \"DE\", \"PA\", \"CO\", \"GA\", \"MD\", \"IN\", \"WA\", \"NV\", \"FL\", \"VA\", \"VT\", \"TN\", \"MO\", \"NH\", \"UT\", \"TX\", \"OH\", \"NM\", \"SC\", \"AZ\", \"ID\", \"NC\", \"WI\", \"KS\", \"ME\", \"CA\", \"ND\", \"OK\", \"NE\", \"WY\", \"OR\", \"AK\", \"MT\", \"WV\", \"HI\", \"Luxembourg\", \"Belgium\", \"Spain\", \"Italy\", \"United States\", \"United Kingdom\", \"Netherlands\", \"Portugal\", \"Germany\", \"Israel\", \"Austria\", \"Denmark\", \"Norway\", \"United Arab Emirates\", \"Chile\", \"Romania\", \"Poland\", \"Australia\", \"Malaysia\", \"Colombia\", \"Philippines\", \"Thailand\", \"India\"], \"legendgroup\": \"\", \"marker\": {\"color\": \"#636efa\", \"symbol\": \"circle\"}, \"mode\": \"markers\", \"name\": \"\", \"showlegend\": false, \"type\": \"scatter\", \"x\": [0.0015070268655779254, 4.859655733074946e-05, 0.020082364711699375, 0.0032863860205719618, 0.0031923556870439443, 0.004694105963412413, 0.0005223153254450288, 0.009991923671841645, 0.0020737628769794307, 6.593624402975756e-05, 0.023094422895938382, 0.009743638245991924, 0.012701138253443935, 0.002504107337086586, 0.018864379730360988, 0.009389907362951826, 0.030641699900112403, 0.015176731496210691, 0.013998716452280298, 0.0024740144638128875, 0.00023949391553486395, 0.00754900413113388, 0.008599246825921945, 0.0008043582003022044, 0.0015951678986658524, 0.0019872866007011763, 0.013339791974658734, 0.0017583094927670516, 0.0207719846442698, 0.0013201430071914154, 0.00636172881874338, 0.009551676984468415, 0.026159168985117803, 0.022159782385278572, 0.003675709600735751, 0.002093432857535178, 0.019761241314051853, 0.007013163492997881, 0.005670701682510486, 0.07303168881064971, 0.027904710566693542, 0.026231863136012463, 0.040156916873039225, 0.04751562384203656, 0.04519465053960788, 0.030549511595793128, 0.02909598161611636, 0.12510298006394782, 0.4519274353260965, 0.06500856784334884, 0.04593537024805252, 0.0863624253487431, 0.037811187985886716, 0.019778686335534326, 0.07154604857233648, 0.010380422529223898, 0.2652451815596249, 0.1098543340270831, 0.06974207456350848, 0.04174522610454452, 0.31953060713517123, 0.027560766210056445], \"xaxis\": \"x\", \"y\": [17.108856223147995, 12.153820202580652, 5.614556081846187, 5.0359150814719325, 3.3344551993557774, 2.646459782361891, 2.5312265550391397, 2.4208054335146065, 2.407923435909505, 1.969080729099535, 1.7245653213258938, 1.6314326127197096, 1.5465584834549677, 1.510187168069189, 1.4573287524267857, 1.3382903209139263, 1.2306943305971576, 1.1463695258774933, 1.1432514174314556, 1.0823032641492643, 1.077772769860383, 0.9802671643822856, 0.9714008393427674, 0.9496252688390701, 0.9351926539154838, 0.9152875787384658, 0.8873383009234981, 0.878605767037403, 0.8499206863369775, 0.8496346002834834, 0.8257621620287419, 0.7859414875162232, 0.7099160022813913, 0.5677523748017304, 0.567493256687876, 0.5405679738634532, 0.46713478851346507, 0.45367319769369563, 0.4180696153158948, 6.208659526254863, 4.474027955466968, 4.265570818567365, 3.3391628723802618, 3.1297761105147526, 2.8540816607110697, 2.7371121691774496, 2.4692234281184304, 1.888731009223429, 1.7120417507161887, 1.6792954514129805, 1.593070887769263, 1.4119005345191047, 0.9254661376733861, 0.8738850219402176, 0.6518108216211003, 0.27880425618648275, 0.2683965837475865, 0.22607975697619684, 0.11391595302044219, 0.06035711475702826, 0.040700807749439565, 0.015367332173285501], \"yaxis\": \"y\"}],\n",
       "                        {\"height\": 400, \"legend\": {\"tracegroupgap\": 0}, \"template\": {\"data\": {\"bar\": [{\"error_x\": {\"color\": \"#2a3f5f\"}, \"error_y\": {\"color\": \"#2a3f5f\"}, \"marker\": {\"line\": {\"color\": \"#E5ECF6\", \"width\": 0.5}}, \"type\": \"bar\"}], \"barpolar\": [{\"marker\": {\"line\": {\"color\": \"#E5ECF6\", \"width\": 0.5}}, \"type\": \"barpolar\"}], \"carpet\": [{\"aaxis\": {\"endlinecolor\": \"#2a3f5f\", \"gridcolor\": \"white\", \"linecolor\": \"white\", \"minorgridcolor\": \"white\", \"startlinecolor\": \"#2a3f5f\"}, \"baxis\": {\"endlinecolor\": \"#2a3f5f\", \"gridcolor\": \"white\", \"linecolor\": \"white\", \"minorgridcolor\": \"white\", \"startlinecolor\": \"#2a3f5f\"}, \"type\": \"carpet\"}], \"choropleth\": [{\"colorbar\": {\"outlinewidth\": 0, \"ticks\": \"\"}, \"type\": \"choropleth\"}], \"contour\": [{\"colorbar\": {\"outlinewidth\": 0, \"ticks\": \"\"}, \"colorscale\": [[0.0, \"#0d0887\"], [0.1111111111111111, \"#46039f\"], [0.2222222222222222, \"#7201a8\"], [0.3333333333333333, \"#9c179e\"], [0.4444444444444444, \"#bd3786\"], [0.5555555555555556, \"#d8576b\"], [0.6666666666666666, \"#ed7953\"], [0.7777777777777778, \"#fb9f3a\"], [0.8888888888888888, \"#fdca26\"], [1.0, \"#f0f921\"]], \"type\": \"contour\"}], \"contourcarpet\": [{\"colorbar\": {\"outlinewidth\": 0, \"ticks\": \"\"}, \"type\": \"contourcarpet\"}], \"heatmap\": [{\"colorbar\": {\"outlinewidth\": 0, \"ticks\": \"\"}, \"colorscale\": [[0.0, \"#0d0887\"], [0.1111111111111111, \"#46039f\"], [0.2222222222222222, \"#7201a8\"], [0.3333333333333333, \"#9c179e\"], [0.4444444444444444, \"#bd3786\"], [0.5555555555555556, \"#d8576b\"], [0.6666666666666666, \"#ed7953\"], [0.7777777777777778, \"#fb9f3a\"], [0.8888888888888888, \"#fdca26\"], [1.0, \"#f0f921\"]], \"type\": \"heatmap\"}], \"heatmapgl\": [{\"colorbar\": {\"outlinewidth\": 0, \"ticks\": \"\"}, \"colorscale\": [[0.0, \"#0d0887\"], [0.1111111111111111, \"#46039f\"], [0.2222222222222222, \"#7201a8\"], [0.3333333333333333, \"#9c179e\"], [0.4444444444444444, \"#bd3786\"], [0.5555555555555556, \"#d8576b\"], [0.6666666666666666, \"#ed7953\"], [0.7777777777777778, \"#fb9f3a\"], [0.8888888888888888, \"#fdca26\"], [1.0, \"#f0f921\"]], \"type\": \"heatmapgl\"}], \"histogram\": [{\"marker\": {\"colorbar\": {\"outlinewidth\": 0, \"ticks\": \"\"}}, \"type\": \"histogram\"}], \"histogram2d\": [{\"colorbar\": {\"outlinewidth\": 0, \"ticks\": \"\"}, \"colorscale\": [[0.0, \"#0d0887\"], [0.1111111111111111, \"#46039f\"], [0.2222222222222222, \"#7201a8\"], [0.3333333333333333, \"#9c179e\"], [0.4444444444444444, \"#bd3786\"], [0.5555555555555556, \"#d8576b\"], [0.6666666666666666, \"#ed7953\"], [0.7777777777777778, \"#fb9f3a\"], [0.8888888888888888, \"#fdca26\"], [1.0, \"#f0f921\"]], \"type\": \"histogram2d\"}], \"histogram2dcontour\": [{\"colorbar\": {\"outlinewidth\": 0, \"ticks\": \"\"}, \"colorscale\": [[0.0, \"#0d0887\"], [0.1111111111111111, \"#46039f\"], [0.2222222222222222, \"#7201a8\"], [0.3333333333333333, \"#9c179e\"], [0.4444444444444444, \"#bd3786\"], [0.5555555555555556, \"#d8576b\"], [0.6666666666666666, \"#ed7953\"], [0.7777777777777778, \"#fb9f3a\"], [0.8888888888888888, \"#fdca26\"], [1.0, \"#f0f921\"]], \"type\": \"histogram2dcontour\"}], \"mesh3d\": [{\"colorbar\": {\"outlinewidth\": 0, \"ticks\": \"\"}, \"type\": \"mesh3d\"}], \"parcoords\": [{\"line\": {\"colorbar\": {\"outlinewidth\": 0, \"ticks\": \"\"}}, \"type\": \"parcoords\"}], \"pie\": [{\"automargin\": true, \"type\": \"pie\"}], \"scatter\": [{\"marker\": {\"colorbar\": {\"outlinewidth\": 0, \"ticks\": \"\"}}, \"type\": \"scatter\"}], \"scatter3d\": [{\"line\": {\"colorbar\": {\"outlinewidth\": 0, \"ticks\": \"\"}}, \"marker\": {\"colorbar\": {\"outlinewidth\": 0, \"ticks\": \"\"}}, \"type\": \"scatter3d\"}], \"scattercarpet\": [{\"marker\": {\"colorbar\": {\"outlinewidth\": 0, \"ticks\": \"\"}}, \"type\": \"scattercarpet\"}], \"scattergeo\": [{\"marker\": {\"colorbar\": {\"outlinewidth\": 0, \"ticks\": \"\"}}, \"type\": \"scattergeo\"}], \"scattergl\": [{\"marker\": {\"colorbar\": {\"outlinewidth\": 0, \"ticks\": \"\"}}, \"type\": \"scattergl\"}], \"scattermapbox\": [{\"marker\": {\"colorbar\": {\"outlinewidth\": 0, \"ticks\": \"\"}}, \"type\": \"scattermapbox\"}], \"scatterpolar\": [{\"marker\": {\"colorbar\": {\"outlinewidth\": 0, \"ticks\": \"\"}}, \"type\": \"scatterpolar\"}], \"scatterpolargl\": [{\"marker\": {\"colorbar\": {\"outlinewidth\": 0, \"ticks\": \"\"}}, \"type\": \"scatterpolargl\"}], \"scatterternary\": [{\"marker\": {\"colorbar\": {\"outlinewidth\": 0, \"ticks\": \"\"}}, \"type\": \"scatterternary\"}], \"surface\": [{\"colorbar\": {\"outlinewidth\": 0, \"ticks\": \"\"}, \"colorscale\": [[0.0, \"#0d0887\"], [0.1111111111111111, \"#46039f\"], [0.2222222222222222, \"#7201a8\"], [0.3333333333333333, \"#9c179e\"], [0.4444444444444444, \"#bd3786\"], [0.5555555555555556, \"#d8576b\"], [0.6666666666666666, \"#ed7953\"], [0.7777777777777778, \"#fb9f3a\"], [0.8888888888888888, \"#fdca26\"], [1.0, \"#f0f921\"]], \"type\": \"surface\"}], \"table\": [{\"cells\": {\"fill\": {\"color\": \"#EBF0F8\"}, \"line\": {\"color\": \"white\"}}, \"header\": {\"fill\": {\"color\": \"#C8D4E3\"}, \"line\": {\"color\": \"white\"}}, \"type\": \"table\"}]}, \"layout\": {\"annotationdefaults\": {\"arrowcolor\": \"#2a3f5f\", \"arrowhead\": 0, \"arrowwidth\": 1}, \"coloraxis\": {\"colorbar\": {\"outlinewidth\": 0, \"ticks\": \"\"}}, \"colorscale\": {\"diverging\": [[0, \"#8e0152\"], [0.1, \"#c51b7d\"], [0.2, \"#de77ae\"], [0.3, \"#f1b6da\"], [0.4, \"#fde0ef\"], [0.5, \"#f7f7f7\"], [0.6, \"#e6f5d0\"], [0.7, \"#b8e186\"], [0.8, \"#7fbc41\"], [0.9, \"#4d9221\"], [1, \"#276419\"]], \"sequential\": [[0.0, \"#0d0887\"], [0.1111111111111111, \"#46039f\"], [0.2222222222222222, \"#7201a8\"], [0.3333333333333333, \"#9c179e\"], [0.4444444444444444, \"#bd3786\"], [0.5555555555555556, \"#d8576b\"], [0.6666666666666666, \"#ed7953\"], [0.7777777777777778, \"#fb9f3a\"], [0.8888888888888888, \"#fdca26\"], [1.0, \"#f0f921\"]], \"sequentialminus\": [[0.0, \"#0d0887\"], [0.1111111111111111, \"#46039f\"], [0.2222222222222222, \"#7201a8\"], [0.3333333333333333, \"#9c179e\"], [0.4444444444444444, \"#bd3786\"], [0.5555555555555556, \"#d8576b\"], [0.6666666666666666, \"#ed7953\"], [0.7777777777777778, \"#fb9f3a\"], [0.8888888888888888, \"#fdca26\"], [1.0, \"#f0f921\"]]}, \"colorway\": [\"#636efa\", \"#EF553B\", \"#00cc96\", \"#ab63fa\", \"#FFA15A\", \"#19d3f3\", \"#FF6692\", \"#B6E880\", \"#FF97FF\", \"#FECB52\"], \"font\": {\"color\": \"#2a3f5f\"}, \"geo\": {\"bgcolor\": \"white\", \"lakecolor\": \"white\", \"landcolor\": \"#E5ECF6\", \"showlakes\": true, \"showland\": true, \"subunitcolor\": \"white\"}, \"hoverlabel\": {\"align\": \"left\"}, \"hovermode\": \"closest\", \"mapbox\": {\"style\": \"light\"}, \"paper_bgcolor\": \"white\", \"plot_bgcolor\": \"#E5ECF6\", \"polar\": {\"angularaxis\": {\"gridcolor\": \"white\", \"linecolor\": \"white\", \"ticks\": \"\"}, \"bgcolor\": \"#E5ECF6\", \"radialaxis\": {\"gridcolor\": \"white\", \"linecolor\": \"white\", \"ticks\": \"\"}}, \"scene\": {\"xaxis\": {\"backgroundcolor\": \"#E5ECF6\", \"gridcolor\": \"white\", \"gridwidth\": 2, \"linecolor\": \"white\", \"showbackground\": true, \"ticks\": \"\", \"zerolinecolor\": \"white\"}, \"yaxis\": {\"backgroundcolor\": \"#E5ECF6\", \"gridcolor\": \"white\", \"gridwidth\": 2, \"linecolor\": \"white\", \"showbackground\": true, \"ticks\": \"\", \"zerolinecolor\": \"white\"}, \"zaxis\": {\"backgroundcolor\": \"#E5ECF6\", \"gridcolor\": \"white\", \"gridwidth\": 2, \"linecolor\": \"white\", \"showbackground\": true, \"ticks\": \"\", \"zerolinecolor\": \"white\"}}, \"shapedefaults\": {\"line\": {\"color\": \"#2a3f5f\"}}, \"ternary\": {\"aaxis\": {\"gridcolor\": \"white\", \"linecolor\": \"white\", \"ticks\": \"\"}, \"baxis\": {\"gridcolor\": \"white\", \"linecolor\": \"white\", \"ticks\": \"\"}, \"bgcolor\": \"#E5ECF6\", \"caxis\": {\"gridcolor\": \"white\", \"linecolor\": \"white\", \"ticks\": \"\"}}, \"title\": {\"x\": 0.05}, \"xaxis\": {\"automargin\": true, \"gridcolor\": \"white\", \"linecolor\": \"white\", \"ticks\": \"\", \"title\": {\"standoff\": 15}, \"zerolinecolor\": \"white\", \"zerolinewidth\": 2}, \"yaxis\": {\"automargin\": true, \"gridcolor\": \"white\", \"linecolor\": \"white\", \"ticks\": \"\", \"title\": {\"standoff\": 15}, \"zerolinecolor\": \"white\", \"zerolinewidth\": 2}}}, \"title\": {\"text\": \"Quarantine Effectiveness\"}, \"width\": 500, \"xaxis\": {\"anchor\": \"y\", \"domain\": [0.0, 1.0], \"title\": {\"text\": \"N_on_Q_prop\"}, \"type\": \"log\"}, \"yaxis\": {\"anchor\": \"x\", \"domain\": [0.0, 1.0], \"title\": {\"text\": \"N_per_1000\"}, \"type\": \"log\"}},\n",
       "                        {\"responsive\": true}\n",
       "                    ).then(function(){\n",
       "                            \n",
       "var gd = document.getElementById('5e461eda-b45a-43d5-9f3b-cc361a74ddb9');\n",
       "var x = new MutationObserver(function (mutations, observer) {{\n",
       "        var display = window.getComputedStyle(gd).display;\n",
       "        if (!display || display === 'none') {{\n",
       "            console.log([gd, 'removed!']);\n",
       "            Plotly.purge(gd);\n",
       "            observer.disconnect();\n",
       "        }}\n",
       "}});\n",
       "\n",
       "// Listen for the removal of the full notebook cells\n",
       "var notebookContainer = gd.closest('#notebook-container');\n",
       "if (notebookContainer) {{\n",
       "    x.observe(notebookContainer, {childList: true});\n",
       "}}\n",
       "\n",
       "// Listen for the clearing of the current output cell\n",
       "var outputEl = gd.closest('.output');\n",
       "if (outputEl) {{\n",
       "    x.observe(outputEl, {childList: true});\n",
       "}}\n",
       "\n",
       "                        })\n",
       "                };\n",
       "                });\n",
       "            </script>\n",
       "        </div>"
      ]
     },
     "metadata": {},
     "output_type": "display_data"
    }
   ],
   "source": [
    "plottable = state_plottable.append(country_plottable)\n",
    "#plottable = country_plottable\n",
    "fig = px.scatter(plottable, x='N_on_Q_prop', y='N_per_1000', \n",
    "                 hover_name=plottable.index.to_series(),\n",
    "                 trendline=None,width=500,height=400, log_x=True, log_y=True,\n",
    "                 title='Quarantine Effectiveness')\n",
    "#fig.update_yaxes(title=\"Infection Rate (speed of spread)\")\n",
    "#fig.update_xaxes(title=\"Quarantine Headstart (days)\")\n",
    "fig.show()"
   ]
  },
  {
   "cell_type": "code",
   "execution_count": null,
   "metadata": {},
   "outputs": [],
   "source": []
  },
  {
   "cell_type": "code",
   "execution_count": null,
   "metadata": {},
   "outputs": [],
   "source": []
  }
 ],
 "metadata": {
  "kernelspec": {
   "display_name": "Python 3",
   "language": "python",
   "name": "python3"
  },
  "language_info": {
   "codemirror_mode": {
    "name": "ipython",
    "version": 3
   },
   "file_extension": ".py",
   "mimetype": "text/x-python",
   "name": "python",
   "nbconvert_exporter": "python",
   "pygments_lexer": "ipython3",
   "version": "3.7.6"
  }
 },
 "nbformat": 4,
 "nbformat_minor": 4
}
