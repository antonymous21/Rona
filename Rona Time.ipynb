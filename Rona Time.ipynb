{
 "cells": [
  {
   "cell_type": "markdown",
   "metadata": {},
   "source": [
    "# *Flattening the Curve*: Nonlinear Regression of COVID-19 Data\n",
    "\n",
    "### Anton Zverev\n",
    "\n",
    "Last edited: 05/03/20\n",
    "\n",
    "\n",
    "---"
   ]
  },
  {
   "cell_type": "code",
   "execution_count": 37,
   "metadata": {},
   "outputs": [
    {
     "data": {
      "text/html": [
       "        <script type=\"text/javascript\">\n",
       "        window.PlotlyConfig = {MathJaxConfig: 'local'};\n",
       "        if (window.MathJax) {MathJax.Hub.Config({SVG: {font: \"STIX-Web\"}});}\n",
       "        if (typeof require !== 'undefined') {\n",
       "        require.undef(\"plotly\");\n",
       "        requirejs.config({\n",
       "            paths: {\n",
       "                'plotly': ['https://cdn.plot.ly/plotly-latest.min']\n",
       "            }\n",
       "        });\n",
       "        require(['plotly'], function(Plotly) {\n",
       "            window._Plotly = Plotly;\n",
       "        });\n",
       "        }\n",
       "        </script>\n",
       "        "
      ]
     },
     "metadata": {},
     "output_type": "display_data"
    }
   ],
   "source": [
    "import pandas as pd\n",
    "import numpy as np\n",
    "import inspect\n",
    "from scipy import stats\n",
    "from scipy import special\n",
    "from math import sqrt\n",
    "import time\n",
    "import datetime\n",
    "\n",
    "import matplotlib.pyplot as plt\n",
    "from scipy.optimize import least_squares\n",
    "import seaborn as sns\n",
    "\n",
    "import ipywidgets as widgets\n",
    "from ipywidgets import interact\n",
    "import plotly.offline as py\n",
    "import plotly.express as px\n",
    "import plotly.colors as pc\n",
    "import plotly.graph_objects as go\n",
    "from plotly.subplots import make_subplots\n",
    "import cufflinks as cf\n",
    "cf.set_config_file(offline=True, sharing=False, theme='ggplot');"
   ]
  },
  {
   "cell_type": "markdown",
   "metadata": {},
   "source": [
    "# Data Importation & Cleaning"
   ]
  },
  {
   "cell_type": "markdown",
   "metadata": {},
   "source": [
    "First, import raw data:"
   ]
  },
  {
   "cell_type": "code",
   "execution_count": 2,
   "metadata": {},
   "outputs": [],
   "source": [
    "data_url_states = 'https://raw.githubusercontent.com/COVID19Tracking/covid-tracking-data/master/data/states_daily_4pm_et.csv'\n",
    "data_url_global = 'https://raw.githubusercontent.com/CSSEGISandData/COVID-19/master/csse_covid_19_data/csse_covid_19_time_series/time_series_covid19_confirmed_global.csv'\n",
    "\n",
    "raw_df_states = pd.read_csv(data_url_states) # state-by-state data\n",
    "raw_df_global = pd.read_csv(data_url_global) # country-by-country data"
   ]
  },
  {
   "cell_type": "markdown",
   "metadata": {},
   "source": [
    "I will reformat the global data into a new dataframe `global_cumulative` so that it's easier to use and intepret. I'll also only focus on the top 50 most affected countries."
   ]
  },
  {
   "cell_type": "code",
   "execution_count": 3,
   "metadata": {},
   "outputs": [
    {
     "data": {
      "text/html": [
       "<div>\n",
       "<style scoped>\n",
       "    .dataframe tbody tr th:only-of-type {\n",
       "        vertical-align: middle;\n",
       "    }\n",
       "\n",
       "    .dataframe tbody tr th {\n",
       "        vertical-align: top;\n",
       "    }\n",
       "\n",
       "    .dataframe thead th {\n",
       "        text-align: right;\n",
       "    }\n",
       "</style>\n",
       "<table border=\"1\" class=\"dataframe\">\n",
       "  <thead>\n",
       "    <tr style=\"text-align: right;\">\n",
       "      <th></th>\n",
       "      <th>United States</th>\n",
       "      <th>Spain</th>\n",
       "      <th>Italy</th>\n",
       "      <th>United Kingdom</th>\n",
       "      <th>France</th>\n",
       "      <th>Germany</th>\n",
       "      <th>Turkey</th>\n",
       "      <th>Russia</th>\n",
       "      <th>Brazil</th>\n",
       "      <th>Iran</th>\n",
       "      <th>...</th>\n",
       "      <th>Bangladesh</th>\n",
       "      <th>Norway</th>\n",
       "      <th>Czechia</th>\n",
       "      <th>Dominican Republic</th>\n",
       "      <th>Colombia</th>\n",
       "      <th>Panama</th>\n",
       "      <th>Australia</th>\n",
       "      <th>South Africa</th>\n",
       "      <th>Egypt</th>\n",
       "      <th>Malaysia</th>\n",
       "    </tr>\n",
       "    <tr>\n",
       "      <th>date</th>\n",
       "      <th></th>\n",
       "      <th></th>\n",
       "      <th></th>\n",
       "      <th></th>\n",
       "      <th></th>\n",
       "      <th></th>\n",
       "      <th></th>\n",
       "      <th></th>\n",
       "      <th></th>\n",
       "      <th></th>\n",
       "      <th></th>\n",
       "      <th></th>\n",
       "      <th></th>\n",
       "      <th></th>\n",
       "      <th></th>\n",
       "      <th></th>\n",
       "      <th></th>\n",
       "      <th></th>\n",
       "      <th></th>\n",
       "      <th></th>\n",
       "      <th></th>\n",
       "    </tr>\n",
       "  </thead>\n",
       "  <tbody>\n",
       "    <tr>\n",
       "      <th>2020-05-02</th>\n",
       "      <td>1132539</td>\n",
       "      <td>216582</td>\n",
       "      <td>209328</td>\n",
       "      <td>183500</td>\n",
       "      <td>168518</td>\n",
       "      <td>164967</td>\n",
       "      <td>124375</td>\n",
       "      <td>124054</td>\n",
       "      <td>97100</td>\n",
       "      <td>96448</td>\n",
       "      <td>...</td>\n",
       "      <td>8790</td>\n",
       "      <td>7809</td>\n",
       "      <td>7755</td>\n",
       "      <td>7578</td>\n",
       "      <td>7285</td>\n",
       "      <td>7090</td>\n",
       "      <td>6799</td>\n",
       "      <td>6336</td>\n",
       "      <td>6193</td>\n",
       "      <td>6176</td>\n",
       "    </tr>\n",
       "    <tr>\n",
       "      <th>2020-05-01</th>\n",
       "      <td>1103461</td>\n",
       "      <td>213435</td>\n",
       "      <td>207428</td>\n",
       "      <td>178685</td>\n",
       "      <td>167305</td>\n",
       "      <td>164077</td>\n",
       "      <td>122392</td>\n",
       "      <td>114431</td>\n",
       "      <td>92202</td>\n",
       "      <td>95646</td>\n",
       "      <td>...</td>\n",
       "      <td>8238</td>\n",
       "      <td>7783</td>\n",
       "      <td>7737</td>\n",
       "      <td>7288</td>\n",
       "      <td>7006</td>\n",
       "      <td>6720</td>\n",
       "      <td>6778</td>\n",
       "      <td>5951</td>\n",
       "      <td>5895</td>\n",
       "      <td>6071</td>\n",
       "    </tr>\n",
       "    <tr>\n",
       "      <th>2020-04-30</th>\n",
       "      <td>1069424</td>\n",
       "      <td>213435</td>\n",
       "      <td>205463</td>\n",
       "      <td>172481</td>\n",
       "      <td>167299</td>\n",
       "      <td>163009</td>\n",
       "      <td>120204</td>\n",
       "      <td>106498</td>\n",
       "      <td>87187</td>\n",
       "      <td>94640</td>\n",
       "      <td>...</td>\n",
       "      <td>7667</td>\n",
       "      <td>7738</td>\n",
       "      <td>7682</td>\n",
       "      <td>6972</td>\n",
       "      <td>6507</td>\n",
       "      <td>6532</td>\n",
       "      <td>6766</td>\n",
       "      <td>5647</td>\n",
       "      <td>5537</td>\n",
       "      <td>6002</td>\n",
       "    </tr>\n",
       "  </tbody>\n",
       "</table>\n",
       "<p>3 rows × 50 columns</p>\n",
       "</div>"
      ],
      "text/plain": [
       "            United States   Spain   Italy  United Kingdom  France  Germany  \\\n",
       "date                                                                         \n",
       "2020-05-02        1132539  216582  209328          183500  168518   164967   \n",
       "2020-05-01        1103461  213435  207428          178685  167305   164077   \n",
       "2020-04-30        1069424  213435  205463          172481  167299   163009   \n",
       "\n",
       "            Turkey  Russia  Brazil   Iran  ...  Bangladesh  Norway  Czechia  \\\n",
       "date                                       ...                                \n",
       "2020-05-02  124375  124054   97100  96448  ...        8790    7809     7755   \n",
       "2020-05-01  122392  114431   92202  95646  ...        8238    7783     7737   \n",
       "2020-04-30  120204  106498   87187  94640  ...        7667    7738     7682   \n",
       "\n",
       "            Dominican Republic  Colombia  Panama  Australia  South Africa  \\\n",
       "date                                                                        \n",
       "2020-05-02                7578      7285    7090       6799          6336   \n",
       "2020-05-01                7288      7006    6720       6778          5951   \n",
       "2020-04-30                6972      6507    6532       6766          5647   \n",
       "\n",
       "            Egypt  Malaysia  \n",
       "date                         \n",
       "2020-05-02   6193      6176  \n",
       "2020-05-01   5895      6071  \n",
       "2020-04-30   5537      6002  \n",
       "\n",
       "[3 rows x 50 columns]"
      ]
     },
     "execution_count": 3,
     "metadata": {},
     "output_type": "execute_result"
    }
   ],
   "source": [
    "raw_df_global.drop(columns=['Province/State','Lat','Long'],inplace=True)\n",
    "raw_df_global.replace('US', 'United States',inplace=True)\n",
    "raw_df_global = raw_df_global.groupby(by='Country/Region',as_index=True).agg(sum)\n",
    "top_countries = raw_df_global.iloc[:,-1].sort_values(ascending=False).index[:50] # find top 50 countries\n",
    "\n",
    "global_cumulative = raw_df_global.loc[top_countries,:].T # only take top countries, and transpose\n",
    "global_cumulative.index.rename('date',inplace=True)\n",
    "global_cumulative.columns.name = None\n",
    "global_cumulative.index = pd.to_datetime(global_cumulative.index, format='%m/%d/%y') # fix timestamp\n",
    "global_cumulative.sort_values(by='date',ascending=False,inplace=True)\n",
    "\n",
    "global_cumulative.head(3)"
   ]
  },
  {
   "cell_type": "markdown",
   "metadata": {},
   "source": [
    "The raw state data is in a format that's hard to use, so I will convert it into a dataframe `states_cumulative` indexed by the date, with a separate column for each state:"
   ]
  },
  {
   "cell_type": "code",
   "execution_count": 4,
   "metadata": {
    "jupyter": {
     "source_hidden": true
    }
   },
   "outputs": [
    {
     "data": {
      "text/html": [
       "<div>\n",
       "<style scoped>\n",
       "    .dataframe tbody tr th:only-of-type {\n",
       "        vertical-align: middle;\n",
       "    }\n",
       "\n",
       "    .dataframe tbody tr th {\n",
       "        vertical-align: top;\n",
       "    }\n",
       "\n",
       "    .dataframe thead th {\n",
       "        text-align: right;\n",
       "    }\n",
       "</style>\n",
       "<table border=\"1\" class=\"dataframe\">\n",
       "  <thead>\n",
       "    <tr style=\"text-align: right;\">\n",
       "      <th></th>\n",
       "      <th>AK</th>\n",
       "      <th>AL</th>\n",
       "      <th>AR</th>\n",
       "      <th>AZ</th>\n",
       "      <th>CA</th>\n",
       "      <th>CO</th>\n",
       "      <th>CT</th>\n",
       "      <th>DC</th>\n",
       "      <th>DE</th>\n",
       "      <th>FL</th>\n",
       "      <th>...</th>\n",
       "      <th>SD</th>\n",
       "      <th>TN</th>\n",
       "      <th>TX</th>\n",
       "      <th>UT</th>\n",
       "      <th>VA</th>\n",
       "      <th>VT</th>\n",
       "      <th>WA</th>\n",
       "      <th>WI</th>\n",
       "      <th>WV</th>\n",
       "      <th>WY</th>\n",
       "    </tr>\n",
       "    <tr>\n",
       "      <th>date</th>\n",
       "      <th></th>\n",
       "      <th></th>\n",
       "      <th></th>\n",
       "      <th></th>\n",
       "      <th></th>\n",
       "      <th></th>\n",
       "      <th></th>\n",
       "      <th></th>\n",
       "      <th></th>\n",
       "      <th></th>\n",
       "      <th></th>\n",
       "      <th></th>\n",
       "      <th></th>\n",
       "      <th></th>\n",
       "      <th></th>\n",
       "      <th></th>\n",
       "      <th></th>\n",
       "      <th></th>\n",
       "      <th></th>\n",
       "      <th></th>\n",
       "      <th></th>\n",
       "    </tr>\n",
       "  </thead>\n",
       "  <tbody>\n",
       "    <tr>\n",
       "      <th>2020-05-02</th>\n",
       "      <td>365.0</td>\n",
       "      <td>7434.0</td>\n",
       "      <td>3372.0</td>\n",
       "      <td>8364.0</td>\n",
       "      <td>52197.0</td>\n",
       "      <td>15768.0</td>\n",
       "      <td>28764.0</td>\n",
       "      <td>4797.0</td>\n",
       "      <td>5038.0</td>\n",
       "      <td>35463.0</td>\n",
       "      <td>...</td>\n",
       "      <td>2588.0</td>\n",
       "      <td>12661.0</td>\n",
       "      <td>30522.0</td>\n",
       "      <td>4981.0</td>\n",
       "      <td>17731.0</td>\n",
       "      <td>886.0</td>\n",
       "      <td>14637.0</td>\n",
       "      <td>7660.0</td>\n",
       "      <td>1169.0</td>\n",
       "      <td>566.0</td>\n",
       "    </tr>\n",
       "    <tr>\n",
       "      <th>2020-05-01</th>\n",
       "      <td>364.0</td>\n",
       "      <td>7158.0</td>\n",
       "      <td>3321.0</td>\n",
       "      <td>7962.0</td>\n",
       "      <td>50442.0</td>\n",
       "      <td>15284.0</td>\n",
       "      <td>28764.0</td>\n",
       "      <td>4658.0</td>\n",
       "      <td>4918.0</td>\n",
       "      <td>34728.0</td>\n",
       "      <td>...</td>\n",
       "      <td>2525.0</td>\n",
       "      <td>11891.0</td>\n",
       "      <td>29229.0</td>\n",
       "      <td>4828.0</td>\n",
       "      <td>16901.0</td>\n",
       "      <td>879.0</td>\n",
       "      <td>14327.0</td>\n",
       "      <td>7314.0</td>\n",
       "      <td>1136.0</td>\n",
       "      <td>559.0</td>\n",
       "    </tr>\n",
       "    <tr>\n",
       "      <th>2020-04-30</th>\n",
       "      <td>355.0</td>\n",
       "      <td>7019.0</td>\n",
       "      <td>3255.0</td>\n",
       "      <td>7648.0</td>\n",
       "      <td>48917.0</td>\n",
       "      <td>14758.0</td>\n",
       "      <td>27700.0</td>\n",
       "      <td>4323.0</td>\n",
       "      <td>4734.0</td>\n",
       "      <td>33690.0</td>\n",
       "      <td>...</td>\n",
       "      <td>2449.0</td>\n",
       "      <td>10366.0</td>\n",
       "      <td>28087.0</td>\n",
       "      <td>4672.0</td>\n",
       "      <td>15846.0</td>\n",
       "      <td>866.0</td>\n",
       "      <td>14070.0</td>\n",
       "      <td>6854.0</td>\n",
       "      <td>1118.0</td>\n",
       "      <td>544.0</td>\n",
       "    </tr>\n",
       "    <tr>\n",
       "      <th>2020-04-29</th>\n",
       "      <td>355.0</td>\n",
       "      <td>6842.0</td>\n",
       "      <td>3192.0</td>\n",
       "      <td>7202.0</td>\n",
       "      <td>46500.0</td>\n",
       "      <td>14735.0</td>\n",
       "      <td>26767.0</td>\n",
       "      <td>4106.0</td>\n",
       "      <td>4655.0</td>\n",
       "      <td>33193.0</td>\n",
       "      <td>...</td>\n",
       "      <td>2373.0</td>\n",
       "      <td>10366.0</td>\n",
       "      <td>27054.0</td>\n",
       "      <td>4495.0</td>\n",
       "      <td>14961.0</td>\n",
       "      <td>862.0</td>\n",
       "      <td>13842.0</td>\n",
       "      <td>6520.0</td>\n",
       "      <td>1095.0</td>\n",
       "      <td>536.0</td>\n",
       "    </tr>\n",
       "    <tr>\n",
       "      <th>2020-04-28</th>\n",
       "      <td>351.0</td>\n",
       "      <td>6687.0</td>\n",
       "      <td>3111.0</td>\n",
       "      <td>6948.0</td>\n",
       "      <td>45031.0</td>\n",
       "      <td>13879.0</td>\n",
       "      <td>26312.0</td>\n",
       "      <td>3994.0</td>\n",
       "      <td>4575.0</td>\n",
       "      <td>32846.0</td>\n",
       "      <td>...</td>\n",
       "      <td>2313.0</td>\n",
       "      <td>10052.0</td>\n",
       "      <td>26171.0</td>\n",
       "      <td>4343.0</td>\n",
       "      <td>13794.0</td>\n",
       "      <td>862.0</td>\n",
       "      <td>13686.0</td>\n",
       "      <td>6289.0</td>\n",
       "      <td>1079.0</td>\n",
       "      <td>389.0</td>\n",
       "    </tr>\n",
       "  </tbody>\n",
       "</table>\n",
       "<p>5 rows × 53 columns</p>\n",
       "</div>"
      ],
      "text/plain": [
       "               AK      AL      AR      AZ       CA       CO       CT      DC  \\\n",
       "date                                                                           \n",
       "2020-05-02  365.0  7434.0  3372.0  8364.0  52197.0  15768.0  28764.0  4797.0   \n",
       "2020-05-01  364.0  7158.0  3321.0  7962.0  50442.0  15284.0  28764.0  4658.0   \n",
       "2020-04-30  355.0  7019.0  3255.0  7648.0  48917.0  14758.0  27700.0  4323.0   \n",
       "2020-04-29  355.0  6842.0  3192.0  7202.0  46500.0  14735.0  26767.0  4106.0   \n",
       "2020-04-28  351.0  6687.0  3111.0  6948.0  45031.0  13879.0  26312.0  3994.0   \n",
       "\n",
       "                DE       FL  ...      SD       TN       TX      UT       VA  \\\n",
       "date                         ...                                              \n",
       "2020-05-02  5038.0  35463.0  ...  2588.0  12661.0  30522.0  4981.0  17731.0   \n",
       "2020-05-01  4918.0  34728.0  ...  2525.0  11891.0  29229.0  4828.0  16901.0   \n",
       "2020-04-30  4734.0  33690.0  ...  2449.0  10366.0  28087.0  4672.0  15846.0   \n",
       "2020-04-29  4655.0  33193.0  ...  2373.0  10366.0  27054.0  4495.0  14961.0   \n",
       "2020-04-28  4575.0  32846.0  ...  2313.0  10052.0  26171.0  4343.0  13794.0   \n",
       "\n",
       "               VT       WA      WI      WV     WY  \n",
       "date                                               \n",
       "2020-05-02  886.0  14637.0  7660.0  1169.0  566.0  \n",
       "2020-05-01  879.0  14327.0  7314.0  1136.0  559.0  \n",
       "2020-04-30  866.0  14070.0  6854.0  1118.0  544.0  \n",
       "2020-04-29  862.0  13842.0  6520.0  1095.0  536.0  \n",
       "2020-04-28  862.0  13686.0  6289.0  1079.0  389.0  \n",
       "\n",
       "[5 rows x 53 columns]"
      ]
     },
     "execution_count": 4,
     "metadata": {},
     "output_type": "execute_result"
    }
   ],
   "source": [
    "states_list = raw_df_states['state'].unique() # list of state abbreviations (50 states + 5 territories + DC)\n",
    "\n",
    "raw_df_states['date'] = pd.to_datetime(raw_df_states['date'], format='%Y%m%d') # fix timestamp\n",
    "raw_df_states = raw_df_states[['date','state','positive']] #extract the columns I care about\n",
    "\n",
    "states_cumulative = raw_df_states[raw_df_states['state']=='AK'][['date','positive']]\n",
    "states_cumulative.reset_index(drop=True,inplace=True)\n",
    "\n",
    "for s in states_list:\n",
    "    state_data = raw_df_states[raw_df_states['state']==s]['positive']\n",
    "    states_cumulative[s] = state_data.reset_index(drop=True)\n",
    "\n",
    "states_cumulative.set_index('date',inplace=True) # index by date\n",
    "states_cumulative.drop(columns='positive',inplace=True)\n",
    "states_cumulative.fillna(value=0,inplace=True) # nan values will mess up the regression later\n",
    "states_cumulative = states_cumulative.loc[:,(states_cumulative.iloc[0,:]>100).values] # remove states with <100 cases\n",
    "states_list = states_cumulative.columns\n",
    "\n",
    "states_cumulative.head()"
   ]
  },
  {
   "cell_type": "markdown",
   "metadata": {},
   "source": [
    "# Data Visualization"
   ]
  },
  {
   "cell_type": "markdown",
   "metadata": {},
   "source": [
    "Besides the number of cumulative cases, it will also be helpful to look at the case increase per day. This is defined as the difference between the cumulative case counts on consecutive days. I'll store this data in `states_inc` and `global_inc`, and a smoothed (rolling 3-day average) version of the same data in `states_inc_rolling3` and `global_inc_rolling3`."
   ]
  },
  {
   "cell_type": "code",
   "execution_count": 5,
   "metadata": {},
   "outputs": [],
   "source": [
    "states_inc = states_cumulative.diff(periods=-1)\n",
    "states_inc_rolling3 = (states_inc.shift(-1)+states_inc.shift(1)+states_inc)/3\n",
    "states_inc_rolling3.dropna(inplace=True)\n",
    "\n",
    "global_inc = global_cumulative.diff(periods=-1)\n",
    "global_inc_rolling3 = (global_inc.shift(-1)+global_inc.shift(1)+global_inc)/3\n",
    "global_inc_rolling3.dropna(inplace=True)"
   ]
  },
  {
   "cell_type": "markdown",
   "metadata": {},
   "source": [
    "For regression analysis, we will need the dependent variable to be numeric, so I create `x_data`, which is the number of days that have passed since the beinning of the year. `x_data_global` is the same thing for the global dataframe."
   ]
  },
  {
   "cell_type": "code",
   "execution_count": 6,
   "metadata": {},
   "outputs": [],
   "source": [
    "x_data = states_cumulative.index.to_series().dt.dayofyear\n",
    "x_data_global = global_cumulative.index.to_series().dt.dayofyear"
   ]
  },
  {
   "cell_type": "markdown",
   "metadata": {},
   "source": [
    "Let's now visualize some of our data! States first:"
   ]
  },
  {
   "cell_type": "code",
   "execution_count": 7,
   "metadata": {
    "jupyter": {
     "source_hidden": true
    },
    "scrolled": true
   },
   "outputs": [
    {
     "data": {
      "image/png": "[encoded data removed]",
      "text/plain": [
       "<Figure size 936x360 with 2 Axes>"
      ]
     },
     "metadata": {
      "needs_background": "light"
     },
     "output_type": "display_data"
    }
   ],
   "source": [
    "subset = ['CA','NY','NJ']\n",
    "\n",
    "fig, ax = plt.subplots(1,2,figsize=(13,5))\n",
    "ax[0].plot(x_data,states_cumulative[subset]);\n",
    "ax[0].set(xlabel='Day of Year',ylabel='Number of Total Cases',title='Cumulative Case Count Over Time')\n",
    "ax[0].legend(subset)\n",
    "\n",
    "ax[1].plot(x_data[states_inc_rolling3.index],states_inc_rolling3[subset]);\n",
    "ax[1].set(xlabel='Days of Year',ylabel='Number of New Cases',title='Daily Incidence Over Time')\n",
    "ax[1].legend(subset)\n",
    "\n",
    "plt.show()"
   ]
  },
  {
   "cell_type": "markdown",
   "metadata": {},
   "source": [
    "And we can do the same for countries:"
   ]
  },
  {
   "cell_type": "code",
   "execution_count": 8,
   "metadata": {
    "jupyter": {
     "source_hidden": true
    }
   },
   "outputs": [
    {
     "data": {
      "image/png": "[encoded data removed]",
      "text/plain": [
       "<Figure size 936x360 with 2 Axes>"
      ]
     },
     "metadata": {
      "needs_background": "light"
     },
     "output_type": "display_data"
    }
   ],
   "source": [
    "subset = global_cumulative.columns[:3]\n",
    "\n",
    "fig, ax = plt.subplots(1,2,figsize=(13,5))\n",
    "ax[0].plot(x_data_global,global_cumulative[subset]);\n",
    "ax[0].set(xlabel='Day of Year',ylabel='Number of Total Cases',title='Cumulative Case Count Over Time')\n",
    "ax[0].legend(subset)\n",
    "\n",
    "ax[1].plot(x_data_global[global_inc_rolling3.index],global_inc_rolling3[subset]);\n",
    "ax[1].set(xlabel='Days of Year',ylabel='Number of New Cases',title='Daily Incidence Over Time')\n",
    "ax[1].legend(subset)\n",
    "\n",
    "plt.show()"
   ]
  },
  {
   "cell_type": "markdown",
   "metadata": {},
   "source": [
    "# Disease Modeling Basics"
   ]
  },
  {
   "cell_type": "markdown",
   "metadata": {},
   "source": [
    "Before we go further let's clarify some terminology.\n",
    "\n",
    ">**Daily incidence**: the number of new cases that are diagnosed every day. This represents how many new people are becoming infected every day. It's described in more detail [here](https://en.wikipedia.org/wiki/Incidence_(epidemiology)).\n",
    "\n",
    ">**Cumulative case count**: the number of cumulative cases every day. This represents how many total people have been infected up until a certain day.\n",
    "\n",
    "The graphs we just plotted above were the cumulative case count over time and the daily incidence over time, respectively. They are two different representations of the same data; the former is just the sum of the latter. Mathematically speaking, the cumulative case count at a certain day is the integral of the incidence up to that day. Equivalently, the incidence at a certain day is the derivative of the cumulative incidence on that day."
   ]
  },
  {
   "cell_type": "markdown",
   "metadata": {},
   "source": [
    "You may notice that the cumulative case counts look like they are increasing exponentially. In the early days of the outbreak, experts warned the public about such [exponential growth](https://en.wikipedia.org/wiki/Exponential_growth).\n",
    "\n",
    "But wait! An important property of an exponential is that its derivative and integral is also an exponential. If the cumulative case count were exponential, then the daily incidence would be, too. But you can clearly see in the graphs above that the daily incidence first rises and then falls. It looks like a jagged hump. In fact, the daily incidence somewhat resembles a *bell curve*.\n",
    "\n",
    "You may even have seen coronavirus graphs in the news that look something like this:"
   ]
  },
  {
   "cell_type": "code",
   "execution_count": 9,
   "metadata": {
    "jupyter": {
     "source_hidden": true
    }
   },
   "outputs": [
    {
     "data": {
      "image/png": "[encoded data removed]",
      "text/plain": [
       "<Figure size 432x288 with 1 Axes>"
      ]
     },
     "metadata": {
      "needs_background": "light"
     },
     "output_type": "display_data"
    }
   ],
   "source": [
    "normal_1 = stats.norm(loc = 5, scale = 1) # gaussian with mean = 5, std = 1\n",
    "normal_2 = stats.norm(loc = 10, scale = 3) # gaussian with mean = 10, std = 3\n",
    "x = np.arange(0,20,0.1)\n",
    "plt.plot(x,normal_1.pdf(x),x,normal_2.pdf(x)) # plot probability density functions\n",
    "plt.xlabel('Days')\n",
    "plt.ylabel('Number of new cases')\n",
    "plt.legend(['Fast spread','Slow spread'])\n",
    "plt.show()"
   ]
  },
  {
   "cell_type": "markdown",
   "metadata": {},
   "source": [
    "Look's familiar right? Well, it turns out that when disease outbreaks happen, the daily incidence generally looks hump-shaped like that. The basic explanation is that in the beginning, very few people have the disease, but each person can infect several other people. The incidence increases rapidly as each new infected person infects many more people. Eventually, the incidence reaches a maximum. Let's define it:\n",
    ">**Turning point, $t_i$**: the point at which the daily incidence reaches its peak, or \"flattens out\".\n",
    "\n",
    "The turning point can be thought of as a saturation point, where so many people have been infected that the amount of new people available to be infected starts getting smaller. This process continues, and the daily incidence continues to decrease until it reaches zero: the outbreak is over.\n",
    "\n",
    "Great! We have a rough idea of what daily incidence numbers should look like over time. What should the cumulative case counts look like? Well, it's the integral of a bell curve:"
   ]
  },
  {
   "cell_type": "code",
   "execution_count": 10,
   "metadata": {
    "jupyter": {
     "source_hidden": true
    }
   },
   "outputs": [
    {
     "data": {
      "image/png": "[encoded data removed]",
      "text/plain": [
       "<Figure size 432x288 with 1 Axes>"
      ]
     },
     "metadata": {
      "needs_background": "light"
     },
     "output_type": "display_data"
    }
   ],
   "source": [
    "plt.plot(x,normal_1.cdf(x),x,normal_2.cdf(x)) # plot cumulative distribution functions\n",
    "plt.xlabel('Days')\n",
    "plt.ylabel('Number of cumulative cases')\n",
    "plt.legend(['Fast spread','Slow spread'])\n",
    "plt.show()"
   ]
  },
  {
   "cell_type": "markdown",
   "metadata": {},
   "source": [
    "We see that the cumulative case curve is S-shaped and monotonically increasing – first rapid growth, then slow growth that approaches a plateau. Depending on how fast the spread of the disease is, the curve can be steeper or shallower. Also notice that the turning point, which was the maximum on the daily incidence graph, is the inflection point on the cumulative case count graph.\n",
    "\n",
    "Now, let's get more precise with our math. What we have illustrated above are actually examples of distributions of continous variables, with the following analogies:\n",
    ">Daily incidence over time can be thought of as a **probability density function [(PDF)](https://en.wikipedia.org/wiki/Probability_density_function)**, which we call $\\phi(t)$.\n",
    "\n",
    ">Cumulative case count over time can be thought of as a **cumulative distribution function [(CDF)](https://en.wikipedia.org/wiki/Cumulative_distribution_function)**, which we call $\\Phi(t)$.\n",
    "\n",
    "Generally speaking, for any hump-shaped PDF, we will observe a [sigmoidal](https://en.wikipedia.org/wiki/Sigmoid_function) CDF, because $\\Phi(t)=\\int_0^t\\phi(\\tau)d\\tau$."
   ]
  },
  {
   "cell_type": "markdown",
   "metadata": {},
   "source": [
    "# Types of Models"
   ]
  },
  {
   "cell_type": "markdown",
   "metadata": {},
   "source": [
    "The question now is the following: what mathematical function best describes our coronavirus data? We saw above that a bell curve seems like a reasonable guess for $\\phi$, but there might be other functions that look similar. So, we need to find a few reasonable functions and define their PDFs as well as their **growth curves** (CDFs).\n",
    "\n",
    "There are at least two mathematical functions that are suitable:"
   ]
  },
  {
   "cell_type": "markdown",
   "metadata": {},
   "source": [
    ">**Normal** distribution [(link)](https://en.wikipedia.org/wiki/Normal_distribution), also called a Gaussian distribution or bell curve, defined by:\n",
    "\n",
    "$$ \\phi(t) = \\frac{N}{s \\sqrt{2 \\pi}} e^{-\\frac{1}{2}  (t-t_0)^2/s^2 } $$ \n",
    "$$ \\Phi(t) = \\frac{N}{2} + \\frac{N}{2} \\operatorname{erf}\\left(\\frac{t-t_0}{s \\sqrt{2}}\\right) $$\n",
    "\n",
    ">**Logistic** distribution [(link)](https://en.wikipedia.org/wiki/Logistic_distribution), commonly used to model population growth in biology, defined by:\n",
    "\n",
    "$$ \\phi(t) = \\frac{N}{4s} \\operatorname{sech}^2 \\left( \\frac{t-t_0}{2s} \\right) $$ \n",
    "$$ \\Phi(t) = \\frac{N}{1 + e^{-(t-t_0)/s}} $$\n",
    "\n",
    "\n",
    "where $N$ is the final number of total cases, $t_0$ is a location parameter (equal to $t_i$ for these distributions), and $s$ is a scale parameter related to the steepness of the growth curve. The [error function](https://en.wikipedia.org/wiki/Error_function), $\\operatorname{erf}(x)$, is a special function that appears commonly in statistics but has no closed form.\n",
    "\n",
    "Let's visualize these distributions for $N=1$ and $t_i=10$. Note that the values of $s$ are different for each distribution because the maning of $s$ isn't directly comparable between the distributions."
   ]
  },
  {
   "cell_type": "code",
   "execution_count": 11,
   "metadata": {
    "jupyter": {
     "source_hidden": true
    }
   },
   "outputs": [
    {
     "data": {
      "image/png": "[encoded data removed]",
      "text/plain": [
       "<Figure size 936x360 with 2 Axes>"
      ]
     },
     "metadata": {
      "needs_background": "light"
     },
     "output_type": "display_data"
    }
   ],
   "source": [
    "logistic_1 = stats.logistic(loc=10,scale=1.8)\n",
    "\n",
    "fig, ax = plt.subplots(1,2,figsize=(13,5))\n",
    "ax[0].plot(x,normal_2.pdf(x),'-',x,logistic_1.pdf(x),'--') # plot probability density functions\n",
    "ax[0].set(xlabel='Days',ylabel='Probability density',title='PDF comparison')\n",
    "ax[0].legend(['Normal','Logistic'])\n",
    "\n",
    "ax[1].plot(x,normal_2.cdf(x),'-',x,logistic_1.cdf(x),'--') # plot cumulative distribution functions\n",
    "ax[1].set(xlabel='Days',ylabel='Cumulative distribution',title='CDF comparison')\n",
    "ax[1].legend(['Normal','Logistic'])\n",
    "plt.show()"
   ]
  },
  {
   "cell_type": "markdown",
   "metadata": {},
   "source": [
    "You can see that three distributions are very close to each other for this specific choice of parameters. The normal distribution has thinner tails while the logistic distribution has thicker tails.\n",
    "\n",
    "These curves are great for describing the progression of an idealized disease. But one potential problem is that these models are perfectly *symmetric*, which means that the incidence increases just as quickly as it decreases. We don't necessarily know that to be the case; in fact, we might expect that the incidence should decrease more slowly than it increases, because towards the end of an outbreak it takes longer and longer to find new people to infect. This *right skew* is in fact what is observed in many epidemics.\n",
    "\n",
    "So, we may want to test some growth curves that are asymmetric. Luckily, there are some generalizations of the distributions described above that can introduce skew:"
   ]
  },
  {
   "cell_type": "markdown",
   "metadata": {},
   "source": [
    ">**Skew normal** distribution [(link)](https://en.wikipedia.org/wiki/Skew_normal_distribution), defined by:\n",
    "\n",
    "$$ \\Phi(t) = N \\left[ \\frac{1}{2} + \\frac{1}{2} \\operatorname{erf}\\left(\\frac{t-t_0}{s \\sqrt{2}}\\right) - 2 T \\left(\\frac{t-t_0}{s},a \\right) \\right] $$\n",
    "\n",
    ">**Richards** curve [(link)](https://en.wikipedia.org/wiki/Generalised_logistic_function), a type of generalized logistic curve [used in some disease models](https://www.ncbi.nlm.nih.gov/pmc/articles/PMC3293463/), defined by:\n",
    "\n",
    "$$ \\Phi(t) = \\frac{N}{\\left(1 + e^{-(t-t_0)/s+\\operatorname{ln}(a)} \\right)^{1/a}} $$\n",
    "\n",
    ">**Log logistic** distribution [(link)](https://en.wikipedia.org/wiki/Shifted_log-logistic_distribution), a different type of skewed logistic, defined by:\n",
    "\n",
    "$$ \\Phi(t) = \\frac{N}{ 1 + \\left(1+ \\frac{a(t-t_0)}{s}\\right)^{-1/a}} $$\n",
    "\n",
    ">**Inverse Weibull** distribution [(link)](https://link.springer.com/article/10.1007/s00362-009-0271-3), used in several fields of engineering, defined by:\n",
    "\n",
    "$$ \\Phi(t) = N e^{-\\left(\\frac{s}{t-t_0}\\right)^a} $$\n",
    "\n",
    ">**Gompertz** curve [(link)](https://en.wikipedia.org/wiki/Gompertz_function), a special case of the generalized logistic [sometimes applied in biology](https://www.tandfonline.com/doi/pdf/10.1080/09712119.2016.1268965), defined by:\n",
    "\n",
    "$$ \\Phi(t) = N e^{-e^{-(t-t_0)/s}} $$\n",
    "\n",
    "where $N$ is the final number of total cases, $t_0$ is a location parameter related to the turning point, $s$ is a scale parameter related to the rate of growth, and $a$ is a skewness parameter related to the asymmetry of the growth. The interpretations of $t_0$, $s$, and $a$ and their relations to $t_i$ vary depending on the model. The skew normal uses [Owen's T function](https://en.wikipedia.org/wiki/Owen%27s_T_function), $T(h,a)$, a special function that has no closed form."
   ]
  },
  {
   "cell_type": "markdown",
   "metadata": {},
   "source": [
    "Here are example plots for two of the skewed models:"
   ]
  },
  {
   "cell_type": "code",
   "execution_count": 12,
   "metadata": {
    "jupyter": {
     "source_hidden": true
    }
   },
   "outputs": [
    {
     "data": {
      "image/png": "[encoded data removed]",
      "text/plain": [
       "<Figure size 936x360 with 2 Axes>"
      ]
     },
     "metadata": {
      "needs_background": "light"
     },
     "output_type": "display_data"
    }
   ],
   "source": [
    "richards = stats.genlogistic(c=9,loc=4,scale=2.5)\n",
    "skewnorm = stats.skewnorm(a=3,loc=7,scale=5)\n",
    "\n",
    "fig, ax = plt.subplots(1,2,figsize=(13,5))\n",
    "ax[0].plot(x,skewnorm.pdf(x),'-',x,richards.pdf(x),'--') # plot probability density functions\n",
    "ax[0].set(xlabel='Days',ylabel='Probability density',title='PDF comparison')\n",
    "ax[0].legend(['Skew normal','Richards'])\n",
    "\n",
    "ax[1].plot(x,skewnorm.cdf(x),'-',x,richards.cdf(x),'--') # plot cumulative distribution functions\n",
    "ax[1].set(xlabel='Days',ylabel='Cumulative distribution',title='CDF comparison')\n",
    "ax[1].legend(['Skew normal','Richards'])\n",
    "plt.show()"
   ]
  },
  {
   "cell_type": "markdown",
   "metadata": {},
   "source": [
    "As with the symmetric models, there are subtle differences between the skewed models. This may mean that some models will fit the data more accurately than others, and that's what we want to find out!\n",
    "\n",
    "We've now identified **7** different mathematical functions. The normal and logistic models are symmetric; the skew normal, Richards, log logistic, inverse Weibull, and Gompertz are asymmetric. We can now attempt to fit these to coronavirus case data.\n",
    "\n",
    "**Note**: theoretically there should be no difference whether we fit daily incidence data to $\\phi$ or cumulative case count data to $\\Phi$. However, based on the initial graphs of real coronavirus data, you can see that daily incidence data is very noisy. It has a significantly higher noise-to-signal ratio than the cumulative case count data, so it will be more susceptible to overfitting and outlier influence. We should therefore perform our fits using the cumulative case count data, which is in line with standard practice in [disease modeling](https://www.sciencedirect.com/science/article/abs/pii/S1571064516300641)."
   ]
  },
  {
   "cell_type": "markdown",
   "metadata": {},
   "source": [
    "# Data Fitting"
   ]
  },
  {
   "cell_type": "markdown",
   "metadata": {},
   "source": [
    "First we need to define all the functions described above. Although `scipy.special` has built in objects for most of these models, calling them is much more computationally expensive than using `np.erf`, `np.exp` and `np.log`.\n",
    "All of these $\\Phi$ functions take an array of time points `t` as a first argument, followed by their distributon parameters (`N`, `t_i`, `s`, and/or `a`)."
   ]
  },
  {
   "cell_type": "code",
   "execution_count": 13,
   "metadata": {
    "jupyter": {
     "source_hidden": true
    }
   },
   "outputs": [],
   "source": [
    "def normal(t, N, t_0, s):\n",
    "    \"\"\"\n",
    "    Returns the normal growth curve evaluated at every time value in t.\n",
    "    t_0 is the mean of the corresponding PDF and s is the standard deviation.\n",
    "    \"\"\"\n",
    "    return (N/2 * (1 + special.erf((t - t_0)/(s*sqrt(2)))))\n",
    "\n",
    "def logistic(t, N, t_0, s):\n",
    "    \"\"\"\n",
    "    Returns the logistic growth curve evaluated at every time value in t.\n",
    "    t_0 is the mean of the corresponding PDF and s*pi/sqrt(3) is the standard deviation.\n",
    "    \"\"\"\n",
    "    return (N / (1 + np.exp(-(t - t_0)/s)))\n",
    "\n",
    "def skewnorm(t, N, t_0, s, a):\n",
    "    \"\"\"\n",
    "    Returns the skew normal growth curve evaluated at every time value in t.\n",
    "    t_0 is related to the mean of the corresponding PDF and s is related to the standard deviation.\n",
    "    Non-negative values of a correspond to right-skew, and a = 0 is equivalent to normal(t, N, t_0, s).\n",
    "    \"\"\"\n",
    "    return N*(normal(t,1,t_0,s)-2*special.owens_t(((t-t_0)/s),a))\n",
    "\n",
    "def richards(t, N, t_0, s, a):\n",
    "    \"\"\"\n",
    "    Returns the Richards growth curve evaluated at every time value in t.\n",
    "    t_0 is related to the mean of the corresponding PDF and s is related to the standard deviation.\n",
    "    a must be positive, with a < 1 corresponding to right-skew. a = 1 is equivalent to logistic(t, N, t_0, s).\n",
    "    \"\"\"\n",
    "    return N / np.power((1 + np.exp(np.log(a)-(t-t_0)*a/s)),(1/a))\n",
    "\n",
    "def loglogistic(t, N, t_0, s, a):\n",
    "    \"\"\"\n",
    "    Returns the log logistic growth curve evaluated at every time value in t.\n",
    "    t_0 is related to the mean of the corresponding PDF and s is related to the standard deviation.\n",
    "    a must be positive and always lead to right-skew. As a approaches 0, loglogistic approaches logistic(t, N, t_0, s).\n",
    "    \"\"\"\n",
    "    cutoff = t_0 - s/a # the cdf is only necessarily nonnegative at t values above this cutoff\n",
    "    cdf = np.array([N / (1 + (1 + a*(idx-t_0)/s)**(-1/a)) if idx > cutoff else 0 for idx in t])\n",
    "    return cdf\n",
    "\n",
    "def invweibull(t, N, t_0, s, a):\n",
    "    \"\"\"\n",
    "    Returns the inverse Weibull growth curve evaluated at every time value in t.\n",
    "    t_0 is related to the mean of the corresponding PDF and s is related to the standard deviation.\n",
    "    a must be positive and always leads to right-skew.\n",
    "    \"\"\"\n",
    "    return np.array([N * np.exp(-(s/(idx - t_0))**a) if idx > t_0 else 0 for idx in t])\n",
    "\n",
    "def gompertz(t, N, t_0, s):\n",
    "    \"\"\"\n",
    "    Returns the Gompertz growth curve evaluated at every time value in t.\n",
    "    t_0 is related to the mean of the corresponding PDF and s is related to the standard deviation.\n",
    "    \"\"\"\n",
    "    return N * np.exp(-np.exp(-(t-t_0)/s))\n",
    "\n",
    "model_list = [normal, logistic, skewnorm, richards, loglogistic, invweibull, gompertz]"
   ]
  },
  {
   "cell_type": "markdown",
   "metadata": {},
   "source": [
    "Next, we need a nonlinear `regression` function that will fit the data to whichever model is specified. We can use `scipy.least_squares` to find the parameter weights that minimize the loss (the square of the residuals). We also need a way of quantifying how closely the predictions match the actual data, so we must define the root-mean-squared error `rmse`."
   ]
  },
  {
   "cell_type": "code",
   "execution_count": 14,
   "metadata": {
    "jupyter": {
     "source_hidden": true
    }
   },
   "outputs": [],
   "source": [
    "def get_params(model):\n",
    "    return list(inspect.signature(model).parameters.keys())[1:]\n",
    "\n",
    "def regression(model,x_test,y_test):\n",
    "    \n",
    "    def residual(x, t, y):\n",
    "        return model(t,*x) - y\n",
    "    \n",
    "    x0 = [y_test.max()*1.2,x_test.max()*0.8,1]\n",
    "    x_min = [y_test.max(),x_test.min(),0]\n",
    "    x_max = [np.inf,np.inf,np.inf]\n",
    "    if len(get_params(model)) == 4:\n",
    "        # append min, max, and starting values for the 'a' parameter\n",
    "        x_min.append(0)\n",
    "        if model.__name__ == 'skewnorm':\n",
    "            x0.append(0.1)\n",
    "            x_max.append(10) # personal choice\n",
    "        elif model.__name__ == 'richards':\n",
    "            x0.append(0.9)\n",
    "            x_max.append(1)\n",
    "        elif model.__name__ == 'loglogistic':\n",
    "            x0.append(0.1)\n",
    "            x_max.append(2) # personal choice\n",
    "        elif model.__name__ == 'invweibull':\n",
    "            x0.append(1.1)\n",
    "            x_max.append(10) # personal choice\n",
    "    \n",
    "    res_lsq = least_squares(residual, x0, bounds=(x_min,x_max),\n",
    "            ftol=1e-10, xtol=1e-10, gtol=1e-10, loss='linear', args=(x_test, y_test))\n",
    "    return res_lsq.x # returns array of parameter values\n"
   ]
  },
  {
   "cell_type": "code",
   "execution_count": 15,
   "metadata": {},
   "outputs": [],
   "source": [
    "def score_model(y, y_hat, k):\n",
    "    sse = np.sum((y-y_hat)**2)\n",
    "    n = len(y)\n",
    "    rmse = np.sqrt(sse/n)\n",
    "    aic = n*np.log(sse/n)+2*k\n",
    "    bic = n*np.log(sse/n)+k*np.log(n)\n",
    "    return rmse, aic, bic"
   ]
  },
  {
   "cell_type": "markdown",
   "metadata": {},
   "source": [
    "Finally, we must define `fit_data` to iterate over every state or country and run `regression` on that region's incidence data. This function returns a dataframe with the predicted values of the fit parameters for each region, as well as the RMSE. The dataframe also includes figure handles to plots comparing the model to the actual data for each region. "
   ]
  },
  {
   "cell_type": "code",
   "execution_count": 16,
   "metadata": {
    "jupyter": {
     "source_hidden": true
    }
   },
   "outputs": [],
   "source": [
    "def fit_data(df,regions,region_type,model,x_test):\n",
    "    start = time.time()\n",
    "    param_names = get_params(model)\n",
    "    k = len(param_names)\n",
    "    param_vals = [[] for i in range(k)]\n",
    "    rmse_vals = []\n",
    "    #aic_vals = []\n",
    "    bic_vals = []\n",
    "    figs = []\n",
    "    for item in regions:\n",
    "        y_test = df[item].values\n",
    "        params = regression(model,x_test,y_test)\n",
    "        [param_vals[i].append(params[i]) for i in range(k)]\n",
    "        y_pred = model(x_test,*params)\n",
    "        rmse, aic, bic = score_model(y_test,y_pred,k)\n",
    "        rmse_vals.append(rmse)\n",
    "        #aic_vals.append(aic)\n",
    "        bic_vals.append(bic)\n",
    "\n",
    "        f = plt.figure()\n",
    "        plt.plot(x_test,y_pred,'--')\n",
    "        plt.plot(x_test,y_test)\n",
    "        plt.xlabel('Day of Year')\n",
    "        plt.ylabel('Cumulative Case Count')\n",
    "        plt.title('Cases in '+item)\n",
    "        plt.legend(['Model Fit','Actual Numbers'])\n",
    "        figs.append(f)\n",
    "        plt.close(f)\n",
    "        \n",
    "    fit_info = pd.DataFrame(index=regions,data={param_names[i]:param_vals[i] for i in range(k)})\n",
    "    fit_info['fig'] = figs\n",
    "    fit_info['rmse'], fit_info['bic'] = rmse_vals, bic_vals\n",
    "    fit_info.index.rename(region_type,inplace=True)\n",
    "    fit_info.sort_values(by='N',ascending=False,inplace=True)\n",
    "    \n",
    "    end = time.time()\n",
    "    print(model.__name__ + ' finished in %.1f sec' % (end-start))\n",
    "    \n",
    "    return fit_info\n",
    "\n",
    "np.seterr(all='ignore');"
   ]
  },
  {
   "cell_type": "markdown",
   "metadata": {},
   "source": [
    "Now we can can go ahead and call `fit_data` on both the state data and the country data. Because we have several different fit functions, we need to run `fit_data` several times for every region. We can store one dataframe associated with each model type in the dictionaries `state_info` and `global_info`."
   ]
  },
  {
   "cell_type": "code",
   "execution_count": 17,
   "metadata": {
    "jupyter": {
     "source_hidden": true
    }
   },
   "outputs": [
    {
     "name": "stdout",
     "output_type": "stream",
     "text": [
      "normal finished in 2.5 sec\n",
      "logistic finished in 2.5 sec\n",
      "skewnorm finished in 5.5 sec\n",
      "richards finished in 7.8 sec\n",
      "loglogistic finished in 20.7 sec\n",
      "invweibull finished in 25.7 sec\n",
      "gompertz finished in 2.9 sec\n"
     ]
    }
   ],
   "source": [
    "state_info = {m.__name__:fit_data(states_cumulative,states_list,'State',m,x_data.values) for m in model_list}"
   ]
  },
  {
   "cell_type": "code",
   "execution_count": 18,
   "metadata": {
    "jupyter": {
     "source_hidden": true
    }
   },
   "outputs": [
    {
     "name": "stdout",
     "output_type": "stream",
     "text": [
      "normal finished in 2.5 sec\n",
      "logistic finished in 2.8 sec\n",
      "skewnorm finished in 6.1 sec\n",
      "richards finished in 6.9 sec\n",
      "loglogistic finished in 23.0 sec\n",
      "invweibull finished in 29.1 sec\n",
      "gompertz finished in 2.6 sec\n"
     ]
    }
   ],
   "source": [
    "global_info = {m.__name__:fit_data(global_cumulative,top_countries,'Country',m,x_data_global.values) for m in model_list}"
   ]
  },
  {
   "cell_type": "markdown",
   "metadata": {},
   "source": [
    "Here's what a few of the resulting dataframes look like:"
   ]
  },
  {
   "cell_type": "code",
   "execution_count": 19,
   "metadata": {},
   "outputs": [
    {
     "data": {
      "text/html": [
       "<div>\n",
       "<style scoped>\n",
       "    .dataframe tbody tr th:only-of-type {\n",
       "        vertical-align: middle;\n",
       "    }\n",
       "\n",
       "    .dataframe tbody tr th {\n",
       "        vertical-align: top;\n",
       "    }\n",
       "\n",
       "    .dataframe thead th {\n",
       "        text-align: right;\n",
       "    }\n",
       "</style>\n",
       "<table border=\"1\" class=\"dataframe\">\n",
       "  <thead>\n",
       "    <tr style=\"text-align: right;\">\n",
       "      <th></th>\n",
       "      <th>N</th>\n",
       "      <th>t_0</th>\n",
       "      <th>s</th>\n",
       "      <th>fig</th>\n",
       "      <th>rmse</th>\n",
       "      <th>bic</th>\n",
       "    </tr>\n",
       "    <tr>\n",
       "      <th>State</th>\n",
       "      <th></th>\n",
       "      <th></th>\n",
       "      <th></th>\n",
       "      <th></th>\n",
       "      <th></th>\n",
       "      <th></th>\n",
       "    </tr>\n",
       "  </thead>\n",
       "  <tbody>\n",
       "    <tr>\n",
       "      <th>NE</th>\n",
       "      <td>9.399085e+09</td>\n",
       "      <td>545.960370</td>\n",
       "      <td>158.115194</td>\n",
       "      <td>Figure(432x288)</td>\n",
       "      <td>64.683780</td>\n",
       "      <td>495.844545</td>\n",
       "    </tr>\n",
       "    <tr>\n",
       "      <th>MN</th>\n",
       "      <td>4.858441e+09</td>\n",
       "      <td>647.220699</td>\n",
       "      <td>200.648287</td>\n",
       "      <td>Figure(432x288)</td>\n",
       "      <td>133.297861</td>\n",
       "      <td>579.721326</td>\n",
       "    </tr>\n",
       "    <tr>\n",
       "      <th>IA</th>\n",
       "      <td>8.206753e+06</td>\n",
       "      <td>296.201560</td>\n",
       "      <td>89.912080</td>\n",
       "      <td>Figure(432x288)</td>\n",
       "      <td>87.499235</td>\n",
       "      <td>530.890415</td>\n",
       "    </tr>\n",
       "    <tr>\n",
       "      <th>KS</th>\n",
       "      <td>4.578968e+05</td>\n",
       "      <td>239.657636</td>\n",
       "      <td>76.487276</td>\n",
       "      <td>Figure(432x288)</td>\n",
       "      <td>104.262500</td>\n",
       "      <td>551.223093</td>\n",
       "    </tr>\n",
       "    <tr>\n",
       "      <th>NY</th>\n",
       "      <td>3.610919e+05</td>\n",
       "      <td>97.248313</td>\n",
       "      <td>13.692166</td>\n",
       "      <td>Figure(432x288)</td>\n",
       "      <td>2120.049060</td>\n",
       "      <td>900.647892</td>\n",
       "    </tr>\n",
       "  </tbody>\n",
       "</table>\n",
       "</div>"
      ],
      "text/plain": [
       "                  N         t_0           s              fig         rmse  \\\n",
       "State                                                                       \n",
       "NE     9.399085e+09  545.960370  158.115194  Figure(432x288)    64.683780   \n",
       "MN     4.858441e+09  647.220699  200.648287  Figure(432x288)   133.297861   \n",
       "IA     8.206753e+06  296.201560   89.912080  Figure(432x288)    87.499235   \n",
       "KS     4.578968e+05  239.657636   76.487276  Figure(432x288)   104.262500   \n",
       "NY     3.610919e+05   97.248313   13.692166  Figure(432x288)  2120.049060   \n",
       "\n",
       "              bic  \n",
       "State              \n",
       "NE     495.844545  \n",
       "MN     579.721326  \n",
       "IA     530.890415  \n",
       "KS     551.223093  \n",
       "NY     900.647892  "
      ]
     },
     "execution_count": 19,
     "metadata": {},
     "output_type": "execute_result"
    }
   ],
   "source": [
    "state_info['gompertz'].head()"
   ]
  },
  {
   "cell_type": "code",
   "execution_count": 20,
   "metadata": {},
   "outputs": [
    {
     "data": {
      "text/html": [
       "<div>\n",
       "<style scoped>\n",
       "    .dataframe tbody tr th:only-of-type {\n",
       "        vertical-align: middle;\n",
       "    }\n",
       "\n",
       "    .dataframe tbody tr th {\n",
       "        vertical-align: top;\n",
       "    }\n",
       "\n",
       "    .dataframe thead th {\n",
       "        text-align: right;\n",
       "    }\n",
       "</style>\n",
       "<table border=\"1\" class=\"dataframe\">\n",
       "  <thead>\n",
       "    <tr style=\"text-align: right;\">\n",
       "      <th></th>\n",
       "      <th>N</th>\n",
       "      <th>t_0</th>\n",
       "      <th>s</th>\n",
       "      <th>fig</th>\n",
       "      <th>rmse</th>\n",
       "      <th>bic</th>\n",
       "    </tr>\n",
       "    <tr>\n",
       "      <th>Country</th>\n",
       "      <th></th>\n",
       "      <th></th>\n",
       "      <th></th>\n",
       "      <th></th>\n",
       "      <th></th>\n",
       "      <th></th>\n",
       "    </tr>\n",
       "  </thead>\n",
       "  <tbody>\n",
       "    <tr>\n",
       "      <th>Brazil</th>\n",
       "      <td>5.640542e+06</td>\n",
       "      <td>211.110190</td>\n",
       "      <td>62.828004</td>\n",
       "      <td>Figure(432x288)</td>\n",
       "      <td>782.439844</td>\n",
       "      <td>1373.007995</td>\n",
       "    </tr>\n",
       "    <tr>\n",
       "      <th>Ecuador</th>\n",
       "      <td>3.268906e+06</td>\n",
       "      <td>233.186138</td>\n",
       "      <td>71.139625</td>\n",
       "      <td>Figure(432x288)</td>\n",
       "      <td>1201.318342</td>\n",
       "      <td>1460.474588</td>\n",
       "    </tr>\n",
       "    <tr>\n",
       "      <th>Qatar</th>\n",
       "      <td>2.715235e+06</td>\n",
       "      <td>243.134283</td>\n",
       "      <td>73.110483</td>\n",
       "      <td>Figure(432x288)</td>\n",
       "      <td>148.844352</td>\n",
       "      <td>1034.466752</td>\n",
       "    </tr>\n",
       "    <tr>\n",
       "      <th>United States</th>\n",
       "      <td>1.508376e+06</td>\n",
       "      <td>103.298256</td>\n",
       "      <td>16.908293</td>\n",
       "      <td>Figure(432x288)</td>\n",
       "      <td>7685.220429</td>\n",
       "      <td>1839.074004</td>\n",
       "    </tr>\n",
       "    <tr>\n",
       "      <th>Pakistan</th>\n",
       "      <td>8.123061e+05</td>\n",
       "      <td>212.886863</td>\n",
       "      <td>67.784742</td>\n",
       "      <td>Figure(432x288)</td>\n",
       "      <td>181.170646</td>\n",
       "      <td>1074.560553</td>\n",
       "    </tr>\n",
       "  </tbody>\n",
       "</table>\n",
       "</div>"
      ],
      "text/plain": [
       "                          N         t_0          s              fig  \\\n",
       "Country                                                               \n",
       "Brazil         5.640542e+06  211.110190  62.828004  Figure(432x288)   \n",
       "Ecuador        3.268906e+06  233.186138  71.139625  Figure(432x288)   \n",
       "Qatar          2.715235e+06  243.134283  73.110483  Figure(432x288)   \n",
       "United States  1.508376e+06  103.298256  16.908293  Figure(432x288)   \n",
       "Pakistan       8.123061e+05  212.886863  67.784742  Figure(432x288)   \n",
       "\n",
       "                      rmse          bic  \n",
       "Country                                  \n",
       "Brazil          782.439844  1373.007995  \n",
       "Ecuador        1201.318342  1460.474588  \n",
       "Qatar           148.844352  1034.466752  \n",
       "United States  7685.220429  1839.074004  \n",
       "Pakistan        181.170646  1074.560553  "
      ]
     },
     "execution_count": 20,
     "metadata": {},
     "output_type": "execute_result"
    }
   ],
   "source": [
    "global_info['gompertz'].head()"
   ]
  },
  {
   "cell_type": "markdown",
   "metadata": {},
   "source": [
    "And here's what a few of the fits look like when plotted alongside the actual data:"
   ]
  },
  {
   "cell_type": "code",
   "execution_count": 21,
   "metadata": {
    "jupyter": {
     "source_hidden": true
    }
   },
   "outputs": [
    {
     "data": {
      "image/png": "[encoded data removed]",
      "text/plain": [
       "<Figure size 432x288 with 1 Axes>"
      ]
     },
     "execution_count": 21,
     "metadata": {},
     "output_type": "execute_result"
    }
   ],
   "source": [
    "state_info['loglogistic'].loc['FL','fig']"
   ]
  },
  {
   "cell_type": "code",
   "execution_count": 22,
   "metadata": {},
   "outputs": [
    {
     "data": {
      "image/png": "[encoded data removed]",
      "text/plain": [
       "<Figure size 432x288 with 1 Axes>"
      ]
     },
     "execution_count": 22,
     "metadata": {},
     "output_type": "execute_result"
    }
   ],
   "source": [
    "global_info['invweibull'].loc['Italy','fig']"
   ]
  },
  {
   "cell_type": "markdown",
   "metadata": {},
   "source": [
    "# Model Comparison"
   ]
  },
  {
   "cell_type": "markdown",
   "metadata": {},
   "source": [
    "Now, we need a way to compare the models to each other. We could try to look at every single plot and visually identify which of the models looks better. But that's not quantitative, and it's also not feasible for 5 models and 100 total regions.\n",
    "\n",
    "Luckily, we have already computed the RMSE for each model fit for each region. The RMSE characterizes how closely the prediction matches the data, and the smaller the RSME the better the fit. Unfortunately, the magnitude of the RMSE might be different for each region because of the large difference in the magnitude of case counts. To handle this, we can [standardize](https://en.wikipedia.org/wiki/Standard_score) the RMSE scores across different regions by subtracting the average RMSE for a region and dividing by the standard deviation of the RMSE for that region. This is accomplished with `compare_models`:"
   ]
  },
  {
   "cell_type": "code",
   "execution_count": 23,
   "metadata": {},
   "outputs": [],
   "source": [
    "def compare_models(fit_dict,criterion,standardize=True):\n",
    "    c = pd.DataFrame([m[1][criterion] for m in fit_dict.items()],index=fit_dict.keys())\n",
    "    if standardize:\n",
    "        c = (c-c.mean())/c.std()\n",
    "    return c.T"
   ]
  },
  {
   "cell_type": "markdown",
   "metadata": {},
   "source": [
    "Now we can see the standard RMSE scores for both states and countries. Note that for each region, a positive score means that model was worse than the other models. A negative score means that the model was better than the rest."
   ]
  },
  {
   "cell_type": "code",
   "execution_count": 24,
   "metadata": {
    "jupyter": {
     "source_hidden": true
    }
   },
   "outputs": [
    {
     "data": {
      "text/html": [
       "<div>\n",
       "<style scoped>\n",
       "    .dataframe tbody tr th:only-of-type {\n",
       "        vertical-align: middle;\n",
       "    }\n",
       "\n",
       "    .dataframe tbody tr th {\n",
       "        vertical-align: top;\n",
       "    }\n",
       "\n",
       "    .dataframe thead th {\n",
       "        text-align: right;\n",
       "    }\n",
       "</style>\n",
       "<table border=\"1\" class=\"dataframe\">\n",
       "  <thead>\n",
       "    <tr style=\"text-align: right;\">\n",
       "      <th></th>\n",
       "      <th>normal</th>\n",
       "      <th>logistic</th>\n",
       "      <th>skewnorm</th>\n",
       "      <th>richards</th>\n",
       "      <th>loglogistic</th>\n",
       "      <th>invweibull</th>\n",
       "      <th>gompertz</th>\n",
       "    </tr>\n",
       "  </thead>\n",
       "  <tbody>\n",
       "    <tr>\n",
       "      <th>NE</th>\n",
       "      <td>-0.466027</td>\n",
       "      <td>-0.503332</td>\n",
       "      <td>-0.480692</td>\n",
       "      <td>-0.502381</td>\n",
       "      <td>0.160320</td>\n",
       "      <td>2.202672</td>\n",
       "      <td>-0.410561</td>\n",
       "    </tr>\n",
       "    <tr>\n",
       "      <th>MN</th>\n",
       "      <td>-0.397623</td>\n",
       "      <td>-0.404229</td>\n",
       "      <td>-0.404788</td>\n",
       "      <td>-0.401996</td>\n",
       "      <td>-0.283297</td>\n",
       "      <td>2.265640</td>\n",
       "      <td>-0.373707</td>\n",
       "    </tr>\n",
       "    <tr>\n",
       "      <th>IA</th>\n",
       "      <td>-0.432782</td>\n",
       "      <td>-0.277128</td>\n",
       "      <td>-0.433198</td>\n",
       "      <td>-0.430179</td>\n",
       "      <td>-0.231388</td>\n",
       "      <td>2.259028</td>\n",
       "      <td>-0.454354</td>\n",
       "    </tr>\n",
       "  </tbody>\n",
       "</table>\n",
       "</div>"
      ],
      "text/plain": [
       "      normal  logistic  skewnorm  richards  loglogistic  invweibull  gompertz\n",
       "NE -0.466027 -0.503332 -0.480692 -0.502381     0.160320    2.202672 -0.410561\n",
       "MN -0.397623 -0.404229 -0.404788 -0.401996    -0.283297    2.265640 -0.373707\n",
       "IA -0.432782 -0.277128 -0.433198 -0.430179    -0.231388    2.259028 -0.454354"
      ]
     },
     "execution_count": 24,
     "metadata": {},
     "output_type": "execute_result"
    }
   ],
   "source": [
    "state_rmses = compare_models(state_info,'rmse',standardize=True)\n",
    "state_rmses.head(3)"
   ]
  },
  {
   "cell_type": "code",
   "execution_count": 25,
   "metadata": {
    "jupyter": {
     "source_hidden": true
    }
   },
   "outputs": [
    {
     "data": {
      "text/html": [
       "<div>\n",
       "<style scoped>\n",
       "    .dataframe tbody tr th:only-of-type {\n",
       "        vertical-align: middle;\n",
       "    }\n",
       "\n",
       "    .dataframe tbody tr th {\n",
       "        vertical-align: top;\n",
       "    }\n",
       "\n",
       "    .dataframe thead th {\n",
       "        text-align: right;\n",
       "    }\n",
       "</style>\n",
       "<table border=\"1\" class=\"dataframe\">\n",
       "  <thead>\n",
       "    <tr style=\"text-align: right;\">\n",
       "      <th></th>\n",
       "      <th>normal</th>\n",
       "      <th>logistic</th>\n",
       "      <th>skewnorm</th>\n",
       "      <th>richards</th>\n",
       "      <th>loglogistic</th>\n",
       "      <th>invweibull</th>\n",
       "      <th>gompertz</th>\n",
       "    </tr>\n",
       "  </thead>\n",
       "  <tbody>\n",
       "    <tr>\n",
       "      <th>United States</th>\n",
       "      <td>0.90001</td>\n",
       "      <td>1.780869</td>\n",
       "      <td>-0.963977</td>\n",
       "      <td>-0.136331</td>\n",
       "      <td>-0.654163</td>\n",
       "      <td>-0.790012</td>\n",
       "      <td>-0.136395</td>\n",
       "    </tr>\n",
       "    <tr>\n",
       "      <th>Brazil</th>\n",
       "      <td>-0.33843</td>\n",
       "      <td>0.723338</td>\n",
       "      <td>-0.396918</td>\n",
       "      <td>-0.496209</td>\n",
       "      <td>-0.891071</td>\n",
       "      <td>1.961680</td>\n",
       "      <td>-0.562390</td>\n",
       "    </tr>\n",
       "    <tr>\n",
       "      <th>Ecuador</th>\n",
       "      <td>-0.03258</td>\n",
       "      <td>-0.708657</td>\n",
       "      <td>-0.032580</td>\n",
       "      <td>-0.708657</td>\n",
       "      <td>-0.704552</td>\n",
       "      <td>2.119562</td>\n",
       "      <td>0.067465</td>\n",
       "    </tr>\n",
       "  </tbody>\n",
       "</table>\n",
       "</div>"
      ],
      "text/plain": [
       "                normal  logistic  skewnorm  richards  loglogistic  invweibull  \\\n",
       "United States  0.90001  1.780869 -0.963977 -0.136331    -0.654163   -0.790012   \n",
       "Brazil        -0.33843  0.723338 -0.396918 -0.496209    -0.891071    1.961680   \n",
       "Ecuador       -0.03258 -0.708657 -0.032580 -0.708657    -0.704552    2.119562   \n",
       "\n",
       "               gompertz  \n",
       "United States -0.136395  \n",
       "Brazil        -0.562390  \n",
       "Ecuador        0.067465  "
      ]
     },
     "execution_count": 25,
     "metadata": {},
     "output_type": "execute_result"
    }
   ],
   "source": [
    "global_rmses = compare_models(global_info,'rmse')\n",
    "global_rmses.head(3)"
   ]
  },
  {
   "cell_type": "markdown",
   "metadata": {},
   "source": [
    "Clearly, different models do better for different regions. We can get a sense of how good each model is by plotting the distribution of scores with a [violin plot](https://en.wikipedia.org/wiki/Violin_plot)."
   ]
  },
  {
   "cell_type": "code",
   "execution_count": 34,
   "metadata": {},
   "outputs": [
    {
     "data": {
      "application/vnd.plotly.v1+json": {
       "config": {
        "plotlyServerURL": "https://plot.ly"
       },
       "data": [
        {
         "bandwidth": 0.2,
         "box": {
          "visible": false
         },
         "customdata": [
          "NE",
          "MN",
          "IA",
          "NY",
          "NJ",
          "IL",
          "MA",
          "CA",
          "KS",
          "PA",
          "MI",
          "FL",
          "TX",
          "CT",
          "MD",
          "VA",
          "GA",
          "LA",
          "OH",
          "IN",
          "CO",
          "TN",
          "NC",
          "WA",
          "RI",
          "AZ",
          "MS",
          "WI",
          "MO",
          "AL",
          "DE",
          "SC",
          "KY",
          "UT",
          "DC",
          "AR",
          "NV",
          "NM",
          "OK",
          "ND",
          "NH",
          "OR",
          "SD",
          "ID",
          "PR",
          "WV",
          "ME",
          "VT",
          "WY",
          "HI",
          "MT",
          "AK",
          "GU"
         ],
         "hoveron": "points",
         "hovertemplate": "%{customdata}: %{y:.2f}<extra></extra>",
         "jitter": 0.1,
         "line": {
          "color": "rgb(31, 119, 180)"
         },
         "meanline": {
          "visible": true
         },
         "name": "normal",
         "pointpos": 0,
         "points": "all",
         "type": "violin",
         "xaxis": "x",
         "y": [
          -0.46602660079545555,
          -0.3976230980657728,
          -0.4327824199685046,
          0.9856646237054594,
          0.9284159961321666,
          0.5455371855339604,
          0.3282406294957514,
          0.6394162994454861,
          -0.3555538649980426,
          0.9538619396024904,
          0.7331313173452404,
          1.0313537584515131,
          0.8579977799211194,
          0.1583351838145006,
          0.632608911222951,
          0.43643248259285244,
          0.7752206328603495,
          1.5011580935406734,
          -0.24872859911084502,
          0.7655625939081068,
          0.7233298241255687,
          0.7386913596090431,
          0.6704110179011838,
          1.009624241948123,
          -0.41248220367753957,
          0.7583133551532393,
          0.5645294060378268,
          0.707195714712654,
          1.0118131998183746,
          0.662155820702343,
          0.046769521452904764,
          0.931798749061164,
          0.4613616037286137,
          0.7858924603880154,
          0.6626827151717357,
          -0.11831664020545556,
          0.973100349095962,
          0.47913596058458735,
          0.9950516593283057,
          -0.4100667718205788,
          0.7292206955482158,
          0.9885416958384916,
          -0.15969505989807745,
          1.3833745558752102,
          1.0648477515595447,
          0.8303588644308832,
          0.9182082309136981,
          0.8917764650297145,
          0.7714991695705676,
          0.4876361106339514,
          1.2252978589438952,
          1.277666412388921,
          0.9873559322708755
         ],
         "yaxis": "y"
        },
        {
         "bandwidth": 0.2,
         "box": {
          "visible": false
         },
         "customdata": [
          "United States",
          "Brazil",
          "Ecuador",
          "Russia",
          "Spain",
          "Italy",
          "United Kingdom",
          "Qatar",
          "France",
          "Germany",
          "Peru",
          "Pakistan",
          "Turkey",
          "Mexico",
          "Saudi Arabia",
          "Iran",
          "China",
          "India",
          "Canada",
          "Belgium",
          "Netherlands",
          "Belarus",
          "Switzerland",
          "Sweden",
          "Portugal",
          "South Africa",
          "Chile",
          "Ireland",
          "Singapore",
          "United Arab Emirates",
          "Ukraine",
          "Japan",
          "Israel",
          "Austria",
          "Egypt",
          "Poland",
          "Indonesia",
          "Romania",
          "Bangladesh",
          "Colombia",
          "Korea, South",
          "Serbia",
          "Denmark",
          "Dominican Republic",
          "Philippines",
          "Panama",
          "Norway",
          "Czechia",
          "Australia",
          "Malaysia"
         ],
         "hoveron": "points",
         "hovertemplate": "%{customdata}: %{y:.2f}<extra></extra>",
         "jitter": 0.1,
         "line": {
          "color": "rgb(31, 119, 180)"
         },
         "meanline": {
          "visible": true
         },
         "name": "normal",
         "pointpos": 0,
         "points": "all",
         "type": "violin",
         "xaxis": "x2",
         "y": [
          0.9000097461323574,
          -0.33843029743627,
          -0.03258016478655965,
          -0.5608351331703315,
          1.1682145806507367,
          1.1397518478121131,
          0.7182359742561132,
          -0.12530319740974136,
          -0.5478923825624704,
          1.3514252385250445,
          0.20899551236163122,
          -0.27583930662647527,
          0.17535194943418136,
          -0.42092387209701704,
          0.03382669273960831,
          -0.4661095683523239,
          -0.32939285358441656,
          0.2819606491916138,
          0.6539963529571807,
          0.613133640904334,
          0.4681196847101128,
          0.20320449774975735,
          1.4184087135867933,
          0.1107560710274682,
          1.0279482945834397,
          0.22728962108918702,
          0.6300899564544808,
          -0.2270456870798696,
          0.2593024073165054,
          0.44885628622281454,
          -0.6440430999886347,
          0.10484858337348033,
          1.2229244309642753,
          1.547056580397776,
          0.056139700232045585,
          0.6898896593045938,
          -0.6550592510897542,
          0.7457677406924332,
          0.36334947087683056,
          0.4838145508206365,
          1.2918813548440857,
          -0.5940999644183249,
          -0.4113673841730819,
          0.3239815402778332,
          0.9549480313049896,
          0.6773753932378213,
          1.3918885741699278,
          1.3481939132727077,
          1.6016221399385697,
          1.120744475573326
         ],
         "yaxis": "y2"
        },
        {
         "bandwidth": 0.2,
         "box": {
          "visible": false
         },
         "customdata": [
          "NE",
          "MN",
          "IA",
          "NY",
          "NJ",
          "IL",
          "MA",
          "CA",
          "KS",
          "PA",
          "MI",
          "FL",
          "TX",
          "CT",
          "MD",
          "VA",
          "GA",
          "LA",
          "OH",
          "IN",
          "CO",
          "TN",
          "NC",
          "WA",
          "RI",
          "AZ",
          "MS",
          "WI",
          "MO",
          "AL",
          "DE",
          "SC",
          "KY",
          "UT",
          "DC",
          "AR",
          "NV",
          "NM",
          "OK",
          "ND",
          "NH",
          "OR",
          "SD",
          "ID",
          "PR",
          "WV",
          "ME",
          "VT",
          "WY",
          "HI",
          "MT",
          "AK",
          "GU"
         ],
         "hoveron": "points",
         "hovertemplate": "%{customdata}: %{y:.2f}<extra></extra>",
         "jitter": 0.1,
         "line": {
          "color": "rgb(255, 127, 14)"
         },
         "meanline": {
          "visible": true
         },
         "name": "logistic",
         "pointpos": 0,
         "points": "all",
         "type": "violin",
         "xaxis": "x",
         "y": [
          -0.5033322150549289,
          -0.40422868453892047,
          -0.2771276124854983,
          1.8328621671842231,
          1.7723792570936576,
          1.8672055950151207,
          2.13632116385913,
          1.9100564050175315,
          0.3085414480584587,
          1.7914918021464141,
          1.9153748513306665,
          1.7584995564564014,
          1.8352420374809149,
          2.148357135978513,
          1.9668191049437862,
          1.9516658061948964,
          1.9503565427244274,
          1.410047372110109,
          2.1889520131599913,
          1.7071969325341338,
          1.7645908589277461,
          1.7325363946864993,
          1.8089850161634473,
          1.3637598032097082,
          1.819376441786859,
          1.6920926576674915,
          1.9737460026452203,
          1.7384748171689046,
          1.719377389775487,
          2.013222822858126,
          2.2246151233132143,
          1.7452461967087898,
          2.0998626677297625,
          1.7373183563199168,
          1.9923873828687448,
          1.945949368088781,
          1.712163554910947,
          2.0170318707216786,
          1.6900706039863627,
          0.09963623010584417,
          1.8348164587069975,
          1.7284736686845814,
          -0.40701158840493906,
          1.4463739454996867,
          1.7248057126636573,
          1.9378896697759243,
          1.8679397387295773,
          0.45465429289866566,
          1.7150615152391422,
          0.5124705603284533,
          1.30347417108123,
          1.552521010558929,
          0.33538165541837295
         ],
         "yaxis": "y"
        },
        {
         "bandwidth": 0.2,
         "box": {
          "visible": false
         },
         "customdata": [
          "United States",
          "Brazil",
          "Ecuador",
          "Russia",
          "Spain",
          "Italy",
          "United Kingdom",
          "Qatar",
          "France",
          "Germany",
          "Peru",
          "Pakistan",
          "Turkey",
          "Mexico",
          "Saudi Arabia",
          "Iran",
          "China",
          "India",
          "Canada",
          "Belgium",
          "Netherlands",
          "Belarus",
          "Switzerland",
          "Sweden",
          "Portugal",
          "South Africa",
          "Chile",
          "Ireland",
          "Singapore",
          "United Arab Emirates",
          "Ukraine",
          "Japan",
          "Israel",
          "Austria",
          "Egypt",
          "Poland",
          "Indonesia",
          "Romania",
          "Bangladesh",
          "Colombia",
          "Korea, South",
          "Serbia",
          "Denmark",
          "Dominican Republic",
          "Philippines",
          "Panama",
          "Norway",
          "Czechia",
          "Australia",
          "Malaysia"
         ],
         "hoveron": "points",
         "hovertemplate": "%{customdata}: %{y:.2f}<extra></extra>",
         "jitter": 0.1,
         "line": {
          "color": "rgb(255, 127, 14)"
         },
         "meanline": {
          "visible": true
         },
         "name": "logistic",
         "pointpos": 0,
         "points": "all",
         "type": "violin",
         "xaxis": "x2",
         "y": [
          1.7808685981415922,
          0.7233380431776377,
          -0.7086571746206539,
          2.048099455385678,
          1.6982266201672434,
          1.700490827019735,
          1.9872147333915744,
          -0.9463758118509437,
          -0.5908488099096302,
          1.5617279060740081,
          2.0839260649305733,
          1.1059867666656342,
          2.008969214050902,
          0.8252558937212456,
          -1.3105343886723788,
          -0.12665941495734007,
          -0.36516474076413274,
          2.1496410367276595,
          1.977725955395643,
          2.0442887348343164,
          2.084205594165606,
          2.124368493783069,
          1.5054139219412679,
          2.1963159769025364,
          1.8051431316012945,
          1.9742306365571252,
          1.8333678197429397,
          -0.7802088008948672,
          -0.9816081100131101,
          2.104634100707784,
          1.9184656909566074,
          -0.928283211032441,
          1.6186696281759232,
          1.3334669170482065,
          2.204439253166538,
          2.0073969958645135,
          1.768138442583008,
          1.9754878168868086,
          2.1391368861983047,
          1.9075830486460243,
          1.1849652499092727,
          0.1538893685597436,
          0.4351631289809005,
          2.1475285007769926,
          1.716879617228737,
          1.9790146110563662,
          1.446732712482306,
          1.5680492133065074,
          0.8777690473138372,
          1.7283391282860638
         ],
         "yaxis": "y2"
        },
        {
         "bandwidth": 0.2,
         "box": {
          "visible": false
         },
         "customdata": [
          "NE",
          "MN",
          "IA",
          "NY",
          "NJ",
          "IL",
          "MA",
          "CA",
          "KS",
          "PA",
          "MI",
          "FL",
          "TX",
          "CT",
          "MD",
          "VA",
          "GA",
          "LA",
          "OH",
          "IN",
          "CO",
          "TN",
          "NC",
          "WA",
          "RI",
          "AZ",
          "MS",
          "WI",
          "MO",
          "AL",
          "DE",
          "SC",
          "KY",
          "UT",
          "DC",
          "AR",
          "NV",
          "NM",
          "OK",
          "ND",
          "NH",
          "OR",
          "SD",
          "ID",
          "PR",
          "WV",
          "ME",
          "VT",
          "WY",
          "HI",
          "MT",
          "AK",
          "GU"
         ],
         "hoveron": "points",
         "hovertemplate": "%{customdata}: %{y:.2f}<extra></extra>",
         "jitter": 0.1,
         "line": {
          "color": "rgb(44, 160, 44)"
         },
         "meanline": {
          "visible": true
         },
         "name": "skewnorm",
         "pointpos": 0,
         "points": "all",
         "type": "violin",
         "xaxis": "x",
         "y": [
          -0.48069178251810557,
          -0.4047882948765741,
          -0.4331976338699959,
          -0.6677543160088851,
          -0.8601549239260147,
          -0.06260745080606601,
          -0.4290885962854029,
          -0.2919084008568107,
          -0.38767255177812027,
          -0.92188003181574,
          -0.7719908253477299,
          -0.8570624736744752,
          -0.8761634755543594,
          -0.5070335165130243,
          -0.4154209307127858,
          -0.06380883233877041,
          -0.7713223100407961,
          -0.44355313264560614,
          -0.35240606427362153,
          -0.30427705441821,
          -0.2728962644879814,
          -0.27738753079701006,
          -0.18498087160728036,
          -0.8455315047955408,
          -0.7124610134849643,
          -0.24881866455463564,
          -0.20949424029290695,
          -0.19411317824414753,
          -0.8513075129014084,
          -0.7169130857601862,
          -0.4054388204644533,
          -0.9406889130673647,
          -0.4704918536627427,
          -0.4057599431835082,
          -0.6413756693533795,
          -0.2136569985493985,
          -0.9626523207771104,
          -0.19764396242431012,
          -0.9293206868364646,
          -0.4113451033234274,
          -0.38656422479000974,
          -0.9462144029216302,
          -0.27005683405982706,
          -0.5280803270535145,
          -0.7534131211470005,
          -0.6554650497127803,
          -0.7432829021246066,
          -0.5394190988152665,
          -0.5032688393037495,
          -0.7730391796935672,
          -0.8595173415159606,
          -0.6767614966509241,
          -0.2206852900588632
         ],
         "yaxis": "y"
        },
        {
         "bandwidth": 0.2,
         "box": {
          "visible": false
         },
         "customdata": [
          "United States",
          "Brazil",
          "Ecuador",
          "Russia",
          "Spain",
          "Italy",
          "United Kingdom",
          "Qatar",
          "France",
          "Germany",
          "Peru",
          "Pakistan",
          "Turkey",
          "Mexico",
          "Saudi Arabia",
          "Iran",
          "China",
          "India",
          "Canada",
          "Belgium",
          "Netherlands",
          "Belarus",
          "Switzerland",
          "Sweden",
          "Portugal",
          "South Africa",
          "Chile",
          "Ireland",
          "Singapore",
          "United Arab Emirates",
          "Ukraine",
          "Japan",
          "Israel",
          "Austria",
          "Egypt",
          "Poland",
          "Indonesia",
          "Romania",
          "Bangladesh",
          "Colombia",
          "Korea, South",
          "Serbia",
          "Denmark",
          "Dominican Republic",
          "Philippines",
          "Panama",
          "Norway",
          "Czechia",
          "Australia",
          "Malaysia"
         ],
         "hoveron": "points",
         "hovertemplate": "%{customdata}: %{y:.2f}<extra></extra>",
         "jitter": 0.1,
         "line": {
          "color": "rgb(44, 160, 44)"
         },
         "meanline": {
          "visible": true
         },
         "name": "skewnorm",
         "pointpos": 0,
         "points": "all",
         "type": "violin",
         "xaxis": "x2",
         "y": [
          -0.9639771710290425,
          -0.39691846037003187,
          -0.03258015005663298,
          -0.5608351331551084,
          -0.7281331743550685,
          -0.8108793520448142,
          -0.7620965622900716,
          -0.12530319060844,
          -0.547892348737093,
          -0.590690105559625,
          -0.012527350613062396,
          -0.35758226634038515,
          -0.7288218198296758,
          -0.47102830578327015,
          0.0338266928005452,
          -0.5260928107881958,
          -0.3630836219625866,
          -0.2503945732845044,
          -0.46503841930280126,
          -0.5650887103276585,
          -0.5451652032760572,
          -0.10059288575978084,
          -0.6318690568370763,
          -0.613310759302649,
          -0.7140049823272516,
          0.037399412329665,
          -0.14722621976246364,
          -0.2270456867314057,
          0.2593024074528806,
          -0.4862641916679889,
          -0.6440431000302109,
          0.10484858337003239,
          -0.7876460438047691,
          -0.2648821409566383,
          -0.2750428738023636,
          -0.697692876679874,
          -0.6867721096998622,
          -0.6960463592575222,
          -0.4564279996076519,
          -0.006208083087249372,
          -0.08267623738932384,
          -0.5971283493943784,
          -0.616386054547894,
          -0.34348607506096496,
          -0.9725379634489499,
          -0.6102542967825708,
          -0.6092687793109627,
          -0.5792001833169574,
          -0.0966882165521972,
          -0.6284353991003538
         ],
         "yaxis": "y2"
        },
        {
         "bandwidth": 0.2,
         "box": {
          "visible": false
         },
         "customdata": [
          "NE",
          "MN",
          "IA",
          "NY",
          "NJ",
          "IL",
          "MA",
          "CA",
          "KS",
          "PA",
          "MI",
          "FL",
          "TX",
          "CT",
          "MD",
          "VA",
          "GA",
          "LA",
          "OH",
          "IN",
          "CO",
          "TN",
          "NC",
          "WA",
          "RI",
          "AZ",
          "MS",
          "WI",
          "MO",
          "AL",
          "DE",
          "SC",
          "KY",
          "UT",
          "DC",
          "AR",
          "NV",
          "NM",
          "OK",
          "ND",
          "NH",
          "OR",
          "SD",
          "ID",
          "PR",
          "WV",
          "ME",
          "VT",
          "WY",
          "HI",
          "MT",
          "AK",
          "GU"
         ],
         "hoveron": "points",
         "hovertemplate": "%{customdata}: %{y:.2f}<extra></extra>",
         "jitter": 0.1,
         "line": {
          "color": "rgb(214, 39, 40)"
         },
         "meanline": {
          "visible": true
         },
         "name": "richards",
         "pointpos": 0,
         "points": "all",
         "type": "violin",
         "xaxis": "x",
         "y": [
          -0.5023807915822613,
          -0.4019963224293026,
          -0.43017901058900876,
          -0.4793983844421684,
          -0.14068049501815144,
          -0.18885844092235857,
          -0.5581184472059401,
          -0.19534075362318687,
          -0.47123699730015606,
          -0.23904085895038998,
          -0.5765604654000129,
          -0.27851264760460553,
          -0.1817024241615247,
          -0.6011972444745101,
          -0.24420649754460708,
          -0.2764769188548856,
          -0.383741105528945,
          -0.5195520108399659,
          -0.47077445827515396,
          0.009624925120616435,
          -0.043391222532329694,
          -0.012450187518185963,
          -0.10519913018603096,
          -0.768452077103347,
          -0.7520990262480249,
          0.012175691980669819,
          -0.27398019437872945,
          -0.03507885312091952,
          -0.15059146550339228,
          -0.5335599315256159,
          -0.49729499580850556,
          -0.10241497635804447,
          -0.39719188107408493,
          -0.011326820240280831,
          -0.30381835998007395,
          -0.5465053509941566,
          -0.09708542597619452,
          -0.2861052650162206,
          -0.08087884912353778,
          -0.4481004922880101,
          -0.10676970651350523,
          -0.14876295581711543,
          -0.9218832663567604,
          -0.2644610674706011,
          -0.24217076070387578,
          -0.5162466147498367,
          -0.37795880060893605,
          -0.9535862393257024,
          0.055051014821586815,
          -0.8910563647424635,
          -0.8193724609607174,
          -0.716194200420128,
          -0.825662839514274
         ],
         "yaxis": "y"
        },
        {
         "bandwidth": 0.2,
         "box": {
          "visible": false
         },
         "customdata": [
          "United States",
          "Brazil",
          "Ecuador",
          "Russia",
          "Spain",
          "Italy",
          "United Kingdom",
          "Qatar",
          "France",
          "Germany",
          "Peru",
          "Pakistan",
          "Turkey",
          "Mexico",
          "Saudi Arabia",
          "Iran",
          "China",
          "India",
          "Canada",
          "Belgium",
          "Netherlands",
          "Belarus",
          "Switzerland",
          "Sweden",
          "Portugal",
          "South Africa",
          "Chile",
          "Ireland",
          "Singapore",
          "United Arab Emirates",
          "Ukraine",
          "Japan",
          "Israel",
          "Austria",
          "Egypt",
          "Poland",
          "Indonesia",
          "Romania",
          "Bangladesh",
          "Colombia",
          "Korea, South",
          "Serbia",
          "Denmark",
          "Dominican Republic",
          "Philippines",
          "Panama",
          "Norway",
          "Czechia",
          "Australia",
          "Malaysia"
         ],
         "hoveron": "points",
         "hovertemplate": "%{customdata}: %{y:.2f}<extra></extra>",
         "jitter": 0.1,
         "line": {
          "color": "rgb(214, 39, 40)"
         },
         "meanline": {
          "visible": true
         },
         "name": "richards",
         "pointpos": 0,
         "points": "all",
         "type": "violin",
         "xaxis": "x2",
         "y": [
          -0.13633138362456582,
          -0.49620909532922813,
          -0.7086571746372741,
          -0.8652422304788371,
          -0.6358092603780683,
          -0.3373562744649855,
          -0.45989778780442875,
          -0.9463758118510804,
          -0.5908488099098472,
          -0.6047025471578044,
          -0.29368887299694735,
          -0.5536800732950596,
          -0.7033931952261878,
          -0.5509962326216645,
          -1.3105343886730247,
          -0.7007101703924357,
          -0.4001487629441208,
          -0.4330538586600477,
          -0.28152237039568434,
          -0.5935325685889289,
          -0.6257049079253384,
          -0.33971727643681854,
          -0.5982676138670591,
          -0.5229717634084696,
          -0.4165810219023378,
          -0.2271257567859135,
          -0.11623583625567929,
          -0.7802088008948684,
          -0.9816081100125826,
          -0.4060553131000597,
          -0.6156217513141655,
          -0.9282832110266619,
          -0.2863866271680829,
          -0.6043186807278701,
          -0.5042743323579044,
          -0.4679440567839553,
          -0.6057256175665863,
          -0.42505713168067416,
          -0.4231059336676457,
          -0.18650310676129683,
          0.010730653514049277,
          -0.7927106575411915,
          -0.7854535134845325,
          -0.45490440117002184,
          -0.08410243998456486,
          -0.2861573091303233,
          -0.7134663691879248,
          -0.594369758709584,
          -0.8065995309053059,
          -0.6754819815885194
         ],
         "yaxis": "y2"
        },
        {
         "bandwidth": 0.2,
         "box": {
          "visible": false
         },
         "customdata": [
          "NE",
          "MN",
          "IA",
          "NY",
          "NJ",
          "IL",
          "MA",
          "CA",
          "KS",
          "PA",
          "MI",
          "FL",
          "TX",
          "CT",
          "MD",
          "VA",
          "GA",
          "LA",
          "OH",
          "IN",
          "CO",
          "TN",
          "NC",
          "WA",
          "RI",
          "AZ",
          "MS",
          "WI",
          "MO",
          "AL",
          "DE",
          "SC",
          "KY",
          "UT",
          "DC",
          "AR",
          "NV",
          "NM",
          "OK",
          "ND",
          "NH",
          "OR",
          "SD",
          "ID",
          "PR",
          "WV",
          "ME",
          "VT",
          "WY",
          "HI",
          "MT",
          "AK",
          "GU"
         ],
         "hoveron": "points",
         "hovertemplate": "%{customdata}: %{y:.2f}<extra></extra>",
         "jitter": 0.1,
         "line": {
          "color": "rgb(148, 103, 189)"
         },
         "meanline": {
          "visible": true
         },
         "name": "loglogistic",
         "pointpos": 0,
         "points": "all",
         "type": "violin",
         "xaxis": "x",
         "y": [
          0.160320382057182,
          -0.28329738343954686,
          -0.23138760763159016,
          -0.7589703793243832,
          -0.7502627219532518,
          -1.2989152618254844,
          -0.6818264379645048,
          -1.072958507282464,
          -0.7412525257278807,
          -0.5966209228181691,
          -0.7295722388020736,
          -0.6246223904991576,
          -0.6742781782684993,
          -0.6157951238032561,
          -0.8150817626505583,
          -1.2564471338888008,
          -0.566110408028186,
          -0.7406248152973985,
          -0.7531183779453189,
          -1.184494737148741,
          -1.1644384445591878,
          -1.1930065069537488,
          -1.2007341428133091,
          -0.8140363825771874,
          -0.6045866762108932,
          -1.2184041609510055,
          -0.9456315873300631,
          -1.261496674663338,
          -0.7457195389450975,
          -0.5634941241105264,
          -0.5073057993226229,
          -0.7056088496307404,
          -0.6300702178765144,
          -1.098687838629092,
          -0.6444891168310217,
          -1.1031146623368862,
          -0.7004229831674945,
          -0.9314177622224726,
          -0.740371352610384,
          -0.594885001004095,
          -1.005304765145124,
          -0.6644495251870255,
          -0.85892831077763,
          -0.8392280614422541,
          -0.7440346234784011,
          -0.6069052577955827,
          -0.6700717410656488,
          -1.1523434620220752,
          -1.1274568128041336,
          -0.9476369478802878,
          -0.7128557803142668,
          -0.6871764572026616,
          -1.2443858178287281
         ],
         "yaxis": "y"
        },
        {
         "bandwidth": 0.2,
         "box": {
          "visible": false
         },
         "customdata": [
          "United States",
          "Brazil",
          "Ecuador",
          "Russia",
          "Spain",
          "Italy",
          "United Kingdom",
          "Qatar",
          "France",
          "Germany",
          "Peru",
          "Pakistan",
          "Turkey",
          "Mexico",
          "Saudi Arabia",
          "Iran",
          "China",
          "India",
          "Canada",
          "Belgium",
          "Netherlands",
          "Belarus",
          "Switzerland",
          "Sweden",
          "Portugal",
          "South Africa",
          "Chile",
          "Ireland",
          "Singapore",
          "United Arab Emirates",
          "Ukraine",
          "Japan",
          "Israel",
          "Austria",
          "Egypt",
          "Poland",
          "Indonesia",
          "Romania",
          "Bangladesh",
          "Colombia",
          "Korea, South",
          "Serbia",
          "Denmark",
          "Dominican Republic",
          "Philippines",
          "Panama",
          "Norway",
          "Czechia",
          "Australia",
          "Malaysia"
         ],
         "hoveron": "points",
         "hovertemplate": "%{customdata}: %{y:.2f}<extra></extra>",
         "jitter": 0.1,
         "line": {
          "color": "rgb(148, 103, 189)"
         },
         "meanline": {
          "visible": true
         },
         "name": "loglogistic",
         "pointpos": 0,
         "points": "all",
         "type": "violin",
         "xaxis": "x2",
         "y": [
          -0.6541625741051341,
          -0.8910705692586116,
          -0.7045518624780751,
          -0.44322569646666743,
          -0.5895486153160828,
          -0.6197209808129502,
          -0.4498406899114495,
          0.06267734926339724,
          -0.5908428470448315,
          -0.6895303486828109,
          -0.949438729302805,
          -1.0341845043880002,
          -0.8101351574236108,
          -0.7289517069584278,
          0.8393388324849606,
          -0.7931117237546287,
          -0.43997890433259285,
          -0.6688912284721589,
          -0.7878182617410986,
          -0.5278167411007947,
          -0.5720631481888487,
          -0.8401621178036255,
          -0.6058099301986063,
          -0.45719802464839876,
          -0.6193074854037085,
          -1.327164740156203,
          -1.1474004708084848,
          -0.7802088936828684,
          -0.9816061553680304,
          -0.5402524249858865,
          -0.7559367777941082,
          -0.9282826917556267,
          -0.7014927095678318,
          -0.8414861416483487,
          -0.6816313371358584,
          -0.48728270621416686,
          -0.8065393127220161,
          -0.5372591020949521,
          -0.5100638724225153,
          -1.1348078500303511,
          -1.1705518562248678,
          -0.8283606912547393,
          -0.9212301144520868,
          -0.6772709752688376,
          -0.7008279622088898,
          -0.7015603973298706,
          -0.8368651094430286,
          -0.6798827982023007,
          -1.3505744848142163,
          -0.6278874968687961
         ],
         "yaxis": "y2"
        },
        {
         "bandwidth": 0.2,
         "box": {
          "visible": false
         },
         "customdata": [
          "NE",
          "MN",
          "IA",
          "NY",
          "NJ",
          "IL",
          "MA",
          "CA",
          "KS",
          "PA",
          "MI",
          "FL",
          "TX",
          "CT",
          "MD",
          "VA",
          "GA",
          "LA",
          "OH",
          "IN",
          "CO",
          "TN",
          "NC",
          "WA",
          "RI",
          "AZ",
          "MS",
          "WI",
          "MO",
          "AL",
          "DE",
          "SC",
          "KY",
          "UT",
          "DC",
          "AR",
          "NV",
          "NM",
          "OK",
          "ND",
          "NH",
          "OR",
          "SD",
          "ID",
          "PR",
          "WV",
          "ME",
          "VT",
          "WY",
          "HI",
          "MT",
          "AK",
          "GU"
         ],
         "hoveron": "points",
         "hovertemplate": "%{customdata}: %{y:.2f}<extra></extra>",
         "jitter": 0.1,
         "line": {
          "color": "rgb(140, 86, 75)"
         },
         "meanline": {
          "visible": true
         },
         "name": "invweibull",
         "pointpos": 0,
         "points": "all",
         "type": "violin",
         "xaxis": "x",
         "y": [
          2.2026716070731136,
          2.265640394441994,
          2.259028085451445,
          -0.43289321545575876,
          -0.8089155837067105,
          -0.6733900167494551,
          -0.23736339161494335,
          -0.7937146007479015,
          2.1464595184036392,
          -0.7487181198511137,
          0.006803557614120264,
          -0.7510636831916353,
          -0.7793326541433706,
          0.018518965391271843,
          -0.8804495830220517,
          -0.5144834046606147,
          -0.6206350829808993,
          -0.6876825158612905,
          0.10734443722034286,
          -1.0018085784783926,
          -0.9637714579542505,
          -0.9757716338263901,
          -0.8831668977775858,
          0.7860103198469015,
          0.9875026295843716,
          -1.007505865619927,
          -0.8350600220248295,
          -0.9198143665302193,
          -0.8329374158522007,
          -0.3275252160187048,
          -0.3639626527631552,
          -0.825896772420917,
          -0.666132394398717,
          -0.99603391608212,
          -0.7614781893380891,
          0.58238728528919,
          -0.8278913634759946,
          -0.7947358900373445,
          -0.8536125519133521,
          2.21295185943522,
          -0.9585392588169869,
          -0.8087419318540331,
          1.9098000775506254,
          -0.9333457131486843,
          -0.8078533706636785,
          -0.47332825402847606,
          -0.6168501824380402,
          1.551189312192086,
          -0.9658484170157577,
          1.7833939177801716,
          0.5917547011285564,
          -0.03385036516811764,
          1.5244840631323577
         ],
         "yaxis": "y"
        },
        {
         "bandwidth": 0.2,
         "box": {
          "visible": false
         },
         "customdata": [
          "United States",
          "Brazil",
          "Ecuador",
          "Russia",
          "Spain",
          "Italy",
          "United Kingdom",
          "Qatar",
          "France",
          "Germany",
          "Peru",
          "Pakistan",
          "Turkey",
          "Mexico",
          "Saudi Arabia",
          "Iran",
          "China",
          "India",
          "Canada",
          "Belgium",
          "Netherlands",
          "Belarus",
          "Switzerland",
          "Sweden",
          "Portugal",
          "South Africa",
          "Chile",
          "Ireland",
          "Singapore",
          "United Arab Emirates",
          "Ukraine",
          "Japan",
          "Israel",
          "Austria",
          "Egypt",
          "Poland",
          "Indonesia",
          "Romania",
          "Bangladesh",
          "Colombia",
          "Korea, South",
          "Serbia",
          "Denmark",
          "Dominican Republic",
          "Philippines",
          "Panama",
          "Norway",
          "Czechia",
          "Australia",
          "Malaysia"
         ],
         "hoveron": "points",
         "hovertemplate": "%{customdata}: %{y:.2f}<extra></extra>",
         "jitter": 0.1,
         "line": {
          "color": "rgb(140, 86, 75)"
         },
         "meanline": {
          "visible": true
         },
         "name": "invweibull",
         "pointpos": 0,
         "points": "all",
         "type": "violin",
         "xaxis": "x2",
         "y": [
          -0.7900119787907297,
          1.9616803984111564,
          2.1195618107464673,
          0.4722191143503763,
          -0.29435915047876077,
          -0.734900793087702,
          -0.5728445302653774,
          2.0425377681033394,
          1.779621198531201,
          -0.42468609062544627,
          -0.7281184159014386,
          1.6922851623175363,
          0.38210691622447535,
          1.9339202569622609,
          1.2981685555436753,
          1.9980233606714675,
          2.2664316908655007,
          -0.6383472305684443,
          -0.8157245388816902,
          -0.3774442144569387,
          -0.18856490919067026,
          -0.7054257855289283,
          -0.48953122925817355,
          -0.19766809563552135,
          -0.6665731038931056,
          -0.3742770378293649,
          -0.9362101366803913,
          1.6850211183734114,
          1.3388050208399915,
          -0.7147443194722278,
          0.7344594321437231,
          1.4840213581922468,
          -0.7796287888593858,
          -0.5654167690074904,
          -0.29250944494019304,
          -0.5763448464990711,
          0.9774695167842867,
          -0.6377625041638623,
          -0.6689159973450923,
          -0.8772802652991911,
          -1.2448483973406015,
          1.7867293331195644,
          1.9087633391861218,
          -0.540839451448169,
          -0.8302138523243754,
          -0.7721658999693573,
          -0.058005665191751495,
          -0.46876831200742897,
          0.16552809531849416,
          -0.24577099980504782
         ],
         "yaxis": "y2"
        },
        {
         "bandwidth": 0.2,
         "box": {
          "visible": false
         },
         "customdata": [
          "NE",
          "MN",
          "IA",
          "NY",
          "NJ",
          "IL",
          "MA",
          "CA",
          "KS",
          "PA",
          "MI",
          "FL",
          "TX",
          "CT",
          "MD",
          "VA",
          "GA",
          "LA",
          "OH",
          "IN",
          "CO",
          "TN",
          "NC",
          "WA",
          "RI",
          "AZ",
          "MS",
          "WI",
          "MO",
          "AL",
          "DE",
          "SC",
          "KY",
          "UT",
          "DC",
          "AR",
          "NV",
          "NM",
          "OK",
          "ND",
          "NH",
          "OR",
          "SD",
          "ID",
          "PR",
          "WV",
          "ME",
          "VT",
          "WY",
          "HI",
          "MT",
          "AK",
          "GU"
         ],
         "hoveron": "points",
         "hovertemplate": "%{customdata}: %{y:.2f}<extra></extra>",
         "jitter": 0.1,
         "line": {
          "color": "rgb(227, 119, 194)"
         },
         "meanline": {
          "visible": true
         },
         "name": "gompertz",
         "pointpos": 0,
         "points": "all",
         "type": "violin",
         "xaxis": "x",
         "y": [
          -0.4105605991795422,
          -0.37370661109187375,
          -0.454353800906848,
          -0.4795104956584877,
          -0.14078152862169613,
          -0.1889716102457152,
          -0.5581649202840908,
          -0.19555044195265314,
          -0.4992850266578924,
          -0.23909380831349075,
          -0.5771861967402128,
          -0.27859211993803995,
          -0.18176308527427973,
          -0.6011854003934984,
          -0.24426924223673638,
          -0.27688199904467636,
          -0.3837682690059509,
          -0.5197929910065213,
          -0.4712689507754021,
          0.008195918482482923,
          -0.043423293519570534,
          -0.01261189520020882,
          -0.10531499168042248,
          -0.731374400528658,
          -0.32525015174981137,
          0.012146986324167473,
          -0.27410936465651753,
          -0.03516745932293475,
          -0.15063465639176243,
          -0.5338862861454355,
          -0.49738237640737964,
          -0.1024354342928833,
          -0.397337924446318,
          -0.011402298572929568,
          -0.3039087625379171,
          -0.5467430012920584,
          -0.09721181061011382,
          -0.2862649516059156,
          -0.08093882283092906,
          -0.4481907211049608,
          -0.10685919898958925,
          -0.14884654874326878,
          0.7077749819466091,
          -0.2646333322598405,
          -0.24218158823024438,
          -0.516303357920131,
          -0.37798434340604353,
          -0.25227126995742627,
          0.054962369492336634,
          -0.17176809642625646,
          -0.7287811483627359,
          -0.7162049035060177,
          -0.5564877034197508
         ],
         "yaxis": "y"
        },
        {
         "bandwidth": 0.2,
         "box": {
          "visible": false
         },
         "customdata": [
          "United States",
          "Brazil",
          "Ecuador",
          "Russia",
          "Spain",
          "Italy",
          "United Kingdom",
          "Qatar",
          "France",
          "Germany",
          "Peru",
          "Pakistan",
          "Turkey",
          "Mexico",
          "Saudi Arabia",
          "Iran",
          "China",
          "India",
          "Canada",
          "Belgium",
          "Netherlands",
          "Belarus",
          "Switzerland",
          "Sweden",
          "Portugal",
          "South Africa",
          "Chile",
          "Ireland",
          "Singapore",
          "United Arab Emirates",
          "Ukraine",
          "Japan",
          "Israel",
          "Austria",
          "Egypt",
          "Poland",
          "Indonesia",
          "Romania",
          "Bangladesh",
          "Colombia",
          "Korea, South",
          "Serbia",
          "Denmark",
          "Dominican Republic",
          "Philippines",
          "Panama",
          "Norway",
          "Czechia",
          "Australia",
          "Malaysia"
         ],
         "hoveron": "points",
         "hovertemplate": "%{customdata}: %{y:.2f}<extra></extra>",
         "jitter": 0.1,
         "line": {
          "color": "rgb(227, 119, 194)"
         },
         "meanline": {
          "visible": true
         },
         "name": "gompertz",
         "pointpos": 0,
         "points": "all",
         "type": "violin",
         "xaxis": "x2",
         "y": [
          -0.13639523672447673,
          -0.5623900191946488,
          0.06746471583270834,
          -0.09018037646510106,
          -0.6185910002899988,
          -0.33738527442139665,
          -0.4607711373763589,
          0.03814289435347083,
          1.0887039996326786,
          -0.603544052573365,
          -0.3091482084779555,
          -0.576985778333251,
          -0.32407790723008184,
          -0.587276033223129,
          0.41590800377661047,
          0.6146603275734579,
          -0.3686628072776494,
          -0.44091479493411645,
          -0.28161871803154914,
          -0.5935401412643283,
          -0.6208271102948026,
          -0.34167492600367066,
          -0.5983448053671471,
          -0.5159234049349649,
          -0.4166248326583306,
          -0.31035213520451155,
          -0.11638511269040192,
          1.109696750910469,
          1.0874125397843477,
          -0.406174137704436,
          0.006719606026784174,
          1.09113058887897,
          -0.28643988974013024,
          -0.6044197651056353,
          -0.5071209651622572,
          -0.4680221689920404,
          0.008488331710923527,
          -0.4251304603822289,
          -0.44397255403223257,
          -0.18659829428857402,
          0.010499232687382868,
          0.8716809609293251,
          0.390510598490583,
          -0.4550091381068333,
          -0.08414543056694856,
          -0.2862521010820657,
          -0.6210153635185633,
          -0.5940220743429443,
          -0.39105705029918186,
          -0.6715077264966728
         ],
         "yaxis": "y2"
        }
       ],
       "layout": {
        "height": 700,
        "showlegend": false,
        "template": {
         "data": {
          "bar": [
           {
            "error_x": {
             "color": "#2a3f5f"
            },
            "error_y": {
             "color": "#2a3f5f"
            },
            "marker": {
             "line": {
              "color": "#E5ECF6",
              "width": 0.5
             }
            },
            "type": "bar"
           }
          ],
          "barpolar": [
           {
            "marker": {
             "line": {
              "color": "#E5ECF6",
              "width": 0.5
             }
            },
            "type": "barpolar"
           }
          ],
          "carpet": [
           {
            "aaxis": {
             "endlinecolor": "#2a3f5f",
             "gridcolor": "white",
             "linecolor": "white",
             "minorgridcolor": "white",
             "startlinecolor": "#2a3f5f"
            },
            "baxis": {
             "endlinecolor": "#2a3f5f",
             "gridcolor": "white",
             "linecolor": "white",
             "minorgridcolor": "white",
             "startlinecolor": "#2a3f5f"
            },
            "type": "carpet"
           }
          ],
          "choropleth": [
           {
            "colorbar": {
             "outlinewidth": 0,
             "ticks": ""
            },
            "type": "choropleth"
           }
          ],
          "contour": [
           {
            "colorbar": {
             "outlinewidth": 0,
             "ticks": ""
            },
            "colorscale": [
             [
              0,
              "#0d0887"
             ],
             [
              0.1111111111111111,
              "#46039f"
             ],
             [
              0.2222222222222222,
              "#7201a8"
             ],
             [
              0.3333333333333333,
              "#9c179e"
             ],
             [
              0.4444444444444444,
              "#bd3786"
             ],
             [
              0.5555555555555556,
              "#d8576b"
             ],
             [
              0.6666666666666666,
              "#ed7953"
             ],
             [
              0.7777777777777778,
              "#fb9f3a"
             ],
             [
              0.8888888888888888,
              "#fdca26"
             ],
             [
              1,
              "#f0f921"
             ]
            ],
            "type": "contour"
           }
          ],
          "contourcarpet": [
           {
            "colorbar": {
             "outlinewidth": 0,
             "ticks": ""
            },
            "type": "contourcarpet"
           }
          ],
          "heatmap": [
           {
            "colorbar": {
             "outlinewidth": 0,
             "ticks": ""
            },
            "colorscale": [
             [
              0,
              "#0d0887"
             ],
             [
              0.1111111111111111,
              "#46039f"
             ],
             [
              0.2222222222222222,
              "#7201a8"
             ],
             [
              0.3333333333333333,
              "#9c179e"
             ],
             [
              0.4444444444444444,
              "#bd3786"
             ],
             [
              0.5555555555555556,
              "#d8576b"
             ],
             [
              0.6666666666666666,
              "#ed7953"
             ],
             [
              0.7777777777777778,
              "#fb9f3a"
             ],
             [
              0.8888888888888888,
              "#fdca26"
             ],
             [
              1,
              "#f0f921"
             ]
            ],
            "type": "heatmap"
           }
          ],
          "heatmapgl": [
           {
            "colorbar": {
             "outlinewidth": 0,
             "ticks": ""
            },
            "colorscale": [
             [
              0,
              "#0d0887"
             ],
             [
              0.1111111111111111,
              "#46039f"
             ],
             [
              0.2222222222222222,
              "#7201a8"
             ],
             [
              0.3333333333333333,
              "#9c179e"
             ],
             [
              0.4444444444444444,
              "#bd3786"
             ],
             [
              0.5555555555555556,
              "#d8576b"
             ],
             [
              0.6666666666666666,
              "#ed7953"
             ],
             [
              0.7777777777777778,
              "#fb9f3a"
             ],
             [
              0.8888888888888888,
              "#fdca26"
             ],
             [
              1,
              "#f0f921"
             ]
            ],
            "type": "heatmapgl"
           }
          ],
          "histogram": [
           {
            "marker": {
             "colorbar": {
              "outlinewidth": 0,
              "ticks": ""
             }
            },
            "type": "histogram"
           }
          ],
          "histogram2d": [
           {
            "colorbar": {
             "outlinewidth": 0,
             "ticks": ""
            },
            "colorscale": [
             [
              0,
              "#0d0887"
             ],
             [
              0.1111111111111111,
              "#46039f"
             ],
             [
              0.2222222222222222,
              "#7201a8"
             ],
             [
              0.3333333333333333,
              "#9c179e"
             ],
             [
              0.4444444444444444,
              "#bd3786"
             ],
             [
              0.5555555555555556,
              "#d8576b"
             ],
             [
              0.6666666666666666,
              "#ed7953"
             ],
             [
              0.7777777777777778,
              "#fb9f3a"
             ],
             [
              0.8888888888888888,
              "#fdca26"
             ],
             [
              1,
              "#f0f921"
             ]
            ],
            "type": "histogram2d"
           }
          ],
          "histogram2dcontour": [
           {
            "colorbar": {
             "outlinewidth": 0,
             "ticks": ""
            },
            "colorscale": [
             [
              0,
              "#0d0887"
             ],
             [
              0.1111111111111111,
              "#46039f"
             ],
             [
              0.2222222222222222,
              "#7201a8"
             ],
             [
              0.3333333333333333,
              "#9c179e"
             ],
             [
              0.4444444444444444,
              "#bd3786"
             ],
             [
              0.5555555555555556,
              "#d8576b"
             ],
             [
              0.6666666666666666,
              "#ed7953"
             ],
             [
              0.7777777777777778,
              "#fb9f3a"
             ],
             [
              0.8888888888888888,
              "#fdca26"
             ],
             [
              1,
              "#f0f921"
             ]
            ],
            "type": "histogram2dcontour"
           }
          ],
          "mesh3d": [
           {
            "colorbar": {
             "outlinewidth": 0,
             "ticks": ""
            },
            "type": "mesh3d"
           }
          ],
          "parcoords": [
           {
            "line": {
             "colorbar": {
              "outlinewidth": 0,
              "ticks": ""
             }
            },
            "type": "parcoords"
           }
          ],
          "pie": [
           {
            "automargin": true,
            "type": "pie"
           }
          ],
          "scatter": [
           {
            "marker": {
             "colorbar": {
              "outlinewidth": 0,
              "ticks": ""
             }
            },
            "type": "scatter"
           }
          ],
          "scatter3d": [
           {
            "line": {
             "colorbar": {
              "outlinewidth": 0,
              "ticks": ""
             }
            },
            "marker": {
             "colorbar": {
              "outlinewidth": 0,
              "ticks": ""
             }
            },
            "type": "scatter3d"
           }
          ],
          "scattercarpet": [
           {
            "marker": {
             "colorbar": {
              "outlinewidth": 0,
              "ticks": ""
             }
            },
            "type": "scattercarpet"
           }
          ],
          "scattergeo": [
           {
            "marker": {
             "colorbar": {
              "outlinewidth": 0,
              "ticks": ""
             }
            },
            "type": "scattergeo"
           }
          ],
          "scattergl": [
           {
            "marker": {
             "colorbar": {
              "outlinewidth": 0,
              "ticks": ""
             }
            },
            "type": "scattergl"
           }
          ],
          "scattermapbox": [
           {
            "marker": {
             "colorbar": {
              "outlinewidth": 0,
              "ticks": ""
             }
            },
            "type": "scattermapbox"
           }
          ],
          "scatterpolar": [
           {
            "marker": {
             "colorbar": {
              "outlinewidth": 0,
              "ticks": ""
             }
            },
            "type": "scatterpolar"
           }
          ],
          "scatterpolargl": [
           {
            "marker": {
             "colorbar": {
              "outlinewidth": 0,
              "ticks": ""
             }
            },
            "type": "scatterpolargl"
           }
          ],
          "scatterternary": [
           {
            "marker": {
             "colorbar": {
              "outlinewidth": 0,
              "ticks": ""
             }
            },
            "type": "scatterternary"
           }
          ],
          "surface": [
           {
            "colorbar": {
             "outlinewidth": 0,
             "ticks": ""
            },
            "colorscale": [
             [
              0,
              "#0d0887"
             ],
             [
              0.1111111111111111,
              "#46039f"
             ],
             [
              0.2222222222222222,
              "#7201a8"
             ],
             [
              0.3333333333333333,
              "#9c179e"
             ],
             [
              0.4444444444444444,
              "#bd3786"
             ],
             [
              0.5555555555555556,
              "#d8576b"
             ],
             [
              0.6666666666666666,
              "#ed7953"
             ],
             [
              0.7777777777777778,
              "#fb9f3a"
             ],
             [
              0.8888888888888888,
              "#fdca26"
             ],
             [
              1,
              "#f0f921"
             ]
            ],
            "type": "surface"
           }
          ],
          "table": [
           {
            "cells": {
             "fill": {
              "color": "#EBF0F8"
             },
             "line": {
              "color": "white"
             }
            },
            "header": {
             "fill": {
              "color": "#C8D4E3"
             },
             "line": {
              "color": "white"
             }
            },
            "type": "table"
           }
          ]
         },
         "layout": {
          "annotationdefaults": {
           "arrowcolor": "#2a3f5f",
           "arrowhead": 0,
           "arrowwidth": 1
          },
          "coloraxis": {
           "colorbar": {
            "outlinewidth": 0,
            "ticks": ""
           }
          },
          "colorscale": {
           "diverging": [
            [
             0,
             "#8e0152"
            ],
            [
             0.1,
             "#c51b7d"
            ],
            [
             0.2,
             "#de77ae"
            ],
            [
             0.3,
             "#f1b6da"
            ],
            [
             0.4,
             "#fde0ef"
            ],
            [
             0.5,
             "#f7f7f7"
            ],
            [
             0.6,
             "#e6f5d0"
            ],
            [
             0.7,
             "#b8e186"
            ],
            [
             0.8,
             "#7fbc41"
            ],
            [
             0.9,
             "#4d9221"
            ],
            [
             1,
             "#276419"
            ]
           ],
           "sequential": [
            [
             0,
             "#0d0887"
            ],
            [
             0.1111111111111111,
             "#46039f"
            ],
            [
             0.2222222222222222,
             "#7201a8"
            ],
            [
             0.3333333333333333,
             "#9c179e"
            ],
            [
             0.4444444444444444,
             "#bd3786"
            ],
            [
             0.5555555555555556,
             "#d8576b"
            ],
            [
             0.6666666666666666,
             "#ed7953"
            ],
            [
             0.7777777777777778,
             "#fb9f3a"
            ],
            [
             0.8888888888888888,
             "#fdca26"
            ],
            [
             1,
             "#f0f921"
            ]
           ],
           "sequentialminus": [
            [
             0,
             "#0d0887"
            ],
            [
             0.1111111111111111,
             "#46039f"
            ],
            [
             0.2222222222222222,
             "#7201a8"
            ],
            [
             0.3333333333333333,
             "#9c179e"
            ],
            [
             0.4444444444444444,
             "#bd3786"
            ],
            [
             0.5555555555555556,
             "#d8576b"
            ],
            [
             0.6666666666666666,
             "#ed7953"
            ],
            [
             0.7777777777777778,
             "#fb9f3a"
            ],
            [
             0.8888888888888888,
             "#fdca26"
            ],
            [
             1,
             "#f0f921"
            ]
           ]
          },
          "colorway": [
           "#636efa",
           "#EF553B",
           "#00cc96",
           "#ab63fa",
           "#FFA15A",
           "#19d3f3",
           "#FF6692",
           "#B6E880",
           "#FF97FF",
           "#FECB52"
          ],
          "font": {
           "color": "#2a3f5f"
          },
          "geo": {
           "bgcolor": "white",
           "lakecolor": "white",
           "landcolor": "#E5ECF6",
           "showlakes": true,
           "showland": true,
           "subunitcolor": "white"
          },
          "hoverlabel": {
           "align": "left"
          },
          "hovermode": "closest",
          "mapbox": {
           "style": "light"
          },
          "paper_bgcolor": "white",
          "plot_bgcolor": "#E5ECF6",
          "polar": {
           "angularaxis": {
            "gridcolor": "white",
            "linecolor": "white",
            "ticks": ""
           },
           "bgcolor": "#E5ECF6",
           "radialaxis": {
            "gridcolor": "white",
            "linecolor": "white",
            "ticks": ""
           }
          },
          "scene": {
           "xaxis": {
            "backgroundcolor": "#E5ECF6",
            "gridcolor": "white",
            "gridwidth": 2,
            "linecolor": "white",
            "showbackground": true,
            "ticks": "",
            "zerolinecolor": "white"
           },
           "yaxis": {
            "backgroundcolor": "#E5ECF6",
            "gridcolor": "white",
            "gridwidth": 2,
            "linecolor": "white",
            "showbackground": true,
            "ticks": "",
            "zerolinecolor": "white"
           },
           "zaxis": {
            "backgroundcolor": "#E5ECF6",
            "gridcolor": "white",
            "gridwidth": 2,
            "linecolor": "white",
            "showbackground": true,
            "ticks": "",
            "zerolinecolor": "white"
           }
          },
          "shapedefaults": {
           "line": {
            "color": "#2a3f5f"
           }
          },
          "ternary": {
           "aaxis": {
            "gridcolor": "white",
            "linecolor": "white",
            "ticks": ""
           },
           "baxis": {
            "gridcolor": "white",
            "linecolor": "white",
            "ticks": ""
           },
           "bgcolor": "#E5ECF6",
           "caxis": {
            "gridcolor": "white",
            "linecolor": "white",
            "ticks": ""
           }
          },
          "title": {
           "x": 0.05
          },
          "xaxis": {
           "automargin": true,
           "gridcolor": "white",
           "linecolor": "white",
           "ticks": "",
           "title": {
            "standoff": 15
           },
           "zerolinecolor": "white",
           "zerolinewidth": 2
          },
          "yaxis": {
           "automargin": true,
           "gridcolor": "white",
           "linecolor": "white",
           "ticks": "",
           "title": {
            "standoff": 15
           },
           "zerolinecolor": "white",
           "zerolinewidth": 2
          }
         }
        },
        "title": {
         "text": "Comparison of Models on State & Country Data",
         "x": 0.5
        },
        "width": 800,
        "xaxis": {
         "anchor": "y",
         "domain": [
          0,
          1
         ],
         "linecolor": "black",
         "linewidth": 1.5,
         "mirror": true,
         "showline": true
        },
        "xaxis2": {
         "anchor": "y2",
         "domain": [
          0,
          1
         ],
         "linecolor": "black",
         "linewidth": 1.5,
         "mirror": true,
         "showline": true
        },
        "yaxis": {
         "anchor": "x",
         "domain": [
          0.575,
          1
         ],
         "linecolor": "black",
         "linewidth": 1.5,
         "mirror": true,
         "showline": true,
         "title": {
          "text": "Standard RMSE Score by State"
         }
        },
        "yaxis2": {
         "anchor": "x2",
         "domain": [
          0,
          0.425
         ],
         "linecolor": "black",
         "linewidth": 1.5,
         "mirror": true,
         "showline": true,
         "title": {
          "text": "Standard RMSE Score by Country"
         }
        }
       }
      },
      "text/html": [
       "<div>\n",
       "        \n",
       "        \n",
       "            <div id=\"e6660e86-9ad6-411d-80d4-e5866780d6e1\" class=\"plotly-graph-div\" style=\"height:700px; width:800px;\"></div>\n",
       "            <script type=\"text/javascript\">\n",
       "                require([\"plotly\"], function(Plotly) {\n",
       "                    window.PLOTLYENV=window.PLOTLYENV || {};\n",
       "                    \n",
       "                if (document.getElementById(\"e6660e86-9ad6-411d-80d4-e5866780d6e1\")) {\n",
       "                    Plotly.newPlot(\n",
       "                        'e6660e86-9ad6-411d-80d4-e5866780d6e1',\n",
       "                        [{\"bandwidth\": 0.2, \"box\": {\"visible\": false}, \"customdata\": [\"NE\", \"MN\", \"IA\", \"NY\", \"NJ\", \"IL\", \"MA\", \"CA\", \"KS\", \"PA\", \"MI\", \"FL\", \"TX\", \"CT\", \"MD\", \"VA\", \"GA\", \"LA\", \"OH\", \"IN\", \"CO\", \"TN\", \"NC\", \"WA\", \"RI\", \"AZ\", \"MS\", \"WI\", \"MO\", \"AL\", \"DE\", \"SC\", \"KY\", \"UT\", \"DC\", \"AR\", \"NV\", \"NM\", \"OK\", \"ND\", \"NH\", \"OR\", \"SD\", \"ID\", \"PR\", \"WV\", \"ME\", \"VT\", \"WY\", \"HI\", \"MT\", \"AK\", \"GU\"], \"hoveron\": \"points\", \"hovertemplate\": \"%{customdata}: %{y:.2f}<extra></extra>\", \"jitter\": 0.1, \"line\": {\"color\": \"rgb(31, 119, 180)\"}, \"meanline\": {\"visible\": true}, \"name\": \"normal\", \"pointpos\": 0, \"points\": \"all\", \"type\": \"violin\", \"xaxis\": \"x\", \"y\": [-0.46602660079545555, -0.3976230980657728, -0.4327824199685046, 0.9856646237054594, 0.9284159961321666, 0.5455371855339604, 0.3282406294957514, 0.6394162994454861, -0.3555538649980426, 0.9538619396024904, 0.7331313173452404, 1.0313537584515131, 0.8579977799211194, 0.1583351838145006, 0.632608911222951, 0.43643248259285244, 0.7752206328603495, 1.5011580935406734, -0.24872859911084502, 0.7655625939081068, 0.7233298241255687, 0.7386913596090431, 0.6704110179011838, 1.009624241948123, -0.41248220367753957, 0.7583133551532393, 0.5645294060378268, 0.707195714712654, 1.0118131998183746, 0.662155820702343, 0.046769521452904764, 0.931798749061164, 0.4613616037286137, 0.7858924603880154, 0.6626827151717357, -0.11831664020545556, 0.973100349095962, 0.47913596058458735, 0.9950516593283057, -0.4100667718205788, 0.7292206955482158, 0.9885416958384916, -0.15969505989807745, 1.3833745558752102, 1.0648477515595447, 0.8303588644308832, 0.9182082309136981, 0.8917764650297145, 0.7714991695705676, 0.4876361106339514, 1.2252978589438952, 1.277666412388921, 0.9873559322708755], \"yaxis\": \"y\"}, {\"bandwidth\": 0.2, \"box\": {\"visible\": false}, \"customdata\": [\"United States\", \"Brazil\", \"Ecuador\", \"Russia\", \"Spain\", \"Italy\", \"United Kingdom\", \"Qatar\", \"France\", \"Germany\", \"Peru\", \"Pakistan\", \"Turkey\", \"Mexico\", \"Saudi Arabia\", \"Iran\", \"China\", \"India\", \"Canada\", \"Belgium\", \"Netherlands\", \"Belarus\", \"Switzerland\", \"Sweden\", \"Portugal\", \"South Africa\", \"Chile\", \"Ireland\", \"Singapore\", \"United Arab Emirates\", \"Ukraine\", \"Japan\", \"Israel\", \"Austria\", \"Egypt\", \"Poland\", \"Indonesia\", \"Romania\", \"Bangladesh\", \"Colombia\", \"Korea, South\", \"Serbia\", \"Denmark\", \"Dominican Republic\", \"Philippines\", \"Panama\", \"Norway\", \"Czechia\", \"Australia\", \"Malaysia\"], \"hoveron\": \"points\", \"hovertemplate\": \"%{customdata}: %{y:.2f}<extra></extra>\", \"jitter\": 0.1, \"line\": {\"color\": \"rgb(31, 119, 180)\"}, \"meanline\": {\"visible\": true}, \"name\": \"normal\", \"pointpos\": 0, \"points\": \"all\", \"type\": \"violin\", \"xaxis\": \"x2\", \"y\": [0.9000097461323574, -0.33843029743627, -0.03258016478655965, -0.5608351331703315, 1.1682145806507367, 1.1397518478121131, 0.7182359742561132, -0.12530319740974136, -0.5478923825624704, 1.3514252385250445, 0.20899551236163122, -0.27583930662647527, 0.17535194943418136, -0.42092387209701704, 0.03382669273960831, -0.4661095683523239, -0.32939285358441656, 0.2819606491916138, 0.6539963529571807, 0.613133640904334, 0.4681196847101128, 0.20320449774975735, 1.4184087135867933, 0.1107560710274682, 1.0279482945834397, 0.22728962108918702, 0.6300899564544808, -0.2270456870798696, 0.2593024073165054, 0.44885628622281454, -0.6440430999886347, 0.10484858337348033, 1.2229244309642753, 1.547056580397776, 0.056139700232045585, 0.6898896593045938, -0.6550592510897542, 0.7457677406924332, 0.36334947087683056, 0.4838145508206365, 1.2918813548440857, -0.5940999644183249, -0.4113673841730819, 0.3239815402778332, 0.9549480313049896, 0.6773753932378213, 1.3918885741699278, 1.3481939132727077, 1.6016221399385697, 1.120744475573326], \"yaxis\": \"y2\"}, {\"bandwidth\": 0.2, \"box\": {\"visible\": false}, \"customdata\": [\"NE\", \"MN\", \"IA\", \"NY\", \"NJ\", \"IL\", \"MA\", \"CA\", \"KS\", \"PA\", \"MI\", \"FL\", \"TX\", \"CT\", \"MD\", \"VA\", \"GA\", \"LA\", \"OH\", \"IN\", \"CO\", \"TN\", \"NC\", \"WA\", \"RI\", \"AZ\", \"MS\", \"WI\", \"MO\", \"AL\", \"DE\", \"SC\", \"KY\", \"UT\", \"DC\", \"AR\", \"NV\", \"NM\", \"OK\", \"ND\", \"NH\", \"OR\", \"SD\", \"ID\", \"PR\", \"WV\", \"ME\", \"VT\", \"WY\", \"HI\", \"MT\", \"AK\", \"GU\"], \"hoveron\": \"points\", \"hovertemplate\": \"%{customdata}: %{y:.2f}<extra></extra>\", \"jitter\": 0.1, \"line\": {\"color\": \"rgb(255, 127, 14)\"}, \"meanline\": {\"visible\": true}, \"name\": \"logistic\", \"pointpos\": 0, \"points\": \"all\", \"type\": \"violin\", \"xaxis\": \"x\", \"y\": [-0.5033322150549289, -0.40422868453892047, -0.2771276124854983, 1.8328621671842231, 1.7723792570936576, 1.8672055950151207, 2.13632116385913, 1.9100564050175315, 0.3085414480584587, 1.7914918021464141, 1.9153748513306665, 1.7584995564564014, 1.8352420374809149, 2.148357135978513, 1.9668191049437862, 1.9516658061948964, 1.9503565427244274, 1.410047372110109, 2.1889520131599913, 1.7071969325341338, 1.7645908589277461, 1.7325363946864993, 1.8089850161634473, 1.3637598032097082, 1.819376441786859, 1.6920926576674915, 1.9737460026452203, 1.7384748171689046, 1.719377389775487, 2.013222822858126, 2.2246151233132143, 1.7452461967087898, 2.0998626677297625, 1.7373183563199168, 1.9923873828687448, 1.945949368088781, 1.712163554910947, 2.0170318707216786, 1.6900706039863627, 0.09963623010584417, 1.8348164587069975, 1.7284736686845814, -0.40701158840493906, 1.4463739454996867, 1.7248057126636573, 1.9378896697759243, 1.8679397387295773, 0.45465429289866566, 1.7150615152391422, 0.5124705603284533, 1.30347417108123, 1.552521010558929, 0.33538165541837295], \"yaxis\": \"y\"}, {\"bandwidth\": 0.2, \"box\": {\"visible\": false}, \"customdata\": [\"United States\", \"Brazil\", \"Ecuador\", \"Russia\", \"Spain\", \"Italy\", \"United Kingdom\", \"Qatar\", \"France\", \"Germany\", \"Peru\", \"Pakistan\", \"Turkey\", \"Mexico\", \"Saudi Arabia\", \"Iran\", \"China\", \"India\", \"Canada\", \"Belgium\", \"Netherlands\", \"Belarus\", \"Switzerland\", \"Sweden\", \"Portugal\", \"South Africa\", \"Chile\", \"Ireland\", \"Singapore\", \"United Arab Emirates\", \"Ukraine\", \"Japan\", \"Israel\", \"Austria\", \"Egypt\", \"Poland\", \"Indonesia\", \"Romania\", \"Bangladesh\", \"Colombia\", \"Korea, South\", \"Serbia\", \"Denmark\", \"Dominican Republic\", \"Philippines\", \"Panama\", \"Norway\", \"Czechia\", \"Australia\", \"Malaysia\"], \"hoveron\": \"points\", \"hovertemplate\": \"%{customdata}: %{y:.2f}<extra></extra>\", \"jitter\": 0.1, \"line\": {\"color\": \"rgb(255, 127, 14)\"}, \"meanline\": {\"visible\": true}, \"name\": \"logistic\", \"pointpos\": 0, \"points\": \"all\", \"type\": \"violin\", \"xaxis\": \"x2\", \"y\": [1.7808685981415922, 0.7233380431776377, -0.7086571746206539, 2.048099455385678, 1.6982266201672434, 1.700490827019735, 1.9872147333915744, -0.9463758118509437, -0.5908488099096302, 1.5617279060740081, 2.0839260649305733, 1.1059867666656342, 2.008969214050902, 0.8252558937212456, -1.3105343886723788, -0.12665941495734007, -0.36516474076413274, 2.1496410367276595, 1.977725955395643, 2.0442887348343164, 2.084205594165606, 2.124368493783069, 1.5054139219412679, 2.1963159769025364, 1.8051431316012945, 1.9742306365571252, 1.8333678197429397, -0.7802088008948672, -0.9816081100131101, 2.104634100707784, 1.9184656909566074, -0.928283211032441, 1.6186696281759232, 1.3334669170482065, 2.204439253166538, 2.0073969958645135, 1.768138442583008, 1.9754878168868086, 2.1391368861983047, 1.9075830486460243, 1.1849652499092727, 0.1538893685597436, 0.4351631289809005, 2.1475285007769926, 1.716879617228737, 1.9790146110563662, 1.446732712482306, 1.5680492133065074, 0.8777690473138372, 1.7283391282860638], \"yaxis\": \"y2\"}, {\"bandwidth\": 0.2, \"box\": {\"visible\": false}, \"customdata\": [\"NE\", \"MN\", \"IA\", \"NY\", \"NJ\", \"IL\", \"MA\", \"CA\", \"KS\", \"PA\", \"MI\", \"FL\", \"TX\", \"CT\", \"MD\", \"VA\", \"GA\", \"LA\", \"OH\", \"IN\", \"CO\", \"TN\", \"NC\", \"WA\", \"RI\", \"AZ\", \"MS\", \"WI\", \"MO\", \"AL\", \"DE\", \"SC\", \"KY\", \"UT\", \"DC\", \"AR\", \"NV\", \"NM\", \"OK\", \"ND\", \"NH\", \"OR\", \"SD\", \"ID\", \"PR\", \"WV\", \"ME\", \"VT\", \"WY\", \"HI\", \"MT\", \"AK\", \"GU\"], \"hoveron\": \"points\", \"hovertemplate\": \"%{customdata}: %{y:.2f}<extra></extra>\", \"jitter\": 0.1, \"line\": {\"color\": \"rgb(44, 160, 44)\"}, \"meanline\": {\"visible\": true}, \"name\": \"skewnorm\", \"pointpos\": 0, \"points\": \"all\", \"type\": \"violin\", \"xaxis\": \"x\", \"y\": [-0.48069178251810557, -0.4047882948765741, -0.4331976338699959, -0.6677543160088851, -0.8601549239260147, -0.06260745080606601, -0.4290885962854029, -0.2919084008568107, -0.38767255177812027, -0.92188003181574, -0.7719908253477299, -0.8570624736744752, -0.8761634755543594, -0.5070335165130243, -0.4154209307127858, -0.06380883233877041, -0.7713223100407961, -0.44355313264560614, -0.35240606427362153, -0.30427705441821, -0.2728962644879814, -0.27738753079701006, -0.18498087160728036, -0.8455315047955408, -0.7124610134849643, -0.24881866455463564, -0.20949424029290695, -0.19411317824414753, -0.8513075129014084, -0.7169130857601862, -0.4054388204644533, -0.9406889130673647, -0.4704918536627427, -0.4057599431835082, -0.6413756693533795, -0.2136569985493985, -0.9626523207771104, -0.19764396242431012, -0.9293206868364646, -0.4113451033234274, -0.38656422479000974, -0.9462144029216302, -0.27005683405982706, -0.5280803270535145, -0.7534131211470005, -0.6554650497127803, -0.7432829021246066, -0.5394190988152665, -0.5032688393037495, -0.7730391796935672, -0.8595173415159606, -0.6767614966509241, -0.2206852900588632], \"yaxis\": \"y\"}, {\"bandwidth\": 0.2, \"box\": {\"visible\": false}, \"customdata\": [\"United States\", \"Brazil\", \"Ecuador\", \"Russia\", \"Spain\", \"Italy\", \"United Kingdom\", \"Qatar\", \"France\", \"Germany\", \"Peru\", \"Pakistan\", \"Turkey\", \"Mexico\", \"Saudi Arabia\", \"Iran\", \"China\", \"India\", \"Canada\", \"Belgium\", \"Netherlands\", \"Belarus\", \"Switzerland\", \"Sweden\", \"Portugal\", \"South Africa\", \"Chile\", \"Ireland\", \"Singapore\", \"United Arab Emirates\", \"Ukraine\", \"Japan\", \"Israel\", \"Austria\", \"Egypt\", \"Poland\", \"Indonesia\", \"Romania\", \"Bangladesh\", \"Colombia\", \"Korea, South\", \"Serbia\", \"Denmark\", \"Dominican Republic\", \"Philippines\", \"Panama\", \"Norway\", \"Czechia\", \"Australia\", \"Malaysia\"], \"hoveron\": \"points\", \"hovertemplate\": \"%{customdata}: %{y:.2f}<extra></extra>\", \"jitter\": 0.1, \"line\": {\"color\": \"rgb(44, 160, 44)\"}, \"meanline\": {\"visible\": true}, \"name\": \"skewnorm\", \"pointpos\": 0, \"points\": \"all\", \"type\": \"violin\", \"xaxis\": \"x2\", \"y\": [-0.9639771710290425, -0.39691846037003187, -0.03258015005663298, -0.5608351331551084, -0.7281331743550685, -0.8108793520448142, -0.7620965622900716, -0.12530319060844, -0.547892348737093, -0.590690105559625, -0.012527350613062396, -0.35758226634038515, -0.7288218198296758, -0.47102830578327015, 0.0338266928005452, -0.5260928107881958, -0.3630836219625866, -0.2503945732845044, -0.46503841930280126, -0.5650887103276585, -0.5451652032760572, -0.10059288575978084, -0.6318690568370763, -0.613310759302649, -0.7140049823272516, 0.037399412329665, -0.14722621976246364, -0.2270456867314057, 0.2593024074528806, -0.4862641916679889, -0.6440431000302109, 0.10484858337003239, -0.7876460438047691, -0.2648821409566383, -0.2750428738023636, -0.697692876679874, -0.6867721096998622, -0.6960463592575222, -0.4564279996076519, -0.006208083087249372, -0.08267623738932384, -0.5971283493943784, -0.616386054547894, -0.34348607506096496, -0.9725379634489499, -0.6102542967825708, -0.6092687793109627, -0.5792001833169574, -0.0966882165521972, -0.6284353991003538], \"yaxis\": \"y2\"}, {\"bandwidth\": 0.2, \"box\": {\"visible\": false}, \"customdata\": [\"NE\", \"MN\", \"IA\", \"NY\", \"NJ\", \"IL\", \"MA\", \"CA\", \"KS\", \"PA\", \"MI\", \"FL\", \"TX\", \"CT\", \"MD\", \"VA\", \"GA\", \"LA\", \"OH\", \"IN\", \"CO\", \"TN\", \"NC\", \"WA\", \"RI\", \"AZ\", \"MS\", \"WI\", \"MO\", \"AL\", \"DE\", \"SC\", \"KY\", \"UT\", \"DC\", \"AR\", \"NV\", \"NM\", \"OK\", \"ND\", \"NH\", \"OR\", \"SD\", \"ID\", \"PR\", \"WV\", \"ME\", \"VT\", \"WY\", \"HI\", \"MT\", \"AK\", \"GU\"], \"hoveron\": \"points\", \"hovertemplate\": \"%{customdata}: %{y:.2f}<extra></extra>\", \"jitter\": 0.1, \"line\": {\"color\": \"rgb(214, 39, 40)\"}, \"meanline\": {\"visible\": true}, \"name\": \"richards\", \"pointpos\": 0, \"points\": \"all\", \"type\": \"violin\", \"xaxis\": \"x\", \"y\": [-0.5023807915822613, -0.4019963224293026, -0.43017901058900876, -0.4793983844421684, -0.14068049501815144, -0.18885844092235857, -0.5581184472059401, -0.19534075362318687, -0.47123699730015606, -0.23904085895038998, -0.5765604654000129, -0.27851264760460553, -0.1817024241615247, -0.6011972444745101, -0.24420649754460708, -0.2764769188548856, -0.383741105528945, -0.5195520108399659, -0.47077445827515396, 0.009624925120616435, -0.043391222532329694, -0.012450187518185963, -0.10519913018603096, -0.768452077103347, -0.7520990262480249, 0.012175691980669819, -0.27398019437872945, -0.03507885312091952, -0.15059146550339228, -0.5335599315256159, -0.49729499580850556, -0.10241497635804447, -0.39719188107408493, -0.011326820240280831, -0.30381835998007395, -0.5465053509941566, -0.09708542597619452, -0.2861052650162206, -0.08087884912353778, -0.4481004922880101, -0.10676970651350523, -0.14876295581711543, -0.9218832663567604, -0.2644610674706011, -0.24217076070387578, -0.5162466147498367, -0.37795880060893605, -0.9535862393257024, 0.055051014821586815, -0.8910563647424635, -0.8193724609607174, -0.716194200420128, -0.825662839514274], \"yaxis\": \"y\"}, {\"bandwidth\": 0.2, \"box\": {\"visible\": false}, \"customdata\": [\"United States\", \"Brazil\", \"Ecuador\", \"Russia\", \"Spain\", \"Italy\", \"United Kingdom\", \"Qatar\", \"France\", \"Germany\", \"Peru\", \"Pakistan\", \"Turkey\", \"Mexico\", \"Saudi Arabia\", \"Iran\", \"China\", \"India\", \"Canada\", \"Belgium\", \"Netherlands\", \"Belarus\", \"Switzerland\", \"Sweden\", \"Portugal\", \"South Africa\", \"Chile\", \"Ireland\", \"Singapore\", \"United Arab Emirates\", \"Ukraine\", \"Japan\", \"Israel\", \"Austria\", \"Egypt\", \"Poland\", \"Indonesia\", \"Romania\", \"Bangladesh\", \"Colombia\", \"Korea, South\", \"Serbia\", \"Denmark\", \"Dominican Republic\", \"Philippines\", \"Panama\", \"Norway\", \"Czechia\", \"Australia\", \"Malaysia\"], \"hoveron\": \"points\", \"hovertemplate\": \"%{customdata}: %{y:.2f}<extra></extra>\", \"jitter\": 0.1, \"line\": {\"color\": \"rgb(214, 39, 40)\"}, \"meanline\": {\"visible\": true}, \"name\": \"richards\", \"pointpos\": 0, \"points\": \"all\", \"type\": \"violin\", \"xaxis\": \"x2\", \"y\": [-0.13633138362456582, -0.49620909532922813, -0.7086571746372741, -0.8652422304788371, -0.6358092603780683, -0.3373562744649855, -0.45989778780442875, -0.9463758118510804, -0.5908488099098472, -0.6047025471578044, -0.29368887299694735, -0.5536800732950596, -0.7033931952261878, -0.5509962326216645, -1.3105343886730247, -0.7007101703924357, -0.4001487629441208, -0.4330538586600477, -0.28152237039568434, -0.5935325685889289, -0.6257049079253384, -0.33971727643681854, -0.5982676138670591, -0.5229717634084696, -0.4165810219023378, -0.2271257567859135, -0.11623583625567929, -0.7802088008948684, -0.9816081100125826, -0.4060553131000597, -0.6156217513141655, -0.9282832110266619, -0.2863866271680829, -0.6043186807278701, -0.5042743323579044, -0.4679440567839553, -0.6057256175665863, -0.42505713168067416, -0.4231059336676457, -0.18650310676129683, 0.010730653514049277, -0.7927106575411915, -0.7854535134845325, -0.45490440117002184, -0.08410243998456486, -0.2861573091303233, -0.7134663691879248, -0.594369758709584, -0.8065995309053059, -0.6754819815885194], \"yaxis\": \"y2\"}, {\"bandwidth\": 0.2, \"box\": {\"visible\": false}, \"customdata\": [\"NE\", \"MN\", \"IA\", \"NY\", \"NJ\", \"IL\", \"MA\", \"CA\", \"KS\", \"PA\", \"MI\", \"FL\", \"TX\", \"CT\", \"MD\", \"VA\", \"GA\", \"LA\", \"OH\", \"IN\", \"CO\", \"TN\", \"NC\", \"WA\", \"RI\", \"AZ\", \"MS\", \"WI\", \"MO\", \"AL\", \"DE\", \"SC\", \"KY\", \"UT\", \"DC\", \"AR\", \"NV\", \"NM\", \"OK\", \"ND\", \"NH\", \"OR\", \"SD\", \"ID\", \"PR\", \"WV\", \"ME\", \"VT\", \"WY\", \"HI\", \"MT\", \"AK\", \"GU\"], \"hoveron\": \"points\", \"hovertemplate\": \"%{customdata}: %{y:.2f}<extra></extra>\", \"jitter\": 0.1, \"line\": {\"color\": \"rgb(148, 103, 189)\"}, \"meanline\": {\"visible\": true}, \"name\": \"loglogistic\", \"pointpos\": 0, \"points\": \"all\", \"type\": \"violin\", \"xaxis\": \"x\", \"y\": [0.160320382057182, -0.28329738343954686, -0.23138760763159016, -0.7589703793243832, -0.7502627219532518, -1.2989152618254844, -0.6818264379645048, -1.072958507282464, -0.7412525257278807, -0.5966209228181691, -0.7295722388020736, -0.6246223904991576, -0.6742781782684993, -0.6157951238032561, -0.8150817626505583, -1.2564471338888008, -0.566110408028186, -0.7406248152973985, -0.7531183779453189, -1.184494737148741, -1.1644384445591878, -1.1930065069537488, -1.2007341428133091, -0.8140363825771874, -0.6045866762108932, -1.2184041609510055, -0.9456315873300631, -1.261496674663338, -0.7457195389450975, -0.5634941241105264, -0.5073057993226229, -0.7056088496307404, -0.6300702178765144, -1.098687838629092, -0.6444891168310217, -1.1031146623368862, -0.7004229831674945, -0.9314177622224726, -0.740371352610384, -0.594885001004095, -1.005304765145124, -0.6644495251870255, -0.85892831077763, -0.8392280614422541, -0.7440346234784011, -0.6069052577955827, -0.6700717410656488, -1.1523434620220752, -1.1274568128041336, -0.9476369478802878, -0.7128557803142668, -0.6871764572026616, -1.2443858178287281], \"yaxis\": \"y\"}, {\"bandwidth\": 0.2, \"box\": {\"visible\": false}, \"customdata\": [\"United States\", \"Brazil\", \"Ecuador\", \"Russia\", \"Spain\", \"Italy\", \"United Kingdom\", \"Qatar\", \"France\", \"Germany\", \"Peru\", \"Pakistan\", \"Turkey\", \"Mexico\", \"Saudi Arabia\", \"Iran\", \"China\", \"India\", \"Canada\", \"Belgium\", \"Netherlands\", \"Belarus\", \"Switzerland\", \"Sweden\", \"Portugal\", \"South Africa\", \"Chile\", \"Ireland\", \"Singapore\", \"United Arab Emirates\", \"Ukraine\", \"Japan\", \"Israel\", \"Austria\", \"Egypt\", \"Poland\", \"Indonesia\", \"Romania\", \"Bangladesh\", \"Colombia\", \"Korea, South\", \"Serbia\", \"Denmark\", \"Dominican Republic\", \"Philippines\", \"Panama\", \"Norway\", \"Czechia\", \"Australia\", \"Malaysia\"], \"hoveron\": \"points\", \"hovertemplate\": \"%{customdata}: %{y:.2f}<extra></extra>\", \"jitter\": 0.1, \"line\": {\"color\": \"rgb(148, 103, 189)\"}, \"meanline\": {\"visible\": true}, \"name\": \"loglogistic\", \"pointpos\": 0, \"points\": \"all\", \"type\": \"violin\", \"xaxis\": \"x2\", \"y\": [-0.6541625741051341, -0.8910705692586116, -0.7045518624780751, -0.44322569646666743, -0.5895486153160828, -0.6197209808129502, -0.4498406899114495, 0.06267734926339724, -0.5908428470448315, -0.6895303486828109, -0.949438729302805, -1.0341845043880002, -0.8101351574236108, -0.7289517069584278, 0.8393388324849606, -0.7931117237546287, -0.43997890433259285, -0.6688912284721589, -0.7878182617410986, -0.5278167411007947, -0.5720631481888487, -0.8401621178036255, -0.6058099301986063, -0.45719802464839876, -0.6193074854037085, -1.327164740156203, -1.1474004708084848, -0.7802088936828684, -0.9816061553680304, -0.5402524249858865, -0.7559367777941082, -0.9282826917556267, -0.7014927095678318, -0.8414861416483487, -0.6816313371358584, -0.48728270621416686, -0.8065393127220161, -0.5372591020949521, -0.5100638724225153, -1.1348078500303511, -1.1705518562248678, -0.8283606912547393, -0.9212301144520868, -0.6772709752688376, -0.7008279622088898, -0.7015603973298706, -0.8368651094430286, -0.6798827982023007, -1.3505744848142163, -0.6278874968687961], \"yaxis\": \"y2\"}, {\"bandwidth\": 0.2, \"box\": {\"visible\": false}, \"customdata\": [\"NE\", \"MN\", \"IA\", \"NY\", \"NJ\", \"IL\", \"MA\", \"CA\", \"KS\", \"PA\", \"MI\", \"FL\", \"TX\", \"CT\", \"MD\", \"VA\", \"GA\", \"LA\", \"OH\", \"IN\", \"CO\", \"TN\", \"NC\", \"WA\", \"RI\", \"AZ\", \"MS\", \"WI\", \"MO\", \"AL\", \"DE\", \"SC\", \"KY\", \"UT\", \"DC\", \"AR\", \"NV\", \"NM\", \"OK\", \"ND\", \"NH\", \"OR\", \"SD\", \"ID\", \"PR\", \"WV\", \"ME\", \"VT\", \"WY\", \"HI\", \"MT\", \"AK\", \"GU\"], \"hoveron\": \"points\", \"hovertemplate\": \"%{customdata}: %{y:.2f}<extra></extra>\", \"jitter\": 0.1, \"line\": {\"color\": \"rgb(140, 86, 75)\"}, \"meanline\": {\"visible\": true}, \"name\": \"invweibull\", \"pointpos\": 0, \"points\": \"all\", \"type\": \"violin\", \"xaxis\": \"x\", \"y\": [2.2026716070731136, 2.265640394441994, 2.259028085451445, -0.43289321545575876, -0.8089155837067105, -0.6733900167494551, -0.23736339161494335, -0.7937146007479015, 2.1464595184036392, -0.7487181198511137, 0.006803557614120264, -0.7510636831916353, -0.7793326541433706, 0.018518965391271843, -0.8804495830220517, -0.5144834046606147, -0.6206350829808993, -0.6876825158612905, 0.10734443722034286, -1.0018085784783926, -0.9637714579542505, -0.9757716338263901, -0.8831668977775858, 0.7860103198469015, 0.9875026295843716, -1.007505865619927, -0.8350600220248295, -0.9198143665302193, -0.8329374158522007, -0.3275252160187048, -0.3639626527631552, -0.825896772420917, -0.666132394398717, -0.99603391608212, -0.7614781893380891, 0.58238728528919, -0.8278913634759946, -0.7947358900373445, -0.8536125519133521, 2.21295185943522, -0.9585392588169869, -0.8087419318540331, 1.9098000775506254, -0.9333457131486843, -0.8078533706636785, -0.47332825402847606, -0.6168501824380402, 1.551189312192086, -0.9658484170157577, 1.7833939177801716, 0.5917547011285564, -0.03385036516811764, 1.5244840631323577], \"yaxis\": \"y\"}, {\"bandwidth\": 0.2, \"box\": {\"visible\": false}, \"customdata\": [\"United States\", \"Brazil\", \"Ecuador\", \"Russia\", \"Spain\", \"Italy\", \"United Kingdom\", \"Qatar\", \"France\", \"Germany\", \"Peru\", \"Pakistan\", \"Turkey\", \"Mexico\", \"Saudi Arabia\", \"Iran\", \"China\", \"India\", \"Canada\", \"Belgium\", \"Netherlands\", \"Belarus\", \"Switzerland\", \"Sweden\", \"Portugal\", \"South Africa\", \"Chile\", \"Ireland\", \"Singapore\", \"United Arab Emirates\", \"Ukraine\", \"Japan\", \"Israel\", \"Austria\", \"Egypt\", \"Poland\", \"Indonesia\", \"Romania\", \"Bangladesh\", \"Colombia\", \"Korea, South\", \"Serbia\", \"Denmark\", \"Dominican Republic\", \"Philippines\", \"Panama\", \"Norway\", \"Czechia\", \"Australia\", \"Malaysia\"], \"hoveron\": \"points\", \"hovertemplate\": \"%{customdata}: %{y:.2f}<extra></extra>\", \"jitter\": 0.1, \"line\": {\"color\": \"rgb(140, 86, 75)\"}, \"meanline\": {\"visible\": true}, \"name\": \"invweibull\", \"pointpos\": 0, \"points\": \"all\", \"type\": \"violin\", \"xaxis\": \"x2\", \"y\": [-0.7900119787907297, 1.9616803984111564, 2.1195618107464673, 0.4722191143503763, -0.29435915047876077, -0.734900793087702, -0.5728445302653774, 2.0425377681033394, 1.779621198531201, -0.42468609062544627, -0.7281184159014386, 1.6922851623175363, 0.38210691622447535, 1.9339202569622609, 1.2981685555436753, 1.9980233606714675, 2.2664316908655007, -0.6383472305684443, -0.8157245388816902, -0.3774442144569387, -0.18856490919067026, -0.7054257855289283, -0.48953122925817355, -0.19766809563552135, -0.6665731038931056, -0.3742770378293649, -0.9362101366803913, 1.6850211183734114, 1.3388050208399915, -0.7147443194722278, 0.7344594321437231, 1.4840213581922468, -0.7796287888593858, -0.5654167690074904, -0.29250944494019304, -0.5763448464990711, 0.9774695167842867, -0.6377625041638623, -0.6689159973450923, -0.8772802652991911, -1.2448483973406015, 1.7867293331195644, 1.9087633391861218, -0.540839451448169, -0.8302138523243754, -0.7721658999693573, -0.058005665191751495, -0.46876831200742897, 0.16552809531849416, -0.24577099980504782], \"yaxis\": \"y2\"}, {\"bandwidth\": 0.2, \"box\": {\"visible\": false}, \"customdata\": [\"NE\", \"MN\", \"IA\", \"NY\", \"NJ\", \"IL\", \"MA\", \"CA\", \"KS\", \"PA\", \"MI\", \"FL\", \"TX\", \"CT\", \"MD\", \"VA\", \"GA\", \"LA\", \"OH\", \"IN\", \"CO\", \"TN\", \"NC\", \"WA\", \"RI\", \"AZ\", \"MS\", \"WI\", \"MO\", \"AL\", \"DE\", \"SC\", \"KY\", \"UT\", \"DC\", \"AR\", \"NV\", \"NM\", \"OK\", \"ND\", \"NH\", \"OR\", \"SD\", \"ID\", \"PR\", \"WV\", \"ME\", \"VT\", \"WY\", \"HI\", \"MT\", \"AK\", \"GU\"], \"hoveron\": \"points\", \"hovertemplate\": \"%{customdata}: %{y:.2f}<extra></extra>\", \"jitter\": 0.1, \"line\": {\"color\": \"rgb(227, 119, 194)\"}, \"meanline\": {\"visible\": true}, \"name\": \"gompertz\", \"pointpos\": 0, \"points\": \"all\", \"type\": \"violin\", \"xaxis\": \"x\", \"y\": [-0.4105605991795422, -0.37370661109187375, -0.454353800906848, -0.4795104956584877, -0.14078152862169613, -0.1889716102457152, -0.5581649202840908, -0.19555044195265314, -0.4992850266578924, -0.23909380831349075, -0.5771861967402128, -0.27859211993803995, -0.18176308527427973, -0.6011854003934984, -0.24426924223673638, -0.27688199904467636, -0.3837682690059509, -0.5197929910065213, -0.4712689507754021, 0.008195918482482923, -0.043423293519570534, -0.01261189520020882, -0.10531499168042248, -0.731374400528658, -0.32525015174981137, 0.012146986324167473, -0.27410936465651753, -0.03516745932293475, -0.15063465639176243, -0.5338862861454355, -0.49738237640737964, -0.1024354342928833, -0.397337924446318, -0.011402298572929568, -0.3039087625379171, -0.5467430012920584, -0.09721181061011382, -0.2862649516059156, -0.08093882283092906, -0.4481907211049608, -0.10685919898958925, -0.14884654874326878, 0.7077749819466091, -0.2646333322598405, -0.24218158823024438, -0.516303357920131, -0.37798434340604353, -0.25227126995742627, 0.054962369492336634, -0.17176809642625646, -0.7287811483627359, -0.7162049035060177, -0.5564877034197508], \"yaxis\": \"y\"}, {\"bandwidth\": 0.2, \"box\": {\"visible\": false}, \"customdata\": [\"United States\", \"Brazil\", \"Ecuador\", \"Russia\", \"Spain\", \"Italy\", \"United Kingdom\", \"Qatar\", \"France\", \"Germany\", \"Peru\", \"Pakistan\", \"Turkey\", \"Mexico\", \"Saudi Arabia\", \"Iran\", \"China\", \"India\", \"Canada\", \"Belgium\", \"Netherlands\", \"Belarus\", \"Switzerland\", \"Sweden\", \"Portugal\", \"South Africa\", \"Chile\", \"Ireland\", \"Singapore\", \"United Arab Emirates\", \"Ukraine\", \"Japan\", \"Israel\", \"Austria\", \"Egypt\", \"Poland\", \"Indonesia\", \"Romania\", \"Bangladesh\", \"Colombia\", \"Korea, South\", \"Serbia\", \"Denmark\", \"Dominican Republic\", \"Philippines\", \"Panama\", \"Norway\", \"Czechia\", \"Australia\", \"Malaysia\"], \"hoveron\": \"points\", \"hovertemplate\": \"%{customdata}: %{y:.2f}<extra></extra>\", \"jitter\": 0.1, \"line\": {\"color\": \"rgb(227, 119, 194)\"}, \"meanline\": {\"visible\": true}, \"name\": \"gompertz\", \"pointpos\": 0, \"points\": \"all\", \"type\": \"violin\", \"xaxis\": \"x2\", \"y\": [-0.13639523672447673, -0.5623900191946488, 0.06746471583270834, -0.09018037646510106, -0.6185910002899988, -0.33738527442139665, -0.4607711373763589, 0.03814289435347083, 1.0887039996326786, -0.603544052573365, -0.3091482084779555, -0.576985778333251, -0.32407790723008184, -0.587276033223129, 0.41590800377661047, 0.6146603275734579, -0.3686628072776494, -0.44091479493411645, -0.28161871803154914, -0.5935401412643283, -0.6208271102948026, -0.34167492600367066, -0.5983448053671471, -0.5159234049349649, -0.4166248326583306, -0.31035213520451155, -0.11638511269040192, 1.109696750910469, 1.0874125397843477, -0.406174137704436, 0.006719606026784174, 1.09113058887897, -0.28643988974013024, -0.6044197651056353, -0.5071209651622572, -0.4680221689920404, 0.008488331710923527, -0.4251304603822289, -0.44397255403223257, -0.18659829428857402, 0.010499232687382868, 0.8716809609293251, 0.390510598490583, -0.4550091381068333, -0.08414543056694856, -0.2862521010820657, -0.6210153635185633, -0.5940220743429443, -0.39105705029918186, -0.6715077264966728], \"yaxis\": \"y2\"}],\n",
       "                        {\"height\": 700, \"showlegend\": false, \"template\": {\"data\": {\"bar\": [{\"error_x\": {\"color\": \"#2a3f5f\"}, \"error_y\": {\"color\": \"#2a3f5f\"}, \"marker\": {\"line\": {\"color\": \"#E5ECF6\", \"width\": 0.5}}, \"type\": \"bar\"}], \"barpolar\": [{\"marker\": {\"line\": {\"color\": \"#E5ECF6\", \"width\": 0.5}}, \"type\": \"barpolar\"}], \"carpet\": [{\"aaxis\": {\"endlinecolor\": \"#2a3f5f\", \"gridcolor\": \"white\", \"linecolor\": \"white\", \"minorgridcolor\": \"white\", \"startlinecolor\": \"#2a3f5f\"}, \"baxis\": {\"endlinecolor\": \"#2a3f5f\", \"gridcolor\": \"white\", \"linecolor\": \"white\", \"minorgridcolor\": \"white\", \"startlinecolor\": \"#2a3f5f\"}, \"type\": \"carpet\"}], \"choropleth\": [{\"colorbar\": {\"outlinewidth\": 0, \"ticks\": \"\"}, \"type\": \"choropleth\"}], \"contour\": [{\"colorbar\": {\"outlinewidth\": 0, \"ticks\": \"\"}, \"colorscale\": [[0.0, \"#0d0887\"], [0.1111111111111111, \"#46039f\"], [0.2222222222222222, \"#7201a8\"], [0.3333333333333333, \"#9c179e\"], [0.4444444444444444, \"#bd3786\"], [0.5555555555555556, \"#d8576b\"], [0.6666666666666666, \"#ed7953\"], [0.7777777777777778, \"#fb9f3a\"], [0.8888888888888888, \"#fdca26\"], [1.0, \"#f0f921\"]], \"type\": \"contour\"}], \"contourcarpet\": [{\"colorbar\": {\"outlinewidth\": 0, \"ticks\": \"\"}, \"type\": \"contourcarpet\"}], \"heatmap\": [{\"colorbar\": {\"outlinewidth\": 0, \"ticks\": \"\"}, \"colorscale\": [[0.0, \"#0d0887\"], [0.1111111111111111, \"#46039f\"], [0.2222222222222222, \"#7201a8\"], [0.3333333333333333, \"#9c179e\"], [0.4444444444444444, \"#bd3786\"], [0.5555555555555556, \"#d8576b\"], [0.6666666666666666, \"#ed7953\"], [0.7777777777777778, \"#fb9f3a\"], [0.8888888888888888, \"#fdca26\"], [1.0, \"#f0f921\"]], \"type\": \"heatmap\"}], \"heatmapgl\": [{\"colorbar\": {\"outlinewidth\": 0, \"ticks\": \"\"}, \"colorscale\": [[0.0, \"#0d0887\"], [0.1111111111111111, \"#46039f\"], [0.2222222222222222, \"#7201a8\"], [0.3333333333333333, \"#9c179e\"], [0.4444444444444444, \"#bd3786\"], [0.5555555555555556, \"#d8576b\"], [0.6666666666666666, \"#ed7953\"], [0.7777777777777778, \"#fb9f3a\"], [0.8888888888888888, \"#fdca26\"], [1.0, \"#f0f921\"]], \"type\": \"heatmapgl\"}], \"histogram\": [{\"marker\": {\"colorbar\": {\"outlinewidth\": 0, \"ticks\": \"\"}}, \"type\": \"histogram\"}], \"histogram2d\": [{\"colorbar\": {\"outlinewidth\": 0, \"ticks\": \"\"}, \"colorscale\": [[0.0, \"#0d0887\"], [0.1111111111111111, \"#46039f\"], [0.2222222222222222, \"#7201a8\"], [0.3333333333333333, \"#9c179e\"], [0.4444444444444444, \"#bd3786\"], [0.5555555555555556, \"#d8576b\"], [0.6666666666666666, \"#ed7953\"], [0.7777777777777778, \"#fb9f3a\"], [0.8888888888888888, \"#fdca26\"], [1.0, \"#f0f921\"]], \"type\": \"histogram2d\"}], \"histogram2dcontour\": [{\"colorbar\": {\"outlinewidth\": 0, \"ticks\": \"\"}, \"colorscale\": [[0.0, \"#0d0887\"], [0.1111111111111111, \"#46039f\"], [0.2222222222222222, \"#7201a8\"], [0.3333333333333333, \"#9c179e\"], [0.4444444444444444, \"#bd3786\"], [0.5555555555555556, \"#d8576b\"], [0.6666666666666666, \"#ed7953\"], [0.7777777777777778, \"#fb9f3a\"], [0.8888888888888888, \"#fdca26\"], [1.0, \"#f0f921\"]], \"type\": \"histogram2dcontour\"}], \"mesh3d\": [{\"colorbar\": {\"outlinewidth\": 0, \"ticks\": \"\"}, \"type\": \"mesh3d\"}], \"parcoords\": [{\"line\": {\"colorbar\": {\"outlinewidth\": 0, \"ticks\": \"\"}}, \"type\": \"parcoords\"}], \"pie\": [{\"automargin\": true, \"type\": \"pie\"}], \"scatter\": [{\"marker\": {\"colorbar\": {\"outlinewidth\": 0, \"ticks\": \"\"}}, \"type\": \"scatter\"}], \"scatter3d\": [{\"line\": {\"colorbar\": {\"outlinewidth\": 0, \"ticks\": \"\"}}, \"marker\": {\"colorbar\": {\"outlinewidth\": 0, \"ticks\": \"\"}}, \"type\": \"scatter3d\"}], \"scattercarpet\": [{\"marker\": {\"colorbar\": {\"outlinewidth\": 0, \"ticks\": \"\"}}, \"type\": \"scattercarpet\"}], \"scattergeo\": [{\"marker\": {\"colorbar\": {\"outlinewidth\": 0, \"ticks\": \"\"}}, \"type\": \"scattergeo\"}], \"scattergl\": [{\"marker\": {\"colorbar\": {\"outlinewidth\": 0, \"ticks\": \"\"}}, \"type\": \"scattergl\"}], \"scattermapbox\": [{\"marker\": {\"colorbar\": {\"outlinewidth\": 0, \"ticks\": \"\"}}, \"type\": \"scattermapbox\"}], \"scatterpolar\": [{\"marker\": {\"colorbar\": {\"outlinewidth\": 0, \"ticks\": \"\"}}, \"type\": \"scatterpolar\"}], \"scatterpolargl\": [{\"marker\": {\"colorbar\": {\"outlinewidth\": 0, \"ticks\": \"\"}}, \"type\": \"scatterpolargl\"}], \"scatterternary\": [{\"marker\": {\"colorbar\": {\"outlinewidth\": 0, \"ticks\": \"\"}}, \"type\": \"scatterternary\"}], \"surface\": [{\"colorbar\": {\"outlinewidth\": 0, \"ticks\": \"\"}, \"colorscale\": [[0.0, \"#0d0887\"], [0.1111111111111111, \"#46039f\"], [0.2222222222222222, \"#7201a8\"], [0.3333333333333333, \"#9c179e\"], [0.4444444444444444, \"#bd3786\"], [0.5555555555555556, \"#d8576b\"], [0.6666666666666666, \"#ed7953\"], [0.7777777777777778, \"#fb9f3a\"], [0.8888888888888888, \"#fdca26\"], [1.0, \"#f0f921\"]], \"type\": \"surface\"}], \"table\": [{\"cells\": {\"fill\": {\"color\": \"#EBF0F8\"}, \"line\": {\"color\": \"white\"}}, \"header\": {\"fill\": {\"color\": \"#C8D4E3\"}, \"line\": {\"color\": \"white\"}}, \"type\": \"table\"}]}, \"layout\": {\"annotationdefaults\": {\"arrowcolor\": \"#2a3f5f\", \"arrowhead\": 0, \"arrowwidth\": 1}, \"coloraxis\": {\"colorbar\": {\"outlinewidth\": 0, \"ticks\": \"\"}}, \"colorscale\": {\"diverging\": [[0, \"#8e0152\"], [0.1, \"#c51b7d\"], [0.2, \"#de77ae\"], [0.3, \"#f1b6da\"], [0.4, \"#fde0ef\"], [0.5, \"#f7f7f7\"], [0.6, \"#e6f5d0\"], [0.7, \"#b8e186\"], [0.8, \"#7fbc41\"], [0.9, \"#4d9221\"], [1, \"#276419\"]], \"sequential\": [[0.0, \"#0d0887\"], [0.1111111111111111, \"#46039f\"], [0.2222222222222222, \"#7201a8\"], [0.3333333333333333, \"#9c179e\"], [0.4444444444444444, \"#bd3786\"], [0.5555555555555556, \"#d8576b\"], [0.6666666666666666, \"#ed7953\"], [0.7777777777777778, \"#fb9f3a\"], [0.8888888888888888, \"#fdca26\"], [1.0, \"#f0f921\"]], \"sequentialminus\": [[0.0, \"#0d0887\"], [0.1111111111111111, \"#46039f\"], [0.2222222222222222, \"#7201a8\"], [0.3333333333333333, \"#9c179e\"], [0.4444444444444444, \"#bd3786\"], [0.5555555555555556, \"#d8576b\"], [0.6666666666666666, \"#ed7953\"], [0.7777777777777778, \"#fb9f3a\"], [0.8888888888888888, \"#fdca26\"], [1.0, \"#f0f921\"]]}, \"colorway\": [\"#636efa\", \"#EF553B\", \"#00cc96\", \"#ab63fa\", \"#FFA15A\", \"#19d3f3\", \"#FF6692\", \"#B6E880\", \"#FF97FF\", \"#FECB52\"], \"font\": {\"color\": \"#2a3f5f\"}, \"geo\": {\"bgcolor\": \"white\", \"lakecolor\": \"white\", \"landcolor\": \"#E5ECF6\", \"showlakes\": true, \"showland\": true, \"subunitcolor\": \"white\"}, \"hoverlabel\": {\"align\": \"left\"}, \"hovermode\": \"closest\", \"mapbox\": {\"style\": \"light\"}, \"paper_bgcolor\": \"white\", \"plot_bgcolor\": \"#E5ECF6\", \"polar\": {\"angularaxis\": {\"gridcolor\": \"white\", \"linecolor\": \"white\", \"ticks\": \"\"}, \"bgcolor\": \"#E5ECF6\", \"radialaxis\": {\"gridcolor\": \"white\", \"linecolor\": \"white\", \"ticks\": \"\"}}, \"scene\": {\"xaxis\": {\"backgroundcolor\": \"#E5ECF6\", \"gridcolor\": \"white\", \"gridwidth\": 2, \"linecolor\": \"white\", \"showbackground\": true, \"ticks\": \"\", \"zerolinecolor\": \"white\"}, \"yaxis\": {\"backgroundcolor\": \"#E5ECF6\", \"gridcolor\": \"white\", \"gridwidth\": 2, \"linecolor\": \"white\", \"showbackground\": true, \"ticks\": \"\", \"zerolinecolor\": \"white\"}, \"zaxis\": {\"backgroundcolor\": \"#E5ECF6\", \"gridcolor\": \"white\", \"gridwidth\": 2, \"linecolor\": \"white\", \"showbackground\": true, \"ticks\": \"\", \"zerolinecolor\": \"white\"}}, \"shapedefaults\": {\"line\": {\"color\": \"#2a3f5f\"}}, \"ternary\": {\"aaxis\": {\"gridcolor\": \"white\", \"linecolor\": \"white\", \"ticks\": \"\"}, \"baxis\": {\"gridcolor\": \"white\", \"linecolor\": \"white\", \"ticks\": \"\"}, \"bgcolor\": \"#E5ECF6\", \"caxis\": {\"gridcolor\": \"white\", \"linecolor\": \"white\", \"ticks\": \"\"}}, \"title\": {\"x\": 0.05}, \"xaxis\": {\"automargin\": true, \"gridcolor\": \"white\", \"linecolor\": \"white\", \"ticks\": \"\", \"title\": {\"standoff\": 15}, \"zerolinecolor\": \"white\", \"zerolinewidth\": 2}, \"yaxis\": {\"automargin\": true, \"gridcolor\": \"white\", \"linecolor\": \"white\", \"ticks\": \"\", \"title\": {\"standoff\": 15}, \"zerolinecolor\": \"white\", \"zerolinewidth\": 2}}}, \"title\": {\"text\": \"Comparison of Models on State & Country Data\", \"x\": 0.5}, \"width\": 800, \"xaxis\": {\"anchor\": \"y\", \"domain\": [0.0, 1.0], \"linecolor\": \"black\", \"linewidth\": 1.5, \"mirror\": true, \"showline\": true}, \"xaxis2\": {\"anchor\": \"y2\", \"domain\": [0.0, 1.0], \"linecolor\": \"black\", \"linewidth\": 1.5, \"mirror\": true, \"showline\": true}, \"yaxis\": {\"anchor\": \"x\", \"domain\": [0.575, 1.0], \"linecolor\": \"black\", \"linewidth\": 1.5, \"mirror\": true, \"showline\": true, \"title\": {\"text\": \"Standard RMSE Score by State\"}}, \"yaxis2\": {\"anchor\": \"x2\", \"domain\": [0.0, 0.425], \"linecolor\": \"black\", \"linewidth\": 1.5, \"mirror\": true, \"showline\": true, \"title\": {\"text\": \"Standard RMSE Score by Country\"}}},\n",
       "                        {\"responsive\": true}\n",
       "                    ).then(function(){\n",
       "                            \n",
       "var gd = document.getElementById('e6660e86-9ad6-411d-80d4-e5866780d6e1');\n",
       "var x = new MutationObserver(function (mutations, observer) {{\n",
       "        var display = window.getComputedStyle(gd).display;\n",
       "        if (!display || display === 'none') {{\n",
       "            console.log([gd, 'removed!']);\n",
       "            Plotly.purge(gd);\n",
       "            observer.disconnect();\n",
       "        }}\n",
       "}});\n",
       "\n",
       "// Listen for the removal of the full notebook cells\n",
       "var notebookContainer = gd.closest('#notebook-container');\n",
       "if (notebookContainer) {{\n",
       "    x.observe(notebookContainer, {childList: true});\n",
       "}}\n",
       "\n",
       "// Listen for the clearing of the current output cell\n",
       "var outputEl = gd.closest('.output');\n",
       "if (outputEl) {{\n",
       "    x.observe(outputEl, {childList: true});\n",
       "}}\n",
       "\n",
       "                        })\n",
       "                };\n",
       "                });\n",
       "            </script>\n",
       "        </div>"
      ]
     },
     "metadata": {},
     "output_type": "display_data"
    }
   ],
   "source": [
    "cols = pc.DEFAULT_PLOTLY_COLORS\n",
    "\n",
    "\n",
    "fig = make_subplots(rows=2, cols=1)\n",
    "label = '%{customdata}: %{y:.2f}<extra></extra>'\n",
    "\n",
    "for i,m in enumerate(rmse.columns):\n",
    "    fig.add_trace(go.Violin(y=state_rmses[m], name=m, box_visible=False, meanline_visible=True, bandwidth=0.2,\n",
    "                            hoveron='points', customdata = state_rmses.index.values,hovertemplate=label,\n",
    "                            points='all',jitter=0.1,pointpos=0,line_color=cols[i]),row=1,col=1)\n",
    "    \n",
    "    fig.add_trace(go.Violin(y=global_rmses[m],name=m,box_visible=False,meanline_visible=True, bandwidth=0.2,\n",
    "                            hoveron='points', customdata = global_rmses.index.values,hovertemplate=label,\n",
    "                            points='all',jitter=0.1,pointpos=0,line_color=cols[i]),row=2,col=1)\n",
    "    \n",
    "\n",
    "fig.update_layout(width=800,height=700,title_text=\"Comparison of Models on State & Country Data\",title_x=0.5,showlegend=False)\n",
    "fig.update_xaxes(showline=True, linewidth=1.5, linecolor='black', mirror=True)\n",
    "fig.update_yaxes(showline=True, linewidth=1.5, linecolor='black', mirror=True)\n",
    "fig.update_yaxes(title=\"Standard RMSE Score by State\",row=1,col=1)\n",
    "fig.update_yaxes(title=\"Standard RMSE Score by Country\",row=2,col=1)\n",
    "fig.show()\n"
   ]
  },
  {
   "cell_type": "markdown",
   "metadata": {
    "jupyter": {
     "source_hidden": true
    }
   },
   "source": [
    "What's the verdict? Out of the symmetric models, the hyperbolic secant model is the worst, with high RMSE values for almost every region. The normal and logistic models seem decent. But the asymmetric models are significantly better! The skew normal model has a lower error than the normal model for every region, and the Richards model has a lower error than the logistic model. This lends credibility to the hypothesis that incidence data is not symmetric, and generally follows a right-skew distribution.\n",
    "\n",
    "Both the skew normal and the Richards model seem good for a large number of regions, but for a few regions the skew normal model is significantly worse. Let's quantify the comparison by finding the average and median scores for each model:"
   ]
  },
  {
   "cell_type": "markdown",
   "metadata": {},
   "source": [
    "# Visualizing Results"
   ]
  },
  {
   "cell_type": "code",
   "execution_count": 35,
   "metadata": {},
   "outputs": [],
   "source": [
    "def show_region(dataset,model,region,month):\n",
    "    \n",
    "    if dataset=='state':\n",
    "        df = state_info\n",
    "        cum = states_cumulative\n",
    "        x = x_data\n",
    "    elif dataset=='country':\n",
    "        df = global_info\n",
    "        cum = global_cumulative\n",
    "        x = x_data_global\n",
    "    \n",
    "    start = pd.Timestamp(x.index.values[-1])\n",
    "    end = pd.to_datetime('2020-'+str(month)+'-28')\n",
    "    delta = (end-start).days\n",
    "    dates = [start+datetime.timedelta(n) for n in range(delta)]\n",
    "    dates_numeric = np.arange(x.values[-1],x.values[-1]+delta,1)\n",
    "    \n",
    "    params = df[model].loc[region,:].values[:-3]\n",
    "    y_pred = go.Scatter(name=model+' fit',x=dates,y=globals()[model](dates_numeric,*params),mode='lines',line=dict(dash=\"dash\"))\n",
    "    y_real = go.Scatter(name='actual cases to date',x=x.index,y=cum[region].values,mode='lines')\n",
    "    layout = dict(xaxis=dict(title=\"Day of Year\"),yaxis=dict(title=\"Cumulative Case Count in \"+region),\n",
    "                  width=700,height=400,margin=dict(t=30))\n",
    "    \n",
    "    fig = go.Figure([y_pred, y_real],layout=layout)\n",
    "    fig.add_shape(name='current',type=\"line\", x0=x.index[0], x1=x.index[0], y0=0, y1=params[0],\n",
    "                  line=dict(width=1,dash=\"dot\"))\n",
    "    \n",
    "    fig.update_xaxes(showgrid=True, showline=True, linewidth=1.5, linecolor='black', mirror=True)\n",
    "    fig.update_yaxes(showgrid=False, showline=True, linewidth=1.5, linecolor='black', mirror=True)\n",
    "    fig.show()\n"
   ]
  },
  {
   "cell_type": "code",
   "execution_count": 36,
   "metadata": {},
   "outputs": [
    {
     "data": {
      "application/vnd.jupyter.widget-view+json": {
       "model_id": "878eb6d638ad40588f06684982bae418",
       "version_major": 2,
       "version_minor": 0
      },
      "text/plain": [
       "interactive(children=(Text(value='state', description='dataset'), Dropdown(description='model', options=('norm…"
      ]
     },
     "metadata": {},
     "output_type": "display_data"
    }
   ],
   "source": [
    "interact(show_region,dataset='state',model=list(state_info.keys()), \n",
    "                region=list(state_info.values())[0].index.sort_values().to_list(),\n",
    "                month=widgets.IntSlider(value=5,min=4,max=9,step=1,description='thru month',continuous_update=False));"
   ]
  },
  {
   "cell_type": "code",
   "execution_count": 30,
   "metadata": {},
   "outputs": [
    {
     "data": {
      "application/vnd.jupyter.widget-view+json": {
       "model_id": "77801b0343ed4efb855f1b1e09c75145",
       "version_major": 2,
       "version_minor": 0
      },
      "text/plain": [
       "interactive(children=(Text(value='country', description='dataset'), Dropdown(description='model', options=('no…"
      ]
     },
     "metadata": {},
     "output_type": "display_data"
    }
   ],
   "source": [
    "interact(show_region,dataset='country',model=list(global_info.keys()), \n",
    "                region=list(global_info.values())[0].index.sort_values().to_list(),\n",
    "                month=widgets.IntSlider(value=5,min=4,max=9,step=1,description='thru month',continuous_update=False));"
   ]
  },
  {
   "cell_type": "code",
   "execution_count": 39,
   "metadata": {},
   "outputs": [
    {
     "data": {
      "text/html": [
       "<script src=\"https://cdn.rawgit.com/parente/4c3e6936d0d7a46fd071/raw/65b816fb9bdd3c28b4ddf3af602bfd6015486383/code_toggle.js\"></script>\n"
      ],
      "text/plain": [
       "<IPython.core.display.HTML object>"
      ]
     },
     "metadata": {},
     "output_type": "display_data"
    }
   ],
   "source": [
    "%%html\n",
    "<script src=\"https://cdn.rawgit.com/parente/4c3e6936d0d7a46fd071/raw/65b816fb9bdd3c28b4ddf3af602bfd6015486383/code_toggle.js\"></script>"
   ]
  },
  {
   "cell_type": "code",
   "execution_count": null,
   "metadata": {},
   "outputs": [],
   "source": []
  }
 ],
 "metadata": {
  "jupyter": {
   "source_hidden": true
  },
  "kernelspec": {
   "display_name": "Python 3",
   "language": "python",
   "name": "python3"
  },
  "language_info": {
   "codemirror_mode": {
    "name": "ipython",
    "version": 3
   },
   "file_extension": ".py",
   "mimetype": "text/x-python",
   "name": "python",
   "nbconvert_exporter": "python",
   "pygments_lexer": "ipython3",
   "version": "3.7.6"
  }
 },
 "nbformat": 4,
 "nbformat_minor": 4
}
