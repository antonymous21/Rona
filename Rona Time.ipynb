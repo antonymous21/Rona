{
 "cells": [
  {
   "cell_type": "markdown",
   "metadata": {},
   "source": [
    "# *Flattening the Curve*: Nonlinear Regression of COVID-19 Data\n",
    "\n",
    "### Anton Zverev\n",
    "\n",
    "Last edited: 04/21/20\n",
    "\n",
    "\n",
    "---"
   ]
  },
  {
   "cell_type": "code",
   "execution_count": 193,
   "metadata": {},
   "outputs": [
    {
     "data": {
      "text/html": [
       "        <script type=\"text/javascript\">\n",
       "        window.PlotlyConfig = {MathJaxConfig: 'local'};\n",
       "        if (window.MathJax) {MathJax.Hub.Config({SVG: {font: \"STIX-Web\"}});}\n",
       "        if (typeof require !== 'undefined') {\n",
       "        require.undef(\"plotly\");\n",
       "        requirejs.config({\n",
       "            paths: {\n",
       "                'plotly': ['https://cdn.plot.ly/plotly-latest.min']\n",
       "            }\n",
       "        });\n",
       "        require(['plotly'], function(Plotly) {\n",
       "            window._Plotly = Plotly;\n",
       "        });\n",
       "        }\n",
       "        </script>\n",
       "        "
      ]
     },
     "metadata": {},
     "output_type": "display_data"
    }
   ],
   "source": [
    "import pandas as pd\n",
    "import numpy as np\n",
    "import inspect\n",
    "from scipy import stats\n",
    "from scipy import special\n",
    "from math import sqrt\n",
    "import time\n",
    "\n",
    "import matplotlib.pyplot as plt\n",
    "from scipy.optimize import least_squares\n",
    "import seaborn as sns\n",
    "\n",
    "from ipywidgets import interact\n",
    "import plotly.offline as py\n",
    "import plotly.express as px\n",
    "import plotly.colors as pc\n",
    "import plotly.graph_objects as go\n",
    "from plotly.subplots import make_subplots\n",
    "import cufflinks as cf\n",
    "cf.set_config_file(offline=True, sharing=False, theme='ggplot');"
   ]
  },
  {
   "cell_type": "markdown",
   "metadata": {},
   "source": [
    "# Data Importation & Cleaning"
   ]
  },
  {
   "cell_type": "markdown",
   "metadata": {},
   "source": [
    "First, import raw data:"
   ]
  },
  {
   "cell_type": "code",
   "execution_count": 194,
   "metadata": {},
   "outputs": [],
   "source": [
    "data_url_states = 'https://raw.githubusercontent.com/COVID19Tracking/covid-tracking-data/master/data/states_daily_4pm_et.csv'\n",
    "data_url_global = 'https://raw.githubusercontent.com/CSSEGISandData/COVID-19/master/csse_covid_19_data/csse_covid_19_time_series/time_series_covid19_confirmed_global.csv'\n",
    "\n",
    "raw_df_states = pd.read_csv(data_url_states) # state-by-state data\n",
    "raw_df_global = pd.read_csv(data_url_global) # country-by-country data"
   ]
  },
  {
   "cell_type": "markdown",
   "metadata": {},
   "source": [
    "I will reformat the global data into a new dataframe `global_cumulative` so that it's easier to use and intepret. I'll also only focus on the top 50 most affected countries."
   ]
  },
  {
   "cell_type": "code",
   "execution_count": 195,
   "metadata": {},
   "outputs": [
    {
     "data": {
      "text/html": [
       "<div>\n",
       "<style scoped>\n",
       "    .dataframe tbody tr th:only-of-type {\n",
       "        vertical-align: middle;\n",
       "    }\n",
       "\n",
       "    .dataframe tbody tr th {\n",
       "        vertical-align: top;\n",
       "    }\n",
       "\n",
       "    .dataframe thead th {\n",
       "        text-align: right;\n",
       "    }\n",
       "</style>\n",
       "<table border=\"1\" class=\"dataframe\">\n",
       "  <thead>\n",
       "    <tr style=\"text-align: right;\">\n",
       "      <th></th>\n",
       "      <th>United States</th>\n",
       "      <th>Spain</th>\n",
       "      <th>Italy</th>\n",
       "      <th>France</th>\n",
       "      <th>Germany</th>\n",
       "      <th>United Kingdom</th>\n",
       "      <th>Turkey</th>\n",
       "      <th>Iran</th>\n",
       "      <th>China</th>\n",
       "      <th>Russia</th>\n",
       "      <th>...</th>\n",
       "      <th>Australia</th>\n",
       "      <th>Qatar</th>\n",
       "      <th>Ukraine</th>\n",
       "      <th>Malaysia</th>\n",
       "      <th>Dominican Republic</th>\n",
       "      <th>Panama</th>\n",
       "      <th>Colombia</th>\n",
       "      <th>Finland</th>\n",
       "      <th>Luxembourg</th>\n",
       "      <th>Egypt</th>\n",
       "    </tr>\n",
       "    <tr>\n",
       "      <th>date</th>\n",
       "      <th></th>\n",
       "      <th></th>\n",
       "      <th></th>\n",
       "      <th></th>\n",
       "      <th></th>\n",
       "      <th></th>\n",
       "      <th></th>\n",
       "      <th></th>\n",
       "      <th></th>\n",
       "      <th></th>\n",
       "      <th></th>\n",
       "      <th></th>\n",
       "      <th></th>\n",
       "      <th></th>\n",
       "      <th></th>\n",
       "      <th></th>\n",
       "      <th></th>\n",
       "      <th></th>\n",
       "      <th></th>\n",
       "      <th></th>\n",
       "      <th></th>\n",
       "    </tr>\n",
       "  </thead>\n",
       "  <tbody>\n",
       "    <tr>\n",
       "      <th>2020-04-21</th>\n",
       "      <td>823786</td>\n",
       "      <td>204178</td>\n",
       "      <td>183957</td>\n",
       "      <td>159297</td>\n",
       "      <td>148291</td>\n",
       "      <td>130172</td>\n",
       "      <td>95591</td>\n",
       "      <td>84802</td>\n",
       "      <td>83853</td>\n",
       "      <td>52763</td>\n",
       "      <td>...</td>\n",
       "      <td>6547</td>\n",
       "      <td>6533</td>\n",
       "      <td>6125</td>\n",
       "      <td>5482</td>\n",
       "      <td>5044</td>\n",
       "      <td>4658</td>\n",
       "      <td>4149</td>\n",
       "      <td>4014</td>\n",
       "      <td>3618</td>\n",
       "      <td>3490</td>\n",
       "    </tr>\n",
       "    <tr>\n",
       "      <th>2020-04-20</th>\n",
       "      <td>784326</td>\n",
       "      <td>200210</td>\n",
       "      <td>181228</td>\n",
       "      <td>156480</td>\n",
       "      <td>147065</td>\n",
       "      <td>125856</td>\n",
       "      <td>90980</td>\n",
       "      <td>83505</td>\n",
       "      <td>83817</td>\n",
       "      <td>47121</td>\n",
       "      <td>...</td>\n",
       "      <td>6547</td>\n",
       "      <td>6015</td>\n",
       "      <td>5710</td>\n",
       "      <td>5425</td>\n",
       "      <td>4964</td>\n",
       "      <td>4467</td>\n",
       "      <td>3977</td>\n",
       "      <td>3868</td>\n",
       "      <td>3558</td>\n",
       "      <td>3333</td>\n",
       "    </tr>\n",
       "    <tr>\n",
       "      <th>2020-04-19</th>\n",
       "      <td>758809</td>\n",
       "      <td>198674</td>\n",
       "      <td>178972</td>\n",
       "      <td>154097</td>\n",
       "      <td>145184</td>\n",
       "      <td>121172</td>\n",
       "      <td>86306</td>\n",
       "      <td>82211</td>\n",
       "      <td>83805</td>\n",
       "      <td>42853</td>\n",
       "      <td>...</td>\n",
       "      <td>6547</td>\n",
       "      <td>5448</td>\n",
       "      <td>5449</td>\n",
       "      <td>5389</td>\n",
       "      <td>4680</td>\n",
       "      <td>4273</td>\n",
       "      <td>3792</td>\n",
       "      <td>3783</td>\n",
       "      <td>3550</td>\n",
       "      <td>3144</td>\n",
       "    </tr>\n",
       "  </tbody>\n",
       "</table>\n",
       "<p>3 rows × 50 columns</p>\n",
       "</div>"
      ],
      "text/plain": [
       "            United States   Spain   Italy  France  Germany  United Kingdom  \\\n",
       "date                                                                         \n",
       "2020-04-21         823786  204178  183957  159297   148291          130172   \n",
       "2020-04-20         784326  200210  181228  156480   147065          125856   \n",
       "2020-04-19         758809  198674  178972  154097   145184          121172   \n",
       "\n",
       "            Turkey   Iran  China  Russia  ...  Australia  Qatar  Ukraine  \\\n",
       "date                                      ...                              \n",
       "2020-04-21   95591  84802  83853   52763  ...       6547   6533     6125   \n",
       "2020-04-20   90980  83505  83817   47121  ...       6547   6015     5710   \n",
       "2020-04-19   86306  82211  83805   42853  ...       6547   5448     5449   \n",
       "\n",
       "            Malaysia  Dominican Republic  Panama  Colombia  Finland  \\\n",
       "date                                                                  \n",
       "2020-04-21      5482                5044    4658      4149     4014   \n",
       "2020-04-20      5425                4964    4467      3977     3868   \n",
       "2020-04-19      5389                4680    4273      3792     3783   \n",
       "\n",
       "            Luxembourg  Egypt  \n",
       "date                           \n",
       "2020-04-21        3618   3490  \n",
       "2020-04-20        3558   3333  \n",
       "2020-04-19        3550   3144  \n",
       "\n",
       "[3 rows x 50 columns]"
      ]
     },
     "execution_count": 195,
     "metadata": {},
     "output_type": "execute_result"
    }
   ],
   "source": [
    "raw_df_global.drop(columns=['Province/State','Lat','Long'],inplace=True)\n",
    "raw_df_global.replace('US', 'United States',inplace=True)\n",
    "raw_df_global = raw_df_global.groupby(by='Country/Region',as_index=True).agg(sum)\n",
    "top_countries = raw_df_global.iloc[:,-1].sort_values(ascending=False).index[:50] # find top 50 countries\n",
    "\n",
    "global_cumulative = raw_df_global.loc[top_countries,:].T # only take top countries, and transpose\n",
    "global_cumulative.index.rename('date',inplace=True)\n",
    "global_cumulative.columns.name = None\n",
    "global_cumulative.index = pd.to_datetime(global_cumulative.index, format='%m/%d/%y') # fix timestamp\n",
    "global_cumulative.sort_values(by='date',ascending=False,inplace=True)\n",
    "\n",
    "global_cumulative.head(3)"
   ]
  },
  {
   "cell_type": "markdown",
   "metadata": {},
   "source": [
    "The raw state data is in a format that's hard to use, so I will convert it into a dataframe `states_cumulative` indexed by the date, with a separate column for each state:"
   ]
  },
  {
   "cell_type": "code",
   "execution_count": 196,
   "metadata": {
    "jupyter": {
     "source_hidden": true
    }
   },
   "outputs": [
    {
     "data": {
      "text/html": [
       "<div>\n",
       "<style scoped>\n",
       "    .dataframe tbody tr th:only-of-type {\n",
       "        vertical-align: middle;\n",
       "    }\n",
       "\n",
       "    .dataframe tbody tr th {\n",
       "        vertical-align: top;\n",
       "    }\n",
       "\n",
       "    .dataframe thead th {\n",
       "        text-align: right;\n",
       "    }\n",
       "</style>\n",
       "<table border=\"1\" class=\"dataframe\">\n",
       "  <thead>\n",
       "    <tr style=\"text-align: right;\">\n",
       "      <th></th>\n",
       "      <th>AK</th>\n",
       "      <th>AL</th>\n",
       "      <th>AR</th>\n",
       "      <th>AZ</th>\n",
       "      <th>CA</th>\n",
       "      <th>CO</th>\n",
       "      <th>CT</th>\n",
       "      <th>DC</th>\n",
       "      <th>DE</th>\n",
       "      <th>FL</th>\n",
       "      <th>...</th>\n",
       "      <th>SD</th>\n",
       "      <th>TN</th>\n",
       "      <th>TX</th>\n",
       "      <th>UT</th>\n",
       "      <th>VA</th>\n",
       "      <th>VT</th>\n",
       "      <th>WA</th>\n",
       "      <th>WI</th>\n",
       "      <th>WV</th>\n",
       "      <th>WY</th>\n",
       "    </tr>\n",
       "    <tr>\n",
       "      <th>date</th>\n",
       "      <th></th>\n",
       "      <th></th>\n",
       "      <th></th>\n",
       "      <th></th>\n",
       "      <th></th>\n",
       "      <th></th>\n",
       "      <th></th>\n",
       "      <th></th>\n",
       "      <th></th>\n",
       "      <th></th>\n",
       "      <th></th>\n",
       "      <th></th>\n",
       "      <th></th>\n",
       "      <th></th>\n",
       "      <th></th>\n",
       "      <th></th>\n",
       "      <th></th>\n",
       "      <th></th>\n",
       "      <th></th>\n",
       "      <th></th>\n",
       "      <th></th>\n",
       "    </tr>\n",
       "  </thead>\n",
       "  <tbody>\n",
       "    <tr>\n",
       "      <th>2020-04-21</th>\n",
       "      <td>329.0</td>\n",
       "      <td>5231.0</td>\n",
       "      <td>2227.0</td>\n",
       "      <td>5251.0</td>\n",
       "      <td>33261.0</td>\n",
       "      <td>10106.0</td>\n",
       "      <td>20360.0</td>\n",
       "      <td>3098.0</td>\n",
       "      <td>2931.0</td>\n",
       "      <td>27495.0</td>\n",
       "      <td>...</td>\n",
       "      <td>1755.0</td>\n",
       "      <td>7394.0</td>\n",
       "      <td>20196.0</td>\n",
       "      <td>3296.0</td>\n",
       "      <td>9451.0</td>\n",
       "      <td>818.0</td>\n",
       "      <td>12085.0</td>\n",
       "      <td>4620.0</td>\n",
       "      <td>914.0</td>\n",
       "      <td>320.0</td>\n",
       "    </tr>\n",
       "    <tr>\n",
       "      <th>2020-04-20</th>\n",
       "      <td>321.0</td>\n",
       "      <td>5025.0</td>\n",
       "      <td>1923.0</td>\n",
       "      <td>5064.0</td>\n",
       "      <td>30978.0</td>\n",
       "      <td>9730.0</td>\n",
       "      <td>19815.0</td>\n",
       "      <td>2927.0</td>\n",
       "      <td>2745.0</td>\n",
       "      <td>26660.0</td>\n",
       "      <td>...</td>\n",
       "      <td>1685.0</td>\n",
       "      <td>7238.0</td>\n",
       "      <td>19458.0</td>\n",
       "      <td>3213.0</td>\n",
       "      <td>8990.0</td>\n",
       "      <td>816.0</td>\n",
       "      <td>11790.0</td>\n",
       "      <td>4499.0</td>\n",
       "      <td>902.0</td>\n",
       "      <td>313.0</td>\n",
       "    </tr>\n",
       "    <tr>\n",
       "      <th>2020-04-19</th>\n",
       "      <td>319.0</td>\n",
       "      <td>4837.0</td>\n",
       "      <td>1781.0</td>\n",
       "      <td>4929.0</td>\n",
       "      <td>30333.0</td>\n",
       "      <td>9433.0</td>\n",
       "      <td>17550.0</td>\n",
       "      <td>2793.0</td>\n",
       "      <td>2538.0</td>\n",
       "      <td>25996.0</td>\n",
       "      <td>...</td>\n",
       "      <td>1635.0</td>\n",
       "      <td>7070.0</td>\n",
       "      <td>18923.0</td>\n",
       "      <td>3069.0</td>\n",
       "      <td>8537.0</td>\n",
       "      <td>812.0</td>\n",
       "      <td>11802.0</td>\n",
       "      <td>4346.0</td>\n",
       "      <td>863.0</td>\n",
       "      <td>309.0</td>\n",
       "    </tr>\n",
       "    <tr>\n",
       "      <th>2020-04-18</th>\n",
       "      <td>314.0</td>\n",
       "      <td>4655.0</td>\n",
       "      <td>1739.0</td>\n",
       "      <td>4719.0</td>\n",
       "      <td>28963.0</td>\n",
       "      <td>9047.0</td>\n",
       "      <td>16809.0</td>\n",
       "      <td>2666.0</td>\n",
       "      <td>2323.0</td>\n",
       "      <td>25269.0</td>\n",
       "      <td>...</td>\n",
       "      <td>1542.0</td>\n",
       "      <td>6762.0</td>\n",
       "      <td>18260.0</td>\n",
       "      <td>2931.0</td>\n",
       "      <td>8053.0</td>\n",
       "      <td>803.0</td>\n",
       "      <td>11445.0</td>\n",
       "      <td>4199.0</td>\n",
       "      <td>785.0</td>\n",
       "      <td>305.0</td>\n",
       "    </tr>\n",
       "    <tr>\n",
       "      <th>2020-04-17</th>\n",
       "      <td>309.0</td>\n",
       "      <td>4530.0</td>\n",
       "      <td>1695.0</td>\n",
       "      <td>4507.0</td>\n",
       "      <td>27528.0</td>\n",
       "      <td>8675.0</td>\n",
       "      <td>16809.0</td>\n",
       "      <td>2476.0</td>\n",
       "      <td>2323.0</td>\n",
       "      <td>24119.0</td>\n",
       "      <td>...</td>\n",
       "      <td>1411.0</td>\n",
       "      <td>6589.0</td>\n",
       "      <td>17371.0</td>\n",
       "      <td>2805.0</td>\n",
       "      <td>7491.0</td>\n",
       "      <td>779.0</td>\n",
       "      <td>11152.0</td>\n",
       "      <td>4045.0</td>\n",
       "      <td>754.0</td>\n",
       "      <td>296.0</td>\n",
       "    </tr>\n",
       "  </tbody>\n",
       "</table>\n",
       "<p>5 rows × 53 columns</p>\n",
       "</div>"
      ],
      "text/plain": [
       "               AK      AL      AR      AZ       CA       CO       CT      DC  \\\n",
       "date                                                                           \n",
       "2020-04-21  329.0  5231.0  2227.0  5251.0  33261.0  10106.0  20360.0  3098.0   \n",
       "2020-04-20  321.0  5025.0  1923.0  5064.0  30978.0   9730.0  19815.0  2927.0   \n",
       "2020-04-19  319.0  4837.0  1781.0  4929.0  30333.0   9433.0  17550.0  2793.0   \n",
       "2020-04-18  314.0  4655.0  1739.0  4719.0  28963.0   9047.0  16809.0  2666.0   \n",
       "2020-04-17  309.0  4530.0  1695.0  4507.0  27528.0   8675.0  16809.0  2476.0   \n",
       "\n",
       "                DE       FL  ...      SD      TN       TX      UT      VA  \\\n",
       "date                         ...                                            \n",
       "2020-04-21  2931.0  27495.0  ...  1755.0  7394.0  20196.0  3296.0  9451.0   \n",
       "2020-04-20  2745.0  26660.0  ...  1685.0  7238.0  19458.0  3213.0  8990.0   \n",
       "2020-04-19  2538.0  25996.0  ...  1635.0  7070.0  18923.0  3069.0  8537.0   \n",
       "2020-04-18  2323.0  25269.0  ...  1542.0  6762.0  18260.0  2931.0  8053.0   \n",
       "2020-04-17  2323.0  24119.0  ...  1411.0  6589.0  17371.0  2805.0  7491.0   \n",
       "\n",
       "               VT       WA      WI     WV     WY  \n",
       "date                                              \n",
       "2020-04-21  818.0  12085.0  4620.0  914.0  320.0  \n",
       "2020-04-20  816.0  11790.0  4499.0  902.0  313.0  \n",
       "2020-04-19  812.0  11802.0  4346.0  863.0  309.0  \n",
       "2020-04-18  803.0  11445.0  4199.0  785.0  305.0  \n",
       "2020-04-17  779.0  11152.0  4045.0  754.0  296.0  \n",
       "\n",
       "[5 rows x 53 columns]"
      ]
     },
     "execution_count": 196,
     "metadata": {},
     "output_type": "execute_result"
    }
   ],
   "source": [
    "states_list = raw_df_states['state'].unique() # list of state abbreviations (50 states + 5 territories + DC)\n",
    "\n",
    "raw_df_states['date'] = pd.to_datetime(raw_df_states['date'], format='%Y%m%d') # fix timestamp\n",
    "raw_df_states = raw_df_states[['date','state','positive']] #extract the columns I care about\n",
    "\n",
    "states_cumulative = raw_df_states[raw_df_states['state']=='AK'][['date','positive']]\n",
    "states_cumulative.reset_index(drop=True,inplace=True)\n",
    "\n",
    "for s in states_list:\n",
    "    state_data = raw_df_states[raw_df_states['state']==s]['positive']\n",
    "    states_cumulative[s] = state_data.reset_index(drop=True)\n",
    "\n",
    "states_cumulative.set_index('date',inplace=True) # index by date\n",
    "states_cumulative.drop(columns='positive',inplace=True)\n",
    "states_cumulative.fillna(value=0,inplace=True) # nan values will mess up the regression later\n",
    "states_cumulative = states_cumulative.loc[:,(states_cumulative.iloc[0,:]>100).values] # remove states with <100 cases\n",
    "states_list = states_cumulative.columns\n",
    "\n",
    "states_cumulative.head()"
   ]
  },
  {
   "cell_type": "markdown",
   "metadata": {},
   "source": [
    "# Data Visualization"
   ]
  },
  {
   "cell_type": "markdown",
   "metadata": {},
   "source": [
    "Besides the number of cumulative cases, it will also be helpful to look at the case increase per day. This is defined as the difference between the cumulative case counts on consecutive days. I'll store this data in `states_inc` and `global_inc`, and a smoothed (rolling 3-day average) version of the same data in `states_inc_rolling3` and `global_inc_rolling3`."
   ]
  },
  {
   "cell_type": "code",
   "execution_count": 197,
   "metadata": {},
   "outputs": [],
   "source": [
    "states_inc = states_cumulative.diff(periods=-1)\n",
    "states_inc_rolling3 = (states_inc.shift(-1)+states_inc.shift(1)+states_inc)/3\n",
    "states_inc_rolling3.dropna(inplace=True)\n",
    "\n",
    "global_inc = global_cumulative.diff(periods=-1)\n",
    "global_inc_rolling3 = (global_inc.shift(-1)+global_inc.shift(1)+global_inc)/3\n",
    "global_inc_rolling3.dropna(inplace=True)"
   ]
  },
  {
   "cell_type": "markdown",
   "metadata": {},
   "source": [
    "For regression analysis, we will need the dependent variable to be numeric, so I create `x_data`, which is the number of days that have passed since the beinning of the year. `x_data_global` is the same thing for the global dataframe."
   ]
  },
  {
   "cell_type": "code",
   "execution_count": 198,
   "metadata": {},
   "outputs": [],
   "source": [
    "x_data = states_cumulative.index.to_series().dt.dayofyear\n",
    "x_data_global = global_cumulative.index.to_series().dt.dayofyear"
   ]
  },
  {
   "cell_type": "markdown",
   "metadata": {},
   "source": [
    "Let's now visualize some of our data! States first:"
   ]
  },
  {
   "cell_type": "code",
   "execution_count": 199,
   "metadata": {
    "jupyter": {
     "source_hidden": true
    },
    "scrolled": true
   },
   "outputs": [
    {
     "data": {
      "image/png": "[encoded data removed]",
      "text/plain": [
       "<Figure size 936x360 with 2 Axes>"
      ]
     },
     "metadata": {
      "needs_background": "light"
     },
     "output_type": "display_data"
    }
   ],
   "source": [
    "subset = ['CA','NY','NJ']\n",
    "\n",
    "fig, ax = plt.subplots(1,2,figsize=(13,5))\n",
    "ax[0].plot(x_data,states_cumulative[subset]);\n",
    "ax[0].set(xlabel='Day of Year',ylabel='Number of Total Cases',title='Cumulative Case Count Over Time')\n",
    "ax[0].legend(subset)\n",
    "\n",
    "ax[1].plot(x_data[states_inc_rolling3.index],states_inc_rolling3[subset]);\n",
    "ax[1].set(xlabel='Days of Year',ylabel='Number of New Cases',title='Daily Incidence Over Time')\n",
    "ax[1].legend(subset)\n",
    "\n",
    "plt.show()"
   ]
  },
  {
   "cell_type": "markdown",
   "metadata": {},
   "source": [
    "And we can do the same for countries:"
   ]
  },
  {
   "cell_type": "code",
   "execution_count": 200,
   "metadata": {
    "jupyter": {
     "source_hidden": true
    }
   },
   "outputs": [
    {
     "data": {
      "image/png": "[encoded data removed]",
      "text/plain": [
       "<Figure size 936x360 with 2 Axes>"
      ]
     },
     "metadata": {
      "needs_background": "light"
     },
     "output_type": "display_data"
    }
   ],
   "source": [
    "subset = global_cumulative.columns[:3]\n",
    "\n",
    "fig, ax = plt.subplots(1,2,figsize=(13,5))\n",
    "ax[0].plot(x_data_global,global_cumulative[subset]);\n",
    "ax[0].set(xlabel='Day of Year',ylabel='Number of Total Cases',title='Cumulative Case Count Over Time')\n",
    "ax[0].legend(subset)\n",
    "\n",
    "ax[1].plot(x_data_global[global_inc_rolling3.index],global_inc_rolling3[subset]);\n",
    "ax[1].set(xlabel='Days of Year',ylabel='Number of New Cases',title='Daily Incidence Over Time')\n",
    "ax[1].legend(subset)\n",
    "\n",
    "plt.show()"
   ]
  },
  {
   "cell_type": "markdown",
   "metadata": {},
   "source": [
    "# Disease Modeling Basics"
   ]
  },
  {
   "cell_type": "markdown",
   "metadata": {},
   "source": [
    "Before we go further let's clarify some terminology.\n",
    "\n",
    ">**Daily incidence**: the number of new cases that are diagnosed every day. This represents how many new people are becoming infected every day. It's described in more detail [here](https://en.wikipedia.org/wiki/Incidence_(epidemiology)).\n",
    "\n",
    ">**Cumulative case count**: the number of cumulative cases every day. This represents how many total people have been infected up until a certain day.\n",
    "\n",
    "The graphs we just plotted above were the cumulative case count over time and the daily incidence over time, respectively. They are two different representations of the same data; the former is just the sum of the latter. Mathematically speaking, the cumulative case count at a certain day is the integral of the incidence up to that day. Equivalently, the incidence at a certain day is the derivative of the cumulative incidence on that day."
   ]
  },
  {
   "cell_type": "markdown",
   "metadata": {},
   "source": [
    "You may notice that the cumulative case counts look like they are increasing exponentially. In the early days of the outbreak, experts warned the public about such [exponential growth](https://en.wikipedia.org/wiki/Exponential_growth).\n",
    "\n",
    "But wait! An important property of an exponential is that its derivative and integral is also an exponential. If the cumulative case count were exponential, then the daily incidence would be, too. But you can clearly see in the graphs above that the daily incidence first rises and then falls. It looks like a jagged hump. In fact, the daily incidence somewhat resembles a *bell curve*.\n",
    "\n",
    "You may even have seen coronavirus graphs in the news that look something like this:"
   ]
  },
  {
   "cell_type": "code",
   "execution_count": 201,
   "metadata": {
    "jupyter": {
     "source_hidden": true
    }
   },
   "outputs": [
    {
     "data": {
      "image/png": "[encoded data removed]",
      "text/plain": [
       "<Figure size 432x288 with 1 Axes>"
      ]
     },
     "metadata": {
      "needs_background": "light"
     },
     "output_type": "display_data"
    }
   ],
   "source": [
    "normal_1 = stats.norm(loc = 5, scale = 1) # gaussian with mean = 5, std = 1\n",
    "normal_2 = stats.norm(loc = 10, scale = 3) # gaussian with mean = 10, std = 3\n",
    "x = np.arange(0,20,0.1)\n",
    "plt.plot(x,normal_1.pdf(x),x,normal_2.pdf(x)) # plot probability density functions\n",
    "plt.xlabel('Days')\n",
    "plt.ylabel('Number of new cases')\n",
    "plt.legend(['Fast spread','Slow spread'])\n",
    "plt.show()"
   ]
  },
  {
   "cell_type": "markdown",
   "metadata": {},
   "source": [
    "Look's familiar right? Well, it turns out that when disease outbreaks happen, the daily incidence generally looks hump-shaped like that. The basic explanation is that in the beginning, very few people have the disease, but each person can infect several other people. The incidence increases rapidly as each new infected person infects many more people. Eventually, the incidence reaches a maximum. Let's define it:\n",
    ">**Turning point, $t_i$**: the point at which the daily incidence reaches its peak, or \"flattens out\".\n",
    "\n",
    "The turning point can be thought of as a saturation point, where so many people have been infected that the amount of new people available to be infected starts getting smaller. This process continues, and the daily incidence continues to decrease until it reaches zero: the outbreak is over.\n",
    "\n",
    "Great! We have a rough idea of what daily incidence numbers should look like over time. What should the cumulative case counts look like? Well, it's the integral of a bell curve:"
   ]
  },
  {
   "cell_type": "code",
   "execution_count": 202,
   "metadata": {
    "jupyter": {
     "source_hidden": true
    }
   },
   "outputs": [
    {
     "data": {
      "image/png": "[encoded data removed]",
      "text/plain": [
       "<Figure size 432x288 with 1 Axes>"
      ]
     },
     "metadata": {
      "needs_background": "light"
     },
     "output_type": "display_data"
    }
   ],
   "source": [
    "plt.plot(x,normal_1.cdf(x),x,normal_2.cdf(x)) # plot cumulative distribution functions\n",
    "plt.xlabel('Days')\n",
    "plt.ylabel('Number of cumulative cases')\n",
    "plt.legend(['Fast spread','Slow spread'])\n",
    "plt.show()"
   ]
  },
  {
   "cell_type": "markdown",
   "metadata": {},
   "source": [
    "We see that the cumulative case curve is S-shaped and monotonically increasing – first rapid growth, then slow growth that approaches a plateau. Depending on how fast the spread of the disease is, the curve can be steeper or shallower. Also notice that the turning point, which was the maximum on the daily incidence graph, is the inflection point on the cumulative case count graph.\n",
    "\n",
    "Now, let's get more precise with our math. What we have illustrated above are actually examples of distributions of continous variables, with the following analogies:\n",
    ">Daily incidence over time can be thought of as a **probability density function [(PDF)](https://en.wikipedia.org/wiki/Probability_density_function)**, which we call $\\phi(t)$.\n",
    "\n",
    ">Cumulative case count over time can be thought of as a **cumulative distribution function [(CDF)](https://en.wikipedia.org/wiki/Cumulative_distribution_function)**, which we call $\\Phi(t)$.\n",
    "\n",
    "Generally speaking, for any hump-shaped PDF, we will observe a [sigmoidal](https://en.wikipedia.org/wiki/Sigmoid_function) CDF, because $\\Phi(t)=\\int_0^t\\phi(\\tau)d\\tau$."
   ]
  },
  {
   "cell_type": "markdown",
   "metadata": {},
   "source": [
    "# Types of Models"
   ]
  },
  {
   "cell_type": "markdown",
   "metadata": {},
   "source": [
    "The question now is the following: what mathematical function best describes our coronavirus data? We saw above that a bell curve seems like a reasonable guess for $\\phi$, but there might be other functions that look similar. So, we need to find a few reasonable functions and define their PDFs as well as their **growth curves** (CDFs).\n",
    "\n",
    "There are at least two mathematical functions that are suitable:"
   ]
  },
  {
   "cell_type": "markdown",
   "metadata": {},
   "source": [
    ">**Normal** distribution [(link)](https://en.wikipedia.org/wiki/Normal_distribution), also called a Gaussian distribution or bell curve, defined by:\n",
    "\n",
    "$$ \\phi(t) = \\frac{N}{s \\sqrt{2 \\pi}} e^{-\\frac{1}{2}  (t-t_0)^2/s^2 } $$ \n",
    "$$ \\Phi(t) = \\frac{N}{2} + \\frac{N}{2} \\operatorname{erf}\\left(\\frac{t-t_0}{s \\sqrt{2}}\\right) $$\n",
    "\n",
    ">**Logistic** distribution [(link)](https://en.wikipedia.org/wiki/Logistic_distribution), commonly used to model population growth in biology, defined by:\n",
    "\n",
    "$$ \\phi(t) = \\frac{N}{4s} \\operatorname{sech}^2 \\left( \\frac{t-t_0}{2s} \\right) $$ \n",
    "$$ \\Phi(t) = \\frac{N}{1 + e^{-(t-t_0)/s}} $$\n",
    "\n",
    "\n",
    "where $N$ is the final number of total cases, $t_0$ is a location parameter (equal to $t_i$ for these distributions), and $s$ is a scale parameter related to the steepness of the growth curve. The [error function](https://en.wikipedia.org/wiki/Error_function), $\\operatorname{erf}(x)$, is a special function that appears commonly in statistics but has no closed form.\n",
    "\n",
    "Let's visualize these distributions for $N=1$ and $t_i=10$. Note that the values of $s$ are different for each distribution because the maning of $s$ isn't directly comparable between the distributions."
   ]
  },
  {
   "cell_type": "code",
   "execution_count": 203,
   "metadata": {
    "jupyter": {
     "source_hidden": true
    }
   },
   "outputs": [
    {
     "data": {
      "image/png": "[encoded data removed]",
      "text/plain": [
       "<Figure size 936x360 with 2 Axes>"
      ]
     },
     "metadata": {
      "needs_background": "light"
     },
     "output_type": "display_data"
    }
   ],
   "source": [
    "logistic_1 = stats.logistic(loc=10,scale=1.8)\n",
    "\n",
    "fig, ax = plt.subplots(1,2,figsize=(13,5))\n",
    "ax[0].plot(x,normal_2.pdf(x),'-',x,logistic_1.pdf(x),'--') # plot probability density functions\n",
    "ax[0].set(xlabel='Days',ylabel='Probability density',title='PDF comparison')\n",
    "ax[0].legend(['Normal','Logistic'])\n",
    "\n",
    "ax[1].plot(x,normal_2.cdf(x),'-',x,logistic_1.cdf(x),'--') # plot cumulative distribution functions\n",
    "ax[1].set(xlabel='Days',ylabel='Cumulative distribution',title='CDF comparison')\n",
    "ax[1].legend(['Normal','Logistic'])\n",
    "plt.show()"
   ]
  },
  {
   "cell_type": "markdown",
   "metadata": {},
   "source": [
    "You can see that three distributions are very close to each other for this specific choice of parameters. The normal distribution has thinner tails while the logistic distribution has thicker tails.\n",
    "\n",
    "These curves are great for describing the progression of an idealized disease. But one potential problem is that these models are perfectly *symmetric*, which means that the incidence increases just as quickly as it decreases. We don't necessarily know that to be the case; in fact, we might expect that the incidence should decrease more slowly than it increases, because towards the end of an outbreak it takes longer and longer to find new people to infect. This *right skew* is in fact what is observed in many epidemics.\n",
    "\n",
    "So, we may want to test some growth curves that are asymmetric. Luckily, there are some generalizations of the distributions described above that can introduce skew:"
   ]
  },
  {
   "cell_type": "markdown",
   "metadata": {},
   "source": [
    ">**Skew normal** distribution [(link)](https://en.wikipedia.org/wiki/Skew_normal_distribution), defined by:\n",
    "\n",
    "$$ \\Phi(t) = N \\left[ \\frac{1}{2} + \\frac{1}{2} \\operatorname{erf}\\left(\\frac{t-t_0}{s \\sqrt{2}}\\right) - 2 T \\left(\\frac{t-t_0}{s},a \\right) \\right] $$\n",
    "\n",
    ">**Richards** curve [(link)](https://en.wikipedia.org/wiki/Generalised_logistic_function), a type of generalized logistic curve [used in some disease models](https://www.ncbi.nlm.nih.gov/pmc/articles/PMC3293463/), defined by:\n",
    "\n",
    "$$ \\Phi(t) = \\frac{N}{\\left(1 + e^{-(t-t_0)/s+\\operatorname{ln}(a)} \\right)^{1/a}} $$\n",
    "\n",
    ">**Log logistic** distribution [(link)](https://en.wikipedia.org/wiki/Shifted_log-logistic_distribution), a different type of skewed logistic, defined by:\n",
    "\n",
    "$$ \\Phi(t) = \\frac{N}{ 1 + \\left(1+ \\frac{a(t-t_0)}{s}\\right)^{-1/a}} $$\n",
    "\n",
    ">**Inverse Weibull** distribution [(link)](https://link.springer.com/article/10.1007/s00362-009-0271-3), used in several fields of engineering, defined by:\n",
    "\n",
    "$$ \\Phi(t) = N e^{-\\left(\\frac{s}{t-t_0}\\right)^a} $$\n",
    "\n",
    ">**Gompertz** curve [(link)](https://en.wikipedia.org/wiki/Gompertz_function), a special case of the generalized logistic [sometimes applied in biology](https://www.tandfonline.com/doi/pdf/10.1080/09712119.2016.1268965), defined by:\n",
    "\n",
    "$$ \\Phi(t) = N e^{-e^{-(t-t_0)/s}} $$\n",
    "\n",
    "where $N$ is the final number of total cases, $t_0$ is a location parameter related to the turning point, $s$ is a scale parameter related to the rate of growth, and $a$ is a skewness parameter related to the asymmetry of the growth. The interpretations of $t_0$, $s$, and $a$ and their relations to $t_i$ vary depending on the model. The skew normal uses [Owen's T function](https://en.wikipedia.org/wiki/Owen%27s_T_function), $T(h,a)$, a special function that has no closed form."
   ]
  },
  {
   "cell_type": "markdown",
   "metadata": {},
   "source": [
    "Here are example plots for two of the skewed models:"
   ]
  },
  {
   "cell_type": "code",
   "execution_count": 204,
   "metadata": {
    "jupyter": {
     "source_hidden": true
    }
   },
   "outputs": [
    {
     "data": {
      "image/png": "[encoded data removed]",
      "text/plain": [
       "<Figure size 936x360 with 2 Axes>"
      ]
     },
     "metadata": {
      "needs_background": "light"
     },
     "output_type": "display_data"
    }
   ],
   "source": [
    "richards = stats.genlogistic(c=9,loc=4,scale=2.5)\n",
    "skewnorm = stats.skewnorm(a=3,loc=7,scale=5)\n",
    "\n",
    "fig, ax = plt.subplots(1,2,figsize=(13,5))\n",
    "ax[0].plot(x,skewnorm.pdf(x),'-',x,richards.pdf(x),'--') # plot probability density functions\n",
    "ax[0].set(xlabel='Days',ylabel='Probability density',title='PDF comparison')\n",
    "ax[0].legend(['Skew normal','Richards'])\n",
    "\n",
    "ax[1].plot(x,skewnorm.cdf(x),'-',x,richards.cdf(x),'--') # plot cumulative distribution functions\n",
    "ax[1].set(xlabel='Days',ylabel='Cumulative distribution',title='CDF comparison')\n",
    "ax[1].legend(['Skew normal','Richards'])\n",
    "plt.show()"
   ]
  },
  {
   "cell_type": "markdown",
   "metadata": {},
   "source": [
    "As with the symmetric models, there are subtle differences between the skewed models. This may mean that some models will fit the data more accurately than others, and that's what we want to find out!\n",
    "\n",
    "We've now identified **7** different mathematical functions. The normal and logistic models are symmetric; the skew normal, Richards, log logistic, inverse Weibull, and Gompertz are asymmetric. We can now attempt to fit these to coronavirus case data.\n",
    "\n",
    "**Note**: theoretically there should be no difference whether we fit daily incidence data to $\\phi$ or cumulative case count data to $\\Phi$. However, based on the initial graphs of real coronavirus data, you can see that daily incidence data is very noisy. It has a significantly higher noise-to-signal ratio than the cumulative case count data, so it will be more susceptible to overfitting and outlier influence. We should therefore perform our fits using the cumulative case count data, which is in line with standard practice in [disease modeling](https://www.sciencedirect.com/science/article/abs/pii/S1571064516300641)."
   ]
  },
  {
   "cell_type": "markdown",
   "metadata": {},
   "source": [
    "# Data Fitting"
   ]
  },
  {
   "cell_type": "markdown",
   "metadata": {},
   "source": [
    "First we need to define all the functions described above. Although `scipy.special` has built in objects for most of these models, calling them is much more computationally expensive than using `np.erf`, `np.exp` and `np.log`.\n",
    "All of these $\\Phi$ functions take an array of time points `t` as a first argument, followed by their distributon parameters (`N`, `t_i`, `s`, and/or `a`)."
   ]
  },
  {
   "cell_type": "code",
   "execution_count": 205,
   "metadata": {
    "jupyter": {
     "source_hidden": true
    }
   },
   "outputs": [],
   "source": [
    "def normal(t, N, t_0, s):\n",
    "    \"\"\"\n",
    "    Returns the normal growth curve evaluated at every time value in t.\n",
    "    t_0 is the mean of the corresponding PDF and s is the standard deviation.\n",
    "    \"\"\"\n",
    "    return (N/2 * (1 + special.erf((t - t_0)/(s*sqrt(2)))))\n",
    "\n",
    "def logistic(t, N, t_0, s):\n",
    "    \"\"\"\n",
    "    Returns the logistic growth curve evaluated at every time value in t.\n",
    "    t_0 is the mean of the corresponding PDF and s*pi/sqrt(3) is the standard deviation.\n",
    "    \"\"\"\n",
    "    return (N / (1 + np.exp(-(t - t_0)/s)))\n",
    "\n",
    "def skewnorm(t, N, t_0, s, a):\n",
    "    \"\"\"\n",
    "    Returns the skew normal growth curve evaluated at every time value in t.\n",
    "    t_0 is related to the mean of the corresponding PDF and s is related to the standard deviation.\n",
    "    Non-negative values of a correspond to right-skew, and a = 0 is equivalent to normal(t, N, t_0, s).\n",
    "    \"\"\"\n",
    "    return N*(normal(t,1,t_0,s)-2*special.owens_t(((t-t_0)/s),a))\n",
    "\n",
    "def richards(t, N, t_0, s, a):\n",
    "    \"\"\"\n",
    "    Returns the Richards growth curve evaluated at every time value in t.\n",
    "    t_0 is related to the mean of the corresponding PDF and s is related to the standard deviation.\n",
    "    a must be positive, with a < 1 corresponding to right-skew. a = 1 is equivalent to logistic(t, N, t_0, s).\n",
    "    \"\"\"\n",
    "    return N / np.power((1 + np.exp(np.log(a)-(t-t_0)*a/s)),(1/a))\n",
    "\n",
    "def loglogistic(t, N, t_0, s, a):\n",
    "    \"\"\"\n",
    "    Returns the log logistic growth curve evaluated at every time value in t.\n",
    "    t_0 is related to the mean of the corresponding PDF and s is related to the standard deviation.\n",
    "    a must be positive and always lead to right-skew. As a approaches 0, loglogistic approaches logistic(t, N, t_0, s).\n",
    "    \"\"\"\n",
    "    cutoff = t_0 - s/a # the cdf is only necessarily nonnegative at t values above this cutoff\n",
    "    cdf = np.array([N / (1 + (1 + a*(idx-t_0)/s)**(-1/a)) if idx > cutoff else 0 for idx in t])\n",
    "    return cdf\n",
    "\n",
    "def invweibull(t, N, t_0, s, a):\n",
    "    \"\"\"\n",
    "    Returns the inverse Weibull growth curve evaluated at every time value in t.\n",
    "    t_0 is related to the mean of the corresponding PDF and s is related to the standard deviation.\n",
    "    a must be positive and always leads to right-skew.\n",
    "    \"\"\"\n",
    "    return np.array([N * np.exp(-(s/(idx - t_0))**a) if idx > t_0 else 0 for idx in t])\n",
    "\n",
    "def gompertz(t, N, t_0, s):\n",
    "    \"\"\"\n",
    "    Returns the Gompertz growth curve evaluated at every time value in t.\n",
    "    t_0 is related to the mean of the corresponding PDF and s is related to the standard deviation.\n",
    "    \"\"\"\n",
    "    return N * np.exp(-np.exp(-(t-t_0)/s))\n",
    "\n",
    "model_list = [normal, logistic, skewnorm, richards, loglogistic, invweibull, gompertz]"
   ]
  },
  {
   "cell_type": "markdown",
   "metadata": {},
   "source": [
    "Next, we need a nonlinear `regression` function that will fit the data to whichever model is specified. We can use `scipy.least_squares` to find the parameter weights that minimize the loss (the square of the residuals). We also need a way of quantifying how closely the predictions match the actual data, so we must define the root-mean-squared error `rmse`."
   ]
  },
  {
   "cell_type": "code",
   "execution_count": 206,
   "metadata": {
    "jupyter": {
     "source_hidden": true
    }
   },
   "outputs": [],
   "source": [
    "def get_params(model):\n",
    "    return list(inspect.signature(model).parameters.keys())[1:]\n",
    "\n",
    "def regression(model,x_test,y_test):\n",
    "    \n",
    "    def residual(x, t, y):\n",
    "        return model(t,*x) - y\n",
    "    \n",
    "    x0 = [y_test.max()*1.2,x_test.max()*0.8,1]\n",
    "    x_min = [y_test.max(),x_test.min(),0]\n",
    "    x_max = [np.inf,np.inf,np.inf]\n",
    "    if len(get_params(model)) == 4:\n",
    "        # append min, max, and starting values for the 'a' parameter\n",
    "        x_min.append(0)\n",
    "        if model.__name__ == 'skewnorm':\n",
    "            x0.append(0.1)\n",
    "            x_max.append(10) # personal choice\n",
    "        elif model.__name__ == 'richards':\n",
    "            x0.append(0.9)\n",
    "            x_max.append(1)\n",
    "        elif model.__name__ == 'loglogistic':\n",
    "            x0.append(0.1)\n",
    "            x_max.append(2) # personal choice\n",
    "        elif model.__name__ == 'invweibull':\n",
    "            x0.append(1.1)\n",
    "            x_max.append(10) # personal choice\n",
    "    \n",
    "    res_lsq = least_squares(residual, x0, bounds=(x_min,x_max),\n",
    "            ftol=1e-10, xtol=1e-10, gtol=1e-10, loss='linear', args=(x_test, y_test))\n",
    "    return res_lsq.x # returns array of parameter values\n"
   ]
  },
  {
   "cell_type": "code",
   "execution_count": 207,
   "metadata": {},
   "outputs": [],
   "source": [
    "# def rmse(y,y_hat):\n",
    "#     return np.sqrt(np.mean((y-y_hat)**2))\n",
    "\n",
    "# def aic(y,y_hat,n,k):\n",
    "#     # n is number of observations, k is number of parameters\n",
    "#     return n*np.log(np.sum((y-y_hat)**2)/n)+2*k\n",
    "\n",
    "# def bic(y,y_hat,n,k):\n",
    "#     # n is number of observations, k is number of parameters\n",
    "#     return n*np.log(np.sum((y-y_hat)**2)/n)+k*np.log(n)\n",
    "\n",
    "def score_model(y, y_hat, k):\n",
    "    sse = np.sum((y-y_hat)**2)\n",
    "    n = len(y)\n",
    "    rmse = np.sqrt(sse/n)\n",
    "    aic = n*np.log(sse/n)+2*k\n",
    "    bic = n*np.log(sse/n)+k*np.log(n)\n",
    "    return rmse, aic, bic"
   ]
  },
  {
   "cell_type": "markdown",
   "metadata": {},
   "source": [
    "Finally, we must define `fit_data` to iterate over every state or country and run `regression` on that region's incidence data. This function returns a dataframe with the predicted values of the fit parameters for each region, as well as the RMSE. The dataframe also includes figure handles to plots comparing the model to the actual data for each region. "
   ]
  },
  {
   "cell_type": "code",
   "execution_count": 208,
   "metadata": {
    "jupyter": {
     "source_hidden": true
    }
   },
   "outputs": [],
   "source": [
    "def fit_data(df,regions,region_type,model,x_test):\n",
    "    start = time.time()\n",
    "    param_names = get_params(model)\n",
    "    k = len(param_names)\n",
    "    param_vals = [[] for i in range(k)]\n",
    "    rmse_vals = []\n",
    "    #aic_vals = []\n",
    "    bic_vals = []\n",
    "    figs = []\n",
    "    for item in regions:\n",
    "        y_test = df[item].values\n",
    "        params = regression(model,x_test,y_test)\n",
    "        [param_vals[i].append(params[i]) for i in range(k)]\n",
    "        y_pred = model(x_test,*params)\n",
    "        rmse, aic, bic = score_model(y_test,y_pred,k)\n",
    "        rmse_vals.append(rmse)\n",
    "        #aic_vals.append(aic)\n",
    "        bic_vals.append(bic)\n",
    "\n",
    "        f = plt.figure()\n",
    "        plt.plot(x_test,y_pred,'--')\n",
    "        plt.plot(x_test,y_test)\n",
    "        plt.xlabel('Day of Year')\n",
    "        plt.ylabel('Cumulative Case Count')\n",
    "        plt.title('Cases in '+item)\n",
    "        plt.legend(['Model Fit','Actual Numbers'])\n",
    "        figs.append(f)\n",
    "        plt.close(f)\n",
    "        \n",
    "    fit_info = pd.DataFrame(index=regions,data={param_names[i]:param_vals[i] for i in range(k)})\n",
    "    fit_info['fig'] = figs\n",
    "    fit_info['rmse'], fit_info['bic'] = rmse_vals, bic_vals\n",
    "    fit_info.index.rename(region_type,inplace=True)\n",
    "    fit_info.sort_values(by='N',ascending=False,inplace=True)\n",
    "    \n",
    "    end = time.time()\n",
    "    print(model.__name__ + ' finished in %.1f sec' % (end-start))\n",
    "    \n",
    "    return fit_info\n",
    "\n",
    "np.seterr(all='ignore');"
   ]
  },
  {
   "cell_type": "markdown",
   "metadata": {},
   "source": [
    "Now we can can go ahead and call `fit_data` on both the state data and the country data. Because we have several different fit functions, we need to run `fit_data` several times for every region. We can store one dataframe associated with each model type in the dictionaries `state_info` and `global_info`."
   ]
  },
  {
   "cell_type": "code",
   "execution_count": 209,
   "metadata": {
    "jupyter": {
     "source_hidden": true
    }
   },
   "outputs": [
    {
     "name": "stdout",
     "output_type": "stream",
     "text": [
      "normal finished in 1.6 sec\n",
      "logistic finished in 1.5 sec\n",
      "skewnorm finished in 5.2 sec\n",
      "richards finished in 4.7 sec\n",
      "loglogistic finished in 8.9 sec\n",
      "invweibull finished in 13.2 sec\n",
      "gompertz finished in 2.8 sec\n"
     ]
    }
   ],
   "source": [
    "state_info = {m.__name__:fit_data(states_cumulative,states_list,'State',m,x_data.values) for m in model_list}"
   ]
  },
  {
   "cell_type": "code",
   "execution_count": 210,
   "metadata": {
    "jupyter": {
     "source_hidden": true
    }
   },
   "outputs": [
    {
     "name": "stdout",
     "output_type": "stream",
     "text": [
      "normal finished in 2.7 sec\n",
      "logistic finished in 2.4 sec\n",
      "skewnorm finished in 8.7 sec\n",
      "richards finished in 7.9 sec\n",
      "loglogistic finished in 10.4 sec\n",
      "invweibull finished in 14.7 sec\n",
      "gompertz finished in 2.7 sec\n"
     ]
    }
   ],
   "source": [
    "global_info = {m.__name__:fit_data(global_cumulative,top_countries,'Country',m,x_data_global.values) for m in model_list}"
   ]
  },
  {
   "cell_type": "markdown",
   "metadata": {},
   "source": [
    "Here's what a few of the resulting dataframes look like:"
   ]
  },
  {
   "cell_type": "code",
   "execution_count": 211,
   "metadata": {},
   "outputs": [
    {
     "data": {
      "text/html": [
       "<div>\n",
       "<style scoped>\n",
       "    .dataframe tbody tr th:only-of-type {\n",
       "        vertical-align: middle;\n",
       "    }\n",
       "\n",
       "    .dataframe tbody tr th {\n",
       "        vertical-align: top;\n",
       "    }\n",
       "\n",
       "    .dataframe thead th {\n",
       "        text-align: right;\n",
       "    }\n",
       "</style>\n",
       "<table border=\"1\" class=\"dataframe\">\n",
       "  <thead>\n",
       "    <tr style=\"text-align: right;\">\n",
       "      <th></th>\n",
       "      <th>N</th>\n",
       "      <th>t_0</th>\n",
       "      <th>s</th>\n",
       "      <th>fig</th>\n",
       "      <th>rmse</th>\n",
       "      <th>bic</th>\n",
       "    </tr>\n",
       "    <tr>\n",
       "      <th>State</th>\n",
       "      <th></th>\n",
       "      <th></th>\n",
       "      <th></th>\n",
       "      <th></th>\n",
       "      <th></th>\n",
       "      <th></th>\n",
       "    </tr>\n",
       "  </thead>\n",
       "  <tbody>\n",
       "    <tr>\n",
       "      <th>NY</th>\n",
       "      <td>340572.729158</td>\n",
       "      <td>96.324793</td>\n",
       "      <td>12.800633</td>\n",
       "      <td>Figure(432x288)</td>\n",
       "      <td>1417.656451</td>\n",
       "      <td>693.685920</td>\n",
       "    </tr>\n",
       "    <tr>\n",
       "      <th>NJ</th>\n",
       "      <td>127090.175825</td>\n",
       "      <td>98.829521</td>\n",
       "      <td>12.278671</td>\n",
       "      <td>Figure(432x288)</td>\n",
       "      <td>742.721847</td>\n",
       "      <td>632.920674</td>\n",
       "    </tr>\n",
       "    <tr>\n",
       "      <th>IA</th>\n",
       "      <td>122224.247255</td>\n",
       "      <td>172.071595</td>\n",
       "      <td>47.069773</td>\n",
       "      <td>Figure(432x288)</td>\n",
       "      <td>67.769153</td>\n",
       "      <td>407.864512</td>\n",
       "    </tr>\n",
       "    <tr>\n",
       "      <th>OH</th>\n",
       "      <td>86272.664527</td>\n",
       "      <td>133.049500</td>\n",
       "      <td>32.038170</td>\n",
       "      <td>Figure(432x288)</td>\n",
       "      <td>344.363105</td>\n",
       "      <td>560.669927</td>\n",
       "    </tr>\n",
       "    <tr>\n",
       "      <th>MA</th>\n",
       "      <td>79811.947740</td>\n",
       "      <td>105.533418</td>\n",
       "      <td>15.760666</td>\n",
       "      <td>Figure(432x288)</td>\n",
       "      <td>369.539975</td>\n",
       "      <td>567.302781</td>\n",
       "    </tr>\n",
       "  </tbody>\n",
       "</table>\n",
       "</div>"
      ],
      "text/plain": [
       "                   N         t_0          s              fig         rmse  \\\n",
       "State                                                                       \n",
       "NY     340572.729158   96.324793  12.800633  Figure(432x288)  1417.656451   \n",
       "NJ     127090.175825   98.829521  12.278671  Figure(432x288)   742.721847   \n",
       "IA     122224.247255  172.071595  47.069773  Figure(432x288)    67.769153   \n",
       "OH      86272.664527  133.049500  32.038170  Figure(432x288)   344.363105   \n",
       "MA      79811.947740  105.533418  15.760666  Figure(432x288)   369.539975   \n",
       "\n",
       "              bic  \n",
       "State              \n",
       "NY     693.685920  \n",
       "NJ     632.920674  \n",
       "IA     407.864512  \n",
       "OH     560.669927  \n",
       "MA     567.302781  "
      ]
     },
     "execution_count": 211,
     "metadata": {},
     "output_type": "execute_result"
    }
   ],
   "source": [
    "state_info['gompertz'].head()"
   ]
  },
  {
   "cell_type": "code",
   "execution_count": 212,
   "metadata": {},
   "outputs": [
    {
     "data": {
      "text/html": [
       "<div>\n",
       "<style scoped>\n",
       "    .dataframe tbody tr th:only-of-type {\n",
       "        vertical-align: middle;\n",
       "    }\n",
       "\n",
       "    .dataframe tbody tr th {\n",
       "        vertical-align: top;\n",
       "    }\n",
       "\n",
       "    .dataframe thead th {\n",
       "        text-align: right;\n",
       "    }\n",
       "</style>\n",
       "<table border=\"1\" class=\"dataframe\">\n",
       "  <thead>\n",
       "    <tr style=\"text-align: right;\">\n",
       "      <th></th>\n",
       "      <th>N</th>\n",
       "      <th>t_0</th>\n",
       "      <th>s</th>\n",
       "      <th>fig</th>\n",
       "      <th>rmse</th>\n",
       "      <th>bic</th>\n",
       "    </tr>\n",
       "    <tr>\n",
       "      <th>Country</th>\n",
       "      <th></th>\n",
       "      <th></th>\n",
       "      <th></th>\n",
       "      <th></th>\n",
       "      <th></th>\n",
       "      <th></th>\n",
       "    </tr>\n",
       "  </thead>\n",
       "  <tbody>\n",
       "    <tr>\n",
       "      <th>Singapore</th>\n",
       "      <td>5.910437e+11</td>\n",
       "      <td>553.194443</td>\n",
       "      <td>152.498758</td>\n",
       "      <td>Figure(432x288)</td>\n",
       "      <td>197.467368</td>\n",
       "      <td>975.506927</td>\n",
       "    </tr>\n",
       "    <tr>\n",
       "      <th>Saudi Arabia</th>\n",
       "      <td>4.584485e+10</td>\n",
       "      <td>546.148539</td>\n",
       "      <td>159.424458</td>\n",
       "      <td>Figure(432x288)</td>\n",
       "      <td>148.262425</td>\n",
       "      <td>923.347639</td>\n",
       "    </tr>\n",
       "    <tr>\n",
       "      <th>Qatar</th>\n",
       "      <td>6.239812e+09</td>\n",
       "      <td>535.766873</td>\n",
       "      <td>161.562256</td>\n",
       "      <td>Figure(432x288)</td>\n",
       "      <td>94.713922</td>\n",
       "      <td>841.789281</td>\n",
       "    </tr>\n",
       "    <tr>\n",
       "      <th>Japan</th>\n",
       "      <td>4.894826e+07</td>\n",
       "      <td>358.938224</td>\n",
       "      <td>116.680325</td>\n",
       "      <td>Figure(432x288)</td>\n",
       "      <td>243.210888</td>\n",
       "      <td>1013.427642</td>\n",
       "    </tr>\n",
       "    <tr>\n",
       "      <th>Russia</th>\n",
       "      <td>3.093631e+07</td>\n",
       "      <td>208.101027</td>\n",
       "      <td>51.938322</td>\n",
       "      <td>Figure(432x288)</td>\n",
       "      <td>167.509969</td>\n",
       "      <td>945.562380</td>\n",
       "    </tr>\n",
       "  </tbody>\n",
       "</table>\n",
       "</div>"
      ],
      "text/plain": [
       "                         N         t_0           s              fig  \\\n",
       "Country                                                               \n",
       "Singapore     5.910437e+11  553.194443  152.498758  Figure(432x288)   \n",
       "Saudi Arabia  4.584485e+10  546.148539  159.424458  Figure(432x288)   \n",
       "Qatar         6.239812e+09  535.766873  161.562256  Figure(432x288)   \n",
       "Japan         4.894826e+07  358.938224  116.680325  Figure(432x288)   \n",
       "Russia        3.093631e+07  208.101027   51.938322  Figure(432x288)   \n",
       "\n",
       "                    rmse          bic  \n",
       "Country                                \n",
       "Singapore     197.467368   975.506927  \n",
       "Saudi Arabia  148.262425   923.347639  \n",
       "Qatar          94.713922   841.789281  \n",
       "Japan         243.210888  1013.427642  \n",
       "Russia        167.509969   945.562380  "
      ]
     },
     "execution_count": 212,
     "metadata": {},
     "output_type": "execute_result"
    }
   ],
   "source": [
    "global_info['gompertz'].head()"
   ]
  },
  {
   "cell_type": "markdown",
   "metadata": {},
   "source": [
    "And here's what a few of the fits look like when plotted alongside the actual data:"
   ]
  },
  {
   "cell_type": "code",
   "execution_count": 213,
   "metadata": {
    "jupyter": {
     "source_hidden": true
    }
   },
   "outputs": [
    {
     "data": {
      "image/png": "[encoded data removed]",
      "text/plain": [
       "<Figure size 432x288 with 1 Axes>"
      ]
     },
     "execution_count": 213,
     "metadata": {},
     "output_type": "execute_result"
    }
   ],
   "source": [
    "state_info['loglogistic'].loc['FL','fig']"
   ]
  },
  {
   "cell_type": "code",
   "execution_count": 214,
   "metadata": {},
   "outputs": [
    {
     "data": {
      "image/png": "[encoded data removed]",
      "text/plain": [
       "<Figure size 432x288 with 1 Axes>"
      ]
     },
     "execution_count": 214,
     "metadata": {},
     "output_type": "execute_result"
    }
   ],
   "source": [
    "global_info['invweibull'].loc['Italy','fig']"
   ]
  },
  {
   "cell_type": "markdown",
   "metadata": {},
   "source": [
    "# Model Comparison"
   ]
  },
  {
   "cell_type": "markdown",
   "metadata": {},
   "source": [
    "Now, we need a way to compare the models to each other. We could try to look at every single plot and visually identify which of the models looks better. But that's not quantitative, and it's also not feasible for 5 models and 100 total regions.\n",
    "\n",
    "Luckily, we have already computed the RMSE for each model fit for each region. The RMSE characterizes how closely the prediction matches the data, and the smaller the RSME the better the fit. Unfortunately, the magnitude of the RMSE might be different for each region because of the large difference in the magnitude of case counts. To handle this, we can [standardize](https://en.wikipedia.org/wiki/Standard_score) the RMSE scores across different regions by subtracting the average RMSE for a region and dividing by the standard deviation of the RMSE for that region. This is accomplished with `compare_models`:"
   ]
  },
  {
   "cell_type": "code",
   "execution_count": 215,
   "metadata": {},
   "outputs": [],
   "source": [
    "def compare_models(fit_dict,criterion,standardize=True):\n",
    "    c = pd.DataFrame([m[1][criterion] for m in fit_dict.items()],index=fit_dict.keys())\n",
    "    if standardize:\n",
    "        c = (c-c.mean())/c.std()\n",
    "    return c.T"
   ]
  },
  {
   "cell_type": "markdown",
   "metadata": {},
   "source": [
    "Now we can see the standard RMSE scores for both states and countries. Note that for each region, a positive score means that model was worse than the other models. A negative score means that the model was better than the rest."
   ]
  },
  {
   "cell_type": "code",
   "execution_count": 216,
   "metadata": {
    "jupyter": {
     "source_hidden": true
    }
   },
   "outputs": [
    {
     "data": {
      "text/html": [
       "<div>\n",
       "<style scoped>\n",
       "    .dataframe tbody tr th:only-of-type {\n",
       "        vertical-align: middle;\n",
       "    }\n",
       "\n",
       "    .dataframe tbody tr th {\n",
       "        vertical-align: top;\n",
       "    }\n",
       "\n",
       "    .dataframe thead th {\n",
       "        text-align: right;\n",
       "    }\n",
       "</style>\n",
       "<table border=\"1\" class=\"dataframe\">\n",
       "  <thead>\n",
       "    <tr style=\"text-align: right;\">\n",
       "      <th></th>\n",
       "      <th>normal</th>\n",
       "      <th>logistic</th>\n",
       "      <th>skewnorm</th>\n",
       "      <th>richards</th>\n",
       "      <th>loglogistic</th>\n",
       "      <th>invweibull</th>\n",
       "      <th>gompertz</th>\n",
       "    </tr>\n",
       "  </thead>\n",
       "  <tbody>\n",
       "    <tr>\n",
       "      <th>NY</th>\n",
       "      <td>0.645113</td>\n",
       "      <td>2.017211</td>\n",
       "      <td>-0.467686</td>\n",
       "      <td>-0.561175</td>\n",
       "      <td>-0.749671</td>\n",
       "      <td>-0.322544</td>\n",
       "      <td>-0.561248</td>\n",
       "    </tr>\n",
       "    <tr>\n",
       "      <th>NJ</th>\n",
       "      <td>0.857468</td>\n",
       "      <td>1.849688</td>\n",
       "      <td>-0.925747</td>\n",
       "      <td>-0.231403</td>\n",
       "      <td>-0.588625</td>\n",
       "      <td>-0.729931</td>\n",
       "      <td>-0.231450</td>\n",
       "    </tr>\n",
       "    <tr>\n",
       "      <th>MA</th>\n",
       "      <td>-0.103372</td>\n",
       "      <td>2.208440</td>\n",
       "      <td>-0.399550</td>\n",
       "      <td>-0.524226</td>\n",
       "      <td>-0.634178</td>\n",
       "      <td>-0.022755</td>\n",
       "      <td>-0.524358</td>\n",
       "    </tr>\n",
       "  </tbody>\n",
       "</table>\n",
       "</div>"
      ],
      "text/plain": [
       "      normal  logistic  skewnorm  richards  loglogistic  invweibull  gompertz\n",
       "NY  0.645113  2.017211 -0.467686 -0.561175    -0.749671   -0.322544 -0.561248\n",
       "NJ  0.857468  1.849688 -0.925747 -0.231403    -0.588625   -0.729931 -0.231450\n",
       "MA -0.103372  2.208440 -0.399550 -0.524226    -0.634178   -0.022755 -0.524358"
      ]
     },
     "execution_count": 216,
     "metadata": {},
     "output_type": "execute_result"
    }
   ],
   "source": [
    "state_rmses = compare_models(state_info,'rmse',standardize=True)\n",
    "state_rmses.head(3)"
   ]
  },
  {
   "cell_type": "code",
   "execution_count": 217,
   "metadata": {
    "jupyter": {
     "source_hidden": true
    }
   },
   "outputs": [
    {
     "data": {
      "text/html": [
       "<div>\n",
       "<style scoped>\n",
       "    .dataframe tbody tr th:only-of-type {\n",
       "        vertical-align: middle;\n",
       "    }\n",
       "\n",
       "    .dataframe tbody tr th {\n",
       "        vertical-align: top;\n",
       "    }\n",
       "\n",
       "    .dataframe thead th {\n",
       "        text-align: right;\n",
       "    }\n",
       "</style>\n",
       "<table border=\"1\" class=\"dataframe\">\n",
       "  <thead>\n",
       "    <tr style=\"text-align: right;\">\n",
       "      <th></th>\n",
       "      <th>normal</th>\n",
       "      <th>logistic</th>\n",
       "      <th>skewnorm</th>\n",
       "      <th>richards</th>\n",
       "      <th>loglogistic</th>\n",
       "      <th>invweibull</th>\n",
       "      <th>gompertz</th>\n",
       "    </tr>\n",
       "  </thead>\n",
       "  <tbody>\n",
       "    <tr>\n",
       "      <th>Singapore</th>\n",
       "      <td>-0.468258</td>\n",
       "      <td>-0.825096</td>\n",
       "      <td>-0.484907</td>\n",
       "      <td>-0.821671</td>\n",
       "      <td>1.391696</td>\n",
       "      <td>1.476740</td>\n",
       "      <td>-0.268504</td>\n",
       "    </tr>\n",
       "    <tr>\n",
       "      <th>Saudi Arabia</th>\n",
       "      <td>-0.440944</td>\n",
       "      <td>-0.644589</td>\n",
       "      <td>-0.480314</td>\n",
       "      <td>-0.637267</td>\n",
       "      <td>0.378792</td>\n",
       "      <td>2.125772</td>\n",
       "      <td>-0.301451</td>\n",
       "    </tr>\n",
       "    <tr>\n",
       "      <th>Qatar</th>\n",
       "      <td>-0.433077</td>\n",
       "      <td>-0.476558</td>\n",
       "      <td>-0.444571</td>\n",
       "      <td>-0.476558</td>\n",
       "      <td>-0.034023</td>\n",
       "      <td>2.240199</td>\n",
       "      <td>-0.375414</td>\n",
       "    </tr>\n",
       "  </tbody>\n",
       "</table>\n",
       "</div>"
      ],
      "text/plain": [
       "                normal  logistic  skewnorm  richards  loglogistic  invweibull  \\\n",
       "Singapore    -0.468258 -0.825096 -0.484907 -0.821671     1.391696    1.476740   \n",
       "Saudi Arabia -0.440944 -0.644589 -0.480314 -0.637267     0.378792    2.125772   \n",
       "Qatar        -0.433077 -0.476558 -0.444571 -0.476558    -0.034023    2.240199   \n",
       "\n",
       "              gompertz  \n",
       "Singapore    -0.268504  \n",
       "Saudi Arabia -0.301451  \n",
       "Qatar        -0.375414  "
      ]
     },
     "execution_count": 217,
     "metadata": {},
     "output_type": "execute_result"
    }
   ],
   "source": [
    "global_rmses = compare_models(global_info,'rmse')\n",
    "global_rmses.head(3)"
   ]
  },
  {
   "cell_type": "markdown",
   "metadata": {},
   "source": [
    "Clearly, different models do better for different regions. We can get a sense of how good each model is by plotting the distribution of scores with a [violin plot](https://en.wikipedia.org/wiki/Violin_plot)."
   ]
  },
  {
   "cell_type": "code",
   "execution_count": 218,
   "metadata": {},
   "outputs": [
    {
     "data": {
      "application/vnd.plotly.v1+json": {
       "config": {
        "plotlyServerURL": "https://plot.ly"
       },
       "data": [
        {
         "bandwidth": 0.2,
         "box": {
          "visible": false
         },
         "customdata": [
          "NY",
          "NJ",
          "MA",
          "IL",
          "CA",
          "MI",
          "PA",
          "OH",
          "FL",
          "IA",
          "LA",
          "CT",
          "GA",
          "TX",
          "MD",
          "IN",
          "VA",
          "WA",
          "CO",
          "RI",
          "NC",
          "TN",
          "MS",
          "NE",
          "MO",
          "AL",
          "AZ",
          "WI",
          "SC",
          "MN",
          "DE",
          "ND",
          "KY",
          "NV",
          "DC",
          "UT",
          "AR",
          "OK",
          "SD",
          "NM",
          "KS",
          "OR",
          "ID",
          "NH",
          "PR",
          "WV",
          "ME",
          "VT",
          "HI",
          "MT",
          "AK",
          "WY",
          "GU"
         ],
         "hoveron": "points",
         "hovertemplate": "%{customdata}: %{y:.2f}<extra></extra>",
         "jitter": 0.1,
         "line": {
          "color": "rgb(31, 119, 180)"
         },
         "meanline": {
          "visible": true
         },
         "name": "normal",
         "pointpos": 0,
         "points": "all",
         "type": "violin",
         "xaxis": "x",
         "y": [
          0.6451133386619643,
          0.85746780839097,
          -0.1033723785297421,
          0.35487791017044285,
          0.6004260977286311,
          -0.18510647798213692,
          0.30738785737018776,
          0.2603252197880431,
          0.729872966792105,
          -0.25684007062632075,
          0.5455165320422206,
          0.20968688595995827,
          0.20512524609877875,
          -0.21511382789605357,
          -0.5991537418617597,
          0.8062535127152314,
          0.2201500057305505,
          -0.29528735557608604,
          0.7047512225463087,
          -0.05964046055034907,
          0.5843749153521662,
          0.8173029430287081,
          0.5329911249845005,
          -0.11091892276506057,
          0.6895333384299778,
          -0.7369585533346769,
          0.7983940214966193,
          0.7825660986930617,
          0.4001570116366929,
          0.3884194477488824,
          -0.5408214802009653,
          -0.11562181431795564,
          -0.10843500807139383,
          0.7938687029644839,
          0.310128746361141,
          0.7952811011879543,
          0.573163390209682,
          0.7787942355540838,
          0.24776395467338513,
          -0.5219479524348902,
          0.5798956025909489,
          0.757246914474431,
          1.4968644096578787,
          0.6304619393800523,
          0.7645790654554339,
          0.6607245984032595,
          0.6264424611450085,
          -0.7107084165676837,
          -0.23674623686276486,
          0.9002044514079437,
          0.7532186626768103,
          -0.015357948188784066,
          -0.7512559154388344
         ],
         "yaxis": "y"
        },
        {
         "bandwidth": 0.2,
         "box": {
          "visible": false
         },
         "customdata": [
          "NY",
          "NJ",
          "MA",
          "IL",
          "CA",
          "MI",
          "PA",
          "OH",
          "FL",
          "IA",
          "LA",
          "CT",
          "GA",
          "TX",
          "MD",
          "IN",
          "VA",
          "WA",
          "CO",
          "RI",
          "NC",
          "TN",
          "MS",
          "NE",
          "MO",
          "AL",
          "AZ",
          "WI",
          "SC",
          "MN",
          "DE",
          "ND",
          "KY",
          "NV",
          "DC",
          "UT",
          "AR",
          "OK",
          "SD",
          "NM",
          "KS",
          "OR",
          "ID",
          "NH",
          "PR",
          "WV",
          "ME",
          "VT",
          "HI",
          "MT",
          "AK",
          "WY",
          "GU"
         ],
         "hoveron": "points",
         "hovertemplate": "%{customdata}: %{y:.2f}<extra></extra>",
         "jitter": 0.1,
         "line": {
          "color": "rgb(31, 119, 180)"
         },
         "meanline": {
          "visible": true
         },
         "name": "normal",
         "pointpos": 0,
         "points": "all",
         "type": "violin",
         "xaxis": "x2",
         "y": [
          0.8678039008852853,
          0.9923058315956398,
          -0.21919452606659662,
          0.5917958382314623,
          0.6770742934981305,
          -0.15316688327930272,
          0.376587321221495,
          0.017464096430376358,
          0.8619365249606502,
          -0.4607943779347983,
          0.4571262088901819,
          0.06790510616633108,
          0.15998091583386936,
          -0.3019973286632084,
          -0.772284041645761,
          0.9443466956655429,
          0.31920126915506125,
          -0.2843682536137626,
          0.8055457137813529,
          -0.09121068255629289,
          0.7494080391369606,
          0.9553526138515892,
          0.6348457095476068,
          -0.5118417502896354,
          0.8558914973655953,
          -0.9269315338892582,
          0.9190935645925696,
          0.9485346241197073,
          0.2611595542458874,
          0.41198936923365487,
          -1.0691627478705354,
          -0.5975318833967341,
          -0.5712948985023687,
          0.924552592142942,
          0.31222279756715804,
          0.8823051310655867,
          0.5545631994456068,
          0.8935017466151549,
          0.24663801087082007,
          -0.7516765764476739,
          0.6591135029334882,
          0.8240848609367026,
          1.488829198390585,
          0.6427186168135958,
          0.8446751575085286,
          0.6672568496425582,
          0.6707156626599694,
          -0.8708665850066298,
          -0.3023880088337525,
          0.9173791825344486,
          0.8831541508747738,
          -0.11716234964528774,
          -0.9205927063010212
         ],
         "yaxis": "y2"
        },
        {
         "bandwidth": 0.2,
         "box": {
          "visible": false
         },
         "customdata": [
          "NY",
          "NJ",
          "MA",
          "IL",
          "CA",
          "MI",
          "PA",
          "OH",
          "FL",
          "IA",
          "LA",
          "CT",
          "GA",
          "TX",
          "MD",
          "IN",
          "VA",
          "WA",
          "CO",
          "RI",
          "NC",
          "TN",
          "MS",
          "NE",
          "MO",
          "AL",
          "AZ",
          "WI",
          "SC",
          "MN",
          "DE",
          "ND",
          "KY",
          "NV",
          "DC",
          "UT",
          "AR",
          "OK",
          "SD",
          "NM",
          "KS",
          "OR",
          "ID",
          "NH",
          "PR",
          "WV",
          "ME",
          "VT",
          "HI",
          "MT",
          "AK",
          "WY",
          "GU"
         ],
         "hoveron": "points",
         "hovertemplate": "%{customdata}: %{y:.2f}<extra></extra>",
         "jitter": 0.1,
         "line": {
          "color": "rgb(255, 127, 14)"
         },
         "meanline": {
          "visible": true
         },
         "name": "logistic",
         "pointpos": 0,
         "points": "all",
         "type": "violin",
         "xaxis": "x",
         "y": [
          2.0172110750150605,
          1.8496881301866062,
          2.208440400472993,
          2.1202987589201348,
          2.0252182488804538,
          1.680747192646163,
          2.0001055339224476,
          1.9538928912521802,
          1.9715041569418363,
          1.0818279610317987,
          -0.17511137792480144,
          2.1771324054773205,
          2.1609765461728907,
          2.001079134582316,
          1.2659326491355194,
          1.8928730457813734,
          2.181042157348312,
          -0.5991393241086486,
          1.9830716048894408,
          -0.8239505981657939,
          2.0531345532683747,
          1.9257099594863007,
          1.9092069495774886,
          1.8548957764354734,
          2.0128364608184968,
          0.25713117096322907,
          1.8757556364940584,
          1.952637700262513,
          1.998788930882717,
          1.9565521716675154,
          1.626394978701464,
          1.4671207401784185,
          2.202528174705075,
          1.9407228627964748,
          2.131954427130995,
          1.920511576318018,
          1.9055087829200705,
          1.9593601490806276,
          -0.9728829401849349,
          0.0824498129409819,
          2.0502927912303033,
          1.9573973276040775,
          1.4252329027354713,
          2.0098780529860814,
          1.9334145976251538,
          2.020889797282982,
          2.0359980605411323,
          -0.2992483043043416,
          0.2917068300772794,
          1.7103425480253094,
          1.9697631201087686,
          0.38570247014731707,
          -0.38862576658638803
         ],
         "yaxis": "y"
        },
        {
         "bandwidth": 0.2,
         "box": {
          "visible": false
         },
         "customdata": [
          "NY",
          "NJ",
          "MA",
          "IL",
          "CA",
          "MI",
          "PA",
          "OH",
          "FL",
          "IA",
          "LA",
          "CT",
          "GA",
          "TX",
          "MD",
          "IN",
          "VA",
          "WA",
          "CO",
          "RI",
          "NC",
          "TN",
          "MS",
          "NE",
          "MO",
          "AL",
          "AZ",
          "WI",
          "SC",
          "MN",
          "DE",
          "ND",
          "KY",
          "NV",
          "DC",
          "UT",
          "AR",
          "OK",
          "SD",
          "NM",
          "KS",
          "OR",
          "ID",
          "NH",
          "PR",
          "WV",
          "ME",
          "VT",
          "HI",
          "MT",
          "AK",
          "WY",
          "GU"
         ],
         "hoveron": "points",
         "hovertemplate": "%{customdata}: %{y:.2f}<extra></extra>",
         "jitter": 0.1,
         "line": {
          "color": "rgb(255, 127, 14)"
         },
         "meanline": {
          "visible": true
         },
         "name": "logistic",
         "pointpos": 0,
         "points": "all",
         "type": "violin",
         "xaxis": "x2",
         "y": [
          1.853553023549145,
          1.6054213045489698,
          2.1647610072731016,
          1.9733023621073187,
          1.9624804547013095,
          1.5547335197472676,
          1.8699146923504573,
          1.8434487943719777,
          1.8635548554255954,
          0.8657937447721289,
          -0.28583285678684983,
          2.1641861133542193,
          2.126847185696425,
          1.8863681899317462,
          1.140584058213887,
          1.7304865003507937,
          2.1353722424677897,
          -0.7163014868364979,
          1.9132295945316726,
          -0.9788067373195747,
          1.9665117684808044,
          1.8150889482284551,
          1.647833633600083,
          1.5402552407610457,
          1.9210255080828333,
          0.1730913606852962,
          1.7199115265562586,
          1.8305200090393066,
          1.9220605546854912,
          1.7837270098522426,
          1.1036729017134923,
          0.9699585756572259,
          2.029608801974457,
          1.8383222873506426,
          2.0930860645132894,
          1.840897735386693,
          1.8323381767452105,
          1.8811558664515395,
          -1.105148642110853,
          -0.11198255152656413,
          2.009886410442742,
          1.895561214111159,
          1.423778684074461,
          1.993713216748813,
          1.8621776917171737,
          2.009611338047672,
          2.0103983294790435,
          -0.3465197163419172,
          0.27999499045286236,
          1.5902963798060732,
          1.875324589894723,
          0.30466278733030133,
          -0.48626068051179244
         ],
         "yaxis": "y2"
        },
        {
         "bandwidth": 0.2,
         "box": {
          "visible": false
         },
         "customdata": [
          "NY",
          "NJ",
          "MA",
          "IL",
          "CA",
          "MI",
          "PA",
          "OH",
          "FL",
          "IA",
          "LA",
          "CT",
          "GA",
          "TX",
          "MD",
          "IN",
          "VA",
          "WA",
          "CO",
          "RI",
          "NC",
          "TN",
          "MS",
          "NE",
          "MO",
          "AL",
          "AZ",
          "WI",
          "SC",
          "MN",
          "DE",
          "ND",
          "KY",
          "NV",
          "DC",
          "UT",
          "AR",
          "OK",
          "SD",
          "NM",
          "KS",
          "OR",
          "ID",
          "NH",
          "PR",
          "WV",
          "ME",
          "VT",
          "HI",
          "MT",
          "AK",
          "WY",
          "GU"
         ],
         "hoveron": "points",
         "hovertemplate": "%{customdata}: %{y:.2f}<extra></extra>",
         "jitter": 0.1,
         "line": {
          "color": "rgb(44, 160, 44)"
         },
         "meanline": {
          "visible": true
         },
         "name": "skewnorm",
         "pointpos": 0,
         "points": "all",
         "type": "violin",
         "xaxis": "x",
         "y": [
          -0.4676864824833582,
          -0.9257470252187492,
          -0.3995503892381181,
          -0.6129260286611283,
          -0.8689712319226518,
          -0.5844026489780701,
          -0.795094872169657,
          -0.03340407443795043,
          -0.7932262876329832,
          -0.3492835816279986,
          -0.4040292517470724,
          -0.5919073546388777,
          -0.6256839400482721,
          -0.6319756457739762,
          -0.6839255336785619,
          -0.8554661654347061,
          -0.5956542341135925,
          -0.33178623380203265,
          -0.7960140077669198,
          -0.05964045961850377,
          -0.6729747724097374,
          -0.8123528394619486,
          -0.07189164011521339,
          -0.30449348051137265,
          -0.569958236574762,
          -0.7369585524340001,
          -0.6809664600353321,
          -0.7810585053991106,
          -0.7692485610213307,
          -0.08505379784280509,
          -0.6994758596945891,
          -0.2395467233749035,
          -0.5446751405663133,
          -0.8249340851510114,
          -0.7991789170143385,
          -0.87410700378,
          -0.15269737254396304,
          -0.756504873870457,
          0.24776395469874393,
          -0.521947951619441,
          -0.6560611013763641,
          -0.8473642092048365,
          -0.511300992223247,
          -0.8024009949439503,
          -0.8547858131369988,
          -0.7074011157853174,
          -0.6848721054784126,
          -0.7107084164576664,
          -0.6030389566455452,
          -0.8186741575904064,
          -0.5991551267298827,
          -0.6336307634493229,
          -0.7512559154415293
         ],
         "yaxis": "y"
        },
        {
         "bandwidth": 0.2,
         "box": {
          "visible": false
         },
         "customdata": [
          "NY",
          "NJ",
          "MA",
          "IL",
          "CA",
          "MI",
          "PA",
          "OH",
          "FL",
          "IA",
          "LA",
          "CT",
          "GA",
          "TX",
          "MD",
          "IN",
          "VA",
          "WA",
          "CO",
          "RI",
          "NC",
          "TN",
          "MS",
          "NE",
          "MO",
          "AL",
          "AZ",
          "WI",
          "SC",
          "MN",
          "DE",
          "ND",
          "KY",
          "NV",
          "DC",
          "UT",
          "AR",
          "OK",
          "SD",
          "NM",
          "KS",
          "OR",
          "ID",
          "NH",
          "PR",
          "WV",
          "ME",
          "VT",
          "HI",
          "MT",
          "AK",
          "WY",
          "GU"
         ],
         "hoveron": "points",
         "hovertemplate": "%{customdata}: %{y:.2f}<extra></extra>",
         "jitter": 0.1,
         "line": {
          "color": "rgb(44, 160, 44)"
         },
         "meanline": {
          "visible": true
         },
         "name": "skewnorm",
         "pointpos": 0,
         "points": "all",
         "type": "violin",
         "xaxis": "x2",
         "y": [
          -0.3996633433531867,
          -1.2389654940296757,
          -0.2975648664278859,
          -0.6951752197865555,
          -0.9883473493306646,
          -0.5259253175512428,
          -0.8596935807997468,
          0.24667554641380082,
          -0.9162731153518758,
          -0.1468166407571637,
          -0.2517088225534828,
          -0.5100308290086913,
          -0.6003446562735023,
          -0.5879603147124086,
          -0.5837552450433261,
          -1.0357405042915184,
          -0.6351836201130008,
          -0.208221452887123,
          -0.8921956008838147,
          0.11287361498357082,
          -0.751018056779012,
          -0.960650134156753,
          0.14279685576924625,
          0.0035694966811889474,
          -0.5769269998874145,
          -0.6478256169635439,
          -0.7010955194873383,
          -0.9378863425722073,
          -0.7043659324367505,
          0.09247356364506434,
          -0.3152773110107463,
          0.14930318455830402,
          -0.27993023555733376,
          -0.9717850641267,
          -0.8585397056665868,
          -0.9972024396704887,
          0.0189552535085247,
          -0.8426818130547813,
          0.41810007875483585,
          -0.3339939149194698,
          -0.6778584021662513,
          -0.9382404932788385,
          -0.4374612175598496,
          -0.8420910095534979,
          -0.9591727275331854,
          -0.7068623652699028,
          -0.6986559336332633,
          -0.6902265650924051,
          -0.5339819508873049,
          -0.8364925515171518,
          -0.6031591584405306,
          -0.530937396187317,
          -0.6894255601124456
         ],
         "yaxis": "y2"
        },
        {
         "bandwidth": 0.2,
         "box": {
          "visible": false
         },
         "customdata": [
          "NY",
          "NJ",
          "MA",
          "IL",
          "CA",
          "MI",
          "PA",
          "OH",
          "FL",
          "IA",
          "LA",
          "CT",
          "GA",
          "TX",
          "MD",
          "IN",
          "VA",
          "WA",
          "CO",
          "RI",
          "NC",
          "TN",
          "MS",
          "NE",
          "MO",
          "AL",
          "AZ",
          "WI",
          "SC",
          "MN",
          "DE",
          "ND",
          "KY",
          "NV",
          "DC",
          "UT",
          "AR",
          "OK",
          "SD",
          "NM",
          "KS",
          "OR",
          "ID",
          "NH",
          "PR",
          "WV",
          "ME",
          "VT",
          "HI",
          "MT",
          "AK",
          "WY",
          "GU"
         ],
         "hoveron": "points",
         "hovertemplate": "%{customdata}: %{y:.2f}<extra></extra>",
         "jitter": 0.1,
         "line": {
          "color": "rgb(214, 39, 40)"
         },
         "meanline": {
          "visible": true
         },
         "name": "richards",
         "pointpos": 0,
         "points": "all",
         "type": "violin",
         "xaxis": "x",
         "y": [
          -0.5611747273182341,
          -0.23140285051232645,
          -0.5242261124168569,
          -0.5770005498092466,
          -0.4073071501202816,
          -0.6541329043576706,
          -0.6904775931740827,
          -0.349302180229112,
          -0.5527065853166875,
          -0.561736177209841,
          -1.0387315776957091,
          -0.5260424335565141,
          -0.5606343802777242,
          -0.626594195302783,
          -0.7915776597238932,
          -0.2499645069109657,
          -0.5240425644723068,
          -0.6642152322142711,
          -0.37746080867654824,
          -0.8499678696266608,
          -0.4123062042148217,
          -0.39450619680343996,
          -0.20910377280715803,
          -0.5770976500795897,
          -0.517172455159819,
          -0.49320240993708325,
          -0.1874266004041125,
          -0.4531421864283053,
          -0.6632691670835782,
          -0.32280158116965,
          -0.794527187048338,
          -0.5366160773135599,
          -0.5287173914601859,
          -0.4311537378547983,
          -0.5083551921444446,
          -0.3387454900604903,
          -0.18181471069830013,
          -0.49998460832966934,
          -0.972882940185154,
          -0.7733338096359759,
          -0.38047166312192066,
          -0.49641952519322674,
          -0.5485045557038377,
          -0.3362816345265556,
          -0.3132802909024841,
          -0.46013827427607207,
          -0.4429292107357836,
          -0.44181922961834663,
          -0.7707460342429289,
          -0.7532713131920243,
          -0.5933249446931002,
          -0.8592332697304429,
          -0.38862576658412457
         ],
         "yaxis": "y"
        },
        {
         "bandwidth": 0.2,
         "box": {
          "visible": false
         },
         "customdata": [
          "NY",
          "NJ",
          "MA",
          "IL",
          "CA",
          "MI",
          "PA",
          "OH",
          "FL",
          "IA",
          "LA",
          "CT",
          "GA",
          "TX",
          "MD",
          "IN",
          "VA",
          "WA",
          "CO",
          "RI",
          "NC",
          "TN",
          "MS",
          "NE",
          "MO",
          "AL",
          "AZ",
          "WI",
          "SC",
          "MN",
          "DE",
          "ND",
          "KY",
          "NV",
          "DC",
          "UT",
          "AR",
          "OK",
          "SD",
          "NM",
          "KS",
          "OR",
          "ID",
          "NH",
          "PR",
          "WV",
          "ME",
          "VT",
          "HI",
          "MT",
          "AK",
          "WY",
          "GU"
         ],
         "hoveron": "points",
         "hovertemplate": "%{customdata}: %{y:.2f}<extra></extra>",
         "jitter": 0.1,
         "line": {
          "color": "rgb(214, 39, 40)"
         },
         "meanline": {
          "visible": true
         },
         "name": "richards",
         "pointpos": 0,
         "points": "all",
         "type": "violin",
         "xaxis": "x2",
         "y": [
          -0.5637381732992094,
          0.015154575070384289,
          -0.46005609844919276,
          -0.6259505784366576,
          -0.32181799625889906,
          -0.6237833962828511,
          -0.7036767303512647,
          -0.13131532383456454,
          -0.5288383338859747,
          -0.376666246470851,
          -1.0064771194843904,
          -0.42447923250907293,
          -0.5128003226490143,
          -0.5808967048696344,
          -0.7135810253960838,
          -0.06609791024052562,
          -0.523638861901733,
          -0.6924233763185942,
          -0.28086769259249245,
          -0.8079049284967728,
          -0.3370146041363403,
          -0.2900207637156191,
          -0.014884480771221474,
          -0.3043131104582069,
          -0.49274687000342815,
          -0.36121531771394494,
          0.0064294724385037345,
          -0.3769511983470336,
          -0.5693602901602617,
          -0.18595689330854956,
          -0.41630340077355193,
          -0.16003326570323576,
          -0.2602511407072074,
          -0.34715041222274406,
          -0.45359151685538834,
          -0.22271661675888416,
          -0.015785859960967492,
          -0.45205694011583375,
          -0.9336865742511266,
          -0.6123475662739574,
          -0.29100804430060273,
          -0.4362320858943933,
          -0.4862022382073094,
          -0.21694618876406033,
          -0.1913330636579044,
          -0.3754728433427573,
          -0.3667591012248999,
          -0.340596468513705,
          -0.7513751073576229,
          -0.7446079906263051,
          -0.5941581435812529,
          -0.806256181030374,
          -0.25509353431725107
         ],
         "yaxis": "y2"
        },
        {
         "bandwidth": 0.2,
         "box": {
          "visible": false
         },
         "customdata": [
          "NY",
          "NJ",
          "MA",
          "IL",
          "CA",
          "MI",
          "PA",
          "OH",
          "FL",
          "IA",
          "LA",
          "CT",
          "GA",
          "TX",
          "MD",
          "IN",
          "VA",
          "WA",
          "CO",
          "RI",
          "NC",
          "TN",
          "MS",
          "NE",
          "MO",
          "AL",
          "AZ",
          "WI",
          "SC",
          "MN",
          "DE",
          "ND",
          "KY",
          "NV",
          "DC",
          "UT",
          "AR",
          "OK",
          "SD",
          "NM",
          "KS",
          "OR",
          "ID",
          "NH",
          "PR",
          "WV",
          "ME",
          "VT",
          "HI",
          "MT",
          "AK",
          "WY",
          "GU"
         ],
         "hoveron": "points",
         "hovertemplate": "%{customdata}: %{y:.2f}<extra></extra>",
         "jitter": 0.1,
         "line": {
          "color": "rgb(148, 103, 189)"
         },
         "meanline": {
          "visible": true
         },
         "name": "loglogistic",
         "pointpos": 0,
         "points": "all",
         "type": "violin",
         "xaxis": "x",
         "y": [
          -0.7496707543482592,
          -0.5886247144532538,
          -0.6341782698568902,
          -0.5597526125853826,
          -0.41044679933539724,
          -0.7860345328830123,
          -0.616367075133566,
          -1.3618954488474608,
          -0.49631177263896537,
          -1.0469310744423734,
          -1.1020167591341388,
          -0.50625215401792,
          -0.5049105535104934,
          -0.703344703974991,
          -0.7332713369711324,
          -0.6107614051347766,
          -0.4215099544880392,
          -0.6771185821805814,
          -0.5140177078362652,
          -0.8396187721023517,
          -0.552918536836567,
          -0.550632427659383,
          -1.1672916585105888,
          -1.076386985016939,
          -0.6210340237543754,
          -0.6779415498685554,
          -0.7888130266411534,
          -0.5742451751565856,
          -0.619357491489902,
          -1.3083449786237695,
          -0.578511674119141,
          -1.2838877428000806,
          -0.5355204192071334,
          -0.48758774980071745,
          -0.37208109649970894,
          -0.5190308032019398,
          -1.0948363283742246,
          -0.5023174212532364,
          -0.9728718649778134,
          -0.7065183806899764,
          -0.5604886097734305,
          -0.46839990436875256,
          -0.6881894049676139,
          -0.49940976035290746,
          -0.5365164078387074,
          -0.5171303571332387,
          -0.5956353623717338,
          -0.46447153183370804,
          -0.8492961709806521,
          -0.6605853199864284,
          -0.6274276786329516,
          -0.896916963482291,
          -0.38862746311134616
         ],
         "yaxis": "y"
        },
        {
         "bandwidth": 0.2,
         "box": {
          "visible": false
         },
         "customdata": [
          "NY",
          "NJ",
          "MA",
          "IL",
          "CA",
          "MI",
          "PA",
          "OH",
          "FL",
          "IA",
          "LA",
          "CT",
          "GA",
          "TX",
          "MD",
          "IN",
          "VA",
          "WA",
          "CO",
          "RI",
          "NC",
          "TN",
          "MS",
          "NE",
          "MO",
          "AL",
          "AZ",
          "WI",
          "SC",
          "MN",
          "DE",
          "ND",
          "KY",
          "NV",
          "DC",
          "UT",
          "AR",
          "OK",
          "SD",
          "NM",
          "KS",
          "OR",
          "ID",
          "NH",
          "PR",
          "WV",
          "ME",
          "VT",
          "HI",
          "MT",
          "AK",
          "WY",
          "GU"
         ],
         "hoveron": "points",
         "hovertemplate": "%{customdata}: %{y:.2f}<extra></extra>",
         "jitter": 0.1,
         "line": {
          "color": "rgb(148, 103, 189)"
         },
         "meanline": {
          "visible": true
         },
         "name": "loglogistic",
         "pointpos": 0,
         "points": "all",
         "type": "violin",
         "xaxis": "x2",
         "y": [
          -0.9375603744146025,
          -0.5238319852983575,
          -0.6064811880480664,
          -0.5934419196564475,
          -0.32604139388673914,
          -0.8169826080276454,
          -0.5967398209062805,
          -1.4169254452174769,
          -0.4443623338513324,
          -0.9221433706892813,
          -1.0863805290312438,
          -0.3989134367143175,
          -0.4386822065548534,
          -0.6824623625512938,
          -0.6429687918056708,
          -0.5977092786052616,
          -0.36935921574569097,
          -0.7128603822741083,
          -0.4703904704518983,
          -0.7946791855477215,
          -0.5535590425820469,
          -0.5230475482299004,
          -1.4852099564955057,
          -0.8823729691714994,
          -0.6606794381783361,
          -0.5773189927562711,
          -0.8837814424770352,
          -0.5704999012278597,
          -0.5139182345880595,
          -1.561015373207129,
          -0.18736207772869742,
          -0.9585741066402014,
          -0.26863827580676997,
          -0.4294398752380779,
          -0.2728403474832713,
          -0.4673175364166182,
          -1.2067856677343003,
          -0.45542801309901054,
          -0.933672097376151,
          -0.5376199093368218,
          -0.5401319308283073,
          -0.39833765652338016,
          -0.6728911461014792,
          -0.4292442063421361,
          -0.49155142728975426,
          -0.4505006413481354,
          -0.5740132115867678,
          -0.3690047428231338,
          -0.8563947234690076,
          -0.6177213591806228,
          -0.6471563260676206,
          -0.8533056924751509,
          -0.25509549007529625
         ],
         "yaxis": "y2"
        },
        {
         "bandwidth": 0.2,
         "box": {
          "visible": false
         },
         "customdata": [
          "NY",
          "NJ",
          "MA",
          "IL",
          "CA",
          "MI",
          "PA",
          "OH",
          "FL",
          "IA",
          "LA",
          "CT",
          "GA",
          "TX",
          "MD",
          "IN",
          "VA",
          "WA",
          "CO",
          "RI",
          "NC",
          "TN",
          "MS",
          "NE",
          "MO",
          "AL",
          "AZ",
          "WI",
          "SC",
          "MN",
          "DE",
          "ND",
          "KY",
          "NV",
          "DC",
          "UT",
          "AR",
          "OK",
          "SD",
          "NM",
          "KS",
          "OR",
          "ID",
          "NH",
          "PR",
          "WV",
          "ME",
          "VT",
          "HI",
          "MT",
          "AK",
          "WY",
          "GU"
         ],
         "hoveron": "points",
         "hovertemplate": "%{customdata}: %{y:.2f}<extra></extra>",
         "jitter": 0.1,
         "line": {
          "color": "rgb(140, 86, 75)"
         },
         "meanline": {
          "visible": true
         },
         "name": "invweibull",
         "pointpos": 0,
         "points": "all",
         "type": "violin",
         "xaxis": "x",
         "y": [
          -0.3225443253381108,
          -0.7299313627980076,
          -0.02275482490488479,
          -0.1467734995908484,
          -0.5315814572498399,
          1.1627059469633136,
          0.3417007634514021,
          -0.11996808565393825,
          -0.30630915915300677,
          1.7040815105707372,
          1.7395496560195143,
          -0.23645169966287063,
          -0.11421985583087906,
          0.6568427919162236,
          1.5512278705778173,
          -0.7328929018227341,
          -0.3359012271553188,
          2.0736897500334996,
          -0.6228297346438714,
          1.7750596272784347,
          -0.5869015033867556,
          -0.5909504662219899,
          -0.784581240636367,
          0.7924907702719637,
          -0.4769992532104118,
          1.998237845824989,
          -0.8293694515112779,
          -0.4735875233225416,
          0.25612444208069424,
          -0.3055626520811255,
          1.2418386106513213,
          1.2457516775696509,
          0.03706714660949459,
          -0.5597168303457338,
          -0.25404220906878927,
          -0.6451210786361129,
          -0.8674009692507472,
          -0.4791957645572394,
          1.437401448450234,
          2.0486469203776534,
          -0.6525636155230281,
          -0.40596263275487154,
          -0.6255175766668088,
          -0.6659191646376678,
          -0.680064248428868,
          -0.5367524750262452,
          -0.49596000326139367,
          2.034189702850763,
          2.0404795244961345,
          0.3203513829197533,
          -0.3096978561111638,
          1.9760789631381679,
          1.9891698473562816
         ],
         "yaxis": "y"
        },
        {
         "bandwidth": 0.2,
         "box": {
          "visible": false
         },
         "customdata": [
          "NY",
          "NJ",
          "MA",
          "IL",
          "CA",
          "MI",
          "PA",
          "OH",
          "FL",
          "IA",
          "LA",
          "CT",
          "GA",
          "TX",
          "MD",
          "IN",
          "VA",
          "WA",
          "CO",
          "RI",
          "NC",
          "TN",
          "MS",
          "NE",
          "MO",
          "AL",
          "AZ",
          "WI",
          "SC",
          "MN",
          "DE",
          "ND",
          "KY",
          "NV",
          "DC",
          "UT",
          "AR",
          "OK",
          "SD",
          "NM",
          "KS",
          "OR",
          "ID",
          "NH",
          "PR",
          "WV",
          "ME",
          "VT",
          "HI",
          "MT",
          "AK",
          "WY",
          "GU"
         ],
         "hoveron": "points",
         "hovertemplate": "%{customdata}: %{y:.2f}<extra></extra>",
         "jitter": 0.1,
         "line": {
          "color": "rgb(140, 86, 75)"
         },
         "meanline": {
          "visible": true
         },
         "name": "invweibull",
         "pointpos": 0,
         "points": "all",
         "type": "violin",
         "xaxis": "x2",
         "y": [
          -0.16711049380334586,
          -0.7903945933312544,
          0.1722458394901064,
          0.07285816576464947,
          -0.4920055887113274,
          1.2990506324673348,
          0.5762945138381738,
          0.14411053570222204,
          -0.1750255407751389,
          1.8399415344759986,
          1.8252843121573605,
          -0.056625615685982615,
          0.059696233435395374,
          0.8969821907755515,
          1.6814545037380013,
          -0.8067439710604954,
          -0.24512146979753027,
          1.9992273846945987,
          -0.6280033536171313,
          1.7597330241524898,
          -0.608206430322433,
          -0.5863545887150394,
          -0.7995799085398165,
          1.1914574714830362,
          -0.43021898131655534,
          2.032978170821092,
          -0.9557986261636459,
          -0.40864721122082576,
          0.5352962090744066,
          -0.1651951153128375,
          1.6546258502467153,
          1.6320875457090414,
          0.4252964538150296,
          -0.5378340746384835,
          -0.12055384215929286,
          -0.6476346825148156,
          -0.8899498629230408,
          -0.42215186910735475,
          1.4152224148550814,
          2.1462362304916125,
          -0.6727478099819456,
          -0.31496251964782135,
          -0.5883978736063239,
          -0.6530124661110843,
          -0.6962266696219175,
          -0.47651620988025173,
          -0.4378942704148004,
          2.0043180230974458,
          2.05810768151281,
          0.533300238113599,
          -0.18327132414117803,
          2.056813884870663,
          1.979165917770865
         ],
         "yaxis": "y2"
        },
        {
         "bandwidth": 0.2,
         "box": {
          "visible": false
         },
         "customdata": [
          "NY",
          "NJ",
          "MA",
          "IL",
          "CA",
          "MI",
          "PA",
          "OH",
          "FL",
          "IA",
          "LA",
          "CT",
          "GA",
          "TX",
          "MD",
          "IN",
          "VA",
          "WA",
          "CO",
          "RI",
          "NC",
          "TN",
          "MS",
          "NE",
          "MO",
          "AL",
          "AZ",
          "WI",
          "SC",
          "MN",
          "DE",
          "ND",
          "KY",
          "NV",
          "DC",
          "UT",
          "AR",
          "OK",
          "SD",
          "NM",
          "KS",
          "OR",
          "ID",
          "NH",
          "PR",
          "WV",
          "ME",
          "VT",
          "HI",
          "MT",
          "AK",
          "WY",
          "GU"
         ],
         "hoveron": "points",
         "hovertemplate": "%{customdata}: %{y:.2f}<extra></extra>",
         "jitter": 0.1,
         "line": {
          "color": "rgb(227, 119, 194)"
         },
         "meanline": {
          "visible": true
         },
         "name": "gompertz",
         "pointpos": 0,
         "points": "all",
         "type": "violin",
         "xaxis": "x",
         "y": [
          -0.5612481241890631,
          -0.2314499855952407,
          -0.5243584255265059,
          -0.5787239784439695,
          -0.4073377079809158,
          -0.633776575408584,
          -0.5472546142667318,
          -0.3496483218717598,
          -0.5528233189922966,
          -0.571118567696,
          0.434822778439986,
          -0.526165649561098,
          -0.5606530626043001,
          -0.48089355355073415,
          -0.00923224747799234,
          -0.2500415791934226,
          -0.5240841828496074,
          0.49385697784812155,
          -0.37750056851214014,
          0.8577585327852264,
          -0.4124084517726601,
          -0.39457097236824795,
          -0.20932976249265917,
          -0.5784895083344734,
          -0.5172058305491068,
          0.3896920487860953,
          -0.1875741193988014,
          -0.4531704086490318,
          -0.6031951650053017,
          -0.3232086096990442,
          -0.2548973882897518,
          -0.5372000599415664,
          -0.5222473620095529,
          -0.43119916260869534,
          -0.5084257587648525,
          -0.33878830182742925,
          -0.18192279226251643,
          -0.5001517166241113,
          0.985708387525545,
          0.3926513610616554,
          -0.380603404026507,
          -0.49649797055681866,
          -0.5485847828318396,
          -0.3363284379050509,
          -0.31334690277353067,
          -0.46019217346536356,
          -0.44304383983881834,
          0.5927661959309857,
          0.12764104415848013,
          -0.6983675915841513,
          -0.5933761766184817,
          0.04335751156534811,
          0.6792209798059389
         ],
         "yaxis": "y"
        },
        {
         "bandwidth": 0.2,
         "box": {
          "visible": false
         },
         "customdata": [
          "NY",
          "NJ",
          "MA",
          "IL",
          "CA",
          "MI",
          "PA",
          "OH",
          "FL",
          "IA",
          "LA",
          "CT",
          "GA",
          "TX",
          "MD",
          "IN",
          "VA",
          "WA",
          "CO",
          "RI",
          "NC",
          "TN",
          "MS",
          "NE",
          "MO",
          "AL",
          "AZ",
          "WI",
          "SC",
          "MN",
          "DE",
          "ND",
          "KY",
          "NV",
          "DC",
          "UT",
          "AR",
          "OK",
          "SD",
          "NM",
          "KS",
          "OR",
          "ID",
          "NH",
          "PR",
          "WV",
          "ME",
          "VT",
          "HI",
          "MT",
          "AK",
          "WY",
          "GU"
         ],
         "hoveron": "points",
         "hovertemplate": "%{customdata}: %{y:.2f}<extra></extra>",
         "jitter": 0.1,
         "line": {
          "color": "rgb(227, 119, 194)"
         },
         "meanline": {
          "visible": true
         },
         "name": "gompertz",
         "pointpos": 0,
         "points": "all",
         "type": "violin",
         "xaxis": "x2",
         "y": [
          -0.6532845395641017,
          -0.059689638555706366,
          -0.753710167771406,
          -0.723388648223767,
          -0.5113424200117931,
          -0.7339259470735437,
          -0.6626863953528389,
          -0.7034582038663862,
          -0.6609920565219296,
          -0.7993146433960757,
          0.34798880680839045,
          -0.8420421056024858,
          -0.7946971494883198,
          -0.6300336699107418,
          -0.10944945806104253,
          -0.16854153181853262,
          -0.6812703440649005,
          0.6149475672354688,
          -0.4473181907676912,
          0.7999948947842921,
          -0.46612167379793457,
          -0.4103685272627343,
          -0.12580185311039074,
          -1.0367543790059397,
          -0.6163447160626967,
          0.3072219298166219,
          -0.10475897545931422,
          -0.48506997979109256,
          -0.930871860820694,
          -0.37602256090244573,
          -0.7701932145766901,
          -1.035210050184426,
          -1.074790705215819,
          -0.47666545326757537,
          -0.6997834499159047,
          -0.38833159109145365,
          -0.2933352390810745,
          -0.6023389776897184,
          0.8925468092574134,
          0.2013842880128746,
          -0.48725372609911477,
          -0.6318733197034254,
          -0.7276554069900769,
          -0.49513796279165456,
          -0.36856896112295134,
          -0.6675161278491744,
          -0.6037914752792887,
          0.6128960546803343,
          0.10603711858201896,
          -0.8421538991300398,
          -0.7307337885389141,
          -0.05381505286283262,
          0.6273020535469331
         ],
         "yaxis": "y2"
        }
       ],
       "layout": {
        "height": 700,
        "showlegend": false,
        "template": {
         "data": {
          "bar": [
           {
            "error_x": {
             "color": "#2a3f5f"
            },
            "error_y": {
             "color": "#2a3f5f"
            },
            "marker": {
             "line": {
              "color": "#E5ECF6",
              "width": 0.5
             }
            },
            "type": "bar"
           }
          ],
          "barpolar": [
           {
            "marker": {
             "line": {
              "color": "#E5ECF6",
              "width": 0.5
             }
            },
            "type": "barpolar"
           }
          ],
          "carpet": [
           {
            "aaxis": {
             "endlinecolor": "#2a3f5f",
             "gridcolor": "white",
             "linecolor": "white",
             "minorgridcolor": "white",
             "startlinecolor": "#2a3f5f"
            },
            "baxis": {
             "endlinecolor": "#2a3f5f",
             "gridcolor": "white",
             "linecolor": "white",
             "minorgridcolor": "white",
             "startlinecolor": "#2a3f5f"
            },
            "type": "carpet"
           }
          ],
          "choropleth": [
           {
            "colorbar": {
             "outlinewidth": 0,
             "ticks": ""
            },
            "type": "choropleth"
           }
          ],
          "contour": [
           {
            "colorbar": {
             "outlinewidth": 0,
             "ticks": ""
            },
            "colorscale": [
             [
              0,
              "#0d0887"
             ],
             [
              0.1111111111111111,
              "#46039f"
             ],
             [
              0.2222222222222222,
              "#7201a8"
             ],
             [
              0.3333333333333333,
              "#9c179e"
             ],
             [
              0.4444444444444444,
              "#bd3786"
             ],
             [
              0.5555555555555556,
              "#d8576b"
             ],
             [
              0.6666666666666666,
              "#ed7953"
             ],
             [
              0.7777777777777778,
              "#fb9f3a"
             ],
             [
              0.8888888888888888,
              "#fdca26"
             ],
             [
              1,
              "#f0f921"
             ]
            ],
            "type": "contour"
           }
          ],
          "contourcarpet": [
           {
            "colorbar": {
             "outlinewidth": 0,
             "ticks": ""
            },
            "type": "contourcarpet"
           }
          ],
          "heatmap": [
           {
            "colorbar": {
             "outlinewidth": 0,
             "ticks": ""
            },
            "colorscale": [
             [
              0,
              "#0d0887"
             ],
             [
              0.1111111111111111,
              "#46039f"
             ],
             [
              0.2222222222222222,
              "#7201a8"
             ],
             [
              0.3333333333333333,
              "#9c179e"
             ],
             [
              0.4444444444444444,
              "#bd3786"
             ],
             [
              0.5555555555555556,
              "#d8576b"
             ],
             [
              0.6666666666666666,
              "#ed7953"
             ],
             [
              0.7777777777777778,
              "#fb9f3a"
             ],
             [
              0.8888888888888888,
              "#fdca26"
             ],
             [
              1,
              "#f0f921"
             ]
            ],
            "type": "heatmap"
           }
          ],
          "heatmapgl": [
           {
            "colorbar": {
             "outlinewidth": 0,
             "ticks": ""
            },
            "colorscale": [
             [
              0,
              "#0d0887"
             ],
             [
              0.1111111111111111,
              "#46039f"
             ],
             [
              0.2222222222222222,
              "#7201a8"
             ],
             [
              0.3333333333333333,
              "#9c179e"
             ],
             [
              0.4444444444444444,
              "#bd3786"
             ],
             [
              0.5555555555555556,
              "#d8576b"
             ],
             [
              0.6666666666666666,
              "#ed7953"
             ],
             [
              0.7777777777777778,
              "#fb9f3a"
             ],
             [
              0.8888888888888888,
              "#fdca26"
             ],
             [
              1,
              "#f0f921"
             ]
            ],
            "type": "heatmapgl"
           }
          ],
          "histogram": [
           {
            "marker": {
             "colorbar": {
              "outlinewidth": 0,
              "ticks": ""
             }
            },
            "type": "histogram"
           }
          ],
          "histogram2d": [
           {
            "colorbar": {
             "outlinewidth": 0,
             "ticks": ""
            },
            "colorscale": [
             [
              0,
              "#0d0887"
             ],
             [
              0.1111111111111111,
              "#46039f"
             ],
             [
              0.2222222222222222,
              "#7201a8"
             ],
             [
              0.3333333333333333,
              "#9c179e"
             ],
             [
              0.4444444444444444,
              "#bd3786"
             ],
             [
              0.5555555555555556,
              "#d8576b"
             ],
             [
              0.6666666666666666,
              "#ed7953"
             ],
             [
              0.7777777777777778,
              "#fb9f3a"
             ],
             [
              0.8888888888888888,
              "#fdca26"
             ],
             [
              1,
              "#f0f921"
             ]
            ],
            "type": "histogram2d"
           }
          ],
          "histogram2dcontour": [
           {
            "colorbar": {
             "outlinewidth": 0,
             "ticks": ""
            },
            "colorscale": [
             [
              0,
              "#0d0887"
             ],
             [
              0.1111111111111111,
              "#46039f"
             ],
             [
              0.2222222222222222,
              "#7201a8"
             ],
             [
              0.3333333333333333,
              "#9c179e"
             ],
             [
              0.4444444444444444,
              "#bd3786"
             ],
             [
              0.5555555555555556,
              "#d8576b"
             ],
             [
              0.6666666666666666,
              "#ed7953"
             ],
             [
              0.7777777777777778,
              "#fb9f3a"
             ],
             [
              0.8888888888888888,
              "#fdca26"
             ],
             [
              1,
              "#f0f921"
             ]
            ],
            "type": "histogram2dcontour"
           }
          ],
          "mesh3d": [
           {
            "colorbar": {
             "outlinewidth": 0,
             "ticks": ""
            },
            "type": "mesh3d"
           }
          ],
          "parcoords": [
           {
            "line": {
             "colorbar": {
              "outlinewidth": 0,
              "ticks": ""
             }
            },
            "type": "parcoords"
           }
          ],
          "pie": [
           {
            "automargin": true,
            "type": "pie"
           }
          ],
          "scatter": [
           {
            "marker": {
             "colorbar": {
              "outlinewidth": 0,
              "ticks": ""
             }
            },
            "type": "scatter"
           }
          ],
          "scatter3d": [
           {
            "line": {
             "colorbar": {
              "outlinewidth": 0,
              "ticks": ""
             }
            },
            "marker": {
             "colorbar": {
              "outlinewidth": 0,
              "ticks": ""
             }
            },
            "type": "scatter3d"
           }
          ],
          "scattercarpet": [
           {
            "marker": {
             "colorbar": {
              "outlinewidth": 0,
              "ticks": ""
             }
            },
            "type": "scattercarpet"
           }
          ],
          "scattergeo": [
           {
            "marker": {
             "colorbar": {
              "outlinewidth": 0,
              "ticks": ""
             }
            },
            "type": "scattergeo"
           }
          ],
          "scattergl": [
           {
            "marker": {
             "colorbar": {
              "outlinewidth": 0,
              "ticks": ""
             }
            },
            "type": "scattergl"
           }
          ],
          "scattermapbox": [
           {
            "marker": {
             "colorbar": {
              "outlinewidth": 0,
              "ticks": ""
             }
            },
            "type": "scattermapbox"
           }
          ],
          "scatterpolar": [
           {
            "marker": {
             "colorbar": {
              "outlinewidth": 0,
              "ticks": ""
             }
            },
            "type": "scatterpolar"
           }
          ],
          "scatterpolargl": [
           {
            "marker": {
             "colorbar": {
              "outlinewidth": 0,
              "ticks": ""
             }
            },
            "type": "scatterpolargl"
           }
          ],
          "scatterternary": [
           {
            "marker": {
             "colorbar": {
              "outlinewidth": 0,
              "ticks": ""
             }
            },
            "type": "scatterternary"
           }
          ],
          "surface": [
           {
            "colorbar": {
             "outlinewidth": 0,
             "ticks": ""
            },
            "colorscale": [
             [
              0,
              "#0d0887"
             ],
             [
              0.1111111111111111,
              "#46039f"
             ],
             [
              0.2222222222222222,
              "#7201a8"
             ],
             [
              0.3333333333333333,
              "#9c179e"
             ],
             [
              0.4444444444444444,
              "#bd3786"
             ],
             [
              0.5555555555555556,
              "#d8576b"
             ],
             [
              0.6666666666666666,
              "#ed7953"
             ],
             [
              0.7777777777777778,
              "#fb9f3a"
             ],
             [
              0.8888888888888888,
              "#fdca26"
             ],
             [
              1,
              "#f0f921"
             ]
            ],
            "type": "surface"
           }
          ],
          "table": [
           {
            "cells": {
             "fill": {
              "color": "#EBF0F8"
             },
             "line": {
              "color": "white"
             }
            },
            "header": {
             "fill": {
              "color": "#C8D4E3"
             },
             "line": {
              "color": "white"
             }
            },
            "type": "table"
           }
          ]
         },
         "layout": {
          "annotationdefaults": {
           "arrowcolor": "#2a3f5f",
           "arrowhead": 0,
           "arrowwidth": 1
          },
          "coloraxis": {
           "colorbar": {
            "outlinewidth": 0,
            "ticks": ""
           }
          },
          "colorscale": {
           "diverging": [
            [
             0,
             "#8e0152"
            ],
            [
             0.1,
             "#c51b7d"
            ],
            [
             0.2,
             "#de77ae"
            ],
            [
             0.3,
             "#f1b6da"
            ],
            [
             0.4,
             "#fde0ef"
            ],
            [
             0.5,
             "#f7f7f7"
            ],
            [
             0.6,
             "#e6f5d0"
            ],
            [
             0.7,
             "#b8e186"
            ],
            [
             0.8,
             "#7fbc41"
            ],
            [
             0.9,
             "#4d9221"
            ],
            [
             1,
             "#276419"
            ]
           ],
           "sequential": [
            [
             0,
             "#0d0887"
            ],
            [
             0.1111111111111111,
             "#46039f"
            ],
            [
             0.2222222222222222,
             "#7201a8"
            ],
            [
             0.3333333333333333,
             "#9c179e"
            ],
            [
             0.4444444444444444,
             "#bd3786"
            ],
            [
             0.5555555555555556,
             "#d8576b"
            ],
            [
             0.6666666666666666,
             "#ed7953"
            ],
            [
             0.7777777777777778,
             "#fb9f3a"
            ],
            [
             0.8888888888888888,
             "#fdca26"
            ],
            [
             1,
             "#f0f921"
            ]
           ],
           "sequentialminus": [
            [
             0,
             "#0d0887"
            ],
            [
             0.1111111111111111,
             "#46039f"
            ],
            [
             0.2222222222222222,
             "#7201a8"
            ],
            [
             0.3333333333333333,
             "#9c179e"
            ],
            [
             0.4444444444444444,
             "#bd3786"
            ],
            [
             0.5555555555555556,
             "#d8576b"
            ],
            [
             0.6666666666666666,
             "#ed7953"
            ],
            [
             0.7777777777777778,
             "#fb9f3a"
            ],
            [
             0.8888888888888888,
             "#fdca26"
            ],
            [
             1,
             "#f0f921"
            ]
           ]
          },
          "colorway": [
           "#636efa",
           "#EF553B",
           "#00cc96",
           "#ab63fa",
           "#FFA15A",
           "#19d3f3",
           "#FF6692",
           "#B6E880",
           "#FF97FF",
           "#FECB52"
          ],
          "font": {
           "color": "#2a3f5f"
          },
          "geo": {
           "bgcolor": "white",
           "lakecolor": "white",
           "landcolor": "#E5ECF6",
           "showlakes": true,
           "showland": true,
           "subunitcolor": "white"
          },
          "hoverlabel": {
           "align": "left"
          },
          "hovermode": "closest",
          "mapbox": {
           "style": "light"
          },
          "paper_bgcolor": "white",
          "plot_bgcolor": "#E5ECF6",
          "polar": {
           "angularaxis": {
            "gridcolor": "white",
            "linecolor": "white",
            "ticks": ""
           },
           "bgcolor": "#E5ECF6",
           "radialaxis": {
            "gridcolor": "white",
            "linecolor": "white",
            "ticks": ""
           }
          },
          "scene": {
           "xaxis": {
            "backgroundcolor": "#E5ECF6",
            "gridcolor": "white",
            "gridwidth": 2,
            "linecolor": "white",
            "showbackground": true,
            "ticks": "",
            "zerolinecolor": "white"
           },
           "yaxis": {
            "backgroundcolor": "#E5ECF6",
            "gridcolor": "white",
            "gridwidth": 2,
            "linecolor": "white",
            "showbackground": true,
            "ticks": "",
            "zerolinecolor": "white"
           },
           "zaxis": {
            "backgroundcolor": "#E5ECF6",
            "gridcolor": "white",
            "gridwidth": 2,
            "linecolor": "white",
            "showbackground": true,
            "ticks": "",
            "zerolinecolor": "white"
           }
          },
          "shapedefaults": {
           "line": {
            "color": "#2a3f5f"
           }
          },
          "ternary": {
           "aaxis": {
            "gridcolor": "white",
            "linecolor": "white",
            "ticks": ""
           },
           "baxis": {
            "gridcolor": "white",
            "linecolor": "white",
            "ticks": ""
           },
           "bgcolor": "#E5ECF6",
           "caxis": {
            "gridcolor": "white",
            "linecolor": "white",
            "ticks": ""
           }
          },
          "title": {
           "x": 0.05
          },
          "xaxis": {
           "automargin": true,
           "gridcolor": "white",
           "linecolor": "white",
           "ticks": "",
           "title": {
            "standoff": 15
           },
           "zerolinecolor": "white",
           "zerolinewidth": 2
          },
          "yaxis": {
           "automargin": true,
           "gridcolor": "white",
           "linecolor": "white",
           "ticks": "",
           "title": {
            "standoff": 15
           },
           "zerolinecolor": "white",
           "zerolinewidth": 2
          }
         }
        },
        "title": {
         "text": "Comparison of Models Fit on State Data",
         "x": 0.5
        },
        "width": 800,
        "xaxis": {
         "anchor": "y",
         "domain": [
          0,
          1
         ],
         "linecolor": "black",
         "linewidth": 1.5,
         "mirror": true,
         "showline": true
        },
        "xaxis2": {
         "anchor": "y2",
         "domain": [
          0,
          1
         ],
         "linecolor": "black",
         "linewidth": 1.5,
         "mirror": true,
         "showline": true
        },
        "yaxis": {
         "anchor": "x",
         "domain": [
          0.575,
          1
         ],
         "linecolor": "black",
         "linewidth": 1.5,
         "mirror": true,
         "showline": true,
         "title": {
          "text": "Standardized RMSE Score"
         }
        },
        "yaxis2": {
         "anchor": "x2",
         "domain": [
          0,
          0.425
         ],
         "linecolor": "black",
         "linewidth": 1.5,
         "mirror": true,
         "showline": true,
         "title": {
          "text": "Standardized BIC Score"
         }
        }
       }
      },
      "text/html": [
       "<div>\n",
       "        \n",
       "        \n",
       "            <div id=\"9a6ff72c-6625-4b7b-899e-bc779ca1cf8c\" class=\"plotly-graph-div\" style=\"height:700px; width:800px;\"></div>\n",
       "            <script type=\"text/javascript\">\n",
       "                require([\"plotly\"], function(Plotly) {\n",
       "                    window.PLOTLYENV=window.PLOTLYENV || {};\n",
       "                    \n",
       "                if (document.getElementById(\"9a6ff72c-6625-4b7b-899e-bc779ca1cf8c\")) {\n",
       "                    Plotly.newPlot(\n",
       "                        '9a6ff72c-6625-4b7b-899e-bc779ca1cf8c',\n",
       "                        [{\"bandwidth\": 0.2, \"box\": {\"visible\": false}, \"customdata\": [\"NY\", \"NJ\", \"MA\", \"IL\", \"CA\", \"MI\", \"PA\", \"OH\", \"FL\", \"IA\", \"LA\", \"CT\", \"GA\", \"TX\", \"MD\", \"IN\", \"VA\", \"WA\", \"CO\", \"RI\", \"NC\", \"TN\", \"MS\", \"NE\", \"MO\", \"AL\", \"AZ\", \"WI\", \"SC\", \"MN\", \"DE\", \"ND\", \"KY\", \"NV\", \"DC\", \"UT\", \"AR\", \"OK\", \"SD\", \"NM\", \"KS\", \"OR\", \"ID\", \"NH\", \"PR\", \"WV\", \"ME\", \"VT\", \"HI\", \"MT\", \"AK\", \"WY\", \"GU\"], \"hoveron\": \"points\", \"hovertemplate\": \"%{customdata}: %{y:.2f}<extra></extra>\", \"jitter\": 0.1, \"line\": {\"color\": \"rgb(31, 119, 180)\"}, \"meanline\": {\"visible\": true}, \"name\": \"normal\", \"pointpos\": 0, \"points\": \"all\", \"type\": \"violin\", \"xaxis\": \"x\", \"y\": [0.6451133386619643, 0.85746780839097, -0.1033723785297421, 0.35487791017044285, 0.6004260977286311, -0.18510647798213692, 0.30738785737018776, 0.2603252197880431, 0.729872966792105, -0.25684007062632075, 0.5455165320422206, 0.20968688595995827, 0.20512524609877875, -0.21511382789605357, -0.5991537418617597, 0.8062535127152314, 0.2201500057305505, -0.29528735557608604, 0.7047512225463087, -0.05964046055034907, 0.5843749153521662, 0.8173029430287081, 0.5329911249845005, -0.11091892276506057, 0.6895333384299778, -0.7369585533346769, 0.7983940214966193, 0.7825660986930617, 0.4001570116366929, 0.3884194477488824, -0.5408214802009653, -0.11562181431795564, -0.10843500807139383, 0.7938687029644839, 0.310128746361141, 0.7952811011879543, 0.573163390209682, 0.7787942355540838, 0.24776395467338513, -0.5219479524348902, 0.5798956025909489, 0.757246914474431, 1.4968644096578787, 0.6304619393800523, 0.7645790654554339, 0.6607245984032595, 0.6264424611450085, -0.7107084165676837, -0.23674623686276486, 0.9002044514079437, 0.7532186626768103, -0.015357948188784066, -0.7512559154388344], \"yaxis\": \"y\"}, {\"bandwidth\": 0.2, \"box\": {\"visible\": false}, \"customdata\": [\"NY\", \"NJ\", \"MA\", \"IL\", \"CA\", \"MI\", \"PA\", \"OH\", \"FL\", \"IA\", \"LA\", \"CT\", \"GA\", \"TX\", \"MD\", \"IN\", \"VA\", \"WA\", \"CO\", \"RI\", \"NC\", \"TN\", \"MS\", \"NE\", \"MO\", \"AL\", \"AZ\", \"WI\", \"SC\", \"MN\", \"DE\", \"ND\", \"KY\", \"NV\", \"DC\", \"UT\", \"AR\", \"OK\", \"SD\", \"NM\", \"KS\", \"OR\", \"ID\", \"NH\", \"PR\", \"WV\", \"ME\", \"VT\", \"HI\", \"MT\", \"AK\", \"WY\", \"GU\"], \"hoveron\": \"points\", \"hovertemplate\": \"%{customdata}: %{y:.2f}<extra></extra>\", \"jitter\": 0.1, \"line\": {\"color\": \"rgb(31, 119, 180)\"}, \"meanline\": {\"visible\": true}, \"name\": \"normal\", \"pointpos\": 0, \"points\": \"all\", \"type\": \"violin\", \"xaxis\": \"x2\", \"y\": [0.8678039008852853, 0.9923058315956398, -0.21919452606659662, 0.5917958382314623, 0.6770742934981305, -0.15316688327930272, 0.376587321221495, 0.017464096430376358, 0.8619365249606502, -0.4607943779347983, 0.4571262088901819, 0.06790510616633108, 0.15998091583386936, -0.3019973286632084, -0.772284041645761, 0.9443466956655429, 0.31920126915506125, -0.2843682536137626, 0.8055457137813529, -0.09121068255629289, 0.7494080391369606, 0.9553526138515892, 0.6348457095476068, -0.5118417502896354, 0.8558914973655953, -0.9269315338892582, 0.9190935645925696, 0.9485346241197073, 0.2611595542458874, 0.41198936923365487, -1.0691627478705354, -0.5975318833967341, -0.5712948985023687, 0.924552592142942, 0.31222279756715804, 0.8823051310655867, 0.5545631994456068, 0.8935017466151549, 0.24663801087082007, -0.7516765764476739, 0.6591135029334882, 0.8240848609367026, 1.488829198390585, 0.6427186168135958, 0.8446751575085286, 0.6672568496425582, 0.6707156626599694, -0.8708665850066298, -0.3023880088337525, 0.9173791825344486, 0.8831541508747738, -0.11716234964528774, -0.9205927063010212], \"yaxis\": \"y2\"}, {\"bandwidth\": 0.2, \"box\": {\"visible\": false}, \"customdata\": [\"NY\", \"NJ\", \"MA\", \"IL\", \"CA\", \"MI\", \"PA\", \"OH\", \"FL\", \"IA\", \"LA\", \"CT\", \"GA\", \"TX\", \"MD\", \"IN\", \"VA\", \"WA\", \"CO\", \"RI\", \"NC\", \"TN\", \"MS\", \"NE\", \"MO\", \"AL\", \"AZ\", \"WI\", \"SC\", \"MN\", \"DE\", \"ND\", \"KY\", \"NV\", \"DC\", \"UT\", \"AR\", \"OK\", \"SD\", \"NM\", \"KS\", \"OR\", \"ID\", \"NH\", \"PR\", \"WV\", \"ME\", \"VT\", \"HI\", \"MT\", \"AK\", \"WY\", \"GU\"], \"hoveron\": \"points\", \"hovertemplate\": \"%{customdata}: %{y:.2f}<extra></extra>\", \"jitter\": 0.1, \"line\": {\"color\": \"rgb(255, 127, 14)\"}, \"meanline\": {\"visible\": true}, \"name\": \"logistic\", \"pointpos\": 0, \"points\": \"all\", \"type\": \"violin\", \"xaxis\": \"x\", \"y\": [2.0172110750150605, 1.8496881301866062, 2.208440400472993, 2.1202987589201348, 2.0252182488804538, 1.680747192646163, 2.0001055339224476, 1.9538928912521802, 1.9715041569418363, 1.0818279610317987, -0.17511137792480144, 2.1771324054773205, 2.1609765461728907, 2.001079134582316, 1.2659326491355194, 1.8928730457813734, 2.181042157348312, -0.5991393241086486, 1.9830716048894408, -0.8239505981657939, 2.0531345532683747, 1.9257099594863007, 1.9092069495774886, 1.8548957764354734, 2.0128364608184968, 0.25713117096322907, 1.8757556364940584, 1.952637700262513, 1.998788930882717, 1.9565521716675154, 1.626394978701464, 1.4671207401784185, 2.202528174705075, 1.9407228627964748, 2.131954427130995, 1.920511576318018, 1.9055087829200705, 1.9593601490806276, -0.9728829401849349, 0.0824498129409819, 2.0502927912303033, 1.9573973276040775, 1.4252329027354713, 2.0098780529860814, 1.9334145976251538, 2.020889797282982, 2.0359980605411323, -0.2992483043043416, 0.2917068300772794, 1.7103425480253094, 1.9697631201087686, 0.38570247014731707, -0.38862576658638803], \"yaxis\": \"y\"}, {\"bandwidth\": 0.2, \"box\": {\"visible\": false}, \"customdata\": [\"NY\", \"NJ\", \"MA\", \"IL\", \"CA\", \"MI\", \"PA\", \"OH\", \"FL\", \"IA\", \"LA\", \"CT\", \"GA\", \"TX\", \"MD\", \"IN\", \"VA\", \"WA\", \"CO\", \"RI\", \"NC\", \"TN\", \"MS\", \"NE\", \"MO\", \"AL\", \"AZ\", \"WI\", \"SC\", \"MN\", \"DE\", \"ND\", \"KY\", \"NV\", \"DC\", \"UT\", \"AR\", \"OK\", \"SD\", \"NM\", \"KS\", \"OR\", \"ID\", \"NH\", \"PR\", \"WV\", \"ME\", \"VT\", \"HI\", \"MT\", \"AK\", \"WY\", \"GU\"], \"hoveron\": \"points\", \"hovertemplate\": \"%{customdata}: %{y:.2f}<extra></extra>\", \"jitter\": 0.1, \"line\": {\"color\": \"rgb(255, 127, 14)\"}, \"meanline\": {\"visible\": true}, \"name\": \"logistic\", \"pointpos\": 0, \"points\": \"all\", \"type\": \"violin\", \"xaxis\": \"x2\", \"y\": [1.853553023549145, 1.6054213045489698, 2.1647610072731016, 1.9733023621073187, 1.9624804547013095, 1.5547335197472676, 1.8699146923504573, 1.8434487943719777, 1.8635548554255954, 0.8657937447721289, -0.28583285678684983, 2.1641861133542193, 2.126847185696425, 1.8863681899317462, 1.140584058213887, 1.7304865003507937, 2.1353722424677897, -0.7163014868364979, 1.9132295945316726, -0.9788067373195747, 1.9665117684808044, 1.8150889482284551, 1.647833633600083, 1.5402552407610457, 1.9210255080828333, 0.1730913606852962, 1.7199115265562586, 1.8305200090393066, 1.9220605546854912, 1.7837270098522426, 1.1036729017134923, 0.9699585756572259, 2.029608801974457, 1.8383222873506426, 2.0930860645132894, 1.840897735386693, 1.8323381767452105, 1.8811558664515395, -1.105148642110853, -0.11198255152656413, 2.009886410442742, 1.895561214111159, 1.423778684074461, 1.993713216748813, 1.8621776917171737, 2.009611338047672, 2.0103983294790435, -0.3465197163419172, 0.27999499045286236, 1.5902963798060732, 1.875324589894723, 0.30466278733030133, -0.48626068051179244], \"yaxis\": \"y2\"}, {\"bandwidth\": 0.2, \"box\": {\"visible\": false}, \"customdata\": [\"NY\", \"NJ\", \"MA\", \"IL\", \"CA\", \"MI\", \"PA\", \"OH\", \"FL\", \"IA\", \"LA\", \"CT\", \"GA\", \"TX\", \"MD\", \"IN\", \"VA\", \"WA\", \"CO\", \"RI\", \"NC\", \"TN\", \"MS\", \"NE\", \"MO\", \"AL\", \"AZ\", \"WI\", \"SC\", \"MN\", \"DE\", \"ND\", \"KY\", \"NV\", \"DC\", \"UT\", \"AR\", \"OK\", \"SD\", \"NM\", \"KS\", \"OR\", \"ID\", \"NH\", \"PR\", \"WV\", \"ME\", \"VT\", \"HI\", \"MT\", \"AK\", \"WY\", \"GU\"], \"hoveron\": \"points\", \"hovertemplate\": \"%{customdata}: %{y:.2f}<extra></extra>\", \"jitter\": 0.1, \"line\": {\"color\": \"rgb(44, 160, 44)\"}, \"meanline\": {\"visible\": true}, \"name\": \"skewnorm\", \"pointpos\": 0, \"points\": \"all\", \"type\": \"violin\", \"xaxis\": \"x\", \"y\": [-0.4676864824833582, -0.9257470252187492, -0.3995503892381181, -0.6129260286611283, -0.8689712319226518, -0.5844026489780701, -0.795094872169657, -0.03340407443795043, -0.7932262876329832, -0.3492835816279986, -0.4040292517470724, -0.5919073546388777, -0.6256839400482721, -0.6319756457739762, -0.6839255336785619, -0.8554661654347061, -0.5956542341135925, -0.33178623380203265, -0.7960140077669198, -0.05964045961850377, -0.6729747724097374, -0.8123528394619486, -0.07189164011521339, -0.30449348051137265, -0.569958236574762, -0.7369585524340001, -0.6809664600353321, -0.7810585053991106, -0.7692485610213307, -0.08505379784280509, -0.6994758596945891, -0.2395467233749035, -0.5446751405663133, -0.8249340851510114, -0.7991789170143385, -0.87410700378, -0.15269737254396304, -0.756504873870457, 0.24776395469874393, -0.521947951619441, -0.6560611013763641, -0.8473642092048365, -0.511300992223247, -0.8024009949439503, -0.8547858131369988, -0.7074011157853174, -0.6848721054784126, -0.7107084164576664, -0.6030389566455452, -0.8186741575904064, -0.5991551267298827, -0.6336307634493229, -0.7512559154415293], \"yaxis\": \"y\"}, {\"bandwidth\": 0.2, \"box\": {\"visible\": false}, \"customdata\": [\"NY\", \"NJ\", \"MA\", \"IL\", \"CA\", \"MI\", \"PA\", \"OH\", \"FL\", \"IA\", \"LA\", \"CT\", \"GA\", \"TX\", \"MD\", \"IN\", \"VA\", \"WA\", \"CO\", \"RI\", \"NC\", \"TN\", \"MS\", \"NE\", \"MO\", \"AL\", \"AZ\", \"WI\", \"SC\", \"MN\", \"DE\", \"ND\", \"KY\", \"NV\", \"DC\", \"UT\", \"AR\", \"OK\", \"SD\", \"NM\", \"KS\", \"OR\", \"ID\", \"NH\", \"PR\", \"WV\", \"ME\", \"VT\", \"HI\", \"MT\", \"AK\", \"WY\", \"GU\"], \"hoveron\": \"points\", \"hovertemplate\": \"%{customdata}: %{y:.2f}<extra></extra>\", \"jitter\": 0.1, \"line\": {\"color\": \"rgb(44, 160, 44)\"}, \"meanline\": {\"visible\": true}, \"name\": \"skewnorm\", \"pointpos\": 0, \"points\": \"all\", \"type\": \"violin\", \"xaxis\": \"x2\", \"y\": [-0.3996633433531867, -1.2389654940296757, -0.2975648664278859, -0.6951752197865555, -0.9883473493306646, -0.5259253175512428, -0.8596935807997468, 0.24667554641380082, -0.9162731153518758, -0.1468166407571637, -0.2517088225534828, -0.5100308290086913, -0.6003446562735023, -0.5879603147124086, -0.5837552450433261, -1.0357405042915184, -0.6351836201130008, -0.208221452887123, -0.8921956008838147, 0.11287361498357082, -0.751018056779012, -0.960650134156753, 0.14279685576924625, 0.0035694966811889474, -0.5769269998874145, -0.6478256169635439, -0.7010955194873383, -0.9378863425722073, -0.7043659324367505, 0.09247356364506434, -0.3152773110107463, 0.14930318455830402, -0.27993023555733376, -0.9717850641267, -0.8585397056665868, -0.9972024396704887, 0.0189552535085247, -0.8426818130547813, 0.41810007875483585, -0.3339939149194698, -0.6778584021662513, -0.9382404932788385, -0.4374612175598496, -0.8420910095534979, -0.9591727275331854, -0.7068623652699028, -0.6986559336332633, -0.6902265650924051, -0.5339819508873049, -0.8364925515171518, -0.6031591584405306, -0.530937396187317, -0.6894255601124456], \"yaxis\": \"y2\"}, {\"bandwidth\": 0.2, \"box\": {\"visible\": false}, \"customdata\": [\"NY\", \"NJ\", \"MA\", \"IL\", \"CA\", \"MI\", \"PA\", \"OH\", \"FL\", \"IA\", \"LA\", \"CT\", \"GA\", \"TX\", \"MD\", \"IN\", \"VA\", \"WA\", \"CO\", \"RI\", \"NC\", \"TN\", \"MS\", \"NE\", \"MO\", \"AL\", \"AZ\", \"WI\", \"SC\", \"MN\", \"DE\", \"ND\", \"KY\", \"NV\", \"DC\", \"UT\", \"AR\", \"OK\", \"SD\", \"NM\", \"KS\", \"OR\", \"ID\", \"NH\", \"PR\", \"WV\", \"ME\", \"VT\", \"HI\", \"MT\", \"AK\", \"WY\", \"GU\"], \"hoveron\": \"points\", \"hovertemplate\": \"%{customdata}: %{y:.2f}<extra></extra>\", \"jitter\": 0.1, \"line\": {\"color\": \"rgb(214, 39, 40)\"}, \"meanline\": {\"visible\": true}, \"name\": \"richards\", \"pointpos\": 0, \"points\": \"all\", \"type\": \"violin\", \"xaxis\": \"x\", \"y\": [-0.5611747273182341, -0.23140285051232645, -0.5242261124168569, -0.5770005498092466, -0.4073071501202816, -0.6541329043576706, -0.6904775931740827, -0.349302180229112, -0.5527065853166875, -0.561736177209841, -1.0387315776957091, -0.5260424335565141, -0.5606343802777242, -0.626594195302783, -0.7915776597238932, -0.2499645069109657, -0.5240425644723068, -0.6642152322142711, -0.37746080867654824, -0.8499678696266608, -0.4123062042148217, -0.39450619680343996, -0.20910377280715803, -0.5770976500795897, -0.517172455159819, -0.49320240993708325, -0.1874266004041125, -0.4531421864283053, -0.6632691670835782, -0.32280158116965, -0.794527187048338, -0.5366160773135599, -0.5287173914601859, -0.4311537378547983, -0.5083551921444446, -0.3387454900604903, -0.18181471069830013, -0.49998460832966934, -0.972882940185154, -0.7733338096359759, -0.38047166312192066, -0.49641952519322674, -0.5485045557038377, -0.3362816345265556, -0.3132802909024841, -0.46013827427607207, -0.4429292107357836, -0.44181922961834663, -0.7707460342429289, -0.7532713131920243, -0.5933249446931002, -0.8592332697304429, -0.38862576658412457], \"yaxis\": \"y\"}, {\"bandwidth\": 0.2, \"box\": {\"visible\": false}, \"customdata\": [\"NY\", \"NJ\", \"MA\", \"IL\", \"CA\", \"MI\", \"PA\", \"OH\", \"FL\", \"IA\", \"LA\", \"CT\", \"GA\", \"TX\", \"MD\", \"IN\", \"VA\", \"WA\", \"CO\", \"RI\", \"NC\", \"TN\", \"MS\", \"NE\", \"MO\", \"AL\", \"AZ\", \"WI\", \"SC\", \"MN\", \"DE\", \"ND\", \"KY\", \"NV\", \"DC\", \"UT\", \"AR\", \"OK\", \"SD\", \"NM\", \"KS\", \"OR\", \"ID\", \"NH\", \"PR\", \"WV\", \"ME\", \"VT\", \"HI\", \"MT\", \"AK\", \"WY\", \"GU\"], \"hoveron\": \"points\", \"hovertemplate\": \"%{customdata}: %{y:.2f}<extra></extra>\", \"jitter\": 0.1, \"line\": {\"color\": \"rgb(214, 39, 40)\"}, \"meanline\": {\"visible\": true}, \"name\": \"richards\", \"pointpos\": 0, \"points\": \"all\", \"type\": \"violin\", \"xaxis\": \"x2\", \"y\": [-0.5637381732992094, 0.015154575070384289, -0.46005609844919276, -0.6259505784366576, -0.32181799625889906, -0.6237833962828511, -0.7036767303512647, -0.13131532383456454, -0.5288383338859747, -0.376666246470851, -1.0064771194843904, -0.42447923250907293, -0.5128003226490143, -0.5808967048696344, -0.7135810253960838, -0.06609791024052562, -0.523638861901733, -0.6924233763185942, -0.28086769259249245, -0.8079049284967728, -0.3370146041363403, -0.2900207637156191, -0.014884480771221474, -0.3043131104582069, -0.49274687000342815, -0.36121531771394494, 0.0064294724385037345, -0.3769511983470336, -0.5693602901602617, -0.18595689330854956, -0.41630340077355193, -0.16003326570323576, -0.2602511407072074, -0.34715041222274406, -0.45359151685538834, -0.22271661675888416, -0.015785859960967492, -0.45205694011583375, -0.9336865742511266, -0.6123475662739574, -0.29100804430060273, -0.4362320858943933, -0.4862022382073094, -0.21694618876406033, -0.1913330636579044, -0.3754728433427573, -0.3667591012248999, -0.340596468513705, -0.7513751073576229, -0.7446079906263051, -0.5941581435812529, -0.806256181030374, -0.25509353431725107], \"yaxis\": \"y2\"}, {\"bandwidth\": 0.2, \"box\": {\"visible\": false}, \"customdata\": [\"NY\", \"NJ\", \"MA\", \"IL\", \"CA\", \"MI\", \"PA\", \"OH\", \"FL\", \"IA\", \"LA\", \"CT\", \"GA\", \"TX\", \"MD\", \"IN\", \"VA\", \"WA\", \"CO\", \"RI\", \"NC\", \"TN\", \"MS\", \"NE\", \"MO\", \"AL\", \"AZ\", \"WI\", \"SC\", \"MN\", \"DE\", \"ND\", \"KY\", \"NV\", \"DC\", \"UT\", \"AR\", \"OK\", \"SD\", \"NM\", \"KS\", \"OR\", \"ID\", \"NH\", \"PR\", \"WV\", \"ME\", \"VT\", \"HI\", \"MT\", \"AK\", \"WY\", \"GU\"], \"hoveron\": \"points\", \"hovertemplate\": \"%{customdata}: %{y:.2f}<extra></extra>\", \"jitter\": 0.1, \"line\": {\"color\": \"rgb(148, 103, 189)\"}, \"meanline\": {\"visible\": true}, \"name\": \"loglogistic\", \"pointpos\": 0, \"points\": \"all\", \"type\": \"violin\", \"xaxis\": \"x\", \"y\": [-0.7496707543482592, -0.5886247144532538, -0.6341782698568902, -0.5597526125853826, -0.41044679933539724, -0.7860345328830123, -0.616367075133566, -1.3618954488474608, -0.49631177263896537, -1.0469310744423734, -1.1020167591341388, -0.50625215401792, -0.5049105535104934, -0.703344703974991, -0.7332713369711324, -0.6107614051347766, -0.4215099544880392, -0.6771185821805814, -0.5140177078362652, -0.8396187721023517, -0.552918536836567, -0.550632427659383, -1.1672916585105888, -1.076386985016939, -0.6210340237543754, -0.6779415498685554, -0.7888130266411534, -0.5742451751565856, -0.619357491489902, -1.3083449786237695, -0.578511674119141, -1.2838877428000806, -0.5355204192071334, -0.48758774980071745, -0.37208109649970894, -0.5190308032019398, -1.0948363283742246, -0.5023174212532364, -0.9728718649778134, -0.7065183806899764, -0.5604886097734305, -0.46839990436875256, -0.6881894049676139, -0.49940976035290746, -0.5365164078387074, -0.5171303571332387, -0.5956353623717338, -0.46447153183370804, -0.8492961709806521, -0.6605853199864284, -0.6274276786329516, -0.896916963482291, -0.38862746311134616], \"yaxis\": \"y\"}, {\"bandwidth\": 0.2, \"box\": {\"visible\": false}, \"customdata\": [\"NY\", \"NJ\", \"MA\", \"IL\", \"CA\", \"MI\", \"PA\", \"OH\", \"FL\", \"IA\", \"LA\", \"CT\", \"GA\", \"TX\", \"MD\", \"IN\", \"VA\", \"WA\", \"CO\", \"RI\", \"NC\", \"TN\", \"MS\", \"NE\", \"MO\", \"AL\", \"AZ\", \"WI\", \"SC\", \"MN\", \"DE\", \"ND\", \"KY\", \"NV\", \"DC\", \"UT\", \"AR\", \"OK\", \"SD\", \"NM\", \"KS\", \"OR\", \"ID\", \"NH\", \"PR\", \"WV\", \"ME\", \"VT\", \"HI\", \"MT\", \"AK\", \"WY\", \"GU\"], \"hoveron\": \"points\", \"hovertemplate\": \"%{customdata}: %{y:.2f}<extra></extra>\", \"jitter\": 0.1, \"line\": {\"color\": \"rgb(148, 103, 189)\"}, \"meanline\": {\"visible\": true}, \"name\": \"loglogistic\", \"pointpos\": 0, \"points\": \"all\", \"type\": \"violin\", \"xaxis\": \"x2\", \"y\": [-0.9375603744146025, -0.5238319852983575, -0.6064811880480664, -0.5934419196564475, -0.32604139388673914, -0.8169826080276454, -0.5967398209062805, -1.4169254452174769, -0.4443623338513324, -0.9221433706892813, -1.0863805290312438, -0.3989134367143175, -0.4386822065548534, -0.6824623625512938, -0.6429687918056708, -0.5977092786052616, -0.36935921574569097, -0.7128603822741083, -0.4703904704518983, -0.7946791855477215, -0.5535590425820469, -0.5230475482299004, -1.4852099564955057, -0.8823729691714994, -0.6606794381783361, -0.5773189927562711, -0.8837814424770352, -0.5704999012278597, -0.5139182345880595, -1.561015373207129, -0.18736207772869742, -0.9585741066402014, -0.26863827580676997, -0.4294398752380779, -0.2728403474832713, -0.4673175364166182, -1.2067856677343003, -0.45542801309901054, -0.933672097376151, -0.5376199093368218, -0.5401319308283073, -0.39833765652338016, -0.6728911461014792, -0.4292442063421361, -0.49155142728975426, -0.4505006413481354, -0.5740132115867678, -0.3690047428231338, -0.8563947234690076, -0.6177213591806228, -0.6471563260676206, -0.8533056924751509, -0.25509549007529625], \"yaxis\": \"y2\"}, {\"bandwidth\": 0.2, \"box\": {\"visible\": false}, \"customdata\": [\"NY\", \"NJ\", \"MA\", \"IL\", \"CA\", \"MI\", \"PA\", \"OH\", \"FL\", \"IA\", \"LA\", \"CT\", \"GA\", \"TX\", \"MD\", \"IN\", \"VA\", \"WA\", \"CO\", \"RI\", \"NC\", \"TN\", \"MS\", \"NE\", \"MO\", \"AL\", \"AZ\", \"WI\", \"SC\", \"MN\", \"DE\", \"ND\", \"KY\", \"NV\", \"DC\", \"UT\", \"AR\", \"OK\", \"SD\", \"NM\", \"KS\", \"OR\", \"ID\", \"NH\", \"PR\", \"WV\", \"ME\", \"VT\", \"HI\", \"MT\", \"AK\", \"WY\", \"GU\"], \"hoveron\": \"points\", \"hovertemplate\": \"%{customdata}: %{y:.2f}<extra></extra>\", \"jitter\": 0.1, \"line\": {\"color\": \"rgb(140, 86, 75)\"}, \"meanline\": {\"visible\": true}, \"name\": \"invweibull\", \"pointpos\": 0, \"points\": \"all\", \"type\": \"violin\", \"xaxis\": \"x\", \"y\": [-0.3225443253381108, -0.7299313627980076, -0.02275482490488479, -0.1467734995908484, -0.5315814572498399, 1.1627059469633136, 0.3417007634514021, -0.11996808565393825, -0.30630915915300677, 1.7040815105707372, 1.7395496560195143, -0.23645169966287063, -0.11421985583087906, 0.6568427919162236, 1.5512278705778173, -0.7328929018227341, -0.3359012271553188, 2.0736897500334996, -0.6228297346438714, 1.7750596272784347, -0.5869015033867556, -0.5909504662219899, -0.784581240636367, 0.7924907702719637, -0.4769992532104118, 1.998237845824989, -0.8293694515112779, -0.4735875233225416, 0.25612444208069424, -0.3055626520811255, 1.2418386106513213, 1.2457516775696509, 0.03706714660949459, -0.5597168303457338, -0.25404220906878927, -0.6451210786361129, -0.8674009692507472, -0.4791957645572394, 1.437401448450234, 2.0486469203776534, -0.6525636155230281, -0.40596263275487154, -0.6255175766668088, -0.6659191646376678, -0.680064248428868, -0.5367524750262452, -0.49596000326139367, 2.034189702850763, 2.0404795244961345, 0.3203513829197533, -0.3096978561111638, 1.9760789631381679, 1.9891698473562816], \"yaxis\": \"y\"}, {\"bandwidth\": 0.2, \"box\": {\"visible\": false}, \"customdata\": [\"NY\", \"NJ\", \"MA\", \"IL\", \"CA\", \"MI\", \"PA\", \"OH\", \"FL\", \"IA\", \"LA\", \"CT\", \"GA\", \"TX\", \"MD\", \"IN\", \"VA\", \"WA\", \"CO\", \"RI\", \"NC\", \"TN\", \"MS\", \"NE\", \"MO\", \"AL\", \"AZ\", \"WI\", \"SC\", \"MN\", \"DE\", \"ND\", \"KY\", \"NV\", \"DC\", \"UT\", \"AR\", \"OK\", \"SD\", \"NM\", \"KS\", \"OR\", \"ID\", \"NH\", \"PR\", \"WV\", \"ME\", \"VT\", \"HI\", \"MT\", \"AK\", \"WY\", \"GU\"], \"hoveron\": \"points\", \"hovertemplate\": \"%{customdata}: %{y:.2f}<extra></extra>\", \"jitter\": 0.1, \"line\": {\"color\": \"rgb(140, 86, 75)\"}, \"meanline\": {\"visible\": true}, \"name\": \"invweibull\", \"pointpos\": 0, \"points\": \"all\", \"type\": \"violin\", \"xaxis\": \"x2\", \"y\": [-0.16711049380334586, -0.7903945933312544, 0.1722458394901064, 0.07285816576464947, -0.4920055887113274, 1.2990506324673348, 0.5762945138381738, 0.14411053570222204, -0.1750255407751389, 1.8399415344759986, 1.8252843121573605, -0.056625615685982615, 0.059696233435395374, 0.8969821907755515, 1.6814545037380013, -0.8067439710604954, -0.24512146979753027, 1.9992273846945987, -0.6280033536171313, 1.7597330241524898, -0.608206430322433, -0.5863545887150394, -0.7995799085398165, 1.1914574714830362, -0.43021898131655534, 2.032978170821092, -0.9557986261636459, -0.40864721122082576, 0.5352962090744066, -0.1651951153128375, 1.6546258502467153, 1.6320875457090414, 0.4252964538150296, -0.5378340746384835, -0.12055384215929286, -0.6476346825148156, -0.8899498629230408, -0.42215186910735475, 1.4152224148550814, 2.1462362304916125, -0.6727478099819456, -0.31496251964782135, -0.5883978736063239, -0.6530124661110843, -0.6962266696219175, -0.47651620988025173, -0.4378942704148004, 2.0043180230974458, 2.05810768151281, 0.533300238113599, -0.18327132414117803, 2.056813884870663, 1.979165917770865], \"yaxis\": \"y2\"}, {\"bandwidth\": 0.2, \"box\": {\"visible\": false}, \"customdata\": [\"NY\", \"NJ\", \"MA\", \"IL\", \"CA\", \"MI\", \"PA\", \"OH\", \"FL\", \"IA\", \"LA\", \"CT\", \"GA\", \"TX\", \"MD\", \"IN\", \"VA\", \"WA\", \"CO\", \"RI\", \"NC\", \"TN\", \"MS\", \"NE\", \"MO\", \"AL\", \"AZ\", \"WI\", \"SC\", \"MN\", \"DE\", \"ND\", \"KY\", \"NV\", \"DC\", \"UT\", \"AR\", \"OK\", \"SD\", \"NM\", \"KS\", \"OR\", \"ID\", \"NH\", \"PR\", \"WV\", \"ME\", \"VT\", \"HI\", \"MT\", \"AK\", \"WY\", \"GU\"], \"hoveron\": \"points\", \"hovertemplate\": \"%{customdata}: %{y:.2f}<extra></extra>\", \"jitter\": 0.1, \"line\": {\"color\": \"rgb(227, 119, 194)\"}, \"meanline\": {\"visible\": true}, \"name\": \"gompertz\", \"pointpos\": 0, \"points\": \"all\", \"type\": \"violin\", \"xaxis\": \"x\", \"y\": [-0.5612481241890631, -0.2314499855952407, -0.5243584255265059, -0.5787239784439695, -0.4073377079809158, -0.633776575408584, -0.5472546142667318, -0.3496483218717598, -0.5528233189922966, -0.571118567696, 0.434822778439986, -0.526165649561098, -0.5606530626043001, -0.48089355355073415, -0.00923224747799234, -0.2500415791934226, -0.5240841828496074, 0.49385697784812155, -0.37750056851214014, 0.8577585327852264, -0.4124084517726601, -0.39457097236824795, -0.20932976249265917, -0.5784895083344734, -0.5172058305491068, 0.3896920487860953, -0.1875741193988014, -0.4531704086490318, -0.6031951650053017, -0.3232086096990442, -0.2548973882897518, -0.5372000599415664, -0.5222473620095529, -0.43119916260869534, -0.5084257587648525, -0.33878830182742925, -0.18192279226251643, -0.5001517166241113, 0.985708387525545, 0.3926513610616554, -0.380603404026507, -0.49649797055681866, -0.5485847828318396, -0.3363284379050509, -0.31334690277353067, -0.46019217346536356, -0.44304383983881834, 0.5927661959309857, 0.12764104415848013, -0.6983675915841513, -0.5933761766184817, 0.04335751156534811, 0.6792209798059389], \"yaxis\": \"y\"}, {\"bandwidth\": 0.2, \"box\": {\"visible\": false}, \"customdata\": [\"NY\", \"NJ\", \"MA\", \"IL\", \"CA\", \"MI\", \"PA\", \"OH\", \"FL\", \"IA\", \"LA\", \"CT\", \"GA\", \"TX\", \"MD\", \"IN\", \"VA\", \"WA\", \"CO\", \"RI\", \"NC\", \"TN\", \"MS\", \"NE\", \"MO\", \"AL\", \"AZ\", \"WI\", \"SC\", \"MN\", \"DE\", \"ND\", \"KY\", \"NV\", \"DC\", \"UT\", \"AR\", \"OK\", \"SD\", \"NM\", \"KS\", \"OR\", \"ID\", \"NH\", \"PR\", \"WV\", \"ME\", \"VT\", \"HI\", \"MT\", \"AK\", \"WY\", \"GU\"], \"hoveron\": \"points\", \"hovertemplate\": \"%{customdata}: %{y:.2f}<extra></extra>\", \"jitter\": 0.1, \"line\": {\"color\": \"rgb(227, 119, 194)\"}, \"meanline\": {\"visible\": true}, \"name\": \"gompertz\", \"pointpos\": 0, \"points\": \"all\", \"type\": \"violin\", \"xaxis\": \"x2\", \"y\": [-0.6532845395641017, -0.059689638555706366, -0.753710167771406, -0.723388648223767, -0.5113424200117931, -0.7339259470735437, -0.6626863953528389, -0.7034582038663862, -0.6609920565219296, -0.7993146433960757, 0.34798880680839045, -0.8420421056024858, -0.7946971494883198, -0.6300336699107418, -0.10944945806104253, -0.16854153181853262, -0.6812703440649005, 0.6149475672354688, -0.4473181907676912, 0.7999948947842921, -0.46612167379793457, -0.4103685272627343, -0.12580185311039074, -1.0367543790059397, -0.6163447160626967, 0.3072219298166219, -0.10475897545931422, -0.48506997979109256, -0.930871860820694, -0.37602256090244573, -0.7701932145766901, -1.035210050184426, -1.074790705215819, -0.47666545326757537, -0.6997834499159047, -0.38833159109145365, -0.2933352390810745, -0.6023389776897184, 0.8925468092574134, 0.2013842880128746, -0.48725372609911477, -0.6318733197034254, -0.7276554069900769, -0.49513796279165456, -0.36856896112295134, -0.6675161278491744, -0.6037914752792887, 0.6128960546803343, 0.10603711858201896, -0.8421538991300398, -0.7307337885389141, -0.05381505286283262, 0.6273020535469331], \"yaxis\": \"y2\"}],\n",
       "                        {\"height\": 700, \"showlegend\": false, \"template\": {\"data\": {\"bar\": [{\"error_x\": {\"color\": \"#2a3f5f\"}, \"error_y\": {\"color\": \"#2a3f5f\"}, \"marker\": {\"line\": {\"color\": \"#E5ECF6\", \"width\": 0.5}}, \"type\": \"bar\"}], \"barpolar\": [{\"marker\": {\"line\": {\"color\": \"#E5ECF6\", \"width\": 0.5}}, \"type\": \"barpolar\"}], \"carpet\": [{\"aaxis\": {\"endlinecolor\": \"#2a3f5f\", \"gridcolor\": \"white\", \"linecolor\": \"white\", \"minorgridcolor\": \"white\", \"startlinecolor\": \"#2a3f5f\"}, \"baxis\": {\"endlinecolor\": \"#2a3f5f\", \"gridcolor\": \"white\", \"linecolor\": \"white\", \"minorgridcolor\": \"white\", \"startlinecolor\": \"#2a3f5f\"}, \"type\": \"carpet\"}], \"choropleth\": [{\"colorbar\": {\"outlinewidth\": 0, \"ticks\": \"\"}, \"type\": \"choropleth\"}], \"contour\": [{\"colorbar\": {\"outlinewidth\": 0, \"ticks\": \"\"}, \"colorscale\": [[0.0, \"#0d0887\"], [0.1111111111111111, \"#46039f\"], [0.2222222222222222, \"#7201a8\"], [0.3333333333333333, \"#9c179e\"], [0.4444444444444444, \"#bd3786\"], [0.5555555555555556, \"#d8576b\"], [0.6666666666666666, \"#ed7953\"], [0.7777777777777778, \"#fb9f3a\"], [0.8888888888888888, \"#fdca26\"], [1.0, \"#f0f921\"]], \"type\": \"contour\"}], \"contourcarpet\": [{\"colorbar\": {\"outlinewidth\": 0, \"ticks\": \"\"}, \"type\": \"contourcarpet\"}], \"heatmap\": [{\"colorbar\": {\"outlinewidth\": 0, \"ticks\": \"\"}, \"colorscale\": [[0.0, \"#0d0887\"], [0.1111111111111111, \"#46039f\"], [0.2222222222222222, \"#7201a8\"], [0.3333333333333333, \"#9c179e\"], [0.4444444444444444, \"#bd3786\"], [0.5555555555555556, \"#d8576b\"], [0.6666666666666666, \"#ed7953\"], [0.7777777777777778, \"#fb9f3a\"], [0.8888888888888888, \"#fdca26\"], [1.0, \"#f0f921\"]], \"type\": \"heatmap\"}], \"heatmapgl\": [{\"colorbar\": {\"outlinewidth\": 0, \"ticks\": \"\"}, \"colorscale\": [[0.0, \"#0d0887\"], [0.1111111111111111, \"#46039f\"], [0.2222222222222222, \"#7201a8\"], [0.3333333333333333, \"#9c179e\"], [0.4444444444444444, \"#bd3786\"], [0.5555555555555556, \"#d8576b\"], [0.6666666666666666, \"#ed7953\"], [0.7777777777777778, \"#fb9f3a\"], [0.8888888888888888, \"#fdca26\"], [1.0, \"#f0f921\"]], \"type\": \"heatmapgl\"}], \"histogram\": [{\"marker\": {\"colorbar\": {\"outlinewidth\": 0, \"ticks\": \"\"}}, \"type\": \"histogram\"}], \"histogram2d\": [{\"colorbar\": {\"outlinewidth\": 0, \"ticks\": \"\"}, \"colorscale\": [[0.0, \"#0d0887\"], [0.1111111111111111, \"#46039f\"], [0.2222222222222222, \"#7201a8\"], [0.3333333333333333, \"#9c179e\"], [0.4444444444444444, \"#bd3786\"], [0.5555555555555556, \"#d8576b\"], [0.6666666666666666, \"#ed7953\"], [0.7777777777777778, \"#fb9f3a\"], [0.8888888888888888, \"#fdca26\"], [1.0, \"#f0f921\"]], \"type\": \"histogram2d\"}], \"histogram2dcontour\": [{\"colorbar\": {\"outlinewidth\": 0, \"ticks\": \"\"}, \"colorscale\": [[0.0, \"#0d0887\"], [0.1111111111111111, \"#46039f\"], [0.2222222222222222, \"#7201a8\"], [0.3333333333333333, \"#9c179e\"], [0.4444444444444444, \"#bd3786\"], [0.5555555555555556, \"#d8576b\"], [0.6666666666666666, \"#ed7953\"], [0.7777777777777778, \"#fb9f3a\"], [0.8888888888888888, \"#fdca26\"], [1.0, \"#f0f921\"]], \"type\": \"histogram2dcontour\"}], \"mesh3d\": [{\"colorbar\": {\"outlinewidth\": 0, \"ticks\": \"\"}, \"type\": \"mesh3d\"}], \"parcoords\": [{\"line\": {\"colorbar\": {\"outlinewidth\": 0, \"ticks\": \"\"}}, \"type\": \"parcoords\"}], \"pie\": [{\"automargin\": true, \"type\": \"pie\"}], \"scatter\": [{\"marker\": {\"colorbar\": {\"outlinewidth\": 0, \"ticks\": \"\"}}, \"type\": \"scatter\"}], \"scatter3d\": [{\"line\": {\"colorbar\": {\"outlinewidth\": 0, \"ticks\": \"\"}}, \"marker\": {\"colorbar\": {\"outlinewidth\": 0, \"ticks\": \"\"}}, \"type\": \"scatter3d\"}], \"scattercarpet\": [{\"marker\": {\"colorbar\": {\"outlinewidth\": 0, \"ticks\": \"\"}}, \"type\": \"scattercarpet\"}], \"scattergeo\": [{\"marker\": {\"colorbar\": {\"outlinewidth\": 0, \"ticks\": \"\"}}, \"type\": \"scattergeo\"}], \"scattergl\": [{\"marker\": {\"colorbar\": {\"outlinewidth\": 0, \"ticks\": \"\"}}, \"type\": \"scattergl\"}], \"scattermapbox\": [{\"marker\": {\"colorbar\": {\"outlinewidth\": 0, \"ticks\": \"\"}}, \"type\": \"scattermapbox\"}], \"scatterpolar\": [{\"marker\": {\"colorbar\": {\"outlinewidth\": 0, \"ticks\": \"\"}}, \"type\": \"scatterpolar\"}], \"scatterpolargl\": [{\"marker\": {\"colorbar\": {\"outlinewidth\": 0, \"ticks\": \"\"}}, \"type\": \"scatterpolargl\"}], \"scatterternary\": [{\"marker\": {\"colorbar\": {\"outlinewidth\": 0, \"ticks\": \"\"}}, \"type\": \"scatterternary\"}], \"surface\": [{\"colorbar\": {\"outlinewidth\": 0, \"ticks\": \"\"}, \"colorscale\": [[0.0, \"#0d0887\"], [0.1111111111111111, \"#46039f\"], [0.2222222222222222, \"#7201a8\"], [0.3333333333333333, \"#9c179e\"], [0.4444444444444444, \"#bd3786\"], [0.5555555555555556, \"#d8576b\"], [0.6666666666666666, \"#ed7953\"], [0.7777777777777778, \"#fb9f3a\"], [0.8888888888888888, \"#fdca26\"], [1.0, \"#f0f921\"]], \"type\": \"surface\"}], \"table\": [{\"cells\": {\"fill\": {\"color\": \"#EBF0F8\"}, \"line\": {\"color\": \"white\"}}, \"header\": {\"fill\": {\"color\": \"#C8D4E3\"}, \"line\": {\"color\": \"white\"}}, \"type\": \"table\"}]}, \"layout\": {\"annotationdefaults\": {\"arrowcolor\": \"#2a3f5f\", \"arrowhead\": 0, \"arrowwidth\": 1}, \"coloraxis\": {\"colorbar\": {\"outlinewidth\": 0, \"ticks\": \"\"}}, \"colorscale\": {\"diverging\": [[0, \"#8e0152\"], [0.1, \"#c51b7d\"], [0.2, \"#de77ae\"], [0.3, \"#f1b6da\"], [0.4, \"#fde0ef\"], [0.5, \"#f7f7f7\"], [0.6, \"#e6f5d0\"], [0.7, \"#b8e186\"], [0.8, \"#7fbc41\"], [0.9, \"#4d9221\"], [1, \"#276419\"]], \"sequential\": [[0.0, \"#0d0887\"], [0.1111111111111111, \"#46039f\"], [0.2222222222222222, \"#7201a8\"], [0.3333333333333333, \"#9c179e\"], [0.4444444444444444, \"#bd3786\"], [0.5555555555555556, \"#d8576b\"], [0.6666666666666666, \"#ed7953\"], [0.7777777777777778, \"#fb9f3a\"], [0.8888888888888888, \"#fdca26\"], [1.0, \"#f0f921\"]], \"sequentialminus\": [[0.0, \"#0d0887\"], [0.1111111111111111, \"#46039f\"], [0.2222222222222222, \"#7201a8\"], [0.3333333333333333, \"#9c179e\"], [0.4444444444444444, \"#bd3786\"], [0.5555555555555556, \"#d8576b\"], [0.6666666666666666, \"#ed7953\"], [0.7777777777777778, \"#fb9f3a\"], [0.8888888888888888, \"#fdca26\"], [1.0, \"#f0f921\"]]}, \"colorway\": [\"#636efa\", \"#EF553B\", \"#00cc96\", \"#ab63fa\", \"#FFA15A\", \"#19d3f3\", \"#FF6692\", \"#B6E880\", \"#FF97FF\", \"#FECB52\"], \"font\": {\"color\": \"#2a3f5f\"}, \"geo\": {\"bgcolor\": \"white\", \"lakecolor\": \"white\", \"landcolor\": \"#E5ECF6\", \"showlakes\": true, \"showland\": true, \"subunitcolor\": \"white\"}, \"hoverlabel\": {\"align\": \"left\"}, \"hovermode\": \"closest\", \"mapbox\": {\"style\": \"light\"}, \"paper_bgcolor\": \"white\", \"plot_bgcolor\": \"#E5ECF6\", \"polar\": {\"angularaxis\": {\"gridcolor\": \"white\", \"linecolor\": \"white\", \"ticks\": \"\"}, \"bgcolor\": \"#E5ECF6\", \"radialaxis\": {\"gridcolor\": \"white\", \"linecolor\": \"white\", \"ticks\": \"\"}}, \"scene\": {\"xaxis\": {\"backgroundcolor\": \"#E5ECF6\", \"gridcolor\": \"white\", \"gridwidth\": 2, \"linecolor\": \"white\", \"showbackground\": true, \"ticks\": \"\", \"zerolinecolor\": \"white\"}, \"yaxis\": {\"backgroundcolor\": \"#E5ECF6\", \"gridcolor\": \"white\", \"gridwidth\": 2, \"linecolor\": \"white\", \"showbackground\": true, \"ticks\": \"\", \"zerolinecolor\": \"white\"}, \"zaxis\": {\"backgroundcolor\": \"#E5ECF6\", \"gridcolor\": \"white\", \"gridwidth\": 2, \"linecolor\": \"white\", \"showbackground\": true, \"ticks\": \"\", \"zerolinecolor\": \"white\"}}, \"shapedefaults\": {\"line\": {\"color\": \"#2a3f5f\"}}, \"ternary\": {\"aaxis\": {\"gridcolor\": \"white\", \"linecolor\": \"white\", \"ticks\": \"\"}, \"baxis\": {\"gridcolor\": \"white\", \"linecolor\": \"white\", \"ticks\": \"\"}, \"bgcolor\": \"#E5ECF6\", \"caxis\": {\"gridcolor\": \"white\", \"linecolor\": \"white\", \"ticks\": \"\"}}, \"title\": {\"x\": 0.05}, \"xaxis\": {\"automargin\": true, \"gridcolor\": \"white\", \"linecolor\": \"white\", \"ticks\": \"\", \"title\": {\"standoff\": 15}, \"zerolinecolor\": \"white\", \"zerolinewidth\": 2}, \"yaxis\": {\"automargin\": true, \"gridcolor\": \"white\", \"linecolor\": \"white\", \"ticks\": \"\", \"title\": {\"standoff\": 15}, \"zerolinecolor\": \"white\", \"zerolinewidth\": 2}}}, \"title\": {\"text\": \"Comparison of Models Fit on State Data\", \"x\": 0.5}, \"width\": 800, \"xaxis\": {\"anchor\": \"y\", \"domain\": [0.0, 1.0], \"linecolor\": \"black\", \"linewidth\": 1.5, \"mirror\": true, \"showline\": true}, \"xaxis2\": {\"anchor\": \"y2\", \"domain\": [0.0, 1.0], \"linecolor\": \"black\", \"linewidth\": 1.5, \"mirror\": true, \"showline\": true}, \"yaxis\": {\"anchor\": \"x\", \"domain\": [0.575, 1.0], \"linecolor\": \"black\", \"linewidth\": 1.5, \"mirror\": true, \"showline\": true, \"title\": {\"text\": \"Standardized RMSE Score\"}}, \"yaxis2\": {\"anchor\": \"x2\", \"domain\": [0.0, 0.425], \"linecolor\": \"black\", \"linewidth\": 1.5, \"mirror\": true, \"showline\": true, \"title\": {\"text\": \"Standardized BIC Score\"}}},\n",
       "                        {\"responsive\": true}\n",
       "                    ).then(function(){\n",
       "                            \n",
       "var gd = document.getElementById('9a6ff72c-6625-4b7b-899e-bc779ca1cf8c');\n",
       "var x = new MutationObserver(function (mutations, observer) {{\n",
       "        var display = window.getComputedStyle(gd).display;\n",
       "        if (!display || display === 'none') {{\n",
       "            console.log([gd, 'removed!']);\n",
       "            Plotly.purge(gd);\n",
       "            observer.disconnect();\n",
       "        }}\n",
       "}});\n",
       "\n",
       "// Listen for the removal of the full notebook cells\n",
       "var notebookContainer = gd.closest('#notebook-container');\n",
       "if (notebookContainer) {{\n",
       "    x.observe(notebookContainer, {childList: true});\n",
       "}}\n",
       "\n",
       "// Listen for the clearing of the current output cell\n",
       "var outputEl = gd.closest('.output');\n",
       "if (outputEl) {{\n",
       "    x.observe(outputEl, {childList: true});\n",
       "}}\n",
       "\n",
       "                        })\n",
       "                };\n",
       "                });\n",
       "            </script>\n",
       "        </div>"
      ]
     },
     "metadata": {},
     "output_type": "display_data"
    }
   ],
   "source": [
    "cols = pc.DEFAULT_PLOTLY_COLORS\n",
    "\n",
    "\n",
    "fig = make_subplots(rows=2, cols=1)\n",
    "rmse = compare_models(state_info,'rmse')\n",
    "bic = compare_models(state_info,'bic')\n",
    "label = '%{customdata}: %{y:.2f}<extra></extra>'\n",
    "\n",
    "for i,m in enumerate(rmse.columns):\n",
    "    fig.add_trace(go.Violin(y=rmse[m], name=m, box_visible=False, meanline_visible=True, bandwidth=0.2,\n",
    "                            hoveron='points', customdata = rmse.index.values,hovertemplate=label,\n",
    "                            points='all',jitter=0.1,pointpos=0,line_color=cols[i]),row=1,col=1)\n",
    "    \n",
    "    fig.add_trace(go.Violin(y=bic[m],name=m,box_visible=False,meanline_visible=True, bandwidth=0.2,\n",
    "                            hoveron='points', customdata = rmse.index.values,hovertemplate=label,\n",
    "                            points='all',jitter=0.1,pointpos=0,line_color=cols[i]),row=2,col=1)\n",
    "    \n",
    "\n",
    "fig.update_layout(width=800,height=700,title_text=\"Comparison of Models Fit on State Data\",title_x=0.5,showlegend=False)\n",
    "fig.update_xaxes(showline=True, linewidth=1.5, linecolor='black', mirror=True)\n",
    "fig.update_yaxes(showline=True, linewidth=1.5, linecolor='black', mirror=True)\n",
    "fig.update_yaxes(title=\"Standardized RMSE Score\",row=1,col=1)\n",
    "fig.update_yaxes(title=\"Standardized BIC Score\",row=2,col=1)\n",
    "fig.show()\n"
   ]
  },
  {
   "cell_type": "code",
   "execution_count": 219,
   "metadata": {
    "jupyter": {
     "source_hidden": true
    }
   },
   "outputs": [
    {
     "data": {
      "application/vnd.plotly.v1+json": {
       "config": {
        "plotlyServerURL": "https://plot.ly"
       },
       "data": [
        {
         "bandwidth": 0.2,
         "box": {
          "visible": false
         },
         "customdata": [
          "Singapore",
          "Saudi Arabia",
          "Qatar",
          "Russia",
          "United States",
          "Japan",
          "France",
          "Spain",
          "Italy",
          "United Kingdom",
          "Germany",
          "Turkey",
          "Iran",
          "Brazil",
          "China",
          "Canada",
          "Belgium",
          "India",
          "Netherlands",
          "Ireland",
          "Switzerland",
          "Mexico",
          "Peru",
          "Sweden",
          "Portugal",
          "Pakistan",
          "Ukraine",
          "Indonesia",
          "Austria",
          "Israel",
          "Ecuador",
          "Chile",
          "Poland",
          "Romania",
          "Korea, South",
          "United Arab Emirates",
          "Serbia",
          "Belarus",
          "Denmark",
          "Egypt",
          "Dominican Republic",
          "Norway",
          "Czechia",
          "Philippines",
          "Australia",
          "Malaysia",
          "Panama",
          "Colombia",
          "Finland",
          "Luxembourg"
         ],
         "hoveron": "points",
         "hovertemplate": "%{customdata}: %{y:.2f}<extra></extra>",
         "jitter": 0.1,
         "line": {
          "color": "rgb(31, 119, 180)"
         },
         "meanline": {
          "visible": true
         },
         "name": "normal",
         "pointpos": 0,
         "points": "all",
         "type": "violin",
         "xaxis": "x",
         "y": [
          -0.46825810789068406,
          -0.44094381959793383,
          -0.43307652240010713,
          -0.561313053683483,
          0.5210414356035645,
          0.10417849123744942,
          -0.44118614613884805,
          1.028524296721774,
          0.9723238341112216,
          -0.19084515542600164,
          0.5767063570065082,
          0.22922508507098216,
          -0.43397865653712947,
          0.007048593383966183,
          0.06981787119504533,
          0.6141652720567304,
          0.5990349645394302,
          -0.2746744496025248,
          0.6841826937067009,
          0.10340855901053661,
          1.128522070262686,
          -0.05586263256897921,
          0.17845776261757337,
          -0.7005185570004665,
          0.7772689130246168,
          0.31423819276105186,
          -0.384408424913008,
          -0.24015500570708562,
          1.5023953189173433,
          1.0662395106957876,
          -0.8503949654430777,
          0.6140777587889442,
          0.21644786541567052,
          0.222053006994132,
          1.3120356054865274,
          -0.17811149383113017,
          -0.6537366471336277,
          0.3327512830903296,
          -0.29131904784786433,
          -0.4974682376062967,
          0.4958903297309222,
          -0.27263542240081096,
          0.6177695894756466,
          0.8165993199139271,
          0.4624375952034466,
          0.6340639772810472,
          -0.23041345860236898,
          -0.1157567948292382,
          -0.016143760567997923,
          1.3806958715827997
         ],
         "yaxis": "y"
        },
        {
         "bandwidth": 0.2,
         "box": {
          "visible": false
         },
         "customdata": [
          "Singapore",
          "Saudi Arabia",
          "Qatar",
          "Russia",
          "United States",
          "Japan",
          "France",
          "Spain",
          "Italy",
          "United Kingdom",
          "Germany",
          "Turkey",
          "Iran",
          "Brazil",
          "China",
          "Canada",
          "Belgium",
          "India",
          "Netherlands",
          "Ireland",
          "Switzerland",
          "Mexico",
          "Peru",
          "Sweden",
          "Portugal",
          "Pakistan",
          "Ukraine",
          "Indonesia",
          "Austria",
          "Israel",
          "Ecuador",
          "Chile",
          "Poland",
          "Romania",
          "Korea, South",
          "United Arab Emirates",
          "Serbia",
          "Belarus",
          "Denmark",
          "Egypt",
          "Dominican Republic",
          "Norway",
          "Czechia",
          "Philippines",
          "Australia",
          "Malaysia",
          "Panama",
          "Colombia",
          "Finland",
          "Luxembourg"
         ],
         "hoveron": "points",
         "hovertemplate": "%{customdata}: %{y:.2f}<extra></extra>",
         "jitter": 0.1,
         "line": {
          "color": "rgb(31, 119, 180)"
         },
         "meanline": {
          "visible": true
         },
         "name": "normal",
         "pointpos": 0,
         "points": "all",
         "type": "violin",
         "xaxis": "x2",
         "y": [
          -0.4941604185378142,
          -0.48017648148642955,
          -0.5197886874334218,
          -0.5707090432695218,
          0.7126718132435734,
          0.040186533500590156,
          -1.078380800199166,
          1.1348866957572072,
          1.1247279102572507,
          -0.15947762810844707,
          0.7014446620046816,
          0.43543230766008284,
          -0.4811735191730324,
          -0.053446476079250564,
          0.02110018422092181,
          0.7479286755666985,
          0.7607621315211355,
          -0.4392925296337914,
          0.8921281638585581,
          -0.09646244992041972,
          1.2343520411831495,
          -0.06898146234555318,
          0.1529167338653828,
          -0.842413989830059,
          0.9475341504154496,
          0.2940976687552691,
          -1.0604824549206366,
          -0.4256701433766607,
          1.4507545964390027,
          1.1551309907076392,
          -1.4809959411993625,
          0.8565088219712294,
          0.31321078564742005,
          0.35397030101249566,
          1.1369182629544716,
          -0.2476320064278798,
          -0.8709825731710152,
          -0.01809572692279712,
          -0.36690979774068455,
          -0.6820414411232125,
          0.5455580987442571,
          -0.3046650127382473,
          0.6749749926282769,
          0.8467134501814377,
          0.5315344339467183,
          0.7991146183568912,
          -0.33781055193320175,
          -0.33759045049385294,
          -0.10564973541904268,
          1.4046441570908446
         ],
         "yaxis": "y2"
        },
        {
         "bandwidth": 0.2,
         "box": {
          "visible": false
         },
         "customdata": [
          "Singapore",
          "Saudi Arabia",
          "Qatar",
          "Russia",
          "United States",
          "Japan",
          "France",
          "Spain",
          "Italy",
          "United Kingdom",
          "Germany",
          "Turkey",
          "Iran",
          "Brazil",
          "China",
          "Canada",
          "Belgium",
          "India",
          "Netherlands",
          "Ireland",
          "Switzerland",
          "Mexico",
          "Peru",
          "Sweden",
          "Portugal",
          "Pakistan",
          "Ukraine",
          "Indonesia",
          "Austria",
          "Israel",
          "Ecuador",
          "Chile",
          "Poland",
          "Romania",
          "Korea, South",
          "United Arab Emirates",
          "Serbia",
          "Belarus",
          "Denmark",
          "Egypt",
          "Dominican Republic",
          "Norway",
          "Czechia",
          "Philippines",
          "Australia",
          "Malaysia",
          "Panama",
          "Colombia",
          "Finland",
          "Luxembourg"
         ],
         "hoveron": "points",
         "hovertemplate": "%{customdata}: %{y:.2f}<extra></extra>",
         "jitter": 0.1,
         "line": {
          "color": "rgb(255, 127, 14)"
         },
         "meanline": {
          "visible": true
         },
         "name": "logistic",
         "pointpos": 0,
         "points": "all",
         "type": "violin",
         "xaxis": "x",
         "y": [
          -0.825096287473816,
          -0.6445885422183744,
          -0.4765577775167324,
          -0.6318142125658164,
          1.8346881052281714,
          -0.8021133048259805,
          2.2389848450901515,
          1.8167304762096224,
          1.8424681888582737,
          2.1686895914738495,
          1.8696447967724747,
          2.180836880763239,
          -0.6291273665565783,
          2.2268943439296254,
          -0.2624558790712861,
          2.0135011748813376,
          2.0421299499136056,
          2.2359215032632527,
          1.9990848727824544,
          -0.9252174160814832,
          1.7458018308595893,
          2.235578440675656,
          -0.9559625160411604,
          0.8200136809320805,
          1.9677398494109046,
          2.053213877676893,
          2.1441838219439227,
          2.2334188684844665,
          1.3454227138956336,
          1.7781208929215375,
          0.8021067536885681,
          2.0345900630810054,
          2.174472988360915,
          2.184536899046095,
          1.1983054089503553,
          -0.650918726643951,
          0.059460064369019835,
          2.1442898362047407,
          -0.7377600096933667,
          0.2547248038511835,
          1.8652497501915546,
          0.8891831393052247,
          1.7960413205223484,
          1.8953123442176616,
          -0.2887168785995488,
          2.0400235271689646,
          2.2280131403879824,
          2.2157961181877366,
          2.2252053730250356,
          1.5363014917617872
         ],
         "yaxis": "y"
        },
        {
         "bandwidth": 0.2,
         "box": {
          "visible": false
         },
         "customdata": [
          "Singapore",
          "Saudi Arabia",
          "Qatar",
          "Russia",
          "United States",
          "Japan",
          "France",
          "Spain",
          "Italy",
          "United Kingdom",
          "Germany",
          "Turkey",
          "Iran",
          "Brazil",
          "China",
          "Canada",
          "Belgium",
          "India",
          "Netherlands",
          "Ireland",
          "Switzerland",
          "Mexico",
          "Peru",
          "Sweden",
          "Portugal",
          "Pakistan",
          "Ukraine",
          "Indonesia",
          "Austria",
          "Israel",
          "Ecuador",
          "Chile",
          "Poland",
          "Romania",
          "Korea, South",
          "United Arab Emirates",
          "Serbia",
          "Belarus",
          "Denmark",
          "Egypt",
          "Dominican Republic",
          "Norway",
          "Czechia",
          "Philippines",
          "Australia",
          "Malaysia",
          "Panama",
          "Colombia",
          "Finland",
          "Luxembourg"
         ],
         "hoveron": "points",
         "hovertemplate": "%{customdata}: %{y:.2f}<extra></extra>",
         "jitter": 0.1,
         "line": {
          "color": "rgb(255, 127, 14)"
         },
         "meanline": {
          "visible": true
         },
         "name": "logistic",
         "pointpos": 0,
         "points": "all",
         "type": "violin",
         "xaxis": "x2",
         "y": [
          -0.9152689446865954,
          -0.7532927045281327,
          -0.5706430648892217,
          -0.6846136537878651,
          1.5836870879259337,
          -0.9406908343052258,
          1.9117328269898484,
          1.736432762501442,
          1.703410846150601,
          2.094045845961487,
          1.6912548059954435,
          2.1039658083465556,
          -0.7205434530048537,
          2.225224357882468,
          -0.34041961714931923,
          1.9191534113868265,
          1.9460830037913175,
          2.2075172992388428,
          1.8523886382108763,
          -1.156658593743628,
          1.6524728190725577,
          2.2272023583156115,
          -1.0757541209775459,
          0.7461943619545441,
          1.8666104997604587,
          2.0080919468651355,
          1.8410193171964184,
          2.2133685496977065,
          1.3342428066910037,
          1.6979276363322107,
          -0.4807234721260066,
          1.8819205974631354,
          2.1295498664533694,
          2.1378757646852495,
          1.066296577688422,
          -0.7689070414747196,
          -0.1195424165530996,
          2.1429507792246714,
          -0.8690847361410684,
          0.10400388950273425,
          1.7075469295112966,
          0.870317621214522,
          1.671834639721452,
          1.853395706973873,
          -0.2116160766931126,
          1.9539337603844436,
          2.2077736575123175,
          2.191766441050647,
          2.2172090424603406,
          1.499440533258952
         ],
         "yaxis": "y2"
        },
        {
         "bandwidth": 0.2,
         "box": {
          "visible": false
         },
         "customdata": [
          "Singapore",
          "Saudi Arabia",
          "Qatar",
          "Russia",
          "United States",
          "Japan",
          "France",
          "Spain",
          "Italy",
          "United Kingdom",
          "Germany",
          "Turkey",
          "Iran",
          "Brazil",
          "China",
          "Canada",
          "Belgium",
          "India",
          "Netherlands",
          "Ireland",
          "Switzerland",
          "Mexico",
          "Peru",
          "Sweden",
          "Portugal",
          "Pakistan",
          "Ukraine",
          "Indonesia",
          "Austria",
          "Israel",
          "Ecuador",
          "Chile",
          "Poland",
          "Romania",
          "Korea, South",
          "United Arab Emirates",
          "Serbia",
          "Belarus",
          "Denmark",
          "Egypt",
          "Dominican Republic",
          "Norway",
          "Czechia",
          "Philippines",
          "Australia",
          "Malaysia",
          "Panama",
          "Colombia",
          "Finland",
          "Luxembourg"
         ],
         "hoveron": "points",
         "hovertemplate": "%{customdata}: %{y:.2f}<extra></extra>",
         "jitter": 0.1,
         "line": {
          "color": "rgb(44, 160, 44)"
         },
         "meanline": {
          "visible": true
         },
         "name": "skewnorm",
         "pointpos": 0,
         "points": "all",
         "type": "violin",
         "xaxis": "x",
         "y": [
          -0.4849069188734109,
          -0.480313508176605,
          -0.4445708244592943,
          -0.5613130494718723,
          0.5210414356014341,
          0.1041785045245252,
          -0.44118614614813045,
          -0.7023521212473596,
          -0.781343746986586,
          -0.6383756210826607,
          -0.7642513766643417,
          -0.38564838548137226,
          -0.43397865653712664,
          -0.27952941517173446,
          -0.23200983180452936,
          -0.5460963431394027,
          -0.7540572209347524,
          -0.6000374901531033,
          -0.766114694909964,
          0.10340855995902126,
          -0.6798831834659012,
          -0.2539733063784554,
          0.17845776434743077,
          -0.7005185566484484,
          -0.6419344674472536,
          -0.07743271841940075,
          -0.38440836080660007,
          -0.2562295046374143,
          -0.5939273677520317,
          -0.7532402236297967,
          -0.8503949543272594,
          -0.5877186947042663,
          -0.6641973179837158,
          -0.5427692390032147,
          -0.10445454249365108,
          -0.17811149204060311,
          -0.6537366467373644,
          -0.6286752327335259,
          -0.2913190470017906,
          -0.4974682357979395,
          0.032291966616275175,
          -0.8848304677324307,
          -0.7726731501682703,
          -0.9679096260763381,
          -0.4146462095951409,
          -0.5229400120055568,
          -0.4662564977196235,
          -0.5525335722167772,
          -0.35590147670021166,
          -0.6472787581242249
         ],
         "yaxis": "y"
        },
        {
         "bandwidth": 0.2,
         "box": {
          "visible": false
         },
         "customdata": [
          "Singapore",
          "Saudi Arabia",
          "Qatar",
          "Russia",
          "United States",
          "Japan",
          "France",
          "Spain",
          "Italy",
          "United Kingdom",
          "Germany",
          "Turkey",
          "Iran",
          "Brazil",
          "China",
          "Canada",
          "Belgium",
          "India",
          "Netherlands",
          "Ireland",
          "Switzerland",
          "Mexico",
          "Peru",
          "Sweden",
          "Portugal",
          "Pakistan",
          "Ukraine",
          "Indonesia",
          "Austria",
          "Israel",
          "Ecuador",
          "Chile",
          "Poland",
          "Romania",
          "Korea, South",
          "United Arab Emirates",
          "Serbia",
          "Belarus",
          "Denmark",
          "Egypt",
          "Dominican Republic",
          "Norway",
          "Czechia",
          "Philippines",
          "Australia",
          "Malaysia",
          "Panama",
          "Colombia",
          "Finland",
          "Luxembourg"
         ],
         "hoveron": "points",
         "hovertemplate": "%{customdata}: %{y:.2f}<extra></extra>",
         "jitter": 0.1,
         "line": {
          "color": "rgb(44, 160, 44)"
         },
         "meanline": {
          "visible": true
         },
         "name": "skewnorm",
         "pointpos": 0,
         "points": "all",
         "type": "violin",
         "xaxis": "x2",
         "y": [
          -0.3872388975060021,
          -0.4314620913602276,
          -0.3648892160385355,
          -0.515380076036292,
          0.7599789475400628,
          0.24668585760259518,
          -0.05608013960181978,
          -0.7632588971542905,
          -0.9611969178165316,
          -0.703827615875661,
          -0.8113264769749877,
          -0.3333986414727822,
          -0.35320128079144986,
          -0.18387687051121399,
          -0.11392757427353312,
          -0.5342209637844393,
          -0.8764519150171123,
          -0.5468479284379563,
          -0.9451516568354662,
          0.300016012657183,
          -0.746788267378663,
          -0.1648507602536073,
          0.3148057371440645,
          -0.621737830455927,
          -0.6968945301402438,
          0.06102503556807304,
          0.02444877756359919,
          -0.12132575441890317,
          -0.5569519471340505,
          -0.8319540834811959,
          0.21074300711596095,
          -0.6307267387953599,
          -0.7341564535206433,
          -0.5715312310605232,
          0.10722567872496767,
          -0.04719013017821413,
          -0.5027978243994046,
          -0.436940703822825,
          -0.17173560970719673,
          -0.34976207646934304,
          0.18707113552048282,
          -0.8836329367391428,
          -0.7839956573915715,
          -1.0519570532896456,
          -0.27727084825996645,
          -0.5159574753545714,
          -0.4102098692074505,
          -0.44643841619731095,
          -0.2672235251412145,
          -0.6886153756207164
         ],
         "yaxis": "y2"
        },
        {
         "bandwidth": 0.2,
         "box": {
          "visible": false
         },
         "customdata": [
          "Singapore",
          "Saudi Arabia",
          "Qatar",
          "Russia",
          "United States",
          "Japan",
          "France",
          "Spain",
          "Italy",
          "United Kingdom",
          "Germany",
          "Turkey",
          "Iran",
          "Brazil",
          "China",
          "Canada",
          "Belgium",
          "India",
          "Netherlands",
          "Ireland",
          "Switzerland",
          "Mexico",
          "Peru",
          "Sweden",
          "Portugal",
          "Pakistan",
          "Ukraine",
          "Indonesia",
          "Austria",
          "Israel",
          "Ecuador",
          "Chile",
          "Poland",
          "Romania",
          "Korea, South",
          "United Arab Emirates",
          "Serbia",
          "Belarus",
          "Denmark",
          "Egypt",
          "Dominican Republic",
          "Norway",
          "Czechia",
          "Philippines",
          "Australia",
          "Malaysia",
          "Panama",
          "Colombia",
          "Finland",
          "Luxembourg"
         ],
         "hoveron": "points",
         "hovertemplate": "%{customdata}: %{y:.2f}<extra></extra>",
         "jitter": 0.1,
         "line": {
          "color": "rgb(214, 39, 40)"
         },
         "meanline": {
          "visible": true
         },
         "name": "richards",
         "pointpos": 0,
         "points": "all",
         "type": "violin",
         "xaxis": "x",
         "y": [
          -0.8216706460522183,
          -0.6372674459550173,
          -0.47655777751690376,
          -0.6349322463648397,
          -0.6581327477418287,
          -0.8021133048262756,
          -0.3760017671265934,
          -0.527658606353741,
          -0.4567397238438901,
          -0.6393539113649823,
          -0.7937613212443937,
          -0.5030784659236374,
          -0.6360412623163609,
          -0.4434889708996037,
          -0.5724737616422049,
          -0.3077970064474082,
          -0.46155601468891244,
          -0.5606852357382307,
          -0.4074240603336549,
          -0.92521741608372,
          -0.5915961035616512,
          -0.43524955778636454,
          -0.9559625160420729,
          -0.7084024421061836,
          -0.4941833625208757,
          -0.31147385758190044,
          -0.1642321327072555,
          -0.35101821116382576,
          -0.7360337387768868,
          -0.42892900369051373,
          -0.35190677423709105,
          -0.3805197764598801,
          -0.5241832369852477,
          -0.52640320616267,
          -0.01375886895063246,
          -0.9576675719710326,
          -0.6372475738132011,
          -0.4461018681198703,
          -0.7377600096935488,
          -0.635252276504237,
          -0.15335275163264692,
          -0.768460315634489,
          -0.8307817017651209,
          -0.37236478983983323,
          -1.0573176364216879,
          -0.5693353284005249,
          -0.4740720820052521,
          -0.5172227881193008,
          -0.48249461671615657,
          -0.48598391457955764
         ],
         "yaxis": "y"
        },
        {
         "bandwidth": 0.2,
         "box": {
          "visible": false
         },
         "customdata": [
          "Singapore",
          "Saudi Arabia",
          "Qatar",
          "Russia",
          "United States",
          "Japan",
          "France",
          "Spain",
          "Italy",
          "United Kingdom",
          "Germany",
          "Turkey",
          "Iran",
          "Brazil",
          "China",
          "Canada",
          "Belgium",
          "India",
          "Netherlands",
          "Ireland",
          "Switzerland",
          "Mexico",
          "Peru",
          "Sweden",
          "Portugal",
          "Pakistan",
          "Ukraine",
          "Indonesia",
          "Austria",
          "Israel",
          "Ecuador",
          "Chile",
          "Poland",
          "Romania",
          "Korea, South",
          "United Arab Emirates",
          "Serbia",
          "Belarus",
          "Denmark",
          "Egypt",
          "Dominican Republic",
          "Norway",
          "Czechia",
          "Philippines",
          "Australia",
          "Malaysia",
          "Panama",
          "Colombia",
          "Finland",
          "Luxembourg"
         ],
         "hoveron": "points",
         "hovertemplate": "%{customdata}: %{y:.2f}<extra></extra>",
         "jitter": 0.1,
         "line": {
          "color": "rgb(214, 39, 40)"
         },
         "meanline": {
          "visible": true
         },
         "name": "richards",
         "pointpos": 0,
         "points": "all",
         "type": "violin",
         "xaxis": "x2",
         "y": [
          -0.7852444619062597,
          -0.6430528905485157,
          -0.4023371885811306,
          -0.6344590452900388,
          -0.6373277261464045,
          -0.734191523769889,
          0.01927428066782945,
          -0.49602284817140324,
          -0.36709320005932494,
          -0.7053463651692373,
          -0.8580485479894896,
          -0.5268245648583147,
          -0.6012587753227912,
          -0.38681340647038104,
          -0.5009370625513883,
          -0.20713797670263473,
          -0.4213759033553279,
          -0.49867416641441953,
          -0.3178400420295041,
          -0.7601801321143256,
          -0.5911820821939626,
          -0.3992738627485961,
          -0.9138651194078569,
          -0.6307598002891374,
          -0.46232966654963203,
          -0.21336942732568484,
          0.2848810444286436,
          -0.23405819407954562,
          -0.7637724541612683,
          -0.3504654106877884,
          0.5140288475910865,
          -0.2754048473327948,
          -0.5287227343192407,
          -0.546571443066141,
          0.19448066222563626,
          -0.9255657408040684,
          -0.48498833326200913,
          -0.20374015977095605,
          -0.6739105490297871,
          -0.49887803357885324,
          -0.016338411552610697,
          -0.7384826158569479,
          -0.863409928858904,
          -0.29014700692544115,
          -1.134566351139638,
          -0.5864642265386083,
          -0.41993050103144497,
          -0.40379390757342337,
          -0.4226510526061837,
          -0.3929984334705522
         ],
         "yaxis": "y2"
        },
        {
         "bandwidth": 0.2,
         "box": {
          "visible": false
         },
         "customdata": [
          "Singapore",
          "Saudi Arabia",
          "Qatar",
          "Russia",
          "United States",
          "Japan",
          "France",
          "Spain",
          "Italy",
          "United Kingdom",
          "Germany",
          "Turkey",
          "Iran",
          "Brazil",
          "China",
          "Canada",
          "Belgium",
          "India",
          "Netherlands",
          "Ireland",
          "Switzerland",
          "Mexico",
          "Peru",
          "Sweden",
          "Portugal",
          "Pakistan",
          "Ukraine",
          "Indonesia",
          "Austria",
          "Israel",
          "Ecuador",
          "Chile",
          "Poland",
          "Romania",
          "Korea, South",
          "United Arab Emirates",
          "Serbia",
          "Belarus",
          "Denmark",
          "Egypt",
          "Dominican Republic",
          "Norway",
          "Czechia",
          "Philippines",
          "Australia",
          "Malaysia",
          "Panama",
          "Colombia",
          "Finland",
          "Luxembourg"
         ],
         "hoveron": "points",
         "hovertemplate": "%{customdata}: %{y:.2f}<extra></extra>",
         "jitter": 0.1,
         "line": {
          "color": "rgb(148, 103, 189)"
         },
         "meanline": {
          "visible": true
         },
         "name": "loglogistic",
         "pointpos": 0,
         "points": "all",
         "type": "violin",
         "xaxis": "x",
         "y": [
          1.3916957308190763,
          0.37879240093522015,
          -0.03402272538155709,
          1.295214518783017,
          -0.7205059997732409,
          -0.8012714499462444,
          -0.565748952650074,
          -0.5494195958491527,
          -0.5093221557784311,
          -0.5454500915058377,
          -0.8177702116731848,
          -0.6039623574793911,
          -0.6708819724184437,
          -0.5229427664010031,
          -0.919934042172129,
          -0.675950350631621,
          -0.40598364923546265,
          -0.1683765589551099,
          -0.4835468245673039,
          -0.9252101047083605,
          -0.5559729748672289,
          -0.5292880287273699,
          -0.9559630450697518,
          -0.86886999264236,
          -0.5252513264853975,
          -1.0527310738083262,
          -1.025600555166538,
          -0.7482000405296829,
          -0.8772644189859117,
          -0.5635870975142432,
          -0.9342512447575788,
          -0.6080217078326525,
          -0.44222083668182144,
          -0.4370716784591787,
          -1.1468596433510168,
          -0.7904176840941799,
          -0.8286954686767163,
          -0.3350062941527126,
          -0.7377601452218413,
          -1.0418334132870462,
          -1.201316053807788,
          -0.8894519489199103,
          -0.8848403295620253,
          -0.3822063089253167,
          -1.1030678563514231,
          -0.5374887846129386,
          -0.6117571991258794,
          -0.5809568152801898,
          -0.6193554038574579,
          -0.6430915238558865
         ],
         "yaxis": "y"
        },
        {
         "bandwidth": 0.2,
         "box": {
          "visible": false
         },
         "customdata": [
          "Singapore",
          "Saudi Arabia",
          "Qatar",
          "Russia",
          "United States",
          "Japan",
          "France",
          "Spain",
          "Italy",
          "United Kingdom",
          "Germany",
          "Turkey",
          "Iran",
          "Brazil",
          "China",
          "Canada",
          "Belgium",
          "India",
          "Netherlands",
          "Ireland",
          "Switzerland",
          "Mexico",
          "Peru",
          "Sweden",
          "Portugal",
          "Pakistan",
          "Ukraine",
          "Indonesia",
          "Austria",
          "Israel",
          "Ecuador",
          "Chile",
          "Poland",
          "Romania",
          "Korea, South",
          "United Arab Emirates",
          "Serbia",
          "Belarus",
          "Denmark",
          "Egypt",
          "Dominican Republic",
          "Norway",
          "Czechia",
          "Philippines",
          "Australia",
          "Malaysia",
          "Panama",
          "Colombia",
          "Finland",
          "Luxembourg"
         ],
         "hoveron": "points",
         "hovertemplate": "%{customdata}: %{y:.2f}<extra></extra>",
         "jitter": 0.1,
         "line": {
          "color": "rgb(148, 103, 189)"
         },
         "meanline": {
          "visible": true
         },
         "name": "loglogistic",
         "pointpos": 0,
         "points": "all",
         "type": "violin",
         "xaxis": "x2",
         "y": [
          1.393567819158956,
          0.5635839582841708,
          0.09826735716041357,
          1.3535949292271792,
          -0.7495393073735921,
          -0.7332246405154922,
          -0.2004612037516582,
          -0.5280767359224413,
          -0.45265427417166765,
          -0.5623000204886627,
          -0.8966216040197377,
          -0.7045618487527308,
          -0.6452612074984047,
          -0.48690476351857503,
          -0.9168267041575978,
          -0.7255864427782924,
          -0.3416118942845881,
          -0.029152107611880182,
          -0.4378061748820958,
          -0.7601723410142575,
          -0.5312959046316017,
          -0.5245470945834825,
          -0.9138657498237165,
          -0.8164068897055881,
          -0.5100856676502269,
          -1.1472264514210682,
          -0.742923785429092,
          -0.7173146131596791,
          -0.9836483997970917,
          -0.5415250941610676,
          0.15959121582122393,
          -0.6688592804274635,
          -0.4128238140687113,
          -0.41319602058354693,
          -1.2441057508736015,
          -0.7289102519105476,
          -0.6930940537839334,
          -0.06266802979516513,
          -0.6739107064433546,
          -0.9488208645119115,
          -1.3738980478451708,
          -0.8894709330263234,
          -0.9385952847082498,
          -0.3020822872899032,
          -1.2054985800865972,
          -0.5379051411158421,
          -0.5929791141908979,
          -0.4808447326446581,
          -0.593494252849154,
          -0.6803123980099636
         ],
         "yaxis": "y2"
        },
        {
         "bandwidth": 0.2,
         "box": {
          "visible": false
         },
         "customdata": [
          "Singapore",
          "Saudi Arabia",
          "Qatar",
          "Russia",
          "United States",
          "Japan",
          "France",
          "Spain",
          "Italy",
          "United Kingdom",
          "Germany",
          "Turkey",
          "Iran",
          "Brazil",
          "China",
          "Canada",
          "Belgium",
          "India",
          "Netherlands",
          "Ireland",
          "Switzerland",
          "Mexico",
          "Peru",
          "Sweden",
          "Portugal",
          "Pakistan",
          "Ukraine",
          "Indonesia",
          "Austria",
          "Israel",
          "Ecuador",
          "Chile",
          "Poland",
          "Romania",
          "Korea, South",
          "United Arab Emirates",
          "Serbia",
          "Belarus",
          "Denmark",
          "Egypt",
          "Dominican Republic",
          "Norway",
          "Czechia",
          "Philippines",
          "Australia",
          "Malaysia",
          "Panama",
          "Colombia",
          "Finland",
          "Luxembourg"
         ],
         "hoveron": "points",
         "hovertemplate": "%{customdata}: %{y:.2f}<extra></extra>",
         "jitter": 0.1,
         "line": {
          "color": "rgb(140, 86, 75)"
         },
         "meanline": {
          "visible": true
         },
         "name": "invweibull",
         "pointpos": 0,
         "points": "all",
         "type": "violin",
         "xaxis": "x",
         "y": [
          1.476740223655858,
          2.125772053509284,
          2.24019949152867,
          1.6174424174322024,
          -0.8398502107640446,
          2.0029409786664494,
          -0.04907679468384081,
          -0.5380731318974934,
          -0.6102509882408975,
          0.18208070131173532,
          0.34317515722248987,
          -0.41375964407501653,
          1.8719308173389626,
          -0.5416857376846846,
          2.154533213563283,
          -0.7898860152375549,
          -0.5579707601435714,
          -0.2096784230319505,
          -0.6186498771629989,
          1.5201116907959091,
          -0.4552055180750468,
          -0.5194645348309811,
          1.4007792062961317,
          1.69568481678105,
          -0.5894092545300533,
          -0.6141461874384642,
          -0.01895686550692886,
          -0.2865785462201042,
          -0.14228164354042658,
          -0.6696610727929524,
          1.6056711707174898,
          -0.6918054659470114,
          -0.26995698460561285,
          -0.3778911491942671,
          -1.2312773366774101,
          1.673698172801266,
          1.7848340231671478,
          -0.6211203326117066,
          1.7779704932073095,
          1.9261235585551337,
          -0.8852378191324225,
          1.7098667725299286,
          0.4370282749200411,
          -0.6169521932881616,
          1.5962790830801155,
          -0.47494911198161643,
          -0.039400148737962964,
          -0.043586637861994834,
          -0.26865283868459755,
          -0.654601935889237
         ],
         "yaxis": "y"
        },
        {
         "bandwidth": 0.2,
         "box": {
          "visible": false
         },
         "customdata": [
          "Singapore",
          "Saudi Arabia",
          "Qatar",
          "Russia",
          "United States",
          "Japan",
          "France",
          "Spain",
          "Italy",
          "United Kingdom",
          "Germany",
          "Turkey",
          "Iran",
          "Brazil",
          "China",
          "Canada",
          "Belgium",
          "India",
          "Netherlands",
          "Ireland",
          "Switzerland",
          "Mexico",
          "Peru",
          "Sweden",
          "Portugal",
          "Pakistan",
          "Ukraine",
          "Indonesia",
          "Austria",
          "Israel",
          "Ecuador",
          "Chile",
          "Poland",
          "Romania",
          "Korea, South",
          "United Arab Emirates",
          "Serbia",
          "Belarus",
          "Denmark",
          "Egypt",
          "Dominican Republic",
          "Norway",
          "Czechia",
          "Philippines",
          "Australia",
          "Malaysia",
          "Panama",
          "Colombia",
          "Finland",
          "Luxembourg"
         ],
         "hoveron": "points",
         "hovertemplate": "%{customdata}: %{y:.2f}<extra></extra>",
         "jitter": 0.1,
         "line": {
          "color": "rgb(140, 86, 75)"
         },
         "meanline": {
          "visible": true
         },
         "name": "invweibull",
         "pointpos": 0,
         "points": "all",
         "type": "violin",
         "xaxis": "x2",
         "y": [
          1.4611823535106079,
          2.0476173005161593,
          2.2123210774447792,
          1.5631659045315336,
          -0.9845751357091889,
          1.9896378060477335,
          0.395143146618498,
          -0.5113218824672289,
          -0.6273222381096926,
          0.3924781195599875,
          0.5525822402535168,
          -0.3784830529809871,
          1.8604123834247,
          -0.5106868643939874,
          2.1636613112324996,
          -0.9021568823899454,
          -0.5645284786214543,
          -0.07768902796244521,
          -0.6669126925074894,
          1.6539184281967891,
          -0.36997809013705335,
          -0.511339088254957,
          1.4222061252241078,
          1.7676588885089468,
          -0.6112943623031925,
          -0.5821549006860439,
          0.4558732279365519,
          -0.15731404350971076,
          0.022840907290742254,
          -0.7006486266725132,
          1.6921728600391073,
          -0.8336479206894696,
          -0.1788696924033491,
          -0.3273891327456129,
          -1.398027902394306,
          1.7216847632670582,
          1.9232812721035661,
          -0.42725695139242104,
          1.8112113794754798,
          2.0336311118608585,
          -0.9203208062074493,
          1.727643975322007,
          0.6093325220914406,
          -0.5930058542224673,
          1.4775548914203434,
          -0.4445803301894873,
          0.10486686190584925,
          0.157859564786736,
          -0.16151385531957832,
          -0.7032269158465208
         ],
         "yaxis": "y2"
        },
        {
         "bandwidth": 0.2,
         "box": {
          "visible": false
         },
         "customdata": [
          "Singapore",
          "Saudi Arabia",
          "Qatar",
          "Russia",
          "United States",
          "Japan",
          "France",
          "Spain",
          "Italy",
          "United Kingdom",
          "Germany",
          "Turkey",
          "Iran",
          "Brazil",
          "China",
          "Canada",
          "Belgium",
          "India",
          "Netherlands",
          "Ireland",
          "Switzerland",
          "Mexico",
          "Peru",
          "Sweden",
          "Portugal",
          "Pakistan",
          "Ukraine",
          "Indonesia",
          "Austria",
          "Israel",
          "Ecuador",
          "Chile",
          "Poland",
          "Romania",
          "Korea, South",
          "United Arab Emirates",
          "Serbia",
          "Belarus",
          "Denmark",
          "Egypt",
          "Dominican Republic",
          "Norway",
          "Czechia",
          "Philippines",
          "Australia",
          "Malaysia",
          "Panama",
          "Colombia",
          "Finland",
          "Luxembourg"
         ],
         "hoveron": "points",
         "hovertemplate": "%{customdata}: %{y:.2f}<extra></extra>",
         "jitter": 0.1,
         "line": {
          "color": "rgb(227, 119, 194)"
         },
         "meanline": {
          "visible": true
         },
         "name": "gompertz",
         "pointpos": 0,
         "points": "all",
         "type": "violin",
         "xaxis": "x",
         "y": [
          -0.2685039941848016,
          -0.3014511384965749,
          -0.3754138642540727,
          -0.5232843741292077,
          -0.6582820181540575,
          0.19420008517007348,
          -0.36578503834263787,
          -0.5277513175836479,
          -0.457135408119689,
          -0.3367455134061016,
          -0.41374340141955185,
          -0.5036131128748035,
          0.9320770970266758,
          -0.44629604715656296,
          -0.23747757006818673,
          -0.3079367314820831,
          -0.46159726945033597,
          -0.42246934578232553,
          -0.4075321095152326,
          1.048716127108085,
          -0.5916661211524475,
          -0.44174038038350383,
          1.1101933438918454,
          0.4626110506843268,
          -0.4942303514519423,
          -0.3116682331898551,
          -0.16657748284358212,
          -0.3512375602263536,
          -0.4983108637577232,
          -0.42894300598981744,
          0.5791700143590615,
          -0.380602176926141,
          -0.4903624775201843,
          -0.5224546332208959,
          -0.013990622964171301,
          1.0815287957796298,
          0.9291222488247399,
          -0.4461373916772547,
          1.0179477662511007,
          0.49117380078919193,
          -0.15352542196589236,
          0.2163282428524855,
          -0.3625440034226183,
          -0.37247874600193714,
          0.8050319026842397,
          -0.5693742674493741,
          -0.4061137541968968,
          -0.4057395098802579,
          -0.48265727649859996,
          -0.4860412308956801
         ],
         "yaxis": "y"
        },
        {
         "bandwidth": 0.2,
         "box": {
          "visible": false
         },
         "customdata": [
          "Singapore",
          "Saudi Arabia",
          "Qatar",
          "Russia",
          "United States",
          "Japan",
          "France",
          "Spain",
          "Italy",
          "United Kingdom",
          "Germany",
          "Turkey",
          "Iran",
          "Brazil",
          "China",
          "Canada",
          "Belgium",
          "India",
          "Netherlands",
          "Ireland",
          "Switzerland",
          "Mexico",
          "Peru",
          "Sweden",
          "Portugal",
          "Pakistan",
          "Ukraine",
          "Indonesia",
          "Austria",
          "Israel",
          "Ecuador",
          "Chile",
          "Poland",
          "Romania",
          "Korea, South",
          "United Arab Emirates",
          "Serbia",
          "Belarus",
          "Denmark",
          "Egypt",
          "Dominican Republic",
          "Norway",
          "Czechia",
          "Philippines",
          "Australia",
          "Malaysia",
          "Panama",
          "Colombia",
          "Finland",
          "Luxembourg"
         ],
         "hoveron": "points",
         "hovertemplate": "%{customdata}: %{y:.2f}<extra></extra>",
         "jitter": 0.1,
         "line": {
          "color": "rgb(227, 119, 194)"
         },
         "meanline": {
          "visible": true
         },
         "name": "gompertz",
         "pointpos": 0,
         "points": "all",
         "type": "violin",
         "xaxis": "x2",
         "y": [
          -0.27283745003290194,
          -0.3032170908770244,
          -0.45293027766287497,
          -0.5115990153750061,
          -0.6848956794803821,
          0.13159680143967792,
          -0.9912281107237896,
          -0.5726390945432506,
          -0.4198721262506269,
          -0.3555723358794664,
          -0.3792850792694234,
          -0.5961300079418201,
          0.9410258523658251,
          -0.6034959769090493,
          -0.31265053732157305,
          -0.2979798212982086,
          -0.5028769440339664,
          -0.6158615391784293,
          -0.37680623581488937,
          0.8195390759385787,
          -0.6475805159144293,
          -0.5582100901294118,
          1.0135563939755803,
          0.39746525981723146,
          -0.5335404235326077,
          -0.42046387175568045,
          -0.8028161267752656,
          -0.5576858011531908,
          -0.5034655093283341,
          -0.428465412037275,
          -0.6148165172421802,
          -0.32979063218927435,
          -0.5881879577888613,
          -0.6331582382419257,
          0.1372124716744174,
          0.996520407528331,
          0.748123929065933,
          -0.9942492075205668,
          0.9443400195866508,
          0.3418674143197361,
          -0.12961889817078573,
          0.21828990182413618,
          -0.3701412834824606,
          -0.46291695542788375,
          0.8198625308122447,
          -0.6681412055428012,
          -0.5517104830551552,
          -0.6809584989282307,
          -0.6666766211251182,
          -0.43893156740204714
         ],
         "yaxis": "y2"
        }
       ],
       "layout": {
        "height": 700,
        "showlegend": false,
        "template": {
         "data": {
          "bar": [
           {
            "error_x": {
             "color": "#2a3f5f"
            },
            "error_y": {
             "color": "#2a3f5f"
            },
            "marker": {
             "line": {
              "color": "#E5ECF6",
              "width": 0.5
             }
            },
            "type": "bar"
           }
          ],
          "barpolar": [
           {
            "marker": {
             "line": {
              "color": "#E5ECF6",
              "width": 0.5
             }
            },
            "type": "barpolar"
           }
          ],
          "carpet": [
           {
            "aaxis": {
             "endlinecolor": "#2a3f5f",
             "gridcolor": "white",
             "linecolor": "white",
             "minorgridcolor": "white",
             "startlinecolor": "#2a3f5f"
            },
            "baxis": {
             "endlinecolor": "#2a3f5f",
             "gridcolor": "white",
             "linecolor": "white",
             "minorgridcolor": "white",
             "startlinecolor": "#2a3f5f"
            },
            "type": "carpet"
           }
          ],
          "choropleth": [
           {
            "colorbar": {
             "outlinewidth": 0,
             "ticks": ""
            },
            "type": "choropleth"
           }
          ],
          "contour": [
           {
            "colorbar": {
             "outlinewidth": 0,
             "ticks": ""
            },
            "colorscale": [
             [
              0,
              "#0d0887"
             ],
             [
              0.1111111111111111,
              "#46039f"
             ],
             [
              0.2222222222222222,
              "#7201a8"
             ],
             [
              0.3333333333333333,
              "#9c179e"
             ],
             [
              0.4444444444444444,
              "#bd3786"
             ],
             [
              0.5555555555555556,
              "#d8576b"
             ],
             [
              0.6666666666666666,
              "#ed7953"
             ],
             [
              0.7777777777777778,
              "#fb9f3a"
             ],
             [
              0.8888888888888888,
              "#fdca26"
             ],
             [
              1,
              "#f0f921"
             ]
            ],
            "type": "contour"
           }
          ],
          "contourcarpet": [
           {
            "colorbar": {
             "outlinewidth": 0,
             "ticks": ""
            },
            "type": "contourcarpet"
           }
          ],
          "heatmap": [
           {
            "colorbar": {
             "outlinewidth": 0,
             "ticks": ""
            },
            "colorscale": [
             [
              0,
              "#0d0887"
             ],
             [
              0.1111111111111111,
              "#46039f"
             ],
             [
              0.2222222222222222,
              "#7201a8"
             ],
             [
              0.3333333333333333,
              "#9c179e"
             ],
             [
              0.4444444444444444,
              "#bd3786"
             ],
             [
              0.5555555555555556,
              "#d8576b"
             ],
             [
              0.6666666666666666,
              "#ed7953"
             ],
             [
              0.7777777777777778,
              "#fb9f3a"
             ],
             [
              0.8888888888888888,
              "#fdca26"
             ],
             [
              1,
              "#f0f921"
             ]
            ],
            "type": "heatmap"
           }
          ],
          "heatmapgl": [
           {
            "colorbar": {
             "outlinewidth": 0,
             "ticks": ""
            },
            "colorscale": [
             [
              0,
              "#0d0887"
             ],
             [
              0.1111111111111111,
              "#46039f"
             ],
             [
              0.2222222222222222,
              "#7201a8"
             ],
             [
              0.3333333333333333,
              "#9c179e"
             ],
             [
              0.4444444444444444,
              "#bd3786"
             ],
             [
              0.5555555555555556,
              "#d8576b"
             ],
             [
              0.6666666666666666,
              "#ed7953"
             ],
             [
              0.7777777777777778,
              "#fb9f3a"
             ],
             [
              0.8888888888888888,
              "#fdca26"
             ],
             [
              1,
              "#f0f921"
             ]
            ],
            "type": "heatmapgl"
           }
          ],
          "histogram": [
           {
            "marker": {
             "colorbar": {
              "outlinewidth": 0,
              "ticks": ""
             }
            },
            "type": "histogram"
           }
          ],
          "histogram2d": [
           {
            "colorbar": {
             "outlinewidth": 0,
             "ticks": ""
            },
            "colorscale": [
             [
              0,
              "#0d0887"
             ],
             [
              0.1111111111111111,
              "#46039f"
             ],
             [
              0.2222222222222222,
              "#7201a8"
             ],
             [
              0.3333333333333333,
              "#9c179e"
             ],
             [
              0.4444444444444444,
              "#bd3786"
             ],
             [
              0.5555555555555556,
              "#d8576b"
             ],
             [
              0.6666666666666666,
              "#ed7953"
             ],
             [
              0.7777777777777778,
              "#fb9f3a"
             ],
             [
              0.8888888888888888,
              "#fdca26"
             ],
             [
              1,
              "#f0f921"
             ]
            ],
            "type": "histogram2d"
           }
          ],
          "histogram2dcontour": [
           {
            "colorbar": {
             "outlinewidth": 0,
             "ticks": ""
            },
            "colorscale": [
             [
              0,
              "#0d0887"
             ],
             [
              0.1111111111111111,
              "#46039f"
             ],
             [
              0.2222222222222222,
              "#7201a8"
             ],
             [
              0.3333333333333333,
              "#9c179e"
             ],
             [
              0.4444444444444444,
              "#bd3786"
             ],
             [
              0.5555555555555556,
              "#d8576b"
             ],
             [
              0.6666666666666666,
              "#ed7953"
             ],
             [
              0.7777777777777778,
              "#fb9f3a"
             ],
             [
              0.8888888888888888,
              "#fdca26"
             ],
             [
              1,
              "#f0f921"
             ]
            ],
            "type": "histogram2dcontour"
           }
          ],
          "mesh3d": [
           {
            "colorbar": {
             "outlinewidth": 0,
             "ticks": ""
            },
            "type": "mesh3d"
           }
          ],
          "parcoords": [
           {
            "line": {
             "colorbar": {
              "outlinewidth": 0,
              "ticks": ""
             }
            },
            "type": "parcoords"
           }
          ],
          "pie": [
           {
            "automargin": true,
            "type": "pie"
           }
          ],
          "scatter": [
           {
            "marker": {
             "colorbar": {
              "outlinewidth": 0,
              "ticks": ""
             }
            },
            "type": "scatter"
           }
          ],
          "scatter3d": [
           {
            "line": {
             "colorbar": {
              "outlinewidth": 0,
              "ticks": ""
             }
            },
            "marker": {
             "colorbar": {
              "outlinewidth": 0,
              "ticks": ""
             }
            },
            "type": "scatter3d"
           }
          ],
          "scattercarpet": [
           {
            "marker": {
             "colorbar": {
              "outlinewidth": 0,
              "ticks": ""
             }
            },
            "type": "scattercarpet"
           }
          ],
          "scattergeo": [
           {
            "marker": {
             "colorbar": {
              "outlinewidth": 0,
              "ticks": ""
             }
            },
            "type": "scattergeo"
           }
          ],
          "scattergl": [
           {
            "marker": {
             "colorbar": {
              "outlinewidth": 0,
              "ticks": ""
             }
            },
            "type": "scattergl"
           }
          ],
          "scattermapbox": [
           {
            "marker": {
             "colorbar": {
              "outlinewidth": 0,
              "ticks": ""
             }
            },
            "type": "scattermapbox"
           }
          ],
          "scatterpolar": [
           {
            "marker": {
             "colorbar": {
              "outlinewidth": 0,
              "ticks": ""
             }
            },
            "type": "scatterpolar"
           }
          ],
          "scatterpolargl": [
           {
            "marker": {
             "colorbar": {
              "outlinewidth": 0,
              "ticks": ""
             }
            },
            "type": "scatterpolargl"
           }
          ],
          "scatterternary": [
           {
            "marker": {
             "colorbar": {
              "outlinewidth": 0,
              "ticks": ""
             }
            },
            "type": "scatterternary"
           }
          ],
          "surface": [
           {
            "colorbar": {
             "outlinewidth": 0,
             "ticks": ""
            },
            "colorscale": [
             [
              0,
              "#0d0887"
             ],
             [
              0.1111111111111111,
              "#46039f"
             ],
             [
              0.2222222222222222,
              "#7201a8"
             ],
             [
              0.3333333333333333,
              "#9c179e"
             ],
             [
              0.4444444444444444,
              "#bd3786"
             ],
             [
              0.5555555555555556,
              "#d8576b"
             ],
             [
              0.6666666666666666,
              "#ed7953"
             ],
             [
              0.7777777777777778,
              "#fb9f3a"
             ],
             [
              0.8888888888888888,
              "#fdca26"
             ],
             [
              1,
              "#f0f921"
             ]
            ],
            "type": "surface"
           }
          ],
          "table": [
           {
            "cells": {
             "fill": {
              "color": "#EBF0F8"
             },
             "line": {
              "color": "white"
             }
            },
            "header": {
             "fill": {
              "color": "#C8D4E3"
             },
             "line": {
              "color": "white"
             }
            },
            "type": "table"
           }
          ]
         },
         "layout": {
          "annotationdefaults": {
           "arrowcolor": "#2a3f5f",
           "arrowhead": 0,
           "arrowwidth": 1
          },
          "coloraxis": {
           "colorbar": {
            "outlinewidth": 0,
            "ticks": ""
           }
          },
          "colorscale": {
           "diverging": [
            [
             0,
             "#8e0152"
            ],
            [
             0.1,
             "#c51b7d"
            ],
            [
             0.2,
             "#de77ae"
            ],
            [
             0.3,
             "#f1b6da"
            ],
            [
             0.4,
             "#fde0ef"
            ],
            [
             0.5,
             "#f7f7f7"
            ],
            [
             0.6,
             "#e6f5d0"
            ],
            [
             0.7,
             "#b8e186"
            ],
            [
             0.8,
             "#7fbc41"
            ],
            [
             0.9,
             "#4d9221"
            ],
            [
             1,
             "#276419"
            ]
           ],
           "sequential": [
            [
             0,
             "#0d0887"
            ],
            [
             0.1111111111111111,
             "#46039f"
            ],
            [
             0.2222222222222222,
             "#7201a8"
            ],
            [
             0.3333333333333333,
             "#9c179e"
            ],
            [
             0.4444444444444444,
             "#bd3786"
            ],
            [
             0.5555555555555556,
             "#d8576b"
            ],
            [
             0.6666666666666666,
             "#ed7953"
            ],
            [
             0.7777777777777778,
             "#fb9f3a"
            ],
            [
             0.8888888888888888,
             "#fdca26"
            ],
            [
             1,
             "#f0f921"
            ]
           ],
           "sequentialminus": [
            [
             0,
             "#0d0887"
            ],
            [
             0.1111111111111111,
             "#46039f"
            ],
            [
             0.2222222222222222,
             "#7201a8"
            ],
            [
             0.3333333333333333,
             "#9c179e"
            ],
            [
             0.4444444444444444,
             "#bd3786"
            ],
            [
             0.5555555555555556,
             "#d8576b"
            ],
            [
             0.6666666666666666,
             "#ed7953"
            ],
            [
             0.7777777777777778,
             "#fb9f3a"
            ],
            [
             0.8888888888888888,
             "#fdca26"
            ],
            [
             1,
             "#f0f921"
            ]
           ]
          },
          "colorway": [
           "#636efa",
           "#EF553B",
           "#00cc96",
           "#ab63fa",
           "#FFA15A",
           "#19d3f3",
           "#FF6692",
           "#B6E880",
           "#FF97FF",
           "#FECB52"
          ],
          "font": {
           "color": "#2a3f5f"
          },
          "geo": {
           "bgcolor": "white",
           "lakecolor": "white",
           "landcolor": "#E5ECF6",
           "showlakes": true,
           "showland": true,
           "subunitcolor": "white"
          },
          "hoverlabel": {
           "align": "left"
          },
          "hovermode": "closest",
          "mapbox": {
           "style": "light"
          },
          "paper_bgcolor": "white",
          "plot_bgcolor": "#E5ECF6",
          "polar": {
           "angularaxis": {
            "gridcolor": "white",
            "linecolor": "white",
            "ticks": ""
           },
           "bgcolor": "#E5ECF6",
           "radialaxis": {
            "gridcolor": "white",
            "linecolor": "white",
            "ticks": ""
           }
          },
          "scene": {
           "xaxis": {
            "backgroundcolor": "#E5ECF6",
            "gridcolor": "white",
            "gridwidth": 2,
            "linecolor": "white",
            "showbackground": true,
            "ticks": "",
            "zerolinecolor": "white"
           },
           "yaxis": {
            "backgroundcolor": "#E5ECF6",
            "gridcolor": "white",
            "gridwidth": 2,
            "linecolor": "white",
            "showbackground": true,
            "ticks": "",
            "zerolinecolor": "white"
           },
           "zaxis": {
            "backgroundcolor": "#E5ECF6",
            "gridcolor": "white",
            "gridwidth": 2,
            "linecolor": "white",
            "showbackground": true,
            "ticks": "",
            "zerolinecolor": "white"
           }
          },
          "shapedefaults": {
           "line": {
            "color": "#2a3f5f"
           }
          },
          "ternary": {
           "aaxis": {
            "gridcolor": "white",
            "linecolor": "white",
            "ticks": ""
           },
           "baxis": {
            "gridcolor": "white",
            "linecolor": "white",
            "ticks": ""
           },
           "bgcolor": "#E5ECF6",
           "caxis": {
            "gridcolor": "white",
            "linecolor": "white",
            "ticks": ""
           }
          },
          "title": {
           "x": 0.05
          },
          "xaxis": {
           "automargin": true,
           "gridcolor": "white",
           "linecolor": "white",
           "ticks": "",
           "title": {
            "standoff": 15
           },
           "zerolinecolor": "white",
           "zerolinewidth": 2
          },
          "yaxis": {
           "automargin": true,
           "gridcolor": "white",
           "linecolor": "white",
           "ticks": "",
           "title": {
            "standoff": 15
           },
           "zerolinecolor": "white",
           "zerolinewidth": 2
          }
         }
        },
        "title": {
         "text": "Comparison of Models Fit on Country Data",
         "x": 0.5
        },
        "width": 800,
        "xaxis": {
         "anchor": "y",
         "domain": [
          0,
          1
         ],
         "linecolor": "black",
         "linewidth": 1.5,
         "mirror": true,
         "showline": true
        },
        "xaxis2": {
         "anchor": "y2",
         "domain": [
          0,
          1
         ],
         "linecolor": "black",
         "linewidth": 1.5,
         "mirror": true,
         "showline": true
        },
        "yaxis": {
         "anchor": "x",
         "domain": [
          0.575,
          1
         ],
         "linecolor": "black",
         "linewidth": 1.5,
         "mirror": true,
         "showline": true,
         "title": {
          "text": "Standardized RMSE Score"
         }
        },
        "yaxis2": {
         "anchor": "x2",
         "domain": [
          0,
          0.425
         ],
         "linecolor": "black",
         "linewidth": 1.5,
         "mirror": true,
         "showline": true,
         "title": {
          "text": "Standardized BIC Score"
         }
        }
       }
      },
      "text/html": [
       "<div>\n",
       "        \n",
       "        \n",
       "            <div id=\"9933bfc3-60b3-4e5e-8d69-331556e685e0\" class=\"plotly-graph-div\" style=\"height:700px; width:800px;\"></div>\n",
       "            <script type=\"text/javascript\">\n",
       "                require([\"plotly\"], function(Plotly) {\n",
       "                    window.PLOTLYENV=window.PLOTLYENV || {};\n",
       "                    \n",
       "                if (document.getElementById(\"9933bfc3-60b3-4e5e-8d69-331556e685e0\")) {\n",
       "                    Plotly.newPlot(\n",
       "                        '9933bfc3-60b3-4e5e-8d69-331556e685e0',\n",
       "                        [{\"bandwidth\": 0.2, \"box\": {\"visible\": false}, \"customdata\": [\"Singapore\", \"Saudi Arabia\", \"Qatar\", \"Russia\", \"United States\", \"Japan\", \"France\", \"Spain\", \"Italy\", \"United Kingdom\", \"Germany\", \"Turkey\", \"Iran\", \"Brazil\", \"China\", \"Canada\", \"Belgium\", \"India\", \"Netherlands\", \"Ireland\", \"Switzerland\", \"Mexico\", \"Peru\", \"Sweden\", \"Portugal\", \"Pakistan\", \"Ukraine\", \"Indonesia\", \"Austria\", \"Israel\", \"Ecuador\", \"Chile\", \"Poland\", \"Romania\", \"Korea, South\", \"United Arab Emirates\", \"Serbia\", \"Belarus\", \"Denmark\", \"Egypt\", \"Dominican Republic\", \"Norway\", \"Czechia\", \"Philippines\", \"Australia\", \"Malaysia\", \"Panama\", \"Colombia\", \"Finland\", \"Luxembourg\"], \"hoveron\": \"points\", \"hovertemplate\": \"%{customdata}: %{y:.2f}<extra></extra>\", \"jitter\": 0.1, \"line\": {\"color\": \"rgb(31, 119, 180)\"}, \"meanline\": {\"visible\": true}, \"name\": \"normal\", \"pointpos\": 0, \"points\": \"all\", \"type\": \"violin\", \"xaxis\": \"x\", \"y\": [-0.46825810789068406, -0.44094381959793383, -0.43307652240010713, -0.561313053683483, 0.5210414356035645, 0.10417849123744942, -0.44118614613884805, 1.028524296721774, 0.9723238341112216, -0.19084515542600164, 0.5767063570065082, 0.22922508507098216, -0.43397865653712947, 0.007048593383966183, 0.06981787119504533, 0.6141652720567304, 0.5990349645394302, -0.2746744496025248, 0.6841826937067009, 0.10340855901053661, 1.128522070262686, -0.05586263256897921, 0.17845776261757337, -0.7005185570004665, 0.7772689130246168, 0.31423819276105186, -0.384408424913008, -0.24015500570708562, 1.5023953189173433, 1.0662395106957876, -0.8503949654430777, 0.6140777587889442, 0.21644786541567052, 0.222053006994132, 1.3120356054865274, -0.17811149383113017, -0.6537366471336277, 0.3327512830903296, -0.29131904784786433, -0.4974682376062967, 0.4958903297309222, -0.27263542240081096, 0.6177695894756466, 0.8165993199139271, 0.4624375952034466, 0.6340639772810472, -0.23041345860236898, -0.1157567948292382, -0.016143760567997923, 1.3806958715827997], \"yaxis\": \"y\"}, {\"bandwidth\": 0.2, \"box\": {\"visible\": false}, \"customdata\": [\"Singapore\", \"Saudi Arabia\", \"Qatar\", \"Russia\", \"United States\", \"Japan\", \"France\", \"Spain\", \"Italy\", \"United Kingdom\", \"Germany\", \"Turkey\", \"Iran\", \"Brazil\", \"China\", \"Canada\", \"Belgium\", \"India\", \"Netherlands\", \"Ireland\", \"Switzerland\", \"Mexico\", \"Peru\", \"Sweden\", \"Portugal\", \"Pakistan\", \"Ukraine\", \"Indonesia\", \"Austria\", \"Israel\", \"Ecuador\", \"Chile\", \"Poland\", \"Romania\", \"Korea, South\", \"United Arab Emirates\", \"Serbia\", \"Belarus\", \"Denmark\", \"Egypt\", \"Dominican Republic\", \"Norway\", \"Czechia\", \"Philippines\", \"Australia\", \"Malaysia\", \"Panama\", \"Colombia\", \"Finland\", \"Luxembourg\"], \"hoveron\": \"points\", \"hovertemplate\": \"%{customdata}: %{y:.2f}<extra></extra>\", \"jitter\": 0.1, \"line\": {\"color\": \"rgb(31, 119, 180)\"}, \"meanline\": {\"visible\": true}, \"name\": \"normal\", \"pointpos\": 0, \"points\": \"all\", \"type\": \"violin\", \"xaxis\": \"x2\", \"y\": [-0.4941604185378142, -0.48017648148642955, -0.5197886874334218, -0.5707090432695218, 0.7126718132435734, 0.040186533500590156, -1.078380800199166, 1.1348866957572072, 1.1247279102572507, -0.15947762810844707, 0.7014446620046816, 0.43543230766008284, -0.4811735191730324, -0.053446476079250564, 0.02110018422092181, 0.7479286755666985, 0.7607621315211355, -0.4392925296337914, 0.8921281638585581, -0.09646244992041972, 1.2343520411831495, -0.06898146234555318, 0.1529167338653828, -0.842413989830059, 0.9475341504154496, 0.2940976687552691, -1.0604824549206366, -0.4256701433766607, 1.4507545964390027, 1.1551309907076392, -1.4809959411993625, 0.8565088219712294, 0.31321078564742005, 0.35397030101249566, 1.1369182629544716, -0.2476320064278798, -0.8709825731710152, -0.01809572692279712, -0.36690979774068455, -0.6820414411232125, 0.5455580987442571, -0.3046650127382473, 0.6749749926282769, 0.8467134501814377, 0.5315344339467183, 0.7991146183568912, -0.33781055193320175, -0.33759045049385294, -0.10564973541904268, 1.4046441570908446], \"yaxis\": \"y2\"}, {\"bandwidth\": 0.2, \"box\": {\"visible\": false}, \"customdata\": [\"Singapore\", \"Saudi Arabia\", \"Qatar\", \"Russia\", \"United States\", \"Japan\", \"France\", \"Spain\", \"Italy\", \"United Kingdom\", \"Germany\", \"Turkey\", \"Iran\", \"Brazil\", \"China\", \"Canada\", \"Belgium\", \"India\", \"Netherlands\", \"Ireland\", \"Switzerland\", \"Mexico\", \"Peru\", \"Sweden\", \"Portugal\", \"Pakistan\", \"Ukraine\", \"Indonesia\", \"Austria\", \"Israel\", \"Ecuador\", \"Chile\", \"Poland\", \"Romania\", \"Korea, South\", \"United Arab Emirates\", \"Serbia\", \"Belarus\", \"Denmark\", \"Egypt\", \"Dominican Republic\", \"Norway\", \"Czechia\", \"Philippines\", \"Australia\", \"Malaysia\", \"Panama\", \"Colombia\", \"Finland\", \"Luxembourg\"], \"hoveron\": \"points\", \"hovertemplate\": \"%{customdata}: %{y:.2f}<extra></extra>\", \"jitter\": 0.1, \"line\": {\"color\": \"rgb(255, 127, 14)\"}, \"meanline\": {\"visible\": true}, \"name\": \"logistic\", \"pointpos\": 0, \"points\": \"all\", \"type\": \"violin\", \"xaxis\": \"x\", \"y\": [-0.825096287473816, -0.6445885422183744, -0.4765577775167324, -0.6318142125658164, 1.8346881052281714, -0.8021133048259805, 2.2389848450901515, 1.8167304762096224, 1.8424681888582737, 2.1686895914738495, 1.8696447967724747, 2.180836880763239, -0.6291273665565783, 2.2268943439296254, -0.2624558790712861, 2.0135011748813376, 2.0421299499136056, 2.2359215032632527, 1.9990848727824544, -0.9252174160814832, 1.7458018308595893, 2.235578440675656, -0.9559625160411604, 0.8200136809320805, 1.9677398494109046, 2.053213877676893, 2.1441838219439227, 2.2334188684844665, 1.3454227138956336, 1.7781208929215375, 0.8021067536885681, 2.0345900630810054, 2.174472988360915, 2.184536899046095, 1.1983054089503553, -0.650918726643951, 0.059460064369019835, 2.1442898362047407, -0.7377600096933667, 0.2547248038511835, 1.8652497501915546, 0.8891831393052247, 1.7960413205223484, 1.8953123442176616, -0.2887168785995488, 2.0400235271689646, 2.2280131403879824, 2.2157961181877366, 2.2252053730250356, 1.5363014917617872], \"yaxis\": \"y\"}, {\"bandwidth\": 0.2, \"box\": {\"visible\": false}, \"customdata\": [\"Singapore\", \"Saudi Arabia\", \"Qatar\", \"Russia\", \"United States\", \"Japan\", \"France\", \"Spain\", \"Italy\", \"United Kingdom\", \"Germany\", \"Turkey\", \"Iran\", \"Brazil\", \"China\", \"Canada\", \"Belgium\", \"India\", \"Netherlands\", \"Ireland\", \"Switzerland\", \"Mexico\", \"Peru\", \"Sweden\", \"Portugal\", \"Pakistan\", \"Ukraine\", \"Indonesia\", \"Austria\", \"Israel\", \"Ecuador\", \"Chile\", \"Poland\", \"Romania\", \"Korea, South\", \"United Arab Emirates\", \"Serbia\", \"Belarus\", \"Denmark\", \"Egypt\", \"Dominican Republic\", \"Norway\", \"Czechia\", \"Philippines\", \"Australia\", \"Malaysia\", \"Panama\", \"Colombia\", \"Finland\", \"Luxembourg\"], \"hoveron\": \"points\", \"hovertemplate\": \"%{customdata}: %{y:.2f}<extra></extra>\", \"jitter\": 0.1, \"line\": {\"color\": \"rgb(255, 127, 14)\"}, \"meanline\": {\"visible\": true}, \"name\": \"logistic\", \"pointpos\": 0, \"points\": \"all\", \"type\": \"violin\", \"xaxis\": \"x2\", \"y\": [-0.9152689446865954, -0.7532927045281327, -0.5706430648892217, -0.6846136537878651, 1.5836870879259337, -0.9406908343052258, 1.9117328269898484, 1.736432762501442, 1.703410846150601, 2.094045845961487, 1.6912548059954435, 2.1039658083465556, -0.7205434530048537, 2.225224357882468, -0.34041961714931923, 1.9191534113868265, 1.9460830037913175, 2.2075172992388428, 1.8523886382108763, -1.156658593743628, 1.6524728190725577, 2.2272023583156115, -1.0757541209775459, 0.7461943619545441, 1.8666104997604587, 2.0080919468651355, 1.8410193171964184, 2.2133685496977065, 1.3342428066910037, 1.6979276363322107, -0.4807234721260066, 1.8819205974631354, 2.1295498664533694, 2.1378757646852495, 1.066296577688422, -0.7689070414747196, -0.1195424165530996, 2.1429507792246714, -0.8690847361410684, 0.10400388950273425, 1.7075469295112966, 0.870317621214522, 1.671834639721452, 1.853395706973873, -0.2116160766931126, 1.9539337603844436, 2.2077736575123175, 2.191766441050647, 2.2172090424603406, 1.499440533258952], \"yaxis\": \"y2\"}, {\"bandwidth\": 0.2, \"box\": {\"visible\": false}, \"customdata\": [\"Singapore\", \"Saudi Arabia\", \"Qatar\", \"Russia\", \"United States\", \"Japan\", \"France\", \"Spain\", \"Italy\", \"United Kingdom\", \"Germany\", \"Turkey\", \"Iran\", \"Brazil\", \"China\", \"Canada\", \"Belgium\", \"India\", \"Netherlands\", \"Ireland\", \"Switzerland\", \"Mexico\", \"Peru\", \"Sweden\", \"Portugal\", \"Pakistan\", \"Ukraine\", \"Indonesia\", \"Austria\", \"Israel\", \"Ecuador\", \"Chile\", \"Poland\", \"Romania\", \"Korea, South\", \"United Arab Emirates\", \"Serbia\", \"Belarus\", \"Denmark\", \"Egypt\", \"Dominican Republic\", \"Norway\", \"Czechia\", \"Philippines\", \"Australia\", \"Malaysia\", \"Panama\", \"Colombia\", \"Finland\", \"Luxembourg\"], \"hoveron\": \"points\", \"hovertemplate\": \"%{customdata}: %{y:.2f}<extra></extra>\", \"jitter\": 0.1, \"line\": {\"color\": \"rgb(44, 160, 44)\"}, \"meanline\": {\"visible\": true}, \"name\": \"skewnorm\", \"pointpos\": 0, \"points\": \"all\", \"type\": \"violin\", \"xaxis\": \"x\", \"y\": [-0.4849069188734109, -0.480313508176605, -0.4445708244592943, -0.5613130494718723, 0.5210414356014341, 0.1041785045245252, -0.44118614614813045, -0.7023521212473596, -0.781343746986586, -0.6383756210826607, -0.7642513766643417, -0.38564838548137226, -0.43397865653712664, -0.27952941517173446, -0.23200983180452936, -0.5460963431394027, -0.7540572209347524, -0.6000374901531033, -0.766114694909964, 0.10340855995902126, -0.6798831834659012, -0.2539733063784554, 0.17845776434743077, -0.7005185566484484, -0.6419344674472536, -0.07743271841940075, -0.38440836080660007, -0.2562295046374143, -0.5939273677520317, -0.7532402236297967, -0.8503949543272594, -0.5877186947042663, -0.6641973179837158, -0.5427692390032147, -0.10445454249365108, -0.17811149204060311, -0.6537366467373644, -0.6286752327335259, -0.2913190470017906, -0.4974682357979395, 0.032291966616275175, -0.8848304677324307, -0.7726731501682703, -0.9679096260763381, -0.4146462095951409, -0.5229400120055568, -0.4662564977196235, -0.5525335722167772, -0.35590147670021166, -0.6472787581242249], \"yaxis\": \"y\"}, {\"bandwidth\": 0.2, \"box\": {\"visible\": false}, \"customdata\": [\"Singapore\", \"Saudi Arabia\", \"Qatar\", \"Russia\", \"United States\", \"Japan\", \"France\", \"Spain\", \"Italy\", \"United Kingdom\", \"Germany\", \"Turkey\", \"Iran\", \"Brazil\", \"China\", \"Canada\", \"Belgium\", \"India\", \"Netherlands\", \"Ireland\", \"Switzerland\", \"Mexico\", \"Peru\", \"Sweden\", \"Portugal\", \"Pakistan\", \"Ukraine\", \"Indonesia\", \"Austria\", \"Israel\", \"Ecuador\", \"Chile\", \"Poland\", \"Romania\", \"Korea, South\", \"United Arab Emirates\", \"Serbia\", \"Belarus\", \"Denmark\", \"Egypt\", \"Dominican Republic\", \"Norway\", \"Czechia\", \"Philippines\", \"Australia\", \"Malaysia\", \"Panama\", \"Colombia\", \"Finland\", \"Luxembourg\"], \"hoveron\": \"points\", \"hovertemplate\": \"%{customdata}: %{y:.2f}<extra></extra>\", \"jitter\": 0.1, \"line\": {\"color\": \"rgb(44, 160, 44)\"}, \"meanline\": {\"visible\": true}, \"name\": \"skewnorm\", \"pointpos\": 0, \"points\": \"all\", \"type\": \"violin\", \"xaxis\": \"x2\", \"y\": [-0.3872388975060021, -0.4314620913602276, -0.3648892160385355, -0.515380076036292, 0.7599789475400628, 0.24668585760259518, -0.05608013960181978, -0.7632588971542905, -0.9611969178165316, -0.703827615875661, -0.8113264769749877, -0.3333986414727822, -0.35320128079144986, -0.18387687051121399, -0.11392757427353312, -0.5342209637844393, -0.8764519150171123, -0.5468479284379563, -0.9451516568354662, 0.300016012657183, -0.746788267378663, -0.1648507602536073, 0.3148057371440645, -0.621737830455927, -0.6968945301402438, 0.06102503556807304, 0.02444877756359919, -0.12132575441890317, -0.5569519471340505, -0.8319540834811959, 0.21074300711596095, -0.6307267387953599, -0.7341564535206433, -0.5715312310605232, 0.10722567872496767, -0.04719013017821413, -0.5027978243994046, -0.436940703822825, -0.17173560970719673, -0.34976207646934304, 0.18707113552048282, -0.8836329367391428, -0.7839956573915715, -1.0519570532896456, -0.27727084825996645, -0.5159574753545714, -0.4102098692074505, -0.44643841619731095, -0.2672235251412145, -0.6886153756207164], \"yaxis\": \"y2\"}, {\"bandwidth\": 0.2, \"box\": {\"visible\": false}, \"customdata\": [\"Singapore\", \"Saudi Arabia\", \"Qatar\", \"Russia\", \"United States\", \"Japan\", \"France\", \"Spain\", \"Italy\", \"United Kingdom\", \"Germany\", \"Turkey\", \"Iran\", \"Brazil\", \"China\", \"Canada\", \"Belgium\", \"India\", \"Netherlands\", \"Ireland\", \"Switzerland\", \"Mexico\", \"Peru\", \"Sweden\", \"Portugal\", \"Pakistan\", \"Ukraine\", \"Indonesia\", \"Austria\", \"Israel\", \"Ecuador\", \"Chile\", \"Poland\", \"Romania\", \"Korea, South\", \"United Arab Emirates\", \"Serbia\", \"Belarus\", \"Denmark\", \"Egypt\", \"Dominican Republic\", \"Norway\", \"Czechia\", \"Philippines\", \"Australia\", \"Malaysia\", \"Panama\", \"Colombia\", \"Finland\", \"Luxembourg\"], \"hoveron\": \"points\", \"hovertemplate\": \"%{customdata}: %{y:.2f}<extra></extra>\", \"jitter\": 0.1, \"line\": {\"color\": \"rgb(214, 39, 40)\"}, \"meanline\": {\"visible\": true}, \"name\": \"richards\", \"pointpos\": 0, \"points\": \"all\", \"type\": \"violin\", \"xaxis\": \"x\", \"y\": [-0.8216706460522183, -0.6372674459550173, -0.47655777751690376, -0.6349322463648397, -0.6581327477418287, -0.8021133048262756, -0.3760017671265934, -0.527658606353741, -0.4567397238438901, -0.6393539113649823, -0.7937613212443937, -0.5030784659236374, -0.6360412623163609, -0.4434889708996037, -0.5724737616422049, -0.3077970064474082, -0.46155601468891244, -0.5606852357382307, -0.4074240603336549, -0.92521741608372, -0.5915961035616512, -0.43524955778636454, -0.9559625160420729, -0.7084024421061836, -0.4941833625208757, -0.31147385758190044, -0.1642321327072555, -0.35101821116382576, -0.7360337387768868, -0.42892900369051373, -0.35190677423709105, -0.3805197764598801, -0.5241832369852477, -0.52640320616267, -0.01375886895063246, -0.9576675719710326, -0.6372475738132011, -0.4461018681198703, -0.7377600096935488, -0.635252276504237, -0.15335275163264692, -0.768460315634489, -0.8307817017651209, -0.37236478983983323, -1.0573176364216879, -0.5693353284005249, -0.4740720820052521, -0.5172227881193008, -0.48249461671615657, -0.48598391457955764], \"yaxis\": \"y\"}, {\"bandwidth\": 0.2, \"box\": {\"visible\": false}, \"customdata\": [\"Singapore\", \"Saudi Arabia\", \"Qatar\", \"Russia\", \"United States\", \"Japan\", \"France\", \"Spain\", \"Italy\", \"United Kingdom\", \"Germany\", \"Turkey\", \"Iran\", \"Brazil\", \"China\", \"Canada\", \"Belgium\", \"India\", \"Netherlands\", \"Ireland\", \"Switzerland\", \"Mexico\", \"Peru\", \"Sweden\", \"Portugal\", \"Pakistan\", \"Ukraine\", \"Indonesia\", \"Austria\", \"Israel\", \"Ecuador\", \"Chile\", \"Poland\", \"Romania\", \"Korea, South\", \"United Arab Emirates\", \"Serbia\", \"Belarus\", \"Denmark\", \"Egypt\", \"Dominican Republic\", \"Norway\", \"Czechia\", \"Philippines\", \"Australia\", \"Malaysia\", \"Panama\", \"Colombia\", \"Finland\", \"Luxembourg\"], \"hoveron\": \"points\", \"hovertemplate\": \"%{customdata}: %{y:.2f}<extra></extra>\", \"jitter\": 0.1, \"line\": {\"color\": \"rgb(214, 39, 40)\"}, \"meanline\": {\"visible\": true}, \"name\": \"richards\", \"pointpos\": 0, \"points\": \"all\", \"type\": \"violin\", \"xaxis\": \"x2\", \"y\": [-0.7852444619062597, -0.6430528905485157, -0.4023371885811306, -0.6344590452900388, -0.6373277261464045, -0.734191523769889, 0.01927428066782945, -0.49602284817140324, -0.36709320005932494, -0.7053463651692373, -0.8580485479894896, -0.5268245648583147, -0.6012587753227912, -0.38681340647038104, -0.5009370625513883, -0.20713797670263473, -0.4213759033553279, -0.49867416641441953, -0.3178400420295041, -0.7601801321143256, -0.5911820821939626, -0.3992738627485961, -0.9138651194078569, -0.6307598002891374, -0.46232966654963203, -0.21336942732568484, 0.2848810444286436, -0.23405819407954562, -0.7637724541612683, -0.3504654106877884, 0.5140288475910865, -0.2754048473327948, -0.5287227343192407, -0.546571443066141, 0.19448066222563626, -0.9255657408040684, -0.48498833326200913, -0.20374015977095605, -0.6739105490297871, -0.49887803357885324, -0.016338411552610697, -0.7384826158569479, -0.863409928858904, -0.29014700692544115, -1.134566351139638, -0.5864642265386083, -0.41993050103144497, -0.40379390757342337, -0.4226510526061837, -0.3929984334705522], \"yaxis\": \"y2\"}, {\"bandwidth\": 0.2, \"box\": {\"visible\": false}, \"customdata\": [\"Singapore\", \"Saudi Arabia\", \"Qatar\", \"Russia\", \"United States\", \"Japan\", \"France\", \"Spain\", \"Italy\", \"United Kingdom\", \"Germany\", \"Turkey\", \"Iran\", \"Brazil\", \"China\", \"Canada\", \"Belgium\", \"India\", \"Netherlands\", \"Ireland\", \"Switzerland\", \"Mexico\", \"Peru\", \"Sweden\", \"Portugal\", \"Pakistan\", \"Ukraine\", \"Indonesia\", \"Austria\", \"Israel\", \"Ecuador\", \"Chile\", \"Poland\", \"Romania\", \"Korea, South\", \"United Arab Emirates\", \"Serbia\", \"Belarus\", \"Denmark\", \"Egypt\", \"Dominican Republic\", \"Norway\", \"Czechia\", \"Philippines\", \"Australia\", \"Malaysia\", \"Panama\", \"Colombia\", \"Finland\", \"Luxembourg\"], \"hoveron\": \"points\", \"hovertemplate\": \"%{customdata}: %{y:.2f}<extra></extra>\", \"jitter\": 0.1, \"line\": {\"color\": \"rgb(148, 103, 189)\"}, \"meanline\": {\"visible\": true}, \"name\": \"loglogistic\", \"pointpos\": 0, \"points\": \"all\", \"type\": \"violin\", \"xaxis\": \"x\", \"y\": [1.3916957308190763, 0.37879240093522015, -0.03402272538155709, 1.295214518783017, -0.7205059997732409, -0.8012714499462444, -0.565748952650074, -0.5494195958491527, -0.5093221557784311, -0.5454500915058377, -0.8177702116731848, -0.6039623574793911, -0.6708819724184437, -0.5229427664010031, -0.919934042172129, -0.675950350631621, -0.40598364923546265, -0.1683765589551099, -0.4835468245673039, -0.9252101047083605, -0.5559729748672289, -0.5292880287273699, -0.9559630450697518, -0.86886999264236, -0.5252513264853975, -1.0527310738083262, -1.025600555166538, -0.7482000405296829, -0.8772644189859117, -0.5635870975142432, -0.9342512447575788, -0.6080217078326525, -0.44222083668182144, -0.4370716784591787, -1.1468596433510168, -0.7904176840941799, -0.8286954686767163, -0.3350062941527126, -0.7377601452218413, -1.0418334132870462, -1.201316053807788, -0.8894519489199103, -0.8848403295620253, -0.3822063089253167, -1.1030678563514231, -0.5374887846129386, -0.6117571991258794, -0.5809568152801898, -0.6193554038574579, -0.6430915238558865], \"yaxis\": \"y\"}, {\"bandwidth\": 0.2, \"box\": {\"visible\": false}, \"customdata\": [\"Singapore\", \"Saudi Arabia\", \"Qatar\", \"Russia\", \"United States\", \"Japan\", \"France\", \"Spain\", \"Italy\", \"United Kingdom\", \"Germany\", \"Turkey\", \"Iran\", \"Brazil\", \"China\", \"Canada\", \"Belgium\", \"India\", \"Netherlands\", \"Ireland\", \"Switzerland\", \"Mexico\", \"Peru\", \"Sweden\", \"Portugal\", \"Pakistan\", \"Ukraine\", \"Indonesia\", \"Austria\", \"Israel\", \"Ecuador\", \"Chile\", \"Poland\", \"Romania\", \"Korea, South\", \"United Arab Emirates\", \"Serbia\", \"Belarus\", \"Denmark\", \"Egypt\", \"Dominican Republic\", \"Norway\", \"Czechia\", \"Philippines\", \"Australia\", \"Malaysia\", \"Panama\", \"Colombia\", \"Finland\", \"Luxembourg\"], \"hoveron\": \"points\", \"hovertemplate\": \"%{customdata}: %{y:.2f}<extra></extra>\", \"jitter\": 0.1, \"line\": {\"color\": \"rgb(148, 103, 189)\"}, \"meanline\": {\"visible\": true}, \"name\": \"loglogistic\", \"pointpos\": 0, \"points\": \"all\", \"type\": \"violin\", \"xaxis\": \"x2\", \"y\": [1.393567819158956, 0.5635839582841708, 0.09826735716041357, 1.3535949292271792, -0.7495393073735921, -0.7332246405154922, -0.2004612037516582, -0.5280767359224413, -0.45265427417166765, -0.5623000204886627, -0.8966216040197377, -0.7045618487527308, -0.6452612074984047, -0.48690476351857503, -0.9168267041575978, -0.7255864427782924, -0.3416118942845881, -0.029152107611880182, -0.4378061748820958, -0.7601723410142575, -0.5312959046316017, -0.5245470945834825, -0.9138657498237165, -0.8164068897055881, -0.5100856676502269, -1.1472264514210682, -0.742923785429092, -0.7173146131596791, -0.9836483997970917, -0.5415250941610676, 0.15959121582122393, -0.6688592804274635, -0.4128238140687113, -0.41319602058354693, -1.2441057508736015, -0.7289102519105476, -0.6930940537839334, -0.06266802979516513, -0.6739107064433546, -0.9488208645119115, -1.3738980478451708, -0.8894709330263234, -0.9385952847082498, -0.3020822872899032, -1.2054985800865972, -0.5379051411158421, -0.5929791141908979, -0.4808447326446581, -0.593494252849154, -0.6803123980099636], \"yaxis\": \"y2\"}, {\"bandwidth\": 0.2, \"box\": {\"visible\": false}, \"customdata\": [\"Singapore\", \"Saudi Arabia\", \"Qatar\", \"Russia\", \"United States\", \"Japan\", \"France\", \"Spain\", \"Italy\", \"United Kingdom\", \"Germany\", \"Turkey\", \"Iran\", \"Brazil\", \"China\", \"Canada\", \"Belgium\", \"India\", \"Netherlands\", \"Ireland\", \"Switzerland\", \"Mexico\", \"Peru\", \"Sweden\", \"Portugal\", \"Pakistan\", \"Ukraine\", \"Indonesia\", \"Austria\", \"Israel\", \"Ecuador\", \"Chile\", \"Poland\", \"Romania\", \"Korea, South\", \"United Arab Emirates\", \"Serbia\", \"Belarus\", \"Denmark\", \"Egypt\", \"Dominican Republic\", \"Norway\", \"Czechia\", \"Philippines\", \"Australia\", \"Malaysia\", \"Panama\", \"Colombia\", \"Finland\", \"Luxembourg\"], \"hoveron\": \"points\", \"hovertemplate\": \"%{customdata}: %{y:.2f}<extra></extra>\", \"jitter\": 0.1, \"line\": {\"color\": \"rgb(140, 86, 75)\"}, \"meanline\": {\"visible\": true}, \"name\": \"invweibull\", \"pointpos\": 0, \"points\": \"all\", \"type\": \"violin\", \"xaxis\": \"x\", \"y\": [1.476740223655858, 2.125772053509284, 2.24019949152867, 1.6174424174322024, -0.8398502107640446, 2.0029409786664494, -0.04907679468384081, -0.5380731318974934, -0.6102509882408975, 0.18208070131173532, 0.34317515722248987, -0.41375964407501653, 1.8719308173389626, -0.5416857376846846, 2.154533213563283, -0.7898860152375549, -0.5579707601435714, -0.2096784230319505, -0.6186498771629989, 1.5201116907959091, -0.4552055180750468, -0.5194645348309811, 1.4007792062961317, 1.69568481678105, -0.5894092545300533, -0.6141461874384642, -0.01895686550692886, -0.2865785462201042, -0.14228164354042658, -0.6696610727929524, 1.6056711707174898, -0.6918054659470114, -0.26995698460561285, -0.3778911491942671, -1.2312773366774101, 1.673698172801266, 1.7848340231671478, -0.6211203326117066, 1.7779704932073095, 1.9261235585551337, -0.8852378191324225, 1.7098667725299286, 0.4370282749200411, -0.6169521932881616, 1.5962790830801155, -0.47494911198161643, -0.039400148737962964, -0.043586637861994834, -0.26865283868459755, -0.654601935889237], \"yaxis\": \"y\"}, {\"bandwidth\": 0.2, \"box\": {\"visible\": false}, \"customdata\": [\"Singapore\", \"Saudi Arabia\", \"Qatar\", \"Russia\", \"United States\", \"Japan\", \"France\", \"Spain\", \"Italy\", \"United Kingdom\", \"Germany\", \"Turkey\", \"Iran\", \"Brazil\", \"China\", \"Canada\", \"Belgium\", \"India\", \"Netherlands\", \"Ireland\", \"Switzerland\", \"Mexico\", \"Peru\", \"Sweden\", \"Portugal\", \"Pakistan\", \"Ukraine\", \"Indonesia\", \"Austria\", \"Israel\", \"Ecuador\", \"Chile\", \"Poland\", \"Romania\", \"Korea, South\", \"United Arab Emirates\", \"Serbia\", \"Belarus\", \"Denmark\", \"Egypt\", \"Dominican Republic\", \"Norway\", \"Czechia\", \"Philippines\", \"Australia\", \"Malaysia\", \"Panama\", \"Colombia\", \"Finland\", \"Luxembourg\"], \"hoveron\": \"points\", \"hovertemplate\": \"%{customdata}: %{y:.2f}<extra></extra>\", \"jitter\": 0.1, \"line\": {\"color\": \"rgb(140, 86, 75)\"}, \"meanline\": {\"visible\": true}, \"name\": \"invweibull\", \"pointpos\": 0, \"points\": \"all\", \"type\": \"violin\", \"xaxis\": \"x2\", \"y\": [1.4611823535106079, 2.0476173005161593, 2.2123210774447792, 1.5631659045315336, -0.9845751357091889, 1.9896378060477335, 0.395143146618498, -0.5113218824672289, -0.6273222381096926, 0.3924781195599875, 0.5525822402535168, -0.3784830529809871, 1.8604123834247, -0.5106868643939874, 2.1636613112324996, -0.9021568823899454, -0.5645284786214543, -0.07768902796244521, -0.6669126925074894, 1.6539184281967891, -0.36997809013705335, -0.511339088254957, 1.4222061252241078, 1.7676588885089468, -0.6112943623031925, -0.5821549006860439, 0.4558732279365519, -0.15731404350971076, 0.022840907290742254, -0.7006486266725132, 1.6921728600391073, -0.8336479206894696, -0.1788696924033491, -0.3273891327456129, -1.398027902394306, 1.7216847632670582, 1.9232812721035661, -0.42725695139242104, 1.8112113794754798, 2.0336311118608585, -0.9203208062074493, 1.727643975322007, 0.6093325220914406, -0.5930058542224673, 1.4775548914203434, -0.4445803301894873, 0.10486686190584925, 0.157859564786736, -0.16151385531957832, -0.7032269158465208], \"yaxis\": \"y2\"}, {\"bandwidth\": 0.2, \"box\": {\"visible\": false}, \"customdata\": [\"Singapore\", \"Saudi Arabia\", \"Qatar\", \"Russia\", \"United States\", \"Japan\", \"France\", \"Spain\", \"Italy\", \"United Kingdom\", \"Germany\", \"Turkey\", \"Iran\", \"Brazil\", \"China\", \"Canada\", \"Belgium\", \"India\", \"Netherlands\", \"Ireland\", \"Switzerland\", \"Mexico\", \"Peru\", \"Sweden\", \"Portugal\", \"Pakistan\", \"Ukraine\", \"Indonesia\", \"Austria\", \"Israel\", \"Ecuador\", \"Chile\", \"Poland\", \"Romania\", \"Korea, South\", \"United Arab Emirates\", \"Serbia\", \"Belarus\", \"Denmark\", \"Egypt\", \"Dominican Republic\", \"Norway\", \"Czechia\", \"Philippines\", \"Australia\", \"Malaysia\", \"Panama\", \"Colombia\", \"Finland\", \"Luxembourg\"], \"hoveron\": \"points\", \"hovertemplate\": \"%{customdata}: %{y:.2f}<extra></extra>\", \"jitter\": 0.1, \"line\": {\"color\": \"rgb(227, 119, 194)\"}, \"meanline\": {\"visible\": true}, \"name\": \"gompertz\", \"pointpos\": 0, \"points\": \"all\", \"type\": \"violin\", \"xaxis\": \"x\", \"y\": [-0.2685039941848016, -0.3014511384965749, -0.3754138642540727, -0.5232843741292077, -0.6582820181540575, 0.19420008517007348, -0.36578503834263787, -0.5277513175836479, -0.457135408119689, -0.3367455134061016, -0.41374340141955185, -0.5036131128748035, 0.9320770970266758, -0.44629604715656296, -0.23747757006818673, -0.3079367314820831, -0.46159726945033597, -0.42246934578232553, -0.4075321095152326, 1.048716127108085, -0.5916661211524475, -0.44174038038350383, 1.1101933438918454, 0.4626110506843268, -0.4942303514519423, -0.3116682331898551, -0.16657748284358212, -0.3512375602263536, -0.4983108637577232, -0.42894300598981744, 0.5791700143590615, -0.380602176926141, -0.4903624775201843, -0.5224546332208959, -0.013990622964171301, 1.0815287957796298, 0.9291222488247399, -0.4461373916772547, 1.0179477662511007, 0.49117380078919193, -0.15352542196589236, 0.2163282428524855, -0.3625440034226183, -0.37247874600193714, 0.8050319026842397, -0.5693742674493741, -0.4061137541968968, -0.4057395098802579, -0.48265727649859996, -0.4860412308956801], \"yaxis\": \"y\"}, {\"bandwidth\": 0.2, \"box\": {\"visible\": false}, \"customdata\": [\"Singapore\", \"Saudi Arabia\", \"Qatar\", \"Russia\", \"United States\", \"Japan\", \"France\", \"Spain\", \"Italy\", \"United Kingdom\", \"Germany\", \"Turkey\", \"Iran\", \"Brazil\", \"China\", \"Canada\", \"Belgium\", \"India\", \"Netherlands\", \"Ireland\", \"Switzerland\", \"Mexico\", \"Peru\", \"Sweden\", \"Portugal\", \"Pakistan\", \"Ukraine\", \"Indonesia\", \"Austria\", \"Israel\", \"Ecuador\", \"Chile\", \"Poland\", \"Romania\", \"Korea, South\", \"United Arab Emirates\", \"Serbia\", \"Belarus\", \"Denmark\", \"Egypt\", \"Dominican Republic\", \"Norway\", \"Czechia\", \"Philippines\", \"Australia\", \"Malaysia\", \"Panama\", \"Colombia\", \"Finland\", \"Luxembourg\"], \"hoveron\": \"points\", \"hovertemplate\": \"%{customdata}: %{y:.2f}<extra></extra>\", \"jitter\": 0.1, \"line\": {\"color\": \"rgb(227, 119, 194)\"}, \"meanline\": {\"visible\": true}, \"name\": \"gompertz\", \"pointpos\": 0, \"points\": \"all\", \"type\": \"violin\", \"xaxis\": \"x2\", \"y\": [-0.27283745003290194, -0.3032170908770244, -0.45293027766287497, -0.5115990153750061, -0.6848956794803821, 0.13159680143967792, -0.9912281107237896, -0.5726390945432506, -0.4198721262506269, -0.3555723358794664, -0.3792850792694234, -0.5961300079418201, 0.9410258523658251, -0.6034959769090493, -0.31265053732157305, -0.2979798212982086, -0.5028769440339664, -0.6158615391784293, -0.37680623581488937, 0.8195390759385787, -0.6475805159144293, -0.5582100901294118, 1.0135563939755803, 0.39746525981723146, -0.5335404235326077, -0.42046387175568045, -0.8028161267752656, -0.5576858011531908, -0.5034655093283341, -0.428465412037275, -0.6148165172421802, -0.32979063218927435, -0.5881879577888613, -0.6331582382419257, 0.1372124716744174, 0.996520407528331, 0.748123929065933, -0.9942492075205668, 0.9443400195866508, 0.3418674143197361, -0.12961889817078573, 0.21828990182413618, -0.3701412834824606, -0.46291695542788375, 0.8198625308122447, -0.6681412055428012, -0.5517104830551552, -0.6809584989282307, -0.6666766211251182, -0.43893156740204714], \"yaxis\": \"y2\"}],\n",
       "                        {\"height\": 700, \"showlegend\": false, \"template\": {\"data\": {\"bar\": [{\"error_x\": {\"color\": \"#2a3f5f\"}, \"error_y\": {\"color\": \"#2a3f5f\"}, \"marker\": {\"line\": {\"color\": \"#E5ECF6\", \"width\": 0.5}}, \"type\": \"bar\"}], \"barpolar\": [{\"marker\": {\"line\": {\"color\": \"#E5ECF6\", \"width\": 0.5}}, \"type\": \"barpolar\"}], \"carpet\": [{\"aaxis\": {\"endlinecolor\": \"#2a3f5f\", \"gridcolor\": \"white\", \"linecolor\": \"white\", \"minorgridcolor\": \"white\", \"startlinecolor\": \"#2a3f5f\"}, \"baxis\": {\"endlinecolor\": \"#2a3f5f\", \"gridcolor\": \"white\", \"linecolor\": \"white\", \"minorgridcolor\": \"white\", \"startlinecolor\": \"#2a3f5f\"}, \"type\": \"carpet\"}], \"choropleth\": [{\"colorbar\": {\"outlinewidth\": 0, \"ticks\": \"\"}, \"type\": \"choropleth\"}], \"contour\": [{\"colorbar\": {\"outlinewidth\": 0, \"ticks\": \"\"}, \"colorscale\": [[0.0, \"#0d0887\"], [0.1111111111111111, \"#46039f\"], [0.2222222222222222, \"#7201a8\"], [0.3333333333333333, \"#9c179e\"], [0.4444444444444444, \"#bd3786\"], [0.5555555555555556, \"#d8576b\"], [0.6666666666666666, \"#ed7953\"], [0.7777777777777778, \"#fb9f3a\"], [0.8888888888888888, \"#fdca26\"], [1.0, \"#f0f921\"]], \"type\": \"contour\"}], \"contourcarpet\": [{\"colorbar\": {\"outlinewidth\": 0, \"ticks\": \"\"}, \"type\": \"contourcarpet\"}], \"heatmap\": [{\"colorbar\": {\"outlinewidth\": 0, \"ticks\": \"\"}, \"colorscale\": [[0.0, \"#0d0887\"], [0.1111111111111111, \"#46039f\"], [0.2222222222222222, \"#7201a8\"], [0.3333333333333333, \"#9c179e\"], [0.4444444444444444, \"#bd3786\"], [0.5555555555555556, \"#d8576b\"], [0.6666666666666666, \"#ed7953\"], [0.7777777777777778, \"#fb9f3a\"], [0.8888888888888888, \"#fdca26\"], [1.0, \"#f0f921\"]], \"type\": \"heatmap\"}], \"heatmapgl\": [{\"colorbar\": {\"outlinewidth\": 0, \"ticks\": \"\"}, \"colorscale\": [[0.0, \"#0d0887\"], [0.1111111111111111, \"#46039f\"], [0.2222222222222222, \"#7201a8\"], [0.3333333333333333, \"#9c179e\"], [0.4444444444444444, \"#bd3786\"], [0.5555555555555556, \"#d8576b\"], [0.6666666666666666, \"#ed7953\"], [0.7777777777777778, \"#fb9f3a\"], [0.8888888888888888, \"#fdca26\"], [1.0, \"#f0f921\"]], \"type\": \"heatmapgl\"}], \"histogram\": [{\"marker\": {\"colorbar\": {\"outlinewidth\": 0, \"ticks\": \"\"}}, \"type\": \"histogram\"}], \"histogram2d\": [{\"colorbar\": {\"outlinewidth\": 0, \"ticks\": \"\"}, \"colorscale\": [[0.0, \"#0d0887\"], [0.1111111111111111, \"#46039f\"], [0.2222222222222222, \"#7201a8\"], [0.3333333333333333, \"#9c179e\"], [0.4444444444444444, \"#bd3786\"], [0.5555555555555556, \"#d8576b\"], [0.6666666666666666, \"#ed7953\"], [0.7777777777777778, \"#fb9f3a\"], [0.8888888888888888, \"#fdca26\"], [1.0, \"#f0f921\"]], \"type\": \"histogram2d\"}], \"histogram2dcontour\": [{\"colorbar\": {\"outlinewidth\": 0, \"ticks\": \"\"}, \"colorscale\": [[0.0, \"#0d0887\"], [0.1111111111111111, \"#46039f\"], [0.2222222222222222, \"#7201a8\"], [0.3333333333333333, \"#9c179e\"], [0.4444444444444444, \"#bd3786\"], [0.5555555555555556, \"#d8576b\"], [0.6666666666666666, \"#ed7953\"], [0.7777777777777778, \"#fb9f3a\"], [0.8888888888888888, \"#fdca26\"], [1.0, \"#f0f921\"]], \"type\": \"histogram2dcontour\"}], \"mesh3d\": [{\"colorbar\": {\"outlinewidth\": 0, \"ticks\": \"\"}, \"type\": \"mesh3d\"}], \"parcoords\": [{\"line\": {\"colorbar\": {\"outlinewidth\": 0, \"ticks\": \"\"}}, \"type\": \"parcoords\"}], \"pie\": [{\"automargin\": true, \"type\": \"pie\"}], \"scatter\": [{\"marker\": {\"colorbar\": {\"outlinewidth\": 0, \"ticks\": \"\"}}, \"type\": \"scatter\"}], \"scatter3d\": [{\"line\": {\"colorbar\": {\"outlinewidth\": 0, \"ticks\": \"\"}}, \"marker\": {\"colorbar\": {\"outlinewidth\": 0, \"ticks\": \"\"}}, \"type\": \"scatter3d\"}], \"scattercarpet\": [{\"marker\": {\"colorbar\": {\"outlinewidth\": 0, \"ticks\": \"\"}}, \"type\": \"scattercarpet\"}], \"scattergeo\": [{\"marker\": {\"colorbar\": {\"outlinewidth\": 0, \"ticks\": \"\"}}, \"type\": \"scattergeo\"}], \"scattergl\": [{\"marker\": {\"colorbar\": {\"outlinewidth\": 0, \"ticks\": \"\"}}, \"type\": \"scattergl\"}], \"scattermapbox\": [{\"marker\": {\"colorbar\": {\"outlinewidth\": 0, \"ticks\": \"\"}}, \"type\": \"scattermapbox\"}], \"scatterpolar\": [{\"marker\": {\"colorbar\": {\"outlinewidth\": 0, \"ticks\": \"\"}}, \"type\": \"scatterpolar\"}], \"scatterpolargl\": [{\"marker\": {\"colorbar\": {\"outlinewidth\": 0, \"ticks\": \"\"}}, \"type\": \"scatterpolargl\"}], \"scatterternary\": [{\"marker\": {\"colorbar\": {\"outlinewidth\": 0, \"ticks\": \"\"}}, \"type\": \"scatterternary\"}], \"surface\": [{\"colorbar\": {\"outlinewidth\": 0, \"ticks\": \"\"}, \"colorscale\": [[0.0, \"#0d0887\"], [0.1111111111111111, \"#46039f\"], [0.2222222222222222, \"#7201a8\"], [0.3333333333333333, \"#9c179e\"], [0.4444444444444444, \"#bd3786\"], [0.5555555555555556, \"#d8576b\"], [0.6666666666666666, \"#ed7953\"], [0.7777777777777778, \"#fb9f3a\"], [0.8888888888888888, \"#fdca26\"], [1.0, \"#f0f921\"]], \"type\": \"surface\"}], \"table\": [{\"cells\": {\"fill\": {\"color\": \"#EBF0F8\"}, \"line\": {\"color\": \"white\"}}, \"header\": {\"fill\": {\"color\": \"#C8D4E3\"}, \"line\": {\"color\": \"white\"}}, \"type\": \"table\"}]}, \"layout\": {\"annotationdefaults\": {\"arrowcolor\": \"#2a3f5f\", \"arrowhead\": 0, \"arrowwidth\": 1}, \"coloraxis\": {\"colorbar\": {\"outlinewidth\": 0, \"ticks\": \"\"}}, \"colorscale\": {\"diverging\": [[0, \"#8e0152\"], [0.1, \"#c51b7d\"], [0.2, \"#de77ae\"], [0.3, \"#f1b6da\"], [0.4, \"#fde0ef\"], [0.5, \"#f7f7f7\"], [0.6, \"#e6f5d0\"], [0.7, \"#b8e186\"], [0.8, \"#7fbc41\"], [0.9, \"#4d9221\"], [1, \"#276419\"]], \"sequential\": [[0.0, \"#0d0887\"], [0.1111111111111111, \"#46039f\"], [0.2222222222222222, \"#7201a8\"], [0.3333333333333333, \"#9c179e\"], [0.4444444444444444, \"#bd3786\"], [0.5555555555555556, \"#d8576b\"], [0.6666666666666666, \"#ed7953\"], [0.7777777777777778, \"#fb9f3a\"], [0.8888888888888888, \"#fdca26\"], [1.0, \"#f0f921\"]], \"sequentialminus\": [[0.0, \"#0d0887\"], [0.1111111111111111, \"#46039f\"], [0.2222222222222222, \"#7201a8\"], [0.3333333333333333, \"#9c179e\"], [0.4444444444444444, \"#bd3786\"], [0.5555555555555556, \"#d8576b\"], [0.6666666666666666, \"#ed7953\"], [0.7777777777777778, \"#fb9f3a\"], [0.8888888888888888, \"#fdca26\"], [1.0, \"#f0f921\"]]}, \"colorway\": [\"#636efa\", \"#EF553B\", \"#00cc96\", \"#ab63fa\", \"#FFA15A\", \"#19d3f3\", \"#FF6692\", \"#B6E880\", \"#FF97FF\", \"#FECB52\"], \"font\": {\"color\": \"#2a3f5f\"}, \"geo\": {\"bgcolor\": \"white\", \"lakecolor\": \"white\", \"landcolor\": \"#E5ECF6\", \"showlakes\": true, \"showland\": true, \"subunitcolor\": \"white\"}, \"hoverlabel\": {\"align\": \"left\"}, \"hovermode\": \"closest\", \"mapbox\": {\"style\": \"light\"}, \"paper_bgcolor\": \"white\", \"plot_bgcolor\": \"#E5ECF6\", \"polar\": {\"angularaxis\": {\"gridcolor\": \"white\", \"linecolor\": \"white\", \"ticks\": \"\"}, \"bgcolor\": \"#E5ECF6\", \"radialaxis\": {\"gridcolor\": \"white\", \"linecolor\": \"white\", \"ticks\": \"\"}}, \"scene\": {\"xaxis\": {\"backgroundcolor\": \"#E5ECF6\", \"gridcolor\": \"white\", \"gridwidth\": 2, \"linecolor\": \"white\", \"showbackground\": true, \"ticks\": \"\", \"zerolinecolor\": \"white\"}, \"yaxis\": {\"backgroundcolor\": \"#E5ECF6\", \"gridcolor\": \"white\", \"gridwidth\": 2, \"linecolor\": \"white\", \"showbackground\": true, \"ticks\": \"\", \"zerolinecolor\": \"white\"}, \"zaxis\": {\"backgroundcolor\": \"#E5ECF6\", \"gridcolor\": \"white\", \"gridwidth\": 2, \"linecolor\": \"white\", \"showbackground\": true, \"ticks\": \"\", \"zerolinecolor\": \"white\"}}, \"shapedefaults\": {\"line\": {\"color\": \"#2a3f5f\"}}, \"ternary\": {\"aaxis\": {\"gridcolor\": \"white\", \"linecolor\": \"white\", \"ticks\": \"\"}, \"baxis\": {\"gridcolor\": \"white\", \"linecolor\": \"white\", \"ticks\": \"\"}, \"bgcolor\": \"#E5ECF6\", \"caxis\": {\"gridcolor\": \"white\", \"linecolor\": \"white\", \"ticks\": \"\"}}, \"title\": {\"x\": 0.05}, \"xaxis\": {\"automargin\": true, \"gridcolor\": \"white\", \"linecolor\": \"white\", \"ticks\": \"\", \"title\": {\"standoff\": 15}, \"zerolinecolor\": \"white\", \"zerolinewidth\": 2}, \"yaxis\": {\"automargin\": true, \"gridcolor\": \"white\", \"linecolor\": \"white\", \"ticks\": \"\", \"title\": {\"standoff\": 15}, \"zerolinecolor\": \"white\", \"zerolinewidth\": 2}}}, \"title\": {\"text\": \"Comparison of Models Fit on Country Data\", \"x\": 0.5}, \"width\": 800, \"xaxis\": {\"anchor\": \"y\", \"domain\": [0.0, 1.0], \"linecolor\": \"black\", \"linewidth\": 1.5, \"mirror\": true, \"showline\": true}, \"xaxis2\": {\"anchor\": \"y2\", \"domain\": [0.0, 1.0], \"linecolor\": \"black\", \"linewidth\": 1.5, \"mirror\": true, \"showline\": true}, \"yaxis\": {\"anchor\": \"x\", \"domain\": [0.575, 1.0], \"linecolor\": \"black\", \"linewidth\": 1.5, \"mirror\": true, \"showline\": true, \"title\": {\"text\": \"Standardized RMSE Score\"}}, \"yaxis2\": {\"anchor\": \"x2\", \"domain\": [0.0, 0.425], \"linecolor\": \"black\", \"linewidth\": 1.5, \"mirror\": true, \"showline\": true, \"title\": {\"text\": \"Standardized BIC Score\"}}},\n",
       "                        {\"responsive\": true}\n",
       "                    ).then(function(){\n",
       "                            \n",
       "var gd = document.getElementById('9933bfc3-60b3-4e5e-8d69-331556e685e0');\n",
       "var x = new MutationObserver(function (mutations, observer) {{\n",
       "        var display = window.getComputedStyle(gd).display;\n",
       "        if (!display || display === 'none') {{\n",
       "            console.log([gd, 'removed!']);\n",
       "            Plotly.purge(gd);\n",
       "            observer.disconnect();\n",
       "        }}\n",
       "}});\n",
       "\n",
       "// Listen for the removal of the full notebook cells\n",
       "var notebookContainer = gd.closest('#notebook-container');\n",
       "if (notebookContainer) {{\n",
       "    x.observe(notebookContainer, {childList: true});\n",
       "}}\n",
       "\n",
       "// Listen for the clearing of the current output cell\n",
       "var outputEl = gd.closest('.output');\n",
       "if (outputEl) {{\n",
       "    x.observe(outputEl, {childList: true});\n",
       "}}\n",
       "\n",
       "                        })\n",
       "                };\n",
       "                });\n",
       "            </script>\n",
       "        </div>"
      ]
     },
     "metadata": {},
     "output_type": "display_data"
    }
   ],
   "source": [
    "fig = make_subplots(rows=2, cols=1)\n",
    "rmse = compare_models(global_info,'rmse')\n",
    "bic = compare_models(global_info,'bic')\n",
    "label = '%{customdata}: %{y:.2f}<extra></extra>'\n",
    "\n",
    "for i,m in enumerate(rmse.columns):\n",
    "    fig.add_trace(go.Violin(y=rmse[m], name=m, box_visible=False, meanline_visible=True, bandwidth=0.2,\n",
    "                            hoveron='points', customdata = rmse.index.values,hovertemplate=label,\n",
    "                            points='all',jitter=0.1,pointpos=0,line_color=cols[i]),row=1,col=1)\n",
    "    \n",
    "    fig.add_trace(go.Violin(y=bic[m],name=m,box_visible=False,meanline_visible=True, bandwidth=0.2,\n",
    "                            hoveron='points', customdata = rmse.index.values,hovertemplate=label,\n",
    "                            points='all',jitter=0.1,pointpos=0,line_color=cols[i]),row=2,col=1)\n",
    "    \n",
    "\n",
    "fig.update_layout(width=800,height=700,title_text=\"Comparison of Models Fit on Country Data\",title_x=0.5,showlegend=False)\n",
    "fig.update_xaxes(showline=True, linewidth=1.5, linecolor='black', mirror=True)\n",
    "fig.update_yaxes(showline=True, linewidth=1.5, linecolor='black', mirror=True)\n",
    "fig.update_yaxes(title=\"Standardized RMSE Score\",row=1,col=1)\n",
    "fig.update_yaxes(title=\"Standardized BIC Score\",row=2,col=1)\n",
    "fig.show()"
   ]
  },
  {
   "cell_type": "markdown",
   "metadata": {
    "jupyter": {
     "source_hidden": true
    }
   },
   "source": [
    "What's the verdict? Out of the symmetric models, the hyperbolic secant model is the worst, with high RMSE values for almost every region. The normal and logistic models seem decent. But the asymmetric models are significantly better! The skew normal model has a lower error than the normal model for every region, and the Richards model has a lower error than the logistic model. This lends credibility to the hypothesis that incidence data is not symmetric, and generally follows a right-skew distribution.\n",
    "\n",
    "Both the skew normal and the Richards model seem good for a large number of regions, but for a few regions the skew normal model is significantly worse. Let's quantify the comparison by finding the average and median scores for each model:"
   ]
  },
  {
   "cell_type": "markdown",
   "metadata": {},
   "source": [
    "# Results from Best Model"
   ]
  },
  {
   "cell_type": "code",
   "execution_count": 220,
   "metadata": {},
   "outputs": [],
   "source": [
    "best_model = 'richards'"
   ]
  },
  {
   "cell_type": "code",
   "execution_count": 221,
   "metadata": {},
   "outputs": [
    {
     "data": {
      "image/png": "[encoded data removed]",
      "text/plain": [
       "<Figure size 432x288 with 1 Axes>"
      ]
     },
     "metadata": {
      "needs_background": "light"
     },
     "output_type": "display_data"
    }
   ],
   "source": [
    "sns.barplot(x=state_info[best_model].index[:10],y=state_info[best_model]['N'][:10]);"
   ]
  },
  {
   "cell_type": "code",
   "execution_count": 222,
   "metadata": {},
   "outputs": [
    {
     "data": {
      "image/png": "[encoded data removed]",
      "text/plain": [
       "<Figure size 432x288 with 1 Axes>"
      ]
     },
     "metadata": {
      "needs_background": "light"
     },
     "output_type": "display_data"
    }
   ],
   "source": [
    "sns.barplot(x=global_info[best_model].index[:6],y=global_info[best_model]['N'][:6]);"
   ]
  },
  {
   "cell_type": "code",
   "execution_count": 223,
   "metadata": {},
   "outputs": [
    {
     "data": {
      "application/vnd.jupyter.widget-view+json": {
       "model_id": "752eba6ec8b142efac37d838608f009a",
       "version_major": 2,
       "version_minor": 0
      },
      "text/plain": [
       "interactive(children=(Dropdown(description='model', options=('normal', 'logistic', 'skewnorm', 'richards', 'lo…"
      ]
     },
     "metadata": {},
     "output_type": "display_data"
    }
   ],
   "source": [
    "@interact\n",
    "def show_fit(model=list(state_info.keys()), \n",
    "                 state=list(state_info.values())[0].index.to_list()):\n",
    "    \n",
    "    params = state_info[model].loc[state,:].values[:-3]\n",
    "    y_pred = go.Scatter(name='model',x=x_data.index,y=globals()[model](x_data.values,*params),mode='lines',line=dict(dash=\"dash\"))\n",
    "    y_real = go.Scatter(name='actual',x=x_data.index,y=states_cumulative[state].values,mode='lines')\n",
    "    layout = dict(title='Cumulative Case Count in '+state,title_x = 0.5,\n",
    "                  xaxis=dict(title=\"Day of Year\"),\n",
    "                  yaxis=dict(title=\"Cumulative Case Count\"),width=700)\n",
    "    fig = go.Figure([y_pred, y_real],layout=layout)\n",
    "    fig.show()"
   ]
  },
  {
   "cell_type": "code",
   "execution_count": null,
   "metadata": {},
   "outputs": [],
   "source": []
  }
 ],
 "metadata": {
  "jupyter": {
   "source_hidden": true
  },
  "kernelspec": {
   "display_name": "Python 3",
   "language": "python",
   "name": "python3"
  },
  "language_info": {
   "codemirror_mode": {
    "name": "ipython",
    "version": 3
   },
   "file_extension": ".py",
   "mimetype": "text/x-python",
   "name": "python",
   "nbconvert_exporter": "python",
   "pygments_lexer": "ipython3",
   "version": "3.7.6"
  }
 },
 "nbformat": 4,
 "nbformat_minor": 4
}
